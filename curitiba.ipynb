{
 "cells": [
  {
   "cell_type": "code",
   "execution_count": 1,
   "metadata": {},
   "outputs": [],
   "source": [
    "from os.path import dirname, join, isfile, isdir\n",
    "from datetime import datetime, timedelta\n",
    "from unidecode import unidecode\n",
    "from hashlib import sha256\n",
    "from os import makedirs\n",
    "from sys import exit\n",
    "import pandas as pd\n",
    "import codecs\n",
    "\n",
    "\n",
    "from bulletin import __file__ as __root__\n",
    "from bulletin.data.casos_confirmados import CasosConfirmados\n",
    "from bulletin.data.notifica import Notifica\n",
    "from bulletin.commom import static\n",
    "from bulletin.commom.normalize import normalize_text, normalize_labels, normalize_number, normalize_municipios, normalize_igbe, normalize_hash, data_hash"
   ]
  },
  {
   "cell_type": "code",
   "execution_count": 2,
   "metadata": {},
   "outputs": [
    {
     "data": {
      "text/html": [
       "<div>\n",
       "<style scoped>\n",
       "    .dataframe tbody tr th:only-of-type {\n",
       "        vertical-align: middle;\n",
       "    }\n",
       "\n",
       "    .dataframe tbody tr th {\n",
       "        vertical-align: top;\n",
       "    }\n",
       "\n",
       "    .dataframe thead th {\n",
       "        text-align: right;\n",
       "    }\n",
       "</style>\n",
       "<table border=\"1\" class=\"dataframe\">\n",
       "  <thead>\n",
       "    <tr style=\"text-align: right;\">\n",
       "      <th></th>\n",
       "      <th>nome</th>\n",
       "    </tr>\n",
       "    <tr>\n",
       "      <th>classificacao</th>\n",
       "      <th></th>\n",
       "    </tr>\n",
       "  </thead>\n",
       "  <tbody>\n",
       "    <tr>\n",
       "      <th>CONFIRMADO</th>\n",
       "      <td>133594</td>\n",
       "    </tr>\n",
       "    <tr>\n",
       "      <th>CONFIRMADO (1a)</th>\n",
       "      <td>260</td>\n",
       "    </tr>\n",
       "    <tr>\n",
       "      <th>CONFIRMADO (2A ?)</th>\n",
       "      <td>238</td>\n",
       "    </tr>\n",
       "    <tr>\n",
       "      <th>CONFIRMADO (2a?)</th>\n",
       "      <td>265</td>\n",
       "    </tr>\n",
       "    <tr>\n",
       "      <th>CONFIRMADO(1a?)</th>\n",
       "      <td>2</td>\n",
       "    </tr>\n",
       "    <tr>\n",
       "      <th>CONFIRMADO(2a OU COMPLIC?)</th>\n",
       "      <td>2</td>\n",
       "    </tr>\n",
       "    <tr>\n",
       "      <th>CONFIRMADO(2a OU SEQUELA?)</th>\n",
       "      <td>1</td>\n",
       "    </tr>\n",
       "    <tr>\n",
       "      <th>CONFIRMADO?</th>\n",
       "      <td>66</td>\n",
       "    </tr>\n",
       "    <tr>\n",
       "      <th>DESCARTADO</th>\n",
       "      <td>4171</td>\n",
       "    </tr>\n",
       "    <tr>\n",
       "      <th>EM INVESTIGACAO</th>\n",
       "      <td>2679</td>\n",
       "    </tr>\n",
       "    <tr>\n",
       "      <th>FAZER SOROLOGIA</th>\n",
       "      <td>6</td>\n",
       "    </tr>\n",
       "    <tr>\n",
       "      <th>OUTRO DIAGNOSTICO?</th>\n",
       "      <td>4</td>\n",
       "    </tr>\n",
       "    <tr>\n",
       "      <th>VER OCUPACIONAL</th>\n",
       "      <td>11</td>\n",
       "    </tr>\n",
       "  </tbody>\n",
       "</table>\n",
       "</div>"
      ],
      "text/plain": [
       "                              nome\n",
       "classificacao                     \n",
       "CONFIRMADO                  133594\n",
       "CONFIRMADO (1a)                260\n",
       "CONFIRMADO (2A ?)              238\n",
       "CONFIRMADO (2a?)               265\n",
       "CONFIRMADO(1a?)                  2\n",
       "CONFIRMADO(2a OU COMPLIC?)       2\n",
       "CONFIRMADO(2a OU SEQUELA?)       1\n",
       "CONFIRMADO?                     66\n",
       "DESCARTADO                    4171\n",
       "EM INVESTIGACAO               2679\n",
       "FAZER SOROLOGIA                  6\n",
       "OUTRO DIAGNOSTICO?               4\n",
       "VER OCUPACIONAL                 11"
      ]
     },
     "execution_count": 2,
     "metadata": {},
     "output_type": "execute_result"
    }
   ],
   "source": [
    "curitiba = pd.read_excel('input/curitiba.xlsx', \n",
    "                         usecols='B:E,J',\n",
    "                         converters = {\n",
    "                               'classificacao': normalize_text,\n",
    "                               'nome': normalize_text,\n",
    "                               'idade': lambda x: normalize_number(x,fill=0),\n",
    "                               'mun_resid': normalize_text\n",
    "                        })\n",
    "\n",
    "curitiba.groupby('classificacao')[['nome']].count()"
   ]
  },
  {
   "cell_type": "code",
   "execution_count": 3,
   "metadata": {},
   "outputs": [],
   "source": [
    "curitiba = curitiba.loc[curitiba['classificacao']=='CONFIRMADO'].copy()"
   ]
  },
  {
   "cell_type": "code",
   "execution_count": 4,
   "metadata": {},
   "outputs": [],
   "source": [
    "curitiba['hash'] = curitiba.apply(lambda row: normalize_hash(row['nome'])+str(row['idade'])+normalize_hash(row['mun_resid']), axis=1)\n",
    "curitiba['hash_less'] = curitiba.apply(lambda row: normalize_hash(row['nome'])+str(row['idade']-1)+normalize_hash(row['mun_resid']), axis=1)\n",
    "curitiba['hash_more'] = curitiba.apply(lambda row: normalize_hash(row['nome'])+str(row['idade']+1)+normalize_hash(row['mun_resid']), axis=1)"
   ]
  },
  {
   "cell_type": "code",
   "execution_count": 5,
   "metadata": {},
   "outputs": [],
   "source": [
    "cc = CasosConfirmados()\n",
    "# cc.update()\n",
    "casos = cc.get_casos()"
   ]
  },
  {
   "cell_type": "code",
   "execution_count": 6,
   "metadata": {},
   "outputs": [],
   "source": [
    "nos_casos = curitiba.loc[curitiba['hash'].isin(casos['hash'])].index.tolist()\n",
    "nos_casos += curitiba.loc[curitiba['hash'].isin(casos['hash_less'])].index.tolist()\n",
    "nos_casos += curitiba.loc[curitiba['hash'].isin(casos['hash_more'])].index.tolist()"
   ]
  },
  {
   "cell_type": "code",
   "execution_count": 7,
   "metadata": {},
   "outputs": [
    {
     "data": {
      "text/plain": [
       "63029"
      ]
     },
     "execution_count": 7,
     "metadata": {},
     "output_type": "execute_result"
    }
   ],
   "source": [
    "nao_cc = set(curitiba.index.tolist()) - set(nos_casos)\n",
    "curitiba.loc[nao_cc].sort_index()\n",
    "len(nao_cc)"
   ]
  },
  {
   "cell_type": "code",
   "execution_count": 8,
   "metadata": {},
   "outputs": [],
   "source": [
    "notifica = Notifica()\n",
    "notifica.load()\n",
    "nt_casos = notifica.get_casos()"
   ]
  },
  {
   "cell_type": "code",
   "execution_count": 9,
   "metadata": {},
   "outputs": [],
   "source": [
    "no_notifica = curitiba.loc[curitiba['hash'].isin(nt_casos['hash_resid'])].index.tolist()\n",
    "no_notifica += curitiba.loc[curitiba['hash_less'].isin(nt_casos['hash_resid'])].index.tolist()\n",
    "no_notifica += curitiba.loc[curitiba['hash_more'].isin(nt_casos['hash_resid'])].index.tolist()"
   ]
  },
  {
   "cell_type": "code",
   "execution_count": 10,
   "metadata": {},
   "outputs": [
    {
     "data": {
      "text/plain": [
       "61635"
      ]
     },
     "execution_count": 10,
     "metadata": {},
     "output_type": "execute_result"
    }
   ],
   "source": [
    "nao_nt = set(curitiba.index.tolist()) - set(no_notifica)\n",
    "curitiba.loc[nao_nt].sort_index()\n",
    "len(nao_nt)"
   ]
  },
  {
   "cell_type": "code",
   "execution_count": 11,
   "metadata": {},
   "outputs": [
    {
     "data": {
      "text/plain": [
       "1394"
      ]
     },
     "execution_count": 11,
     "metadata": {},
     "output_type": "execute_result"
    }
   ],
   "source": [
    "len(nao_cc) - len(nao_nt)"
   ]
  }
 ],
 "metadata": {
  "kernelspec": {
   "display_name": "Python 3",
   "language": "python",
   "name": "python3"
  },
  "language_info": {
   "codemirror_mode": {
    "name": "ipython",
    "version": 3
   },
   "file_extension": ".py",
   "mimetype": "text/x-python",
   "name": "python",
   "nbconvert_exporter": "python",
   "pygments_lexer": "ipython3",
   "version": "3.8.5"
  }
 },
 "nbformat": 4,
 "nbformat_minor": 4
}
