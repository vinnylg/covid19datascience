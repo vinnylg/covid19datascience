{
 "metadata": {
  "language_info": {
   "codemirror_mode": {
    "name": "ipython",
    "version": 3
   },
   "file_extension": ".py",
   "mimetype": "text/x-python",
   "name": "python",
   "nbconvert_exporter": "python",
   "pygments_lexer": "ipython3",
   "version": "3.8.5-final"
  },
  "orig_nbformat": 2,
  "kernelspec": {
   "name": "python3",
   "display_name": "Python 3",
   "language": "python"
  }
 },
 "nbformat": 4,
 "nbformat_minor": 2,
 "cells": [
  {
   "cell_type": "code",
   "execution_count": 1,
   "metadata": {},
   "outputs": [],
   "source": [
    "from sys import exit\n",
    "import numpy as np\n",
    "import pandas as pd\n",
    "from os.path import dirname, join, isfile, isdir\n",
    "from os import makedirs\n",
    "from datetime import datetime, timedelta\n",
    "\n",
    "from bulletin.data.tb_pacientes import TbPacientes\n",
    "from bulletin.data.casos_confirmados import CasosConfirmados\n",
    "from bulletin.commom.utils import Timer, auto_fit_columns\n",
    "\n",
    "from hashlib import sha256\n",
    "from bulletin.commom.normalize import normalize_text, normalize_number, normalize_hash, normalize_cpf\n",
    "\n",
    "pd.set_option('display.max_columns', None)\n",
    "\n",
    "output = join(\"output\",\"correcoes\",\"tb_pacientes\")\n",
    "\n",
    "if not isdir(output):\n",
    "    makedirs(output)\n",
    "\n",
    "timer = Timer()"
   ]
  },
  {
   "cell_type": "code",
   "execution_count": 2,
   "metadata": {},
   "outputs": [],
   "source": [
    "timer_all = Timer()\n",
    "timer_all.reset()"
   ]
  },
  {
   "cell_type": "code",
   "execution_count": 3,
   "metadata": {},
   "outputs": [
    {
     "output_type": "execute_result",
     "data": {
      "text/plain": [
       "168.4280321598053"
      ]
     },
     "metadata": {},
     "execution_count": 3
    }
   ],
   "source": [
    "timer.reset()\n",
    "tb = TbPacientes()\n",
    "tb.update()\n",
    "timer.stop()"
   ]
  },
  {
   "cell_type": "code",
   "execution_count": 4,
   "metadata": {},
   "outputs": [
    {
     "output_type": "execute_result",
     "data": {
      "text/plain": [
       "346.6310439109802"
      ]
     },
     "metadata": {},
     "execution_count": 4
    }
   ],
   "source": [
    "timer.reset()\n",
    "casos_confirmados = CasosConfirmados()\n",
    "casos_confirmados.update()\n",
    "timer.stop()"
   ]
  },
  {
   "cell_type": "code",
   "execution_count": 5,
   "metadata": {},
   "outputs": [
    {
     "output_type": "stream",
     "name": "stdout",
     "text": [
      "casos casos_confirmados: (656410, 24)\ncasos tb_pacientes: (656410, 48)\n"
     ]
    }
   ],
   "source": [
    "casost = tb.get()\n",
    "casosc = casos_confirmados.get_casos()\n",
    "print(f\"casos casos_confirmados: {casosc.shape}\")\n",
    "print(f\"casos tb_pacientes: {casost.shape}\")"
   ]
  },
  {
   "cell_type": "code",
   "execution_count": 6,
   "metadata": {},
   "outputs": [],
   "source": [
    "idx_casos_confirmados = casosc[casosc['hash'].isin(casost['hash'])].index.tolist()\n",
    "idx_casos_confirmados += casosc[casosc['hash_less'].isin(casost['hash'])].index.tolist()\n",
    "idx_casos_confirmados += casosc[casosc['hash_more'].isin(casost['hash'])].index.tolist()\n",
    "idx_casos_confirmados += casosc[casosc['hash_atend'].isin(casost['hash_atend'])].index.tolist()\n",
    "idx_casos_confirmados += casosc[casosc['hash_less_atend'].isin(casost['hash_atend'])].index.tolist()\n",
    "idx_casos_confirmados += casosc[casosc['hash_more_atend'].isin(casost['hash_atend'])].index.tolist()\n",
    "idx_casos_confirmados = set(idx_casos_confirmados)\n",
    "casos_confirmados_nao_tb_pacientes = casosc.loc[ set(casosc.index.tolist()) - idx_casos_confirmados ].sort_values('ordem')"
   ]
  },
  {
   "cell_type": "code",
   "execution_count": 7,
   "metadata": {},
   "outputs": [],
   "source": [
    "idx_tb_pacientes = casost[casost['hash'].isin(casosc['hash'])].index.tolist()\n",
    "idx_tb_pacientes += casost[casost['hash'].isin(casosc['hash_less'])].index.tolist()\n",
    "idx_tb_pacientes += casost[casost['hash'].isin(casosc['hash_more'])].index.tolist()\n",
    "idx_tb_pacientes += casost[casost['hash_atend'].isin(casosc['hash_atend'])].index.tolist()\n",
    "idx_tb_pacientes += casost[casost['hash_atend'].isin(casosc['hash_less_atend'])].index.tolist()\n",
    "idx_tb_pacientes += casost[casost['hash_atend'].isin(casosc['hash_more_atend'])].index.tolist()\n",
    "idx_tb_pacientes = set(idx_tb_pacientes)\n",
    "tb_pacientes_nao_casos_confirmados = casost.loc[ set(casost.index.tolist()) - idx_tb_pacientes ].sort_values('identificacao')\n"
   ]
  },
  {
   "cell_type": "code",
   "execution_count": 8,
   "metadata": {},
   "outputs": [
    {
     "output_type": "stream",
     "name": "stdout",
     "text": [
      "casos_confirmados_nao_tb_pacientes: (0, 24)\ntb_pacientes_nao_casos_confirmados: (0, 48)\n"
     ]
    }
   ],
   "source": [
    "print(f\"casos_confirmados_nao_tb_pacientes: {casos_confirmados_nao_tb_pacientes.shape}\")\n",
    "if len(casos_confirmados_nao_tb_pacientes) > 0:\n",
    "    casos_confirmados_nao_tb_pacientes.sort_values('nome').to_excel(join(output,'casos_confirmados_nao_tb_pacientes.xlsx'), index=False)\n",
    "print(f\"tb_pacientes_nao_casos_confirmados: {tb_pacientes_nao_casos_confirmados.shape}\")\n",
    "if len(tb_pacientes_nao_casos_confirmados) > 0:\n",
    "    tb_pacientes_nao_casos_confirmados.sort_values('nome').to_excel(join(output,'tb_pacientes_nao_casos_confirmados.xlsx'), index=False)\n",
    "if (len(casos_confirmados_nao_tb_pacientes) > 0) or (len(tb_pacientes_nao_casos_confirmados) > 0):\n",
    "    raise Exception(\"diferentes\")"
   ]
  },
  {
   "cell_type": "code",
   "execution_count": 9,
   "metadata": {},
   "outputs": [],
   "source": [
    "casost['ibge_res_pr'] = casost['ibge_res_pr'].fillna('9999999')\n",
    "casosc['ibge7'] = casosc['ibge7'].fillna('9999999')"
   ]
  },
  {
   "cell_type": "code",
   "execution_count": 10,
   "metadata": {},
   "outputs": [],
   "source": [
    "casosc['nome_hash'] = casosc['nome'].apply(normalize_hash)\n",
    "casost['nome_hash'] = casost['nome'].apply(normalize_hash)"
   ]
  },
  {
   "cell_type": "code",
   "execution_count": 11,
   "metadata": {},
   "outputs": [
    {
     "output_type": "stream",
     "name": "stdout",
     "text": [
      "False\nFalse\nFalse\n"
     ]
    }
   ],
   "source": [
    "print(all(casosc['nome_hash'].values == casost['nome_hash'].values))\n",
    "print(all(casosc['ibge7'].values == casost['ibge_res_pr'].values))\n",
    "print(all(casosc['nome'].values == casost['nome'].values))"
   ]
  },
  {
   "cell_type": "code",
   "execution_count": 12,
   "metadata": {},
   "outputs": [
    {
     "output_type": "stream",
     "name": "stdout",
     "text": [
      "0 1 2 3 4 5 6 7 8 9 10 11 12 13 14 15 16 17 18 19 20 21 22 23 24 25 26 27 28 29 30 31 32 33 34 35 36 37 38 39 40 41 42 43 44 45 46 47 48 49 50 51 52 53 54 55 56 57 58 59 60 61 62 63 64 65 66 67 68 69 70 71 72 73 74 75 76 77 78 79 80 81 82 83 84 85 86 87 88 89 90 91 92 93 94 95 96 97 98 99 100 101 102 103 104 105 106 107 108 109 110 111 112 113 114 115 116 117 118 119 120 121 122 123 124 125 126 127 128 129 130 131 132 133 134 135 136 137 138 139 140 141 142 143 144 145 146 147 148 149 150 151 152 153 154 155 156 157 158 159 160 161 162 163 164 165 166 167 168 169 170 171 172 173 174 175 176 177 178 179 180 181 182 183 184 185 186 187 188 189 190 191 192 193 194 195 196 197 198 199 200 201 202 203 204 205 206 207 208 209 210 211 212 213 214 215 216 217 218 219 220 221 222 223 224 225 226 227 228 229 230 231 232 233 234 235 236 237 238 239 240 241 242 243 244 245 246 247 248 249 250 251 252 253 254 255 256 257 258 259 260 261 262 263 264 265 266 267 268 269 270 271 272 273 274 275 276 277 278 279 280 281 282 283 284 285 286 287 288 289 290 291 292 293 294 295 296 297 298 299 300 301 302 303 304 305 306 307 308 309 310 311 312 313 314 315 316 317 318 319 320 321 322 323 324 325 326 327 328 329 330 331 332 333 334 335 336 337 338 339 340 341 342 343 344 345 346 347 348 349 350 351 352 353 354 355 356 357 358 359 360 361 362 363 364 365 366 367 368 369 370 371 372 373 374 375 376 377 378 379 380 381 382 383 384 385 386 387 388 389 390 391 392 393 394 395 396 397 398 399 casos casos_confirmados: (656410, 25)\n",
      "casos tb_pacientes: (656410, 49)\n",
      "4249.544152975082\n"
     ]
    }
   ],
   "source": [
    "timer.reset()\n",
    "\n",
    "sorted_casosc = pd.DataFrame(columns=casosc.columns, dtype=casosc.dtypes.values)\n",
    "sorted_casost = pd.DataFrame(columns=casost.columns, dtype=casost.dtypes.values)\n",
    "i = 0\n",
    "for (ibge_cc, df_ibge_cc), (ibge_tb, df_ibge_tb) in zip(casosc.groupby('ibge7'),casost.groupby('ibge_res_pr')):\n",
    "    print(i,end=' ')\n",
    "    i+=1\n",
    "    if ibge_cc != ibge_tb:\n",
    "        raise Exception(ibge_cc,ibge_tb)\n",
    "\n",
    "    df_ibge_cc = df_ibge_cc.sort_values('nome_hash')\n",
    "    df_ibge_tb = df_ibge_tb.sort_values('nome_hash')\n",
    "\n",
    "    duplicados_ibge_cc = df_ibge_cc.loc[ df_ibge_cc.duplicated('nome_hash', keep=False) ]\n",
    "    duplicados_ibge_tb = df_ibge_tb.loc[ df_ibge_tb.duplicated('nome_hash', keep=False) ]\n",
    "\n",
    "    sorted_casosc = sorted_casosc.append(df_ibge_cc.loc[~df_ibge_cc.index.isin(duplicados_ibge_cc.index)])\n",
    "    sorted_casost = sorted_casost.append(df_ibge_tb.loc[~df_ibge_tb.index.isin(duplicados_ibge_tb.index)])\n",
    "\n",
    "    for (nome_cc, df_nome_cc), (nome_tb, df_nome_tb) in zip(duplicados_ibge_cc.groupby('nome_hash'),duplicados_ibge_tb.groupby('nome_hash')):\n",
    "        if nome_cc != nome_tb:\n",
    "            raise Exception(nome_cc,nome_tb)\n",
    "\n",
    "        sorted_casosc = sorted_casosc.append(df_nome_cc.sort_values('idade'))\n",
    "        sorted_casost = sorted_casost.append(df_nome_tb.sort_values('idade'))\n",
    "\n",
    "\n",
    "print(f\"casos casos_confirmados: {sorted_casosc.shape}\")\n",
    "print(f\"casos tb_pacientes: {casost.shape}\")\n",
    "print(timer.stop())\n",
    "casosc = sorted_casosc\n",
    "casost = sorted_casost"
   ]
  },
  {
   "cell_type": "code",
   "execution_count": 21,
   "metadata": {},
   "outputs": [
    {
     "output_type": "error",
     "ename": "KeyError",
     "evalue": "'nome_hash'",
     "traceback": [
      "\u001b[1;31m---------------------------------------------------------------------------\u001b[0m",
      "\u001b[1;31mKeyError\u001b[0m                                  Traceback (most recent call last)",
      "\u001b[1;32m~\\anaconda3\\lib\\site-packages\\pandas\\core\\indexes\\base.py\u001b[0m in \u001b[0;36mget_loc\u001b[1;34m(self, key, method, tolerance)\u001b[0m\n\u001b[0;32m   2894\u001b[0m             \u001b[1;32mtry\u001b[0m\u001b[1;33m:\u001b[0m\u001b[1;33m\u001b[0m\u001b[1;33m\u001b[0m\u001b[0m\n\u001b[1;32m-> 2895\u001b[1;33m                 \u001b[1;32mreturn\u001b[0m \u001b[0mself\u001b[0m\u001b[1;33m.\u001b[0m\u001b[0m_engine\u001b[0m\u001b[1;33m.\u001b[0m\u001b[0mget_loc\u001b[0m\u001b[1;33m(\u001b[0m\u001b[0mcasted_key\u001b[0m\u001b[1;33m)\u001b[0m\u001b[1;33m\u001b[0m\u001b[1;33m\u001b[0m\u001b[0m\n\u001b[0m\u001b[0;32m   2896\u001b[0m             \u001b[1;32mexcept\u001b[0m \u001b[0mKeyError\u001b[0m \u001b[1;32mas\u001b[0m \u001b[0merr\u001b[0m\u001b[1;33m:\u001b[0m\u001b[1;33m\u001b[0m\u001b[1;33m\u001b[0m\u001b[0m\n",
      "\u001b[1;32mpandas\\_libs\\index.pyx\u001b[0m in \u001b[0;36mpandas._libs.index.IndexEngine.get_loc\u001b[1;34m()\u001b[0m\n",
      "\u001b[1;32mpandas\\_libs\\index.pyx\u001b[0m in \u001b[0;36mpandas._libs.index.IndexEngine.get_loc\u001b[1;34m()\u001b[0m\n",
      "\u001b[1;32mpandas\\_libs\\index.pyx\u001b[0m in \u001b[0;36mpandas._libs.index.IndexEngine._get_loc_duplicates\u001b[1;34m()\u001b[0m\n",
      "\u001b[1;32mpandas\\_libs\\index.pyx\u001b[0m in \u001b[0;36mpandas._libs.index.IndexEngine._maybe_get_bool_indexer\u001b[1;34m()\u001b[0m\n",
      "\u001b[1;32mpandas\\_libs\\index.pyx\u001b[0m in \u001b[0;36mpandas._libs.index.IndexEngine._unpack_bool_indexer\u001b[1;34m()\u001b[0m\n",
      "\u001b[1;31mKeyError\u001b[0m: 'nome_hash'",
      "\nThe above exception was the direct cause of the following exception:\n",
      "\u001b[1;31mKeyError\u001b[0m                                  Traceback (most recent call last)",
      "\u001b[1;32m<ipython-input-21-8d3ad9419746>\u001b[0m in \u001b[0;36m<module>\u001b[1;34m\u001b[0m\n\u001b[1;32m----> 1\u001b[1;33m \u001b[0mprint\u001b[0m\u001b[1;33m(\u001b[0m\u001b[0mall\u001b[0m\u001b[1;33m(\u001b[0m\u001b[0mcasosc\u001b[0m\u001b[1;33m[\u001b[0m\u001b[1;34m'nome_hash'\u001b[0m\u001b[1;33m]\u001b[0m\u001b[1;33m.\u001b[0m\u001b[0mvalues\u001b[0m \u001b[1;33m==\u001b[0m \u001b[0mcasost\u001b[0m\u001b[1;33m[\u001b[0m\u001b[1;34m'nome_hash'\u001b[0m\u001b[1;33m]\u001b[0m\u001b[1;33m.\u001b[0m\u001b[0mvalues\u001b[0m\u001b[1;33m)\u001b[0m\u001b[1;33m)\u001b[0m\u001b[1;33m\u001b[0m\u001b[1;33m\u001b[0m\u001b[0m\n\u001b[0m\u001b[0;32m      2\u001b[0m \u001b[0mprint\u001b[0m\u001b[1;33m(\u001b[0m\u001b[0mall\u001b[0m\u001b[1;33m(\u001b[0m\u001b[0mcasosc\u001b[0m\u001b[1;33m[\u001b[0m\u001b[1;34m'ibge7'\u001b[0m\u001b[1;33m]\u001b[0m\u001b[1;33m.\u001b[0m\u001b[0mvalues\u001b[0m \u001b[1;33m==\u001b[0m \u001b[0mcasost\u001b[0m\u001b[1;33m[\u001b[0m\u001b[1;34m'ibge_res_pr'\u001b[0m\u001b[1;33m]\u001b[0m\u001b[1;33m.\u001b[0m\u001b[0mvalues\u001b[0m\u001b[1;33m)\u001b[0m\u001b[1;33m)\u001b[0m\u001b[1;33m\u001b[0m\u001b[1;33m\u001b[0m\u001b[0m\n\u001b[0;32m      3\u001b[0m \u001b[0mprint\u001b[0m\u001b[1;33m(\u001b[0m\u001b[0mall\u001b[0m\u001b[1;33m(\u001b[0m\u001b[0mcasosc\u001b[0m\u001b[1;33m[\u001b[0m\u001b[1;34m'nome'\u001b[0m\u001b[1;33m]\u001b[0m\u001b[1;33m.\u001b[0m\u001b[0mvalues\u001b[0m \u001b[1;33m==\u001b[0m \u001b[0mcasost\u001b[0m\u001b[1;33m[\u001b[0m\u001b[1;34m'nome'\u001b[0m\u001b[1;33m]\u001b[0m\u001b[1;33m.\u001b[0m\u001b[0mvalues\u001b[0m\u001b[1;33m)\u001b[0m\u001b[1;33m)\u001b[0m\u001b[1;33m\u001b[0m\u001b[1;33m\u001b[0m\u001b[0m\n",
      "\u001b[1;32m~\\anaconda3\\lib\\site-packages\\pandas\\core\\frame.py\u001b[0m in \u001b[0;36m__getitem__\u001b[1;34m(self, key)\u001b[0m\n\u001b[0;32m   2900\u001b[0m             \u001b[1;32mif\u001b[0m \u001b[0mself\u001b[0m\u001b[1;33m.\u001b[0m\u001b[0mcolumns\u001b[0m\u001b[1;33m.\u001b[0m\u001b[0mnlevels\u001b[0m \u001b[1;33m>\u001b[0m \u001b[1;36m1\u001b[0m\u001b[1;33m:\u001b[0m\u001b[1;33m\u001b[0m\u001b[1;33m\u001b[0m\u001b[0m\n\u001b[0;32m   2901\u001b[0m                 \u001b[1;32mreturn\u001b[0m \u001b[0mself\u001b[0m\u001b[1;33m.\u001b[0m\u001b[0m_getitem_multilevel\u001b[0m\u001b[1;33m(\u001b[0m\u001b[0mkey\u001b[0m\u001b[1;33m)\u001b[0m\u001b[1;33m\u001b[0m\u001b[1;33m\u001b[0m\u001b[0m\n\u001b[1;32m-> 2902\u001b[1;33m             \u001b[0mindexer\u001b[0m \u001b[1;33m=\u001b[0m \u001b[0mself\u001b[0m\u001b[1;33m.\u001b[0m\u001b[0mcolumns\u001b[0m\u001b[1;33m.\u001b[0m\u001b[0mget_loc\u001b[0m\u001b[1;33m(\u001b[0m\u001b[0mkey\u001b[0m\u001b[1;33m)\u001b[0m\u001b[1;33m\u001b[0m\u001b[1;33m\u001b[0m\u001b[0m\n\u001b[0m\u001b[0;32m   2903\u001b[0m             \u001b[1;32mif\u001b[0m \u001b[0mis_integer\u001b[0m\u001b[1;33m(\u001b[0m\u001b[0mindexer\u001b[0m\u001b[1;33m)\u001b[0m\u001b[1;33m:\u001b[0m\u001b[1;33m\u001b[0m\u001b[1;33m\u001b[0m\u001b[0m\n\u001b[0;32m   2904\u001b[0m                 \u001b[0mindexer\u001b[0m \u001b[1;33m=\u001b[0m \u001b[1;33m[\u001b[0m\u001b[0mindexer\u001b[0m\u001b[1;33m]\u001b[0m\u001b[1;33m\u001b[0m\u001b[1;33m\u001b[0m\u001b[0m\n",
      "\u001b[1;32m~\\anaconda3\\lib\\site-packages\\pandas\\core\\indexes\\base.py\u001b[0m in \u001b[0;36mget_loc\u001b[1;34m(self, key, method, tolerance)\u001b[0m\n\u001b[0;32m   2895\u001b[0m                 \u001b[1;32mreturn\u001b[0m \u001b[0mself\u001b[0m\u001b[1;33m.\u001b[0m\u001b[0m_engine\u001b[0m\u001b[1;33m.\u001b[0m\u001b[0mget_loc\u001b[0m\u001b[1;33m(\u001b[0m\u001b[0mcasted_key\u001b[0m\u001b[1;33m)\u001b[0m\u001b[1;33m\u001b[0m\u001b[1;33m\u001b[0m\u001b[0m\n\u001b[0;32m   2896\u001b[0m             \u001b[1;32mexcept\u001b[0m \u001b[0mKeyError\u001b[0m \u001b[1;32mas\u001b[0m \u001b[0merr\u001b[0m\u001b[1;33m:\u001b[0m\u001b[1;33m\u001b[0m\u001b[1;33m\u001b[0m\u001b[0m\n\u001b[1;32m-> 2897\u001b[1;33m                 \u001b[1;32mraise\u001b[0m \u001b[0mKeyError\u001b[0m\u001b[1;33m(\u001b[0m\u001b[0mkey\u001b[0m\u001b[1;33m)\u001b[0m \u001b[1;32mfrom\u001b[0m \u001b[0merr\u001b[0m\u001b[1;33m\u001b[0m\u001b[1;33m\u001b[0m\u001b[0m\n\u001b[0m\u001b[0;32m   2898\u001b[0m \u001b[1;33m\u001b[0m\u001b[0m\n\u001b[0;32m   2899\u001b[0m         \u001b[1;32mif\u001b[0m \u001b[0mtolerance\u001b[0m \u001b[1;32mis\u001b[0m \u001b[1;32mnot\u001b[0m \u001b[1;32mNone\u001b[0m\u001b[1;33m:\u001b[0m\u001b[1;33m\u001b[0m\u001b[1;33m\u001b[0m\u001b[0m\n",
      "\u001b[1;31mKeyError\u001b[0m: 'nome_hash'"
     ]
    }
   ],
   "source": [
    "print(all(casosc['nome_hash'].values == casost['nome_hash'].values))\n",
    "print(all(casosc['ibge7'].values == casost['ibge_res_pr'].values))\n",
    "print(all(casosc['nome'].values == casost['nome'].values))"
   ]
  },
  {
   "cell_type": "code",
   "execution_count": 22,
   "metadata": {},
   "outputs": [
    {
     "output_type": "execute_result",
     "data": {
      "text/plain": [
       "         ordem  identificacao  ibge_resid  ibge_atend  \\\n",
       "0            1         221154     4105508     4100103   \n",
       "1            2         552446     4106902     4100103   \n",
       "2            3         665574     4106902     4124103   \n",
       "3            4         191234     4106902     4100103   \n",
       "4            5            591     4106902     4100103   \n",
       "...        ...            ...         ...         ...   \n",
       "656405  656406         211678     4123709     4125506   \n",
       "656406  656407         578734     4119152     4108809   \n",
       "656407  656408         582343     4118204     4108809   \n",
       "656408  656409         188211     4127106     4101507   \n",
       "656409  656410         540359     4105508     4101507   \n",
       "\n",
       "                                       paciente sexo idade  \\\n",
       "0       ELIANA CRISTINA CUNHA DE OLIVEIRA SOUZA    F    47   \n",
       "1                     FLAMARION PETRIV DE ABREU    M    43   \n",
       "2              FLAMARION PETRIV DE ABREU JUNIOR    M    15   \n",
       "3                   GABRIELA FUGANTI CASAGRANDE    F    26   \n",
       "4                   GABRIELA SCHNEIDER GUGELMIN    F    26   \n",
       "...                                         ...  ...   ...   \n",
       "656405          ZILNEIDE DOS SANTOS DE OLIVEIRA    F    50   \n",
       "656406      ZORAIDE DA GRACA BIOTI GREICHIWESKI    F    60   \n",
       "656407             ZULEIDE DE OLIVEIRA FALAVINE    F    70   \n",
       "656408                   ZULMIRA CAMARGO VERNEK    F    67   \n",
       "656409          ZULMIRA SOUZA MORAIS DOS SANTOS    F    44   \n",
       "\n",
       "                   mun_resid             mun_atend  rs  \\\n",
       "0                   CIANORTE              CIANORTE  13   \n",
       "1                   CURITIBA              CURITIBA   2   \n",
       "2                   CURITIBA              CURITIBA   2   \n",
       "3                   CURITIBA              CURITIBA   2   \n",
       "4                   CURITIBA              CURITIBA   2   \n",
       "...                      ...                   ...  ..   \n",
       "656405  SANTA ISABEL DO IVAI  SANTA ISABEL DO IVAI  14   \n",
       "656406               PINHAIS               PINHAIS   2   \n",
       "656407             PARANAGUA             PARANAGUA   1   \n",
       "656408        TELEMACO BORBA        TELEMACO BORBA  21   \n",
       "656409              CIANORTE              CIANORTE  13   \n",
       "\n",
       "                                       laboratorio data_diagnostico  \\\n",
       "0                                            LACEN       2020-03-12   \n",
       "1                                            LACEN       2020-03-12   \n",
       "2                                            LACEN       2020-03-12   \n",
       "3                                       GENOPRIMER       2020-03-16   \n",
       "4                                       GENOPRIMER       2020-03-18   \n",
       "...                                            ...              ...   \n",
       "656405                 COVID-19 BIOLOGIA MOLECULAR       2021-02-27   \n",
       "656406                 COVID-19 BIOLOGIA MOLECULAR       2021-03-01   \n",
       "656407                 COVID-19 BIOLOGIA MOLECULAR       2021-03-01   \n",
       "656408                          VIRUS RESPIRATORIO       2021-03-01   \n",
       "656409  TESTE RAPIDO ANTIGENO (IMUNOCROMATOGRAFIA)       2021-02-27   \n",
       "\n",
       "       data_comunicacao data_1o_sintomas  obito data_obito data_com_obito  \\\n",
       "0            2020-03-12              NaT      0        NaT            NaT   \n",
       "1            2020-03-12       2020-03-07      0        NaT            NaT   \n",
       "2            2020-03-12       2020-03-08      0        NaT            NaT   \n",
       "3            2020-03-16       2020-03-11      0        NaT            NaT   \n",
       "4            2020-03-18       2020-03-15      0        NaT            NaT   \n",
       "...                 ...              ...    ...        ...            ...   \n",
       "656405       2021-03-02              NaT      0        NaT            NaT   \n",
       "656406       2021-03-02       2021-02-26      0        NaT            NaT   \n",
       "656407       2021-03-02              NaT      0        NaT            NaT   \n",
       "656408       2021-03-02       2021-02-13      0        NaT            NaT   \n",
       "656409       2021-03-02       2021-02-26      0        NaT            NaT   \n",
       "\n",
       "       data_com_obito data_com_obito data_com_obito data_com_obito  \\\n",
       "0                 NaT            NaT            NaT            NaT   \n",
       "1                 NaT            NaT            NaT            NaT   \n",
       "2                 NaT            NaT            NaT            NaT   \n",
       "3                 NaT            NaT            NaT            NaT   \n",
       "4                 NaT            NaT            NaT            NaT   \n",
       "...               ...            ...            ...            ...   \n",
       "656405            NaT            NaT            NaT            NaT   \n",
       "656406            NaT            NaT            NaT            NaT   \n",
       "656407            NaT            NaT            NaT            NaT   \n",
       "656408            NaT            NaT            NaT            NaT   \n",
       "656409            NaT            NaT            NaT            NaT   \n",
       "\n",
       "        recuperado  ativo  excluir  \n",
       "0                1      0      NaN  \n",
       "1                1      0      NaN  \n",
       "2                1      0      NaN  \n",
       "3                1      0      NaN  \n",
       "4                1      0      NaN  \n",
       "...            ...    ...      ...  \n",
       "656405           0      1      NaN  \n",
       "656406           0      1      NaN  \n",
       "656407           0      1      NaN  \n",
       "656408           0      1      NaN  \n",
       "656409           0      1      NaN  \n",
       "\n",
       "[656410 rows x 24 columns]"
      ],
      "text/html": "<div>\n<style scoped>\n    .dataframe tbody tr th:only-of-type {\n        vertical-align: middle;\n    }\n\n    .dataframe tbody tr th {\n        vertical-align: top;\n    }\n\n    .dataframe thead th {\n        text-align: right;\n    }\n</style>\n<table border=\"1\" class=\"dataframe\">\n  <thead>\n    <tr style=\"text-align: right;\">\n      <th></th>\n      <th>ordem</th>\n      <th>identificacao</th>\n      <th>ibge_resid</th>\n      <th>ibge_atend</th>\n      <th>paciente</th>\n      <th>sexo</th>\n      <th>idade</th>\n      <th>mun_resid</th>\n      <th>mun_atend</th>\n      <th>rs</th>\n      <th>laboratorio</th>\n      <th>data_diagnostico</th>\n      <th>data_comunicacao</th>\n      <th>data_1o_sintomas</th>\n      <th>obito</th>\n      <th>data_obito</th>\n      <th>data_com_obito</th>\n      <th>data_com_obito</th>\n      <th>data_com_obito</th>\n      <th>data_com_obito</th>\n      <th>data_com_obito</th>\n      <th>recuperado</th>\n      <th>ativo</th>\n      <th>excluir</th>\n    </tr>\n  </thead>\n  <tbody>\n    <tr>\n      <th>0</th>\n      <td>1</td>\n      <td>221154</td>\n      <td>4105508</td>\n      <td>4100103</td>\n      <td>ELIANA CRISTINA CUNHA DE OLIVEIRA SOUZA</td>\n      <td>F</td>\n      <td>47</td>\n      <td>CIANORTE</td>\n      <td>CIANORTE</td>\n      <td>13</td>\n      <td>LACEN</td>\n      <td>2020-03-12</td>\n      <td>2020-03-12</td>\n      <td>NaT</td>\n      <td>0</td>\n      <td>NaT</td>\n      <td>NaT</td>\n      <td>NaT</td>\n      <td>NaT</td>\n      <td>NaT</td>\n      <td>NaT</td>\n      <td>1</td>\n      <td>0</td>\n      <td>NaN</td>\n    </tr>\n    <tr>\n      <th>1</th>\n      <td>2</td>\n      <td>552446</td>\n      <td>4106902</td>\n      <td>4100103</td>\n      <td>FLAMARION PETRIV DE ABREU</td>\n      <td>M</td>\n      <td>43</td>\n      <td>CURITIBA</td>\n      <td>CURITIBA</td>\n      <td>2</td>\n      <td>LACEN</td>\n      <td>2020-03-12</td>\n      <td>2020-03-12</td>\n      <td>2020-03-07</td>\n      <td>0</td>\n      <td>NaT</td>\n      <td>NaT</td>\n      <td>NaT</td>\n      <td>NaT</td>\n      <td>NaT</td>\n      <td>NaT</td>\n      <td>1</td>\n      <td>0</td>\n      <td>NaN</td>\n    </tr>\n    <tr>\n      <th>2</th>\n      <td>3</td>\n      <td>665574</td>\n      <td>4106902</td>\n      <td>4124103</td>\n      <td>FLAMARION PETRIV DE ABREU JUNIOR</td>\n      <td>M</td>\n      <td>15</td>\n      <td>CURITIBA</td>\n      <td>CURITIBA</td>\n      <td>2</td>\n      <td>LACEN</td>\n      <td>2020-03-12</td>\n      <td>2020-03-12</td>\n      <td>2020-03-08</td>\n      <td>0</td>\n      <td>NaT</td>\n      <td>NaT</td>\n      <td>NaT</td>\n      <td>NaT</td>\n      <td>NaT</td>\n      <td>NaT</td>\n      <td>1</td>\n      <td>0</td>\n      <td>NaN</td>\n    </tr>\n    <tr>\n      <th>3</th>\n      <td>4</td>\n      <td>191234</td>\n      <td>4106902</td>\n      <td>4100103</td>\n      <td>GABRIELA FUGANTI CASAGRANDE</td>\n      <td>F</td>\n      <td>26</td>\n      <td>CURITIBA</td>\n      <td>CURITIBA</td>\n      <td>2</td>\n      <td>GENOPRIMER</td>\n      <td>2020-03-16</td>\n      <td>2020-03-16</td>\n      <td>2020-03-11</td>\n      <td>0</td>\n      <td>NaT</td>\n      <td>NaT</td>\n      <td>NaT</td>\n      <td>NaT</td>\n      <td>NaT</td>\n      <td>NaT</td>\n      <td>1</td>\n      <td>0</td>\n      <td>NaN</td>\n    </tr>\n    <tr>\n      <th>4</th>\n      <td>5</td>\n      <td>591</td>\n      <td>4106902</td>\n      <td>4100103</td>\n      <td>GABRIELA SCHNEIDER GUGELMIN</td>\n      <td>F</td>\n      <td>26</td>\n      <td>CURITIBA</td>\n      <td>CURITIBA</td>\n      <td>2</td>\n      <td>GENOPRIMER</td>\n      <td>2020-03-18</td>\n      <td>2020-03-18</td>\n      <td>2020-03-15</td>\n      <td>0</td>\n      <td>NaT</td>\n      <td>NaT</td>\n      <td>NaT</td>\n      <td>NaT</td>\n      <td>NaT</td>\n      <td>NaT</td>\n      <td>1</td>\n      <td>0</td>\n      <td>NaN</td>\n    </tr>\n    <tr>\n      <th>...</th>\n      <td>...</td>\n      <td>...</td>\n      <td>...</td>\n      <td>...</td>\n      <td>...</td>\n      <td>...</td>\n      <td>...</td>\n      <td>...</td>\n      <td>...</td>\n      <td>...</td>\n      <td>...</td>\n      <td>...</td>\n      <td>...</td>\n      <td>...</td>\n      <td>...</td>\n      <td>...</td>\n      <td>...</td>\n      <td>...</td>\n      <td>...</td>\n      <td>...</td>\n      <td>...</td>\n      <td>...</td>\n      <td>...</td>\n      <td>...</td>\n    </tr>\n    <tr>\n      <th>656405</th>\n      <td>656406</td>\n      <td>211678</td>\n      <td>4123709</td>\n      <td>4125506</td>\n      <td>ZILNEIDE DOS SANTOS DE OLIVEIRA</td>\n      <td>F</td>\n      <td>50</td>\n      <td>SANTA ISABEL DO IVAI</td>\n      <td>SANTA ISABEL DO IVAI</td>\n      <td>14</td>\n      <td>COVID-19 BIOLOGIA MOLECULAR</td>\n      <td>2021-02-27</td>\n      <td>2021-03-02</td>\n      <td>NaT</td>\n      <td>0</td>\n      <td>NaT</td>\n      <td>NaT</td>\n      <td>NaT</td>\n      <td>NaT</td>\n      <td>NaT</td>\n      <td>NaT</td>\n      <td>0</td>\n      <td>1</td>\n      <td>NaN</td>\n    </tr>\n    <tr>\n      <th>656406</th>\n      <td>656407</td>\n      <td>578734</td>\n      <td>4119152</td>\n      <td>4108809</td>\n      <td>ZORAIDE DA GRACA BIOTI GREICHIWESKI</td>\n      <td>F</td>\n      <td>60</td>\n      <td>PINHAIS</td>\n      <td>PINHAIS</td>\n      <td>2</td>\n      <td>COVID-19 BIOLOGIA MOLECULAR</td>\n      <td>2021-03-01</td>\n      <td>2021-03-02</td>\n      <td>2021-02-26</td>\n      <td>0</td>\n      <td>NaT</td>\n      <td>NaT</td>\n      <td>NaT</td>\n      <td>NaT</td>\n      <td>NaT</td>\n      <td>NaT</td>\n      <td>0</td>\n      <td>1</td>\n      <td>NaN</td>\n    </tr>\n    <tr>\n      <th>656407</th>\n      <td>656408</td>\n      <td>582343</td>\n      <td>4118204</td>\n      <td>4108809</td>\n      <td>ZULEIDE DE OLIVEIRA FALAVINE</td>\n      <td>F</td>\n      <td>70</td>\n      <td>PARANAGUA</td>\n      <td>PARANAGUA</td>\n      <td>1</td>\n      <td>COVID-19 BIOLOGIA MOLECULAR</td>\n      <td>2021-03-01</td>\n      <td>2021-03-02</td>\n      <td>NaT</td>\n      <td>0</td>\n      <td>NaT</td>\n      <td>NaT</td>\n      <td>NaT</td>\n      <td>NaT</td>\n      <td>NaT</td>\n      <td>NaT</td>\n      <td>0</td>\n      <td>1</td>\n      <td>NaN</td>\n    </tr>\n    <tr>\n      <th>656408</th>\n      <td>656409</td>\n      <td>188211</td>\n      <td>4127106</td>\n      <td>4101507</td>\n      <td>ZULMIRA CAMARGO VERNEK</td>\n      <td>F</td>\n      <td>67</td>\n      <td>TELEMACO BORBA</td>\n      <td>TELEMACO BORBA</td>\n      <td>21</td>\n      <td>VIRUS RESPIRATORIO</td>\n      <td>2021-03-01</td>\n      <td>2021-03-02</td>\n      <td>2021-02-13</td>\n      <td>0</td>\n      <td>NaT</td>\n      <td>NaT</td>\n      <td>NaT</td>\n      <td>NaT</td>\n      <td>NaT</td>\n      <td>NaT</td>\n      <td>0</td>\n      <td>1</td>\n      <td>NaN</td>\n    </tr>\n    <tr>\n      <th>656409</th>\n      <td>656410</td>\n      <td>540359</td>\n      <td>4105508</td>\n      <td>4101507</td>\n      <td>ZULMIRA SOUZA MORAIS DOS SANTOS</td>\n      <td>F</td>\n      <td>44</td>\n      <td>CIANORTE</td>\n      <td>CIANORTE</td>\n      <td>13</td>\n      <td>TESTE RAPIDO ANTIGENO (IMUNOCROMATOGRAFIA)</td>\n      <td>2021-02-27</td>\n      <td>2021-03-02</td>\n      <td>2021-02-26</td>\n      <td>0</td>\n      <td>NaT</td>\n      <td>NaT</td>\n      <td>NaT</td>\n      <td>NaT</td>\n      <td>NaT</td>\n      <td>NaT</td>\n      <td>0</td>\n      <td>1</td>\n      <td>NaN</td>\n    </tr>\n  </tbody>\n</table>\n<p>656410 rows × 24 columns</p>\n</div>"
     },
     "metadata": {},
     "execution_count": 22
    }
   ],
   "source": [
    "casosc = casosc.rename(columns={'ibge7':'ibge_resid','nome':'paciente','dt_diag':'data_diagnostico','comunicacao':'data_comunicacao','is':'data_1o_sintomas'})\n",
    "\n",
    "casosc['identificacao'] = casost['identificacao'].values.tolist()\n",
    "\n",
    "casosc['ordem'] = casosc['ordem'].apply(int)\n",
    "casosc['ibge_atend'] = casost['ibge_atend_pr'].apply(int).values.tolist()\n",
    "casosc['ibge_resid'] = casosc['ibge_resid'].apply(int)\n",
    "\n",
    "casosc.loc[casosc['rs'].isnull(),'rs'] = 99\n",
    "casosc['rs'] = casosc['rs'].apply(int)\n",
    "\n",
    "casosc['recuperado'] = [ 1 if recuperado==\"Recuperado\" else 0 for recuperado in casost['status'] ]\n",
    "casosc['obito'] = [ 1 if obito==\"SIM\" else 0 for obito in casosc['obito'] ]\n",
    "# casosc.loc[casosc['obito']==1, 'data_com_obito'] = casost.loc[casost['obito']==\"SIM\", 'dt_com_obito']\n",
    "\n",
    "casosc = pd.merge(casosc,casost[['identificacao','dt_com_obito']], how='left', on='identificacao')\n",
    "\n",
    "casosc = casosc.rename(columns={'dt_com_obito':'data_com_obito'})\n",
    "\n",
    "casosc['ativo'] = 0\n",
    "casosc.loc[(casosc['recuperado']==0) & (casosc['obito']==0 ), 'ativo'] = 1\n",
    "casosc.loc[(casosc['recuperado']==1) & (casosc['obito']==1 ), 'recuperado'].to_excel('casos_cura_obito.xlsx')\n",
    "casosc.loc[(casosc['recuperado']==1) & (casosc['obito']==1 ), 'recuperado'] = 0\n",
    "\n",
    "casosc = casosc[['ordem', 'identificacao', 'ibge_resid', 'ibge_atend', 'paciente', 'sexo', 'idade', 'mun_resid', 'mun_atend', 'rs', 'laboratorio', 'data_diagnostico', 'data_comunicacao', 'data_1o_sintomas', 'obito', 'data_obito', 'data_com_obito', 'recuperado', 'ativo', 'excluir']].sort_values('ordem')\n",
    "casosc"
   ]
  },
  {
   "cell_type": "code",
   "execution_count": 16,
   "metadata": {},
   "outputs": [],
   "source": [
    "writer = pd.ExcelWriter(join(output,\"casos_confirmados.xlsx\"),\n",
    "                        engine='xlsxwriter',\n",
    "                        datetime_format='dd/mm/yyyy',\n",
    "                        date_format='dd/mm/yyyy')\n",
    "\n",
    "casosc.to_excel(writer,'geral',index=None)\n",
    "worksheet = writer.sheets[f\"geral\"]\n",
    "auto_fit_columns(worksheet,casosc)\n",
    "\n",
    "writer.save()\n",
    "writer.close()"
   ]
  },
  {
   "cell_type": "code",
   "execution_count": null,
   "metadata": {},
   "outputs": [],
   "source": [
    "print(timedelta(seconds=timer_all.stop()))"
   ]
  },
  {
   "cell_type": "code",
   "execution_count": null,
   "metadata": {},
   "outputs": [],
   "source": [
    "casosc"
   ]
  },
  {
   "cell_type": "code",
   "execution_count": null,
   "metadata": {},
   "outputs": [],
   "source": [
    "casost"
   ]
  },
  {
   "cell_type": "code",
   "execution_count": null,
   "metadata": {},
   "outputs": [],
   "source": []
  }
 ]
}