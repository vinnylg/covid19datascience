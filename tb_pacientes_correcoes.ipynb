{
 "metadata": {
  "language_info": {
   "codemirror_mode": {
    "name": "ipython",
    "version": 3
   },
   "file_extension": ".py",
   "mimetype": "text/x-python",
   "name": "python",
   "nbconvert_exporter": "python",
   "pygments_lexer": "ipython3",
   "version": "3.8.5-final"
  },
  "orig_nbformat": 2,
  "kernelspec": {
   "name": "python3",
   "display_name": "Python 3",
   "language": "python"
  }
 },
 "nbformat": 4,
 "nbformat_minor": 2,
 "cells": [
  {
   "cell_type": "code",
   "execution_count": 1,
   "metadata": {},
   "outputs": [],
   "source": [
    "from sys import exit\n",
    "import numpy as np\n",
    "import pandas as pd\n",
    "from os.path import dirname, join, isfile, isdir\n",
    "from os import makedirs\n",
    "from datetime import datetime, timedelta\n",
    "\n",
    "from bulletin.data.tb_pacientes import TbPacientes\n",
    "from bulletin.data.casos_confirmados import CasosConfirmados\n",
    "from bulletin.commom.utils import Timer, auto_fit_columns\n",
    "from bulletin.commom import static\n",
    "\n",
    "from hashlib import sha256\n",
    "from bulletin.commom.normalize import normalize_text, normalize_number, normalize_hash, normalize_cpf, normalize_ibge\n",
    "\n",
    "import gc\n",
    "\n",
    "pd.set_option('display.max_columns', None)\n",
    "\n",
    "output = join(\"output\",\"correcoes\",\"tb_pacientes\")\n",
    "\n",
    "if not isdir(output):\n",
    "    makedirs(output)\n",
    "\n",
    "regionais = static.regionais.copy()\n",
    "timer = Timer()"
   ]
  },
  {
   "cell_type": "code",
   "execution_count": 2,
   "metadata": {},
   "outputs": [
    {
     "output_type": "execute_result",
     "data": {
      "text/plain": [
       "1.87420654296875"
      ]
     },
     "metadata": {},
     "execution_count": 2
    }
   ],
   "source": [
    "timer.reset()\n",
    "tb = TbPacientes()\n",
    "# tb.update()\n",
    "timer.stop()"
   ]
  },
  {
   "cell_type": "code",
   "execution_count": 3,
   "metadata": {},
   "outputs": [
    {
     "output_type": "execute_result",
     "data": {
      "text/plain": [
       "1.548377275466919"
      ]
     },
     "metadata": {},
     "execution_count": 3
    }
   ],
   "source": [
    "timer.reset()\n",
    "casos_confirmados = CasosConfirmados()\n",
    "# casos_confirmados.update()\n",
    "timer.stop()"
   ]
  },
  {
   "cell_type": "code",
   "execution_count": 4,
   "metadata": {},
   "outputs": [
    {
     "output_type": "stream",
     "name": "stdout",
     "text": [
      "casos casos_confirmados: (824044, 24)\ncasos tb_pacientes: (824044, 48)\n"
     ]
    }
   ],
   "source": [
    "casost = tb.get()\n",
    "casosc = casos_confirmados.get_casos()\n",
    "print(f\"casos casos_confirmados: {casosc.shape}\")\n",
    "print(f\"casos tb_pacientes: {casost.shape}\")"
   ]
  },
  {
   "cell_type": "code",
   "execution_count": 5,
   "metadata": {},
   "outputs": [],
   "source": [
    "idx_casos_confirmados = casosc[casosc['hash'].isin(casost['hash'])].index.tolist()\n",
    "idx_casos_confirmados += casosc[casosc['hash_less'].isin(casost['hash'])].index.tolist()\n",
    "idx_casos_confirmados += casosc[casosc['hash_more'].isin(casost['hash'])].index.tolist()\n",
    "idx_casos_confirmados += casosc[casosc['hash_atend'].isin(casost['hash_atend'])].index.tolist()\n",
    "idx_casos_confirmados += casosc[casosc['hash_less_atend'].isin(casost['hash_atend'])].index.tolist()\n",
    "idx_casos_confirmados += casosc[casosc['hash_more_atend'].isin(casost['hash_atend'])].index.tolist()\n",
    "idx_casos_confirmados = set(idx_casos_confirmados)\n",
    "casos_confirmados_nao_tb_pacientes = casosc.loc[ set(casosc.index.tolist()) - idx_casos_confirmados ].sort_values('ordem')"
   ]
  },
  {
   "cell_type": "code",
   "execution_count": 6,
   "metadata": {},
   "outputs": [],
   "source": [
    "idx_tb_pacientes = casost[casost['hash'].isin(casosc['hash'])].index.tolist()\n",
    "idx_tb_pacientes += casost[casost['hash'].isin(casosc['hash_less'])].index.tolist()\n",
    "idx_tb_pacientes += casost[casost['hash'].isin(casosc['hash_more'])].index.tolist()\n",
    "idx_tb_pacientes += casost[casost['hash_atend'].isin(casosc['hash_atend'])].index.tolist()\n",
    "idx_tb_pacientes += casost[casost['hash_atend'].isin(casosc['hash_less_atend'])].index.tolist()\n",
    "idx_tb_pacientes += casost[casost['hash_atend'].isin(casosc['hash_more_atend'])].index.tolist()\n",
    "idx_tb_pacientes = set(idx_tb_pacientes)\n",
    "tb_pacientes_nao_casos_confirmados = casost.loc[ set(casost.index.tolist()) - idx_tb_pacientes ].sort_values('identificacao')\n"
   ]
  },
  {
   "cell_type": "code",
   "execution_count": 7,
   "metadata": {},
   "outputs": [
    {
     "output_type": "stream",
     "name": "stdout",
     "text": [
      "casos_confirmados_nao_tb_pacientes: (0, 24)\ntb_pacientes_nao_casos_confirmados: (0, 48)\n"
     ]
    }
   ],
   "source": [
    "print(f\"casos_confirmados_nao_tb_pacientes: {casos_confirmados_nao_tb_pacientes.shape}\")\n",
    "if len(casos_confirmados_nao_tb_pacientes) > 0:\n",
    "    casos_confirmados_nao_tb_pacientes.sort_values('nome').to_excel(join(output,'casos_confirmados_nao_tb_pacientes.xlsx'), index=False)\n",
    "print(f\"tb_pacientes_nao_casos_confirmados: {tb_pacientes_nao_casos_confirmados.shape}\")\n",
    "if len(tb_pacientes_nao_casos_confirmados) > 0:\n",
    "    tb_pacientes_nao_casos_confirmados.sort_values('nome').to_excel(join(output,'tb_pacientes_nao_casos_confirmados.xlsx'), index=False)\n",
    "if (len(casos_confirmados_nao_tb_pacientes) > 0) or (len(tb_pacientes_nao_casos_confirmados) > 0):\n",
    "    raise Exception(\"diferentes\")"
   ]
  },
  {
   "cell_type": "code",
   "execution_count": 8,
   "metadata": {},
   "outputs": [],
   "source": [
    "casost['ibge_res_pr'] = casost['ibge_res_pr'].fillna('9999999')\n",
    "casosc['ibge7'] = casosc['ibge7'].fillna('9999999')"
   ]
  },
  {
   "cell_type": "code",
   "execution_count": 9,
   "metadata": {},
   "outputs": [],
   "source": [
    "casosc['nome_hash'] = casosc['nome'].apply(normalize_hash)\n",
    "casost['nome_hash'] = casost['nome'].apply(normalize_hash)"
   ]
  },
  {
   "cell_type": "code",
   "execution_count": 10,
   "metadata": {},
   "outputs": [
    {
     "output_type": "stream",
     "name": "stdout",
     "text": [
      "False\nFalse\nFalse\n"
     ]
    }
   ],
   "source": [
    "print(all(casosc['nome_hash'].values == casost['nome_hash'].values))\n",
    "print(all(casosc['ibge7'].values == casost['ibge_res_pr'].values))\n",
    "print(all(casosc['idade'].values == casost['idade'].values))"
   ]
  },
  {
   "cell_type": "code",
   "execution_count": 11,
   "metadata": {},
   "outputs": [],
   "source": [
    "timer.reset()\n",
    "\n",
    "if False:\n",
    "    sorted_casosc = pd.DataFrame(columns=casosc.columns, dtype=casosc.dtypes.values)\n",
    "    sorted_casost = pd.DataFrame(columns=casost.columns, dtype=casost.dtypes.values)\n",
    "    i = 0\n",
    "    for (ibge_cc, df_ibge_cc), (ibge_tb, df_ibge_tb) in zip(casosc.groupby('ibge7'),casost.groupby('ibge_res_pr')):\n",
    "        print(i,end=' ')\n",
    "        i+=1\n",
    "        if ibge_cc != ibge_tb:\n",
    "            raise Exception(ibge_cc,ibge_tb)\n",
    "\n",
    "        df_ibge_cc = df_ibge_cc.sort_values('nome_hash')\n",
    "        df_ibge_tb = df_ibge_tb.sort_values('nome_hash')\n",
    "\n",
    "        duplicados_ibge_cc = df_ibge_cc.loc[ df_ibge_cc.duplicated('nome_hash', keep=False) ]\n",
    "        duplicados_ibge_tb = df_ibge_tb.loc[ df_ibge_tb.duplicated('nome_hash', keep=False) ]\n",
    "\n",
    "        sorted_casosc = sorted_casosc.append(df_ibge_cc.loc[~df_ibge_cc.index.isin(duplicados_ibge_cc.index)])\n",
    "        sorted_casost = sorted_casost.append(df_ibge_tb.loc[~df_ibge_tb.index.isin(duplicados_ibge_tb.index)])\n",
    "\n",
    "        for (nome_cc, df_nome_cc), (nome_tb, df_nome_tb) in zip(duplicados_ibge_cc.groupby('nome_hash'),duplicados_ibge_tb.groupby('nome_hash')):\n",
    "            if nome_cc != nome_tb:\n",
    "                raise Exception(nome_cc,nome_tb)\n",
    "\n",
    "            sorted_casosc = sorted_casosc.append(df_nome_cc.sort_values('idade'))\n",
    "            sorted_casost = sorted_casost.append(df_nome_tb.sort_values('idade'))\n",
    "\n",
    "\n",
    "    print(f\"casos casos_confirmados: {sorted_casosc.shape}\")\n",
    "    print(f\"casos tb_pacientes: {casost.shape}\")\n",
    "    print(timer.stop())\n",
    "    casosc = sorted_casosc\n",
    "    casost = sorted_casost\n",
    "\n",
    "else:\n",
    "    casosc['identificacao'] = casosc['identificacao'].apply(int)\n",
    "    casost['identificacao'] = casost['identificacao'].apply(int)\n",
    "    casosc = casosc.sort_values('identificacao').copy()\n",
    "    casost = casost.sort_values('identificacao').copy()"
   ]
  },
  {
   "cell_type": "code",
   "execution_count": 12,
   "metadata": {},
   "outputs": [
    {
     "output_type": "stream",
     "name": "stdout",
     "text": [
      "False\nTrue\nFalse\n"
     ]
    }
   ],
   "source": [
    "print(all(casosc['nome_hash'].values == casost['nome_hash'].values))\n",
    "print(all(casosc['ibge7'].values == casost['ibge_res_pr'].values))\n",
    "print(all(casosc['idade'].values == casost['idade'].values))"
   ]
  },
  {
   "cell_type": "code",
   "execution_count": 13,
   "metadata": {},
   "outputs": [
    {
     "output_type": "execute_result",
     "data": {
      "text/plain": [
       "True"
      ]
     },
     "metadata": {},
     "execution_count": 13
    }
   ],
   "source": [
    "all(casosc.sort_values('nome_hash')['nome_hash'].values == casost.sort_values('nome_hash')['nome_hash'].values)"
   ]
  },
  {
   "cell_type": "code",
   "execution_count": 14,
   "metadata": {},
   "outputs": [],
   "source": [
    "obitosc = casosc.loc[casosc['obito']=='SIM']\n",
    "obitost = casost.loc[casost['obito']=='SIM']"
   ]
  },
  {
   "cell_type": "code",
   "execution_count": 15,
   "metadata": {},
   "outputs": [
    {
     "output_type": "execute_result",
     "data": {
      "text/plain": [
       "Empty DataFrame\n",
       "Columns: [ordem, identificacao, ibge7, rs_res_pr, nome, sexo, idade, mun_resid, mun_atend, rs, laboratorio, dt_diag, comunicacao, is, obito, data_obito, excluir, hash, hash_less, hash_more, hash_atend, hash_less_atend, hash_more_atend, hash_dt_diag, nome_hash]\n",
       "Index: []"
      ],
      "text/html": "<div>\n<style scoped>\n    .dataframe tbody tr th:only-of-type {\n        vertical-align: middle;\n    }\n\n    .dataframe tbody tr th {\n        vertical-align: top;\n    }\n\n    .dataframe thead th {\n        text-align: right;\n    }\n</style>\n<table border=\"1\" class=\"dataframe\">\n  <thead>\n    <tr style=\"text-align: right;\">\n      <th></th>\n      <th>ordem</th>\n      <th>identificacao</th>\n      <th>ibge7</th>\n      <th>rs_res_pr</th>\n      <th>nome</th>\n      <th>sexo</th>\n      <th>idade</th>\n      <th>mun_resid</th>\n      <th>mun_atend</th>\n      <th>rs</th>\n      <th>laboratorio</th>\n      <th>dt_diag</th>\n      <th>comunicacao</th>\n      <th>is</th>\n      <th>obito</th>\n      <th>data_obito</th>\n      <th>excluir</th>\n      <th>hash</th>\n      <th>hash_less</th>\n      <th>hash_more</th>\n      <th>hash_atend</th>\n      <th>hash_less_atend</th>\n      <th>hash_more_atend</th>\n      <th>hash_dt_diag</th>\n      <th>nome_hash</th>\n    </tr>\n  </thead>\n  <tbody>\n  </tbody>\n</table>\n</div>"
     },
     "metadata": {},
     "execution_count": 15
    }
   ],
   "source": [
    "obitosc.loc[~obitosc['identificacao'].isin(obitost['identificacao'])]"
   ]
  },
  {
   "cell_type": "code",
   "execution_count": 16,
   "metadata": {},
   "outputs": [
    {
     "output_type": "execute_result",
     "data": {
      "text/plain": [
       "Empty DataFrame\n",
       "Columns: [identificacao, ibge_res_pr, ibge_atend_pr, nome, sexo, idade, mun_resid, mun_atend, laboratorio, dt_diag, dt_notificacao, dt_inicio_sintomas, 15_dia_isolamento, dt_viagem_retorno, local_viagem, exposicao, data_de_internamento, local, clinico_uti, dt_alta, obito, dt_obito, muni_res_pr, hist_viagem, casos_novos, telefone, dt_atualizacao, fonte, status, eas, privado_sus, uti, dt_internamento, evolucao, dt_evolucao, temp_permanencia, cod_laboratorio, idade_original, dt_com_obito, dt_com_recuperado, idade_mais1, idade_menos1, hash, hash_less, hash_more, hash_atend, hash_less_atend, hash_more_atend, nome_hash]\n",
       "Index: []"
      ],
      "text/html": "<div>\n<style scoped>\n    .dataframe tbody tr th:only-of-type {\n        vertical-align: middle;\n    }\n\n    .dataframe tbody tr th {\n        vertical-align: top;\n    }\n\n    .dataframe thead th {\n        text-align: right;\n    }\n</style>\n<table border=\"1\" class=\"dataframe\">\n  <thead>\n    <tr style=\"text-align: right;\">\n      <th></th>\n      <th>identificacao</th>\n      <th>ibge_res_pr</th>\n      <th>ibge_atend_pr</th>\n      <th>nome</th>\n      <th>sexo</th>\n      <th>idade</th>\n      <th>mun_resid</th>\n      <th>mun_atend</th>\n      <th>laboratorio</th>\n      <th>dt_diag</th>\n      <th>dt_notificacao</th>\n      <th>dt_inicio_sintomas</th>\n      <th>15_dia_isolamento</th>\n      <th>dt_viagem_retorno</th>\n      <th>local_viagem</th>\n      <th>exposicao</th>\n      <th>data_de_internamento</th>\n      <th>local</th>\n      <th>clinico_uti</th>\n      <th>dt_alta</th>\n      <th>obito</th>\n      <th>dt_obito</th>\n      <th>muni_res_pr</th>\n      <th>hist_viagem</th>\n      <th>casos_novos</th>\n      <th>telefone</th>\n      <th>dt_atualizacao</th>\n      <th>fonte</th>\n      <th>status</th>\n      <th>eas</th>\n      <th>privado_sus</th>\n      <th>uti</th>\n      <th>dt_internamento</th>\n      <th>evolucao</th>\n      <th>dt_evolucao</th>\n      <th>temp_permanencia</th>\n      <th>cod_laboratorio</th>\n      <th>idade_original</th>\n      <th>dt_com_obito</th>\n      <th>dt_com_recuperado</th>\n      <th>idade_mais1</th>\n      <th>idade_menos1</th>\n      <th>hash</th>\n      <th>hash_less</th>\n      <th>hash_more</th>\n      <th>hash_atend</th>\n      <th>hash_less_atend</th>\n      <th>hash_more_atend</th>\n      <th>nome_hash</th>\n    </tr>\n  </thead>\n  <tbody>\n  </tbody>\n</table>\n</div>"
     },
     "metadata": {},
     "execution_count": 16
    }
   ],
   "source": [
    "obitost.loc[~obitost['identificacao'].isin(obitosc['identificacao'])]"
   ]
  },
  {
   "cell_type": "code",
   "execution_count": 17,
   "metadata": {},
   "outputs": [
    {
     "output_type": "stream",
     "name": "stdout",
     "text": [
      "Index(['nm_macro', 'ordem', 'ibge_resid', 'ibge_atend', 'paciente', 'sexo',\n       'idade', 'rs', 'nm_reg', 'mun_resid', 'mun_atend', 'laboratorio',\n       'data_diagnostico', 'data_comunicacao', 'data_1o_sintomas', 'evolucao',\n       'data_evolucao', 'data_com_evolucao'],\n      dtype='object')\n"
     ]
    },
    {
     "output_type": "execute_result",
     "data": {
      "text/plain": [
       "        nm_macro   ordem  ibge_resid  ibge_atend  \\\n",
       "0          OESTE       1      410830      410830   \n",
       "1       NOROESTE       2      411710      411710   \n",
       "2          OESTE       3      412770      412770   \n",
       "3          LESTE       4      411200      411200   \n",
       "4          LESTE       5      412550      412550   \n",
       "...          ...     ...         ...         ...   \n",
       "824039     OESTE  824040      412770      412770   \n",
       "824040     LESTE  824041      410690      410690   \n",
       "824041     NORTE  824042      411370      411370   \n",
       "824042  NOROESTE  824043      412625      412625   \n",
       "824043     LESTE  824044      411200      411990   \n",
       "\n",
       "                                    paciente sexo  idade  rs         nm_reg  \\\n",
       "0                   ABBAS MOHAMAD MESSELMANI    M     41   9  FOZ DO IGUACU   \n",
       "1                   ABDIEL DE LIMA GONCALVES    M     44  14      PARANAVAI   \n",
       "2                              ABDOU INDIAYE    M     31  20         TOLEDO   \n",
       "3                           ABEDIEL DA SILVA    M     38   3   PONTA GROSSA   \n",
       "4                          ABEGAIL DOMINGUES    F     59   2  METROPOLITANA   \n",
       "...                                      ...  ...    ...  ..            ...   \n",
       "824039  ZULEICA DE LOURDES PELIZARO FRUGERIO    F     76  20         TOLEDO   \n",
       "824040         ZULEMIA ANNA DO VALLE RIBEIRO    F     85   2  METROPOLITANA   \n",
       "824041         ZULENE DE OLIVEIRA BEVILACQUA    F     59  17       LONDRINA   \n",
       "824042   ZULMIRA CONCEICAO FERNANDES ORLANDO    F     71  15        MARINGA   \n",
       "824043              ZULMIRA TOMAZ DE MIRANDA    F     42   3   PONTA GROSSA   \n",
       "\n",
       "                   mun_resid             mun_atend  \\\n",
       "0              FOZ DO IGUACU         FOZ DO IGUACU   \n",
       "1              NOVA LONDRINA         NOVA LONDRINA   \n",
       "2                     TOLEDO                TOLEDO   \n",
       "3                JAGUARIAIVA           JAGUARIAIVA   \n",
       "4       SAO JOSE DOS PINHAIS  SAO JOSE DOS PINHAIS   \n",
       "...                      ...                   ...   \n",
       "824039                TOLEDO                TOLEDO   \n",
       "824040              CURITIBA              CURITIBA   \n",
       "824041              LONDRINA              LONDRINA   \n",
       "824042               SARANDI               SARANDI   \n",
       "824043           JAGUARIAIVA          PONTA GROSSA   \n",
       "\n",
       "                                       laboratorio data_diagnostico  \\\n",
       "0                                            LACEN       2020-04-17   \n",
       "1                                             IBMP       2020-07-03   \n",
       "2                                             IBMP       2020-06-03   \n",
       "3                       COVID-19 IGG/IGM ECO TESTE       2020-06-05   \n",
       "4                                             IBMP       2020-06-16   \n",
       "...                                            ...              ...   \n",
       "824039  TESTE RAPIDO ANTIGENO (IMUNOCROMATOGRAFIA)       2021-03-15   \n",
       "824040                 COVID-19 BIOLOGIA MOLECULAR       2021-03-19   \n",
       "824041  TESTE RAPIDO ANTIGENO (IMUNOCROMATOGRAFIA)       2021-03-24   \n",
       "824042  TESTE RAPIDO ANTIGENO (IMUNOCROMATOGRAFIA)       2021-03-11   \n",
       "824043  TESTE RAPIDO ANTIGENO (IMUNOCROMATOGRAFIA)       2021-03-24   \n",
       "\n",
       "       data_comunicacao data_1o_sintomas    evolucao data_evolucao  \\\n",
       "0            2020-04-18       2020-04-11  RECUPERADO           NaT   \n",
       "1            2020-07-04       2020-06-22  RECUPERADO           NaT   \n",
       "2            2020-06-04       2020-05-29  RECUPERADO           NaT   \n",
       "3            2020-06-06              NaT  RECUPERADO           NaT   \n",
       "4            2020-06-17       2020-06-09  RECUPERADO           NaT   \n",
       "...                 ...              ...         ...           ...   \n",
       "824039       2021-03-25              NaT       ATIVO           NaT   \n",
       "824040       2021-03-25       2021-03-15       ATIVO           NaT   \n",
       "824041       2021-03-25       2021-03-24       ATIVO           NaT   \n",
       "824042       2021-03-25              NaT       ATIVO           NaT   \n",
       "824043       2021-03-25       2021-03-21       ATIVO           NaT   \n",
       "\n",
       "       data_com_evolucao  \n",
       "0                    NaT  \n",
       "1                    NaT  \n",
       "2                    NaT  \n",
       "3                    NaT  \n",
       "4                    NaT  \n",
       "...                  ...  \n",
       "824039               NaT  \n",
       "824040               NaT  \n",
       "824041               NaT  \n",
       "824042               NaT  \n",
       "824043               NaT  \n",
       "\n",
       "[824044 rows x 18 columns]"
      ],
      "text/html": "<div>\n<style scoped>\n    .dataframe tbody tr th:only-of-type {\n        vertical-align: middle;\n    }\n\n    .dataframe tbody tr th {\n        vertical-align: top;\n    }\n\n    .dataframe thead th {\n        text-align: right;\n    }\n</style>\n<table border=\"1\" class=\"dataframe\">\n  <thead>\n    <tr style=\"text-align: right;\">\n      <th></th>\n      <th>nm_macro</th>\n      <th>ordem</th>\n      <th>ibge_resid</th>\n      <th>ibge_atend</th>\n      <th>paciente</th>\n      <th>sexo</th>\n      <th>idade</th>\n      <th>rs</th>\n      <th>nm_reg</th>\n      <th>mun_resid</th>\n      <th>mun_atend</th>\n      <th>laboratorio</th>\n      <th>data_diagnostico</th>\n      <th>data_comunicacao</th>\n      <th>data_1o_sintomas</th>\n      <th>evolucao</th>\n      <th>data_evolucao</th>\n      <th>data_com_evolucao</th>\n    </tr>\n  </thead>\n  <tbody>\n    <tr>\n      <th>0</th>\n      <td>OESTE</td>\n      <td>1</td>\n      <td>410830</td>\n      <td>410830</td>\n      <td>ABBAS MOHAMAD MESSELMANI</td>\n      <td>M</td>\n      <td>41</td>\n      <td>9</td>\n      <td>FOZ DO IGUACU</td>\n      <td>FOZ DO IGUACU</td>\n      <td>FOZ DO IGUACU</td>\n      <td>LACEN</td>\n      <td>2020-04-17</td>\n      <td>2020-04-18</td>\n      <td>2020-04-11</td>\n      <td>RECUPERADO</td>\n      <td>NaT</td>\n      <td>NaT</td>\n    </tr>\n    <tr>\n      <th>1</th>\n      <td>NOROESTE</td>\n      <td>2</td>\n      <td>411710</td>\n      <td>411710</td>\n      <td>ABDIEL DE LIMA GONCALVES</td>\n      <td>M</td>\n      <td>44</td>\n      <td>14</td>\n      <td>PARANAVAI</td>\n      <td>NOVA LONDRINA</td>\n      <td>NOVA LONDRINA</td>\n      <td>IBMP</td>\n      <td>2020-07-03</td>\n      <td>2020-07-04</td>\n      <td>2020-06-22</td>\n      <td>RECUPERADO</td>\n      <td>NaT</td>\n      <td>NaT</td>\n    </tr>\n    <tr>\n      <th>2</th>\n      <td>OESTE</td>\n      <td>3</td>\n      <td>412770</td>\n      <td>412770</td>\n      <td>ABDOU INDIAYE</td>\n      <td>M</td>\n      <td>31</td>\n      <td>20</td>\n      <td>TOLEDO</td>\n      <td>TOLEDO</td>\n      <td>TOLEDO</td>\n      <td>IBMP</td>\n      <td>2020-06-03</td>\n      <td>2020-06-04</td>\n      <td>2020-05-29</td>\n      <td>RECUPERADO</td>\n      <td>NaT</td>\n      <td>NaT</td>\n    </tr>\n    <tr>\n      <th>3</th>\n      <td>LESTE</td>\n      <td>4</td>\n      <td>411200</td>\n      <td>411200</td>\n      <td>ABEDIEL DA SILVA</td>\n      <td>M</td>\n      <td>38</td>\n      <td>3</td>\n      <td>PONTA GROSSA</td>\n      <td>JAGUARIAIVA</td>\n      <td>JAGUARIAIVA</td>\n      <td>COVID-19 IGG/IGM ECO TESTE</td>\n      <td>2020-06-05</td>\n      <td>2020-06-06</td>\n      <td>NaT</td>\n      <td>RECUPERADO</td>\n      <td>NaT</td>\n      <td>NaT</td>\n    </tr>\n    <tr>\n      <th>4</th>\n      <td>LESTE</td>\n      <td>5</td>\n      <td>412550</td>\n      <td>412550</td>\n      <td>ABEGAIL DOMINGUES</td>\n      <td>F</td>\n      <td>59</td>\n      <td>2</td>\n      <td>METROPOLITANA</td>\n      <td>SAO JOSE DOS PINHAIS</td>\n      <td>SAO JOSE DOS PINHAIS</td>\n      <td>IBMP</td>\n      <td>2020-06-16</td>\n      <td>2020-06-17</td>\n      <td>2020-06-09</td>\n      <td>RECUPERADO</td>\n      <td>NaT</td>\n      <td>NaT</td>\n    </tr>\n    <tr>\n      <th>...</th>\n      <td>...</td>\n      <td>...</td>\n      <td>...</td>\n      <td>...</td>\n      <td>...</td>\n      <td>...</td>\n      <td>...</td>\n      <td>...</td>\n      <td>...</td>\n      <td>...</td>\n      <td>...</td>\n      <td>...</td>\n      <td>...</td>\n      <td>...</td>\n      <td>...</td>\n      <td>...</td>\n      <td>...</td>\n      <td>...</td>\n    </tr>\n    <tr>\n      <th>824039</th>\n      <td>OESTE</td>\n      <td>824040</td>\n      <td>412770</td>\n      <td>412770</td>\n      <td>ZULEICA DE LOURDES PELIZARO FRUGERIO</td>\n      <td>F</td>\n      <td>76</td>\n      <td>20</td>\n      <td>TOLEDO</td>\n      <td>TOLEDO</td>\n      <td>TOLEDO</td>\n      <td>TESTE RAPIDO ANTIGENO (IMUNOCROMATOGRAFIA)</td>\n      <td>2021-03-15</td>\n      <td>2021-03-25</td>\n      <td>NaT</td>\n      <td>ATIVO</td>\n      <td>NaT</td>\n      <td>NaT</td>\n    </tr>\n    <tr>\n      <th>824040</th>\n      <td>LESTE</td>\n      <td>824041</td>\n      <td>410690</td>\n      <td>410690</td>\n      <td>ZULEMIA ANNA DO VALLE RIBEIRO</td>\n      <td>F</td>\n      <td>85</td>\n      <td>2</td>\n      <td>METROPOLITANA</td>\n      <td>CURITIBA</td>\n      <td>CURITIBA</td>\n      <td>COVID-19 BIOLOGIA MOLECULAR</td>\n      <td>2021-03-19</td>\n      <td>2021-03-25</td>\n      <td>2021-03-15</td>\n      <td>ATIVO</td>\n      <td>NaT</td>\n      <td>NaT</td>\n    </tr>\n    <tr>\n      <th>824041</th>\n      <td>NORTE</td>\n      <td>824042</td>\n      <td>411370</td>\n      <td>411370</td>\n      <td>ZULENE DE OLIVEIRA BEVILACQUA</td>\n      <td>F</td>\n      <td>59</td>\n      <td>17</td>\n      <td>LONDRINA</td>\n      <td>LONDRINA</td>\n      <td>LONDRINA</td>\n      <td>TESTE RAPIDO ANTIGENO (IMUNOCROMATOGRAFIA)</td>\n      <td>2021-03-24</td>\n      <td>2021-03-25</td>\n      <td>2021-03-24</td>\n      <td>ATIVO</td>\n      <td>NaT</td>\n      <td>NaT</td>\n    </tr>\n    <tr>\n      <th>824042</th>\n      <td>NOROESTE</td>\n      <td>824043</td>\n      <td>412625</td>\n      <td>412625</td>\n      <td>ZULMIRA CONCEICAO FERNANDES ORLANDO</td>\n      <td>F</td>\n      <td>71</td>\n      <td>15</td>\n      <td>MARINGA</td>\n      <td>SARANDI</td>\n      <td>SARANDI</td>\n      <td>TESTE RAPIDO ANTIGENO (IMUNOCROMATOGRAFIA)</td>\n      <td>2021-03-11</td>\n      <td>2021-03-25</td>\n      <td>NaT</td>\n      <td>ATIVO</td>\n      <td>NaT</td>\n      <td>NaT</td>\n    </tr>\n    <tr>\n      <th>824043</th>\n      <td>LESTE</td>\n      <td>824044</td>\n      <td>411200</td>\n      <td>411990</td>\n      <td>ZULMIRA TOMAZ DE MIRANDA</td>\n      <td>F</td>\n      <td>42</td>\n      <td>3</td>\n      <td>PONTA GROSSA</td>\n      <td>JAGUARIAIVA</td>\n      <td>PONTA GROSSA</td>\n      <td>TESTE RAPIDO ANTIGENO (IMUNOCROMATOGRAFIA)</td>\n      <td>2021-03-24</td>\n      <td>2021-03-25</td>\n      <td>2021-03-21</td>\n      <td>ATIVO</td>\n      <td>NaT</td>\n      <td>NaT</td>\n    </tr>\n  </tbody>\n</table>\n<p>824044 rows × 18 columns</p>\n</div>"
     },
     "metadata": {},
     "execution_count": 17
    }
   ],
   "source": [
    "regionais = static.regionais.copy()\n",
    "try:\n",
    "    casosc = casosc_copy.copy()\n",
    "except:\n",
    "    casosc_copy = casosc.copy()\n",
    "\n",
    "casosc['identificacao'] = casost['identificacao'].values.copy()\n",
    "\n",
    "casosc['ordem'] = [ i for i in range(1,len(casosc)+1)]\n",
    "\n",
    "casosc = casosc.rename(columns={'ibge7':'ibge_resid','nome':'paciente','dt_diag':'data_diagnostico','comunicacao':'data_comunicacao','is':'data_1o_sintomas'})\n",
    "\n",
    "casosc['ibge_atend'] = casost['ibge_atend_pr'].apply(normalize_ibge).values.tolist()\n",
    "casosc['ibge_resid'] = casosc['ibge_resid'].apply(normalize_ibge).values.tolist()\n",
    "\n",
    "casosc.loc[casosc['rs'].isnull(),'rs'] = 99\n",
    "casosc['rs'] = casosc['rs'].apply(int)\n",
    "\n",
    "regionais = regionais.append(pd.Series({'nu_reg':99,'nm_macro':\"FORA_PR\",'nm_reg':'FORA_PR'}),ignore_index=True)\n",
    "regionais = regionais.groupby(['nu_reg','nm_reg','nm_macro'])[['ibge']].count().reset_index()\n",
    "del regionais['ibge']\n",
    "# casosc['nm_macro'] = casosc.apply(lambda x: regionais.loc[regionais['nu_reg']==x['rs']],1)\n",
    "# casosc['nm_reg'] = casosc.apply(lambda x: regionais.loc[regionais['nu_reg']==x['rs']],1)\n",
    "casosc = pd.merge(casosc,regionais,how='left',left_on='rs',right_on='nu_reg',left_index=True,validate = 'm:1')\n",
    "\n",
    "\n",
    "casosc = pd.merge(casosc,casost[['identificacao','dt_obito','dt_com_obito','status','dt_com_recuperado']],'left',on='identificacao')\n",
    "\n",
    "casosc['caso'] = 1\n",
    "casosc['recuperado'] = 0\n",
    "casosc['ativo'] = 1\n",
    "\n",
    "casosc.loc[(casosc['status']==\"Recuperado\"),'recuperado'] = 1\n",
    "casosc.loc[(casosc['obito']=='SIM'),'obito'] = 1\n",
    "casosc.loc[(casosc['obito']=='NAO'),'obito'] = 0\n",
    "casosc.loc[(casosc['obito']==1) | (casosc['recuperado']==1),'ativo'] = 0\n",
    "\n",
    "casosc.loc[(casosc['recuperado']==1) & (casosc['obito']==1 ), 'recuperado'].to_excel('casos_cura_obito.xlsx')\n",
    "casosc.loc[(casosc['recuperado']==1) & (casosc['obito']==1 ), 'recuperado'] = 0\n",
    "\n",
    "# casosc['evolucao'] = 'ATIVO'\n",
    "# casosc.loc[casosc['recuperado']==1, 'evolucao'] = 'CURA'\n",
    "# casosc.loc[casosc['obito']==1, 'evolucao'] = 'OBITO'\n",
    "\n",
    "# casosc.loc[casosc['recuperado']==1, 'data_com_evolucao'] = casosc.loc[casosc['recuperado']==1, 'data_com_recuperado']\n",
    "# casosc.loc[casosc['obito']==1, 'data_com_evolucao'] = casosc.loc[casosc['obito']==1, 'data_com_obito']\n",
    "\n",
    "# casosc.loc[casosc['obito']==1, 'data_evolucao'] = casosc.loc[casosc['obito']==1, 'data_obito']\n",
    "\n",
    "casosc.loc[casosc['obito']==1,'evolucao'] = 'OBITO'\n",
    "casosc.loc[casosc['recuperado']==1,'evolucao'] = 'RECUPERADO'\n",
    "casosc.loc[casosc['ativo']==1,'evolucao'] = 'ATIVO'\n",
    "\n",
    "casosc = casosc.rename(columns={'dt_com_obito':'data_com_evolucao','data_obito':'data_evolucao'})\n",
    "\n",
    "casosc = casosc[['nm_macro','ordem', 'ibge_resid', 'ibge_atend', 'paciente', 'sexo', 'idade', 'rs','nm_reg', 'mun_resid', 'mun_atend', 'laboratorio', 'data_diagnostico', 'data_comunicacao', 'data_1o_sintomas', 'evolucao','data_evolucao', 'data_com_evolucao']].sort_values('ordem')\n",
    "\n",
    "print(casosc.columns)\n",
    "casosc"
   ]
  },
  {
   "cell_type": "code",
   "execution_count": 18,
   "metadata": {},
   "outputs": [
    {
     "output_type": "execute_result",
     "data": {
      "text/plain": [
       "             ordem\n",
       "evolucao          \n",
       "ATIVO       228802\n",
       "OBITO        15750\n",
       "RECUPERADO  579492"
      ],
      "text/html": "<div>\n<style scoped>\n    .dataframe tbody tr th:only-of-type {\n        vertical-align: middle;\n    }\n\n    .dataframe tbody tr th {\n        vertical-align: top;\n    }\n\n    .dataframe thead th {\n        text-align: right;\n    }\n</style>\n<table border=\"1\" class=\"dataframe\">\n  <thead>\n    <tr style=\"text-align: right;\">\n      <th></th>\n      <th>ordem</th>\n    </tr>\n    <tr>\n      <th>evolucao</th>\n      <th></th>\n    </tr>\n  </thead>\n  <tbody>\n    <tr>\n      <th>ATIVO</th>\n      <td>228802</td>\n    </tr>\n    <tr>\n      <th>OBITO</th>\n      <td>15750</td>\n    </tr>\n    <tr>\n      <th>RECUPERADO</th>\n      <td>579492</td>\n    </tr>\n  </tbody>\n</table>\n</div>"
     },
     "metadata": {},
     "execution_count": 18
    }
   ],
   "source": [
    "casosc.groupby('evolucao')[['ordem']].count()"
   ]
  },
  {
   "cell_type": "code",
   "execution_count": 35,
   "metadata": {},
   "outputs": [
    {
     "output_type": "execute_result",
     "data": {
      "text/plain": [
       "              ordem                   TOTAL_CASOS\n",
       "evolucao      ATIVO  OBITO RECUPERADO            \n",
       "nm_macro                                         \n",
       "FORA_PR        3267    117       1950        5334\n",
       "LESTE        105112   7915     268761      381788\n",
       "NOROESTE      34883   2162      92228      129273\n",
       "NORTE         59045   2685      70334      132064\n",
       "OESTE         26495   2871     146219      175585\n",
       "TOTAL GERAL  228802  15750     579492      824044"
      ],
      "text/html": "<div>\n<style scoped>\n    .dataframe tbody tr th:only-of-type {\n        vertical-align: middle;\n    }\n\n    .dataframe tbody tr th {\n        vertical-align: top;\n    }\n\n    .dataframe thead tr th {\n        text-align: left;\n    }\n\n    .dataframe thead tr:last-of-type th {\n        text-align: right;\n    }\n</style>\n<table border=\"1\" class=\"dataframe\">\n  <thead>\n    <tr>\n      <th></th>\n      <th colspan=\"3\" halign=\"left\">ordem</th>\n      <th>TOTAL_CASOS</th>\n    </tr>\n    <tr>\n      <th>evolucao</th>\n      <th>ATIVO</th>\n      <th>OBITO</th>\n      <th>RECUPERADO</th>\n      <th></th>\n    </tr>\n    <tr>\n      <th>nm_macro</th>\n      <th></th>\n      <th></th>\n      <th></th>\n      <th></th>\n    </tr>\n  </thead>\n  <tbody>\n    <tr>\n      <th>FORA_PR</th>\n      <td>3267</td>\n      <td>117</td>\n      <td>1950</td>\n      <td>5334</td>\n    </tr>\n    <tr>\n      <th>LESTE</th>\n      <td>105112</td>\n      <td>7915</td>\n      <td>268761</td>\n      <td>381788</td>\n    </tr>\n    <tr>\n      <th>NOROESTE</th>\n      <td>34883</td>\n      <td>2162</td>\n      <td>92228</td>\n      <td>129273</td>\n    </tr>\n    <tr>\n      <th>NORTE</th>\n      <td>59045</td>\n      <td>2685</td>\n      <td>70334</td>\n      <td>132064</td>\n    </tr>\n    <tr>\n      <th>OESTE</th>\n      <td>26495</td>\n      <td>2871</td>\n      <td>146219</td>\n      <td>175585</td>\n    </tr>\n    <tr>\n      <th>TOTAL GERAL</th>\n      <td>228802</td>\n      <td>15750</td>\n      <td>579492</td>\n      <td>824044</td>\n    </tr>\n  </tbody>\n</table>\n</div>"
     },
     "metadata": {},
     "execution_count": 35
    }
   ],
   "source": [
    "totais_macro = casosc.groupby(['nm_macro','evolucao'])[['ordem']].count()\n",
    "totais_macro = totais_macro.unstack()\n",
    "totais_macro['TOTAL_CASOS'] = totais_macro.sum(1)\n",
    "totais_macro\n",
    "# fora_pr = totais_macro.iloc[0]\n",
    "totais_macro.append(pd.Series(totais_macro.sum(0),name='TOTAL GERAL'))"
   ]
  },
  {
   "cell_type": "code",
   "execution_count": 36,
   "metadata": {},
   "outputs": [
    {
     "output_type": "execute_result",
     "data": {
      "text/plain": [
       "evolucao                  ATIVO  OBITO  RECUPERADO  TOTAL_CASOS\n",
       "rs    nm_reg                                                   \n",
       "1      PARANAGUA          10425    510       14195        25130\n",
       "2     METROPOLITANA       60893   5748      193278       259919\n",
       "3     PONTA GROSSA        15118    831       28813        44762\n",
       "4     IRATI                1336    139        6842         8317\n",
       "5     GUARAPUAVA           8487    319       13202        22008\n",
       "6     UNIAO DA VITORIA     1504     98        4547         6149\n",
       "7     PATO BRANCO          3297    393       17280        20970\n",
       "8     FRANCISCO BELTRAO    6793    415       21646        28854\n",
       "9     FOZ DO IGUACU        9498    760       35039        45297\n",
       "10    CASCAVEL             2840    808       40011        43659\n",
       "11    CAMPO MOURAO         5710    289       11723        17722\n",
       "12    UMUARAMA             7913    259       10623        18795\n",
       "13    CIANORTE             1161    129        8626         9916\n",
       "14    PARANAVAI            3778    252       10420        14450\n",
       "15    MARINGA             16321   1233       50836        68390\n",
       "16    APUCARANA            9021    610       11982        21613\n",
       "17    LONDRINA            42429   1341       30622        74392\n",
       "18    CORNELIO PROCOPIO    2196    329       11320        13845\n",
       "19    JACAREZINHO          4449    291       11092        15832\n",
       "20    TOLEDO               4067    495       32243        36805\n",
       "21    TELEMACO BORBA       7349    270        7884        15503\n",
       "22    IVAIPORA              950    114        5318         6382\n",
       "99    FORA_PR              3267    117        1950         5334\n",
       "TOTAL GERAL              228802  15750      579492       824044"
      ],
      "text/html": "<div>\n<style scoped>\n    .dataframe tbody tr th:only-of-type {\n        vertical-align: middle;\n    }\n\n    .dataframe tbody tr th {\n        vertical-align: top;\n    }\n\n    .dataframe thead th {\n        text-align: right;\n    }\n</style>\n<table border=\"1\" class=\"dataframe\">\n  <thead>\n    <tr style=\"text-align: right;\">\n      <th></th>\n      <th>evolucao</th>\n      <th>ATIVO</th>\n      <th>OBITO</th>\n      <th>RECUPERADO</th>\n      <th>TOTAL_CASOS</th>\n    </tr>\n    <tr>\n      <th>rs</th>\n      <th>nm_reg</th>\n      <th></th>\n      <th></th>\n      <th></th>\n      <th></th>\n    </tr>\n  </thead>\n  <tbody>\n    <tr>\n      <th>1</th>\n      <th>PARANAGUA</th>\n      <td>10425</td>\n      <td>510</td>\n      <td>14195</td>\n      <td>25130</td>\n    </tr>\n    <tr>\n      <th>2</th>\n      <th>METROPOLITANA</th>\n      <td>60893</td>\n      <td>5748</td>\n      <td>193278</td>\n      <td>259919</td>\n    </tr>\n    <tr>\n      <th>3</th>\n      <th>PONTA GROSSA</th>\n      <td>15118</td>\n      <td>831</td>\n      <td>28813</td>\n      <td>44762</td>\n    </tr>\n    <tr>\n      <th>4</th>\n      <th>IRATI</th>\n      <td>1336</td>\n      <td>139</td>\n      <td>6842</td>\n      <td>8317</td>\n    </tr>\n    <tr>\n      <th>5</th>\n      <th>GUARAPUAVA</th>\n      <td>8487</td>\n      <td>319</td>\n      <td>13202</td>\n      <td>22008</td>\n    </tr>\n    <tr>\n      <th>6</th>\n      <th>UNIAO DA VITORIA</th>\n      <td>1504</td>\n      <td>98</td>\n      <td>4547</td>\n      <td>6149</td>\n    </tr>\n    <tr>\n      <th>7</th>\n      <th>PATO BRANCO</th>\n      <td>3297</td>\n      <td>393</td>\n      <td>17280</td>\n      <td>20970</td>\n    </tr>\n    <tr>\n      <th>8</th>\n      <th>FRANCISCO BELTRAO</th>\n      <td>6793</td>\n      <td>415</td>\n      <td>21646</td>\n      <td>28854</td>\n    </tr>\n    <tr>\n      <th>9</th>\n      <th>FOZ DO IGUACU</th>\n      <td>9498</td>\n      <td>760</td>\n      <td>35039</td>\n      <td>45297</td>\n    </tr>\n    <tr>\n      <th>10</th>\n      <th>CASCAVEL</th>\n      <td>2840</td>\n      <td>808</td>\n      <td>40011</td>\n      <td>43659</td>\n    </tr>\n    <tr>\n      <th>11</th>\n      <th>CAMPO MOURAO</th>\n      <td>5710</td>\n      <td>289</td>\n      <td>11723</td>\n      <td>17722</td>\n    </tr>\n    <tr>\n      <th>12</th>\n      <th>UMUARAMA</th>\n      <td>7913</td>\n      <td>259</td>\n      <td>10623</td>\n      <td>18795</td>\n    </tr>\n    <tr>\n      <th>13</th>\n      <th>CIANORTE</th>\n      <td>1161</td>\n      <td>129</td>\n      <td>8626</td>\n      <td>9916</td>\n    </tr>\n    <tr>\n      <th>14</th>\n      <th>PARANAVAI</th>\n      <td>3778</td>\n      <td>252</td>\n      <td>10420</td>\n      <td>14450</td>\n    </tr>\n    <tr>\n      <th>15</th>\n      <th>MARINGA</th>\n      <td>16321</td>\n      <td>1233</td>\n      <td>50836</td>\n      <td>68390</td>\n    </tr>\n    <tr>\n      <th>16</th>\n      <th>APUCARANA</th>\n      <td>9021</td>\n      <td>610</td>\n      <td>11982</td>\n      <td>21613</td>\n    </tr>\n    <tr>\n      <th>17</th>\n      <th>LONDRINA</th>\n      <td>42429</td>\n      <td>1341</td>\n      <td>30622</td>\n      <td>74392</td>\n    </tr>\n    <tr>\n      <th>18</th>\n      <th>CORNELIO PROCOPIO</th>\n      <td>2196</td>\n      <td>329</td>\n      <td>11320</td>\n      <td>13845</td>\n    </tr>\n    <tr>\n      <th>19</th>\n      <th>JACAREZINHO</th>\n      <td>4449</td>\n      <td>291</td>\n      <td>11092</td>\n      <td>15832</td>\n    </tr>\n    <tr>\n      <th>20</th>\n      <th>TOLEDO</th>\n      <td>4067</td>\n      <td>495</td>\n      <td>32243</td>\n      <td>36805</td>\n    </tr>\n    <tr>\n      <th>21</th>\n      <th>TELEMACO BORBA</th>\n      <td>7349</td>\n      <td>270</td>\n      <td>7884</td>\n      <td>15503</td>\n    </tr>\n    <tr>\n      <th>22</th>\n      <th>IVAIPORA</th>\n      <td>950</td>\n      <td>114</td>\n      <td>5318</td>\n      <td>6382</td>\n    </tr>\n    <tr>\n      <th>99</th>\n      <th>FORA_PR</th>\n      <td>3267</td>\n      <td>117</td>\n      <td>1950</td>\n      <td>5334</td>\n    </tr>\n    <tr>\n      <th>TOTAL</th>\n      <th>GERAL</th>\n      <td>228802</td>\n      <td>15750</td>\n      <td>579492</td>\n      <td>824044</td>\n    </tr>\n  </tbody>\n</table>\n</div>"
     },
     "metadata": {},
     "execution_count": 36
    }
   ],
   "source": [
    "totais_rs = casosc.groupby(['rs','nm_reg','evolucao'])[['ordem']].count()\n",
    "totais_rs = totais_rs.unstack().droplevel(0,1)\n",
    "totais_rs['TOTAL_CASOS'] = totais_rs.sum(1)\n",
    "totais_rs.append(pd.Series(totais_rs.sum(0),name=('TOTAL','GERAL')))"
   ]
  },
  {
   "cell_type": "code",
   "execution_count": 23,
   "metadata": {},
   "outputs": [
    {
     "output_type": "execute_result",
     "data": {
      "text/plain": [
       "                                            ordem                  TOTAL_CASOS\n",
       "evolucao                                    ATIVO OBITO RECUPERADO            \n",
       "rs nm_macro ibge_resid mun_resid                                              \n",
       "1  LESTE    410120     ANTONINA               140    44       1514        1698\n",
       "            410950     GUARAQUECABA            42     8        271         321\n",
       "            410960     GUARATUBA              913   106       2635        3654\n",
       "            411570     MATINHOS               185    57       1716        1958\n",
       "            411620     MORRETES               254    31       1177        1462\n",
       "...                                           ...   ...        ...         ...\n",
       "22 NORTE    412265     ROSARIO DO IVAI         32     2        178         212\n",
       "            412385     SANTA MARIA DO OESTE   116    12        299         427\n",
       "            412500     SAO JOAO DO IVAI        26     9        523         558\n",
       "99 FORA_PR  410480     Fora do Paraná           0     1          0           1\n",
       "            999999     Fora do Paraná        3267   116       1950        5333\n",
       "\n",
       "[403 rows x 4 columns]"
      ],
      "text/html": "<div>\n<style scoped>\n    .dataframe tbody tr th:only-of-type {\n        vertical-align: middle;\n    }\n\n    .dataframe tbody tr th {\n        vertical-align: top;\n    }\n\n    .dataframe thead tr th {\n        text-align: left;\n    }\n\n    .dataframe thead tr:last-of-type th {\n        text-align: right;\n    }\n</style>\n<table border=\"1\" class=\"dataframe\">\n  <thead>\n    <tr>\n      <th></th>\n      <th></th>\n      <th></th>\n      <th></th>\n      <th colspan=\"3\" halign=\"left\">ordem</th>\n      <th>TOTAL_CASOS</th>\n    </tr>\n    <tr>\n      <th></th>\n      <th></th>\n      <th></th>\n      <th>evolucao</th>\n      <th>ATIVO</th>\n      <th>OBITO</th>\n      <th>RECUPERADO</th>\n      <th></th>\n    </tr>\n    <tr>\n      <th>rs</th>\n      <th>nm_macro</th>\n      <th>ibge_resid</th>\n      <th>mun_resid</th>\n      <th></th>\n      <th></th>\n      <th></th>\n      <th></th>\n    </tr>\n  </thead>\n  <tbody>\n    <tr>\n      <th rowspan=\"5\" valign=\"top\">1</th>\n      <th rowspan=\"5\" valign=\"top\">LESTE</th>\n      <th>410120</th>\n      <th>ANTONINA</th>\n      <td>140</td>\n      <td>44</td>\n      <td>1514</td>\n      <td>1698</td>\n    </tr>\n    <tr>\n      <th>410950</th>\n      <th>GUARAQUECABA</th>\n      <td>42</td>\n      <td>8</td>\n      <td>271</td>\n      <td>321</td>\n    </tr>\n    <tr>\n      <th>410960</th>\n      <th>GUARATUBA</th>\n      <td>913</td>\n      <td>106</td>\n      <td>2635</td>\n      <td>3654</td>\n    </tr>\n    <tr>\n      <th>411570</th>\n      <th>MATINHOS</th>\n      <td>185</td>\n      <td>57</td>\n      <td>1716</td>\n      <td>1958</td>\n    </tr>\n    <tr>\n      <th>411620</th>\n      <th>MORRETES</th>\n      <td>254</td>\n      <td>31</td>\n      <td>1177</td>\n      <td>1462</td>\n    </tr>\n    <tr>\n      <th>...</th>\n      <th>...</th>\n      <th>...</th>\n      <th>...</th>\n      <td>...</td>\n      <td>...</td>\n      <td>...</td>\n      <td>...</td>\n    </tr>\n    <tr>\n      <th rowspan=\"3\" valign=\"top\">22</th>\n      <th rowspan=\"3\" valign=\"top\">NORTE</th>\n      <th>412265</th>\n      <th>ROSARIO DO IVAI</th>\n      <td>32</td>\n      <td>2</td>\n      <td>178</td>\n      <td>212</td>\n    </tr>\n    <tr>\n      <th>412385</th>\n      <th>SANTA MARIA DO OESTE</th>\n      <td>116</td>\n      <td>12</td>\n      <td>299</td>\n      <td>427</td>\n    </tr>\n    <tr>\n      <th>412500</th>\n      <th>SAO JOAO DO IVAI</th>\n      <td>26</td>\n      <td>9</td>\n      <td>523</td>\n      <td>558</td>\n    </tr>\n    <tr>\n      <th rowspan=\"2\" valign=\"top\">99</th>\n      <th rowspan=\"2\" valign=\"top\">FORA_PR</th>\n      <th>410480</th>\n      <th>Fora do Paraná</th>\n      <td>0</td>\n      <td>1</td>\n      <td>0</td>\n      <td>1</td>\n    </tr>\n    <tr>\n      <th>999999</th>\n      <th>Fora do Paraná</th>\n      <td>3267</td>\n      <td>116</td>\n      <td>1950</td>\n      <td>5333</td>\n    </tr>\n  </tbody>\n</table>\n<p>403 rows × 4 columns</p>\n</div>"
     },
     "metadata": {},
     "execution_count": 23
    }
   ],
   "source": [
    "aux = casosc.copy()\n",
    "aux.loc[aux['rs']==99,'mun_resid'] = 'Fora do Paraná'\n",
    "totais_mun = aux.groupby(['rs','nm_macro','ibge_resid','mun_resid','evolucao'])[['ordem']].count()\n",
    "totais_mun = totais_mun.unstack()\n",
    "totais_mun['TOTAL_CASOS'] = totais_mun.sum(1)\n",
    "totais_mun.append(pd.Series(totais_mun.sum(0),name='TOTAL_GERAL'))\n",
    "totais_mun = totais_mun.fillna(0).astype(int)\n",
    "totais_mun"
   ]
  },
  {
   "cell_type": "code",
   "execution_count": 45,
   "metadata": {},
   "outputs": [
    {
     "output_type": "execute_result",
     "data": {
      "text/plain": [
       "       nm_macro   ordem  ibge_resid  ibge_atend                  paciente  \\\n",
       "626814  FORA_PR  626815      410480      410480  ONILSON CANDIDO DE JESUS   \n",
       "\n",
       "       sexo  idade  rs   nm_reg mun_resid mun_atend         laboratorio  \\\n",
       "626814    M     63  99  FORA_PR  CASCAVEL  CASCAVEL  VIRUS RESPIRATORIO   \n",
       "\n",
       "       data_diagnostico data_comunicacao data_1o_sintomas evolucao  \\\n",
       "626814       2021-02-22       2021-02-24       2021-02-11    OBITO   \n",
       "\n",
       "       data_evolucao data_com_evolucao  \n",
       "626814    2021-03-02        2021-03-14  "
      ],
      "text/html": "<div>\n<style scoped>\n    .dataframe tbody tr th:only-of-type {\n        vertical-align: middle;\n    }\n\n    .dataframe tbody tr th {\n        vertical-align: top;\n    }\n\n    .dataframe thead th {\n        text-align: right;\n    }\n</style>\n<table border=\"1\" class=\"dataframe\">\n  <thead>\n    <tr style=\"text-align: right;\">\n      <th></th>\n      <th>nm_macro</th>\n      <th>ordem</th>\n      <th>ibge_resid</th>\n      <th>ibge_atend</th>\n      <th>paciente</th>\n      <th>sexo</th>\n      <th>idade</th>\n      <th>rs</th>\n      <th>nm_reg</th>\n      <th>mun_resid</th>\n      <th>mun_atend</th>\n      <th>laboratorio</th>\n      <th>data_diagnostico</th>\n      <th>data_comunicacao</th>\n      <th>data_1o_sintomas</th>\n      <th>evolucao</th>\n      <th>data_evolucao</th>\n      <th>data_com_evolucao</th>\n    </tr>\n  </thead>\n  <tbody>\n    <tr>\n      <th>626814</th>\n      <td>FORA_PR</td>\n      <td>626815</td>\n      <td>410480</td>\n      <td>410480</td>\n      <td>ONILSON CANDIDO DE JESUS</td>\n      <td>M</td>\n      <td>63</td>\n      <td>99</td>\n      <td>FORA_PR</td>\n      <td>CASCAVEL</td>\n      <td>CASCAVEL</td>\n      <td>VIRUS RESPIRATORIO</td>\n      <td>2021-02-22</td>\n      <td>2021-02-24</td>\n      <td>2021-02-11</td>\n      <td>OBITO</td>\n      <td>2021-03-02</td>\n      <td>2021-03-14</td>\n    </tr>\n  </tbody>\n</table>\n</div>"
     },
     "metadata": {},
     "execution_count": 45
    }
   ],
   "source": [
    "casosc.loc[(casosc['nm_macro']=='FORA_PR') & (casosc['ibge_resid']==410480)]"
   ]
  },
  {
   "source": [
    "exit\n",
    "writer = pd.ExcelWriter(join(output,\"casos_confirmados.xlsx\"),\n",
    "                        engine='xlsxwriter',\n",
    "                        datetime_format='dd/mm/yyyy',\n",
    "                        date_format='dd/mm/yyyy')\n",
    "\n",
    "for macro, macro_df in casosc.groupby('nm_macro'):\n",
    "    macro_df['ordem'] = [ i for i in range(1,len(macro_df)+1)]\n",
    "    macro_df['cross_idx'] = [ f\"{macro}{i}\" for i in range(1,len(macro_df)+1)]\n",
    "    macro_df = macro_df[['ordem','cross_idx','ibge_resid', 'ibge_atend', 'paciente', 'sexo', 'idade', 'rs', 'mun_resid', 'mun_atend', 'laboratorio', 'data_diagnostico', 'data_comunicacao', 'data_1o_sintomas', 'evolucao', 'data_evolucao', 'data_com_evolucao']].sort_values('ordem')\n",
    "    del macro_df['ordem']\n",
    "    macro_df.to_excel(writer,macro,index=None)\n",
    "    worksheet = writer.sheets[macro]\n",
    "    auto_fit_columns(worksheet,macro_df)\n",
    "\n",
    "writer.save()"
   ],
   "cell_type": "code",
   "metadata": {},
   "execution_count": 24,
   "outputs": [
    {
     "output_type": "error",
     "ename": "SystemExit",
     "evalue": "",
     "traceback": [
      "An exception has occurred, use %tb to see the full traceback.\n",
      "\u001b[1;31mSystemExit\u001b[0m\n"
     ]
    }
   ]
  },
  {
   "cell_type": "code",
   "execution_count": null,
   "metadata": {},
   "outputs": [],
   "source": [
    "exit()\n",
    "obitosc = casosc.loc[casosc['evolucao']=='OBITO']"
   ]
  },
  {
   "cell_type": "code",
   "execution_count": null,
   "metadata": {},
   "outputs": [],
   "source": [
    "writer = pd.ExcelWriter(join(output,\"obitos_confirmados.xlsx\"),\n",
    "                        engine='xlsxwriter',\n",
    "                        datetime_format='dd/mm/yyyy',\n",
    "                        date_format='dd/mm/yyyy')\n",
    "\n",
    "for macro, df in obitosc.groupby('macro'):\n",
    "# casosc.to_excel(writer,'geral',index=None)\n",
    "# worksheet = writer.sheets[f\"geral\"]\n",
    "# auto_fit_columns(worksheet,casosc)\n",
    "\n",
    "writer.save()\n",
    "writer.close()"
   ]
  }
 ]
}