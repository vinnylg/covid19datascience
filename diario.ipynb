{
 "cells": [
  {
   "cell_type": "code",
   "execution_count": 1,
   "metadata": {},
   "outputs": [
    {
     "output_type": "execute_result",
     "data": {
      "text/plain": [
       "                                      cpf                          hash_mae  \\\n",
       "0        156840c44f2871458ade11eb45dea0d5  e8e96a3f93b5802d42d9323dfaceb0d1   \n",
       "1        96bd4f414b1bf43282ffe5ad9707251d  a08d7bc306cfc856f13dce5480e55113   \n",
       "2                                    None  e1214e7159c04e8df61ff54374d1105d   \n",
       "3        e778c2f3cf48a533008a7c24aef7437a  1a0a18ddd0161a26cd7caf7dee8cff59   \n",
       "4        7506a271a9517227b7bf2f3c9058c2f4  a5dbfc9c27a8f630361e96b857295898   \n",
       "...                                   ...                               ...   \n",
       "2724497  deb96f8afbd876a178d566f6febf7d92  a6bfd1d7ebdcdb49b7d0f3fc63c30dfa   \n",
       "2724498  dfbfb8c66dcebf7a298b599be42616e0  cafa7beb2d5948e2dbf86b7fdb83b9bc   \n",
       "2724499  8c8dd66a2fb83c28a93d99630dbd02df  5740691120bb222c4a959e4bfa26ae30   \n",
       "2724500  dec7b6cf56236fdb7235a1d0f6226eda  f248859b5682651f78d1b5ffb2f092f3   \n",
       "2724501  2041ca24db20f614c9ab4c46f144975e  f1a766ef41bc44b9a2f5f614d074d9c6   \n",
       "\n",
       "                                hash_nasc                        hash_resid  \\\n",
       "0        c9bf047bcdbed26fc18110030eed5c6d  23b05941ca04f840553df447415f31f0   \n",
       "1        699f4c997766b34eacbd1d5a88400e71  c09c31cc743bcf815a4d42c565f45ea4   \n",
       "2        50ac3db9461b88c734360d702efc0438  3c53719c756408bd95927865108b4e7d   \n",
       "3        a4ff76eae04ed1d41eb6f07a881be851  5b652ed56ac7b3692733c2925c4995e9   \n",
       "4        e0d83e72711a8643c7decdbff39be573  abf02632ee337cba26241007fa4d5227   \n",
       "...                                   ...                               ...   \n",
       "2724497  4b31b17eef48b954afd6aed954dd72df  5a08951a52c10e19ccfb26e2d4148c54   \n",
       "2724498  ce8618b67251bf6eb5b36ab90a4f1ae0  862b985d30493169f8103b544acbb257   \n",
       "2724499  be9447b104a8e6d3362074bc63adf637  51758fdf390fe6cb6a283a3d4136cdd6   \n",
       "2724500  0b03aca4c358a723a029da2eaf06db1d  e86e83b0059f22b0df7109e118ba4eb5   \n",
       "2724501  1378980f8096330aa5f07f63613e59b0  b68287c06a3c7fcc2bc3377b42a63802   \n",
       "\n",
       "                               hash_atend  \n",
       "0        cc0e0c6f508c409871d5e40ada7e5e8f  \n",
       "1        b5f21272a78d0b7f3bc7347d23c50131  \n",
       "2        6bc547232deb98cb8229b02843742310  \n",
       "3        f751fa349b33a2e14efa05eb4cde5135  \n",
       "4        e4f9d9baadb5f9a0af2a232963fc3beb  \n",
       "...                                   ...  \n",
       "2724497  5a08951a52c10e19ccfb26e2d4148c54  \n",
       "2724498  862b985d30493169f8103b544acbb257  \n",
       "2724499  51758fdf390fe6cb6a283a3d4136cdd6  \n",
       "2724500  e86e83b0059f22b0df7109e118ba4eb5  \n",
       "2724501  b68287c06a3c7fcc2bc3377b42a63802  \n",
       "\n",
       "[2724502 rows x 5 columns]"
      ],
      "text/html": "<div>\n<style scoped>\n    .dataframe tbody tr th:only-of-type {\n        vertical-align: middle;\n    }\n\n    .dataframe tbody tr th {\n        vertical-align: top;\n    }\n\n    .dataframe thead th {\n        text-align: right;\n    }\n</style>\n<table border=\"1\" class=\"dataframe\">\n  <thead>\n    <tr style=\"text-align: right;\">\n      <th></th>\n      <th>cpf</th>\n      <th>hash_mae</th>\n      <th>hash_nasc</th>\n      <th>hash_resid</th>\n      <th>hash_atend</th>\n    </tr>\n  </thead>\n  <tbody>\n    <tr>\n      <th>0</th>\n      <td>156840c44f2871458ade11eb45dea0d5</td>\n      <td>e8e96a3f93b5802d42d9323dfaceb0d1</td>\n      <td>c9bf047bcdbed26fc18110030eed5c6d</td>\n      <td>23b05941ca04f840553df447415f31f0</td>\n      <td>cc0e0c6f508c409871d5e40ada7e5e8f</td>\n    </tr>\n    <tr>\n      <th>1</th>\n      <td>96bd4f414b1bf43282ffe5ad9707251d</td>\n      <td>a08d7bc306cfc856f13dce5480e55113</td>\n      <td>699f4c997766b34eacbd1d5a88400e71</td>\n      <td>c09c31cc743bcf815a4d42c565f45ea4</td>\n      <td>b5f21272a78d0b7f3bc7347d23c50131</td>\n    </tr>\n    <tr>\n      <th>2</th>\n      <td>None</td>\n      <td>e1214e7159c04e8df61ff54374d1105d</td>\n      <td>50ac3db9461b88c734360d702efc0438</td>\n      <td>3c53719c756408bd95927865108b4e7d</td>\n      <td>6bc547232deb98cb8229b02843742310</td>\n    </tr>\n    <tr>\n      <th>3</th>\n      <td>e778c2f3cf48a533008a7c24aef7437a</td>\n      <td>1a0a18ddd0161a26cd7caf7dee8cff59</td>\n      <td>a4ff76eae04ed1d41eb6f07a881be851</td>\n      <td>5b652ed56ac7b3692733c2925c4995e9</td>\n      <td>f751fa349b33a2e14efa05eb4cde5135</td>\n    </tr>\n    <tr>\n      <th>4</th>\n      <td>7506a271a9517227b7bf2f3c9058c2f4</td>\n      <td>a5dbfc9c27a8f630361e96b857295898</td>\n      <td>e0d83e72711a8643c7decdbff39be573</td>\n      <td>abf02632ee337cba26241007fa4d5227</td>\n      <td>e4f9d9baadb5f9a0af2a232963fc3beb</td>\n    </tr>\n    <tr>\n      <th>...</th>\n      <td>...</td>\n      <td>...</td>\n      <td>...</td>\n      <td>...</td>\n      <td>...</td>\n    </tr>\n    <tr>\n      <th>2724497</th>\n      <td>deb96f8afbd876a178d566f6febf7d92</td>\n      <td>a6bfd1d7ebdcdb49b7d0f3fc63c30dfa</td>\n      <td>4b31b17eef48b954afd6aed954dd72df</td>\n      <td>5a08951a52c10e19ccfb26e2d4148c54</td>\n      <td>5a08951a52c10e19ccfb26e2d4148c54</td>\n    </tr>\n    <tr>\n      <th>2724498</th>\n      <td>dfbfb8c66dcebf7a298b599be42616e0</td>\n      <td>cafa7beb2d5948e2dbf86b7fdb83b9bc</td>\n      <td>ce8618b67251bf6eb5b36ab90a4f1ae0</td>\n      <td>862b985d30493169f8103b544acbb257</td>\n      <td>862b985d30493169f8103b544acbb257</td>\n    </tr>\n    <tr>\n      <th>2724499</th>\n      <td>8c8dd66a2fb83c28a93d99630dbd02df</td>\n      <td>5740691120bb222c4a959e4bfa26ae30</td>\n      <td>be9447b104a8e6d3362074bc63adf637</td>\n      <td>51758fdf390fe6cb6a283a3d4136cdd6</td>\n      <td>51758fdf390fe6cb6a283a3d4136cdd6</td>\n    </tr>\n    <tr>\n      <th>2724500</th>\n      <td>dec7b6cf56236fdb7235a1d0f6226eda</td>\n      <td>f248859b5682651f78d1b5ffb2f092f3</td>\n      <td>0b03aca4c358a723a029da2eaf06db1d</td>\n      <td>e86e83b0059f22b0df7109e118ba4eb5</td>\n      <td>e86e83b0059f22b0df7109e118ba4eb5</td>\n    </tr>\n    <tr>\n      <th>2724501</th>\n      <td>2041ca24db20f614c9ab4c46f144975e</td>\n      <td>f1a766ef41bc44b9a2f5f614d074d9c6</td>\n      <td>1378980f8096330aa5f07f63613e59b0</td>\n      <td>b68287c06a3c7fcc2bc3377b42a63802</td>\n      <td>b68287c06a3c7fcc2bc3377b42a63802</td>\n    </tr>\n  </tbody>\n</table>\n<p>2724502 rows × 5 columns</p>\n</div>"
     },
     "metadata": {},
     "execution_count": 1
    }
   ],
   "source": [
    "import numpy as np\n",
    "import pandas as pd\n",
    "from tqdm import trange\n",
    "from hashlib import md5\n",
    "\n",
    "from bulletin.data.notifica import Notifica\n",
    "\n",
    "notifica = Notifica()\n",
    "notifica.load()\n",
    "\n",
    "notificacoes = notifica.get_casos()\n",
    "# notificacoes = notificacoes.loc[(notificacoes['mun_resid']=='CURITIBA') & (notificacoes['classificacao_final']==2)]\n",
    "\n",
    "notificacoes = notificacoes[['cpf','hash_mae','hash_nasc','hash_resid','hash_atend']]\n",
    "notificacoes = notificacoes.where(pd.notnull(notificacoes), None)\n",
    "\n",
    "parser = lambda x: md5(str.encode(x)).hexdigest() if (x != None) else None\n",
    "\n",
    "# notificacoes['cpf'] = notificacoes['cpf'].apply(parser)\n",
    "notificacoes['hash_mae'] = notificacoes['hash_mae'].apply(parser)\n",
    "notificacoes['hash_nasc'] = notificacoes['hash_nasc'].apply(parser)\n",
    "notificacoes['hash_resid'] = notificacoes['hash_resid'].apply(parser)\n",
    "notificacoes['hash_atend'] = notificacoes['hash_atend'].apply(parser)\n",
    "notificacoes"
   ]
  },
  {
   "cell_type": "code",
   "execution_count": 2,
   "metadata": {},
   "outputs": [
    {
     "output_type": "stream",
     "name": "stdout",
     "text": [
      "2724502 notificações\n"
     ]
    }
   ],
   "source": [
    "notificacoes = notificacoes.values\n",
    "notificacoes = [ list(set(filter(lambda x: x != None, notificacao))) for notificacao in notificacoes ]\n",
    "print(f\"{len(notificacoes)} notificações\")"
   ]
  },
  {
   "cell_type": "code",
   "execution_count": 3,
   "metadata": {},
   "outputs": [],
   "source": [
    "with open('data.txt','w') as out:\n",
    "    for n in notificacoes:\n",
    "        for h in n:\n",
    "            out.write(f\"{h}{' ' if h != n[-1] else ''}\")\n",
    "        out.write('\\n')"
   ]
  },
  {
   "cell_type": "code",
   "execution_count": null,
   "metadata": {},
   "outputs": [],
   "source": []
  }
 ],
 "metadata": {
  "kernelspec": {
   "display_name": "Python 3",
   "language": "python",
   "name": "python3"
  },
  "language_info": {
   "codemirror_mode": {
    "name": "ipython",
    "version": 3
   },
   "file_extension": ".py",
   "mimetype": "text/x-python",
   "name": "python",
   "nbconvert_exporter": "python",
   "pygments_lexer": "ipython3",
   "version": "3.8.5-final"
  }
 },
 "nbformat": 4,
 "nbformat_minor": 4
}