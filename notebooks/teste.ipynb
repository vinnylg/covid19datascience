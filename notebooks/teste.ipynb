{
 "cells": [
  {
   "cell_type": "code",
   "execution_count": null,
   "id": "b5cb22ea",
   "metadata": {},
   "outputs": [],
   "source": [
    "## set covid19_datasciente as path for python find bulletin package\n",
    "import sys\n",
    "from pathlib import Path\n",
    "from os import getcwd, remove, chdir\n",
    "from os.path import join, basename\n",
    "\n",
    "sys.path.append(str(Path(getcwd()).parent))\n",
    "current_dir = getcwd()\n",
    "print(current_dir)\n",
    "\n",
    "from bulletin.systems import Notifica"
   ]
  },
  {
   "cell_type": "code",
   "execution_count": null,
   "id": "b953e518",
   "metadata": {},
   "outputs": [],
   "source": [
    "nt = Notifica('notifica')\n",
    "nt.load(compress=False)"
   ]
  },
  {
   "cell_type": "code",
   "execution_count": null,
   "id": "da308b99",
   "metadata": {},
   "outputs": [],
   "source": [
    "nt.df.loc[nt.df['ibge_residencia']]"
   ]
  }
 ],
 "metadata": {
  "kernelspec": {
   "display_name": "Python 3 (ipykernel)",
   "language": "python",
   "name": "python3"
  },
  "language_info": {
   "codemirror_mode": {
    "name": "ipython",
    "version": 3
   },
   "file_extension": ".py",
   "mimetype": "text/x-python",
   "name": "python",
   "nbconvert_exporter": "python",
   "pygments_lexer": "ipython3",
   "version": "3.8.11"
  }
 },
 "nbformat": 4,
 "nbformat_minor": 5
}
