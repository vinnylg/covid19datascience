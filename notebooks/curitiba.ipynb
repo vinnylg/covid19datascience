{
 "cells": [
  {
   "cell_type": "code",
   "execution_count": null,
   "id": "087199d2",
   "metadata": {},
   "outputs": [],
   "source": [
    "## set covid19_datasciente as path for python find bulletin package\n",
    "import sys\n",
    "from pathlib import Path\n",
    "from os import getcwd, remove, chdir\n",
    "from os.path import join, basename\n",
    "\n",
    "sys.path.append(str(Path(getcwd()).parent))\n",
    "current_dir = getcwd()\n",
    "print(current_dir)"
   ]
  },
  {
   "cell_type": "code",
   "execution_count": null,
   "id": "67d37e31",
   "metadata": {},
   "outputs": [],
   "source": [
    "from bulletin.systems import Notifica"
   ]
  },
  {
   "cell_type": "code",
   "execution_count": null,
   "id": "264ba910",
   "metadata": {},
   "outputs": [],
   "source": [
    "nt = Notifica()\n",
    "nt.load('notifica', False)\n",
    "nt.df.shape"
   ]
  },
  {
   "cell_type": "code",
   "execution_count": null,
   "id": "a2d9e486",
   "metadata": {},
   "outputs": [],
   "source": [
    "curitiba = nt.df.loc[nt.df['ibge_residencia']==410690].copy()\n",
    "curitiba.shape"
   ]
  },
  {
   "cell_type": "code",
   "execution_count": null,
   "id": "4c4353bb",
   "metadata": {},
   "outputs": [],
   "source": [
    "curitiba.groupby(['classificacao_final'])[['id']].count().rename(index=nt.tables['classificacao_final'].set_index('id')['classificacao_final'])"
   ]
  },
  {
   "cell_type": "code",
   "execution_count": null,
   "id": "0a992c7a",
   "metadata": {},
   "outputs": [],
   "source": [
    "curitiba['status'] = 0\n",
    "curitiba.loc[curitiba['status_notificacao'].isin([1,2]),'status'] = 1\n",
    "\n",
    "curitiba.groupby(['status','classificacao_final'])[['id']].count().rename(index=nt.tables['classificacao_final'].set_index('id')['classificacao_final'],level='classificacao_final').rename(index={0:'Inativa/Duplicada',1:'Aberta/Encerrada'},level='status')"
   ]
  },
  {
   "cell_type": "code",
   "execution_count": null,
   "id": "5b4654d4",
   "metadata": {},
   "outputs": [],
   "source": [
    "curitiba.groupby(['status','excluir_ficha','classificacao_final'])[['id']].count().rename(index=nt.tables['classificacao_final'].set_index('id')['classificacao_final'],level='classificacao_final').rename(index=nt.tables['sim_nao'].set_index('id')['sim_nao'],level='excluir_ficha').rename(index={0:'Inativa/Duplicada',1:'Aberta/Encerrada'},level='status')"
   ]
  },
  {
   "cell_type": "code",
   "execution_count": null,
   "id": "70a541f4",
   "metadata": {},
   "outputs": [],
   "source": [
    "curitiba.loc[curitiba['reinfeccao'].isna(),'reinfeccao'] = False\n",
    "curitiba.loc[(curitiba['status']==1) & (curitiba['excluir_ficha']==2) & (curitiba['classificacao_final']==2)].groupby(['reinfeccao'])[['id']].count().rename(columns={'id':'casos confirmados'})"
   ]
  }
 ],
 "metadata": {
  "kernelspec": {
   "display_name": "Python 3 (ipykernel)",
   "language": "python",
   "name": "python3"
  },
  "language_info": {
   "codemirror_mode": {
    "name": "ipython",
    "version": 3
   },
   "file_extension": ".py",
   "mimetype": "text/x-python",
   "name": "python",
   "nbconvert_exporter": "python",
   "pygments_lexer": "ipython3",
   "version": "3.8.11"
  }
 },
 "nbformat": 4,
 "nbformat_minor": 5
}
