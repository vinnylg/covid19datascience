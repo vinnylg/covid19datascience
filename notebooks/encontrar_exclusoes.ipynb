{
 "cells": [
  {
   "cell_type": "code",
   "execution_count": 1,
   "metadata": {},
   "outputs": [
    {
     "name": "stdout",
     "output_type": "stream",
     "text": [
      "['c:\\\\SESA\\\\dev\\\\notebooks', 'c:\\\\Users\\\\est.joaosilva\\\\.vscode\\\\extensions\\\\ms-toolsai.jupyter-2021.2.576440691\\\\pythonFiles\\\\vscode_datascience_helpers\\\\..\\\\.does-not-exist', 'c:\\\\Users\\\\est.joaosilva\\\\.vscode\\\\extensions\\\\ms-toolsai.jupyter-2021.2.576440691\\\\pythonFiles', 'c:\\\\Users\\\\est.joaosilva\\\\.vscode\\\\extensions\\\\ms-toolsai.jupyter-2021.2.576440691\\\\pythonFiles\\\\lib\\\\python', 'C:\\\\ProgramData\\\\Anaconda3\\\\python38.zip', 'C:\\\\ProgramData\\\\Anaconda3\\\\DLLs', 'C:\\\\ProgramData\\\\Anaconda3\\\\lib', 'C:\\\\ProgramData\\\\Anaconda3', '', 'C:\\\\ProgramData\\\\Anaconda3\\\\lib\\\\site-packages', 'C:\\\\ProgramData\\\\Anaconda3\\\\lib\\\\site-packages\\\\win32', 'C:\\\\ProgramData\\\\Anaconda3\\\\lib\\\\site-packages\\\\win32\\\\lib', 'C:\\\\ProgramData\\\\Anaconda3\\\\lib\\\\site-packages\\\\Pythonwin', 'C:\\\\ProgramData\\\\Anaconda3\\\\lib\\\\site-packages\\\\IPython\\\\extensions', 'C:\\\\Users\\\\est.joaosilva\\\\.ipython', 'c:\\\\SESA\\\\dev']\n"
     ]
    }
   ],
   "source": [
    "import sys\n",
    "from pathlib import Path\n",
    "from os import getcwd\n",
    "\n",
    "from datetime import date, timedelta\n",
    "\n",
    "sys.path.append(str(Path(getcwd()).parent))\n",
    "print(sys.path)"
   ]
  },
  {
   "cell_type": "code",
   "execution_count": 2,
   "metadata": {},
   "outputs": [],
   "source": [
    "from os.path import join\n",
    "import pandas as pd\n",
    "pd.set_option('display.max_columns', None)\n",
    "pd.set_option('display.max_rows', None)\n",
    "from sys import exit"
   ]
  },
  {
   "cell_type": "code",
   "execution_count": 3,
   "metadata": {},
   "outputs": [
    {
     "name": "stdout",
     "output_type": "stream",
     "text": [
      "\n",
      "---------------------------------------------------------------\n",
      "\n",
      "root: c:\\SESA\\dev\\bulletin\n",
      "parent: c:\\SESA\\dev\n",
      "default_input: c:\\SESA\\dev\\input\n",
      "default_output: c:\\SESA\\dev\\output\n",
      "\n",
      "---------------------------------------------------------------\n",
      "\n"
     ]
    }
   ],
   "source": [
    "from bulletin.systems.casos_confirmados import CasosConfirmados\n",
    "from bulletin.systems.tb_pacientes import TbPacientes\n",
    "from bulletin.utils.normalize import normalize_hash, normalize_labels, normalize_text, date_hash\n",
    "from bulletin.utils.static import Municipios\n",
    "from bulletin.utils.xls_ import fit_cols\n",
    "from bulletin import default_input, default_output"
   ]
  },
  {
   "cell_type": "code",
   "execution_count": 4,
   "metadata": {},
   "outputs": [],
   "source": [
    "municipios = Municipios()\n",
    "municipios['mun_resid'] = municipios['municipio'].apply(normalize_text)\n",
    "# municipios.loc[municipios['uf']!='PR','mun_resid'] = municipios.loc[municipios['uf']!='PR','municipio'].apply(normalize_text) + '/' + municipios['uf']"
   ]
  },
  {
   "cell_type": "code",
   "execution_count": 5,
   "metadata": {
    "tags": []
   },
   "outputs": [
    {
     "name": "stdout",
     "output_type": "stream",
     "text": [
      "casost len: 1156347\n",
      "\n",
      "casost len: 1156347\n",
      "\n"
     ]
    },
    {
     "data": {
      "text/html": [
       "<div>\n",
       "<style scoped>\n",
       "    .dataframe tbody tr th:only-of-type {\n",
       "        vertical-align: middle;\n",
       "    }\n",
       "\n",
       "    .dataframe tbody tr th {\n",
       "        vertical-align: top;\n",
       "    }\n",
       "\n",
       "    .dataframe thead th {\n",
       "        text-align: right;\n",
       "    }\n",
       "</style>\n",
       "<table border=\"1\" class=\"dataframe\">\n",
       "  <thead>\n",
       "    <tr style=\"text-align: right;\">\n",
       "      <th></th>\n",
       "      <th>sexo</th>\n",
       "    </tr>\n",
       "    <tr>\n",
       "      <th>obito</th>\n",
       "      <th></th>\n",
       "    </tr>\n",
       "  </thead>\n",
       "  <tbody>\n",
       "    <tr>\n",
       "      <th>NAO</th>\n",
       "      <td>1127799</td>\n",
       "    </tr>\n",
       "    <tr>\n",
       "      <th>SIM</th>\n",
       "      <td>28548</td>\n",
       "    </tr>\n",
       "  </tbody>\n",
       "</table>\n",
       "</div>"
      ],
      "text/plain": [
       "          sexo\n",
       "obito         \n",
       "NAO    1127799\n",
       "SIM      28548"
      ]
     },
     "execution_count": 5,
     "metadata": {},
     "output_type": "execute_result"
    }
   ],
   "source": [
    "# tb_pacientes = TbPacientes()\n",
    "# tb_pacientes.update()\n",
    "# casost = tb_pacientes.get()\n",
    "casost = pd.read_pickle('tb_pacientes.pkl')#tb_pacientes.get()\n",
    "casost['nome'] = casost['nome'].apply(lambda nome: ''.join(filter(lambda x: ('A' <= x <= 'Z') or ( x == ' '), nome)))\n",
    "casost = casost.sort_values(['dt_notificacao','nome','idade'])\n",
    "print(f\"casost len: {len(casost)}\\n\")\n",
    "casost.loc[casost['obito']=='Sim','obito'] = 'SIM'\n",
    "casost.loc[casost['obito']!='SIM','obito'] = 'NAO'\n",
    "# casost = casost.loc[casost['dt_notificacao'] <= '2021-05-27'].copy()\n",
    "print(f\"casost len: {len(casost)}\\n\")\n",
    "casost.groupby('obito')[['sexo']].count()"
   ]
  },
  {
   "cell_type": "code",
   "execution_count": 6,
   "metadata": {},
   "outputs": [
    {
     "data": {
      "text/html": [
       "<div>\n",
       "<style scoped>\n",
       "    .dataframe tbody tr th:only-of-type {\n",
       "        vertical-align: middle;\n",
       "    }\n",
       "\n",
       "    .dataframe tbody tr th {\n",
       "        vertical-align: top;\n",
       "    }\n",
       "\n",
       "    .dataframe thead th {\n",
       "        text-align: right;\n",
       "    }\n",
       "</style>\n",
       "<table border=\"1\" class=\"dataframe\">\n",
       "  <thead>\n",
       "    <tr style=\"text-align: right;\">\n",
       "      <th></th>\n",
       "      <th>sexo</th>\n",
       "    </tr>\n",
       "    <tr>\n",
       "      <th>status</th>\n",
       "      <th></th>\n",
       "    </tr>\n",
       "  </thead>\n",
       "  <tbody>\n",
       "    <tr>\n",
       "      <th>Recuperado</th>\n",
       "      <td>812456</td>\n",
       "    </tr>\n",
       "    <tr>\n",
       "      <th>recuperado</th>\n",
       "      <td>2</td>\n",
       "    </tr>\n",
       "  </tbody>\n",
       "</table>\n",
       "</div>"
      ],
      "text/plain": [
       "              sexo\n",
       "status            \n",
       "Recuperado  812456\n",
       "recuperado       2"
      ]
     },
     "execution_count": 6,
     "metadata": {},
     "output_type": "execute_result"
    }
   ],
   "source": [
    "casost.groupby('status')[['sexo']].count()"
   ]
  },
  {
   "cell_type": "code",
   "execution_count": 7,
   "metadata": {},
   "outputs": [
    {
     "data": {
      "text/plain": [
       "(250, 31)"
      ]
     },
     "execution_count": 7,
     "metadata": {},
     "output_type": "execute_result"
    }
   ],
   "source": [
    "exclusoes = pd.read_pickle(join(default_output,'exclusoes.pkl'))\n",
    "exclusoes = exclusoes.rename(columns={'identificacao':'id', 'hash':'hash_com_ibge'})\n",
    "exclusoes.shape"
   ]
  },
  {
   "cell_type": "code",
   "execution_count": 8,
   "metadata": {},
   "outputs": [],
   "source": [
    "casost['hash_final'] = casost.apply(lambda row: normalize_hash(row['nome'])+str(row['idade'])+normalize_hash(row['mun_resid'])+date_hash(row['dt_notificacao']), axis=1)\n",
    "exclusoes['hash_final'] = exclusoes.apply(lambda row: normalize_hash(row['nome'])+str(row['idade'])+normalize_hash(row['mun_resid'])+date_hash(row['comunicacao']), axis=1)"
   ]
  },
  {
   "cell_type": "code",
   "execution_count": 9,
   "metadata": {},
   "outputs": [
    {
     "data": {
      "text/plain": [
       "(250, 33)"
      ]
     },
     "execution_count": 9,
     "metadata": {},
     "output_type": "execute_result"
    }
   ],
   "source": [
    "exclusoes = exclusoes.merge(how = 'left', on='hash_final', right = casost[['identificacao', 'hash_final']])\n",
    "exclusoes = exclusoes.rename(columns={'identificacao':'id_hash1'})\n",
    "exclusoes = exclusoes.drop_duplicates('hash_final')\n",
    "exclusoes.shape"
   ]
  },
  {
   "cell_type": "code",
   "execution_count": 10,
   "metadata": {},
   "outputs": [
    {
     "data": {
      "text/plain": [
       "(825, 35)"
      ]
     },
     "execution_count": 10,
     "metadata": {},
     "output_type": "execute_result"
    }
   ],
   "source": [
    "exclusoes['hash'] = exclusoes.apply(lambda row: normalize_hash(row['nome'])+str(row['idade'])+normalize_hash(row['mun_resid']), axis=1)\n",
    "exclusoes = exclusoes.merge(how = 'left', on='hash', right = casost[['identificacao', 'hash']])\n",
    "exclusoes = exclusoes.rename(columns={'identificacao':'id_hash2'})\n",
    "exclusoes.shape"
   ]
  },
  {
   "cell_type": "code",
   "execution_count": 11,
   "metadata": {},
   "outputs": [],
   "source": [
    "exclusoes.loc[exclusoes['id_hash1'].isnull(), 'identificacao'] = exclusoes.loc[exclusoes['id_hash1'].isnull(), 'id_hash2']\n",
    "exclusoes.loc[exclusoes['identificacao'].isnull(), 'identificacao'] = exclusoes.loc[exclusoes['id_hash2'].isnull(), 'id_hash1']\n",
    "exclusoes.loc[exclusoes['identificacao'].isnull(), 'identificacao'] = exclusoes.loc[exclusoes['identificacao'].isnull(), 'id_hash1']"
   ]
  },
  {
   "cell_type": "code",
   "execution_count": 12,
   "metadata": {},
   "outputs": [],
   "source": [
    "exclusoes = exclusoes.drop_duplicates(['hash', 'hash_final'])"
   ]
  },
  {
   "cell_type": "code",
   "execution_count": 25,
   "metadata": {},
   "outputs": [
    {
     "data": {
      "text/plain": [
       "(250, 36)"
      ]
     },
     "execution_count": 25,
     "metadata": {},
     "output_type": "execute_result"
    }
   ],
   "source": [
    "exclusoes.drop(index = exclusoes.loc[exclusoes['identificacao'].isnull()].index).shape"
   ]
  },
  {
   "cell_type": "code",
   "execution_count": 26,
   "metadata": {},
   "outputs": [],
   "source": [
    "#exclusoes = exclusoes.drop(index = exclusoes.loc[exclusoes['identificacao'].isnull()].index)"
   ]
  },
  {
   "cell_type": "code",
   "execution_count": 27,
   "metadata": {},
   "outputs": [],
   "source": [
    "exclusoes[['identificacao']].to_excel(f\"exclusoes_{date.today().day}_{date.today().month}.xlsx\")"
   ]
  }
 ],
 "metadata": {
  "kernelspec": {
   "display_name": "Python 3",
   "language": "python",
   "name": "python3"
  },
  "language_info": {
   "codemirror_mode": {
    "name": "ipython",
    "version": 3
   },
   "file_extension": ".py",
   "mimetype": "text/x-python",
   "name": "python",
   "nbconvert_exporter": "python",
   "pygments_lexer": "ipython3",
   "version": "3.8.5"
  },
  "toc-autonumbering": false,
  "toc-showcode": true,
  "toc-showmarkdowntxt": false,
  "toc-showtags": false
 },
 "nbformat": 4,
 "nbformat_minor": 4
}
