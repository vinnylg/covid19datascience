{
 "cells": [
  {
   "cell_type": "code",
   "execution_count": null,
   "metadata": {
    "execution": {
     "iopub.execute_input": "2021-12-20T18:42:12.996416Z",
     "iopub.status.busy": "2021-12-20T18:42:12.995420Z",
     "iopub.status.idle": "2021-12-20T18:42:13.013491Z",
     "shell.execute_reply": "2021-12-20T18:42:13.012414Z",
     "shell.execute_reply.started": "2021-12-20T18:42:12.995420Z"
    }
   },
   "outputs": [],
   "source": [
    "## set covid19_datasciente as path for python find bulletin package\n",
    "import sys\n",
    "from pathlib import Path\n",
    "from os import getcwd\n",
    "from os.path import join, basename\n",
    "\n",
    "sys.path.append(str(Path(getcwd()).parent))\n",
    "current_dir = getcwd()\n",
    "print(current_dir)"
   ]
  },
  {
   "cell_type": "code",
   "execution_count": null,
   "metadata": {
    "execution": {
     "iopub.execute_input": "2021-12-20T18:42:13.015416Z",
     "iopub.status.busy": "2021-12-20T18:42:13.015416Z",
     "iopub.status.idle": "2021-12-20T18:42:14.811323Z",
     "shell.execute_reply": "2021-12-20T18:42:14.810334Z",
     "shell.execute_reply.started": "2021-12-20T18:42:13.015416Z"
    }
   },
   "outputs": [],
   "source": [
    "import numpy as np\n",
    "import pandas as pd\n",
    "from unidecode import unidecode\n",
    "from bulletin import default_input, default_output\n",
    "from bulletin.utils.functions import load_with_progressbar, read_excel, create_occupation_table\n",
    "from bulletin.utils.static import Municipios\n",
    "from datetime import datetime, timedelta, date\n",
    "from os.path import dirname, join, isfile, isdir\n",
    "from bulletin.systems.casos_confirmados import CasosConfirmados\n",
    "\n",
    "import pyminizip as pz\n",
    "\n",
    "pd.set_option('display.max_columns', None)\n",
    "pd.set_option('display.max_rows', 50)"
   ]
  },
  {
   "cell_type": "code",
   "execution_count": null,
   "metadata": {
    "execution": {
     "iopub.execute_input": "2021-12-20T18:42:14.814321Z",
     "iopub.status.busy": "2021-12-20T18:42:14.814321Z",
     "iopub.status.idle": "2021-12-20T18:42:14.822323Z",
     "shell.execute_reply": "2021-12-20T18:42:14.822323Z",
     "shell.execute_reply.started": "2021-12-20T18:42:14.814321Z"
    }
   },
   "outputs": [],
   "source": [
    "def trim_overspace(string):\n",
    "    parts = filter(lambda part: len(part) > 0, string.split(\" \"))\n",
    "    return \" \".join(parts)\n",
    "\n",
    "def normalize_text(txt):\n",
    "    if not txt is None:\n",
    "        txt = txt.upper()\n",
    "        txt = unidecode(txt)\n",
    "        txt = trim_overspace(txt)\n",
    "        txt =  \"\".join([x if ('A' <= x <= 'Z') or (x in [' ','-','_','/','\\'']) else '' for x in txt])\n",
    "    else:\n",
    "        txt = ''\n",
    "    \n",
    "    return txt"
   ]
  },
  {
   "cell_type": "code",
   "execution_count": null,
   "metadata": {
    "execution": {
     "iopub.execute_input": "2021-12-20T18:42:14.824321Z",
     "iopub.status.busy": "2021-12-20T18:42:14.823322Z",
     "iopub.status.idle": "2021-12-20T18:42:14.839336Z",
     "shell.execute_reply": "2021-12-20T18:42:14.838362Z",
     "shell.execute_reply.started": "2021-12-20T18:42:14.824321Z"
    }
   },
   "outputs": [],
   "source": [
    "hoje = datetime.today()\n",
    "ontem = hoje - timedelta(1)\n",
    "anteontem = ontem - timedelta(1)"
   ]
  },
  {
   "cell_type": "code",
   "execution_count": null,
   "metadata": {
    "execution": {
     "iopub.execute_input": "2021-12-20T18:42:14.840319Z",
     "iopub.status.busy": "2021-12-20T18:42:14.840319Z",
     "iopub.status.idle": "2021-12-20T18:42:14.929340Z",
     "shell.execute_reply": "2021-12-20T18:42:14.928323Z",
     "shell.execute_reply.started": "2021-12-20T18:42:14.840319Z"
    }
   },
   "outputs": [],
   "source": [
    "municipios = Municipios()\n",
    "municipios['mun_resid'] = municipios['municipio'].apply(normalize_text)\n",
    "municipios.loc[municipios['uf']!='PR','mun_resid'] += '/' + municipios['uf']\n",
    "# municipios['rs_celepar'] = municipios['rs'].astype('str').str.zfill(2)\n",
    "# municipios.loc[municipios['uf']=='PR']"
   ]
  },
  {
   "cell_type": "code",
   "execution_count": null,
   "metadata": {
    "execution": {
     "iopub.execute_input": "2021-12-20T18:42:14.931325Z",
     "iopub.status.busy": "2021-12-20T18:42:14.930338Z",
     "iopub.status.idle": "2021-12-20T18:43:22.236684Z",
     "shell.execute_reply": "2021-12-20T18:43:22.236684Z",
     "shell.execute_reply.started": "2021-12-20T18:42:14.931325Z"
    }
   },
   "outputs": [],
   "source": [
    "cc = CasosConfirmados()\n",
    "cc.load(f\"cc_{hoje.strftime('%d_%m_%Y')}\")\n",
    "\n",
    "cc.replace('origem')\n",
    "\n",
    "df_casos = cc.df\n",
    "\n",
    "df_casos = pd.merge(df_casos.rename(columns={'ibge_residencia':'ibge'}),municipios[['ibge','rs','mun_resid','uf','municipio']],on='ibge',how='left').rename(columns={'ibge':'ibge_residencia'})\n",
    "df_casos = pd.merge(df_casos.rename(columns={'ibge_unidade_notifica':'ibge'}),municipios[['ibge','mun_resid']].rename(columns={'mun_resid':'mun_atend'}),on='ibge',how='left').rename(columns={'ibge':'ibge_atend'})"
   ]
  },
  {
   "cell_type": "code",
   "execution_count": null,
   "metadata": {
    "execution": {
     "iopub.execute_input": "2021-12-20T18:43:22.236684Z",
     "iopub.status.busy": "2021-12-20T18:43:22.236684Z",
     "iopub.status.idle": "2021-12-20T18:44:10.820008Z",
     "shell.execute_reply": "2021-12-20T18:44:10.820008Z",
     "shell.execute_reply.started": "2021-12-20T18:43:22.236684Z"
    }
   },
   "outputs": [],
   "source": [
    "# CASOS CONFIRMADOS\n",
    "\n",
    "casos = df_casos[['ibge_residencia', 'paciente', 'sexo', 'idade', 'mun_resid', 'mun_atend', 'rs', 'exame', 'data_diagnostico', 'data_comunicacao', 'data_1o_sintomas']]\n",
    "casos = casos.rename(columns={'ibge_residencia':'IBGE',\n",
    "                              'paciente':'Nome',\n",
    "                              'sexo':'Sexo',\n",
    "                              'idade':'idade_original',\n",
    "                              'mun_resid':'Mun_Resid',\n",
    "                              'mun_atend':'Mun_atend',\n",
    "                              'rs':'RS',\n",
    "                              'exame':'Laboratorio',\n",
    "                              'data_diagnostico':'Dt_diag',\n",
    "                              'data_comunicacao':'dt_notificacao',\n",
    "                              'data_1o_sintomas':'dt_inicio_sintomas'})\n",
    "\n",
    "casos['IBGE'] = casos['IBGE'].astype('int')\n",
    "casos['idade_original'] = casos['idade_original'].astype('int')\n",
    "\n",
    "casos.to_csv(join(default_output,'enviar_celepar','CORONAVIRUS.casos_confirmados.csv'), index=False, sep=';', encoding='utf-8-sig')"
   ]
  },
  {
   "cell_type": "code",
   "execution_count": null,
   "metadata": {
    "execution": {
     "iopub.execute_input": "2021-12-20T18:44:10.820008Z",
     "iopub.status.busy": "2021-12-20T18:44:10.820008Z",
     "iopub.status.idle": "2021-12-20T18:44:11.963623Z",
     "shell.execute_reply": "2021-12-20T18:44:11.963623Z",
     "shell.execute_reply.started": "2021-12-20T18:44:10.820008Z"
    }
   },
   "outputs": [],
   "source": [
    "# ÓBITOS CONFIRMADOS\n",
    "\n",
    "obitos = df_casos.loc[df_casos['evolucao'] == 2,['ibge_residencia', 'paciente', 'sexo', 'idade', 'mun_resid', 'rs', 'data_cura_obito', 'data_com_evolucao']]\n",
    "obitos = obitos.rename(columns={'ibge_residencia':'IBGE 6',\n",
    "                                'paciente':'Nome',\n",
    "                                'sexo':'Sexo',\n",
    "                                'idade':'idade_original',\n",
    "                                'mun_resid':'Mun_Resid',\n",
    "                                'rs':'RS',\n",
    "                                'data_cura_obito':'Dt_obito',\n",
    "                                'data_com_evolucao':'dt_com_obito'})\n",
    "\n",
    "obitos['IBGE 6'] = obitos['IBGE 6'].astype('int')\n",
    "obitos['idade_original'] = obitos['idade_original'].astype('int')\n",
    "\n",
    "obitos.to_csv(join(default_output,'enviar_celepar','CORONAVIRUS.obitos.csv'), index=False, sep=';', encoding='utf-8-sig')"
   ]
  },
  {
   "cell_type": "code",
   "execution_count": null,
   "metadata": {
    "execution": {
     "iopub.execute_input": "2021-12-20T18:44:11.963623Z",
     "iopub.status.busy": "2021-12-20T18:44:11.963623Z",
     "iopub.status.idle": "2021-12-20T18:44:43.035396Z",
     "shell.execute_reply": "2021-12-20T18:44:43.035396Z",
     "shell.execute_reply.started": "2021-12-20T18:44:11.963623Z"
    }
   },
   "outputs": [],
   "source": [
    "# RECUPERADOS\n",
    "\n",
    "recuperados = df_casos.loc[df_casos['evolucao'] == 1,['ibge_residencia', 'paciente', 'sexo', 'idade', 'mun_resid', 'mun_atend', 'rs', 'exame', 'data_1o_sintomas', 'data_comunicacao', 'data_cura_obito', 'data_com_evolucao', 'origem']]\n",
    "\n",
    "recuperados['Recuperado'] = 'Sim'\n",
    "recuperados['15º dia de isolamento'] = None\n",
    "recuperados['Telefone'] = None\n",
    "\n",
    "\n",
    "recuperados = recuperados.rename(columns={'ibge_residencia':'IBGE 6',\n",
    "                                          'paciente':'Nome',\n",
    "                                          'sexo':'Sexo',\n",
    "                                          'idade':'Idade',\n",
    "                                          'mun_resid':'Mun Resid',\n",
    "                                          'mun_atend':'Mun de Atendimento',\n",
    "                                          'rs':'Regional de Residência',\n",
    "                                          'exame':'Laboratório',\n",
    "                                          'data_1o_sintomas':'Início dos sintomas',\n",
    "                                          'data_comunicacao':'Comunicação',\n",
    "                                          'data_cura_obito':'Data da atualização',\n",
    "                                          'data_com_evolucao':'dt_com_recuperado',\n",
    "                                          'origem':'Fonte'})\n",
    "\n",
    "recuperados = recuperados[['IBGE 6', 'Nome', 'Sexo', 'Idade', 'Mun Resid', 'Mun de Atendimento', 'Regional de Residência', 'Laboratório', 'Início dos sintomas', 'Comunicação', '15º dia de isolamento', 'Telefone', 'Recuperado', 'Data da atualização', 'Fonte', 'dt_com_recuperado']]\n",
    "\n",
    "\n",
    "recuperados['Regional de Residência'] = recuperados['Regional de Residência'].astype('int')\n",
    "recuperados['IBGE 6'] = recuperados['IBGE 6'].astype('int')\n",
    "recuperados['Idade'] = recuperados['Idade'].astype('int')\n",
    "\n",
    "recuperados.to_csv(join(default_output,'enviar_celepar','CORONAVIRUS.recuperados.csv'), index=False, sep=';', encoding='utf-8-sig')"
   ]
  },
  {
   "cell_type": "code",
   "execution_count": null,
   "metadata": {
    "execution": {
     "iopub.execute_input": "2021-12-20T18:44:43.035396Z",
     "iopub.status.busy": "2021-12-20T18:44:43.035396Z",
     "iopub.status.idle": "2021-12-20T18:44:44.318984Z",
     "shell.execute_reply": "2021-12-20T18:44:44.318984Z",
     "shell.execute_reply.started": "2021-12-20T18:44:43.035396Z"
    }
   },
   "outputs": [],
   "source": [
    "# # LEITOS\n",
    "\n",
    "filename = \"ocupacao.xls\"\n",
    "book = read_excel(join(default_input, 'ocupacao_leitos', filename))\n",
    "# ocupacao = create_occupation_table(book, book.sheet_names()[hoje.day-1])\n",
    "ocupacao = create_occupation_table(book, book.nsheets-1)\n",
    "ocupacao.to_csv(join(default_output,'enviar_celepar', 'CORONAVIRUS.leitos.csv'), index = False, sep=';', encoding='utf-8-sig')"
   ]
  },
  {
   "cell_type": "code",
   "execution_count": null,
   "metadata": {
    "execution": {
     "iopub.status.busy": "2021-12-20T18:44:44.318984Z",
     "iopub.status.idle": "2021-12-20T18:44:44.318984Z",
     "shell.execute_reply": "2021-12-20T18:44:44.318984Z",
     "shell.execute_reply.started": "2021-12-20T18:44:44.318984Z"
    },
    "tags": []
   },
   "outputs": [],
   "source": [
    "# TESTES\n",
    "\n",
    "testes = pd.DataFrame([[10600, 74200, 427980, pd.read_csv(join(default_input, 'queries', 'testes_rapidos_diario.csv')).iloc[0,0]]], columns=['EXAMES DO MÉTODO RT-PCR (por dia)', 'EXAMES DO MÉTODO RT-PCR (por semana)', 'One Step Test', 'Testes de Antígenos (realizados nos últimos 7 dias)'])\n",
    "testes.to_csv(join(default_output,'enviar_celepar','CORONAVIRUS.testes.csv'), index=False, sep=';', encoding='utf-8-sig')"
   ]
  },
  {
   "cell_type": "code",
   "execution_count": null,
   "metadata": {},
   "outputs": [],
   "source": [
    "# ARQUIVO COMPLETO ENVIADO\n",
    "\n",
    "cc_vacinados = CasosConfirmados('cc_vacinados')\n",
    "cc_vacinados.load()\n",
    "\n",
    "csv_geral_new = cc_vacinados.comunicacao_csvGeralNew()\n",
    "csv_geral_new.to_csv(join(default_output, 'enviar_celepar',  f\"CORONAVIRUS.INFORME_EPIDEMIOLOGICO_COMPLETO.csv\"), index=False, sep=';',encoding='utf-8-sig')"
   ]
  },
  {
   "cell_type": "code",
   "execution_count": null,
   "metadata": {},
   "outputs": [],
   "source": [
    "from os import remove, listdir, chdir\n",
    "\n",
    "# GERA ARQUIVOS COMPACTADOS\n",
    "dirpath = join(default_output, 'enviar_celepar')\n",
    "archives = [ f for f in listdir(dirpath) if isfile(join(dirpath, f)) ]\n",
    "\n",
    "chdir(dirpath)\n",
    "\n",
    "pz.compress_multiple(archives, [], join(dirpath, f\"COVID-19_celepar.zip\"), None, 9)\n",
    "\n",
    "chdir(current_dir)\n",
    "\n",
    "\n",
    "# # REMOVE ARQUIVOS DE HOJE\n",
    "# for i in archives:\n",
    "#     try:\n",
    "#         remove(join(dirpath, i))\n",
    "#     except:\n",
    "#         pass"
   ]
  },
  {
   "cell_type": "code",
   "execution_count": null,
   "metadata": {},
   "outputs": [],
   "source": []
  }
 ],
 "metadata": {
  "interpreter": {
   "hash": "1cdc22e96f16e7a709941e5164353478df3c5a2dca8a048b5ddcd85bd66dd558"
  },
  "kernelspec": {
   "display_name": "Python 3 (ipykernel)",
   "language": "python",
   "name": "python3"
  },
  "language_info": {
   "codemirror_mode": {
    "name": "ipython",
    "version": 3
   },
   "file_extension": ".py",
   "mimetype": "text/x-python",
   "name": "python",
   "nbconvert_exporter": "python",
   "pygments_lexer": "ipython3",
   "version": "3.8.11"
  }
 },
 "nbformat": 4,
 "nbformat_minor": 4
}
