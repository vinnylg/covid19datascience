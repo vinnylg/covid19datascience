{
 "cells": [
  {
   "cell_type": "code",
   "execution_count": 1,
   "metadata": {
    "jupyter": {
     "outputs_hidden": true
    }
   },
   "outputs": [
    {
     "name": "stdout",
     "output_type": "stream",
     "text": [
      "['C:\\\\sesa\\\\dev\\\\notebooks', 'C:\\\\ProgramData\\\\Anaconda3\\\\python38.zip', 'C:\\\\ProgramData\\\\Anaconda3\\\\DLLs', 'C:\\\\ProgramData\\\\Anaconda3\\\\lib', 'C:\\\\ProgramData\\\\Anaconda3', '', 'C:\\\\Users\\\\terc.vinicius\\\\AppData\\\\Roaming\\\\Python\\\\Python38\\\\site-packages', 'C:\\\\ProgramData\\\\Anaconda3\\\\lib\\\\site-packages', 'C:\\\\ProgramData\\\\Anaconda3\\\\lib\\\\site-packages\\\\win32', 'C:\\\\ProgramData\\\\Anaconda3\\\\lib\\\\site-packages\\\\win32\\\\lib', 'C:\\\\ProgramData\\\\Anaconda3\\\\lib\\\\site-packages\\\\Pythonwin', 'C:\\\\ProgramData\\\\Anaconda3\\\\lib\\\\site-packages\\\\IPython\\\\extensions', 'C:\\\\Users\\\\terc.vinicius\\\\.ipython', 'C:\\\\sesa\\\\dev']\n"
     ]
    }
   ],
   "source": [
    "import sys\n",
    "from pathlib import Path\n",
    "from os import getcwd\n",
    "\n",
    "sys.path.append(str(Path(getcwd()).parent))\n",
    "print(sys.path)"
   ]
  },
  {
   "cell_type": "code",
   "execution_count": 2,
   "metadata": {},
   "outputs": [],
   "source": [
    "from os.path import join\n",
    "import pandas as pd\n",
    "import numpy as np\n",
    "from sys import exit\n",
    "from datetime import time\n",
    "\n",
    "pd.set_option('display.max_columns', None)"
   ]
  },
  {
   "cell_type": "code",
   "execution_count": 3,
   "metadata": {},
   "outputs": [
    {
     "name": "stdout",
     "output_type": "stream",
     "text": [
      "\n",
      "---------------------------------------------------------------\n",
      "\n",
      "root: C:\\sesa\\dev\\bulletin\n",
      "parent: C:\\sesa\\dev\n",
      "default_input: C:\\sesa\\dev\\input\n",
      "default_output: C:\\sesa\\dev\\output\n",
      "\n",
      "---------------------------------------------------------------\n",
      "\n"
     ]
    }
   ],
   "source": [
    "from bulletin.systems.notifica import Notifica\n",
    "from bulletin.systems.casos_confirmados import CasosConfirmados\n",
    "from bulletin.utils.normalize import normalize_hash, normalize_labels"
   ]
  },
  {
   "cell_type": "code",
   "execution_count": 4,
   "metadata": {
    "scrolled": true,
    "tags": []
   },
   "outputs": [
    {
     "name": "stdout",
     "output_type": "stream",
     "text": [
      "['comorbidades', 'instituicao', 'notifica', 'update_notifica']\n",
      "loading Notifica from pkl time elepsed:00:00:04\n",
      "notifica len: 1200546\n",
      "duplicados  12626\n",
      "casosn len: 1187920\n"
     ]
    }
   ],
   "source": [
    "notifica = Notifica()\n",
    "notifica.load()\n",
    "print(f\"notifica len: {len(notifica)}\")\n",
    "# notifica.hashes()\n",
    "# notifica.save(replace=True)\n",
    "casosn = notifica.df\n",
    "print('duplicados ',len(casosn.loc[casosn.duplicated('hash_resid',keep='first')]))\n",
    "casosn = casosn.drop_duplicates('hash_resid',keep='first')\n",
    "print(f\"casosn len: {len(casosn)}\")"
   ]
  },
  {
   "cell_type": "code",
   "execution_count": 5,
   "metadata": {
    "scrolled": true
   },
   "outputs": [
    {
     "name": "stdout",
     "output_type": "stream",
     "text": [
      "['cc_19_06_2021']\n",
      "loading Casos Confirmados from pkl time elepsed:00:00:03\n",
      "cc len: 1192936\n"
     ]
    }
   ],
   "source": [
    "cc = CasosConfirmados()\n",
    "cc.load()\n",
    "print(f\"cc len: {len(cc)}\")\n",
    "# cc.hashes()\n",
    "# cc.save(replace=True)\n",
    "casosc = cc.df"
   ]
  },
  {
   "cell_type": "code",
   "execution_count": 6,
   "metadata": {},
   "outputs": [
    {
     "name": "stdout",
     "output_type": "stream",
     "text": [
      "87488\n"
     ]
    },
    {
     "data": {
      "text/html": [
       "<div>\n",
       "<style scoped>\n",
       "    .dataframe tbody tr th:only-of-type {\n",
       "        vertical-align: middle;\n",
       "    }\n",
       "\n",
       "    .dataframe tbody tr th {\n",
       "        vertical-align: top;\n",
       "    }\n",
       "\n",
       "    .dataframe thead th {\n",
       "        text-align: right;\n",
       "    }\n",
       "</style>\n",
       "<table border=\"1\" class=\"dataframe\">\n",
       "  <thead>\n",
       "    <tr style=\"text-align: right;\">\n",
       "      <th></th>\n",
       "      <th>id_notifica</th>\n",
       "    </tr>\n",
       "    <tr>\n",
       "      <th>data_comunicacao</th>\n",
       "      <th></th>\n",
       "    </tr>\n",
       "  </thead>\n",
       "  <tbody>\n",
       "    <tr>\n",
       "      <th>2020-03-12</th>\n",
       "      <td>6</td>\n",
       "    </tr>\n",
       "    <tr>\n",
       "      <th>2020-03-17</th>\n",
       "      <td>4</td>\n",
       "    </tr>\n",
       "    <tr>\n",
       "      <th>2020-03-18</th>\n",
       "      <td>4</td>\n",
       "    </tr>\n",
       "    <tr>\n",
       "      <th>2020-03-19</th>\n",
       "      <td>7</td>\n",
       "    </tr>\n",
       "    <tr>\n",
       "      <th>2020-03-20</th>\n",
       "      <td>12</td>\n",
       "    </tr>\n",
       "    <tr>\n",
       "      <th>...</th>\n",
       "      <td>...</td>\n",
       "    </tr>\n",
       "    <tr>\n",
       "      <th>2021-06-14</th>\n",
       "      <td>83</td>\n",
       "    </tr>\n",
       "    <tr>\n",
       "      <th>2021-06-15</th>\n",
       "      <td>160</td>\n",
       "    </tr>\n",
       "    <tr>\n",
       "      <th>2021-06-16</th>\n",
       "      <td>21</td>\n",
       "    </tr>\n",
       "    <tr>\n",
       "      <th>2021-06-17</th>\n",
       "      <td>45</td>\n",
       "    </tr>\n",
       "    <tr>\n",
       "      <th>2021-06-18</th>\n",
       "      <td>45</td>\n",
       "    </tr>\n",
       "  </tbody>\n",
       "</table>\n",
       "<p>460 rows × 1 columns</p>\n",
       "</div>"
      ],
      "text/plain": [
       "                  id_notifica\n",
       "data_comunicacao             \n",
       "2020-03-12                  6\n",
       "2020-03-17                  4\n",
       "2020-03-18                  4\n",
       "2020-03-19                  7\n",
       "2020-03-20                 12\n",
       "...                       ...\n",
       "2021-06-14                 83\n",
       "2021-06-15                160\n",
       "2021-06-16                 21\n",
       "2021-06-17                 45\n",
       "2021-06-18                 45\n",
       "\n",
       "[460 rows x 1 columns]"
      ]
     },
     "execution_count": 6,
     "metadata": {},
     "output_type": "execute_result"
    }
   ],
   "source": [
    "casosn_id = casosn[['id','hash_resid']].set_index('hash_resid').rename(columns={'id':'id_notifica'})\n",
    "casosc = casosc.set_index('hash_resid')\n",
    "casosc.update(casosn_id)\n",
    "casosc.reset_index(inplace=True)\n",
    "casosc['id_notifica'] = casosc['id_notifica'].astype(int) \n",
    "print(len(casosc.loc[casosc['id_notifica']==-1]))\n",
    "casosc.loc[casosc['id_notifica']==-1,['id_notifica','data_comunicacao']].groupby('data_comunicacao').count()"
   ]
  },
  {
   "cell_type": "code",
   "execution_count": 7,
   "metadata": {},
   "outputs": [
    {
     "data": {
      "text/plain": [
       "82472"
      ]
     },
     "execution_count": 7,
     "metadata": {},
     "output_type": "execute_result"
    }
   ],
   "source": [
    "casosn = casosn.drop(casosn.loc[casosn['id'].isin(casosc['id_notifica'])].index)\n",
    "len(casosn)"
   ]
  },
  {
   "cell_type": "code",
   "execution_count": 8,
   "metadata": {},
   "outputs": [
    {
     "name": "stdout",
     "output_type": "stream",
     "text": [
      "saving Casos Confirmados to pkl time elepsed:00:00:10\n"
     ]
    }
   ],
   "source": [
    "cc.df = casosc\n",
    "cc.save(replace=True)"
   ]
  },
  {
   "cell_type": "code",
   "execution_count": null,
   "metadata": {},
   "outputs": [],
   "source": []
  }
 ],
 "metadata": {
  "kernelspec": {
   "display_name": "Python 3",
   "language": "python",
   "name": "python3"
  },
  "language_info": {
   "codemirror_mode": {
    "name": "ipython",
    "version": 3
   },
   "file_extension": ".py",
   "mimetype": "text/x-python",
   "name": "python",
   "nbconvert_exporter": "python",
   "pygments_lexer": "ipython3",
   "version": "3.8.5"
  }
 },
 "nbformat": 4,
 "nbformat_minor": 4
}
