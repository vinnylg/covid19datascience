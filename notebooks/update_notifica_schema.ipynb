{
 "cells": [
  {
   "cell_type": "code",
   "execution_count": null,
   "metadata": {},
   "outputs": [],
   "source": [
    "## set covid19_datasciente as path for python find bulletin package\n",
    "import sys\n",
    "import pandas as pd\n",
    "from pathlib import Path\n",
    "from os import getcwd, remove, chdir\n",
    "from os.path import join, basename\n",
    "\n",
    "sys.path.append(str(Path(getcwd()).parent))\n",
    "current_dir = getcwd()\n",
    "print(current_dir)\n",
    "\n",
    "medir = lambda x: [ y for y in dir(x) if y[0] != '_' ] "
   ]
  },
  {
   "cell_type": "code",
   "execution_count": null,
   "metadata": {},
   "outputs": [],
   "source": [
    "from bulletin.services.metabase import Metabase "
   ]
  },
  {
   "cell_type": "code",
   "execution_count": null,
   "metadata": {},
   "outputs": [],
   "source": [
    "mb = Metabase()"
   ]
  },
  {
   "cell_type": "code",
   "execution_count": null,
   "metadata": {},
   "outputs": [],
   "source": [
    "schema = mb.notificacao_information_schema(replace=True)\n",
    "schema"
   ]
  },
  {
   "cell_type": "code",
   "execution_count": null,
   "metadata": {},
   "outputs": [],
   "source": [
    "schema_original = mb.notificacao_information_schema(replace=False)\n",
    "schema_original"
   ]
  },
  {
   "cell_type": "code",
   "execution_count": null,
   "metadata": {},
   "outputs": [],
   "source": [
    "schema_original.loc[schema_original['notifica']==1]"
   ]
  },
  {
   "cell_type": "code",
   "execution_count": null,
   "metadata": {},
   "outputs": [],
   "source": [
    "novas_colunas = schema.loc[~schema['column'].isin(schema_original['column']),['column','dtypes','constraint_name','foreign_table_name','foreign_column_name']]\n",
    "novas_colunas['notifica'] = 1\n",
    "novas_colunas['casos_confirmados'] = 1\n",
    "novas_colunas['csv_geral'] = 1\n",
    "novas_colunas['id'] = [ x for x in range(schema_original.loc[schema_original['notifica']==1,'id'].iloc[-1]+1,schema_original.loc[schema_original['notifica']==1,'id'].iloc[-1]+1+len(novas_colunas))]\n",
    "novas_colunas['group_name'] = 'novas_colunas'\n",
    "novas_colunas"
   ]
  },
  {
   "cell_type": "code",
   "execution_count": null,
   "metadata": {},
   "outputs": [],
   "source": [
    "if len(novas_colunas) > 0:\n",
    "    schema_original.loc[schema_original['notifica']==0,'id'] = [ x for x in range(novas_colunas['id'].iloc[-1]+1,novas_colunas['id'].iloc[-1]+1+len(schema_original.loc[schema_original['notifica']==0]))]\n",
    "    novo_schema = pd.concat([schema_original.set_index('id'),novas_colunas.set_index('id')]).sort_index().reset_index()\n",
    "    mb.update_notificacao_schema(novo_schema)\n",
    "    novo_schema"
   ]
  },
  {
   "cell_type": "code",
   "execution_count": null,
   "metadata": {},
   "outputs": [],
   "source": [
    "mb.download_tables()"
   ]
  }
 ],
 "metadata": {
  "interpreter": {
   "hash": "1cdc22e96f16e7a709941e5164353478df3c5a2dca8a048b5ddcd85bd66dd558"
  },
  "kernelspec": {
   "display_name": "Python 3 (ipykernel)",
   "language": "python",
   "name": "python3"
  },
  "language_info": {
   "codemirror_mode": {
    "name": "ipython",
    "version": 3
   },
   "file_extension": ".py",
   "mimetype": "text/x-python",
   "name": "python",
   "nbconvert_exporter": "python",
   "pygments_lexer": "ipython3",
   "version": "3.8.11"
  }
 },
 "nbformat": 4,
 "nbformat_minor": 2
}
