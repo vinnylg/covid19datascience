{
 "cells": [
  {
   "cell_type": "code",
   "execution_count": null,
   "metadata": {
    "execution": {
     "iopub.execute_input": "2021-12-20T13:44:35.362539Z",
     "iopub.status.busy": "2021-12-20T13:44:35.362539Z",
     "iopub.status.idle": "2021-12-20T13:44:35.409410Z",
     "shell.execute_reply": "2021-12-20T13:44:35.409410Z",
     "shell.execute_reply.started": "2021-12-20T13:44:35.362539Z"
    }
   },
   "outputs": [],
   "source": [
    "## set covid19_datasciente as path for python find bulletin package\n",
    "import sys\n",
    "from pathlib import Path\n",
    "from os import getcwd, remove, chdir\n",
    "from os.path import join, basename\n",
    "\n",
    "sys.path.append(str(Path(getcwd()).parent))\n",
    "current_dir = getcwd()\n",
    "print(current_dir)"
   ]
  },
  {
   "cell_type": "code",
   "execution_count": null,
   "metadata": {
    "execution": {
     "iopub.execute_input": "2021-12-20T13:44:35.409410Z",
     "iopub.status.busy": "2021-12-20T13:44:35.409410Z",
     "iopub.status.idle": "2021-12-20T13:44:35.925355Z",
     "shell.execute_reply": "2021-12-20T13:44:35.925355Z",
     "shell.execute_reply.started": "2021-12-20T13:44:35.409410Z"
    }
   },
   "outputs": [],
   "source": [
    "import pandas as pd\n",
    "pd.set_option('display.max_columns', None)\n",
    "pd.set_option('display.max_rows', 150)\n",
    "\n",
    "import numpy as np\n",
    "from random import randint\n",
    "from math import floor, ceil\n",
    "import codecs"
   ]
  },
  {
   "cell_type": "code",
   "execution_count": null,
   "metadata": {
    "execution": {
     "iopub.execute_input": "2021-12-20T13:44:35.925355Z",
     "iopub.status.busy": "2021-12-20T13:44:35.925355Z",
     "iopub.status.idle": "2021-12-20T13:44:37.254184Z",
     "shell.execute_reply": "2021-12-20T13:44:37.254184Z",
     "shell.execute_reply.started": "2021-12-20T13:44:35.925355Z"
    }
   },
   "outputs": [],
   "source": [
    "from bulletin import root, default_input, default_output, agora, hoje, ontem, anteontem, dias_apos, dias_apos_label\n",
    "from bulletin.services.metabase import Metabase\n",
    "from bulletin.systems.casos_confirmados import CasosConfirmados\n",
    "from bulletin.systems.notifica import Notifica\n",
    "from bulletin.utils.static import Municipios\n",
    "from bulletin.utils import utils, static\n",
    "from bulletin.utils.xls_ import fit_cols\n",
    "from bulletin.utils.normalize import trim_overspace\n",
    "from bulletin.utils.normalize import normalize_text#normalize_hash, normalize_labels, , date_hash, normalize_number"
   ]
  },
  {
   "cell_type": "code",
   "execution_count": null,
   "metadata": {
    "execution": {
     "iopub.execute_input": "2021-12-20T13:44:37.254184Z",
     "iopub.status.busy": "2021-12-20T13:44:37.254184Z",
     "iopub.status.idle": "2021-12-20T13:44:37.269805Z",
     "shell.execute_reply": "2021-12-20T13:44:37.269805Z",
     "shell.execute_reply.started": "2021-12-20T13:44:37.254184Z"
    }
   },
   "outputs": [],
   "source": [
    "from datetime import datetime, date, timedelta\n",
    "from tqdm import tqdm\n",
    "\n",
    "exclusao_pathfile = join(root, 'database', 'casos_confirmados')\n",
    "\n",
    "today = pd.to_datetime(date.today())\n",
    "ontem = today - timedelta(1)\n",
    "anteontem = ontem - timedelta(1)\n",
    "data_retroativos = ontem - timedelta(31)"
   ]
  },
  {
   "cell_type": "markdown",
   "metadata": {},
   "source": [
    "### 1. Ajuste dos casos do CC"
   ]
  },
  {
   "cell_type": "code",
   "execution_count": null,
   "metadata": {
    "execution": {
     "iopub.execute_input": "2021-12-20T13:44:37.363545Z",
     "iopub.status.busy": "2021-12-20T13:44:37.363545Z",
     "iopub.status.idle": "2021-12-20T13:49:14.524568Z",
     "shell.execute_reply": "2021-12-20T13:49:14.524568Z",
     "shell.execute_reply.started": "2021-12-20T13:44:37.363545Z"
    }
   },
   "outputs": [],
   "source": [
    "cc = CasosConfirmados()\n",
    "\n",
    "date = ontem\n",
    "\n",
    "cc.load(f\"cc_{date.strftime('%d_%m_%Y')}\", compress=True)\n",
    "\n",
    "cc.df.shape"
   ]
  },
  {
   "cell_type": "code",
   "execution_count": null,
   "metadata": {},
   "outputs": [],
   "source": [
    "casos = cc.df.copy()"
   ]
  },
  {
   "cell_type": "code",
   "execution_count": null,
   "metadata": {},
   "outputs": [],
   "source": [
    "cc.df.loc[(cc.df['data_diagnostico'].dt.year == 2022) & (cc.df['data_cura_obito'].dt.year == 2021) & (cc.df['evolucao'] == 2)]"
   ]
  },
  {
   "cell_type": "code",
   "execution_count": null,
   "metadata": {},
   "outputs": [],
   "source": [
    "casos.loc[casos['data_diagnostico'].isna()]"
   ]
  },
  {
   "cell_type": "code",
   "execution_count": null,
   "metadata": {},
   "outputs": [],
   "source": [
    "columns = ['data_coleta', 'data_liberacao']\n",
    "days_diff = 3\n",
    "\n",
    "for year in [2020, 2021]:\n",
    "    \n",
    "    col = 'data_1o_sintomas'\n",
    "    casos['diff_days'] = (abs(casos['data_diagnostico'] - casos[col]).dt.days).fillna(0).astype(int)\n",
    "\n",
    "    #ALTERAÇÃO\n",
    "    casos.loc[(casos['data_diagnostico'].dt.year==year) \n",
    "              & (casos['data_diagnostico'] < casos[col]),'data_diagnostico'] = \\\n",
    "    casos.loc[(casos['data_diagnostico'].dt.year==year) \n",
    "              & (casos['data_diagnostico'] < casos[col]), col]\n",
    "    \n",
    "    for col in columns:\n",
    "\n",
    "        casos['diff_days'] = (abs(casos['data_diagnostico'] - casos[col]).dt.days).fillna(0).astype(int)\n",
    "\n",
    "        #ALTERAÇÃO\n",
    "        casos.loc[(casos['data_diagnostico'].dt.year==year) \n",
    "                  & (casos['data_diagnostico'] < casos[col]) \n",
    "                  & (casos['diff_days'] >= days_diff),'data_diagnostico'] = \\\n",
    "        casos.loc[(casos['data_diagnostico'].dt.year==year) \n",
    "                  & (casos['data_diagnostico'] < casos[col]) \n",
    "                  & (casos['diff_days'] >= days_diff), col]"
   ]
  },
  {
   "cell_type": "code",
   "execution_count": null,
   "metadata": {},
   "outputs": [],
   "source": [
    "casos.loc[casos['data_diagnostico'].isna()]"
   ]
  },
  {
   "cell_type": "code",
   "execution_count": null,
   "metadata": {},
   "outputs": [],
   "source": [
    "casos = casos.drop(columns=['diff_days'])"
   ]
  },
  {
   "cell_type": "code",
   "execution_count": null,
   "metadata": {},
   "outputs": [],
   "source": [
    "# meses = {1:'Janeiro',2:'Fevereiro',3:'Março',4:'Abril',5:'Maio',6:'Junho',7:'Julho',8:'Agosto',9:'Setembro',10:'Outubro',11:'Novembro',12:'Dezembro'}\n",
    "\n",
    "# casos['ano_caso'] = casos['data_diagnostico'].dt.year\n",
    "# casos['mes_caso'] = casos['data_diagnostico'].dt.month\n",
    "\n",
    "\n",
    "# obitos = casos.loc[(casos['evolucao']==2)]\n",
    "# obitos['ano_obito'] = obitos['data_cura_obito'].dt.year\n",
    "# obitos['mes_obito'] = obitos['data_cura_obito'].dt.month\n",
    "\n",
    "\n",
    "# # CASOS E ÓBITOS POR MÊS\n",
    "# tabela_casos_mes = casos.groupby(['ano_caso', 'mes_caso'])[['id_notifica']].count().rename(columns={'id_notifica':'casos'})\n",
    "# tabela_casos_mes.rename(index=meses, inplace=True)\n",
    "\n",
    "# tabela_obitos_mes = obitos.groupby(['ano_obito', 'mes_obito'])[['id_notifica']].count().rename(columns={'id_notifica':'óbitos'})\n",
    "# tabela_obitos_mes.rename(index=meses, inplace=True)\n",
    "\n",
    "\n",
    "# tabela_casos_mes.index.set_names(['ano', 'mes'], inplace=True)\n",
    "# tabela_obitos_mes.index.set_names(['ano', 'mes'], inplace=True)\n",
    "# tabela_mes = tabela_casos_mes.join(tabela_obitos_mes)\n",
    "# tabela_mes"
   ]
  },
  {
   "cell_type": "code",
   "execution_count": null,
   "metadata": {},
   "outputs": [],
   "source": [
    "# casos = casos.drop(columns=['ano_caso', 'mes_caso', 'ano_obito', 'mes_obito'])"
   ]
  },
  {
   "cell_type": "code",
   "execution_count": null,
   "metadata": {},
   "outputs": [],
   "source": [
    "casos.shape"
   ]
  },
  {
   "cell_type": "code",
   "execution_count": null,
   "metadata": {},
   "outputs": [],
   "source": [
    "raise"
   ]
  },
  {
   "cell_type": "code",
   "execution_count": null,
   "metadata": {},
   "outputs": [],
   "source": [
    "cc.df = casos\n",
    "cc.save(f\"cc_{date.strftime('%d_%m_%Y')}\", replace=True, compress=True)"
   ]
  },
  {
   "cell_type": "markdown",
   "metadata": {},
   "source": [
    "### 2. Ajuste das fichas no Notifica"
   ]
  },
  {
   "cell_type": "code",
   "execution_count": null,
   "metadata": {},
   "outputs": [],
   "source": [
    "notifica = Notifica()\n",
    "notifica.load('notifica', compress=False)\n",
    "notifica.df = notifica.df.drop_duplicates('id', keep='last')\n",
    "notifica.df.shape"
   ]
  },
  {
   "cell_type": "code",
   "execution_count": null,
   "metadata": {},
   "outputs": [],
   "source": [
    "len(notifica.df.loc[notifica.df['data_diagnostico'].isna()])"
   ]
  },
  {
   "cell_type": "code",
   "execution_count": null,
   "metadata": {},
   "outputs": [],
   "source": [
    "columns = ['data_cadastro','data_coleta','data_recebimento','data_liberacao']\n",
    "days_diff = 3\n",
    "\n",
    "for year in [2020, 2021]:\n",
    "    \n",
    "    col = 'data_1o_sintomas'\n",
    "    notifica.df['diff_days'] = (abs(notifica.df['data_diagnostico'] - notifica.df[col]).dt.days).fillna(0).astype(int)\n",
    "\n",
    "    #ALTERAÇÃO\n",
    "    notifica.df.loc[(notifica.df['data_diagnostico'].dt.year==year) \n",
    "              & (notifica.df['data_diagnostico'] < notifica.df[col]),'data_diagnostico'] = \\\n",
    "    notifica.df.loc[(notifica.df['data_diagnostico'].dt.year==year) \n",
    "              & (notifica.df['data_diagnostico'] < notifica.df[col]), col]\n",
    "    \n",
    "    for col in columns:\n",
    "\n",
    "        notifica.df['diff_days'] = (abs(notifica.df['data_diagnostico'] - notifica.df[col]).dt.days).fillna(0).astype(int)\n",
    "\n",
    "        #ALTERAÇÃO\n",
    "        notifica.df.loc[(notifica.df['data_diagnostico'].dt.year==year) \n",
    "                  & (notifica.df['data_diagnostico'] < notifica.df[col]) \n",
    "                  & (notifica.df['diff_days'] >= days_diff),'data_diagnostico'] = \\\n",
    "        notifica.df.loc[(notifica.df['data_diagnostico'].dt.year==year) \n",
    "                  & (notifica.df['data_diagnostico'] < notifica.df[col]) \n",
    "                  & (notifica.df['diff_days'] >= days_diff), col]"
   ]
  },
  {
   "cell_type": "code",
   "execution_count": null,
   "metadata": {},
   "outputs": [],
   "source": [
    "len(notifica.df.loc[notifica.df['data_diagnostico'].isna()])"
   ]
  },
  {
   "cell_type": "code",
   "execution_count": null,
   "metadata": {},
   "outputs": [],
   "source": [
    "notifica.df = notifica.df.drop(columns=['diff_days'])"
   ]
  },
  {
   "cell_type": "code",
   "execution_count": null,
   "metadata": {},
   "outputs": [],
   "source": [
    "notifica.df.shape"
   ]
  },
  {
   "cell_type": "code",
   "execution_count": null,
   "metadata": {},
   "outputs": [],
   "source": [
    "raise"
   ]
  },
  {
   "cell_type": "code",
   "execution_count": null,
   "metadata": {},
   "outputs": [],
   "source": [
    "notifica.save(replace=True, compress=False)"
   ]
  }
 ],
 "metadata": {
  "interpreter": {
   "hash": "1cdc22e96f16e7a709941e5164353478df3c5a2dca8a048b5ddcd85bd66dd558"
  },
  "kernelspec": {
   "display_name": "Python 3 (ipykernel)",
   "language": "python",
   "name": "python3"
  },
  "language_info": {
   "codemirror_mode": {
    "name": "ipython",
    "version": 3
   },
   "file_extension": ".py",
   "mimetype": "text/x-python",
   "name": "python",
   "nbconvert_exporter": "python",
   "pygments_lexer": "ipython3",
   "version": "3.8.11"
  }
 },
 "nbformat": 4,
 "nbformat_minor": 4
}
