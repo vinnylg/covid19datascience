{
 "cells": [
  {
   "cell_type": "code",
   "execution_count": 1,
   "metadata": {},
   "outputs": [
    {
     "output_type": "stream",
     "name": "stdout",
     "text": [
      "['/home/vinnylg/projects/covid19datascience/notebooks', '/home/vinnylg/.vscode/extensions/ms-toolsai.jupyter-2021.5.745244803/pythonFiles', '/home/vinnylg/.vscode/extensions/ms-toolsai.jupyter-2021.5.745244803/pythonFiles/lib/python', '/home/vinnylg/anaconda3/envs/boletim/lib/python38.zip', '/home/vinnylg/anaconda3/envs/boletim/lib/python3.8', '/home/vinnylg/anaconda3/envs/boletim/lib/python3.8/lib-dynload', '', '/home/vinnylg/.local/lib/python3.8/site-packages', '/home/vinnylg/anaconda3/envs/boletim/lib/python3.8/site-packages', '/home/vinnylg/.local/lib/python3.8/site-packages/IPython/extensions', '/home/vinnylg/.ipython', '..']\n"
     ]
    }
   ],
   "source": [
    "import numpy as np\n",
    "import pandas as pd\n",
    "from unidecode import unidecode\n",
    "\n",
    "\n",
    "def normalize_number(num, cast=int, error='fill', fill='-1'):\n",
    "    try:\n",
    "        return cast(num)\n",
    "    except ValueError:\n",
    "        if error == 'raise':\n",
    "            raise Exception(ValueError)\n",
    "        elif error == 'fill':\n",
    "            return normalize_number(fill, cast, 'raise')\n",
    "\n",
    "\n",
    "def normalize_hash(string: str):\n",
    "    return \"\".join(filter(lambda char: 'A' <= char <= 'Z', str(string).upper()))\n",
    "\n",
    "\n",
    "def trim_overspace(string):\n",
    "    parts = filter(lambda part: len(part) > 0, string.split(\" \"))\n",
    "    return \" \".join(parts)\n",
    "\n",
    "\n",
    "def normalize_labels(label):\n",
    "    label = str(label).replace(\"'\", \" \").replace(\".\", \"\").replace(\"\\n\", \"\").replace(\",\", \"\").lower()\n",
    "    label = trim_overspace(label).replace(\" \", \"_\")\n",
    "    label = unidecode(label)\n",
    "\n",
    "    return label\n",
    "\n",
    "\n",
    "def normalize_cpf(cpf):\n",
    "    cpf = ''.join(filter(lambda x: '0' <= x <= '9', str(cpf)))\n",
    "    cpf = str(cpf).zfill(11)\n",
    "    digitos = list(map(int, cpf))\n",
    "\n",
    "    if max(digitos) == min(digitos):\n",
    "        return None\n",
    "\n",
    "    validacao = sum(np.array(digitos[:9]) * np.array([10, 9, 8, 7, 6, 5, 4, 3, 2])) * 10 % 11\n",
    "\n",
    "    if validacao != digitos[-2]:\n",
    "        return None\n",
    "\n",
    "    return cpf[:3] + '.' + cpf[3:6] + '.' + cpf[6:9] + '-' + cpf[9:]\n",
    "\n",
    "\n",
    "def date_hash(date_):\n",
    "    try:\n",
    "        date = pd.to_datetime(date_)\n",
    "        return date.strftime(\"%d%m%Y\")\n",
    "    except ValueError:\n",
    "        return '9999999'\n",
    "\n",
    "\n",
    "def replace_all(txt, replace_list):\n",
    "    for replace_tuple in replace_list:\n",
    "        txt = txt.replace(*replace_tuple)\n",
    "    return txt\n",
    "\n",
    "def normalize_text(txt):\n",
    "    if not txt is None:\n",
    "        txt = txt.upper()\n",
    "        txt = unidecode(txt)\n",
    "        txt = trim_overspace(txt)\n",
    "        txt =  \"\".join([x if ('A' <= x <= 'Z') or (x in [' ','-','_','/','\\'']) else '' for x in txt])\n",
    "    else:\n",
    "        txt = ''\n",
    "    \n",
    "    return txt\n",
    "\n",
    "\n",
    "def normalize_municipios(mun):\n",
    "    mun = normalize_text(mun)\n",
    "    est = 'PR'\n",
    "    if '/' in mun:\n",
    "        mun, est = mun.split('/')\n",
    "\n",
    "    mun = trim_overspace(mun)\n",
    "\n",
    "    return mun, est\n",
    "\n",
    "\n",
    "def normalize_ibge(ibge):\n",
    "    ibge = str(ibge)\n",
    "    if len(ibge) > 6:\n",
    "        ibge = ibge[:len(ibge) - 1]\n",
    "\n",
    "    return ibge"
   ]
  },
  {
   "cell_type": "code",
   "execution_count": 2,
   "metadata": {},
   "outputs": [],
   "source": [
    "import numpy as np\n",
    "import pandas as pd\n",
    "from datetime import datetime, timedelta\n",
    "\n",
    "pd.set_option('display.max_columns', None)\n",
    "\n",
    "meses = ['janeiro','fevereiro','marco','abril','maio','junho','julho','agosto','setembro','outubro','novembro','dezembro']\n",
    "pd.set_option(\"display.precision\", 5)"
   ]
  },
  {
   "cell_type": "code",
   "execution_count": null,
   "metadata": {},
   "outputs": [],
   "source": [
    "casos = pd.read_csv('geral.csv', sep=';', converters={'IDADE_ORIGINAL': lambda x: normalize_number(x,fill=0)}, parse_dates=['DATA_DIAGNOSTICO','DATA_OBITO'], date_parser=lambda x: pd.to_datetime(x, format='%d/%m/%Y'))\n",
    "casos.columns = [ normalize_labels(x) for x in csv_geral.columns ]\n",
    "casos"
   ]
  },
  {
   "cell_type": "code",
   "execution_count": 3,
   "metadata": {},
   "outputs": [
    {
     "output_type": "stream",
     "name": "stdout",
     "text": [
      "Time elapsed loading Casos Confirmados: ~00:00:01\n"
     ]
    }
   ],
   "source": [
    "# cc = CasosConfirmados()\n",
    "# cc.load()\n",
    "# casos = cc.get_casos()\n",
    "# casos.columns = [ normalize.normalize_labels(x) for x in casos.columns ]\n",
    "# casos = casos.rename(columns={'idade':'idade_original','dt_diag':'data_diagnostico','ibge7':'ibge_res_pr'})\n",
    "# casos = casos.loc[casos['ibge_res_pr'].notna()].copy()"
   ]
  },
  {
   "cell_type": "code",
   "execution_count": 4,
   "metadata": {},
   "outputs": [
    {
     "output_type": "execute_result",
     "data": {
      "text/plain": [
       "{0: '<10', 1: '10-19', 2: '20-39', 3: '40-59', 4: '>=60'}"
      ]
     },
     "metadata": {},
     "execution_count": 4
    }
   ],
   "source": [
    "# faixa_etaria = [60,70,80,90,100,np.inf]\n",
    "# faixa_etaria_labels = ['<=59','60-69','70-79','80-89','90-99','>=100']\n",
    "\n",
    "faixa_etaria = [10,20,40,60,np.inf]\n",
    "faixa_etaria_labels = ['<10','10-19','20-39','40-59','>=60']\n",
    "\n",
    "faixa_etaria_index = dict(enumerate(faixa_etaria_labels))\n",
    "index_casos = np.digitize(casos['idade_original'], faixa_etaria, right=False)\n",
    "\n",
    "casos['faixa_etaria'] = [ index for index in index_casos ]\n",
    "faixa_etaria_index"
   ]
  },
  {
   "cell_type": "code",
   "execution_count": 5,
   "metadata": {},
   "outputs": [],
   "source": [
    "casos['mes_caso'] = casos.apply(lambda row: row['data_diagnostico'].strftime('%m'), axis=1)\n",
    "casos['ano_caso'] = casos.apply(lambda row: row['data_diagnostico'].strftime('%Y'), axis=1)"
   ]
  },
  {
   "cell_type": "code",
   "execution_count": 6,
   "metadata": {},
   "outputs": [],
   "source": [
    "obitos = casos.loc[ casos['data_obito'].notnull() ].copy()\n",
    "obitos['mes_obito'] = obitos.apply(lambda row: row['data_obito'].strftime('%m'), axis=1)\n",
    "obitos['ano_obito'] = obitos.apply(lambda row: row['data_obito'].strftime('%Y'), axis=1)"
   ]
  },
  {
   "cell_type": "code",
   "execution_count": 7,
   "metadata": {},
   "outputs": [
    {
     "output_type": "stream",
     "name": "stderr",
     "text": [
      "<ipython-input-7-16cb61f564f0>:26: FutureWarning: inplace is deprecated and will be removed in a future version.\n  faixa_etaria_casos.columns = faixa_etaria_casos.columns.set_levels([ faixa_etaria_index[index] if isinstance(index,int) else index for index in faixa_etaria_casos.columns.levels[0]],0,False)\n"
     ]
    },
    {
     "output_type": "execute_result",
     "data": {
      "text/plain": [
       "                    <10           10-19           20-39           40-59  \\\n",
       "                   qtde        %   qtde        %   qtde        %   qtde   \n",
       "ano_caso mes_caso                                                         \n",
       "2020     03           5  0.01333      7  0.01867    181  0.48267    122   \n",
       "         04          44  0.02125     61  0.02945    849  0.40995    743   \n",
       "         05         177  0.03318    227  0.04256   2377  0.44563   1893   \n",
       "         06         884  0.03155   1482  0.05289  12497  0.44599   9742   \n",
       "         07        2456  0.03617   3891  0.05730  30170  0.44430  22576   \n",
       "         08        2585  0.03793   4559  0.06690  30072  0.44127  22143   \n",
       "         09        1983  0.03437   4002  0.06936  25420  0.44058  18815   \n",
       "         10        1302  0.03380   2772  0.07196  17370  0.45090  12004   \n",
       "         11        2649  0.02739   7035  0.07273  44834  0.46352  30335   \n",
       "         12        3398  0.02607   9145  0.07016  56200  0.43113  43141   \n",
       "2021     01        3752  0.03247   9102  0.07878  48501  0.41979  37066   \n",
       "         02        2955  0.02892   7942  0.07773  41953  0.41059  33850   \n",
       "         03        5013  0.03242  12201  0.07890  61680  0.39889  52008   \n",
       "         04        2586  0.04050   5372  0.08414  25188  0.39450  21038   \n",
       "\n",
       "                             >=60            total  \n",
       "                         %   qtde        %          \n",
       "ano_caso mes_caso                                   \n",
       "2020     03        0.32533     60  0.16000     375  \n",
       "         04        0.35876    374  0.18059    2071  \n",
       "         05        0.35489    660  0.12373    5334  \n",
       "         06        0.34767   3416  0.12191   28021  \n",
       "         07        0.33246   8812  0.12977   67905  \n",
       "         08        0.32493   8789  0.12897   68148  \n",
       "         09        0.32610   7477  0.12959   57697  \n",
       "         10        0.31161   5075  0.13174   38523  \n",
       "         11        0.31362  11872  0.12274   96725  \n",
       "         12        0.33095  18470  0.14169  130354  \n",
       "2021     01        0.32082  17115  0.14814  115536  \n",
       "         02        0.33129  15477  0.15147  102177  \n",
       "         03        0.33634  23727  0.15344  154629  \n",
       "         04        0.32950   9664  0.15136   63848  "
      ],
      "text/html": "<div>\n<style scoped>\n    .dataframe tbody tr th:only-of-type {\n        vertical-align: middle;\n    }\n\n    .dataframe tbody tr th {\n        vertical-align: top;\n    }\n\n    .dataframe thead tr th {\n        text-align: left;\n    }\n\n    .dataframe thead tr:last-of-type th {\n        text-align: right;\n    }\n</style>\n<table border=\"1\" class=\"dataframe\">\n  <thead>\n    <tr>\n      <th></th>\n      <th></th>\n      <th colspan=\"2\" halign=\"left\">&lt;10</th>\n      <th colspan=\"2\" halign=\"left\">10-19</th>\n      <th colspan=\"2\" halign=\"left\">20-39</th>\n      <th colspan=\"2\" halign=\"left\">40-59</th>\n      <th colspan=\"2\" halign=\"left\">&gt;=60</th>\n      <th>total</th>\n    </tr>\n    <tr>\n      <th></th>\n      <th></th>\n      <th>qtde</th>\n      <th>%</th>\n      <th>qtde</th>\n      <th>%</th>\n      <th>qtde</th>\n      <th>%</th>\n      <th>qtde</th>\n      <th>%</th>\n      <th>qtde</th>\n      <th>%</th>\n      <th></th>\n    </tr>\n    <tr>\n      <th>ano_caso</th>\n      <th>mes_caso</th>\n      <th></th>\n      <th></th>\n      <th></th>\n      <th></th>\n      <th></th>\n      <th></th>\n      <th></th>\n      <th></th>\n      <th></th>\n      <th></th>\n      <th></th>\n    </tr>\n  </thead>\n  <tbody>\n    <tr>\n      <th rowspan=\"10\" valign=\"top\">2020</th>\n      <th>03</th>\n      <td>5</td>\n      <td>0.01333</td>\n      <td>7</td>\n      <td>0.01867</td>\n      <td>181</td>\n      <td>0.48267</td>\n      <td>122</td>\n      <td>0.32533</td>\n      <td>60</td>\n      <td>0.16000</td>\n      <td>375</td>\n    </tr>\n    <tr>\n      <th>04</th>\n      <td>44</td>\n      <td>0.02125</td>\n      <td>61</td>\n      <td>0.02945</td>\n      <td>849</td>\n      <td>0.40995</td>\n      <td>743</td>\n      <td>0.35876</td>\n      <td>374</td>\n      <td>0.18059</td>\n      <td>2071</td>\n    </tr>\n    <tr>\n      <th>05</th>\n      <td>177</td>\n      <td>0.03318</td>\n      <td>227</td>\n      <td>0.04256</td>\n      <td>2377</td>\n      <td>0.44563</td>\n      <td>1893</td>\n      <td>0.35489</td>\n      <td>660</td>\n      <td>0.12373</td>\n      <td>5334</td>\n    </tr>\n    <tr>\n      <th>06</th>\n      <td>884</td>\n      <td>0.03155</td>\n      <td>1482</td>\n      <td>0.05289</td>\n      <td>12497</td>\n      <td>0.44599</td>\n      <td>9742</td>\n      <td>0.34767</td>\n      <td>3416</td>\n      <td>0.12191</td>\n      <td>28021</td>\n    </tr>\n    <tr>\n      <th>07</th>\n      <td>2456</td>\n      <td>0.03617</td>\n      <td>3891</td>\n      <td>0.05730</td>\n      <td>30170</td>\n      <td>0.44430</td>\n      <td>22576</td>\n      <td>0.33246</td>\n      <td>8812</td>\n      <td>0.12977</td>\n      <td>67905</td>\n    </tr>\n    <tr>\n      <th>08</th>\n      <td>2585</td>\n      <td>0.03793</td>\n      <td>4559</td>\n      <td>0.06690</td>\n      <td>30072</td>\n      <td>0.44127</td>\n      <td>22143</td>\n      <td>0.32493</td>\n      <td>8789</td>\n      <td>0.12897</td>\n      <td>68148</td>\n    </tr>\n    <tr>\n      <th>09</th>\n      <td>1983</td>\n      <td>0.03437</td>\n      <td>4002</td>\n      <td>0.06936</td>\n      <td>25420</td>\n      <td>0.44058</td>\n      <td>18815</td>\n      <td>0.32610</td>\n      <td>7477</td>\n      <td>0.12959</td>\n      <td>57697</td>\n    </tr>\n    <tr>\n      <th>10</th>\n      <td>1302</td>\n      <td>0.03380</td>\n      <td>2772</td>\n      <td>0.07196</td>\n      <td>17370</td>\n      <td>0.45090</td>\n      <td>12004</td>\n      <td>0.31161</td>\n      <td>5075</td>\n      <td>0.13174</td>\n      <td>38523</td>\n    </tr>\n    <tr>\n      <th>11</th>\n      <td>2649</td>\n      <td>0.02739</td>\n      <td>7035</td>\n      <td>0.07273</td>\n      <td>44834</td>\n      <td>0.46352</td>\n      <td>30335</td>\n      <td>0.31362</td>\n      <td>11872</td>\n      <td>0.12274</td>\n      <td>96725</td>\n    </tr>\n    <tr>\n      <th>12</th>\n      <td>3398</td>\n      <td>0.02607</td>\n      <td>9145</td>\n      <td>0.07016</td>\n      <td>56200</td>\n      <td>0.43113</td>\n      <td>43141</td>\n      <td>0.33095</td>\n      <td>18470</td>\n      <td>0.14169</td>\n      <td>130354</td>\n    </tr>\n    <tr>\n      <th rowspan=\"4\" valign=\"top\">2021</th>\n      <th>01</th>\n      <td>3752</td>\n      <td>0.03247</td>\n      <td>9102</td>\n      <td>0.07878</td>\n      <td>48501</td>\n      <td>0.41979</td>\n      <td>37066</td>\n      <td>0.32082</td>\n      <td>17115</td>\n      <td>0.14814</td>\n      <td>115536</td>\n    </tr>\n    <tr>\n      <th>02</th>\n      <td>2955</td>\n      <td>0.02892</td>\n      <td>7942</td>\n      <td>0.07773</td>\n      <td>41953</td>\n      <td>0.41059</td>\n      <td>33850</td>\n      <td>0.33129</td>\n      <td>15477</td>\n      <td>0.15147</td>\n      <td>102177</td>\n    </tr>\n    <tr>\n      <th>03</th>\n      <td>5013</td>\n      <td>0.03242</td>\n      <td>12201</td>\n      <td>0.07890</td>\n      <td>61680</td>\n      <td>0.39889</td>\n      <td>52008</td>\n      <td>0.33634</td>\n      <td>23727</td>\n      <td>0.15344</td>\n      <td>154629</td>\n    </tr>\n    <tr>\n      <th>04</th>\n      <td>2586</td>\n      <td>0.04050</td>\n      <td>5372</td>\n      <td>0.08414</td>\n      <td>25188</td>\n      <td>0.39450</td>\n      <td>21038</td>\n      <td>0.32950</td>\n      <td>9664</td>\n      <td>0.15136</td>\n      <td>63848</td>\n    </tr>\n  </tbody>\n</table>\n</div>"
     },
     "metadata": {},
     "execution_count": 7
    }
   ],
   "source": [
    "faixa_etaria_casos = casos.groupby(by=['ano_caso','mes_caso','faixa_etaria'])[['sexo','ibge_res_pr']].count().rename(columns={'sexo':'0','ibge_res_pr':'1'})\n",
    "faixa_etaria_casos = faixa_etaria_casos.unstack().fillna(0).astype(int)\n",
    "faixa_etaria_casos = faixa_etaria_casos.swaplevel(1,0,1).sort_index(1).rename(columns={'0':'qtde','1':'%'})\n",
    "\n",
    "faixa_etaria_casos.columns = pd.MultiIndex.from_tuples(faixa_etaria_casos.columns)\n",
    "faixa_etaria_casos['total'] = faixa_etaria_casos.xs('qtde',level=1, axis=1).sum(axis=1)\n",
    "\n",
    "\n",
    "# for ano in faixa_etaria_casos.index.get_level_values(0).unique():\n",
    "#     faixa_etaria_casos = faixa_etaria_casos.append(\n",
    "#         pd.Series(data=faixa_etaria_casos.loc[ano].sum(0), name=(ano,'total'))\n",
    "#     )\n",
    "\n",
    "# faixa_etaria_casos = faixa_etaria_casos.append(\n",
    "#         pd.Series(data=faixa_etaria_casos.xs('total', level=1).sum(0), name=('total_geral',''))\n",
    "# )\n",
    "\n",
    "# faixa_etaria_casos = faixa_etaria_casos.loc[faixa_etaria_casos.sum(1)>0]\n",
    "\n",
    "faixa_etaria_casos = faixa_etaria_casos.sort_index()\n",
    "\n",
    "for ano_mes in faixa_etaria_casos.index:\n",
    "    for faixa_etaria, tipo in faixa_etaria_casos.columns:\n",
    "        if tipo == '%':\n",
    "            faixa_etaria_casos.loc[ano_mes,(faixa_etaria,'%')] = faixa_etaria_casos.loc[ano_mes,(faixa_etaria,'%')] / faixa_etaria_casos.loc[ano_mes,'total'].values\n",
    "\n",
    "faixa_etaria_casos.columns = faixa_etaria_casos.columns.set_levels([ faixa_etaria_index[index] if isinstance(index,int) else index for index in faixa_etaria_casos.columns.levels[0]],0,False)\n",
    "            \n",
    "faixa_etaria_casos"
   ]
  },
  {
   "cell_type": "code",
   "execution_count": 8,
   "metadata": {},
   "outputs": [
    {
     "output_type": "stream",
     "name": "stderr",
     "text": [
      "<ipython-input-8-38039ff4805d>:26: FutureWarning: inplace is deprecated and will be removed in a future version.\n  faixa_etaria_obitos.columns = faixa_etaria_obitos.columns.set_levels([ faixa_etaria_index[index] if isinstance(index,int) else index for index in faixa_etaria_obitos.columns.levels[0]],0,False)\n"
     ]
    },
    {
     "output_type": "execute_result",
     "data": {
      "text/plain": [
       "                     <10          10-19          20-39          40-59  \\\n",
       "                    qtde        %  qtde        %  qtde        %  qtde   \n",
       "ano_obito mes_obito                                                     \n",
       "2020      03           0  0.00000     0  0.00000     0  0.00000     3   \n",
       "          04           0  0.00000     0  0.00000     2  0.01905    33   \n",
       "          05           1  0.00813     1  0.00813     3  0.02439    26   \n",
       "          06           0  0.00000     3  0.00487    28  0.04545   115   \n",
       "          07           1  0.00069     1  0.00069    64  0.04448   321   \n",
       "          08           3  0.00190     3  0.00190    52  0.03293   323   \n",
       "          09           0  0.00000     6  0.00480    60  0.04804   223   \n",
       "          10           0  0.00000     2  0.00245    28  0.03427   137   \n",
       "          11           1  0.00098     1  0.00098    33  0.03220   181   \n",
       "          12           0  0.00000     3  0.00137    74  0.03371   414   \n",
       "2021      01           2  0.00107     3  0.00160    56  0.02985   340   \n",
       "          02           3  0.00159     3  0.00159    69  0.03660   392   \n",
       "          03           4  0.00067    11  0.00183   359  0.05982  1573   \n",
       "          04           1  0.00037     3  0.00110   162  0.05925   751   \n",
       "\n",
       "                              >=60          total  \n",
       "                           %  qtde        %        \n",
       "ano_obito mes_obito                                \n",
       "2020      03         0.50000     3  0.50000     6  \n",
       "          04         0.31429    70  0.66667   105  \n",
       "          05         0.21138    92  0.74797   123  \n",
       "          06         0.18669   470  0.76299   616  \n",
       "          07         0.22307  1052  0.73106  1439  \n",
       "          08         0.20456  1198  0.75871  1579  \n",
       "          09         0.17854   960  0.76861  1249  \n",
       "          10         0.16769   650  0.79559   817  \n",
       "          11         0.17659   809  0.78927  1025  \n",
       "          12         0.18861  1704  0.77631  2195  \n",
       "2021      01         0.18124  1475  0.78625  1876  \n",
       "          02         0.20796  1418  0.75225  1885  \n",
       "          03         0.26212  4054  0.67555  6001  \n",
       "          04         0.27469  1817  0.66459  2734  "
      ],
      "text/html": "<div>\n<style scoped>\n    .dataframe tbody tr th:only-of-type {\n        vertical-align: middle;\n    }\n\n    .dataframe tbody tr th {\n        vertical-align: top;\n    }\n\n    .dataframe thead tr th {\n        text-align: left;\n    }\n\n    .dataframe thead tr:last-of-type th {\n        text-align: right;\n    }\n</style>\n<table border=\"1\" class=\"dataframe\">\n  <thead>\n    <tr>\n      <th></th>\n      <th></th>\n      <th colspan=\"2\" halign=\"left\">&lt;10</th>\n      <th colspan=\"2\" halign=\"left\">10-19</th>\n      <th colspan=\"2\" halign=\"left\">20-39</th>\n      <th colspan=\"2\" halign=\"left\">40-59</th>\n      <th colspan=\"2\" halign=\"left\">&gt;=60</th>\n      <th>total</th>\n    </tr>\n    <tr>\n      <th></th>\n      <th></th>\n      <th>qtde</th>\n      <th>%</th>\n      <th>qtde</th>\n      <th>%</th>\n      <th>qtde</th>\n      <th>%</th>\n      <th>qtde</th>\n      <th>%</th>\n      <th>qtde</th>\n      <th>%</th>\n      <th></th>\n    </tr>\n    <tr>\n      <th>ano_obito</th>\n      <th>mes_obito</th>\n      <th></th>\n      <th></th>\n      <th></th>\n      <th></th>\n      <th></th>\n      <th></th>\n      <th></th>\n      <th></th>\n      <th></th>\n      <th></th>\n      <th></th>\n    </tr>\n  </thead>\n  <tbody>\n    <tr>\n      <th rowspan=\"10\" valign=\"top\">2020</th>\n      <th>03</th>\n      <td>0</td>\n      <td>0.00000</td>\n      <td>0</td>\n      <td>0.00000</td>\n      <td>0</td>\n      <td>0.00000</td>\n      <td>3</td>\n      <td>0.50000</td>\n      <td>3</td>\n      <td>0.50000</td>\n      <td>6</td>\n    </tr>\n    <tr>\n      <th>04</th>\n      <td>0</td>\n      <td>0.00000</td>\n      <td>0</td>\n      <td>0.00000</td>\n      <td>2</td>\n      <td>0.01905</td>\n      <td>33</td>\n      <td>0.31429</td>\n      <td>70</td>\n      <td>0.66667</td>\n      <td>105</td>\n    </tr>\n    <tr>\n      <th>05</th>\n      <td>1</td>\n      <td>0.00813</td>\n      <td>1</td>\n      <td>0.00813</td>\n      <td>3</td>\n      <td>0.02439</td>\n      <td>26</td>\n      <td>0.21138</td>\n      <td>92</td>\n      <td>0.74797</td>\n      <td>123</td>\n    </tr>\n    <tr>\n      <th>06</th>\n      <td>0</td>\n      <td>0.00000</td>\n      <td>3</td>\n      <td>0.00487</td>\n      <td>28</td>\n      <td>0.04545</td>\n      <td>115</td>\n      <td>0.18669</td>\n      <td>470</td>\n      <td>0.76299</td>\n      <td>616</td>\n    </tr>\n    <tr>\n      <th>07</th>\n      <td>1</td>\n      <td>0.00069</td>\n      <td>1</td>\n      <td>0.00069</td>\n      <td>64</td>\n      <td>0.04448</td>\n      <td>321</td>\n      <td>0.22307</td>\n      <td>1052</td>\n      <td>0.73106</td>\n      <td>1439</td>\n    </tr>\n    <tr>\n      <th>08</th>\n      <td>3</td>\n      <td>0.00190</td>\n      <td>3</td>\n      <td>0.00190</td>\n      <td>52</td>\n      <td>0.03293</td>\n      <td>323</td>\n      <td>0.20456</td>\n      <td>1198</td>\n      <td>0.75871</td>\n      <td>1579</td>\n    </tr>\n    <tr>\n      <th>09</th>\n      <td>0</td>\n      <td>0.00000</td>\n      <td>6</td>\n      <td>0.00480</td>\n      <td>60</td>\n      <td>0.04804</td>\n      <td>223</td>\n      <td>0.17854</td>\n      <td>960</td>\n      <td>0.76861</td>\n      <td>1249</td>\n    </tr>\n    <tr>\n      <th>10</th>\n      <td>0</td>\n      <td>0.00000</td>\n      <td>2</td>\n      <td>0.00245</td>\n      <td>28</td>\n      <td>0.03427</td>\n      <td>137</td>\n      <td>0.16769</td>\n      <td>650</td>\n      <td>0.79559</td>\n      <td>817</td>\n    </tr>\n    <tr>\n      <th>11</th>\n      <td>1</td>\n      <td>0.00098</td>\n      <td>1</td>\n      <td>0.00098</td>\n      <td>33</td>\n      <td>0.03220</td>\n      <td>181</td>\n      <td>0.17659</td>\n      <td>809</td>\n      <td>0.78927</td>\n      <td>1025</td>\n    </tr>\n    <tr>\n      <th>12</th>\n      <td>0</td>\n      <td>0.00000</td>\n      <td>3</td>\n      <td>0.00137</td>\n      <td>74</td>\n      <td>0.03371</td>\n      <td>414</td>\n      <td>0.18861</td>\n      <td>1704</td>\n      <td>0.77631</td>\n      <td>2195</td>\n    </tr>\n    <tr>\n      <th rowspan=\"4\" valign=\"top\">2021</th>\n      <th>01</th>\n      <td>2</td>\n      <td>0.00107</td>\n      <td>3</td>\n      <td>0.00160</td>\n      <td>56</td>\n      <td>0.02985</td>\n      <td>340</td>\n      <td>0.18124</td>\n      <td>1475</td>\n      <td>0.78625</td>\n      <td>1876</td>\n    </tr>\n    <tr>\n      <th>02</th>\n      <td>3</td>\n      <td>0.00159</td>\n      <td>3</td>\n      <td>0.00159</td>\n      <td>69</td>\n      <td>0.03660</td>\n      <td>392</td>\n      <td>0.20796</td>\n      <td>1418</td>\n      <td>0.75225</td>\n      <td>1885</td>\n    </tr>\n    <tr>\n      <th>03</th>\n      <td>4</td>\n      <td>0.00067</td>\n      <td>11</td>\n      <td>0.00183</td>\n      <td>359</td>\n      <td>0.05982</td>\n      <td>1573</td>\n      <td>0.26212</td>\n      <td>4054</td>\n      <td>0.67555</td>\n      <td>6001</td>\n    </tr>\n    <tr>\n      <th>04</th>\n      <td>1</td>\n      <td>0.00037</td>\n      <td>3</td>\n      <td>0.00110</td>\n      <td>162</td>\n      <td>0.05925</td>\n      <td>751</td>\n      <td>0.27469</td>\n      <td>1817</td>\n      <td>0.66459</td>\n      <td>2734</td>\n    </tr>\n  </tbody>\n</table>\n</div>"
     },
     "metadata": {},
     "execution_count": 8
    }
   ],
   "source": [
    "faixa_etaria_obitos = obitos.groupby(by=['ano_obito','mes_obito','faixa_etaria'])[['sexo','ibge_res_pr']].count().rename(columns={'sexo':'0','ibge_res_pr':'1'})\n",
    "faixa_etaria_obitos = faixa_etaria_obitos.unstack().fillna(0).astype(int)\n",
    "faixa_etaria_obitos = faixa_etaria_obitos.swaplevel(1,0,1).sort_index(1).rename(columns={'0':'qtde','1':'%'})\n",
    "\n",
    "faixa_etaria_obitos.columns = pd.MultiIndex.from_tuples(faixa_etaria_obitos.columns)\n",
    "faixa_etaria_obitos['total'] = faixa_etaria_obitos.xs('qtde',level=1, axis=1).sum(axis=1)\n",
    "\n",
    "\n",
    "# for ano in faixa_etaria_obitos.index.get_level_values(0).unique():\n",
    "#     faixa_etaria_obitos = faixa_etaria_obitos.append(\n",
    "#         pd.Series(data=faixa_etaria_obitos.loc[ano].sum(0), name=(ano,'total'))\n",
    "#     )\n",
    "\n",
    "# faixa_etaria_obitos = faixa_etaria_obitos.append(\n",
    "#         pd.Series(data=faixa_etaria_obitos.xs('total', level=1).sum(0), name=('total_geral',''))\n",
    "# )\n",
    "\n",
    "# faixa_etaria_obitos = faixa_etaria_obitos.loc[faixa_etaria_obitos.sum(1)>0]\n",
    "faixa_etaria_obitos = faixa_etaria_obitos.sort_index()\n",
    "\n",
    "for ano_mes in faixa_etaria_obitos.index:\n",
    "    for faixa_etaria, tipo in faixa_etaria_obitos.columns:\n",
    "        if tipo == '%':\n",
    "            faixa_etaria_obitos.loc[ano_mes,(faixa_etaria,'%')] = faixa_etaria_obitos.loc[ano_mes,(faixa_etaria,'%')] / faixa_etaria_obitos.loc[ano_mes,'total'].values\n",
    "            \n",
    "faixa_etaria_obitos.columns = faixa_etaria_obitos.columns.set_levels([ faixa_etaria_index[index] if isinstance(index,int) else index for index in faixa_etaria_obitos.columns.levels[0]],0,False)\n",
    "\n",
    "faixa_etaria_obitos"
   ]
  },
  {
   "cell_type": "code",
   "execution_count": 9,
   "metadata": {},
   "outputs": [
    {
     "output_type": "stream",
     "name": "stderr",
     "text": [
      "/home/vinnylg/.local/lib/python3.8/site-packages/xlsxwriter/workbook.py:329: UserWarning: Calling close() on already closed file.\n  warn(\"Calling close() on already closed file.\")\n"
     ]
    }
   ],
   "source": [
    "writer = pd.ExcelWriter(\"faixa_etaria_por_mes_raw.xlsx\",\n",
    "                        engine='xlsxwriter',\n",
    "                        datetime_format='dd/mm/yyyy',\n",
    "                        date_format='dd/mm/yyyy')\n",
    "\n",
    "workbook = writer.book\n",
    "\n",
    "faixa_etaria_casos.to_excel(writer,sheet_name=f\"faixa_etaria_casos\")\n",
    "worksheet = writer.sheets[f\"faixa_etaria_casos\"]\n",
    "auto_fit_columns(worksheet,faixa_etaria_casos)\n",
    "\n",
    "\n",
    "faixa_etaria_obitos.to_excel(writer,sheet_name=f\"faixa_etaria_obitos\")\n",
    "worksheet = writer.sheets[f\"faixa_etaria_obitos\"]\n",
    "auto_fit_columns(worksheet,faixa_etaria_obitos)\n",
    "\n",
    "writer.save()\n",
    "writer.close()"
   ]
  },
  {
   "cell_type": "code",
   "execution_count": 11,
   "metadata": {},
   "outputs": [
    {
     "output_type": "execute_result",
     "data": {
      "text/plain": [
       "                    <10          10-19           20-39           40-59  \\\n",
       "                   qtde        %  qtde        %   qtde        %   qtde   \n",
       "ano_caso mes_caso                                                        \n",
       "2020     04          44  0.02125    61  0.02945    849  0.40995    743   \n",
       "2021     04        2586  0.04050  5372  0.08414  25188  0.39450  21038   \n",
       "\n",
       "                            >=60           total  \n",
       "                         %  qtde        %         \n",
       "ano_caso mes_caso                                 \n",
       "2020     04        0.35876   374  0.18059   2071  \n",
       "2021     04        0.32950  9664  0.15136  63848  "
      ],
      "text/html": "<div>\n<style scoped>\n    .dataframe tbody tr th:only-of-type {\n        vertical-align: middle;\n    }\n\n    .dataframe tbody tr th {\n        vertical-align: top;\n    }\n\n    .dataframe thead tr th {\n        text-align: left;\n    }\n\n    .dataframe thead tr:last-of-type th {\n        text-align: right;\n    }\n</style>\n<table border=\"1\" class=\"dataframe\">\n  <thead>\n    <tr>\n      <th></th>\n      <th></th>\n      <th colspan=\"2\" halign=\"left\">&lt;10</th>\n      <th colspan=\"2\" halign=\"left\">10-19</th>\n      <th colspan=\"2\" halign=\"left\">20-39</th>\n      <th colspan=\"2\" halign=\"left\">40-59</th>\n      <th colspan=\"2\" halign=\"left\">&gt;=60</th>\n      <th>total</th>\n    </tr>\n    <tr>\n      <th></th>\n      <th></th>\n      <th>qtde</th>\n      <th>%</th>\n      <th>qtde</th>\n      <th>%</th>\n      <th>qtde</th>\n      <th>%</th>\n      <th>qtde</th>\n      <th>%</th>\n      <th>qtde</th>\n      <th>%</th>\n      <th></th>\n    </tr>\n    <tr>\n      <th>ano_caso</th>\n      <th>mes_caso</th>\n      <th></th>\n      <th></th>\n      <th></th>\n      <th></th>\n      <th></th>\n      <th></th>\n      <th></th>\n      <th></th>\n      <th></th>\n      <th></th>\n      <th></th>\n    </tr>\n  </thead>\n  <tbody>\n    <tr>\n      <th>2020</th>\n      <th>04</th>\n      <td>44</td>\n      <td>0.02125</td>\n      <td>61</td>\n      <td>0.02945</td>\n      <td>849</td>\n      <td>0.40995</td>\n      <td>743</td>\n      <td>0.35876</td>\n      <td>374</td>\n      <td>0.18059</td>\n      <td>2071</td>\n    </tr>\n    <tr>\n      <th>2021</th>\n      <th>04</th>\n      <td>2586</td>\n      <td>0.04050</td>\n      <td>5372</td>\n      <td>0.08414</td>\n      <td>25188</td>\n      <td>0.39450</td>\n      <td>21038</td>\n      <td>0.32950</td>\n      <td>9664</td>\n      <td>0.15136</td>\n      <td>63848</td>\n    </tr>\n  </tbody>\n</table>\n</div>"
     },
     "metadata": {},
     "execution_count": 11
    }
   ],
   "source": [
    "faixa_etaria_casos.loc[(slice(None),'04'),()]"
   ]
  },
  {
   "cell_type": "code",
   "execution_count": null,
   "metadata": {},
   "outputs": [],
   "source": []
  }
 ],
 "metadata": {
  "kernelspec": {
   "name": "python388jvsc74a57bd0c1b48e1f2db26aabe6c153a2d2cd15e699e72625e4b4b73be2a85904c79b00cc",
   "display_name": "Python 3.8.8 64-bit ('boletim': conda)"
  },
  "language_info": {
   "codemirror_mode": {
    "name": "ipython",
    "version": 3
   },
   "file_extension": ".py",
   "mimetype": "text/x-python",
   "name": "python",
   "nbconvert_exporter": "python",
   "pygments_lexer": "ipython3",
   "version": "3.8.8"
  }
 },
 "nbformat": 4,
 "nbformat_minor": 4
}