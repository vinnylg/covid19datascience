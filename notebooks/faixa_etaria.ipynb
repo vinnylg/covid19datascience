{
 "cells": [
  {
   "cell_type": "code",
   "execution_count": null,
   "metadata": {},
   "outputs": [],
   "source": [
    "import sys\n",
    "sys.path.append('..')\n",
    "print(sys.path)"
   ]
  },
  {
   "cell_type": "code",
   "execution_count": 1,
   "metadata": {},
   "outputs": [],
   "source": [
    "from sys import exit\n",
    "import numpy as np\n",
    "import pandas as pd\n",
    "from scipy import stats\n",
    "import matplotlib.pyplot as plt\n",
    "from datetime import datetime, timedelta\n",
    "from bulletin.commom import static, normalize\n",
    "\n",
    "from bulletin.commom.utils import Timer, auto_fit_columns\n",
    "pd.set_option('display.max_columns', None)\n",
    "\n",
    "meses = ['janeiro','fevereiro','marco','abril','maio','junho','julho','agosto','setembro','outubro','novembro','dezembro']\n",
    "pd.set_option(\"display.precision\", 5)"
   ]
  },
  {
   "cell_type": "code",
   "execution_count": 2,
   "metadata": {},
   "outputs": [],
   "source": [
    "csv_geral = pd.read_csv('geral.csv', sep=';', converters={'IDADE_ORIGINAL': lambda x: normalize.normalize_number(x,fill=0)}, parse_dates=['DATA_DIAGNOSTICO','DATA_OBITO'], date_parser=lambda x: pd.to_datetime(x, format='%d/%m/%Y'))\n",
    "csv_geral.columns = [ normalize.normalize_labels(x) for x in csv_geral.columns ]\n",
    "casos = csv_geral.copy()"
   ]
  },
  {
   "cell_type": "code",
   "execution_count": 3,
   "metadata": {},
   "outputs": [],
   "source": [
    "faixa_etaria = [0,60,70,80,90,100,np.inf]\n",
    "faixa_etaria_labels = ['<=59','60-69','70-79','80-89','90-99','>=100']"
   ]
  },
  {
   "cell_type": "code",
   "execution_count": 4,
   "metadata": {},
   "outputs": [],
   "source": [
    "casos['mes_caso'] = casos.apply(lambda row: row['data_diagnostico'].strftime('%m'), axis=1)\n",
    "casos['ano_caso'] = casos.apply(lambda row: row['data_diagnostico'].strftime('%Y'), axis=1)\n",
    "casos['faixa_etaria'] = pd.cut(casos['idade_original'], faixa_etaria, labels=faixa_etaria_labels)"
   ]
  },
  {
   "cell_type": "code",
   "execution_count": 5,
   "metadata": {},
   "outputs": [],
   "source": [
    "obitos = casos.loc[ casos['data_obito'].notnull() ].copy()\n",
    "obitos['mes_obito'] = obitos.apply(lambda row: row['data_obito'].strftime('%m'), axis=1)\n",
    "obitos['ano_obito'] = obitos.apply(lambda row: row['data_obito'].strftime('%Y'), axis=1)\n",
    "obitos['faixa_etaria'] = pd.cut(obitos['idade_original'], faixa_etaria, labels=faixa_etaria_labels)"
   ]
  },
  {
   "cell_type": "code",
   "execution_count": 6,
   "metadata": {},
   "outputs": [
    {
     "output_type": "execute_result",
     "data": {
      "text/plain": [
       "                     <=59           60-69          70-79          80-89  \\\n",
       "                     qtde        %   qtde        %  qtde        %  qtde   \n",
       "ano_caso mes_caso                                                         \n",
       "2020     03           313  0.84367     44  0.11860    12  0.03235     2   \n",
       "         04          1642  0.82929    165  0.08333   100  0.05051    61   \n",
       "         05          4644  0.88491    338  0.06441   184  0.03506    74   \n",
       "         06         24549  0.88580   1861  0.06715   890  0.03211   365   \n",
       "         07         59009  0.87916   4774  0.07113  2239  0.03336   922   \n",
       "         08         59211  0.88025   4715  0.07009  2234  0.03321   922   \n",
       "         09         50052  0.87963   4076  0.07163  1900  0.03339   722   \n",
       "         10         33925  0.87832   2811  0.07278  1276  0.03304   531   \n",
       "         11         84805  0.88655   6817  0.07127  2898  0.03030   980   \n",
       "         12        111431  0.86838  10288  0.08017  4666  0.03636  1664   \n",
       "2021     01         98367  0.86239   9364  0.08209  4453  0.03904  1626   \n",
       "         02         84437  0.86071   8229  0.08388  3886  0.03961  1357   \n",
       "         03         60322  0.85709   6055  0.08603  2864  0.04069   970   \n",
       "\n",
       "                           90-99          >=100            total  \n",
       "                         %  qtde        %  qtde        %          \n",
       "ano_caso mes_caso                                                 \n",
       "2020     03        0.00539     0  0.00000     0  0.00000     371  \n",
       "         04        0.03081    12  0.00606     0  0.00000    1980  \n",
       "         05        0.01410     8  0.00152     0  0.00000    5248  \n",
       "         06        0.01317    47  0.00170     2  0.00007   27714  \n",
       "         07        0.01374   170  0.00253     6  0.00009   67120  \n",
       "         08        0.01371   179  0.00266     5  0.00007   67266  \n",
       "         09        0.01269   146  0.00257     5  0.00009   56901  \n",
       "         10        0.01375    79  0.00205     3  0.00008   38625  \n",
       "         11        0.01024   152  0.00159     5  0.00005   95657  \n",
       "         12        0.01297   253  0.00197    19  0.00015  128321  \n",
       "2021     01        0.01426   246  0.00216     7  0.00006  114063  \n",
       "         02        0.01383   183  0.00187     9  0.00009   98101  \n",
       "         03        0.01378   165  0.00234     4  0.00006   70380  "
      ],
      "text/html": "<div>\n<style scoped>\n    .dataframe tbody tr th:only-of-type {\n        vertical-align: middle;\n    }\n\n    .dataframe tbody tr th {\n        vertical-align: top;\n    }\n\n    .dataframe thead tr th {\n        text-align: left;\n    }\n\n    .dataframe thead tr:last-of-type th {\n        text-align: right;\n    }\n</style>\n<table border=\"1\" class=\"dataframe\">\n  <thead>\n    <tr>\n      <th></th>\n      <th></th>\n      <th colspan=\"2\" halign=\"left\">&lt;=59</th>\n      <th colspan=\"2\" halign=\"left\">60-69</th>\n      <th colspan=\"2\" halign=\"left\">70-79</th>\n      <th colspan=\"2\" halign=\"left\">80-89</th>\n      <th colspan=\"2\" halign=\"left\">90-99</th>\n      <th colspan=\"2\" halign=\"left\">&gt;=100</th>\n      <th>total</th>\n    </tr>\n    <tr>\n      <th></th>\n      <th></th>\n      <th>qtde</th>\n      <th>%</th>\n      <th>qtde</th>\n      <th>%</th>\n      <th>qtde</th>\n      <th>%</th>\n      <th>qtde</th>\n      <th>%</th>\n      <th>qtde</th>\n      <th>%</th>\n      <th>qtde</th>\n      <th>%</th>\n      <th></th>\n    </tr>\n    <tr>\n      <th>ano_caso</th>\n      <th>mes_caso</th>\n      <th></th>\n      <th></th>\n      <th></th>\n      <th></th>\n      <th></th>\n      <th></th>\n      <th></th>\n      <th></th>\n      <th></th>\n      <th></th>\n      <th></th>\n      <th></th>\n      <th></th>\n    </tr>\n  </thead>\n  <tbody>\n    <tr>\n      <th rowspan=\"10\" valign=\"top\">2020</th>\n      <th>03</th>\n      <td>313</td>\n      <td>0.84367</td>\n      <td>44</td>\n      <td>0.11860</td>\n      <td>12</td>\n      <td>0.03235</td>\n      <td>2</td>\n      <td>0.00539</td>\n      <td>0</td>\n      <td>0.00000</td>\n      <td>0</td>\n      <td>0.00000</td>\n      <td>371</td>\n    </tr>\n    <tr>\n      <th>04</th>\n      <td>1642</td>\n      <td>0.82929</td>\n      <td>165</td>\n      <td>0.08333</td>\n      <td>100</td>\n      <td>0.05051</td>\n      <td>61</td>\n      <td>0.03081</td>\n      <td>12</td>\n      <td>0.00606</td>\n      <td>0</td>\n      <td>0.00000</td>\n      <td>1980</td>\n    </tr>\n    <tr>\n      <th>05</th>\n      <td>4644</td>\n      <td>0.88491</td>\n      <td>338</td>\n      <td>0.06441</td>\n      <td>184</td>\n      <td>0.03506</td>\n      <td>74</td>\n      <td>0.01410</td>\n      <td>8</td>\n      <td>0.00152</td>\n      <td>0</td>\n      <td>0.00000</td>\n      <td>5248</td>\n    </tr>\n    <tr>\n      <th>06</th>\n      <td>24549</td>\n      <td>0.88580</td>\n      <td>1861</td>\n      <td>0.06715</td>\n      <td>890</td>\n      <td>0.03211</td>\n      <td>365</td>\n      <td>0.01317</td>\n      <td>47</td>\n      <td>0.00170</td>\n      <td>2</td>\n      <td>0.00007</td>\n      <td>27714</td>\n    </tr>\n    <tr>\n      <th>07</th>\n      <td>59009</td>\n      <td>0.87916</td>\n      <td>4774</td>\n      <td>0.07113</td>\n      <td>2239</td>\n      <td>0.03336</td>\n      <td>922</td>\n      <td>0.01374</td>\n      <td>170</td>\n      <td>0.00253</td>\n      <td>6</td>\n      <td>0.00009</td>\n      <td>67120</td>\n    </tr>\n    <tr>\n      <th>08</th>\n      <td>59211</td>\n      <td>0.88025</td>\n      <td>4715</td>\n      <td>0.07009</td>\n      <td>2234</td>\n      <td>0.03321</td>\n      <td>922</td>\n      <td>0.01371</td>\n      <td>179</td>\n      <td>0.00266</td>\n      <td>5</td>\n      <td>0.00007</td>\n      <td>67266</td>\n    </tr>\n    <tr>\n      <th>09</th>\n      <td>50052</td>\n      <td>0.87963</td>\n      <td>4076</td>\n      <td>0.07163</td>\n      <td>1900</td>\n      <td>0.03339</td>\n      <td>722</td>\n      <td>0.01269</td>\n      <td>146</td>\n      <td>0.00257</td>\n      <td>5</td>\n      <td>0.00009</td>\n      <td>56901</td>\n    </tr>\n    <tr>\n      <th>10</th>\n      <td>33925</td>\n      <td>0.87832</td>\n      <td>2811</td>\n      <td>0.07278</td>\n      <td>1276</td>\n      <td>0.03304</td>\n      <td>531</td>\n      <td>0.01375</td>\n      <td>79</td>\n      <td>0.00205</td>\n      <td>3</td>\n      <td>0.00008</td>\n      <td>38625</td>\n    </tr>\n    <tr>\n      <th>11</th>\n      <td>84805</td>\n      <td>0.88655</td>\n      <td>6817</td>\n      <td>0.07127</td>\n      <td>2898</td>\n      <td>0.03030</td>\n      <td>980</td>\n      <td>0.01024</td>\n      <td>152</td>\n      <td>0.00159</td>\n      <td>5</td>\n      <td>0.00005</td>\n      <td>95657</td>\n    </tr>\n    <tr>\n      <th>12</th>\n      <td>111431</td>\n      <td>0.86838</td>\n      <td>10288</td>\n      <td>0.08017</td>\n      <td>4666</td>\n      <td>0.03636</td>\n      <td>1664</td>\n      <td>0.01297</td>\n      <td>253</td>\n      <td>0.00197</td>\n      <td>19</td>\n      <td>0.00015</td>\n      <td>128321</td>\n    </tr>\n    <tr>\n      <th rowspan=\"3\" valign=\"top\">2021</th>\n      <th>01</th>\n      <td>98367</td>\n      <td>0.86239</td>\n      <td>9364</td>\n      <td>0.08209</td>\n      <td>4453</td>\n      <td>0.03904</td>\n      <td>1626</td>\n      <td>0.01426</td>\n      <td>246</td>\n      <td>0.00216</td>\n      <td>7</td>\n      <td>0.00006</td>\n      <td>114063</td>\n    </tr>\n    <tr>\n      <th>02</th>\n      <td>84437</td>\n      <td>0.86071</td>\n      <td>8229</td>\n      <td>0.08388</td>\n      <td>3886</td>\n      <td>0.03961</td>\n      <td>1357</td>\n      <td>0.01383</td>\n      <td>183</td>\n      <td>0.00187</td>\n      <td>9</td>\n      <td>0.00009</td>\n      <td>98101</td>\n    </tr>\n    <tr>\n      <th>03</th>\n      <td>60322</td>\n      <td>0.85709</td>\n      <td>6055</td>\n      <td>0.08603</td>\n      <td>2864</td>\n      <td>0.04069</td>\n      <td>970</td>\n      <td>0.01378</td>\n      <td>165</td>\n      <td>0.00234</td>\n      <td>4</td>\n      <td>0.00006</td>\n      <td>70380</td>\n    </tr>\n  </tbody>\n</table>\n</div>"
     },
     "metadata": {},
     "execution_count": 6
    }
   ],
   "source": [
    "faixa_etaria_casos = casos.groupby(by=['ano_caso','mes_caso','faixa_etaria'])[['sexo','ibge_res_pr']].count().rename(columns={'sexo':'0','ibge_res_pr':'1'})\n",
    "faixa_etaria_casos = faixa_etaria_casos.unstack().fillna(0).astype(int)\n",
    "faixa_etaria_casos = faixa_etaria_casos.swaplevel(1,0,1).sort_index(1).rename(columns={'0':'qtde','1':'%'})\n",
    "\n",
    "faixa_etaria_casos.columns = pd.MultiIndex.from_tuples(faixa_etaria_casos.columns)\n",
    "faixa_etaria_casos['total'] = faixa_etaria_casos.xs('qtde',level=1, axis=1).sum(axis=1)\n",
    "\n",
    "\n",
    "# for ano in faixa_etaria_casos.index.get_level_values(0).unique():\n",
    "#     faixa_etaria_casos = faixa_etaria_casos.append(\n",
    "#         pd.Series(data=faixa_etaria_casos.loc[ano].sum(0), name=(ano,'total'))\n",
    "#     )\n",
    "\n",
    "# faixa_etaria_casos = faixa_etaria_casos.append(\n",
    "#         pd.Series(data=faixa_etaria_casos.xs('total', level=1).sum(0), name=('total_geral',''))\n",
    "# )\n",
    "\n",
    "faixa_etaria_casos = faixa_etaria_casos.loc[faixa_etaria_casos.sum(1)>0]\n",
    "faixa_etaria_casos = faixa_etaria_casos.sort_index()\n",
    "\n",
    "for ano_mes in faixa_etaria_casos.index:\n",
    "    for faixa_etaria, tipo in faixa_etaria_casos.columns:\n",
    "        if tipo == '%':\n",
    "            faixa_etaria_casos.loc[ano_mes,(faixa_etaria,'%')] = faixa_etaria_casos.loc[ano_mes,(faixa_etaria,'%')] / faixa_etaria_casos.loc[ano_mes,'total'].values\n",
    "            \n",
    "faixa_etaria_casos"
   ]
  },
  {
   "cell_type": "code",
   "execution_count": 7,
   "metadata": {},
   "outputs": [
    {
     "output_type": "execute_result",
     "data": {
      "text/plain": [
       "                    <=59          60-69          70-79          80-89  \\\n",
       "                    qtde        %  qtde        %  qtde        %  qtde   \n",
       "ano_obito mes_obito                                                     \n",
       "2020      03           2  0.40000     1  0.20000     1  0.20000     1   \n",
       "          04          33  0.32039    16  0.15534    22  0.21359    21   \n",
       "          05          35  0.28455    34  0.27642    29  0.23577    22   \n",
       "          06         161  0.26179   137  0.22276   158  0.25691   141   \n",
       "          07         409  0.28403   335  0.23264   378  0.26250   256   \n",
       "          08         411  0.26178   398  0.25350   408  0.25987   287   \n",
       "          09         303  0.24318   311  0.24960   338  0.27127   222   \n",
       "          10         180  0.22250   214  0.26452   217  0.26823   163   \n",
       "          11         232  0.23062   265  0.26342   270  0.26839   201   \n",
       "          12         507  0.24317   531  0.25468   581  0.27866   386   \n",
       "2021      01         387  0.22592   464  0.27087   469  0.27379   323   \n",
       "          02         436  0.26798   423  0.25999   444  0.27289   266   \n",
       "          03         615  0.33154   476  0.25660   444  0.23935   266   \n",
       "\n",
       "                             90-99          >=100          total  \n",
       "                           %  qtde        %  qtde        %        \n",
       "ano_obito mes_obito                                               \n",
       "2020      03         0.20000     0  0.00000     0  0.00000     5  \n",
       "          04         0.20388    11  0.10680     0  0.00000   103  \n",
       "          05         0.17886     3  0.02439     0  0.00000   123  \n",
       "          06         0.22927    18  0.02927     0  0.00000   615  \n",
       "          07         0.17778    59  0.04097     3  0.00208  1440  \n",
       "          08         0.18280    64  0.04076     2  0.00127  1570  \n",
       "          09         0.17817    69  0.05538     3  0.00241  1246  \n",
       "          10         0.20148    35  0.04326     0  0.00000   809  \n",
       "          11         0.19980    37  0.03678     1  0.00099  1006  \n",
       "          12         0.18513    75  0.03597     5  0.00240  2085  \n",
       "2021      01         0.18856    68  0.03970     2  0.00117  1713  \n",
       "          02         0.16349    54  0.03319     4  0.00246  1627  \n",
       "          03         0.14340    52  0.02803     2  0.00108  1855  "
      ],
      "text/html": "<div>\n<style scoped>\n    .dataframe tbody tr th:only-of-type {\n        vertical-align: middle;\n    }\n\n    .dataframe tbody tr th {\n        vertical-align: top;\n    }\n\n    .dataframe thead tr th {\n        text-align: left;\n    }\n\n    .dataframe thead tr:last-of-type th {\n        text-align: right;\n    }\n</style>\n<table border=\"1\" class=\"dataframe\">\n  <thead>\n    <tr>\n      <th></th>\n      <th></th>\n      <th colspan=\"2\" halign=\"left\">&lt;=59</th>\n      <th colspan=\"2\" halign=\"left\">60-69</th>\n      <th colspan=\"2\" halign=\"left\">70-79</th>\n      <th colspan=\"2\" halign=\"left\">80-89</th>\n      <th colspan=\"2\" halign=\"left\">90-99</th>\n      <th colspan=\"2\" halign=\"left\">&gt;=100</th>\n      <th>total</th>\n    </tr>\n    <tr>\n      <th></th>\n      <th></th>\n      <th>qtde</th>\n      <th>%</th>\n      <th>qtde</th>\n      <th>%</th>\n      <th>qtde</th>\n      <th>%</th>\n      <th>qtde</th>\n      <th>%</th>\n      <th>qtde</th>\n      <th>%</th>\n      <th>qtde</th>\n      <th>%</th>\n      <th></th>\n    </tr>\n    <tr>\n      <th>ano_obito</th>\n      <th>mes_obito</th>\n      <th></th>\n      <th></th>\n      <th></th>\n      <th></th>\n      <th></th>\n      <th></th>\n      <th></th>\n      <th></th>\n      <th></th>\n      <th></th>\n      <th></th>\n      <th></th>\n      <th></th>\n    </tr>\n  </thead>\n  <tbody>\n    <tr>\n      <th rowspan=\"10\" valign=\"top\">2020</th>\n      <th>03</th>\n      <td>2</td>\n      <td>0.40000</td>\n      <td>1</td>\n      <td>0.20000</td>\n      <td>1</td>\n      <td>0.20000</td>\n      <td>1</td>\n      <td>0.20000</td>\n      <td>0</td>\n      <td>0.00000</td>\n      <td>0</td>\n      <td>0.00000</td>\n      <td>5</td>\n    </tr>\n    <tr>\n      <th>04</th>\n      <td>33</td>\n      <td>0.32039</td>\n      <td>16</td>\n      <td>0.15534</td>\n      <td>22</td>\n      <td>0.21359</td>\n      <td>21</td>\n      <td>0.20388</td>\n      <td>11</td>\n      <td>0.10680</td>\n      <td>0</td>\n      <td>0.00000</td>\n      <td>103</td>\n    </tr>\n    <tr>\n      <th>05</th>\n      <td>35</td>\n      <td>0.28455</td>\n      <td>34</td>\n      <td>0.27642</td>\n      <td>29</td>\n      <td>0.23577</td>\n      <td>22</td>\n      <td>0.17886</td>\n      <td>3</td>\n      <td>0.02439</td>\n      <td>0</td>\n      <td>0.00000</td>\n      <td>123</td>\n    </tr>\n    <tr>\n      <th>06</th>\n      <td>161</td>\n      <td>0.26179</td>\n      <td>137</td>\n      <td>0.22276</td>\n      <td>158</td>\n      <td>0.25691</td>\n      <td>141</td>\n      <td>0.22927</td>\n      <td>18</td>\n      <td>0.02927</td>\n      <td>0</td>\n      <td>0.00000</td>\n      <td>615</td>\n    </tr>\n    <tr>\n      <th>07</th>\n      <td>409</td>\n      <td>0.28403</td>\n      <td>335</td>\n      <td>0.23264</td>\n      <td>378</td>\n      <td>0.26250</td>\n      <td>256</td>\n      <td>0.17778</td>\n      <td>59</td>\n      <td>0.04097</td>\n      <td>3</td>\n      <td>0.00208</td>\n      <td>1440</td>\n    </tr>\n    <tr>\n      <th>08</th>\n      <td>411</td>\n      <td>0.26178</td>\n      <td>398</td>\n      <td>0.25350</td>\n      <td>408</td>\n      <td>0.25987</td>\n      <td>287</td>\n      <td>0.18280</td>\n      <td>64</td>\n      <td>0.04076</td>\n      <td>2</td>\n      <td>0.00127</td>\n      <td>1570</td>\n    </tr>\n    <tr>\n      <th>09</th>\n      <td>303</td>\n      <td>0.24318</td>\n      <td>311</td>\n      <td>0.24960</td>\n      <td>338</td>\n      <td>0.27127</td>\n      <td>222</td>\n      <td>0.17817</td>\n      <td>69</td>\n      <td>0.05538</td>\n      <td>3</td>\n      <td>0.00241</td>\n      <td>1246</td>\n    </tr>\n    <tr>\n      <th>10</th>\n      <td>180</td>\n      <td>0.22250</td>\n      <td>214</td>\n      <td>0.26452</td>\n      <td>217</td>\n      <td>0.26823</td>\n      <td>163</td>\n      <td>0.20148</td>\n      <td>35</td>\n      <td>0.04326</td>\n      <td>0</td>\n      <td>0.00000</td>\n      <td>809</td>\n    </tr>\n    <tr>\n      <th>11</th>\n      <td>232</td>\n      <td>0.23062</td>\n      <td>265</td>\n      <td>0.26342</td>\n      <td>270</td>\n      <td>0.26839</td>\n      <td>201</td>\n      <td>0.19980</td>\n      <td>37</td>\n      <td>0.03678</td>\n      <td>1</td>\n      <td>0.00099</td>\n      <td>1006</td>\n    </tr>\n    <tr>\n      <th>12</th>\n      <td>507</td>\n      <td>0.24317</td>\n      <td>531</td>\n      <td>0.25468</td>\n      <td>581</td>\n      <td>0.27866</td>\n      <td>386</td>\n      <td>0.18513</td>\n      <td>75</td>\n      <td>0.03597</td>\n      <td>5</td>\n      <td>0.00240</td>\n      <td>2085</td>\n    </tr>\n    <tr>\n      <th rowspan=\"3\" valign=\"top\">2021</th>\n      <th>01</th>\n      <td>387</td>\n      <td>0.22592</td>\n      <td>464</td>\n      <td>0.27087</td>\n      <td>469</td>\n      <td>0.27379</td>\n      <td>323</td>\n      <td>0.18856</td>\n      <td>68</td>\n      <td>0.03970</td>\n      <td>2</td>\n      <td>0.00117</td>\n      <td>1713</td>\n    </tr>\n    <tr>\n      <th>02</th>\n      <td>436</td>\n      <td>0.26798</td>\n      <td>423</td>\n      <td>0.25999</td>\n      <td>444</td>\n      <td>0.27289</td>\n      <td>266</td>\n      <td>0.16349</td>\n      <td>54</td>\n      <td>0.03319</td>\n      <td>4</td>\n      <td>0.00246</td>\n      <td>1627</td>\n    </tr>\n    <tr>\n      <th>03</th>\n      <td>615</td>\n      <td>0.33154</td>\n      <td>476</td>\n      <td>0.25660</td>\n      <td>444</td>\n      <td>0.23935</td>\n      <td>266</td>\n      <td>0.14340</td>\n      <td>52</td>\n      <td>0.02803</td>\n      <td>2</td>\n      <td>0.00108</td>\n      <td>1855</td>\n    </tr>\n  </tbody>\n</table>\n</div>"
     },
     "metadata": {},
     "execution_count": 7
    }
   ],
   "source": [
    "faixa_etaria_obitos = obitos.groupby(by=['ano_obito','mes_obito','faixa_etaria'])[['sexo','ibge_res_pr']].count().rename(columns={'sexo':'0','ibge_res_pr':'1'})\n",
    "faixa_etaria_obitos = faixa_etaria_obitos.unstack().fillna(0).astype(int)\n",
    "faixa_etaria_obitos = faixa_etaria_obitos.swaplevel(1,0,1).sort_index(1).rename(columns={'0':'qtde','1':'%'})\n",
    "\n",
    "faixa_etaria_obitos.columns = pd.MultiIndex.from_tuples(faixa_etaria_obitos.columns)\n",
    "faixa_etaria_obitos['total'] = faixa_etaria_obitos.xs('qtde',level=1, axis=1).sum(axis=1)\n",
    "\n",
    "\n",
    "# for ano in faixa_etaria_obitos.index.get_level_values(0).unique():\n",
    "#     faixa_etaria_obitos = faixa_etaria_obitos.append(\n",
    "#         pd.Series(data=faixa_etaria_obitos.loc[ano].sum(0), name=(ano,'total'))\n",
    "#     )\n",
    "\n",
    "# faixa_etaria_obitos = faixa_etaria_obitos.append(\n",
    "#         pd.Series(data=faixa_etaria_obitos.xs('total', level=1).sum(0), name=('total_geral',''))\n",
    "# )\n",
    "\n",
    "faixa_etaria_obitos = faixa_etaria_obitos.loc[faixa_etaria_obitos.sum(1)>0]\n",
    "faixa_etaria_obitos = faixa_etaria_obitos.sort_index()\n",
    "\n",
    "for ano_mes in faixa_etaria_obitos.index:\n",
    "    for faixa_etaria, tipo in faixa_etaria_obitos.columns:\n",
    "        if tipo == '%':\n",
    "            faixa_etaria_obitos.loc[ano_mes,(faixa_etaria,'%')] = faixa_etaria_obitos.loc[ano_mes,(faixa_etaria,'%')] / faixa_etaria_obitos.loc[ano_mes,'total'].values\n",
    "            \n",
    "faixa_etaria_obitos"
   ]
  },
  {
   "cell_type": "code",
   "execution_count": 8,
   "metadata": {},
   "outputs": [],
   "source": [
    "def set_format_cols(worksheet,cols,format):\n",
    "    for col in cols:\n",
    "        worksheet.set_column(f\"{col}:{col}\", None, format)\n",
    "\n",
    "\n",
    "writer = pd.ExcelWriter(\"faixa_etaria_por_mes.xlsx\",\n",
    "                        engine='xlsxwriter',\n",
    "                        datetime_format='dd/mm/yyyy',\n",
    "                        date_format='dd/mm/yyyy')\n",
    "\n",
    "workbook = writer.book\n",
    "\n",
    "format1 = workbook.add_format({'num_format': '#.##0'})\n",
    "# format2 = workbook.add_format({'num_format': '0,00%'})\n",
    "\n",
    "faixa_etaria_casos.to_excel(writer,sheet_name=f\"faixa_etaria_casos\")\n",
    "worksheet = writer.sheets[f\"faixa_etaria_casos\"]\n",
    "# set_format_cols(worksheet,['C','E','G','I','K','M','O'],format1)\n",
    "# set_format_cols(worksheet,['D','F','H','J','L','N'],format2)\n",
    "auto_fit_columns(worksheet,faixa_etaria_casos)\n",
    "\n",
    "\n",
    "faixa_etaria_obitos.to_excel(writer,sheet_name=f\"faixa_etaria_obitos\")\n",
    "worksheet = writer.sheets[f\"faixa_etaria_obitos\"]\n",
    "# set_format_cols(worksheet,['C','E','G','I','K','M','O'],format1)\n",
    "# set_format_cols(worksheet,['D','F','H','J','L','N'],format2)\n",
    "auto_fit_columns(worksheet,faixa_etaria_obitos)\n",
    "\n",
    "writer.save()\n",
    "writer.close()"
   ]
  },
  {
   "cell_type": "code",
   "execution_count": null,
   "metadata": {},
   "outputs": [],
   "source": []
  }
 ],
 "metadata": {
  "kernelspec": {
   "display_name": "Python 3",
   "language": "python",
   "name": "python3"
  },
  "language_info": {
   "codemirror_mode": {
    "name": "ipython",
    "version": 3
   },
   "file_extension": ".py",
   "mimetype": "text/x-python",
   "name": "python",
   "nbconvert_exporter": "python",
   "pygments_lexer": "ipython3",
   "version": "3.8.5-final"
  }
 },
 "nbformat": 4,
 "nbformat_minor": 4
}