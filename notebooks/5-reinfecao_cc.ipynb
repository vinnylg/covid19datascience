{
 "cells": [
  {
   "cell_type": "code",
   "execution_count": null,
   "metadata": {
    "execution": {
     "iopub.execute_input": "2021-12-20T13:44:35.362539Z",
     "iopub.status.busy": "2021-12-20T13:44:35.362539Z",
     "iopub.status.idle": "2021-12-20T13:44:35.409410Z",
     "shell.execute_reply": "2021-12-20T13:44:35.409410Z",
     "shell.execute_reply.started": "2021-12-20T13:44:35.362539Z"
    }
   },
   "outputs": [],
   "source": [
    "## set covid19_datasciente as path for python find bulletin package\n",
    "import sys\n",
    "from pathlib import Path\n",
    "from os import getcwd, remove, chdir\n",
    "from os.path import join, basename\n",
    "\n",
    "sys.path.append(str(Path(getcwd()).parent))\n",
    "current_dir = getcwd()\n",
    "print(current_dir)"
   ]
  },
  {
   "cell_type": "code",
   "execution_count": null,
   "metadata": {
    "execution": {
     "iopub.execute_input": "2021-12-20T13:44:35.409410Z",
     "iopub.status.busy": "2021-12-20T13:44:35.409410Z",
     "iopub.status.idle": "2021-12-20T13:44:35.925355Z",
     "shell.execute_reply": "2021-12-20T13:44:35.925355Z",
     "shell.execute_reply.started": "2021-12-20T13:44:35.409410Z"
    }
   },
   "outputs": [],
   "source": [
    "import pandas as pd\n",
    "pd.set_option('display.max_columns', None)\n",
    "pd.set_option('display.max_rows', 150)\n",
    "\n",
    "import numpy as np\n",
    "from random import randint\n",
    "from math import floor, ceil\n",
    "import codecs"
   ]
  },
  {
   "cell_type": "code",
   "execution_count": null,
   "metadata": {
    "execution": {
     "iopub.execute_input": "2021-12-20T13:44:35.925355Z",
     "iopub.status.busy": "2021-12-20T13:44:35.925355Z",
     "iopub.status.idle": "2021-12-20T13:44:37.254184Z",
     "shell.execute_reply": "2021-12-20T13:44:37.254184Z",
     "shell.execute_reply.started": "2021-12-20T13:44:35.925355Z"
    }
   },
   "outputs": [],
   "source": [
    "from bulletin import root, default_input, default_output, agora, hoje, ontem, anteontem, dias_apos, dias_apos_label\n",
    "from bulletin.services.metabase import Metabase\n",
    "from bulletin.systems.casos_confirmados import CasosConfirmados\n",
    "from bulletin.systems.notifica import Notifica\n",
    "from bulletin.utils.static import Municipios\n",
    "from bulletin.utils import utils, static\n",
    "from bulletin.utils.xls_ import fit_cols\n",
    "from bulletin.utils.normalize import trim_overspace\n",
    "from bulletin.utils.normalize import normalize_text#normalize_hash, normalize_labels, , date_hash, normalize_number"
   ]
  },
  {
   "cell_type": "code",
   "execution_count": null,
   "metadata": {
    "execution": {
     "iopub.execute_input": "2021-12-20T13:44:37.254184Z",
     "iopub.status.busy": "2021-12-20T13:44:37.254184Z",
     "iopub.status.idle": "2021-12-20T13:44:37.269805Z",
     "shell.execute_reply": "2021-12-20T13:44:37.269805Z",
     "shell.execute_reply.started": "2021-12-20T13:44:37.254184Z"
    }
   },
   "outputs": [],
   "source": [
    "from datetime import datetime, date, timedelta\n",
    "from tqdm import tqdm\n",
    "\n",
    "exclusao_pathfile = join(root, 'database', 'casos_confirmados')\n",
    "\n",
    "today = pd.to_datetime(date.today())\n",
    "ontem = today - timedelta(1)\n",
    "anteontem = ontem - timedelta(1)\n",
    "data_retroativos = ontem - timedelta(31)"
   ]
  },
  {
   "cell_type": "code",
   "execution_count": null,
   "metadata": {},
   "outputs": [],
   "source": [
    "# FUNDAMENTAÇÃO (para a escolha do período)\n",
    "# https://www2.ufjf.br/noticias/2021/04/20/infectologista-explica-riscos-de-reinfeccao-pelo-coronavirus-e-suas-variantes/"
   ]
  },
  {
   "cell_type": "code",
   "execution_count": null,
   "metadata": {},
   "outputs": [],
   "source": [
    "def find_best_record(id_not_1, cns_1, cpf_1, diagnostico_1, evolucao_1, id_not_2, cns_2, cpf_2, diagnostico_2, evolucao_2):\n",
    "    if ((cns_1 == None) and (cpf_1 == None)):\n",
    "        if ((cns_2 != None) or (cpf_2 != None)):\n",
    "            #TROCA AS FICHAS\n",
    "            id_temp = id_not_1\n",
    "            diag_temp = diagnostico_1\n",
    "            evolucao_temp = evolucao_1\n",
    "\n",
    "\n",
    "            id_not_1 = id_not_2\n",
    "            diagnostico_1 = diagnostico_2\n",
    "            evolucao_1 = evolucao_2\n",
    "\n",
    "\n",
    "            id_not_2 = id_temp\n",
    "            diagnostico_2 = diag_temp\n",
    "            evolucao_2 = evolucao_temp\n",
    "    \n",
    "    return id_not_1, diagnostico_1, evolucao_1, id_not_2, diagnostico_2, evolucao_2"
   ]
  },
  {
   "cell_type": "markdown",
   "metadata": {},
   "source": [
    "### 1. Determinação das FICHAS DUPLICADAS no CC"
   ]
  },
  {
   "cell_type": "code",
   "execution_count": null,
   "metadata": {
    "execution": {
     "iopub.execute_input": "2021-12-20T13:44:37.363545Z",
     "iopub.status.busy": "2021-12-20T13:44:37.363545Z",
     "iopub.status.idle": "2021-12-20T13:49:14.524568Z",
     "shell.execute_reply": "2021-12-20T13:49:14.524568Z",
     "shell.execute_reply.started": "2021-12-20T13:44:37.363545Z"
    }
   },
   "outputs": [],
   "source": [
    "cc = CasosConfirmados()\n",
    "\n",
    "date = hoje\n",
    "\n",
    "cc.load(f\"cc_{date.strftime('%d_%m_%Y')}\", compress=True)\n",
    "\n",
    "cc.df.shape"
   ]
  },
  {
   "cell_type": "code",
   "execution_count": null,
   "metadata": {},
   "outputs": [],
   "source": [
    "try: \n",
    "    cc.df = cc.df.drop(columns={'reinfeccao', 'reinfeccao_ids'})\n",
    "except:\n",
    "    pass\n",
    "cc.df.shape"
   ]
  },
  {
   "cell_type": "code",
   "execution_count": null,
   "metadata": {
    "execution": {
     "iopub.execute_input": "2021-12-20T13:51:38.913054Z",
     "iopub.status.busy": "2021-12-20T13:51:38.913054Z",
     "iopub.status.idle": "2021-12-20T13:53:20.462475Z",
     "shell.execute_reply": "2021-12-20T13:53:20.462475Z",
     "shell.execute_reply.started": "2021-12-20T13:51:38.913054Z"
    }
   },
   "outputs": [],
   "source": [
    "cc_duplicados = cc.check_duplicates(keep=False)\n",
    "cc_duplicados.reset_index(inplace=True)\n",
    "cc_duplicados.groupby(['ids_len'])[['ids_len']].count()"
   ]
  },
  {
   "cell_type": "code",
   "execution_count": null,
   "metadata": {},
   "outputs": [],
   "source": [
    "duplicados_only = cc_duplicados.drop_duplicates(subset='ids_str')\n",
    "duplicados_only = duplicados_only.loc[duplicados_only['duplicated_cols'].str.contains('hash_mae')]\n",
    "duplicados_only = duplicados_only.loc[duplicados_only['duplicated_ncols'] > 1]\n",
    "# duplicados_only = duplicados_only.loc[duplicados_only['ids_len'] == 2]\n",
    "duplicados_only = duplicados_only.sort_values(by='ids_len', ascending=True)\n",
    "duplicados_only"
   ]
  },
  {
   "cell_type": "markdown",
   "metadata": {},
   "source": [
    "### 2. Início do MÉTODO"
   ]
  },
  {
   "cell_type": "code",
   "execution_count": null,
   "metadata": {},
   "outputs": [],
   "source": [
    "for i in tqdm(duplicados_only.index):\n",
    "    list_verify = duplicados_only.loc[i, 'ids']\n",
    "    df_temp = cc.df.loc[cc.df['id_notifica'].isin(list_verify)].sort_values('data_diagnostico')\n",
    "\n",
    "    for j in range(0, len(list_verify) - 1, 1):\n",
    "        #FICHA 1, original\n",
    "        id_not_1 = df_temp.loc[df_temp.index[j], 'id_notifica']\n",
    "        cns_1 = df_temp.loc[df_temp.index[j], 'cns']\n",
    "        cpf_1 = df_temp.loc[df_temp.index[j], 'cpf']\n",
    "        diagnostico_1 = df_temp.loc[df_temp.index[j], 'data_diagnostico']\n",
    "        evolucao_1 = df_temp.loc[df_temp.index[j], 'evolucao']\n",
    "        \n",
    "        \n",
    "        #FICHA 2, provável reinfeccao\n",
    "        id_not_2 = df_temp.loc[df_temp.index[j+1], 'id_notifica']\n",
    "        cns_2 = df_temp.loc[df_temp.index[j+1], 'cns']\n",
    "        cpf_2 = df_temp.loc[df_temp.index[j+1], 'cpf']\n",
    "        diagnostico_2 = df_temp.loc[df_temp.index[j+1], 'data_diagnostico']\n",
    "        evolucao_2 = df_temp.loc[df_temp.index[j+1], 'evolucao']\n",
    "\n",
    "\n",
    "        id_not_1, diagnostico_1, evolucao_1, id_not_2, diagnostico_2, evolucao_2 = find_best_record(id_not_1, cns_1, cpf_1, diagnostico_1, evolucao_1, id_not_2, cns_2, cpf_2, diagnostico_2, evolucao_2)\n",
    "\n",
    "        \n",
    "        diff = diagnostico_2 - diagnostico_1\n",
    "        if (abs(diff.days) >= 90):\n",
    "            cc.df.loc[cc.df['id_notifica'] == id_not_2, ('reinfeccao', 'reinfeccao_ids')] = (True, id_not_1)\n",
    "        else:\n",
    "            cc.df.loc[cc.df['id_notifica'] == id_not_2, ('reinfeccao', 'reinfeccao_ids')] = (False, id_not_1)\n",
    "            duplicados_only.loc[duplicados_only['ids_str'].str.contains(str(id_not_2)), 'verify_duplicated'] = True"
   ]
  },
  {
   "cell_type": "code",
   "execution_count": null,
   "metadata": {},
   "outputs": [],
   "source": [
    "temporario = cc.df.loc[(cc.df['reinfeccao'] == False) & (cc.df['reinfeccao_ids'].notna())]\n",
    "\n",
    "qualificar = temporario.loc[temporario['evolucao'] == 2]\n",
    "excluir = temporario.loc[temporario['evolucao'] != 2]\n",
    "excluir.shape"
   ]
  },
  {
   "cell_type": "code",
   "execution_count": null,
   "metadata": {},
   "outputs": [],
   "source": [
    "excluir['ano_caso'] = excluir['data_diagnostico'].dt.year\n",
    "excluir.groupby('ano_caso')[['id_notifica']].count()"
   ]
  },
  {
   "cell_type": "code",
   "execution_count": null,
   "metadata": {},
   "outputs": [],
   "source": [
    "qualificar.shape"
   ]
  },
  {
   "cell_type": "code",
   "execution_count": null,
   "metadata": {},
   "outputs": [],
   "source": [
    "# 322 rows × 59 columns"
   ]
  },
  {
   "cell_type": "code",
   "execution_count": null,
   "metadata": {},
   "outputs": [],
   "source": [
    "# raise"
   ]
  },
  {
   "cell_type": "markdown",
   "metadata": {},
   "source": [
    "### 3. Ajuste das fichas no Notifica"
   ]
  },
  {
   "cell_type": "code",
   "execution_count": null,
   "metadata": {},
   "outputs": [],
   "source": [
    "notifica = Notifica()\n",
    "notifica.load('notifica', compress=False)\n",
    "notifica.df = notifica.df.drop_duplicates('id', keep='last')\n",
    "notifica.df.shape"
   ]
  },
  {
   "cell_type": "code",
   "execution_count": null,
   "metadata": {},
   "outputs": [],
   "source": [
    "notifica.df.loc[notifica.df['id'].isin(excluir['id_notifica']), 'duplicated_cc'] = True\n",
    "notifica.df['duplicated_cc'] = notifica.df['duplicated_cc'].fillna(False)\n",
    "notifica.df.shape"
   ]
  },
  {
   "cell_type": "markdown",
   "metadata": {},
   "source": [
    "### 4. Salvar os arquivos necessários"
   ]
  },
  {
   "cell_type": "code",
   "execution_count": null,
   "metadata": {},
   "outputs": [],
   "source": [
    "path_db = join('C:\\\\', 'SESA', 'covid19datascience-dev', 'bulletin', 'database', 'casos_confirmados')"
   ]
  },
  {
   "cell_type": "code",
   "execution_count": null,
   "metadata": {},
   "outputs": [],
   "source": [
    "duplicados_only.to_excel(join(path_db, 'relacao_duplicados_cc.xlsx'))"
   ]
  },
  {
   "cell_type": "code",
   "execution_count": null,
   "metadata": {},
   "outputs": [],
   "source": [
    "qualificar.to_pickle(join(path_db, 'qualificar_obitos.pkl'))\n",
    "qualificar.to_excel(join(path_db, 'qualificar_obitos.xlsx'))"
   ]
  },
  {
   "cell_type": "code",
   "execution_count": null,
   "metadata": {},
   "outputs": [],
   "source": [
    "excluir.to_pickle(join(path_db, 'casos_excluir.pkl'))"
   ]
  },
  {
   "cell_type": "code",
   "execution_count": null,
   "metadata": {},
   "outputs": [],
   "source": [
    "cc.save(f\"cc_{date.strftime('%d_%m_%Y')}\", replace=True, compress=True)"
   ]
  },
  {
   "cell_type": "code",
   "execution_count": null,
   "metadata": {},
   "outputs": [],
   "source": [
    "notifica.save(replace=True, compress=False)"
   ]
  }
 ],
 "metadata": {
  "interpreter": {
   "hash": "1cdc22e96f16e7a709941e5164353478df3c5a2dca8a048b5ddcd85bd66dd558"
  },
  "kernelspec": {
   "display_name": "Python 3 (ipykernel)",
   "language": "python",
   "name": "python3"
  },
  "language_info": {
   "codemirror_mode": {
    "name": "ipython",
    "version": 3
   },
   "file_extension": ".py",
   "mimetype": "text/x-python",
   "name": "python",
   "nbconvert_exporter": "python",
   "pygments_lexer": "ipython3",
   "version": "3.8.11"
  }
 },
 "nbformat": 4,
 "nbformat_minor": 4
}
