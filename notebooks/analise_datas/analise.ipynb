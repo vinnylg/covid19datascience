{
 "cells": [
  {
   "cell_type": "code",
   "execution_count": null,
   "id": "e2ff188a",
   "metadata": {},
   "outputs": [],
   "source": [
    "## set covid19_datasciente as path for python find bulletin package\n",
    "import sys\n",
    "from pathlib import Path\n",
    "from os import getcwd, remove, chdir\n",
    "from os.path import join, basename\n",
    "sys.path.append(str(Path(getcwd()).parent.parent))\n",
    "current_dir = getcwd()\n",
    "print(current_dir)"
   ]
  },
  {
   "cell_type": "code",
   "execution_count": null,
   "id": "82c92f01",
   "metadata": {},
   "outputs": [],
   "source": [
    "import pandas as pd\n",
    "from time import time"
   ]
  },
  {
   "cell_type": "code",
   "execution_count": null,
   "id": "5e124c7e",
   "metadata": {},
   "outputs": [],
   "source": [
    "from bulletin.systems.notifica import Notifica"
   ]
  },
  {
   "cell_type": "code",
   "execution_count": null,
   "id": "53aa729a",
   "metadata": {},
   "outputs": [],
   "source": [
    "notifica = Notifica()\n",
    "analises = [ x for x in notifica.databases() if 'parte' in x ]\n",
    "analises"
   ]
  },
  {
   "cell_type": "code",
   "execution_count": null,
   "id": "c9f9a40e",
   "metadata": {},
   "outputs": [],
   "source": [
    "lista_df = []\n",
    "\n",
    "for analise_pkl in analises:\n",
    "    init = time()\n",
    "    a = Notifica()\n",
    "    a.load(analise_pkl, compress=False)\n",
    "    lista_df.append(a.df)\n",
    "    print(analise_pkl, time() - init)"
   ]
  },
  {
   "cell_type": "code",
   "execution_count": null,
   "id": "c85368c4",
   "metadata": {},
   "outputs": [],
   "source": [
    "notifica.df = pd.concat(lista_df, ignore_index=True).sort_values('id')\n",
    "notifica.df = notifica.df.drop_duplicates('id', keep='last')\n",
    "notifica.df.shape"
   ]
  },
  {
   "cell_type": "code",
   "execution_count": null,
   "id": "8479d899",
   "metadata": {},
   "outputs": [],
   "source": [
    "notifica.save('notifica-new', replace=True, compress=False)"
   ]
  }
 ],
 "metadata": {
  "kernelspec": {
   "display_name": "Python 3 (ipykernel)",
   "language": "python",
   "name": "python3"
  },
  "language_info": {
   "codemirror_mode": {
    "name": "ipython",
    "version": 3
   },
   "file_extension": ".py",
   "mimetype": "text/x-python",
   "name": "python",
   "nbconvert_exporter": "python",
   "pygments_lexer": "ipython3",
   "version": "3.8.11"
  }
 },
 "nbformat": 4,
 "nbformat_minor": 5
}
