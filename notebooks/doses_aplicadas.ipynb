{
 "cells": [
  {
   "cell_type": "code",
   "execution_count": null,
   "metadata": {},
   "outputs": [],
   "source": [
    "## set covid19_datasciente as path for python find bulletin package\n",
    "import sys\n",
    "from pathlib import Path\n",
    "from os import getcwd, remove, chdir, rename\n",
    "from os.path import join, basename, isdir, isfile\n",
    "\n",
    "sys.path.append(str(Path(getcwd()).parent))\n",
    "current_dir = getcwd()\n",
    "print(current_dir)"
   ]
  },
  {
   "cell_type": "code",
   "execution_count": null,
   "metadata": {},
   "outputs": [],
   "source": [
    "import pandas as pd\n",
    "pd.set_option('display.max_columns', None)\n",
    "pd.set_option('display.max_rows', 50)\n",
    "from os.path import join"
   ]
  },
  {
   "cell_type": "code",
   "execution_count": null,
   "metadata": {},
   "outputs": [],
   "source": [
    "# read_csv = False"
   ]
  },
  {
   "cell_type": "code",
   "execution_count": null,
   "metadata": {},
   "outputs": [],
   "source": [
    "# if read_csv:\n",
    "#     doses_aplicadas = pd.concat([pd.read_csv(join('base',f\"{x}.csv\"), sep=';', low_memory=False, dtype=str) for x in ['P1','P2','P3']], ignore_index=True)\n",
    "#     doses_aplicadas.to_pickle('open_data_sus.pkl',compression='bz2')\n",
    "# else:\n",
    "#     doses_aplicadas = pd.read_pickle('open_data_sus.pkl',compression='bz2')"
   ]
  },
  {
   "cell_type": "code",
   "execution_count": null,
   "metadata": {},
   "outputs": [],
   "source": [
    "from bulletin.systems import eSUS\n",
    "esus = eSUS()\n",
    "esus.load('esus',compress=False)"
   ]
  },
  {
   "cell_type": "code",
   "execution_count": null,
   "metadata": {},
   "outputs": [],
   "source": [
    "doses_aplicadas = esus.df\n",
    "doses_aplicadas.dtypes"
   ]
  },
  {
   "cell_type": "code",
   "execution_count": null,
   "metadata": {},
   "outputs": [],
   "source": [
    "doses_aplicadas.loc[doses_aplicadas['vacina_descricao_dose'].isin(['Dose','Única']),'vacina_descricao_dose'] = 'Única'"
   ]
  },
  {
   "cell_type": "code",
   "execution_count": null,
   "metadata": {},
   "outputs": [],
   "source": [
    "doses_aplicadas['paciente_idade'] = doses_aplicadas['paciente_idade'].fillna(-1).astype(int)"
   ]
  },
  {
   "cell_type": "code",
   "execution_count": null,
   "metadata": {},
   "outputs": [],
   "source": [
    "doses_aplicadas['paciente_enumSexoBiologico'].unique()"
   ]
  },
  {
   "cell_type": "code",
   "execution_count": null,
   "metadata": {},
   "outputs": [],
   "source": [
    "try:\n",
    "    del(doses_aplicadas['faixa_etaria'])\n",
    "except:\n",
    "    pass\n",
    "\n",
    "doses_aplicadas.loc[(doses_aplicadas['paciente_idade'] >= 5) & (doses_aplicadas['paciente_idade'] < 12), 'faixa_etaria'] = '5-11 anos'\n",
    "doses_aplicadas.loc[(doses_aplicadas['paciente_idade'] >= 12) & (doses_aplicadas['paciente_idade'] < 18), 'faixa_etaria'] = '12-17 anos'\n",
    "doses_aplicadas.loc[(doses_aplicadas['paciente_idade'] >= 18) & (doses_aplicadas['paciente_idade'] <= 19), 'faixa_etaria'] = '18-19 anos'\n",
    "doses_aplicadas.loc[(doses_aplicadas['paciente_idade'] >= 20) & (doses_aplicadas['paciente_idade'] <= 24), 'faixa_etaria'] = '20-24 anos'\n",
    "doses_aplicadas.loc[(doses_aplicadas['paciente_idade'] >= 25) & (doses_aplicadas['paciente_idade'] <= 29), 'faixa_etaria'] = '25-29 anos'\n",
    "doses_aplicadas.loc[(doses_aplicadas['paciente_idade'] >= 30) & (doses_aplicadas['paciente_idade'] <= 34), 'faixa_etaria'] = '30-34 anos'\n",
    "doses_aplicadas.loc[(doses_aplicadas['paciente_idade'] >= 35) & (doses_aplicadas['paciente_idade'] <= 39), 'faixa_etaria'] = '35-39 anos'\n",
    "doses_aplicadas.loc[(doses_aplicadas['paciente_idade'] >= 40) & (doses_aplicadas['paciente_idade'] <= 44), 'faixa_etaria'] = '40-44 anos'\n",
    "doses_aplicadas.loc[(doses_aplicadas['paciente_idade'] >= 45) & (doses_aplicadas['paciente_idade'] <= 49), 'faixa_etaria'] = '45-49 anos'\n",
    "doses_aplicadas.loc[(doses_aplicadas['paciente_idade'] >= 50) & (doses_aplicadas['paciente_idade'] <= 54), 'faixa_etaria'] = '50-54anos'\n",
    "doses_aplicadas.loc[(doses_aplicadas['paciente_idade'] >= 55) & (doses_aplicadas['paciente_idade'] <= 59), 'faixa_etaria'] = '55-59 anos'\n",
    "doses_aplicadas.loc[(doses_aplicadas['paciente_idade'] >= 60) & (doses_aplicadas['paciente_idade'] <= 64), 'faixa_etaria'] = '60-64 anos'\n",
    "doses_aplicadas.loc[(doses_aplicadas['paciente_idade'] >= 65) & (doses_aplicadas['paciente_idade'] <= 69), 'faixa_etaria'] = '65-69 anos'\n",
    "doses_aplicadas.loc[(doses_aplicadas['paciente_idade'] >= 70) & (doses_aplicadas['paciente_idade'] <= 74), 'faixa_etaria'] = '70-74 anos'\n",
    "doses_aplicadas.loc[(doses_aplicadas['paciente_idade'] >= 75) & (doses_aplicadas['paciente_idade'] <= 79), 'faixa_etaria'] = '75-79 anos'\n",
    "doses_aplicadas.loc[(doses_aplicadas['paciente_idade'] >= 80), 'faixa_etaria'] = '>80 anos'\n",
    "\n"
   ]
  },
  {
   "cell_type": "markdown",
   "metadata": {},
   "source": [
    "# Relatório Geral de Doses Aplicadas, segundo a Dose e Faixa Etária"
   ]
  },
  {
   "cell_type": "code",
   "execution_count": null,
   "metadata": {},
   "outputs": [],
   "source": [
    "RelatorioGEral = doses_aplicadas.groupby(['estabelecimento_municipio_nome', 'faixa_etaria', 'vacina_descricao_dose'])[['document_id']].count().unstack(['faixa_etaria','vacina_descricao_dose']).sort_index(level='faixa_etaria', axis=1)\n",
    "RelatorioGEral"
   ]
  },
  {
   "cell_type": "markdown",
   "metadata": {},
   "source": []
  },
  {
   "cell_type": "markdown",
   "metadata": {},
   "source": [
    "# Relatório Acácia"
   ]
  },
  {
   "cell_type": "code",
   "execution_count": null,
   "metadata": {},
   "outputs": [],
   "source": [
    "DosesGeral = doses_aplicadas.groupby(['faixa_etaria', 'vacina_descricao_dose'])[['document_id']].count().unstack(['vacina_descricao_dose']).sort_index(level='faixa_etaria', axis=0)\n",
    "DosesGeral"
   ]
  },
  {
   "cell_type": "code",
   "execution_count": null,
   "metadata": {},
   "outputs": [],
   "source": [
    "DosesGeral.to_excel('DosesGeral.xlsx')"
   ]
  },
  {
   "cell_type": "markdown",
   "metadata": {},
   "source": [
    "# Relatório Esquema Iniciado contra Covid-19"
   ]
  },
  {
   "cell_type": "code",
   "execution_count": null,
   "metadata": {},
   "outputs": [],
   "source": [
    "EsquemaIniciado = doses_aplicadas.loc[(doses_aplicadas['vacina_descricao_dose'] == \"1ª Dose\") | (doses_aplicadas['vacina_descricao_dose'] == \"Única\") ]  \n",
    "\n",
    "DosesporFaixa_Idade = EsquemaIniciado.groupby(['estabelecimento_municipio_nome', 'faixa_etaria'])[['document_id']].count().unstack(['faixa_etaria']).sort_index(level='faixa_etaria', axis=1)\n",
    "DosesporFaixa_Idade"
   ]
  },
  {
   "cell_type": "code",
   "execution_count": null,
   "metadata": {},
   "outputs": [],
   "source": [
    "DosesporFaixa_Idade.to_excel(\"DosesporFaixa_Idade.xlsx\")"
   ]
  },
  {
   "cell_type": "markdown",
   "metadata": {},
   "source": [
    "# Relatório de Primeiras Doses Aplicadas contra Covid-19"
   ]
  },
  {
   "cell_type": "code",
   "execution_count": null,
   "metadata": {},
   "outputs": [],
   "source": [
    "PrimeirasDoses = doses_aplicadas.loc[(doses_aplicadas['vacina_descricao_dose'] == \"1ª Dose\")]  \n",
    "\n",
    "PrimeirasDoses = PrimeirasDoses.groupby(['estabelecimento_municipio_nome', 'faixa_etaria'])[['document_id']].count().unstack(['faixa_etaria']).sort_index(level='faixa_etaria', axis=1)\n",
    "PrimeirasDoses"
   ]
  },
  {
   "cell_type": "code",
   "execution_count": null,
   "metadata": {},
   "outputs": [],
   "source": [
    "PrimeirasDoses.to_excel(\"PrimeirasDoses.xlsx\")"
   ]
  },
  {
   "cell_type": "markdown",
   "metadata": {},
   "source": [
    "# Relatório de Segundas Doses Aplicadas contra Covid-19"
   ]
  },
  {
   "cell_type": "code",
   "execution_count": null,
   "metadata": {},
   "outputs": [],
   "source": [
    "SegundaDose = doses_aplicadas.loc[(doses_aplicadas['vacina_descricao_dose'] == \"2ª Dose\")]  \n",
    "\n",
    "SegundaDose_faixa = SegundaDose.groupby(['estabelecimento_municipio_nome', 'faixa_etaria'])[['document_id']].count().unstack(['faixa_etaria']).sort_index(level='faixa_etaria', axis=1)\n",
    "SegundaDose_faixa"
   ]
  },
  {
   "cell_type": "code",
   "execution_count": null,
   "metadata": {},
   "outputs": [],
   "source": [
    "SegundaDose_faixa.to_excel(\"SegundaDose_Faixa.xlsx\")"
   ]
  },
  {
   "cell_type": "markdown",
   "metadata": {},
   "source": [
    "# Relatório de Segundas Doses e Únicas"
   ]
  },
  {
   "cell_type": "markdown",
   "metadata": {},
   "source": []
  },
  {
   "cell_type": "code",
   "execution_count": null,
   "metadata": {},
   "outputs": [],
   "source": [
    "SegundaDoseeUnicas = doses_aplicadas.loc[(doses_aplicadas['vacina_descricao_dose'] == \"2ª Dose\") | (doses_aplicadas['vacina_descricao_dose'] == \"Única\") ]  \n",
    "\n",
    "SegundaDoseeUnicas = SegundaDoseeUnicas.groupby(['estabelecimento_municipio_nome', 'faixa_etaria'])[['document_id']].count().unstack(['faixa_etaria']).sort_index(level='faixa_etaria', axis=1)\n",
    "SegundaDoseeUnicas"
   ]
  },
  {
   "cell_type": "code",
   "execution_count": null,
   "metadata": {},
   "outputs": [],
   "source": [
    "SegundaDoseeUnicas.to_excel(\"SegundaDoseeUnicas.xlsx\")"
   ]
  },
  {
   "cell_type": "markdown",
   "metadata": {},
   "source": [
    "# Consolidado de Doses segundo a Descrição de Dose"
   ]
  },
  {
   "cell_type": "code",
   "execution_count": null,
   "metadata": {},
   "outputs": [],
   "source": [
    "doses_aplicadas = doses_aplicadas.loc[doses_aplicadas['vacina_descricao_dose'] != \"1ª Dose Redoses_aplicadasacinação\"]\n",
    "doses_aplicadas = doses_aplicadas.loc[doses_aplicadas['vacina_descricao_dose'] != \"2ª Dose Redoses_aplicadasacinação\"]\n",
    "doses_aplicadas = doses_aplicadas.loc[doses_aplicadas['vacina_descricao_dose'] != \"1º Reforço\"]\n",
    "doses_aplicadas = doses_aplicadas.loc[doses_aplicadas['vacina_descricao_dose'] != \"2º Reforço\"]\n",
    "doses_aplicadas = doses_aplicadas.loc[doses_aplicadas['vacina_descricao_dose'] != \"3ª Dose\"]\n",
    "# doses_aplicadas = doses_aplicadas.loc[doses_aplicadas['vacina_descricao_dose'] != \"Reforço\"]\n",
    "doses_aplicadas = doses_aplicadas.loc[doses_aplicadas['doses_aplicadasacina_descricao_dose'] != \"Redoses_aplicadasacinação\"]\n",
    "# doses_aplicadas = doses_aplicadas.loc[doses_aplicadas['vacina_descricao_dose'] != \"Dose Adicional\"]\n",
    "# doses_aplicadas = doses_aplicadas.loc[doses_aplicadas['doses_aplicadasacina_descricao_dose'] != \"1ª Dose\"]\n",
    "# doses_aplicadas = doses_aplicadas.loc[doses_aplicadas['doses_aplicadasacina_descricao_dose'] != \"Dose\"]\n",
    "# doses_aplicadas = doses_aplicadas.loc[doses_aplicadas['doses_aplicadasacina_descricao_dose'] != \"Única\"]\n",
    "doses_aplicadas = doses_aplicadas.loc[doses_aplicadas['paciente_enumSexoBiologico'] != \"I\"]\n",
    "\n",
    "\n",
    "doses_aplicadas.loc[doses_aplicadas['paciente_enumSexoBiologico'].isna(), \"paciente_enumSexoBiologico\"] = \"I\""
   ]
  },
  {
   "cell_type": "code",
   "execution_count": null,
   "metadata": {},
   "outputs": [],
   "source": [
    "ConsolidadoDoses = doses_aplicadas.groupby(['vacina_descricao_dose'])[['document_id']].count()\n",
    "ConsolidadoDoses"
   ]
  },
  {
   "cell_type": "code",
   "execution_count": null,
   "metadata": {},
   "outputs": [],
   "source": [
    "ConsolidadoDoses.to_excel(\"Consolidado de Doses Aplicadas.xlsx\")"
   ]
  },
  {
   "cell_type": "markdown",
   "metadata": {},
   "source": [
    "# Relatório de Chamada por Dose"
   ]
  },
  {
   "cell_type": "code",
   "execution_count": null,
   "metadata": {},
   "outputs": [],
   "source": [
    "ChamadaDOSE = doses_aplicadas.loc[(doses_aplicadas['faixa_etaria']=='5-11 anos') | (doses_aplicadas['faixa_etaria']=='12-17 anos')].groupby(['estabelecimento_municipio_nome', 'faixa_etaria'])[['document_id']].count().unstack(['faixa_etaria'])\n",
    "ChamadaDOSE"
   ]
  },
  {
   "cell_type": "markdown",
   "metadata": {},
   "source": [
    "# Valores a Testar"
   ]
  },
  {
   "cell_type": "code",
   "execution_count": null,
   "metadata": {},
   "outputs": [],
   "source": [
    "arquivoInt = doses_aplicadas.loc[doses_aplicadas['sistema_origem']=='Revacinação']\n",
    "arquivoInt"
   ]
  },
  {
   "cell_type": "code",
   "execution_count": null,
   "metadata": {},
   "outputs": [],
   "source": []
  }
 ],
 "metadata": {
  "interpreter": {
   "hash": "1cdc22e96f16e7a709941e5164353478df3c5a2dca8a048b5ddcd85bd66dd558"
  },
  "kernelspec": {
   "display_name": "Python 3.8.11 64-bit ('base': conda)",
   "language": "python",
   "name": "python3"
  },
  "language_info": {
   "codemirror_mode": {
    "name": "ipython",
    "version": 3
   },
   "file_extension": ".py",
   "mimetype": "text/x-python",
   "name": "python",
   "nbconvert_exporter": "python",
   "pygments_lexer": "ipython3",
   "version": "3.8.11"
  }
 },
 "nbformat": 4,
 "nbformat_minor": 2
}
