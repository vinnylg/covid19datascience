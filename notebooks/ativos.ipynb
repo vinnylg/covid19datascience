{
 "cells": [
  {
   "cell_type": "code",
   "execution_count": null,
   "metadata": {},
   "outputs": [],
   "source": [
    "import sys\n",
    "sys.path.append('..')\n",
    "print(sys.path)"
   ]
  },
  {
   "cell_type": "code",
   "execution_count": 1,
   "metadata": {},
   "outputs": [
    {
     "output_type": "stream",
     "name": "stdout",
     "text": [
      "['c:\\\\Users\\\\Vinícius de Lima\\\\Projects\\\\covid19datascience\\\\notebooks', 'c:\\\\Users\\\\Vinícius de Lima\\\\.vscode\\\\extensions\\\\ms-toolsai.jupyter-2021.3.684299474\\\\pythonFiles', 'c:\\\\Users\\\\Vinícius de Lima\\\\.vscode\\\\extensions\\\\ms-toolsai.jupyter-2021.3.684299474\\\\pythonFiles\\\\lib\\\\python', 'C:\\\\ProgramData\\\\Anaconda3\\\\python38.zip', 'C:\\\\ProgramData\\\\Anaconda3\\\\DLLs', 'C:\\\\ProgramData\\\\Anaconda3\\\\lib', 'C:\\\\ProgramData\\\\Anaconda3', '', 'C:\\\\ProgramData\\\\Anaconda3\\\\lib\\\\site-packages', 'C:\\\\ProgramData\\\\Anaconda3\\\\lib\\\\site-packages\\\\win32', 'C:\\\\ProgramData\\\\Anaconda3\\\\lib\\\\site-packages\\\\win32\\\\lib', 'C:\\\\ProgramData\\\\Anaconda3\\\\lib\\\\site-packages\\\\Pythonwin', 'C:\\\\ProgramData\\\\Anaconda3\\\\lib\\\\site-packages\\\\IPython\\\\extensions', 'C:\\\\Users\\\\Vinícius de Lima\\\\.ipython', '..']\n"
     ]
    }
   ],
   "source": [
    "from os.path import dirname, join, isfile, isdir\n",
    "from datetime import datetime, timedelta\n",
    "from unidecode import unidecode\n",
    "from hashlib import sha256\n",
    "from os import makedirs\n",
    "from sys import exit\n",
    "import pandas as pd\n",
    "import codecs\n",
    "\n",
    "from bulletin import __file__ as __root__\n",
    "from bulletin.data.casos_confirmados import CasosConfirmados\n",
    "from bulletin.data.notifica import Notifica\n",
    "from bulletin.commom import static\n",
    "from bulletin.commom.normalize import normalize_text, normalize_labels, normalize_number, normalize_municipios, normalize_ibge, normalize_hash, data_hash\n",
    "from bulletin.commom.utils import Timer, auto_fit_columns\n",
    "\n",
    "pd.set_option('display.max_columns', None)\n",
    "output = join(\"output\",\"correcoes\",\"casos_ativos\")\n",
    "\n",
    "\n",
    "if not isdir(output):\n",
    "    makedirs(output)"
   ]
  },
  {
   "cell_type": "code",
   "execution_count": 2,
   "metadata": {},
   "outputs": [],
   "source": [
    "ativos = pd.read_excel(join(\"input\",\"ativos.xlsx\"), \n",
    "    converters = {\n",
    "        'IBGE_RES_PR': normalize_ibge,\n",
    "        'Nome': normalize_text,\n",
    "        'Sexo': normalize_text,\n",
    "        'Idade': lambda x: normalize_number(x,fill=0),\n",
    "        'Mun Resid': normalize_text,\n",
    "        'Mun atend': normalize_text,\n",
    "        'RS': lambda x: normalize_number(x,fill=99),\n",
    "        'Laboratório': normalize_text },\n",
    "    parse_dates=False )\n",
    "\n",
    "ativos.columns = [ normalize_labels(x) for x in ativos.columns ]\n",
    "ativos = ativos.rename(columns={'ibge_res_pr': 'ibge'})\n",
    "\n",
    "ativos = ativos.drop(index=ativos.loc[ativos['rs']==99].index, columns=['mun_resid'])\n",
    "ativos['rs'] = ativos['rs'].apply(lambda x: str(x).zfill(2))\n",
    "\n",
    "municipios = static.municipios[['ibge','municipio']].copy().rename(columns={'municipio':'mun_resid'})\n",
    "municipios['ibge'] = municipios['ibge'].apply(str) \n",
    "municipios['municipio'] = municipios['ibge'].apply(normalize_text)\n",
    "\n",
    "ativos = pd.merge(ativos,municipios,how=\"left\",on=\"ibge\")\n",
    "\n",
    "ativos['ordem'] = [ x for x in range(1,len(ativos)+1) ]\n",
    "\n",
    "ativos = ativos[['ordem','rs','ibge','mun_resid','nome','sexo','idade','mun_atend','dt_notificacao','dias_apos_notificacao']]"
   ]
  },
  {
   "cell_type": "code",
   "execution_count": 3,
   "metadata": {},
   "outputs": [],
   "source": [
    "ativos = ativos.sort_values('dias_apos_notificacao',ascending=False)"
   ]
  },
  {
   "cell_type": "code",
   "execution_count": 4,
   "metadata": {},
   "outputs": [],
   "source": [
    "ativos['até 20 dias'] = 0\n",
    "ativos['após 20 dias'] = 0\n",
    "ativos.loc[ativos['dias_apos_notificacao']<21,'até 20 dias'] = 1\n",
    "ativos.loc[ativos['dias_apos_notificacao']>20,'após 20 dias'] = 1"
   ]
  },
  {
   "cell_type": "code",
   "execution_count": 6,
   "metadata": {},
   "outputs": [],
   "source": [
    "ativos = ativos.loc[ativos['após 20 dias']==1]"
   ]
  },
  {
   "cell_type": "code",
   "execution_count": 9,
   "metadata": {},
   "outputs": [],
   "source": [
    "writer = pd.ExcelWriter(join(output,f\"ativos_PR.xlsx\"),\n",
    "                    engine='xlsxwriter',\n",
    "                    datetime_format='dd/mm/yyyy',\n",
    "                    date_format='dd/mm/yyyy')\n",
    "\n",
    "totaisPR = ativos.groupby(['rs','ibge','mun_resid'])[['após 20 dias']].sum().reset_index()\n",
    "\n",
    "totaisPR.to_excel(writer,'totais', index=False)\n",
    "worksheet = writer.sheets['totais']\n",
    "auto_fit_columns(worksheet,totaisPR)\n",
    "\n",
    "ativos = ativos.sort_values('dias_apos_notificacao',ascending=False)\n",
    "ativos[['rs','ibge','mun_resid','nome','sexo','idade','mun_atend','dt_notificacao','dias_apos_notificacao']].to_excel(writer,'geral',index=False)\n",
    "worksheet = writer.sheets['geral']\n",
    "auto_fit_columns(worksheet,ativos[['rs','ibge','mun_resid','nome','sexo','idade','mun_atend','dt_notificacao','dias_apos_notificacao']])\n",
    "\n",
    "writer.save()"
   ]
  },
  {
   "cell_type": "code",
   "execution_count": 11,
   "metadata": {
    "tags": []
   },
   "outputs": [],
   "source": [
    "for rs, df_rs in ativos.groupby('rs'):\n",
    "    writer = pd.ExcelWriter(join(output,f\"ativos_{int(rs)}rs.xlsx\"),\n",
    "                        engine='xlsxwriter',\n",
    "                        datetime_format='dd/mm/yyyy',\n",
    "                        date_format='dd/mm/yyyy')\n",
    "\n",
    "    # totais_rs = df_rs.groupby(['rs','ibge','mun_resid'])[['após 20 dias']].sum().reset_index()\n",
    "    # totais_rs.to_excel(writer,'totais',index=False)\n",
    "    # worksheet = writer.sheets['totais']\n",
    "    # auto_fit_columns(worksheet,totais_rs)\n",
    "    \n",
    "    df_rs = df_rs[['rs','ibge','mun_resid','nome','sexo','idade','mun_atend','dt_notificacao','dias_apos_notificacao']].sort_values('mun_resid')\n",
    "    \n",
    "    df_rs.to_excel(writer,'geral',index=False)\n",
    "    worksheet = writer.sheets['geral']\n",
    "    auto_fit_columns(worksheet,df_rs)\n",
    "\n",
    "    # for ibge, df_ibge in df_rs.groupby('ibge'):\n",
    "    #     df_ibge.to_excel(writer,f\"{ibge}\",index=False)\n",
    "    #     worksheet = writer.sheets[f\"{ibge}\"]\n",
    "    #     auto_fit_columns(worksheet,df_ibge)\n",
    "\n",
    "    writer.save()"
   ]
  },
  {
   "cell_type": "code",
   "execution_count": null,
   "metadata": {},
   "outputs": [],
   "source": []
  }
 ],
 "metadata": {
  "kernelspec": {
   "display_name": "Python 3",
   "language": "python",
   "name": "python3"
  },
  "language_info": {
   "codemirror_mode": {
    "name": "ipython",
    "version": 3
   },
   "file_extension": ".py",
   "mimetype": "text/x-python",
   "name": "python",
   "nbconvert_exporter": "python",
   "pygments_lexer": "ipython3",
   "version": "3.8.5-final"
  }
 },
 "nbformat": 4,
 "nbformat_minor": 2
}