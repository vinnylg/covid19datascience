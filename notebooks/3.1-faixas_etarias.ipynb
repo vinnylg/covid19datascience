{
 "cells": [
  {
   "cell_type": "code",
   "execution_count": null,
   "metadata": {
    "execution": {
     "iopub.execute_input": "2021-12-20T14:47:45.729028Z",
     "iopub.status.busy": "2021-12-20T14:47:45.729028Z",
     "iopub.status.idle": "2021-12-20T14:47:45.746029Z",
     "shell.execute_reply": "2021-12-20T14:47:45.743035Z",
     "shell.execute_reply.started": "2021-12-20T14:47:45.729028Z"
    }
   },
   "outputs": [],
   "source": [
    "## set covid19_datasciente as path for python find bulletin package\n",
    "import sys\n",
    "from pathlib import Path\n",
    "from os import getcwd\n",
    "from os.path import join, basename\n",
    "\n",
    "sys.path.append(str(Path(getcwd()).parent))"
   ]
  },
  {
   "cell_type": "code",
   "execution_count": null,
   "metadata": {
    "execution": {
     "iopub.execute_input": "2021-12-20T14:47:45.748032Z",
     "iopub.status.busy": "2021-12-20T14:47:45.748032Z",
     "iopub.status.idle": "2021-12-20T14:47:46.541579Z",
     "shell.execute_reply": "2021-12-20T14:47:46.540300Z",
     "shell.execute_reply.started": "2021-12-20T14:47:45.748032Z"
    }
   },
   "outputs": [],
   "source": [
    "import numpy as np\n",
    "import pandas as pd\n",
    "from unidecode import unidecode\n",
    "from datetime import date, timedelta, datetime\n",
    "from os.path import dirname, join, isfile, isdir\n",
    "# from bulletin.utils.functions import faixa_etaria_linhas, faixa_etaria_colunas\n",
    "from bulletin import default_input, default_output"
   ]
  },
  {
   "cell_type": "code",
   "execution_count": null,
   "metadata": {
    "execution": {
     "iopub.execute_input": "2021-12-20T14:47:46.545216Z",
     "iopub.status.busy": "2021-12-20T14:47:46.544246Z",
     "iopub.status.idle": "2021-12-20T14:47:46.553237Z",
     "shell.execute_reply": "2021-12-20T14:47:46.552236Z",
     "shell.execute_reply.started": "2021-12-20T14:47:46.544246Z"
    }
   },
   "outputs": [],
   "source": [
    "def faixas_etarias_template(casos, faixa_etaria, faixa_etaria_labels):\n",
    "    faixa_etaria_index = dict(enumerate(faixa_etaria_labels))\n",
    "    index_casos = np.digitize(casos['idade_original'], faixa_etaria, right=False)\n",
    "    casos['faixa_etaria'] = [ index for index in index_casos ]\n",
    "    obitos = casos.loc[ casos['data_obito'].notnull() ].copy()\n",
    "\n",
    "    faixa_etaria_casos = casos.groupby(by=['faixa_etaria'])[['sexo']].count().reset_index().rename(columns={'sexo':'quantidade'})\n",
    "\n",
    "    faixa_etaria_obitos = obitos.groupby(by=['faixa_etaria'])[['sexo']].count().reset_index().rename(columns={'sexo':'quantidade'})\n",
    "    \n",
    "    return faixa_etaria_casos, faixa_etaria_obitos"
   ]
  },
  {
   "cell_type": "code",
   "execution_count": null,
   "metadata": {
    "execution": {
     "iopub.execute_input": "2021-12-20T14:47:46.555243Z",
     "iopub.status.busy": "2021-12-20T14:47:46.554219Z",
     "iopub.status.idle": "2021-12-20T14:47:46.617252Z",
     "shell.execute_reply": "2021-12-20T14:47:46.615240Z",
     "shell.execute_reply.started": "2021-12-20T14:47:46.555243Z"
    }
   },
   "outputs": [],
   "source": [
    "def faixa_etaria_linhas(casos, file_name, faixa_etaria, faixa_etaria_labels):\n",
    "    faixa_etaria_index = dict(enumerate(faixa_etaria_labels))\n",
    "    index_casos = np.digitize(casos['idade_original'], faixa_etaria, right=False)\n",
    "\n",
    "    casos['faixa_etaria'] = [ index for index in index_casos ]\n",
    "\n",
    "    casos['mes_caso'] = casos.apply(lambda row: row['data_diagnostico'].strftime('%m'), axis=1)\n",
    "    casos['ano_caso'] = casos.apply(lambda row: row['data_diagnostico'].strftime('%Y'), axis=1)\n",
    "\n",
    "\n",
    "    obitos = casos.loc[ casos['data_obito'].notnull() ].copy()\n",
    "    obitos['mes_obito'] = obitos.apply(lambda row: row['data_obito'].strftime('%m'), axis=1)\n",
    "    obitos['ano_obito'] = obitos.apply(lambda row: row['data_obito'].strftime('%Y'), axis=1)\n",
    "\n",
    "\n",
    "\n",
    "    faixa_etaria_casos = casos.groupby(by=['ano_caso','mes_caso','faixa_etaria'])[['sexo','ibge_res_pr']].count().rename(columns={'sexo':'0','ibge_res_pr':'1'})\n",
    "    faixa_etaria_casos = faixa_etaria_casos.unstack()\n",
    "    faixa_etaria_casos = faixa_etaria_casos.swaplevel(1,0,1).sort_index(1).rename(columns={'0':'qtde','1':'%'})\n",
    "\n",
    "    faixa_etaria_casos.columns = pd.MultiIndex.from_tuples(faixa_etaria_casos.columns)\n",
    "    faixa_etaria_casos['total'] = faixa_etaria_casos.xs('qtde',level=1, axis=1).sum(axis=1)\n",
    "\n",
    "\n",
    "    faixa_etaria_casos = faixa_etaria_casos.sort_index()\n",
    "\n",
    "    for ano_mes in faixa_etaria_casos.index:\n",
    "        for faixa_etaria, tipo in faixa_etaria_casos.columns:\n",
    "            if tipo == '%':\n",
    "#                 print(faixa_etaria_casos.loc[ano_mes,'total'])\n",
    "                faixa_etaria_casos.loc[ano_mes,(faixa_etaria,'%')] = faixa_etaria_casos.loc[ano_mes,(faixa_etaria,'%')] / faixa_etaria_casos.loc[ano_mes,'total']\n",
    "\n",
    "    faixa_etaria_casos.columns = faixa_etaria_casos.columns.set_levels([ faixa_etaria_index[index] if isinstance(index,int) else index for index in faixa_etaria_casos.columns.levels[0]],0,False)\n",
    "\n",
    "\n",
    "\n",
    "\n",
    "\n",
    "    faixa_etaria_obitos = obitos.groupby(by=['ano_obito','mes_obito','faixa_etaria'])[['sexo','ibge_res_pr']].count().rename(columns={'sexo':'0','ibge_res_pr':'1'})\n",
    "    faixa_etaria_obitos = faixa_etaria_obitos.unstack()\n",
    "    faixa_etaria_obitos = faixa_etaria_obitos.swaplevel(1,0,1).sort_index(1).rename(columns={'0':'qtde','1':'%'})\n",
    "\n",
    "    faixa_etaria_obitos.columns = pd.MultiIndex.from_tuples(faixa_etaria_obitos.columns)\n",
    "    faixa_etaria_obitos['total'] = faixa_etaria_obitos.xs('qtde',level=1, axis=1).sum(axis=1)\n",
    "\n",
    "    faixa_etaria_obitos = faixa_etaria_obitos.sort_index()\n",
    "\n",
    "    for ano_mes in faixa_etaria_obitos.index:\n",
    "        for faixa_etaria, tipo in faixa_etaria_obitos.columns:\n",
    "            if tipo == '%':\n",
    "#                 print(faixa_etaria_obitos.loc[ano_mes,'total'])\n",
    "                faixa_etaria_obitos.loc[ano_mes,(faixa_etaria,'%')] = faixa_etaria_obitos.loc[ano_mes,(faixa_etaria,'%')] / faixa_etaria_obitos.loc[ano_mes,'total']\n",
    "                \n",
    "    faixa_etaria_obitos.columns = faixa_etaria_obitos.columns.set_levels([ faixa_etaria_index[index] if isinstance(index,int) else index for index in faixa_etaria_obitos.columns.levels[0]],0,False)\n",
    "\n",
    "\n",
    "    writer = pd.ExcelWriter(file_name,\n",
    "                            engine='xlsxwriter',\n",
    "                            datetime_format='dd/mm/yyyy',\n",
    "                            date_format='dd/mm/yyyy')\n",
    "\n",
    "    workbook = writer.book\n",
    "\n",
    "    faixa_etaria_casos.to_excel(writer,sheet_name=f\"faixa_etaria_casos\")\n",
    "    worksheet = writer.sheets[f\"faixa_etaria_casos\"]\n",
    "\n",
    "\n",
    "    faixa_etaria_obitos.to_excel(writer,sheet_name=f\"faixa_etaria_obitos\")\n",
    "    worksheet = writer.sheets[f\"faixa_etaria_obitos\"]\n",
    "\n",
    "    writer.save()"
   ]
  },
  {
   "cell_type": "code",
   "execution_count": null,
   "metadata": {
    "execution": {
     "iopub.execute_input": "2021-12-20T14:47:46.619246Z",
     "iopub.status.busy": "2021-12-20T14:47:46.618250Z",
     "iopub.status.idle": "2021-12-20T14:47:46.629243Z",
     "shell.execute_reply": "2021-12-20T14:47:46.628249Z",
     "shell.execute_reply.started": "2021-12-20T14:47:46.618250Z"
    }
   },
   "outputs": [],
   "source": [
    "def normalize_number(num, cast=int, error='fill', fill='-1'):\n",
    "    try:\n",
    "        return cast(num)\n",
    "    except ValueError:\n",
    "        if error == 'raise':\n",
    "            raise Exception(ValueError)\n",
    "        elif error == 'fill':\n",
    "            return normalize_number(fill, cast, 'raise')\n",
    "\n",
    "\n",
    "def trim_overspace(string):\n",
    "    parts = filter(lambda part: len(part) > 0, string.split(\" \"))\n",
    "    return \" \".join(parts)\n",
    "\n",
    "\n",
    "def normalize_labels(label):\n",
    "    label = str(label).replace(\"'\", \" \").replace(\".\", \"\").replace(\"\\n\", \"\").replace(\",\", \"\").lower()\n",
    "    label = trim_overspace(label).replace(\" \", \"_\")\n",
    "    label = unidecode(label)\n",
    "\n",
    "    return label\n",
    "\n",
    "\n",
    "def normalize_text(txt):\n",
    "    if not txt is None:\n",
    "        txt = txt.upper()\n",
    "        txt = unidecode(txt)\n",
    "        txt = trim_overspace(txt)\n",
    "        txt =  \"\".join([x if ('A' <= x <= 'Z') or (x in [' ','-','_','/','\\'']) else '' for x in txt])\n",
    "    else:\n",
    "        txt = ''\n",
    "    \n",
    "    return txt"
   ]
  },
  {
   "cell_type": "code",
   "execution_count": null,
   "metadata": {
    "execution": {
     "iopub.execute_input": "2021-12-20T14:47:46.630248Z",
     "iopub.status.busy": "2021-12-20T14:47:46.630248Z",
     "iopub.status.idle": "2021-12-20T14:47:46.659251Z",
     "shell.execute_reply": "2021-12-20T14:47:46.658250Z",
     "shell.execute_reply.started": "2021-12-20T14:47:46.630248Z"
    }
   },
   "outputs": [],
   "source": [
    "hoje = datetime.today()\n",
    "ontem = hoje - timedelta(1)\n",
    "anteontem = ontem - timedelta(1)\n",
    "\n",
    "day_chosen = hoje\n",
    "\n",
    "pd.set_option('display.max_columns', None)\n",
    "pd.set_option(\"display.precision\", 5)\n",
    "\n",
    "meses = ['janeiro','fevereiro','marco','abril','maio','junho','julho','agosto','setembro','outubro','novembro','dezembro']"
   ]
  },
  {
   "cell_type": "code",
   "execution_count": null,
   "metadata": {
    "execution": {
     "iopub.execute_input": "2021-12-20T14:47:46.661245Z",
     "iopub.status.busy": "2021-12-20T14:47:46.661245Z",
     "iopub.status.idle": "2021-12-20T14:48:02.704177Z",
     "shell.execute_reply": "2021-12-20T14:48:02.703200Z",
     "shell.execute_reply.started": "2021-12-20T14:47:46.661245Z"
    }
   },
   "outputs": [],
   "source": [
    "df_casos = pd.read_csv(join(default_output, 'comunicacao', f\"INFORME_EPIDEMIOLOGICO_{str(day_chosen.day).zfill(2)}_{str(day_chosen.month).zfill(2)}_{day_chosen.year}_Geral.csv\"), sep=';', converters={'IDADE_ORIGINAL': lambda x: normalize_number(x,fill=0)}, parse_dates=['DATA_DIAGNOSTICO','DATA_OBITO'], date_parser=lambda x: pd.to_datetime(x, format='%Y-%m-%d'))\n",
    "\n",
    "df_casos.columns = [ normalize_labels(x) for x in df_casos.columns ]\n",
    "df_casos"
   ]
  },
  {
   "cell_type": "code",
   "execution_count": null,
   "metadata": {
    "execution": {
     "iopub.execute_input": "2021-12-20T14:48:02.705190Z",
     "iopub.status.busy": "2021-12-20T14:48:02.705190Z",
     "iopub.status.idle": "2021-12-20T14:48:03.132047Z",
     "shell.execute_reply": "2021-12-20T14:48:03.132047Z",
     "shell.execute_reply.started": "2021-12-20T14:48:02.705190Z"
    }
   },
   "outputs": [],
   "source": [
    "# DADOS DO PARANÁ\n",
    "df_casos = df_casos.loc[df_casos['uf_residencia'] == 'PR']"
   ]
  },
  {
   "cell_type": "code",
   "execution_count": null,
   "metadata": {
    "execution": {
     "iopub.execute_input": "2021-12-20T14:48:03.135297Z",
     "iopub.status.busy": "2021-12-20T14:48:03.135297Z",
     "iopub.status.idle": "2021-12-20T14:48:03.138297Z",
     "shell.execute_reply": "2021-12-20T14:48:03.137323Z",
     "shell.execute_reply.started": "2021-12-20T14:48:03.135297Z"
    }
   },
   "outputs": [],
   "source": [
    "# DADOS DE CURITIBA\n",
    "# casos = casos.loc[casos[\"ibge_res_pr\"]== 4106902]"
   ]
  },
  {
   "cell_type": "code",
   "execution_count": null,
   "metadata": {
    "execution": {
     "iopub.execute_input": "2021-12-20T14:48:03.138297Z",
     "iopub.status.busy": "2021-12-20T14:48:03.138297Z",
     "iopub.status.idle": "2021-12-20T14:48:03.157078Z",
     "shell.execute_reply": "2021-12-20T14:48:03.157078Z",
     "shell.execute_reply.started": "2021-12-20T14:48:03.138297Z"
    }
   },
   "outputs": [],
   "source": [
    "# DADOS DE REGIONAIS DE SAÚDE\n",
    "\n",
    "\n",
    "# 05ª RS - Guarapuava\n",
    "# list_IBGE_RS = [4103040, 4103958, 4104428, 4104451, 4108452, 4108650, 4109401, 4113254, 4113304, 4115457, 4117057, 4117800, 4119301, 4119608, 4120150, 4120606, 4121752, 4122156, 4127965, 4128658]\n",
    "\n",
    "# 12ª RS - Umuarama\n",
    "# list_IBGE_RS = [4128625,4100707,4100509,4103370,4103479,4106605,4107256,4107520,4108320,4109906,4110607,4111555,4114708,4115101,4117206,4118857,4118907,4125357,4126900,4128104,4128807]\n",
    "\n",
    "# casos_RS = pd.DataFrame()\n",
    "# for i in list_IBGE_RS:\n",
    "#     casos_temp = casos.loc[casos[\"ibge_res_pr\"] == i]\n",
    "#     casos_RS = casos_RS.append(casos_temp)\n",
    "# casos = casos_RS"
   ]
  },
  {
   "cell_type": "code",
   "execution_count": null,
   "metadata": {
    "execution": {
     "iopub.execute_input": "2021-12-20T14:48:03.159291Z",
     "iopub.status.busy": "2021-12-20T14:48:03.158303Z",
     "iopub.status.idle": "2021-12-20T14:51:35.334743Z",
     "shell.execute_reply": "2021-12-20T14:51:35.334743Z",
     "shell.execute_reply.started": "2021-12-20T14:48:03.159291Z"
    }
   },
   "outputs": [],
   "source": [
    "#--------------------------------------- APRESENTAÇÃO CURTA\n",
    "\n",
    "# FAIXA ETÁRIA 4:\n",
    "casos = df_casos.copy()\n",
    "file_name = join(default_output, 'dash', 'RAW_faixa_etaria_por_mes(4).xlsx')\n",
    "faixa_etaria = [10,20]\n",
    "faixa_etaria_labels = ['0-9','10-19','>=20']\n",
    "faixa_etaria_linhas(casos, file_name, faixa_etaria, faixa_etaria_labels)\n",
    "# faixa_etaria_colunas(casos, file_name, faixa_etaria, faixa_etaria_labels)\n",
    "\n",
    "\n",
    "\n",
    "# FAIXA ETÁRIA 10:\n",
    "casos = df_casos.copy()\n",
    "file_name = join(default_output, 'dash', 'RAW_faixa_etaria_por_mes(10).xlsx')\n",
    "faixa_etaria = [10,20,30,40,50,60]\n",
    "faixa_etaria_labels = ['0-9','10-19','20-29','30-39','40-49','50-59','>=60']\n",
    "faixa_etaria_linhas(casos, file_name, faixa_etaria, faixa_etaria_labels)\n",
    "# faixa_etaria_colunas(casos, file_name, faixa_etaria, faixa_etaria_labels)"
   ]
  },
  {
   "cell_type": "code",
   "execution_count": null,
   "metadata": {
    "execution": {
     "iopub.execute_input": "2021-12-20T14:51:35.334743Z",
     "iopub.status.busy": "2021-12-20T14:51:35.334743Z",
     "iopub.status.idle": "2021-12-20T14:51:36.690221Z",
     "shell.execute_reply": "2021-12-20T14:51:36.690221Z",
     "shell.execute_reply.started": "2021-12-20T14:51:35.334743Z"
    }
   },
   "outputs": [],
   "source": [
    "casos = df_casos.copy()\n",
    "faixa_etaria = [10,20,40,60,np.inf]\n",
    "faixa_etaria_labels = ['<10','10-19','20-39','40-59','>=60']\n",
    "casos_template, obitos_template = faixas_etarias_template(casos, faixa_etaria, faixa_etaria_labels)\n",
    "casos_template.to_csv(join(default_output, 'dash', 'casos_pr_template.csv'), index=False, sep=';', encoding='utf-8-sig')\n",
    "obitos_template.to_csv(join(default_output, 'dash', 'obitos_pr_template.csv'), index=False, sep=';', encoding='utf-8-sig')"
   ]
  },
  {
   "cell_type": "code",
   "execution_count": null,
   "metadata": {
    "execution": {
     "iopub.execute_input": "2021-12-20T14:51:36.690221Z",
     "iopub.status.busy": "2021-12-20T14:51:36.690221Z",
     "iopub.status.idle": "2021-12-20T14:51:37.226488Z",
     "shell.execute_reply": "2021-12-20T14:51:37.226488Z",
     "shell.execute_reply.started": "2021-12-20T14:51:36.690221Z"
    }
   },
   "outputs": [],
   "source": [
    "casos = df_casos.copy()\n",
    "casos = casos.loc[casos['ibge_res_pr'] == 4106902]\n",
    "faixa_etaria = [10,20,40,60,np.inf]\n",
    "faixa_etaria_labels = ['<10','10-19','20-39','40-59','>=60']\n",
    "casos_template, obitos_template = faixas_etarias_template(casos, faixa_etaria, faixa_etaria_labels)\n",
    "casos_template.to_csv(join(default_output, 'dash', 'casos_curitiba_template.csv'), index=False, sep=';', encoding='utf-8-sig')\n",
    "obitos_template.to_csv(join(default_output, 'dash', 'obitos_curitiba_template.csv'), index=False, sep=';', encoding='utf-8-sig')"
   ]
  },
  {
   "cell_type": "code",
   "execution_count": null,
   "metadata": {
    "execution": {
     "iopub.execute_input": "2021-12-20T14:51:37.226488Z",
     "iopub.status.busy": "2021-12-20T14:51:37.226488Z",
     "iopub.status.idle": "2021-12-20T14:51:37.242134Z",
     "shell.execute_reply": "2021-12-20T14:51:37.242134Z",
     "shell.execute_reply.started": "2021-12-20T14:51:37.226488Z"
    }
   },
   "outputs": [],
   "source": [
    "# FAIXA ETÁRIA CRIANÇAS E ADOLESCENTES:\n",
    "# casos = df_casos.copy()\n",
    "# file_name = join(default_output, 'dash', 'RAW_faixa_etaria_por_mes(criancas_adolescentes).xlsx')\n",
    "# faixa_etaria = [2,3,4,5,6,7,8,9,10,11,12,13,14,15,16,17,18]\n",
    "# faixa_etaria_labels = ['<=1','2','3','4','5','6','7','8','9','10','11','12','13','14','15','16','17','>=18']\n",
    "# faixa_etaria_linhas(casos, file_name, faixa_etaria, faixa_etaria_labels)\n",
    "# faixa_etaria_colunas(casos, file_name, faixa_etaria, faixa_etaria_labels)"
   ]
  },
  {
   "cell_type": "code",
   "execution_count": null,
   "metadata": {
    "execution": {
     "iopub.execute_input": "2021-12-20T14:51:37.242134Z",
     "iopub.status.busy": "2021-12-20T14:51:37.242134Z",
     "iopub.status.idle": "2021-12-20T14:51:37.257748Z",
     "shell.execute_reply": "2021-12-20T14:51:37.257748Z",
     "shell.execute_reply.started": "2021-12-20T14:51:37.242134Z"
    }
   },
   "outputs": [],
   "source": [
    "#--------------------------------------- APRESENTAÇÃO LONGA\n",
    "\n",
    "# # FAIXA ETÁRIA:\n",
    "# file_name = join(default_output, 'dash', 'RAW_faixa_etaria_por_mes.xlsx')\n",
    "# faixa_etaria = [60,70,80,90,100,np.inf]\n",
    "# faixa_etaria_labels = ['<=59','60-69','70-79','80-89','90-99','>=100']\n",
    "# faixa_etaria_linhas(casos, file_name, faixa_etaria, faixa_etaria_labels)\n",
    "# # faixa_etaria_colunas(casos, file_name, faixa_etaria, faixa_etaria_labels)\n",
    "\n",
    "\n",
    "# # FAIXA ETÁRIA 2:\n",
    "# file_name = join(default_output, 'dash', 'RAW_faixa_etaria_por_mes(2).xlsx')\n",
    "# faixa_etaria = [10,20,40,60,np.inf]\n",
    "# faixa_etaria_labels = ['<10','10-19','20-39','40-59','>=60']\n",
    "# faixa_etaria_linhas(casos, file_name, faixa_etaria, faixa_etaria_labels)\n",
    "# # faixa_etaria_colunas(casos, file_name, faixa_etaria, faixa_etaria_labels)\n",
    "\n",
    "\n",
    "# # FAIXA ETÁRIA 3:\n",
    "# file_name = join(default_output, 'dash', 'RAW_faixa_etaria_por_mes(3).xlsx')\n",
    "# faixa_etaria = [6,10,20,30,40,50,60,70,80]\n",
    "# faixa_etaria_labels = ['00-05','06-09','10-19','20-29','30-39','40-49','50-59','60-69','70-79','80 e mais']\n",
    "# faixa_etaria_linhas(casos, file_name, faixa_etaria, faixa_etaria_labels)\n",
    "# # faixa_etaria_colunas(casos, file_name, faixa_etaria, faixa_etaria_labels)\n",
    "\n",
    "\n",
    "# # FAIXA ETÁRIA 4:\n",
    "# file_name = join(default_output, 'dash', 'RAW_faixa_etaria_por_mes(4).xlsx')\n",
    "# faixa_etaria = [10,20]\n",
    "# faixa_etaria_labels = ['0-9','10-19','>=20']\n",
    "# faixa_etaria_linhas(casos, file_name, faixa_etaria, faixa_etaria_labels)\n",
    "# # faixa_etaria_colunas(casos, file_name, faixa_etaria, faixa_etaria_labels)\n",
    "\n",
    "\n",
    "# # FAIXA ETÁRIA 5:\n",
    "# file_name = join(default_output, 'dash', 'RAW_faixa_etaria_por_mes(5).xlsx')\n",
    "# faixa_etaria = [80,85,90]\n",
    "# faixa_etaria_labels = ['<80','80-84','85-89','>=90']\n",
    "# faixa_etaria_linhas(casos, file_name, faixa_etaria, faixa_etaria_labels)\n",
    "# # faixa_etaria_colunas(casos, file_name, faixa_etaria, faixa_etaria_labels)\n",
    "\n",
    "\n",
    "# # FAIXA ETÁRIA 7:\n",
    "# file_name = join(default_output, 'dash', 'RAW_faixa_etaria_por_mes(7).xlsx')\n",
    "# faixa_etaria = [60,70,80]\n",
    "# faixa_etaria_labels = ['<60','60-69','70-79','>=80']\n",
    "# faixa_etaria_linhas(casos, file_name, faixa_etaria, faixa_etaria_labels)\n",
    "# # faixa_etaria_colunas(casos, file_name, faixa_etaria, faixa_etaria_labels)\n",
    "\n",
    "\n",
    "# # FAIXA ETÁRIA 9:\n",
    "# file_name = join(default_output, 'dash', 'RAW_faixa_etaria_por_mes(9).xlsx')\n",
    "# faixa_etaria = [60,70,80,90]\n",
    "# faixa_etaria_labels = ['<60','60-69','70-79','80-89','>=90']\n",
    "# faixa_etaria_linhas(casos, file_name, faixa_etaria, faixa_etaria_labels)\n",
    "\n",
    "\n",
    "# # FAIXA ETÁRIA 10:\n",
    "# file_name = join(default_output, 'dash', 'RAW_faixa_etaria_por_mes(10).xlsx')\n",
    "# faixa_etaria = [10,20,30,40,50,60,np.inf]\n",
    "# faixa_etaria_labels = ['0-9','10-19','20-29','30-39','40-49','50-59','>=60']\n",
    "# faixa_etaria_linhas(casos, file_name, faixa_etaria, faixa_etaria_labels)\n",
    "# # faixa_etaria_colunas(casos, file_name, faixa_etaria, faixa_etaria_labels)"
   ]
  },
  {
   "cell_type": "code",
   "execution_count": null,
   "metadata": {
    "execution": {
     "iopub.execute_input": "2021-12-20T14:51:37.257748Z",
     "iopub.status.busy": "2021-12-20T14:51:37.257748Z",
     "iopub.status.idle": "2021-12-20T14:51:37.273327Z",
     "shell.execute_reply": "2021-12-20T14:51:37.273327Z",
     "shell.execute_reply.started": "2021-12-20T14:51:37.257748Z"
    }
   },
   "outputs": [],
   "source": [
    "# FAIXAS ETÁRIAS DE IDOSOS:\n",
    "\n",
    "# # FAIXA ETÁRIA 8:\n",
    "# casos = df_casos.copy()\n",
    "# file_name = join(default_output, 'dash', 'RAW_faixa_etaria_por_mes(8).xlsx')\n",
    "# faixa_etaria = [60,70,80,90]\n",
    "# faixa_etaria_labels = ['<60','60-69','70-79','80-89','>=90']\n",
    "# faixa_etaria_colunas(casos, file_name, faixa_etaria, faixa_etaria_labels)\n",
    "\n",
    "# casos = df_casos.copy()\n",
    "# file_name = join(default_output, 'dash', 'RAW_faixa_etaria_por_mes(9).xlsx')\n",
    "# faixa_etaria_linhas(casos, file_name, faixa_etaria, faixa_etaria_labels)"
   ]
  },
  {
   "cell_type": "code",
   "execution_count": null,
   "metadata": {
    "execution": {
     "iopub.execute_input": "2021-12-20T14:51:37.273327Z",
     "iopub.status.busy": "2021-12-20T14:51:37.273327Z",
     "iopub.status.idle": "2021-12-20T14:51:37.289022Z",
     "shell.execute_reply": "2021-12-20T14:51:37.289022Z",
     "shell.execute_reply.started": "2021-12-20T14:51:37.273327Z"
    }
   },
   "outputs": [],
   "source": [
    "# FAIXAS ETÁRIAS DE ADOLESCENTES:\n",
    "\n",
    "# # FAIXA ETÁRIA 11:\n",
    "# file_name = join(default_output, 'dash', 'RAW_faixa_etaria_por_mes(11.1).xlsx')\n",
    "# faixa_etaria = [5,10,15,20]\n",
    "# faixa_etaria_labels = ['0-4','5-9','10-14','15-19','>=20']\n",
    "# faixa_etaria_colunas(casos, file_name, faixa_etaria, faixa_etaria_labels)\n",
    "\n",
    "# file_name = join(default_output, 'dash', 'RAW_faixa_etaria_por_mes(11.2).xlsx')\n",
    "# faixa_etaria_linhas(casos, file_name, faixa_etaria, faixa_etaria_labels)\n",
    "\n",
    "# # FAIXA ETÁRIA 12:\n",
    "# file_name = join(default_output, 'dash', 'RAW_faixa_etaria_por_mes(12.1).xlsx')\n",
    "# faixa_etaria = [15,30]\n",
    "# faixa_etaria_labels = ['<15','15-29','>=30']\n",
    "# faixa_etaria_linhas(casos, file_name, faixa_etaria, faixa_etaria_labels)\n",
    "\n",
    "# file_name = join(default_output, 'dash', 'RAW_faixa_etaria_por_mes(12.2).xlsx')\n",
    "# faixa_etaria_linhas(casos, file_name, faixa_etaria, faixa_etaria_labels)"
   ]
  },
  {
   "cell_type": "code",
   "execution_count": null,
   "metadata": {
    "execution": {
     "iopub.execute_input": "2021-12-20T14:51:37.289022Z",
     "iopub.status.busy": "2021-12-20T14:51:37.289022Z",
     "iopub.status.idle": "2021-12-20T14:51:37.647732Z",
     "shell.execute_reply": "2021-12-20T14:51:37.647732Z",
     "shell.execute_reply.started": "2021-12-20T14:51:37.289022Z"
    }
   },
   "outputs": [],
   "source": [
    "casos = df_casos.copy()\n",
    "obitos = casos.loc[casos['obito_covid-19'] == 'SIM']\n",
    "obitos['data_obito'] = pd.to_datetime(obitos['data_obito'], format='%Y-%m-%d', errors='coerce')\n",
    "obitos['ano_obito'] = obitos['data_obito'].dt.year\n",
    "obitos['mes_obito'] = obitos['data_obito'].dt.month\n",
    "media_idades = obitos.groupby(['ano_obito', 'mes_obito'])[['idade_original']].mean().reset_index().rename(columns={'idade_original':'média'})\n",
    "media_idades.to_excel(join(default_output, 'dash', 'media_idades_mes.xlsx'), index=False)"
   ]
  },
  {
   "cell_type": "code",
   "execution_count": null,
   "metadata": {
    "execution": {
     "iopub.execute_input": "2021-12-20T14:51:37.647732Z",
     "iopub.status.busy": "2021-12-20T14:51:37.647732Z",
     "iopub.status.idle": "2021-12-20T14:51:37.658064Z",
     "shell.execute_reply": "2021-12-20T14:51:37.657058Z",
     "shell.execute_reply.started": "2021-12-20T14:51:37.647732Z"
    }
   },
   "outputs": [],
   "source": [
    "# casos = df_casos.copy()\n",
    "# file_name = join(default_output, 'dash', 'faixa_etaria_por_criancas.xlsx')\n",
    "# faixa_etaria = [3,6,9,12,15,18]\n",
    "# faixa_etaria_labels = ['0-2','3-5','6-8','9-11','12-14','15-17','>=18']\n",
    "# faixa_etaria_linhas(casos, file_name, faixa_etaria, faixa_etaria_labels)"
   ]
  }
 ],
 "metadata": {
  "interpreter": {
   "hash": "b3ba2566441a7c06988d0923437866b63cedc61552a5af99d1f4fb67d367b25f"
  },
  "kernelspec": {
   "display_name": "Python 3 (ipykernel)",
   "language": "python",
   "name": "python3"
  },
  "language_info": {
   "codemirror_mode": {
    "name": "ipython",
    "version": 3
   },
   "file_extension": ".py",
   "mimetype": "text/x-python",
   "name": "python",
   "nbconvert_exporter": "python",
   "pygments_lexer": "ipython3",
   "version": "3.8.11"
  }
 },
 "nbformat": 4,
 "nbformat_minor": 4
}
