{
 "cells": [
  {
   "cell_type": "code",
   "execution_count": null,
   "metadata": {},
   "outputs": [],
   "source": [
    "## set covid19_datasciente as path for python find bulletin package\n",
    "import sys\n",
    "from pathlib import Path\n",
    "from os import getcwd, remove, listdir, stat, chdir\n",
    "from os.path import dirname, join, isfile, isdir, basename\n",
    "import pyminizip as pz\n",
    "\n",
    "sys.path.append(str(Path(getcwd()).parent))\n",
    "current_dir = getcwd()\n",
    "print(current_dir)"
   ]
  },
  {
   "cell_type": "code",
   "execution_count": null,
   "metadata": {},
   "outputs": [],
   "source": [
    "import pandas as pd\n",
    "from datetime import date, datetime, timedelta\n",
    "pd.set_option('display.max_columns', None)\n",
    "pd.set_option('display.max_rows', None)"
   ]
  },
  {
   "cell_type": "code",
   "execution_count": null,
   "metadata": {},
   "outputs": [],
   "source": [
    "from bulletin import default_input, default_output, agora, hoje, ontem, anteontem, dias_apos, dias_apos_label\n",
    "from bulletin.services.metabase import Metabase\n",
    "from bulletin.systems.notifica import Notifica\n",
    "from bulletin.utils import utils\n",
    "from bulletin.utils.normalize import normalize_text#normalize_hash, normalize_labels, , date_hash, normalize_number"
   ]
  },
  {
   "cell_type": "code",
   "execution_count": null,
   "metadata": {},
   "outputs": [],
   "source": [
    "backup_path = join('C:\\\\', 'SESA', 'covid19datascience-dev', 'bulletin', 'database', 'backups')"
   ]
  },
  {
   "cell_type": "code",
   "execution_count": null,
   "metadata": {},
   "outputs": [],
   "source": [
    "# Backup\n",
    "utils.create_backup(first_name = \"backup_notifica_\" , level=3)\n",
    "chdir(current_dir)"
   ]
  },
  {
   "cell_type": "code",
   "execution_count": null,
   "metadata": {},
   "outputs": [],
   "source": [
    "\n",
    "\n",
    "# Download\n",
    "mb = Metabase(limit=250000)\n",
    "mb.generate_notifica_query('notifica', where='True', replace=True)\n",
    "notifica_parts = mb.download_notificacao('notifica', load=True)"
   ]
  },
  {
   "cell_type": "code",
   "execution_count": null,
   "metadata": {},
   "outputs": [],
   "source": [
    "\n",
    "\n",
    "# Leitura\n",
    "notifica = Notifica()\n",
    "\n",
    "read_saved = True\n",
    "\n",
    "if (read_saved):\n",
    "    notifica.load('all_notifica_raw-new', compress=True)\n",
    "else:\n",
    "    notifica.read(notifica_parts)\n",
    "    notifica.save('all_notifica_raw-new', replace=True, compress=True)\n"
   ]
  },
  {
   "cell_type": "code",
   "execution_count": null,
   "metadata": {},
   "outputs": [],
   "source": [
    "\n",
    "\n",
    "# Normalização\n",
    "notifica.normalize()"
   ]
  },
  {
   "cell_type": "code",
   "execution_count": null,
   "metadata": {},
   "outputs": [],
   "source": [
    "\n",
    "\n",
    "# Fix Dtypes\n",
    "notifica.fix_dtypes()"
   ]
  },
  {
   "cell_type": "code",
   "execution_count": null,
   "metadata": {},
   "outputs": [],
   "source": [
    "notifica.df.shape"
   ]
  },
  {
   "cell_type": "code",
   "execution_count": null,
   "metadata": {},
   "outputs": [],
   "source": [
    "notifica.df.dtypes"
   ]
  },
  {
   "cell_type": "code",
   "execution_count": null,
   "metadata": {},
   "outputs": [],
   "source": [
    "\n",
    "\n",
    "# Definição da melhor data de diagnóstico\n",
    "analise_dtd = notifica.analise_data_diagnostico() # NOTEBOOK PARALELO CRIADO"
   ]
  },
  {
   "cell_type": "code",
   "execution_count": null,
   "metadata": {},
   "outputs": [],
   "source": [
    "\n",
    "\n",
    "# Salvar o arquivo\n",
    "notifica.save('notifica-new', replace=True, compress=False)"
   ]
  },
  {
   "cell_type": "code",
   "execution_count": null,
   "metadata": {},
   "outputs": [],
   "source": [
    "# CRIA BACKUP COM AS QUERIES QUE FORAM BAIXADAS\n",
    "\n",
    "queries_path = join('C:\\\\', 'SESA', 'covid19datascience-dev', 'input', 'queries', 'tmp')\n",
    "queries = [ f for f in listdir(queries_path) if isfile(join(queries_path, f)) ]\n",
    "\n",
    "chdir(queries_path)\n",
    "\n",
    "\n",
    "pz.compress_multiple(queries, [], join(backup_path, f\"download_notifica_queries_{hoje.strftime('%d_%m_%Y')}.zip\"), \"password_notifica_db_2021\", 9)\n",
    "\n",
    "\n",
    "# REMOVE AS QUERIES BAIXADAS\n",
    "for files in queries:\n",
    "    try:\n",
    "        print('Removing file: ', files)\n",
    "        remove(join(queries_path, files))\n",
    "    except:\n",
    "        pass"
   ]
  },
  {
   "cell_type": "code",
   "execution_count": null,
   "metadata": {},
   "outputs": [],
   "source": [
    "now = pd.to_datetime(datetime.today())\n",
    "final = pd.to_datetime(datetime.today())\n",
    "delta = final - timedelta(minutes=agora.minute, hours=agora.hour)\n",
    "print(f\"início: {agora.strftime('%d/%m/%Y')}\\t{agora.strftime('%H:%M')}\")\n",
    "print(f\"agora: {now.strftime('%d/%m/%Y')}\\t{now.strftime('%H:%M')}\")\n",
    "print(f\"tempo corrido: {delta.strftime('%H:%M:%S')}\")"
   ]
  }
 ],
 "metadata": {
  "interpreter": {
   "hash": "1cdc22e96f16e7a709941e5164353478df3c5a2dca8a048b5ddcd85bd66dd558"
  },
  "kernelspec": {
   "display_name": "Python 3 (ipykernel)",
   "language": "python",
   "name": "python3"
  },
  "language_info": {
   "codemirror_mode": {
    "name": "ipython",
    "version": 3
   },
   "file_extension": ".py",
   "mimetype": "text/x-python",
   "name": "python",
   "nbconvert_exporter": "python",
   "pygments_lexer": "ipython3",
   "version": "3.8.11"
  }
 },
 "nbformat": 4,
 "nbformat_minor": 2
}
