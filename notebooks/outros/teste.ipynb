{
 "cells": [
  {
   "cell_type": "code",
   "execution_count": null,
   "metadata": {},
   "outputs": [],
   "source": [
    "## set covid19_datasciente as path for python find bulletin package\n",
    "import sys\n",
    "from pathlib import Path\n",
    "from os import getcwd, remove\n",
    "from os.path import join, basename\n",
    "\n",
    "sys.path.append(str(Path(getcwd()).parent))"
   ]
  },
  {
   "cell_type": "code",
   "execution_count": null,
   "metadata": {},
   "outputs": [],
   "source": [
    "import pandas as pd\n",
    "pd.set_option('display.max_columns', None)\n",
    "pd.set_option('display.max_rows', 150)\n",
    "\n",
    "\n",
    "import numpy as np\n",
    "from random import randint\n",
    "from math import floor, ceil\n",
    "import codecs\n",
    "from epiweeks import Week\n",
    "from glob import glob"
   ]
  },
  {
   "cell_type": "code",
   "execution_count": null,
   "metadata": {},
   "outputs": [],
   "source": [
    "from bulletin import default_input, default_output, agora, hoje, ontem, anteontem, dias_apos, dias_apos_label, tables_path\n",
    "from bulletin.services.metabase import Metabase\n",
    "from bulletin.systems.casos_confirmados import CasosConfirmados\n",
    "from bulletin.systems.notifica import Notifica\n",
    "from bulletin.utils.static import Municipios\n",
    "from bulletin.utils import utils, static\n",
    "from bulletin.utils.xls_ import fit_cols\n",
    "from bulletin.utils.normalize import trim_overspace\n",
    "\n",
    "from bulletin.utils.normalize import normalize_text#normalize_hash, normalize_labels, , date_hash, normalize_number"
   ]
  },
  {
   "cell_type": "code",
   "execution_count": null,
   "metadata": {},
   "outputs": [],
   "source": [
    "from datetime import datetime, date, timedelta\n",
    "\n",
    "today = pd.to_datetime(date.today())\n",
    "ontem = today - timedelta(1)\n",
    "anteontem = ontem - timedelta(1)"
   ]
  },
  {
   "cell_type": "code",
   "execution_count": null,
   "metadata": {},
   "outputs": [],
   "source": [
    "tables = dict([(Path(x).stem,pd.read_csv(join(tables_path,x))) for x in glob(join(tables_path,\"*.csv\"))])"
   ]
  },
  {
   "cell_type": "code",
   "execution_count": null,
   "metadata": {},
   "outputs": [],
   "source": [
    "cc = CasosConfirmados()\n",
    "cc.load(f\"cc_{today.strftime('%d_%m_%Y')}\", compress=True)\n",
    "cc.df"
   ]
  },
  {
   "cell_type": "code",
   "execution_count": null,
   "metadata": {},
   "outputs": [],
   "source": [
    "cc.df = cc.df.join(tables['municipios'].set_index('ibge'), on='ibge_residencia')"
   ]
  },
  {
   "cell_type": "code",
   "execution_count": null,
   "metadata": {},
   "outputs": [],
   "source": [
    "casos_confirmados = cc.df.loc[cc.df['uf']=='PR'].copy()"
   ]
  },
  {
   "cell_type": "code",
   "execution_count": null,
   "metadata": {},
   "outputs": [],
   "source": [
    "casos_confirmados = casos_confirmados.rename(columns={'id':'id'})\n",
    "casos_confirmados['ano_caso'] = casos_confirmados['data_diagnostico'].apply(lambda x: x.year if isinstance(x,date) else 'erro')\n",
    "casos_confirmados['mes_caso'] = casos_confirmados['data_diagnostico'].apply(lambda x: x.month if isinstance(x,date) else 'erro')\n",
    "casos_confirmados['se_caso'] = casos_confirmados['data_diagnostico'].apply(lambda x: Week.fromdate(x).week if isinstance(x,date) else 'erro')\n",
    "casos_confirmados['dia_caso'] = casos_confirmados['data_diagnostico'].apply(lambda x: x.day if isinstance(x,date) else 'erro')\n",
    "\n",
    "obitos_confirmados = casos_confirmados.loc[casos_confirmados['evolucao']==2].copy()\n",
    "obitos_confirmados['ano_obito'] = obitos_confirmados['data_cura_obito'].apply(lambda x: x.year if isinstance(x,date) else 'erro')\n",
    "obitos_confirmados['mes_obito'] = obitos_confirmados['data_cura_obito'].apply(lambda x: x.month if isinstance(x,date) else 'erro')\n",
    "obitos_confirmados['se_obito'] = obitos_confirmados['data_cura_obito'].apply(lambda x: Week.fromdate(x).week if isinstance(x,date) else 'erro')\n",
    "obitos_confirmados['dia_obito'] = obitos_confirmados['data_cura_obito'].apply(lambda x: x.day if isinstance(x,date) else 'erro')"
   ]
  },
  {
   "cell_type": "code",
   "execution_count": null,
   "metadata": {},
   "outputs": [],
   "source": [
    "datas = pd.DataFrame(index=pd.date_range(casos_confirmados['data_diagnostico'].min(),today))\n",
    "datas.index.names = ['data']\n",
    "datas.loc[:,['ano','mes','se','dia']] = [ (data.year, data.month, Week.fromdate(data).week, data.day) for data in datas.index ]\n",
    "datas = datas.set_index(['ano','mes','se','dia'])\n",
    "datas"
   ]
  },
  {
   "cell_type": "code",
   "execution_count": null,
   "metadata": {},
   "outputs": [],
   "source": [
    "casos = casos_confirmados.groupby(['macro','rs','regional','ibge_residencia','municipio','ano_caso','mes_caso','se_caso','dia_caso'])[['id']].count().fillna(0).astype(int).rename(columns={'id':'casos'}).unstack(['ano_caso','mes_caso','se_caso','dia_caso']).droplevel(0,1)\n",
    "casos.columns.names = ['ano','mes','se','dia']\n",
    "casos = casos.reindex(datas.index, axis=1).sort_index(level=1).fillna(0).astype(int)\n",
    "casos"
   ]
  },
  {
   "cell_type": "code",
   "execution_count": null,
   "metadata": {},
   "outputs": [],
   "source": [
    "obitos = obitos_confirmados.groupby(['macro','rs','regional','ibge_residencia','municipio','ano_obito','mes_obito','se_obito','dia_obito'])[['id']].count().fillna(0).astype(int).rename(columns={'id':'obito'}).unstack(['ano_obito','mes_obito','se_obito','dia_obito']).sort_index().droplevel(0,1)\n",
    "obitos.columns.names = ['ano','mes','se','dia']\n",
    "obitos = obitos.reindex(datas.index, axis=1).sort_index(level=1).fillna(0).astype(int)\n",
    "obitos"
   ]
  },
  {
   "cell_type": "code",
   "execution_count": null,
   "metadata": {},
   "outputs": [],
   "source": [
    "casos.columns = pd.MultiIndex.from_product([['casos'],casos.columns])\n",
    "obitos.columns = pd.MultiIndex.from_product([['obitos'],obitos.columns])\n",
    "\n",
    "casos_obitos = casos.join(obitos).reorder_levels(['ano','mes','se','dia','qtde'], axis=1).sort_index(level=0, axis=1)\n",
    "casos_obitos"
   ]
  },
  {
   "cell_type": "code",
   "execution_count": null,
   "metadata": {},
   "outputs": [],
   "source": []
  }
 ],
 "metadata": {
  "interpreter": {
   "hash": "b3ba2566441a7c06988d0923437866b63cedc61552a5af99d1f4fb67d367b25f"
  },
  "kernelspec": {
   "display_name": "Python 3 (ipykernel)",
   "language": "python",
   "name": "python3"
  },
  "language_info": {
   "codemirror_mode": {
    "name": "ipython",
    "version": 3
   },
   "file_extension": ".py",
   "mimetype": "text/x-python",
   "name": "python",
   "nbconvert_exporter": "python",
   "pygments_lexer": "ipython3",
   "version": "3.8.11"
  }
 },
 "nbformat": 4,
 "nbformat_minor": 2
}
