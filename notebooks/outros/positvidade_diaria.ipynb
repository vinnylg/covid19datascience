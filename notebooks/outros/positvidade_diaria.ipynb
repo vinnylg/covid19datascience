{
 "cells": [
  {
   "cell_type": "code",
   "execution_count": null,
   "id": "760c9443",
   "metadata": {},
   "outputs": [],
   "source": [
    "## set covid19_datasciente as path for python find bulletin package\n",
    "import sys\n",
    "from pathlib import Path\n",
    "from os import getcwd, remove, chdir\n",
    "from os.path import join, basename\n",
    "\n",
    "sys.path.append(str(Path(getcwd()).parent))\n",
    "current_dir = getcwd()\n",
    "print(current_dir)"
   ]
  },
  {
   "cell_type": "code",
   "execution_count": null,
   "id": "a8a83df4",
   "metadata": {},
   "outputs": [],
   "source": [
    "from datetime import date"
   ]
  },
  {
   "cell_type": "code",
   "execution_count": null,
   "id": "0982cc8b",
   "metadata": {},
   "outputs": [],
   "source": [
    "import pandas as pd\n",
    "pd.set_option('display.max_columns', None)\n",
    "pd.set_option('display.max_rows', 150)\n",
    "\n",
    "import numpy as np\n",
    "from epiweeks import Week, Year\n",
    "from datetime import date, timedelta"
   ]
  },
  {
   "cell_type": "code",
   "execution_count": null,
   "id": "fabd90e4",
   "metadata": {},
   "outputs": [],
   "source": [
    "from bulletin import root, default_input, default_output, agora, hoje, ontem, anteontem, dias_apos, dias_apos_label\n",
    "from bulletin.systems import Notifica\n",
    "from bulletin.utils.static import Municipios\n",
    "from bulletin.utils.normalize import normalize_text"
   ]
  },
  {
   "cell_type": "code",
   "execution_count": null,
   "id": "5cf6a7f0",
   "metadata": {},
   "outputs": [],
   "source": [
    "nt = Notifica()\n",
    "nt.load(f\"notifica\", compress=False)"
   ]
  },
  {
   "cell_type": "code",
   "execution_count": null,
   "id": "025b9e43",
   "metadata": {},
   "outputs": [],
   "source": [
    "for col in nt.tables['municipios'].columns:\n",
    "    if col in nt.df.columns:\n",
    "        del nt.df[col]"
   ]
  },
  {
   "cell_type": "code",
   "execution_count": null,
   "id": "9c33afa7",
   "metadata": {},
   "outputs": [],
   "source": [
    "# nt.df.loc[nt.df['ibge_residencia'].apply(str).str[:2]!='41', 'ibge_residencia'] = 999999\n",
    "nt.df = nt.df.drop(index=nt.df.loc[nt.df['ibge_unidade_notifica'].apply(str).str[:2]!='41'].index)\n",
    "# nt.df.loc[nt.df['ibge_unidade_notifica'].apply(str).str[:2]!='41', 'ibge_unidade_notifica'] = 999999"
   ]
  },
  {
   "cell_type": "code",
   "execution_count": null,
   "id": "11ebeeb4",
   "metadata": {},
   "outputs": [],
   "source": [
    "nt.df.drop(index=nt.df.loc[nt.df['data_notificacao'].isna()].index, inplace=True)"
   ]
  },
  {
   "cell_type": "code",
   "execution_count": null,
   "id": "91f7f704",
   "metadata": {},
   "outputs": [],
   "source": [
    "nt.tables['metodo']"
   ]
  },
  {
   "cell_type": "code",
   "execution_count": null,
   "id": "10e97fbf",
   "metadata": {},
   "outputs": [],
   "source": [
    "# nt.df = nt.df.loc[nt.df['metodo']==1] ## RT-PCR\n",
    "# nt.df = nt.df.loc[nt.df['metodo']==2] ## Teste Rápido"
   ]
  },
  {
   "cell_type": "code",
   "execution_count": null,
   "id": "6cbff9bc",
   "metadata": {},
   "outputs": [],
   "source": [
    "nt.df = nt.df.replace(nt.tables['exame'].set_index('id').to_dict())\n",
    "nt.df = nt.df.replace(nt.tables['metodo'].set_index('id').to_dict())"
   ]
  },
  {
   "cell_type": "code",
   "execution_count": null,
   "id": "6d007e81",
   "metadata": {},
   "outputs": [],
   "source": [
    "nt.df['ano'] = nt.df['data_notificacao'].dt.year\n",
    "nt.df['mes'] = nt.df['data_notificacao'].dt.month\n",
    "nt.df['dia'] = nt.df['data_notificacao'].dt.day"
   ]
  },
  {
   "cell_type": "code",
   "execution_count": null,
   "id": "105e440b",
   "metadata": {},
   "outputs": [],
   "source": [
    "nt.df.loc[nt.df['classificacao_final']==4,'classificacao_final'] = 1\n",
    "nt.df.loc[nt.df['classificacao_final']==5,'classificacao_final'] = 3"
   ]
  },
  {
   "cell_type": "code",
   "execution_count": null,
   "id": "4b6b9d5d",
   "metadata": {},
   "outputs": [],
   "source": [
    "nt.df.groupby(['classificacao_final'])[['id']].count()#.rename(index=nt.tables['classificacao_final'].set_index('id')['classificacao_final'])"
   ]
  },
  {
   "cell_type": "code",
   "execution_count": null,
   "id": "bf998467",
   "metadata": {},
   "outputs": [],
   "source": [
    "dias = pd.date_range(start=date(2020,3,1), end=hoje)\n",
    "ano = dias.year\n",
    "mes = dias.month\n",
    "dia = dias.day\n",
    "dias = list(zip(ano,mes,dia))\n",
    "pd.DataFrame(columns=pd.MultiIndex.from_tuples(dias))"
   ]
  },
  {
   "cell_type": "code",
   "execution_count": null,
   "id": "ff043bc3",
   "metadata": {},
   "outputs": [],
   "source": [
    "municipios = nt.tables['municipios'][['uf','macro','rs','regional','ibge','municipio','populacao']]\n",
    "\n",
    "#populacao\n",
    "municipiosPR = municipios.loc[municipios['uf'].isin(['PR'])].sort_values(['rs','ibge']).set_index(['uf','macro','rs','regional','ibge','municipio'])\n",
    "rsPR = municipiosPR.groupby(['rs','regional']).sum()\n",
    "macroPR = municipiosPR.groupby(['macro']).sum()\n",
    "PR = municipiosPR.groupby(['uf']).sum()"
   ]
  },
  {
   "cell_type": "code",
   "execution_count": null,
   "id": "3793f09f",
   "metadata": {},
   "outputs": [],
   "source": [
    "nt.df = nt.df.join(municipios.set_index('ibge'),on='ibge_unidade_notifica').rename(columns={'ibge_unidade_notifica':'ibge'})"
   ]
  },
  {
   "cell_type": "code",
   "execution_count": null,
   "id": "20e4abe9",
   "metadata": {},
   "outputs": [],
   "source": [
    "total_mun = nt.df.groupby(['uf','macro','rs','regional','ibge','municipio','ano','mes','dia'])[['id']].count().unstack(['ano','mes','dia']).fillna(0).astype(int).sort_index(axis=1,level=1).droplevel(axis=1,level=0)\n",
    "total_mun = total_mun.reindex(municipiosPR.index,axis=0)\n",
    "total_mun = total_mun.reindex(dias,axis=1).fillna(0).astype(int)\n",
    "\n",
    "confirmados_mun = nt.df.loc[nt.df['classificacao_final']==2].groupby(['uf','macro','rs','regional','ibge','municipio','ano','mes','dia'])[['id']].count().unstack(['ano','mes','dia']).fillna(0).astype(int).sort_index(axis=1,level=1).droplevel(axis=1,level=0)\n",
    "confirmados_mun = confirmados_mun.reindex(municipiosPR.index,axis=0)\n",
    "confirmados_mun = confirmados_mun.reindex(dias,axis=1).fillna(0).astype(int)\n",
    "\n",
    "positividade_mun = confirmados_mun / total_mun"
   ]
  },
  {
   "cell_type": "code",
   "execution_count": null,
   "id": "2f928b8e",
   "metadata": {},
   "outputs": [],
   "source": [
    "total_rs = total_mun.groupby(['rs','regional']).sum().fillna(0).astype(int)\n",
    "confirmados_rs = confirmados_mun.groupby(['rs','regional']).sum().fillna(0).astype(int)\n",
    "positividade_rs = confirmados_rs / total_rs"
   ]
  },
  {
   "cell_type": "code",
   "execution_count": null,
   "id": "84d9bab1",
   "metadata": {},
   "outputs": [],
   "source": [
    "total_macro = total_mun.groupby(['macro']).sum().fillna(0).astype(int)\n",
    "confirmados_macro = confirmados_mun.groupby(['macro']).sum().fillna(0).astype(int)\n",
    "positividade_macro = confirmados_macro / total_macro"
   ]
  },
  {
   "cell_type": "code",
   "execution_count": null,
   "id": "9e595e1a",
   "metadata": {},
   "outputs": [],
   "source": [
    "total = total_mun.groupby(['uf']).sum().fillna(0).astype(int)\n",
    "confirmados = confirmados_mun.groupby(['uf']).sum().fillna(0).astype(int)\n",
    "positividade = confirmados / total"
   ]
  },
  {
   "cell_type": "code",
   "execution_count": null,
   "id": "a37d2363",
   "metadata": {},
   "outputs": [],
   "source": [
    "writer = pd.ExcelWriter(join(default_output,\"positividade_por_dia.xlsx\"))\n",
    "\n",
    "total.to_excel(writer,'total')\n",
    "confirmados.to_excel(writer,'confirmados')\n",
    "positividade.to_excel(writer,'positividade')\n",
    "\n",
    "total_macro.to_excel(writer,'total_macro')\n",
    "confirmados_macro.to_excel(writer,'confirmados_macro')\n",
    "positividade_macro.to_excel(writer,'positividade_macro')\n",
    "\n",
    "total_rs.to_excel(writer,'total_rs')\n",
    "confirmados_rs.to_excel(writer,'confirmados_rs')\n",
    "positividade_rs.to_excel(writer,'positividade_rs')\n",
    "\n",
    "total_mun.to_excel(writer,'total_mun')\n",
    "confirmados_mun.to_excel(writer,'confirmados_mun')\n",
    "positividade_mun.to_excel(writer,'positividade_mun')\n",
    "\n",
    "writer.save()"
   ]
  },
  {
   "cell_type": "code",
   "execution_count": null,
   "id": "8ed278b6",
   "metadata": {},
   "outputs": [],
   "source": [
    "total14dias = total_mun.iloc[:,-14:].sum(axis=1).to_frame(name='total14dias')\n",
    "conf14dias = confirmados_mun.iloc[:,-14:].sum(axis=1).to_frame(name='conf14dias')\n",
    "posit14dias = (conf14dias / total14dias.values).rename(columns={'conf14dias':'posit14dias'})\n",
    "\n",
    "mun = pd.concat([total14dias,conf14dias,posit14dias], axis=1)\n",
    "mun.to_excel('ultimos_14_dias.xlsx')"
   ]
  },
  {
   "cell_type": "code",
   "execution_count": null,
   "id": "79565184",
   "metadata": {},
   "outputs": [],
   "source": [
    "raise\n",
    "path_file = join('C:\\\\', 'SESA', 'covid19datascience-dev', 'bulletin', 'database', 'gal')\n",
    "gal = pd.read_csv(join(path_file, 'consulta-gal-complemento-2021.csv'), sep = ';')\n",
    "\n",
    "for col in nt.tables['municipios'].columns:\n",
    "    if col in gal.columns:\n",
    "        if col != 'ibge':\n",
    "            del gal[col]\n",
    "\n",
    "gal['data_requisicao'] = pd.to_datetime(gal['data_requisicao'].str[:10])\n",
    "gal = gal.loc[gal['ibge'].apply(str).str[:2]=='41']\n",
    "gal['ibge'] = gal['ibge'].apply(str).str[:6].apply(int)\n",
    "gal = gal.join(municipios.set_index('ibge'),on='ibge')"
   ]
  },
  {
   "cell_type": "code",
   "execution_count": null,
   "id": "d2d38496",
   "metadata": {},
   "outputs": [],
   "source": [
    "# gal['unidade_requisitante','unidade_requisitante_municipio', 'unidade_requisitante_uf']"
   ]
  },
  {
   "cell_type": "code",
   "execution_count": null,
   "id": "0c3cc681",
   "metadata": {},
   "outputs": [],
   "source": [
    "# gal_por_mun = gal.loc[gal['data_requisicao'] >= pd.to_datetime(date(2022,1,1))].groupby(['uf','macro','rs','regional','ibge','municipio'])[['id']].count()\n",
    "# gal_por_mun = gal_por_mun.reindex(municipiosPR.index,axis=0).fillna(0).astype(int).rename(columns={'id':'rt_pcr'})\n",
    "# gal_por_mun"
   ]
  },
  {
   "cell_type": "code",
   "execution_count": null,
   "id": "bdbcbbcd",
   "metadata": {},
   "outputs": [],
   "source": [
    "tudo = total14dias.rename(columns={'total14dias':'tr'}).join(gal_por_mun)\n",
    "tudo['total'] = tudo.sum(axis=1)\n",
    "tudo"
   ]
  },
  {
   "cell_type": "code",
   "execution_count": null,
   "id": "3ce61a8e",
   "metadata": {},
   "outputs": [],
   "source": [
    "tudo.reset_index().sort_values('total', ascending=False).to_excel('tr_rt_pcr_total.xlsx', index=False)"
   ]
  }
 ],
 "metadata": {
  "kernelspec": {
   "display_name": "Python 3 (ipykernel)",
   "language": "python",
   "name": "python3"
  },
  "language_info": {
   "codemirror_mode": {
    "name": "ipython",
    "version": 3
   },
   "file_extension": ".py",
   "mimetype": "text/x-python",
   "name": "python",
   "nbconvert_exporter": "python",
   "pygments_lexer": "ipython3",
   "version": "3.8.11"
  }
 },
 "nbformat": 4,
 "nbformat_minor": 5
}
