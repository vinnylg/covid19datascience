{
 "cells": [
  {
   "cell_type": "code",
   "execution_count": null,
   "metadata": {},
   "outputs": [],
   "source": [
    "from time import sleep\n",
    "import numpy as np\n",
    "from os.path import dirname, join, isfile, isdir\n",
    "from os import makedirs\n",
    "from sys import exit\n",
    "import pandas as pd\n",
    "from Levenshtein import ratio\n",
    "from datetime import datetime, timedelta\n",
    "\n",
    "from bulletin.utils import static, normalize\n",
    "from bulletin.sivep import sivep\n",
    "from bulletin.sim import sim\n",
    "from bulletin.notifica import Notifica\n",
    "from bulletin.utils.utils import Timer, get_better_notifica\n",
    "from bulletin.utils.static import meses\n",
    "from bulletin.metabase.request import download_metabase\n",
    "\n",
    "pd.set_option('display.max_columns', None)"
   ]
  },
  {
   "cell_type": "code",
   "execution_count": null,
   "metadata": {},
   "outputs": [],
   "source": [
    "#notifica = Notifica()\n",
    "#notifica.load()\n",
    "#notifica.shape()"
   ]
  },
  {
   "cell_type": "code",
   "execution_count": null,
   "metadata": {},
   "outputs": [],
   "source": [
    "sivep = sivep()\n",
    "sivep.read_all_database_files()\n",
    "sivep.to_notifica()\n",
    "sivep.shape()"
   ]
  },
  {
   "cell_type": "code",
   "execution_count": null,
   "metadata": {},
   "outputs": [],
   "source": [
    "sim = sim()\n",
    "sim.read_all_database_files()\n",
    "sim.to_notifica()\n",
    "sim.shape()"
   ]
  },
  {
   "cell_type": "code",
   "execution_count": null,
   "metadata": {},
   "outputs": [],
   "source": [
    "sim_obitos = sim.get_obitos()\n",
    "sivep_obitos = sivep.get_obitos()"
   ]
  },
  {
   "cell_type": "code",
   "execution_count": null,
   "metadata": {},
   "outputs": [],
   "source": [
    "sivep_obitos = sivep_obitos[['numero_do', 'data_cura_obito', 'paciente', 'nome_mae', 'data_nascimento', 'idade', 'sexo',\n",
    "                    'raca_cor', 'cod_cbo', 'uf_residencia', 'ibge_residencia', 'bairro_residencia', 'logradouro_residencia',\n",
    "                    'cep_residencia', 'uf_unidade_notifica', 'ibge_unidade_notifica', 'evolucao', 'sistema', 'id', 'cns']]"
   ]
  },
  {
   "cell_type": "code",
   "execution_count": null,
   "metadata": {},
   "outputs": [],
   "source": [
    "obitos = sivep_obitos.append(sim_obitos, ignore_index = True)"
   ]
  },
  {
   "cell_type": "code",
   "execution_count": null,
   "metadata": {},
   "outputs": [],
   "source": [
    "crossmatch = pd.DataFrame()\n",
    "crossmatch = obitos.apply(lambda x: obitos.apply(lambda y: ratio(x['paciente'], y['paciente']), axis=1), axis=1)\n",
    "crossmatch"
   ]
  },
  {
   "cell_type": "code",
   "execution_count": null,
   "metadata": {},
   "outputs": [],
   "source": [
    "#EXECUTAR DAQUI PRA BAIXO PORQUE ESSE CROSSMATCH DEMORA UMA VIDA\n",
    "for x in obitos.index:\n",
    "    obitos.loc[crossmatch[x] > 0.9, 'levenshtein'] = x"
   ]
  },
  {
   "cell_type": "code",
   "execution_count": null,
   "metadata": {},
   "outputs": [],
   "source": [
    "obitos_match_lv = obitos.loc[obitos.duplicated(['levenshtein', 'data_nascimento', 'data_cura_obito'], keep = False)]\n",
    "obitos_match_lv.shape"
   ]
  },
  {
   "cell_type": "code",
   "execution_count": null,
   "metadata": {},
   "outputs": [],
   "source": [
    "obitos_match_nm = obitos.loc[obitos.duplicated(['paciente', 'data_nascimento', 'data_cura_obito'], keep = False)]\n",
    "obitos_match_nm.shape"
   ]
  },
  {
   "cell_type": "code",
   "execution_count": null,
   "metadata": {},
   "outputs": [],
   "source": [
    "sim_obitos_lv = obitos_match_lv.loc[obitos_match_lv['sistema'] == 'SIM']\n",
    "sim_obitos_lv = sim_obitos_lv.drop_duplicates(['levenshtein', 'data_nascimento', 'data_cura_obito'], keep = 'last')\n",
    "sim_obitos_lv.shape"
   ]
  },
  {
   "cell_type": "code",
   "execution_count": null,
   "metadata": {},
   "outputs": [],
   "source": [
    "sim_obitos_nm = obitos_match_nm.loc[obitos_match_nm['sistema'] == 'SIM']\n",
    "sim_obitos_nm = sim_obitos_nm.drop_duplicates(['paciente', 'data_nascimento', 'data_cura_obito'], keep = 'last')\n",
    "sim_obitos_nm.shape"
   ]
  },
  {
   "cell_type": "code",
   "execution_count": null,
   "metadata": {},
   "outputs": [],
   "source": [
    "sivep_obitos_lv = obitos_match_lv.loc[obitos_match_lv['sistema'] == 'SIVEP']\n",
    "sivep_obitos_lv = sivep_obitos_lv.drop_duplicates(['levenshtein', 'data_nascimento', 'data_cura_obito'], keep = 'last')\n",
    "sivep_obitos_lv = sivep_obitos_lv.rename(columns={'id': 'id_sivep'})\n",
    "sivep_obitos_lv = sivep_obitos_lv[['levenshtein', 'id_sivep']]\n",
    "sivep_obitos_lv.shape"
   ]
  },
  {
   "cell_type": "code",
   "execution_count": null,
   "metadata": {},
   "outputs": [],
   "source": [
    "sivep_obitos_nm = obitos_match_nm.loc[obitos_match_nm['sistema'] == 'SIVEP']\n",
    "sivep_obitos_nm = sivep_obitos_nm.drop_duplicates(['paciente', 'data_nascimento', 'data_cura_obito'], keep = 'last')\n",
    "sivep_obitos_nm = sivep_obitos_nm.rename(columns={'id': 'id_sivep'})\n",
    "sivep_obitos_nm = sivep_obitos_nm[['paciente', 'id_sivep']]\n",
    "sivep_obitos_nm.shape"
   ]
  },
  {
   "cell_type": "code",
   "execution_count": null,
   "metadata": {},
   "outputs": [],
   "source": [
    "#VERIFIQUE ANTES O SHAPE DO DF SIM E SIVEP ANTES DE EXECUTAR ISSO\n",
    "merge_lv = pd.merge(left=sim_obitos_lv, right=sivep_obitos_lv, how='left', on='levenshtein')\n",
    "merge_lv.shape"
   ]
  },
  {
   "cell_type": "code",
   "execution_count": null,
   "metadata": {},
   "outputs": [],
   "source": [
    "merge_nm = pd.merge(left=sim_obitos_nm, right=sivep_obitos_nm, how='left', on='paciente')\n",
    "merge_nm.shape"
   ]
  },
  {
   "cell_type": "code",
   "execution_count": null,
   "metadata": {},
   "outputs": [],
   "source": [
    "with pd.ExcelWriter('merge_levenshtein.xlsx') as writer:  \n",
    "    merge_lv.to_excel(writer)"
   ]
  },
  {
   "cell_type": "code",
   "execution_count": null,
   "metadata": {},
   "outputs": [],
   "source": [
    "merge_nm = merge_nm.drop_duplicates('numero_do')\n",
    "merge_nm.shape"
   ]
  },
  {
   "cell_type": "code",
   "execution_count": null,
   "metadata": {},
   "outputs": [],
   "source": [
    "merge_lv = merge_lv.drop_duplicates('numero_do')\n",
    "merge_lv.shape"
   ]
  },
  {
   "cell_type": "code",
   "execution_count": null,
   "metadata": {},
   "outputs": [],
   "source": [
    "with pd.ExcelWriter('merge_nome.xlsx') as writer:  \n",
    "    merge_nm.to_excel(writer)"
   ]
  },
  {
   "cell_type": "code",
   "execution_count": null,
   "metadata": {},
   "outputs": [],
   "source": [
    "sivep_obitos = sivep.get_obitos()\n",
    "sivep_obitos.shape"
   ]
  },
  {
   "cell_type": "code",
   "execution_count": null,
   "metadata": {},
   "outputs": [],
   "source": [
    "sivep_obitos = sivep_obitos[['id', 'data_notificacao', 'data_1o_sintomas', 'cpf', 'gestante', 'periodo_gestacao', 'etnia',\n",
    "                             'febre', 'tosse', 'dor_garganta', 'dispneia', 'dispneia',\n",
    "                             'saturacao_o2', 'diarreia', 'nausea_vomitos', 'outros_sintomas', 'puerperio', 'doenca_cardiovascular',\n",
    "                             'sindrome_down', 'doenca_hepatica', 'diabetes', 'doenca_neurologica', 'doenca_pulmonar', 'imunodeficiencia',\n",
    "                             'doenca_renal', 'obesidade', 'outras_morbidades', 'uso_antiviral', 'hospitalizado', 'tipo_internacao',\n",
    "                             'raiox_torax', 'coleta_amostra', 'data_coleta', 'requisicao', 'data_liberacao', 'resultado', 'lab_executor',\n",
    "                             'classificacao_final', 'criterio_classificacao', 'historico_viagem', 'local_viagem', 'data_ida_local', 'data_retorno_local',\n",
    "                             'perda_olfato_paladar', 'tomografia']]\n",
    "sivep_obitos = sivep_obitos.rename(columns={'id': 'id_sivep'})"
   ]
  },
  {
   "cell_type": "code",
   "execution_count": null,
   "metadata": {},
   "outputs": [],
   "source": [
    "#TEM QUE TESTAR ISSO AI *deve mostrar um dataframe\n",
    "#cm = sivep_obitos['id_sivep'].apply(lambda x: merge_lv['id_sivep']==x)\n",
    "#sivep_obitos.loc[cm[1]]\n",
    "#sivep_obitos.shape"
   ]
  },
  {
   "cell_type": "code",
   "execution_count": null,
   "metadata": {},
   "outputs": [],
   "source": [
    "#merge = pd.merge(left=merge, right=sivep_obitos, how='left', on='id_sivep')"
   ]
  },
  {
   "cell_type": "code",
   "execution_count": null,
   "metadata": {},
   "outputs": [],
   "source": [
    "#with pd.ExcelWriter('merge_sim_sivep.xlsx') as writer:  \n",
    "#    merge.to_excel(writer)"
   ]
  }
 ],
 "metadata": {
  "kernelspec": {
   "display_name": "Python 3",
   "language": "python",
   "name": "python3"
  },
  "language_info": {
   "codemirror_mode": {
    "name": "ipython",
    "version": 3
   },
   "file_extension": ".py",
   "mimetype": "text/x-python",
   "name": "python",
   "nbconvert_exporter": "python",
   "pygments_lexer": "ipython3",
   "version": "3.8.3"
  }
 },
 "nbformat": 4,
 "nbformat_minor": 4
}
