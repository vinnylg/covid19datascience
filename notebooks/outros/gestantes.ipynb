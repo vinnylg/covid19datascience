{
 "cells": [
  {
   "cell_type": "code",
   "execution_count": null,
   "metadata": {},
   "outputs": [],
   "source": [
    "import sys\n",
    "from pathlib import Path\n",
    "from os import getcwd\n",
    "sys.path.append(str(Path(getcwd()).parent.parent))"
   ]
  },
  {
   "cell_type": "code",
   "execution_count": null,
   "metadata": {},
   "outputs": [],
   "source": [
    "import pandas as pd\n",
    "import numpy as np\n",
    "\n",
    "from datetime import datetime, date, timedelta\n",
    "\n",
    "today = pd.to_datetime(date.today())"
   ]
  },
  {
   "cell_type": "code",
   "execution_count": null,
   "metadata": {},
   "outputs": [],
   "source": [
    "\n",
    "from bulletin import default_input, default_output\n",
    "from bulletin.systems.casos_confirmados import CasosConfirmados\n",
    "from bulletin.systems.notifica import Notifica\n",
    "from bulletin.systems.esus import eSUS"
   ]
  },
  {
   "cell_type": "code",
   "execution_count": null,
   "metadata": {},
   "outputs": [],
   "source": [
    "cc = CasosConfirmados(f\"cc_{today.strftime('%d_%m_%Y')}\")\n",
    "cc.load()\n",
    "cc.df.shape"
   ]
  },
  {
   "cell_type": "code",
   "execution_count": null,
   "metadata": {},
   "outputs": [],
   "source": [
    "notifica = Notifica('notifica')\n",
    "notifica.load(compress=False)\n",
    "notifica.df.shape"
   ]
  },
  {
   "cell_type": "code",
   "execution_count": null,
   "metadata": {},
   "outputs": [],
   "source": [
    "vacinados_esus = eSUS('vacinados')\n",
    "vacinados_esus.load()\n",
    "vacinados_esus.df.shape"
   ]
  },
  {
   "cell_type": "code",
   "execution_count": null,
   "metadata": {},
   "outputs": [],
   "source": [
    "faixa_etaria = [60,65,70,75,80,85,90]\n",
    "faixa_etaria_labels = ['0-59','60-64','65-69','70-74','75-79','80-84','85-89','>=90']\n",
    "\n",
    "vacinados = vacinados_esus.df\n",
    "\n",
    "casos_confirmados = cc.df.rename(columns={'id_notifica':'id'})\n",
    "casos_confirmados['faixa_etaria'] = [ faixa_etaria_labels[idx] for idx in np.digitize(casos_confirmados['idade'],faixa_etaria,right=False)]\n",
    "casos_confirmados['ano_caso'] = casos_confirmados['data_diagnostico'].apply(lambda x: x.year if isinstance(x,date) else 'erro')\n",
    "casos_confirmados['mes_caso'] = casos_confirmados['data_diagnostico'].apply(lambda x: x.month if isinstance(x,date) else 'erro')\n",
    "casos_confirmados['ano_obito'] = casos_confirmados['data_cura_obito'].apply(lambda x: x.year if isinstance(x,date) else 'erro')\n",
    "casos_confirmados['mes_obito'] = casos_confirmados['data_cura_obito'].apply(lambda x: x.month if isinstance(x,date) else 'erro')\n",
    "\n",
    "casos_vacinados_cns = pd.merge(vacinados,casos_confirmados[['cns','id','data_diagnostico','evolucao','data_cura_obito']], on='cns', how='inner')\n",
    "print(len(casos_vacinados_cns))\n",
    "\n",
    "casos_vacinados_cpf = pd.merge(vacinados.loc[vacinados['cpf'].notna()],casos_confirmados[['cpf','id','data_diagnostico','evolucao','data_cura_obito']], on='cpf', how='inner')\n",
    "print(len(casos_vacinados_cpf))\n",
    "\n",
    "casos_vacinados_mae = pd.merge(vacinados.loc[vacinados['hash_mae'].notna()],casos_confirmados[['hash_mae','id','data_diagnostico','evolucao','data_cura_obito']], on='hash_mae', how='inner')\n",
    "print(len(casos_vacinados_mae))\n",
    "\n",
    "casos_vacinados_nasc = pd.merge(vacinados.loc[vacinados['hash_nasc'].notna()],casos_confirmados[['hash_nasc','id','data_diagnostico','evolucao','data_cura_obito']], on='hash_nasc', how='inner')\n",
    "print(len(casos_vacinados_nasc))\n",
    "\n",
    "casos_vacinados = pd.concat([casos_vacinados_cns,casos_vacinados_cpf,casos_vacinados_mae,casos_vacinados_nasc])\n",
    "casos_vacinados = casos_vacinados.drop_duplicates('id', keep='first')\n",
    "print(len(casos_vacinados))\n",
    "\n",
    "casos_vacinados[['id','evolucao']].groupby('evolucao').count()\n",
    "\n",
    "casos_vacinados['dias_entre_dose_diagnostico'] = 0\n",
    "'''\n",
    "se \n",
    "    a data de diagnóstico for anterior a vacinação\n",
    "entao -1\n",
    "'''\n",
    "casos_vacinados.loc[(\n",
    "    (casos_vacinados['situacao'] == 'inconsistencia') |\n",
    "    (casos_vacinados['data_aplicacao_1a_dose'] > casos_vacinados['data_diagnostico'])\n",
    "), 'dias_entre_dose_diagnostico'] = -1\n",
    "\n",
    "'''\n",
    "se \n",
    "    só a primeira dose foi aplicada\n",
    "então    \n",
    "    dias_entre_dose_diagnostico será data_diagnostico - data_aplicacao_1a_dose\n",
    "'''\n",
    "casos_vacinados.loc[(\n",
    "    (casos_vacinados['situacao'] == 'só primeira dose') &\n",
    "    (casos_vacinados['data_aplicacao_1a_dose'] <= casos_vacinados['data_diagnostico'])\n",
    "), 'dias_entre_dose_diagnostico'] = (casos_vacinados.loc[(\n",
    "    (casos_vacinados['situacao'] == 'só primeira dose') &\n",
    "    (casos_vacinados['data_aplicacao_1a_dose'] <= casos_vacinados['data_diagnostico'])\n",
    "), 'data_diagnostico'] - casos_vacinados.loc[(\n",
    "    (casos_vacinados['situacao'] == 'só primeira dose') &\n",
    "    (casos_vacinados['data_aplicacao_1a_dose'] <= casos_vacinados['data_diagnostico'])\n",
    "), 'data_aplicacao_1a_dose']).dt.days\n",
    "\n",
    "'''\n",
    "se \n",
    "    ambas as doses foram aplicadas\n",
    "    e a data de diagnóstico está entre as doses \n",
    "então    \n",
    "    dias_entre_dose_diagnostico será data_diagnostico - data_aplicacao_1a_dose\n",
    "'''\n",
    "casos_vacinados.loc[(\n",
    "    (casos_vacinados['situacao'] == 'ambas doses aplicadas') &\n",
    "    (casos_vacinados['data_aplicacao_1a_dose'] <= casos_vacinados['data_diagnostico']) &\n",
    "    (casos_vacinados['data_aplicacao_2a_dose'] >= casos_vacinados['data_diagnostico'])\n",
    "),'dias_entre_dose_diagnostico'] = (casos_vacinados.loc[(\n",
    "    (casos_vacinados['situacao'] == 'ambas doses aplicadas') &\n",
    "    (casos_vacinados['data_aplicacao_1a_dose'] <= casos_vacinados['data_diagnostico']) &\n",
    "    (casos_vacinados['data_aplicacao_2a_dose'] >= casos_vacinados['data_diagnostico'])\n",
    "),'data_diagnostico'] - casos_vacinados.loc[(\n",
    "    (casos_vacinados['situacao'] == 'ambas doses aplicadas') &\n",
    "    (casos_vacinados['data_aplicacao_1a_dose'] <= casos_vacinados['data_diagnostico']) &\n",
    "    (casos_vacinados['data_aplicacao_2a_dose'] >= casos_vacinados['data_diagnostico'])\n",
    "),'data_aplicacao_1a_dose']).dt.days\n",
    "\n",
    "'''\n",
    "se \n",
    "    ambas as doses foram aplicadas\n",
    "    e a data de diagnóstico está depois da 2 dose\n",
    "então    \n",
    "    os dias entre dose e diagnóstico será data_diagnostico - data_aplicacao_2a_dose\n",
    "'''\n",
    "casos_vacinados.loc[(\n",
    "    (casos_vacinados['situacao'] == 'ambas doses aplicadas') &\n",
    "    (casos_vacinados['data_aplicacao_2a_dose'] <= casos_vacinados['data_diagnostico'])\n",
    "),'dias_entre_dose_diagnostico'] = (casos_vacinados.loc[(\n",
    "    (casos_vacinados['situacao'] == 'ambas doses aplicadas') &\n",
    "    (casos_vacinados['data_aplicacao_2a_dose'] <= casos_vacinados['data_diagnostico'])\n",
    "),'data_diagnostico'] - casos_vacinados.loc[(\n",
    "    (casos_vacinados['situacao'] == 'ambas doses aplicadas') &\n",
    "    (casos_vacinados['data_aplicacao_2a_dose'] <= casos_vacinados['data_diagnostico'])\n",
    "),'data_aplicacao_2a_dose']).dt.days\n",
    "\n",
    "casos_vacinados['vacinado'] = 0\n",
    "\n",
    "casos_vacinados.loc[\n",
    "    (casos_vacinados['situacao']=='ambas doses aplicadas') & \n",
    "    (casos_vacinados['data_diagnostico'] > (casos_vacinados['data_aplicacao_2a_dose'] + timedelta(14)) )\n",
    ",'vacinado'] = 2\n",
    "\n",
    "casos_vacinados.loc[\n",
    "    (\n",
    "        (casos_vacinados['situacao']=='ambas doses aplicadas') & \n",
    "        (casos_vacinados['data_diagnostico'] <= casos_vacinados['data_aplicacao_2a_dose'] ) &\n",
    "        (casos_vacinados['data_diagnostico'] >= casos_vacinados['data_aplicacao_1a_dose'] )\n",
    "    ) | (\n",
    "        (casos_vacinados['situacao']=='só primeira dose') & \n",
    "        (casos_vacinados['data_diagnostico'] >= casos_vacinados['data_aplicacao_1a_dose'] )\n",
    "    )\n",
    ",'vacinado'] = 1\n",
    "\n",
    "cc.df = pd.merge(casos_confirmados,casos_vacinados[['id','categoria','grupo_atendimento','fabricante','vacina_nome','situacao','vacinado']],how='left',on='id')"
   ]
  },
  {
   "cell_type": "code",
   "execution_count": null,
   "metadata": {},
   "outputs": [],
   "source": [
    "cc.df['vacinado'] = cc.df['vacinado'].fillna(0)"
   ]
  },
  {
   "cell_type": "code",
   "execution_count": null,
   "metadata": {},
   "outputs": [],
   "source": [
    "cc.df = cc.df.rename(columns={'id':'id_notifica'})"
   ]
  },
  {
   "cell_type": "code",
   "execution_count": null,
   "metadata": {},
   "outputs": [],
   "source": [
    "gestantes = Notifica()\n",
    "gestantes.df = pd.merge(cc.df,notifica.df.loc[notifica.df['gestante']==1, ['id','gestante_alto_risco']].rename(columns={'id':'id_notifica'}), on='id_notifica', how='left')\n",
    "gestantes.toggle_merge_table('periodo_gestacao')\n",
    "gestantes.df.loc[gestantes.df['gestante_alto_risco'].isin([0,3]), 'gestante_alto_risco'] = 'Não'\n",
    "gestantes.df.loc[gestantes.df['gestante_alto_risco']==1, 'gestante_alto_risco'] = 'Sim'\n",
    "gestantes.df.loc[gestantes.df['gestante_alto_risco']==2, 'gestante_alto_risco'] = 'Não'\n",
    "gestantes.df"
   ]
  },
  {
   "cell_type": "code",
   "execution_count": null,
   "metadata": {},
   "outputs": [],
   "source": [
    "gestantes.df = gestantes.df.loc[gestantes.df['gestante']==1]"
   ]
  },
  {
   "cell_type": "code",
   "execution_count": null,
   "metadata": {},
   "outputs": [],
   "source": [
    "gestantes.df.groupby(['ano_caso','mes_caso','vacinado'])['vacinado'].count().unstack(-1).fillna(0).sum()"
   ]
  },
  {
   "cell_type": "code",
   "execution_count": null,
   "metadata": {},
   "outputs": [],
   "source": [
    "gestantes.df.groupby(['ano_caso','mes_caso','vacinado'])['vacinado'].count().unstack(-1).fillna(0).plot()"
   ]
  },
  {
   "cell_type": "code",
   "execution_count": null,
   "metadata": {},
   "outputs": [],
   "source": [
    "gestantes.df.groupby(['ano_caso','mes_caso','gestante_alto_risco'])['gestante_alto_risco'].count().unstack(-1).fillna(0).plot()"
   ]
  },
  {
   "cell_type": "code",
   "execution_count": null,
   "metadata": {},
   "outputs": [],
   "source": []
  }
 ],
 "metadata": {
  "kernelspec": {
   "display_name": "Python 3",
   "language": "python",
   "name": "python3"
  },
  "language_info": {
   "codemirror_mode": {
    "name": "ipython",
    "version": 3
   },
   "file_extension": ".py",
   "mimetype": "text/x-python",
   "name": "python",
   "nbconvert_exporter": "python",
   "pygments_lexer": "ipython3",
   "version": "3.8.5"
  }
 },
 "nbformat": 4,
 "nbformat_minor": 4
}
