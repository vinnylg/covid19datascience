{
 "cells": [
  {
   "cell_type": "code",
   "execution_count": null,
   "metadata": {
    "execution": {
     "iopub.execute_input": "2021-09-26T22:53:33.546691Z",
     "iopub.status.busy": "2021-09-26T22:53:33.546691Z",
     "iopub.status.idle": "2021-09-26T22:53:33.565698Z",
     "shell.execute_reply": "2021-09-26T22:53:33.563700Z",
     "shell.execute_reply.started": "2021-09-26T22:53:33.546691Z"
    }
   },
   "outputs": [],
   "source": [
    "## set covid19_datasciente as path for python find bulletin package\n",
    "import sys\n",
    "from pathlib import Path\n",
    "from os import getcwd, remove\n",
    "from os.path import join, basename\n",
    "\n",
    "sys.path.append(str(Path(getcwd()).parent))"
   ]
  },
  {
   "cell_type": "code",
   "execution_count": null,
   "metadata": {
    "execution": {
     "iopub.execute_input": "2021-09-26T22:53:33.567697Z",
     "iopub.status.busy": "2021-09-26T22:53:33.566686Z",
     "iopub.status.idle": "2021-09-26T22:53:34.166824Z",
     "shell.execute_reply": "2021-09-26T22:53:34.165822Z",
     "shell.execute_reply.started": "2021-09-26T22:53:33.567697Z"
    }
   },
   "outputs": [],
   "source": [
    "import pandas as pd\n",
    "pd.set_option('display.max_columns', None)\n",
    "pd.set_option('display.max_rows', 2000)\n",
    "\n",
    "from epiweeks import Week\n",
    "import numpy as np\n",
    "from random import randint\n",
    "from math import floor, ceil\n",
    "import codecs\n",
    "from glob import glob"
   ]
  },
  {
   "cell_type": "code",
   "execution_count": null,
   "metadata": {
    "execution": {
     "iopub.execute_input": "2021-09-26T22:53:34.168800Z",
     "iopub.status.busy": "2021-09-26T22:53:34.168800Z",
     "iopub.status.idle": "2021-09-26T22:53:35.605962Z",
     "shell.execute_reply": "2021-09-26T22:53:35.604970Z",
     "shell.execute_reply.started": "2021-09-26T22:53:34.168800Z"
    }
   },
   "outputs": [],
   "source": [
    "from bulletin import default_input, default_output, agora, hoje, ontem, anteontem, dias_apos, dias_apos_label, tables\n",
    "from bulletin.services.metabase import Metabase\n",
    "from bulletin.systems.casos_confirmados import CasosConfirmados\n",
    "from bulletin.systems.notifica import Notifica\n",
    "from bulletin.utils.static import Municipios\n",
    "from bulletin.utils import utils, static\n",
    "from bulletin.utils.xls_ import fit_cols\n",
    "from bulletin.utils.normalize import trim_overspace\n",
    "\n",
    "from bulletin.utils.normalize import normalize_text#normalize_hash, normalize_labels, , date_hash, normalize_number"
   ]
  },
  {
   "cell_type": "code",
   "execution_count": null,
   "metadata": {
    "execution": {
     "iopub.execute_input": "2021-09-26T22:53:35.606975Z",
     "iopub.status.busy": "2021-09-26T22:53:35.606975Z",
     "iopub.status.idle": "2021-09-26T22:53:35.613966Z",
     "shell.execute_reply": "2021-09-26T22:53:35.612968Z",
     "shell.execute_reply.started": "2021-09-26T22:53:35.606975Z"
    }
   },
   "outputs": [],
   "source": [
    "from datetime import datetime, date, timedelta\n",
    "\n",
    "today = pd.to_datetime(date.today())\n",
    "ontem = today - timedelta(1)\n",
    "anteontem = ontem - timedelta(1)\n",
    "data_retroativos = ontem - timedelta(31)"
   ]
  },
  {
   "cell_type": "code",
   "execution_count": null,
   "metadata": {},
   "outputs": [],
   "source": [
    "def macro_sort(column):\n",
    "    \"\"\"Sort function\"\"\"\n",
    "    macros = ['Leste', 'Oeste', 'Noroeste', 'Norte', 'Fora']\n",
    "    correspondence = {macro: order for order, macro in enumerate(macros)}\n",
    "    return column.map(correspondence)\n",
    "\n",
    "def evolucao_sort(column):\n",
    "    evolucoes = ['Casos','Óbitos','Recuperados','Ativos']\n",
    "    correspondence = {evolucao: order for order, evolucao in enumerate(evolucoes)}\n",
    "    return column.map(correspondence)\n",
    "    "
   ]
  },
  {
   "cell_type": "code",
   "execution_count": null,
   "metadata": {
    "execution": {
     "iopub.execute_input": "2021-09-26T22:53:35.614965Z",
     "iopub.status.busy": "2021-09-26T22:53:35.614965Z",
     "iopub.status.idle": "2021-09-26T22:53:35.648978Z",
     "shell.execute_reply": "2021-09-26T22:53:35.648978Z",
     "shell.execute_reply.started": "2021-09-26T22:53:35.614965Z"
    }
   },
   "outputs": [],
   "source": [
    "municipios = tables['municipios'].set_index('ibge')\n",
    "municipios['regional'] = municipios['rs'].astype(str).str.zfill(2) + 'ª - ' + municipios['regional']\n",
    "municipios = municipios.drop(['ibge7','rs'], axis=1)\n",
    "municipios"
   ]
  },
  {
   "cell_type": "code",
   "execution_count": null,
   "metadata": {
    "execution": {
     "iopub.execute_input": "2021-09-26T22:53:35.650976Z",
     "iopub.status.busy": "2021-09-26T22:53:35.650976Z",
     "iopub.status.idle": "2021-09-26T22:54:05.620488Z",
     "shell.execute_reply": "2021-09-26T22:54:05.620488Z",
     "shell.execute_reply.started": "2021-09-26T22:53:35.650976Z"
    }
   },
   "outputs": [],
   "source": [
    "cc = CasosConfirmados()\n",
    "cc.load(f\"cc_{hoje.strftime('%d_%m_%Y')}\", compress=True)"
   ]
  },
  {
   "cell_type": "code",
   "execution_count": null,
   "metadata": {},
   "outputs": [],
   "source": [
    "casos_confirmados = cc.df.loc[cc.df['uf_residencia']=='PR']"
   ]
  },
  {
   "cell_type": "code",
   "execution_count": null,
   "metadata": {},
   "outputs": [],
   "source": [
    "total_ibge = casos_confirmados.rename(columns={'ibge_residencia':'ibge'}).groupby(['ibge','evolucao','ano_caso','ano_obito'])[['identificacao']].agg({'count'}).unstack().droplevel([0,1],axis=1).fillna(0).astype(int).rename(columns={1:'Recuperados',2:'Óbitos',3:'Ativos'})\n",
    "total_ibge['Casos'] = total_ibge.sum(1)\n",
    "total_ibge = total_ibge\n",
    "\n",
    "total_ibge = total_ibge.sort_index(axis=1,key=evolucao_sort)\\\n",
    "                       .join(municipios[['uf','macro','regional','municipio','populacao']])\\\n",
    "                       .reset_index()\\\n",
    "                       .set_index(['uf','macro','regional','ibge','municipio','populacao'])\n",
    "\n",
    "total_ibge.index = total_ibge.index.rename({'uf':'UF','macro':'Macro','regional':'Regional','ibge':'IBGE','municipio':'Município','populacao':'População'})\n",
    "total_ibge = total_ibge.reset_index('População')\n",
    "total_ibge = total_ibge.sort_index(axis=0,level=1,key=macro_sort)\n",
    "\n",
    "por_ibge = total_ibge\n",
    "\n",
    "total_regional = total_ibge.groupby(level=[0,1,2]).sum()\n",
    "total_regional[['IBGE', 'Município']] = 'Total'\n",
    "total_regional.set_index(['IBGE', 'Município'], append=True, inplace=True)\n",
    "total_ibge = pd.concat([total_ibge,total_regional])\n",
    "total_ibge = total_ibge.sort_index(axis=0,level=1,key=macro_sort)\n",
    "\n",
    "total_macro = total_ibge.groupby(level=[0,1]).sum()\n",
    "total_macro[['Regional','IBGE', 'Município']] = 'Total'\n",
    "total_macro.set_index(['Regional','IBGE', 'Município'], append=True, inplace=True)\n",
    "total_ibge = pd.concat([total_ibge,total_macro])\n",
    "total_ibge = total_ibge.sort_index(axis=0,level=1,key=macro_sort)\n",
    "\n",
    "total_pr = total_ibge.groupby(level=[0]).sum()\n",
    "total_pr[['Macro','Regional','IBGE', 'Município']] = 'Total'\n",
    "total_pr.set_index(['Macro','Regional','IBGE', 'Município'], append=True, inplace=True)\n",
    "total_ibge = pd.concat([total_ibge,total_pr])\n",
    "\n",
    "coef = total_ibge[['Casos','Óbitos','Óbitos']] / total_ibge[['População','População','Casos']].values\n",
    "coef.columns = ['Coeficiente de Incidência','Coeficiente de Mortalidade','Taxa de Letalidade']\n",
    "total_ibge = total_ibge.join(coef)"
   ]
  },
  {
   "cell_type": "code",
   "execution_count": null,
   "metadata": {},
   "outputs": [],
   "source": [
    "por_ibge.reset_index()"
   ]
  }
 ],
 "metadata": {
  "interpreter": {
   "hash": "1cdc22e96f16e7a709941e5164353478df3c5a2dca8a048b5ddcd85bd66dd558"
  },
  "kernelspec": {
   "display_name": "Python 3 (ipykernel)",
   "language": "python",
   "name": "python3"
  },
  "language_info": {
   "codemirror_mode": {
    "name": "ipython",
    "version": 3
   },
   "file_extension": ".py",
   "mimetype": "text/x-python",
   "name": "python",
   "nbconvert_exporter": "python",
   "pygments_lexer": "ipython3",
   "version": "3.8.11"
  },
  "toc-autonumbering": true,
  "toc-showcode": true
 },
 "nbformat": 4,
 "nbformat_minor": 4
}
