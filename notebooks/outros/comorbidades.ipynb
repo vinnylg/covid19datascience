{
 "cells": [
  {
   "cell_type": "code",
   "execution_count": null,
   "id": "b3929897",
   "metadata": {},
   "outputs": [],
   "source": [
    "## set covid19_datasciente as path for python find bulletin package\n",
    "import sys\n",
    "from pathlib import Path\n",
    "from os import getcwd, remove, chdir\n",
    "from os.path import join, basename\n",
    "\n",
    "sys.path.append(str(Path(getcwd()).parent))\n",
    "current_dir = getcwd()\n",
    "print(current_dir)"
   ]
  },
  {
   "cell_type": "code",
   "execution_count": null,
   "id": "58699315",
   "metadata": {},
   "outputs": [],
   "source": [
    "import pandas as pd\n",
    "\n",
    "from tqdm import tqdm\n",
    "tqdm.pandas()\n",
    "\n",
    "pd.set_option('display.max_columns', None)\n",
    "pd.set_option('display.max_rows', 150)"
   ]
  },
  {
   "cell_type": "code",
   "execution_count": null,
   "id": "4b971765",
   "metadata": {},
   "outputs": [],
   "source": [
    "from bulletin import default_input, default_output, hoje, ontem\n",
    "from bulletin.systems import CasosConfirmados, Notifica\n",
    "from bulletin.utils.normalize import normalize_text"
   ]
  },
  {
   "cell_type": "code",
   "execution_count": null,
   "id": "a4d90a35",
   "metadata": {},
   "outputs": [],
   "source": [
    "cc = CasosConfirmados()"
   ]
  },
  {
   "cell_type": "code",
   "execution_count": null,
   "id": "af32d689",
   "metadata": {},
   "outputs": [],
   "source": [
    "nt = Notifica()\n",
    "nt.load('notifica', compress=False)\n",
    "nt.df.set_index('id',inplace=True)\n",
    "nt.df = nt.df.loc[((nt.df['classificacao_final']==2)&(nt.df['excluir_ficha']==2)&(nt.df['status_notificacao'].isin([1,2])))]"
   ]
  },
  {
   "cell_type": "code",
   "execution_count": null,
   "id": "07d6b4da",
   "metadata": {},
   "outputs": [],
   "source": [
    "fator_risco = nt.df[nt.schema.loc[nt.schema['group_name']=='fator_risco','column']].copy()\n",
    "fator_risco"
   ]
  },
  {
   "cell_type": "code",
   "execution_count": null,
   "id": "29c99a21",
   "metadata": {},
   "outputs": [],
   "source": [
    "gestantes = fator_risco[['gestante','periodo_gestacao','gestante_alto_risco']]\n",
    "fator_risco = fator_risco.drop(columns=gestantes.columns.tolist() + ['outras_morbidades'])"
   ]
  },
  {
   "cell_type": "code",
   "execution_count": null,
   "id": "19089b0d",
   "metadata": {},
   "outputs": [],
   "source": [
    "fator_risco = fator_risco.sort_index(axis=1)"
   ]
  },
  {
   "cell_type": "code",
   "execution_count": null,
   "id": "badd9ff7",
   "metadata": {},
   "outputs": [],
   "source": [
    "fator_risco['fatores'] = fator_risco.progress_apply(lambda x: x.loc[x==1].index, axis=1)"
   ]
  },
  {
   "cell_type": "code",
   "execution_count": null,
   "id": "785f1830",
   "metadata": {},
   "outputs": [],
   "source": [
    "fator_risco['fatores_len'] = fator_risco['fatores'].apply(len)\n",
    "fator_risco['fatores_str'] = fator_risco['fatores'].apply(lambda x: \", \".join(x))"
   ]
  },
  {
   "cell_type": "code",
   "execution_count": null,
   "id": "809743d9",
   "metadata": {},
   "outputs": [],
   "source": [
    "fator_risco = fator_risco.join(nt.df[['sexo']])"
   ]
  },
  {
   "cell_type": "code",
   "execution_count": null,
   "id": "f9179d72",
   "metadata": {},
   "outputs": [],
   "source": [
    "sexo = fator_risco.groupby(['fatores_str','fatores_len','sexo'])[['fatores']].count().unstack(-1).fillna(0)"
   ]
  },
  {
   "cell_type": "code",
   "execution_count": null,
   "id": "8ac73222",
   "metadata": {},
   "outputs": [],
   "source": [
    "sexo.sort_index(axis=0,level='fatores_len')"
   ]
  }
 ],
 "metadata": {
  "kernelspec": {
   "display_name": "Python 3 (ipykernel)",
   "language": "python",
   "name": "python3"
  },
  "language_info": {
   "codemirror_mode": {
    "name": "ipython",
    "version": 3
   },
   "file_extension": ".py",
   "mimetype": "text/x-python",
   "name": "python",
   "nbconvert_exporter": "python",
   "pygments_lexer": "ipython3",
   "version": "3.8.11"
  }
 },
 "nbformat": 4,
 "nbformat_minor": 5
}
