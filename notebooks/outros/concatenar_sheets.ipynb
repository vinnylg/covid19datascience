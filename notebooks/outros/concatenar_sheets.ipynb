{
 "cells": [
  {
   "cell_type": "code",
   "execution_count": null,
   "metadata": {},
   "outputs": [],
   "source": [
    "## set covid19_datasciente as path for python find bulletin package\n",
    "import sys\n",
    "from pathlib import Path\n",
    "from os import getcwd, remove\n",
    "from os.path import join, basename\n",
    "\n",
    "sys.path.append(str(Path(getcwd()).parent.parent))\n",
    "\n",
    "import pandas as pd\n",
    "from bulletin import default_input, default_output\n",
    "from bulletin.utils.static import Municipios"
   ]
  },
  {
   "cell_type": "code",
   "execution_count": null,
   "metadata": {},
   "outputs": [],
   "source": [
    "wb1 = pd.ExcelFile(join(default_input,'outros','acacia2020.xlsx'))\n",
    "wb2 = pd.ExcelFile(join(default_input,'outros','acacia2021.xlsx'))\n",
    "\n",
    "wb_concat = pd.ExcelWriter(join(default_input,'outros','acacia_concatenado.xlsx'),\n",
    "                    engine='xlsxwriter',\n",
    "                    datetime_format='dd/mm/yyyy',\n",
    "                    date_format='dd/mm/yyyy')\n",
    "\n",
    "Municipios().loc[Municipios()['uf']=='PR'].sort_values(['rs','macro']).to_excel(wb_concat,'municipios',index=False)"
   ]
  },
  {
   "cell_type": "code",
   "execution_count": null,
   "metadata": {},
   "outputs": [],
   "source": [
    "for sheet_wb1, sheet_wb2 in zip(wb1.sheet_names, wb2.sheet_names):\n",
    "    df1 = pd.read_excel(wb1,sheet_wb1)\n",
    "    df1['ano'] = 2020\n",
    "    df2 = pd.read_excel(wb2,sheet_wb2)\n",
    "    df2['ano'] = 2021\n",
    "    if any(df1.columns != df2.columns):\n",
    "        print(df1.columns.values)\n",
    "        print(df2.columns.values)\n",
    "        df2.columns = df1.columns\n",
    "    concatenado = pd.concat([df1,df2])\n",
    "    if 'NUMERODO' in concatenado.columns:\n",
    "        concatenado = concatenado.drop_duplicates('NUMERODO')\n",
    "    concatenado.to_excel(wb_concat,sheet_wb2, index=False)"
   ]
  },
  {
   "cell_type": "code",
   "execution_count": null,
   "metadata": {},
   "outputs": [],
   "source": [
    "wb_concat.save()"
   ]
  },
  {
   "cell_type": "code",
   "execution_count": null,
   "metadata": {},
   "outputs": [],
   "source": []
  },
  {
   "cell_type": "code",
   "execution_count": null,
   "metadata": {},
   "outputs": [],
   "source": []
  },
  {
   "cell_type": "code",
   "execution_count": null,
   "metadata": {},
   "outputs": [],
   "source": []
  }
 ],
 "metadata": {
  "kernelspec": {
   "display_name": "Python 3",
   "language": "python",
   "name": "python3"
  },
  "language_info": {
   "codemirror_mode": {
    "name": "ipython",
    "version": 3
   },
   "file_extension": ".py",
   "mimetype": "text/x-python",
   "name": "python",
   "nbconvert_exporter": "python",
   "pygments_lexer": "ipython3",
   "version": "3.8.5"
  }
 },
 "nbformat": 4,
 "nbformat_minor": 4
}
