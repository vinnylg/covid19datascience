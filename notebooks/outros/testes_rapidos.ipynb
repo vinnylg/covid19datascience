{
 "cells": [
  {
   "cell_type": "code",
   "execution_count": null,
   "id": "4fca1547",
   "metadata": {},
   "outputs": [],
   "source": [
    "## set covid19_datasciente as path for python find bulletin package\n",
    "import sys\n",
    "from pathlib import Path\n",
    "from os import getcwd, remove, chdir, makedirs\n",
    "from os.path import join, basename, isdir\n",
    "\n",
    "medir = lambda x: [ y for y in dir(x) if y[0]!='_']\n",
    "\n",
    "sys.path.append(str(Path(getcwd()).parent))\n",
    "current_dir = getcwd()\n",
    "print(current_dir)"
   ]
  },
  {
   "cell_type": "code",
   "execution_count": null,
   "id": "756c7caa",
   "metadata": {},
   "outputs": [],
   "source": [
    "join_columns_levels = lambda df, sep=' ': df.set_axis([sep.join(map(str,columns)) for columns in df.columns], axis=1).rename_axis(sep.join(df.columns.names), axis=1)"
   ]
  },
  {
   "cell_type": "code",
   "execution_count": null,
   "id": "eda90119",
   "metadata": {},
   "outputs": [],
   "source": [
    "import pandas as pd\n",
    "pd.set_option('display.max_columns', None)\n",
    "pd.set_option('display.max_rows', 150)\n",
    "\n",
    "import numpy as np\n",
    "from epiweeks import Week, Year\n",
    "from datetime import date, timedelta"
   ]
  },
  {
   "cell_type": "code",
   "execution_count": null,
   "id": "9cc6e1be",
   "metadata": {},
   "outputs": [],
   "source": [
    "from bulletin import hoje, default_output\n",
    "from bulletin.systems import Notifica\n",
    "from bulletin.utils.xls_ import fit_cols, format_cols\n",
    "\n",
    "default_output = join(default_output,\"testes\")\n",
    "\n",
    "if not isdir(default_output):\n",
    "    makedirs(default_output)"
   ]
  },
  {
   "cell_type": "code",
   "execution_count": null,
   "id": "eab06e2e",
   "metadata": {},
   "outputs": [],
   "source": [
    "positividade_labels = { 2: 'Casos Confirmados',3: 'Casos Descartados',4: 'Total', 5: 'Positividade' }\n",
    "rs_labels = { k:f\"{k}ª Regional\" for k in range(1,23) }\n",
    "mes_labels = {key+1:value for key,value in enumerate(['Janeiro','Fevereiro','Março','Abril','Maio','Junho','Julho','Agosto','Setembro','Outubro','Novembro','Dezembro'])}"
   ]
  },
  {
   "cell_type": "code",
   "execution_count": null,
   "id": "e28278ac",
   "metadata": {},
   "outputs": [],
   "source": [
    "testes_enviados_rs = pd.read_csv('testes_enviados.csv',index_col='rs')\n",
    "testes_enviados_rs.columns = pd.MultiIndex.from_tuples([(2021,6),(2021,10),(2021,11),(2022,1),(2022,2)])\n",
    "testes_enviados_rs"
   ]
  },
  {
   "cell_type": "code",
   "execution_count": null,
   "id": "59f985b8",
   "metadata": {},
   "outputs": [],
   "source": [
    "nt = Notifica()\n",
    "nt.load('notifica',compress=False)\n",
    "nt.df = nt.df[['id','cnes_unidade_notifica','ibge_unidade_notifica','exame','metodo','data_notificacao','classificacao_final']]"
   ]
  },
  {
   "cell_type": "code",
   "execution_count": null,
   "id": "d1f3c2df",
   "metadata": {},
   "outputs": [],
   "source": [
    "nt.df"
   ]
  },
  {
   "cell_type": "code",
   "execution_count": null,
   "id": "afda8c40",
   "metadata": {},
   "outputs": [],
   "source": [
    "nt.df.shape"
   ]
  },
  {
   "cell_type": "code",
   "execution_count": null,
   "id": "ab8af161",
   "metadata": {},
   "outputs": [],
   "source": [
    "nt.df = nt.df.drop(index=nt.df.loc[nt.df['data_notificacao'].isna()].index)"
   ]
  },
  {
   "cell_type": "code",
   "execution_count": null,
   "id": "beba663c",
   "metadata": {},
   "outputs": [],
   "source": [
    "nt.df = nt.df.join(nt.tables['municipios'].set_index('ibge'), on='ibge_unidade_notifica')\n",
    "nt.df = nt.df.drop(index=nt.df.loc[nt.df['uf']!='PR'].index)"
   ]
  },
  {
   "cell_type": "code",
   "execution_count": null,
   "id": "faedd176",
   "metadata": {},
   "outputs": [],
   "source": [
    "cnes = pd.read_csv('cnes.csv')\n",
    "# cnes['estabelecimento_nome_fantasia'] = cnes['cnes'].apply(lambda x: ' '.join(x.split(' ')[1:]) )\n",
    "cnes.index = cnes['cnes'].apply(lambda x: x.split(' ')[0] )\n",
    "cnes['doc'] = cnes['cnes'].apply(lambda x: x.split(' ')[1] )\n",
    "cnes['value'] = cnes['cnes'].apply(lambda x: ''.join(filter(lambda y: str.isnumeric(y),x.split(' ')[2])) )\n",
    "cnes['name'] = cnes['cnes'].apply(lambda x: ''.join(filter(lambda y: (str.isalpha(y)) or (y==' '),' '.join(x.split(' ')[2:]))) )\n",
    "del cnes['cnes']\n",
    "cnes"
   ]
  },
  {
   "cell_type": "code",
   "execution_count": null,
   "id": "86c946f1",
   "metadata": {},
   "outputs": [],
   "source": [
    "cnes['eh_sus'] = 0\n",
    "cnes.loc[cnes['value'].apply(lambda x: sum(map(int,x)))==0,'eh_sus'] = 1\n",
    "cnes.groupby('eh_sus')[['doc']].count()"
   ]
  },
  {
   "cell_type": "code",
   "execution_count": null,
   "id": "08cedd3b",
   "metadata": {},
   "outputs": [],
   "source": [
    "nt.df['eh_sus'] = 0\n",
    "nt.df.loc[nt.df['cnes_unidade_notifica'].isin(cnes.loc[cnes['eh_sus']==1].index),'eh_sus'] = 1"
   ]
  },
  {
   "cell_type": "code",
   "execution_count": null,
   "id": "4ea9a84f",
   "metadata": {},
   "outputs": [],
   "source": [
    "nt.df.groupby('eh_sus')[['id']].count()"
   ]
  },
  {
   "cell_type": "code",
   "execution_count": null,
   "id": "dd8dc126",
   "metadata": {},
   "outputs": [],
   "source": [
    "nt.df = nt.df.drop(index=nt.df.loc[nt.df['eh_sus']==0].index)"
   ]
  },
  {
   "cell_type": "code",
   "execution_count": null,
   "id": "cc157626",
   "metadata": {},
   "outputs": [],
   "source": [
    "nt.df.loc[nt.df['classificacao_final']!=2,'classificacao_final'] = 3"
   ]
  },
  {
   "cell_type": "code",
   "execution_count": null,
   "id": "2a4de4bb",
   "metadata": {},
   "outputs": [],
   "source": [
    "# nt.df['mes'] = nt.df['data_notificacao'].apply(lambda x: Week.fromdate(x).week)\n",
    "# nt.df['ano'] = nt.df['data_notificacao'].apply(lambda x: Week.fromdate(x).year)\n",
    "\n",
    "nt.df['mes'] = nt.df['data_notificacao'].dt.month\n",
    "nt.df['ano'] = nt.df['data_notificacao'].dt.year"
   ]
  },
  {
   "cell_type": "code",
   "execution_count": null,
   "id": "5bbe2412",
   "metadata": {},
   "outputs": [],
   "source": [
    "metodos = nt.tables['metodo']\n",
    "metodos"
   ]
  },
  {
   "cell_type": "code",
   "execution_count": null,
   "id": "38599502",
   "metadata": {},
   "outputs": [],
   "source": [
    "exames_rt = [1,2,27,181]\n",
    "exames_tr = [167,188,189,190,191]\n",
    "\n",
    "exames = nt.tables['exame'].set_index('id').sort_index()\n",
    "exames.loc[exames_rt + exames_tr].sort_index()"
   ]
  },
  {
   "cell_type": "markdown",
   "id": "8f5fcb3e",
   "metadata": {},
   "source": [
    "##  Testes rápidos"
   ]
  },
  {
   "cell_type": "code",
   "execution_count": null,
   "id": "d567f31c",
   "metadata": {},
   "outputs": [],
   "source": [
    "tr = nt.df.loc[(nt.df['metodo']==2) & nt.df['exame'].isin(exames_tr)]\n",
    "# tr = nt.df.loc[(nt.df['metodo']==2)]"
   ]
  },
  {
   "cell_type": "markdown",
   "id": "636a7b25",
   "metadata": {},
   "source": [
    "### PR Total"
   ]
  },
  {
   "cell_type": "code",
   "execution_count": null,
   "id": "8fb2b67b",
   "metadata": {},
   "outputs": [],
   "source": [
    "# tr_PR_total = tr.groupby(['ano','classificacao_final'])[['id']].count().unstack('classificacao_final').fillna(0).astype(int).droplevel(axis=1,level=0)\n",
    "tr_PR_total = tr.groupby(['classificacao_final'])[['id']].count().T.rename(index={'id':'Paraná'})\n",
    "tr_PR_total[4] = tr_PR_total.sum(axis=1)\n",
    "tr_PR_total[5] = tr_PR_total[2] / tr_PR_total[4]\n",
    "tr_PR_total = tr_PR_total.sort_index(axis=1)\n",
    "tr_PR_total = tr_PR_total.rename(columns=positividade_labels)\n",
    "tr_PR_total"
   ]
  },
  {
   "cell_type": "markdown",
   "id": "4eb62e57",
   "metadata": {},
   "source": [
    "### Paraná por SE"
   ]
  },
  {
   "cell_type": "code",
   "execution_count": null,
   "id": "966c5382",
   "metadata": {},
   "outputs": [],
   "source": [
    "tr_PR_se = tr.groupby(['ano','mes','classificacao_final'])[['id']].count().unstack('classificacao_final').fillna(0).astype(int).droplevel(axis=1,level=0)\n",
    "tr_PR_se[4] = tr_PR_se.sum(axis=1)\n",
    "tr_PR_se[5] = tr_PR_se[2] / tr_PR_se[4]\n",
    "tr_PR_se = tr_PR_se.sort_index(axis=1)\n",
    "tr_PR_se = tr_PR_se.rename(columns=positividade_labels)\n",
    "tr_PR_se.tail()"
   ]
  },
  {
   "cell_type": "markdown",
   "id": "4f31123c",
   "metadata": {},
   "source": [
    "### Regionais Total"
   ]
  },
  {
   "cell_type": "code",
   "execution_count": null,
   "id": "18c9258c",
   "metadata": {},
   "outputs": [],
   "source": [
    "tr_RS_total = tr.groupby(['rs','classificacao_final'])[['id']].count().unstack(['classificacao_final']).fillna(0).astype(int).droplevel(axis=1,level=0).sort_index(axis=1, level='rs')\n",
    "tr_RS_total_TOTAL = tr_RS_total.sum(axis=1)\n",
    "tr_RS_total_CONF = tr_RS_total.loc[:,2]\n",
    "tr_RS_total_DESC = tr_RS_total.loc[:,3]\n",
    "tr_RS_total_POSIT = tr_RS_total_CONF / tr_RS_total_TOTAL.values\n",
    "tr_RS_total = pd.concat({2: tr_RS_total_CONF, 3: tr_RS_total_DESC, 4: tr_RS_total_TOTAL, 5: tr_RS_total_POSIT}, axis=1, names=['classificacao_final']).sort_index(axis=1,level=['classificacao_final'])\n",
    "tr_RS_total = tr_RS_total.rename(columns=positividade_labels).rename(index=rs_labels)\n",
    "tr_RS_total"
   ]
  },
  {
   "cell_type": "markdown",
   "id": "100b1e8e",
   "metadata": {},
   "source": [
    "### Regionais por SE"
   ]
  },
  {
   "cell_type": "code",
   "execution_count": null,
   "id": "1946694d",
   "metadata": {},
   "outputs": [],
   "source": [
    "tr_RS_se = tr.groupby(['ano','mes','rs','classificacao_final'])[['id']].count().unstack(['rs','classificacao_final']).fillna(0).astype(int).droplevel(axis=1,level=0).sort_index(axis=1, level='rs')\n",
    "tr_RS_se_TOTAL = tr_RS_se.groupby(level='rs', axis=1).sum()\n",
    "tr_RS_se_CONF = tr_RS_se.xs(2,level='classificacao_final',axis=1)\n",
    "tr_RS_se_DESC = tr_RS_se.xs(3,level='classificacao_final',axis=1)\n",
    "tr_RS_se_POSIT = tr_RS_se_CONF / tr_RS_se_TOTAL.values\n",
    "tr_RS_se = pd.concat({2: tr_RS_se_CONF, 3: tr_RS_se_DESC, 4: tr_RS_se_TOTAL, 5: tr_RS_se_POSIT}, axis=1, names=['classificacao_final']).reorder_levels(['rs','classificacao_final'],axis=1).sort_index(axis=1,level=['rs','classificacao_final'])\n",
    "tr_RS_se = tr_RS_se.rename(columns=positividade_labels, level='classificacao_final').rename(columns=rs_labels, level='rs')\n",
    "tr_RS_se.tail()"
   ]
  },
  {
   "cell_type": "code",
   "execution_count": null,
   "id": "12251ef2",
   "metadata": {},
   "outputs": [],
   "source": [
    "testes_enviados_usados = pd.concat({'enviados': testes_enviados_rs, 'usados': tr_RS_se_TOTAL.T}, names=['status','ano','mes'], axis=1).reorder_levels(['ano','mes','status'],axis=1).sort_index(axis=1,level=['ano','mes','status'])\n",
    "total_testes_enviados_usados = testes_enviados_usados.groupby(level=['status'],axis=1).sum()\n",
    "total_testes_enviados_usados['% usados'] = (total_testes_enviados_usados['usados'] / total_testes_enviados_usados['enviados']).apply(lambda x: f\"{100*x:.0f}%\")\n",
    "total_testes_enviados_usados['restantes'] = total_testes_enviados_usados['enviados'] - total_testes_enviados_usados['usados']\n",
    "total_testes_enviados_usados['% restantes'] = (total_testes_enviados_usados['restantes'] / total_testes_enviados_usados['enviados']).apply(lambda x: f\"{100*x:.0f}%\")\n",
    "# total_testes_enviados_usados.sort_values('restantes',ascending=True).to_excel('t.xlsx')\n",
    "total_testes_enviados_usados"
   ]
  },
  {
   "cell_type": "markdown",
   "id": "60d3b7f9",
   "metadata": {},
   "source": [
    "### Municipios Totais"
   ]
  },
  {
   "cell_type": "code",
   "execution_count": null,
   "id": "9a3e9128",
   "metadata": {},
   "outputs": [],
   "source": [
    "tr_MUN_total = tr.groupby(['rs','ibge_unidade_notifica','municipio','classificacao_final'])[['id']].count().unstack(['classificacao_final']).fillna(0).astype(int).droplevel(axis=1,level=0).sort_index(axis=1, level='rs')\n",
    "tr_MUN_total[4] = tr_MUN_total.sum(1)\n",
    "tr_MUN_total[5] = tr_MUN_total[2] / tr_MUN_total[4]\n",
    "tr_MUN_total = tr_MUN_total.rename(columns=positividade_labels, level='classificacao_final').rename(index=rs_labels, level='rs')\n",
    "tr_MUN_total = tr_MUN_total.droplevel(level='ibge_unidade_notifica',axis=0)\n",
    "tr_MUN_total"
   ]
  },
  {
   "cell_type": "markdown",
   "id": "6936c147",
   "metadata": {},
   "source": [
    "### Municipios por SE"
   ]
  },
  {
   "cell_type": "code",
   "execution_count": null,
   "id": "59eb2ca7",
   "metadata": {},
   "outputs": [],
   "source": [
    "tr_MUN_se =  tr.groupby(['ano','mes','rs','ibge_unidade_notifica','municipio','classificacao_final'])[['id']].count().unstack(['rs','ibge_unidade_notifica','municipio','classificacao_final']).fillna(0).astype(int).droplevel(axis=1,level=0).sort_index(axis=1, level='rs')\n",
    "tr_MUN_se_TOTAL = tr_MUN_se.groupby(level=['rs','ibge_unidade_notifica','municipio'], axis=1).sum()\n",
    "tr_MUN_se_CONF = tr_MUN_se.xs(2,level='classificacao_final',axis=1)\n",
    "tr_MUN_se_DESC = tr_MUN_se.xs(3,level='classificacao_final',axis=1)\n",
    "tr_MUN_se_POSIT = tr_MUN_se_CONF / tr_MUN_se_TOTAL.values\n",
    "tr_MUN_se = pd.concat({2: tr_MUN_se_CONF, 3: tr_MUN_se_DESC, 4: tr_MUN_se_TOTAL, 5: tr_MUN_se_POSIT}, axis=1, names=['classificacao_final']).reorder_levels(['rs','ibge_unidade_notifica','municipio','classificacao_final'],axis=1).sort_index(axis=1,level=['rs','ibge_unidade_notifica','municipio','classificacao_final'])\n",
    "tr_MUN_se = tr_MUN_se.rename(columns=positividade_labels, level='classificacao_final').rename(columns=rs_labels, level='rs')\n",
    "tr_MUN_se = tr_MUN_se.droplevel(level='ibge_unidade_notifica',axis=1)\n",
    "tr_MUN_se.tail()"
   ]
  },
  {
   "cell_type": "code",
   "execution_count": null,
   "id": "9fb72322",
   "metadata": {},
   "outputs": [],
   "source": [
    "writer = pd.ExcelWriter(join(default_output,\"panorama_teste_rapido.xlsx\"))\n",
    "\n",
    "# Add some cell formats.\n",
    "number = writer.book.add_format({'num_format': '#,##0'})\n",
    "percent = writer.book.add_format({'num_format': '0%'})\n",
    "\n",
    "col_formats = {'Casos Confirmados': number, 'Casos Descartados': number, 'Total': number, 'Positividade':percent}\n",
    "\n",
    "tr_PR_total.to_excel(writer,'tr_PR_total',merge_cells=False)\n",
    "format_cols(writer,tr_PR_total,'tr_PR_total',col_formats)\n",
    "\n",
    "tr_PR_se.to_excel(writer,'tr_PR_se',merge_cells=False)\n",
    "format_cols(writer,tr_PR_se,'tr_PR_se',col_formats)\n",
    "\n",
    "tr_RS_total.to_excel(writer,'tr_RS_total',merge_cells=False)\n",
    "format_cols(writer,tr_RS_total,'tr_RS_total',col_formats)\n",
    "\n",
    "tr_RS_se.to_excel(writer,'tr_RS_se',merge_cells=False)\n",
    "format_cols(writer,tr_RS_se,'tr_RS_se',col_formats)\n",
    "\n",
    "tr_MUN_total.to_excel(writer,'tr_MUN_total',merge_cells=False)\n",
    "format_cols(writer,tr_MUN_total,'tr_MUN_total',col_formats)\n",
    "\n",
    "tr_MUN_se.to_excel(writer,'tr_MUN_se',merge_cells=False)\n",
    "format_cols(writer,tr_MUN_se,'tr_MUN_se',col_formats)\n",
    "\n",
    "writer.save()"
   ]
  },
  {
   "cell_type": "markdown",
   "id": "ffa360e2",
   "metadata": {},
   "source": [
    "##  Exame RT-PCR"
   ]
  },
  {
   "cell_type": "code",
   "execution_count": null,
   "id": "2e71ee05",
   "metadata": {},
   "outputs": [],
   "source": [
    "rt_pcr = nt.df.loc[(nt.df['metodo']==1) & nt.df['exame'].isin(exames_rt)]\n",
    "# rt_pcr = nt.df.loc[(nt.df['metodo']==1)]"
   ]
  },
  {
   "cell_type": "markdown",
   "id": "85001262",
   "metadata": {},
   "source": [
    "### PR Total"
   ]
  },
  {
   "cell_type": "code",
   "execution_count": null,
   "id": "c9a2a49d",
   "metadata": {},
   "outputs": [],
   "source": [
    "# rt_pcr_PR_total = rt_pcr.groupby(['ano','classificacao_final'])[['id']].count().unstack('classificacao_final').fillna(0).astype(int).droplevel(axis=1,level=0)\n",
    "rt_pcr_PR_total = rt_pcr.groupby(['classificacao_final'])[['id']].count().T.rename(index={'id':'Paraná'})\n",
    "rt_pcr_PR_total[4] = rt_pcr_PR_total.sum(axis=1)\n",
    "rt_pcr_PR_total[5] = rt_pcr_PR_total[2] / rt_pcr_PR_total[4]\n",
    "rt_pcr_PR_total = rt_pcr_PR_total.sort_index(axis=1)\n",
    "rt_pcr_PR_total = rt_pcr_PR_total.rename(columns=positividade_labels)\n",
    "rt_pcr_PR_total"
   ]
  },
  {
   "cell_type": "markdown",
   "id": "9a6c65ff",
   "metadata": {},
   "source": [
    "### Paraná por SE"
   ]
  },
  {
   "cell_type": "code",
   "execution_count": null,
   "id": "dca6758c",
   "metadata": {},
   "outputs": [],
   "source": [
    "rt_pcr_PR_se = rt_pcr.groupby(['ano','mes','classificacao_final'])[['id']].count().unstack('classificacao_final').fillna(0).astype(int).droplevel(axis=1,level=0)\n",
    "rt_pcr_PR_se[4] = rt_pcr_PR_se.sum(axis=1)\n",
    "rt_pcr_PR_se[5] = rt_pcr_PR_se[2] / rt_pcr_PR_se[4]\n",
    "rt_pcr_PR_se = rt_pcr_PR_se.sort_index(axis=1)\n",
    "rt_pcr_PR_se = rt_pcr_PR_se.rename(columns=positividade_labels)\n",
    "rt_pcr_PR_se.tail()"
   ]
  },
  {
   "cell_type": "markdown",
   "id": "e872f2f6",
   "metadata": {},
   "source": [
    "### Regionais Total"
   ]
  },
  {
   "cell_type": "code",
   "execution_count": null,
   "id": "61d11a8f",
   "metadata": {},
   "outputs": [],
   "source": [
    "rt_pcr_RS_total = rt_pcr.groupby(['rs','classificacao_final'])[['id']].count().unstack(['classificacao_final']).fillna(0).astype(int).droplevel(axis=1,level=0).sort_index(axis=1, level='rs')\n",
    "rt_pcr_RS_total_TOTAL = rt_pcr_RS_total.sum(axis=1)\n",
    "rt_pcr_RS_total_CONF = rt_pcr_RS_total.loc[:,2]\n",
    "rt_pcr_RS_total_DESC = rt_pcr_RS_total.loc[:,3]\n",
    "rt_pcr_RS_total_POSIT = rt_pcr_RS_total_CONF / rt_pcr_RS_total_TOTAL.values\n",
    "rt_pcr_RS_total = pd.concat({2: rt_pcr_RS_total_CONF, 3: rt_pcr_RS_total_DESC, 4: rt_pcr_RS_total_TOTAL, 5: rt_pcr_RS_total_POSIT}, axis=1, names=['classificacao_final']).sort_index(axis=1,level=['classificacao_final'])\n",
    "rt_pcr_RS_total = rt_pcr_RS_total.rename(columns=positividade_labels).rename(index=rs_labels)\n",
    "rt_pcr_RS_total"
   ]
  },
  {
   "cell_type": "markdown",
   "id": "3a5d0aea",
   "metadata": {},
   "source": [
    "### Regionais por SE"
   ]
  },
  {
   "cell_type": "code",
   "execution_count": null,
   "id": "152de3c9",
   "metadata": {},
   "outputs": [],
   "source": [
    "rt_pcr_RS_se = rt_pcr.groupby(['ano','mes','rs','classificacao_final'])[['id']].count().unstack(['rs','classificacao_final']).fillna(0).astype(int).droplevel(axis=1,level=0).sort_index(axis=1, level='rs')\n",
    "rt_pcr_RS_se_TOTAL = rt_pcr_RS_se.groupby(level='rs', axis=1).sum()\n",
    "rt_pcr_RS_se_CONF = rt_pcr_RS_se.xs(2,level='classificacao_final',axis=1)\n",
    "rt_pcr_RS_se_DESC = rt_pcr_RS_se.xs(3,level='classificacao_final',axis=1)\n",
    "rt_pcr_RS_se_POSIT = rt_pcr_RS_se_CONF / rt_pcr_RS_se_TOTAL.values\n",
    "rt_pcr_RS_se = pd.concat({2: rt_pcr_RS_se_CONF, 3: rt_pcr_RS_se_DESC, 4: rt_pcr_RS_se_TOTAL, 5: rt_pcr_RS_se_POSIT}, axis=1, names=['classificacao_final']).reorder_levels(['rs','classificacao_final'],axis=1).sort_index(axis=1,level=['rs','classificacao_final'])\n",
    "rt_pcr_RS_se = rt_pcr_RS_se.rename(columns=positividade_labels, level='classificacao_final').rename(columns=rs_labels, level='rs')\n",
    "rt_pcr_RS_se.tail()"
   ]
  },
  {
   "cell_type": "markdown",
   "id": "058f4fa6",
   "metadata": {},
   "source": [
    "### Municipios Totais"
   ]
  },
  {
   "cell_type": "code",
   "execution_count": null,
   "id": "607cee15",
   "metadata": {},
   "outputs": [],
   "source": [
    "rt_pcr_MUN_total = rt_pcr.groupby(['rs','ibge_unidade_notifica','municipio','classificacao_final'])[['id']].count().unstack(['classificacao_final']).fillna(0).astype(int).droplevel(axis=1,level=0).sort_index(axis=1, level='rs')\n",
    "rt_pcr_MUN_total[4] = rt_pcr_MUN_total.sum(1)\n",
    "rt_pcr_MUN_total[5] = rt_pcr_MUN_total[2] / rt_pcr_MUN_total[4]\n",
    "rt_pcr_MUN_total = rt_pcr_MUN_total.rename(columns=positividade_labels, level='classificacao_final').rename(index=rs_labels, level='rs')\n",
    "rt_pcr_MUN_total = rt_pcr_MUN_total.droplevel(level='ibge_unidade_notifica',axis=0)\n",
    "rt_pcr_MUN_total"
   ]
  },
  {
   "cell_type": "markdown",
   "id": "dc32ffbf",
   "metadata": {},
   "source": [
    "### Municipios por SE"
   ]
  },
  {
   "cell_type": "code",
   "execution_count": null,
   "id": "4b0e15aa",
   "metadata": {},
   "outputs": [],
   "source": [
    "rt_pcr_MUN_se =  rt_pcr.groupby(['ano','mes','rs','ibge_unidade_notifica','municipio','classificacao_final'])[['id']].count().unstack(['rs','ibge_unidade_notifica','municipio','classificacao_final']).fillna(0).astype(int).droplevel(axis=1,level=0).sort_index(axis=1, level='rs')\n",
    "rt_pcr_MUN_se_TOTAL = rt_pcr_MUN_se.groupby(level=['rs','ibge_unidade_notifica','municipio'], axis=1).sum()\n",
    "rt_pcr_MUN_se_CONF = rt_pcr_MUN_se.xs(2,level='classificacao_final',axis=1)\n",
    "rt_pcr_MUN_se_DESC = rt_pcr_MUN_se.xs(3,level='classificacao_final',axis=1)\n",
    "rt_pcr_MUN_se_POSIT = rt_pcr_MUN_se_CONF / rt_pcr_MUN_se_TOTAL.values\n",
    "rt_pcr_MUN_se = pd.concat({2: rt_pcr_MUN_se_CONF, 3: rt_pcr_MUN_se_DESC, 4: rt_pcr_MUN_se_TOTAL, 5: rt_pcr_MUN_se_POSIT}, axis=1, names=['classificacao_final']).reorder_levels(['rs','ibge_unidade_notifica','municipio','classificacao_final'],axis=1).sort_index(axis=1,level=['rs','ibge_unidade_notifica','municipio','classificacao_final'])\n",
    "rt_pcr_MUN_se = rt_pcr_MUN_se.rename(columns=positividade_labels, level='classificacao_final').rename(columns=rs_labels, level='rs')\n",
    "rt_pcr_MUN_se = rt_pcr_MUN_se.droplevel(level='ibge_unidade_notifica',axis=1)\n",
    "rt_pcr_MUN_se.tail()"
   ]
  },
  {
   "cell_type": "code",
   "execution_count": null,
   "id": "ee457512",
   "metadata": {},
   "outputs": [],
   "source": [
    "writer = pd.ExcelWriter(join(default_output,\"panorama_rt_pcr.xlsx\"))\n",
    "\n",
    "# Add some cell formats.\n",
    "number = writer.book.add_format({'num_format': '#,##0'})\n",
    "percent = writer.book.add_format({'num_format': '0%'})\n",
    "\n",
    "col_formats = {'Casos Confirmados': number, 'Casos Descartados': number, 'Total': number, 'Positividade':percent}\n",
    "\n",
    "rt_pcr_PR_total.to_excel(writer,'rt_pcr_PR_total',merge_cells=False)\n",
    "format_cols(writer,rt_pcr_PR_total,'rt_pcr_PR_total',col_formats)\n",
    "\n",
    "rt_pcr_PR_se.to_excel(writer,'rt_pcr_PR_se',merge_cells=False)\n",
    "format_cols(writer,rt_pcr_PR_se,'rt_pcr_PR_se',col_formats)\n",
    "\n",
    "rt_pcr_RS_total.to_excel(writer,'rt_pcr_RS_total',merge_cells=False)\n",
    "format_cols(writer,rt_pcr_RS_total,'rt_pcr_RS_total',col_formats)\n",
    "\n",
    "rt_pcr_RS_se.to_excel(writer,'rt_pcr_RS_se',merge_cells=False)\n",
    "format_cols(writer,rt_pcr_RS_se,'rt_pcr_RS_se',col_formats)\n",
    "\n",
    "rt_pcr_MUN_total.to_excel(writer,'rt_pcr_MUN_total',merge_cells=False)\n",
    "format_cols(writer,rt_pcr_MUN_total,'rt_pcr_MUN_total',col_formats)\n",
    "\n",
    "rt_pcr_MUN_se.to_excel(writer,'rt_pcr_MUN_se',merge_cells=False)\n",
    "format_cols(writer,rt_pcr_MUN_se,'rt_pcr_MUN_se',col_formats)\n",
    "\n",
    "writer.save()"
   ]
  }
 ],
 "metadata": {
  "kernelspec": {
   "display_name": "Python 3 (ipykernel)",
   "language": "python",
   "name": "python3"
  },
  "language_info": {
   "codemirror_mode": {
    "name": "ipython",
    "version": 3
   },
   "file_extension": ".py",
   "mimetype": "text/x-python",
   "name": "python",
   "nbconvert_exporter": "python",
   "pygments_lexer": "ipython3",
   "version": "3.8.11"
  }
 },
 "nbformat": 4,
 "nbformat_minor": 5
}
