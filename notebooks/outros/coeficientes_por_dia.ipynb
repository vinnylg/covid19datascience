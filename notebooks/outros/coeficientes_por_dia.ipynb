{
 "cells": [
  {
   "cell_type": "code",
   "execution_count": null,
   "id": "760c9443",
   "metadata": {},
   "outputs": [],
   "source": [
    "## set covid19_datasciente as path for python find bulletin package\n",
    "import sys\n",
    "from pathlib import Path\n",
    "from os import getcwd, remove, chdir\n",
    "from os.path import join, basename\n",
    "\n",
    "sys.path.append(str(Path(getcwd()).parent))\n",
    "current_dir = getcwd()\n",
    "print(current_dir)"
   ]
  },
  {
   "cell_type": "code",
   "execution_count": null,
   "id": "a8a83df4",
   "metadata": {},
   "outputs": [],
   "source": [
    "from datetime import date, timedelta"
   ]
  },
  {
   "cell_type": "code",
   "execution_count": null,
   "id": "0982cc8b",
   "metadata": {},
   "outputs": [],
   "source": [
    "import pandas as pd\n",
    "pd.set_option('display.max_columns', None)\n",
    "pd.set_option('display.max_rows', 150)\n",
    "\n",
    "import numpy as np\n",
    "from epiweeks import Week, Year"
   ]
  },
  {
   "cell_type": "code",
   "execution_count": null,
   "id": "fabd90e4",
   "metadata": {},
   "outputs": [],
   "source": [
    "from bulletin import root, default_input, default_output, agora, hoje, ontem, anteontem, dias_apos, dias_apos_label\n",
    "from bulletin.systems import CasosConfirmados\n",
    "from bulletin.utils.static import Municipios"
   ]
  },
  {
   "cell_type": "code",
   "execution_count": null,
   "id": "5cf6a7f0",
   "metadata": {},
   "outputs": [],
   "source": [
    "cc = CasosConfirmados()\n",
    "cc.load(f\"cc_{hoje.strftime('%d_%m_%Y')}\", compress=True)"
   ]
  },
  {
   "cell_type": "code",
   "execution_count": null,
   "id": "e002a353",
   "metadata": {},
   "outputs": [],
   "source": [
    "cc.df.loc[cc.df['idade']<=11,['uf_residencia','ibge_residencia','idade','sexo','data_diagnostico','evolucao','data_cura_obito']].replace(cc.tables['evolucao'].set_index('id').to_dict()).join(cc.tables['municipios'].set_index('ibge')[['municipio','rs','regional']], on='ibge_residencia').to_excel('casos_obitos_criancas.xlsx', index=False)"
   ]
  },
  {
   "cell_type": "code",
   "execution_count": null,
   "id": "40320305",
   "metadata": {},
   "outputs": [],
   "source": [
    "cc.df.loc[cc.df['uf_residencia']!='PR',['uf_residencia','ibge_residencia']] = 'IG',999999"
   ]
  },
  {
   "cell_type": "code",
   "execution_count": null,
   "id": "b3527c42",
   "metadata": {},
   "outputs": [],
   "source": [
    "for col in cc.tables['municipios'].columns:\n",
    "    if col in cc.df.columns:\n",
    "        print(col)\n",
    "        del cc.df[col]"
   ]
  },
  {
   "cell_type": "code",
   "execution_count": null,
   "id": "dfed190e",
   "metadata": {},
   "outputs": [],
   "source": [
    "municipios = cc.tables['municipios'][['uf','macro','rs','regional','ibge','municipio','populacao']]\n",
    "\n",
    "#populacao\n",
    "municipiosPR = municipios.loc[municipios['uf'].isin(['PR'])].sort_values(['rs','ibge']).set_index(['uf','macro','rs','regional','ibge','municipio'])\n",
    "rsPR = municipiosPR.groupby(['rs','regional']).sum()\n",
    "macroPR = municipiosPR.groupby(['macro']).sum()\n",
    "PR = municipiosPR.groupby(['uf']).sum()"
   ]
  },
  {
   "cell_type": "code",
   "execution_count": null,
   "id": "b0f4cf96",
   "metadata": {},
   "outputs": [],
   "source": [
    "dias = pd.date_range(start=date(2020,3,1), end=hoje)\n",
    "ano = dias.year\n",
    "mes = dias.month\n",
    "dia = dias.day\n",
    "dias = list(zip(ano,mes,dia))\n",
    "pd.DataFrame(columns=pd.MultiIndex.from_tuples(dias))"
   ]
  },
  {
   "cell_type": "code",
   "execution_count": null,
   "id": "188d10af",
   "metadata": {},
   "outputs": [],
   "source": [
    "cc.df = cc.df.rename(columns={'ibge_residencia':'ibge'}).join(cc.tables['municipios'].set_index('ibge'), on='ibge')"
   ]
  },
  {
   "cell_type": "code",
   "execution_count": null,
   "id": "190d37bd",
   "metadata": {},
   "outputs": [],
   "source": [
    "casos = cc.df.loc[cc.df['uf']=='PR'].copy()\n",
    "obitos = casos.loc[casos['evolucao']==2].copy()"
   ]
  },
  {
   "cell_type": "code",
   "execution_count": null,
   "id": "addb1bff",
   "metadata": {},
   "outputs": [],
   "source": [
    "casos['ano'] = casos['data_diagnostico'].dt.year\n",
    "casos['mes'] = casos['data_diagnostico'].dt.month\n",
    "casos['dia'] = casos['data_diagnostico'].dt.day"
   ]
  },
  {
   "cell_type": "code",
   "execution_count": null,
   "id": "0addd132",
   "metadata": {},
   "outputs": [],
   "source": [
    "obitos['ano'] = obitos['data_cura_obito'].dt.year\n",
    "obitos['mes'] = obitos['data_cura_obito'].dt.month\n",
    "obitos['dia'] = obitos['data_cura_obito'].dt.day"
   ]
  },
  {
   "cell_type": "code",
   "execution_count": null,
   "id": "74d0349e",
   "metadata": {},
   "outputs": [],
   "source": [
    "casos_mun = casos.pivot_table(index=municipiosPR.index.names, columns=['ano','mes','dia'], values='id_notifica', aggfunc='count', fill_value=0).sort_index(axis=1,level=['ano','mes','dia']).sort_index(axis=0,level=['rs','ibge'])\n",
    "casos_mun = casos_mun.reindex(municipiosPR.index,axis=0)\n",
    "casos_mun = casos_mun.reindex(dias,axis=1).fillna(0).astype(int)\n",
    "\n",
    "casos_rs = casos_mun.pivot_table(index=['rs','regional'],aggfunc='sum')\n",
    "casos_macro = casos_mun.pivot_table(index='macro',aggfunc='sum')\n",
    "casos_pr = casos_mun.pivot_table(index='uf',aggfunc='sum')"
   ]
  },
  {
   "cell_type": "code",
   "execution_count": null,
   "id": "4da8b60f",
   "metadata": {},
   "outputs": [],
   "source": [
    "obitos_mun = obitos.pivot_table(index=municipiosPR.index.names, columns=['ano','mes','dia'], values='id_notifica', aggfunc='count', fill_value=0).sort_index(axis=1,level=['ano','mes','dia']).sort_index(axis=0,level=['rs','ibge'])\n",
    "obitos_mun = obitos_mun.reindex(municipiosPR.index,axis=0)\n",
    "obitos_mun = obitos_mun.reindex(dias,axis=1).fillna(0).astype(int)\n",
    "\n",
    "obitos_rs = obitos_mun.pivot_table(index=['rs','regional'],aggfunc='sum')\n",
    "obitos_macro = obitos_mun.pivot_table(index='macro',aggfunc='sum')\n",
    "obitos_pr = obitos_mun.pivot_table(index='uf',aggfunc='sum')"
   ]
  },
  {
   "cell_type": "code",
   "execution_count": null,
   "id": "eb69b3d8",
   "metadata": {},
   "outputs": [],
   "source": [
    "def incidencia(casos,populacao,fator=100000):\n",
    "    assert all(casos.index == populacao.index)\n",
    "    casos_inc = (casos / populacao.values) * fator\n",
    "    return casos_inc\n",
    "    \n",
    "casos_mun_inc = incidencia(casos_mun,municipiosPR)\n",
    "casos_rs_inc = incidencia(casos_rs,rsPR)\n",
    "casos_macro_inc = incidencia(casos_macro,macroPR)\n",
    "casos_pr_inc = incidencia(casos_pr,PR)"
   ]
  },
  {
   "cell_type": "code",
   "execution_count": null,
   "id": "352e4d51",
   "metadata": {},
   "outputs": [],
   "source": [
    "def mortalidade(obitos,populacao,fator=100000):\n",
    "    assert all(obitos.index.isin(populacao.index))\n",
    "    obitos_mort = (obitos / populacao.values) * fator\n",
    "    return obitos_mort\n",
    "\n",
    "obitos_mun_mort = mortalidade(obitos_mun,municipiosPR)\n",
    "obitos_rs_mort = mortalidade(obitos_rs,rsPR)\n",
    "obitos_macro_mort = mortalidade(obitos_macro,macroPR)\n",
    "obitos_pr_mort = mortalidade(obitos_pr,PR)"
   ]
  },
  {
   "cell_type": "code",
   "execution_count": null,
   "id": "480f3789",
   "metadata": {},
   "outputs": [],
   "source": [
    "def letalidade(casos,obitos):\n",
    "    assert all(casos.index.isin(obitos.index))\n",
    "    letal = (obitos / casos)\n",
    "    return letal.replace([np.inf, -np.inf], np.nan)\n",
    "\n",
    "letal_mun = letalidade(casos_mun,obitos_mun)\n",
    "letal_rs = letalidade(casos_rs,obitos_rs)\n",
    "letal_macro = letalidade(casos_macro,obitos_macro)\n",
    "letal_pr = letalidade(casos_pr,obitos_pr)"
   ]
  },
  {
   "cell_type": "code",
   "execution_count": null,
   "id": "002b06d0",
   "metadata": {},
   "outputs": [],
   "source": [
    "# a = incidencia(casos_se.loc[:,(2022)].sum(axis=1).to_frame(name='janeiro')).groupby(['rs','ibge','municipio']).sum()\n",
    "# a['rank'] = a.rank(ascending=False)\n",
    "# a.sort_values('rank').head(10)\n",
    "# a"
   ]
  },
  {
   "cell_type": "code",
   "execution_count": null,
   "id": "a37d2363",
   "metadata": {},
   "outputs": [],
   "source": [
    "writer = pd.ExcelWriter(join(default_output,\"coef.xlsx\"))"
   ]
  },
  {
   "cell_type": "code",
   "execution_count": null,
   "id": "885d98e1",
   "metadata": {},
   "outputs": [],
   "source": [
    "casos_pr.to_excel(writer,'casos_pr')\n",
    "casos_pr_inc.to_excel(writer,'casos_pr_inc')\n",
    "obitos_pr.to_excel(writer,'obitos_pr')\n",
    "obitos_pr_mort.to_excel(writer,'obitos_pr_mort')\n",
    "letal_pr.to_excel(writer,'letal_pr')"
   ]
  },
  {
   "cell_type": "code",
   "execution_count": null,
   "id": "a97eb454",
   "metadata": {},
   "outputs": [],
   "source": [
    "casos_macro.to_excel(writer,'casos_macro')\n",
    "casos_macro_inc.to_excel(writer,'casos_macro_inc')\n",
    "obitos_macro.to_excel(writer,'obitos_macro')\n",
    "obitos_macro_mort.to_excel(writer,'obitos_macro_mort')\n",
    "letal_macro.to_excel(writer,'letal_macro')"
   ]
  },
  {
   "cell_type": "code",
   "execution_count": null,
   "id": "64332299",
   "metadata": {},
   "outputs": [],
   "source": [
    "casos_rs.to_excel(writer,'casos_rs')\n",
    "casos_rs_inc.to_excel(writer,'casos_rs_inc')\n",
    "obitos_rs.to_excel(writer,'obitos_rs')\n",
    "obitos_rs_mort.to_excel(writer,'obitos_rs_mort')\n",
    "letal_rs.to_excel(writer,'letal_rs')"
   ]
  },
  {
   "cell_type": "code",
   "execution_count": null,
   "id": "ac53dcbb",
   "metadata": {},
   "outputs": [],
   "source": [
    "casos_mun.to_excel(writer,'casos_mun')\n",
    "casos_mun_inc.to_excel(writer,'casos_mun_inc')\n",
    "obitos_mun.to_excel(writer,'obitos_mun')\n",
    "obitos_mun_mort.to_excel(writer,'obitos_mun_mort')\n",
    "letal_mun.to_excel(writer,'letal_mun')"
   ]
  },
  {
   "cell_type": "code",
   "execution_count": null,
   "id": "68bf63c1",
   "metadata": {},
   "outputs": [],
   "source": [
    "writer.save()"
   ]
  },
  {
   "cell_type": "code",
   "execution_count": null,
   "id": "5aa84319",
   "metadata": {},
   "outputs": [],
   "source": [
    "casos_mun"
   ]
  },
  {
   "cell_type": "code",
   "execution_count": null,
   "id": "c093601c",
   "metadata": {},
   "outputs": [],
   "source": [
    "casos_pr_inc"
   ]
  },
  {
   "cell_type": "code",
   "execution_count": null,
   "id": "bf98848d",
   "metadata": {},
   "outputs": [],
   "source": []
  }
 ],
 "metadata": {
  "kernelspec": {
   "display_name": "Python 3 (ipykernel)",
   "language": "python",
   "name": "python3"
  },
  "language_info": {
   "codemirror_mode": {
    "name": "ipython",
    "version": 3
   },
   "file_extension": ".py",
   "mimetype": "text/x-python",
   "name": "python",
   "nbconvert_exporter": "python",
   "pygments_lexer": "ipython3",
   "version": "3.8.11"
  }
 },
 "nbformat": 4,
 "nbformat_minor": 5
}
