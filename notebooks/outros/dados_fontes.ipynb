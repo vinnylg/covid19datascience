{
 "cells": [
  {
   "cell_type": "code",
   "execution_count": null,
   "metadata": {},
   "outputs": [],
   "source": [
    "import sys\n",
    "from pathlib import Path\n",
    "from os import getcwd\n",
    "sys.path.append(str(Path(getcwd()).parent))\n",
    "\n",
    "import pandas as pd\n",
    "from datetime import datetime, timedelta, date\n",
    "from os.path import join, dirname\n",
    "\n",
    "from bulletin import root, default_input, default_output\n",
    "from bulletin.systems.casos_confirmados import CasosConfirmados\n",
    "from bulletin.utils.static import Municipios\n",
    "from bulletin.utils.normalize import normalize_hash, normalize_labels, normalize_text, date_hash, normalize_number\n",
    "\n",
    "pd.set_option('display.max_rows', 500)"
   ]
  },
  {
   "cell_type": "code",
   "execution_count": null,
   "metadata": {},
   "outputs": [],
   "source": [
    "today = pd.to_datetime(date.today())\n",
    "ontem = today - timedelta(1)\n",
    "anteontem = ontem - timedelta(1)"
   ]
  },
  {
   "cell_type": "code",
   "execution_count": null,
   "metadata": {},
   "outputs": [],
   "source": [
    "cc = CasosConfirmados()\n",
    "cc.load(f\"cc_{today.strftime('%d_%m_%Y')}\", compress=True)\n",
    "cc.df"
   ]
  },
  {
   "cell_type": "code",
   "execution_count": null,
   "metadata": {},
   "outputs": [],
   "source": [
    "cc.comunicacao()"
   ]
  },
  {
   "cell_type": "code",
   "execution_count": null,
   "metadata": {},
   "outputs": [],
   "source": [
    "df = DadosFontes(f\"cc_{str(date.today().day).zfill(2)}_{str(date.today().month).zfill(2)}_{str(date.today().year).zfill(2)}\")"
   ]
  },
  {
   "cell_type": "code",
   "execution_count": null,
   "metadata": {},
   "outputs": [],
   "source": [
    "dadosf1 = df.dados_fontes_1()\n",
    "dadosf1.loc[dadosf1['MACRO']=='FORA', 'MACRO'] = None\n",
    "dadosf1.loc[dadosf1['RS']=='99', 'RS'] = None\n",
    "dadosf1['IBGE'] = dadosf1['IBGE'].astype('str')\n",
    "\n",
    "dadosf2 = df.dados_fontes_2()\n",
    "dadosf2['ibge'] = dadosf2['ibge'].astype('str')\n",
    "\n",
    "dadosf3 = df.dados_fontes_3()"
   ]
  },
  {
   "cell_type": "code",
   "execution_count": null,
   "metadata": {},
   "outputs": [],
   "source": [
    "dadosf1.to_csv(join('c:/SESA/arquivos/output', 'Dados_Fonte.xlsx'), index = False, sep = ';', encoding = 'utf-8-sig')\n",
    "dadosf2.to_csv(join('c:/SESA/arquivos/output', 'Dados_Fonte2.xlsx'), index = False, sep = ';', encoding = 'utf-8-sig')\n",
    "dadosf3.to_csv(join('c:/SESA/arquivos/output', 'Dados_Fonte3.xlsx'), index = False, sep = ';', encoding = 'utf-8-sig')"
   ]
  }
 ],
 "metadata": {
  "interpreter": {
   "hash": "b3ba2566441a7c06988d0923437866b63cedc61552a5af99d1f4fb67d367b25f"
  },
  "kernelspec": {
   "display_name": "Python 3 (ipykernel)",
   "language": "python",
   "name": "python3"
  },
  "language_info": {
   "codemirror_mode": {
    "name": "ipython",
    "version": 3
   },
   "file_extension": ".py",
   "mimetype": "text/x-python",
   "name": "python",
   "nbconvert_exporter": "python",
   "pygments_lexer": "ipython3",
   "version": "3.8.11"
  }
 },
 "nbformat": 4,
 "nbformat_minor": 4
}
