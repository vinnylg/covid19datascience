{
 "cells": [
  {
   "cell_type": "code",
   "execution_count": null,
   "metadata": {},
   "outputs": [],
   "source": [
    "import numpy as np\n",
    "import pandas as pd\n",
    "from tqdm import trange\n",
    "\n",
    "from bulletin.notifica import Notifica"
   ]
  },
  {
   "cell_type": "code",
   "execution_count": null,
   "metadata": {},
   "outputs": [],
   "source": [
    "baixar_notifica = True if input(\"Enter para continuar, S para baixar notifica\") == 'S' else False\n",
    "ler_notifica = True if input(\"Enter para continuar, S para ler notifica\") == 'S' else False"
   ]
  },
  {
   "cell_type": "code",
   "execution_count": null,
   "metadata": {
    "tags": []
   },
   "outputs": [],
   "source": [
    "notifica = Notifica()\n",
    "if ler_notifica or baixar_notifica:\n",
    "    if baixar_notifica:\n",
    "        notifica.download_todas_notificacoes()\n",
    "    if ler_notifica:\n",
    "        notifica.read_todas_notificacoes()\n",
    "        notifica.save()\n",
    "else:\n",
    "    notifica.load()\n",
    "\n",
    "print(notifica.shape())"
   ]
  },
  {
   "cell_type": "code",
   "execution_count": null,
   "metadata": {},
   "outputs": [],
   "source": [
    "notificacoes = notifica.get_casos()\n",
    "notificacoes = notificacoes.loc[(notificacoes['mun_resid']=='CURITIBA') & (notificacoes['classificacao_final']==2) & (notificacoes['duplicado']==1)]"
   ]
  },
  {
   "cell_type": "code",
   "execution_count": null,
   "metadata": {},
   "outputs": [],
   "source": [
    "notificacoes = notificacoes[['cpf','hash_mae','hash_nasc','hash_resid','hash_atend']].values\n",
    "notificacoes = [ set(notificacao) for notificacao in notificacoes ]\n",
    "len(notificacoes)"
   ]
  },
  {
   "cell_type": "code",
   "execution_count": null,
   "metadata": {
    "tags": [
     "outputPrepend"
    ]
   },
   "outputs": [],
   "source": [
    "pacientes = [notificacoes[0]]\n",
    "for i in trange(len(notificacoes)):\n",
    "    achou = False\n",
    "    for j in trange(len(pacientes)):\n",
    "        if notificacoes[i].intersection(pacientes[j]):\n",
    "            pacientes[j] = pacientes[j].union(notificacoes[i])\n",
    "            achou = True\n",
    "            break\n",
    "    if not achou:\n",
    "        pacientes.append(notificacoes[i])"
   ]
  },
  {
   "cell_type": "code",
   "execution_count": null,
   "metadata": {},
   "outputs": [],
   "source": [
    "print(len(pacientes))"
   ]
  }
 ],
 "metadata": {
  "kernelspec": {
   "display_name": "Python 3",
   "language": "python",
   "name": "python3"
  },
  "language_info": {
   "codemirror_mode": {
    "name": "ipython",
    "version": 3
   },
   "file_extension": ".py",
   "mimetype": "text/x-python",
   "name": "python",
   "nbconvert_exporter": "python",
   "pygments_lexer": "ipython3",
   "version": "3.8.5-final"
  }
 },
 "nbformat": 4,
 "nbformat_minor": 2
}
