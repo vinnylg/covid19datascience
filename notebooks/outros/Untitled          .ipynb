{
 "cells": [
  {
   "cell_type": "code",
   "execution_count": null,
   "id": "0dc6cc8a",
   "metadata": {},
   "outputs": [],
   "source": [
    "## set covid19_datasciente as path for python find bulletin package\n",
    "import sys\n",
    "from pathlib import Path\n",
    "from os import getcwd, remove, chdir\n",
    "from os.path import join, basename\n",
    "\n",
    "sys.path.append(str(Path(getcwd()).parent))\n",
    "current_dir = getcwd()\n",
    "print(current_dir)"
   ]
  },
  {
   "cell_type": "code",
   "execution_count": null,
   "id": "138246d8",
   "metadata": {},
   "outputs": [],
   "source": [
    "import pandas as pd\n",
    "pd.set_option('display.max_columns', None)\n",
    "pd.set_option('display.max_rows', 150)\n",
    "\n",
    "import numpy as np\n",
    "from random import randint\n",
    "from math import floor, ceil\n",
    "import codecs"
   ]
  },
  {
   "cell_type": "code",
   "execution_count": null,
   "id": "54731cf9",
   "metadata": {},
   "outputs": [],
   "source": [
    "from bulletin import root, default_input, default_output, agora, hoje, ontem, anteontem, dias_apos, dias_apos_label\n",
    "from bulletin.services.metabase import Metabase\n",
    "from bulletin.systems.casos_confirmados import CasosConfirmados\n",
    "from bulletin.systems.notifica import Notifica\n",
    "from bulletin.utils.static import Municipios\n",
    "from bulletin.utils import utils, static\n",
    "from bulletin.utils.xls_ import fit_cols\n",
    "from bulletin.utils.normalize import trim_overspace\n",
    "from bulletin.utils.normalize import normalize_text"
   ]
  },
  {
   "cell_type": "code",
   "execution_count": null,
   "id": "9b353877",
   "metadata": {},
   "outputs": [],
   "source": [
    "cc = CasosConfirmados()\n",
    "cc.load('cc_06_01_2022', compress=True)\n",
    "cc.df"
   ]
  },
  {
   "cell_type": "code",
   "execution_count": null,
   "id": "f56f1941",
   "metadata": {},
   "outputs": [],
   "source": [
    "a = cc.df.loc[cc.df['data_comunicacao']=='2022-01-06']"
   ]
  },
  {
   "cell_type": "code",
   "execution_count": null,
   "id": "d663fcc3",
   "metadata": {},
   "outputs": [],
   "source": [
    "a = a.replace(cc.tables['metodo'].set_index('id'))\n",
    "a = a.replace(cc.tables['exame'].set_index('id'))"
   ]
  },
  {
   "cell_type": "code",
   "execution_count": null,
   "id": "5c4d687e",
   "metadata": {},
   "outputs": [],
   "source": [
    "a.groupby(['metodo',a['data_diagnostico'].rename('ano').dt.year,a['data_diagnostico'].rename('mes').dt.month])['id_notifica'].count().unstack(['ano','mes']).fillna(0).astype(int).sort_index(axis=1,level=['ano','mes'])"
   ]
  },
  {
   "cell_type": "code",
   "execution_count": null,
   "id": "a0f76703",
   "metadata": {},
   "outputs": [],
   "source": [
    "a.groupby(['exame',a['data_diagnostico'].rename('ano').dt.year,a['data_diagnostico'].rename('mes').dt.month])['id_notifica'].count().unstack(['ano','mes']).fillna(0).astype(int).sort_index(axis=1,level=['ano','mes'])"
   ]
  },
  {
   "cell_type": "code",
   "execution_count": null,
   "id": "b58a2041",
   "metadata": {},
   "outputs": [],
   "source": [
    "a.groupby(['metodo',a['data_diagnostico'].rename('ano').dt.year,a['data_diagnostico'].rename('mes').dt.month])['id_notifica'].count().unstack(['ano','mes']).fillna(0).astype(int).sort_index(axis=1,level=['ano','mes'])"
   ]
  },
  {
   "cell_type": "code",
   "execution_count": null,
   "id": "ad8fecb5",
   "metadata": {},
   "outputs": [],
   "source": [
    "# notifica.df = notifica.df.loc[((notifica.df['classificacao_final']==2)&(notifica.df['excluir_ficha']==2)&(notifica.df['status_notificacao'].isin([1,2])))]\n",
    "notifica.df = notifica.df.join(notifica.tables['municipios'].set_index('ibge'), on='ibge_residencia',rsuffix='_residencia')\n",
    "notifica.df = notifica.df.join(notifica.tables['municipios'].set_index('ibge'), on='ibge_unidade_notifica',rsuffix='_unidade_notifica')"
   ]
  },
  {
   "cell_type": "code",
   "execution_count": null,
   "id": "77a0de63",
   "metadata": {},
   "outputs": [],
   "source": [
    "m = notifica.tables['municipios'].set_index('ibge')\n",
    "m.loc[m['uf']=='PR'].sort_values(['rs','ibge'])"
   ]
  },
  {
   "cell_type": "code",
   "execution_count": null,
   "id": "22b78156",
   "metadata": {},
   "outputs": [],
   "source": [
    "surto = notifica.df.loc[(notifica.df['ibge_residencia']==410950) | (notifica.df['ibge_unidade_notifica']==410950)]\n",
    "surto"
   ]
  },
  {
   "cell_type": "code",
   "execution_count": null,
   "id": "7c89ae3e",
   "metadata": {},
   "outputs": [],
   "source": [
    "surto.groupby(['ibge_residencia','municipio'])[['id']].count()"
   ]
  },
  {
   "cell_type": "code",
   "execution_count": null,
   "id": "c9e7f2d4",
   "metadata": {},
   "outputs": [],
   "source": [
    "surto.groupby(['ibge_unidade_notifica','municipio_unidade_notifica'])[['id']].count()"
   ]
  },
  {
   "cell_type": "code",
   "execution_count": null,
   "id": "9def134f",
   "metadata": {},
   "outputs": [],
   "source": [
    "surto.groupby(['data_notificacao','classificacao_final'])[['id']].count().unstack().fillna(0).astype(int).droplevel(axis=1,level=0).rename(columns=notifica.tables['classificacao_final'].set_index('id').to_dict()['classificacao_final']).tail(7)"
   ]
  },
  {
   "cell_type": "code",
   "execution_count": null,
   "id": "6105c2a7",
   "metadata": {},
   "outputs": [],
   "source": [
    "surto = notifica.df.loc[(notifica.df['rs_unidade_notifica']==1) & ((notifica.df['classificacao_final']==2))]\n",
    "surto.groupby(['data_notificacao','municipio_unidade_notifica'])[['id']].count().unstack().fillna(0).astype(int).droplevel(axis=1,level=0).rename(columns=notifica.tables['classificacao_final'].set_index('id').to_dict()['classificacao_final']).tail(14)"
   ]
  }
 ],
 "metadata": {
  "kernelspec": {
   "display_name": "Python 3 (ipykernel)",
   "language": "python",
   "name": "python3"
  },
  "language_info": {
   "codemirror_mode": {
    "name": "ipython",
    "version": 3
   },
   "file_extension": ".py",
   "mimetype": "text/x-python",
   "name": "python",
   "nbconvert_exporter": "python",
   "pygments_lexer": "ipython3",
   "version": "3.8.11"
  }
 },
 "nbformat": 4,
 "nbformat_minor": 5
}
