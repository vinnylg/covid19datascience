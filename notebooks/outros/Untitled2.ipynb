{
 "cells": [
  {
   "cell_type": "code",
   "execution_count": null,
   "metadata": {},
   "outputs": [],
   "source": [
    "import sys\n",
    "from pathlib import Path\n",
    "from os import getcwd, remove, walk\n",
    "from os.path import join, basename\n",
    "sys.path.append(str(Path(getcwd()).parent))\n",
    "\n",
    "import numpy as np\n",
    "import pandas as pd\n",
    "from epiweeks import Week\n",
    "from glob import glob\n",
    "from datetime import date, timedelta, datetime\n",
    "\n",
    "pd.set_option('display.max_columns', None)\n",
    "pd.set_option('display.max_rows', 50)\n",
    "\n",
    "from bulletin import default_input, default_output, tables_path, hoje\n",
    "from bulletin.systems import Notifica, CasosConfirmados, eSUS\n",
    "\n",
    "default_input = join(default_input)\n",
    "default_output = join(default_output)\n",
    "\n",
    "tables = dict([(Path(x).stem,pd.read_csv(join(tables_path,x))) for x in glob(join(tables_path,\"*.csv\"))])\n",
    "municipios = tables['municipios']\n",
    "\n",
    "pdidx = pd.IndexSlice"
   ]
  },
  {
   "cell_type": "code",
   "execution_count": null,
   "metadata": {},
   "outputs": [],
   "source": [
    "def macro_sort(column):\n",
    "    \"\"\"Sort function\"\"\"\n",
    "    macros = ['Leste', 'Oeste', 'Noroeste', 'Norte', 'Fora']\n",
    "    correspondence = {macro: order for order, macro in enumerate(macros)}\n",
    "    return column.map(correspondence)\n"
   ]
  },
  {
   "cell_type": "code",
   "execution_count": null,
   "metadata": {},
   "outputs": [],
   "source": [
    "cc = CasosConfirmados()\n",
    "cc.load(f\"cc_{hoje.strftime('%d_%m_%Y')}\", compress=True)"
   ]
  },
  {
   "cell_type": "code",
   "execution_count": null,
   "metadata": {},
   "outputs": [],
   "source": [
    "faixa_etaria = tables['faixa_etaria_populacao']\n",
    "faixa_etaria_municipio = tables['populacao_por_municipio_faixa_etaria'].set_index(['ibge','Município'])\n",
    "\n",
    "faixa_etaria = faixa_etaria.loc[:15].append(pd.DataFrame([np.NaN,'80+',faixa_etaria.loc[16:,'populacao'].sum()], columns=[16],index=faixa_etaria.columns).T)\n",
    "faixa_etaria.insert(3,'label',faixa_etaria_municipio.columns)\n",
    "faixa_etaria.T"
   ]
  },
  {
   "cell_type": "code",
   "execution_count": null,
   "metadata": {},
   "outputs": [],
   "source": [
    "pop_macro_rs_ibge = tables['populacao_por_municipio_faixa_etaria'].copy().join(municipios[['macro','rs','ibge','municipio']].set_index('ibge'), on='ibge').set_index(['macro','rs','ibge','municipio']).sort_index()\n",
    "del pop_macro_rs_ibge['Município']\n",
    "pop_macro_rs_ibge.columns = range(0,len(pop_macro_rs_ibge.columns))\n",
    "pop_macro_rs_ibge"
   ]
  },
  {
   "cell_type": "code",
   "execution_count": null,
   "metadata": {},
   "outputs": [],
   "source": [
    "casos = cc.df.join(municipios.set_index('ibge'), on='ibge_residencia')\n",
    "casos.loc[casos['uf']!='PR','ibge_residencia'] = 999999\n",
    "casos.update(casos[['ibge_residencia']].join(municipios.set_index('ibge'), on='ibge_residencia'))\n",
    "\n",
    "casos['faixa_etaria'] = np.digitize(casos['idade'],faixa_etaria['bins'].dropna(),right=False)\n",
    "\n",
    "casos['ano_caso'] = casos.loc[casos['data_diagnostico'].notna(),'data_diagnostico'].apply(lambda x: Week.fromdate(x).year)\n",
    "casos['se_caso'] = casos.loc[casos['data_diagnostico'].notna(),'data_diagnostico'].apply(lambda x: Week.fromdate(x).week)\n",
    "\n",
    "obitos = casos.loc[(casos['evolucao']==2)].copy()\n",
    "obitos['ano_obito'] = obitos.loc[obitos['data_cura_obito'].notna(),'data_cura_obito'].apply(lambda x: Week.fromdate(x).year)\n",
    "obitos['se_obito'] = obitos.loc[obitos['data_cura_obito'].notna(),'data_cura_obito'].apply(lambda x: Week.fromdate(x).week)"
   ]
  },
  {
   "cell_type": "code",
   "execution_count": null,
   "metadata": {},
   "outputs": [],
   "source": [
    "casos_se_mun = casos.groupby(['ano_caso','se_caso','faixa_etaria','ibge_residencia'])[['identificacao']].count().rename(columns={'identificacao':'casos'}).unstack(['ibge_residencia','faixa_etaria']).fillna(0).astype(int)\n",
    "casos_se_mun.index.names = ['ano','se']\n",
    "casos_se_mun.columns = casos_se_mun.columns.set_names('quant',level=0)\n",
    "casos_se_mun = casos_se_mun.reorder_levels(['ibge_residencia','faixa_etaria','quant'],axis=1).sort_index(level=0, axis=1)\n",
    "casos_se_mun"
   ]
  },
  {
   "cell_type": "code",
   "execution_count": null,
   "metadata": {},
   "outputs": [],
   "source": [
    "obitos_se_mun = obitos.groupby(['ano_caso','se_caso','faixa_etaria','ibge_residencia'])[['identificacao']].count().rename(columns={'identificacao':'obitos'}).unstack(['ibge_residencia','faixa_etaria']).fillna(0).astype(int)\n",
    "obitos_se_mun.index.names = ['ano','se']\n",
    "obitos_se_mun.columns = obitos_se_mun.columns.set_names('quant',level=0)\n",
    "obitos_se_mun = obitos_se_mun.reorder_levels(['ibge_residencia','faixa_etaria','quant'],axis=1).sort_index(level=0, axis=1)\n",
    "obitos_se_mun"
   ]
  },
  {
   "cell_type": "code",
   "execution_count": null,
   "metadata": {},
   "outputs": [],
   "source": [
    "casos_obitos_se_mun = casos_se_mun.join(obitos_se_mun).reorder_levels(['ibge_residencia','faixa_etaria','quant'],axis=1).sort_index(level=0, axis=1).fillna(0).astype(int)\n",
    "casos_obitos_se_mun"
   ]
  },
  {
   "cell_type": "code",
   "execution_count": null,
   "metadata": {},
   "outputs": [],
   "source": [
    "casos_obitos_se_mun = casos_obitos_se_mun.reindex(pd.MultiIndex.from_product(casos_obitos_se_mun.columns.levels), axis=1).fillna(0).astype(int)\n",
    "casos_obitos_se_mun"
   ]
  },
  {
   "cell_type": "code",
   "execution_count": null,
   "metadata": {},
   "outputs": [],
   "source": [
    "casos_obitos_se_mun.T.to_excel(join(default_output,'ibge_faixa_quant_ano_se.xlsx'))"
   ]
  },
  {
   "cell_type": "code",
   "execution_count": null,
   "metadata": {},
   "outputs": [],
   "source": []
  }
 ],
 "metadata": {
  "kernelspec": {
   "display_name": "Python 3 (ipykernel)",
   "language": "python",
   "name": "python3"
  },
  "language_info": {
   "codemirror_mode": {
    "name": "ipython",
    "version": 3
   },
   "file_extension": ".py",
   "mimetype": "text/x-python",
   "name": "python",
   "nbconvert_exporter": "python",
   "pygments_lexer": "ipython3",
   "version": "3.8.11"
  }
 },
 "nbformat": 4,
 "nbformat_minor": 4
}
