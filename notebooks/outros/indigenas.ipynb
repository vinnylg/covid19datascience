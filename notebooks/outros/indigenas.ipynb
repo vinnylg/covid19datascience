{
 "cells": [
  {
   "cell_type": "code",
   "execution_count": null,
   "id": "5a187fc7-96ef-4e5e-9617-6ee0c73d0afb",
   "metadata": {
    "execution": {
     "iopub.execute_input": "2021-12-08T11:36:58.125916Z",
     "iopub.status.busy": "2021-12-08T11:36:58.124923Z",
     "iopub.status.idle": "2021-12-08T11:36:58.139917Z",
     "shell.execute_reply": "2021-12-08T11:36:58.138941Z",
     "shell.execute_reply.started": "2021-12-08T11:36:58.124923Z"
    }
   },
   "outputs": [],
   "source": [
    "## set covid19_datasciente as path for python find bulletin package\n",
    "import sys\n",
    "from pathlib import Path\n",
    "from os import getcwd\n",
    "sys.path.append(str(Path(getcwd()).parent)) ## ../../covid19datascience* <- set parent level here"
   ]
  },
  {
   "cell_type": "code",
   "execution_count": null,
   "id": "4ebb09f6-e9a7-451e-95dc-f839258cfdc2",
   "metadata": {
    "execution": {
     "iopub.execute_input": "2021-12-08T11:50:14.421408Z",
     "iopub.status.busy": "2021-12-08T11:50:14.421408Z",
     "iopub.status.idle": "2021-12-08T11:50:14.437093Z",
     "shell.execute_reply": "2021-12-08T11:50:14.437093Z",
     "shell.execute_reply.started": "2021-12-08T11:50:14.421408Z"
    },
    "tags": []
   },
   "outputs": [],
   "source": [
    "from bulletin.systems import Notifica\n",
    "from bulletin.utils.static import meses"
   ]
  },
  {
   "cell_type": "code",
   "execution_count": null,
   "id": "e7f3841f-5d16-4425-8359-80870d0fa606",
   "metadata": {
    "execution": {
     "iopub.execute_input": "2021-12-08T11:37:04.382152Z",
     "iopub.status.busy": "2021-12-08T11:37:04.382152Z",
     "iopub.status.idle": "2021-12-08T11:37:42.576351Z",
     "shell.execute_reply": "2021-12-08T11:37:42.575355Z",
     "shell.execute_reply.started": "2021-12-08T11:37:04.382152Z"
    }
   },
   "outputs": [],
   "source": [
    "nt = Notifica()\n",
    "nt.load('notifica',compress=False)"
   ]
  },
  {
   "cell_type": "code",
   "execution_count": null,
   "id": "45b82011-d49b-426e-b0c8-0bf0724e98c2",
   "metadata": {
    "execution": {
     "iopub.execute_input": "2021-12-08T11:37:42.578352Z",
     "iopub.status.busy": "2021-12-08T11:37:42.578352Z",
     "iopub.status.idle": "2021-12-08T11:37:52.576053Z",
     "shell.execute_reply": "2021-12-08T11:37:52.575061Z",
     "shell.execute_reply.started": "2021-12-08T11:37:42.578352Z"
    }
   },
   "outputs": [],
   "source": [
    "indigenas = nt.df.loc[(nt.df['raca_cor']==5) & (nt.df['excluir_ficha']==2) & (nt.df['uf_residencia']==41)].copy()"
   ]
  },
  {
   "cell_type": "code",
   "execution_count": null,
   "id": "1429e3b6-5173-428e-afe1-6b9f5fba76ff",
   "metadata": {
    "execution": {
     "iopub.execute_input": "2021-12-08T11:37:52.577087Z",
     "iopub.status.busy": "2021-12-08T11:37:52.577087Z",
     "iopub.status.idle": "2021-12-08T11:37:52.591056Z",
     "shell.execute_reply": "2021-12-08T11:37:52.591056Z",
     "shell.execute_reply.started": "2021-12-08T11:37:52.577087Z"
    }
   },
   "outputs": [],
   "source": [
    "len(indigenas)"
   ]
  },
  {
   "cell_type": "markdown",
   "id": "08f221cd-6388-45ec-a4c6-ec014470f40d",
   "metadata": {},
   "source": [
    "Vejam os dados:\n",
    "Mês: casos / óbitos\n",
    "Novembro: 190 casos / 4 mortes\n",
    "Outubro: 174 / 2\n",
    "Setembro: 130 / 1\n",
    "Agosto: 36 / 1\n",
    "julho: 65 / 1\n",
    "Por favor, a respeito deste assunto, solicito posicionamento à secretaria de saúde a respeito do seguinte:\n",
    "- A Secretaria confirma esses números?\n",
    "- Quais foram as localidades dos indígenas mortos em novembro?\n",
    "- Quais são as etnias dos indígenas mortos em novembro?\n",
    "- Qual a idade dos indígenas mortos em novembro?\n",
    "- O que justifica o aumento de casos e mortes em outubro e novembro?\n",
    "- Que medidas estão sendo tomadas para impedir a escalada dos casos?"
   ]
  },
  {
   "cell_type": "code",
   "execution_count": null,
   "id": "27deed5b-a98e-4b9b-941d-fd2320defadc",
   "metadata": {
    "execution": {
     "iopub.execute_input": "2021-12-08T12:04:29.043125Z",
     "iopub.status.busy": "2021-12-08T12:04:29.042123Z",
     "iopub.status.idle": "2021-12-08T12:04:29.098128Z",
     "shell.execute_reply": "2021-12-08T12:04:29.096156Z",
     "shell.execute_reply.started": "2021-12-08T12:04:29.043125Z"
    },
    "tags": []
   },
   "outputs": [],
   "source": [
    "indiginas_confirmados = indigenas.loc[indigenas['classificacao_final']==2].copy()\n",
    "len(indiginas_confirmados)"
   ]
  },
  {
   "cell_type": "code",
   "execution_count": null,
   "id": "10bb68f5-1503-4309-bae7-aa004cf88bb7",
   "metadata": {
    "execution": {
     "iopub.execute_input": "2021-12-08T12:03:21.219503Z",
     "iopub.status.busy": "2021-12-08T12:03:21.218498Z",
     "iopub.status.idle": "2021-12-08T12:03:21.244421Z",
     "shell.execute_reply": "2021-12-08T12:03:21.244421Z",
     "shell.execute_reply.started": "2021-12-08T12:03:21.219503Z"
    },
    "tags": []
   },
   "outputs": [],
   "source": [
    "nt.tables['etnia'].loc[nt.tables['etnia']['co_etnia']==116]"
   ]
  },
  {
   "cell_type": "code",
   "execution_count": null,
   "id": "40195e4f-0f25-485a-8ae8-3d612f72fafe",
   "metadata": {
    "execution": {
     "iopub.execute_input": "2021-12-08T12:04:01.888956Z",
     "iopub.status.busy": "2021-12-08T12:04:01.887957Z",
     "iopub.status.idle": "2021-12-08T12:04:01.956962Z",
     "shell.execute_reply": "2021-12-08T12:04:01.955965Z",
     "shell.execute_reply.started": "2021-12-08T12:04:01.888956Z"
    }
   },
   "outputs": [],
   "source": [
    "indigenas = indigenas.join(nt.tables['municipios'].set_index('ibge'), on='ibge_residencia')"
   ]
  },
  {
   "cell_type": "code",
   "execution_count": null,
   "id": "a6f66f2d-bf9c-494e-9801-f24e05e0d988",
   "metadata": {
    "execution": {
     "iopub.execute_input": "2021-12-08T11:58:53.750946Z",
     "iopub.status.busy": "2021-12-08T11:58:53.750946Z",
     "iopub.status.idle": "2021-12-08T11:58:53.769930Z",
     "shell.execute_reply": "2021-12-08T11:58:53.768919Z",
     "shell.execute_reply.started": "2021-12-08T11:58:53.750946Z"
    },
    "tags": []
   },
   "outputs": [],
   "source": [
    "ano_mes_casos = indiginas_confirmados.groupby([indiginas_confirmados['data_notificacao'].rename('ano').dt.year,indiginas_confirmados['data_notificacao'].rename('mes').dt.month])[['id']].count().rename(columns={'id':'casos'})\n",
    "# ano_mes.to_excel('indigenas_ano_mes.xlsx')"
   ]
  },
  {
   "cell_type": "code",
   "execution_count": null,
   "id": "637360d4-9f66-4b03-bb1b-6e12fa27cded",
   "metadata": {
    "execution": {
     "iopub.execute_input": "2021-12-08T11:58:56.837826Z",
     "iopub.status.busy": "2021-12-08T11:58:56.836836Z",
     "iopub.status.idle": "2021-12-08T11:58:56.858847Z",
     "shell.execute_reply": "2021-12-08T11:58:56.857849Z",
     "shell.execute_reply.started": "2021-12-08T11:58:56.837826Z"
    },
    "tags": []
   },
   "outputs": [],
   "source": [
    "ano_mes_obitos = indiginas_confirmados.loc[indiginas_confirmados['evolucao']==2].groupby([indiginas_confirmados['data_notificacao'].rename('ano').dt.year,indiginas_confirmados['data_notificacao'].rename('mes').dt.month])[['id']].count().rename(columns={'id':'obitos'})"
   ]
  },
  {
   "cell_type": "code",
   "execution_count": null,
   "id": "2e7f2c98-ddf9-4ec4-92cb-5eac8ce54fab",
   "metadata": {
    "execution": {
     "iopub.execute_input": "2021-12-08T11:57:22.943629Z",
     "iopub.status.busy": "2021-12-08T11:57:22.941616Z",
     "iopub.status.idle": "2021-12-08T11:57:22.976795Z",
     "shell.execute_reply": "2021-12-08T11:57:22.976795Z",
     "shell.execute_reply.started": "2021-12-08T11:57:22.943629Z"
    },
    "tags": []
   },
   "outputs": [],
   "source": [
    "ano_mes_casos.join(ano_mes_obitos).fillna(0).astype(int).to_excel('indigenas_ano_mes_casos_obitos.xlsx')"
   ]
  },
  {
   "cell_type": "code",
   "execution_count": null,
   "id": "6e7cb106-3a1b-4213-86e1-11b9bf8aba9a",
   "metadata": {
    "execution": {
     "iopub.execute_input": "2021-12-08T12:13:11.947876Z",
     "iopub.status.busy": "2021-12-08T12:13:11.946876Z",
     "iopub.status.idle": "2021-12-08T12:13:11.995877Z",
     "shell.execute_reply": "2021-12-08T12:13:11.995093Z",
     "shell.execute_reply.started": "2021-12-08T12:13:11.947876Z"
    },
    "tags": []
   },
   "outputs": [],
   "source": [
    "indiginas_confirmados.loc[(indiginas_confirmados['evolucao']==2) & (indiginas_confirmados['data_notificacao'].rename('ano').dt.year == 2021) & (indiginas_confirmados['data_notificacao'].rename('mes').dt.month.isin([9,10,11])),['data_cura_obito','etnia','idade','municipio']].to_excel('etinia_idade_municipio.xlsx')"
   ]
  },
  {
   "cell_type": "code",
   "execution_count": null,
   "id": "6d3f978f-a6c8-46ea-82ed-767ee1b32a2f",
   "metadata": {},
   "outputs": [],
   "source": []
  }
 ],
 "metadata": {
  "kernelspec": {
   "display_name": "Python 3 (ipykernel)",
   "language": "python",
   "name": "python3"
  },
  "language_info": {
   "codemirror_mode": {
    "name": "ipython",
    "version": 3
   },
   "file_extension": ".py",
   "mimetype": "text/x-python",
   "name": "python",
   "nbconvert_exporter": "python",
   "pygments_lexer": "ipython3",
   "version": "3.8.11"
  }
 },
 "nbformat": 4,
 "nbformat_minor": 5
}
