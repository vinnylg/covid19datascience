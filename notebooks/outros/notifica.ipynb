{
 "cells": [
  {
   "cell_type": "code",
   "execution_count": null,
   "metadata": {
    "execution": {
     "iopub.execute_input": "2021-09-23T12:50:26.376008Z",
     "iopub.status.busy": "2021-09-23T12:50:26.375133Z",
     "iopub.status.idle": "2021-09-23T12:50:28.084429Z",
     "shell.execute_reply": "2021-09-23T12:50:28.083441Z",
     "shell.execute_reply.started": "2021-09-23T12:50:26.376008Z"
    }
   },
   "outputs": [],
   "source": [
    "import sys\n",
    "import itertools\n",
    "from pathlib import Path\n",
    "from os import getcwd\n",
    "sys.path.append(str(Path(getcwd()).parent))\n",
    "from os.path import join, basename\n",
    "\n",
    "import numpy as np\n",
    "import pandas as pd\n",
    "\n",
    "pd.set_option('display.max_columns', None)\n",
    "pd.set_option('display.max_rows', 1000)\n",
    "\n",
    "from bulletin import default_input, default_output\n",
    "from bulletin.systems import Notifica, CasosConfirmados\n",
    "from bulletin.utils import utils, normalize\n",
    "from bulletin.utils.static import Municipios\n",
    "from bulletin.utils.xls_ import fit_cols\n",
    "\n",
    "import random\n",
    "import gc\n",
    "from tqdm import tqdm"
   ]
  },
  {
   "cell_type": "code",
   "execution_count": null,
   "metadata": {
    "execution": {
     "iopub.execute_input": "2021-09-23T12:50:28.085436Z",
     "iopub.status.busy": "2021-09-23T12:50:28.085436Z",
     "iopub.status.idle": "2021-09-23T12:50:28.091434Z",
     "shell.execute_reply": "2021-09-23T12:50:28.091434Z",
     "shell.execute_reply.started": "2021-09-23T12:50:28.085436Z"
    }
   },
   "outputs": [],
   "source": [
    "from datetime import datetime, date, timedelta\n",
    "\n",
    "today = pd.to_datetime(date.today())\n",
    "ontem = today - timedelta(1)\n",
    "anteontem = ontem - timedelta(1)"
   ]
  },
  {
   "cell_type": "code",
   "execution_count": null,
   "metadata": {
    "execution": {
     "iopub.execute_input": "2021-09-23T12:50:28.119598Z",
     "iopub.status.busy": "2021-09-23T12:50:28.119598Z",
     "iopub.status.idle": "2021-09-23T12:50:59.082128Z",
     "shell.execute_reply": "2021-09-23T12:50:59.081128Z",
     "shell.execute_reply.started": "2021-09-23T12:50:28.119598Z"
    }
   },
   "outputs": [],
   "source": [
    "\n",
    "notifica = Notifica('notifica')\n",
    "notifica.load(compress=False)\n",
    "# notifica.df = notifica.df.loc[notifica.casos_confirmados_mask()]\n",
    "# notifica.df = notifica.df.sample(frac=0.01)"
   ]
  },
  {
   "cell_type": "code",
   "execution_count": null,
   "metadata": {},
   "outputs": [],
   "source": [
    "# notifica.df.set_index('id', inplace=True)\n",
    "notifica.df.reset_index('id', inplace=True)"
   ]
  },
  {
   "cell_type": "code",
   "execution_count": null,
   "metadata": {},
   "outputs": [],
   "source": [
    "notifica.df.groupby('classificacao_final')[['sexo']].count()"
   ]
  },
  {
   "cell_type": "code",
   "execution_count": null,
   "metadata": {},
   "outputs": [],
   "source": [
    "# \n",
    "# notifica.normalize()\n",
    "# notifica.df"
   ]
  },
  {
   "cell_type": "code",
   "execution_count": null,
   "metadata": {},
   "outputs": [],
   "source": [
    "# \n",
    "# aDtD = notifica.analise_data_diagnostico()\n",
    "# aDtD.to_pickle('analise_data_diagnostico.pkl')\n",
    "# aDtD.groupby('data_min_distance')[['idx_min_distance']].count().plot()"
   ]
  },
  {
   "cell_type": "code",
   "execution_count": null,
   "metadata": {},
   "outputs": [],
   "source": [
    "# fichas_com_datas_distantes = aDtD.loc[aDtD['diff_min_max']>30]\n",
    "# idx_fichas_com_datas_distantes = list(fichas_com_datas_distantes.index)\n",
    "# fichas_com_datas_distantes"
   ]
  },
  {
   "cell_type": "code",
   "execution_count": null,
   "metadata": {},
   "outputs": [],
   "source": [
    "for col in [ col for col in notifica.df.columns if 'duplicated_' in col ]:\n",
    "    del notifica.df[col]"
   ]
  },
  {
   "cell_type": "code",
   "execution_count": null,
   "metadata": {},
   "outputs": [],
   "source": [
    "notifica.df"
   ]
  },
  {
   "cell_type": "code",
   "execution_count": null,
   "metadata": {},
   "outputs": [],
   "source": [
    "# \n",
    "duplicados = notifica.check_duplicates()\n",
    "duplicados = duplicados.drop_duplicates('ids_str')\n",
    "# duplicados.to_pickle('analise_duplicados.pkl')\n",
    "duplicados"
   ]
  },
  {
   "cell_type": "code",
   "execution_count": null,
   "metadata": {},
   "outputs": [],
   "source": [
    "duplicados['ids']"
   ]
  },
  {
   "cell_type": "code",
   "execution_count": null,
   "metadata": {},
   "outputs": [],
   "source": [
    "aDtD = pd.read_pickle('analise_data_diagnostico.pkl')\n",
    "aDtD"
   ]
  },
  {
   "cell_type": "code",
   "execution_count": null,
   "metadata": {},
   "outputs": [],
   "source": [
    "duplicados = pd.read_pickle('analise_duplicados.pkl')\n",
    "duplicados"
   ]
  },
  {
   "cell_type": "code",
   "execution_count": null,
   "metadata": {},
   "outputs": [],
   "source": [
    "# [item for sublist in duplicados['ids'].values.tolist() for item in sublist]"
   ]
  },
  {
   "cell_type": "code",
   "execution_count": null,
   "metadata": {},
   "outputs": [],
   "source": [
    "\n",
    "duplicados.groupby('duplicated_ncols')[['duplicated']].count()"
   ]
  },
  {
   "cell_type": "code",
   "execution_count": null,
   "metadata": {
    "execution": {
     "iopub.execute_input": "2021-09-23T12:53:13.247210Z",
     "iopub.status.busy": "2021-09-23T12:53:13.247210Z",
     "iopub.status.idle": "2021-09-23T12:53:13.294089Z",
     "shell.execute_reply": "2021-09-23T12:53:13.294089Z",
     "shell.execute_reply.started": "2021-09-23T12:53:13.247210Z"
    }
   },
   "outputs": [],
   "source": [
    "duplicados.groupby(['duplicated_ncols','duplicated_cols'])[['duplicated']].count()#.sort_values(by='duplicated')"
   ]
  },
  {
   "cell_type": "code",
   "execution_count": null,
   "metadata": {
    "execution": {
     "iopub.execute_input": "2021-09-23T12:53:14.197608Z",
     "iopub.status.busy": "2021-09-23T12:53:14.197608Z",
     "iopub.status.idle": "2021-09-23T12:53:14.228849Z",
     "shell.execute_reply": "2021-09-23T12:53:14.228849Z",
     "shell.execute_reply.started": "2021-09-23T12:53:14.197608Z"
    }
   },
   "outputs": [],
   "source": [
    "# raise\n",
    "# duplicados = duplicados.loc[(duplicados['duplicated_ncols']>=2)|duplicados['duplicated_cols'].str.contains('hash_nasc')]"
   ]
  },
  {
   "cell_type": "code",
   "execution_count": null,
   "metadata": {},
   "outputs": [],
   "source": [
    "# notifica.df.set_index('id', inplace=True)\n",
    "notifica.df = notifica.df.loc[(\n",
    "            (notifica.df['classificacao_final']==2) & \n",
    "            (notifica.df['status_notificacao'].isin([1,2])) & \n",
    "            (notifica.df['excluir_ficha']==2))\n",
    "            ]\n",
    "notifica.df"
   ]
  },
  {
   "cell_type": "code",
   "execution_count": null,
   "metadata": {},
   "outputs": [],
   "source": [
    "# notifica.df.loc[notifica.df['id']==71379]\n",
    "# duplicados\n",
    "# criterio2 = (\n",
    "#             (notifica.df['classificacao_final']==2) & \n",
    "#             (notifica.df['status_notificacao'].isin([1,2])) & \n",
    "#             (notifica.df['excluir_ficha']==2) & \n",
    "#             (notifica.df['hash_nasc']=='ELIANADASILVA08031977') & \n",
    "#             notifica.df[col].duplicated(keep=keep) &\n",
    "#             notifica.df[col].notna()\n",
    "#     )\n",
    "\n",
    "# notifica.df.loc[criterio2]\n"
   ]
  },
  {
   "cell_type": "code",
   "execution_count": null,
   "metadata": {},
   "outputs": [],
   "source": [
    "try:\n",
    "    del (notifica.df['duplicated'])\n",
    "except:\n",
    "        pass\n",
    "    \n",
    "try:\n",
    "    del notifica.df['duplicated_cols']\n",
    "except:\n",
    "    pass\n",
    "\n",
    "try:\n",
    "    del notifica.df['duplicated_ids']\n",
    "except:\n",
    "    pass\n",
    "\n",
    "columns=['hash_nasc']\n",
    "keep=False\n",
    "\n",
    "notifica.df.insert(len(notifica.df.columns),'duplicated',False)\n",
    "notifica.df.insert(len(notifica.df.columns),'duplicated_cols','')\n",
    "notifica.df.insert(len(notifica.df.columns),'duplicated_ids','')\n",
    "\n",
    "\n",
    "\n",
    "for col in columns:\n",
    "    criterio = (\n",
    "            notifica.df[col].notna() &\n",
    "            notifica.df[col].duplicated(keep=False)\n",
    "        )\n",
    "    \n",
    "    \n",
    "    display(notifica.df.loc[criterio,col])\n",
    "\n",
    "    notifica.df.loc[criterio,'duplicated'] = True\n",
    "    notifica.df.loc[criterio,f\"duplicated_cols\"] =  notifica.df.loc[criterio,'duplicated_cols'].apply( lambda l: utils.strlist(l,col) )\n",
    "    notifica.df.loc[criterio,f\"{col}_duplicated_ids\"] = notifica.df.loc[criterio,[col,'sexo']].groupby([col]).transform(lambda x: ',' if len(x) == 0 else \",\".join(x.astype(str).values))\n",
    "\n",
    "# duplicados = notifica.df.loc[notifica.df['duplicated'],['duplicated','duplicated_cols'] + sorted([ col for col in notifica.df.columns if 'cns' in col or 'cpf' in col or 'hash' in col ]) ].set_index('id')\n",
    "\n",
    "# display(duplicados)\n",
    "\n",
    "# group_duplicados = duplicados[ [ col for col in duplicados.columns if 'ids' in col ]].fillna('0')\n",
    "\n",
    "# display(group_duplicados)\n",
    "\n",
    "# group_duplicados.iloc[:,:-1] += ','\n",
    "\n",
    "# display(group_duplicados)\n",
    "\n",
    "# group_duplicados['ids'] = group_duplicados.sum(1).str.split(',').apply(lambda x: sorted(list(map(int,set(x) - {'0'}))))\n",
    "\n",
    "# display(group_duplicados)\n",
    "\n",
    "# duplicados = pd.merge(duplicados[['duplicated','duplicated_cols']],group_duplicados[['ids']],left_index=True,right_index=True,how='left')\n",
    "\n",
    "# display(duplicados)\n",
    "\n",
    "# duplicados['ids_len'] = duplicados['ids'].apply(len)\n",
    "\n",
    "# display(duplicados)\n",
    "\n",
    "# duplicados['ids_str'] = duplicados['ids'].apply(lambda x: \",\".join(map(str,x)))\n",
    "\n",
    "# display(duplicados)\n",
    "\n",
    "# duplicados['duplicated_ncols'] = duplicados['duplicated_cols'].apply(lambda x: len(x.split(',')))\n",
    "\n",
    "# display(duplicados)\n",
    "\n",
    "# # for col in [ col for col in notifica.df.columns if 'duplicated_' in col ]:\n",
    "# #     del notifica.df[col]\n"
   ]
  },
  {
   "cell_type": "code",
   "execution_count": null,
   "metadata": {},
   "outputs": [],
   "source": []
  },
  {
   "cell_type": "code",
   "execution_count": null,
   "metadata": {},
   "outputs": [],
   "source": [
    "aDtD.loc[duplicados.iloc[1]['ids']]"
   ]
  },
  {
   "cell_type": "code",
   "execution_count": null,
   "metadata": {
    "execution": {
     "iopub.execute_input": "2021-09-23T17:46:35.885891Z",
     "iopub.status.busy": "2021-09-23T17:46:35.884890Z",
     "iopub.status.idle": "2021-09-23T20:01:20.050297Z",
     "shell.execute_reply": "2021-09-23T20:01:20.050297Z",
     "shell.execute_reply.started": "2021-09-23T17:46:35.885891Z"
    },
    "tags": []
   },
   "outputs": [],
   "source": [
    "\n",
    "# notifica.df.set_index('id',inplace=True)\n",
    "duplicados = duplicados.sort_index()\n",
    "#### HERE !!!!!!!!!!!!!!!!!!!\n",
    "notifica.df['first_infect'] = False\n",
    "notifica.df['socorro_deus'] = False\n",
    "notifica.df['reinfect'] = False\n",
    "notifica.df['days_between'] = -1\n",
    "notifica.df['another_ids'] = None\n",
    "notifica.df['duplicated_cols'] = None\n",
    "notifica.df['duplicated_ncols'] = -1\n",
    "notifica.df['block_cols_update'] = ''\n",
    "\n",
    "for idx in tqdm(duplicados.index):\n",
    "    row = duplicados.loc[idx]\n",
    "    row_ids = [ id for id in row['ids'] if id not in idx_fichas_com_datas_distantes ]\n",
    "    print(row_ids)\n",
    "    notifica.df.loc[row_ids[0:],'first_infect'] = True\n",
    "    if len(row_ids) > 1:\n",
    "        notifica.df.loc[row_ids,['duplicated_cols','duplicated_ncols','another_ids']] = ( row['duplicated_cols'], row['duplicated_ncols'], row['ids_str'] )\n",
    "        notifica.df.loc[row_ids[1:],'days_between'] = list(map(lambda x: x.astype('timedelta64[D]') / np.timedelta64(1, 'D'), notifica.df.loc[row_ids[1:],'data_diagnostico'].values - notifica.df.loc[row_ids[0:-1],'data_diagnostico'].values))\n",
    "        notifica.df.loc[row_ids[1:],'days_between'] = notifica.df.loc[row_ids[1:],'days_between'].abs()\n",
    "        \n",
    "        index_mask_reifect = notifica.df.index.isin(row_ids[1:]) & (notifica.df['days_between'] >= 90)\n",
    "        index_mask_not_reifect_neither_obito = notifica.df.index.isin(row_ids[1:]) & (notifica.df['days_between'] < 90) & (notifica.df['evolucao'] != 2)\n",
    "        index_mask_not_reifect_but_obito = notifica.df.index.isin(row_ids[1:]) & (notifica.df['days_between'] < 90) & (notifica.df['evolucao'] == 2)\n",
    "\n",
    "        notifica.df.loc[index_mask_reifect, 'reinfect'] = True\n",
    "        \n",
    "        notifica.df.loc[index_mask_not_reifect_but_obito, 'socorro_deus'] = True\n",
    "        \n",
    "        notifica.df.loc[index_mask_not_reifect_neither_obito, 'excluir_ficha'] = 1\n",
    "        notifica.df.loc[index_mask_not_reifect_neither_obito, 'block_cols_update'] = notifica.df.loc[index_mask_not_reifect_neither_obito, 'block_cols_update'].apply(lambda l: utils.strlist(l,'excluir_ficha'))"
   ]
  },
  {
   "cell_type": "code",
   "execution_count": null,
   "metadata": {
    "execution": {
     "iopub.execute_input": "2021-09-23T20:01:24.436322Z",
     "iopub.status.busy": "2021-09-23T20:01:24.436322Z",
     "iopub.status.idle": "2021-09-23T20:01:24.468078Z",
     "shell.execute_reply": "2021-09-23T20:01:24.467574Z",
     "shell.execute_reply.started": "2021-09-23T20:01:24.436322Z"
    },
    "tags": []
   },
   "outputs": [],
   "source": [
    "notifica.df['reinfect'].sum()"
   ]
  },
  {
   "cell_type": "code",
   "execution_count": null,
   "metadata": {
    "execution": {
     "iopub.execute_input": "2021-09-23T20:01:24.476079Z",
     "iopub.status.busy": "2021-09-23T20:01:24.476079Z",
     "iopub.status.idle": "2021-09-23T20:01:24.686939Z",
     "shell.execute_reply": "2021-09-23T20:01:24.686939Z",
     "shell.execute_reply.started": "2021-09-23T20:01:24.476079Z"
    },
    "tags": []
   },
   "outputs": [],
   "source": [
    "notifica.df.loc[notifica.df['socorro_deus']].shape"
   ]
  },
  {
   "cell_type": "code",
   "execution_count": null,
   "metadata": {
    "execution": {
     "iopub.execute_input": "2021-09-23T20:01:24.686939Z",
     "iopub.status.busy": "2021-09-23T20:01:24.686939Z",
     "iopub.status.idle": "2021-09-23T20:01:24.718156Z",
     "shell.execute_reply": "2021-09-23T20:01:24.718156Z",
     "shell.execute_reply.started": "2021-09-23T20:01:24.686939Z"
    },
    "tags": []
   },
   "outputs": [],
   "source": [
    "(notifica.df['excluir_ficha']==1).sum()"
   ]
  },
  {
   "cell_type": "code",
   "execution_count": null,
   "metadata": {},
   "outputs": [],
   "source": [
    "notifica.df.loc[[item for sublist in duplicados['ids'] for item in sublist]]"
   ]
  },
  {
   "cell_type": "code",
   "execution_count": null,
   "metadata": {},
   "outputs": [],
   "source": []
  },
  {
   "cell_type": "code",
   "execution_count": null,
   "metadata": {},
   "outputs": [],
   "source": []
  }
 ],
 "metadata": {
  "interpreter": {
   "hash": "1cdc22e96f16e7a709941e5164353478df3c5a2dca8a048b5ddcd85bd66dd558"
  },
  "kernelspec": {
   "display_name": "Python 3 (ipykernel)",
   "language": "python",
   "name": "python3"
  },
  "language_info": {
   "codemirror_mode": {
    "name": "ipython",
    "version": 3
   },
   "file_extension": ".py",
   "mimetype": "text/x-python",
   "name": "python",
   "nbconvert_exporter": "python",
   "pygments_lexer": "ipython3",
   "version": "3.8.11"
  }
 },
 "nbformat": 4,
 "nbformat_minor": 4
}
