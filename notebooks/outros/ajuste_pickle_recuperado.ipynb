{
 "cells": [
  {
   "cell_type": "code",
   "execution_count": null,
   "metadata": {},
   "outputs": [],
   "source": [
    "## set covid19_datasciente as sys path for python find bulletin package\n",
    "import sys\n",
    "from pathlib import Path\n",
    "from os import getcwd\n",
    "sys.path.append(str(Path(getcwd()).parent.parent)) ## ../../covid19datascience* <- set parent level here"
   ]
  },
  {
   "cell_type": "code",
   "execution_count": null,
   "metadata": {},
   "outputs": [],
   "source": [
    "import numpy as np\n",
    "import pandas as pd\n",
    "from unidecode import unidecode\n",
    "from datetime import datetime, timedelta, date\n",
    "from os.path import dirname, join, isfile, isdir\n",
    "import re"
   ]
  },
  {
   "cell_type": "code",
   "execution_count": null,
   "metadata": {},
   "outputs": [],
   "source": [
    "from bulletin import hoje, ontem, ultimos_60_dias\n",
    "from bulletin.systems import CasosConfirmados"
   ]
  },
  {
   "cell_type": "code",
   "execution_count": null,
   "metadata": {},
   "outputs": [],
   "source": [
    "cc = CasosConfirmados()\n",
    "cc.load(f\"cca_{hoje.strftime('%d_%m_%Y')}\", compress=False)\n",
    "df_casos = cc.df\n",
    "df_casos"
   ]
  },
  {
   "cell_type": "code",
   "execution_count": null,
   "metadata": {},
   "outputs": [],
   "source": [
    "print('CASOS ATIVOS ANTIGOS =', len(df_casos.loc[df_casos['evolucao'] == 3]))\n",
    "print('ANTIGO NÚMERO DE RECUPERADOS =', len(df_casos.loc[df_casos['evolucao'] == 1]))"
   ]
  },
  {
   "cell_type": "code",
   "execution_count": null,
   "metadata": {},
   "outputs": [],
   "source": [
    "df_casos['tipo_encerramento'] = None\n",
    "limit_day_active = ultimos_60_dias"
   ]
  },
  {
   "cell_type": "code",
   "execution_count": null,
   "metadata": {},
   "outputs": [],
   "source": [
    "#CASO E0\n",
    "df_casos.loc[df_casos['evolucao'] == 3, 'tipo_encerramento'] = 'E0'"
   ]
  },
  {
   "cell_type": "code",
   "execution_count": null,
   "metadata": {},
   "outputs": [],
   "source": [
    "#CASO E1\n",
    "df_casos.loc[(df_casos['evolucao'] != 3), 'tipo_encerramento'] = 'E1'"
   ]
  },
  {
   "cell_type": "code",
   "execution_count": null,
   "metadata": {},
   "outputs": [],
   "source": [
    "#CASO E2\n",
    "df_casos.loc[(df_casos['id'] < 0) & (df_casos['data_diagnostico'] < limit_day_active) & (df_casos['evolucao'] == 3), ['evolucao', 'tipo_encerramento', 'data_cura_obito', 'data_com_evolucao']] = (1, 'E2', today, today)"
   ]
  },
  {
   "cell_type": "code",
   "execution_count": null,
   "metadata": {},
   "outputs": [],
   "source": [
    "#CASO E3\n",
    "df_casos.loc[(df_casos['id'] > 0) & (df_casos['data_diagnostico'] < limit_day_active) & (df_casos['evolucao'] == 3), ['evolucao', 'tipo_encerramento', 'data_cura_obito', 'data_com_evolucao']] = (1, 'E3', today, today)"
   ]
  },
  {
   "cell_type": "code",
   "execution_count": null,
   "metadata": {},
   "outputs": [],
   "source": [
    "print('CASOS ATIVOS NOVOS =', len(df_casos.loc[df_casos['evolucao'] == 3]))\n",
    "print('NOVO NÚMERO DE RECUPERADOS =', len(df_casos.loc[df_casos['evolucao'] == 1]))"
   ]
  },
  {
   "cell_type": "code",
   "execution_count": null,
   "metadata": {},
   "outputs": [],
   "source": [
    "df_casos"
   ]
  },
  {
   "cell_type": "code",
   "execution_count": null,
   "metadata": {},
   "outputs": [],
   "source": [
    "#AJUSTES DE DATA\n",
    "# df_casos['data_cura_obito'] = pd.to_datetime(df_casos['data_cura_obito'], format='%Y-%m-%d', errors='raise')\n",
    "# df_casos['data_com_evolucao'] = pd.to_datetime(df_casos['data_com_evolucao'], format='%Y-%m-%d', errors='raise')"
   ]
  },
  {
   "cell_type": "code",
   "execution_count": null,
   "metadata": {},
   "outputs": [],
   "source": [
    "df_casos.loc[df_casos['uf_residencia'] == 'PARAGUAY', 'uf_residencia'] = 'IG'\n",
    "\n",
    "df_casos.loc[df_casos['identificacao'] == 360645, ['uf_residencia', 'ibge_residencia', 'ibge_unidade_notifica']] = ('PR', 412520, 412520)\n",
    "df_casos.loc[df_casos['identificacao'] == 360854, ['uf_residencia', 'ibge_residencia', 'ibge_unidade_notifica']] = ('PR', 411120, 411120)\n",
    "df_casos.loc[df_casos['identificacao'] == 360924, ['uf_residencia', 'ibge_residencia', 'ibge_unidade_notifica']] = ('PR', 411120, 411120)\n",
    "df_casos.loc[df_casos['identificacao'] == 361061, ['uf_residencia', 'ibge_residencia', 'ibge_unidade_notifica']] = ('PR', 412520, 412520)\n",
    "df_casos.loc[df_casos['identificacao'] == 361283, ['uf_residencia', 'ibge_residencia', 'ibge_unidade_notifica']] = ('PR', 410715, 410715)\n",
    "df_casos.loc[df_casos['identificacao'] == 361668, ['uf_residencia', 'ibge_residencia', 'ibge_unidade_notifica']] = ('PR', 411120, 411120)\n",
    "df_casos.loc[df_casos['identificacao'] == 361882, ['uf_residencia', 'ibge_residencia', 'ibge_unidade_notifica']] = ('PR', 410715, 410715)\n",
    "df_casos.loc[df_casos['identificacao'] == 362147, ['uf_residencia', 'ibge_residencia', 'ibge_unidade_notifica']] = ('PR', 412520, 412520)\n",
    "df_casos.loc[df_casos['identificacao'] == 362223, ['uf_residencia', 'ibge_residencia', 'ibge_unidade_notifica']] = ('PR', 412520, 412520)\n",
    "df_casos.loc[df_casos['identificacao'] == 362305, ['uf_residencia', 'ibge_residencia', 'ibge_unidade_notifica']] = ('PR', 412520, 412520)\n",
    "df_casos.loc[df_casos['identificacao'] == 362409, ['uf_residencia', 'ibge_residencia', 'ibge_unidade_notifica']] = ('PR', 412520, 412520)\n",
    "df_casos.loc[df_casos['identificacao'] == 362559, ['uf_residencia', 'ibge_residencia', 'ibge_unidade_notifica']] = ('PR', 412520, 412520)\n",
    "df_casos.loc[df_casos['identificacao'] == 362600, ['uf_residencia', 'ibge_residencia', 'ibge_unidade_notifica']] = ('PR', 411120, 411120)\n",
    "df_casos.loc[df_casos['identificacao'] == 362697, ['uf_residencia', 'ibge_residencia', 'ibge_unidade_notifica']] = ('PR', 411120, 411120)\n",
    "df_casos.loc[df_casos['identificacao'] == 362743, ['uf_residencia', 'ibge_residencia', 'ibge_unidade_notifica']] = ('PR', 411120, 411120)\n",
    "df_casos.loc[df_casos['identificacao'] == 362899, ['uf_residencia', 'ibge_residencia', 'ibge_unidade_notifica']] = ('PR', 411120, 411120)\n",
    "df_casos.loc[df_casos['identificacao'] == 363442, ['uf_residencia', 'ibge_residencia', 'ibge_unidade_notifica']] = ('PR', 412520, 412520)"
   ]
  },
  {
   "cell_type": "code",
   "execution_count": null,
   "metadata": {},
   "outputs": [],
   "source": [
    "df_casos.to_pickle('cc_02_08_2021.pkl')"
   ]
  }
 ],
 "metadata": {
  "interpreter": {
   "hash": "b3ba2566441a7c06988d0923437866b63cedc61552a5af99d1f4fb67d367b25f"
  },
  "kernelspec": {
   "display_name": "Python 3",
   "language": "python",
   "name": "python3"
  },
  "language_info": {
   "codemirror_mode": {
    "name": "ipython",
    "version": 3
   },
   "file_extension": ".py",
   "mimetype": "text/x-python",
   "name": "python",
   "nbconvert_exporter": "python",
   "pygments_lexer": "ipython3",
   "version": "3.8.5"
  }
 },
 "nbformat": 4,
 "nbformat_minor": 4
}
