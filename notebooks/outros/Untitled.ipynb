{
 "cells": [
  {
   "cell_type": "code",
   "execution_count": null,
   "id": "de79ebcb-e937-487d-be5c-bd220e8ca516",
   "metadata": {
    "execution": {
     "iopub.execute_input": "2021-12-06T17:13:45.279277Z",
     "iopub.status.busy": "2021-12-06T17:13:45.279277Z",
     "iopub.status.idle": "2021-12-06T17:13:45.319955Z",
     "shell.execute_reply": "2021-12-06T17:13:45.319955Z",
     "shell.execute_reply.started": "2021-12-06T17:13:45.279277Z"
    },
    "tags": []
   },
   "outputs": [],
   "source": [
    "## set covid19_datasciente as path for python find bulletin package\n",
    "import sys\n",
    "from pathlib import Path\n",
    "from os import getcwd, remove, chdir\n",
    "from os.path import join, basename\n",
    "sys.path.append(str(Path(getcwd()).parent.parent))\n",
    "current_dir = getcwd()\n",
    "print(current_dir)"
   ]
  },
  {
   "cell_type": "code",
   "execution_count": null,
   "id": "92c2ad21-f446-4c53-9ae6-8cde3170ab13",
   "metadata": {
    "execution": {
     "iopub.execute_input": "2021-12-06T17:13:45.319955Z",
     "iopub.status.busy": "2021-12-06T17:13:45.319955Z",
     "iopub.status.idle": "2021-12-06T17:13:45.969493Z",
     "shell.execute_reply": "2021-12-06T17:13:45.968489Z",
     "shell.execute_reply.started": "2021-12-06T17:13:45.319955Z"
    },
    "tags": []
   },
   "outputs": [],
   "source": [
    "import numpy as np\n",
    "import pandas as pd\n",
    "\n",
    "pd.set_option('display.max_columns', None)"
   ]
  },
  {
   "cell_type": "code",
   "execution_count": null,
   "id": "d062cabf-ffaa-4018-bd04-f08531632e16",
   "metadata": {
    "execution": {
     "iopub.execute_input": "2021-12-06T17:13:45.970495Z",
     "iopub.status.busy": "2021-12-06T17:13:45.970495Z",
     "iopub.status.idle": "2021-12-06T17:13:47.550553Z",
     "shell.execute_reply": "2021-12-06T17:13:47.549552Z",
     "shell.execute_reply.started": "2021-12-06T17:13:45.970495Z"
    },
    "tags": []
   },
   "outputs": [],
   "source": [
    "from bulletin.systems import Notifica"
   ]
  },
  {
   "cell_type": "code",
   "execution_count": null,
   "id": "d22a7ef3-6ab4-4dce-b4fd-603187d2ba4b",
   "metadata": {
    "execution": {
     "iopub.execute_input": "2021-12-06T17:13:47.552548Z",
     "iopub.status.busy": "2021-12-06T17:13:47.551547Z",
     "iopub.status.idle": "2021-12-06T17:15:20.112724Z",
     "shell.execute_reply": "2021-12-06T17:15:20.110730Z",
     "shell.execute_reply.started": "2021-12-06T17:13:47.552548Z"
    }
   },
   "outputs": [],
   "source": [
    "from os.path import join\n",
    "gal_path = join('C:\\\\', 'SESA', 'covid19datascience-dev', 'bulletin', 'database', 'gal')\n",
    "gal_2020 = pd.read_pickle(join(gal_path, 'banco_gal_2020-bz2.pkl'), compression='bz2')[['requisicao','cod_exame_requisicao','data_requisicao', 'paciente', 'cns', 'cpf', 'nome_mae', 'sexo', 'idade', 'ibge', 'municipio', 'regional', 'exame', 'metodo', 'resultado', 'virus', 'data_liberacao', 'laboratorio_executor', 'status', 'classificacao']]\n",
    "gal_2021 = pd.read_pickle(join(gal_path, 'banco_gal_2021-bz2.pkl'), compression='bz2')[['requisicao','cod_exame_requisicao','data_requisicao', 'paciente', 'cns', 'cpf', 'nome_mae', 'sexo', 'idade', 'ibge', 'municipio', 'regional', 'exame', 'metodo', 'resultado', 'virus', 'data_liberacao', 'laboratorio_executor', 'status', 'classificacao']]\n",
    "gal_2021_complemento = pd.read_csv(join(gal_path, 'consulta-gal-complemento-2021.csv'), sep = ';', usecols=['requisicao','cod_exame_requisicao','data_requisicao', 'paciente', 'cns', 'cpf', 'nome_mae', 'sexo', 'idade', 'ibge', 'municipio', 'regional', 'exame', 'metodo', 'resultado', 'virus', 'data_liberacao', 'laboratorio_executor', 'status', 'classificacao'],low_memory=False)\n",
    "gal = pd.concat([gal_2020,gal_2021, gal_2021_complemento])"
   ]
  },
  {
   "cell_type": "code",
   "execution_count": null,
   "id": "fbfc6958",
   "metadata": {},
   "outputs": [],
   "source": [
    "gal.groupby('classificacao')[['sexo']].count()"
   ]
  },
  {
   "cell_type": "code",
   "execution_count": null,
   "id": "aa0a71bf",
   "metadata": {},
   "outputs": [],
   "source": [
    "nao_duplicados = gal.loc[~(gal.duplicated('requisicao',keep=False))].sort_values('requisicao')\n",
    "duplicados = gal.loc[(gal.duplicated('requisicao',keep=False))].sort_values('requisicao')"
   ]
  },
  {
   "cell_type": "code",
   "execution_count": null,
   "id": "0047c6ff",
   "metadata": {},
   "outputs": [],
   "source": [
    "requisicoes = duplicados['requisicao'].unique()\n",
    "len(requisicoes)"
   ]
  },
  {
   "cell_type": "code",
   "execution_count": null,
   "id": "c0c48067",
   "metadata": {},
   "outputs": [],
   "source": [
    "conf = duplicados.loc[duplicados['classificacao']=='Confirmado']\n",
    "conf.loc[conf.duplicated('requisicao',keep='last')]"
   ]
  },
  {
   "cell_type": "code",
   "execution_count": null,
   "id": "7e93096c",
   "metadata": {},
   "outputs": [],
   "source": []
  }
 ],
 "metadata": {
  "kernelspec": {
   "display_name": "Python 3 (ipykernel)",
   "language": "python",
   "name": "python3"
  },
  "language_info": {
   "codemirror_mode": {
    "name": "ipython",
    "version": 3
   },
   "file_extension": ".py",
   "mimetype": "text/x-python",
   "name": "python",
   "nbconvert_exporter": "python",
   "pygments_lexer": "ipython3",
   "version": "3.8.11"
  }
 },
 "nbformat": 4,
 "nbformat_minor": 5
}
