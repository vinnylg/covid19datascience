{
 "cells": [
  {
   "cell_type": "code",
   "execution_count": null,
   "metadata": {},
   "outputs": [],
   "source": [
    "## set covid19_datasciente as path for python find bulletin package\n",
    "import sys\n",
    "from pathlib import Path\n",
    "from os import getcwd\n",
    "sys.path.append(str(Path(getcwd()).parent)) ## ../../covid19datascience* <- set parent level here"
   ]
  },
  {
   "cell_type": "code",
   "execution_count": null,
   "metadata": {},
   "outputs": [],
   "source": [
    "import pandas as pd\n",
    "from epiweeks import Week\n",
    "from datetime import timedelta, date\n",
    "from os.path import join\n",
    "\n",
    "from bulletin import default_input, default_output, root, hoje, data_comeco_pandemia, tables_path\n",
    "from bulletin.systems.sivep import Sivep\n",
    "from glob import glob"
   ]
  },
  {
   "cell_type": "code",
   "execution_count": null,
   "metadata": {},
   "outputs": [],
   "source": [
    "def macro_sort(column):\n",
    "    \"\"\"Sort function\"\"\"\n",
    "    macros = ['Leste', 'Oeste', 'Noroeste', 'Norte', 'Fora']\n",
    "    correspondence = {macro: order for order, macro in enumerate(macros)}\n",
    "    return column.map(correspondence)\n"
   ]
  },
  {
   "cell_type": "code",
   "execution_count": null,
   "metadata": {},
   "outputs": [],
   "source": [
    "tables = dict([(Path(x).stem,pd.read_csv(join(tables_path,x))) for x in glob(join(tables_path,\"*.csv\"))])"
   ]
  },
  {
   "cell_type": "code",
   "execution_count": null,
   "metadata": {},
   "outputs": [],
   "source": [
    "sivep = Sivep()\n",
    "sivep.load('sraghospitalizado')\n",
    "# sivep.read_all_database_files()\n",
    "# sivep.save(replace=True)\n",
    "sivep.df"
   ]
  },
  {
   "cell_type": "code",
   "execution_count": null,
   "metadata": {},
   "outputs": [],
   "source": [
    "sivep.normalize()\n",
    "sivep.dtypes"
   ]
  },
  {
   "cell_type": "code",
   "execution_count": null,
   "metadata": {},
   "outputs": [],
   "source": [
    "sivep.df['DT_INTERNA'] = pd.to_datetime(sivep.df['DT_INTERNA'], errors='coerce', format='%Y-%m-%d')"
   ]
  },
  {
   "cell_type": "code",
   "execution_count": null,
   "metadata": {},
   "outputs": [],
   "source": [
    "sivep.df['FATOR_RISC'] = sivep.df['FATOR_RISC'].astype(int)"
   ]
  },
  {
   "cell_type": "code",
   "execution_count": null,
   "metadata": {},
   "outputs": [],
   "source": [
    "sivep.df['VACINA_COV'] = sivep.df['VACINA_COV'].fillna(2).astype(int)\n"
   ]
  },
  {
   "cell_type": "code",
   "execution_count": null,
   "metadata": {},
   "outputs": [],
   "source": [
    "sivep.df['TP_IDADE'] = sivep.df['TP_IDADE'].astype(int)\n",
    "sivep.df['NU_IDADE_N'] = sivep.df['NU_IDADE_N'].astype(int)"
   ]
  },
  {
   "cell_type": "code",
   "execution_count": null,
   "metadata": {},
   "outputs": [],
   "source": [
    "sivep.df['SUPORT_VEN'] = sivep.df['SUPORT_VEN'].fillna(9).astype(int)"
   ]
  },
  {
   "cell_type": "code",
   "execution_count": null,
   "metadata": {},
   "outputs": [],
   "source": [
    "relacao01 = sivep.df.loc[\n",
    "    (sivep.df['DT_INTERNA'].dt.year == 2021) & \n",
    "    (sivep.df['SG_UF_INTE']=='PR') & \n",
    "    (sivep.df['CLASSI_FIN']==5) & \n",
    "    (sivep.df['FATOR_RISC']==2) & \n",
    "    (sivep.df['TP_IDADE']==3) & \n",
    "    (sivep.df['NU_IDADE_N']>=18) & \n",
    "    (sivep.df['NU_IDADE_N']<=43) & \n",
    "    (sivep.df['HOSPITAL']==1) & \n",
    "    (sivep.df['UTI']==1)  & \n",
    "    (sivep.df['VACINA_COV']==2) & \n",
    "    (sivep.df['EVOLUCAO']==2)\n",
    "]\n",
    "print(len(relacao01))"
   ]
  },
  {
   "cell_type": "code",
   "execution_count": null,
   "metadata": {},
   "outputs": [],
   "source": [
    "relacao02 = sivep.df.loc[\n",
    "    (sivep.df['DT_INTERNA'].dt.year == 2021) & \n",
    "    (sivep.df['SG_UF_INTE']=='PR') & \n",
    "    (sivep.df['CLASSI_FIN']==5) & \n",
    "    (sivep.df['FATOR_RISC']==2) & \n",
    "    (sivep.df['TP_IDADE']==3) & \n",
    "    (sivep.df['NU_IDADE_N']>=75) & \n",
    "    (sivep.df['HOSPITAL']==1) & \n",
    "    (sivep.df['UTI']==2)  & \n",
    "    (sivep.df['SUPORT_VEN'].isin([3,2])) & \n",
    "    (sivep.df['VACINA_COV']==2) & \n",
    "    (sivep.df['EVOLUCAO']==1)\n",
    "]\n",
    "print(len(relacao02))"
   ]
  },
  {
   "cell_type": "code",
   "execution_count": null,
   "metadata": {},
   "outputs": [],
   "source": [
    "relacao01.to_pickle('sivep_2021_g1.pkl')"
   ]
  },
  {
   "cell_type": "code",
   "execution_count": null,
   "metadata": {},
   "outputs": [],
   "source": [
    "relacao02.to_pickle('sivep_2021_g2.pkl')"
   ]
  },
  {
   "cell_type": "code",
   "execution_count": null,
   "metadata": {},
   "outputs": [],
   "source": [
    "raise\n",
    "DT_INTERNA = pd.to_datetime(sivep.df['DT_INTERNA'], errors='coerce').copy()\n",
    "DT_INTERNA"
   ]
  },
  {
   "cell_type": "code",
   "execution_count": null,
   "metadata": {},
   "outputs": [],
   "source": [
    "sivep.to_notifica()\n",
    "sivep.df"
   ]
  },
  {
   "cell_type": "code",
   "execution_count": null,
   "metadata": {},
   "outputs": [],
   "source": [
    "sivep.df = sivep.df.join(tables['municipios'].set_index('ibge'), on='ibge_residencia')"
   ]
  },
  {
   "cell_type": "code",
   "execution_count": null,
   "metadata": {},
   "outputs": [],
   "source": [
    "sivep.df['data_entrada'] = DT_INTERNA"
   ]
  },
  {
   "cell_type": "code",
   "execution_count": null,
   "metadata": {},
   "outputs": [],
   "source": [
    "sivep_confirmados = sivep.df.loc[sivep.df['classificacao_final']==2]"
   ]
  },
  {
   "cell_type": "code",
   "execution_count": null,
   "metadata": {},
   "outputs": [],
   "source": [
    "sivep.df['ano_internamento'] = sivep.df.loc[sivep.df['data_entrada'].notna(),'data_entrada'].apply(lambda x: x.year)\n",
    "sivep.df['mes_internamento'] = sivep.df.loc[sivep.df['data_entrada'].notna(),'data_entrada'].apply(lambda x: x.month)\n",
    "sivep.df['se_internamento'] = sivep.df.loc[sivep.df['data_entrada'].notna(),'data_entrada'].apply(lambda x: Week.fromdate(x).week)\n",
    "sivep.df['dia_internamento'] = sivep.df.loc[sivep.df['data_entrada'].notna(),'data_entrada'].apply(lambda x: x.day)"
   ]
  },
  {
   "cell_type": "code",
   "execution_count": null,
   "metadata": {},
   "outputs": [],
   "source": [
    "localizacao = ['macro','rs','regional','ibge_residencia','municipio']\n",
    "periodo = ['ano_internamento','mes_internamento','se_internamento','dia_internamento']"
   ]
  },
  {
   "cell_type": "code",
   "execution_count": null,
   "metadata": {},
   "outputs": [],
   "source": [
    "sivep_confirmados"
   ]
  },
  {
   "cell_type": "code",
   "execution_count": null,
   "metadata": {},
   "outputs": [],
   "source": [
    "sivep_mun_periodo = sivep_confirmados.groupby(localizacao+periodo)[['sexo']].count().unstack(periodo).rename(columns={'sexo':'internamento'}).sort_index(axis=1).fillna(0).astype(int)\n",
    "sivep_mun_periodo.columns.names = ['qtde','ano','mes','se','dia']\n",
    "sivep_mun_periodo =  sivep_mun_periodo.sort_index(level=0, axis=0, key=macro_sort)"
   ]
  },
  {
   "cell_type": "code",
   "execution_count": null,
   "metadata": {},
   "outputs": [],
   "source": [
    "sivep_mun_periodo.to_excel('aaaa.xlsx')"
   ]
  },
  {
   "cell_type": "code",
   "execution_count": null,
   "metadata": {},
   "outputs": [],
   "source": []
  }
 ],
 "metadata": {
  "interpreter": {
   "hash": "1cdc22e96f16e7a709941e5164353478df3c5a2dca8a048b5ddcd85bd66dd558"
  },
  "kernelspec": {
   "display_name": "Python 3 (ipykernel)",
   "language": "python",
   "name": "python3"
  },
  "language_info": {
   "codemirror_mode": {
    "name": "ipython",
    "version": 3
   },
   "file_extension": ".py",
   "mimetype": "text/x-python",
   "name": "python",
   "nbconvert_exporter": "python",
   "pygments_lexer": "ipython3",
   "version": "3.8.11"
  }
 },
 "nbformat": 4,
 "nbformat_minor": 4
}
