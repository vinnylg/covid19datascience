{
 "cells": [
  {
   "cell_type": "code",
   "execution_count": null,
   "metadata": {},
   "outputs": [],
   "source": [
    "import sys\r\n",
    "import itertools\r\n",
    "from pathlib import Path\r\n",
    "from os import getcwd\r\n",
    "sys.path.append(str(Path(getcwd()).parent))\r\n",
    "from os.path import join, basename\r\n",
    "\r\n",
    "import numpy as np\r\n",
    "import pandas as pd\r\n",
    "\r\n",
    "pd.set_option('display.max_columns', None)\r\n",
    "pd.set_option('display.max_rows', 1000)\r\n",
    "\r\n",
    "from bulletin import default_input, default_output, hoje\r\n",
    "from bulletin.systems import Notifica, CasosConfirmados\r\n",
    "from bulletin.utils import utils, normalize\r\n",
    "from bulletin.utils.static import Municipios\r\n",
    "from bulletin.utils.xls_ import fit_cols\r\n",
    "\r\n",
    "import random\r\n",
    "import gc\r\n",
    "from tqdm import tqdm"
   ]
  },
  {
   "cell_type": "code",
   "execution_count": null,
   "metadata": {},
   "outputs": [],
   "source": [
    "notifica = Notifica('notifica')\r\n",
    "notifica.load(compress=False)\r\n",
    "# notifica.df"
   ]
  },
  {
   "cell_type": "code",
   "execution_count": null,
   "metadata": {},
   "outputs": [],
   "source": [
    "cc = CasosConfirmados()\r\n",
    "cc.load(f\"cc_{hoje.strftime('%d_%m_%Y')}\", compress=True)\r\n",
    "# cc.df"
   ]
  },
  {
   "cell_type": "code",
   "execution_count": null,
   "metadata": {},
   "outputs": [],
   "source": [
    "observed_cols = ['classificacao_final','evolucao','status_notificacao','excluir_ficha']"
   ]
  },
  {
   "cell_type": "code",
   "execution_count": null,
   "metadata": {},
   "outputs": [],
   "source": [
    "# possiveis_alterados = cc.df.loc[cc.df['id_notifica'].isin(notifica.df['id'])]\r\n",
    "possiveis_alterados = possiveis_alterados.drop_duplicates('id_notifica')\r\n",
    "possiveis_alterados"
   ]
  },
  {
   "cell_type": "code",
   "execution_count": null,
   "metadata": {},
   "outputs": [],
   "source": [
    "possiveis_atualizacoes = notifica.df.loc[notifica.df['id'].isin(cc.df['id_notifica'])]\r\n",
    "possiveis_atualizacoes"
   ]
  },
  {
   "cell_type": "code",
   "execution_count": null,
   "metadata": {},
   "outputs": [],
   "source": [
    "mergedf = pd.merge(possiveis_alterados[observed_cols+['id_notifica']].rename(columns={'id_notifica':'id'}),possiveis_atualizacoes[observed_cols+['id']],on='id',how='left',suffixes=['_old','_new'])\r\n",
    "mergedf['updated'] = False\r\n",
    "mergedf['updated_cols'] = ''\r\n",
    "mergedf\r\n"
   ]
  },
  {
   "cell_type": "code",
   "execution_count": null,
   "metadata": {},
   "outputs": [],
   "source": [
    "for col in observed_cols:\r\n",
    "    print(f\"{col} inferno\")\r\n",
    "    old_col = f'{col}_old'\r\n",
    "    new_col = f'{col}_new'\r\n",
    "\r\n",
    "    # criterios = ( ~(mergedf[old_col].isna() & mergedf[new_col].isna()) & (mergedf[old_col]!=mergedf[new_col]) )\r\n",
    "    criterios = ( (mergedf[old_col] != mergedf[new_col]) )\r\n",
    "\r\n",
    "    mergedf.loc[ criterios, 'updated' ] = True\r\n",
    "    # mergedf.loc[ criterios, 'updated_cols' ] = mergedf.loc[ criterios,'updated_cols'].apply( lambda l: utils.strlist(l,col) )\r\n",
    "\r\n",
    "    display(mergedf.loc[criterios,[old_col,new_col]])\r\n",
    "    display(mergedf.loc[criterios,[old_col,new_col,'id']].groupby([old_col,new_col])[['id']].count())\r\n"
   ]
  },
  {
   "cell_type": "code",
   "execution_count": null,
   "metadata": {},
   "outputs": [],
   "source": [
    "raise"
   ]
  },
  {
   "cell_type": "code",
   "execution_count": null,
   "metadata": {},
   "outputs": [],
   "source": []
  },
  {
   "cell_type": "code",
   "execution_count": null,
   "metadata": {},
   "outputs": [],
   "source": [
    "for col in observed_cols:\r\n",
    "    old_col = f'{col}_old'\r\n",
    "    new_col = f'{col}_new'\r\n",
    "\r\n",
    "    criterios = ( ~(mergedf[old_col].isna() & mergedf[new_col].isna()) & (mergedf[old_col]!=mergedf[new_col]) )\r\n",
    "    # criterios = ( (mergedf[old_col]!=mergedf[new_col]) )\r\n",
    "\r\n",
    "    mergedf.loc[ criterios, 'updated_cols' ] = mergedf.loc[ criterios,'updated_cols'].apply( lambda l: utils.strlist(l,col) )\r\n",
    "    mergedf.loc[ criterios, 'updated' ] = True\r\n",
    "\r\n",
    "\r\n",
    "notifica.df = notifica.df.set_index('id')\r\n",
    "notifica.df = notifica.df.append(novas_notificacoes)\r\n",
    "\r\n",
    "mergedf = mergedf.loc[mergedf['updated']==True]\r\n",
    "\r\n",
    "updated_cols = mergedf[['updated_cols','id']].groupby('updated_cols').count().sort_values('id',ascending=False).reset_index()\r\n",
    "updated_cols.iloc[0:-1,0] += ','\r\n",
    "updated_cols = list(set(updated_cols.sum()[0].split(',')))\r\n",
    "\r\n",
    "for col in updated_cols:\r\n",
    "    atualizacoes = possiveis_atualizacoes.loc[\r\n",
    "        (\r\n",
    "            possiveis_atualizacoes['id'].isin(mergedf.loc[mergedf['updated_cols'].str.contains(col),'id'])\r\n",
    "        ),\r\n",
    "        ['id',col]\r\n",
    "    ].copy().set_index('id')\r\n",
    "\r\n",
    "    print(f\"atualizacoes {col}: {len(atualizacoes)}\")\r\n",
    "    notifica.df.loc[atualizacoes.index,[col]].update(atualizacoes)\r\n",
    "\r\n",
    "notifica.df.reset_index(inplace=True)\r\n",
    "\r\n",
    "mergedf.to_pickle(join(notifica.database_dir,f\"updates_{hoje.strftime('%d_%m_%Y_%H%M')}.pkl\"),'bz2')\r\n",
    "return novas_notificacoes, mergedf\r\n"
   ]
  }
 ],
 "metadata": {
  "interpreter": {
   "hash": "1cdc22e96f16e7a709941e5164353478df3c5a2dca8a048b5ddcd85bd66dd558"
  },
  "kernelspec": {
   "display_name": "Python 3.8.11 64-bit ('base': conda)",
   "name": "python3"
  },
  "language_info": {
   "codemirror_mode": {
    "name": "ipython",
    "version": 3
   },
   "file_extension": ".py",
   "mimetype": "text/x-python",
   "name": "python",
   "nbconvert_exporter": "python",
   "pygments_lexer": "ipython3",
   "version": "3.8.11"
  }
 },
 "nbformat": 4,
 "nbformat_minor": 2
}
