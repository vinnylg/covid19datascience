{
 "cells": [
  {
   "cell_type": "code",
   "execution_count": null,
   "id": "0a820ecd",
   "metadata": {},
   "outputs": [],
   "source": [
    "## set covid19_datasciente as path for python find bulletin package\n",
    "import sys\n",
    "from pathlib import Path\n",
    "from os import getcwd, remove\n",
    "from os.path import join, basename\n",
    "\n",
    "sys.path.append(str(Path(getcwd()).parent))"
   ]
  },
  {
   "cell_type": "code",
   "execution_count": null,
   "id": "0f96a89b",
   "metadata": {},
   "outputs": [],
   "source": [
    "import pandas as pd\n",
    "pd.set_option('display.max_columns', None)\n",
    "pd.set_option('display.max_rows', 150)\n",
    "\n",
    "\n",
    "import numpy as np\n",
    "from random import randint\n",
    "from math import floor, ceil\n",
    "import codecs"
   ]
  },
  {
   "cell_type": "code",
   "execution_count": null,
   "id": "df94d1d1",
   "metadata": {},
   "outputs": [],
   "source": [
    "from bulletin import root, default_input, default_output, agora, hoje, ontem, anteontem, dias_apos, dias_apos_label\n",
    "from bulletin.services.metabase import Metabase\n",
    "from bulletin.systems.casos_confirmados import CasosConfirmados\n",
    "from bulletin.systems.notifica import Notifica\n",
    "from bulletin.utils.static import Municipios\n",
    "from bulletin.utils import utils, static\n",
    "from bulletin.utils.xls_ import fit_cols\n",
    "from bulletin.utils.normalize import trim_overspace\n",
    "\n",
    "from bulletin.utils.normalize import normalize_text#normalize_hash, normalize_labels, , date_hash, normalize_number"
   ]
  },
  {
   "cell_type": "code",
   "execution_count": null,
   "id": "00b6c60c",
   "metadata": {},
   "outputs": [],
   "source": [
    "from datetime import datetime, date, timedelta\n",
    "\n",
    "today = pd.to_datetime(date.today())\n",
    "ontem = today - timedelta(1)\n",
    "anteontem = ontem - timedelta(1)\n",
    "data_retroativos = ontem - timedelta(31)"
   ]
  },
  {
   "cell_type": "code",
   "execution_count": null,
   "id": "3d18d08e",
   "metadata": {},
   "outputs": [],
   "source": [
    "municipios = Municipios()\n",
    "municipios['mun_resid'] = municipios['municipio']\n",
    "municipios.loc[municipios['uf']!='PR','mun_resid'] = municipios.loc[municipios['uf']!='PR','municipio'] + '/' + municipios['uf']"
   ]
  },
  {
   "cell_type": "code",
   "execution_count": null,
   "id": "fa45084b",
   "metadata": {},
   "outputs": [],
   "source": [
    "cc = CasosConfirmados()\n",
    "cc.load(f\"cc_{hoje.strftime('%d_%m_%Y')}\", compress=True)\n",
    "cc.df"
   ]
  },
  {
   "cell_type": "code",
   "execution_count": null,
   "id": "146fa5f4",
   "metadata": {},
   "outputs": [],
   "source": [
    "cc.df = cc.df.loc[cc.df['uf_residencia']=='PR']"
   ]
  },
  {
   "cell_type": "code",
   "execution_count": null,
   "id": "8bfe11d4",
   "metadata": {},
   "outputs": [],
   "source": [
    "casos = cc.df[['id_notifica','ibge_residencia','data_diagnostico']].join(municipios.set_index('ibge')[['municipio','rs','macro','populacao']],on='ibge_residencia')\n",
    "casos['ano_caso'] = casos['data_diagnostico'].dt.year\n",
    "del casos['data_diagnostico']\n",
    "\n",
    "gcasos = casos.groupby(['ibge_residencia','municipio','rs','macro','populacao','ano_caso']).count().unstack('ano_caso').droplevel(0,1)\n",
    "gcasos.columns.name = ''\n",
    "gcasos.columns = pd.MultiIndex.from_product([['casos'],gcasos.columns])\n",
    "gcasos"
   ]
  },
  {
   "cell_type": "code",
   "execution_count": null,
   "id": "c8a16583",
   "metadata": {},
   "outputs": [],
   "source": [
    "obitos = cc.df.loc[cc.df['evolucao']==2,['id_notifica','ibge_residencia','data_cura_obito']].join(municipios.set_index('ibge')[['municipio','rs','macro','populacao']],on='ibge_residencia')\n",
    "obitos['ano_obito'] = obitos['data_cura_obito'].dt.year\n",
    "\n",
    "del obitos['data_cura_obito']\n",
    "\n",
    "gobitos = obitos.groupby(['ibge_residencia','municipio','rs','macro','populacao','ano_obito']).count().unstack('ano_obito').droplevel(0,1)\n",
    "gobitos.columns.name = ''\n",
    "gobitos.columns = pd.MultiIndex.from_product([['obitos'],gobitos.columns])\n",
    "gobitos"
   ]
  },
  {
   "cell_type": "code",
   "execution_count": null,
   "id": "32bf36c1",
   "metadata": {},
   "outputs": [],
   "source": [
    "casos_obitos = gcasos.join(gobitos).fillna(0).astype(int)\n",
    "casos_obitos"
   ]
  },
  {
   "cell_type": "code",
   "execution_count": null,
   "id": "a19addfb",
   "metadata": {},
   "outputs": [],
   "source": [
    "coeficientes = casos_obitos / casos_obitos.reset_index('populacao')[['populacao']].values * 100000\n",
    "coeficientes = coeficientes.rename(columns={'casos':'coef. inc','obitos':'coef. mort'})\n",
    "coeficientes"
   ]
  },
  {
   "cell_type": "code",
   "execution_count": null,
   "id": "dcf7607b",
   "metadata": {},
   "outputs": [],
   "source": [
    "tx_let = casos_obitos['obitos'] / casos_obitos['casos']\n",
    "tx_let.columns = pd.MultiIndex.from_product([['tx. let'],tx_let.columns])\n",
    "tx_let"
   ]
  },
  {
   "cell_type": "code",
   "execution_count": null,
   "id": "ce4019c5",
   "metadata": {},
   "outputs": [],
   "source": [
    "alll = casos_obitos.join(coeficientes).join(tx_let)\n",
    "alll"
   ]
  },
  {
   "cell_type": "code",
   "execution_count": null,
   "id": "f0738945",
   "metadata": {},
   "outputs": [],
   "source": [
    "alll = alll.reorder_levels([1,0],axis=1).sort_index(axis=1)"
   ]
  },
  {
   "cell_type": "code",
   "execution_count": null,
   "id": "d76acc19",
   "metadata": {},
   "outputs": [],
   "source": [
    "alll = alll.sort_values(['rs', 'municipio'])\n",
    "alll.to_excel(join(default_output,'coeficientes_municipios.xlsx'))"
   ]
  },
  {
   "cell_type": "code",
   "execution_count": null,
   "id": "98b37be1",
   "metadata": {},
   "outputs": [],
   "source": [
    "## POR RS"
   ]
  },
  {
   "cell_type": "code",
   "execution_count": null,
   "id": "42a5b4dc",
   "metadata": {},
   "outputs": [],
   "source": [
    "casos_obitos_rs = casos_obitos.groupby(['rs', 'populacao']).sum().reset_index('populacao')\n",
    "casos_obitos_rs = casos_obitos_rs.groupby(['rs']).sum()\n",
    "\n",
    "casos_obitos_rs = casos_obitos_rs.reset_index('rs')\n",
    "casos_obitos_rs = casos_obitos_rs.set_index(['rs', 'populacao'])\n",
    "casos_obitos_rs"
   ]
  },
  {
   "cell_type": "code",
   "execution_count": null,
   "id": "de383646",
   "metadata": {},
   "outputs": [],
   "source": [
    "coeficientes = casos_obitos_rs / casos_obitos_rs.reset_index('populacao')[['populacao']].values * 100000\n",
    "coeficientes = coeficientes.rename(columns={'casos':'coef. inc','obitos':'coef. mort'})\n",
    "\n",
    "\n",
    "tx_let = casos_obitos_rs['obitos'] / casos_obitos_rs['casos']\n",
    "tx_let.columns = pd.MultiIndex.from_product([['tx. let'],tx_let.columns])"
   ]
  },
  {
   "cell_type": "code",
   "execution_count": null,
   "id": "f208c078",
   "metadata": {},
   "outputs": [],
   "source": [
    "alll = casos_obitos_rs.join(coeficientes).join(tx_let)\n",
    "alll = alll.reorder_levels([1,0],axis=1).sort_index(axis=1)\n",
    "alll.to_excel(join(default_output,'coeficientes_rs.xlsx'))"
   ]
  },
  {
   "cell_type": "code",
   "execution_count": null,
   "id": "774a8c83",
   "metadata": {},
   "outputs": [],
   "source": [
    "## POR MACRO"
   ]
  },
  {
   "cell_type": "code",
   "execution_count": null,
   "id": "e982ff38",
   "metadata": {},
   "outputs": [],
   "source": [
    "casos_obitos_macro = casos_obitos.groupby(['macro', 'populacao']).sum().reset_index('populacao')\n",
    "casos_obitos_macro = casos_obitos_macro.groupby(['macro']).sum()\n",
    "\n",
    "casos_obitos_macro = casos_obitos_macro.reset_index('macro')\n",
    "casos_obitos_macro = casos_obitos_macro.set_index(['macro', 'populacao'])\n",
    "casos_obitos_macro"
   ]
  },
  {
   "cell_type": "code",
   "execution_count": null,
   "id": "ed762de1",
   "metadata": {},
   "outputs": [],
   "source": [
    "coeficientes = casos_obitos_macro / casos_obitos_macro.reset_index('populacao')[['populacao']].values * 100000\n",
    "coeficientes = coeficientes.rename(columns={'casos':'coef. inc','obitos':'coef. mort'})\n",
    "\n",
    "\n",
    "tx_let = casos_obitos_macro['obitos'] / casos_obitos_macro['casos']\n",
    "tx_let.columns = pd.MultiIndex.from_product([['tx. let'],tx_let.columns])"
   ]
  },
  {
   "cell_type": "code",
   "execution_count": null,
   "id": "179e2775",
   "metadata": {},
   "outputs": [],
   "source": [
    "alll = casos_obitos_macro.join(coeficientes).join(tx_let)\n",
    "alll = alll.reorder_levels([1,0],axis=1).sort_index(axis=1)\n",
    "alll.to_excel(join(default_output,'coeficientes_macro.xlsx'))"
   ]
  }
 ],
 "metadata": {
  "kernelspec": {
   "display_name": "Python 3 (ipykernel)",
   "language": "python",
   "name": "python3"
  },
  "language_info": {
   "codemirror_mode": {
    "name": "ipython",
    "version": 3
   },
   "file_extension": ".py",
   "mimetype": "text/x-python",
   "name": "python",
   "nbconvert_exporter": "python",
   "pygments_lexer": "ipython3",
   "version": "3.8.11"
  }
 },
 "nbformat": 4,
 "nbformat_minor": 5
}
