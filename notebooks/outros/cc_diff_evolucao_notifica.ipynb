{
 "cells": [
  {
   "cell_type": "code",
   "execution_count": null,
   "metadata": {
    "execution": {
     "iopub.execute_input": "2021-11-12T11:41:52.173087Z",
     "iopub.status.busy": "2021-11-12T11:41:52.172122Z",
     "iopub.status.idle": "2021-11-12T11:41:52.200074Z",
     "shell.execute_reply": "2021-11-12T11:41:52.197070Z",
     "shell.execute_reply.started": "2021-11-12T11:41:52.173087Z"
    }
   },
   "outputs": [],
   "source": [
    "## set covid19_datasciente as path for python find bulletin package\n",
    "import sys\n",
    "from pathlib import Path\n",
    "from os import getcwd, remove, chdir\n",
    "from os.path import join, basename\n",
    "\n",
    "sys.path.append(str(Path(getcwd()).parent))\n",
    "current_dir = getcwd()\n",
    "print(current_dir)"
   ]
  },
  {
   "cell_type": "code",
   "execution_count": null,
   "metadata": {
    "execution": {
     "iopub.execute_input": "2021-11-12T11:41:52.202072Z",
     "iopub.status.busy": "2021-11-12T11:41:52.202072Z",
     "iopub.status.idle": "2021-11-12T11:41:52.741104Z",
     "shell.execute_reply": "2021-11-12T11:41:52.740104Z",
     "shell.execute_reply.started": "2021-11-12T11:41:52.202072Z"
    }
   },
   "outputs": [],
   "source": [
    "import pandas as pd\n",
    "from random import randint\n",
    "pd.set_option('display.max_columns', None)\n",
    "pd.set_option('display.max_rows', 150)"
   ]
  },
  {
   "cell_type": "code",
   "execution_count": null,
   "metadata": {
    "execution": {
     "iopub.execute_input": "2021-11-12T11:41:52.743103Z",
     "iopub.status.busy": "2021-11-12T11:41:52.743103Z",
     "iopub.status.idle": "2021-11-12T11:41:54.145926Z",
     "shell.execute_reply": "2021-11-12T11:41:54.145926Z",
     "shell.execute_reply.started": "2021-11-12T11:41:52.743103Z"
    }
   },
   "outputs": [],
   "source": [
    "from bulletin import root, default_input, default_output, agora, hoje, ontem, anteontem, dias_apos, dias_apos_label\n",
    "from bulletin.services.metabase import Metabase\n",
    "from bulletin.systems.casos_confirmados import CasosConfirmados\n",
    "from bulletin.systems.notifica import Notifica\n",
    "from bulletin.utils.static import Municipios\n",
    "from bulletin.utils import utils, static\n",
    "from bulletin.utils.xls_ import fit_cols\n",
    "from bulletin.utils.normalize import trim_overspace\n",
    "from bulletin.utils.normalize import normalize_text#normalize_hash, normalize_labels, , date_hash, normalize_number"
   ]
  },
  {
   "cell_type": "code",
   "execution_count": null,
   "metadata": {
    "execution": {
     "iopub.execute_input": "2021-11-12T11:41:54.145926Z",
     "iopub.status.busy": "2021-11-12T11:41:54.145926Z",
     "iopub.status.idle": "2021-11-12T11:41:54.156114Z",
     "shell.execute_reply": "2021-11-12T11:41:54.155107Z",
     "shell.execute_reply.started": "2021-11-12T11:41:54.145926Z"
    }
   },
   "outputs": [],
   "source": [
    "from datetime import datetime, date, timedelta\n",
    "\n",
    "exclusao_pathfile = join(root, 'database', 'casos_confirmados')\n",
    "\n",
    "today = pd.to_datetime(date.today())\n",
    "ontem = today - timedelta(1)\n",
    "anteontem = ontem - timedelta(1)\n",
    "data_retroativos = ontem - timedelta(31)"
   ]
  },
  {
   "cell_type": "code",
   "execution_count": null,
   "metadata": {
    "execution": {
     "iopub.execute_input": "2021-11-12T11:41:54.157725Z",
     "iopub.status.busy": "2021-11-12T11:41:54.156114Z",
     "iopub.status.idle": "2021-11-12T11:43:35.501384Z",
     "shell.execute_reply": "2021-11-12T11:43:35.500340Z",
     "shell.execute_reply.started": "2021-11-12T11:41:54.157725Z"
    }
   },
   "outputs": [],
   "source": [
    "\n",
    "utils.create_backup(first_name = \"backup_notifica_diario_\" , level=3)\n",
    "chdir(current_dir)"
   ]
  },
  {
   "cell_type": "code",
   "execution_count": null,
   "metadata": {
    "execution": {
     "iopub.execute_input": "2021-11-12T11:43:35.502413Z",
     "iopub.status.busy": "2021-11-12T11:43:35.502413Z",
     "iopub.status.idle": "2021-11-12T11:43:35.698530Z",
     "shell.execute_reply": "2021-11-12T11:43:35.697485Z",
     "shell.execute_reply.started": "2021-11-12T11:43:35.502413Z"
    }
   },
   "outputs": [],
   "source": [
    "from bulletin.utils.clean_up import clear_directories\n",
    "clear_directories()"
   ]
  },
  {
   "cell_type": "code",
   "execution_count": null,
   "metadata": {
    "execution": {
     "iopub.execute_input": "2021-11-12T11:43:35.699530Z",
     "iopub.status.busy": "2021-11-12T11:43:35.699530Z",
     "iopub.status.idle": "2021-11-12T11:43:35.737531Z",
     "shell.execute_reply": "2021-11-12T11:43:35.736531Z",
     "shell.execute_reply.started": "2021-11-12T11:43:35.699530Z"
    }
   },
   "outputs": [],
   "source": [
    "municipios = Municipios()\n",
    "municipios['mun_resid'] = municipios['municipio']\n",
    "municipios.loc[municipios['uf']!='PR','mun_resid'] = municipios.loc[municipios['uf']!='PR','municipio'] + '/' + municipios['uf']"
   ]
  },
  {
   "cell_type": "code",
   "execution_count": null,
   "metadata": {
    "execution": {
     "iopub.execute_input": "2021-11-12T11:43:35.738552Z",
     "iopub.status.busy": "2021-11-12T11:43:35.738552Z",
     "iopub.status.idle": "2021-11-12T12:00:12.363376Z",
     "shell.execute_reply": "2021-11-12T12:00:12.363376Z",
     "shell.execute_reply.started": "2021-11-12T11:43:35.738552Z"
    },
    "tags": []
   },
   "outputs": [],
   "source": [
    "update = False\n",
    "load_downloaded = False\n",
    "\n",
    "# Load \n",
    "notifica = Notifica()\n",
    "notifica.databases()\n",
    "notifica.load('notifica', compress=False)\n",
    "notifica.df = notifica.df.drop_duplicates('id', keep='last')\n",
    "    \n",
    "if update:\n",
    "    mb = Metabase()\n",
    "    days = 21\n",
    "    intervalo = f\"(data_notificacao >= NOW() - INTERVAL '{days} DAY') or (data_liberacao >= NOW() - INTERVAL '{days} DAY') or (updated_at >= NOW() - INTERVAL '{days} DAY') or (data_coleta >= NOW() - INTERVAL '{days} DAY') or (data_encerramento >= NOW() - INTERVAL '{days} DAY') or (data_cura_obito >= NOW() - INTERVAL '{days} DAY')\"\n",
    "    mb.generate_notifica_query('update_notifica', where=intervalo, replace=True)\n",
    "    update_notifica_parts = mb.download_notificacao('update_notifica', load=load_downloaded)\n",
    "    \n",
    "    update_notifica = Notifica()\n",
    "    update_notifica.read(update_notifica_parts)\n",
    "    update_notifica.normalize()\n",
    "    \n",
    "    \n",
    "    update_notifica.df = update_notifica.df.drop_duplicates('id', keep='last')\n",
    "    analise_dtd = update_notifica.analise_data_diagnostico() ## only in casos confirmados, pd.NaT nos demais\n",
    "\n",
    "#     novas_notificacoes, atualizacoes_fichas = notifica.update(update_notifica)#, observed_cols=['excluir_ficha','status_notificacao','classificacao_final','data_1o_sintomas','data_diagnostico','evolucao','data_cura_obito','data_encerramento'])\n",
    "    notifica.update(update_notifica)\n",
    "\n",
    "    notifica.fix_dtypes()\n",
    "    notifica.save(replace=True, compress=False)\n",
    "\n",
    "print(len(notifica.df))"
   ]
  },
  {
   "cell_type": "code",
   "execution_count": null,
   "metadata": {
    "execution": {
     "iopub.execute_input": "2021-11-12T12:00:12.363376Z",
     "iopub.status.busy": "2021-11-12T12:00:12.363376Z",
     "iopub.status.idle": "2021-11-12T12:00:12.379858Z",
     "shell.execute_reply": "2021-11-12T12:00:12.378970Z",
     "shell.execute_reply.started": "2021-11-12T12:00:12.363376Z"
    }
   },
   "outputs": [],
   "source": [
    "# # notifica.df = notifica.df.loc[((notifica.df['classificacao_final']==2)&(notifica.df['excluir_ficha']==2)&(notifica.df['status_notificacao'].isin([1,2])))]\n",
    "\n",
    "# notifica.df = pd.merge(notifica.df.rename(columns={'ibge_residencia':'ibge'}),municipios[['ibge','macro','rs','mun_resid','uf','municipio','regional']],on='ibge',how='left').rename(columns={'ibge':'ibge_residencia'})\n",
    "# notifica.df = pd.merge(notifica.df.rename(columns={'ibge_unidade_notifica':'ibge'}),municipios[['ibge','mun_resid']].rename(columns={'mun_resid':'mun_atend'}),on='ibge',how='left').rename(columns={'ibge':'ibge_unidade_notifica'})\n",
    "\n",
    "# # notifica.df['exame_nome'] = notifica.toggle_merge_table('exame',inplace=False)\n",
    "# notifica.toggle_merge_table('sexo')\n",
    "\n",
    "# notifica.df = notifica.df.loc[((notifica.df['sexo']!='N')&(notifica.df['mun_resid'].notna())&(notifica.df['data_diagnostico'].notna())&(notifica.df['paciente'].str.len() > 5))]\n",
    "# # notifica.df"
   ]
  },
  {
   "cell_type": "code",
   "execution_count": null,
   "metadata": {
    "execution": {
     "iopub.execute_input": "2021-11-12T12:00:12.381891Z",
     "iopub.status.busy": "2021-11-12T12:00:12.380890Z",
     "iopub.status.idle": "2021-11-12T12:00:43.034939Z",
     "shell.execute_reply": "2021-11-12T12:00:43.034939Z",
     "shell.execute_reply.started": "2021-11-12T12:00:12.380890Z"
    }
   },
   "outputs": [],
   "source": [
    "cc = CasosConfirmados()\n",
    "cc.load(f\"cc_{hoje.strftime('%d_%m_%Y')}\", compress=True)\n",
    "cc.df['excluir_ficha'] = 2 #EXCLUIR FICHA \"NÃO\"\n",
    "cc.df['status_notificacao'] = 2 #STATUS NOTIFICAÇÃO \"ENCERRADA\"\n",
    "\n",
    "# df_exclusao_old = pd.DataFrame()"
   ]
  },
  {
   "cell_type": "code",
   "execution_count": null,
   "metadata": {
    "execution": {
     "iopub.execute_input": "2021-11-12T12:00:43.034939Z",
     "iopub.status.busy": "2021-11-12T12:00:43.034939Z",
     "iopub.status.idle": "2021-11-12T12:00:46.068885Z",
     "shell.execute_reply": "2021-11-12T12:00:46.068885Z",
     "shell.execute_reply.started": "2021-11-12T12:00:43.034939Z"
    }
   },
   "outputs": [],
   "source": [
    "casos_confirmados = cc.df.loc[cc.df['id_notifica'] > 0].copy()\n",
    "casos_confirmados['classificacao_final'] = 2\n",
    "\n",
    "obitos_confirmados = casos_confirmados.loc[casos_confirmados['evolucao']==2]\n",
    "nao_obitos = casos_confirmados.loc[casos_confirmados['evolucao']!=2]"
   ]
  },
  {
   "cell_type": "code",
   "execution_count": null,
   "metadata": {
    "execution": {
     "iopub.execute_input": "2021-11-12T12:00:46.068885Z",
     "iopub.status.busy": "2021-11-12T12:00:46.068885Z",
     "iopub.status.idle": "2021-11-12T12:00:46.082111Z",
     "shell.execute_reply": "2021-11-12T12:00:46.081152Z",
     "shell.execute_reply.started": "2021-11-12T12:00:46.068885Z"
    }
   },
   "outputs": [],
   "source": [
    "## CASOS (NÃO ÓBITOS) QUE EVOLUÍRAM PARA ÓBITO NO NOTIFICA"
   ]
  },
  {
   "cell_type": "code",
   "execution_count": null,
   "metadata": {
    "execution": {
     "iopub.execute_input": "2021-11-12T12:00:46.083102Z",
     "iopub.status.busy": "2021-11-12T12:00:46.083102Z",
     "iopub.status.idle": "2021-11-12T12:01:00.291989Z",
     "shell.execute_reply": "2021-11-12T12:01:00.288780Z",
     "shell.execute_reply.started": "2021-11-12T12:00:46.083102Z"
    }
   },
   "outputs": [],
   "source": [
    "diff_cc_final = pd.DataFrame()\n",
    "diff_cc_final = pd.merge(nao_obitos[['id_notifica','paciente','evolucao','status_notificacao']], notifica.df[['id', 'evolucao', 'status_notificacao']].rename(columns={'id':'id_notifica'}), on='id_notifica', how='inner', suffixes=['_old','_new'])\n",
    "\n",
    "diff_cc_final = diff_cc_final.loc[diff_cc_final['evolucao_old'] != diff_cc_final['evolucao_new']]\n",
    "diff_cc_final"
   ]
  },
  {
   "cell_type": "code",
   "execution_count": null,
   "metadata": {},
   "outputs": [],
   "source": [
    "obitos_inserir = diff_cc_final.loc[ (diff_cc_final['evolucao_old'].isin([1,3])) & (diff_cc_final['evolucao_new'] == 2) ]\n",
    "obitos_inserir"
   ]
  },
  {
   "cell_type": "code",
   "execution_count": null,
   "metadata": {},
   "outputs": [],
   "source": [
    "diff_cc_final.loc[ (diff_cc_final['evolucao_old'] == 3) & (diff_cc_final['evolucao_new'] == 1) ]"
   ]
  },
  {
   "cell_type": "code",
   "execution_count": null,
   "metadata": {},
   "outputs": [],
   "source": [
    "obitos_inserir['id_notifica'].to_list()"
   ]
  },
  {
   "cell_type": "code",
   "execution_count": null,
   "metadata": {},
   "outputs": [],
   "source": [
    "len(obitos_inserir.loc[obitos_inserir['status_notificacao_new'] == 2])"
   ]
  },
  {
   "cell_type": "code",
   "execution_count": null,
   "metadata": {
    "execution": {
     "iopub.execute_input": "2021-11-12T12:01:08.465929Z",
     "iopub.status.busy": "2021-11-12T12:01:08.464923Z",
     "iopub.status.idle": "2021-11-12T12:01:08.590915Z",
     "shell.execute_reply": "2021-11-12T12:01:08.589915Z",
     "shell.execute_reply.started": "2021-11-12T12:01:08.465929Z"
    }
   },
   "outputs": [],
   "source": [
    "path = join('C:\\\\', 'SESA', 'Inconsistencias')\n",
    "\n",
    "print(len(obitos_inserir))\n",
    "obitos_inserir.to_excel(join(path, 'obitos_inserir.xlsx'), index=False)"
   ]
  }
 ],
 "metadata": {
  "interpreter": {
   "hash": "1cdc22e96f16e7a709941e5164353478df3c5a2dca8a048b5ddcd85bd66dd558"
  },
  "kernelspec": {
   "display_name": "Python 3 (ipykernel)",
   "language": "python",
   "name": "python3"
  },
  "language_info": {
   "codemirror_mode": {
    "name": "ipython",
    "version": 3
   },
   "file_extension": ".py",
   "mimetype": "text/x-python",
   "name": "python",
   "nbconvert_exporter": "python",
   "pygments_lexer": "ipython3",
   "version": "3.8.11"
  }
 },
 "nbformat": 4,
 "nbformat_minor": 4
}
