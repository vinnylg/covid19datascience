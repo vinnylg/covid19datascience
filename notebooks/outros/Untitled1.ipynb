{
 "cells": [
  {
   "cell_type": "code",
   "execution_count": null,
   "id": "7e983319",
   "metadata": {},
   "outputs": [],
   "source": [
    "## set covid19_datasciente as path for python find bulletin package\n",
    "import sys\n",
    "from pathlib import Path\n",
    "from os import getcwd, remove, chdir\n",
    "from os.path import join, basename\n",
    "\n",
    "sys.path.append(str(Path(getcwd()).parent))\n",
    "current_dir = getcwd()\n",
    "print(current_dir)"
   ]
  },
  {
   "cell_type": "code",
   "execution_count": null,
   "id": "76138b0a",
   "metadata": {},
   "outputs": [],
   "source": [
    "import pandas as pd\n",
    "pd.set_option('display.max_columns', None)\n",
    "pd.set_option('display.max_rows', 200)\n",
    "\n",
    "import numpy as np\n",
    "from random import randint\n",
    "from math import floor, ceil\n",
    "import codecs"
   ]
  },
  {
   "cell_type": "code",
   "execution_count": null,
   "id": "fa445193",
   "metadata": {},
   "outputs": [],
   "source": [
    "from bulletin.systems.casos_confirmados import CasosConfirmados\n",
    "from bulletin.systems.notifica import Notifica"
   ]
  },
  {
   "cell_type": "code",
   "execution_count": null,
   "id": "03d31e25",
   "metadata": {},
   "outputs": [],
   "source": [
    "nt = Notifica('notifica')"
   ]
  },
  {
   "cell_type": "code",
   "execution_count": null,
   "id": "e2f17f9b",
   "metadata": {},
   "outputs": [],
   "source": [
    "nt.load(compress=False)"
   ]
  },
  {
   "cell_type": "code",
   "execution_count": null,
   "id": "53652abd",
   "metadata": {},
   "outputs": [],
   "source": [
    "nt.df"
   ]
  },
  {
   "cell_type": "code",
   "execution_count": null,
   "id": "3eca44fb",
   "metadata": {},
   "outputs": [],
   "source": [
    "nt.df.loc[nt.df['paciente'].notna() & nt.df['paciente'].str.contains('INADA LIMA')]"
   ]
  },
  {
   "cell_type": "code",
   "execution_count": null,
   "id": "d7fb1d30",
   "metadata": {},
   "outputs": [],
   "source": []
  }
 ],
 "metadata": {
  "kernelspec": {
   "display_name": "Python 3 (ipykernel)",
   "language": "python",
   "name": "python3"
  },
  "language_info": {
   "codemirror_mode": {
    "name": "ipython",
    "version": 3
   },
   "file_extension": ".py",
   "mimetype": "text/x-python",
   "name": "python",
   "nbconvert_exporter": "python",
   "pygments_lexer": "ipython3",
   "version": "3.8.11"
  }
 },
 "nbformat": 4,
 "nbformat_minor": 5
}
