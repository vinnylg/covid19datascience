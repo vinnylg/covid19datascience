{
 "cells": [
  {
   "cell_type": "code",
   "execution_count": null,
   "id": "af9419f6-bcd2-49f1-842a-dfceba57a026",
   "metadata": {
    "execution": {
     "iopub.execute_input": "2021-12-01T14:23:44.598264Z",
     "iopub.status.busy": "2021-12-01T14:23:44.597311Z",
     "iopub.status.idle": "2021-12-01T14:23:44.619262Z",
     "shell.execute_reply": "2021-12-01T14:23:44.617273Z",
     "shell.execute_reply.started": "2021-12-01T14:23:44.598264Z"
    }
   },
   "outputs": [],
   "source": [
    "## set covid19_datasciente as path for python find bulletin package\n",
    "import sys\n",
    "from pathlib import Path\n",
    "from os import getcwd, remove, chdir\n",
    "from os.path import join, basename\n",
    "\n",
    "sys.path.append(str(Path(getcwd()).parent))\n",
    "current_dir = getcwd()\n",
    "print(current_dir)"
   ]
  },
  {
   "cell_type": "code",
   "execution_count": null,
   "id": "9a49171b-0d88-4a0b-af53-106dbd5d0b3e",
   "metadata": {
    "execution": {
     "iopub.execute_input": "2021-12-01T14:23:44.622271Z",
     "iopub.status.busy": "2021-12-01T14:23:44.621485Z",
     "iopub.status.idle": "2021-12-01T14:23:45.186300Z",
     "shell.execute_reply": "2021-12-01T14:23:45.184301Z",
     "shell.execute_reply.started": "2021-12-01T14:23:44.622271Z"
    }
   },
   "outputs": [],
   "source": [
    "import pandas as pd\n",
    "import numpy as np"
   ]
  },
  {
   "cell_type": "code",
   "execution_count": null,
   "id": "e381f22c-58b3-4a40-b4ec-20a6e42b744d",
   "metadata": {
    "execution": {
     "iopub.execute_input": "2021-12-01T14:23:45.188300Z",
     "iopub.status.busy": "2021-12-01T14:23:45.188300Z",
     "iopub.status.idle": "2021-12-01T14:23:45.196304Z",
     "shell.execute_reply": "2021-12-01T14:23:45.194302Z",
     "shell.execute_reply.started": "2021-12-01T14:23:45.188300Z"
    }
   },
   "outputs": [],
   "source": [
    "pd.set_option('display.max_columns', None)"
   ]
  },
  {
   "cell_type": "code",
   "execution_count": null,
   "id": "c4425a8f-82ba-4f6a-bd1b-9cceefe026b3",
   "metadata": {
    "execution": {
     "iopub.execute_input": "2021-12-01T14:23:45.197310Z",
     "iopub.status.busy": "2021-12-01T14:23:45.197310Z",
     "iopub.status.idle": "2021-12-01T14:23:46.579290Z",
     "shell.execute_reply": "2021-12-01T14:23:46.579290Z",
     "shell.execute_reply.started": "2021-12-01T14:23:45.197310Z"
    },
    "tags": []
   },
   "outputs": [],
   "source": [
    "from bulletin.systems import Notifica\n",
    "from bulletin import tables"
   ]
  },
  {
   "cell_type": "code",
   "execution_count": null,
   "id": "9325cf53-7fe0-4a3c-a1d7-ba5d72b72e5c",
   "metadata": {
    "execution": {
     "iopub.execute_input": "2021-12-01T14:23:46.579290Z",
     "iopub.status.busy": "2021-12-01T14:23:46.579290Z",
     "iopub.status.idle": "2021-12-01T14:24:29.864213Z",
     "shell.execute_reply": "2021-12-01T14:24:29.864213Z",
     "shell.execute_reply.started": "2021-12-01T14:23:46.579290Z"
    }
   },
   "outputs": [],
   "source": [
    "nt = Notifica()\n",
    "nt.load('notifica', compress=False)\n",
    "nt.df = nt.df.loc[(nt.df['tabagismo']==1) & (nt.df['classificacao_final']==2) & (nt.df['status_notificacao'].isin([1,2])) & (nt.df['excluir_ficha']==2)]\n",
    "nt.df = nt.df.join(tables['municipios'].set_index('ibge'),on='ibge_residencia')\n",
    "nt.df = nt.df.loc[nt.df['uf']=='PR']"
   ]
  },
  {
   "cell_type": "code",
   "execution_count": null,
   "id": "f445ef03-049e-45f8-b31c-17c51aabb5e1",
   "metadata": {
    "execution": {
     "iopub.execute_input": "2021-12-01T14:24:29.864213Z",
     "iopub.status.busy": "2021-12-01T14:24:29.864213Z",
     "iopub.status.idle": "2021-12-01T14:24:32.253037Z",
     "shell.execute_reply": "2021-12-01T14:24:32.253037Z",
     "shell.execute_reply.started": "2021-12-01T14:24:29.864213Z"
    }
   },
   "outputs": [],
   "source": [
    "nt.check_duplicates(keep='last')\n",
    "tabagismo = nt.df.drop(index=nt.df.loc[nt.df['duplicated']].index)"
   ]
  },
  {
   "cell_type": "code",
   "execution_count": null,
   "id": "d551086d-9051-4b53-9d5d-fab97c9578d6",
   "metadata": {
    "execution": {
     "iopub.execute_input": "2021-12-01T14:24:32.253037Z",
     "iopub.status.busy": "2021-12-01T14:24:32.253037Z",
     "iopub.status.idle": "2021-12-01T14:24:32.268640Z",
     "shell.execute_reply": "2021-12-01T14:24:32.268640Z",
     "shell.execute_reply.started": "2021-12-01T14:24:32.253037Z"
    }
   },
   "outputs": [],
   "source": [
    "tabagismo['faixa_etaria'] = np.digitize(tabagismo['idade'],[20,30,40,50,60,70,80,90,100],right=False)"
   ]
  },
  {
   "cell_type": "code",
   "execution_count": null,
   "id": "50c5d259-9a98-410f-a3f1-485b4fb71080",
   "metadata": {
    "execution": {
     "iopub.execute_input": "2021-12-01T14:24:32.268640Z",
     "iopub.status.busy": "2021-12-01T14:24:32.268640Z",
     "iopub.status.idle": "2021-12-01T14:24:32.299891Z",
     "shell.execute_reply": "2021-12-01T14:24:32.299891Z",
     "shell.execute_reply.started": "2021-12-01T14:24:32.268640Z"
    },
    "tags": []
   },
   "outputs": [],
   "source": [
    "tabagismo.loc[(tabagismo['evolucao']==2), 'evolucao'] = 'Óbito'\n",
    "tabagismo.loc[(tabagismo['evolucao']!='Óbito'), 'evolucao'] = 'Outra'"
   ]
  },
  {
   "cell_type": "code",
   "execution_count": null,
   "id": "4a0e0ad7-3064-4d30-9242-8d983391ea54",
   "metadata": {
    "execution": {
     "iopub.execute_input": "2021-12-01T14:24:32.299891Z",
     "iopub.status.busy": "2021-12-01T14:24:32.299891Z",
     "iopub.status.idle": "2021-12-01T14:24:32.534974Z",
     "shell.execute_reply": "2021-12-01T14:24:32.533976Z",
     "shell.execute_reply.started": "2021-12-01T14:24:32.299891Z"
    },
    "tags": []
   },
   "outputs": [],
   "source": [
    "tab_macro_rs_mun = tabagismo.groupby(['macro','rs','regional','ibge_residencia','municipio','evolucao'])[['id']].count().unstack('evolucao').droplevel(axis=1, level=0).fillna(0).astype(int)\n",
    "tab_macro_rs_mun.columns.name = ''\n",
    "tab_macro_rs_mun['Caso'] = tab_macro_rs_mun['Óbito'] + tab_macro_rs_mun['Outra']\n",
    "tab_macro_rs_mun = tab_macro_rs_mun[['Caso','Óbito']]\n",
    "tab_macro_rs_mun"
   ]
  },
  {
   "cell_type": "code",
   "execution_count": null,
   "id": "753d9391-c05b-4582-9ae3-2bb981b0272f",
   "metadata": {
    "execution": {
     "iopub.execute_input": "2021-12-01T14:24:32.536975Z",
     "iopub.status.busy": "2021-12-01T14:24:32.535974Z",
     "iopub.status.idle": "2021-12-01T14:24:32.554064Z",
     "shell.execute_reply": "2021-12-01T14:24:32.554064Z",
     "shell.execute_reply.started": "2021-12-01T14:24:32.536975Z"
    },
    "tags": []
   },
   "outputs": [],
   "source": [
    "tab_macro_rs = tab_macro_rs_mun.groupby(level=['macro','rs','regional']).sum()\n",
    "tab_macro_rs"
   ]
  },
  {
   "cell_type": "code",
   "execution_count": null,
   "id": "b26d2fd2-f576-4af4-a785-2ab2088794c6",
   "metadata": {
    "execution": {
     "iopub.execute_input": "2021-12-01T14:24:32.554064Z",
     "iopub.status.busy": "2021-12-01T14:24:32.554064Z",
     "iopub.status.idle": "2021-12-01T14:24:32.585358Z",
     "shell.execute_reply": "2021-12-01T14:24:32.585358Z",
     "shell.execute_reply.started": "2021-12-01T14:24:32.554064Z"
    },
    "tags": []
   },
   "outputs": [],
   "source": [
    "tab_macro= tab_macro_rs.groupby(level=['macro']).sum()\n",
    "tab_macro"
   ]
  },
  {
   "cell_type": "code",
   "execution_count": null,
   "id": "99f46e78-692f-4c3c-81c8-da015af3b65f",
   "metadata": {
    "execution": {
     "iopub.execute_input": "2021-12-01T14:24:32.585358Z",
     "iopub.status.busy": "2021-12-01T14:24:32.585358Z",
     "iopub.status.idle": "2021-12-01T14:24:32.632234Z",
     "shell.execute_reply": "2021-12-01T14:24:32.632234Z",
     "shell.execute_reply.started": "2021-12-01T14:24:32.585358Z"
    },
    "tags": []
   },
   "outputs": [],
   "source": [
    "tab_sexo_fx = tabagismo.groupby(['sexo','faixa_etaria','evolucao'])[['id']].count().unstack('evolucao').droplevel(axis=1,level=0).fillna(0).astype(int)\n",
    "tab_sexo_fx.columns.name = ''\n",
    "tab_sexo_fx['Caso'] = tab_sexo_fx['Óbito'] + tab_sexo_fx['Outra']\n",
    "tab_sexo_fx = tab_sexo_fx[['Caso','Óbito']]\n",
    "tab_sexo_fx"
   ]
  },
  {
   "cell_type": "code",
   "execution_count": null,
   "id": "7844bb7e-d11a-48d6-8a14-3c4b5d106b7e",
   "metadata": {
    "execution": {
     "iopub.execute_input": "2021-12-01T14:24:32.632234Z",
     "iopub.status.busy": "2021-12-01T14:24:32.632234Z",
     "iopub.status.idle": "2021-12-01T14:24:32.647845Z",
     "shell.execute_reply": "2021-12-01T14:24:32.647845Z",
     "shell.execute_reply.started": "2021-12-01T14:24:32.632234Z"
    }
   },
   "outputs": [],
   "source": [
    "tab_sexo = tab_sexo_fx.groupby(level=['sexo']).sum()"
   ]
  },
  {
   "cell_type": "code",
   "execution_count": null,
   "id": "be3d8ea7-3a34-403e-b5d6-e0e772dba45a",
   "metadata": {
    "execution": {
     "iopub.execute_input": "2021-12-01T14:24:32.647845Z",
     "iopub.status.busy": "2021-12-01T14:24:32.647845Z",
     "iopub.status.idle": "2021-12-01T14:24:32.663498Z",
     "shell.execute_reply": "2021-12-01T14:24:32.663498Z",
     "shell.execute_reply.started": "2021-12-01T14:24:32.647845Z"
    }
   },
   "outputs": [],
   "source": [
    "tab_fx = tab_sexo_fx.groupby(level=['faixa_etaria']).sum()"
   ]
  },
  {
   "cell_type": "code",
   "execution_count": null,
   "id": "1fdcd45b-3b0f-4500-8483-699a225e5eee",
   "metadata": {
    "execution": {
     "iopub.execute_input": "2021-12-01T14:24:32.663498Z",
     "iopub.status.busy": "2021-12-01T14:24:32.663498Z",
     "iopub.status.idle": "2021-12-01T14:24:33.223934Z",
     "shell.execute_reply": "2021-12-01T14:24:33.223934Z",
     "shell.execute_reply.started": "2021-12-01T14:24:32.663498Z"
    },
    "tags": []
   },
   "outputs": [],
   "source": [
    "tab_ano_mes = tabagismo.groupby([tabagismo.rename(columns={'data_diagnostico':'ano'})['ano'].dt.year,tabagismo.rename(columns={'data_diagnostico':'mes'})['mes'].dt.month])[['id']].count().rename(columns={'id':'Caso'})\n",
    "tab_ano_mes = tab_ano_mes.join(tabagismo.loc[tabagismo['evolucao']=='Óbito'].groupby([tabagismo.rename(columns={'data_cura_obito':'ano'})['ano'].dt.year,tabagismo.rename(columns={'data_cura_obito':'mes'})['mes'].dt.month])[['id']].count().rename(columns={'id':'Óbitos'}))\n",
    "tab_ano_mes = tab_ano_mes.fillna(0).astype(int)\n",
    "tab_ano_mes"
   ]
  },
  {
   "cell_type": "code",
   "execution_count": null,
   "id": "b98c8e19-3c4d-4d60-b793-18ca9d526d01",
   "metadata": {
    "execution": {
     "iopub.execute_input": "2021-12-01T14:52:12.636164Z",
     "iopub.status.busy": "2021-12-01T14:52:12.636164Z",
     "iopub.status.idle": "2021-12-01T14:52:12.651799Z",
     "shell.execute_reply": "2021-12-01T14:52:12.651799Z",
     "shell.execute_reply.started": "2021-12-01T14:52:12.636164Z"
    },
    "tags": []
   },
   "outputs": [],
   "source": [
    "writer = pd.ExcelWriter(\"tabelas_tabagismo.xlsx\",\n",
    "                    engine='xlsxwriter',\n",
    "                    datetime_format='dd/mm/yyyy',\n",
    "                    date_format='dd/mm/yyyy')"
   ]
  },
  {
   "cell_type": "code",
   "execution_count": null,
   "id": "d5fea608-931f-4d6d-bb96-5bc35bf291d9",
   "metadata": {
    "execution": {
     "iopub.execute_input": "2021-12-01T14:52:12.792030Z",
     "iopub.status.busy": "2021-12-01T14:52:12.792030Z"
    },
    "tags": []
   },
   "outputs": [],
   "source": [
    "tabagismo[['id','ibge_residencia','sexo','idade','tabagismo','data_diagnostico','evolucao','data_cura_obito','ibge7','rs','regional','macro','municipio','uf','populacao','estado','faixa_etaria']].to_excel(writer,'geral')\n",
    "tab_macro_rs_mun.reset_index().to_excel(writer,'tab_macro_rs_mun')\n",
    "tab_macro_rs.reset_index().to_excel(writer,'tab_macro_rs')\n",
    "tab_macro.reset_index().to_excel(writer,'tab_macro')\n",
    "tab_sexo_fx.reset_index().to_excel(writer,'tab_sexo_fx')\n",
    "tab_sexo.reset_index().to_excel(writer,'tab_sexo')\n",
    "tab_fx.reset_index().to_excel(writer,'tab_fx')\n",
    "tab_ano_mes.reset_index().to_excel(writer,'tab_ano_mes')"
   ]
  },
  {
   "cell_type": "code",
   "execution_count": null,
   "id": "50cb068d-34d8-4d75-8287-6041b234402e",
   "metadata": {
    "tags": []
   },
   "outputs": [],
   "source": [
    "writer.save()"
   ]
  },
  {
   "cell_type": "code",
   "execution_count": null,
   "id": "04a1dfab-85fd-4541-a661-ea1c2ef87658",
   "metadata": {},
   "outputs": [],
   "source": []
  }
 ],
 "metadata": {
  "kernelspec": {
   "display_name": "Python 3 (ipykernel)",
   "language": "python",
   "name": "python3"
  },
  "language_info": {
   "codemirror_mode": {
    "name": "ipython",
    "version": 3
   },
   "file_extension": ".py",
   "mimetype": "text/x-python",
   "name": "python",
   "nbconvert_exporter": "python",
   "pygments_lexer": "ipython3",
   "version": "3.8.11"
  }
 },
 "nbformat": 4,
 "nbformat_minor": 5
}
