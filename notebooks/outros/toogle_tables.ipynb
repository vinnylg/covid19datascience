{
 "cells": [
  {
   "cell_type": "code",
   "execution_count": null,
   "id": "01a2778b-f645-4d69-813d-d84d7c9c7f2b",
   "metadata": {},
   "outputs": [],
   "source": [
    "sintomas = notifica.schema.loc[notifica.schema['group_name']=='sintomas','column'].tolist()\n",
    "comorbidades = notifica.schema.loc[notifica.schema['group_name']=='fator_risco','column'].tolist()\n",
    "columns = ['paciente','cpf','cns','idade','cod_cbo','ibge_unidade_notifica','uf_unidade_notifica','data_notificacao']+sintomas+comorbidades+['data_1o_sintomas','classificacao_final','evolucao','criterio_classificacao','metodo','resultado','data_coleta']\n",
    "for col, tab in notifica.schema.loc[notifica.schema['column'].isin(columns) & notifica.schema['foreign_table_name'].notna(), ['column','foreign_table_name']].values:\n",
    "    if tab in notifica.tables.keys():\n",
    "        try:\n",
    "            print(tab,{col: notifica.tables[tab].set_index('id').to_dict()[tab]})\n",
    "            notifica.df = notifica.df.replace({col: notifica.tables[tab].set_index('id').to_dict()[tab]})\n",
    "        except:\n",
    "            pass"
   ]
  },
  {
   "cell_type": "code",
   "execution_count": null,
   "id": "167d715c",
   "metadata": {},
   "outputs": [],
   "source": [
    "import numpy as np\n",
    "import pandas as pd\n",
    "([ None, pd.NaT ] * 2) + ([np.NaN] * (5 + 5))"
   ]
  },
  {
   "cell_type": "code",
   "execution_count": null,
   "id": "3370a6c6",
   "metadata": {},
   "outputs": [],
   "source": []
  },
  {
   "cell_type": "code",
   "execution_count": null,
   "id": "59dc6ca2",
   "metadata": {},
   "outputs": [],
   "source": []
  }
 ],
 "metadata": {
  "kernelspec": {
   "display_name": "Python 3 (ipykernel)",
   "language": "python",
   "name": "python3"
  },
  "language_info": {
   "codemirror_mode": {
    "name": "ipython",
    "version": 3
   },
   "file_extension": ".py",
   "mimetype": "text/x-python",
   "name": "python",
   "nbconvert_exporter": "python",
   "pygments_lexer": "ipython3",
   "version": "3.8.11"
  }
 },
 "nbformat": 4,
 "nbformat_minor": 5
}
