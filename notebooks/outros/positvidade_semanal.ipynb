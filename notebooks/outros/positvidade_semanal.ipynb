{
 "cells": [
  {
   "cell_type": "code",
   "execution_count": null,
   "id": "760c9443",
   "metadata": {},
   "outputs": [],
   "source": [
    "## set covid19_datasciente as path for python find bulletin package\n",
    "import sys\n",
    "from pathlib import Path\n",
    "from os import getcwd, remove, chdir\n",
    "from os.path import join, basename\n",
    "\n",
    "sys.path.append(str(Path(getcwd()).parent))\n",
    "current_dir = getcwd()\n",
    "print(current_dir)"
   ]
  },
  {
   "cell_type": "code",
   "execution_count": null,
   "id": "a8a83df4",
   "metadata": {},
   "outputs": [],
   "source": [
    "from datetime import date"
   ]
  },
  {
   "cell_type": "code",
   "execution_count": null,
   "id": "0982cc8b",
   "metadata": {},
   "outputs": [],
   "source": [
    "import pandas as pd\n",
    "pd.set_option('display.max_columns', None)\n",
    "pd.set_option('display.max_rows', 150)\n",
    "\n",
    "import numpy as np\n",
    "from epiweeks import Week, Year\n",
    "from datetime import date, timedelta"
   ]
  },
  {
   "cell_type": "code",
   "execution_count": null,
   "id": "fabd90e4",
   "metadata": {},
   "outputs": [],
   "source": [
    "from bulletin import root, default_input, default_output, agora, hoje, ontem, anteontem, dias_apos, dias_apos_label\n",
    "from bulletin.systems import Notifica\n",
    "from bulletin.utils.static import Municipios\n",
    "from bulletin.utils.normalize import normalize_text"
   ]
  },
  {
   "cell_type": "code",
   "execution_count": null,
   "id": "5cf6a7f0",
   "metadata": {},
   "outputs": [],
   "source": [
    "nt = Notifica()\n",
    "nt.load(f\"notifica\", compress=False)"
   ]
  },
  {
   "cell_type": "code",
   "execution_count": null,
   "id": "025b9e43",
   "metadata": {},
   "outputs": [],
   "source": [
    "for col in nt.tables['municipios'].columns:\n",
    "    if col in nt.df.columns:\n",
    "        del nt.df[col]"
   ]
  },
  {
   "cell_type": "code",
   "execution_count": null,
   "id": "eb56bb09",
   "metadata": {},
   "outputs": [],
   "source": [
    "nt.df['ibge_unidade_notifica'].unique()"
   ]
  },
  {
   "cell_type": "code",
   "execution_count": null,
   "id": "7f591cfd",
   "metadata": {},
   "outputs": [],
   "source": [
    "nt.df.loc[nt.df['ibge_unidade_notifica'].apply(str).str[:2]!='41']"
   ]
  },
  {
   "cell_type": "code",
   "execution_count": null,
   "id": "9c33afa7",
   "metadata": {},
   "outputs": [],
   "source": [
    "# nt.df.loc[nt.df['ibge_residencia'].apply(str).str[:2]!='41', 'ibge_residencia'] = 999999\n",
    "# nt.df = nt.df.drop(index=nt.df.loc[nt.df['ibge_residencia'].apply(str).str[:2]!='41'].index)\n",
    "nt.df = nt.df.drop(index=nt.df.loc[nt.df['ibge_unidade_notifica'].apply(str).str[:2]!='41'].index)\n",
    "# nt.df.loc[nt.df['ibge_unidade_notifica'].apply(str).str[:2]!='41', 'ibge_unidade_notifica'] = 999999"
   ]
  },
  {
   "cell_type": "code",
   "execution_count": null,
   "id": "11ebeeb4",
   "metadata": {},
   "outputs": [],
   "source": [
    "nt.df.drop(index=nt.df.loc[nt.df['data_notificacao'].isna()].index, inplace=True)"
   ]
  },
  {
   "cell_type": "code",
   "execution_count": null,
   "id": "46cd1ef1",
   "metadata": {},
   "outputs": [],
   "source": [
    "# nt.bk = nt.df.copy()"
   ]
  },
  {
   "cell_type": "code",
   "execution_count": null,
   "id": "7131b35b",
   "metadata": {},
   "outputs": [],
   "source": [
    "# nt.tables['exame'].set_index('id')['exame'].loc[[167, 184, 187, 188, 189, 190, 191]]"
   ]
  },
  {
   "cell_type": "code",
   "execution_count": null,
   "id": "4034e00d",
   "metadata": {},
   "outputs": [],
   "source": [
    "# nt.tables['metodo'].set_index('id')"
   ]
  },
  {
   "cell_type": "code",
   "execution_count": null,
   "id": "e10c9fb1",
   "metadata": {},
   "outputs": [],
   "source": [
    "# del nt.df\n",
    "# nt.df = nt.bk"
   ]
  },
  {
   "cell_type": "code",
   "execution_count": null,
   "id": "10e97fbf",
   "metadata": {},
   "outputs": [],
   "source": [
    "# nt.df = nt.df.loc[nt.df['exame'].isin([167])]#, 187, 188, 189, 190, 191])]\n",
    "# nt.df.groupby('metodo')[['id']].count().rename(index=nt.tables['metodo'].set_index('id')['metodo'])\n",
    "# nt.df = nt.df.loc[nt.df['metodo']==2]"
   ]
  },
  {
   "cell_type": "code",
   "execution_count": null,
   "id": "1a9ccd48",
   "metadata": {},
   "outputs": [],
   "source": [
    "# nt.df.groupby('')[['id']].count().rename(index=nt.tables['metodo'].set_index('id')['metodo'])"
   ]
  },
  {
   "cell_type": "code",
   "execution_count": null,
   "id": "0880b9de",
   "metadata": {},
   "outputs": [],
   "source": [
    "# nt.df = nt.df.loc[(nt.df[\"data_notificacao\"] >= pd.to_datetime(date(2022,1,5))) & (nt.df[\"data_notificacao\"] <= pd.to_datetime(date(2022,1,11)))]\n",
    "# nt.df"
   ]
  },
  {
   "cell_type": "code",
   "execution_count": null,
   "id": "13109e81",
   "metadata": {},
   "outputs": [],
   "source": [
    "# nt.df.groupby('exame')[['id']].count().rename(index=nt.tables['exame'].set_index('id')['exame']).sort_values('id', ascending=False)"
   ]
  },
  {
   "cell_type": "code",
   "execution_count": null,
   "id": "6d007e81",
   "metadata": {},
   "outputs": [],
   "source": [
    "nt.df['ano'] = nt.df['data_notificacao'].apply(lambda x: Week.fromdate(x).year)\n",
    "nt.df['se'] = nt.df['data_notificacao'].apply(lambda x: Week.fromdate(x).week)"
   ]
  },
  {
   "cell_type": "code",
   "execution_count": null,
   "id": "105e440b",
   "metadata": {},
   "outputs": [],
   "source": [
    "nt.df.loc[nt.df['classificacao_final']==4,'classificacao_final'] = 1\n",
    "nt.df.loc[nt.df['classificacao_final']==5,'classificacao_final'] = 3"
   ]
  },
  {
   "cell_type": "code",
   "execution_count": null,
   "id": "4b6b9d5d",
   "metadata": {},
   "outputs": [],
   "source": [
    "nt.df.groupby(['classificacao_final'])[['id']].count()#.rename(index=nt.tables['classificacao_final'].set_index('id')['classificacao_final'])"
   ]
  },
  {
   "cell_type": "code",
   "execution_count": null,
   "id": "bf998467",
   "metadata": {},
   "outputs": [],
   "source": [
    "ses = []\n",
    "for year in [2020,2021,2022]:\n",
    "    for se in Year(year).iterweeks():\n",
    "        if (se.startdate() <= hoje.date()) & (se.startdate() >= date(2020,3,1)):\n",
    "#         if (se.startdate() <= hoje.date()) & (se.startdate() >= date(2021,12,1)):\n",
    "            ses.append((se.year,se.week))"
   ]
  },
  {
   "cell_type": "code",
   "execution_count": null,
   "id": "ff043bc3",
   "metadata": {},
   "outputs": [],
   "source": [
    "mun = nt.tables['municipios'].copy()\n",
    "mun = mun.loc[mun['uf'].isin(['PR','IG'])]\n",
    "mun = mun[['uf','macro','rs','regional','ibge','municipio']]\n",
    "nt.df = nt.df.join(mun.set_index('ibge'),on='ibge_unidade_notifica').rename(columns={'ibge_unidade_notifica':'ibge'})"
   ]
  },
  {
   "cell_type": "code",
   "execution_count": null,
   "id": "20e4abe9",
   "metadata": {},
   "outputs": [],
   "source": [
    "total_mun = nt.df.groupby(['uf','macro','rs','regional','ibge','municipio','ano','se','data_notificacao'])[['id']].count().unstack(['ano','se','data_notificacao']).fillna(0).astype(int).sort_index(axis=1,level=1).droplevel(axis=1,level=0)\n",
    "# ses = [ se for se in ses if se in total_mun.columns ]\n",
    "# total_mun = total_mun.reindex(ses,axis=1).fillna(0).astype(int)\n",
    "\n",
    "confirmados_mun = nt.df.loc[nt.df['classificacao_final']==2].groupby(['uf','macro','rs','regional','ibge','municipio','ano','se','data_notificacao'])[['id']].count().unstack(['ano','se','data_notificacao']).fillna(0).astype(int).sort_index(axis=1,level=1).droplevel(axis=1,level=0)\n",
    "# print(confirmados_mun.columns)\n",
    "# print(ses)\n",
    "# confirmados_mun = confirmados_mun.reindex(ses,axis=1).fillna(0).astype(int)\n",
    "\n",
    "positividade_mun = confirmados_mun / total_mun"
   ]
  },
  {
   "cell_type": "code",
   "execution_count": null,
   "id": "c435d2cd",
   "metadata": {},
   "outputs": [],
   "source": [
    "# raise\n",
    "# pd.concat({'1.Total':total_mun, '2.Confirmados':confirmados_mun, '3.Positividade':positividade_mun },names=['ind'],axis=0).reorder_levels(['uf','macro','rs','regional','ibge','municipio','ind'],axis=0).sort_index(axis=0,level=['rs','ibge'])"
   ]
  },
  {
   "cell_type": "code",
   "execution_count": null,
   "id": "2f928b8e",
   "metadata": {},
   "outputs": [],
   "source": [
    "total_rs = total_mun.groupby(['rs','regional']).sum().fillna(0).astype(int)\n",
    "confirmados_rs = confirmados_mun.groupby(['rs','regional']).sum().fillna(0).astype(int)\n",
    "positividade_rs = confirmados_rs / total_rs"
   ]
  },
  {
   "cell_type": "code",
   "execution_count": null,
   "id": "3954296e",
   "metadata": {},
   "outputs": [],
   "source": [
    "# pd.concat({'1.Total':total_rs, '2.Confirmados':confirmados_rs, '3.Positividade':positividade_rs },names=['ind'],axis=0).reorder_levels(['rs','regional','ind'],axis=0).sort_index(axis=0,level=['rs'])"
   ]
  },
  {
   "cell_type": "code",
   "execution_count": null,
   "id": "84d9bab1",
   "metadata": {},
   "outputs": [],
   "source": [
    "total_macro = total_mun.groupby(['macro']).sum().fillna(0).astype(int)\n",
    "confirmados_macro = confirmados_mun.groupby(['macro']).sum().fillna(0).astype(int)\n",
    "positividade_macro = confirmados_macro / total_macro"
   ]
  },
  {
   "cell_type": "code",
   "execution_count": null,
   "id": "206805fd",
   "metadata": {},
   "outputs": [],
   "source": [
    "# pd.concat({'1.Total':total_macro, '2.Confirmados':confirmados_macro, '3.Positividade':positividade_macro },names=['ind'],axis=0).reorder_levels(['macro','ind'],axis=0).sort_index(axis=0,level=['macro'])"
   ]
  },
  {
   "cell_type": "code",
   "execution_count": null,
   "id": "9e595e1a",
   "metadata": {},
   "outputs": [],
   "source": [
    "total = total_mun.groupby(['uf']).sum().fillna(0).astype(int)\n",
    "confirmados = confirmados_mun.groupby(['uf']).sum().fillna(0).astype(int)\n",
    "positividade = confirmados / total"
   ]
  },
  {
   "cell_type": "code",
   "execution_count": null,
   "id": "db4ba1d1",
   "metadata": {},
   "outputs": [],
   "source": [
    "a = pd.concat({'1.Total':total, '2.Confirmados':confirmados, '3.Positividade':positividade },names=['ind'],axis=0).reorder_levels(['uf','ind'],axis=0).sort_index(axis=0,level=['uf']).droplevel(axis=0,level=0).T\n",
    "ax = a[['1.Total','2.Confirmados']].rolling(7).mean().plot()\n",
    "a[['3.Positividade']].rolling(7).mean().plot(secondary_y=True, ax=ax, ls=':', figsize=(20,12))"
   ]
  },
  {
   "cell_type": "code",
   "execution_count": null,
   "id": "e309b480",
   "metadata": {},
   "outputs": [],
   "source": [
    "total.loc[:,(2021,40):].sum(1)"
   ]
  },
  {
   "cell_type": "code",
   "execution_count": null,
   "id": "a37d2363",
   "metadata": {},
   "outputs": [],
   "source": [
    "writer = pd.ExcelWriter(join(default_output,\"positividade.xlsx\"))\n",
    "\n",
    "total.to_excel(writer,'total')\n",
    "confirmados.to_excel(writer,'confirmados')\n",
    "positividade.to_excel(writer,'positividade')\n",
    "\n",
    "total_macro.to_excel(writer,'total_macro')\n",
    "confirmados_macro.to_excel(writer,'confirmados_macro')\n",
    "positividade_macro.to_excel(writer,'positividade_macro')\n",
    "\n",
    "total_rs.to_excel(writer,'total_rs')\n",
    "confirmados_rs.to_excel(writer,'confirmados_rs')\n",
    "positividade_rs.to_excel(writer,'positividade_rs')\n",
    "\n",
    "total_mun.to_excel(writer,'total_mun')\n",
    "confirmados_mun.to_excel(writer,'confirmados_mun')\n",
    "positividade_mun.to_excel(writer,'positividade_mun')\n",
    "\n",
    "writer.save()"
   ]
  },
  {
   "cell_type": "code",
   "execution_count": null,
   "id": "1302fc41",
   "metadata": {},
   "outputs": [],
   "source": []
  }
 ],
 "metadata": {
  "kernelspec": {
   "display_name": "Python 3 (ipykernel)",
   "language": "python",
   "name": "python3"
  },
  "language_info": {
   "codemirror_mode": {
    "name": "ipython",
    "version": 3
   },
   "file_extension": ".py",
   "mimetype": "text/x-python",
   "name": "python",
   "nbconvert_exporter": "python",
   "pygments_lexer": "ipython3",
   "version": "3.8.11"
  }
 },
 "nbformat": 4,
 "nbformat_minor": 5
}
