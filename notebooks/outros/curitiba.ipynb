{
 "cells": [
  {
   "cell_type": "code",
   "execution_count": null,
   "metadata": {},
   "outputs": [],
   "source": [
    "from os.path import dirname, join, isfile, isdir\n",
    "from datetime import datetime, timedelta\n",
    "from unidecode import unidecode\n",
    "from hashlib import sha256\n",
    "from os import makedirs\n",
    "from sys import exit\n",
    "import pandas as pd\n",
    "import codecs\n",
    "\n",
    "\n",
    "from bulletin import __file__ as __root__\n",
    "from bulletin.casos_confirmados import CasosConfirmados\n",
    "from bulletin.notifica import Notifica\n",
    "from bulletin.utils import static\n",
    "from bulletin.utils.normalize import normalize_text, normalize_labels, normalize_number, normalize_municipios, normalize_igbe, normalize_hash, data_hash"
   ]
  },
  {
   "cell_type": "code",
   "execution_count": null,
   "metadata": {},
   "outputs": [],
   "source": [
    "curitiba = pd.read_excel('input/curitiba.xlsx', \n",
    "                         usecols='B:E,J',\n",
    "                         converters = {\n",
    "                               'classificacao': normalize_text,\n",
    "                               'nome': normalize_text,\n",
    "                               'idade': lambda x: normalize_number(x,fill=0),\n",
    "                               'mun_resid': normalize_text\n",
    "                        })\n",
    "\n",
    "curitiba.groupby('classificacao')[['nome']].count()"
   ]
  },
  {
   "cell_type": "code",
   "execution_count": null,
   "metadata": {},
   "outputs": [],
   "source": [
    "curitiba = curitiba.loc[curitiba['classificacao']=='CONFIRMADO'].copy()"
   ]
  },
  {
   "cell_type": "code",
   "execution_count": null,
   "metadata": {},
   "outputs": [],
   "source": [
    "curitiba['hash'] = curitiba.apply(lambda row: normalize_hash(row['nome'])+str(row['idade'])+normalize_hash(row['mun_resid']), axis=1)\n",
    "curitiba['hash_less'] = curitiba.apply(lambda row: normalize_hash(row['nome'])+str(row['idade']-1)+normalize_hash(row['mun_resid']), axis=1)\n",
    "curitiba['hash_more'] = curitiba.apply(lambda row: normalize_hash(row['nome'])+str(row['idade']+1)+normalize_hash(row['mun_resid']), axis=1)"
   ]
  },
  {
   "cell_type": "code",
   "execution_count": null,
   "metadata": {},
   "outputs": [],
   "source": [
    "cc = CasosConfirmados()\n",
    "# cc.update()\n",
    "casos = cc.get_casos()"
   ]
  },
  {
   "cell_type": "code",
   "execution_count": null,
   "metadata": {},
   "outputs": [],
   "source": [
    "nos_casos = curitiba.loc[curitiba['hash'].isin(casos['hash'])].index.tolist()\n",
    "nos_casos += curitiba.loc[curitiba['hash'].isin(casos['hash_less'])].index.tolist()\n",
    "nos_casos += curitiba.loc[curitiba['hash'].isin(casos['hash_more'])].index.tolist()"
   ]
  },
  {
   "cell_type": "code",
   "execution_count": null,
   "metadata": {},
   "outputs": [],
   "source": [
    "nao_cc = set(curitiba.index.tolist()) - set(nos_casos)\n",
    "curitiba.loc[nao_cc].sort_index()\n",
    "len(nao_cc)"
   ]
  },
  {
   "cell_type": "code",
   "execution_count": null,
   "metadata": {},
   "outputs": [],
   "source": [
    "notifica = Notifica()\n",
    "notifica.load()\n",
    "nt_casos = notifica.get_casos()"
   ]
  },
  {
   "cell_type": "code",
   "execution_count": null,
   "metadata": {},
   "outputs": [],
   "source": [
    "no_notifica = curitiba.loc[curitiba['hash'].isin(nt_casos['hash_resid'])].index.tolist()\n",
    "no_notifica += curitiba.loc[curitiba['hash_less'].isin(nt_casos['hash_resid'])].index.tolist()\n",
    "no_notifica += curitiba.loc[curitiba['hash_more'].isin(nt_casos['hash_resid'])].index.tolist()"
   ]
  },
  {
   "cell_type": "code",
   "execution_count": null,
   "metadata": {},
   "outputs": [],
   "source": [
    "nao_nt = set(curitiba.index.tolist()) - set(no_notifica)\n",
    "curitiba.loc[nao_nt].sort_index()\n",
    "len(nao_nt)"
   ]
  },
  {
   "cell_type": "code",
   "execution_count": null,
   "metadata": {},
   "outputs": [],
   "source": [
    "len(nao_cc) - len(nao_nt)"
   ]
  }
 ],
 "metadata": {
  "kernelspec": {
   "display_name": "Python 3",
   "language": "python",
   "name": "python3"
  },
  "language_info": {
   "codemirror_mode": {
    "name": "ipython",
    "version": 3
   },
   "file_extension": ".py",
   "mimetype": "text/x-python",
   "name": "python",
   "nbconvert_exporter": "python",
   "pygments_lexer": "ipython3",
   "version": "3.8.5"
  }
 },
 "nbformat": 4,
 "nbformat_minor": 4
}
