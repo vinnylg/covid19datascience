{
 "cells": [
  {
   "cell_type": "code",
   "execution_count": null,
   "metadata": {},
   "outputs": [],
   "source": [
    "import sys\n",
    "from pathlib import Path\n",
    "from os import getcwd, remove\n",
    "from os.path import join, basename\n",
    "\n",
    "sys.path.append(str(Path(getcwd()).parent.parent))"
   ]
  },
  {
   "cell_type": "code",
   "execution_count": null,
   "metadata": {},
   "outputs": [],
   "source": [
    "import pandas as pd\n",
    "import numpy as np\n",
    "from os.path import join\n",
    "\n",
    "from datetime import datetime, date, timedelta\n",
    "import random\n",
    "\n",
    "\n",
    "\n",
    "from bulletin import root, default_input, default_output, agora, hoje, ontem, anteontem, dias_apos, dias_apos_label\n",
    "from bulletin.services.metabase import Metabase\n",
    "from bulletin.systems.casos_confirmados import CasosConfirmados\n",
    "from bulletin.systems.notifica import Notifica\n",
    "from bulletin.utils.static import Municipios\n",
    "from bulletin.utils import utils, static\n",
    "from bulletin.utils.xls_ import fit_cols\n",
    "from bulletin.utils.normalize import trim_overspace\n",
    "\n",
    "from bulletin.utils.normalize import normalize_text#normalize_hash, normalize_labels, , date_hash, normalize_number"
   ]
  },
  {
   "cell_type": "code",
   "execution_count": null,
   "metadata": {},
   "outputs": [],
   "source": [
    "from datetime import datetime, date, timedelta\n",
    "\n",
    "exclusao_pathfile = join(root, 'database', 'casos_confirmados')\n",
    "\n",
    "today = pd.to_datetime(date.today())\n",
    "ontem = today - timedelta(1)\n",
    "anteontem = ontem - timedelta(1)\n",
    "data_retroativos = ontem - timedelta(31)\n",
    "\n",
    "random.seed(10)"
   ]
  },
  {
   "cell_type": "code",
   "execution_count": null,
   "metadata": {},
   "outputs": [],
   "source": [
    "municipios = Municipios()\n",
    "municipios['mun_resid'] = municipios['municipio']\n",
    "municipios.loc[municipios['uf']!='PR','mun_resid'] = municipios.loc[municipios['uf']!='PR','municipio'] + '/' + municipios['uf']"
   ]
  },
  {
   "cell_type": "code",
   "execution_count": null,
   "metadata": {},
   "outputs": [],
   "source": [
    "tabela_base = pd.read_excel('estrategias.xlsx')\n",
    "tabela_base"
   ]
  },
  {
   "cell_type": "code",
   "execution_count": null,
   "metadata": {},
   "outputs": [],
   "source": [
    "tabela = random.choices(tabela_base['nome'], weights=tabela_base['valor'], k=1000)\n",
    "tabela = pd.DataFrame(tabela)\n",
    "tabela.to_excel('teste.xlsx', index=False)"
   ]
  },
  {
   "cell_type": "code",
   "execution_count": null,
   "metadata": {},
   "outputs": [],
   "source": [
    "partial_total = tabela_base['CAIXAS'].sum()\n",
    "partial_total"
   ]
  },
  {
   "cell_type": "code",
   "execution_count": null,
   "metadata": {},
   "outputs": [],
   "source": [
    "testes_adicionais = random.choices(tabela_base['Municipio'], weights=tabela_base['Populacao'], k=int(n_caixinhas - partial_total))"
   ]
  },
  {
   "cell_type": "code",
   "execution_count": null,
   "metadata": {},
   "outputs": [],
   "source": [
    "tabela_base = tabela_base.join(pd.Series(testes_adicionais, name='CAIXAS_ADICIONAIS').value_counts(), on='Municipio')"
   ]
  },
  {
   "cell_type": "code",
   "execution_count": null,
   "metadata": {},
   "outputs": [],
   "source": [
    "tabela_base['CAIXAS'] = tabela_base['CAIXAS'] + tabela_base['CAIXAS_ADICIONAIS'].fillna(0)\n",
    "del(tabela_base['CAIXAS_ADICIONAIS'])\n",
    "tabela_base"
   ]
  },
  {
   "cell_type": "code",
   "execution_count": null,
   "metadata": {},
   "outputs": [],
   "source": [
    "tabela_base['RS'] = tabela_base['RS'].astype(int)\n",
    "tabela_base['CAIXAS'] = tabela_base['CAIXAS'].astype(int)\n",
    "tabela_base['TESTES'] = tabela_base['CAIXAS'] * testes_per_caixas\n",
    "tabela_base.loc['TOTAL', ['Populacao', 'CAIXAS', 'TESTES']] = tabela_base[['Populacao', 'CAIXAS', 'TESTES']].sum()"
   ]
  },
  {
   "cell_type": "code",
   "execution_count": null,
   "metadata": {},
   "outputs": [],
   "source": [
    "tabela_base['Populacao'] = tabela_base['Populacao'].astype(int)\n",
    "tabela_base['CAIXAS'] = tabela_base['CAIXAS'].astype(int)\n",
    "tabela_base['TESTES'] = tabela_base['TESTES'].astype(int)\n",
    "tabela_base"
   ]
  },
  {
   "cell_type": "code",
   "execution_count": null,
   "metadata": {},
   "outputs": [],
   "source": [
    "# WRITER"
   ]
  },
  {
   "cell_type": "code",
   "execution_count": null,
   "metadata": {},
   "outputs": [],
   "source": [
    "writer = pd.ExcelWriter(join(default_output,'testes', filename),\n",
    "                    engine='xlsxwriter')"
   ]
  },
  {
   "cell_type": "code",
   "execution_count": null,
   "metadata": {},
   "outputs": [],
   "source": [
    "# POR MUNICIPIO"
   ]
  },
  {
   "cell_type": "code",
   "execution_count": null,
   "metadata": {},
   "outputs": [],
   "source": [
    "testes_municipios = tabela_base.rename(columns={'Populacao':'POPULAÇÃO RESIDENTE',\n",
    "                                'CAIXAS':'NÚMERO DE CAIXAS',\n",
    "                                'TESTES':'NÚMERO DE TESTES PREVISTOS',\n",
    "                                'Municipio':'MUNICÍPIO'})\n",
    "\n",
    "testes_municipios.to_excel(writer,'por_municipio', index=False)"
   ]
  },
  {
   "cell_type": "code",
   "execution_count": null,
   "metadata": {},
   "outputs": [],
   "source": [
    "testes_rs = tabela_base.groupby('RS')[['Populacao', 'CAIXAS', 'TESTES']].sum().reset_index()\n",
    "testes_rs.loc['TOTAL', ['Populacao', 'CAIXAS', 'TESTES']] = testes_rs[['Populacao', 'CAIXAS', 'TESTES']].sum()\n",
    "testes_rs"
   ]
  },
  {
   "cell_type": "code",
   "execution_count": null,
   "metadata": {},
   "outputs": [],
   "source": [
    "# POR RS"
   ]
  },
  {
   "cell_type": "code",
   "execution_count": null,
   "metadata": {},
   "outputs": [],
   "source": [
    "testes_rs = testes_rs.rename(columns={'Populacao':'POPULAÇÃO RESIDENTE',\n",
    "                                'CAIXAS':'NÚMERO DE CAIXAS',\n",
    "                                'TESTES':'NÚMERO DE TESTES PREVISTOS'})\n",
    "testes_rs.to_excel(writer,'por_rs', index=False)"
   ]
  },
  {
   "cell_type": "code",
   "execution_count": null,
   "metadata": {},
   "outputs": [],
   "source": [
    "# POR MACRO"
   ]
  },
  {
   "cell_type": "code",
   "execution_count": null,
   "metadata": {},
   "outputs": [],
   "source": [
    "testes_macro = tabela_base.groupby('MACRO')[['Populacao', 'CAIXAS', 'TESTES']].sum().reset_index()\n",
    "testes_macro.loc['TOTAL', ['Populacao', 'CAIXAS', 'TESTES']] = testes_macro[['Populacao', 'CAIXAS', 'TESTES']].sum()\n",
    "testes_macro"
   ]
  },
  {
   "cell_type": "code",
   "execution_count": null,
   "metadata": {},
   "outputs": [],
   "source": [
    "testes_macro = testes_macro.rename(columns={'Populacao':'POPULAÇÃO RESIDENTE',\n",
    "                                'CAIXAS':'NÚMERO DE CAIXAS',\n",
    "                                'TESTES':'NÚMERO DE TESTES PREVISTOS'})\n",
    "testes_macro.to_excel(writer,'por_macro', index=False)"
   ]
  },
  {
   "cell_type": "code",
   "execution_count": null,
   "metadata": {},
   "outputs": [],
   "source": [
    "writer.save()\n",
    "writer.close()"
   ]
  }
 ],
 "metadata": {
  "interpreter": {
   "hash": "1cdc22e96f16e7a709941e5164353478df3c5a2dca8a048b5ddcd85bd66dd558"
  },
  "kernelspec": {
   "display_name": "Python 3 (ipykernel)",
   "language": "python",
   "name": "python3"
  },
  "language_info": {
   "codemirror_mode": {
    "name": "ipython",
    "version": 3
   },
   "file_extension": ".py",
   "mimetype": "text/x-python",
   "name": "python",
   "nbconvert_exporter": "python",
   "pygments_lexer": "ipython3",
   "version": "3.8.11"
  }
 },
 "nbformat": 4,
 "nbformat_minor": 4
}
