{
 "cells": [
  {
   "cell_type": "code",
   "execution_count": null,
   "metadata": {},
   "outputs": [],
   "source": [
    "import sys\n",
    "from pathlib import Path\n",
    "from os import getcwd, remove\n",
    "from os.path import join, basename\n",
    "\n",
    "sys.path.append(str(Path(getcwd()).parent))"
   ]
  },
  {
   "cell_type": "code",
   "execution_count": null,
   "metadata": {},
   "outputs": [],
   "source": [
    "import pandas as pd\n",
    "import numpy as np\n",
    "from os.path import join\n",
    "\n",
    "from datetime import datetime, date, timedelta\n",
    "import random\n",
    "\n",
    "\n",
    "\n",
    "from bulletin import root, default_input, default_output, agora, hoje, ontem, anteontem, dias_apos, dias_apos_label\n",
    "from bulletin.services.metabase import Metabase\n",
    "from bulletin.systems.casos_confirmados import CasosConfirmados\n",
    "from bulletin.systems.notifica import Notifica\n",
    "from bulletin.utils.static import Municipios\n",
    "from bulletin.utils import utils, static\n",
    "from bulletin.utils.xls_ import fit_cols\n",
    "from bulletin.utils.normalize import trim_overspace\n",
    "\n",
    "from bulletin.utils.normalize import normalize_text#normalize_hash, normalize_labels, , date_hash, normalize_number"
   ]
  },
  {
   "cell_type": "code",
   "execution_count": null,
   "metadata": {},
   "outputs": [],
   "source": [
    "from datetime import datetime, date, timedelta\n",
    "\n",
    "exclusao_pathfile = join(root, 'database', 'casos_confirmados')\n",
    "\n",
    "today = pd.to_datetime(date.today())\n",
    "ontem = today - timedelta(1)\n",
    "anteontem = ontem - timedelta(1)\n",
    "data_retroativos = ontem - timedelta(31)\n",
    "\n",
    "random.seed(10)"
   ]
  },
  {
   "cell_type": "code",
   "execution_count": null,
   "metadata": {},
   "outputs": [],
   "source": [
    "municipios = Municipios()\n",
    "municipios['mun_resid'] = municipios['municipio']\n",
    "municipios.loc[municipios['uf']!='PR','mun_resid'] = municipios.loc[municipios['uf']!='PR','municipio'] + '/' + municipios['uf']"
   ]
  },
  {
   "cell_type": "code",
   "execution_count": null,
   "metadata": {},
   "outputs": [],
   "source": [
    "cc = CasosConfirmados()\n",
    "cc.load(f\"cc_{hoje.strftime('%d_%m_%Y')}\", compress=True)\n",
    "\n",
    "cc.df = pd.merge(cc.df.rename(columns={'ibge_residencia':'ibge'}),municipios[['ibge','macro','rs','mun_resid','uf','municipio','regional','populacao']],on='ibge',how='left').rename(columns={'ibge':'ibge_residencia'})\n",
    "cc.df = pd.merge(cc.df.rename(columns={'ibge_unidade_notifica':'ibge'}),municipios[['ibge','mun_resid']].rename(columns={'mun_resid':'mun_atend'}),on='ibge',how='left').rename(columns={'ibge':'ibge_unidade_notifica'})"
   ]
  },
  {
   "cell_type": "code",
   "execution_count": null,
   "metadata": {},
   "outputs": [],
   "source": [
    "casos_confirmados = cc.df.loc[(cc.df['data_diagnostico'] >= '2021-07-01') & (cc.df['data_diagnostico'] <= '2021-07-14')]\n",
    "casos_confirmados = casos_confirmados.loc[casos_confirmados['uf'] == 'PR']"
   ]
  },
  {
   "cell_type": "code",
   "execution_count": null,
   "metadata": {},
   "outputs": [],
   "source": [
    "casos_confirmados.groupby(['macro', 'rs', 'municipio','populacao'])[['sexo']].count().reset_index()"
   ]
  },
  {
   "cell_type": "code",
   "execution_count": null,
   "metadata": {},
   "outputs": [],
   "source": [
    "coef_inc = casos_confirmados.groupby(['macro', 'rs', 'municipio','populacao'])[['sexo']].count().reset_index().rename(columns={'sexo':'casos'})\n",
    "coef_inc"
   ]
  },
  {
   "cell_type": "code",
   "execution_count": null,
   "metadata": {},
   "outputs": [],
   "source": [
    "coef_inc['coef_incidencia'] = coef_inc['casos'] / coef_inc['casos'].sum()"
   ]
  },
  {
   "cell_type": "code",
   "execution_count": null,
   "metadata": {},
   "outputs": [],
   "source": [
    "coef_inc['CAIXAS'] = 1"
   ]
  },
  {
   "cell_type": "code",
   "execution_count": null,
   "metadata": {},
   "outputs": [],
   "source": [
    "coef_inc['CAIXAS_ADICIONAIS'] = np.floor(coef_inc['coef_incidencia'] * 1609)"
   ]
  },
  {
   "cell_type": "code",
   "execution_count": null,
   "metadata": {},
   "outputs": [],
   "source": [
    "coef_inc['CAIXAS_ADICIONAIS'].sum()"
   ]
  },
  {
   "cell_type": "code",
   "execution_count": null,
   "metadata": {},
   "outputs": [],
   "source": [
    "coef_inc['CAIXAS'] = coef_inc['CAIXAS'] + coef_inc['CAIXAS_ADICIONAIS'].fillna(0)\n",
    "del(coef_inc['CAIXAS_ADICIONAIS'])\n",
    "coef_inc"
   ]
  },
  {
   "cell_type": "code",
   "execution_count": null,
   "metadata": {},
   "outputs": [],
   "source": [
    "pesos = coef_inc.loc[coef_inc['casos'] >= 50].reset_index()\n",
    "pesos"
   ]
  },
  {
   "cell_type": "code",
   "execution_count": null,
   "metadata": {},
   "outputs": [],
   "source": [
    "testes_randomicos = random.choices(pesos['municipio'], weights=pesos['coef_incidencia'], k=195)"
   ]
  },
  {
   "cell_type": "code",
   "execution_count": null,
   "metadata": {},
   "outputs": [],
   "source": [
    "testes_previstos = coef_inc.join(pd.Series(testes_randomicos, name='CAIXAS_ADICIONAIS').value_counts(), on='municipio')\n",
    "testes_previstos"
   ]
  },
  {
   "cell_type": "code",
   "execution_count": null,
   "metadata": {},
   "outputs": [],
   "source": [
    "testes_previstos['CAIXAS'] = testes_previstos['CAIXAS'] + testes_previstos['CAIXAS_ADICIONAIS'].fillna(0)\n",
    "del(testes_previstos['CAIXAS_ADICIONAIS'])\n",
    "testes_previstos"
   ]
  },
  {
   "cell_type": "code",
   "execution_count": null,
   "metadata": {},
   "outputs": [],
   "source": [
    "testes_previstos['CAIXAS'] = testes_previstos['CAIXAS'].fillna(0)\n",
    "testes_previstos['TESTES'] = testes_previstos['CAIXAS'] * 20\n",
    "testes_previstos.loc['TOTAL', ['populacao', 'casos', 'CAIXAS', 'TESTES']] = testes_previstos[['populacao', 'casos', 'CAIXAS', 'TESTES']].sum()"
   ]
  },
  {
   "cell_type": "code",
   "execution_count": null,
   "metadata": {},
   "outputs": [],
   "source": [
    "testes_previstos"
   ]
  },
  {
   "cell_type": "code",
   "execution_count": null,
   "metadata": {},
   "outputs": [],
   "source": [
    "testes_previstos = testes_previstos.sort_values(['rs', 'municipio'])\n",
    "testes_previstos"
   ]
  },
  {
   "cell_type": "code",
   "execution_count": null,
   "metadata": {},
   "outputs": [],
   "source": [
    "# POR MUNICIPIO"
   ]
  },
  {
   "cell_type": "code",
   "execution_count": null,
   "metadata": {},
   "outputs": [],
   "source": [
    "testes_municipios = testes_previstos.rename(columns={'populacao':'POPULAÇÃO RESIDENTE',\n",
    "                                'casos':'CASOS NOS ÚLTIMOS 3 MESES',\n",
    "                                'coef_incidencia':'% do TOTAL de casos',\n",
    "                                'CAIXAS':'NÚMERO DE CAIXAS',\n",
    "                                'TESTES':'NÚMERO DE TESTES PREVISTOS',\n",
    "                                'macro':'MACRO',\n",
    "                                'municipio':'MUNICÍPIO',\n",
    "                                'rs':'RS'})\n",
    "testes_municipios.to_excel('testes_previstos_municipios.xlsx')"
   ]
  },
  {
   "cell_type": "code",
   "execution_count": null,
   "metadata": {},
   "outputs": [],
   "source": [
    "testes_rs = testes_previstos.groupby('rs').sum()\n",
    "testes_rs.loc['TOTAL', ['populacao', 'casos', 'CAIXAS', 'TESTES']] = testes_rs[['populacao', 'casos', 'CAIXAS', 'TESTES']].sum()"
   ]
  },
  {
   "cell_type": "code",
   "execution_count": null,
   "metadata": {},
   "outputs": [],
   "source": [
    "# POR RS"
   ]
  },
  {
   "cell_type": "code",
   "execution_count": null,
   "metadata": {},
   "outputs": [],
   "source": [
    "testes_rs = testes_rs.rename(columns={'populacao':'POPULAÇÃO RESIDENTE',\n",
    "                                'casos':'CASOS NOS ÚLTIMOS 3 MESES',\n",
    "                                'coef_incidencia':'% do TOTAL de casos',\n",
    "                                'CAIXAS':'NÚMERO DE CAIXAS',\n",
    "                                'TESTES':'NÚMERO DE TESTES PREVISTOS',\n",
    "                                'macro':'MACRO',\n",
    "                                'municipio':'MUNICÍPIO',\n",
    "                                'rs':'RS'})\n",
    "testes_rs.to_excel('testes_previstos_rs.xlsx')"
   ]
  },
  {
   "cell_type": "code",
   "execution_count": null,
   "metadata": {},
   "outputs": [],
   "source": [
    "# POR MACRO"
   ]
  },
  {
   "cell_type": "code",
   "execution_count": null,
   "metadata": {},
   "outputs": [],
   "source": [
    "testes_macro = testes_previstos.groupby('macro').sum()\n",
    "testes_macro.loc['TOTAL', ['populacao', 'casos', 'CAIXAS', 'TESTES']] = testes_macro[['populacao', 'casos', 'CAIXAS', 'TESTES']].sum()"
   ]
  },
  {
   "cell_type": "code",
   "execution_count": null,
   "metadata": {},
   "outputs": [],
   "source": [
    "testes_macro = testes_macro.rename(columns={'populacao':'POPULAÇÃO RESIDENTE',\n",
    "                                'casos':'CASOS NOS ÚLTIMOS 3 MESES',\n",
    "                                'coef_incidencia':'% do TOTAL de casos',\n",
    "                                'CAIXAS':'NÚMERO DE CAIXAS',\n",
    "                                'TESTES':'NÚMERO DE TESTES PREVISTOS',\n",
    "                                'macro':'MACRO',\n",
    "                                'municipio':'MUNICÍPIO',\n",
    "                                'rs':'RS'})\n",
    "testes_macro.to_excel('testes_previstos_macro.xlsx')"
   ]
  }
 ],
 "metadata": {
  "interpreter": {
   "hash": "1cdc22e96f16e7a709941e5164353478df3c5a2dca8a048b5ddcd85bd66dd558"
  },
  "kernelspec": {
   "display_name": "Python 3 (ipykernel)",
   "language": "python",
   "name": "python3"
  },
  "language_info": {
   "codemirror_mode": {
    "name": "ipython",
    "version": 3
   },
   "file_extension": ".py",
   "mimetype": "text/x-python",
   "name": "python",
   "nbconvert_exporter": "python",
   "pygments_lexer": "ipython3",
   "version": "3.8.11"
  }
 },
 "nbformat": 4,
 "nbformat_minor": 4
}
