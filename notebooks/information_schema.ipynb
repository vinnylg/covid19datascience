{
 "cells": [
  {
   "cell_type": "code",
   "execution_count": 1,
   "metadata": {},
   "outputs": [],
   "source": [
    "import sys\n",
    "from sys import exit\n",
    "from pathlib import Path\n",
    "from os import getcwd\n",
    "from os.path import join\n",
    "\n",
    "sys.path.append(str(Path(getcwd()).parent))"
   ]
  },
  {
   "cell_type": "code",
   "execution_count": 2,
   "metadata": {},
   "outputs": [
    {
     "name": "stdout",
     "output_type": "stream",
     "text": [
      "\n",
      "---------------------------------------------------------------\n",
      "\n",
      "root: /home/vinnylg/projects/covid19datascience/bulletin\n",
      "parent: /home/vinnylg/projects/covid19datascience\n",
      "default_input: /home/vinnylg/projects/covid19datascience/input\n",
      "default_output: /home/vinnylg/projects/covid19datascience/output\n",
      "\n",
      "---------------------------------------------------------------\n",
      "\n",
      "limit: 65536\n",
      "Cookie:'8d43f********-****-****-****-************5aece'\n",
      "\n",
      "sql_files:\n",
      "\t0: diario\n",
      "\t1: old_diario\n",
      "\t2: all_notifica\n",
      "\n",
      "sql_results:\n",
      "\t0: all_notifica_len_202106041103\n"
     ]
    }
   ],
   "source": [
    "import codecs\n",
    "import pandas as pd\n",
    "import numpy as np\n",
    "from bulletin.services.metabase import Metabase\n",
    "from bulletin import default_output, root\n",
    "from bulletin.systems.notifica import Notifica\n",
    "\n",
    "mb = Metabase(limit=2**16)\n",
    "\n",
    "pd.set_option('display.max_columns', None)"
   ]
  },
  {
   "cell_type": "code",
   "execution_count": 3,
   "metadata": {},
   "outputs": [],
   "source": [
    "# mb.download_tables()"
   ]
  },
  {
   "cell_type": "code",
   "execution_count": 4,
   "metadata": {
    "tags": []
   },
   "outputs": [],
   "source": [
    "# information_schema = mb.information_schema_columns()\n",
    "# constraint = mb.constraint()\n",
    "# notificacao = mb.notificacao_information_schema()\n",
    "\n",
    "# with codecs.open('tables.dbml',\"w+\",\"utf-8-sig\") as out:\n",
    "#     for table_name, table in information_schema.groupby('table_name'):\n",
    "#         if table_name in notificacao['foreign_table_name'].unique():\n",
    "#             out.write(f\"Table {table_name}\" + \" {\\n\")\n",
    "#             for column_name, udt_name in zip(table['column_name'],table['udt_name']):\n",
    "#                 if column_name in constraint.loc[constraint['foreign_table_name']==table_name,'foreign_column_name'].values: \n",
    "#                     out.write(f\"\\t {column_name} {udt_name} [pk]\\n\")\n",
    "#                     notificacao.loc[notificacao['foreign_table_name']==table_name,'ref'] = f\"[ref: - {table_name}.{column_name}]\"\n",
    "#                 else:\n",
    "#                     out.write(f\"\\t {column_name} {udt_name}\\n\")\n",
    "#             out.write(\"}\\n\\n\")\n",
    "    \n",
    "#     notificacao.loc[notificacao['ref'].isna(),'ref'] = ''\n",
    "\n",
    "#     out.write(f\"Table notificacao\" + \" {\\n\")\n",
    "#     for column_name, udt_name,ref in zip(notificacao['column'],notificacao['dtypes'],notificacao['ref']):\n",
    "#         out.write(f\"\\t {column_name} {udt_name} {ref}\\n\")\n",
    "#     out.write(\"}\\n\\n\")\n",
    "    \n",
    "# notificacao"
   ]
  },
  {
   "cell_type": "code",
   "execution_count": 5,
   "metadata": {},
   "outputs": [],
   "source": [
    "# information_schema = mb.information_schema_columns()\n",
    "# notificacao = mb.notificacao_information_schema()\n",
    "\n",
    "# with codecs.open(join(root,'resources','notificacao.dbml'),\"w+\",\"utf-8-sig\") as out:\n",
    "#     out.write('\\n')\n",
    "#     for table_name, table in information_schema.groupby('table_name'):\n",
    "#         if table_name in notificacao['foreign_table_name'].values:\n",
    "#             out.write(f\"Table {table_name}\" + \" {\\n\")\n",
    "#             for column_name, udt_name in zip(table['column_name'],table['udt_name']):          \n",
    "#                 if column_name in notificacao.loc[notificacao['foreign_table_name']==table_name,'foreign_column_name'].values: \n",
    "#                     out.write(f\"\\t {column_name} {udt_name} [pk]\\n\")\n",
    "#                 else:\n",
    "#                     out.write(f\"\\t {column_name} {udt_name}\\n\")\n",
    "#             out.write(\"}\\n\\n\")\n",
    "\n",
    "#     notificacao.loc[notificacao['ref'].isna(),'ref'] = ''\n",
    "\n",
    "#     out.write(f\"Table notificacao\" + \" {\\n\")\n",
    "#     for column_name, udt_name,ref in zip(notificacao['column'],notificacao['dtypes'],notificacao['ref']):\n",
    "#         out.write(f\"\\t {column_name} {udt_name} {ref}\\n\")\n",
    "#     out.write(\"}\\n\\n\")\n",
    "    \n",
    "# notificacao"
   ]
  },
  {
   "cell_type": "code",
   "execution_count": 6,
   "metadata": {},
   "outputs": [
    {
     "name": "stdout",
     "output_type": "stream",
     "text": [
      "Select 179 columns\n",
      "\n",
      "sql_files:\n",
      "\t0: diario\n",
      "\t1: old_diario\n",
      "\t2: all_notifica\n"
     ]
    }
   ],
   "source": [
    "with open(join(root,'resources','sql','all_notifica.sql'),'w') as output:\n",
    "    output.write(mb.generate_notifica_query(usecols=False))\n",
    "\n",
    "mb.list_sql_files()"
   ]
  },
  {
   "cell_type": "code",
   "execution_count": 7,
   "metadata": {},
   "outputs": [
    {
     "name": "stdout",
     "output_type": "stream",
     "text": [
      "download_query(all_notifica)\n",
      "\n",
      "query_size: 3921805\n",
      "\n",
      "Appending /home/vinnylg/projects/covid19datascience/input/queries/tmp/all_notifica_0_65536_202106041103.csv\n"
     ]
    },
    {
     "name": "stderr",
     "output_type": "stream",
     "text": [
      "/home/vinnylg/projects/covid19datascience/bulletin/utils/utils.py:14: FutureWarning: Comparison of NaT with datetime.date is deprecated in order to match the standard library behavior.  In a future version these will be considered non-comparable.\n",
      "  if dt >= begin:\n"
     ]
    },
    {
     "name": "stdout",
     "output_type": "stream",
     "text": [
      "Appending /home/vinnylg/projects/covid19datascience/input/queries/tmp/all_notifica_65536_131072_202106041103.csv\n",
      "Appending /home/vinnylg/projects/covid19datascience/input/queries/tmp/all_notifica_131072_196608_202106041104.csv\n",
      "Appending /home/vinnylg/projects/covid19datascience/input/queries/tmp/all_notifica_196608_262144_202106041105.csv\n",
      "Appending /home/vinnylg/projects/covid19datascience/input/queries/tmp/all_notifica_262144_327680_202106041105.csv\n",
      "Appending /home/vinnylg/projects/covid19datascience/input/queries/tmp/all_notifica_327680_393216_202106041106.csv\n",
      "Appending /home/vinnylg/projects/covid19datascience/input/queries/tmp/all_notifica_393216_458752_202106041107.csv\n",
      "Appending /home/vinnylg/projects/covid19datascience/input/queries/tmp/all_notifica_458752_524288_202106041107.csv\n",
      "Appending /home/vinnylg/projects/covid19datascience/input/queries/tmp/all_notifica_524288_589824_202106041108.csv\n",
      "Appending /home/vinnylg/projects/covid19datascience/input/queries/tmp/all_notifica_589824_655360_202106041109.csv\n",
      "Appending /home/vinnylg/projects/covid19datascience/input/queries/tmp/all_notifica_655360_720896_202106041110.csv\n",
      "Appending /home/vinnylg/projects/covid19datascience/input/queries/tmp/all_notifica_720896_786432_202106041111.csv\n",
      "Appending /home/vinnylg/projects/covid19datascience/input/queries/tmp/all_notifica_786432_851968_202106041113.csv\n",
      "Appending /home/vinnylg/projects/covid19datascience/input/queries/tmp/all_notifica_851968_917504_202106041114.csv\n",
      "Appending /home/vinnylg/projects/covid19datascience/input/queries/tmp/all_notifica_917504_983040_202106041116.csv\n",
      "Appending /home/vinnylg/projects/covid19datascience/input/queries/tmp/all_notifica_983040_1048576_202106041117.csv\n",
      "Appending /home/vinnylg/projects/covid19datascience/input/queries/tmp/all_notifica_1048576_1114112_202106041119.csv\n",
      "Appending /home/vinnylg/projects/covid19datascience/input/queries/tmp/all_notifica_1114112_1179648_202106041120.csv\n"
     ]
    },
    {
     "name": "stderr",
     "output_type": "stream",
     "text": [
      "/home/vinnylg/.local/lib/python3.8/site-packages/IPython/core/interactiveshell.py:3437: DtypeWarning: Columns (58) have mixed types.Specify dtype option on import or set low_memory=False.\n",
      "  exec(code_obj, self.user_global_ns, self.user_ns)\n"
     ]
    },
    {
     "name": "stdout",
     "output_type": "stream",
     "text": [
      "Appending /home/vinnylg/projects/covid19datascience/input/queries/tmp/all_notifica_1179648_1245184_202106041121.csv\n",
      "Appending /home/vinnylg/projects/covid19datascience/input/queries/tmp/all_notifica_1245184_1310720_202106041122.csv\n",
      "Appending /home/vinnylg/projects/covid19datascience/input/queries/tmp/all_notifica_1310720_1376256_202106041124.csv\n",
      "Appending /home/vinnylg/projects/covid19datascience/input/queries/tmp/all_notifica_1376256_1441792_202106041125.csv\n",
      "Appending /home/vinnylg/projects/covid19datascience/input/queries/tmp/all_notifica_1441792_1507328_202106041126.csv\n",
      "Appending /home/vinnylg/projects/covid19datascience/input/queries/tmp/all_notifica_1507328_1572864_202106041127.csv\n",
      "Appending /home/vinnylg/projects/covid19datascience/input/queries/tmp/all_notifica_1572864_1638400_202106041129.csv\n",
      "Appending /home/vinnylg/projects/covid19datascience/input/queries/tmp/all_notifica_1638400_1703936_202106041131.csv\n",
      "Appending /home/vinnylg/projects/covid19datascience/input/queries/tmp/all_notifica_1703936_1769472_202106041133.csv\n",
      "Appending /home/vinnylg/projects/covid19datascience/input/queries/tmp/all_notifica_1769472_1835008_202106041135.csv\n",
      "Appending /home/vinnylg/projects/covid19datascience/input/queries/tmp/all_notifica_1835008_1900544_202106041137.csv\n",
      "Appending /home/vinnylg/projects/covid19datascience/input/queries/tmp/all_notifica_1900544_1966080_202106041139.csv\n",
      "Appending /home/vinnylg/projects/covid19datascience/input/queries/tmp/all_notifica_1966080_2031616_202106041141.csv\n",
      "Appending /home/vinnylg/projects/covid19datascience/input/queries/tmp/all_notifica_2031616_2097152_202106041143.csv\n",
      "Appending /home/vinnylg/projects/covid19datascience/input/queries/tmp/all_notifica_2097152_2162688_202106041145.csv\n",
      "Appending /home/vinnylg/projects/covid19datascience/input/queries/tmp/all_notifica_2162688_2228224_202106041148.csv\n",
      "Appending /home/vinnylg/projects/covid19datascience/input/queries/tmp/all_notifica_2228224_2293760_202106041151.csv\n",
      "Appending /home/vinnylg/projects/covid19datascience/input/queries/tmp/all_notifica_2293760_2359296_202106041156.csv\n",
      "Appending /home/vinnylg/projects/covid19datascience/input/queries/tmp/all_notifica_2359296_2424832_202106041200.csv\n",
      "Appending /home/vinnylg/projects/covid19datascience/input/queries/tmp/all_notifica_2424832_2490368_202106041203.csv\n",
      "Appending /home/vinnylg/projects/covid19datascience/input/queries/tmp/all_notifica_2490368_2555904_202106041205.csv\n",
      "Appending /home/vinnylg/projects/covid19datascience/input/queries/tmp/all_notifica_2555904_2621440_202106041208.csv\n",
      "Appending /home/vinnylg/projects/covid19datascience/input/queries/tmp/all_notifica_2621440_2686976_202106041210.csv\n",
      "Appending /home/vinnylg/projects/covid19datascience/input/queries/tmp/all_notifica_2686976_2752512_202106041214.csv\n",
      "Appending /home/vinnylg/projects/covid19datascience/input/queries/tmp/all_notifica_2752512_2818048_202106041216.csv\n",
      "Appending /home/vinnylg/projects/covid19datascience/input/queries/tmp/all_notifica_2818048_2883584_202106041219.csv\n",
      "Appending /home/vinnylg/projects/covid19datascience/input/queries/tmp/all_notifica_2883584_2949120_202106041221.csv\n",
      "Appending /home/vinnylg/projects/covid19datascience/input/queries/tmp/all_notifica_2949120_3014656_202106041224.csv\n",
      "Appending /home/vinnylg/projects/covid19datascience/input/queries/tmp/all_notifica_3014656_3080192_202106041226.csv\n",
      "Appending /home/vinnylg/projects/covid19datascience/input/queries/tmp/all_notifica_3080192_3145728_202106041229.csv\n",
      "Appending /home/vinnylg/projects/covid19datascience/input/queries/tmp/all_notifica_3145728_3211264_202106041234.csv\n",
      "Appending /home/vinnylg/projects/covid19datascience/input/queries/tmp/all_notifica_3211264_3276800_202106041237.csv\n",
      "Appending /home/vinnylg/projects/covid19datascience/input/queries/tmp/all_notifica_3276800_3342336_202106041242.csv\n",
      "Appending /home/vinnylg/projects/covid19datascience/input/queries/tmp/all_notifica_3342336_3407872_202106041247.csv\n",
      "Appending /home/vinnylg/projects/covid19datascience/input/queries/tmp/all_notifica_3407872_3473408_202106041252.csv\n",
      "Appending /home/vinnylg/projects/covid19datascience/input/queries/tmp/all_notifica_3473408_3538944_202106041255.csv\n",
      "Appending /home/vinnylg/projects/covid19datascience/input/queries/tmp/all_notifica_3538944_3604480_202106041259.csv\n",
      "Appending /home/vinnylg/projects/covid19datascience/input/queries/tmp/all_notifica_3604480_3670016_202106041303.csv\n",
      "Appending /home/vinnylg/projects/covid19datascience/input/queries/tmp/all_notifica_3670016_3735552_202106041307.csv\n",
      "Appending /home/vinnylg/projects/covid19datascience/input/queries/tmp/all_notifica_3735552_3801088_202106041312.csv\n",
      "Appending /home/vinnylg/projects/covid19datascience/input/queries/tmp/all_notifica_3801088_3866624_202106041316.csv\n",
      "Appending /home/vinnylg/projects/covid19datascience/input/queries/tmp/all_notifica_3866624_3932160_202106041321.csv\n",
      "saving all in /home/vinnylg/projects/covid19datascience/input/queries/all_notifica.csv\n",
      "Download query time elepsed:02:29:21\n"
     ]
    }
   ],
   "source": [
    "notifica = Notifica()\n",
    "mb.download_query('all_notifica', dtype=notifica.dtypes, converters=notifica.converters, load=True)\n",
    "notifica.df"
   ]
  },
  {
   "cell_type": "code",
   "execution_count": null,
   "metadata": {},
   "outputs": [],
   "source": []
  },
  {
   "cell_type": "code",
   "execution_count": null,
   "metadata": {},
   "outputs": [],
   "source": []
  }
 ],
 "metadata": {
  "kernelspec": {
   "display_name": "Python 3",
   "language": "python",
   "name": "python3"
  },
  "language_info": {
   "codemirror_mode": {
    "name": "ipython",
    "version": 3
   },
   "file_extension": ".py",
   "mimetype": "text/x-python",
   "name": "python",
   "nbconvert_exporter": "python",
   "pygments_lexer": "ipython3",
   "version": "3.8.5"
  }
 },
 "nbformat": 4,
 "nbformat_minor": 4
}
