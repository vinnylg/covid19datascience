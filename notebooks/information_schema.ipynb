{
 "cells": [
  {
   "cell_type": "code",
   "execution_count": 1,
   "metadata": {},
   "outputs": [],
   "source": [
    "import sys\n",
    "from sys import exit\n",
    "from pathlib import Path\n",
    "from os import getcwd\n",
    "\n",
    "sys.path.append(str(Path(getcwd()).parent))"
   ]
  },
  {
   "cell_type": "code",
   "execution_count": 2,
   "metadata": {},
   "outputs": [
    {
     "name": "stdout",
     "output_type": "stream",
     "text": [
      "\n",
      "---------------------------------------------------------------\n",
      "\n",
      "root: /home/vinnylg/projects/covid19datascience/bulletin\n",
      "parent: /home/vinnylg/projects/covid19datascience\n",
      "default_input: /home/vinnylg/projects/covid19datascience/input\n",
      "default_output: /home/vinnylg/projects/covid19datascience/output\n",
      "\n",
      "---------------------------------------------------------------\n",
      "\n",
      "Cookie:'8d43f********-****-****-****-************5aece'\n",
      "\n",
      "saved_queries: ['diario', 'old_diario', 'all_notifica'] \n",
      "\n"
     ]
    }
   ],
   "source": [
    "import codecs\n",
    "import pandas as pd\n",
    "import numpy as np\n",
    "from bulletin.services.metabase import Metabase\n",
    "\n",
    "mb = Metabase()\n",
    "\n",
    "pd.set_option('display.max_columns', None)"
   ]
  },
  {
   "cell_type": "code",
   "execution_count": 3,
   "metadata": {},
   "outputs": [
    {
     "name": "stdout",
     "output_type": "stream",
     "text": [
      "Success code 200\n",
      "Download finish, time elapsed: 0:00:00.432689\n",
      "downloaded shape (179, 3)\n",
      "\n",
      "Success code 200\n",
      "Download finish, time elapsed: 0:00:00.369113\n",
      "downloaded shape (3933, 3)\n",
      "\n",
      "Success code 200\n",
      "Download finish, time elapsed: 0:00:01.014853\n",
      "downloaded shape (219, 5)\n",
      "\n",
      "Download tables time elepsed:00:00:02\n"
     ]
    }
   ],
   "source": [
    "notificacao, information_schema, constraint = mb.download_tables()"
   ]
  },
  {
   "cell_type": "code",
   "execution_count": 4,
   "metadata": {},
   "outputs": [
    {
     "data": {
      "text/html": [
       "<div>\n",
       "<style scoped>\n",
       "    .dataframe tbody tr th:only-of-type {\n",
       "        vertical-align: middle;\n",
       "    }\n",
       "\n",
       "    .dataframe tbody tr th {\n",
       "        vertical-align: top;\n",
       "    }\n",
       "\n",
       "    .dataframe thead th {\n",
       "        text-align: right;\n",
       "    }\n",
       "</style>\n",
       "<table border=\"1\" class=\"dataframe\">\n",
       "  <thead>\n",
       "    <tr style=\"text-align: right;\">\n",
       "      <th></th>\n",
       "      <th>table_name</th>\n",
       "      <th>column_name</th>\n",
       "      <th>udt_name</th>\n",
       "      <th>constraint_name</th>\n",
       "      <th>foreign_table_name</th>\n",
       "      <th>foreign_column_name</th>\n",
       "    </tr>\n",
       "  </thead>\n",
       "  <tbody>\n",
       "    <tr>\n",
       "      <th>0</th>\n",
       "      <td>notificacao</td>\n",
       "      <td>id</td>\n",
       "      <td>int4</td>\n",
       "      <td></td>\n",
       "      <td></td>\n",
       "      <td></td>\n",
       "    </tr>\n",
       "    <tr>\n",
       "      <th>1</th>\n",
       "      <td>notificacao</td>\n",
       "      <td>data_notificacao</td>\n",
       "      <td>timestamp</td>\n",
       "      <td></td>\n",
       "      <td></td>\n",
       "      <td></td>\n",
       "    </tr>\n",
       "    <tr>\n",
       "      <th>2</th>\n",
       "      <td>notificacao</td>\n",
       "      <td>possui_cpf</td>\n",
       "      <td>int4</td>\n",
       "      <td>possui_cpf</td>\n",
       "      <td>sim_nao</td>\n",
       "      <td>id</td>\n",
       "    </tr>\n",
       "    <tr>\n",
       "      <th>3</th>\n",
       "      <td>notificacao</td>\n",
       "      <td>tipo_paciente</td>\n",
       "      <td>int4</td>\n",
       "      <td>tipo_paciente</td>\n",
       "      <td>tipo_paciente</td>\n",
       "      <td>id</td>\n",
       "    </tr>\n",
       "    <tr>\n",
       "      <th>4</th>\n",
       "      <td>notificacao</td>\n",
       "      <td>pais_residencia</td>\n",
       "      <td>varchar</td>\n",
       "      <td>pais_residencia</td>\n",
       "      <td>pais</td>\n",
       "      <td>co_pais</td>\n",
       "    </tr>\n",
       "    <tr>\n",
       "      <th>...</th>\n",
       "      <td>...</td>\n",
       "      <td>...</td>\n",
       "      <td>...</td>\n",
       "      <td>...</td>\n",
       "      <td>...</td>\n",
       "      <td>...</td>\n",
       "    </tr>\n",
       "    <tr>\n",
       "      <th>174</th>\n",
       "      <td>notificacao</td>\n",
       "      <td>lote_covid19_1a</td>\n",
       "      <td>varchar</td>\n",
       "      <td></td>\n",
       "      <td></td>\n",
       "      <td></td>\n",
       "    </tr>\n",
       "    <tr>\n",
       "      <th>175</th>\n",
       "      <td>notificacao</td>\n",
       "      <td>data_covid19_2a</td>\n",
       "      <td>date</td>\n",
       "      <td></td>\n",
       "      <td></td>\n",
       "      <td></td>\n",
       "    </tr>\n",
       "    <tr>\n",
       "      <th>176</th>\n",
       "      <td>notificacao</td>\n",
       "      <td>lote_covid19_2a</td>\n",
       "      <td>varchar</td>\n",
       "      <td></td>\n",
       "      <td></td>\n",
       "      <td></td>\n",
       "    </tr>\n",
       "    <tr>\n",
       "      <th>177</th>\n",
       "      <td>notificacao</td>\n",
       "      <td>vacina_influenza</td>\n",
       "      <td>int4</td>\n",
       "      <td></td>\n",
       "      <td></td>\n",
       "      <td></td>\n",
       "    </tr>\n",
       "    <tr>\n",
       "      <th>178</th>\n",
       "      <td>notificacao</td>\n",
       "      <td>data_vac_influenza</td>\n",
       "      <td>date</td>\n",
       "      <td></td>\n",
       "      <td></td>\n",
       "      <td></td>\n",
       "    </tr>\n",
       "  </tbody>\n",
       "</table>\n",
       "<p>179 rows × 6 columns</p>\n",
       "</div>"
      ],
      "text/plain": [
       "      table_name         column_name   udt_name  constraint_name  \\\n",
       "0    notificacao                  id       int4                    \n",
       "1    notificacao    data_notificacao  timestamp                    \n",
       "2    notificacao          possui_cpf       int4       possui_cpf   \n",
       "3    notificacao       tipo_paciente       int4    tipo_paciente   \n",
       "4    notificacao     pais_residencia    varchar  pais_residencia   \n",
       "..           ...                 ...        ...              ...   \n",
       "174  notificacao     lote_covid19_1a    varchar                    \n",
       "175  notificacao     data_covid19_2a       date                    \n",
       "176  notificacao     lote_covid19_2a    varchar                    \n",
       "177  notificacao    vacina_influenza       int4                    \n",
       "178  notificacao  data_vac_influenza       date                    \n",
       "\n",
       "    foreign_table_name foreign_column_name  \n",
       "0                                           \n",
       "1                                           \n",
       "2              sim_nao                  id  \n",
       "3        tipo_paciente                  id  \n",
       "4                 pais             co_pais  \n",
       "..                 ...                 ...  \n",
       "174                                         \n",
       "175                                         \n",
       "176                                         \n",
       "177                                         \n",
       "178                                         \n",
       "\n",
       "[179 rows x 6 columns]"
      ]
     },
     "execution_count": 4,
     "metadata": {},
     "output_type": "execute_result"
    }
   ],
   "source": [
    "# notificacao.loc[notificacao['foreign_table_name']=='sim_nao', 'udt_name'] = 'bool'\n",
    "# notificacao.loc[notificacao['foreign_table_name']=='sim_nao', ['constraint_name', 'foreign_table_name', 'foreign_column_name']] = ''\n",
    "notificacao.to_csv('notificacao_constraint.csv', index=False)\n",
    "notificacao"
   ]
  },
  {
   "cell_type": "code",
   "execution_count": 5,
   "metadata": {},
   "outputs": [
    {
     "ename": "SystemExit",
     "evalue": "",
     "output_type": "error",
     "traceback": [
      "An exception has occurred, use %tb to see the full traceback.\n",
      "\u001b[0;31mSystemExit\u001b[0m\n"
     ]
    },
    {
     "name": "stderr",
     "output_type": "stream",
     "text": [
      "/home/vinnylg/.local/lib/python3.8/site-packages/IPython/core/interactiveshell.py:3445: UserWarning: To exit: use 'exit', 'quit', or Ctrl-D.\n",
      "  warn(\"To exit: use 'exit', 'quit', or Ctrl-D.\", stacklevel=1)\n"
     ]
    }
   ],
   "source": [
    "exit()"
   ]
  },
  {
   "cell_type": "code",
   "execution_count": null,
   "metadata": {},
   "outputs": [],
   "source": [
    "constraint = constraint.loc[constraint['foreign_table_name']!='sim_nao'] \n",
    "constraint"
   ]
  },
  {
   "cell_type": "code",
   "execution_count": null,
   "metadata": {
    "tags": []
   },
   "outputs": [],
   "source": [
    "with codecs.open('tables.dbml',\"w\",\"utf-8-sig\") as out:\n",
    "\n",
    "    for table_name, table in information_schema.groupby('table_name'):\n",
    "        if any(table_name in n for n in notificacao['foreign_table_name'].values):\n",
    "            out.write(f\"Table {table_name}\" + \" {\\n\")\n",
    "            for column_name, udt_name in zip(table['column_name'],table['udt_name']):\n",
    "                if column_name in constraint.loc[constraint['table_name'] == table_name, 'foreign_column_name'].values:\n",
    "                    out.write(f\"\\t {column_name} {udt_name} [pk]\\n\")\n",
    "                    notificacao.loc[notificacao['foreign_table_name']==table_name,'ref'] = f\"[ref: - {table_name}.{column_name}]\"\n",
    "                else:\n",
    "                    out.write(f\"\\t {column_name} {udt_name}\\n\")\n",
    "            out.write(\"}\\n\\n\")\n",
    "\n",
    "\n",
    "    out.write(f\"Table notificacao\" + \" {\\n\")\n",
    "    for column_name, udt_name,ref in zip(notificacao['column_name'],notificacao['udt_name'],notificacao['ref']):\n",
    "        out.write(f\"\\t {column_name} {udt_name} {ref if ref != None else ''}\\n\")\n",
    "    out.write(\"}\\n\\n\")"
   ]
  },
  {
   "cell_type": "code",
   "execution_count": null,
   "metadata": {},
   "outputs": [],
   "source": []
  },
  {
   "cell_type": "code",
   "execution_count": null,
   "metadata": {},
   "outputs": [],
   "source": []
  }
 ],
 "metadata": {
  "kernelspec": {
   "display_name": "Python 3",
   "language": "python",
   "name": "python3"
  },
  "language_info": {
   "codemirror_mode": {
    "name": "ipython",
    "version": 3
   },
   "file_extension": ".py",
   "mimetype": "text/x-python",
   "name": "python",
   "nbconvert_exporter": "python",
   "pygments_lexer": "ipython3",
   "version": "3.8.5"
  }
 },
 "nbformat": 4,
 "nbformat_minor": 4
}
