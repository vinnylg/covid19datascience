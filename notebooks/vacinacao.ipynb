{
 "cells": [
  {
   "cell_type": "code",
   "execution_count": 1,
   "metadata": {},
   "outputs": [
    {
     "name": "stdout",
     "output_type": "stream",
     "text": [
      "\n",
      "---------------------------------------------------------------\n",
      "\n",
      "root: C:\\SESA\\dev\\bulletin\n",
      "parent: C:\\SESA\\dev\n",
      "default_input: C:\\SESA\\dev\\input\n",
      "default_output: C:\\SESA\\dev\\output\n",
      "\n",
      "---------------------------------------------------------------\n",
      "\n"
     ]
    }
   ],
   "source": [
    "import sys\n",
    "from pathlib import Path\n",
    "from os import getcwd\n",
    "sys.path.append(str(Path(getcwd()).parent))\n",
    "\n",
    "from datetime import date, timedelta\n",
    "import codecs\n",
    "import pandas as pd\n",
    "import numpy as np\n",
    "\n",
    "\n",
    "pd.set_option('display.max_columns', None)\n",
    "\n",
    "from os.path import join\n",
    "\n",
    "from bulletin import default_input, default_output\n",
    "from bulletin.services.metabase import Metabase\n",
    "from bulletin.systems.casos_confirmados import CasosConfirmados\n",
    "from bulletin.systems.notifica import Notifica\n",
    "from bulletin.utils.static import Municipios\n",
    "from bulletin.utils.normalize import normalize_hash, normalize_labels, normalize_text, date_hash, normalize_number\n",
    "from bulletin.utils import static\n",
    "from bulletin.utils.xls_ import fit_cols\n",
    "from bulletin.systems.esus import eSUS\n",
    "\n",
    "from datetime import datetime\n",
    "\n",
    "\n",
    "today = datetime.today()\n",
    "ontem = today - timedelta(1)\n",
    "anteontem = ontem - timedelta(1)"
   ]
  },
  {
   "cell_type": "code",
   "execution_count": 2,
   "metadata": {},
   "outputs": [],
   "source": [
    "esus = eSUS()\n",
    "esus.load()\n",
    "\n",
    "cols = ['cns','paciente','cpf','sexo','nome_mae','data_nascimento','idade','ibge_residencia','categoria','data_aplicacao','fabricante','grupo_atendimento','vacina_nome','dose','ibge_atendimento','hash_mae','hash_nasc']"
   ]
  },
  {
   "cell_type": "code",
   "execution_count": 4,
   "metadata": {},
   "outputs": [],
   "source": [
    "if esus.df['cns'].isna().sum() != 0:\n",
    "    raise Exception(f'{esus.df['cns'].isna().sum()} cns com valor nulo')"
   ]
  },
  {
   "cell_type": "code",
   "execution_count": 5,
   "metadata": {},
   "outputs": [],
   "source": [
    "esus1dose = esus.df.loc[esus.df['dose']==1]\n",
    "esus2dose = esus.df.loc[esus.df['dose']!=1]"
   ]
  },
  {
   "cell_type": "code",
   "execution_count": 6,
   "metadata": {},
   "outputs": [],
   "source": [
    "vacinados = pd.merge(esus1dose,esus2dose,on='cns',how='outer',suffixes=['_1a_dose','_2a_dose'])"
   ]
  },
  {
   "cell_type": "code",
   "execution_count": 7,
   "metadata": {},
   "outputs": [],
   "source": [
    "cols.remove('cns')\n",
    "for col in cols:\n",
    "    vacinados.loc[vacinados[f\"{col}_1a_dose\"].notna(), col] = vacinados.loc[vacinados[f\"{col}_1a_dose\"].notna(), f\"{col}_1a_dose\"]\n",
    "    vacinados.loc[(vacinados[f\"{col}_1a_dose\"].isna()) & (vacinados[f\"{col}_2a_dose\"].notna()), col] = vacinados.loc[(vacinados[f\"{col}_1a_dose\"].isna()) & (vacinados[f\"{col}_2a_dose\"].notna()), f\"{col}_2a_dose\"]\n",
    "    vacinados.loc[(vacinados[f\"{col}_1a_dose\"].isna()) & (vacinados[f\"{col}_2a_dose\"].isna()), col] = None\n",
    "\n",
    "vacinados['idade'] = vacinados['idade'].fillna(-99).astype(int)\n",
    "vacinados['ibge_residencia'] = vacinados['ibge_residencia'].fillna(-999999).astype(int)\n",
    "vacinados['ibge_atendimento'] = vacinados['ibge_atendimento'].fillna(-999999).astype(int)"
   ]
  },
  {
   "cell_type": "code",
   "execution_count": 8,
   "metadata": {},
   "outputs": [],
   "source": [
    "# vacinados.loc[(vacinados['paciente_2dose'].notna()) & (vacinados['paciente_1dose'].notna()) & (vacinados['paciente_1dose']!=vacinados['paciente_2dose']),['paciente_1dose','paciente_2dose']]"
   ]
  },
  {
   "cell_type": "code",
   "execution_count": 9,
   "metadata": {},
   "outputs": [],
   "source": [
    "vacinados = vacinados[['cns','paciente','cpf','sexo','nome_mae','data_nascimento','idade','ibge_residencia','ibge_atendimento','categoria','grupo_atendimento','fabricante','vacina_nome','data_aplicacao_1a_dose','data_aplicacao_2a_dose','hash_mae','hash_nasc']]"
   ]
  },
  {
   "cell_type": "code",
   "execution_count": 10,
   "metadata": {},
   "outputs": [],
   "source": [
    "notifica = Notifica()\n",
    "notifica.load()\n",
    "casos = notifica.df"
   ]
  },
  {
   "cell_type": "code",
   "execution_count": 11,
   "metadata": {},
   "outputs": [],
   "source": [
    "casos.loc[casos['nome_mae'].notna(),'hash_mae'] = ( casos.loc[casos['nome_mae'].notna(),'paciente'].apply(normalize_hash) +\n",
    "                                                          casos.loc[casos['nome_mae'].notna(),'nome_mae'].apply(normalize_hash) )\n",
    "\n",
    "casos.loc[casos['data_nascimento'].notna(),'hash_nasc'] = ( casos.loc[casos['data_nascimento'].notna(),'paciente'].apply(normalize_hash) +\n",
    "                                                                  casos.loc[casos['data_nascimento'].notna(),'data_nascimento'].apply(date_hash) )\n"
   ]
  },
  {
   "cell_type": "code",
   "execution_count": 12,
   "metadata": {},
   "outputs": [
    {
     "name": "stdout",
     "output_type": "stream",
     "text": [
      "267681\n",
      "1050\n",
      "257822\n",
      "306512\n",
      "291843\n"
     ]
    }
   ],
   "source": [
    "casos_vacinados_cns = pd.merge(vacinados,casos[['cns','id','data_diagnostico','evolucao','data_cura_obito']], on='cns', how='inner')\n",
    "print(len(casos_vacinados_cns))\n",
    "\n",
    "casos_vacinados_cpf = pd.merge(vacinados.loc[vacinados['cpf'].notna()],casos[['cpf','id','data_diagnostico','evolucao','data_cura_obito']], on='cpf', how='inner')\n",
    "print(len(casos_vacinados_cpf))\n",
    "\n",
    "casos_vacinados_mae = pd.merge(vacinados.loc[vacinados['hash_mae'].notna()],casos[['hash_mae','id','data_diagnostico','evolucao','data_cura_obito']], on='hash_mae', how='inner')\n",
    "print(len(casos_vacinados_mae))\n",
    "\n",
    "casos_vacinados_nasc = pd.merge(vacinados.loc[vacinados['hash_nasc'].notna()],casos[['hash_nasc','id','data_diagnostico','evolucao','data_cura_obito']], on='hash_nasc', how='inner')\n",
    "print(len(casos_vacinados_nasc))\n",
    "\n",
    "casos_vacinados = pd.concat([casos_vacinados_cns,casos_vacinados_cpf,casos_vacinados_mae,casos_vacinados_nasc])\n",
    "casos_vacinados = casos_vacinados.drop_duplicates('id', keep='first')\n",
    "print(len(casos_vacinados))"
   ]
  },
  {
   "cell_type": "code",
   "execution_count": 13,
   "metadata": {},
   "outputs": [
    {
     "data": {
      "text/html": [
       "<div>\n",
       "<style scoped>\n",
       "    .dataframe tbody tr th:only-of-type {\n",
       "        vertical-align: middle;\n",
       "    }\n",
       "\n",
       "    .dataframe tbody tr th {\n",
       "        vertical-align: top;\n",
       "    }\n",
       "\n",
       "    .dataframe thead th {\n",
       "        text-align: right;\n",
       "    }\n",
       "</style>\n",
       "<table border=\"1\" class=\"dataframe\">\n",
       "  <thead>\n",
       "    <tr style=\"text-align: right;\">\n",
       "      <th></th>\n",
       "      <th>id</th>\n",
       "    </tr>\n",
       "    <tr>\n",
       "      <th>evolucao</th>\n",
       "      <th></th>\n",
       "    </tr>\n",
       "  </thead>\n",
       "  <tbody>\n",
       "    <tr>\n",
       "      <th>0.0</th>\n",
       "      <td>650</td>\n",
       "    </tr>\n",
       "    <tr>\n",
       "      <th>1.0</th>\n",
       "      <td>194311</td>\n",
       "    </tr>\n",
       "    <tr>\n",
       "      <th>2.0</th>\n",
       "      <td>3909</td>\n",
       "    </tr>\n",
       "    <tr>\n",
       "      <th>3.0</th>\n",
       "      <td>63392</td>\n",
       "    </tr>\n",
       "    <tr>\n",
       "      <th>4.0</th>\n",
       "      <td>44</td>\n",
       "    </tr>\n",
       "  </tbody>\n",
       "</table>\n",
       "</div>"
      ],
      "text/plain": [
       "              id\n",
       "evolucao        \n",
       "0.0          650\n",
       "1.0       194311\n",
       "2.0         3909\n",
       "3.0        63392\n",
       "4.0           44"
      ]
     },
     "execution_count": 13,
     "metadata": {},
     "output_type": "execute_result"
    }
   ],
   "source": [
    "casos_vacinados[['id','evolucao']].groupby('evolucao').count()"
   ]
  }
 ],
 "metadata": {
  "kernelspec": {
   "display_name": "Python 3",
   "language": "python",
   "name": "python3"
  },
  "language_info": {
   "codemirror_mode": {
    "name": "ipython",
    "version": 3
   },
   "file_extension": ".py",
   "mimetype": "text/x-python",
   "name": "python",
   "nbconvert_exporter": "python",
   "pygments_lexer": "ipython3",
   "version": "3.8.5"
  }
 },
 "nbformat": 4,
 "nbformat_minor": 4
}
