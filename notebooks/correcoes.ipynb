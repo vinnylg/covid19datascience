{
 "cells": [
  {
   "cell_type": "code",
   "execution_count": null,
   "metadata": {},
   "outputs": [],
   "source": [
    "import sys\n",
    "sys.path.append('..')\n",
    "print(sys.path)"
   ]
  },
  {
   "cell_type": "code",
   "execution_count": 1,
   "metadata": {},
   "outputs": [],
   "source": [
    "from sys import exit\n",
    "import numpy as np\n",
    "import pandas as pd\n",
    "from os.path import dirname, join, isfile, isdir\n",
    "from os import makedirs\n",
    "from datetime import datetime, timedelta, date\n",
    "\n",
    "from bulletin.data.notifica import Notifica\n",
    "from bulletin.data.casos_confirmados import CasosConfirmados\n",
    "from bulletin.commom.utils import Timer, get_better_notifica\n",
    "from bulletin.commom.static import meses\n",
    "from bulletin.metabase.request import download_metabase\n",
    "\n",
    "pd.set_option('display.max_columns', None)\n",
    "\n",
    "output = join(\"output\",\"correcoes\",\"notifica\")\n",
    "\n",
    "if not isdir(output):\n",
    "    makedirs(output)"
   ]
  },
  {
   "cell_type": "code",
   "execution_count": 2,
   "metadata": {},
   "outputs": [
    {
     "output_type": "stream",
     "name": "stdout",
     "text": [
      "8.471095561981201\n"
     ]
    },
    {
     "output_type": "execute_result",
     "data": {
      "text/plain": [
       "(2076248, 932883, 9439, 1131971, 1955)"
      ]
     },
     "metadata": {},
     "execution_count": 2
    }
   ],
   "source": [
    "timerAll = Timer()\n",
    "\n",
    "classificacao_final = ['0','1','2','3','5']\n",
    "\n",
    "timer = Timer()\n",
    "notifica = Notifica()\n",
    "# notifica.read(download_metabase(filename='null.csv',where=f\"classificacao_final IS NULL\"))\n",
    "# # notifica.read(join('input','queries','null.csv'))\n",
    "# for cf in classificacao_final:\n",
    "#     notifica.read(download_metabase(filename=f\"{cf}.csv\",where=f\"classificacao_final = {cf}\"), append=True)\n",
    "#     # notifica.read(join('input','queries',f\"{cf}.csv\"), append=True)\n",
    "\n",
    "\n",
    "# notifica.normalize()\n",
    "# notifica.save()\n",
    "notifica.load()\n",
    "print(timer.stop())\n",
    "notifica.shape()"
   ]
  },
  {
   "cell_type": "code",
   "execution_count": 3,
   "metadata": {},
   "outputs": [
    {
     "output_type": "stream",
     "name": "stdout",
     "text": [
      "Index(['ordem', 'id_access', 'ibge_res_pr', 'nome', 'sexo', 'idade',\n",
      "       'mun_resid', 'mun_atend', 'rs', 'laboratorio', 'dt_diag', 'comunicacao',\n",
      "       'is', 'obito', 'data_obito', 'excluir'],\n",
      "      dtype='object')\n",
      "Casos confirmados excluidos: 0\n",
      "Obitos confirmados excluidos: 0\n",
      "261.7230999469757\n"
     ]
    },
    {
     "output_type": "execute_result",
     "data": {
      "text/plain": [
       "(515439, 9218)"
      ]
     },
     "metadata": {},
     "execution_count": 3
    }
   ],
   "source": [
    "timer.reset()\n",
    "casos_confirmados = CasosConfirmados()\n",
    "# casos_confirmados.update()\n",
    "print(timer.stop())\n",
    "casos_confirmados.shape()"
   ]
  },
  {
   "cell_type": "code",
   "execution_count": 4,
   "metadata": {},
   "outputs": [
    {
     "output_type": "execute_result",
     "data": {
      "text/plain": [
       "                                      id\n",
       "classificacao_final                     \n",
       "CASO CONFIRMADO                   489421\n",
       "CASO DESCARTADO                   686389\n",
       "CASO SUSPEITO                     892735\n",
       "IGNORADO                             687\n",
       "SINDROME GRIPAL NAO ESPECIFICADA    7016"
      ],
      "text/html": "<div>\n<style scoped>\n    .dataframe tbody tr th:only-of-type {\n        vertical-align: middle;\n    }\n\n    .dataframe tbody tr th {\n        vertical-align: top;\n    }\n\n    .dataframe thead th {\n        text-align: right;\n    }\n</style>\n<table border=\"1\" class=\"dataframe\">\n  <thead>\n    <tr style=\"text-align: right;\">\n      <th></th>\n      <th>id</th>\n    </tr>\n    <tr>\n      <th>classificacao_final</th>\n      <th></th>\n    </tr>\n  </thead>\n  <tbody>\n    <tr>\n      <th>CASO CONFIRMADO</th>\n      <td>489421</td>\n    </tr>\n    <tr>\n      <th>CASO DESCARTADO</th>\n      <td>686389</td>\n    </tr>\n    <tr>\n      <th>CASO SUSPEITO</th>\n      <td>892735</td>\n    </tr>\n    <tr>\n      <th>IGNORADO</th>\n      <td>687</td>\n    </tr>\n    <tr>\n      <th>SINDROME GRIPAL NAO ESPECIFICADA</th>\n      <td>7016</td>\n    </tr>\n  </tbody>\n</table>\n</div>"
     },
     "metadata": {},
     "execution_count": 4
    }
   ],
   "source": [
    "casosn = notifica.get_casos()\n",
    "casosc = casos_confirmados.get_casos()\n",
    "casosc = casosc.loc[casosc['excluir']!='SIM']\n",
    "casosn.groupby('classificacao_final')[['id']].count()"
   ]
  },
  {
   "cell_type": "code",
   "execution_count": 5,
   "metadata": {},
   "outputs": [
    {
     "output_type": "stream",
     "name": "stdout",
     "text": [
      "Total de pacientes com mais de uma ocorrencia: 440946\n",
      "178705 pacientes pelo CPF que estavam com mais de uma ocorrencia\n"
     ]
    },
    {
     "output_type": "execute_result",
     "data": {
      "text/plain": [
       "                                      id\n",
       "classificacao_final                     \n",
       "CASO CONFIRMADO                    12368\n",
       "CASO DESCARTADO                   102155\n",
       "CASO SUSPEITO                     146384\n",
       "IGNORADO                              45\n",
       "SINDROME GRIPAL NAO ESPECIFICADA    1289"
      ],
      "text/html": "<div>\n<style scoped>\n    .dataframe tbody tr th:only-of-type {\n        vertical-align: middle;\n    }\n\n    .dataframe tbody tr th {\n        vertical-align: top;\n    }\n\n    .dataframe thead th {\n        text-align: right;\n    }\n</style>\n<table border=\"1\" class=\"dataframe\">\n  <thead>\n    <tr style=\"text-align: right;\">\n      <th></th>\n      <th>id</th>\n    </tr>\n    <tr>\n      <th>classificacao_final</th>\n      <th></th>\n    </tr>\n  </thead>\n  <tbody>\n    <tr>\n      <th>CASO CONFIRMADO</th>\n      <td>12368</td>\n    </tr>\n    <tr>\n      <th>CASO DESCARTADO</th>\n      <td>102155</td>\n    </tr>\n    <tr>\n      <th>CASO SUSPEITO</th>\n      <td>146384</td>\n    </tr>\n    <tr>\n      <th>IGNORADO</th>\n      <td>45</td>\n    </tr>\n    <tr>\n      <th>SINDROME GRIPAL NAO ESPECIFICADA</th>\n      <td>1289</td>\n    </tr>\n  </tbody>\n</table>\n</div>"
     },
     "metadata": {},
     "execution_count": 5
    }
   ],
   "source": [
    "casos_duplicados = casosn.loc[(casosn['cpf'].notnull()) & (casosn.duplicated('cpf',keep=False))].sort_values('cpf')\n",
    "print(f\"Total de pacientes com mais de uma ocorrencia: {len(casos_duplicados)}\")\n",
    "print(f\"{len(casos_duplicados.groupby('cpf'))} pacientes pelo CPF que estavam com mais de uma ocorrencia\")\n",
    "\n",
    "all_casos_duplicados = set()\n",
    "all_duplicados_mantidos = set()\n",
    "manter = []\n",
    "\n",
    "for hash, group in casos_duplicados.groupby('cpf'):\n",
    "    idx = get_better_notifica(group)\n",
    "    manter.append(idx)\n",
    "\n",
    "\n",
    "casos_duplicados = set(casos_duplicados.index.tolist())\n",
    "casos_duplicados = casos_duplicados - set(manter)\n",
    "\n",
    "all_duplicados_mantidos |= set(manter)\n",
    "all_casos_duplicados |= casos_duplicados\n",
    "casosn.loc[casos_duplicados].to_csv(join(output,'pacientes_duplicados_cpf.csv'), index=False)\n",
    "\n",
    "casosn.loc[casos_duplicados].groupby('classificacao_final')[['id']].count()"
   ]
  },
  {
   "cell_type": "code",
   "execution_count": 6,
   "metadata": {},
   "outputs": [],
   "source": [
    "casosn = casosn.drop(index=casos_duplicados)"
   ]
  },
  {
   "cell_type": "code",
   "execution_count": 7,
   "metadata": {},
   "outputs": [
    {
     "output_type": "stream",
     "name": "stdout",
     "text": [
      "Total de pacientes com mais de uma ocorrencia pelo nome+nome_mae: 71857\n",
      "30424 pacientes pelo nome+nome_mae que estavam com mais de uma ocorrencia\n"
     ]
    },
    {
     "output_type": "execute_result",
     "data": {
      "text/plain": [
       "                                     id\n",
       "classificacao_final                    \n",
       "CASO CONFIRMADO                    2606\n",
       "CASO DESCARTADO                   14859\n",
       "CASO SUSPEITO                     23774\n",
       "IGNORADO                              5\n",
       "SINDROME GRIPAL NAO ESPECIFICADA    189"
      ],
      "text/html": "<div>\n<style scoped>\n    .dataframe tbody tr th:only-of-type {\n        vertical-align: middle;\n    }\n\n    .dataframe tbody tr th {\n        vertical-align: top;\n    }\n\n    .dataframe thead th {\n        text-align: right;\n    }\n</style>\n<table border=\"1\" class=\"dataframe\">\n  <thead>\n    <tr style=\"text-align: right;\">\n      <th></th>\n      <th>id</th>\n    </tr>\n    <tr>\n      <th>classificacao_final</th>\n      <th></th>\n    </tr>\n  </thead>\n  <tbody>\n    <tr>\n      <th>CASO CONFIRMADO</th>\n      <td>2606</td>\n    </tr>\n    <tr>\n      <th>CASO DESCARTADO</th>\n      <td>14859</td>\n    </tr>\n    <tr>\n      <th>CASO SUSPEITO</th>\n      <td>23774</td>\n    </tr>\n    <tr>\n      <th>IGNORADO</th>\n      <td>5</td>\n    </tr>\n    <tr>\n      <th>SINDROME GRIPAL NAO ESPECIFICADA</th>\n      <td>189</td>\n    </tr>\n  </tbody>\n</table>\n</div>"
     },
     "metadata": {},
     "execution_count": 7
    }
   ],
   "source": [
    "casos_duplicados = casosn.loc[(casosn['nome_mae'].notnull()) & (casosn.duplicated('hash_mae',keep=False))].sort_values('nome_mae')\n",
    "# casos_duplicados_nome_mae.loc[casos_duplicados_nome_mae['nome_mae']=='0']\n",
    "\n",
    "print(f\"Total de pacientes com mais de uma ocorrencia pelo nome+nome_mae: {len(casos_duplicados)}\")\n",
    "print(f\"{len(casos_duplicados.groupby('nome_mae'))} pacientes pelo nome+nome_mae que estavam com mais de uma ocorrencia\")\n",
    "\n",
    "manter = []\n",
    "for hash, group in casos_duplicados.groupby('nome_mae'):\n",
    "    idx = get_better_notifica(group)\n",
    "    manter.append(idx)\n",
    "\n",
    "\n",
    "casos_duplicados = set(casos_duplicados.index.tolist())\n",
    "casos_duplicados = casos_duplicados - set(manter)\n",
    "\n",
    "all_duplicados_mantidos |= set(manter)\n",
    "all_casos_duplicados |= casos_duplicados\n",
    "casosn.loc[casos_duplicados].to_csv(join(output,'pacientes_duplicados_nome_mae.csv'), index=False)\n",
    "\n",
    "casosn.loc[casos_duplicados].groupby('classificacao_final')[['id']].count()"
   ]
  },
  {
   "cell_type": "code",
   "execution_count": 8,
   "metadata": {},
   "outputs": [],
   "source": [
    "casosn = casosn.drop(index=casos_duplicados)"
   ]
  },
  {
   "cell_type": "code",
   "execution_count": 9,
   "metadata": {},
   "outputs": [
    {
     "output_type": "stream",
     "name": "stdout",
     "text": [
      "Total de pacientes com mais de uma ocorrencia pelo data_nascimento: 18491\n",
      "9138 pacientes pelo data_nascimento que estavam com mais de uma ocorrencia\n"
     ]
    },
    {
     "output_type": "execute_result",
     "data": {
      "text/plain": [
       "                                    id\n",
       "classificacao_final                   \n",
       "CASO CONFIRMADO                    828\n",
       "CASO DESCARTADO                   2820\n",
       "CASO SUSPEITO                     5665\n",
       "IGNORADO                             7\n",
       "SINDROME GRIPAL NAO ESPECIFICADA    33"
      ],
      "text/html": "<div>\n<style scoped>\n    .dataframe tbody tr th:only-of-type {\n        vertical-align: middle;\n    }\n\n    .dataframe tbody tr th {\n        vertical-align: top;\n    }\n\n    .dataframe thead th {\n        text-align: right;\n    }\n</style>\n<table border=\"1\" class=\"dataframe\">\n  <thead>\n    <tr style=\"text-align: right;\">\n      <th></th>\n      <th>id</th>\n    </tr>\n    <tr>\n      <th>classificacao_final</th>\n      <th></th>\n    </tr>\n  </thead>\n  <tbody>\n    <tr>\n      <th>CASO CONFIRMADO</th>\n      <td>828</td>\n    </tr>\n    <tr>\n      <th>CASO DESCARTADO</th>\n      <td>2820</td>\n    </tr>\n    <tr>\n      <th>CASO SUSPEITO</th>\n      <td>5665</td>\n    </tr>\n    <tr>\n      <th>IGNORADO</th>\n      <td>7</td>\n    </tr>\n    <tr>\n      <th>SINDROME GRIPAL NAO ESPECIFICADA</th>\n      <td>33</td>\n    </tr>\n  </tbody>\n</table>\n</div>"
     },
     "metadata": {},
     "execution_count": 9
    }
   ],
   "source": [
    "casos_duplicados = casosn.loc[(casosn['hash_nasc'].notnull()) & (casosn.duplicated('hash_nasc',keep=False))].sort_values('data_nascimento')\n",
    "# casos_duplicados_nome_mae.loc[casos_duplicados_nome_mae['nome_mae']=='0']\n",
    "\n",
    "print(f\"Total de pacientes com mais de uma ocorrencia pelo data_nascimento: {len(casos_duplicados)}\")\n",
    "print(f\"{len(casos_duplicados.groupby('hash_nasc'))} pacientes pelo data_nascimento que estavam com mais de uma ocorrencia\")\n",
    "\n",
    "manter = []\n",
    "for hash, group in casos_duplicados.groupby('hash_nasc'):\n",
    "    idx = get_better_notifica(group)\n",
    "    manter.append(idx)\n",
    "\n",
    "\n",
    "casos_duplicados = set(casos_duplicados.index.tolist())\n",
    "casos_duplicados = casos_duplicados - set(manter)\n",
    "\n",
    "all_duplicados_mantidos |= set(manter)\n",
    "all_casos_duplicados |= casos_duplicados\n",
    "casosn.loc[casos_duplicados].to_csv(join(output,'pacientes_duplicados_data_nascimento.csv'), index=False)\n",
    "\n",
    "casosn.loc[casos_duplicados].groupby('classificacao_final')[['id']].count()"
   ]
  },
  {
   "cell_type": "code",
   "execution_count": 10,
   "metadata": {},
   "outputs": [],
   "source": [
    "casosn = casosn.drop(index=casos_duplicados)"
   ]
  },
  {
   "cell_type": "code",
   "execution_count": 11,
   "metadata": {},
   "outputs": [
    {
     "output_type": "stream",
     "name": "stdout",
     "text": [
      "Total de pacientes com mais de uma ocorrencia pelo hash_idade_resid: 2322\n",
      "1137 pacientes pelo hash_idade_resid que estavam com mais de uma ocorrencia\n"
     ]
    },
    {
     "output_type": "execute_result",
     "data": {
      "text/plain": [
       "                                   id\n",
       "classificacao_final                  \n",
       "CASO CONFIRMADO                    59\n",
       "CASO DESCARTADO                   226\n",
       "CASO SUSPEITO                     899\n",
       "SINDROME GRIPAL NAO ESPECIFICADA    1"
      ],
      "text/html": "<div>\n<style scoped>\n    .dataframe tbody tr th:only-of-type {\n        vertical-align: middle;\n    }\n\n    .dataframe tbody tr th {\n        vertical-align: top;\n    }\n\n    .dataframe thead th {\n        text-align: right;\n    }\n</style>\n<table border=\"1\" class=\"dataframe\">\n  <thead>\n    <tr style=\"text-align: right;\">\n      <th></th>\n      <th>id</th>\n    </tr>\n    <tr>\n      <th>classificacao_final</th>\n      <th></th>\n    </tr>\n  </thead>\n  <tbody>\n    <tr>\n      <th>CASO CONFIRMADO</th>\n      <td>59</td>\n    </tr>\n    <tr>\n      <th>CASO DESCARTADO</th>\n      <td>226</td>\n    </tr>\n    <tr>\n      <th>CASO SUSPEITO</th>\n      <td>899</td>\n    </tr>\n    <tr>\n      <th>SINDROME GRIPAL NAO ESPECIFICADA</th>\n      <td>1</td>\n    </tr>\n  </tbody>\n</table>\n</div>"
     },
     "metadata": {},
     "execution_count": 11
    }
   ],
   "source": [
    "casos_duplicados = casosn.loc[(casosn['hash_idade_resid'].notnull()) & (casosn.duplicated('hash_idade_resid',keep=False))].sort_values('paciente')\n",
    "\n",
    "print(f\"Total de pacientes com mais de uma ocorrencia pelo hash_idade_resid: {len(casos_duplicados)}\")\n",
    "print(f\"{len(casos_duplicados.groupby('hash_idade_resid'))} pacientes pelo hash_idade_resid que estavam com mais de uma ocorrencia\")\n",
    "\n",
    "manter = []\n",
    "for hash, group in casos_duplicados.groupby('hash_idade_resid'):\n",
    "    idx = get_better_notifica(group)\n",
    "    manter.append(idx)\n",
    "\n",
    "\n",
    "casos_duplicados = set(casos_duplicados.index.tolist())\n",
    "casos_duplicados = casos_duplicados - set(manter)\n",
    "\n",
    "all_duplicados_mantidos |= set(manter)\n",
    "all_casos_duplicados |= casos_duplicados\n",
    "casosn.loc[casos_duplicados].to_csv(join(output,'pacientes_duplicados_nome_idade_mun_resid.csv'), index=False)\n",
    "\n",
    "casosn.loc[casos_duplicados].groupby('classificacao_final')[['id']].count()"
   ]
  },
  {
   "cell_type": "code",
   "execution_count": 12,
   "metadata": {},
   "outputs": [],
   "source": [
    "casosn = casosn.drop(index=casos_duplicados)"
   ]
  },
  {
   "cell_type": "code",
   "execution_count": 13,
   "metadata": {},
   "outputs": [
    {
     "output_type": "stream",
     "name": "stdout",
     "text": [
      "Total de pacientes com mais de uma ocorrencia pelo hash_idade_atend: 318\n",
      "159 pacientes pelo hash_idade_atend que estavam com mais de uma ocorrencia\n"
     ]
    },
    {
     "output_type": "execute_result",
     "data": {
      "text/plain": [
       "                      id\n",
       "classificacao_final     \n",
       "CASO CONFIRMADO       14\n",
       "CASO DESCARTADO       32\n",
       "CASO SUSPEITO        111\n",
       "IGNORADO               2"
      ],
      "text/html": "<div>\n<style scoped>\n    .dataframe tbody tr th:only-of-type {\n        vertical-align: middle;\n    }\n\n    .dataframe tbody tr th {\n        vertical-align: top;\n    }\n\n    .dataframe thead th {\n        text-align: right;\n    }\n</style>\n<table border=\"1\" class=\"dataframe\">\n  <thead>\n    <tr style=\"text-align: right;\">\n      <th></th>\n      <th>id</th>\n    </tr>\n    <tr>\n      <th>classificacao_final</th>\n      <th></th>\n    </tr>\n  </thead>\n  <tbody>\n    <tr>\n      <th>CASO CONFIRMADO</th>\n      <td>14</td>\n    </tr>\n    <tr>\n      <th>CASO DESCARTADO</th>\n      <td>32</td>\n    </tr>\n    <tr>\n      <th>CASO SUSPEITO</th>\n      <td>111</td>\n    </tr>\n    <tr>\n      <th>IGNORADO</th>\n      <td>2</td>\n    </tr>\n  </tbody>\n</table>\n</div>"
     },
     "metadata": {},
     "execution_count": 13
    }
   ],
   "source": [
    "casos_duplicados = casosn.loc[(casosn['hash_idade_atend'].notnull()) & (casosn.duplicated('hash_idade_atend',keep=False))].sort_values('paciente')\n",
    "# casos_duplicados_nome_mae.loc[casos_duplicados_nome_mae['nome_mae']=='0']\n",
    "\n",
    "print(f\"Total de pacientes com mais de uma ocorrencia pelo hash_idade_atend: {len(casos_duplicados)}\")\n",
    "print(f\"{len(casos_duplicados.groupby('hash_idade_atend'))} pacientes pelo hash_idade_atend que estavam com mais de uma ocorrencia\")\n",
    "\n",
    "manter = []\n",
    "for hash, group in casos_duplicados.groupby('hash_idade_atend'):\n",
    "    idx = get_better_notifica(group)\n",
    "    manter.append(idx)\n",
    "\n",
    "\n",
    "casos_duplicados = set(casos_duplicados.index.tolist())\n",
    "casos_duplicados = casos_duplicados - set(manter)\n",
    "\n",
    "all_duplicados_mantidos |= set(manter)\n",
    "all_casos_duplicados |= casos_duplicados\n",
    "casosn.loc[casos_duplicados].to_csv(join(output,'pacientes_duplicados_nome_idade_mun_atend.csv'), index=False)\n",
    "\n",
    "casosn.loc[casos_duplicados].groupby('classificacao_final')[['id']].count()"
   ]
  },
  {
   "cell_type": "code",
   "execution_count": 14,
   "metadata": {},
   "outputs": [],
   "source": [
    "casosn = casosn.drop(index=casos_duplicados)"
   ]
  },
  {
   "cell_type": "code",
   "execution_count": 15,
   "metadata": {},
   "outputs": [
    {
     "output_type": "stream",
     "name": "stdout",
     "text": [
      "Das 2076248 notificações baixadas, 314371 (314371) foram excluidas por serem do mesmo paciente, sendo mantida a que melhor pontuou nos critérios. Sendo assim, o novo total de notificações existente é de 1761877\n"
     ]
    }
   ],
   "source": [
    "print(f\"Das {notifica.shape()[0]} notificações baixadas, {notifica.shape()[0] - casosn.shape[0]} ({len(all_casos_duplicados)}) foram excluidas por serem do mesmo paciente, sendo mantida a que melhor pontuou nos critérios. Sendo assim, o novo total de notificações existente é de {casosn.shape[0]}\")\n",
    "allcasosn = notifica.get_casos()\n",
    "allcasosn.loc[all_casos_duplicados,'id'].to_csv(join(output,'casos_duplicados_removidos.csv'), index=False)\n",
    "allcasosn.loc[all_duplicados_mantidos,'id'].to_csv(join(output,'casos_duplicados_mantidos.csv'), index=False)"
   ]
  },
  {
   "cell_type": "code",
   "execution_count": 16,
   "metadata": {},
   "outputs": [
    {
     "output_type": "stream",
     "name": "stdout",
     "text": [
      "checksum não criado\n"
     ]
    }
   ],
   "source": [
    "notifica.save(casosn)"
   ]
  },
  {
   "cell_type": "code",
   "execution_count": 21,
   "metadata": {},
   "outputs": [
    {
     "output_type": "execute_result",
     "data": {
      "text/plain": [
       "(28286, 23)"
      ]
     },
     "metadata": {},
     "execution_count": 21
    }
   ],
   "source": [
    "idx_casos_confirmados = casosc[casosc['hash'].isin(casosn['hash_idade_resid'])].index.tolist()\n",
    "idx_casos_confirmados += casosc[casosc['hash_less'].isin(casosn['hash_idade_resid'])].index.tolist()\n",
    "idx_casos_confirmados += casosc[casosc['hash_more'].isin(casosn['hash_idade_resid'])].index.tolist()\n",
    "idx_casos_confirmados += casosc[casosc['hash_atend'].isin(casosn['hash_idade_atend'])].index.tolist()\n",
    "idx_casos_confirmados += casosc[casosc['hash_less_atend'].isin(casosn['hash_idade_atend'])].index.tolist()\n",
    "idx_casos_confirmados += casosc[casosc['hash_more_atend'].isin(casosn['hash_idade_atend'])].index.tolist()\n",
    "idx_casos_confirmados = set(idx_casos_confirmados)\n",
    "casos_confirmados_notifica = casosc.loc[idx_casos_confirmados ].sort_values('ordem')\n",
    "casos_confirmados_notifica.to_excel(join(output,'casos_confirmados_notifica.xlsx'),index=False)\n",
    "casos_confirmados_notifica.shape"
   ]
  },
  {
   "cell_type": "code",
   "execution_count": null,
   "metadata": {},
   "outputs": [],
   "source": [
    "casos_confirmados_nao_notifica = casosc.loc[ set(casosc.index.tolist()) - idx_casos_confirmados ].sort_values('ordem')\n",
    "casos_confirmados_nao_notifica.to_excel(join(output,'casos_confirmados_nao_notifica.xlsx'),index=False)\n",
    "casos_confirmados_nao_notifica.shape"
   ]
  },
  {
   "cell_type": "code",
   "execution_count": 22,
   "metadata": {
    "tags": []
   },
   "outputs": [
    {
     "output_type": "stream",
     "name": "stdout",
     "text": [
      "Timer already stoped\n",
      "None\n"
     ]
    },
    {
     "output_type": "execute_result",
     "data": {
      "text/plain": [
       "(482558, 55)"
      ]
     },
     "metadata": {},
     "execution_count": 22
    }
   ],
   "source": [
    "idx_casos_notifica = casosn[casosn['hash_idade_resid'].isin(casosc['hash'])].index.tolist()\n",
    "idx_casos_notifica += casosn[casosn['hash_idade_resid'].isin(casosc['hash_less'])].index.tolist()\n",
    "idx_casos_notifica += casosn[casosn['hash_idade_resid'].isin(casosc['hash_more'])].index.tolist()\n",
    "idx_casos_notifica += casosn[casosn['hash_idade_atend'].isin(casosc['hash_atend'])].index.tolist()\n",
    "idx_casos_notifica += casosn[casosn['hash_idade_atend'].isin(casosc['hash_less_atend'])].index.tolist()\n",
    "idx_casos_notifica += casosn[casosn['hash_idade_atend'].isin(casosc['hash_more_atend'])].index.tolist()\n",
    "idx_casos_notifica = set(idx_casos_notifica)\n",
    "notifica_casos_confirmados = casosn.loc[ idx_casos_notifica ].sort_values('id')\n",
    "notifica_casos_confirmados.to_excel(join(output,'notifica_casos_confirmados.xlsx'),index=False)\n",
    "print(timerAll.stop())\n",
    "notifica_casos_confirmados.shape"
   ]
  },
  {
   "cell_type": "code",
   "execution_count": 23,
   "metadata": {},
   "outputs": [
    {
     "output_type": "execute_result",
     "data": {
      "text/plain": [
       "         id\n",
       "jan    2779\n",
       "mar      10\n",
       "abril    25\n",
       "mai      32\n",
       "jun      79\n",
       "jul     162\n",
       "ago     119\n",
       "set      30\n",
       "out      25\n",
       "nov      68\n",
       "dez     320"
      ],
      "text/html": "<div>\n<style scoped>\n    .dataframe tbody tr th:only-of-type {\n        vertical-align: middle;\n    }\n\n    .dataframe tbody tr th {\n        vertical-align: top;\n    }\n\n    .dataframe thead th {\n        text-align: right;\n    }\n</style>\n<table border=\"1\" class=\"dataframe\">\n  <thead>\n    <tr style=\"text-align: right;\">\n      <th></th>\n      <th>id</th>\n    </tr>\n  </thead>\n  <tbody>\n    <tr>\n      <th>jan</th>\n      <td>2779</td>\n    </tr>\n    <tr>\n      <th>mar</th>\n      <td>10</td>\n    </tr>\n    <tr>\n      <th>abril</th>\n      <td>25</td>\n    </tr>\n    <tr>\n      <th>mai</th>\n      <td>32</td>\n    </tr>\n    <tr>\n      <th>jun</th>\n      <td>79</td>\n    </tr>\n    <tr>\n      <th>jul</th>\n      <td>162</td>\n    </tr>\n    <tr>\n      <th>ago</th>\n      <td>119</td>\n    </tr>\n    <tr>\n      <th>set</th>\n      <td>30</td>\n    </tr>\n    <tr>\n      <th>out</th>\n      <td>25</td>\n    </tr>\n    <tr>\n      <th>nov</th>\n      <td>68</td>\n    </tr>\n    <tr>\n      <th>dez</th>\n      <td>320</td>\n    </tr>\n  </tbody>\n</table>\n</div>"
     },
     "metadata": {},
     "execution_count": 23
    }
   ],
   "source": [
    "notifica_nao_casos_confirmados = casosn.loc[set(casosn.index.tolist()) - set(idx_casos_notifica)]\n",
    "\n",
    "notifica_nao_casos_confirmados = notifica_nao_casos_confirmados.loc[notifica_nao_casos_confirmados['cod_classificacao_final'] == 2]\n",
    "notifica_nao_casos_confirmados = notifica_nao_casos_confirmados.loc[notifica_nao_casos_confirmados['cod_status_notificacao'].isin([1,2])]\n",
    "\n",
    "notifica_nao_casos_confirmados['month'] = notifica_nao_casos_confirmados.apply(lambda x: x['data_notificacao'].month, axis=1)\n",
    "nnccm = notifica_nao_casos_confirmados.groupby(by='month')[['id']].count()\n",
    "nnccm.index = [ meses[int(x)-1] for x in nnccm.index] \n",
    "nnccm"
   ]
  },
  {
   "cell_type": "code",
   "execution_count": 24,
   "metadata": {},
   "outputs": [],
   "source": [
    "notifica_nao_casos_confirmados.to_excel(join(output,'notifica_nao_casos_confirmados.xlsx'), index=False)"
   ]
  },
  {
   "cell_type": "code",
   "execution_count": null,
   "metadata": {},
   "outputs": [],
   "source": [
    "len(casosc)"
   ]
  },
  {
   "cell_type": "code",
   "execution_count": null,
   "metadata": {},
   "outputs": [],
   "source": [
    "len(casos_confirmados_notifica) + len(casos_confirmados_nao_notifica)"
   ]
  }
 ],
 "metadata": {
  "kernelspec": {
   "display_name": "Python 3",
   "language": "python",
   "name": "python3"
  },
  "language_info": {
   "codemirror_mode": {
    "name": "ipython",
    "version": 3
   },
   "file_extension": ".py",
   "mimetype": "text/x-python",
   "name": "python",
   "nbconvert_exporter": "python",
   "pygments_lexer": "ipython3",
   "version": "3.8.5-final"
  }
 },
 "nbformat": 4,
 "nbformat_minor": 2
}