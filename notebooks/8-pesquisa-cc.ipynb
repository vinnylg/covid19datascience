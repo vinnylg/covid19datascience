{
 "cells": [
  {
   "cell_type": "code",
   "execution_count": null,
   "metadata": {
    "execution": {
     "iopub.execute_input": "2021-09-25T12:49:01.896523Z",
     "iopub.status.busy": "2021-09-25T12:49:01.895530Z",
     "iopub.status.idle": "2021-09-25T12:49:01.913515Z",
     "shell.execute_reply": "2021-09-25T12:49:01.912514Z",
     "shell.execute_reply.started": "2021-09-25T12:49:01.896523Z"
    }
   },
   "outputs": [],
   "source": [
    "## set covid19_datasciente as path for python find bulletin package\n",
    "import sys\n",
    "from pathlib import Path\n",
    "from os import getcwd, remove, chdir\n",
    "from os.path import join, basename\n",
    "\n",
    "sys.path.append(str(Path(getcwd()).parent))\n",
    "current_dir = getcwd()\n",
    "print(current_dir)"
   ]
  },
  {
   "cell_type": "code",
   "execution_count": null,
   "metadata": {
    "execution": {
     "iopub.execute_input": "2021-09-25T12:49:01.914515Z",
     "iopub.status.busy": "2021-09-25T12:49:01.914515Z",
     "iopub.status.idle": "2021-09-25T12:49:05.050539Z",
     "shell.execute_reply": "2021-09-25T12:49:05.050539Z",
     "shell.execute_reply.started": "2021-09-25T12:49:01.914515Z"
    }
   },
   "outputs": [],
   "source": [
    "import pandas as pd\n",
    "pd.set_option('display.max_columns', None)\n",
    "pd.set_option('display.max_rows', 150)\n",
    "\n",
    "import numpy as np\n",
    "from random import randint\n",
    "from math import floor, ceil\n",
    "import codecs"
   ]
  },
  {
   "cell_type": "code",
   "execution_count": null,
   "metadata": {
    "execution": {
     "iopub.execute_input": "2021-09-25T12:49:05.050539Z",
     "iopub.status.busy": "2021-09-25T12:49:05.050539Z",
     "iopub.status.idle": "2021-09-25T12:49:07.037584Z",
     "shell.execute_reply": "2021-09-25T12:49:07.037584Z",
     "shell.execute_reply.started": "2021-09-25T12:49:05.050539Z"
    }
   },
   "outputs": [],
   "source": [
    "from bulletin import root, default_input, default_output, agora, hoje, ontem, anteontem, dias_apos, dias_apos_label\n",
    "from bulletin.services.metabase import Metabase\n",
    "from bulletin.systems.casos_confirmados import CasosConfirmados\n",
    "from bulletin.systems.notifica import Notifica\n",
    "from bulletin.utils.static import Municipios\n",
    "from bulletin.utils import utils, static\n",
    "from bulletin.utils.xls_ import fit_cols\n",
    "from bulletin.utils.normalize import trim_overspace\n",
    "from bulletin.utils.normalize import normalize_text#normalize_hash, normalize_labels, , date_hash, normalize_number"
   ]
  },
  {
   "cell_type": "code",
   "execution_count": null,
   "metadata": {
    "execution": {
     "iopub.execute_input": "2021-09-25T12:49:07.039582Z",
     "iopub.status.busy": "2021-09-25T12:49:07.039582Z",
     "iopub.status.idle": "2021-09-25T12:49:07.047590Z",
     "shell.execute_reply": "2021-09-25T12:49:07.046591Z",
     "shell.execute_reply.started": "2021-09-25T12:49:07.039582Z"
    }
   },
   "outputs": [],
   "source": [
    "from datetime import datetime, date, timedelta\n",
    "\n",
    "exclusao_pathfile = join(root, 'database', 'casos_confirmados')\n",
    "\n",
    "today = pd.to_datetime(date.today())\n",
    "ontem = today - timedelta(1)\n",
    "anteontem = ontem - timedelta(1)\n",
    "data_retroativos = ontem - timedelta(31)"
   ]
  },
  {
   "cell_type": "code",
   "execution_count": null,
   "metadata": {
    "execution": {
     "iopub.execute_input": "2021-09-25T12:49:07.189636Z",
     "iopub.status.busy": "2021-09-25T12:49:07.189636Z",
     "iopub.status.idle": "2021-09-25T12:49:07.241662Z",
     "shell.execute_reply": "2021-09-25T12:49:07.240664Z",
     "shell.execute_reply.started": "2021-09-25T12:49:07.189636Z"
    }
   },
   "outputs": [],
   "source": [
    "municipios = Municipios()\n",
    "municipios['mun_resid'] = municipios['municipio']\n",
    "municipios.loc[municipios['uf']!='PR','mun_resid'] = municipios.loc[municipios['uf']!='PR','municipio'] + '/' + municipios['uf']"
   ]
  },
  {
   "cell_type": "code",
   "execution_count": null,
   "metadata": {
    "execution": {
     "iopub.execute_input": "2021-09-25T13:00:00.689571Z",
     "iopub.status.busy": "2021-09-25T13:00:00.687565Z",
     "iopub.status.idle": "2021-09-25T13:00:30.285904Z",
     "shell.execute_reply": "2021-09-25T13:00:30.283863Z",
     "shell.execute_reply.started": "2021-09-25T13:00:00.689571Z"
    }
   },
   "outputs": [],
   "source": [
    "cc = CasosConfirmados()\n",
    "try:\n",
    "    cc.load(f\"cc_{hoje.strftime('%d_%m_%Y')}\", compress=True)\n",
    "    print(f\"cc_{hoje.strftime('%d_%m_%Y')}.pkl loaded\")\n",
    "except:\n",
    "    cc.load(f\"cc_{ontem.strftime('%d_%m_%Y')}\", compress=True)\n",
    "    print(f\"cc_{ontem.strftime('%d_%m_%Y')}.pkl loaded\")"
   ]
  },
  {
   "cell_type": "code",
   "execution_count": null,
   "metadata": {},
   "outputs": [],
   "source": [
    "used_columns = ['id_notifica', 'paciente', 'sexo', 'nome_mae', 'idade', 'cpf', 'cns', 'data_diagnostico', 'evolucao', 'data_cura_obito', 'uf_residencia','classificacao_final', 'numero_do', 'ibge_residencia']\n",
    "cc.df = cc.df.drop(columns=[col for col in cc.df.columns if not col in used_columns])\n",
    "\n",
    "cc.df = pd.merge(cc.df.rename(columns={'ibge_residencia':'ibge'}),municipios[['ibge','rs','mun_resid','uf','municipio']],on='ibge',how='left').rename(columns={'ibge':'ibge_resid'})"
   ]
  },
  {
   "cell_type": "code",
   "execution_count": null,
   "metadata": {},
   "outputs": [],
   "source": [
    "cc.df.columns"
   ]
  },
  {
   "cell_type": "code",
   "execution_count": null,
   "metadata": {},
   "outputs": [],
   "source": [
    "df_casos = cc.df[['id_notifica', 'paciente', 'sexo', 'nome_mae', 'idade', 'cpf', 'cns', 'data_diagnostico', 'evolucao', 'data_cura_obito', 'uf_residencia', 'municipio', 'rs','classificacao_final', 'numero_do']].copy()\n",
    "df_casos['nome_mae'] = df_casos['nome_mae'].fillna('NÃO CONSTA')"
   ]
  },
  {
   "cell_type": "code",
   "execution_count": null,
   "metadata": {},
   "outputs": [],
   "source": [
    "id_notifica = 3000265\n",
    "name='GENILSON FRANCISCO'\n",
    "nome_mae='ANESTINA'\n",
    "rs = 10"
   ]
  },
  {
   "cell_type": "code",
   "execution_count": null,
   "metadata": {},
   "outputs": [],
   "source": [
    "##PACIENTE\n",
    "df_casos.loc[df_casos['paciente'].str.contains(str.upper(name))]"
   ]
  },
  {
   "cell_type": "code",
   "execution_count": null,
   "metadata": {},
   "outputs": [],
   "source": [
    "##PACIENTE E NOME MAE\n",
    "df_casos.loc[(df_casos['paciente'].str.contains(str.upper(name))) & (df_casos['nome_mae'].str.contains(str.upper(nome_mae)))]"
   ]
  },
  {
   "cell_type": "code",
   "execution_count": null,
   "metadata": {},
   "outputs": [],
   "source": [
    "##PACIENTE E RS\n",
    "df_casos.loc[(df_casos['paciente'].str.contains(str.upper(name))) & (df_casos['rs'] == rs)]"
   ]
  },
  {
   "cell_type": "code",
   "execution_count": null,
   "metadata": {},
   "outputs": [],
   "source": [
    "##ID NOTIFICA\n",
    "df_casos.loc[df_casos['id_notifica'] == id_notifica]"
   ]
  },
  {
   "cell_type": "code",
   "execution_count": null,
   "metadata": {},
   "outputs": [],
   "source": [
    "##NOME MAE\n",
    "df_casos.loc[(df_casos['nome_mae'].str.contains(str.upper(nome_mae)))]"
   ]
  },
  {
   "cell_type": "code",
   "execution_count": null,
   "metadata": {},
   "outputs": [],
   "source": [
    "df_casos.loc[df_casos['paciente'] == (str.upper(name))]"
   ]
  },
  {
   "cell_type": "code",
   "execution_count": null,
   "metadata": {},
   "outputs": [],
   "source": [
    "# list_verification = [5402543,2546746,1604429,3068694,2755686, 2890203]\n",
    "# df_casos.loc[df_casos['id_notifica'].isin(list_verification)]"
   ]
  }
 ],
 "metadata": {
  "interpreter": {
   "hash": "1cdc22e96f16e7a709941e5164353478df3c5a2dca8a048b5ddcd85bd66dd558"
  },
  "kernelspec": {
   "display_name": "Python 3 (ipykernel)",
   "language": "python",
   "name": "python3"
  },
  "language_info": {
   "codemirror_mode": {
    "name": "ipython",
    "version": 3
   },
   "file_extension": ".py",
   "mimetype": "text/x-python",
   "name": "python",
   "nbconvert_exporter": "python",
   "pygments_lexer": "ipython3",
   "version": "3.8.11"
  }
 },
 "nbformat": 4,
 "nbformat_minor": 4
}
