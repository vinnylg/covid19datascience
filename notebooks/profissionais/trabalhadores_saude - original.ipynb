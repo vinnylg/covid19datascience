{
 "cells": [
  {
   "cell_type": "code",
   "execution_count": null,
   "metadata": {
    "execution": {
     "iopub.execute_input": "2021-11-12T12:24:24.774112Z",
     "iopub.status.busy": "2021-11-12T12:24:24.772110Z",
     "iopub.status.idle": "2021-11-12T12:24:26.679368Z",
     "shell.execute_reply": "2021-11-12T12:24:26.678351Z",
     "shell.execute_reply.started": "2021-11-12T12:24:24.774112Z"
    }
   },
   "outputs": [],
   "source": [
    "import sys\n",
    "import itertools\n",
    "from pathlib import Path\n",
    "from os import getcwd\n",
    "sys.path.append(str(Path(getcwd()).parent.parent))\n",
    "from os.path import join, basename\n",
    "\n",
    "import numpy as np\n",
    "import pandas as pd\n",
    "\n",
    "pd.set_option('display.max_columns', None)\n",
    "pd.set_option('display.max_rows', 200)\n",
    "\n",
    "from bulletin import default_input, default_output, hoje, ontem, tables_path\n",
    "from bulletin.systems import Notifica, CasosConfirmados\n",
    "from bulletin.utils import utils, normalize\n",
    "from bulletin.utils.static import Municipios\n",
    "\n",
    "import random\n",
    "import gc\n",
    "# from tqdm import tqdm\n",
    "from tqdm.auto import tqdm  # for notebooks\n",
    "tqdm.pandas()"
   ]
  },
  {
   "cell_type": "code",
   "execution_count": null,
   "metadata": {},
   "outputs": [],
   "source": [
    "from bulletin.systems.sim import Sim\n",
    "\n",
    "sim = Sim()\n",
    "# sim.read_all_database_files()\n",
    "# sim.save('dopr',replace=True,compress=False)\n",
    "sim.load('dopr',compress=False)\n",
    "\n",
    "sim.to_notifica()\n",
    "\n",
    "sim.df['cod_cbo'] = sim.df['cod_cbo'].apply(lambda x: int(str(x)[:4]))\n",
    "sim.df.loc[sim.df['cod_cbo']==2231,'cod_cbo'] = 2251\n",
    "\n",
    "sim_covid = sim.df.loc[sim.df['evolucao']==2].copy()"
   ]
  },
  {
   "cell_type": "code",
   "execution_count": null,
   "metadata": {},
   "outputs": [],
   "source": [
    "sim_covid.shape"
   ]
  },
  {
   "cell_type": "code",
   "execution_count": null,
   "metadata": {
    "execution": {
     "iopub.execute_input": "2021-11-12T12:24:26.680344Z",
     "iopub.status.busy": "2021-11-12T12:24:26.680344Z",
     "iopub.status.idle": "2021-11-12T12:24:57.323086Z",
     "shell.execute_reply": "2021-11-12T12:24:57.323086Z",
     "shell.execute_reply.started": "2021-11-12T12:24:26.680344Z"
    },
    "tags": []
   },
   "outputs": [],
   "source": [
    "nt = Notifica()\n",
    "nt.load('notifica',compress=False)"
   ]
  },
  {
   "cell_type": "code",
   "execution_count": null,
   "metadata": {},
   "outputs": [],
   "source": [
    "cod_cbo = nt.tables['cod_cbo'].set_index('id')['value'].rename('cod_cbo')\n",
    "cod_cbo"
   ]
  },
  {
   "cell_type": "code",
   "execution_count": null,
   "metadata": {},
   "outputs": [],
   "source": [
    "ocupacao = nt.tables['ocupacao'].set_index('id')['ocupacao']\n",
    "ocupacao"
   ]
  },
  {
   "cell_type": "code",
   "execution_count": null,
   "metadata": {},
   "outputs": [],
   "source": [
    "#22 PROFISSIONAIS DAS CIÊNCIAS BIOLÓGICAS, DA SAÚDE E AFINS \n",
    "#32 TÉCNICOS DE NÍVEL MÉDIO DAS CIÊNCIAS BIOLÓGICAS, BIOQUÍMICAS, DA SAÚDE E AFINS\n",
    "cbo_trab_saud = ['223','225','226','251','320','322','324','325','510','515','516'] \n",
    "# cbo_trab_saud = ['223','225','251','320','324'] #516 pra pegar cuidador de idosos, mas pegou mta coisa aleatória\n",
    "\n",
    "# trab_saud =  nt.df.loc[(nt.df['ocupacao'].isin([1,3]) | nt.df['cod_cbo'].astype(str).str[:3].isin(cbo_trab_saud))].copy()\n",
    "# trab_saud =  nt.df.loc[(nt.df['classificacao_final']==2) & nt.df['cod_cbo'].astype(str).str[:3].isin(cbo_trab_saud)].copy()\n",
    "trab_saud =  nt.df.loc[nt.df['cod_cbo'].astype(str).str[:3].isin(cbo_trab_saud)].copy()\n",
    "trab_saud['cbo'] = trab_saud['cod_cbo'].replace(cod_cbo)\n",
    "\n",
    "trab_saud_obt =  sim_covid.loc[sim_covid['cod_cbo'].astype(str).str[:3].isin(cbo_trab_saud)].copy()\n",
    "trab_saud_obt['cbo'] = trab_saud_obt['cod_cbo'].replace(cod_cbo)"
   ]
  },
  {
   "cell_type": "code",
   "execution_count": null,
   "metadata": {},
   "outputs": [],
   "source": [
    "trab_saud.loc[(trab_saud['evolucao']==3) & ((hoje - trab_saud['data_diagnostico']).dt.days >90),'evolucao'] = 1"
   ]
  },
  {
   "cell_type": "code",
   "execution_count": null,
   "metadata": {},
   "outputs": [],
   "source": [
    "trab_saud_obt.groupby('evolucao')[['paciente']].count()"
   ]
  },
  {
   "cell_type": "code",
   "execution_count": null,
   "metadata": {},
   "outputs": [],
   "source": [
    "trab_saud.groupby('evolucao')[['paciente']].count()"
   ]
  },
  {
   "cell_type": "code",
   "execution_count": null,
   "metadata": {},
   "outputs": [],
   "source": [
    "## obitos trabalhadores da saude não evoluido como obito\n",
    "trab_saud.loc[(trab_saud['evolucao']!=2) & (\n",
    "    trab_saud.loc[trab_saud['cns'].notna(),'cns'].isin(trab_saud_obt['cns']) |\n",
    "    trab_saud.loc[trab_saud['hash_mae'].notna(),'cns'].isin(trab_saud_obt['hash_mae']) |\n",
    "    trab_saud.loc[trab_saud['hash_nasc'].notna(),'hash_nasc'].isin(trab_saud_obt['hash_nasc'])\n",
    "),'evolucao'] = 2"
   ]
  },
  {
   "cell_type": "code",
   "execution_count": null,
   "metadata": {},
   "outputs": [],
   "source": [
    "trab_saud.groupby('evolucao')[['paciente']].count()"
   ]
  },
  {
   "cell_type": "code",
   "execution_count": null,
   "metadata": {},
   "outputs": [],
   "source": [
    "## obitos trabalhadores da saude não notificados\n",
    "\n",
    "trab_saud = pd.concat([\n",
    "    trab_saud,\n",
    "    trab_saud_obt.loc[~(\n",
    "        trab_saud_obt.loc[trab_saud_obt['cns'].notna(),'cns'].isin(trab_saud['cns']) |\n",
    "        trab_saud_obt.loc[trab_saud_obt['hash_mae'].notna(),'cns'].isin(trab_saud['hash_mae']) |\n",
    "        trab_saud_obt.loc[trab_saud_obt['hash_nasc'].notna(),'hash_nasc'].isin(trab_saud['hash_nasc'])\n",
    "    )]\n",
    "])\n",
    "\n",
    "trab_saud.loc[trab_saud['id'].isna(),'classificacao_final'] = 2\n",
    "trab_saud.loc[trab_saud['id'].isna(),'data_diagnostico'] = trab_saud.loc[trab_saud['id'].isna(),'data_cura_obito']\n",
    "\n",
    "trab_saud.loc[trab_saud['metodo']!=1,'metodo'] = 'Teste Rápido/Outro'\n",
    "trab_saud.loc[trab_saud['metodo']==1,'metodo'] = 'RT-PCR'"
   ]
  },
  {
   "cell_type": "code",
   "execution_count": null,
   "metadata": {},
   "outputs": [],
   "source": [
    "trab_saud.groupby('evolucao')[['paciente']].count()"
   ]
  },
  {
   "cell_type": "code",
   "execution_count": null,
   "metadata": {},
   "outputs": [],
   "source": [
    "trab_saud.loc[trab_saud['cbo']==0,'cbo'] = 'Não Informado'\n",
    "trab_saud['cbo'] = trab_saud['cbo'].astype(str).apply(normalize.normalize_text).str.lower()\n",
    "\n",
    "trab_saud['cbo_n'] = 'Outros Trabalhadores'\n",
    "trab_saud.loc[trab_saud['cbo'].str.contains('nao informado'),'cbo_n'] = 'Não Informado'\n",
    "# trab_saud.loc[trab_saud['cbo'].str.contains('enferm'),'cbo_n'] = 'Enfermagem'\n",
    "# trab_saud.loc[trab_saud['cbo'].str.contains('medic'),'cbo_n'] = 'Médico'\n",
    "# trab_saud.loc[trab_saud['cbo'].str.contains('farmac'),'cbo_n'] = 'Área Farmaceutica'\n",
    "# trab_saud.loc[trab_saud['cbo'].str.contains('dent'),'cbo_n'] = 'Odontologia'\n",
    "# trab_saud.loc[trab_saud['cbo'].str.contains('odon'),'cbo_n'] = 'Odontologia'\n",
    "# trab_saud.loc[trab_saud['cbo'].str.contains('veter'),'cbo_n'] = 'Veterinários'\n",
    "# trab_saud.loc[trab_saud['cbo'].str.contains('fisio'),'cbo_n'] = 'Fisioterapia'\n",
    "# trab_saud.loc[trab_saud['cbo'].str.contains('fono'),'cbo_n'] = 'Fonoaudiologia'\n",
    "# trab_saud.loc[trab_saud['cbo'].str.contains('nutri'),'cbo_n'] = 'Nutricionista'\n",
    "# trab_saud.loc[trab_saud['cbo'].str.contains('psicologos'),'cbo_n'] = 'Psicologia'\n",
    "# trab_saud.loc[trab_saud['cbo'].str.contains('idosos'),'cbo_n'] = 'Cuidador de Idosos'"
   ]
  },
  {
   "cell_type": "code",
   "execution_count": null,
   "metadata": {},
   "outputs": [],
   "source": [
    "trab_saud.loc[trab_saud['cbo'].str.contains('enferm'),'cbo_n'] = 'Enfermagem'\n",
    "trab_saud.loc[trab_saud['cbo'].str.contains('medic'),'cbo_n'] = 'Médico'\n",
    "trab_saud.loc[trab_saud['cbo'].str.contains('servic'),'cbo_n'] = 'Serviços'\n",
    "trab_saud.loc[trab_saud['cbo'].str.contains('administ'),'cbo_n'] = 'Administrativa'\n",
    "trab_saud.loc[trab_saud['cbo'].str.contains('agentes da saude'),'cbo_n'] = 'Agente Comunitário de Saúde'\n",
    "trab_saud.loc[trab_saud['cbo'].str.contains('farmac'),'cbo_n'] = 'Área Farmaceutica'\n",
    "trab_saud.loc[trab_saud['cbo'].str.contains('transpor'),'cbo_n'] = 'Transporte'\n",
    "trab_saud.loc[trab_saud['cbo'].str.contains('motoris'),'cbo_n'] = 'Transporte'\n",
    "trab_saud.loc[trab_saud['cbo'].str.contains('dent'),'cbo_n'] = 'Odontologia'\n",
    "trab_saud.loc[trab_saud['cbo'].str.contains('odon'),'cbo_n'] = 'Odontologia'\n",
    "trab_saud.loc[trab_saud['cbo'].str.contains('fisio'),'cbo_n'] = 'Fisioterapia'\n",
    "trab_saud.loc[trab_saud['cbo'].str.contains('lab'),'cbo_n'] = 'Área Laboratorial/Diagnóstico'\n",
    "trab_saud.loc[trab_saud['cbo'].str.contains('nutri'),'cbo_n'] = 'Alimentação'\n",
    "trab_saud.loc[trab_saud['cbo'].str.contains('alimentacao'),'cbo_n'] = 'Alimentação'\n",
    "trab_saud.loc[trab_saud['cbo'].str.contains('veter'),'cbo_n'] = 'Veterinários'\n",
    "trab_saud.loc[trab_saud['cbo'].str.contains('socorrista'),'cbo_n'] = 'Socorrista'\n",
    "trab_saud.loc[trab_saud['cbo'].str.contains('servico social'),'cbo_n'] = 'Serviço Social'\n",
    "trab_saud.loc[trab_saud['cbo'].str.contains('idosos'),'cbo_n'] = 'Cuidador de Idosos'\n",
    "trab_saud.loc[trab_saud['cbo'].str.contains('fono'),'cbo_n'] = 'Fonoaudiologia'\n",
    "trab_saud.loc[trab_saud['cbo'].str.contains('psicologos'),'cbo_n'] = 'Psicologia'"
   ]
  },
  {
   "cell_type": "code",
   "execution_count": null,
   "metadata": {},
   "outputs": [],
   "source": [
    "# trab_saud['cbo'] = trab_saud['cbo_n']"
   ]
  },
  {
   "cell_type": "code",
   "execution_count": null,
   "metadata": {},
   "outputs": [],
   "source": [
    "trab_saud['cbo_n'].unique()"
   ]
  },
  {
   "cell_type": "code",
   "execution_count": null,
   "metadata": {},
   "outputs": [],
   "source": [
    "notificados = trab_saud.groupby(['cbo_n','cbo'])['paciente'].count().sort_values(ascending=False).rename('Notificados')"
   ]
  },
  {
   "cell_type": "code",
   "execution_count": null,
   "metadata": {},
   "outputs": [],
   "source": [
    "metodo = trab_saud.loc[trab_saud['classificacao_final']==2].groupby(['cbo_n','cbo','metodo'])[['paciente']].count().unstack('metodo').fillna(0).astype(int).droplevel(axis=1,level=0)"
   ]
  },
  {
   "cell_type": "code",
   "execution_count": null,
   "metadata": {},
   "outputs": [],
   "source": [
    "confirmados = trab_saud.loc[trab_saud['classificacao_final']==2].groupby(['cbo_n','cbo','evolucao'])[['paciente']].count().unstack('evolucao').fillna(0).astype(int).droplevel(axis=1,level=0)\n",
    "confirmados['Confirmados'] = confirmados.sum(axis=1)\n",
    "confirmados = confirmados.rename(columns={1: 'Recuperados',2: 'Óbitos', 3: 'Ativos'})\n",
    "confirmados = confirmados[['Confirmados','Óbitos','Recuperados','Ativos']]\n",
    "confirmados = confirmados.sort_values('Confirmados',ascending=False)"
   ]
  },
  {
   "cell_type": "code",
   "execution_count": null,
   "metadata": {},
   "outputs": [],
   "source": [
    "tabela = metodo.join(confirmados).join(notificados).sort_values('Confirmados',ascending=False)\n",
    "\n",
    "tabela_total = tabela.groupby('cbo_n').sum().sort_values('Confirmados',ascending=False)\n",
    "\n",
    "tmp = tabela_total.loc['Outros Trabalhadores'].copy()\n",
    "tabela_total = tabela_total.drop(index='Outros Trabalhadores')\n",
    "tabela_total = tabela_total.append(tmp)\n",
    "\n",
    "# tmp = tabela_total.loc['Não Informado'].copy()\n",
    "# tabela_total = tabela_total.drop(index='Não Informado')\n",
    "# tabela_total = tabela_total.append(tmp)\n",
    "\n",
    "\n",
    "tabela_total.loc['Total Geral',:] = tabela.sum(axis=0)\n",
    "tabela_total = tabela_total.fillna(0).astype(int)\n",
    "tabela_total"
   ]
  },
  {
   "cell_type": "code",
   "execution_count": null,
   "metadata": {},
   "outputs": [],
   "source": [
    "tabela = tabela.sort_index(axis=0,level='cbo_n')\n",
    "tabela"
   ]
  },
  {
   "cell_type": "code",
   "execution_count": null,
   "metadata": {},
   "outputs": [],
   "source": [
    "trab_saud.loc[trab_saud['classificacao_final']==2].groupby('data_diagnostico')[['paciente']].count().plot()"
   ]
  },
  {
   "cell_type": "code",
   "execution_count": null,
   "metadata": {},
   "outputs": [],
   "source": [
    "trab_saud"
   ]
  },
  {
   "cell_type": "code",
   "execution_count": null,
   "metadata": {},
   "outputs": [],
   "source": [
    "ts = Notifica('trab_saud')\n",
    "ts.df = trab_saud\n",
    "ts.save(replace=True,compress=False)"
   ]
  },
  {
   "cell_type": "code",
   "execution_count": null,
   "metadata": {},
   "outputs": [],
   "source": []
  }
 ],
 "metadata": {
  "kernelspec": {
   "display_name": "Python 3 (ipykernel)",
   "language": "python",
   "name": "python3"
  },
  "language_info": {
   "codemirror_mode": {
    "name": "ipython",
    "version": 3
   },
   "file_extension": ".py",
   "mimetype": "text/x-python",
   "name": "python",
   "nbconvert_exporter": "python",
   "pygments_lexer": "ipython3",
   "version": "3.8.11"
  }
 },
 "nbformat": 4,
 "nbformat_minor": 4
}
