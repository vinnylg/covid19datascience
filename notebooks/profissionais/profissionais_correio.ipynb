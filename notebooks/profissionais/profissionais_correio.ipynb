{
 "cells": [
  {
   "cell_type": "code",
   "execution_count": null,
   "metadata": {},
   "outputs": [],
   "source": [
    "import sys\n",
    "from pathlib import Path\n",
    "from os import getcwd\n",
    "sys.path.append(str(Path(getcwd()).parent))\n",
    "from os import remove\n",
    "\n",
    "\n",
    "from datetime import date, timedelta\n",
    "import codecs\n",
    "import pandas as pd\n",
    "import numpy as np\n",
    "\n",
    "#pd.set_option('display.max_columns', None)\n",
    "#pd.set_option('display.max_rows', 500)\n",
    "\n",
    "from os.path import join, basename\n",
    "\n",
    "from bulletin import default_input, default_output, root, hoje, data_comeco_pandemia\n",
    "from bulletin.services.metabase import Metabase\n",
    "from bulletin.systems.casos_confirmados import CasosConfirmados\n",
    "from bulletin.systems.notifica import Notifica\n",
    "from bulletin.utils.static import Municipios\n",
    "from bulletin.utils.normalize import normalize_hash, normalize_labels, normalize_text, date_hash, normalize_number\n",
    "from bulletin.utils import static, Timer\n",
    "from bulletin.utils.xls_ import fit_cols\n",
    "\n",
    "from datetime import datetime\n",
    "import pyminizip as pz\n",
    "\n",
    "today = datetime.today()\n",
    "ontem = today - timedelta(1)\n",
    "anteontem = ontem - timedelta(1)\n",
    "\n",
    "municipios = Municipios()\n",
    "municipios['mun_resid'] = municipios['municipio'].apply(normalize_text)\n",
    "municipios.loc[municipios['uf']!='PR','mun_resid'] = municipios.loc[municipios['uf']!='PR','municipio'].apply(normalize_text) + '/' + municipios['uf']\n",
    "\n",
    "import random"
   ]
  },
  {
   "cell_type": "code",
   "execution_count": null,
   "metadata": {},
   "outputs": [],
   "source": [
    "### load\n",
    "notifica = Notifica()\n",
    "notifica.databases()\n",
    "notifica.load('notifica',compress=False)"
   ]
  },
  {
   "cell_type": "code",
   "execution_count": null,
   "metadata": {},
   "outputs": [],
   "source": [
    "trabalhador_correios = notifica.df.loc[notifica.df['opcoes_de_surto'].isin([2532, 2655, 2450, 452, 1022])].copy()"
   ]
  },
  {
   "cell_type": "code",
   "execution_count": null,
   "metadata": {},
   "outputs": [],
   "source": [
    "trabalhador_correios.to_excel(join(default_output, 'trabalhador_correios.xlsx'), index=False)\n",
    "trabalhador_correios.shape"
   ]
  },
  {
   "cell_type": "code",
   "execution_count": null,
   "metadata": {},
   "outputs": [],
   "source": [
    "#trabalhador_educacao = trabalhador_educacao.loc[trabalhador_educacao['cod_cbo'].astype('str').str.startswith('23')][['id', 'data_diagnostico', 'cod_cbo', 'situacao_trabalho', 'classificacao_final', 'evolucao']]"
   ]
  },
  {
   "cell_type": "code",
   "execution_count": null,
   "metadata": {},
   "outputs": [],
   "source": [
    "#trabalhador_educacao = trabalhador_educacao.merge(how = 'left', right = notifica.tables['cbo'].rename(columns={'codigo':'cod_cbo', 'id':'ident'}), on='cod_cbo')"
   ]
  },
  {
   "cell_type": "code",
   "execution_count": null,
   "metadata": {},
   "outputs": [],
   "source": [
    "#trabalhador_educacao[['id', 'data_diagnostico', 'cod_cbo', 'valor', 'situacao_trabalho', 'classificacao_final', 'evolucao']]"
   ]
  }
 ],
 "metadata": {
  "interpreter": {
   "hash": "b3ba2566441a7c06988d0923437866b63cedc61552a5af99d1f4fb67d367b25f"
  },
  "kernelspec": {
   "display_name": "Python 3.8.5 64-bit ('base': conda)",
   "name": "python3"
  },
  "language_info": {
   "codemirror_mode": {
    "name": "ipython",
    "version": 3
   },
   "file_extension": ".py",
   "mimetype": "text/x-python",
   "name": "python",
   "nbconvert_exporter": "python",
   "pygments_lexer": "ipython3",
   "version": "3.8.5"
  }
 },
 "nbformat": 4,
 "nbformat_minor": 4
}
