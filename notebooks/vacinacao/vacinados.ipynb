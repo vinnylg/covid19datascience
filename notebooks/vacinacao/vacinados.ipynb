{
 "cells": [
  {
   "cell_type": "code",
   "execution_count": null,
   "metadata": {
    "execution": {
     "iopub.execute_input": "2021-12-20T14:32:22.474733Z",
     "iopub.status.busy": "2021-12-20T14:32:22.474733Z",
     "iopub.status.idle": "2021-12-20T14:32:23.028625Z",
     "shell.execute_reply": "2021-12-20T14:32:23.028625Z",
     "shell.execute_reply.started": "2021-12-20T14:32:22.474733Z"
    }
   },
   "outputs": [],
   "source": [
    "## set covid19_datasciente as path for python find bulletin package\n",
    "import sys\n",
    "from pathlib import Path\n",
    "from os import getcwd, remove, walk\n",
    "from os.path import join, basename, isdir\n",
    "sys.path.append(str(Path(getcwd()).parent.parent))\n",
    "\n",
    "import pandas as pd\n",
    "pd.set_option('display.max_columns', None)\n",
    "pd.set_option('display.max_rows', 100)\n",
    "# pd.options.display.float_format = lambda x: '{:,.0f}'.format(x).replace(',','.')\n",
    "\n",
    "import codecs\n",
    "import numpy as np\n",
    "from glob import glob\n",
    "from epiweeks import Week"
   ]
  },
  {
   "cell_type": "code",
   "execution_count": null,
   "metadata": {
    "execution": {
     "iopub.execute_input": "2021-12-20T14:32:23.028625Z",
     "iopub.status.busy": "2021-12-20T14:32:23.028625Z",
     "iopub.status.idle": "2021-12-20T14:32:24.349567Z",
     "shell.execute_reply": "2021-12-20T14:32:24.349567Z",
     "shell.execute_reply.started": "2021-12-20T14:32:23.028625Z"
    }
   },
   "outputs": [],
   "source": [
    "from bulletin import default_input, default_output, tables_path, root\n",
    "default_output = join(default_output,'vacinacao')\n",
    "\n",
    "from bulletin.systems import Notifica, CasosConfirmados, eSUS, Sivep\n",
    "from bulletin.utils.static import Municipios\n",
    "from bulletin.utils.xls_ import fit_cols\n",
    "from bulletin.utils.normalize import normalize_text, normalize_hash, date_hash\n",
    "\n",
    "from datetime import datetime, date, timedelta\n",
    "\n",
    "hoje = pd.to_datetime(date.today())\n",
    "ontem = hoje - timedelta(1)\n",
    "anteontem = ontem - timedelta(1)\n",
    "data_retroativos = ontem - timedelta(31)\n",
    "\n",
    "tables = dict([(Path(x).stem,pd.read_csv(join(tables_path,x))) for x in glob(join(tables_path,\"*.csv\"))])"
   ]
  },
  {
   "cell_type": "code",
   "execution_count": null,
   "metadata": {},
   "outputs": [],
   "source": [
    "situacao_labels = { 0:'Não Vacinado', 1:'Esquema Primário Incompleto', 2:'Esquema Primário Completo ', 3: 'Esquema Primário Completo + Reforço'}\n",
    "fator_risco_labels = { 0:'Sem Fator de Risco', 1:'Com Fator de Risco' }\n",
    "mes_labels = {key+1:value for key,value in enumerate(['Janeiro','Fevereiro','Março','Abril','Maio','Junho','Julho','Agosto','Setembro','Outubro','Novembro','Dezembro'])}\n",
    "evolucao_labels = {1: 'Recuperados', 2: 'Óbitos', 3: 'Ativos'}"
   ]
  },
  {
   "cell_type": "code",
   "execution_count": null,
   "metadata": {
    "execution": {
     "iopub.execute_input": "2021-12-20T14:32:24.349567Z",
     "iopub.status.busy": "2021-12-20T14:32:24.349567Z",
     "iopub.status.idle": "2021-12-20T14:34:45.944063Z",
     "shell.execute_reply": "2021-12-20T14:34:45.944063Z",
     "shell.execute_reply.started": "2021-12-20T14:32:24.349567Z"
    }
   },
   "outputs": [],
   "source": [
    "vac = eSUS('vacinados')\n",
    "vac.load()\n",
    "vac.df.shape"
   ]
  },
  {
   "cell_type": "code",
   "execution_count": null,
   "metadata": {},
   "outputs": [],
   "source": [
    "vac.df.loc[(vac.df['idade']<12) & (vac.df['situacao_atual']==3)].to_excel('criancas_com_reforco.xlsx')"
   ]
  },
  {
   "cell_type": "code",
   "execution_count": null,
   "metadata": {},
   "outputs": [],
   "source": [
    "vac.df.groupby(['situacao_atual'])[['cns']].count().rename(index=situacao_labels, level='situacao_atual')"
   ]
  },
  {
   "cell_type": "code",
   "execution_count": null,
   "metadata": {},
   "outputs": [],
   "source": [
    "vac.df.columns"
   ]
  },
  {
   "cell_type": "code",
   "execution_count": null,
   "metadata": {},
   "outputs": [],
   "source": [
    "vac.df.loc[(vac.df['idade']<6)&(vac.df['idade']>=0)].groupby(['idade','vacina_nome_1a_dose'])[['cns']].count().unstack('vacina_nome_1a_dose').fillna(0).astype(int)"
   ]
  },
  {
   "cell_type": "code",
   "execution_count": null,
   "metadata": {},
   "outputs": [],
   "source": [
    "vac.df.loc[(vac.df['idade']<6)&(vac.df['idade']>=0)].groupby(['idade','vacina_nome_2a_dose'])[['cns']].count().unstack('vacina_nome_2a_dose').fillna(0).astype(int)"
   ]
  },
  {
   "cell_type": "code",
   "execution_count": null,
   "metadata": {},
   "outputs": [],
   "source": [
    "vac.df.loc[(vac.df['idade']<6)&(vac.df['idade']>=0)].groupby(['idade','vacina_nome_dose_adicional'])[['cns']].count().unstack('vacina_nome_dose_adicional').fillna(0).astype(int)"
   ]
  },
  {
   "cell_type": "code",
   "execution_count": null,
   "metadata": {},
   "outputs": [],
   "source": [
    "vac.df.loc[(vac.df['idade']<6)&(vac.df['idade']>=0)].groupby(['idade','vacina_nome_dose_reforco'])[['cns']].count().unstack('vacina_nome_dose_reforco').fillna(0).astype(int)"
   ]
  },
  {
   "cell_type": "code",
   "execution_count": null,
   "metadata": {},
   "outputs": [],
   "source": [
    "vac.df.loc[(vac.df['idade']<6)&(vac.df['idade']>=0)].groupby(['idade','situacao_atual'])[['cns']].count().unstack('situacao_atual').fillna(0).astype(int)"
   ]
  },
  {
   "cell_type": "code",
   "execution_count": null,
   "metadata": {},
   "outputs": [],
   "source": [
    "vac.df.loc[(vac.df['idade']<6)&(vac.df['idade']>=0)].shape"
   ]
  },
  {
   "cell_type": "code",
   "execution_count": null,
   "metadata": {},
   "outputs": [],
   "source": []
  }
 ],
 "metadata": {
  "kernelspec": {
   "display_name": "Python 3 (ipykernel)",
   "language": "python",
   "name": "python3"
  },
  "language_info": {
   "codemirror_mode": {
    "name": "ipython",
    "version": 3
   },
   "file_extension": ".py",
   "mimetype": "text/x-python",
   "name": "python",
   "nbconvert_exporter": "python",
   "pygments_lexer": "ipython3",
   "version": "3.8.11"
  }
 },
 "nbformat": 4,
 "nbformat_minor": 4
}
