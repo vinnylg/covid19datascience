{
 "cells": [
  {
   "cell_type": "code",
   "execution_count": null,
   "metadata": {
    "execution": {
     "iopub.execute_input": "2021-11-16T15:16:38.724363Z",
     "iopub.status.busy": "2021-11-16T15:16:38.723365Z",
     "iopub.status.idle": "2021-11-16T15:16:39.246273Z",
     "shell.execute_reply": "2021-11-16T15:16:39.245282Z",
     "shell.execute_reply.started": "2021-11-16T15:16:38.724363Z"
    }
   },
   "outputs": [],
   "source": [
    "## set covid19_datasciente as path for python find bulletin package\n",
    "import sys\n",
    "from pathlib import Path\n",
    "from os import getcwd, remove, walk\n",
    "from os.path import join, basename, isdir\n",
    "sys.path.append(str(Path(getcwd()).parent.parent))\n",
    "\n",
    "import pandas as pd\n",
    "pd.set_option('display.max_columns', None)\n",
    "pd.set_option('display.max_rows', 500)\n",
    "\n",
    "import codecs\n",
    "import numpy as np\n",
    "from glob import glob\n",
    "from epiweeks import Week"
   ]
  },
  {
   "cell_type": "code",
   "execution_count": null,
   "metadata": {
    "execution": {
     "iopub.execute_input": "2021-11-16T15:16:39.248297Z",
     "iopub.status.busy": "2021-11-16T15:16:39.247323Z",
     "iopub.status.idle": "2021-11-16T15:16:40.545429Z",
     "shell.execute_reply": "2021-11-16T15:16:40.544424Z",
     "shell.execute_reply.started": "2021-11-16T15:16:39.248297Z"
    }
   },
   "outputs": [],
   "source": [
    "from bulletin import default_input, default_output, tables_path, root\n",
    "default_output = join(default_output,'vacinacao')\n",
    "\n",
    "from bulletin.systems import Notifica, CasosConfirmados, eSUS, Sivep\n",
    "from bulletin.utils.static import Municipios\n",
    "from bulletin.utils.xls_ import fit_cols\n",
    "from bulletin.utils.normalize import normalize_text, normalize_hash, date_hash\n",
    "\n",
    "from datetime import datetime, date, timedelta\n",
    "\n",
    "hoje = pd.to_datetime(date.today())\n",
    "ontem = hoje - timedelta(1)\n",
    "anteontem = ontem - timedelta(1)\n",
    "data_retroativos = ontem - timedelta(31)"
   ]
  },
  {
   "cell_type": "code",
   "execution_count": null,
   "metadata": {},
   "outputs": [],
   "source": [
    "situacao_labels = { 0:'Não Vacinado', 1:'Esquema Primário Incompleto', 2:'Esquema Primário Completo ', 3: 'Esquema Primário Completo + Reforço'}\n",
    "mes_labels = {key+1:value for key,value in enumerate(['Janeiro','Fevereiro','Março','Abril','Maio','Junho','Julho','Agosto','Setembro','Outubro','Novembro','Dezembro'])}"
   ]
  },
  {
   "cell_type": "code",
   "execution_count": null,
   "metadata": {},
   "outputs": [],
   "source": [
    "## CARREGAMENTO DOS DADOS"
   ]
  },
  {
   "cell_type": "code",
   "execution_count": null,
   "metadata": {
    "execution": {
     "iopub.execute_input": "2021-11-16T15:16:40.547462Z",
     "iopub.status.busy": "2021-11-16T15:16:40.547462Z",
     "iopub.status.idle": "2021-11-16T15:18:49.931263Z",
     "shell.execute_reply": "2021-11-16T15:18:49.930216Z",
     "shell.execute_reply.started": "2021-11-16T15:16:40.547462Z"
    }
   },
   "outputs": [],
   "source": [
    "vac = eSUS('vacinados')\n",
    "vac.load()\n",
    "vacinados = vac.df"
   ]
  },
  {
   "cell_type": "code",
   "execution_count": null,
   "metadata": {},
   "outputs": [],
   "source": [
    "cc_vacinados = CasosConfirmados('cc_vacinados')\n",
    "cc_vacinados.load()\n",
    "casos = cc_vacinados.df"
   ]
  },
  {
   "cell_type": "code",
   "execution_count": null,
   "metadata": {},
   "outputs": [],
   "source": [
    "casos.columns"
   ]
  },
  {
   "cell_type": "code",
   "execution_count": null,
   "metadata": {},
   "outputs": [],
   "source": [
    "municipios = Municipios()\n",
    "municipios['mun_resid'] = municipios['municipio']\n",
    "municipios.loc[municipios['uf']!='PR','mun_resid'] = municipios.loc[municipios['uf']!='PR','municipio'] + '/' + municipios['uf']"
   ]
  },
  {
   "cell_type": "code",
   "execution_count": null,
   "metadata": {},
   "outputs": [],
   "source": [
    "## TIRAR DO BANCO AQUELES QUE MORRERAM VACINADOS"
   ]
  },
  {
   "cell_type": "code",
   "execution_count": null,
   "metadata": {},
   "outputs": [],
   "source": [
    "#extração dos óbitos que tiveram pelo mennos uma dose de vacina aplicada\n",
    "obitos = casos.loc[(casos['evolucao']==2)]\n",
    "obitos_retirar = obitos.loc[obitos['cns'].notna()]"
   ]
  },
  {
   "cell_type": "code",
   "execution_count": null,
   "metadata": {},
   "outputs": [],
   "source": [
    "vacinados.set_index('cns', inplace=True)\n",
    "obitos_retirar.set_index('cns', inplace=True)"
   ]
  },
  {
   "cell_type": "code",
   "execution_count": null,
   "metadata": {},
   "outputs": [],
   "source": [
    "vacinados = vacinados.drop(index=obitos_retirar.loc[obitos_retirar.index.isin(vacinados.index)].index)"
   ]
  },
  {
   "cell_type": "code",
   "execution_count": null,
   "metadata": {},
   "outputs": [],
   "source": [
    "vacinados.reset_index(inplace=True)\n",
    "obitos_retirar.reset_index(inplace=True)"
   ]
  },
  {
   "cell_type": "code",
   "execution_count": null,
   "metadata": {},
   "outputs": [],
   "source": [
    "## FAZER A EXTRAÇÃO DA RELAÇÃO DE PESSOAS"
   ]
  },
  {
   "cell_type": "code",
   "execution_count": null,
   "metadata": {},
   "outputs": [],
   "source": [
    "vacinados.columns"
   ]
  },
  {
   "cell_type": "code",
   "execution_count": null,
   "metadata": {},
   "outputs": [],
   "source": [
    "vacinados['dias_apos_ultima_dose'] = (vacinados['data_ultima_dose'] - hoje).dt.days * -1"
   ]
  },
  {
   "cell_type": "code",
   "execution_count": null,
   "metadata": {},
   "outputs": [],
   "source": [
    "pfizer_days = 120\n",
    "corona_days = 120\n",
    "astra_days = 120\n",
    "janssen_days = 120\n",
    "# df_final = vacinados.loc[vacinados['situacao'] != 'inconsistencia'].copy()\n",
    "df_final = vacinados.copy()"
   ]
  },
  {
   "cell_type": "code",
   "execution_count": null,
   "metadata": {},
   "outputs": [],
   "source": [
    "pfizer = df_final.loc[(df_final['vacina_nome_2a_dose'] == 'PFIZER') & (df_final['situacao_atual'] == 2)]\n",
    "pfizer = pfizer.loc[pfizer['dias_apos_ultima_dose'] > pfizer_days]"
   ]
  },
  {
   "cell_type": "code",
   "execution_count": null,
   "metadata": {},
   "outputs": [],
   "source": [
    "corona = df_final.loc[(df_final['vacina_nome_2a_dose'] == 'CORONAVAC') & (df_final['situacao_atual'] == 2)]\n",
    "corona = corona.loc[corona['dias_apos_ultima_dose'] > corona_days]"
   ]
  },
  {
   "cell_type": "code",
   "execution_count": null,
   "metadata": {},
   "outputs": [],
   "source": [
    "astra = df_final.loc[(df_final['vacina_nome_2a_dose'] == 'ASTRAZENECA') & (df_final['situacao_atual'] == 2)]\n",
    "astra = astra.loc[astra['dias_apos_ultima_dose'] > astra_days]"
   ]
  },
  {
   "cell_type": "code",
   "execution_count": null,
   "metadata": {},
   "outputs": [],
   "source": [
    "janssen = df_final.loc[(df_final['vacina_nome_dose_unica'] == 'JANSSEN') & (df_final['situacao_atual'] == 2)]\n",
    "janssen = janssen.loc[janssen['dias_apos_ultima_dose'] > janssen_days]"
   ]
  },
  {
   "cell_type": "code",
   "execution_count": null,
   "metadata": {},
   "outputs": [],
   "source": [
    "df_faltosos = pd.concat([pfizer, corona, astra,janssen])"
   ]
  },
  {
   "cell_type": "code",
   "execution_count": null,
   "metadata": {},
   "outputs": [],
   "source": [
    "df_faltosos['vacina_nome'] = df_faltosos['vacina_nome_2a_dose'] \n",
    "df_faltosos.loc[df_faltosos['vacina_nome_dose_unica'].notna(),'vacina_nome'] = df_faltosos.loc[df_faltosos['vacina_nome_dose_unica'].notna(),'vacina_nome_dose_unica'] "
   ]
  },
  {
   "cell_type": "code",
   "execution_count": null,
   "metadata": {},
   "outputs": [],
   "source": [
    "df_faltosos = pd.merge(df_faltosos.rename(columns={'ibge_atendimento':'ibge'}),municipios[['ibge','macro','rs','uf','municipio','regional']],on='ibge',how='left').rename(columns={'ibge':'ibge_residencia'})"
   ]
  },
  {
   "cell_type": "code",
   "execution_count": null,
   "metadata": {},
   "outputs": [],
   "source": [
    "# POR FAIXA ETÁRIA\n",
    "df_faltosos.loc[(df_faltosos['idade'] >= 5) & (df_faltosos['idade'] < 12), 'faixa_etaria'] = '5-11 anos'\n",
    "df_faltosos.loc[(df_faltosos['idade'] >= 12) & (df_faltosos['idade'] < 18), 'faixa_etaria'] = '12-17 anos'\n",
    "df_faltosos.loc[(df_faltosos['idade'] >= 18) & (df_faltosos['idade'] <= 19), 'faixa_etaria'] = '18-19 anos'\n",
    "df_faltosos.loc[(df_faltosos['idade'] >= 20) & (df_faltosos['idade'] <= 24), 'faixa_etaria'] = '20-24 anos'\n",
    "df_faltosos.loc[(df_faltosos['idade'] >= 25) & (df_faltosos['idade'] <= 29), 'faixa_etaria'] = '25-29 anos'\n",
    "df_faltosos.loc[(df_faltosos['idade'] >= 30) & (df_faltosos['idade'] <= 34), 'faixa_etaria'] = '30-34 anos'\n",
    "df_faltosos.loc[(df_faltosos['idade'] >= 35) & (df_faltosos['idade'] <= 39), 'faixa_etaria'] = '35-39 anos'\n",
    "df_faltosos.loc[(df_faltosos['idade'] >= 40) & (df_faltosos['idade'] <= 44), 'faixa_etaria'] = '40-44 anos'\n",
    "df_faltosos.loc[(df_faltosos['idade'] >= 45) & (df_faltosos['idade'] <= 49), 'faixa_etaria'] = '45-49 anos'\n",
    "df_faltosos.loc[(df_faltosos['idade'] >= 50) & (df_faltosos['idade'] <= 54), 'faixa_etaria'] = '50-54anos'\n",
    "df_faltosos.loc[(df_faltosos['idade'] >= 55) & (df_faltosos['idade'] <= 59), 'faixa_etaria'] = '55-59 anos'\n",
    "df_faltosos.loc[(df_faltosos['idade'] >= 60) & (df_faltosos['idade'] <= 64), 'faixa_etaria'] = '60-64 anos'\n",
    "df_faltosos.loc[(df_faltosos['idade'] >= 65) & (df_faltosos['idade'] <= 69), 'faixa_etaria'] = '65-69 anos'\n",
    "df_faltosos.loc[(df_faltosos['idade'] >= 70) & (df_faltosos['idade'] <= 74), 'faixa_etaria'] = '70-74 anos'\n",
    "df_faltosos.loc[(df_faltosos['idade'] >= 75) & (df_faltosos['idade'] <= 79), 'faixa_etaria'] = '75-79 anos'\n",
    "df_faltosos.loc[(df_faltosos['idade'] >= 80), 'faixa_etaria'] = '>80 anos'"
   ]
  },
  {
   "cell_type": "code",
   "execution_count": null,
   "metadata": {},
   "outputs": [],
   "source": [
    "df_faltosos = df_faltosos.loc[df_faltosos['rs'] != 99]\n",
    "df_faltosos = df_faltosos.loc[df_faltosos['idade'] >= 18]"
   ]
  },
  {
   "cell_type": "code",
   "execution_count": null,
   "metadata": {},
   "outputs": [],
   "source": [
    "archive = join(default_output, 'demanda_FALTOSOS(reforco).xlsx')\n",
    "\n",
    "\n",
    "writer = pd.ExcelWriter(archive,\n",
    "                    engine='xlsxwriter',\n",
    "                    datetime_format='dd/mm/yyyy',\n",
    "                    date_format='dd/mm/yyyy')"
   ]
  },
  {
   "cell_type": "code",
   "execution_count": null,
   "metadata": {},
   "outputs": [],
   "source": [
    "tabela = df_faltosos.groupby(['vacina_nome'])[['cns']].count().reset_index()\n",
    "tabela = tabela.rename(columns={'vacina_nome':'VACINA NOME', 'cns':'CONTAGEM'})\n",
    "tabela.loc['TOTAL', ['VACINA NOME','CONTAGEM']] = ('TOTAL PR', tabela['CONTAGEM'].sum())\n",
    "tabela['CONTAGEM'] = tabela['CONTAGEM'].astype(int)\n",
    "tabela"
   ]
  },
  {
   "cell_type": "code",
   "execution_count": null,
   "metadata": {},
   "outputs": [],
   "source": [
    "tabela.to_excel(writer, 'totais', index=False)"
   ]
  },
  {
   "cell_type": "code",
   "execution_count": null,
   "metadata": {},
   "outputs": [],
   "source": [
    "tabela = df_faltosos.groupby(['rs'])[['cns']].count().reset_index()\n",
    "tabela = tabela.rename(columns={'rs':'RS', 'cns':'CONTAGEM'})\n",
    "tabela.loc['TOTAL', ['RS','CONTAGEM']] = ('TOTAL PR', tabela['CONTAGEM'].sum())\n",
    "tabela['CONTAGEM'] = tabela['CONTAGEM'].astype(int)\n",
    "tabela"
   ]
  },
  {
   "cell_type": "code",
   "execution_count": null,
   "metadata": {},
   "outputs": [],
   "source": [
    "tabela.to_excel(writer, 'por_rs', index=False)"
   ]
  },
  {
   "cell_type": "code",
   "execution_count": null,
   "metadata": {},
   "outputs": [],
   "source": [
    "tabela = df_faltosos.groupby(['vacina_nome', 'rs'])[['cns']].count()\n",
    "tabela = tabela.rename(columns={'cns':'CONTAGEM'})\n",
    "tabela.index.names = ['VACINA NOME', 'RS']\n",
    "tabela.loc['TOTAL', ['CONTAGEM']] = (tabela['CONTAGEM'].sum())\n",
    "tabela['CONTAGEM'] = tabela['CONTAGEM'].astype(int)\n",
    "tabela"
   ]
  },
  {
   "cell_type": "code",
   "execution_count": null,
   "metadata": {},
   "outputs": [],
   "source": [
    "tabela.to_excel(writer, 'por_rs_vacina', index=True)"
   ]
  },
  {
   "cell_type": "code",
   "execution_count": null,
   "metadata": {},
   "outputs": [],
   "source": [
    "tabela = df_faltosos.groupby(['rs', 'municipio'])[['cns']].count()\n",
    "tabela = tabela.rename(columns={'cns':'CONTAGEM'})\n",
    "tabela.index.names = ['RS', 'MUNICÍPIO']\n",
    "tabela.loc['TOTAL', ['CONTAGEM']] = (tabela['CONTAGEM'].sum())\n",
    "tabela['CONTAGEM'] = tabela['CONTAGEM'].astype(int)\n",
    "tabela"
   ]
  },
  {
   "cell_type": "code",
   "execution_count": null,
   "metadata": {},
   "outputs": [],
   "source": [
    "tabela.to_excel(writer, 'por_municipio', index=True)"
   ]
  },
  {
   "cell_type": "code",
   "execution_count": null,
   "metadata": {},
   "outputs": [],
   "source": [
    "tabela = df_faltosos.groupby(['vacina_nome', 'rs', 'municipio'])[['cns']].count()\n",
    "tabela = tabela.rename(columns={'cns':'CONTAGEM'})\n",
    "tabela.index.names = ['VACINA NOME', 'RS', 'MUNICÍPIO']\n",
    "tabela.loc['TOTAL', ['CONTAGEM']] = (tabela['CONTAGEM'].sum())\n",
    "tabela['CONTAGEM'] = tabela['CONTAGEM'].astype(int)\n",
    "tabela"
   ]
  },
  {
   "cell_type": "code",
   "execution_count": null,
   "metadata": {},
   "outputs": [],
   "source": [
    "tabela.to_excel(writer, 'por_municipio_vacina', index=True)"
   ]
  },
  {
   "cell_type": "code",
   "execution_count": null,
   "metadata": {},
   "outputs": [],
   "source": [
    "tabela = df_faltosos.groupby(['vacina_nome', 'faixa_etaria'])[['cns']].count()\n",
    "tabela = tabela.rename(columns={'cns':'ÚLTIMA DOSE APLICADA'})\n",
    "tabela.index.names = ['VACINA NOME', 'FAIXA ETÁRIA']\n",
    "tabela = tabela.unstack('VACINA NOME')\n",
    "tabela['TOTAL'] = tabela.sum(axis=1)"
   ]
  },
  {
   "cell_type": "code",
   "execution_count": null,
   "metadata": {},
   "outputs": [],
   "source": [
    "tabela.to_excel(writer, 'faixa-etaria', index=True)"
   ]
  },
  {
   "cell_type": "code",
   "execution_count": null,
   "metadata": {},
   "outputs": [],
   "source": [
    "writer.save()\n",
    "writer.close()"
   ]
  },
  {
   "cell_type": "code",
   "execution_count": null,
   "metadata": {},
   "outputs": [],
   "source": [
    "# df_faltosos.to_excel(join(default_output, 'faltosos_nominais.xlsx'))"
   ]
  }
 ],
 "metadata": {
  "kernelspec": {
   "display_name": "Python 3 (ipykernel)",
   "language": "python",
   "name": "python3"
  },
  "language_info": {
   "codemirror_mode": {
    "name": "ipython",
    "version": 3
   },
   "file_extension": ".py",
   "mimetype": "text/x-python",
   "name": "python",
   "nbconvert_exporter": "python",
   "pygments_lexer": "ipython3",
   "version": "3.8.11"
  }
 },
 "nbformat": 4,
 "nbformat_minor": 4
}
