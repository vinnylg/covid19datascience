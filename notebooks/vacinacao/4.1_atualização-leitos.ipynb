{
 "cells": [
  {
   "cell_type": "code",
   "execution_count": null,
   "metadata": {
    "execution": {
     "iopub.execute_input": "2021-12-20T15:21:12.596983Z",
     "iopub.status.busy": "2021-12-20T15:21:12.596983Z",
     "iopub.status.idle": "2021-12-20T15:21:13.170023Z",
     "shell.execute_reply": "2021-12-20T15:21:13.169074Z",
     "shell.execute_reply.started": "2021-12-20T15:21:12.596983Z"
    }
   },
   "outputs": [],
   "source": [
    "## set covid19_datasciente as path for python find bulletin package\n",
    "import sys\n",
    "from pathlib import Path\n",
    "from os import getcwd, remove, walk\n",
    "from os.path import join, basename, isdir\n",
    "sys.path.append(str(Path(getcwd()).parent.parent))\n",
    "\n",
    "import pandas as pd\n",
    "pd.set_option('display.max_columns', None)\n",
    "pd.set_option('display.max_rows', 50)\n",
    "\n",
    "import codecs\n",
    "import numpy as np\n",
    "from glob import glob\n",
    "from epiweeks import Week"
   ]
  },
  {
   "cell_type": "code",
   "execution_count": null,
   "metadata": {
    "execution": {
     "iopub.execute_input": "2021-12-20T15:21:13.171054Z",
     "iopub.status.busy": "2021-12-20T15:21:13.171054Z",
     "iopub.status.idle": "2021-12-20T15:21:14.500433Z",
     "shell.execute_reply": "2021-12-20T15:21:14.499433Z",
     "shell.execute_reply.started": "2021-12-20T15:21:13.171054Z"
    }
   },
   "outputs": [],
   "source": [
    "from bulletin import root, default_input, default_output, tables_path, root\n",
    "default_output = join(default_output,'vacinacao')\n",
    "\n",
    "from bulletin.systems import Notifica, CasosConfirmados, eSUS, Sivep\n",
    "from bulletin.utils.static import Municipios\n",
    "from bulletin.utils.xls_ import fit_cols\n",
    "from bulletin.utils.normalize import normalize_text, normalize_hash, date_hash\n",
    "\n",
    "from datetime import datetime, date, timedelta\n",
    "\n",
    "database_path = join(root,'database','leitos')\n",
    "\n",
    "hoje = pd.to_datetime(date.today())\n",
    "ontem = hoje - timedelta(1)\n",
    "anteontem = ontem - timedelta(1)\n",
    "data_retroativos = ontem - timedelta(31)"
   ]
  },
  {
   "cell_type": "code",
   "execution_count": null,
   "metadata": {
    "execution": {
     "iopub.execute_input": "2021-12-20T15:23:36.189154Z",
     "iopub.status.busy": "2021-12-20T15:23:36.189154Z",
     "iopub.status.idle": "2021-12-20T15:23:36.238977Z",
     "shell.execute_reply": "2021-12-20T15:23:36.238977Z",
     "shell.execute_reply.started": "2021-12-20T15:23:36.189154Z"
    }
   },
   "outputs": [],
   "source": [
    "#LEITURA DO BANCO MAIS ATUAL\n",
    "try:\n",
    "    leitos_sus = pd.read_excel(join(default_input,'ocupacao_leitos','leitos_sus.xls'), dtype={'Data Nascimento':str, 'Data Internação':str,'Data Resultado Exame':str, 'Data Alta':str})\n",
    "except:\n",
    "    leitos_sus = pd.read_excel(join(default_input,'ocupacao_leitos','leitos_sus.xlsx'), dtype={'Data Nascimento':str, 'Data Internação':str,'Data Resultado Exame':str, 'Data Alta':str})\n",
    "\n",
    "try:\n",
    "    del(leitos_sus['Total de Linhas'])\n",
    "except:\n",
    "    pass\n",
    "\n",
    "leitos_sus['Data Nascimento'] = leitos_sus['Data Nascimento'].str[:10]\n",
    "leitos_sus['Data Nascimento'] = pd.to_datetime(leitos_sus['Data Nascimento'], format='%d/%m/%Y', errors='ignore')\n",
    "leitos_sus['Data Nascimento'] = pd.to_datetime(leitos_sus['Data Nascimento'], format='%Y-%m-%d', errors='ignore')\n",
    "\n",
    "\n",
    "leitos_sus['Data Internação'] = leitos_sus['Data Internação'].str[:10]\n",
    "leitos_sus['Data Internação'] = pd.to_datetime(leitos_sus['Data Internação'], format='%d/%m/%Y', errors='ignore')\n",
    "leitos_sus['Data Internação'] = pd.to_datetime(leitos_sus['Data Internação'], format='%Y-%m-%d', errors='ignore')\n",
    "\n",
    "\n",
    "leitos_sus['Data Resultado Exame'] = leitos_sus['Data Resultado Exame'].str[:10]\n",
    "leitos_sus['Data Resultado Exame'] = pd.to_datetime(leitos_sus['Data Resultado Exame'], format='%d/%m/%Y', errors='ignore')\n",
    "leitos_sus['Data Resultado Exame'] = pd.to_datetime(leitos_sus['Data Resultado Exame'], format='%Y-%m-%d', errors='coerce')\n",
    "\n",
    "leitos_sus['Data Alta'] = ''\n",
    "leitos_sus['Data Alta'] = leitos_sus['Data Alta'].str[:10]\n",
    "leitos_sus['Data Alta'] = pd.to_datetime(leitos_sus['Data Alta'], format='%Y-%m-%d', errors='coerce')\n",
    "\n",
    "leitos_sus.shape\n",
    "\n",
    "if 'Regional Residência' not in leitos_sus.columns:\n",
    "    leitos_sus['Regional Residência'] = ''\n",
    "\n",
    "leitos_sus = leitos_sus[['Cod Notificação COVID', 'Nome do Paciente', 'Data Nascimento', 'Idade', 'Leito Tipo', 'Data Internação', 'Data Alta', 'Cod Resultado Exame', 'Executante', 'Data Resultado Exame' ,'Município Residência', 'Regional Residência', 'Macrorregião Residencia']]"
   ]
  },
  {
   "cell_type": "code",
   "execution_count": null,
   "metadata": {},
   "outputs": [],
   "source": [
    "leitos_sus.index = np.arange(len(leitos_sus))"
   ]
  },
  {
   "cell_type": "code",
   "execution_count": null,
   "metadata": {
    "execution": {
     "iopub.execute_input": "2021-12-20T15:23:36.238977Z",
     "iopub.status.busy": "2021-12-20T15:23:36.238977Z",
     "iopub.status.idle": "2021-12-20T15:23:36.252977Z",
     "shell.execute_reply": "2021-12-20T15:23:36.252977Z",
     "shell.execute_reply.started": "2021-12-20T15:23:36.238977Z"
    }
   },
   "outputs": [],
   "source": [
    "leitos_sus.dtypes"
   ]
  },
  {
   "cell_type": "code",
   "execution_count": null,
   "metadata": {},
   "outputs": [],
   "source": [
    "leitos_sus = leitos_sus.drop(index=leitos_sus.loc[leitos_sus['Macrorregião Residencia']=='Macro Regional SP'].index)"
   ]
  },
  {
   "cell_type": "code",
   "execution_count": null,
   "metadata": {},
   "outputs": [],
   "source": [
    "leitos_sus['HASH'] = leitos_sus['Cod Notificação COVID'].astype('str') + \\\n",
    "                     leitos_sus['Nome do Paciente'].apply(normalize_text) + \\\n",
    "                     leitos_sus['Leito Tipo'].apply(normalize_text)"
   ]
  },
  {
   "cell_type": "code",
   "execution_count": null,
   "metadata": {},
   "outputs": [],
   "source": [
    "leitos_sus.loc[leitos_sus['Leito Tipo'].str.upper().str.contains('UTI'), 'TIPO DE LEITO'] = 'UTI'\n",
    "leitos_sus.loc[~leitos_sus['Leito Tipo'].str.upper().str.contains('UTI'), 'TIPO DE LEITO'] = 'ENFERMARIA'"
   ]
  },
  {
   "cell_type": "code",
   "execution_count": null,
   "metadata": {},
   "outputs": [],
   "source": [
    "leitos_sus = leitos_sus.drop_duplicates('HASH', keep='last')"
   ]
  },
  {
   "cell_type": "code",
   "execution_count": null,
   "metadata": {},
   "outputs": [],
   "source": [
    "leitos_sus.to_pickle(join(database_path,'leitos_sus.pkl'))"
   ]
  },
  {
   "cell_type": "code",
   "execution_count": null,
   "metadata": {},
   "outputs": [],
   "source": [
    "#LEITURA DO BANCO DE INTERNADOS E SALVAR OS DADOS DE HOJE\n",
    "internamentos = pd.read_pickle(join(database_path,'internamentos.pkl'))\n",
    "\n",
    "internamentos = pd.concat([internamentos, leitos_sus], ignore_index=True)\n",
    "internamentos.index = np.arange(len(internamentos))\n",
    "\n",
    "internamentos = internamentos.drop_duplicates('HASH', keep='last')\n",
    "\n",
    "internamentos.to_pickle(join(database_path,'internamentos.pkl'))\n",
    "internamentos.shape"
   ]
  },
  {
   "cell_type": "code",
   "execution_count": null,
   "metadata": {},
   "outputs": [],
   "source": []
  },
  {
   "cell_type": "code",
   "execution_count": null,
   "metadata": {},
   "outputs": [],
   "source": []
  }
 ],
 "metadata": {
  "kernelspec": {
   "display_name": "Python 3 (ipykernel)",
   "language": "python",
   "name": "python3"
  },
  "language_info": {
   "codemirror_mode": {
    "name": "ipython",
    "version": 3
   },
   "file_extension": ".py",
   "mimetype": "text/x-python",
   "name": "python",
   "nbconvert_exporter": "python",
   "pygments_lexer": "ipython3",
   "version": "3.8.11"
  }
 },
 "nbformat": 4,
 "nbformat_minor": 4
}
