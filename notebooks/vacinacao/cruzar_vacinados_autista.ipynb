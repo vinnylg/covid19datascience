{
 "cells": [
  {
   "cell_type": "code",
   "execution_count": null,
   "id": "041eb5d9",
   "metadata": {},
   "outputs": [],
   "source": [
    "## set covid19_datasciente as path for python find bulletin package\n",
    "import sys\n",
    "from pathlib import Path\n",
    "from os import getcwd, remove, walk\n",
    "from os.path import join, basename, isdir\n",
    "sys.path.append(str(Path(getcwd()).parent.parent))\n",
    "\n",
    "import pandas as pd\n",
    "pd.set_option('display.max_columns', None)\n",
    "pd.set_option('display.max_rows', 100)\n",
    "# pd.options.display.float_format = lambda x: '{:,.0f}'.format(x).replace(',','.')\n",
    "\n",
    "import codecs\n",
    "import numpy as np\n",
    "from glob import glob\n",
    "from epiweeks import Week"
   ]
  },
  {
   "cell_type": "code",
   "execution_count": null,
   "id": "3d439526",
   "metadata": {},
   "outputs": [],
   "source": [
    "from bulletin import default_input, default_output, tables_path, root\n",
    "default_output = join(default_output,'vacinacao')\n",
    "\n",
    "from bulletin.systems import Notifica, CasosConfirmados, eSUS, Sivep\n",
    "from bulletin.utils.static import Municipios\n",
    "from bulletin.utils.xls_ import fit_cols\n",
    "from bulletin.utils.normalize import normalize_text, normalize_hash, date_hash, normalize_cpf\n",
    "\n",
    "from datetime import datetime, date, timedelta\n",
    "\n",
    "hoje = pd.to_datetime(date.today())\n",
    "ontem = hoje - timedelta(1)\n",
    "anteontem = ontem - timedelta(1)\n",
    "data_retroativos = ontem - timedelta(31)\n",
    "\n",
    "tables = dict([(Path(x).stem,pd.read_csv(join(tables_path,x))) for x in glob(join(tables_path,\"*.csv\"))])"
   ]
  },
  {
   "cell_type": "code",
   "execution_count": null,
   "id": "6346609d",
   "metadata": {},
   "outputs": [],
   "source": [
    "situacao_labels = { 0:'Não Vacinado', 1:'Esquema Primário Incompleto', 2:'Esquema Primário Completo ', 3: 'Esquema Primário Completo + Reforço'}\n",
    "fator_risco_labels = { 0:'Sem Fator de Risco', 1:'Com Fator de Risco' }\n",
    "mes_labels = {key+1:value for key,value in enumerate(['Janeiro','Fevereiro','Março','Abril','Maio','Junho','Julho','Agosto','Setembro','Outubro','Novembro','Dezembro'])}\n",
    "evolucao_labels = {1: 'Recuperados', 2: 'Óbitos', 3: 'Ativos'}"
   ]
  },
  {
   "cell_type": "code",
   "execution_count": null,
   "id": "95b4b2b5",
   "metadata": {},
   "outputs": [],
   "source": [
    "from difflib import SequenceMatcher\n",
    "\n",
    "def similar(a, b):\n",
    "    return SequenceMatcher(None, a, b).ratio()"
   ]
  },
  {
   "cell_type": "code",
   "execution_count": null,
   "id": "1c88f0c6",
   "metadata": {},
   "outputs": [],
   "source": [
    "vac = eSUS('vacinados')\n",
    "vac.load()\n",
    "vac.df.shape"
   ]
  },
  {
   "cell_type": "code",
   "execution_count": null,
   "id": "bf91ebf1",
   "metadata": {},
   "outputs": [],
   "source": [
    "vacinados = vac.df"
   ]
  },
  {
   "cell_type": "code",
   "execution_count": null,
   "id": "061acd32",
   "metadata": {},
   "outputs": [],
   "source": [
    "autistas = pd.read_excel(join(default_input,'autistas.xlsx'))\n",
    "autistas"
   ]
  },
  {
   "cell_type": "code",
   "execution_count": null,
   "id": "cc776bf9",
   "metadata": {},
   "outputs": [],
   "source": [
    "autistas['hash_mae'] = autistas['Nome Requerente'].apply(normalize_hash) + autistas['Nome mãe'].apply(normalize_hash)\n",
    "autistas['hash_nasc'] = autistas['Nome Requerente'].apply(normalize_hash) + autistas['Data Nascimento'].apply(date_hash)\n",
    "autistas['cpf'] = autistas['CPF Requerente'].apply(normalize_cpf)"
   ]
  },
  {
   "cell_type": "code",
   "execution_count": null,
   "id": "61200ee1",
   "metadata": {},
   "outputs": [],
   "source": [
    "casos_vacinados_cpf = pd.merge(vacinados.loc[vacinados['cpf'].notna()],autistas, on='cpf', how='inner',suffixes=['_esus','_autistas'])\n",
    "print(len(casos_vacinados_cpf))"
   ]
  },
  {
   "cell_type": "code",
   "execution_count": null,
   "id": "567a878f",
   "metadata": {},
   "outputs": [],
   "source": [
    "casos_vacinados_mae = pd.merge(vacinados.loc[vacinados['hash_mae'].notna()],autistas, on='hash_mae', how='inner',suffixes=['_esus','_autistas'])\n",
    "print(len(casos_vacinados_mae))"
   ]
  },
  {
   "cell_type": "code",
   "execution_count": null,
   "id": "3f9343a0",
   "metadata": {},
   "outputs": [],
   "source": [
    "casos_vacinados_nasc = pd.merge(vacinados.loc[vacinados['hash_nasc'].notna()],autistas, on='hash_nasc', how='inner',suffixes=['_esus','_autistas'])\n",
    "print(len(casos_vacinados_nasc))"
   ]
  },
  {
   "cell_type": "code",
   "execution_count": null,
   "id": "d8ad87d7",
   "metadata": {},
   "outputs": [],
   "source": [
    "casos_vacinados = pd.concat([casos_vacinados_cpf,casos_vacinados_mae,casos_vacinados_nasc], ignore_index=True)\n",
    "print(len(casos_vacinados))"
   ]
  },
  {
   "cell_type": "code",
   "execution_count": null,
   "id": "6ee5e1f5",
   "metadata": {},
   "outputs": [],
   "source": [
    "casos_vacinados.columns"
   ]
  },
  {
   "cell_type": "code",
   "execution_count": null,
   "id": "c817085d",
   "metadata": {},
   "outputs": [],
   "source": [
    "casos_vacinados.groupby('cns')[['paciente']].count().sort_values('paciente',ascending=False)"
   ]
  },
  {
   "cell_type": "code",
   "execution_count": null,
   "id": "79546662",
   "metadata": {},
   "outputs": [],
   "source": [
    "new_df = pd.DataFrame()\n",
    "\n",
    "for cns, df in casos_vacinados.groupby('cns'):\n",
    "    new_df = new_df.append(df.apply(lambda x: x.loc[x.notna()].unique(), axis=0).apply(lambda x: x[0] if (len(x) >= 1) else None), ignore_index=True)\n",
    "\n",
    "new_df"
   ]
  },
  {
   "cell_type": "code",
   "execution_count": null,
   "id": "e33a8043",
   "metadata": {},
   "outputs": [],
   "source": [
    "new_df.pivot_table(index=['situacao_atual'], values='cns', aggfunc='count', margins=True, margins_name='Total').rename(index=situacao_labels, level='situacao_atual').rename(columns={'cns':'quantidade'})"
   ]
  },
  {
   "cell_type": "code",
   "execution_count": null,
   "id": "c136c50f",
   "metadata": {},
   "outputs": [],
   "source": [
    "autistas = autistas.join(new_df.drop_duplicates('Numero Carteira',keep='first').set_index('Numero Carteira')[[col for col in new_df.columns if not col in autistas.columns]], on='Numero Carteira')"
   ]
  },
  {
   "cell_type": "code",
   "execution_count": null,
   "id": "369a80dc",
   "metadata": {},
   "outputs": [],
   "source": [
    "autistas.pivot_table(index=['situacao_atual'], values='Numero Carteira', aggfunc='count', margins=True, margins_name='Total', dropna=False).rename(index=situacao_labels, level='situacao_atual').rename(columns={'cns':'quantidade'})"
   ]
  },
  {
   "cell_type": "code",
   "execution_count": null,
   "id": "431d6258",
   "metadata": {},
   "outputs": [],
   "source": [
    "autistas.loc[autistas['situacao_atual'].isna(),'situacao_atual'] = 0\n",
    "autistas.groupby('situacao_atual')[['Numero Carteira']].count().rename(index=situacao_labels, level='situacao_atual').rename(columns={'Numero Carteira':'quantidade'})"
   ]
  },
  {
   "cell_type": "code",
   "execution_count": null,
   "id": "a0d963a3",
   "metadata": {},
   "outputs": [],
   "source": [
    "autistas.replace({'situacao_atual':situacao_labels}).to_excel(join(default_output,'autistas.xlsx'))"
   ]
  },
  {
   "cell_type": "code",
   "execution_count": null,
   "id": "dae4a124",
   "metadata": {},
   "outputs": [],
   "source": []
  }
 ],
 "metadata": {
  "kernelspec": {
   "display_name": "Python 3 (ipykernel)",
   "language": "python",
   "name": "python3"
  },
  "language_info": {
   "codemirror_mode": {
    "name": "ipython",
    "version": 3
   },
   "file_extension": ".py",
   "mimetype": "text/x-python",
   "name": "python",
   "nbconvert_exporter": "python",
   "pygments_lexer": "ipython3",
   "version": "3.8.11"
  }
 },
 "nbformat": 4,
 "nbformat_minor": 5
}
