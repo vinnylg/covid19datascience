{
 "cells": [
  {
   "cell_type": "code",
   "execution_count": null,
   "metadata": {
    "execution": {
     "iopub.execute_input": "2021-12-20T14:45:57.525701Z",
     "iopub.status.busy": "2021-12-20T14:45:57.525701Z",
     "iopub.status.idle": "2021-12-20T14:45:58.046738Z",
     "shell.execute_reply": "2021-12-20T14:45:58.046738Z",
     "shell.execute_reply.started": "2021-12-20T14:45:57.525701Z"
    }
   },
   "outputs": [],
   "source": [
    "## set covid19_datasciente as path for python find bulletin package\n",
    "import sys\n",
    "from pathlib import Path\n",
    "from os import getcwd, remove, walk, makedirs\n",
    "from os.path import join, basename, isdir\n",
    "sys.path.append(str(Path(getcwd()).parent.parent))\n",
    "\n",
    "import pandas as pd\n",
    "pd.set_option('display.max_columns', None)\n",
    "pd.set_option('display.max_rows', 50)\n",
    "\n",
    "import codecs\n",
    "import numpy as np\n",
    "from glob import glob\n",
    "from epiweeks import Week\n",
    "\n",
    "from matplotlib import pyplot as plt"
   ]
  },
  {
   "cell_type": "code",
   "execution_count": null,
   "metadata": {
    "execution": {
     "iopub.execute_input": "2021-12-20T14:45:58.048729Z",
     "iopub.status.busy": "2021-12-20T14:45:58.048729Z",
     "iopub.status.idle": "2021-12-20T14:45:59.484840Z",
     "shell.execute_reply": "2021-12-20T14:45:59.484840Z",
     "shell.execute_reply.started": "2021-12-20T14:45:58.048729Z"
    }
   },
   "outputs": [],
   "source": [
    "from bulletin import default_input, default_output, tables_path, root\n",
    "\n",
    "from bulletin.systems import Notifica, CasosConfirmados, eSUS, Sivep\n",
    "from bulletin.utils.static import Municipios\n",
    "from bulletin.utils.xls_ import fit_cols\n",
    "from bulletin.utils.normalize import normalize_text, normalize_hash, date_hash\n",
    "\n",
    "from datetime import datetime, date, timedelta\n",
    "\n",
    "today = pd.to_datetime(date.today())\n",
    "ontem = today - timedelta(1)\n",
    "anteontem = ontem - timedelta(1)\n",
    "data_retroativos = ontem - timedelta(31)\n",
    "\n",
    "database_path = join(root,'database','leitos')"
   ]
  },
  {
   "cell_type": "code",
   "execution_count": null,
   "metadata": {},
   "outputs": [],
   "source": [
    "default_output = join(default_output,'vacinacao',f'internados')\n",
    "    \n",
    "if not isdir(default_output): \n",
    "    makedirs(default_output)\n",
    "    \n",
    "default_output"
   ]
  },
  {
   "cell_type": "code",
   "execution_count": null,
   "metadata": {},
   "outputs": [],
   "source": [
    "join_columns_levels = lambda df: df.set_axis([\" \".join(map(str,columns)) for columns in df.columns], axis=1)"
   ]
  },
  {
   "cell_type": "code",
   "execution_count": null,
   "metadata": {
    "execution": {
     "iopub.execute_input": "2021-12-20T14:47:27.621491Z",
     "iopub.status.busy": "2021-12-20T14:47:27.620492Z",
     "iopub.status.idle": "2021-12-20T14:47:27.628472Z",
     "shell.execute_reply": "2021-12-20T14:47:27.627471Z",
     "shell.execute_reply.started": "2021-12-20T14:47:27.621491Z"
    }
   },
   "outputs": [],
   "source": [
    "situacao_contagio_labels = { -1: 'Não Vacinado / Esquema Primário Incompleto', 0:'Não Vacinado', 1:'Esquema Primário Incompleto', 2:'Esquema Primário Completo ', 3: 'Esquema Primário Completo + Reforço'}\n",
    "fator_risco_labels = { 0:'Sem Fator de Risco', 1:'Com Fator de Risco' }\n",
    "mes_labels = {key+1:value for key,value in enumerate(['Janeiro','Fevereiro','Março','Abril','Maio','Junho','Julho','Agosto','Setembro','Outubro','Novembro','Dezembro'])}\n",
    "evolucao_labels = {1: 'Recuperados', 2: 'Óbitos', 3: 'Ativos'}\n",
    "raca_cor_labels = CasosConfirmados().tables['raca_cor'].set_index('id')['raca_cor'].to_dict()"
   ]
  },
  {
   "cell_type": "code",
   "execution_count": null,
   "metadata": {
    "execution": {
     "iopub.execute_input": "2021-12-20T14:45:59.488823Z",
     "iopub.status.busy": "2021-12-20T14:45:59.487823Z",
     "iopub.status.idle": "2021-12-20T14:46:39.733731Z",
     "shell.execute_reply": "2021-12-20T14:46:39.733731Z",
     "shell.execute_reply.started": "2021-12-20T14:45:59.488823Z"
    }
   },
   "outputs": [],
   "source": [
    "cc_vacinados = CasosConfirmados('cc_vacinados')\n",
    "cc_vacinados.load()\n",
    "casos = cc_vacinados.df"
   ]
  },
  {
   "cell_type": "code",
   "execution_count": null,
   "metadata": {},
   "outputs": [],
   "source": [
    "casos.loc[casos['raca_cor'].isin([0,6]),'raca_cor'] = 99"
   ]
  },
  {
   "cell_type": "code",
   "execution_count": null,
   "metadata": {
    "execution": {
     "iopub.execute_input": "2021-12-20T14:46:40.065544Z",
     "iopub.status.busy": "2021-12-20T14:46:40.065544Z",
     "iopub.status.idle": "2021-12-20T14:46:40.414234Z",
     "shell.execute_reply": "2021-12-20T14:46:40.414234Z",
     "shell.execute_reply.started": "2021-12-20T14:46:40.065544Z"
    }
   },
   "outputs": [],
   "source": [
    "internamentos = pd.read_pickle(join(database_path,'internamentos.pkl')).sort_values('Cod Notificação COVID')\n",
    "internamentos.shape\n",
    "\n",
    "cc_vacinados = CasosConfirmados('cc_vacinados')\n",
    "cc_vacinados.load()\n",
    "\n",
    "internados = internamentos.drop_duplicates('Cod Notificação COVID',keep='last').copy()\n",
    "internados.shape\n",
    "\n",
    "internados = internados.join(cc_vacinados.df.set_index('id'), on='Cod Notificação COVID')\n",
    "internados = internados.loc[internados['fator_risco'].notna()]\n",
    "internados.shape\n",
    "\n",
    "internados = internados.rename(columns={'Cod Notificação COVID':'id'})\n",
    "\n",
    "internados['ano'] = internados['Data Internação'].dt.year\n",
    "internados['mes'] = internados['Data Internação'].dt.month"
   ]
  },
  {
   "cell_type": "code",
   "execution_count": null,
   "metadata": {},
   "outputs": [],
   "source": [
    "internados['fx'] = '60+'\n",
    "internados.loc[(internados['Idade']>=12)&(internados['Idade']<60),'fx'] = '12-59'\n",
    "internados.loc[(internados['Idade']<12),'fx'] = '0-11'"
   ]
  },
  {
   "cell_type": "code",
   "execution_count": null,
   "metadata": {},
   "outputs": [],
   "source": [
    "internados = internados.rename(columns={'Cod Notificação COVID':'id'})"
   ]
  },
  {
   "cell_type": "code",
   "execution_count": null,
   "metadata": {},
   "outputs": [],
   "source": [
    "\n",
    "internados['situacao_contagio'] = 0\n",
    "\n",
    "internados.loc[\n",
    "    (\n",
    "        (internados['doses_aplicadas']=='1ª Dose') \n",
    "        &\n",
    "        (internados['Data Internação'] >= internados['data_aplicacao_1a_dose'])\n",
    "    ) \n",
    "    |\n",
    "    (\n",
    "        (internados['doses_aplicadas']=='1ª Dose,2ª Dose') \n",
    "        &\n",
    "        (internados['Data Internação'] >= internados['data_aplicacao_1a_dose'])\n",
    "        &\n",
    "        (internados['Data Internação'] <= internados['data_imunizacao']  )\n",
    "    ) \n",
    "    | \n",
    "    (\n",
    "        (internados['doses_aplicadas']=='Única') \n",
    "        & \n",
    "        (internados['Data Internação'] >= internados['data_aplicacao_dose_unica'])\n",
    "        &\n",
    "        (internados['Data Internação'] <= internados['data_imunizacao']  )\n",
    "    )\n",
    ", 'situacao_contagio'] = 1\n",
    "\n",
    "\n",
    "internados.loc[\n",
    "    internados['doses_aplicadas'].isin(\n",
    "        [\n",
    "            '1ª Dose,2ª Dose',\n",
    "            '1ª Dose,2ª Dose,Adicional',\n",
    "            'Única',\n",
    "            'Única,Adicional',\n",
    "        ]\n",
    "    ) \n",
    "    &\n",
    "    (internados['Data Internação'] > internados['data_imunizacao']  )\n",
    "    \n",
    ", 'situacao_contagio'] = 2\n",
    "\n",
    "\n",
    "internados.loc[\n",
    "    internados['doses_aplicadas'].isin(\n",
    "        [\n",
    "            '1ª Dose,2ª Dose,Reforço',\n",
    "            'Única,Reforço',\n",
    "        ]\n",
    "    ) \n",
    "    &\n",
    "    (internados['Data Internação'] > internados['data_imunizacao'])\n",
    "    &\n",
    "    (internados['Data Internação'] <= internados['data_imunizacao_reforco'])\n",
    "\n",
    ", 'situacao_contagio'] = 2\n",
    "\n",
    "\n",
    "internados.loc[\n",
    "    internados['doses_aplicadas'].isin(\n",
    "        [\n",
    "            '1ª Dose,2ª Dose,Reforço',\n",
    "            'Única,Reforço',\n",
    "        ]\n",
    "    ) \n",
    "    &\n",
    "    (internados['Data Internação'] > internados['data_imunizacao_reforco'])\n",
    "\n",
    ", 'situacao_contagio'] = 3"
   ]
  },
  {
   "cell_type": "code",
   "execution_count": null,
   "metadata": {
    "execution": {
     "iopub.execute_input": "2021-12-20T14:47:27.771525Z",
     "iopub.status.busy": "2021-12-20T14:47:27.771525Z",
     "iopub.status.idle": "2021-12-20T14:47:27.806536Z",
     "shell.execute_reply": "2021-12-20T14:47:27.805559Z",
     "shell.execute_reply.started": "2021-12-20T14:47:27.771525Z"
    }
   },
   "outputs": [],
   "source": [
    "internados_mes_situacao_contagio = internados.groupby(['ano','mes','situacao_contagio'])[['id']].count().unstack('situacao_contagio').fillna(0).astype(int).droplevel(0,1)\n",
    "internados_mes_situacao_contagio = internados_mes_situacao_contagio.rename(columns=situacao_contagio_labels, level='situacao_contagio').rename(index=mes_labels, level='mes')\n",
    "internados_mes_situacao_contagio.to_csv(join(default_output,'internados_mes_situacao_contagio.csv'))\n",
    "internados_mes_situacao_contagio"
   ]
  },
  {
   "cell_type": "code",
   "execution_count": null,
   "metadata": {
    "execution": {
     "iopub.execute_input": "2021-12-20T14:47:27.808507Z",
     "iopub.status.busy": "2021-12-20T14:47:27.807535Z",
     "iopub.status.idle": "2021-12-20T14:47:27.854527Z",
     "shell.execute_reply": "2021-12-20T14:47:27.853525Z",
     "shell.execute_reply.started": "2021-12-20T14:47:27.808507Z"
    }
   },
   "outputs": [],
   "source": [
    "internados_mes_situacao_contagio_fator_risco = internados.groupby(['ano','mes','situacao_contagio','fator_risco'])[['id']].count().unstack(['situacao_contagio','fator_risco']).fillna(0).astype(int).droplevel(0,1).sort_index(axis=1, level=0)\n",
    "internados_mes_situacao_contagio_fator_risco = internados_mes_situacao_contagio_fator_risco.rename(columns=situacao_contagio_labels, level='situacao_contagio').rename(columns=fator_risco_labels, level='fator_risco').rename(index=mes_labels, level='mes')\n",
    "\n",
    "internados_mes_situacao_contagio_fator_risco = join_columns_levels(internados_mes_situacao_contagio_fator_risco)\n",
    "internados_mes_situacao_contagio_fator_risco.to_csv(join(default_output,'internados_mes_situacao_contagio_fator_risco.csv'))\n",
    "internados_mes_situacao_contagio_fator_risco"
   ]
  },
  {
   "cell_type": "code",
   "execution_count": null,
   "metadata": {},
   "outputs": [],
   "source": [
    "internados_mes_situacao_contagio_leito_tipo = internados.groupby(['ano','mes','situacao_contagio','Leito Tipo'])[['id']].count().unstack(['situacao_contagio','Leito Tipo']).fillna(0).astype(int).droplevel(0,1).sort_index(axis=1, level=0)\n",
    "internados_mes_situacao_contagio_leito_tipo = internados_mes_situacao_contagio_leito_tipo.rename(columns=situacao_contagio_labels, level='situacao_contagio').rename(index=mes_labels, level='mes')\n",
    "\n",
    "internados_mes_situacao_contagio_leito_tipo = join_columns_levels(internados_mes_situacao_contagio_leito_tipo)\n",
    "internados_mes_situacao_contagio_leito_tipo.to_csv(join(default_output,'internados_mes_situacao_contagio_leito_tipo.csv'))\n",
    "internados_mes_situacao_contagio_leito_tipo"
   ]
  },
  {
   "cell_type": "code",
   "execution_count": null,
   "metadata": {},
   "outputs": [],
   "source": [
    "internados_mes_situacao_contagio_faixa_etaria = internados.groupby(['ano','mes','situacao_contagio','fx'])[['id']].count().unstack(['fx','situacao_contagio']).fillna(0).astype(int).droplevel(0,1).sort_index(axis=1, level=0)\n",
    "internados_mes_situacao_contagio_faixa_etaria = internados_mes_situacao_contagio_faixa_etaria.reindex( pd.MultiIndex.from_product([ list(x) for x in  internados_mes_situacao_contagio_faixa_etaria.columns.levels ], names=internados_mes_situacao_contagio_faixa_etaria.columns.names),fill_value=0, axis=1)\n",
    "\n",
    "internados_mes_situacao_contagio_faixa_etaria = internados_mes_situacao_contagio_faixa_etaria.rename(columns=situacao_contagio_labels, level='situacao_contagio').rename(index=mes_labels, level='mes')\n",
    "internados_mes_situacao_contagio_faixa_etaria = join_columns_levels(internados_mes_situacao_contagio_faixa_etaria)\n",
    "internados_mes_situacao_contagio_faixa_etaria.to_csv(join(default_output,'internados_mes_situacao_contagio_faixa_etaria.csv'))\n",
    "internados_mes_situacao_contagio_faixa_etaria"
   ]
  },
  {
   "cell_type": "code",
   "execution_count": null,
   "metadata": {},
   "outputs": [],
   "source": [
    "nt = Notifica()\n",
    "fatores = nt.schema.loc[nt.schema['group_name']=='fator_risco','column']\n",
    "fatores = [ f for f in fatores if f not in ['outras_morbidades','periodo_gestacao','gestante_alto_risco','gestante']]"
   ]
  },
  {
   "cell_type": "code",
   "execution_count": null,
   "metadata": {},
   "outputs": [],
   "source": [
    "internados_fator_risco = internados.loc[(internados['fator_risco']==1)]\n",
    "\n",
    "internados_fator_risco_situacao_contagio = {}\n",
    "\n",
    "for situacao_contagio in sorted(internados_fator_risco['situacao_contagio'].unique()):\n",
    "    fator_risco = internados_fator_risco.loc[internados_fator_risco['situacao_contagio']==situacao_contagio,fatores]\n",
    "    n = len(fator_risco)\n",
    "    fator_risco = fator_risco == 1\n",
    "    fator_risco = fator_risco.sum(axis=0).to_frame(name='Quantidade')\n",
    "    fator_risco['%'] = fator_risco['Quantidade'] / n\n",
    "    # fator_risco['%'] = fator_risco['Quantidade'] / fator_risco['Quantidade'].sum()\n",
    "    fator_risco = fator_risco.sort_values('%',ascending=False)\n",
    "    fator_risco.loc['TOTAL DE ÓBITOS','Quantidade'] = n\n",
    "    internados_fator_risco_situacao_contagio[situacao_contagio] = fator_risco\n",
    "    \n",
    "internados_fator_risco_situacao_contagio = pd.concat(internados_fator_risco_situacao_contagio,names=['situacao_contagio','fator_risco'],axis=1)\n",
    "internados_fator_risco_situacao_contagio.loc['TOTAL DE ÓBITOS',(slice(None),'%')] = (internados_fator_risco_situacao_contagio.loc['TOTAL DE ÓBITOS',(slice(None),'Quantidade')] / internados_fator_risco_situacao_contagio.loc['TOTAL DE ÓBITOS',(slice(None),'Quantidade')].sum()).values\n",
    "internados_fator_risco_situacao_contagio = internados_fator_risco_situacao_contagio.rename(columns=situacao_contagio_labels, level='situacao_contagio')\n",
    "internados_fator_risco_situacao_contagio = internados_fator_risco_situacao_contagio.reorder_levels(['fator_risco','situacao_contagio'], axis=1)\n",
    "internados_fator_risco_situacao_contagio = join_columns_levels(internados_fator_risco_situacao_contagio)\n",
    "internados_fator_risco_situacao_contagio.to_csv(join(default_output,'internados_fator_risco_situacao_contagio.csv'), sep = ';', decimal=',', float_format='%.3f')\n",
    "internados_fator_risco_situacao_contagio"
   ]
  },
  {
   "cell_type": "code",
   "execution_count": null,
   "metadata": {},
   "outputs": [],
   "source": [
    "internados.loc[internados['Leito Tipo'].str.upper().str.contains('UTI'), 'Leito Tipo'] = 'UTI'\n",
    "internados.loc[~internados['Leito Tipo'].str.upper().str.contains('UTI'), 'Leito Tipo'] = 'ENFERMARIA'"
   ]
  },
  {
   "cell_type": "code",
   "execution_count": null,
   "metadata": {
    "execution": {
     "iopub.execute_input": "2021-12-20T15:24:51.308282Z",
     "iopub.status.busy": "2021-12-20T15:24:51.308282Z",
     "iopub.status.idle": "2021-12-20T15:24:51.339583Z",
     "shell.execute_reply": "2021-12-20T15:24:51.339583Z",
     "shell.execute_reply.started": "2021-12-20T15:24:51.308282Z"
    }
   },
   "outputs": [],
   "source": [
    "internados_vacinados_tipo = internados.groupby(['situacao_contagio','Leito Tipo','fator_risco'])[['id']].count().unstack(['Leito Tipo','fator_risco']).fillna(0).droplevel(0,1)\n",
    "internados_vacinados_tipo = internados_vacinados_tipo.rename(index=situacao_contagio_labels, level='situacao_contagio').rename(columns=fator_risco_labels, level='fator_risco')\n",
    "internados_vacinados_tipo.index.name = ''\n",
    "internados_vacinados_tipo.columns.name = ''\n",
    "internados_vacinados_tipo_csv = internados_vacinados_tipo.set_axis([f\"{l1} {l2}\" for l1,l2 in internados_vacinados_tipo.columns], axis=1)\n",
    "internados_vacinados_tipo_csv.to_csv(join(default_output,'internados_sem_alta_vacinados_tipo.csv'), sep = ';', decimal=',', float_format='%.3f')\n",
    "internados_vacinados_tipo_csv"
   ]
  },
  {
   "cell_type": "code",
   "execution_count": null,
   "metadata": {},
   "outputs": [],
   "source": [
    "internados_vacinados_tipo.groupby(axis=1, level='Leito Tipo').sum()"
   ]
  },
  {
   "cell_type": "code",
   "execution_count": null,
   "metadata": {},
   "outputs": [],
   "source": [
    "internados_situacao_contagio = internados.groupby('situacao_contagio',dropna=False)[['id']].count().rename(index=situacao_contagio_labels, level='situacao_contagio').rename(columns={'id':'quantidade'})\n",
    "internados_situacao_contagio.to_csv(join(default_output,'internados_situacao_contagio.csv'))\n",
    "internados_situacao_contagio"
   ]
  },
  {
   "cell_type": "code",
   "execution_count": null,
   "metadata": {
    "execution": {
     "iopub.execute_input": "2021-12-20T14:47:27.629514Z",
     "iopub.status.busy": "2021-12-20T14:47:27.629514Z",
     "iopub.status.idle": "2021-12-20T14:47:27.769505Z",
     "shell.execute_reply": "2021-12-20T14:47:27.768527Z",
     "shell.execute_reply.started": "2021-12-20T14:47:27.629514Z"
    }
   },
   "outputs": [],
   "source": [
    "internados_situacao_contagio_fator_risco = internados.groupby(['situacao_contagio','fator_risco'])[['id']].count().unstack('fator_risco').fillna(0).astype(int).droplevel(0,1)\n",
    "internados_situacao_contagio_fator_risco = internados_situacao_contagio_fator_risco.rename(index=situacao_contagio_labels, level='situacao_contagio').rename(columns=fator_risco_labels, level='fator_risco')\n",
    "internados_situacao_contagio_fator_risco.to_csv(join(default_output,'internados_situacao_contagio_fator_risco.csv'))\n",
    "internados_situacao_contagio_fator_risco"
   ]
  },
  {
   "cell_type": "code",
   "execution_count": null,
   "metadata": {},
   "outputs": [],
   "source": [
    "internados_situacao_contagio_faixa_etaria = internados.groupby(['situacao_contagio','fx'])[['id']].count().unstack('fx').fillna(0).astype(int).droplevel(0,1)\n",
    "internados_situacao_contagio_faixa_etaria = internados_situacao_contagio_faixa_etaria.rename(index=situacao_contagio_labels, level='situacao_contagio')\n",
    "internados_situacao_contagio_faixa_etaria.to_csv(join(default_output,'internados_situacao_contagio_faixa_etaria.csv'))\n",
    "internados_situacao_contagio_faixa_etaria"
   ]
  },
  {
   "cell_type": "code",
   "execution_count": null,
   "metadata": {},
   "outputs": [],
   "source": [
    "internados_situacao_contagio_sexo = internados.groupby(['situacao_contagio','sexo'])[['id']].count().unstack('sexo').fillna(0).astype(int).droplevel(0,1)\n",
    "internados_situacao_contagio_sexo = internados_situacao_contagio_sexo.rename(index=situacao_contagio_labels, level='situacao_contagio')\n",
    "internados_situacao_contagio_sexo.to_csv(join(default_output,'internados_situacao_contagio_sexo.csv'))\n",
    "internados_situacao_contagio_sexo"
   ]
  },
  {
   "cell_type": "code",
   "execution_count": null,
   "metadata": {},
   "outputs": [],
   "source": [
    "internados_situacao_contagio_raca_cor = internados.groupby(['situacao_contagio','raca_cor'])[['id']].count().unstack('raca_cor').fillna(0).astype(int).droplevel(0,1)\n",
    "internados_situacao_contagio_raca_cor = internados_situacao_contagio_raca_cor.rename(index=situacao_contagio_labels, level='situacao_contagio').rename(columns=raca_cor_labels, level='raca_cor')\n",
    "internados_situacao_contagio_raca_cor.to_csv(join(default_output,'internados_situacao_contagio_raca_cor.csv'))\n",
    "internados_situacao_contagio_raca_cor"
   ]
  }
 ],
 "metadata": {
  "kernelspec": {
   "display_name": "Python 3 (ipykernel)",
   "language": "python",
   "name": "python3"
  },
  "language_info": {
   "codemirror_mode": {
    "name": "ipython",
    "version": 3
   },
   "file_extension": ".py",
   "mimetype": "text/x-python",
   "name": "python",
   "nbconvert_exporter": "python",
   "pygments_lexer": "ipython3",
   "version": "3.8.11"
  }
 },
 "nbformat": 4,
 "nbformat_minor": 4
}
