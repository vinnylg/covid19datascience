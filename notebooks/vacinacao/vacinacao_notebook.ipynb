{
 "cells": [
  {
   "cell_type": "code",
   "execution_count": null,
   "metadata": {},
   "outputs": [],
   "source": [
    "import sys\n",
    "from sys import exit\n",
    "import glob\n",
    "import numpy as np\n",
    "import pandas as pd\n",
    "from os.path import join, isfile\n",
    "from datetime import date, datetime\n",
    "from unidecode import unidecode\n",
    "\n",
    "from xlsxwriter.worksheet import (\n",
    "    Worksheet, cell_number_tuple, cell_string_tuple)\n",
    "    \n",
    "from time import time, sleep\n",
    "from contextlib import contextmanager\n",
    "import functools\n",
    "import threading\n",
    "\n",
    "\n",
    "from my_funcs import ftime_elapsed, normalize_number, normalize_text, normalize_hash, trim_overspace, isvaliddate, normalize_cpf, normalize_date, date_hash, get_better, get_better_2, fit_cols, compare_dates, get_casos_confirmados, get_vacinados, get_tb_vacinados, get_srag\n",
    "\n",
    "pd.set_option('display.max_columns', 0)\n",
    "pd.options.display.float_format = lambda x: '{:,.0f}'.format(x).replace(',','.')\n",
    "\n",
    "meses = ['Janeiro','Fevereiro','Março','Abril','Maio','Junho','Julho','Agosto','Setembro','Outubro','Novembro','Dezembro']\n",
    "municipios = pd.read_csv('municipios.csv',converters={'ibge':str})\n",
    "regionais = pd.read_csv('regionais.csv',converters={'ibge':str})\n",
    "\n",
    "# faixa_etaria = [0,30,40,50,60,70,80,90,100]\n",
    "# faixa_etaria_labels = ['err','0-29','30-39','40-49','50-59','60-69','70-79','80-89','90-99','>=100']\n",
    "faixa_etaria = [60,65,70,75,80,85,90]\n",
    "faixa_etaria_labels = ['0-59','60-64','65-69','70-74','75-79','80-84','85-89','>=90']\n",
    "# faixa_etaria = [60,70,80,90]\n",
    "# faixa_etaria_labels = ['0-59','60-69','70-79','80-89','>=90']"
   ]
  },
  {
   "cell_type": "code",
   "execution_count": null,
   "metadata": {},
   "outputs": [],
   "source": [
    "init_time = time()\n",
    "vacinados = get_vacinados(load=False)\n",
    "print(ftime_elapsed(init_time), 'vacinados shape:', vacinados.shape)\n",
    "vacinados['mes_aplicacao'] = vacinados['data_aplicacao'].apply(lambda x: meses[x.month-1] if isinstance(x,date) else 'erro')\n",
    "vacinados.groupby('mes_aplicacao')[['sexo']].count()"
   ]
  },
  {
   "cell_type": "code",
   "execution_count": null,
   "metadata": {},
   "outputs": [],
   "source": [
    "vacinados.columns"
   ]
  },
  {
   "cell_type": "code",
   "execution_count": null,
   "metadata": {},
   "outputs": [],
   "source": [
    "vacinados.groupby('dose')[['sexo']].count()"
   ]
  },
  {
   "cell_type": "code",
   "execution_count": null,
   "metadata": {},
   "outputs": [],
   "source": [
    "doses_header = ['cns','cpf','paciente','sexo','nome_mae','data_nascimento','ibge','data_aplicacao','fabricante','vacina_nome','hash_mae','hash_nasc'] #\n",
    "primeira_dose = vacinados.loc[(vacinados['dose']=='1ª Dose')|(vacinados['dose']=='Única'),doses_header]\n",
    "segunda_dose = vacinados.loc[vacinados['dose']=='2ª Dose',doses_header]\n",
    "\n",
    "tb_vacinados = pd.merge(primeira_dose,segunda_dose, how='outer',on='cns',suffixes=['_1a_dose','_2a_dose'])\n",
    "\n",
    "tb_vacinados['cpf'] = tb_vacinados.apply(lambda x: get_better(x['cpf_1a_dose'],x['cpf_2a_dose']), axis=1)\n",
    "tb_vacinados['data_nascimento'] = tb_vacinados.apply(lambda x: get_better(x['data_nascimento_1a_dose'],x['data_nascimento_2a_dose'],datetime), axis=1)\n",
    "tb_vacinados['nome_mae'] = tb_vacinados.apply(lambda x: get_better(x['nome_mae_1a_dose'],x['nome_mae_2a_dose']), axis=1)\n",
    "tb_vacinados['paciente'] = tb_vacinados.apply(lambda x: get_better(x['paciente_1a_dose'],x['paciente_2a_dose']), axis=1)\n",
    "tb_vacinados['fabricante'] = tb_vacinados.apply(lambda x: get_better(x['fabricante_1a_dose'],x['fabricante_2a_dose']), axis=1)\n",
    "tb_vacinados['vacina_nome'] = tb_vacinados.apply(lambda x: get_better_2(x['vacina_nome_1a_dose'],x['vacina_nome_2a_dose']), axis=1)\n",
    "tb_vacinados['hash_mae'] = tb_vacinados.apply(lambda x: get_better(x['hash_mae_1a_dose'],x['hash_mae_2a_dose']), axis=1)\n",
    "tb_vacinados['hash_nasc'] = tb_vacinados.apply(lambda x: get_better(x['hash_nasc_1a_dose'],x['hash_nasc_2a_dose']), axis=1)\n",
    "tb_vacinados['ibge'] = tb_vacinados.apply(lambda x: get_better(x['ibge_1a_dose'],x['ibge_2a_dose']), axis=1)\n",
    "tb_vacinados['sexo'] = tb_vacinados.apply(lambda x: get_better(x['sexo_1a_dose'],x['sexo_2a_dose']), axis=1)\n",
    "\n",
    "tb_vacinados = tb_vacinados.drop(columns=['cpf_1a_dose','cpf_2a_dose', 'data_nascimento_1a_dose', 'data_nascimento_2a_dose', 'paciente_1a_dose', 'paciente_2a_dose', 'fabricante_1a_dose', 'fabricante_2a_dose', 'vacina_nome_1a_dose', 'vacina_nome_2a_dose', 'nome_mae_1a_dose', 'nome_mae_2a_dose', 'hash_mae_1a_dose', 'hash_mae_2a_dose', 'hash_nasc_1a_dose', 'hash_nasc_2a_dose','ibge_1a_dose','ibge_2a_dose','sexo_2a_dose','sexo_1a_dose'])\n",
    "\n",
    "tb_vacinados.loc[(tb_vacinados['data_aplicacao_1a_dose'].notnull()) & (tb_vacinados['data_aplicacao_2a_dose'].notnull()), 'dias_entre_doses'] = (\n",
    "    tb_vacinados.loc[(tb_vacinados['data_aplicacao_1a_dose'].notnull()) & (tb_vacinados['data_aplicacao_2a_dose'].notnull()), 'data_aplicacao_2a_dose'] -\n",
    "    tb_vacinados.loc[(tb_vacinados['data_aplicacao_1a_dose'].notnull()) & (tb_vacinados['data_aplicacao_2a_dose'].notnull()), 'data_aplicacao_1a_dose'])\n",
    "\n",
    "tb_vacinados.loc[tb_vacinados['dias_entre_doses'].notnull(),'dias_entre_doses'] = tb_vacinados.loc[tb_vacinados['dias_entre_doses'].notnull(),'dias_entre_doses'].apply(lambda x: int(x.days))\n",
    "\n",
    "tb_vacinados.loc[tb_vacinados['dias_entre_doses'].isnull(),'dias_entre_doses'] = 0\n",
    "\n",
    "tb_vacinados['situacao'] = 'inconsistencia'\n",
    "\n",
    "tb_vacinados.loc[(tb_vacinados['data_aplicacao_1a_dose'].notnull()) & (tb_vacinados['data_aplicacao_2a_dose'].isnull()), 'situacao'] = 'só primeira dose'\n",
    "\n",
    "tb_vacinados.loc[(tb_vacinados['dias_entre_doses']>0), 'situacao'] = 'ambas doses aplicadas'\n",
    "\n",
    "tb_vacinados['data_ultima_dose'] = tb_vacinados['data_aplicacao_1a_dose'].copy()\n",
    "tb_vacinados.loc[tb_vacinados['data_aplicacao_2a_dose'].notna(),'data_ultima_dose'] = tb_vacinados.loc[tb_vacinados['data_aplicacao_2a_dose'].notna(),'data_aplicacao_2a_dose'].copy()\n",
    "\n",
    "tb_vacinados['dias_apos_ultima_dose'] = tb_vacinados.apply(lambda x: (pd.to_datetime(date.today()) - x['data_ultima_dose']).days, axis=1)\n",
    "\n",
    "vacinados['ibge'] = vacinados['ibge'].fillna('999999').apply(str)\n",
    "regionais['ibge'] = regionais['ibge'].apply(str)\n",
    "\n",
    "tb_vacinados = pd.merge(tb_vacinados,regionais[['ibge','nu_reg','nm_reg','nm_macro']],on='ibge',how='left')\n",
    "\n",
    "tb_vacinados.loc[(tb_vacinados['data_nascimento'].notnull()) & (tb_vacinados['data_ultima_dose'].notnull()), 'idade'] = \\\n",
    "    tb_vacinados.loc[(tb_vacinados['data_nascimento'].notnull()) & (tb_vacinados['data_ultima_dose'].notnull())].apply(\n",
    "            lambda row: row['data_ultima_dose'].year - row['data_nascimento'].year - (\n",
    "                    (row['data_ultima_dose'].month, row['data_ultima_dose'].day) <\n",
    "                    (row['data_nascimento'].month, row['data_nascimento'].day)\n",
    "            ), axis=1\n",
    "    )\n",
    "tb_vacinados.loc[tb_vacinados['data_nascimento'].isna(), 'idade'] = -99\n",
    "tb_vacinados['idade'] = tb_vacinados['idade'].apply(int)\n",
    "\n",
    "tb_vacinados['faixa_etaria'] = [ faixa_etaria_labels[idx] for idx in np.digitize(tb_vacinados['idade'],faixa_etaria,right=False)]\n",
    "\n",
    "print(len(tb_vacinados))\n",
    " \n",
    "print(len(tb_vacinados.loc[tb_vacinados.duplicated(\"cns\",keep=\"first\")]))\n",
    "tb_vacinados = tb_vacinados.drop_duplicates(\"cns\", keep=\"first\")\n",
    "\n",
    "print(len(tb_vacinados.loc[tb_vacinados.duplicated(\"cpf\",keep=\"first\")]))\n",
    "tb_vacinados = tb_vacinados.drop_duplicates(\"cpf\", keep=\"first\")\n",
    "\n",
    "print(len(tb_vacinados.loc[tb_vacinados.duplicated(\"hash_mae\",keep=\"first\")]))\n",
    "tb_vacinados = tb_vacinados.drop_duplicates(\"hash_mae\", keep=\"first\")\n",
    "\n",
    "print(len(tb_vacinados.loc[tb_vacinados.duplicated(\"hash_nasc\",keep=\"first\")]))\n",
    "tb_vacinados = tb_vacinados.drop_duplicates(\"hash_nasc\", keep=\"first\")\n",
    "\n",
    "print(len(tb_vacinados))\n",
    "\n",
    "tb_vacinados.groupby('faixa_etaria')[['cns']].count()"
   ]
  },
  {
   "cell_type": "code",
   "execution_count": null,
   "metadata": {},
   "outputs": [],
   "source": [
    "bins = [1,2,3,7,14,21,30,60,90]\n",
    "bins_label = ['hoje','24 horas','48 horas', '72 horas', '7 dias', '14 dias', '21 dias', '30 dias', '60 dias', '90 dias']\n",
    "tb_vacinados['periodo_ultima_dose'] = [ x for x in np.digitize(tb_vacinados['dias_apos_ultima_dose'],bins,right=False)]\n",
    "dias_apos_ultima_dose = tb_vacinados.groupby(['situacao','periodo_ultima_dose'])[['cns']].count().unstack().fillna(0).astype(int).rename(columns={'cns':'qtde'}).droplevel(0,1)\n",
    "dias_apos_ultima_dose['total'] = dias_apos_ultima_dose.sum(1)\n",
    "dias_apos_ultima_dose = dias_apos_ultima_dose.append(pd.DataFrame(dias_apos_ultima_dose.sum().tolist(),index=dias_apos_ultima_dose.columns.tolist(),columns=['total']).T)\n",
    "dias_apos_ultima_dose.columns = [ bins_label[bins] if isinstance(bins,int) else bins for bins in dias_apos_ultima_dose.columns ]\n",
    "dias_apos_ultima_dose = dias_apos_ultima_dose.reset_index()\n",
    "dias_apos_ultima_dose.index = [0,2,1,3]\n",
    "dias_apos_ultima_dose = dias_apos_ultima_dose.sort_index().set_index('index')\n",
    "dias_apos_ultima_dose.index.name = None\n",
    "dias_apos_ultima_dose"
   ]
  },
  {
   "cell_type": "code",
   "execution_count": null,
   "metadata": {},
   "outputs": [],
   "source": [
    "tb_vacinados['periodo_ultima_dose'] = tb_vacinados['periodo_ultima_dose'].apply(lambda x: bins_label[x]).copy()\n",
    "tb_vacinados = tb_vacinados[['ibge','nu_reg','nm_reg','nm_macro','cns', 'cpf', 'paciente', 'sexo', 'data_nascimento', 'idade', 'faixa_etaria', 'nome_mae', 'vacina_nome', 'fabricante', 'data_aplicacao_1a_dose', 'data_aplicacao_2a_dose', 'dias_entre_doses', 'situacao', 'dias_apos_ultima_dose', 'periodo_ultima_dose', 'data_ultima_dose', 'hash_mae', 'hash_nasc']]"
   ]
  },
  {
   "cell_type": "code",
   "execution_count": null,
   "metadata": {},
   "outputs": [],
   "source": [
    "tb_vacinados = tb_vacinados.reset_index()\n",
    "tb_vacinados.to_feather('tb_vacinados.feather')"
   ]
  },
  {
   "cell_type": "code",
   "execution_count": null,
   "metadata": {},
   "outputs": [],
   "source": [
    "tb_vacinados = pd.read_feather('tb_vacinados.feather')\n",
    "tb_vacinados = tb_vacinados.set_index('index')"
   ]
  },
  {
   "cell_type": "code",
   "execution_count": null,
   "metadata": {},
   "outputs": [],
   "source": [
    "casos_confirmados = get_casos_confirmados(load=False)\n",
    "casos_confirmados['faixa_etaria'] = [ faixa_etaria_labels[idx] for idx in np.digitize(casos_confirmados['idade'],faixa_etaria,right=False)]\n",
    "casos_confirmados.groupby('evolucao')[['id']].count()"
   ]
  },
  {
   "cell_type": "code",
   "execution_count": null,
   "metadata": {},
   "outputs": [],
   "source": [
    "print('casos_confirmados shape:', casos_confirmados.shape)\n",
    "casos_confirmados.groupby('faixa_etaria')[['id']].count()"
   ]
  },
  {
   "cell_type": "code",
   "execution_count": null,
   "metadata": {},
   "outputs": [],
   "source": [
    "casos_confirmados['comorbidade'] = casos_confirmados.apply(lambda x: 1 if any([\n",
    "    x['doenca_cardiovascular'] == 1,\n",
    "    x['hipertensao'] == 1,\n",
    "    x['diabetes'] == 1,\n",
    "    x['doenca_hepatica'] == 1,\n",
    "    x['doenca_neurologica'] == 1,\n",
    "    x['sindrome_down'] == 1,\n",
    "    x['imunodeficiencia'] == 1,\n",
    "    x['infeccao_hiv'] == 1,\n",
    "    x['doenca_renal'] == 1,\n",
    "    x['doenca_pulmonar'] == 1,\n",
    "    x['neoplasia'] == 1,\n",
    "    x['puerperio'] == 1,\n",
    "    x['obesidade'] == 1,\n",
    "    x['tabagismo'] == 1\n",
    "]) else 0, axis=1)\n",
    "casos_confirmados.groupby('comorbidade')[['id']].count()"
   ]
  },
  {
   "cell_type": "code",
   "execution_count": null,
   "metadata": {},
   "outputs": [],
   "source": [
    "casos_confirmados.groupby('data_diagnostico')[['id']].count()"
   ]
  },
  {
   "cell_type": "code",
   "execution_count": null,
   "metadata": {},
   "outputs": [],
   "source": [
    "casos_confirmados.loc[casos_confirmados['data_cura_obito'].notna()]"
   ]
  },
  {
   "cell_type": "code",
   "execution_count": null,
   "metadata": {},
   "outputs": [],
   "source": [
    "# casos_confirmados.groupby('ocupacao')[['id']].count()"
   ]
  },
  {
   "cell_type": "code",
   "execution_count": null,
   "metadata": {},
   "outputs": [],
   "source": [
    "# casos_confirmados['prof_saude'] = 'OUTROS TRABALHADORES'\n",
    "# casos_confirmados.loc[casos_confirmados['ocupacao'].isin([1,3]),'prof_saude'] = 'PROFISSIONAL DA SAUDE'\n",
    "# casos_confirmados.groupby('prof_saude')[['id']].count()"
   ]
  },
  {
   "cell_type": "code",
   "execution_count": null,
   "metadata": {},
   "outputs": [],
   "source": [
    "obitos_confirmados = casos_confirmados.loc[(casos_confirmados['evolucao']=='OBITO')]\n",
    "print('obitos_confirmados shape:', obitos_confirmados.shape)\n",
    "obitos_confirmados.groupby('faixa_etaria')[['id']].count()"
   ]
  },
  {
   "cell_type": "code",
   "execution_count": null,
   "metadata": {},
   "outputs": [],
   "source": [
    "casos_vacinados = casos_confirmados.loc[\n",
    "    (casos_confirmados['cns'].notnull() & casos_confirmados['cns'].isin(tb_vacinados['cns'])) |\n",
    "    (casos_confirmados['cpf'].notnull() & casos_confirmados['cpf'].isin(tb_vacinados['cpf'])) |\n",
    "    (casos_confirmados['hash_mae'].notnull() & casos_confirmados['hash_mae'].isin(tb_vacinados['hash_mae'])) |\n",
    "    (casos_confirmados['hash_nasc'].notnull() & casos_confirmados['hash_nasc'].isin(tb_vacinados['hash_nasc']))\n",
    "]\n",
    "\n",
    "print(len(casos_vacinados))"
   ]
  },
  {
   "cell_type": "code",
   "execution_count": null,
   "metadata": {},
   "outputs": [],
   "source": [
    "tb_vacinados_cols = ['situacao','data_ultima_dose','vacina_nome','fabricante','data_aplicacao_1a_dose','data_aplicacao_2a_dose']\n",
    "\n",
    "casos_vacinados = pd.merge(casos_confirmados.loc[casos_confirmados['cns'].notna()],tb_vacinados.loc[tb_vacinados['cns'].notna(),['cns']+tb_vacinados_cols], on='cns', how='inner')\n",
    "tb_vacinados = tb_vacinados.drop(index=tb_vacinados.loc[tb_vacinados['cns'].isin(casos_vacinados['cns'])].index)\n",
    "print(len(casos_vacinados))\n",
    "print(len(tb_vacinados))\n",
    "\n",
    "casos_vacinados = casos_vacinados.append(pd.merge(casos_confirmados.loc[casos_confirmados['cpf'].notna()],tb_vacinados.loc[tb_vacinados['cpf'].notna(),['cpf']+tb_vacinados_cols], on='cpf', how='inner'), ignore_index=True)\n",
    "tb_vacinados = tb_vacinados.drop(index=tb_vacinados.loc[tb_vacinados['cpf'].isin(casos_vacinados['cpf'])].index)\n",
    "print(len(casos_vacinados))\n",
    "print(len(tb_vacinados))\n",
    "\n",
    "casos_vacinados = casos_vacinados.append(pd.merge(casos_confirmados.loc[casos_confirmados['hash_mae'].notna()],tb_vacinados.loc[tb_vacinados['hash_mae'].notna(),['hash_mae']+tb_vacinados_cols], on='hash_mae', how='inner'), ignore_index=True)\n",
    "tb_vacinados = tb_vacinados.drop(index=tb_vacinados.loc[tb_vacinados['hash_mae'].isin(casos_vacinados['hash_mae'])].index)\n",
    "print(len(casos_vacinados))\n",
    "print(len(tb_vacinados))\n",
    "\n",
    "casos_vacinados = casos_vacinados.append(pd.merge(casos_confirmados.loc[casos_confirmados['hash_nasc'].notna()],tb_vacinados.loc[tb_vacinados['hash_nasc'].notna(),['hash_nasc']+tb_vacinados_cols], on='hash_nasc', how='inner'), ignore_index=True)\n",
    "tb_vacinados = tb_vacinados.drop(index=tb_vacinados.loc[tb_vacinados['hash_nasc'].isin(casos_vacinados['hash_nasc'])].index)\n",
    "print(len(casos_vacinados))\n",
    "print(len(tb_vacinados))\n",
    "\n",
    "print(len(casos_vacinados.loc[casos_vacinados.duplicated('id',keep=False)]))\n",
    "casos_vacinados = casos_vacinados.drop_duplicates('id',keep='first')\n",
    "len(casos_vacinados)"
   ]
  },
  {
   "cell_type": "code",
   "execution_count": null,
   "metadata": {},
   "outputs": [],
   "source": [
    "casos_vacinados['diferenca_vacina_diag'] = casos_vacinados['data_diagnostico'] - casos_vacinados['data_ultima_dose']\n",
    "casos_vacinados['diferenca_vacina_diag'] = casos_vacinados['diferenca_vacina_diag'].apply(lambda x: x.days)\n",
    "casos_vacinados['situacao'].unique()\n",
    "# casos_vacinados.groupby('vacina_nome')[['id']].count()"
   ]
  },
  {
   "cell_type": "code",
   "execution_count": null,
   "metadata": {},
   "outputs": [],
   "source": [
    "casos_confirmados = casos_confirmados.loc[casos_confirmados['data_diagnostico'].notna()]\n",
    "casos_confirmados.loc[casos_confirmados['data_recebimento'].notnull(), 'data_diagnostico'] = casos_confirmados.loc[casos_confirmados['data_recebimento'].notnull(), 'data_recebimento']\n",
    "casos_confirmados.loc[casos_confirmados['data_coleta'].notnull(), 'data_diagnostico'] = casos_confirmados.loc[casos_confirmados['data_coleta'].notnull(), 'data_coleta']"
   ]
  },
  {
   "cell_type": "code",
   "execution_count": null,
   "metadata": {},
   "outputs": [],
   "source": [
    "casos = pd.merge(casos_confirmados,casos_vacinados[['id','diferenca_vacina_diag']+tb_vacinados_cols],how='left',on='id')\n",
    "casos['vacinado'] = 0 # sem vacina\n",
    "casos.loc[(casos['diferenca_vacina_diag']>=0)&(casos['diferenca_vacina_diag']<=14),'vacinado'] = 1 #com vacina\n",
    "casos.loc[(casos['situacao']=='ambas doses aplicadas')&(casos['diferenca_vacina_diag']>14),'vacinado'] = 2 #imunizado\n",
    "casos['ano_caso'] = casos['data_diagnostico'].apply(lambda x: x.year if isinstance(x,date) else 'erro')\n",
    "casos['mes_caso'] = casos['data_diagnostico'].apply(lambda x: x.month if isinstance(x,date) else 'erro')\n",
    "grupo = casos.groupby(['ano_caso','mes_caso','faixa_etaria','vacinado'])[['id']].count().unstack(-2)\n",
    "grupo = grupo.droplevel(0,1)\n",
    "grupo = grupo.fillna(0).astype(float)\n",
    "grupo.to_excel('casos_vacinados.xlsx')\n",
    "grupo"
   ]
  },
  {
   "cell_type": "code",
   "execution_count": null,
   "metadata": {},
   "outputs": [],
   "source": [
    "obitos_vacinados = casos_vacinados.loc[casos_vacinados['evolucao']=='OBITO'].copy()\n",
    "obitos_vacinados['diferenca_vacina_obito'] = obitos_vacinados['data_cura_obito'] - obitos_vacinados['data_ultima_dose']\n",
    "obitos_vacinados['diferenca_vacina_obito'] = obitos_vacinados['diferenca_vacina_obito'].apply(lambda x: x.days)"
   ]
  },
  {
   "cell_type": "code",
   "execution_count": null,
   "metadata": {},
   "outputs": [],
   "source": [
    "obitos = pd.merge(obitos_confirmados,obitos_vacinados[['id','diferenca_vacina_diag']+tb_vacinados_cols],how='left',on='id')\n",
    "obitos['vacinado'] = 0 # sem vacina\n",
    "obitos.loc[(obitos['diferenca_vacina_diag']>=0)&(obitos['diferenca_vacina_diag']<=14),'vacinado'] = 1 #com vacina\n",
    "obitos.loc[(obitos['situacao']=='ambas doses aplicadas')&(obitos['diferenca_vacina_diag']>14),'vacinado'] = 2 #imunizado\n",
    "\n",
    "obitos['ano_obito'] = obitos['data_cura_obito'].apply(lambda x: x.year if isinstance(x,date) else 'erro')\n",
    "obitos['mes_obito'] = obitos['data_cura_obito'].apply(lambda x: x.month if isinstance(x,date) else 'erro')\n",
    "grupo = obitos.groupby(['ano_obito','mes_obito','faixa_etaria','vacinado'])[['id']].count().unstack(-2)\n",
    "grupo = grupo.droplevel(0,1)\n",
    "\n",
    "grupo = grupo.fillna(0).astype(float)\n",
    "    \n",
    "grupo.to_excel('obitos_vacinados.xlsx')\n",
    "grupo"
   ]
  },
  {
   "cell_type": "code",
   "execution_count": null,
   "metadata": {},
   "outputs": [],
   "source": [
    "obitos = pd.merge(obitos_confirmados,obitos_vacinados[['id','diferenca_vacina_diag']+tb_vacinados_cols],how='left',on='id')\n",
    "obitos['vacinado'] = 0 # sem vacina\n",
    "obitos.loc[(obitos['diferenca_vacina_diag']>=0)&(obitos['diferenca_vacina_diag']<=14),'vacinado'] = 1 #com vacina\n",
    "obitos.loc[(obitos['situacao']=='ambas doses aplicadas')&(obitos['diferenca_vacina_diag']>14),'vacinado'] = 2 #imunizado\n",
    "\n",
    "obitos = obitos.loc[(obitos['data_cura_obito'] > '2020-06-30') & (obitos['data_cura_obito'] < '2021-05-01' ) ]\n",
    "\n",
    "grupo = obitos.groupby(['faixa_etaria','vacinado','comorbidade'])[['id']].count().unstack(-2).unstack(-1)\n",
    "\n",
    "grupo = grupo.fillna(0).astype(int)\n",
    "    \n",
    "grupo.to_excel('comorbidade_raw.xlsx')\n",
    "grupo"
   ]
  },
  {
   "cell_type": "code",
   "execution_count": null,
   "metadata": {},
   "outputs": [],
   "source": [
    "tb_vacinados = pd.read_feather('tb_vacinados.feather')\n",
    "tb_vacinados = tb_vacinados.set_index('index')\n",
    "\n",
    "srag = get_srag(load=True)\n",
    "srag = srag.loc[(srag['classi_fin']=='5')&(srag['sg_uf']=='PR')]"
   ]
  },
  {
   "cell_type": "code",
   "execution_count": null,
   "metadata": {},
   "outputs": [],
   "source": [
    "srag['nu_idade_n'] = srag['nu_idade_n'].apply(int)\n",
    "srag['faixa_etaria'] = [ faixa_etaria_labels[idx] for idx in np.digitize(srag['nu_idade_n'],faixa_etaria,right=False)]\n",
    "obitos_srag = srag.loc[srag['evolucao']=='2']"
   ]
  },
  {
   "cell_type": "code",
   "execution_count": null,
   "metadata": {},
   "outputs": [],
   "source": [
    "srag_vacinados = srag.loc[\n",
    "    (srag['nu_cns'].notnull() & srag['nu_cns'].isin(tb_vacinados['cns'])) |\n",
    "    (srag['nu_cpf'].notnull() & srag['nu_cpf'].isin(tb_vacinados['cpf'])) |\n",
    "    (srag['hash_mae'].notnull() & srag['hash_mae'].isin(tb_vacinados['hash_mae'])) |\n",
    "    (srag['hash_nasc'].notnull() & srag['hash_nasc'].isin(tb_vacinados['hash_nasc']))\n",
    "]\n",
    "\n",
    "print(len(srag_vacinados))\n",
    "tb_vacinados.columns"
   ]
  },
  {
   "cell_type": "code",
   "execution_count": null,
   "metadata": {},
   "outputs": [],
   "source": [
    "tb_vacinados_cols = ['paciente','nome_mae','data_nascimento','situacao','data_ultima_dose','vacina_nome','fabricante','data_aplicacao_1a_dose','data_aplicacao_2a_dose']\n",
    "# tb_vacinados[tb_vacinados_cols]\n",
    "srag_vacinados = pd.merge(srag.loc[srag['nu_cns'].notna()].rename(columns={'nu_cns':'cns'}),tb_vacinados.loc[tb_vacinados['cns'].notna(),['cns']+tb_vacinados_cols], on='cns', how='inner')\n",
    "tb_vacinados = tb_vacinados.drop(index=tb_vacinados.loc[tb_vacinados['cns'].isin(srag_vacinados['cns'])].index)\n",
    "print(len(srag_vacinados))\n",
    "print(len(tb_vacinados))\n",
    "\n",
    "srag_vacinados = srag_vacinados.append(pd.merge(srag.loc[srag['nu_cpf'].notna()].rename(columns={'nu_cpf':'cpf'}),tb_vacinados.loc[tb_vacinados['cpf'].notna(),['cpf']+tb_vacinados_cols], on='cpf', how='inner'), ignore_index=True)\n",
    "tb_vacinados = tb_vacinados.drop(index=tb_vacinados.loc[tb_vacinados['cpf'].isin(srag_vacinados['cpf'])].index)\n",
    "print(len(srag_vacinados))\n",
    "print(len(tb_vacinados))\n",
    "\n",
    "srag_vacinados = srag_vacinados.append(pd.merge(srag.loc[srag['hash_mae'].notna()],tb_vacinados.loc[tb_vacinados['hash_mae'].notna(),['hash_mae']+tb_vacinados_cols], on='hash_mae', how='inner'), ignore_index=True)\n",
    "tb_vacinados = tb_vacinados.drop(index=tb_vacinados.loc[tb_vacinados['hash_mae'].isin(srag_vacinados['hash_mae'])].index)\n",
    "print(len(srag_vacinados))\n",
    "print(len(tb_vacinados))\n",
    "\n",
    "srag_vacinados = srag_vacinados.append(pd.merge(srag.loc[srag['hash_nasc'].notna()],tb_vacinados.loc[tb_vacinados['hash_nasc'].notna(),['hash_nasc']+tb_vacinados_cols], on='hash_nasc', how='inner'), ignore_index=True)\n",
    "tb_vacinados = tb_vacinados.drop(index=tb_vacinados.loc[tb_vacinados['hash_nasc'].isin(srag_vacinados['hash_nasc'])].index)\n",
    "print(len(srag_vacinados))\n",
    "print(len(tb_vacinados))\n",
    "\n",
    "print(len(srag_vacinados.loc[srag_vacinados.duplicated('nu_notific',keep=False)]))\n",
    "srag_vacinados = srag_vacinados.drop_duplicates('nu_notific',keep='first')\n",
    "len(srag_vacinados)"
   ]
  },
  {
   "cell_type": "code",
   "execution_count": null,
   "metadata": {},
   "outputs": [],
   "source": [
    "srag_vacinados.loc[(\n",
    "#     (srag_vacinados['nu_cns'] != srag_vacinados['cns']) &\n",
    "#     (srag_vacinados['nu_cpf'] != srag_vacinados['cpf']) &\n",
    "    (srag_vacinados['nm_pacient'] != srag_vacinados['paciente']) \n",
    "#     (srag_vacinados['dt_nasc'] != srag_vacinados['data_nascimento']) &\n",
    "#     (srag_vacinados['nm_mae_pac'] != srag_vacinados['nome_mae'])\n",
    "),['nu_cns','cns','nu_cpf','cpf','nm_pacient','paciente','dt_nasc','data_nascimento','nm_mae_pac','nome_mae']]"
   ]
  },
  {
   "cell_type": "code",
   "execution_count": null,
   "metadata": {},
   "outputs": [],
   "source": [
    "srag_vacinados.groupby('vacina_nome')[['nu_notific']].count()"
   ]
  },
  {
   "cell_type": "code",
   "execution_count": null,
   "metadata": {},
   "outputs": [],
   "source": [
    "srag_vacinados.groupby('evolucao')[['nu_notific']].count()"
   ]
  },
  {
   "cell_type": "code",
   "execution_count": null,
   "metadata": {},
   "outputs": [],
   "source": [
    "srag_vacinados.loc[srag_vacinados['evolucao']=='2']"
   ]
  },
  {
   "cell_type": "code",
   "execution_count": null,
   "metadata": {},
   "outputs": [],
   "source": [
    "srag_vacinados['diferenca_vacina_diag'] = srag_vacinados['dt_pcr'] - srag_vacinados['data_ultima_dose']\n",
    "srag_vacinados['diferenca_vacina_diag'] = srag_vacinados['diferenca_vacina_diag'].apply(lambda x: x.days)\n",
    "\n",
    "casos = pd.merge(srag,srag_vacinados[['nu_notific','diferenca_vacina_diag']+tb_vacinados_cols],how='left',on='nu_notific')\n",
    "casos['vacinado'] = 0 # sem vacina\n",
    "casos.loc[(casos['diferenca_vacina_diag']>=0)&(casos['diferenca_vacina_diag']<=14),'vacinado'] = 1 #com vacina\n",
    "casos.loc[(casos['situacao']=='ambas doses aplicadas')&(casos['diferenca_vacina_diag']>14),'vacinado'] = 2 #imunizado\n",
    "\n",
    "\n",
    "casos['ano_caso'] = casos['dt_pcr'].apply(lambda x: x.year if isinstance(x,date) else 'erro')\n",
    "casos['mes_caso'] = casos['dt_pcr'].apply(lambda x: x.month if isinstance(x,date) else 'erro')\n",
    "grupo = casos.groupby(['ano_caso','mes_caso','faixa_etaria','vacinado'])[['nu_notific']].count().unstack(-2)\n",
    "grupo = grupo.droplevel(0,1)\n",
    "\n",
    "grupo = grupo.fillna(0).astype(float)\n",
    "\n",
    "grupo.to_excel('casos_srag_vacinados.xlsx')\n",
    "grupo"
   ]
  },
  {
   "cell_type": "code",
   "execution_count": null,
   "metadata": {},
   "outputs": [],
   "source": [
    "obitos_srag_vacinados = srag_vacinados.loc[srag_vacinados['evolucao']=='2'].copy()\n",
    "obitos_srag_vacinados['diferenca_vacina_obito'] = obitos_srag_vacinados['dt_evoluca'] - obitos_srag_vacinados['data_ultima_dose']\n",
    "obitos_srag_vacinados['diferenca_vacina_obito'] = obitos_srag_vacinados['diferenca_vacina_obito'].apply(lambda x: x.days)\n",
    "\n",
    "obitos = pd.merge(obitos_srag,obitos_srag_vacinados[['nu_notific','diferenca_vacina_diag']+tb_vacinados_cols],how='left',on='nu_notific')\n",
    "obitos['vacinado'] = 0 # sem vacina\n",
    "obitos.loc[(obitos['diferenca_vacina_diag']>=0)&(obitos['diferenca_vacina_diag']<=14),'vacinado'] = 1 #com vacina\n",
    "obitos.loc[(obitos['situacao']=='ambas doses aplicadas')&(obitos['diferenca_vacina_diag']>14),'vacinado'] = 2 #imunizado\n",
    "\n",
    "obitos['ano_obito'] = obitos['dt_evoluca'].apply(lambda x: x.year if isinstance(x,date) else 'erro')\n",
    "obitos['mes_obito'] = obitos['dt_evoluca'].apply(lambda x: x.month if isinstance(x,date) else 'erro')\n",
    "grupo = obitos.groupby(['ano_obito','mes_obito','faixa_etaria','vacinado'])[['nu_notific']].count().unstack(-2)\n",
    "grupo = grupo.droplevel(0,1)\n",
    "\n",
    "grupo = grupo.fillna(0).astype(float)\n",
    "    \n",
    "grupo.to_excel('obitos_srag_vacinados.xlsx')\n",
    "grupo"
   ]
  },
  {
   "cell_type": "code",
   "execution_count": null,
   "metadata": {},
   "outputs": [],
   "source": [
    "obitos_srag_vacinados.to_excel('obitos_srag_vacinados_data.xlsx')"
   ]
  },
  {
   "cell_type": "code",
   "execution_count": null,
   "metadata": {},
   "outputs": [],
   "source": [
    "len(obitos)"
   ]
  },
  {
   "cell_type": "code",
   "execution_count": null,
   "metadata": {},
   "outputs": [],
   "source": [
    "casos.loc[casos['vacina_nome'].isna(),'vacina_nome'] = 'SEM VACINA'\n",
    "casos.groupby(['vacinado','vacina_nome'])[['nu_notific']].count().unstack(0).fillna(0)"
   ]
  },
  {
   "cell_type": "code",
   "execution_count": null,
   "metadata": {},
   "outputs": [],
   "source": [
    "obitos.groupby(['ano_obito'])[['nu_notific']].count().unstack(0).fillna(0)"
   ]
  }
 ],
 "metadata": {
  "kernelspec": {
   "display_name": "Python 3",
   "language": "python",
   "name": "python3"
  },
  "language_info": {
   "codemirror_mode": {
    "name": "ipython",
    "version": 3
   },
   "file_extension": ".py",
   "mimetype": "text/x-python",
   "name": "python",
   "nbconvert_exporter": "python",
   "pygments_lexer": "ipython3",
   "version": "3.8.5-final"
  },
  "metadata": {
   "interpreter": {
    "hash": "c1b48e1f2db26aabe6c153a2d2cd15e699e72625e4b4b73be2a85904c79b00cc"
   }
  }
 },
 "nbformat": 4,
 "nbformat_minor": 4
}