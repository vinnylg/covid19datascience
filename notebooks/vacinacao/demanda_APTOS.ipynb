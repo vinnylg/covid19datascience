{
 "cells": [
  {
   "cell_type": "code",
   "execution_count": null,
   "metadata": {
    "execution": {
     "iopub.execute_input": "2021-11-16T15:16:38.724363Z",
     "iopub.status.busy": "2021-11-16T15:16:38.723365Z",
     "iopub.status.idle": "2021-11-16T15:16:39.246273Z",
     "shell.execute_reply": "2021-11-16T15:16:39.245282Z",
     "shell.execute_reply.started": "2021-11-16T15:16:38.724363Z"
    }
   },
   "outputs": [],
   "source": [
    "## set covid19_datasciente as path for python find bulletin package\n",
    "import sys\n",
    "from pathlib import Path\n",
    "from os import getcwd, remove, walk\n",
    "from os.path import join, basename, isdir\n",
    "sys.path.append(str(Path(getcwd()).parent.parent))\n",
    "\n",
    "import pandas as pd\n",
    "pd.set_option('display.max_columns', None)\n",
    "pd.set_option('display.max_rows', 50)\n",
    "\n",
    "import codecs\n",
    "import numpy as np\n",
    "from glob import glob\n",
    "from epiweeks import Week"
   ]
  },
  {
   "cell_type": "code",
   "execution_count": null,
   "metadata": {
    "execution": {
     "iopub.execute_input": "2021-11-16T15:16:39.248297Z",
     "iopub.status.busy": "2021-11-16T15:16:39.247323Z",
     "iopub.status.idle": "2021-11-16T15:16:40.545429Z",
     "shell.execute_reply": "2021-11-16T15:16:40.544424Z",
     "shell.execute_reply.started": "2021-11-16T15:16:39.248297Z"
    }
   },
   "outputs": [],
   "source": [
    "from bulletin import default_input, default_output, tables_path, root\n",
    "default_output = join(default_output,'vacinacao')\n",
    "\n",
    "from bulletin.systems import Notifica, CasosConfirmados, eSUS, Sivep\n",
    "from bulletin.utils.static import Municipios\n",
    "from bulletin.utils.xls_ import fit_cols\n",
    "from bulletin.utils.normalize import normalize_text, normalize_hash, date_hash\n",
    "\n",
    "from datetime import datetime, date, timedelta\n",
    "\n",
    "today = pd.to_datetime(date.today())\n",
    "ontem = today - timedelta(1)\n",
    "anteontem = ontem - timedelta(1)\n",
    "data_retroativos = ontem - timedelta(31)"
   ]
  },
  {
   "cell_type": "code",
   "execution_count": null,
   "metadata": {
    "execution": {
     "iopub.execute_input": "2021-11-16T15:16:40.547462Z",
     "iopub.status.busy": "2021-11-16T15:16:40.547462Z",
     "iopub.status.idle": "2021-11-16T15:18:49.931263Z",
     "shell.execute_reply": "2021-11-16T15:18:49.930216Z",
     "shell.execute_reply.started": "2021-11-16T15:16:40.547462Z"
    }
   },
   "outputs": [],
   "source": [
    "vac = eSUS('vacinados')\n",
    "vac.load()\n",
    "vac.df"
   ]
  },
  {
   "cell_type": "code",
   "execution_count": null,
   "metadata": {},
   "outputs": [],
   "source": [
    "vac.df.columns"
   ]
  },
  {
   "cell_type": "code",
   "execution_count": null,
   "metadata": {
    "execution": {
     "iopub.execute_input": "2021-11-16T15:18:49.935219Z",
     "iopub.status.busy": "2021-11-16T15:18:49.934261Z",
     "iopub.status.idle": "2021-11-16T15:18:50.165230Z",
     "shell.execute_reply": "2021-11-16T15:18:50.164225Z",
     "shell.execute_reply.started": "2021-11-16T15:18:49.935219Z"
    }
   },
   "outputs": [],
   "source": [
    "# tables = dict([(Path(x).stem,pd.read_csv(join(tables_path,x))) for x in glob(join(tables_path,\"*.csv\"))])\n",
    "# tables['faixa_etaria_populacao']"
   ]
  },
  {
   "cell_type": "code",
   "execution_count": null,
   "metadata": {},
   "outputs": [],
   "source": [
    "municipios = Municipios()\n",
    "municipios['mun_resid'] = municipios['municipio']\n",
    "municipios.loc[municipios['uf']!='PR','mun_resid'] = municipios.loc[municipios['uf']!='PR','municipio'] + '/' + municipios['uf']"
   ]
  },
  {
   "cell_type": "code",
   "execution_count": null,
   "metadata": {},
   "outputs": [],
   "source": [
    "# Quantas pessoas já tomaram a D2 e estão há mais de 5 meses aptos para tomar a dose adicional. \n",
    "# Quantitativos e relação para PR, RS e Município."
   ]
  },
  {
   "cell_type": "code",
   "execution_count": null,
   "metadata": {},
   "outputs": [],
   "source": [
    "days_after = 5*30\n",
    "archive = join(default_output, 'demanda_vacinacao_01.xlsx')\n",
    "\n",
    "\n",
    "writer = pd.ExcelWriter(archive,\n",
    "                    engine='xlsxwriter',\n",
    "                    datetime_format='dd/mm/yyyy',\n",
    "                    date_format='dd/mm/yyyy')"
   ]
  },
  {
   "cell_type": "code",
   "execution_count": null,
   "metadata": {},
   "outputs": [],
   "source": [
    "list_search = ['1ª Dose,2ª Dose,NA', 'NA,2ª Dose,NA']\n",
    "\n",
    "vac01 = vac.df.loc[vac.df['situacao'] != 'inconsistencia']\n",
    "vac01 = vac01.loc[vac01['doses_aplicadas'].isin(list_search)]\n",
    "vac01 = vac01.loc[vac01['dias_apos_ultima_dose'] >= days_after]\n",
    "\n",
    "vac01 = pd.merge(vac01.rename(columns={'ibge_residencia':'ibge'}),municipios[['ibge','macro','rs','uf','municipio','regional']],on='ibge',how='left').rename(columns={'ibge':'ibge_residencia'})\n",
    "vac01 = vac01.loc[vac01['rs'] != 99]"
   ]
  },
  {
   "cell_type": "code",
   "execution_count": null,
   "metadata": {},
   "outputs": [],
   "source": [
    "tabela_rs = vac01.groupby(['macro', 'rs'])[['paciente']].count().reset_index().rename(columns={'rs':'RS', 'macro':'MACRO', 'paciente':'APTOS'})\n",
    "tabela_rs.loc['TOTAL', ['APTOS']] = tabela_rs[['APTOS']].sum()\n",
    "# tabela_rs.to_excel(writer, 'quantitativos_RS', index=False)\n",
    "tabela_rs"
   ]
  },
  {
   "cell_type": "code",
   "execution_count": null,
   "metadata": {},
   "outputs": [],
   "source": [
    "tabela_mun = vac01.groupby(['rs', 'municipio'])[['paciente']].count().reset_index().rename(columns={'municipio':'MUNICÍPIO', 'rs':'RS', 'paciente':'APTOS'})\n",
    "tabela_mun.loc['TOTAL', ['APTOS']] = tabela_mun[['APTOS']].sum()\n",
    "# tabela_mun.to_excel(writer, 'quantitativos_MUN', index=False)\n",
    "tabela_mun"
   ]
  },
  {
   "cell_type": "code",
   "execution_count": null,
   "metadata": {},
   "outputs": [],
   "source": [
    "writer.save()"
   ]
  }
 ],
 "metadata": {
  "kernelspec": {
   "display_name": "Python 3 (ipykernel)",
   "language": "python",
   "name": "python3"
  },
  "language_info": {
   "codemirror_mode": {
    "name": "ipython",
    "version": 3
   },
   "file_extension": ".py",
   "mimetype": "text/x-python",
   "name": "python",
   "nbconvert_exporter": "python",
   "pygments_lexer": "ipython3",
   "version": "3.8.11"
  }
 },
 "nbformat": 4,
 "nbformat_minor": 4
}
