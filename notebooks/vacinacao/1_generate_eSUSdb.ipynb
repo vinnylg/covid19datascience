{
 "cells": [
  {
   "cell_type": "code",
   "execution_count": null,
   "metadata": {},
   "outputs": [],
   "source": [
    "import sys\n",
    "from pathlib import Path\n",
    "from os import getcwd, remove, listdir, stat, chdir\n",
    "from os.path import dirname, join, isfile, isdir, basename\n",
    "sys.path.append(str(Path(getcwd()).parent.parent))\n",
    "import pyminizip as pz\n",
    "from datetime import date, datetime, timedelta\n",
    "\n",
    "import pandas as pd\n",
    "import numpy as np\n",
    "from glob import glob\n",
    "from time import sleep\n",
    "pd.set_option('display.max_columns', None)\n",
    "pd.set_option('display.max_rows', 200)\n",
    "pd.options.display.float_format = lambda x: '{:,.0f}'.format(x).replace(',','.')\n",
    "\n",
    "\n",
    "from bulletin import setup_log, agora, hoje, ontem, anteontem, dias_apos, dias_apos_label\n",
    "from bulletin import root, default_input, default_output, tables_path\n",
    "from bulletin.systems.esus import eSUS\n",
    "from bulletin.utils.utils import strlist\n",
    "from bulletin.utils.normalize import trim_overspace\n",
    "from bulletin.utils.timer import Timer\n",
    "from bulletin.utils import setup_logging\n",
    "\n",
    "from bulletin.services.connections import get_db_conn\n",
    "\n",
    "logger = setup_logging(setup_log,name='vacinados_1_generate_eSUSdb')\n",
    "\n",
    "tables = dict([(Path(x).stem,pd.read_csv(join(tables_path,x))) for x in glob(join(tables_path,\"*.csv\"))])"
   ]
  },
  {
   "cell_type": "code",
   "execution_count": null,
   "metadata": {},
   "outputs": [],
   "source": [
    "situacao_labels = { 0:'Não Vacinado', 1:'Esquema Primário Incompleto', 2:'Esquema Primário Completo ', 3: 'Esquema Primário Completo + Reforço'}\n",
    "mes_labels = {key+1:value for key,value in enumerate(['Janeiro','Fevereiro','Março','Abril','Maio','Junho','Julho','Agosto','Setembro','Outubro','Novembro','Dezembro'])}"
   ]
  },
  {
   "cell_type": "code",
   "execution_count": null,
   "metadata": {},
   "outputs": [],
   "source": [
    "download_all = True\n",
    "read_raw = True\n",
    "\n",
    "update = True\n",
    "\n",
    "esus = eSUS()\n",
    "\n",
    "if download_all and not read_raw:\n",
    "    esus.download_all()\n",
    "\n",
    "elif read_raw:\n",
    "        esus.load('doses_aplicadas_raw',compress=True)\n",
    "        esus.normalize()\n",
    "        esus.save('doses_aplicadas',replace=True)\n",
    "else:    \n",
    "    esus.load()\n",
    "\n",
    "if update:\n",
    "    update_part = esus.download_update(interval=14,load_downloaded=False)\n",
    "    esus.update(update_part)\n",
    "    esus.save(replace=True)\n",
    "\n",
    "esus.df"
   ]
  },
  {
   "cell_type": "code",
   "execution_count": null,
   "metadata": {},
   "outputs": [],
   "source": [
    "# Testar banco\n",
    "# interval = 7\n",
    "# with get_db_conn(esus.config) as conn:\n",
    "#     query = f'''\n",
    "#         SELECT * FROM imunizacao_covid\n",
    "#         WHERE (\"vacina_dataAplicacao\" >= NOW() - INTERVAL '{interval} DAY') \n",
    "#         OR (\"data_importacao_rnds\" >= NOW() - INTERVAL '{interval} DAY') \n",
    "#         OR (\"dt_deleted\" >= NOW() - INTERVAL '{interval} DAY') \n",
    "#     '''\n",
    "#     logger.info(query)\n",
    "#     df = pd.read_sql(query, conn)\n",
    "# df"
   ]
  },
  {
   "cell_type": "code",
   "execution_count": null,
   "metadata": {},
   "outputs": [],
   "source": [
    "esus.df.groupby(['dose','vacina_descricao_dose'],dropna=False)[['paciente']].count()"
   ]
  },
  {
   "cell_type": "code",
   "execution_count": null,
   "metadata": {},
   "outputs": [],
   "source": [
    "error = esus.df.loc[esus.df['status']=='entered-in-error']\n",
    "esus.df = esus.df.drop(index=error.index)\n",
    "error.shape"
   ]
  },
  {
   "cell_type": "code",
   "execution_count": null,
   "metadata": {},
   "outputs": [],
   "source": [
    "# esus.df.rename(columns={\n",
    "#             'estabelecimento_municipio_codigo':'ibge_atendimento',\n",
    "#             'vacina_dataAplicacao': 'data_aplicacao',\n",
    "#             'vacina_fabricante_nome': 'fabricante',\n",
    "#             'vacina_categoria_nome': 'categoria',\n",
    "#             'vacina_grupoAtendimento_nome': 'grupo_atendimento'\n",
    "#         }, inplace=True)"
   ]
  },
  {
   "cell_type": "code",
   "execution_count": null,
   "metadata": {},
   "outputs": [],
   "source": [
    "duplicate_cols = esus.df.columns[esus.df.columns.duplicated()]\n",
    "# esus.df.drop(columns=duplicate_cols, inplace=True)\n",
    "esus.df[duplicate_cols]"
   ]
  },
  {
   "cell_type": "code",
   "execution_count": null,
   "metadata": {},
   "outputs": [],
   "source": [
    "data_aplicacao_dose = esus.df.groupby(['data_aplicacao','dose'])[['paciente']].count().unstack('dose').fillna(0).astype(int)\n",
    "data_aplicacao_dose.rolling(14).mean().plot(figsize=(15,10))"
   ]
  },
  {
   "cell_type": "code",
   "execution_count": null,
   "metadata": {},
   "outputs": [],
   "source": [
    "esus.df.groupby(['ibge_atendimento','vacina_profissionalAplicador_nome'],dropna=True)[['document_id']].count().sort_values('document_id',ascending=False).head(10)"
   ]
  },
  {
   "cell_type": "code",
   "execution_count": null,
   "metadata": {},
   "outputs": [],
   "source": [
    "verification = esus.df['cns'].isna()\n",
    "print(f\"{verification.sum()} registros com cns nulo\")\n",
    "if verification.sum() > 0: esus.df.drop(index=esus.df.loc[verification].index, inplace=True)\n",
    "del verification"
   ]
  },
  {
   "cell_type": "code",
   "execution_count": null,
   "metadata": {},
   "outputs": [],
   "source": [
    "esus.df.drop(columns=['document_id','raca_cor', 'email_paciente',\n",
    "       'telefone_paciente', 'vacina_descricao_dose', 'data_importacao_rnds',\n",
    "       'estabelecimento_municipio_nome',\n",
    "       'paciente_endereco_coPais', 'estabelecimento_uf',\n",
    "       'bairro_residencia', 'paciente_endereco_nmPais',\n",
    "       'paciente_endereco_nmMunicipio', 'vacina_lote', 'uf_residencia',\n",
    "       'estalecimento_noFantasia','id_sistema_origem',\n",
    "       'vacina_profissionalAplicador',\n",
    "       'vacina_profissionalAplicador_nome', 'vacina_codigo',\n",
    "       'estabelecimento_valor','paciente_nacionalidade_enumNacionalidade',\n",
    "       'cep_residencia', 'timestamp', 'paciente_racaCor_codigo',\n",
    "       'estabelecimento_razaoSocial', 'vacina_grupoAtendimento_codigo',\n",
    "       'vacina_categoria_codigo', 'dt_deleted','status','vacina_fabricante_referencia']\n",
    ",inplace=True)\n",
    "esus.df.columns"
   ]
  },
  {
   "cell_type": "code",
   "execution_count": null,
   "metadata": {},
   "outputs": [],
   "source": [
    "dose1 = esus.df.loc[(esus.df['dose']=='1ª Dose')]\n",
    "dose2 = esus.df.loc[esus.df['dose']=='2ª Dose']\n",
    "doseUnica = esus.df.loc[esus.df['dose']=='Única']\n",
    "doseAdicional = esus.df.loc[(esus.df['dose']=='Adicional')]\n",
    "doseReforco = esus.df.loc[(esus.df['dose']=='Reforço')]"
   ]
  },
  {
   "cell_type": "code",
   "execution_count": null,
   "metadata": {},
   "outputs": [],
   "source": [
    "del esus.df\n",
    "dose1"
   ]
  },
  {
   "cell_type": "code",
   "execution_count": null,
   "metadata": {},
   "outputs": [],
   "source": [
    "cols = ['paciente_id','paciente','cpf','sexo','nome_mae','data_nascimento','idade','ibge_residencia','categoria','grupo_atendimento','ibge_atendimento','estabelecimento_razaoSocial']\n",
    "\n",
    "vacinados = pd.merge(dose1,dose2,on='cns',how='outer',suffixes=['_1a_dose','_2a_dose'])\n",
    "\n",
    "for col in cols:\n",
    "    vacinados.loc[vacinados[f\"{col}_1a_dose\"].notna(), col] = vacinados.loc[vacinados[f\"{col}_1a_dose\"].notna(), f\"{col}_1a_dose\"]\n",
    "    vacinados.loc[(vacinados[f\"{col}_1a_dose\"].isna()) & (vacinados[f\"{col}_2a_dose\"].notna()), col] = vacinados.loc[(vacinados[f\"{col}_1a_dose\"].isna()) & (vacinados[f\"{col}_2a_dose\"].notna()), f\"{col}_2a_dose\"]\n",
    "\n",
    "del dose1\n",
    "del dose2\n",
    "# vacinados['paciente_id']"
   ]
  },
  {
   "cell_type": "code",
   "execution_count": null,
   "metadata": {},
   "outputs": [],
   "source": [
    "doseUnica = doseUnica.rename(columns={'vacina_nome':'vacina_nome_dose_unica', 'data_aplicacao':'data_aplicacao_dose_unica', 'dose':'dose_unica'})\n",
    "\n",
    "vacinados = pd.merge(vacinados,doseUnica,on='cns',how='outer',suffixes=['','_dose_unica'])\n",
    "\n",
    "for col in cols:\n",
    "    vacinados.loc[(vacinados[col].isna()) & (vacinados[f\"{col}_dose_unica\"].notna()), col] = vacinados.loc[(vacinados[col].isna()) & (vacinados[f\"{col}_dose_unica\"].notna()), f\"{col}_dose_unica\"]\n",
    "\n",
    "del doseUnica\n",
    "# vacinados['paciente_id']"
   ]
  },
  {
   "cell_type": "code",
   "execution_count": null,
   "metadata": {},
   "outputs": [],
   "source": [
    "doseAdicional = doseAdicional.rename(columns={'vacina_nome':'vacina_nome_dose_adicional', 'data_aplicacao':'data_aplicacao_dose_adicional', 'dose':'dose_adicional'})\n",
    "\n",
    "vacinados = pd.merge(vacinados,doseAdicional,on='cns',how='outer',suffixes=['','_dose_adicional'])\n",
    "\n",
    "for col in cols:\n",
    "    vacinados.loc[(vacinados[col].isna()) & (vacinados[f\"{col}_dose_adicional\"].notna()), col] = vacinados.loc[(vacinados[col].isna()) & (vacinados[f\"{col}_dose_adicional\"].notna()), f\"{col}_dose_adicional\"]\n",
    "\n",
    "del doseAdicional\n",
    "# vacinados['paciente_id']"
   ]
  },
  {
   "cell_type": "code",
   "execution_count": null,
   "metadata": {},
   "outputs": [],
   "source": [
    "doseReforco = doseReforco.rename(columns={'vacina_nome':'vacina_nome_dose_reforco', 'data_aplicacao':'data_aplicacao_dose_reforco', 'dose':'dose_reforco'})\n",
    "\n",
    "vacinados = pd.merge(vacinados,doseReforco,on='cns',how='outer',suffixes=['','_dose_reforco'])\n",
    "\n",
    "for col in cols:\n",
    "    vacinados.loc[(vacinados[col].isna()) & (vacinados[f\"{col}_dose_reforco\"].notna()), col] = vacinados.loc[(vacinados[col].isna()) & (vacinados[f\"{col}_dose_reforco\"].notna()), f\"{col}_dose_reforco\"]\n",
    "\n",
    "del doseReforco\n",
    "# vacinados['paciente_id']"
   ]
  },
  {
   "cell_type": "code",
   "execution_count": null,
   "metadata": {},
   "outputs": [],
   "source": [
    "vacinados['doses_aplicadas'] = vacinados['dose_1a_dose'].fillna('NA') +','+ vacinados['dose_2a_dose'].fillna('NA') +','+ vacinados['dose_unica'].fillna('NA') +','+ vacinados['dose_adicional'].fillna('NA') +','+ vacinados['dose_reforco'].fillna('NA')\n",
    "vacinados['doses_aplicadas'] = vacinados['doses_aplicadas'].str.replace('NA,','').str.replace(',NA','')\n",
    "vacinados.groupby(['doses_aplicadas'])[['cns']].count().sort_values('cns', ascending=False)"
   ]
  },
  {
   "cell_type": "code",
   "execution_count": null,
   "metadata": {},
   "outputs": [],
   "source": [
    "used_cols = ['cns','paciente','cpf','sexo','nome_mae','data_nascimento','idade','ibge_residencia','ibge_atendimento','categoria','grupo_atendimento','doses_aplicadas','vacina_nome_1a_dose','data_aplicacao_1a_dose','vacina_nome_2a_dose','data_aplicacao_2a_dose','vacina_nome_dose_unica','data_aplicacao_dose_unica','vacina_nome_dose_adicional','data_aplicacao_dose_adicional','vacina_nome_dose_reforco','data_aplicacao_dose_reforco']\n",
    "# used_cols = ['pacient_id','cns','paciente','cpf','sexo','nome_mae','data_nascimento','idade','ibge_residencia','ibge_atendimento','categoria','grupo_atendimento','doses_aplicadas','vacina_nome_1a_dose','data_aplicacao_1a_dose','vacina_nome_2a_dose','data_aplicacao_2a_dose','vacina_nome_dose_unica','data_aplicacao_dose_unica','vacina_nome_dose_adicional','data_aplicacao_dose_adicional','vacina_nome_dose_reforco','data_aplicacao_dose_reforco']\n",
    "vacinados = vacinados.drop(columns=[col for col in vacinados.columns if not col in used_cols])\n",
    "vacinados = vacinados.drop_duplicates('cns', keep='first')\n",
    "vacinados = vacinados[used_cols]"
   ]
  },
  {
   "cell_type": "code",
   "execution_count": null,
   "metadata": {},
   "outputs": [],
   "source": [
    "# inconsistencia\n",
    "vacinados['situacao_atual'] = 0\n",
    "\n",
    "# esquema vacinal incompleto\n",
    "vacinados.loc[\n",
    "    (vacinados['doses_aplicadas']=='1ª Dose')\n",
    ",'situacao_atual'] =  1\n",
    "\n",
    "# esquema vacinal completo \n",
    "vacinados.loc[\n",
    "    (vacinados['doses_aplicadas']=='1ª Dose,2ª Dose') | ## corretos\n",
    "    (vacinados['doses_aplicadas']=='1ª Dose,2ª Dose,Adicional') |\n",
    "    (vacinados['doses_aplicadas']=='Única') | \n",
    "    (vacinados['doses_aplicadas']=='Única,Adicional') |\n",
    "\n",
    "    (vacinados['doses_aplicadas']=='1ª Dose,2ª Dose,Única') | # \"inconsistentes\"\n",
    "    (vacinados['doses_aplicadas']=='2ª Dose,Única') |            \n",
    "    (vacinados['doses_aplicadas']=='2ª Dose') |              \n",
    "    (vacinados['doses_aplicadas']=='1ª Dose,Única')|\n",
    "    (vacinados['doses_aplicadas']=='1ª Dose,2ª Dose,Única,Adicional') | \n",
    "    (vacinados['doses_aplicadas']=='1ª Dose,Adicional') |\n",
    "    (vacinados['doses_aplicadas']=='1ª Dose,Única,Adicional') |\n",
    "    (vacinados['doses_aplicadas']=='2ª Dose,Adicional') |\n",
    "    (vacinados['doses_aplicadas']=='2ª Dose,Única,Adicional') |\n",
    "    (vacinados['doses_aplicadas']=='Adicional') \n",
    ",'situacao_atual'] = 2\n",
    "\n",
    "# esquema vacinal completo + reforço\n",
    "vacinados.loc[\n",
    "    \n",
    "    (vacinados['doses_aplicadas']=='1ª Dose,2ª Dose,Reforço') | ## corretos\n",
    "    (vacinados['doses_aplicadas']=='1ª Dose,2ª Dose,Adicional,Reforço') |\n",
    "    (vacinados['doses_aplicadas']=='Única,Reforço') |\n",
    "    (vacinados['doses_aplicadas']=='Única,Adicional,Reforço') |\n",
    "\n",
    "    (vacinados['doses_aplicadas']=='1ª Dose,2ª Dose,Única,Reforço') | ## \"inconsistentes\"\n",
    "    (vacinados['doses_aplicadas']=='1ª Dose,Reforço') |\n",
    "    (vacinados['doses_aplicadas']=='1ª Dose,Única,Reforço') |\n",
    "    (vacinados['doses_aplicadas']=='2ª Dose,Reforço') |\n",
    "    (vacinados['doses_aplicadas']=='2ª Dose,Única,Reforço') |\n",
    "    (vacinados['doses_aplicadas']=='Reforço') |\n",
    "    (vacinados['doses_aplicadas']=='1ª Dose,Adicional,Reforço') |\n",
    "    (vacinados['doses_aplicadas']=='2ª Dose,Adicional,Reforço') |\n",
    "    (vacinados['doses_aplicadas']=='1ª Dose,Única,Adicional,Reforço') |\n",
    "    (vacinados['doses_aplicadas']=='2ª Dose,Única,Adicional,Reforço') |\n",
    "    (vacinados['doses_aplicadas']=='1ª Dose,2ª Dose,Única,Adicional,Reforço') |\n",
    "    (vacinados['doses_aplicadas']=='Adicional,Reforço')     \n",
    ",'situacao_atual'] = 3     "
   ]
  },
  {
   "cell_type": "code",
   "execution_count": null,
   "metadata": {},
   "outputs": [],
   "source": [
    "situacao_atual = vacinados.groupby(['situacao_atual','doses_aplicadas'])[['cns']].count().reset_index().rename(columns={'cns':'pacientes'})#.sort_values('cns', ascending=False)\n",
    "situacao_atual['n_doses_aplicadas'] = situacao_atual['doses_aplicadas'].str.split(',').apply(len)\n",
    "situacao_atual['aplicacoes'] = (situacao_atual['n_doses_aplicadas'] * situacao_atual['pacientes'])\n",
    "del situacao_atual['n_doses_aplicadas']\n",
    "situacao_atual = situacao_atual.set_index(['situacao_atual','doses_aplicadas'])\n",
    "situacao_atual.loc[('','TOTAL'),:] = situacao_atual.sum(axis=0)\n",
    "display(situacao_atual.groupby('situacao_atual').sum())\n",
    "situacao_atual.astype(float).rename(index=situacao_labels, level='situacao_atual')"
   ]
  },
  {
   "cell_type": "code",
   "execution_count": null,
   "metadata": {},
   "outputs": [],
   "source": [
    "vacinados['data_ultima_dose'] = vacinados[[data for data in vacinados.columns if 'data_aplicacao' in data]].max(axis=1)\n",
    "vacinados['dias_apos_ultima_dose'] = (vacinados['data_ultima_dose'] - hoje).dt.days * -1"
   ]
  },
  {
   "cell_type": "code",
   "execution_count": null,
   "metadata": {},
   "outputs": [],
   "source": [
    "tempo_imunizacao = 15\n",
    "tempo_imunizacao_reforco = 15\n",
    "\n",
    "vacinados.loc[vacinados['data_aplicacao_2a_dose'].notna(),'data_imunizacao'] = vacinados.loc[vacinados['data_aplicacao_2a_dose'].notna(),'data_aplicacao_2a_dose'] + timedelta(tempo_imunizacao)\n",
    "vacinados.loc[vacinados['data_aplicacao_dose_unica'].notna(),'data_imunizacao'] = vacinados.loc[vacinados['data_aplicacao_dose_unica'].notna(),'data_aplicacao_dose_unica'] + timedelta(tempo_imunizacao)\n",
    "vacinados.loc[vacinados['data_aplicacao_dose_adicional'].notna(),'data_imunizacao'] = vacinados.loc[vacinados['data_aplicacao_dose_adicional'].notna(),'data_aplicacao_dose_adicional'] + timedelta(tempo_imunizacao_reforco)\n",
    "vacinados.loc[vacinados['data_aplicacao_dose_reforco'].notna(),'data_imunizacao_reforco'] = vacinados.loc[vacinados['data_aplicacao_dose_reforco'].notna(),'data_aplicacao_dose_reforco'] + timedelta(tempo_imunizacao_reforco)"
   ]
  },
  {
   "cell_type": "code",
   "execution_count": null,
   "metadata": {},
   "outputs": [],
   "source": [
    "vacinados = vacinados.join(tables['municipios'][['ibge','uf']].set_index('ibge'), on='ibge_residencia')"
   ]
  },
  {
   "cell_type": "code",
   "execution_count": null,
   "metadata": {},
   "outputs": [],
   "source": [
    "# vacinados.loc[(vacinados['data_nascimento'].notnull()) & (vacinados['data_ultima_dose'].notnull()), 'idade'] = \\\n",
    "#     vacinados.loc[(vacinados['data_nascimento'].notnull()) & (vacinados['data_ultima_dose'].notnull())].apply(\n",
    "#             lambda row: row['data_ultima_dose'].year - row['data_nascimento'].year - (\n",
    "#                     (row['data_ultima_dose'].month, row['data_ultima_dose'].day) <\n",
    "#                     (row['data_nascimento'].month, row['data_nascimento'].day)\n",
    "#             ), axis=1\n",
    "#     )"
   ]
  },
  {
   "cell_type": "code",
   "execution_count": null,
   "metadata": {},
   "outputs": [],
   "source": [
    "vacinados['fx'] = '60+'\n",
    "vacinados.loc[(vacinados['idade']>=12)&(vacinados['idade']<60),'fx'] = '12-59'\n",
    "vacinados.loc[(vacinados['idade']<12),'fx'] = '0-11'"
   ]
  },
  {
   "cell_type": "code",
   "execution_count": null,
   "metadata": {},
   "outputs": [],
   "source": [
    "vac = eSUS('vacinados')\n",
    "vac.df = vacinados\n",
    "vac.hashes()\n",
    "vac.df.index = np.arange(len(vac.df))\n",
    "vac.save(replace=True, compress=True)"
   ]
  },
  {
   "cell_type": "code",
   "execution_count": null,
   "metadata": {},
   "outputs": [],
   "source": [
    "# vac = eSUS('vacinados')\n",
    "# vac.load()\n",
    "# vac.df.shape\n",
    "# vacinados = vac.df"
   ]
  },
  {
   "cell_type": "code",
   "execution_count": null,
   "metadata": {},
   "outputs": [],
   "source": [
    "situacao_atual = vacinados.groupby(['situacao_atual','doses_aplicadas'])[['cns']].count().reset_index().rename(columns={'cns':'pacientes'})#.sort_values('cns', ascending=False)\n",
    "situacao_atual['n_doses_aplicadas'] = situacao_atual['doses_aplicadas'].str.split(',').apply(len)\n",
    "situacao_atual['aplicacoes'] = (situacao_atual['n_doses_aplicadas'] * situacao_atual['pacientes'])\n",
    "del situacao_atual['n_doses_aplicadas']\n",
    "situacao_atual = situacao_atual.set_index(['situacao_atual','doses_aplicadas'])\n",
    "situacao_atual.loc[('','TOTAL'),:] = situacao_atual.sum(axis=0)\n",
    "display(situacao_atual.groupby('situacao_atual').sum().rename(index=situacao_labels, level='situacao_atual'))\n",
    "situacao_atual.astype(float).rename(index=situacao_labels, level='situacao_atual').to_excel('situacao_atual.xlsx')\n",
    "situacao_atual.astype(float).rename(index=situacao_labels, level='situacao_atual')"
   ]
  },
  {
   "cell_type": "code",
   "execution_count": null,
   "metadata": {},
   "outputs": [],
   "source": [
    "display(vacinados.loc[vacinados['uf']=='PR'].shape)\n",
    "display(vacinados.loc[vacinados['uf']!='PR'].shape)"
   ]
  },
  {
   "cell_type": "code",
   "execution_count": null,
   "metadata": {},
   "outputs": [],
   "source": [
    "vacinados_pr = vacinados.loc[vacinados['uf']=='PR']\n",
    "vacinados_mes_fx_situacao = vacinados_pr.groupby([vacinados_pr['data_ultima_dose'].rename('ano').dt.year,vacinados_pr['data_ultima_dose'].rename('mes').dt.month,'fx','situacao_atual'])[['cns']].count().unstack(['fx','situacao_atual']).fillna(0).droplevel(0,1).astype(int)\n",
    "vacinados_mes_fx_situacao = vacinados_mes_fx_situacao.sort_index(axis=1,level='fx')\n",
    "vacinados_mes_fx_situacao"
   ]
  },
  {
   "cell_type": "code",
   "execution_count": null,
   "metadata": {},
   "outputs": [],
   "source": [
    "vacinados_mes_fx_situacao_acumulado = vacinados_mes_fx_situacao.cumsum()\n",
    "vacinados_mes_fx_situacao_acumulado = vacinados_mes_fx_situacao_acumulado.sort_index(axis=1,level='fx')\n",
    "vacinados_mes_fx_situacao_acumulado"
   ]
  },
  {
   "cell_type": "code",
   "execution_count": null,
   "metadata": {},
   "outputs": [],
   "source": [
    "estimativa_populacional = [1868761, 7879614, 1927286] # [menor que 12, de 12 até 59, maior ou igual a 60]\n",
    "\n",
    "populacao_mes = pd.DataFrame([estimativa_populacional], index=vacinados_mes_fx_situacao.index, columns=pd.MultiIndex.from_product([['0-11','12-59','60+'],[0]],names=['fx','situacao_atual']))\n",
    "populacao_mes_nao_vacinada = populacao_mes - vacinados_mes_fx_situacao_acumulado.groupby(axis=1,level='fx').sum()\n",
    "populacao_mes_nao_vacinada"
   ]
  },
  {
   "cell_type": "code",
   "execution_count": null,
   "metadata": {},
   "outputs": [],
   "source": [
    "vacinados_e_nao_mes_fx_situacao_acumulado = pd.concat([vacinados_mes_fx_situacao_acumulado,populacao_mes_nao_vacinada], axis=1)\n",
    "vacinados_e_nao_mes_fx_situacao_acumulado = vacinados_e_nao_mes_fx_situacao_acumulado.sort_index(axis=1,level='fx')\n",
    "vacinados_e_nao_mes_fx_situacao_acumulado = vacinados_e_nao_mes_fx_situacao_acumulado.rename(columns=situacao_labels, level='situacao_atual').rename(index=mes_labels, level='mes')#.to_excel('vacinados_e_nao_mes_fx_situacao_acumulado.xlsx')\n",
    "vacinados_e_nao_mes_fx_situacao_acumulado"
   ]
  },
  {
   "cell_type": "code",
   "execution_count": null,
   "metadata": {},
   "outputs": [],
   "source": [
    "vacinados_e_nao_mes_fx_situacao_acumulado.iloc[-1].to_csv(join(default_output,'vacinacao','populacao_vacinada.csv'))"
   ]
  },
  {
   "cell_type": "code",
   "execution_count": null,
   "metadata": {},
   "outputs": [],
   "source": [
    "vacinados[['cns','dias_apos_ultima_dose']].groupby('dias_apos_ultima_dose').count().plot()"
   ]
  },
  {
   "cell_type": "code",
   "execution_count": null,
   "metadata": {},
   "outputs": [],
   "source": [
    "vacinados['faixa_etaria'] = np.digitize(vacinados['idade'],tables['faixa_etaria_populacao']['bins'],right=False)\n",
    "vacinados[['cns','faixa_etaria']].groupby('faixa_etaria').count().plot(kind='bar')"
   ]
  },
  {
   "cell_type": "code",
   "execution_count": null,
   "metadata": {},
   "outputs": [],
   "source": [
    "bins = [1,2,3,7,14,21,30,60,90]\n",
    "bins_label = ['hoje','24 horas','48 horas', '72 horas', '7 dias', '14 dias', '21 dias', '30 dias', '60 dias', '90 dias']\n",
    "vacinados['periodo_ultima_dose'] = [ x for x in np.digitize(vacinados['dias_apos_ultima_dose'],bins,right=False)]\n",
    "dias_apos_ultima_dose = vacinados.groupby(['situacao_atual','periodo_ultima_dose'])[['cns']].count().unstack().fillna(0).astype(int).rename(columns={'cns':'qtde'}).droplevel(0,1)\n",
    "dias_apos_ultima_dose['total'] = dias_apos_ultima_dose.sum(1)\n",
    "dias_apos_ultima_dose = dias_apos_ultima_dose.append(pd.DataFrame(dias_apos_ultima_dose.sum().tolist(),index=dias_apos_ultima_dose.columns.tolist(),columns=['total']).T)\n",
    "dias_apos_ultima_dose.columns = [ bins_label[bins] if isinstance(bins,int) else bins for bins in dias_apos_ultima_dose.columns ]\n",
    "# dias_apos_ultima_dose = dias_apos_ultima_dose.reset_index()\n",
    "dias_apos_ultima_dose"
   ]
  },
  {
   "cell_type": "code",
   "execution_count": null,
   "metadata": {},
   "outputs": [],
   "source": [
    "del vacinados"
   ]
  }
 ],
 "metadata": {
  "interpreter": {
   "hash": "1cdc22e96f16e7a709941e5164353478df3c5a2dca8a048b5ddcd85bd66dd558"
  },
  "kernelspec": {
   "display_name": "Python 3 (ipykernel)",
   "language": "python",
   "name": "python3"
  },
  "language_info": {
   "codemirror_mode": {
    "name": "ipython",
    "version": 3
   },
   "file_extension": ".py",
   "mimetype": "text/x-python",
   "name": "python",
   "nbconvert_exporter": "python",
   "pygments_lexer": "ipython3",
   "version": "3.8.11"
  },
  "widgets": {
   "application/vnd.jupyter.widget-state+json": {
    "state": {},
    "version_major": 2,
    "version_minor": 0
   }
  }
 },
 "nbformat": 4,
 "nbformat_minor": 4
}
