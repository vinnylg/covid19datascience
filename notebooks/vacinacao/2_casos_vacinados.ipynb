{
 "cells": [
  {
   "cell_type": "code",
   "execution_count": null,
   "metadata": {
    "execution": {
     "iopub.execute_input": "2021-12-20T14:32:22.474733Z",
     "iopub.status.busy": "2021-12-20T14:32:22.474733Z",
     "iopub.status.idle": "2021-12-20T14:32:23.028625Z",
     "shell.execute_reply": "2021-12-20T14:32:23.028625Z",
     "shell.execute_reply.started": "2021-12-20T14:32:22.474733Z"
    }
   },
   "outputs": [],
   "source": [
    "## set covid19_datasciente as path for python find bulletin package\n",
    "import sys\n",
    "from pathlib import Path\n",
    "from os import getcwd, remove, walk\n",
    "from os.path import join, basename, isdir\n",
    "sys.path.append(str(Path(getcwd()).parent.parent))\n",
    "\n",
    "import pandas as pd\n",
    "pd.set_option('display.max_columns', None)\n",
    "pd.set_option('display.max_rows', 100)\n",
    "# pd.options.display.float_format = lambda x: '{:,.0f}'.format(x).replace(',','.')\n",
    "\n",
    "import codecs\n",
    "import numpy as np\n",
    "from glob import glob\n",
    "from epiweeks import Week"
   ]
  },
  {
   "cell_type": "code",
   "execution_count": null,
   "metadata": {},
   "outputs": [],
   "source": [
    "from difflib import SequenceMatcher\n",
    "\n",
    "def similar(a, b):\n",
    "    return SequenceMatcher(None, a, b).ratio()"
   ]
  },
  {
   "cell_type": "code",
   "execution_count": null,
   "metadata": {
    "execution": {
     "iopub.execute_input": "2021-12-20T14:32:23.028625Z",
     "iopub.status.busy": "2021-12-20T14:32:23.028625Z",
     "iopub.status.idle": "2021-12-20T14:32:24.349567Z",
     "shell.execute_reply": "2021-12-20T14:32:24.349567Z",
     "shell.execute_reply.started": "2021-12-20T14:32:23.028625Z"
    }
   },
   "outputs": [],
   "source": [
    "from bulletin import default_input, default_output, tables_path, root\n",
    "default_output = join(default_output,'vacinacao')\n",
    "\n",
    "from bulletin.systems import Notifica, CasosConfirmados, eSUS, Sivep\n",
    "from bulletin.utils.static import Municipios\n",
    "from bulletin.utils.xls_ import fit_cols\n",
    "from bulletin.utils.normalize import normalize_text, normalize_hash, date_hash\n",
    "\n",
    "from datetime import datetime, date, timedelta\n",
    "\n",
    "hoje = pd.to_datetime(date.today())\n",
    "ontem = hoje - timedelta(1)\n",
    "anteontem = ontem - timedelta(1)\n",
    "data_retroativos = ontem - timedelta(31)\n",
    "\n",
    "tables = dict([(Path(x).stem,pd.read_csv(join(tables_path,x))) for x in glob(join(tables_path,\"*.csv\"))])"
   ]
  },
  {
   "cell_type": "code",
   "execution_count": null,
   "metadata": {},
   "outputs": [],
   "source": [
    "situacao_labels = { 0:'Não Vacinado', 1:'Esquema Primário Incompleto', 2:'Esquema Primário Completo ', 3: 'Esquema Primário Completo + Reforço'}\n",
    "fator_risco_labels = { 0:'Sem Fator de Risco', 1:'Com Fator de Risco' }\n",
    "mes_labels = {key+1:value for key,value in enumerate(['Janeiro','Fevereiro','Março','Abril','Maio','Junho','Julho','Agosto','Setembro','Outubro','Novembro','Dezembro'])}\n",
    "evolucao_labels = {1: 'Recuperados', 2: 'Óbitos', 3: 'Ativos'}"
   ]
  },
  {
   "cell_type": "code",
   "execution_count": null,
   "metadata": {
    "execution": {
     "iopub.execute_input": "2021-12-20T14:32:24.349567Z",
     "iopub.status.busy": "2021-12-20T14:32:24.349567Z",
     "iopub.status.idle": "2021-12-20T14:34:45.944063Z",
     "shell.execute_reply": "2021-12-20T14:34:45.944063Z",
     "shell.execute_reply.started": "2021-12-20T14:32:24.349567Z"
    }
   },
   "outputs": [],
   "source": [
    "vac = eSUS('vacinados')\n",
    "vac.load()\n",
    "vac.df.shape"
   ]
  },
  {
   "cell_type": "code",
   "execution_count": null,
   "metadata": {},
   "outputs": [],
   "source": [
    "vac.df.groupby(['situacao_atual'])[['cns']].count().rename(index=situacao_labels, level='situacao_atual')"
   ]
  },
  {
   "cell_type": "code",
   "execution_count": null,
   "metadata": {
    "execution": {
     "iopub.execute_input": "2021-12-20T14:34:46.147219Z",
     "iopub.status.busy": "2021-12-20T14:34:46.147219Z",
     "iopub.status.idle": "2021-12-20T14:35:18.171542Z",
     "shell.execute_reply": "2021-12-20T14:35:18.171542Z",
     "shell.execute_reply.started": "2021-12-20T14:34:46.147219Z"
    }
   },
   "outputs": [],
   "source": [
    "cc = CasosConfirmados()\n",
    "\n",
    "try:\n",
    "    cc.load(f\"cc_{hoje.strftime('%d_%m_%Y')}\", compress=True)\n",
    "except:\n",
    "    cc.load(f\"cc_{ontem.strftime('%d_%m_%Y')}\", compress=True)\n",
    "\n",
    "cc.df.pivot_table(index='evolucao',values='id_notifica',aggfunc='count',margins=True,margins_name='Casos').rename(index={1: 'Recuperados',2: 'Óbitos', 3:'Ativos'},columns={'id_notifica':'qtde'}).T[['Casos','Óbitos','Recuperados','Ativos']]"
   ]
  },
  {
   "cell_type": "code",
   "execution_count": null,
   "metadata": {
    "execution": {
     "iopub.execute_input": "2021-12-20T14:35:18.171542Z",
     "iopub.status.busy": "2021-12-20T14:35:18.171542Z",
     "iopub.status.idle": "2021-12-20T14:35:58.312737Z",
     "shell.execute_reply": "2021-12-20T14:35:58.312737Z",
     "shell.execute_reply.started": "2021-12-20T14:35:18.171542Z"
    }
   },
   "outputs": [],
   "source": [
    "casos_confirmados = cc.df.rename(columns={'id_notifica':'id'})\n",
    "casos_confirmados['faixa_etaria'] = np.digitize(casos_confirmados['idade'],tables['faixa_etaria_populacao']['bins'],right=False)\n",
    "\n",
    "casos_confirmados['ano_caso'] = casos_confirmados['data_diagnostico'].apply(lambda x: x.year if isinstance(x,date) else 'erro')\n",
    "casos_confirmados['mes_caso'] = casos_confirmados['data_diagnostico'].apply(lambda x: x.month if isinstance(x,date) else 'erro')\n",
    "\n",
    "casos_confirmados.groupby(['ano_caso','mes_caso','faixa_etaria'])[['id']].count().unstack([-1]).fillna(0).astype(int)"
   ]
  },
  {
   "cell_type": "code",
   "execution_count": null,
   "metadata": {
    "execution": {
     "iopub.execute_input": "2021-12-20T14:35:58.312737Z",
     "iopub.status.busy": "2021-12-20T14:35:58.312737Z",
     "iopub.status.idle": "2021-12-20T14:37:50.700160Z",
     "shell.execute_reply": "2021-12-20T14:37:50.700160Z",
     "shell.execute_reply.started": "2021-12-20T14:35:58.312737Z"
    }
   },
   "outputs": [],
   "source": [
    "vacinados = vac.df"
   ]
  },
  {
   "cell_type": "code",
   "execution_count": null,
   "metadata": {},
   "outputs": [],
   "source": [
    "casos_vacinados_cns = pd.merge(vacinados.loc[vacinados['cns'].notna()],casos_confirmados[['cns','id','data_nascimento','nome_mae','paciente','data_1o_sintomas','data_diagnostico','evolucao','data_cura_obito']], on='cns', how='inner',suffixes=['_esus','_notifica'])\n",
    "print(len(casos_vacinados_cns))"
   ]
  },
  {
   "cell_type": "code",
   "execution_count": null,
   "metadata": {},
   "outputs": [],
   "source": [
    "casos_vacinados_cpf = pd.merge(vacinados.loc[vacinados['cpf'].notna()],casos_confirmados[['cpf','id','data_nascimento','nome_mae','paciente','data_1o_sintomas','data_diagnostico','evolucao','data_cura_obito']], on='cpf', how='inner',suffixes=['_esus','_notifica'])\n",
    "print(len(casos_vacinados_cpf))"
   ]
  },
  {
   "cell_type": "code",
   "execution_count": null,
   "metadata": {},
   "outputs": [],
   "source": [
    "casos_vacinados_mae = pd.merge(vacinados.loc[vacinados['hash_mae'].notna()],casos_confirmados[['hash_mae','id','data_nascimento','nome_mae','paciente','data_1o_sintomas','data_diagnostico','evolucao','data_cura_obito']], on='hash_mae', how='inner',suffixes=['_esus','_notifica'])\n",
    "print(len(casos_vacinados_mae))"
   ]
  },
  {
   "cell_type": "code",
   "execution_count": null,
   "metadata": {},
   "outputs": [],
   "source": [
    "casos_vacinados_nasc = pd.merge(vacinados.loc[vacinados['hash_nasc'].notna()],casos_confirmados[['hash_nasc','id','data_nascimento','nome_mae','paciente','data_1o_sintomas','data_diagnostico','evolucao','data_cura_obito']], on='hash_nasc', how='inner',suffixes=['_esus','_notifica'])\n",
    "print(len(casos_vacinados_nasc))"
   ]
  },
  {
   "cell_type": "code",
   "execution_count": null,
   "metadata": {},
   "outputs": [],
   "source": [
    "casos_vacinados = pd.concat([casos_vacinados_cns,casos_vacinados_cpf,casos_vacinados_mae,casos_vacinados_nasc], ignore_index=True).drop_duplicates('id', keep='first')\n",
    "print(len(casos_vacinados))"
   ]
  },
  {
   "cell_type": "code",
   "execution_count": null,
   "metadata": {},
   "outputs": [],
   "source": [
    "diffs = casos_vacinados.loc[~(\n",
    "    (casos_vacinados['paciente_esus']==casos_vacinados['paciente_notifica']) |\n",
    "    (casos_vacinados['data_nascimento_esus']==casos_vacinados['data_nascimento_notifica']) |\n",
    "    (casos_vacinados['nome_mae_esus']==casos_vacinados['nome_mae_notifica']) \n",
    "), ['id','paciente_esus','paciente_notifica','data_nascimento_esus','data_nascimento_notifica','nome_mae_esus','nome_mae_notifica']]\n",
    "\n",
    "diffs.loc[diffs['paciente_esus'].notna() & diffs['paciente_notifica'].notna(),'paciente_diff'] = diffs.loc[diffs['paciente_esus'].notna() & diffs['paciente_notifica'].notna(),['paciente_esus','paciente_notifica']].apply(lambda row: similar(row['paciente_esus'],row['paciente_notifica']),axis=1)\n",
    "\n",
    "diffs.loc[diffs['nome_mae_esus'].notna() & diffs['nome_mae_notifica'].notna(),'nome_mae_diff'] = diffs.loc[diffs['nome_mae_esus'].notna() & diffs['nome_mae_notifica'].notna(),['nome_mae_esus','nome_mae_notifica']].apply(lambda row: similar(row['nome_mae_esus'],row['nome_mae_notifica']),axis=1)\n",
    "\n",
    "diffs.loc[diffs['data_nascimento_esus'].notna() & diffs['data_nascimento_notifica'].notna(),'data_nascimento_diff'] = diffs.loc[diffs['data_nascimento_esus'].notna() & diffs['data_nascimento_notifica'].notna(),['data_nascimento_esus','data_nascimento_notifica']].apply(lambda row: similar(row['data_nascimento_esus'].strftime('%d%m%Y'),row['data_nascimento_notifica'].strftime('%d%m%Y')),axis=1)\n",
    "\n",
    "diffs['media_diff'] = diffs[[col for col in diffs.columns if 'diff' in col]].mean(axis=1)\n",
    "diffs[[col for col in diffs.columns if 'diff' in col]]\n",
    "diffs.loc[diffs['media_diff']<0.7]"
   ]
  },
  {
   "cell_type": "code",
   "execution_count": null,
   "metadata": {},
   "outputs": [],
   "source": [
    "casos_vacinados = casos_vacinados.drop(index=diffs.loc[diffs['media_diff']<0.7].index)"
   ]
  },
  {
   "cell_type": "code",
   "execution_count": null,
   "metadata": {},
   "outputs": [],
   "source": [
    "casos_vacinados = casos_vacinados.drop(columns=casos_vacinados[[col for col in casos_vacinados.columns if 'esus' in col or 'notifica' in col]].columns)"
   ]
  },
  {
   "cell_type": "code",
   "execution_count": null,
   "metadata": {},
   "outputs": [],
   "source": [
    "del vac.df\n",
    "del vacinados"
   ]
  },
  {
   "cell_type": "code",
   "execution_count": null,
   "metadata": {},
   "outputs": [],
   "source": [
    "casos_vacinados.columns"
   ]
  },
  {
   "cell_type": "code",
   "execution_count": null,
   "metadata": {},
   "outputs": [],
   "source": [
    "casos_vacinados.groupby(['situacao_atual','doses_aplicadas'])[['id']].count()"
   ]
  },
  {
   "cell_type": "code",
   "execution_count": null,
   "metadata": {},
   "outputs": [],
   "source": [
    "casos_vacinados['situacao_contagio'] = 0\n",
    "casos_vacinados.groupby('situacao_contagio')[['id']].count()"
   ]
  },
  {
   "cell_type": "code",
   "execution_count": null,
   "metadata": {},
   "outputs": [],
   "source": [
    "casos_vacinados.loc[\n",
    "    (\n",
    "        (casos_vacinados['doses_aplicadas']=='1ª Dose') \n",
    "        &\n",
    "        (casos_vacinados['data_diagnostico'] >= casos_vacinados['data_aplicacao_1a_dose'])\n",
    "    ) \n",
    "    |\n",
    "    (\n",
    "        (casos_vacinados['doses_aplicadas']=='1ª Dose,2ª Dose') \n",
    "        &\n",
    "        (casos_vacinados['data_diagnostico'] >= casos_vacinados['data_aplicacao_1a_dose'])\n",
    "        &\n",
    "        (casos_vacinados['data_diagnostico'] <= casos_vacinados['data_imunizacao']  )\n",
    "    ) \n",
    "    | \n",
    "    (\n",
    "        (casos_vacinados['doses_aplicadas']=='Única') \n",
    "        & \n",
    "        (casos_vacinados['data_diagnostico'] >= casos_vacinados['data_aplicacao_dose_unica'])\n",
    "        &\n",
    "        (casos_vacinados['data_diagnostico'] <= casos_vacinados['data_imunizacao']  )\n",
    "    )\n",
    ", 'situacao_contagio'] = 1\n",
    "\n",
    "casos_vacinados.groupby('situacao_contagio',dropna=False)[['id']].count()"
   ]
  },
  {
   "cell_type": "code",
   "execution_count": null,
   "metadata": {},
   "outputs": [],
   "source": [
    "casos_vacinados.loc[\n",
    "    casos_vacinados['doses_aplicadas'].isin(\n",
    "        [\n",
    "            '1ª Dose,2ª Dose',\n",
    "            '1ª Dose,2ª Dose,Adicional',\n",
    "            'Única',\n",
    "            'Única,Adicional',\n",
    "        ]\n",
    "    ) \n",
    "    &\n",
    "    (casos_vacinados['data_diagnostico'] > casos_vacinados['data_imunizacao']  )\n",
    "    \n",
    ", 'situacao_contagio'] = 2\n",
    "\n",
    "casos_vacinados.groupby('situacao_contagio',dropna=False)[['id']].count()"
   ]
  },
  {
   "cell_type": "code",
   "execution_count": null,
   "metadata": {},
   "outputs": [],
   "source": [
    "casos_vacinados.loc[\n",
    "    casos_vacinados['doses_aplicadas'].isin(\n",
    "        [\n",
    "            '1ª Dose,2ª Dose,Reforço',\n",
    "            'Única,Reforço',\n",
    "        ]\n",
    "    ) \n",
    "    &\n",
    "    (casos_vacinados['data_diagnostico'] > casos_vacinados['data_imunizacao'])\n",
    "    &\n",
    "    (casos_vacinados['data_diagnostico'] <= casos_vacinados['data_imunizacao_reforco'])\n",
    "\n",
    ", 'situacao_contagio'] = 2\n",
    "\n",
    "casos_vacinados.groupby('situacao_contagio',dropna=False)[['id']].count()"
   ]
  },
  {
   "cell_type": "code",
   "execution_count": null,
   "metadata": {},
   "outputs": [],
   "source": [
    "casos_vacinados.loc[\n",
    "    casos_vacinados['doses_aplicadas'].isin(\n",
    "        [\n",
    "            '1ª Dose,2ª Dose,Reforço',\n",
    "            'Única,Reforço',\n",
    "        ]\n",
    "    ) \n",
    "    &\n",
    "    (casos_vacinados['data_diagnostico'] > casos_vacinados['data_imunizacao_reforco'])\n",
    "\n",
    ", 'situacao_contagio'] = 3\n",
    "\n",
    "casos_vacinados.groupby('situacao_contagio',dropna=False)[['id']].count()"
   ]
  },
  {
   "cell_type": "code",
   "execution_count": null,
   "metadata": {},
   "outputs": [],
   "source": [
    "casos_vacinados.groupby(['situacao_contagio','situacao_atual'])[['id']].count()"
   ]
  },
  {
   "cell_type": "code",
   "execution_count": null,
   "metadata": {},
   "outputs": [],
   "source": [
    "#### selecionar colunas\n",
    "casos = pd.merge(casos_confirmados,casos_vacinados[['id'] + [col for col in casos_vacinados.columns if not (col in casos_confirmados.columns)]],how='left',on='id')\n",
    "casos['situacao_contagio'] = casos['situacao_contagio'].fillna(0)\n",
    "casos.columns"
   ]
  },
  {
   "cell_type": "code",
   "execution_count": null,
   "metadata": {},
   "outputs": [],
   "source": [
    "fator_risco_cols = cc.schema.loc[cc.schema['group_name']=='fator_risco','column'].values.tolist()\n",
    "del cc.df\n",
    "del casos_confirmados\n",
    "del casos_vacinados"
   ]
  },
  {
   "cell_type": "code",
   "execution_count": null,
   "metadata": {},
   "outputs": [],
   "source": [
    "casos.pivot_table(index='situacao_contagio',columns='evolucao', values='id', aggfunc='count', margins=True, margins_name='Total').rename(index=situacao_labels,level='situacao_contagio').rename(columns={1:'Recuperados', 2:'Óbitos', 3:'Ativos','Total':'Casos'})[['Casos','Óbitos','Recuperados','Ativos']]"
   ]
  },
  {
   "cell_type": "code",
   "execution_count": null,
   "metadata": {},
   "outputs": [],
   "source": [
    "casos['fx'] = '60+'\n",
    "casos.loc[(casos['idade']>=12)&(casos['idade']<60),'fx'] = '12-59'\n",
    "casos.loc[(casos['idade']<12),'fx'] = '0-12'"
   ]
  },
  {
   "cell_type": "code",
   "execution_count": null,
   "metadata": {},
   "outputs": [],
   "source": [
    "casos[fator_risco_cols]"
   ]
  },
  {
   "cell_type": "code",
   "execution_count": null,
   "metadata": {},
   "outputs": [],
   "source": [
    "fator_risco_table = casos[['id'] + fator_risco_cols]\n",
    "fator_risco_table.set_index('id',inplace=True)\n",
    "del fator_risco_table['outras_morbidades']\n",
    "del fator_risco_table['periodo_gestacao']"
   ]
  },
  {
   "cell_type": "code",
   "execution_count": null,
   "metadata": {},
   "outputs": [],
   "source": [
    "fator_risco = fator_risco_table.transform(lambda x: x == 1)\n",
    "fator_risco = fator_risco.sum(axis=1)\n",
    "fator_risco.name = 'fator_risco'\n",
    "fator_risco = fator_risco.transform(lambda x: 1 if x >= 1 else 0)"
   ]
  },
  {
   "cell_type": "code",
   "execution_count": null,
   "metadata": {},
   "outputs": [],
   "source": [
    "casos = casos.join(fator_risco, on='id')\n",
    "casos.loc[casos['fator_risco'].isna(),fator_risco_table.columns] = 3\n",
    "casos.loc[casos['fator_risco']==3,'fator_risco'] = 0\n",
    "casos['fator_risco'] = casos['fator_risco'].astype(int)"
   ]
  },
  {
   "cell_type": "code",
   "execution_count": null,
   "metadata": {},
   "outputs": [],
   "source": [
    "total = casos.groupby(['situacao_contagio','evolucao'])[['id']].count().unstack(-1).fillna(0).astype(int).droplevel(0,1)\n",
    "total = total.rename(index=situacao_labels, level='situacao_contagio').rename(columns=evolucao_labels, level='evolucao')\n",
    "total['Casos'] = total.sum(1)\n",
    "total.loc['Total',:] = total.sum(0)\n",
    "total = total.astype(int)\n",
    "total = total[['Casos','Óbitos','Recuperados','Ativos']]\n",
    "total"
   ]
  },
  {
   "cell_type": "code",
   "execution_count": null,
   "metadata": {},
   "outputs": [],
   "source": [
    "casos['ano_caso'] = casos['data_diagnostico'].apply(lambda x: x.year if isinstance(x,date) else 'erro')\n",
    "casos['mes_caso'] = casos['data_diagnostico'].apply(lambda x: x.month if isinstance(x,date) else 'erro')"
   ]
  },
  {
   "cell_type": "code",
   "execution_count": null,
   "metadata": {},
   "outputs": [],
   "source": [
    "cc.tables['raca_cor'].set_index('id')['raca_cor'].to_dict()"
   ]
  },
  {
   "cell_type": "code",
   "execution_count": null,
   "metadata": {},
   "outputs": [],
   "source": [
    "casos.loc[casos['raca_cor'].isin([0,6]),'raca_cor'] = 99"
   ]
  },
  {
   "cell_type": "code",
   "execution_count": null,
   "metadata": {},
   "outputs": [],
   "source": [
    "fatores = [ f for f in fator_risco_cols if f not in ['outras_morbidades','periodo_gestacao','gestante_alto_risco','gestante']]\n",
    "\n",
    "casos_fator_risco = casos.loc[(casos['fator_risco']==1)]\n",
    "\n",
    "casos_fator_risco_situacao_contagio = {}\n",
    "\n",
    "for situacao_contagio in sorted(casos_fator_risco['situacao_contagio'].unique()):\n",
    "    fator_risco = casos_fator_risco.loc[casos_fator_risco['situacao_contagio']==situacao_contagio,fatores]\n",
    "    n = len(fator_risco)\n",
    "    fator_risco = fator_risco == 1\n",
    "    fator_risco = fator_risco.sum(axis=0).to_frame(name='Quantidade')\n",
    "    fator_risco['%'] = fator_risco['Quantidade'] / n\n",
    "    # fator_risco['%'] = fator_risco['Quantidade'] / fator_risco['Quantidade'].sum()\n",
    "    fator_risco = fator_risco.sort_values('%',ascending=False)\n",
    "    fator_risco.loc['TOTAL DE ÓBITOS','Quantidade'] = n\n",
    "    casos_fator_risco_situacao_contagio[situacao_contagio] = fator_risco\n",
    "    \n",
    "casos_fator_risco_situacao_contagio = pd.concat(casos_fator_risco_situacao_contagio,names=['situacao_contagio','fator_risco'],axis=1)\n",
    "casos_fator_risco_situacao_contagio.loc['TOTAL DE ÓBITOS',(slice(None),'%')] = (casos_fator_risco_situacao_contagio.loc['TOTAL DE ÓBITOS',(slice(None),'Quantidade')] / casos_fator_risco_situacao_contagio.loc['TOTAL DE ÓBITOS',(slice(None),'Quantidade')].sum()).values\n",
    "casos_fator_risco_situacao_contagio = casos_fator_risco_situacao_contagio.rename(columns=situacao_labels, level='situacao_contagio')\n",
    "casos_fator_risco_situacao_contagio_csv = casos_fator_risco_situacao_contagio.set_axis([f\"{l2} {l1}\" for l1,l2 in casos_fator_risco_situacao_contagio.columns], axis=1)\n",
    "# casos_fator_risco_situacao_contagio_csv.columns = ['Não Vacinados', '% Não Vacinados', 'Com Esquema Primário Incompleto', '% Esquema Primário Incompleto', 'Com Esquema Primário Completo', '% Esquema Primário Completo', 'Com Esquema Primário Completo + Reforço', '% Esquema Primário Completo + Reforço']\n",
    "# casos_fator_risco_situacao_contagio_csv.to_csv(join(default_output,'casos_fator_risco_situacao_contagio.csv'), sep = ';', decimal=',', float_format='%.3f')\n",
    "casos_fator_risco_situacao_contagio_csv"
   ]
  },
  {
   "cell_type": "code",
   "execution_count": null,
   "metadata": {
    "execution": {
     "iopub.execute_input": "2021-12-20T14:38:14.209786Z",
     "iopub.status.busy": "2021-12-20T14:38:14.207816Z",
     "iopub.status.idle": "2021-12-20T14:40:57.151674Z",
     "shell.execute_reply": "2021-12-20T14:40:57.151674Z",
     "shell.execute_reply.started": "2021-12-20T14:38:14.209786Z"
    }
   },
   "outputs": [],
   "source": [
    "cc_vacinados = CasosConfirmados('cc_vacinados')\n",
    "cc_vacinados.df = casos\n",
    "cc_vacinados.save(replace=True)"
   ]
  }
 ],
 "metadata": {
  "kernelspec": {
   "display_name": "Python 3 (ipykernel)",
   "language": "python",
   "name": "python3"
  },
  "language_info": {
   "codemirror_mode": {
    "name": "ipython",
    "version": 3
   },
   "file_extension": ".py",
   "mimetype": "text/x-python",
   "name": "python",
   "nbconvert_exporter": "python",
   "pygments_lexer": "ipython3",
   "version": "3.8.11"
  }
 },
 "nbformat": 4,
 "nbformat_minor": 4
}
