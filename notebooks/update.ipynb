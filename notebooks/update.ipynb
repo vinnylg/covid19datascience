{
 "cells": [
  {
   "cell_type": "code",
   "execution_count": null,
   "metadata": {},
   "outputs": [],
   "source": [
    "def update(self, new_notifica, observed_cols=None):\n",
    "\n",
    "    if observed_cols is None:\n",
    "        observed_cols = set(self.df.columns.tolist()).intersection(new_notifica.df.columns.tolist())\n",
    "        observed_cols.remove('id')\n",
    "        observed_cols = list(observed_cols)        \n",
    "\n",
    "    \n",
    "    novas_notificacoes = new_notifica.df.loc[~new_notifica.df['id'].isin(self.df['id'])].copy().set_index('id')\n",
    "    \n",
    "    print(f\"novas_notificacoes {len(novas_notificacoes)}\")\n",
    "\n",
    "    possiveis_alterados = self.df.loc[self.df['id'].isin(new_notifica.df['id'])].copy()\n",
    "    possiveis_atualizacoes = new_notifica.df.loc[new_notifica.df['id'].isin(self.df['id'])].copy()\n",
    "\n",
    "    mergedf = pd.merge(possiveis_alterados[observed_cols+['id']],possiveis_atualizacoes[observed_cols+['id']],on='id',how='left',suffixes=['_old','_new'])\n",
    "    mergedf['updated'] = False\n",
    "    mergedf['updated_cols'] = ''\n",
    "\n",
    "    for col in observed_cols:\n",
    "        old_col = f'{col}_old'\n",
    "        new_col = f'{col}_new'\n",
    "\n",
    "        criterios = ( ~(mergedf[old_col].isna() & mergedf[new_col].isna()) & (mergedf[old_col]!=mergedf[new_col]) )\n",
    "        # criterios = ( (mergedf[old_col]!=mergedf[new_col]) )\n",
    "\n",
    "        mergedf.loc[ criterios, 'updated_cols' ] = mergedf.loc[ criterios,'updated_cols'].apply( lambda l: utils.strlist(l,col) )\n",
    "        mergedf.loc[ criterios, 'updated' ] = True\n",
    "\n",
    "\n",
    "    self.df = self.df.set_index('id')\n",
    "    self.df = self.df.append(novas_notificacoes)\n",
    "    \n",
    "    mergedf = mergedf.loc[mergedf['updated']==True]\n",
    "\n",
    "    updated_cols = mergedf[['updated_cols','id']].groupby('updated_cols').count().sort_values('id',ascending=False).reset_index()\n",
    "    updated_cols.iloc[0:-1,0] += ','\n",
    "    updated_cols = list(set(updated_cols.sum()[0].split(',')))\n",
    "\n",
    "    for col in updated_cols:\n",
    "        atualizacoes = possiveis_atualizacoes.loc[\n",
    "            (\n",
    "                possiveis_atualizacoes['id'].isin(mergedf.loc[mergedf['updated_cols'].str.contains(col),'id'])\n",
    "            ),\n",
    "            ['id',col]\n",
    "        ].copy().set_index('id')\n",
    "\n",
    "        print(f\"atualizacoes {col}: {len(atualizacoes)}\")\n",
    "        self.df.loc[atualizacoes.index,[col]].update(atualizacoes)\n",
    "\n",
    "    self.df.reset_index(inplace=True)\n",
    "\n",
    "    mergedf.to_pickle(join(self.database_dir,f\"updates_{hoje.strftime('%d_%m_%Y_%H%M')}.pkl\"),'bz2')\n",
    "    return novas_notificacoes, mergedf"
   ]
  }
 ],
 "metadata": {
  "interpreter": {
   "hash": "1cdc22e96f16e7a709941e5164353478df3c5a2dca8a048b5ddcd85bd66dd558"
  },
  "kernelspec": {
   "display_name": "Python 3.8.11 ('base')",
   "language": "python",
   "name": "python3"
  },
  "language_info": {
   "name": "python",
   "version": "3.8.11"
  }
 },
 "nbformat": 4,
 "nbformat_minor": 2
}
