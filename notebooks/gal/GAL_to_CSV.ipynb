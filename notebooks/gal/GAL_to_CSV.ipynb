{
 "cells": [
  {
   "cell_type": "code",
   "execution_count": null,
   "metadata": {},
   "outputs": [],
   "source": [
    "## set covid19_datasciente as path for python find bulletin package\n",
    "import sys\n",
    "from pathlib import Path\n",
    "from os import getcwd\n",
    "from os.path import join, basename\n",
    "\n",
    "sys.path.append(str(Path(getcwd()).parent.parent))"
   ]
  },
  {
   "cell_type": "code",
   "execution_count": null,
   "metadata": {},
   "outputs": [],
   "source": [
    "import numpy as np\n",
    "import pandas as pd\n",
    "import re\n",
    "from unidecode import unidecode\n",
    "from datetime import date, timedelta, datetime\n",
    "from os.path import dirname, join, isfile, isdir\n",
    "from bulletin import default_input, default_output\n",
    "\n",
    "path_file = join('C:\\\\', 'SESA', 'covid19datascience-dev', 'bulletin', 'database', 'gal')\n",
    "pd.set_option('display.max_columns', None)\n",
    "pd.set_option('display.max_rows', 50)"
   ]
  },
  {
   "cell_type": "code",
   "execution_count": null,
   "metadata": {},
   "outputs": [],
   "source": [
    "# COLUNAS DO BANCO DO GAL\n",
    "\n",
    "# Index(['id'0, 'origem_gal'1, 'requisicao'2, 'data_requisicao'3, 'data_solicitacao'4,\n",
    "#         'requisicao_correlativo'5, 'unidade_requisitante'6,\n",
    "#         'unidade_requisitante_municipio'7, 'unidade_requisitante_uf'8, 'paciente'9,\n",
    "#         'cns'10, 'cpf'11, 'nome_mae'12, 'sexo'13, 'data_nascimento'14, 'idade'15,\n",
    "#         'raca_cor'16, 'idade_gestacional'17, 'ibge'18, 'municipio'19, 'latitude'20,\n",
    "#         'longitude'21, 'codigo_regional'22, 'regional'23, 'data_inicio_sintomas'24,\n",
    "#         'cod_exame_requisicao'25, 'data_coleta'26, 'codigo_amostra'27,\n",
    "#         'numero_amostra'28, 'numero_interno'29, 'material_biologico'30,\n",
    "#         'data_encaminhamento_amostra'31, 'data_recebimento_amostra'32,\n",
    "#         'tempo_transporte_amostra'33, 'envio_oportuno'34, 'exame'35, 'metodo'36,\n",
    "#         'resultado'37, 'virus'38, 'data_liberacao'39, 'laboratorio_executor'40,\n",
    "#         'laboratorio_executor_municipio'41, 'correlativo_exame'42,\n",
    "#         'tempo_liberacao'43, 'tempo_diagnostico'44, 'codigo_status'45, 'status'46,\n",
    "#         'classificacao'47],\n",
    "#        dtype='object')]"
   ]
  },
  {
   "cell_type": "code",
   "execution_count": null,
   "metadata": {},
   "outputs": [],
   "source": [
    "gal_2020 = pd.read_pickle(join(path_file, 'banco_gal_2020-bz2.pkl'), compression='bz2')"
   ]
  },
  {
   "cell_type": "code",
   "execution_count": null,
   "metadata": {},
   "outputs": [],
   "source": [
    "gal_2021 = pd.read_pickle(join(path_file, 'banco_gal_2021-bz2.pkl'), compression='bz2')"
   ]
  },
  {
   "cell_type": "code",
   "execution_count": null,
   "metadata": {},
   "outputs": [],
   "source": [
    "gal_complemento = pd.read_csv(join(path_file, 'consulta-gal-complemento.csv'), sep = ';', low_memory=False)"
   ]
  },
  {
   "cell_type": "code",
   "execution_count": null,
   "metadata": {},
   "outputs": [],
   "source": [
    "gal = pd.concat([gal_2020, gal_2021, gal_complemento])"
   ]
  },
  {
   "cell_type": "code",
   "execution_count": null,
   "metadata": {},
   "outputs": [],
   "source": [
    "gal = gal.loc[gal[\"virus\"] == 'Coronavírus SARS-CoV2']\n",
    "gal = gal.loc[gal['unidade_requisitante_uf'] == 'PARANA']\n",
    "gal = gal.loc[gal['regional'] != 'Outra UF']\n",
    "\n",
    "gal.loc[gal['regional'] == '1ª R.S. - Paranaguá', 'regional'] = 'RS01'\n",
    "gal.loc[gal['regional'] == '2ª R.S. - Metropolitana', 'regional'] = 'RS02'\n",
    "gal.loc[gal['regional'] == '3ª R.S. - Ponta Grossa', 'regional'] = 'RS03'\n",
    "gal.loc[gal['regional'] == '4ª R.S. - Irati', 'regional'] = 'RS04'\n",
    "gal.loc[gal['regional'] == '5ª  R.S. - Guarapuava', 'regional'] = 'RS05'\n",
    "gal.loc[gal['regional'] == '6ª R.S. - União da Vitória', 'regional'] = 'RS06'\n",
    "gal.loc[gal['regional'] == '7ª R.S. - Pato Branco', 'regional'] = 'RS07'\n",
    "gal.loc[gal['regional'] == '8ª R.S. - Francisco Beltrão', 'regional'] = 'RS08'\n",
    "gal.loc[gal['regional'] == '9ª R.S. - Foz do Iguaçu', 'regional'] = 'RS09'\n",
    "gal.loc[gal['regional'] == '10ª R.S. - Cascavel', 'regional'] = 'RS10'\n",
    "gal.loc[gal['regional'] == '11ª R.S. - Campo Mourão', 'regional'] = 'RS11'\n",
    "gal.loc[gal['regional'] == '12ª R.S. - Umuarama', 'regional'] = 'RS12'\n",
    "gal.loc[gal['regional'] == '13ª R.S. - Cianorte', 'regional'] = 'RS13'\n",
    "gal.loc[gal['regional'] == '14ª R.S. - Paranavaí', 'regional'] = 'RS14'\n",
    "gal.loc[gal['regional'] == '15ª R.S. - Maringá', 'regional'] = 'RS15'\n",
    "gal.loc[gal['regional'] == '16ª R.S. - Apucarana', 'regional'] = 'RS16'\n",
    "gal.loc[gal['regional'] == '17ª R.S. - Londrina', 'regional'] = 'RS17'\n",
    "gal.loc[gal['regional'] == '18ª R.S. - Cornélio Procópio', 'regional'] = 'RS18'\n",
    "gal.loc[gal['regional'] == '19ª R.S. - Jacarezinho', 'regional'] = 'RS19'\n",
    "gal.loc[gal['regional'] == '20ª R.S. - Toledo', 'regional'] = 'RS20'\n",
    "gal.loc[gal['regional'] == '21ª R.S. - Telêmaco Borba', 'regional'] = 'RS21'\n",
    "gal.loc[gal['regional'] == '22ª R.S. - Ivaiporã', 'regional'] = 'RS22'"
   ]
  },
  {
   "cell_type": "code",
   "execution_count": null,
   "metadata": {},
   "outputs": [],
   "source": [
    "gal.to_csv(join(default_output, 'banco_gal.csv'), index=False, sep=';', encoding='utf-8')"
   ]
  },
  {
   "cell_type": "code",
   "execution_count": null,
   "metadata": {},
   "outputs": [],
   "source": []
  },
  {
   "cell_type": "code",
   "execution_count": null,
   "metadata": {},
   "outputs": [],
   "source": [
    "# fabricio = gal.loc[gal['data_liberacao'] >= '2022-01-01 00:00:00']\n",
    "# fabricio.to_csv(join(default_output, 'banco_gal_2022.csv'), index=False, sep=';', encoding='utf-8')"
   ]
  },
  {
   "cell_type": "code",
   "execution_count": null,
   "metadata": {},
   "outputs": [],
   "source": [
    "# lista = pd.read_excel('pegar.xlsx')\n",
    "\n",
    "# temporario = gal.loc[gal[\"virus\"] == 'Coronavírus SARS-CoV2']\n",
    "# # temporario = temporario.loc[temporario['unidade_requisitante_uf'] == 'PARANA']\n",
    "# # temporario = temporario.loc[temporario['regional'] != 'Outra UF']\n",
    "\n",
    "# resultado = temporario.loc[temporario['requisicao'].isin(lista['requisicao']), ('requisicao','data_nascimento', 'idade', 'virus', 'resultado','unidade_requisitante_uf') ]\n",
    "# resultado.drop_duplicates(subset='requisicao', keep='last', inplace=True)\n",
    "\n",
    "\n",
    "\n",
    "# resultado['data_nascimento'] = resultado['data_nascimento'].str[:10]\n",
    "# resultado['data_nascimento'] = pd.to_datetime(resultado['data_nascimento'], format='%Y-%m-%d', errors='ignore').dt.date\n",
    "# resultado.to_excel('demanda_requisicoes.xlsx', index=False)"
   ]
  }
 ],
 "metadata": {
  "interpreter": {
   "hash": "1cdc22e96f16e7a709941e5164353478df3c5a2dca8a048b5ddcd85bd66dd558"
  },
  "kernelspec": {
   "display_name": "Python 3 (ipykernel)",
   "language": "python",
   "name": "python3"
  },
  "language_info": {
   "codemirror_mode": {
    "name": "ipython",
    "version": 3
   },
   "file_extension": ".py",
   "mimetype": "text/x-python",
   "name": "python",
   "nbconvert_exporter": "python",
   "pygments_lexer": "ipython3",
   "version": "3.8.11"
  }
 },
 "nbformat": 4,
 "nbformat_minor": 4
}
