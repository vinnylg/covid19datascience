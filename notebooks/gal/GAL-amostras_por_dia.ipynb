{
 "cells": [
  {
   "cell_type": "code",
   "execution_count": null,
   "metadata": {
    "execution": {
     "iopub.execute_input": "2021-09-22T14:04:08.532971Z",
     "iopub.status.busy": "2021-09-22T14:04:08.531971Z",
     "iopub.status.idle": "2021-09-22T14:04:08.553985Z",
     "shell.execute_reply": "2021-09-22T14:04:08.550972Z",
     "shell.execute_reply.started": "2021-09-22T14:04:08.531971Z"
    }
   },
   "outputs": [],
   "source": [
    "## set covid19_datasciente as path for python find bulletin package\n",
    "import sys\n",
    "from pathlib import Path\n",
    "from os import getcwd, chdir, remove\n",
    "from os.path import join, basename\n",
    "\n",
    "sys.path.append(str(Path(getcwd()).parent.parent))\n",
    "current_dir = getcwd()\n",
    "print(current_dir)"
   ]
  },
  {
   "cell_type": "code",
   "execution_count": null,
   "metadata": {
    "execution": {
     "iopub.execute_input": "2021-09-22T14:04:08.558352Z",
     "iopub.status.busy": "2021-09-22T14:04:08.557411Z",
     "iopub.status.idle": "2021-09-22T14:04:11.582169Z",
     "shell.execute_reply": "2021-09-22T14:04:11.581145Z",
     "shell.execute_reply.started": "2021-09-22T14:04:08.558352Z"
    }
   },
   "outputs": [],
   "source": [
    "import numpy as np\n",
    "import pandas as pd\n",
    "import re\n",
    "from unidecode import unidecode\n",
    "from datetime import date, timedelta, datetime\n",
    "from os.path import dirname, join, isfile, isdir\n",
    "from bulletin import default_input, default_output\n",
    "from bulletin.utils import utils, static, normalize\n",
    "\n",
    "path_file = join('C:\\\\', 'SESA', 'covid19datascience-dev', 'bulletin', 'database', 'gal')\n",
    "pd.set_option('display.max_columns', None)\n",
    "pd.set_option('display.max_rows', 200)"
   ]
  },
  {
   "cell_type": "code",
   "execution_count": null,
   "metadata": {},
   "outputs": [],
   "source": [
    "\n",
    "utils.create_backup(first_name = \"backup_notifica_diario_\" , level=3)\n",
    "chdir(current_dir)"
   ]
  },
  {
   "cell_type": "code",
   "execution_count": null,
   "metadata": {
    "execution": {
     "iopub.execute_input": "2021-09-22T14:04:11.586146Z",
     "iopub.status.busy": "2021-09-22T14:04:11.585155Z",
     "iopub.status.idle": "2021-09-22T14:04:11.752179Z",
     "shell.execute_reply": "2021-09-22T14:04:11.752179Z",
     "shell.execute_reply.started": "2021-09-22T14:04:11.586146Z"
    }
   },
   "outputs": [],
   "source": [
    "from bulletin.utils.clean_up import clear_directories\n",
    "clear_directories()"
   ]
  },
  {
   "cell_type": "code",
   "execution_count": null,
   "metadata": {
    "execution": {
     "iopub.execute_input": "2021-09-22T14:04:11.752179Z",
     "iopub.status.busy": "2021-09-22T14:04:11.752179Z",
     "iopub.status.idle": "2021-09-22T14:04:11.759400Z",
     "shell.execute_reply": "2021-09-22T14:04:11.758385Z",
     "shell.execute_reply.started": "2021-09-22T14:04:11.752179Z"
    }
   },
   "outputs": [],
   "source": [
    "today = date.today()\n",
    "someday = date(2020, 1, 2)\n",
    "diff = today - someday"
   ]
  },
  {
   "cell_type": "code",
   "execution_count": null,
   "metadata": {
    "execution": {
     "iopub.execute_input": "2021-09-22T14:04:11.761460Z",
     "iopub.status.busy": "2021-09-22T14:04:11.760398Z",
     "iopub.status.idle": "2021-09-22T14:04:11.772387Z",
     "shell.execute_reply": "2021-09-22T14:04:11.772387Z",
     "shell.execute_reply.started": "2021-09-22T14:04:11.761460Z"
    }
   },
   "outputs": [],
   "source": [
    "# COLUNAS DO BANCO DO GAL\n",
    "\n",
    "# Index(['id'0, 'origem_gal'1, 'requisicao'2, 'data_requisicao'3, 'data_solicitacao'4,\n",
    "#         'requisicao_correlativo'5, 'unidade_requisitante'6,\n",
    "#         'unidade_requisitante_municipio'7, 'unidade_requisitante_uf'8, 'paciente'9,\n",
    "#         'cns'10, 'cpf'11, 'nome_mae'12, 'sexo'13, 'data_nascimento'14, 'idade'15,\n",
    "#         'raca_cor'16, 'idade_gestacional'17, 'ibge'18, 'municipio'19, 'latitude'20,\n",
    "#         'longitude'21, 'codigo_regional'22, 'regional'23, 'data_inicio_sintomas'24,\n",
    "#         'cod_exame_requisicao'25, 'data_coleta'26, 'codigo_amostra'27,\n",
    "#         'numero_amostra'28, 'numero_interno'29, 'material_biologico'30,\n",
    "#         'data_encaminhamento_amostra'31, 'data_recebimento_amostra'32,\n",
    "#         'tempo_transporte_amostra'33, 'envio_oportuno'34, 'exame'35, 'metodo'36,\n",
    "#         'resultado'37, 'virus'38, 'data_liberacao'39, 'laboratorio_executor'40,\n",
    "#         'laboratorio_executor_municipio'41, 'correlativo_exame'42,\n",
    "#         'tempo_liberacao'43, 'tempo_diagnostico'44, 'codigo_status'45, 'status'46,\n",
    "#         'classificacao'47],\n",
    "#        dtype='object')]"
   ]
  },
  {
   "cell_type": "code",
   "execution_count": null,
   "metadata": {
    "execution": {
     "iopub.execute_input": "2021-09-22T14:04:11.774401Z",
     "iopub.status.busy": "2021-09-22T14:04:11.773389Z",
     "iopub.status.idle": "2021-09-22T14:04:39.044020Z",
     "shell.execute_reply": "2021-09-22T14:04:39.044020Z",
     "shell.execute_reply.started": "2021-09-22T14:04:11.774401Z"
    }
   },
   "outputs": [],
   "source": [
    "gal_2020 = pd.read_pickle(join(path_file, 'banco_gal_2020-bz2.pkl'), compression='bz2')\n",
    "gal_2020 = gal_2020[['id', 'data_requisicao', 'unidade_requisitante_municipio', 'unidade_requisitante_uf', 'ibge', 'municipio', 'regional', 'exame', 'metodo', 'resultado', 'virus', 'data_liberacao', 'laboratorio_executor', 'status', 'classificacao']]"
   ]
  },
  {
   "cell_type": "code",
   "execution_count": null,
   "metadata": {
    "execution": {
     "iopub.execute_input": "2021-09-22T14:04:39.044020Z",
     "iopub.status.busy": "2021-09-22T14:04:39.044020Z",
     "iopub.status.idle": "2021-09-22T14:05:06.753730Z",
     "shell.execute_reply": "2021-09-22T14:05:06.751721Z",
     "shell.execute_reply.started": "2021-09-22T14:04:39.044020Z"
    }
   },
   "outputs": [],
   "source": [
    "gal_2021 = pd.read_pickle(join(path_file, 'banco_gal_2021-bz2.pkl'), compression='bz2')\n",
    "gal_2021 = gal_2021[['id', 'data_requisicao', 'unidade_requisitante_municipio', 'unidade_requisitante_uf', 'ibge', 'municipio', 'regional', 'exame', 'metodo', 'resultado', 'virus', 'data_liberacao', 'laboratorio_executor', 'status', 'classificacao']]"
   ]
  },
  {
   "cell_type": "code",
   "execution_count": null,
   "metadata": {
    "execution": {
     "iopub.execute_input": "2021-09-22T14:05:06.757731Z",
     "iopub.status.busy": "2021-09-22T14:05:06.755735Z",
     "iopub.status.idle": "2021-09-22T14:05:08.640236Z",
     "shell.execute_reply": "2021-09-22T14:05:08.640236Z",
     "shell.execute_reply.started": "2021-09-22T14:05:06.757731Z"
    }
   },
   "outputs": [],
   "source": [
    "gal_2021_complemento = pd.read_csv(join(path_file, 'consulta-gal-complemento-2021.csv'), sep = ';', usecols=['id', 'data_requisicao', 'unidade_requisitante_municipio', 'unidade_requisitante_uf', 'ibge', 'municipio', 'regional', 'exame', 'metodo', 'resultado', 'virus', 'data_liberacao', 'laboratorio_executor', 'status', 'classificacao'])"
   ]
  },
  {
   "cell_type": "code",
   "execution_count": null,
   "metadata": {
    "execution": {
     "iopub.execute_input": "2021-09-22T14:05:08.642234Z",
     "iopub.status.busy": "2021-09-22T14:05:08.642234Z",
     "iopub.status.idle": "2021-09-22T14:05:10.236521Z",
     "shell.execute_reply": "2021-09-22T14:05:10.236521Z",
     "shell.execute_reply.started": "2021-09-22T14:05:08.642234Z"
    }
   },
   "outputs": [],
   "source": [
    "gal = pd.concat([gal_2020, gal_2021, gal_2021_complemento])"
   ]
  },
  {
   "cell_type": "code",
   "execution_count": null,
   "metadata": {},
   "outputs": [],
   "source": [
    "from epiweeks import Week\n",
    "\n",
    "gal['data_requisicao'] = pd.to_datetime(gal['data_requisicao'])\n",
    "gal['se'] = gal['data_requisicao'].apply(lambda x: Week.fromdate(x).week)\n",
    "gal['ano'] = gal['data_requisicao'].dt.year\n",
    "gal['mes'] = gal['data_requisicao'].dt.month\n",
    "gal['dia'] = gal['data_requisicao'].dt.day"
   ]
  },
  {
   "cell_type": "code",
   "execution_count": null,
   "metadata": {},
   "outputs": [],
   "source": [
    "lab_estado = ['INSTITUTO DE BIOLOGIA MOLECULAR DO PARANA - IBMP','IBMP','INSTITUTO DE BIOLOGIA MOLECULAR DO PARANA','LABORATORIO CENTRAL DO ESTADO','LACEN']\n",
    "gal['laboratorio_executor'] = gal['laboratorio_executor'].apply(normalize.normalize_text)"
   ]
  },
  {
   "cell_type": "code",
   "execution_count": null,
   "metadata": {},
   "outputs": [],
   "source": [
    "amostra_por_dia = gal.loc[gal['laboratorio_executor'].isin(lab_estado)].groupby(['ano','mes','se','dia','classificacao'])[['id']].count().unstack('classificacao').fillna(0).astype(int).droplevel(axis=1, level=0)\n",
    "amostra_por_dia['total'] = amostra_por_dia[['Confirmado','Descartado']].sum(1).astype(int)\n",
    "amostra_por_dia['positividade'] = amostra_por_dia['Confirmado'] / amostra_por_dia['total']\n",
    "amostra_por_dia"
   ]
  },
  {
   "cell_type": "code",
   "execution_count": null,
   "metadata": {},
   "outputs": [],
   "source": [
    "ax = amostra_por_dia[['Confirmado','Descartado', 'total']].rolling(7).mean().plot()\n",
    "amostra_por_dia[['positividade']].rolling(7).mean().plot(secondary_y=True, ax=ax, ls=':', figsize=(20,12))"
   ]
  },
  {
   "cell_type": "code",
   "execution_count": null,
   "metadata": {},
   "outputs": [],
   "source": [
    "amostra_por_dia.to_excel('teste_gal_amostra_positividade_dia.xlsx')"
   ]
  },
  {
   "cell_type": "code",
   "execution_count": null,
   "metadata": {},
   "outputs": [],
   "source": [
    "amostra_por_dia."
   ]
  },
  {
   "cell_type": "code",
   "execution_count": null,
   "metadata": {},
   "outputs": [],
   "source": []
  }
 ],
 "metadata": {
  "interpreter": {
   "hash": "1cdc22e96f16e7a709941e5164353478df3c5a2dca8a048b5ddcd85bd66dd558"
  },
  "kernelspec": {
   "display_name": "Python 3 (ipykernel)",
   "language": "python",
   "name": "python3"
  },
  "language_info": {
   "codemirror_mode": {
    "name": "ipython",
    "version": 3
   },
   "file_extension": ".py",
   "mimetype": "text/x-python",
   "name": "python",
   "nbconvert_exporter": "python",
   "pygments_lexer": "ipython3",
   "version": "3.8.11"
  }
 },
 "nbformat": 4,
 "nbformat_minor": 4
}
