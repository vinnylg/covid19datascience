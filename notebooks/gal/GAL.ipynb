{
 "cells": [
  {
   "cell_type": "code",
   "execution_count": null,
   "metadata": {},
   "outputs": [],
   "source": [
    "import paramiko\n",
    "from os.path import join"
   ]
  },
  {
   "cell_type": "code",
   "execution_count": null,
   "metadata": {},
   "outputs": [],
   "source": [
    "paramiko.util.log_to_file(\"paramiko.log\")"
   ]
  },
  {
   "cell_type": "code",
   "execution_count": null,
   "metadata": {},
   "outputs": [],
   "source": [
    "host = \"10.29.216.206\"\n",
    "port = 22\n",
    "username = \"boletim\"\n",
    "password = \"#sesa#etl\"\n",
    "\n",
    "command = \"cd gal; ./python3 exporta-complemento.py\"\n",
    "\n",
    "ssh = paramiko.SSHClient()\n",
    "ssh.set_missing_host_key_policy(paramiko.AutoAddPolicy())\n",
    "ssh.connect(host, port, username, password)\n",
    "\n",
    "stdin, stdout, stderr = ssh.exec_command(command)\n",
    "lines = stdout.readlines()\n",
    "print(\"\".join(lines))\n",
    "\n",
    "path_file = join('C:\\\\', 'SESA', 'covid19datascience-dev', 'bulletin', 'database', 'gal')\n",
    "remotePath = \"/home/boletim/gal/consulta-gal-complemento.csv\"\n",
    "localPath = join(path_file,'consulta-gal-complemento.csv')\n",
    "\n",
    "## Copy remote file to server        \n",
    "sftp = ssh.open_sftp()\n",
    "sftp.get(remotePath,localPath)\n",
    "\n",
    "##\n",
    "sftp.close()\n",
    "ssh.close()"
   ]
  },
  {
   "cell_type": "code",
   "execution_count": null,
   "metadata": {
    "execution": {
     "iopub.execute_input": "2021-12-20T12:21:50.424604Z",
     "iopub.status.busy": "2021-12-20T12:21:50.424604Z",
     "iopub.status.idle": "2021-12-20T12:21:50.444609Z",
     "shell.execute_reply": "2021-12-20T12:21:50.443676Z",
     "shell.execute_reply.started": "2021-12-20T12:21:50.424604Z"
    }
   },
   "outputs": [],
   "source": [
    "## set covid19_datasciente as path for python find bulletin package\n",
    "import sys\n",
    "from pathlib import Path\n",
    "from os import getcwd, chdir, remove\n",
    "from os.path import join, basename\n",
    "\n",
    "sys.path.append(str(Path(getcwd()).parent.parent))\n",
    "current_dir = getcwd()\n",
    "print(current_dir)"
   ]
  },
  {
   "cell_type": "code",
   "execution_count": null,
   "metadata": {
    "execution": {
     "iopub.execute_input": "2021-12-20T12:21:50.447608Z",
     "iopub.status.busy": "2021-12-20T12:21:50.446660Z",
     "iopub.status.idle": "2021-12-20T12:21:51.279712Z",
     "shell.execute_reply": "2021-12-20T12:21:51.279712Z",
     "shell.execute_reply.started": "2021-12-20T12:21:50.447608Z"
    }
   },
   "outputs": [],
   "source": [
    "import numpy as np\n",
    "import pandas as pd\n",
    "import re\n",
    "from unidecode import unidecode\n",
    "from datetime import date, timedelta, datetime\n",
    "from os.path import dirname, join, isfile, isdir\n",
    "from bulletin import default_input, default_output, hoje\n",
    "from bulletin.utils import utils, static, normalize\n",
    "\n",
    "path_file = join('C:\\\\', 'SESA', 'covid19datascience-dev', 'bulletin', 'database', 'gal')\n",
    "pd.set_option('display.max_columns', None)\n",
    "pd.set_option('display.max_rows', 50)"
   ]
  },
  {
   "cell_type": "code",
   "execution_count": null,
   "metadata": {
    "execution": {
     "iopub.execute_input": "2021-12-20T12:21:51.282688Z",
     "iopub.status.busy": "2021-12-20T12:21:51.282688Z",
     "iopub.status.idle": "2021-12-20T12:21:51.289666Z",
     "shell.execute_reply": "2021-12-20T12:21:51.289666Z",
     "shell.execute_reply.started": "2021-12-20T12:21:51.282688Z"
    }
   },
   "outputs": [],
   "source": [
    "\n",
    "utils.create_backup(first_name = \"backup_notifica_diario_\" , level=3)\n",
    "chdir(current_dir)"
   ]
  },
  {
   "cell_type": "code",
   "execution_count": null,
   "metadata": {
    "execution": {
     "iopub.execute_input": "2021-12-20T12:21:51.291671Z",
     "iopub.status.busy": "2021-12-20T12:21:51.291671Z",
     "iopub.status.idle": "2021-12-20T12:21:51.310667Z",
     "shell.execute_reply": "2021-12-20T12:21:51.309666Z",
     "shell.execute_reply.started": "2021-12-20T12:21:51.291671Z"
    }
   },
   "outputs": [],
   "source": [
    "from bulletin.utils.clean_up import clear_directories\n",
    "clear_directories()"
   ]
  },
  {
   "cell_type": "code",
   "execution_count": null,
   "metadata": {
    "execution": {
     "iopub.execute_input": "2021-12-20T12:21:51.312665Z",
     "iopub.status.busy": "2021-12-20T12:21:51.311664Z",
     "iopub.status.idle": "2021-12-20T12:21:51.318674Z",
     "shell.execute_reply": "2021-12-20T12:21:51.317670Z",
     "shell.execute_reply.started": "2021-12-20T12:21:51.312665Z"
    }
   },
   "outputs": [],
   "source": [
    "today = date.today()\n",
    "someday = date(2020, 1, 2)\n",
    "diff = today - someday"
   ]
  },
  {
   "cell_type": "code",
   "execution_count": null,
   "metadata": {
    "execution": {
     "iopub.execute_input": "2021-12-20T12:21:51.319665Z",
     "iopub.status.busy": "2021-12-20T12:21:51.319665Z",
     "iopub.status.idle": "2021-12-20T12:21:51.332659Z",
     "shell.execute_reply": "2021-12-20T12:21:51.331660Z",
     "shell.execute_reply.started": "2021-12-20T12:21:51.319665Z"
    }
   },
   "outputs": [],
   "source": [
    "# COLUNAS DO BANCO DO GAL\n",
    "\n",
    "# Index(['id'0, 'origem_gal'1, 'requisicao'2, 'data_requisicao'3, 'data_solicitacao'4,\n",
    "#         'requisicao_correlativo'5, 'unidade_requisitante'6,\n",
    "#         'unidade_requisitante_municipio'7, 'unidade_requisitante_uf'8, 'paciente'9,\n",
    "#         'cns'10, 'cpf'11, 'nome_mae'12, 'sexo'13, 'data_nascimento'14, 'idade'15,\n",
    "#         'raca_cor'16, 'idade_gestacional'17, 'ibge'18, 'municipio'19, 'latitude'20,\n",
    "#         'longitude'21, 'codigo_regional'22, 'regional'23, 'data_inicio_sintomas'24,\n",
    "#         'cod_exame_requisicao'25, 'data_coleta'26, 'codigo_amostra'27,\n",
    "#         'numero_amostra'28, 'numero_interno'29, 'material_biologico'30,\n",
    "#         'data_encaminhamento_amostra'31, 'data_recebimento_amostra'32,\n",
    "#         'tempo_transporte_amostra'33, 'envio_oportuno'34, 'exame'35, 'metodo'36,\n",
    "#         'resultado'37, 'virus'38, 'data_liberacao'39, 'laboratorio_executor'40,\n",
    "#         'laboratorio_executor_municipio'41, 'correlativo_exame'42,\n",
    "#         'tempo_liberacao'43, 'tempo_diagnostico'44, 'codigo_status'45, 'status'46,\n",
    "#         'classificacao'47],\n",
    "#        dtype='object')]"
   ]
  },
  {
   "cell_type": "code",
   "execution_count": null,
   "metadata": {
    "execution": {
     "iopub.execute_input": "2021-12-20T12:21:51.333659Z",
     "iopub.status.busy": "2021-12-20T12:21:51.333659Z",
     "iopub.status.idle": "2021-12-20T12:22:25.755648Z",
     "shell.execute_reply": "2021-12-20T12:22:25.754648Z",
     "shell.execute_reply.started": "2021-12-20T12:21:51.333659Z"
    }
   },
   "outputs": [],
   "source": [
    "gal_2020 = pd.read_pickle(join(path_file, 'banco_gal_2020-bz2.pkl'), compression='bz2')\n",
    "gal_2020 = gal_2020[['id', 'data_requisicao', 'unidade_requisitante_municipio', 'unidade_requisitante_uf', 'ibge', 'municipio', 'regional', 'exame', 'metodo', 'resultado', 'virus', 'data_liberacao', 'laboratorio_executor', 'status', 'classificacao']]\n",
    "# gal_2020[['id', 'data_requisicao']].groupby('data_requisicao').count().sort_values('data_requisicao')"
   ]
  },
  {
   "cell_type": "code",
   "execution_count": null,
   "metadata": {
    "execution": {
     "iopub.execute_input": "2021-12-20T12:22:25.756625Z",
     "iopub.status.busy": "2021-12-20T12:22:25.756625Z",
     "iopub.status.idle": "2021-12-20T12:23:32.701597Z",
     "shell.execute_reply": "2021-12-20T12:23:32.701597Z",
     "shell.execute_reply.started": "2021-12-20T12:22:25.756625Z"
    }
   },
   "outputs": [],
   "source": [
    "gal_2021 = pd.read_pickle(join(path_file, 'banco_gal_2021-bz2.pkl'), compression='bz2')\n",
    "gal_2021 = gal_2021[['id', 'data_requisicao', 'unidade_requisitante_municipio', 'unidade_requisitante_uf', 'ibge', 'municipio', 'regional', 'exame', 'metodo', 'resultado', 'virus', 'data_liberacao', 'laboratorio_executor', 'status', 'classificacao']]\n",
    "gal_2021[['id', 'data_requisicao']].groupby('data_requisicao').count().sort_values('data_requisicao')"
   ]
  },
  {
   "cell_type": "code",
   "execution_count": null,
   "metadata": {
    "execution": {
     "iopub.execute_input": "2021-12-20T12:23:32.704004Z",
     "iopub.status.busy": "2021-12-20T12:23:32.702604Z",
     "iopub.status.idle": "2021-12-20T12:23:37.881129Z",
     "shell.execute_reply": "2021-12-20T12:23:37.880255Z",
     "shell.execute_reply.started": "2021-12-20T12:23:32.704004Z"
    }
   },
   "outputs": [],
   "source": [
    "gal_complemento = pd.read_csv(join(path_file, 'consulta-gal-complemento.csv'), sep = ';', usecols=['id', 'data_requisicao', 'unidade_requisitante_municipio', 'unidade_requisitante_uf', 'ibge', 'municipio', 'regional', 'exame', 'metodo', 'resultado', 'virus', 'data_liberacao', 'laboratorio_executor', 'status', 'classificacao'])\n",
    "gal_complemento[['id', 'data_requisicao']].groupby('data_requisicao').count().sort_values('data_requisicao')"
   ]
  },
  {
   "cell_type": "code",
   "execution_count": null,
   "metadata": {
    "execution": {
     "iopub.execute_input": "2021-12-20T12:23:37.882134Z",
     "iopub.status.busy": "2021-12-20T12:23:37.882134Z",
     "iopub.status.idle": "2021-12-20T12:23:39.915143Z",
     "shell.execute_reply": "2021-12-20T12:23:39.915143Z",
     "shell.execute_reply.started": "2021-12-20T12:23:37.882134Z"
    }
   },
   "outputs": [],
   "source": [
    "# gal = pd.concat([gal_2020, gal_2021])\n",
    "gal = pd.concat([gal_2020, gal_2021, gal_complemento])\n",
    "# gal[['id', 'data_requisicao']].groupby('data_requisicao').count().sort_values('data_requisicao')"
   ]
  },
  {
   "cell_type": "code",
   "execution_count": null,
   "metadata": {
    "execution": {
     "iopub.execute_input": "2021-12-20T12:23:39.915143Z",
     "iopub.status.busy": "2021-12-20T12:23:39.915143Z",
     "iopub.status.idle": "2021-12-20T12:23:42.852648Z",
     "shell.execute_reply": "2021-12-20T12:23:42.852648Z",
     "shell.execute_reply.started": "2021-12-20T12:23:39.915143Z"
    }
   },
   "outputs": [],
   "source": [
    "boletim = gal.loc[gal[\"virus\"] == 'Coronavírus SARS-CoV2']\n",
    "# boletim = boletim.loc[boletim['unidade_requisitante_uf'] == 'PARANA']"
   ]
  },
  {
   "cell_type": "code",
   "execution_count": null,
   "metadata": {
    "execution": {
     "iopub.execute_input": "2021-12-20T12:23:42.852648Z",
     "iopub.status.busy": "2021-12-20T12:23:42.852648Z",
     "iopub.status.idle": "2021-12-20T12:23:43.688365Z",
     "shell.execute_reply": "2021-12-20T12:23:43.687363Z",
     "shell.execute_reply.started": "2021-12-20T12:23:42.852648Z"
    }
   },
   "outputs": [],
   "source": [
    "notificados = boletim[['id', 'status']].groupby('status').count().reset_index()"
   ]
  },
  {
   "cell_type": "code",
   "execution_count": null,
   "metadata": {
    "execution": {
     "iopub.execute_input": "2021-12-20T12:23:43.690345Z",
     "iopub.status.busy": "2021-12-20T12:23:43.690345Z",
     "iopub.status.idle": "2021-12-20T12:23:46.155706Z",
     "shell.execute_reply": "2021-12-20T12:23:46.155706Z",
     "shell.execute_reply.started": "2021-12-20T12:23:43.690345Z"
    }
   },
   "outputs": [],
   "source": [
    "descartado = boletim.loc[boletim['classificacao'] == 'Descartado']\n",
    "descartado = descartado[['id', 'ibge', 'municipio', 'regional']].groupby(['ibge', 'municipio', 'regional']).count().reset_index()\n",
    "descartado = descartado.rename(columns={'id':'Descartado'})\n",
    "# descartado"
   ]
  },
  {
   "cell_type": "code",
   "execution_count": null,
   "metadata": {
    "execution": {
     "iopub.execute_input": "2021-12-20T12:23:46.155706Z",
     "iopub.status.busy": "2021-12-20T12:23:46.155706Z",
     "iopub.status.idle": "2021-12-20T12:23:47.488221Z",
     "shell.execute_reply": "2021-12-20T12:23:47.488221Z",
     "shell.execute_reply.started": "2021-12-20T12:23:46.155706Z"
    }
   },
   "outputs": [],
   "source": [
    "confirmado = boletim.loc[boletim['classificacao'] == 'Confirmado']\n",
    "confirmado = confirmado[['id', 'ibge', 'municipio', 'regional']].groupby(['ibge', 'municipio', 'regional']).count().reset_index()\n",
    "confirmado = confirmado.rename(columns={'id':'Confirmado'})\n",
    "# confirmado"
   ]
  },
  {
   "cell_type": "code",
   "execution_count": null,
   "metadata": {
    "execution": {
     "iopub.execute_input": "2021-12-20T12:23:47.488221Z",
     "iopub.status.busy": "2021-12-20T12:23:47.488221Z",
     "iopub.status.idle": "2021-12-20T12:23:47.967786Z",
     "shell.execute_reply": "2021-12-20T12:23:47.967786Z",
     "shell.execute_reply.started": "2021-12-20T12:23:47.488221Z"
    }
   },
   "outputs": [],
   "source": [
    "# em_analise = gal.loc[gal['unidade_requisitante_uf'] == 'PARANA']\n",
    "em_analise = gal.loc[gal['classificacao'] == 'Em investigação']\n",
    "em_analise = em_analise[['id', 'ibge', 'municipio','regional']].groupby(['ibge','municipio', 'regional']).count().reset_index()\n",
    "em_analise = em_analise.rename(columns={'id':'Em investigação'})"
   ]
  },
  {
   "cell_type": "code",
   "execution_count": null,
   "metadata": {
    "execution": {
     "iopub.execute_input": "2021-12-20T12:23:47.969783Z",
     "iopub.status.busy": "2021-12-20T12:23:47.969783Z",
     "iopub.status.idle": "2021-12-20T12:23:48.568677Z",
     "shell.execute_reply": "2021-12-20T12:23:48.568677Z",
     "shell.execute_reply.started": "2021-12-20T12:23:47.969783Z"
    }
   },
   "outputs": [],
   "source": [
    "# em_triagem = gal.loc[gal['unidade_requisitante_uf'] == 'PARANA']\n",
    "em_triagem = gal.loc[gal['classificacao'] == 'Em triagem']\n",
    "em_triagem = em_triagem[['id', 'ibge', 'municipio','regional']].groupby(['ibge', 'municipio', 'regional']).count().reset_index()\n",
    "em_triagem = em_triagem.rename(columns={'id':'Em triagem'})"
   ]
  },
  {
   "cell_type": "code",
   "execution_count": null,
   "metadata": {
    "execution": {
     "iopub.execute_input": "2021-12-20T12:23:48.568677Z",
     "iopub.status.busy": "2021-12-20T12:23:48.568677Z",
     "iopub.status.idle": "2021-12-20T12:23:49.257128Z",
     "shell.execute_reply": "2021-12-20T12:23:49.257128Z",
     "shell.execute_reply.started": "2021-12-20T12:23:48.568677Z"
    }
   },
   "outputs": [],
   "source": [
    "nao_realizado = gal.loc[gal['classificacao'] == 'Não realizado']\n",
    "nao_realizado = nao_realizado[['id', 'ibge', 'municipio','regional']].groupby(['ibge', 'municipio', 'regional']).count().reset_index()\n",
    "nao_realizado = nao_realizado.rename(columns={'id':'Não realizado'})"
   ]
  },
  {
   "cell_type": "code",
   "execution_count": null,
   "metadata": {
    "execution": {
     "iopub.execute_input": "2021-12-20T12:23:49.257128Z",
     "iopub.status.busy": "2021-12-20T12:23:49.257128Z",
     "iopub.status.idle": "2021-12-20T12:23:49.297756Z",
     "shell.execute_reply": "2021-12-20T12:23:49.297756Z",
     "shell.execute_reply.started": "2021-12-20T12:23:49.257128Z"
    }
   },
   "outputs": [],
   "source": [
    "tabela = pd.DataFrame()\n",
    "tabela = pd.merge(left=descartado, right=em_analise, how='left', on=['ibge', 'municipio', 'regional'])\n",
    "tabela = pd.merge(left=tabela, right=confirmado, how='left', on=['ibge', 'municipio', 'regional'])\n",
    "tabela = pd.merge(left=tabela, right=em_triagem, how='left', on=['ibge', 'municipio', 'regional'])\n",
    "tabela = pd.merge(left=tabela, right=nao_realizado, how='left', on=['ibge', 'municipio', 'regional'])"
   ]
  },
  {
   "cell_type": "code",
   "execution_count": null,
   "metadata": {
    "execution": {
     "iopub.execute_input": "2021-12-20T12:23:49.299739Z",
     "iopub.status.busy": "2021-12-20T12:23:49.298737Z",
     "iopub.status.idle": "2021-12-20T12:23:49.327740Z",
     "shell.execute_reply": "2021-12-20T12:23:49.327740Z",
     "shell.execute_reply.started": "2021-12-20T12:23:49.299739Z"
    }
   },
   "outputs": [],
   "source": [
    "tabela['ibge'] = tabela['ibge'].fillna(0).astype('int')\n",
    "tabela['Descartado'] = tabela['Descartado'].fillna(0).astype('int')\n",
    "tabela['Em investigação'] = tabela['Em investigação'].fillna(0).astype('int')\n",
    "tabela['Confirmado'] = tabela['Confirmado'].fillna(0).astype('int')\n",
    "tabela['Em triagem'] = tabela['Em triagem'].fillna(0).astype('int')\n",
    "tabela['Não realizado'] = tabela['Não realizado'].fillna(0).astype('int')\n",
    "\n",
    "tabela.loc[tabela['regional'] == 'Outra UF', 'ibge'] = 999999\n",
    "\n",
    "tabela = tabela.rename(columns={'ibge':'IBGE', 'municipio':'Municipio', 'regional':'Regional'})\n",
    "tabela"
   ]
  },
  {
   "cell_type": "code",
   "execution_count": null,
   "metadata": {
    "execution": {
     "iopub.execute_input": "2021-12-20T12:23:49.329740Z",
     "iopub.status.busy": "2021-12-20T12:23:49.328746Z",
     "iopub.status.idle": "2021-12-20T12:23:49.353746Z",
     "shell.execute_reply": "2021-12-20T12:23:49.353746Z",
     "shell.execute_reply.started": "2021-12-20T12:23:49.329740Z"
    }
   },
   "outputs": [],
   "source": [
    "tabela.to_csv(join(default_output, 'enviar_celepar', 'CORONAVIRUS.analise.csv'), index=False, sep=';', encoding='utf-8-sig')"
   ]
  },
  {
   "cell_type": "code",
   "execution_count": null,
   "metadata": {
    "execution": {
     "iopub.execute_input": "2021-12-20T12:23:49.355747Z",
     "iopub.status.busy": "2021-12-20T12:23:49.354751Z",
     "iopub.status.idle": "2021-12-20T12:23:49.377744Z",
     "shell.execute_reply": "2021-12-20T12:23:49.377744Z",
     "shell.execute_reply.started": "2021-12-20T12:23:49.355747Z"
    }
   },
   "outputs": [],
   "source": [
    "adicionar_gal = tabela.rename(columns={'Em investigação':'Em_investigacao','Em triagem':'Em_triagem','Não realizado':'Nao_realizado'})\n",
    "adicionar_gal = adicionar_gal.sort_values('Descartado', ascending=False)\n",
    "adicionar_gal.to_csv(join(default_input,'Adicionar_GAL.csv'), index=False, sep=';', encoding='utf-8-sig')"
   ]
  },
  {
   "cell_type": "code",
   "execution_count": null,
   "metadata": {
    "execution": {
     "iopub.execute_input": "2021-12-20T12:23:49.379747Z",
     "iopub.status.busy": "2021-12-20T12:23:49.378753Z",
     "iopub.status.idle": "2021-12-20T12:23:50.522505Z",
     "shell.execute_reply": "2021-12-20T12:23:50.522505Z",
     "shell.execute_reply.started": "2021-12-20T12:23:49.379747Z"
    }
   },
   "outputs": [],
   "source": [
    "laboratorios = boletim[['id', 'laboratorio_executor']].groupby('laboratorio_executor').count().reset_index()\n",
    "laboratorios = laboratorios.sort_values('id', ascending=False)\n",
    "laboratorios = laboratorios.rename(columns={'id':'qtde'})\n",
    "laboratorios.to_csv(join(default_output, 'dash', 'Laboratorios.csv'), index=False, sep=';', encoding='utf-8')"
   ]
  },
  {
   "cell_type": "code",
   "execution_count": null,
   "metadata": {
    "execution": {
     "iopub.execute_input": "2021-12-20T12:23:50.522505Z",
     "iopub.status.busy": "2021-12-20T12:23:50.522505Z",
     "iopub.status.idle": "2021-12-20T12:23:51.485203Z",
     "shell.execute_reply": "2021-12-20T12:23:51.484182Z",
     "shell.execute_reply.started": "2021-12-20T12:23:50.522505Z"
    }
   },
   "outputs": [],
   "source": [
    "soma = pd.DataFrame(tabela.sum(0)).transpose()\n",
    "print('Quantidade de dias que DEVERIA TER = ', diff.days-12)\n",
    "print('Quantidade de dias ENCONTRADOS = ', len(gal[['id', 'data_requisicao']].groupby('data_requisicao').count()))\n",
    "print('\\n')\n",
    "print('NOTIFICADOS = ',  re.sub(r'(?<!^)(?=(\\d{3})+$)', r'.', str(notificados['id'].values[0])))\n",
    "print('REALIZADOS = ', re.sub(r'(?<!^)(?=(\\d{3})+$)', r'.',str(tabela[['Descartado', 'Em investigação', 'Confirmado']].sum(0).sum(0))))\n",
    "print('CONFIRMADO = ',  re.sub(r'(?<!^)(?=(\\d{3})+$)', r'.', str(soma['Confirmado'].values[0])))\n",
    "print('NEGATIVOS = ',  re.sub(r'(?<!^)(?=(\\d{3})+$)', r'.',str(soma['Descartado'].values[0])))\n",
    "print('EM INVESTIGAÇÃO = ',  re.sub(r'(?<!^)(?=(\\d{3})+$)', r'.',str(soma['Em investigação'].values[0])))"
   ]
  },
  {
   "cell_type": "code",
   "execution_count": null,
   "metadata": {
    "execution": {
     "iopub.execute_input": "2021-12-20T12:23:51.486184Z",
     "iopub.status.busy": "2021-12-20T12:23:51.486184Z",
     "iopub.status.idle": "2021-12-20T12:23:51.504188Z",
     "shell.execute_reply": "2021-12-20T12:23:51.502212Z",
     "shell.execute_reply.started": "2021-12-20T12:23:51.486184Z"
    },
    "tags": []
   },
   "outputs": [],
   "source": [
    "dados_gal = pd.DataFrame([notificados['id'].values[0], tabela[['Descartado', 'Em investigação', 'Confirmado']].sum(0).sum(0), soma['Confirmado'].values[0], soma['Descartado'].values[0], soma['Em investigação'].values[0]], columns=['count'])\n",
    "# testes.to_csv(join(default_output,'enviar_celepar','CORONAVIRUS.testes.csv'), index=False, sep=';', encoding='utf-8-sig')\n",
    "dados_gal.to_csv(join(default_input,'dados_gal.csv'), index=False, sep=';', encoding='utf-8')"
   ]
  },
  {
   "cell_type": "code",
   "execution_count": null,
   "metadata": {},
   "outputs": [],
   "source": [
    "# gal['data_requisicao'] = pd.to_datetime(gal['data_requisicao'].str[:10])\n",
    "# gal_mes = gal.groupby([gal['data_requisicao'].rename('ano').dt.year,gal['data_requisicao'].rename('mes').dt.month,'ibge'])[['id']].count()\n",
    "# gal_mes['rank'] = gal_mes['id'].rank(ascending=False)\n",
    "# gal_mes = gal_mes.rename(index={i+1:n for i,n in enumerate(static.meses)}, level=1)\n",
    "# gal_mes['rank'] = gal_mes['rank'].astype(int)\n",
    "# gal_mes = gal_mes[['id','rank']].rename(columns={'id':'quantidade'})\n",
    "# gal_mes.reset_index().to_excel('rank_quantidade_rt_pcr_mes.xlsx', index=False)"
   ]
  },
  {
   "cell_type": "code",
   "execution_count": null,
   "metadata": {},
   "outputs": [],
   "source": [
    "# gal['data_requisicao'] = pd.to_datetime(gal['data_requisicao'].str[:10])"
   ]
  },
  {
   "cell_type": "code",
   "execution_count": null,
   "metadata": {},
   "outputs": [],
   "source": [
    "# gal = gal.loc[gal['ibge'].apply(str).str[:2]=='41']\n",
    "# gal['ibge'] = gal['ibge'].apply(str).str[:6].apply(int)"
   ]
  },
  {
   "cell_type": "code",
   "execution_count": null,
   "metadata": {},
   "outputs": [],
   "source": [
    "# gal_por_mun = gal.loc[gal['data_requisicao'] >= (hoje - timedelta(7))].groupby(['ibge'])[['id']].count()"
   ]
  },
  {
   "cell_type": "code",
   "execution_count": null,
   "metadata": {},
   "outputs": [],
   "source": [
    "# gal['ibge'] = gal['ibge'].apply(str).str[:6].apply(int)"
   ]
  },
  {
   "cell_type": "code",
   "execution_count": null,
   "metadata": {},
   "outputs": [],
   "source": [
    "# gal_por_mun['rank'] = gal_por_mun['id'].rank(ascending=False)"
   ]
  },
  {
   "cell_type": "code",
   "execution_count": null,
   "metadata": {},
   "outputs": [],
   "source": [
    "# from bulletin.systems import CasosConfirmados\n",
    "# cc = CasosConfirmados()\n",
    "# municipios = cc.tables['municipios'].set_index('ibge')\n",
    "# gal_por_mun = gal_por_mun.sort_values('rank').join(municipios[['rs','municipio']])\n",
    "# gal_por_mun"
   ]
  },
  {
   "cell_type": "code",
   "execution_count": null,
   "metadata": {},
   "outputs": [],
   "source": [
    "# gal_por_mun = gal_por_mun[['rs','municipio','id']].rename(columns={'id':'qtde'})\n",
    "# gal_por_mun"
   ]
  },
  {
   "cell_type": "code",
   "execution_count": null,
   "metadata": {},
   "outputs": [],
   "source": [
    "# gal_por_mun.to_excel('gal_por_mun_06ao13_01_2022.xlsx')"
   ]
  }
 ],
 "metadata": {
  "interpreter": {
   "hash": "1cdc22e96f16e7a709941e5164353478df3c5a2dca8a048b5ddcd85bd66dd558"
  },
  "kernelspec": {
   "display_name": "Python 3 (ipykernel)",
   "language": "python",
   "name": "python3"
  },
  "language_info": {
   "codemirror_mode": {
    "name": "ipython",
    "version": 3
   },
   "file_extension": ".py",
   "mimetype": "text/x-python",
   "name": "python",
   "nbconvert_exporter": "python",
   "pygments_lexer": "ipython3",
   "version": "3.8.11"
  }
 },
 "nbformat": 4,
 "nbformat_minor": 4
}
