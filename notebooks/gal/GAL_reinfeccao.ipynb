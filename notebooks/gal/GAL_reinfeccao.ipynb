{
 "cells": [
  {
   "cell_type": "code",
   "execution_count": null,
   "metadata": {},
   "outputs": [],
   "source": [
    "## set covid19_datasciente as path for python find bulletin package\n",
    "import sys\n",
    "from pathlib import Path\n",
    "from os import getcwd\n",
    "from os.path import join, basename\n",
    "\n",
    "sys.path.append(str(Path(getcwd()).parent.parent))"
   ]
  },
  {
   "cell_type": "code",
   "execution_count": null,
   "metadata": {},
   "outputs": [],
   "source": [
    "import numpy as np\n",
    "import pandas as pd\n",
    "import re\n",
    "from unidecode import unidecode\n",
    "from datetime import date, timedelta, datetime\n",
    "from os.path import dirname, join, isfile, isdir\n",
    "from bulletin import default_input, default_output\n",
    "\n",
    "path_file = join('C:\\\\', 'SESA', 'covid19datascience-dev', 'bulletin', 'database', 'gal')\n",
    "pd.set_option('display.max_columns', None)\n",
    "pd.set_option('display.max_rows', 50)"
   ]
  },
  {
   "cell_type": "code",
   "execution_count": null,
   "metadata": {},
   "outputs": [],
   "source": [
    "# COLUNAS DO BANCO DO GAL\n",
    "\n",
    "# Index(['id'0, 'origem_gal'1, 'requisicao'2, 'data_requisicao'3, 'data_solicitacao'4,\n",
    "#         'requisicao_correlativo'5, 'unidade_requisitante'6,\n",
    "#         'unidade_requisitante_municipio'7, 'unidade_requisitante_uf'8, 'paciente'9,\n",
    "#         'cns'10, 'cpf'11, 'nome_mae'12, 'sexo'13, 'data_nascimento'14, 'idade'15,\n",
    "#         'raca_cor'16, 'idade_gestacional'17, 'ibge'18, 'municipio'19, 'latitude'20,\n",
    "#         'longitude'21, 'codigo_regional'22, 'regional'23, 'data_inicio_sintomas'24,\n",
    "#         'cod_exame_requisicao'25, 'data_coleta'26, 'codigo_amostra'27,\n",
    "#         'numero_amostra'28, 'numero_interno'29, 'material_biologico'30,\n",
    "#         'data_encaminhamento_amostra'31, 'data_recebimento_amostra'32,\n",
    "#         'tempo_transporte_amostra'33, 'envio_oportuno'34, 'exame'35, 'metodo'36,\n",
    "#         'resultado'37, 'virus'38, 'data_liberacao'39, 'laboratorio_executor'40,\n",
    "#         'laboratorio_executor_municipio'41, 'correlativo_exame'42,\n",
    "#         'tempo_liberacao'43, 'tempo_diagnostico'44, 'codigo_status'45, 'status'46,\n",
    "#         'classificacao'47],\n",
    "#        dtype='object')]"
   ]
  },
  {
   "cell_type": "code",
   "execution_count": null,
   "metadata": {},
   "outputs": [],
   "source": [
    "gal_2020 = pd.read_pickle(join(path_file, 'banco_gal_2020-bz2.pkl'), compression='bz2')\n",
    "gal_2020 = gal_2020[['id', 'data_requisicao', 'paciente', 'cns', 'cpf', 'nome_mae', 'sexo', 'idade', 'municipio', 'regional', 'exame', 'metodo', 'resultado', 'virus', 'data_liberacao', 'laboratorio_executor', 'status', 'classificacao']]"
   ]
  },
  {
   "cell_type": "code",
   "execution_count": null,
   "metadata": {},
   "outputs": [],
   "source": [
    "gal_2021 = pd.read_pickle(join(path_file, 'banco_gal_2021-bz2.pkl'), compression='bz2')\n",
    "gal_2021 = gal_2020[['id', 'data_requisicao', 'paciente', 'cns', 'cpf', 'nome_mae', 'sexo', 'idade', 'municipio', 'regional', 'exame', 'metodo', 'resultado', 'virus', 'data_liberacao', 'laboratorio_executor', 'status', 'classificacao']]"
   ]
  },
  {
   "cell_type": "code",
   "execution_count": null,
   "metadata": {},
   "outputs": [],
   "source": [
    "gal_complemento = pd.read_csv(join(path_file, 'consulta-gal-complemento.csv'), sep = ';', usecols=['id', 'data_requisicao', 'paciente', 'cns', 'cpf', 'nome_mae', 'sexo', 'idade', 'municipio', 'regional', 'exame', 'metodo', 'resultado', 'virus', 'data_liberacao', 'laboratorio_executor', 'status', 'classificacao'])"
   ]
  },
  {
   "cell_type": "code",
   "execution_count": null,
   "metadata": {},
   "outputs": [],
   "source": [
    "gal = pd.concat([gal_2020, gal_2021, gal_2021_complemento])\n",
    "gal[['id', 'data_requisicao']].groupby('data_requisicao').count().sort_values('data_requisicao')"
   ]
  },
  {
   "cell_type": "code",
   "execution_count": null,
   "metadata": {},
   "outputs": [],
   "source": [
    "boletim = gal.loc[gal['virus'] == 'Coronavírus SARS-CoV2']\n",
    "boletim = boletim.loc[boletim['resultado'] == 'Detectável']\n",
    "# boletim = boletim.loc[boletim['unidade_requisitante_uf'] == 'PARANA']"
   ]
  },
  {
   "cell_type": "code",
   "execution_count": null,
   "metadata": {},
   "outputs": [],
   "source": [
    "# CPF não nulo\n",
    "cpf_nao_nulo = boletim.loc[boletim['cpf'].notna()]\n",
    "\n",
    "# CPF nulo, mas que contenha CNS\n",
    "cpf_nulo = boletim.loc[boletim['cpf'].isna()]\n",
    "cpf_nulo = cpf_nulo.loc[cpf_nulo['cns'].notna()]"
   ]
  },
  {
   "cell_type": "code",
   "execution_count": null,
   "metadata": {},
   "outputs": [],
   "source": [
    "duplicados_cpf = cpf_nao_nulo.copy()\n",
    "duplicados_cns = cpf_nulo.copy()"
   ]
  },
  {
   "cell_type": "code",
   "execution_count": null,
   "metadata": {},
   "outputs": [],
   "source": [
    "duplicados_cpf = duplicados_cpf.loc[duplicados_cpf.duplicated(subset=['cpf'], keep=False)]\n",
    "duplicados_cns = duplicados_cns.loc[duplicados_cns.duplicated(subset=['cns'], keep=False)]"
   ]
  },
  {
   "cell_type": "code",
   "execution_count": null,
   "metadata": {},
   "outputs": [],
   "source": [
    "searched_date = 'data_requisicao'"
   ]
  },
  {
   "cell_type": "code",
   "execution_count": null,
   "metadata": {},
   "outputs": [],
   "source": [
    "duplicados_cpf[searched_date] = pd.to_datetime(duplicados_cpf[searched_date], format='%Y-%m-%d', errors='coerce')\n",
    "duplicados_cns[searched_date] = pd.to_datetime(duplicados_cns[searched_date], format='%Y-%m-%d', errors='coerce')\n",
    "\n",
    "duplicados_cpf = duplicados_cpf.sort_values(searched_date, ascending=True)\n",
    "duplicados_cns = duplicados_cns.sort_values(searched_date, ascending=True)"
   ]
  },
  {
   "cell_type": "code",
   "execution_count": null,
   "metadata": {},
   "outputs": [],
   "source": [
    "exame_temp = pd.DataFrame()\n",
    "temporario = pd.DataFrame()\n",
    "reinfeccao_cpf = pd.DataFrame()\n",
    "reinfeccao_cns = pd.DataFrame()\n",
    "\n",
    "cpf_unico = duplicados_cpf['cpf'].unique()\n",
    "cns_unico = duplicados_cns['cns'].unique()\n",
    "print('CPFs únicos encontrados = ', len(cpf_unico))\n",
    "print('CNSs únicos encontrados = ', len(cns_unico))"
   ]
  },
  {
   "cell_type": "code",
   "execution_count": null,
   "metadata": {
    "tags": []
   },
   "outputs": [],
   "source": [
    "# for i,paciente in enumerate(cpf_unico):\n",
    "for paciente in cpf_unico:\n",
    "    # print(i,end=' ')\n",
    "    # exame_temp = pd.DataFrame()\n",
    "    exame_temp = duplicados_cpf.loc[duplicados_cpf['cpf'] == paciente].sort_values(searched_date, ascending=True)\n",
    "    exame_1 = exame_temp.iloc[0]\n",
    "    exame_2 = exame_temp.iloc[-1]\n",
    "    dif = exame_2[searched_date] - exame_1[searched_date]\n",
    "    # print(dif.days)\n",
    "    if (dif.days > 90):\n",
    "        temporario = duplicados_cpf.loc[(duplicados_cpf['cpf'] == paciente) & (duplicados_cpf[searched_date] == exame_2[searched_date])]\n",
    "        reinfeccao_cpf = reinfeccao_cpf.append(temporario)"
   ]
  },
  {
   "cell_type": "code",
   "execution_count": null,
   "metadata": {},
   "outputs": [],
   "source": [
    "for paciente in cns_unico:\n",
    "    # print(i,end=' ')\n",
    "    exame_temp = pd.DataFrame()\n",
    "    exame_temp = duplicados_cns.loc[duplicados_cns['cns'] == paciente].sort_values(searched_date, ascending=True)\n",
    "    exame_1 = exame_temp.iloc[0]\n",
    "    exame_2 = exame_temp.iloc[-1]\n",
    "    dif = exame_2[searched_date] - exame_1[searched_date]\n",
    "    # print(dif.days)\n",
    "    if (dif.days > 90):\n",
    "        temporario = duplicados_cns.loc[(duplicados_cns['cns'] == paciente) & (duplicados_cns[searched_date] == exame_2[searched_date])]\n",
    "        reinfeccao_cns = reinfeccao_cns.append(temporario)"
   ]
  },
  {
   "cell_type": "code",
   "execution_count": null,
   "metadata": {},
   "outputs": [],
   "source": [
    "reinfeccao_cpf.drop_duplicates(subset=['cpf'], keep='last')\n",
    "reinfeccao_cns.drop_duplicates(subset=['cns'], keep='last')\n",
    "\n",
    "reinfeccao = pd.concat([reinfeccao_cpf, reinfeccao_cns])\n",
    "reinfeccao = reinfeccao.sort_values(searched_date, ascending=True)\n",
    "reinfeccao"
   ]
  },
  {
   "cell_type": "code",
   "execution_count": null,
   "metadata": {},
   "outputs": [],
   "source": [
    "print('----- CASOS DE *POSSÍVEIS* REINFECÇÕES NO PARANÁ -----')\n",
    "print('*TOTAL* =',len(reinfeccao))\n",
    "print('*Fonte:* Banco de dados do GAL, dia 30/06/2021.')\n",
    "print('*Metodologia:*')\n",
    "print('Foram obtidos CPF’s e CNS’s únicos dentro do Sistema do GAL. Desse montante, foi verificado exames com resultado “Detectável” para o vírus “Coronavírus SARS-CoV2” para uma mesma pessoa. Aqueles exames que tiveram uma *data de requisição* superior ou igual a 90 dias do primeiro resultado “Detectável” para o vírus, foi considerado como um caso de reincidência de confirmação para o Coronavírus SARS-CoV2.')"
   ]
  },
  {
   "cell_type": "code",
   "execution_count": null,
   "metadata": {},
   "outputs": [],
   "source": [
    "# JOÃO\n",
    "\n",
    "# cpf_unico = duplicados_cpf['cpf'].unique()\n",
    "# for paciente in cpf_unico:\n",
    "#     # exame_temp = pd.DataFrame()\n",
    "#     exame_temp = duplicados_cpf.loc[duplicados_cpf['cpf'] == paciente].sort_values('data_requisicao')  \n",
    "#     count = 0\n",
    "#     for dt in exame_temp['data_requisicao']:\n",
    "#         data_temp = dt\n",
    "#         if (count == 0):\n",
    "#             data1 = dt\n",
    "#         dif = data_temp - data1\n",
    "#         count = count + 1\n",
    "#         print(dif.days)\n",
    "\n",
    "# temp = duplicados_cpf.groupby(['cpf'])[['paciente']].count().reset_index()\n",
    "# temp['cpf'] = temp['cpf'].astype('str')\n",
    "# temp.loc[temp['paciente']>=9]"
   ]
  }
 ],
 "metadata": {
  "interpreter": {
   "hash": "b3ba2566441a7c06988d0923437866b63cedc61552a5af99d1f4fb67d367b25f"
  },
  "kernelspec": {
   "display_name": "Python 3 (ipykernel)",
   "language": "python",
   "name": "python3"
  },
  "language_info": {
   "codemirror_mode": {
    "name": "ipython",
    "version": 3
   },
   "file_extension": ".py",
   "mimetype": "text/x-python",
   "name": "python",
   "nbconvert_exporter": "python",
   "pygments_lexer": "ipython3",
   "version": "3.8.11"
  }
 },
 "nbformat": 4,
 "nbformat_minor": 4
}
