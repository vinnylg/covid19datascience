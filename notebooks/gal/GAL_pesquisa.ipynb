{
 "cells": [
  {
   "cell_type": "code",
   "execution_count": null,
   "metadata": {},
   "outputs": [],
   "source": [
    "## set covid19_datasciente as path for python find bulletin package\n",
    "import sys\n",
    "from pathlib import Path\n",
    "from os import getcwd\n",
    "from os.path import join, basename\n",
    "\n",
    "sys.path.append(str(Path(getcwd()).parent.parent))"
   ]
  },
  {
   "cell_type": "code",
   "execution_count": null,
   "metadata": {},
   "outputs": [],
   "source": [
    "import numpy as np\n",
    "import pandas as pd\n",
    "import re\n",
    "from unidecode import unidecode\n",
    "from datetime import date, timedelta, datetime\n",
    "from os.path import dirname, join, isfile, isdir\n",
    "from bulletin import default_input, default_output\n",
    "gal_path = join('C:\\\\', 'SESA', 'covid19datascience-dev', 'bulletin', 'database', 'gal')\n",
    "\n",
    "pd.set_option('display.max_columns', None)\n",
    "pd.set_option('display.max_rows', 50)"
   ]
  },
  {
   "cell_type": "code",
   "execution_count": null,
   "metadata": {},
   "outputs": [],
   "source": [
    "today = date.today()\n",
    "someday = date(2020, 1, 2)\n",
    "diff = today - someday"
   ]
  },
  {
   "cell_type": "code",
   "execution_count": null,
   "metadata": {},
   "outputs": [],
   "source": [
    "# COLUNAS DO BANCO DO GAL\n",
    "\n",
    "# Index(['id'0, 'origem_gal'1, 'requisicao'2, 'data_requisicao'3, 'data_solicitacao'4,\n",
    "#         'requisicao_correlativo'5, 'unidade_requisitante'6,\n",
    "#         'unidade_requisitante_municipio'7, 'unidade_requisitante_uf'8, 'paciente'9,\n",
    "#         'cns'10, 'cpf'11, 'nome_mae'12, 'sexo'13, 'data_nascimento'14, 'idade'15,\n",
    "#         'raca_cor'16, 'idade_gestacional'17, 'ibge'18, 'municipio'19, 'latitude'20,\n",
    "#         'longitude'21, 'codigo_regional'22, 'regional'23, 'data_inicio_sintomas'24,\n",
    "#         'cod_exame_requisicao'25, 'data_coleta'26, 'codigo_amostra'27,\n",
    "#         'numero_amostra'28, 'numero_interno'29, 'material_biologico'30,\n",
    "#         'data_encaminhamento_amostra'31, 'data_recebimento_amostra'32,\n",
    "#         'tempo_transporte_amostra'33, 'envio_oportuno'34, 'exame'35, 'metodo'36,\n",
    "#         'resultado'37, 'virus'38, 'data_liberacao'39, 'laboratorio_executor'40,\n",
    "#         'laboratorio_executor_municipio'41, 'correlativo_exame'42,\n",
    "#         'tempo_liberacao'43, 'tempo_diagnostico'44, 'codigo_status'45, 'status'46,\n",
    "#         'classificacao'47],\n",
    "#        dtype='object')]"
   ]
  },
  {
   "cell_type": "code",
   "execution_count": null,
   "metadata": {},
   "outputs": [],
   "source": [
    "gal_2020 = pd.read_pickle(join(gal_path, 'banco_gal_2020-bz2.pkl'), compression='bz2')[['requisicao','cod_exame_requisicao','data_requisicao', 'paciente', 'cns', 'cpf', 'nome_mae', 'sexo', 'idade', 'ibge', 'municipio', 'regional', 'exame', 'metodo', 'resultado', 'virus', 'data_liberacao', 'laboratorio_executor', 'status', 'classificacao']]"
   ]
  },
  {
   "cell_type": "code",
   "execution_count": null,
   "metadata": {},
   "outputs": [],
   "source": [
    "gal_2021 = pd.read_pickle(join(gal_path, 'banco_gal_2021-bz2.pkl'), compression='bz2')[['requisicao','cod_exame_requisicao','data_requisicao', 'paciente', 'cns', 'cpf', 'nome_mae', 'sexo', 'idade', 'ibge', 'municipio', 'regional', 'exame', 'metodo', 'resultado', 'virus', 'data_liberacao', 'laboratorio_executor', 'status', 'classificacao']]"
   ]
  },
  {
   "cell_type": "code",
   "execution_count": null,
   "metadata": {},
   "outputs": [],
   "source": [
    "gal_complemento = pd.read_csv(join(gal_path, 'consulta-gal-complemento.csv'), sep = ';', usecols=['requisicao','cod_exame_requisicao','data_requisicao', 'paciente', 'cns', 'cpf', 'nome_mae', 'sexo', 'idade', 'ibge', 'municipio', 'regional', 'exame', 'metodo', 'resultado', 'virus', 'data_liberacao', 'laboratorio_executor', 'status', 'classificacao'])"
   ]
  },
  {
   "cell_type": "code",
   "execution_count": null,
   "metadata": {},
   "outputs": [],
   "source": [
    "gal = pd.concat([gal_2020, gal_2021, gal_complemento])\n",
    "# gal.set_index('requisicao', inplace=True)"
   ]
  },
  {
   "cell_type": "code",
   "execution_count": null,
   "metadata": {},
   "outputs": [],
   "source": [
    "# planilha = pd.read_excel(join(default_input,'reinf_gal.xlsx'), dtype={'GAL/No interno': 'int64'}).drop_duplicates('NOME', keep='last')\n",
    "# planilha"
   ]
  },
  {
   "cell_type": "code",
   "execution_count": null,
   "metadata": {},
   "outputs": [],
   "source": [
    "# gal.loc[planilha['GAL/No interno'],:]"
   ]
  },
  {
   "cell_type": "code",
   "execution_count": null,
   "metadata": {},
   "outputs": [],
   "source": [
    "requisicao = 210207147650\n",
    "name='ALZIRA FERREIRA GONCALVES'\n",
    "nome_mae='ROSA DOS SANTOS FARIA'\n",
    "rs = 11"
   ]
  },
  {
   "cell_type": "code",
   "execution_count": null,
   "metadata": {},
   "outputs": [],
   "source": [
    "##PACIENTE\n",
    "gal.loc[gal['paciente'].str.contains(str.upper(name))].loc[731050]"
   ]
  },
  {
   "cell_type": "code",
   "execution_count": null,
   "metadata": {},
   "outputs": [],
   "source": [
    "##PACIENTE E NOME MAE\n",
    "gal.loc[(gal['paciente'].str.contains(str.upper(name))) & (gal['nome_mae'].str.contains(str.upper(nome_mae)))]"
   ]
  }
 ],
 "metadata": {
  "interpreter": {
   "hash": "b3ba2566441a7c06988d0923437866b63cedc61552a5af99d1f4fb67d367b25f"
  },
  "kernelspec": {
   "display_name": "Python 3 (ipykernel)",
   "language": "python",
   "name": "python3"
  },
  "language_info": {
   "codemirror_mode": {
    "name": "ipython",
    "version": 3
   },
   "file_extension": ".py",
   "mimetype": "text/x-python",
   "name": "python",
   "nbconvert_exporter": "python",
   "pygments_lexer": "ipython3",
   "version": "3.8.11"
  }
 },
 "nbformat": 4,
 "nbformat_minor": 4
}
