{
 "cells": [
  {
   "cell_type": "code",
   "execution_count": null,
   "metadata": {
    "execution": {
     "iopub.execute_input": "2021-09-22T14:04:08.532971Z",
     "iopub.status.busy": "2021-09-22T14:04:08.531971Z",
     "iopub.status.idle": "2021-09-22T14:04:08.553985Z",
     "shell.execute_reply": "2021-09-22T14:04:08.550972Z",
     "shell.execute_reply.started": "2021-09-22T14:04:08.531971Z"
    }
   },
   "outputs": [],
   "source": [
    "## set covid19_datasciente as path for python find bulletin package\n",
    "import sys\n",
    "from pathlib import Path\n",
    "from os import getcwd\n",
    "from os.path import join, basename\n",
    "\n",
    "sys.path.append(str(Path(getcwd()).parent.parent))"
   ]
  },
  {
   "cell_type": "code",
   "execution_count": null,
   "metadata": {
    "execution": {
     "iopub.execute_input": "2021-09-22T14:04:08.558352Z",
     "iopub.status.busy": "2021-09-22T14:04:08.557411Z",
     "iopub.status.idle": "2021-09-22T14:04:11.582169Z",
     "shell.execute_reply": "2021-09-22T14:04:11.581145Z",
     "shell.execute_reply.started": "2021-09-22T14:04:08.558352Z"
    }
   },
   "outputs": [],
   "source": [
    "import numpy as np\n",
    "import pandas as pd\n",
    "import re\n",
    "from unidecode import unidecode\n",
    "from datetime import date, timedelta, datetime\n",
    "from os.path import dirname, join, isfile, isdir\n",
    "from bulletin import default_input, default_output\n",
    "from bulletin.utils.normalize import normalize_cpf, normalize_cns, normalize_text, normalize_nome_mae, normalize_hash\n",
    "from bulletin.systems import eSUS\n",
    "\n",
    "path_file = join('C:\\\\', 'SESA', 'covid19datascience-dev', 'bulletin', 'database', 'gal')\n",
    "pd.set_option('display.max_columns', None)\n",
    "pd.set_option('display.max_rows', 500)"
   ]
  },
  {
   "cell_type": "code",
   "execution_count": null,
   "metadata": {
    "execution": {
     "iopub.execute_input": "2021-09-22T14:04:11.752179Z",
     "iopub.status.busy": "2021-09-22T14:04:11.752179Z",
     "iopub.status.idle": "2021-09-22T14:04:11.759400Z",
     "shell.execute_reply": "2021-09-22T14:04:11.758385Z",
     "shell.execute_reply.started": "2021-09-22T14:04:11.752179Z"
    }
   },
   "outputs": [],
   "source": [
    "today = date.today()\n",
    "someday = date(2020, 1, 2)\n",
    "diff = today - someday"
   ]
  },
  {
   "cell_type": "code",
   "execution_count": null,
   "metadata": {
    "execution": {
     "iopub.execute_input": "2021-09-22T14:04:11.761460Z",
     "iopub.status.busy": "2021-09-22T14:04:11.760398Z",
     "iopub.status.idle": "2021-09-22T14:04:11.772387Z",
     "shell.execute_reply": "2021-09-22T14:04:11.772387Z",
     "shell.execute_reply.started": "2021-09-22T14:04:11.761460Z"
    }
   },
   "outputs": [],
   "source": [
    "# COLUNAS DO BANCO DO GAL\n",
    "\n",
    "# Index(['id'0, 'origem_gal'1, 'requisicao'2, 'data_requisicao'3, 'data_solicitacao'4,\n",
    "#         'requisicao_correlativo'5, 'unidade_requisitante'6,\n",
    "#         'unidade_requisitante_municipio'7, 'unidade_requisitante_uf'8, 'paciente'9,\n",
    "#         'cns'10, 'cpf'11, 'nome_mae'12, 'sexo'13, 'data_nascimento'14, 'idade'15,\n",
    "#         'raca_cor'16, 'idade_gestacional'17, 'ibge'18, 'municipio'19, 'latitude'20,\n",
    "#         'longitude'21, 'codigo_regional'22, 'regional'23, 'data_inicio_sintomas'24,\n",
    "#         'cod_exame_requisicao'25, 'data_coleta'26, 'codigo_amostra'27,\n",
    "#         'numero_amostra'28, 'numero_interno'29, 'material_biologico'30,\n",
    "#         'data_encaminhamento_amostra'31, 'data_recebimento_amostra'32,\n",
    "#         'tempo_transporte_amostra'33, 'envio_oportuno'34, 'exame'35, 'metodo'36,\n",
    "#         'resultado'37, 'virus'38, 'data_liberacao'39, 'laboratorio_executor'40,\n",
    "#         'laboratorio_executor_municipio'41, 'correlativo_exame'42,\n",
    "#         'tempo_liberacao'43, 'tempo_diagnostico'44, 'codigo_status'45, 'status'46,\n",
    "#         'classificacao'47],\n",
    "#        dtype='object')]"
   ]
  },
  {
   "cell_type": "code",
   "execution_count": null,
   "metadata": {},
   "outputs": [],
   "source": [
    "def foo(g,s):\n",
    "    g = g.copy()\n",
    "    s = s.copy()\n",
    "\n",
    "    g.insert(0,'aaa',[ i for i in range(0,len(g))])\n",
    "\n",
    "    g['cpf'] = g['cpf'].astype(str).str.split('.').apply(lambda x: x[0]).apply(normalize_cpf)\n",
    "    g['cns'] = g['cns'].astype(str).str.split('.').apply(lambda x: x[0]).apply(normalize_cns)\n",
    "    g['hmae'] = (g['paciente'].apply(normalize_text) + g['nome_mae'].apply(normalize_nome_mae)).apply(normalize_hash)\n",
    "\n",
    "    s['NU_CPF'] = s['NU_CPF'].astype(str).str.split('.').apply(lambda x: x[0]).apply(normalize_cpf)\n",
    "    s['NU_CNS'] = s['NU_CNS'].astype(str).str.split('.').apply(lambda x: x[0]).apply(normalize_cns)\n",
    "    s['hmae'] = (s['NM_PACIENT'].apply(normalize_text) + s['NM_MAE_PAC'].apply(normalize_nome_mae)).apply(normalize_hash)\n",
    "\n",
    "    gcpf = g.loc[g['cpf'].notna()].drop_duplicates('cpf',keep='last')\n",
    "    gcns = g.loc[g['cns'].notna()].drop_duplicates('cns',keep='last')\n",
    "    gmae = g.loc[g['hmae'].notna()].drop_duplicates('hmae',keep='last')\n",
    "\n",
    "    scpf = s.loc[s['NU_CPF'].notna()].drop_duplicates('NU_CPF',keep='last')\n",
    "    scns = s.loc[s['NU_CNS'].notna()].drop_duplicates('NU_CNS',keep='last')\n",
    "    smae = s.loc[s['hmae'].notna()].drop_duplicates('hmae',keep='last')\n",
    "\n",
    "    cpf = pd.merge(gcpf,scpf,how='inner',left_on='cpf',right_on='NU_CPF')\n",
    "    cns = pd.merge(gcpf,scpf,how='inner',left_on='cns',right_on='NU_CNS')\n",
    "    mae = pd.merge(gcpf,scpf,how='right',left_on='hmae',right_on='hmae')\n",
    "    res = pd.concat([cpf,cns,mae], ignore_index=True).drop_duplicates('aaa',keep='first')\n",
    "    \n",
    "    \n",
    "    #retirando os encontrados no GAL\n",
    "#     res.set_index('requisicao', inplace=True)\n",
    "#     g.set_index('requisicao', inplace=True)\n",
    "#     g = g.drop(index=res.index)\n",
    "#     res.reset_index(inplace=True)\n",
    "#     g.reset_index(inplace=True)\n",
    "    \n",
    "    \n",
    "    #retirnado os dados encontrados no SIVEP\n",
    "    res.set_index('NU_NOTIFIC', inplace=True)\n",
    "    s.set_index('NU_NOTIFIC', inplace=True)\n",
    "    s = s.drop(index=res.index)\n",
    "    res.reset_index(inplace=True)\n",
    "    s.reset_index(inplace=True)\n",
    "    \n",
    "    \n",
    "    res = res.drop_duplicates('NU_NOTIFIC',keep='first')\n",
    "    \n",
    "    \n",
    "    print(len(res))\n",
    "    res = res[['requisicao', 'data_requisicao', 'paciente', 'cpf', 'cns', 'nome_mae', 'municipio', 'data_coleta', 'codigo_amostra', 'numero_amostra', 'numero_interno', 'material_biologico', 'exame', 'metodo', 'resultado', 'virus', 'data_liberacao', 'laboratorio_executor', 'laboratorio_executor_municipio','NU_NOTIFIC','NM_PACIENT','NU_CPF', 'NM_MAE_PAC', 'REQUI_GAL', 'DT_INTERNA']]\n",
    "    return res, g, s"
   ]
  },
  {
   "cell_type": "code",
   "execution_count": null,
   "metadata": {},
   "outputs": [],
   "source": [
    "## GAL 2020 - LACEN\n",
    "gal_2020 = pd.read_pickle(join(path_file, 'banco_gal_2020-bz2.pkl'), compression='bz2')\n",
    "gal = pd.concat([gal_2020])\n",
    "projeto = gal.loc[gal[\"virus\"] == 'Coronavírus SARS-CoV2']\n",
    "projeto = projeto.loc[projeto['resultado'] == 'Detectável']\n",
    "projeto = projeto.loc[projeto['laboratorio_executor'] == 'Laboratório Central do Estado']\n",
    "\n",
    "projeto = projeto.loc[projeto['idade'].str.endswith(\"Ano(s)\")].copy()\n",
    "projeto['idade'] = projeto['idade'].str[:2]\n",
    "projeto['idade'] = projeto['idade'].astype('int')\n",
    "\n",
    "grupo_1 = projeto.loc[(projeto['idade'] >= 18) & (projeto['idade'] <= 43)]\n",
    "grupo_1.to_pickle(join(default_output, 'projeto','GAL-grupo01_2020.pkl'))\n",
    "print(len(grupo_1))\n",
    "\n",
    "grupo_2 = projeto.loc[(projeto['idade'] >= 75)]\n",
    "grupo_2.to_pickle(join(default_output, 'projeto','GAL-grupo02_2020.pkl'))\n",
    "print(len(grupo_2))\n",
    "\n",
    "\n",
    "\n",
    "## GAL 2020 - OUTROS LABS\n",
    "projeto = gal.loc[gal[\"virus\"] == 'Coronavírus SARS-CoV2']\n",
    "projeto = projeto.loc[projeto['resultado'] == 'Detectável']\n",
    "projeto = projeto.loc[projeto['laboratorio_executor'] != 'Laboratório Central do Estado']\n",
    "\n",
    "projeto = projeto.loc[projeto['idade'].str.endswith(\"Ano(s)\")].copy()\n",
    "projeto['idade'] = projeto['idade'].str[:2]\n",
    "projeto['idade'] = projeto['idade'].astype('int')\n",
    "\n",
    "\n",
    "grupo_1 = projeto.loc[(projeto['idade'] >= 18) & (projeto['idade'] <= 43)]\n",
    "grupo_1.to_pickle(join(default_output, 'projeto','GAL-grupo01_2020-lab.pkl'))\n",
    "print(len(grupo_1))\n",
    "                      \n",
    "grupo_2 = projeto.loc[(projeto['idade'] >= 75)]\n",
    "grupo_2.to_pickle(join(default_output, 'projeto','GAL-grupo02_2020-lab.pkl'))\n",
    "print(len(grupo_2))"
   ]
  },
  {
   "cell_type": "code",
   "execution_count": null,
   "metadata": {},
   "outputs": [],
   "source": [
    "## GAL 2021 - LACEN\n",
    "gal_2021 = pd.read_pickle(join(path_file, 'banco_gal_2021-bz2.pkl'), compression='bz2')\n",
    "gal_2021_complemento = pd.read_csv(join(path_file, 'consulta-gal-complemento-2021.csv'), sep = ';')\n",
    "gal = pd.concat([gal_2021, gal_2021_complemento])\n",
    "\n",
    "\n",
    "projeto = gal.loc[gal[\"virus\"] == 'Coronavírus SARS-CoV2']\n",
    "projeto = projeto.loc[projeto['resultado'] == 'Detectável']\n",
    "projeto = projeto.loc[projeto['laboratorio_executor'] == 'Laboratório Central do Estado']\n",
    "\n",
    "projeto = projeto.loc[projeto['idade'].str.endswith(\"Ano(s)\")].copy()\n",
    "projeto['idade'] = projeto['idade'].str[:2]\n",
    "projeto['idade'] = projeto['idade'].astype('int')\n",
    "\n",
    "grupo_1 = projeto.loc[(projeto['idade'] >= 18) & (projeto['idade'] <= 43)]\n",
    "grupo_1.to_pickle(join(default_output, 'projeto','GAL-grupo01_2021.pkl'))\n",
    "print(len(grupo_1))\n",
    "\n",
    "grupo_2 = projeto.loc[(projeto['idade'] >= 75)]\n",
    "grupo_2.to_pickle(join(default_output, 'projeto','GAL-grupo02_2021.pkl'))\n",
    "print(len(grupo_2))\n",
    "\n",
    "\n",
    "\n",
    "## GAL 2021 - OUTROS LABS\n",
    "projeto = gal.loc[gal[\"virus\"] == 'Coronavírus SARS-CoV2']\n",
    "projeto = projeto.loc[projeto['resultado'] == 'Detectável']\n",
    "projeto = projeto.loc[projeto['laboratorio_executor'] != 'Laboratório Central do Estado']\n",
    "\n",
    "projeto = projeto.loc[projeto['idade'].str.endswith(\"Ano(s)\")].copy()\n",
    "projeto['idade'] = projeto['idade'].str[:2]\n",
    "projeto['idade'] = projeto['idade'].astype('int')\n",
    "\n",
    "\n",
    "grupo_1 = projeto.loc[(projeto['idade'] >= 18) & (projeto['idade'] <= 43)]\n",
    "grupo_1.to_pickle(join(default_output, 'projeto','GAL-grupo01_2021-lab.pkl'))\n",
    "print(len(grupo_1))\n",
    "                      \n",
    "grupo_2 = projeto.loc[(projeto['idade'] >= 75)]\n",
    "grupo_2.to_pickle(join(default_output, 'projeto','GAL-grupo02_2021-lab.pkl'))\n",
    "print(len(grupo_2))"
   ]
  },
  {
   "cell_type": "code",
   "execution_count": null,
   "metadata": {},
   "outputs": [],
   "source": [
    "g20201 = pd.read_pickle(join(default_output,'projeto', 'GAL-grupo01_2020.pkl'))\n",
    "g20201 = g20201.sort_values('data_liberacao')\n",
    "print(len(g20201))\n",
    "g20202 = pd.read_pickle(join(default_output,'projeto', 'GAL-grupo02_2020.pkl'))\n",
    "g20202 = g20202.sort_values('data_liberacao')\n",
    "print(len(g20202))"
   ]
  },
  {
   "cell_type": "code",
   "execution_count": null,
   "metadata": {},
   "outputs": [],
   "source": [
    "g20211 = pd.read_pickle(join(default_output,'projeto', 'GAL-grupo01_2021.pkl'))\n",
    "g20211 = g20211.sort_values('data_liberacao')\n",
    "print(len(g20211))\n",
    "g20212 = pd.read_pickle(join(default_output,'projeto', 'GAL-grupo02_2021.pkl'))\n",
    "g20212 = g20212.sort_values('data_liberacao')\n",
    "print(len(g20212))"
   ]
  },
  {
   "cell_type": "markdown",
   "metadata": {},
   "source": [
    "## 2020"
   ]
  },
  {
   "cell_type": "markdown",
   "metadata": {},
   "source": [
    "### 2020 G1"
   ]
  },
  {
   "cell_type": "code",
   "execution_count": null,
   "metadata": {},
   "outputs": [],
   "source": [
    "s20201 = pd.read_pickle(join(default_output,'projeto', 'sivep_2020_g1.pkl'))\n",
    "s20201 = s20201.sort_values('DT_INTERNA')\n",
    "s20201_r = s20201.loc[~s20201['REQUI_GAL'].isna()]\n",
    "s20201 = s20201.loc[s20201['REQUI_GAL'].isna()]\n",
    "s20201_r['REQUI_GAL'] = s20201_r['REQUI_GAL'].astype('int64')\n",
    "s20201_r = s20201_r.drop_duplicates('REQUI_GAL', keep='first')\n",
    "print(len(s20201_r) + len(s20201))"
   ]
  },
  {
   "cell_type": "code",
   "execution_count": null,
   "metadata": {},
   "outputs": [],
   "source": [
    "#G1 - VERIFICAR QUAL ENCONTROU e QUAL NÃO ENCONTROU\n",
    "founded_20201 = g20201.loc[g20201['requisicao'].isin(s20201_r['REQUI_GAL'])] #arquivo final parcial\n",
    "print(len(founded_20201))\n",
    "\n",
    "#G1 - RETIRAR DO BANCO DO SIVEP E GAL OS QUE ENCONTRARAM\n",
    "g20201.set_index('requisicao', inplace=True)\n",
    "founded_20201.set_index('requisicao', inplace=True)\n",
    "s20201_r.set_index('REQUI_GAL', inplace=True)\n",
    "\n",
    "g20201 = g20201.drop(index=founded_20201.index)\n",
    "s20201_r = s20201_r.drop(index=founded_20201.index)\n",
    "\n",
    "g20201.reset_index(inplace=True)\n",
    "founded_20201.reset_index(inplace=True)\n",
    "s20201_r.reset_index(inplace=True)\n",
    "\n",
    "s20201 = pd.concat([s20201, s20201_r])\n",
    "\n",
    "#G1 - FILTRAR AS COLUNAS DO ARQUIVO GAL PARCIAL\n",
    "founded_20201 = founded_20201[['requisicao', 'data_requisicao', 'paciente', 'cpf', 'cns', 'nome_mae', 'municipio', 'data_coleta', 'codigo_amostra', 'numero_amostra', 'numero_interno', 'material_biologico', 'exame', 'metodo', 'resultado', 'virus', 'data_liberacao', 'laboratorio_executor', 'laboratorio_executor_municipio']]"
   ]
  },
  {
   "cell_type": "code",
   "execution_count": null,
   "metadata": {},
   "outputs": [],
   "source": [
    "res_g20201_s20201, g20201, s20201 = foo(g20201,s20201)"
   ]
  },
  {
   "cell_type": "code",
   "execution_count": null,
   "metadata": {},
   "outputs": [],
   "source": [
    "g20201_t = pd.read_pickle(join(default_output,'projeto', 'GAL-grupo01_2020-lab.pkl'))\n",
    "print(len(g20201_t))\n",
    "\n",
    "res_g20201_s20201_more_labs, g20201, s20201 = foo(g20201_t,s20201)"
   ]
  },
  {
   "cell_type": "code",
   "execution_count": null,
   "metadata": {},
   "outputs": [],
   "source": [
    "res_final_g20201_s20201 = pd.concat([res_g20201_s20201, res_g20201_s20201_more_labs])\n",
    "\n",
    "res_final_g20201_s20201 = res_final_g20201_s20201.loc[ res_final_g20201_s20201['paciente'] == res_final_g20201_s20201['NM_PACIENT'] ]\n",
    "\n",
    "res_final_g20201_s20201 = res_final_g20201_s20201[['requisicao', 'data_requisicao', 'paciente', 'cpf', 'cns', 'nome_mae', 'municipio', 'data_coleta', 'codigo_amostra', 'numero_amostra', 'numero_interno', 'material_biologico', 'exame', 'metodo', 'resultado', 'virus', 'data_liberacao', 'laboratorio_executor', 'laboratorio_executor_municipio']]\n",
    "\n",
    "res_final_g20201_s20201 = pd.concat([res_final_g20201_s20201, founded_20201])\n",
    "\n",
    "res_final_g20201_s20201.to_csv(join(default_output,'projeto','LACEN_G01_2020.csv'), index=False, sep=';', encoding='utf-8-sig')\n",
    "\n",
    "print(len(res_final_g20201_s20201))\n",
    "table = res_final_g20201_s20201.groupby('laboratorio_executor')[['paciente']].count().reset_index()\n",
    "table.to_csv(join(default_output,'projeto', 'table_1.csv'), index=False, sep=';', encoding='utf-8-sig')\n",
    "display(table)"
   ]
  },
  {
   "cell_type": "markdown",
   "metadata": {},
   "source": [
    "### 2020 G2"
   ]
  },
  {
   "cell_type": "code",
   "execution_count": null,
   "metadata": {},
   "outputs": [],
   "source": [
    "s20202 = pd.read_pickle(join(default_output,'projeto', 'sivep_2020_g2.pkl'))\n",
    "s20202 = s20202.sort_values('DT_INTERNA')\n",
    "s20202_r = s20202.loc[~s20202['REQUI_GAL'].isna()]\n",
    "s20202 = s20201.loc[s20201['REQUI_GAL'].isna()]\n",
    "s20202_r['REQUI_GAL'] = s20202_r['REQUI_GAL'].astype('int64')\n",
    "s20202_r = s20202_r.drop_duplicates('REQUI_GAL', keep='first')\n",
    "print(len(s20202_r) + len(s20202))"
   ]
  },
  {
   "cell_type": "code",
   "execution_count": null,
   "metadata": {},
   "outputs": [],
   "source": [
    "#G1 - VERIFICAR QUAL ENCONTROU e QUAL NÃO ENCONTROU\n",
    "founded_20202 = g20202.loc[g20202['requisicao'].isin(s20202_r['REQUI_GAL'])] #arquivo final parcial\n",
    "print(len(founded_20202))\n",
    "\n",
    "#G1 - RETIRAR DO BANCO DO SIVEP E GAL OS QUE ENCONTRARAM\n",
    "g20202.set_index('requisicao', inplace=True)\n",
    "founded_20202.set_index('requisicao', inplace=True)\n",
    "s20202_r.set_index('REQUI_GAL', inplace=True)\n",
    "\n",
    "g20202 = g20202.drop(index=founded_20202.index)\n",
    "s20202_r = s20202_r.drop(index=founded_20202.index)\n",
    "\n",
    "g20202.reset_index(inplace=True)\n",
    "founded_20202.reset_index(inplace=True)\n",
    "s20202_r.reset_index(inplace=True)\n",
    "\n",
    "s20202 = pd.concat([s20202, s20202_r])\n",
    "\n",
    "#G1 - FILTRAR AS COLUNAS DO ARQUIVO GAL PARCIAL\n",
    "founded_20202 = founded_20202[['requisicao', 'data_requisicao', 'paciente', 'cpf', 'cns', 'nome_mae', 'municipio', 'data_coleta', 'codigo_amostra', 'numero_amostra', 'numero_interno', 'material_biologico', 'exame', 'metodo', 'resultado', 'virus', 'data_liberacao', 'laboratorio_executor', 'laboratorio_executor_municipio']]"
   ]
  },
  {
   "cell_type": "code",
   "execution_count": null,
   "metadata": {},
   "outputs": [],
   "source": [
    "res_g20202_s20202, g20202, s20202 = foo(g20202,s20202)"
   ]
  },
  {
   "cell_type": "code",
   "execution_count": null,
   "metadata": {},
   "outputs": [],
   "source": [
    "g20202_t = pd.read_pickle(join(default_output,'projeto', 'GAL-grupo02_2020-lab.pkl'))\n",
    "print(len(g20202_t))\n",
    "\n",
    "res_g20202_s20202_more_labs, g20202, s20202 = foo(g20202_t,s20202)"
   ]
  },
  {
   "cell_type": "code",
   "execution_count": null,
   "metadata": {},
   "outputs": [],
   "source": [
    "res_final_g20202_s20202 = pd.concat([res_g20202_s20202, res_g20202_s20202_more_labs])\n",
    "\n",
    "res_final_g20202_s20202 = res_final_g20202_s20202.loc[ res_final_g20202_s20202['paciente'] == res_final_g20202_s20202['NM_PACIENT'] ]\n",
    "\n",
    "res_final_g20202_s20202 = res_final_g20202_s20202[['requisicao', 'data_requisicao', 'paciente', 'cpf', 'cns', 'nome_mae', 'municipio', 'data_coleta', 'codigo_amostra', 'numero_amostra', 'numero_interno', 'material_biologico', 'exame', 'metodo', 'resultado', 'virus', 'data_liberacao', 'laboratorio_executor', 'laboratorio_executor_municipio']]\n",
    "\n",
    "res_final_g20202_s20202 = pd.concat([res_final_g20202_s20202, founded_20202])\n",
    "\n",
    "res_final_g20202_s20202.to_csv(join(default_output,'projeto','LACEN_G02_2020.csv'), index=False, sep=';', encoding='utf-8-sig')\n",
    "\n",
    "\n",
    "# res_final_g20202_s20202 = res_final_g20202_s20202.drop_duplicates('cpf',keep='first')\n",
    "print(len(res_final_g20202_s20202))\n",
    "table = res_final_g20202_s20202.groupby('laboratorio_executor')[['paciente']].count().reset_index()\n",
    "table.to_csv(join(default_output,'projeto', 'table_2.csv'), index=False, sep=';', encoding='utf-8-sig')\n",
    "display(table)"
   ]
  },
  {
   "cell_type": "markdown",
   "metadata": {},
   "source": [
    "## 2021"
   ]
  },
  {
   "cell_type": "markdown",
   "metadata": {},
   "source": [
    "### 2021 G1"
   ]
  },
  {
   "cell_type": "code",
   "execution_count": null,
   "metadata": {},
   "outputs": [],
   "source": [
    "s20211 = pd.read_pickle(join(default_output,'projeto', 'sivep_2021_g1.pkl'))\n",
    "s20211 = s20211.sort_values('DT_INTERNA')\n",
    "s20211_r = s20211.loc[~s20211['REQUI_GAL'].isna()]\n",
    "s20211 = s20211.loc[s20211['REQUI_GAL'].isna()]\n",
    "s20211_r['REQUI_GAL'] = s20211_r['REQUI_GAL'].astype('int64')\n",
    "s20211_r = s20211_r.drop_duplicates('REQUI_GAL', keep='first')\n",
    "print(len(s20211_r) + len(s20211))"
   ]
  },
  {
   "cell_type": "code",
   "execution_count": null,
   "metadata": {},
   "outputs": [],
   "source": []
  },
  {
   "cell_type": "code",
   "execution_count": null,
   "metadata": {},
   "outputs": [],
   "source": [
    "s20211['CO_MUN_RES'].unique()"
   ]
  },
  {
   "cell_type": "code",
   "execution_count": null,
   "metadata": {},
   "outputs": [],
   "source": [
    "list_ibge = [314340, 500570, 210370, 330455, 430750, 351340]\n",
    "s20211.loc[s20211['SG_UF'] != 'PR']"
   ]
  },
  {
   "cell_type": "code",
   "execution_count": null,
   "metadata": {},
   "outputs": [],
   "source": [
    "#G1 - VERIFICAR QUAL ENCONTROU e QUAL NÃO ENCONTROU\n",
    "founded_20211 = g20211.loc[g20211['requisicao'].isin(s20211_r['REQUI_GAL'])] #arquivo final parcial\n",
    "print(len(founded_20211))\n",
    "\n",
    "#G1 - RETIRAR DO BANCO DO SIVEP E GAL OS QUE ENCONTRARAM\n",
    "g20211.set_index('requisicao', inplace=True)\n",
    "founded_20211.set_index('requisicao', inplace=True)\n",
    "s20211_r.set_index('REQUI_GAL', inplace=True)\n",
    "\n",
    "g20211 = g20211.drop(index=founded_20211.index)\n",
    "s20211_r = s20211_r.drop(index=founded_20211.index)\n",
    "\n",
    "g20211.reset_index(inplace=True)\n",
    "founded_20211.reset_index(inplace=True)\n",
    "s20211_r.reset_index(inplace=True)\n",
    "\n",
    "s20211 = pd.concat([s20211, s20211_r])\n",
    "\n",
    "#G1 - FILTRAR AS COLUNAS DO ARQUIVO GAL PARCIAL\n",
    "founded_20211 = founded_20211[['requisicao', 'data_requisicao', 'paciente', 'cpf', 'cns', 'nome_mae', 'municipio', 'data_coleta', 'codigo_amostra', 'numero_amostra', 'numero_interno', 'material_biologico', 'exame', 'metodo', 'resultado', 'virus', 'data_liberacao', 'laboratorio_executor', 'laboratorio_executor_municipio']]"
   ]
  },
  {
   "cell_type": "code",
   "execution_count": null,
   "metadata": {},
   "outputs": [],
   "source": [
    "res_g20211_s20211, g20211, s20211 = foo(g20211,s20211)"
   ]
  },
  {
   "cell_type": "code",
   "execution_count": null,
   "metadata": {},
   "outputs": [],
   "source": [
    "g20211_t = pd.read_pickle(join(default_output,'projeto', 'GAL-grupo01_2021-lab.pkl'))\n",
    "g20211_t = g20211_t.sort_values('data_liberacao')\n",
    "g20211_t = g20211_t.loc[g20211_t['laboratorio_executor'] != 'Instituto de Biologia Molecular do Paraná - IBMP']\n",
    "\n",
    "print(len(g20211_t))\n",
    "\n",
    "res_g20211_s20211_more_labs, g20211, s20211 = foo(g20211_t,s20211)"
   ]
  },
  {
   "cell_type": "code",
   "execution_count": null,
   "metadata": {},
   "outputs": [],
   "source": [
    "res_final_g20211_s20211 = pd.concat([res_g20211_s20211, res_g20211_s20211_more_labs])\n",
    "\n",
    "res_final_g20211_s20211 = res_final_g20211_s20211.loc[ res_final_g20211_s20211['paciente'] == res_final_g20211_s20211['NM_PACIENT'] ]\n",
    "\n",
    "res_final_g20211_s20211 = res_final_g20211_s20211[['requisicao', 'data_requisicao', 'paciente', 'cpf', 'cns', 'nome_mae', 'municipio', 'data_coleta', 'codigo_amostra', 'numero_amostra', 'numero_interno', 'material_biologico', 'exame', 'metodo', 'resultado', 'virus', 'data_liberacao', 'laboratorio_executor', 'laboratorio_executor_municipio']]\n",
    "\n",
    "res_final_g20211_s20211 = pd.concat([res_final_g20211_s20211, founded_20211])\n",
    "\n",
    "res_final_g20211_s20211.to_csv(join(default_output,'projeto','LACEN_G01_2021.csv'), index=False, sep=';', encoding='utf-8-sig')\n",
    "\n",
    "print(len(res_final_g20211_s20211))\n",
    "table = res_final_g20211_s20211.groupby('laboratorio_executor')[['paciente']].count().reset_index()\n",
    "table.to_csv(join(default_output,'projeto', 'table_3.csv'), index=False, sep=';', encoding='utf-8-sig')\n",
    "display(table)"
   ]
  },
  {
   "cell_type": "markdown",
   "metadata": {},
   "source": [
    "### 2021 G2"
   ]
  },
  {
   "cell_type": "code",
   "execution_count": null,
   "metadata": {},
   "outputs": [],
   "source": [
    "s20212 = pd.read_pickle(join(default_output,'projeto', 'sivep_2021_g2.pkl'))\n",
    "s20212 = s20212.sort_values('DT_INTERNA')\n",
    "s20212_r = s20212.loc[~s20212['REQUI_GAL'].isna()]\n",
    "s20212 = s20212.loc[s20212['REQUI_GAL'].isna()]\n",
    "s20212_r['REQUI_GAL'] = s20212_r['REQUI_GAL'].astype('int64')\n",
    "s20212_r = s20212_r.drop_duplicates('REQUI_GAL', keep='first')\n",
    "print(len(s20212_r) + len(s20212))"
   ]
  },
  {
   "cell_type": "code",
   "execution_count": null,
   "metadata": {},
   "outputs": [],
   "source": [
    "s20212['CO_MUN_RES'].unique()"
   ]
  },
  {
   "cell_type": "code",
   "execution_count": null,
   "metadata": {},
   "outputs": [],
   "source": [
    "#G2 - VERIFICAR QUAL ENCONTROU e QUAL NÃO ENCONTROU\n",
    "founded_20212 = g20212.loc[g20212['requisicao'].isin(s20212_r['REQUI_GAL'])] #arquivo final parcial\n",
    "print(len(founded_20212))\n",
    "\n",
    "#G2 - RETIRAR DO BANCO DO SIVEP E GAL OS QUE ENCONTRARAM\n",
    "g20212.set_index('requisicao', inplace=True)\n",
    "founded_20212.set_index('requisicao', inplace=True)\n",
    "s20212_r.set_index('REQUI_GAL', inplace=True)\n",
    "\n",
    "g20212 = g20212.drop(index=founded_20212.index)\n",
    "s20212_r = s20212_r.drop(index=founded_20212.index)\n",
    "\n",
    "g20212.reset_index(inplace=True)\n",
    "founded_20212.reset_index(inplace=True)\n",
    "s20212_r.reset_index(inplace=True)\n",
    "\n",
    "s20212 = pd.concat([s20212, s20212_r])\n",
    "\n",
    "#G2 - FILTRAR AS COLUNAS DO ARQUIVO GAL PARCIAL\n",
    "founded_20212 = founded_20212[['requisicao', 'data_requisicao', 'paciente', 'cpf', 'cns', 'nome_mae', 'municipio', 'data_coleta', 'codigo_amostra', 'numero_amostra', 'numero_interno', 'material_biologico', 'exame', 'metodo', 'resultado', 'virus', 'data_liberacao', 'laboratorio_executor', 'laboratorio_executor_municipio']]"
   ]
  },
  {
   "cell_type": "code",
   "execution_count": null,
   "metadata": {},
   "outputs": [],
   "source": [
    "res_g20212_s20212, g20212, s20212 = foo(g20212,s20212)"
   ]
  },
  {
   "cell_type": "code",
   "execution_count": null,
   "metadata": {},
   "outputs": [],
   "source": [
    "g20212_t = pd.read_pickle(join(default_output,'projeto', 'GAL-grupo02_2021-lab.pkl'))\n",
    "g20212_t = g20212_t.sort_values('data_liberacao')\n",
    "g20212_t = g20212_t.loc[g20212_t['laboratorio_executor'] != 'Instituto de Biologia Molecular do Paraná - IBMP']\n",
    "\n",
    "print(len(g20212_t))\n",
    "\n",
    "res_g20212_s20212_more_labs, g20212, s20212 = foo(g20212_t,s20212)"
   ]
  },
  {
   "cell_type": "code",
   "execution_count": null,
   "metadata": {},
   "outputs": [],
   "source": [
    "res_final_g20212_s20212 = pd.concat([res_g20212_s20212, res_g20212_s20212_more_labs])\n",
    "\n",
    "res_final_g20212_s20212 = res_final_g20212_s20212.loc[ res_final_g20212_s20212['paciente'] == res_final_g20212_s20212['NM_PACIENT'] ]\n",
    "\n",
    "res_final_g20212_s20212 = res_final_g20212_s20212[['requisicao', 'data_requisicao', 'paciente', 'cpf', 'cns', 'nome_mae', 'municipio', 'data_coleta', 'codigo_amostra', 'numero_amostra', 'numero_interno', 'material_biologico', 'exame', 'metodo', 'resultado', 'virus', 'data_liberacao', 'laboratorio_executor', 'laboratorio_executor_municipio']]\n",
    "\n",
    "res_final_g20212_s20212 = pd.concat([res_final_g20212_s20212, founded_20212])\n",
    "\n",
    "res_final_g20212_s20212.to_csv(join(default_output,'projeto','LACEN_G02_2021.csv'), index=False, sep=';', encoding='utf-8-sig')\n",
    "\n",
    "print(len(res_final_g20212_s20212))\n",
    "table = res_final_g20212_s20212.groupby('laboratorio_executor')[['paciente']].count().reset_index()\n",
    "table.to_csv(join(default_output,'projeto', 'table_4.csv'), index=False, sep=';', encoding='utf-8-sig')\n",
    "display(table)"
   ]
  },
  {
   "cell_type": "markdown",
   "metadata": {},
   "source": [
    "## VERIFICAÇÃO DA SITUAÇÃO VACINAL"
   ]
  },
  {
   "cell_type": "code",
   "execution_count": null,
   "metadata": {},
   "outputs": [],
   "source": [
    "tipos = {\n",
    "    'cns':str,\n",
    "    'cpf':str\n",
    "}"
   ]
  },
  {
   "cell_type": "code",
   "execution_count": null,
   "metadata": {},
   "outputs": [],
   "source": [
    "LACEN_G01_2021 = pd.read_csv(join(default_output,'projeto','LACEN_G01_2021.csv'), sep=';', encoding='utf-8-sig', dtype=tipos, parse_dates=['data_coleta'])\n",
    "LACEN_G01_2021['g'] = 1\n",
    "LACEN_G02_2021 = pd.read_csv(join(default_output,'projeto','LACEN_G02_2021.csv'), sep=';', encoding='utf-8-sig', dtype=tipos, parse_dates=['data_coleta'])\n",
    "LACEN_G02_2021['g'] = 2\n",
    "lacen = pd.concat([LACEN_G01_2021,LACEN_G02_2021]).reset_index().rename(columns={'index':'id'})"
   ]
  },
  {
   "cell_type": "code",
   "execution_count": null,
   "metadata": {},
   "outputs": [],
   "source": [
    "vac = eSUS()\n",
    "vac.load('vacinados')"
   ]
  },
  {
   "cell_type": "code",
   "execution_count": null,
   "metadata": {},
   "outputs": [],
   "source": [
    "lacen['hash_mae'] = (lacen['paciente'].apply(normalize_text) + lacen['nome_mae'].apply(normalize_nome_mae)).apply(normalize_hash)"
   ]
  },
  {
   "cell_type": "code",
   "execution_count": null,
   "metadata": {},
   "outputs": [],
   "source": [
    "vacinados = vac.df\n",
    "\n",
    "casos_vacinados_cns = pd.merge(vacinados,lacen[['cns','id','data_coleta']], on='cns', how='inner')\n",
    "print(len(casos_vacinados_cns))\n",
    "\n",
    "casos_vacinados_cpf = pd.merge(vacinados.loc[vacinados['cpf'].notna()],lacen[['cpf','id','data_coleta']].rename(columns={'NU_CPF':'cpf'}), on='cpf', how='inner')\n",
    "print(len(casos_vacinados_cpf))\n",
    "\n",
    "casos_vacinados_mae = pd.merge(vacinados.loc[vacinados['hash_mae'].notna()],lacen[['hash_mae','id','data_coleta']], on='hash_mae', how='inner')\n",
    "print(len(casos_vacinados_mae))\n",
    "\n",
    "casos_vacinados = pd.concat([casos_vacinados_cns,casos_vacinados_cpf,casos_vacinados_mae]).drop_duplicates('id', keep='first')\n",
    "print(len(casos_vacinados))"
   ]
  },
  {
   "cell_type": "code",
   "execution_count": null,
   "metadata": {},
   "outputs": [],
   "source": [
    "casos_vacinados = casos_vacinados.rename(columns={'data_coleta':'data_diagnostico'})\n",
    "\n",
    "casos_vacinados['dias_entre_dose_diagnostico'] = 0\n",
    "'''\n",
    "se \n",
    "    a data de diagnóstico for anterior a vacinação\n",
    "    ou inconsistencia\n",
    "entao -1\n",
    "'''\n",
    "casos_vacinados.loc[(\n",
    "    (casos_vacinados['situacao'] == 'inconsistencia') |\n",
    "    (casos_vacinados['data_aplicacao_1a_dose'] > casos_vacinados['data_diagnostico'])\n",
    "), 'dias_entre_dose_diagnostico'] = -1\n",
    "\n",
    "'''\n",
    "se \n",
    "    só a primeira dose foi aplicada\n",
    "então    \n",
    "    dias_entre_dose_diagnostico será data_diagnostico - data_aplicacao_1a_dose\n",
    "'''\n",
    "casos_vacinados.loc[(\n",
    "    (casos_vacinados['situacao'] == 'só primeira dose') &\n",
    "    (casos_vacinados['data_aplicacao_1a_dose'] <= casos_vacinados['data_diagnostico'])\n",
    "), 'dias_entre_dose_diagnostico'] = (casos_vacinados.loc[(\n",
    "    (casos_vacinados['situacao'] == 'só primeira dose') &\n",
    "    (casos_vacinados['data_aplicacao_1a_dose'] <= casos_vacinados['data_diagnostico'])\n",
    "), 'data_diagnostico'] - casos_vacinados.loc[(\n",
    "    (casos_vacinados['situacao'] == 'só primeira dose') &\n",
    "    (casos_vacinados['data_aplicacao_1a_dose'] <= casos_vacinados['data_diagnostico'])\n",
    "), 'data_aplicacao_1a_dose']).dt.days\n",
    "\n",
    "'''\n",
    "se \n",
    "    ambas as doses foram aplicadas\n",
    "    e a data de diagnóstico está entre as doses \n",
    "então    \n",
    "    dias_entre_dose_diagnostico será data_diagnostico - data_aplicacao_1a_dose\n",
    "'''\n",
    "casos_vacinados.loc[(\n",
    "    (casos_vacinados['situacao'] == 'ambas doses aplicadas') &\n",
    "    (casos_vacinados['data_aplicacao_1a_dose'] <= casos_vacinados['data_diagnostico']) &\n",
    "    (casos_vacinados['data_aplicacao_2a_dose'] >= casos_vacinados['data_diagnostico'])\n",
    "),'dias_entre_dose_diagnostico'] = (casos_vacinados.loc[(\n",
    "    (casos_vacinados['situacao'] == 'ambas doses aplicadas') &\n",
    "    (casos_vacinados['data_aplicacao_1a_dose'] <= casos_vacinados['data_diagnostico']) &\n",
    "    (casos_vacinados['data_aplicacao_2a_dose'] >= casos_vacinados['data_diagnostico'])\n",
    "),'data_diagnostico'] - casos_vacinados.loc[(\n",
    "    (casos_vacinados['situacao'] == 'ambas doses aplicadas') &\n",
    "    (casos_vacinados['data_aplicacao_1a_dose'] <= casos_vacinados['data_diagnostico']) &\n",
    "    (casos_vacinados['data_aplicacao_2a_dose'] >= casos_vacinados['data_diagnostico'])\n",
    "),'data_aplicacao_1a_dose']).dt.days\n",
    "\n",
    "'''\n",
    "se \n",
    "    ambas as doses foram aplicadas\n",
    "    e a data de diagnóstico está depois da 2 dose\n",
    "então    \n",
    "    os dias entre dose e diagnóstico será data_diagnostico - data_aplicacao_2a_dose\n",
    "'''\n",
    "casos_vacinados.loc[(\n",
    "    (casos_vacinados['situacao'] == 'ambas doses aplicadas') &\n",
    "    (casos_vacinados['data_aplicacao_2a_dose'] <= casos_vacinados['data_diagnostico'])\n",
    "),'dias_entre_dose_diagnostico'] = (casos_vacinados.loc[(\n",
    "    (casos_vacinados['situacao'] == 'ambas doses aplicadas') &\n",
    "    (casos_vacinados['data_aplicacao_2a_dose'] <= casos_vacinados['data_diagnostico'])\n",
    "),'data_diagnostico'] - casos_vacinados.loc[(\n",
    "    (casos_vacinados['situacao'] == 'ambas doses aplicadas') &\n",
    "    (casos_vacinados['data_aplicacao_2a_dose'] <= casos_vacinados['data_diagnostico'])\n",
    "),'data_aplicacao_2a_dose']).dt.days\n",
    "\n",
    "casos_vacinados['vacinado'] = 0\n",
    "\n",
    "casos_vacinados.loc[\n",
    "    (\n",
    "        (casos_vacinados['situacao']=='ambas doses aplicadas') & \n",
    "        (casos_vacinados['data_diagnostico'] <= casos_vacinados['data_aplicacao_2a_dose'] ) &\n",
    "        (casos_vacinados['data_diagnostico'] >= casos_vacinados['data_aplicacao_1a_dose'] )\n",
    "    ) | (\n",
    "        (casos_vacinados['situacao']=='só primeira dose') & \n",
    "        (casos_vacinados['data_diagnostico'] >= casos_vacinados['data_aplicacao_1a_dose'] )\n",
    "    )\n",
    ",'vacinado'] = 1 # contaminação entre as doses | vacinado com uma dose porém não imunizado\n",
    "\n",
    "casos_vacinados.loc[\n",
    "    (casos_vacinados['situacao']=='dose unica aplicada') & \n",
    "    (casos_vacinados['data_diagnostico'] > (casos_vacinados['data_aplicacao_2a_dose']) )\n",
    ",'vacinado'] = 2 # contaminação depois da dose unica | vacinados com a dose unica porém não imunizado\n",
    "\n",
    "casos_vacinados.loc[\n",
    "    (casos_vacinados['situacao']=='ambas doses aplicadas') & \n",
    "    (casos_vacinados['data_diagnostico'] > (casos_vacinados['data_aplicacao_2a_dose']) )\n",
    ",'vacinado'] = 3 # contaminação depois da segunda dose | vacinados com as duas dose porém não imunizado\n",
    "\n",
    "casos_vacinados.loc[\n",
    "    (casos_vacinados['situacao']=='dose unica aplicada') & \n",
    "    (casos_vacinados['data_diagnostico'] > (casos_vacinados['data_aplicacao_2a_dose'] + timedelta(14)) )\n",
    ",'vacinado'] = 4 # contaminação depois da imunização dose unica \n",
    "\n",
    "casos_vacinados.loc[\n",
    "    (casos_vacinados['situacao']=='ambas doses aplicadas') & \n",
    "    (casos_vacinados['data_diagnostico'] > (casos_vacinados['data_aplicacao_2a_dose'] + timedelta(14)) )\n",
    ",'vacinado'] = 5 # contaminação depois da imunização com as duas dose"
   ]
  },
  {
   "cell_type": "code",
   "execution_count": null,
   "metadata": {},
   "outputs": [],
   "source": [
    "casos_vacinados"
   ]
  },
  {
   "cell_type": "code",
   "execution_count": null,
   "metadata": {},
   "outputs": [],
   "source": [
    "casos = pd.merge(lacen,casos_vacinados[['id','vacinado']],how='left',on='id')\n",
    "casos['vacinado'] = casos['vacinado'].fillna(0)\n",
    "casos = casos.replace({'vacinado':{0: 'Não vacinado', 1: 'Entre as doses', 2: 'Após dose única', 3:'Após 2ª dose', 4: 'Após imunizado dose única', 5: 'Após imunizado 2ª dose'}})"
   ]
  },
  {
   "cell_type": "code",
   "execution_count": null,
   "metadata": {},
   "outputs": [],
   "source": [
    "casos.groupby(['vacinado','g'])[['id']].count().unstack(-1)"
   ]
  },
  {
   "cell_type": "code",
   "execution_count": null,
   "metadata": {},
   "outputs": [],
   "source": [
    "LACEN_G01_2021_NAO_VACINADO = casos.loc[(casos['g']==1)&(casos['vacinado']=='Não vacinado')].drop(columns=['g','vacinado','hash_mae'])\n",
    "LACEN_G02_2021_NAO_VACINADO = casos.loc[(casos['g']==2)&(casos['vacinado']=='Não vacinado')].drop(columns=['g','vacinado','hash_mae'])"
   ]
  },
  {
   "cell_type": "code",
   "execution_count": null,
   "metadata": {},
   "outputs": [],
   "source": [
    "table = LACEN_G01_2021_NAO_VACINADO.groupby('laboratorio_executor')[['paciente']].count().reset_index()\n",
    "table.to_csv(join(default_output,'projeto', 'table_5.csv'), index=False, sep=';', encoding='utf-8-sig')\n",
    "display(table)"
   ]
  },
  {
   "cell_type": "code",
   "execution_count": null,
   "metadata": {},
   "outputs": [],
   "source": [
    "table = LACEN_G02_2021_NAO_VACINADO.groupby('laboratorio_executor')[['paciente']].count().reset_index()\n",
    "table.to_csv(join(default_output,'projeto', 'table_6.csv'), index=False, sep=';', encoding='utf-8-sig')\n",
    "display(table)"
   ]
  },
  {
   "cell_type": "code",
   "execution_count": null,
   "metadata": {},
   "outputs": [],
   "source": [
    "LACEN_G01_2021_NAO_VACINADO.to_csv(join(default_output,'projeto','LACEN_G01_2021_NAO_VACINADO.csv'), index=False, sep=';', encoding='utf-8-sig')\n",
    "LACEN_G02_2021_NAO_VACINADO.to_csv(join(default_output,'projeto','LACEN_G02_2021_NAO_VACINADO.csv'), index=False, sep=';', encoding='utf-8-sig')"
   ]
  },
  {
   "cell_type": "code",
   "execution_count": null,
   "metadata": {},
   "outputs": [],
   "source": []
  },
  {
   "cell_type": "code",
   "execution_count": null,
   "metadata": {},
   "outputs": [],
   "source": [
    "old = pd.read_excel('LACEN_G02_2020.xlsx')\n",
    "print(len(old))\n",
    "list_old = set(old['requisicao'])"
   ]
  },
  {
   "cell_type": "code",
   "execution_count": null,
   "metadata": {},
   "outputs": [],
   "source": [
    "new = pd.read_excel('LACEN_G02_2020_new.xlsx')\n",
    "print(len(new))\n",
    "list_new = set(new['requisicao'])"
   ]
  },
  {
   "cell_type": "code",
   "execution_count": null,
   "metadata": {},
   "outputs": [],
   "source": [
    "teste = pd.concat([old, new])\n",
    "teste = teste.drop_duplicates('requisicao', keep='first')\n",
    "testao = set(teste['requisicao'])"
   ]
  },
  {
   "cell_type": "code",
   "execution_count": null,
   "metadata": {},
   "outputs": [],
   "source": [
    "conjunto_resultante = list_new.difference(list_old)\n",
    "print(len(conjunto_resultante))\n",
    "conjunto_resultante"
   ]
  },
  {
   "cell_type": "code",
   "execution_count": null,
   "metadata": {},
   "outputs": [],
   "source": [
    "search=200206006835.0"
   ]
  },
  {
   "cell_type": "code",
   "execution_count": null,
   "metadata": {},
   "outputs": [],
   "source": [
    "old.loc[old['requisicao']==search]"
   ]
  },
  {
   "cell_type": "code",
   "execution_count": null,
   "metadata": {},
   "outputs": [],
   "source": [
    "new.loc[new['requisicao']==search]"
   ]
  },
  {
   "cell_type": "code",
   "execution_count": null,
   "metadata": {},
   "outputs": [],
   "source": [
    "resultado = new.loc[new['requisicao'].isin(conjunto_resultante)]"
   ]
  },
  {
   "cell_type": "code",
   "execution_count": null,
   "metadata": {},
   "outputs": [],
   "source": [
    "resultado.to_excel('LACEN_grupo02.xlsx', index=False)"
   ]
  },
  {
   "cell_type": "code",
   "execution_count": null,
   "metadata": {},
   "outputs": [],
   "source": []
  }
 ],
 "metadata": {
  "interpreter": {
   "hash": "1cdc22e96f16e7a709941e5164353478df3c5a2dca8a048b5ddcd85bd66dd558"
  },
  "kernelspec": {
   "display_name": "Python 3 (ipykernel)",
   "language": "python",
   "name": "python3"
  },
  "language_info": {
   "codemirror_mode": {
    "name": "ipython",
    "version": 3
   },
   "file_extension": ".py",
   "mimetype": "text/x-python",
   "name": "python",
   "nbconvert_exporter": "python",
   "pygments_lexer": "ipython3",
   "version": "3.8.11"
  }
 },
 "nbformat": 4,
 "nbformat_minor": 4
}
