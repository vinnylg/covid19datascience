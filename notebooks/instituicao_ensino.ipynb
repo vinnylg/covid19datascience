{
 "cells": [
  {
   "cell_type": "code",
   "execution_count": null,
   "id": "cec8cdcd",
   "metadata": {},
   "outputs": [],
   "source": [
    "## set covid19_datasciente as path for python find bulletin package\n",
    "import sys\n",
    "from pathlib import Path\n",
    "from os import getcwd, remove, chdir, listdir\n",
    "from os.path import join, basename\n",
    "\n",
    "sys.path.append(str(Path(getcwd()).parent))\n",
    "current_dir = getcwd()\n",
    "print(current_dir)"
   ]
  },
  {
   "cell_type": "code",
   "execution_count": null,
   "id": "9f137cfe",
   "metadata": {},
   "outputs": [],
   "source": [
    "from datetime import date\n",
    "import pandas as pd\n",
    "import numpy as np"
   ]
  },
  {
   "cell_type": "code",
   "execution_count": null,
   "id": "9ff79c5d",
   "metadata": {},
   "outputs": [],
   "source": [
    "from bulletin import default_output, tables_path\n",
    "from bulletin.systems.notifica import Notifica"
   ]
  },
  {
   "cell_type": "code",
   "execution_count": null,
   "id": "c4f926e5",
   "metadata": {},
   "outputs": [],
   "source": [
    "tables = {f:pd.read_csv(join(tables_path,f'{f}.csv')) for f in [ Path(f).stem for f in listdir(tables_path) if '.csv' in f ] }\n",
    "tables['faixa_etaria_populacao']"
   ]
  },
  {
   "cell_type": "code",
   "execution_count": null,
   "id": "1277d9e3",
   "metadata": {},
   "outputs": [],
   "source": [
    "nt = Notifica()\n",
    "nt.load('notifica', compress=False)\n",
    "nt.df"
   ]
  },
  {
   "cell_type": "code",
   "execution_count": null,
   "id": "341b4490",
   "metadata": {},
   "outputs": [],
   "source": [
    "nt.tables['instituicao_ensino'] = nt.tables['instituicao_ensino'].set_index('id')\n",
    "nt.tables['instituicao_ensino'].loc[-1] = 'Não Informado'"
   ]
  },
  {
   "cell_type": "code",
   "execution_count": null,
   "id": "b0e6ed82",
   "metadata": {},
   "outputs": [],
   "source": [
    "total_periodo = nt.df.loc[(nt.df['data_notificacao']>='2022-02-14') & (nt.df['data_notificacao']<='2022-02-18'),['id','idade','classificacao_final','evolucao','data_diagnostico','instituicao_ensino','excluir_ficha','status_notificacao']].join(nt.tables['instituicao_ensino'], on='instituicao_ensino')"
   ]
  },
  {
   "cell_type": "code",
   "execution_count": null,
   "id": "129ee694",
   "metadata": {},
   "outputs": [],
   "source": [
    "total_periodo.groupby(['dependencia_administrativa','classificacao_final'],dropna=False)[['id']].count().unstack('classificacao_final').rename(columns=nt.tables['classificacao_final'].set_index('id')['classificacao_final']).fillna(0).astype(int).droplevel(axis=1,level=0).sort_values(by='Caso confirmado')"
   ]
  },
  {
   "cell_type": "code",
   "execution_count": null,
   "id": "26131bf5",
   "metadata": {},
   "outputs": [],
   "source": [
    "total_periodo.pivot_table(index='dependencia_administrativa', columns='classificacao_final', values='id', aggfunc='count', margins=True, margins_name='Total',fill_value=0).rename(columns=nt.tables['classificacao_final'].set_index('id')['classificacao_final']).sort_values(by='Total')"
   ]
  },
  {
   "cell_type": "code",
   "execution_count": null,
   "id": "d02db3f1",
   "metadata": {},
   "outputs": [],
   "source": [
    "total_periodo['idade_bins'] = np.digitize(total_periodo['idade'],[10,17],right=True)\n",
    "total_periodo.pivot_table(index='dependencia_administrativa', columns='idade_bins', values='id', aggfunc='count', margins=True, margins_name='Total',fill_value=0).rename(index=nt.tables['classificacao_final'].set_index('id')['classificacao_final']).sort_values(by='Total').rename(columns={0:'0-10',1:'11-17',2:'18+'}, level='idade_bins')"
   ]
  },
  {
   "cell_type": "code",
   "execution_count": null,
   "id": "20784131",
   "metadata": {},
   "outputs": [],
   "source": [
    "possiveis_estudantes = nt.df.loc[(nt.df['idade']>=11) & (nt.df['idade']<=17) & (nt.df['data_notificacao']>='2022-02-14') & (nt.df['data_notificacao']<='2022-02-18'),['id','idade','classificacao_final','evolucao','data_diagnostico','instituicao_ensino','excluir_ficha','status_notificacao']].join(nt.tables['instituicao_ensino'], on='instituicao_ensino')"
   ]
  },
  {
   "cell_type": "code",
   "execution_count": null,
   "id": "df189558",
   "metadata": {},
   "outputs": [],
   "source": [
    "possiveis_estudantes.groupby(['dependencia_administrativa','classificacao_final'],dropna=False)[['id']].count().unstack('classificacao_final').rename(columns=nt.tables['classificacao_final'].set_index('id')['classificacao_final']).fillna(0).astype(int).droplevel(axis=1,level=0).sort_values(by='Caso confirmado')"
   ]
  },
  {
   "cell_type": "code",
   "execution_count": null,
   "id": "f8e817a1",
   "metadata": {},
   "outputs": [],
   "source": [
    "possiveis_estudantes.pivot_table(index='dependencia_administrativa', columns='classificacao_final', values='id', aggfunc='count', margins=True, margins_name='Total',fill_value=0).rename(columns=nt.tables['classificacao_final'].set_index('id')['classificacao_final']).sort_values(by='Total')"
   ]
  },
  {
   "cell_type": "code",
   "execution_count": null,
   "id": "23444b82",
   "metadata": {},
   "outputs": [],
   "source": []
  }
 ],
 "metadata": {
  "kernelspec": {
   "display_name": "Python 3 (ipykernel)",
   "language": "python",
   "name": "python3"
  },
  "language_info": {
   "codemirror_mode": {
    "name": "ipython",
    "version": 3
   },
   "file_extension": ".py",
   "mimetype": "text/x-python",
   "name": "python",
   "nbconvert_exporter": "python",
   "pygments_lexer": "ipython3",
   "version": "3.8.11"
  }
 },
 "nbformat": 4,
 "nbformat_minor": 5
}
