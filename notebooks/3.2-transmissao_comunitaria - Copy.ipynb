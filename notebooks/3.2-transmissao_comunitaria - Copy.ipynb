{
 "cells": [
  {
   "cell_type": "code",
   "execution_count": null,
   "id": "86e79cda",
   "metadata": {
    "execution": {
     "iopub.execute_input": "2021-12-20T14:55:02.568786Z",
     "iopub.status.busy": "2021-12-20T14:55:02.568786Z",
     "iopub.status.idle": "2021-12-20T14:55:02.600016Z",
     "shell.execute_reply": "2021-12-20T14:55:02.600016Z",
     "shell.execute_reply.started": "2021-12-20T14:55:02.568786Z"
    }
   },
   "outputs": [],
   "source": [
    "import sys\n",
    "from pathlib import Path\n",
    "from os import getcwd\n",
    "from os.path import join, basename\n",
    "\n",
    "sys.path.append(str(Path(getcwd()).parent))"
   ]
  },
  {
   "cell_type": "code",
   "execution_count": null,
   "id": "1efeea72",
   "metadata": {
    "execution": {
     "iopub.execute_input": "2021-12-20T14:55:02.600016Z",
     "iopub.status.busy": "2021-12-20T14:55:02.600016Z",
     "iopub.status.idle": "2021-12-20T14:55:04.409776Z",
     "shell.execute_reply": "2021-12-20T14:55:04.409776Z",
     "shell.execute_reply.started": "2021-12-20T14:55:02.600016Z"
    }
   },
   "outputs": [],
   "source": [
    "from bulletin import root, default_input, default_output, agora, hoje, ontem, anteontem, dias_apos, dias_apos_label\n",
    "from bulletin.systems import CasosConfirmados, Notifica"
   ]
  },
  {
   "cell_type": "code",
   "execution_count": null,
   "id": "1965e69a",
   "metadata": {
    "execution": {
     "iopub.execute_input": "2021-12-20T14:55:04.409776Z",
     "iopub.status.busy": "2021-12-20T14:55:04.409776Z",
     "iopub.status.idle": "2021-12-20T14:55:04.425404Z",
     "shell.execute_reply": "2021-12-20T14:55:04.425404Z",
     "shell.execute_reply.started": "2021-12-20T14:55:04.409776Z"
    }
   },
   "outputs": [],
   "source": [
    "import pandas as pd\n",
    "from datetime import date, timedelta\n",
    "from os.path import join\n",
    "from epiweeks import Week\n",
    "\n",
    "path_file = join('C:\\\\', 'SESA', 'covid19datascience-dev', 'bulletin', 'database', 'gal')"
   ]
  },
  {
   "cell_type": "markdown",
   "id": "f0ae55e8",
   "metadata": {},
   "source": [
    "### 1. Coeficiente de Incidência"
   ]
  },
  {
   "cell_type": "code",
   "execution_count": null,
   "id": "060e7ee1",
   "metadata": {
    "execution": {
     "iopub.execute_input": "2021-12-20T14:55:04.425404Z",
     "iopub.status.busy": "2021-12-20T14:55:04.425404Z",
     "iopub.status.idle": "2021-12-20T14:55:35.667498Z",
     "shell.execute_reply": "2021-12-20T14:55:35.666509Z",
     "shell.execute_reply.started": "2021-12-20T14:55:04.425404Z"
    }
   },
   "outputs": [],
   "source": [
    "cc = CasosConfirmados()\n",
    "cc.load(f\"cc_{ontem.strftime('%d_%m_%Y')}\", compress=True)"
   ]
  },
  {
   "cell_type": "code",
   "execution_count": null,
   "id": "119426c6",
   "metadata": {
    "execution": {
     "iopub.execute_input": "2021-12-20T14:55:35.668491Z",
     "iopub.status.busy": "2021-12-20T14:55:35.668491Z",
     "iopub.status.idle": "2021-12-20T14:55:35.679510Z",
     "shell.execute_reply": "2021-12-20T14:55:35.678493Z",
     "shell.execute_reply.started": "2021-12-20T14:55:35.668491Z"
    }
   },
   "outputs": [],
   "source": [
    "init = hoje - timedelta(6)\n",
    "end = hoje\n",
    "print(init, end)"
   ]
  },
  {
   "cell_type": "code",
   "execution_count": null,
   "id": "fba2c491",
   "metadata": {},
   "outputs": [],
   "source": [
    "# init = pd.to_datetime(Week.thisweek().startdate() - timedelta(7))\n",
    "# end = pd.to_datetime(Week.thisweek().enddate() - timedelta(7))\n",
    "# print(init, end)"
   ]
  },
  {
   "cell_type": "code",
   "execution_count": null,
   "id": "bef45a40",
   "metadata": {
    "execution": {
     "iopub.execute_input": "2021-12-20T14:55:35.681507Z",
     "iopub.status.busy": "2021-12-20T14:55:35.680497Z",
     "iopub.status.idle": "2021-12-20T14:55:38.691524Z",
     "shell.execute_reply": "2021-12-20T14:55:38.690530Z",
     "shell.execute_reply.started": "2021-12-20T14:55:35.681507Z"
    }
   },
   "outputs": [],
   "source": [
    "semana = cc.df.loc[cc.df['uf_residencia']=='PR']\n",
    "semana = semana.loc[(semana['data_diagnostico'] >= init) & (semana['data_diagnostico'] <= end)]"
   ]
  },
  {
   "cell_type": "code",
   "execution_count": null,
   "id": "10599603",
   "metadata": {
    "execution": {
     "iopub.execute_input": "2021-12-20T14:55:38.692586Z",
     "iopub.status.busy": "2021-12-20T14:55:38.692586Z",
     "iopub.status.idle": "2021-12-20T14:55:38.741575Z",
     "shell.execute_reply": "2021-12-20T14:55:38.740582Z",
     "shell.execute_reply.started": "2021-12-20T14:55:38.692586Z"
    }
   },
   "outputs": [],
   "source": [
    "casos_semana = semana.join(cc.tables['municipios'].set_index('ibge')[['rs','regional','municipio','populacao']], on='ibge_residencia').groupby(['rs','regional','municipio'])[['paciente']].count().rename(columns={'paciente':'casos'})\n",
    "# casos_semana.loc[('','','PR'),:] = casos_semana.sum()\n",
    "casos_semana"
   ]
  },
  {
   "cell_type": "code",
   "execution_count": null,
   "id": "2e5aaef2",
   "metadata": {
    "execution": {
     "iopub.execute_input": "2021-12-20T14:55:38.742550Z",
     "iopub.status.busy": "2021-12-20T14:55:38.742550Z",
     "iopub.status.idle": "2021-12-20T14:55:38.756576Z",
     "shell.execute_reply": "2021-12-20T14:55:38.755580Z",
     "shell.execute_reply.started": "2021-12-20T14:55:38.742550Z"
    }
   },
   "outputs": [],
   "source": [
    "pop_reg = cc.tables['municipios'].loc[cc.tables['municipios']['uf']=='PR'].groupby(['rs','regional','municipio'])[['populacao']].sum()\n",
    "# pop_reg.loc[('','','PR'),:] = pop_reg.sum()"
   ]
  },
  {
   "cell_type": "code",
   "execution_count": null,
   "id": "40dc755f",
   "metadata": {},
   "outputs": [],
   "source": [
    "casos_semana = casos_semana.reindex(pop_reg.index).fillna(0)\n",
    "coef_reg = casos_semana / pop_reg.values * 100000\n",
    "coef_reg = coef_reg.rename(columns={'casos':'value'})"
   ]
  },
  {
   "cell_type": "code",
   "execution_count": null,
   "id": "2dd0f4fd",
   "metadata": {
    "execution": {
     "iopub.execute_input": "2021-12-20T14:55:38.766552Z",
     "iopub.status.busy": "2021-12-20T14:55:38.766552Z",
     "iopub.status.idle": "2021-12-20T14:55:38.804548Z",
     "shell.execute_reply": "2021-12-20T14:55:38.804548Z",
     "shell.execute_reply.started": "2021-12-20T14:55:38.766552Z"
    }
   },
   "outputs": [],
   "source": [
    "df = pop_reg.join(casos_semana).join(coef_reg).reset_index()\n",
    "df.loc[(df['casos']<200) & (df['value']<10),'label'] = 'L'\n",
    "df.loc[(df['casos']<200) & (df['value']>10) & (df['value']<20),'label'] = 'M'\n",
    "df.loc[(df['casos']<200) & (df['value']>20),'label'] = 'H'\n",
    "\n",
    "df.loc[(df['casos']>=200) & (df['value']<10),'label'] = 'M'\n",
    "df.loc[(df['casos']>=200) & (df['value']>=10),'label'] = 'H'\n",
    "\n",
    "df"
   ]
  },
  {
   "cell_type": "code",
   "execution_count": null,
   "id": "8c04b8ec",
   "metadata": {},
   "outputs": [],
   "source": [
    "df2 = df.reset_index().groupby(['rs','regional','label'])['casos'].count().unstack('label')\n",
    "df2.loc[('','Total'),:] = df2.sum(axis=0)\n",
    "df2 = df2.fillna(0).astype(int)\n",
    "df2"
   ]
  },
  {
   "cell_type": "code",
   "execution_count": null,
   "id": "edfb3915",
   "metadata": {
    "execution": {
     "iopub.execute_input": "2021-12-20T14:55:38.806536Z",
     "iopub.status.busy": "2021-12-20T14:55:38.806536Z",
     "iopub.status.idle": "2021-12-20T14:55:38.840544Z",
     "shell.execute_reply": "2021-12-20T14:55:38.840544Z",
     "shell.execute_reply.started": "2021-12-20T14:55:38.806536Z"
    }
   },
   "outputs": [],
   "source": [
    "df.to_excel(join(default_output, 'dash', 'coef_regional.xlsx'), index=False)"
   ]
  },
  {
   "cell_type": "markdown",
   "id": "ecee94f6",
   "metadata": {},
   "source": [
    "### 2. Positividade de Testes"
   ]
  },
  {
   "cell_type": "code",
   "execution_count": null,
   "id": "4e1fe6be",
   "metadata": {
    "execution": {
     "iopub.execute_input": "2021-12-20T14:55:38.844538Z",
     "iopub.status.busy": "2021-12-20T14:55:38.843537Z",
     "iopub.status.idle": "2021-12-20T14:55:38.848538Z",
     "shell.execute_reply": "2021-12-20T14:55:38.848538Z",
     "shell.execute_reply.started": "2021-12-20T14:55:38.844538Z"
    }
   },
   "outputs": [],
   "source": [
    "today = date.today()\n",
    "seven_days_ago = today - timedelta(6)"
   ]
  },
  {
   "cell_type": "code",
   "execution_count": null,
   "id": "bcf96822",
   "metadata": {
    "execution": {
     "iopub.execute_input": "2021-12-20T14:55:38.851555Z",
     "iopub.status.busy": "2021-12-20T14:55:38.850565Z",
     "iopub.status.idle": "2021-12-20T14:56:07.214780Z",
     "shell.execute_reply": "2021-12-20T14:56:07.213789Z",
     "shell.execute_reply.started": "2021-12-20T14:55:38.851555Z"
    }
   },
   "outputs": [],
   "source": [
    "# gal_2020 = pd.read_pickle(join(path_file, 'banco_gal_2020-bz2.pkl'), compression='bz2')\n",
    "# gal_2020 = gal_2020#[['id', 'data_requisicao', 'unidade_requisitante_municipio', 'unidade_requisitante_uf', 'ibge', 'municipio', 'regional', 'exame', 'metodo', 'resultado', 'virus', 'data_liberacao', 'laboratorio_executor', 'status', 'classificacao']]"
   ]
  },
  {
   "cell_type": "code",
   "execution_count": null,
   "id": "7d02f789",
   "metadata": {
    "execution": {
     "iopub.execute_input": "2021-12-20T14:56:07.215781Z",
     "iopub.status.busy": "2021-12-20T14:56:07.215781Z",
     "iopub.status.idle": "2021-12-20T14:57:06.813357Z",
     "shell.execute_reply": "2021-12-20T14:57:06.813357Z",
     "shell.execute_reply.started": "2021-12-20T14:56:07.215781Z"
    }
   },
   "outputs": [],
   "source": [
    "# gal_2021 = pd.read_pickle(join(path_file, 'banco_gal_2021-bz2.pkl'), compression='bz2')\n",
    "# gal_2021 = gal_2021#[['id', 'data_requisicao', 'unidade_requisitante_municipio', 'unidade_requisitante_uf', 'ibge', 'municipio', 'regional', 'exame', 'metodo', 'resultado', 'virus', 'data_liberacao', 'laboratorio_executor', 'status', 'classificacao']]"
   ]
  },
  {
   "cell_type": "code",
   "execution_count": null,
   "id": "0ea65579",
   "metadata": {
    "execution": {
     "iopub.execute_input": "2021-12-20T14:57:06.813357Z",
     "iopub.status.busy": "2021-12-20T14:57:06.813357Z",
     "iopub.status.idle": "2021-12-20T14:57:12.322142Z",
     "shell.execute_reply": "2021-12-20T14:57:12.322142Z",
     "shell.execute_reply.started": "2021-12-20T14:57:06.813357Z"
    }
   },
   "outputs": [],
   "source": [
    "gal_complemento = pd.read_csv(join(path_file, 'consulta-gal-complemento.csv'), sep = ';')#, usecols=['id', 'data_requisicao', 'unidade_requisitante_municipio', 'unidade_requisitante_uf', 'ibge', 'municipio', 'regional', 'exame', 'metodo', 'resultado', 'virus', 'data_liberacao', 'laboratorio_executor', 'status', 'classificacao'])"
   ]
  },
  {
   "cell_type": "code",
   "execution_count": null,
   "id": "0b7fccc4",
   "metadata": {
    "execution": {
     "iopub.execute_input": "2021-12-20T14:57:12.322142Z",
     "iopub.status.busy": "2021-12-20T14:57:12.322142Z",
     "iopub.status.idle": "2021-12-20T14:57:14.276322Z",
     "shell.execute_reply": "2021-12-20T14:57:14.276322Z",
     "shell.execute_reply.started": "2021-12-20T14:57:12.322142Z"
    }
   },
   "outputs": [],
   "source": [
    "# gal = pd.concat([gal_2020, gal_2021, gal_complemento])\n",
    "gal = pd.concat([gal_complemento])"
   ]
  },
  {
   "cell_type": "code",
   "execution_count": null,
   "id": "f2446a40",
   "metadata": {
    "execution": {
     "iopub.execute_input": "2021-12-20T14:57:14.276322Z",
     "iopub.status.busy": "2021-12-20T14:57:14.276322Z",
     "iopub.status.idle": "2021-12-20T14:57:21.063656Z",
     "shell.execute_reply": "2021-12-20T14:57:21.063656Z",
     "shell.execute_reply.started": "2021-12-20T14:57:14.276322Z"
    }
   },
   "outputs": [],
   "source": [
    "boletim = gal.loc[gal[\"virus\"] == 'Coronavírus SARS-CoV2']\n",
    "boletim = boletim.loc[boletim['unidade_requisitante_uf'] == 'PARANA']\n",
    "boletim = boletim.loc[boletim['regional'] != 'Outra UF']"
   ]
  },
  {
   "cell_type": "code",
   "execution_count": null,
   "id": "96d505f0",
   "metadata": {
    "execution": {
     "iopub.execute_input": "2021-12-20T14:57:21.063656Z",
     "iopub.status.busy": "2021-12-20T14:57:21.063656Z",
     "iopub.status.idle": "2021-12-20T14:57:21.759412Z",
     "shell.execute_reply": "2021-12-20T14:57:21.759412Z",
     "shell.execute_reply.started": "2021-12-20T14:57:21.063656Z"
    }
   },
   "outputs": [],
   "source": [
    "init = str(seven_days_ago) + \" 00:00:00\"\n",
    "print(init)\n",
    "boletim = boletim.loc[boletim['data_liberacao'] >= init]"
   ]
  },
  {
   "cell_type": "code",
   "execution_count": null,
   "id": "bcb6646f",
   "metadata": {
    "execution": {
     "iopub.execute_input": "2021-12-20T14:57:21.759412Z",
     "iopub.status.busy": "2021-12-20T14:57:21.759412Z",
     "iopub.status.idle": "2021-12-20T14:57:21.790703Z",
     "shell.execute_reply": "2021-12-20T14:57:21.790703Z",
     "shell.execute_reply.started": "2021-12-20T14:57:21.759412Z"
    }
   },
   "outputs": [],
   "source": [
    "descartado = boletim.loc[boletim['classificacao'] == 'Descartado']\n",
    "descartado = descartado[['id', 'regional']].groupby(['regional']).count().reset_index()\n",
    "descartado = descartado.rename(columns={'id':'Descartado'})\n",
    "# descartado"
   ]
  },
  {
   "cell_type": "code",
   "execution_count": null,
   "id": "0e1882b5",
   "metadata": {
    "execution": {
     "iopub.execute_input": "2021-12-20T14:57:21.790703Z",
     "iopub.status.busy": "2021-12-20T14:57:21.790703Z",
     "iopub.status.idle": "2021-12-20T14:57:21.821960Z",
     "shell.execute_reply": "2021-12-20T14:57:21.821960Z",
     "shell.execute_reply.started": "2021-12-20T14:57:21.790703Z"
    }
   },
   "outputs": [],
   "source": [
    "confirmado = boletim.loc[boletim['classificacao'] == 'Confirmado']\n",
    "confirmado = confirmado[['id', 'regional']].groupby(['regional']).count().reset_index()\n",
    "confirmado = confirmado.rename(columns={'id':'Confirmado'})\n",
    "confirmado"
   ]
  },
  {
   "cell_type": "code",
   "execution_count": null,
   "id": "40052114",
   "metadata": {
    "execution": {
     "iopub.execute_input": "2021-12-20T14:57:21.821960Z",
     "iopub.status.busy": "2021-12-20T14:57:21.821960Z",
     "iopub.status.idle": "2021-12-20T14:57:21.868842Z",
     "shell.execute_reply": "2021-12-20T14:57:21.868842Z",
     "shell.execute_reply.started": "2021-12-20T14:57:21.821960Z"
    }
   },
   "outputs": [],
   "source": [
    "tabela = pd.DataFrame()\n",
    "tabela = pd.merge(left=descartado, right=confirmado, how='left', on=['regional']).fillna(0)\n",
    "\n",
    "\n",
    "tabela.loc[tabela['regional'] == '1ª R.S. - Paranaguá', 'regional'] = 'RS01'\n",
    "tabela.loc[tabela['regional'] == '2ª R.S. - Metropolitana', 'regional'] = 'RS02'\n",
    "tabela.loc[tabela['regional'] == '3ª R.S. - Ponta Grossa', 'regional'] = 'RS03'\n",
    "tabela.loc[tabela['regional'] == '4ª R.S. - Irati', 'regional'] = 'RS04'\n",
    "tabela.loc[tabela['regional'] == '5ª  R.S. - Guarapuava', 'regional'] = 'RS05'\n",
    "tabela.loc[tabela['regional'] == '6ª R.S. - União da Vitória', 'regional'] = 'RS06'\n",
    "tabela.loc[tabela['regional'] == '7ª R.S. - Pato Branco', 'regional'] = 'RS07'\n",
    "tabela.loc[tabela['regional'] == '8ª R.S. - Francisco Beltrão', 'regional'] = 'RS08'\n",
    "tabela.loc[tabela['regional'] == '9ª R.S. - Foz do Iguaçu', 'regional'] = 'RS09'\n",
    "tabela.loc[tabela['regional'] == '10ª R.S. - Cascavel', 'regional'] = 'RS10'\n",
    "tabela.loc[tabela['regional'] == '11ª R.S. - Campo Mourão', 'regional'] = 'RS11'\n",
    "tabela.loc[tabela['regional'] == '12ª R.S. - Umuarama', 'regional'] = 'RS12'\n",
    "tabela.loc[tabela['regional'] == '13ª R.S. - Cianorte', 'regional'] = 'RS13'\n",
    "tabela.loc[tabela['regional'] == '14ª R.S. - Paranavaí', 'regional'] = 'RS14'\n",
    "tabela.loc[tabela['regional'] == '15ª R.S. - Maringá', 'regional'] = 'RS15'\n",
    "tabela.loc[tabela['regional'] == '16ª R.S. - Apucarana', 'regional'] = 'RS16'\n",
    "tabela.loc[tabela['regional'] == '17ª R.S. - Londrina', 'regional'] = 'RS17'\n",
    "tabela.loc[tabela['regional'] == '18ª R.S. - Cornélio Procópio', 'regional'] = 'RS18'\n",
    "tabela.loc[tabela['regional'] == '19ª R.S. - Jacarezinho', 'regional'] = 'RS19'\n",
    "tabela.loc[tabela['regional'] == '20ª R.S. - Toledo', 'regional'] = 'RS20'\n",
    "tabela.loc[tabela['regional'] == '21ª R.S. - Telêmaco Borba', 'regional'] = 'RS21'\n",
    "tabela.loc[tabela['regional'] == '22ª R.S. - Ivaiporã', 'regional'] = 'RS22'\n",
    "\n",
    "\n",
    "tabela = tabela.sort_values('regional')"
   ]
  },
  {
   "cell_type": "code",
   "execution_count": null,
   "id": "a10f5ba5",
   "metadata": {
    "execution": {
     "iopub.execute_input": "2021-12-20T14:57:21.868842Z",
     "iopub.status.busy": "2021-12-20T14:57:21.868842Z",
     "iopub.status.idle": "2021-12-20T14:57:21.884421Z",
     "shell.execute_reply": "2021-12-20T14:57:21.884421Z",
     "shell.execute_reply.started": "2021-12-20T14:57:21.868842Z"
    }
   },
   "outputs": [],
   "source": [
    "tabela.loc['TOTAL PR', ['Descartado', 'Confirmado']] = tabela[['Descartado', 'Confirmado']].sum()\n",
    "\n",
    "tabela['TOTAL'] = tabela['Descartado'] + tabela['Confirmado']\n",
    "tabela['POSITIVIDADE'] = tabela['Confirmado'] / tabela['TOTAL']"
   ]
  },
  {
   "cell_type": "code",
   "execution_count": null,
   "id": "f195a547",
   "metadata": {
    "execution": {
     "iopub.execute_input": "2021-12-20T14:57:21.884421Z",
     "iopub.status.busy": "2021-12-20T14:57:21.884421Z",
     "iopub.status.idle": "2021-12-20T14:57:21.931271Z",
     "shell.execute_reply": "2021-12-20T14:57:21.931271Z",
     "shell.execute_reply.started": "2021-12-20T14:57:21.884421Z"
    }
   },
   "outputs": [],
   "source": [
    "tabela['label'] = ''\n",
    "tabela.loc[tabela['POSITIVIDADE']<0.05,'label'] = 'L'\n",
    "tabela.loc[(tabela['POSITIVIDADE']>=0.05)&(tabela['POSITIVIDADE']<0.08),'label'] = 'M'\n",
    "tabela.loc[(tabela['POSITIVIDADE']>=0.08)&(tabela['POSITIVIDADE']<0.1),'label'] = 'S'\n",
    "tabela.loc[tabela['POSITIVIDADE']>=0.1,'label'] = 'H'\n",
    "tabela"
   ]
  },
  {
   "cell_type": "code",
   "execution_count": null,
   "id": "8af3a3f9",
   "metadata": {
    "execution": {
     "iopub.execute_input": "2021-12-20T14:57:21.931271Z",
     "iopub.status.busy": "2021-12-20T14:57:21.931271Z",
     "iopub.status.idle": "2021-12-20T14:57:21.978228Z",
     "shell.execute_reply": "2021-12-20T14:57:21.978228Z",
     "shell.execute_reply.started": "2021-12-20T14:57:21.931271Z"
    },
    "tags": []
   },
   "outputs": [],
   "source": [
    "tabela.to_excel(join(default_output, 'dash', 'positividade_regional.xlsx'))"
   ]
  }
 ],
 "metadata": {
  "kernelspec": {
   "display_name": "Python 3 (ipykernel)",
   "language": "python",
   "name": "python3"
  },
  "language_info": {
   "codemirror_mode": {
    "name": "ipython",
    "version": 3
   },
   "file_extension": ".py",
   "mimetype": "text/x-python",
   "name": "python",
   "nbconvert_exporter": "python",
   "pygments_lexer": "ipython3",
   "version": "3.8.11"
  }
 },
 "nbformat": 4,
 "nbformat_minor": 5
}
