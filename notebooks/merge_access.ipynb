{
 "cells": [
  {
   "cell_type": "code",
   "execution_count": 1,
   "metadata": {},
   "outputs": [
    {
     "name": "stdout",
     "output_type": "stream",
     "text": [
      "['/home/vinnylg/projects/covid19datascience/notebooks', '/home/vinnylg/anaconda3/lib/python38.zip', '/home/vinnylg/anaconda3/lib/python3.8', '/home/vinnylg/anaconda3/lib/python3.8/lib-dynload', '', '/home/vinnylg/.local/lib/python3.8/site-packages', '/home/vinnylg/anaconda3/lib/python3.8/site-packages', '/home/vinnylg/.local/lib/python3.8/site-packages/IPython/extensions', '/home/vinnylg/.ipython', '/home/vinnylg/projects/covid19datascience']\n"
     ]
    }
   ],
   "source": [
    "import sys\n",
    "from pathlib import Path\n",
    "from os import getcwd\n",
    "\n",
    "sys.path.append(str(Path(getcwd()).parent))\n",
    "print(sys.path)"
   ]
  },
  {
   "cell_type": "code",
   "execution_count": 2,
   "metadata": {},
   "outputs": [],
   "source": [
    "from os.path import join\n",
    "import pandas as pd\n",
    "pd.set_option('display.max_columns', None)\n",
    "from sys import exit"
   ]
  },
  {
   "cell_type": "code",
   "execution_count": 3,
   "metadata": {},
   "outputs": [
    {
     "name": "stdout",
     "output_type": "stream",
     "text": [
      "default_input: /home/vinnylg/projects/covid19datascience/input\n",
      "default_output: /home/vinnylg/projects/covid19datascience/output\n"
     ]
    }
   ],
   "source": [
    "from bulletin.casos_confirmados import CasosConfirmados\n",
    "from bulletin.tb_pacientes import TbPacientes\n",
    "from bulletin.utils.normalize import normalize_hash, normalize_labels\n",
    "from bulletin.utils.static import Municipios\n",
    "from bulletin.utils.xls_ import fit_cols"
   ]
  },
  {
   "cell_type": "code",
   "execution_count": 4,
   "metadata": {},
   "outputs": [],
   "source": [
    "read_cc = True and False\n",
    "read_tb = True and False"
   ]
  },
  {
   "cell_type": "code",
   "execution_count": 5,
   "metadata": {},
   "outputs": [
    {
     "name": "stdout",
     "output_type": "stream",
     "text": [
      "loading Casos Confirmados time elepsed:00:00:01\n"
     ]
    }
   ],
   "source": [
    "cc = CasosConfirmados()\n",
    "if read_cc:\n",
    "    cc.read('/home/vinnylg/projects/covid19datascience/input/Casos confirmados PR.xlsx')\n",
    "    cc.save()\n",
    "else:\n",
    "    cc.load()"
   ]
  },
  {
   "cell_type": "code",
   "execution_count": 6,
   "metadata": {},
   "outputs": [
    {
     "name": "stdout",
     "output_type": "stream",
     "text": [
      "casosc len: 989417\n",
      "\n",
      "['ordem' 'ibge7' 'nome' 'sexo' 'idade' 'mun_resid' 'mun_atend' 'rs'\n",
      " 'laboratorio' 'dt_diag' 'comunicacao' 'is' 'obito' 'data_obito' 'excluir'\n",
      " 'hash' 'hash_less' 'hash_more' 'hash_atend' 'hash_less_atend'\n",
      " 'hash_more_atend' 'hash_diag' 'hash_obito']\n"
     ]
    }
   ],
   "source": [
    "casosc = cc.get_casos()\n",
    "del casosc['identificacao']\n",
    "print(f\"casosc len: {len(casosc)}\\n\")\n",
    "print(casosc.columns.values)"
   ]
  },
  {
   "cell_type": "code",
   "execution_count": 7,
   "metadata": {
    "tags": []
   },
   "outputs": [
    {
     "name": "stdout",
     "output_type": "stream",
     "text": [
      "casost len: 989417\n",
      "\n",
      "['identificacao' 'ibge_res_pr' 'ibge_atend_pr' 'nome' 'sexo' 'idade'\n",
      " 'mun_resid' 'mun_atend' 'laboratorio' 'dt_diag' 'dt_notificacao'\n",
      " 'dt_inicio_sintomas' '_dia_isolamento' 'dt_viagem_retorno' 'local_viagem'\n",
      " 'exposicao' 'data_de_internamento' 'local' 'clinico_uti' 'dt_alta'\n",
      " 'obito' 'dt_obito' 'muni_res_pr' 'hist_viagem' 'casos_novos' 'telefone'\n",
      " 'dt_atualizacao' 'fonte' 'status' 'eas' 'privado_sus' 'uti'\n",
      " 'dt_internamento' 'evolucao' 'dt_evolucao' 'temp_permanencia'\n",
      " 'cod_laboratorio' 'idade_original' 'dt_com_obito' 'dt_com_recuperado'\n",
      " 'idade_mais' 'idade_menos' 'hash' 'hash_less' 'hash_more' 'hash_atend'\n",
      " 'hash_less_atend' 'hash_more_atend' 'hash_diag' 'hash_obito']\n"
     ]
    }
   ],
   "source": [
    "tb_pacientes = TbPacientes()\n",
    "if read_tb:\n",
    "    tb_pacientes.update()\n",
    "\n",
    "casost = tb_pacientes.get()\n",
    "print(f\"casost len: {len(casost)}\\n\")\n",
    "print(casost.columns.values)"
   ]
  },
  {
   "cell_type": "code",
   "execution_count": 8,
   "metadata": {},
   "outputs": [
    {
     "data": {
      "text/html": [
       "<div>\n",
       "<style scoped>\n",
       "    .dataframe tbody tr th:only-of-type {\n",
       "        vertical-align: middle;\n",
       "    }\n",
       "\n",
       "    .dataframe tbody tr th {\n",
       "        vertical-align: top;\n",
       "    }\n",
       "\n",
       "    .dataframe thead th {\n",
       "        text-align: right;\n",
       "    }\n",
       "</style>\n",
       "<table border=\"1\" class=\"dataframe\">\n",
       "  <thead>\n",
       "    <tr style=\"text-align: right;\">\n",
       "      <th></th>\n",
       "      <th>identificacao</th>\n",
       "      <th>ibge_res_pr</th>\n",
       "      <th>ibge_atend_pr</th>\n",
       "      <th>nome</th>\n",
       "      <th>sexo</th>\n",
       "      <th>idade</th>\n",
       "      <th>mun_resid</th>\n",
       "      <th>mun_atend</th>\n",
       "      <th>laboratorio</th>\n",
       "      <th>dt_diag</th>\n",
       "      <th>dt_notificacao</th>\n",
       "      <th>dt_inicio_sintomas</th>\n",
       "      <th>_dia_isolamento</th>\n",
       "      <th>dt_viagem_retorno</th>\n",
       "      <th>local_viagem</th>\n",
       "      <th>exposicao</th>\n",
       "      <th>data_de_internamento</th>\n",
       "      <th>local</th>\n",
       "      <th>clinico_uti</th>\n",
       "      <th>dt_alta</th>\n",
       "      <th>obito</th>\n",
       "      <th>dt_obito</th>\n",
       "      <th>muni_res_pr</th>\n",
       "      <th>hist_viagem</th>\n",
       "      <th>casos_novos</th>\n",
       "      <th>telefone</th>\n",
       "      <th>dt_atualizacao</th>\n",
       "      <th>fonte</th>\n",
       "      <th>status</th>\n",
       "      <th>eas</th>\n",
       "      <th>privado_sus</th>\n",
       "      <th>uti</th>\n",
       "      <th>dt_internamento</th>\n",
       "      <th>evolucao</th>\n",
       "      <th>dt_evolucao</th>\n",
       "      <th>temp_permanencia</th>\n",
       "      <th>cod_laboratorio</th>\n",
       "      <th>idade_original</th>\n",
       "      <th>dt_com_obito</th>\n",
       "      <th>dt_com_recuperado</th>\n",
       "      <th>idade_mais</th>\n",
       "      <th>idade_menos</th>\n",
       "      <th>hash</th>\n",
       "      <th>hash_less</th>\n",
       "      <th>hash_more</th>\n",
       "      <th>hash_atend</th>\n",
       "      <th>hash_less_atend</th>\n",
       "      <th>hash_more_atend</th>\n",
       "      <th>hash_diag</th>\n",
       "      <th>hash_obito</th>\n",
       "    </tr>\n",
       "  </thead>\n",
       "  <tbody>\n",
       "  </tbody>\n",
       "</table>\n",
       "</div>"
      ],
      "text/plain": [
       "Empty DataFrame\n",
       "Columns: [identificacao, ibge_res_pr, ibge_atend_pr, nome, sexo, idade, mun_resid, mun_atend, laboratorio, dt_diag, dt_notificacao, dt_inicio_sintomas, _dia_isolamento, dt_viagem_retorno, local_viagem, exposicao, data_de_internamento, local, clinico_uti, dt_alta, obito, dt_obito, muni_res_pr, hist_viagem, casos_novos, telefone, dt_atualizacao, fonte, status, eas, privado_sus, uti, dt_internamento, evolucao, dt_evolucao, temp_permanencia, cod_laboratorio, idade_original, dt_com_obito, dt_com_recuperado, idade_mais, idade_menos, hash, hash_less, hash_more, hash_atend, hash_less_atend, hash_more_atend, hash_diag, hash_obito]\n",
       "Index: []"
      ]
     },
     "execution_count": 8,
     "metadata": {},
     "output_type": "execute_result"
    }
   ],
   "source": [
    "casost.loc[~(\n",
    "    casost['hash'].isin(casosc['hash']) |\n",
    "    casost['hash'].isin(casosc['hash_less']) |\n",
    "    casost['hash'].isin(casosc['hash_more']) |\n",
    "    casost['hash_atend'].isin(casosc['hash_atend']) |\n",
    "    casost['hash_less_atend'].isin(casosc['hash_atend']) |\n",
    "    casost['hash_more_atend'].isin(casosc['hash_atend']) |\n",
    "    casost['hash_diag'].isin(casosc['hash_diag'])\n",
    ")]"
   ]
  },
  {
   "cell_type": "code",
   "execution_count": 9,
   "metadata": {},
   "outputs": [
    {
     "name": "stdout",
     "output_type": "stream",
     "text": [
      "23921\n",
      "965496\n"
     ]
    }
   ],
   "source": [
    "tb_cols = ['identificacao','ibge_atend_pr','dt_com_obito','status','dt_com_recuperado','hash_less_atend','hash_more_atend']\n",
    "\n",
    "casosct = pd.merge(casosc.loc[(casosc['obito']==\"SIM\")&(casosc['hash'].isin(casost['hash']))],casost[['hash']+tb_cols], how='left', on='hash')\n",
    "casosc = casosc.drop(index=casosc.loc[casosc['ordem'].isin(casosct['ordem'])].index)\n",
    "print(len(casosct))\n",
    "print(len(casosc))"
   ]
  },
  {
   "cell_type": "code",
   "execution_count": 10,
   "metadata": {},
   "outputs": [
    {
     "name": "stdout",
     "output_type": "stream",
     "text": [
      "988359\n",
      "1674\n"
     ]
    }
   ],
   "source": [
    "casosct =  casosct.append(pd.merge(casosc.loc[casosc['hash'].isin(casost['hash'])],casost[['hash']+ tb_cols], how='left', on='hash'), ignore_index=True)\n",
    "casosc = casosc.drop(index=casosc.loc[casosc['ordem'].isin(casosct['ordem'])].index)\n",
    "print(len(casosct))\n",
    "print(len(casosc))"
   ]
  },
  {
   "cell_type": "code",
   "execution_count": 11,
   "metadata": {},
   "outputs": [
    {
     "name": "stdout",
     "output_type": "stream",
     "text": [
      "990034\n",
      "1\n"
     ]
    }
   ],
   "source": [
    "casosct = casosct.append(pd.merge(casosc.loc[casosc['hash'].isin(casost['hash_less'])],casost[['hash_less']+ tb_cols].rename(columns={'hash_less':'hash'}), how='left', on='hash'), ignore_index=True)\n",
    "casosc = casosc.drop(index=casosc.loc[casosc['ordem'].isin(casosct['ordem'])].index)\n",
    "print(len(casosct))\n",
    "print(len(casosc))"
   ]
  },
  {
   "cell_type": "code",
   "execution_count": 12,
   "metadata": {},
   "outputs": [
    {
     "name": "stdout",
     "output_type": "stream",
     "text": [
      "990034\n",
      "1\n"
     ]
    }
   ],
   "source": [
    "casosct = casosct.append(pd.merge(casosc.loc[casosc['hash'].isin(casost['hash_more'])],casost[['hash_more']+ tb_cols].rename(columns={'hash_more':'hash'}), how='left', on='hash'), ignore_index=True)\n",
    "casosc = casosc.drop(index=casosc.loc[casosc['ordem'].isin(casosct['ordem'])].index)\n",
    "print(len(casosct))\n",
    "print(len(casosc))"
   ]
  },
  {
   "cell_type": "code",
   "execution_count": 13,
   "metadata": {},
   "outputs": [
    {
     "name": "stdout",
     "output_type": "stream",
     "text": [
      "990035\n",
      "0\n"
     ]
    },
    {
     "data": {
      "text/html": [
       "<div>\n",
       "<style scoped>\n",
       "    .dataframe tbody tr th:only-of-type {\n",
       "        vertical-align: middle;\n",
       "    }\n",
       "\n",
       "    .dataframe tbody tr th {\n",
       "        vertical-align: top;\n",
       "    }\n",
       "\n",
       "    .dataframe thead th {\n",
       "        text-align: right;\n",
       "    }\n",
       "</style>\n",
       "<table border=\"1\" class=\"dataframe\">\n",
       "  <thead>\n",
       "    <tr style=\"text-align: right;\">\n",
       "      <th></th>\n",
       "      <th>ordem</th>\n",
       "      <th>ibge7</th>\n",
       "      <th>nome</th>\n",
       "      <th>sexo</th>\n",
       "      <th>idade</th>\n",
       "      <th>mun_resid</th>\n",
       "      <th>mun_atend</th>\n",
       "      <th>rs</th>\n",
       "      <th>laboratorio</th>\n",
       "      <th>dt_diag</th>\n",
       "      <th>comunicacao</th>\n",
       "      <th>is</th>\n",
       "      <th>obito</th>\n",
       "      <th>data_obito</th>\n",
       "      <th>excluir</th>\n",
       "      <th>hash</th>\n",
       "      <th>hash_less</th>\n",
       "      <th>hash_more</th>\n",
       "      <th>hash_atend</th>\n",
       "      <th>hash_less_atend_x</th>\n",
       "      <th>hash_more_atend_x</th>\n",
       "      <th>hash_diag</th>\n",
       "      <th>hash_obito</th>\n",
       "      <th>identificacao</th>\n",
       "      <th>ibge_atend_pr</th>\n",
       "      <th>dt_com_obito</th>\n",
       "      <th>status</th>\n",
       "      <th>dt_com_recuperado</th>\n",
       "      <th>hash_less_atend_y</th>\n",
       "      <th>hash_more_atend_y</th>\n",
       "    </tr>\n",
       "  </thead>\n",
       "  <tbody>\n",
       "  </tbody>\n",
       "</table>\n",
       "</div>"
      ],
      "text/plain": [
       "Empty DataFrame\n",
       "Columns: [ordem, ibge7, nome, sexo, idade, mun_resid, mun_atend, rs, laboratorio, dt_diag, comunicacao, is, obito, data_obito, excluir, hash, hash_less, hash_more, hash_atend, hash_less_atend_x, hash_more_atend_x, hash_diag, hash_obito, identificacao, ibge_atend_pr, dt_com_obito, status, dt_com_recuperado, hash_less_atend_y, hash_more_atend_y]\n",
       "Index: []"
      ]
     },
     "execution_count": 13,
     "metadata": {},
     "output_type": "execute_result"
    }
   ],
   "source": [
    "casosct = casosct.append(pd.merge(casosc,casost[['hash_diag']+ tb_cols], how='left', on='hash_diag'), ignore_index=True)\n",
    "casosc = casosc.drop(index=casosc.loc[casosc['ordem'].isin(casosct['ordem'])].index)\n",
    "print(len(casosct))\n",
    "print(len(casosc))\n",
    "casosct.loc[casosct['identificacao'].isna()]"
   ]
  },
  {
   "cell_type": "code",
   "execution_count": 14,
   "metadata": {},
   "outputs": [
    {
     "data": {
      "text/html": [
       "<div>\n",
       "<style scoped>\n",
       "    .dataframe tbody tr th:only-of-type {\n",
       "        vertical-align: middle;\n",
       "    }\n",
       "\n",
       "    .dataframe tbody tr th {\n",
       "        vertical-align: top;\n",
       "    }\n",
       "\n",
       "    .dataframe thead th {\n",
       "        text-align: right;\n",
       "    }\n",
       "</style>\n",
       "<table border=\"1\" class=\"dataframe\">\n",
       "  <thead>\n",
       "    <tr style=\"text-align: right;\">\n",
       "      <th></th>\n",
       "      <th>identificacao</th>\n",
       "      <th>ibge_res_pr</th>\n",
       "      <th>ibge_atend_pr</th>\n",
       "      <th>nome</th>\n",
       "      <th>sexo</th>\n",
       "      <th>idade</th>\n",
       "      <th>mun_resid</th>\n",
       "      <th>mun_atend</th>\n",
       "      <th>laboratorio</th>\n",
       "      <th>dt_diag</th>\n",
       "      <th>dt_notificacao</th>\n",
       "      <th>dt_inicio_sintomas</th>\n",
       "      <th>_dia_isolamento</th>\n",
       "      <th>dt_viagem_retorno</th>\n",
       "      <th>local_viagem</th>\n",
       "      <th>exposicao</th>\n",
       "      <th>data_de_internamento</th>\n",
       "      <th>local</th>\n",
       "      <th>clinico_uti</th>\n",
       "      <th>dt_alta</th>\n",
       "      <th>obito</th>\n",
       "      <th>dt_obito</th>\n",
       "      <th>muni_res_pr</th>\n",
       "      <th>hist_viagem</th>\n",
       "      <th>casos_novos</th>\n",
       "      <th>telefone</th>\n",
       "      <th>dt_atualizacao</th>\n",
       "      <th>fonte</th>\n",
       "      <th>status</th>\n",
       "      <th>eas</th>\n",
       "      <th>privado_sus</th>\n",
       "      <th>uti</th>\n",
       "      <th>dt_internamento</th>\n",
       "      <th>evolucao</th>\n",
       "      <th>dt_evolucao</th>\n",
       "      <th>temp_permanencia</th>\n",
       "      <th>cod_laboratorio</th>\n",
       "      <th>idade_original</th>\n",
       "      <th>dt_com_obito</th>\n",
       "      <th>dt_com_recuperado</th>\n",
       "      <th>idade_mais</th>\n",
       "      <th>idade_menos</th>\n",
       "      <th>hash</th>\n",
       "      <th>hash_less</th>\n",
       "      <th>hash_more</th>\n",
       "      <th>hash_atend</th>\n",
       "      <th>hash_less_atend</th>\n",
       "      <th>hash_more_atend</th>\n",
       "      <th>hash_diag</th>\n",
       "      <th>hash_obito</th>\n",
       "    </tr>\n",
       "  </thead>\n",
       "  <tbody>\n",
       "  </tbody>\n",
       "</table>\n",
       "</div>"
      ],
      "text/plain": [
       "Empty DataFrame\n",
       "Columns: [identificacao, ibge_res_pr, ibge_atend_pr, nome, sexo, idade, mun_resid, mun_atend, laboratorio, dt_diag, dt_notificacao, dt_inicio_sintomas, _dia_isolamento, dt_viagem_retorno, local_viagem, exposicao, data_de_internamento, local, clinico_uti, dt_alta, obito, dt_obito, muni_res_pr, hist_viagem, casos_novos, telefone, dt_atualizacao, fonte, status, eas, privado_sus, uti, dt_internamento, evolucao, dt_evolucao, temp_permanencia, cod_laboratorio, idade_original, dt_com_obito, dt_com_recuperado, idade_mais, idade_menos, hash, hash_less, hash_more, hash_atend, hash_less_atend, hash_more_atend, hash_diag, hash_obito]\n",
       "Index: []"
      ]
     },
     "execution_count": 14,
     "metadata": {},
     "output_type": "execute_result"
    }
   ],
   "source": [
    "casosct['identificacao'] = casosct['identificacao'].astype(int)\n",
    "casost.loc[~casost['identificacao'].isin(casosct['identificacao'])]"
   ]
  },
  {
   "cell_type": "code",
   "execution_count": 15,
   "metadata": {},
   "outputs": [
    {
     "name": "stdout",
     "output_type": "stream",
     "text": [
      "741 741\n"
     ]
    },
    {
     "data": {
      "text/plain": [
       "True"
      ]
     },
     "execution_count": 15,
     "metadata": {},
     "output_type": "execute_result"
    }
   ],
   "source": [
    "id_duplicado = casosct.loc[casosct.duplicated('identificacao',keep=False)].sort_values('hash_diag')\n",
    "ordem_duplicado = casosct.loc[casosct.duplicated('ordem',keep=False)].sort_values('hash_diag')\n",
    "print(len(id_duplicado),len(ordem_duplicado))\n",
    "all(id_duplicado['hash_diag']==ordem_duplicado['hash_diag'])"
   ]
  },
  {
   "cell_type": "code",
   "execution_count": 16,
   "metadata": {},
   "outputs": [],
   "source": [
    "# casosct.loc[casosct.duplicated('identificacao',keep='last')]\n",
    "casosct.loc[casosct['comunicacao']==pd.to_datetime('2020-03-11'),'comunicacao'] = pd.to_datetime('2020-03-12')"
   ]
  },
  {
   "cell_type": "code",
   "execution_count": 17,
   "metadata": {},
   "outputs": [
    {
     "name": "stdout",
     "output_type": "stream",
     "text": [
      "990035\n",
      "casos: 989417\n",
      "obitos: 23925\n"
     ]
    }
   ],
   "source": [
    "print(len(casosct))\n",
    "casosct = casosct.drop_duplicates('identificacao',keep='last')\n",
    "print('casos:',len(casosct))\n",
    "print('obitos:',len(casosct.loc[casosct['obito']=='SIM']))"
   ]
  },
  {
   "cell_type": "code",
   "execution_count": 18,
   "metadata": {},
   "outputs": [],
   "source": [
    "# try:\n",
    "#     casosct = casosct_bkp\n",
    "# except:\n",
    "#     casosct_bkp = casosct\n",
    "    \n",
    "casosct = casosct.sort_values(['comunicacao','nome','idade']).copy()\n",
    "\n",
    "casosct['evolucao'] = 3\n",
    "casosct.loc[casosct['obito']=='SIM','evolucao'] = 2\n",
    "casosct.loc[(casosct['obito']!='SIM')&(casosct['status'].notna()),'evolucao'] = 1\n",
    "\n",
    "casosct.loc[casosct['obito']=='SIM','data_evolucao'] = casosct.loc[casosct['obito'].notna(),'data_obito'] \n",
    "casosct.loc[(casosct['obito']!='SIM')&(casosct['status'].notna()),'data_evolucao'] = casosct.loc[casosct['status'].notna(),'dt_com_recuperado'] \n",
    "\n",
    "casosct.loc[casosct['obito']=='SIM','data_com_evolucao'] = casosct.loc[casosct['obito'].notna(),'dt_com_obito'] \n",
    "casosct.loc[(casosct['obito']=='SIM')&(casosct['data_com_evolucao'].isna()),'data_com_evolucao'] = casosct.loc[(casosct['obito']=='SIM')&(casosct['data_com_evolucao'].isna()),'data_obito']\n",
    "\n",
    "casosct.loc[(casosct['obito']!='SIM')&(casosct['status'].notna()),'data_com_evolucao'] = casosct.loc[casosct['status'].notna(),'dt_com_recuperado'] \n",
    "\n",
    "municipios = Municipios()\n",
    "casosct = pd.merge(casosct,municipios[['ibge7','regional','macro','uf','municipio']].rename(columns={'municipio':'municipio_pr'}),how='left',on='ibge7')\n",
    "\n",
    "casosct.loc[casosct['rs']==99, 'macro'] = 'Fora'\n",
    "casosct.loc[casosct['rs']==99, 'regional'] = 'Fora'\n",
    "casosct.loc[casosct['rs']==99, 'uf'] = 'Fora'\n",
    "casosct.loc[casosct['rs']==99, 'municipio_pr'] = 'Fora'\n",
    "\n",
    "macros_idx_labels = dict([ [i,x] for (i,x) in enumerate(['Leste','Oeste','Noroeste','Norte','Fora'])])\n",
    "macros_labels_idx = dict([ [x,i] for (i,x) in macros_idx_labels.items() ])\n",
    "casosct['macro'] = casosct['macro'].apply(lambda x: macros_labels_idx[x])\n",
    "\n",
    "# casosct"
   ]
  },
  {
   "cell_type": "code",
   "execution_count": 19,
   "metadata": {
    "tags": []
   },
   "outputs": [
    {
     "ename": "FileNotFoundError",
     "evalue": "[Errno 2] No such file or directory: 'exclusoes.xlsx'",
     "output_type": "error",
     "traceback": [
      "\u001b[0;31m---------------------------------------------------------------------------\u001b[0m",
      "\u001b[0;31mFileNotFoundError\u001b[0m                         Traceback (most recent call last)",
      "\u001b[0;32m<ipython-input-19-8d6d402431f8>\u001b[0m in \u001b[0;36m<module>\u001b[0;34m\u001b[0m\n\u001b[0;32m----> 1\u001b[0;31m \u001b[0mexclusoes\u001b[0m \u001b[0;34m=\u001b[0m \u001b[0mpd\u001b[0m\u001b[0;34m.\u001b[0m\u001b[0mread_excel\u001b[0m\u001b[0;34m(\u001b[0m\u001b[0;34m'exclusoes.xlsx'\u001b[0m\u001b[0;34m)\u001b[0m\u001b[0;34m\u001b[0m\u001b[0;34m\u001b[0m\u001b[0m\n\u001b[0m\u001b[1;32m      2\u001b[0m \u001b[0mexclusao_casos\u001b[0m \u001b[0;34m=\u001b[0m \u001b[0mcasosct\u001b[0m\u001b[0;34m.\u001b[0m\u001b[0mloc\u001b[0m\u001b[0;34m[\u001b[0m\u001b[0mcasosct\u001b[0m\u001b[0;34m[\u001b[0m\u001b[0;34m'ordem'\u001b[0m\u001b[0;34m]\u001b[0m\u001b[0;34m.\u001b[0m\u001b[0misin\u001b[0m\u001b[0;34m(\u001b[0m\u001b[0mexclusoes\u001b[0m\u001b[0;34m[\u001b[0m\u001b[0;34m'ordem'\u001b[0m\u001b[0;34m]\u001b[0m\u001b[0;34m)\u001b[0m\u001b[0;34m]\u001b[0m\u001b[0;34m.\u001b[0m\u001b[0mcopy\u001b[0m\u001b[0;34m(\u001b[0m\u001b[0;34m)\u001b[0m\u001b[0;34m\u001b[0m\u001b[0;34m\u001b[0m\u001b[0m\n\u001b[1;32m      3\u001b[0m \u001b[0;34m\u001b[0m\u001b[0m\n\u001b[1;32m      4\u001b[0m \u001b[0mcasosct\u001b[0m\u001b[0;34m.\u001b[0m\u001b[0mloc\u001b[0m\u001b[0;34m[\u001b[0m\u001b[0mexclusao_casos\u001b[0m\u001b[0;34m.\u001b[0m\u001b[0mindex\u001b[0m\u001b[0;34m,\u001b[0m\u001b[0;34m'excluir'\u001b[0m\u001b[0;34m]\u001b[0m \u001b[0;34m=\u001b[0m \u001b[0;34m'SIM'\u001b[0m\u001b[0;34m\u001b[0m\u001b[0;34m\u001b[0m\u001b[0m\n\u001b[1;32m      5\u001b[0m \u001b[0;34m\u001b[0m\u001b[0m\n",
      "\u001b[0;32m~/.local/lib/python3.8/site-packages/pandas/util/_decorators.py\u001b[0m in \u001b[0;36mwrapper\u001b[0;34m(*args, **kwargs)\u001b[0m\n\u001b[1;32m    297\u001b[0m                 )\n\u001b[1;32m    298\u001b[0m                 \u001b[0mwarnings\u001b[0m\u001b[0;34m.\u001b[0m\u001b[0mwarn\u001b[0m\u001b[0;34m(\u001b[0m\u001b[0mmsg\u001b[0m\u001b[0;34m,\u001b[0m \u001b[0mFutureWarning\u001b[0m\u001b[0;34m,\u001b[0m \u001b[0mstacklevel\u001b[0m\u001b[0;34m=\u001b[0m\u001b[0mstacklevel\u001b[0m\u001b[0;34m)\u001b[0m\u001b[0;34m\u001b[0m\u001b[0;34m\u001b[0m\u001b[0m\n\u001b[0;32m--> 299\u001b[0;31m             \u001b[0;32mreturn\u001b[0m \u001b[0mfunc\u001b[0m\u001b[0;34m(\u001b[0m\u001b[0;34m*\u001b[0m\u001b[0margs\u001b[0m\u001b[0;34m,\u001b[0m \u001b[0;34m**\u001b[0m\u001b[0mkwargs\u001b[0m\u001b[0;34m)\u001b[0m\u001b[0;34m\u001b[0m\u001b[0;34m\u001b[0m\u001b[0m\n\u001b[0m\u001b[1;32m    300\u001b[0m \u001b[0;34m\u001b[0m\u001b[0m\n\u001b[1;32m    301\u001b[0m         \u001b[0;32mreturn\u001b[0m \u001b[0mwrapper\u001b[0m\u001b[0;34m\u001b[0m\u001b[0;34m\u001b[0m\u001b[0m\n",
      "\u001b[0;32m~/.local/lib/python3.8/site-packages/pandas/io/excel/_base.py\u001b[0m in \u001b[0;36mread_excel\u001b[0;34m(io, sheet_name, header, names, index_col, usecols, squeeze, dtype, engine, converters, true_values, false_values, skiprows, nrows, na_values, keep_default_na, na_filter, verbose, parse_dates, date_parser, thousands, comment, skipfooter, convert_float, mangle_dupe_cols, storage_options)\u001b[0m\n\u001b[1;32m    334\u001b[0m     \u001b[0;32mif\u001b[0m \u001b[0;32mnot\u001b[0m \u001b[0misinstance\u001b[0m\u001b[0;34m(\u001b[0m\u001b[0mio\u001b[0m\u001b[0;34m,\u001b[0m \u001b[0mExcelFile\u001b[0m\u001b[0;34m)\u001b[0m\u001b[0;34m:\u001b[0m\u001b[0;34m\u001b[0m\u001b[0;34m\u001b[0m\u001b[0m\n\u001b[1;32m    335\u001b[0m         \u001b[0mshould_close\u001b[0m \u001b[0;34m=\u001b[0m \u001b[0;32mTrue\u001b[0m\u001b[0;34m\u001b[0m\u001b[0;34m\u001b[0m\u001b[0m\n\u001b[0;32m--> 336\u001b[0;31m         \u001b[0mio\u001b[0m \u001b[0;34m=\u001b[0m \u001b[0mExcelFile\u001b[0m\u001b[0;34m(\u001b[0m\u001b[0mio\u001b[0m\u001b[0;34m,\u001b[0m \u001b[0mstorage_options\u001b[0m\u001b[0;34m=\u001b[0m\u001b[0mstorage_options\u001b[0m\u001b[0;34m,\u001b[0m \u001b[0mengine\u001b[0m\u001b[0;34m=\u001b[0m\u001b[0mengine\u001b[0m\u001b[0;34m)\u001b[0m\u001b[0;34m\u001b[0m\u001b[0;34m\u001b[0m\u001b[0m\n\u001b[0m\u001b[1;32m    337\u001b[0m     \u001b[0;32melif\u001b[0m \u001b[0mengine\u001b[0m \u001b[0;32mand\u001b[0m \u001b[0mengine\u001b[0m \u001b[0;34m!=\u001b[0m \u001b[0mio\u001b[0m\u001b[0;34m.\u001b[0m\u001b[0mengine\u001b[0m\u001b[0;34m:\u001b[0m\u001b[0;34m\u001b[0m\u001b[0;34m\u001b[0m\u001b[0m\n\u001b[1;32m    338\u001b[0m         raise ValueError(\n",
      "\u001b[0;32m~/.local/lib/python3.8/site-packages/pandas/io/excel/_base.py\u001b[0m in \u001b[0;36m__init__\u001b[0;34m(self, path_or_buffer, engine, storage_options)\u001b[0m\n\u001b[1;32m   1069\u001b[0m                 \u001b[0mext\u001b[0m \u001b[0;34m=\u001b[0m \u001b[0;34m\"xls\"\u001b[0m\u001b[0;34m\u001b[0m\u001b[0;34m\u001b[0m\u001b[0m\n\u001b[1;32m   1070\u001b[0m             \u001b[0;32melse\u001b[0m\u001b[0;34m:\u001b[0m\u001b[0;34m\u001b[0m\u001b[0;34m\u001b[0m\u001b[0m\n\u001b[0;32m-> 1071\u001b[0;31m                 ext = inspect_excel_format(\n\u001b[0m\u001b[1;32m   1072\u001b[0m                     \u001b[0mcontent\u001b[0m\u001b[0;34m=\u001b[0m\u001b[0mpath_or_buffer\u001b[0m\u001b[0;34m,\u001b[0m \u001b[0mstorage_options\u001b[0m\u001b[0;34m=\u001b[0m\u001b[0mstorage_options\u001b[0m\u001b[0;34m\u001b[0m\u001b[0;34m\u001b[0m\u001b[0m\n\u001b[1;32m   1073\u001b[0m                 )\n",
      "\u001b[0;32m~/.local/lib/python3.8/site-packages/pandas/io/excel/_base.py\u001b[0m in \u001b[0;36minspect_excel_format\u001b[0;34m(path, content, storage_options)\u001b[0m\n\u001b[1;32m    947\u001b[0m     \u001b[0;32massert\u001b[0m \u001b[0mcontent_or_path\u001b[0m \u001b[0;32mis\u001b[0m \u001b[0;32mnot\u001b[0m \u001b[0;32mNone\u001b[0m\u001b[0;34m\u001b[0m\u001b[0;34m\u001b[0m\u001b[0m\n\u001b[1;32m    948\u001b[0m \u001b[0;34m\u001b[0m\u001b[0m\n\u001b[0;32m--> 949\u001b[0;31m     with get_handle(\n\u001b[0m\u001b[1;32m    950\u001b[0m         \u001b[0mcontent_or_path\u001b[0m\u001b[0;34m,\u001b[0m \u001b[0;34m\"rb\"\u001b[0m\u001b[0;34m,\u001b[0m \u001b[0mstorage_options\u001b[0m\u001b[0;34m=\u001b[0m\u001b[0mstorage_options\u001b[0m\u001b[0;34m,\u001b[0m \u001b[0mis_text\u001b[0m\u001b[0;34m=\u001b[0m\u001b[0;32mFalse\u001b[0m\u001b[0;34m\u001b[0m\u001b[0;34m\u001b[0m\u001b[0m\n\u001b[1;32m    951\u001b[0m     ) as handle:\n",
      "\u001b[0;32m~/.local/lib/python3.8/site-packages/pandas/io/common.py\u001b[0m in \u001b[0;36mget_handle\u001b[0;34m(path_or_buf, mode, encoding, compression, memory_map, is_text, errors, storage_options)\u001b[0m\n\u001b[1;32m    649\u001b[0m         \u001b[0;32melse\u001b[0m\u001b[0;34m:\u001b[0m\u001b[0;34m\u001b[0m\u001b[0;34m\u001b[0m\u001b[0m\n\u001b[1;32m    650\u001b[0m             \u001b[0;31m# Binary mode\u001b[0m\u001b[0;34m\u001b[0m\u001b[0;34m\u001b[0m\u001b[0;34m\u001b[0m\u001b[0m\n\u001b[0;32m--> 651\u001b[0;31m             \u001b[0mhandle\u001b[0m \u001b[0;34m=\u001b[0m \u001b[0mopen\u001b[0m\u001b[0;34m(\u001b[0m\u001b[0mhandle\u001b[0m\u001b[0;34m,\u001b[0m \u001b[0mioargs\u001b[0m\u001b[0;34m.\u001b[0m\u001b[0mmode\u001b[0m\u001b[0;34m)\u001b[0m\u001b[0;34m\u001b[0m\u001b[0;34m\u001b[0m\u001b[0m\n\u001b[0m\u001b[1;32m    652\u001b[0m         \u001b[0mhandles\u001b[0m\u001b[0;34m.\u001b[0m\u001b[0mappend\u001b[0m\u001b[0;34m(\u001b[0m\u001b[0mhandle\u001b[0m\u001b[0;34m)\u001b[0m\u001b[0;34m\u001b[0m\u001b[0;34m\u001b[0m\u001b[0m\n\u001b[1;32m    653\u001b[0m \u001b[0;34m\u001b[0m\u001b[0m\n",
      "\u001b[0;31mFileNotFoundError\u001b[0m: [Errno 2] No such file or directory: 'exclusoes.xlsx'"
     ]
    }
   ],
   "source": [
    "exclusoes = pd.read_excel('exclusoes.xlsx')\n",
    "exclusao_casos = casosct.loc[casosct['ordem'].isin(exclusoes['ordem'])].copy()\n",
    "\n",
    "casosct.loc[exclusao_casos.index,'excluir'] = 'SIM'\n",
    "\n",
    "casosct.loc[casosct['excluir']=='SIM'].sort_values('nome')"
   ]
  },
  {
   "cell_type": "code",
   "execution_count": null,
   "metadata": {},
   "outputs": [],
   "source": [
    "pd.options.display.float_format = lambda x: '{:,.0f}'.format(x).replace(',','.')\n",
    "\n",
    "total = casosct.groupby(['evolucao','uf'])[['identificacao']].count().unstack().droplevel(0,1)[['PR','Fora']]\n",
    "total['GERAL'] = total.sum(1)\n",
    "total = total.append(pd.Series(total.sum(0),name=0))\n",
    "total.index = [2,1,3,0]\n",
    "total = total.sort_index()\n",
    "total = total.rename(index={0:'CASOS',2:'RECUPERADOS',1:'OBITOS',3:'ATIVOS'})\n",
    "total.index.name = None\n",
    "total.columns.name = None\n",
    "\n",
    "total.astype(float)"
   ]
  },
  {
   "cell_type": "code",
   "execution_count": null,
   "metadata": {},
   "outputs": [],
   "source": [
    "total_macros = casosct.groupby(['macro','evolucao'])[['identificacao']].count().unstack()\n",
    "total_macros.columns = total_macros.columns.droplevel(0)\n",
    "\n",
    "total_macros['CASOS'] = total_macros.sum(1)\n",
    "total_macros = total_macros.fillna(0)\n",
    "total_macros = total_macros.rename(columns={1:'RECUPERADOS',2:'OBITOS',3:'ATIVOS'})\n",
    "total_macros = total_macros[['CASOS','OBITOS','RECUPERADOS','ATIVOS']]\n",
    "\n",
    "total_macros.index = [ macros_idx_labels[x] if isinstance(x,int) else x for x in total_macros.index]\n",
    "\n",
    "## comentar 3 linhas abaixo para remover totais\n",
    "# total_macros = total_macros.append(pd.Series(total_macros.sum(0),name=('TOTAL GERAL')))\n",
    "# pr = total_macros.loc[('TOTAL GERAL')].values - total_macros.loc['Fora'].values\n",
    "# total_macros = total_macros.append(pd.Series(pr, index=total_macros.columns, name=(('TOTAL PR'))))\n",
    "\n",
    "total_macros.astype(float)"
   ]
  },
  {
   "cell_type": "code",
   "execution_count": null,
   "metadata": {
    "tags": []
   },
   "outputs": [],
   "source": [
    "total_regionais = casosct.groupby(['rs','regional','evolucao'])[['identificacao']].count().unstack()\n",
    "total_regionais.columns = total_regionais.columns.droplevel(0)\n",
    "\n",
    "total_regionais['CASOS'] = total_regionais.sum(1)\n",
    "total_regionais = total_regionais.fillna(0)\n",
    "total_regionais = total_regionais.rename(columns={1:'RECUPERADOS',2:'OBITOS',3:'ATIVOS'})\n",
    "total_regionais = total_regionais[['CASOS','OBITOS','RECUPERADOS','ATIVOS']]\n",
    "\n",
    "# # comentar 3 linhas abaixo para remover totais\n",
    "# total_regionais = total_regionais.append(pd.Series(total_regionais.sum(0),name=('TOTAL','GERAL')))\n",
    "# pr = (total_regionais.loc[('TOTAL','GERAL')].values - total_regionais.loc[99].values)[0]\n",
    "# total_regionais = total_regionais.append(pd.Series(pr, index=total_regionais.columns, name=(('TOTAL','PR'))))\n",
    "\n",
    "total_regionais.astype(float)"
   ]
  },
  {
   "cell_type": "code",
   "execution_count": null,
   "metadata": {},
   "outputs": [],
   "source": [
    "total_municipios = casosct.groupby(['macro','rs','regional','ibge7','municipio_pr','evolucao'])[['identificacao']].count().unstack()\n",
    "\n",
    "total_municipios[('','CASOS')] = total_municipios.sum(1)\n",
    "total_municipios = total_municipios.fillna(0).astype(float)\n",
    "total_municipios.columns = total_municipios.columns.droplevel(0)\n",
    "total_municipios = total_municipios.rename(columns={1:'RECUPERADOS',2:'OBITOS',3:'ATIVOS'})\n",
    "total_municipios = total_municipios[['CASOS','OBITOS','RECUPERADOS','ATIVOS']]\n",
    "\n",
    "total_municipios.index = total_municipios.index.set_levels([ macros_idx_labels[x] if isinstance(x,int) else x for x in total_municipios.index.levels[0]], level=0)\n",
    "\n",
    "# #comentar 3 linhas abaixo para remover totais\n",
    "# total_municipios = total_municipios.append(pd.Series(total_municipios.sum(0),name=('','TOTAL','GERAL','','')))\n",
    "# pr = (total_municipios.loc[('','TOTAL','GERAL','','')].values - total_municipios.loc['Fora'].values)[0]\n",
    "# total_municipios = total_municipios.append(pd.Series(pr, index=total_municipios.columns, name=(('','TOTAL','PR','',''))))\n",
    "\n",
    "total_municipios.astype(float)"
   ]
  },
  {
   "cell_type": "code",
   "execution_count": null,
   "metadata": {},
   "outputs": [],
   "source": [
    "# casosct['macro'] = casosct['macro'].apply(lambda x: macros_idx_labels[x])"
   ]
  },
  {
   "cell_type": "code",
   "execution_count": null,
   "metadata": {
    "tags": []
   },
   "outputs": [],
   "source": [
    "# casosct = casosct[['ordem','identificacao','uf','macro','ibge7','ibge_atend_pr','nome','sexo','idade','mun_resid','mun_atend','rs','laboratorio','dt_diag','comunicacao','is','evolucao','data_evolucao','data_com_evolucao','excluir']]\n",
    "# obitosct = casosct.loc[casosct['evolucao']==2].sort_values(['data_com_evolucao','nome','idade'])\n",
    "# obitosct = obitosct[['ordem','identificacao','uf','macro','ibge7','nome','sexo','idade','mun_resid','rs','data_evolucao','data_com_evolucao','excluir']]"
   ]
  },
  {
   "cell_type": "code",
   "execution_count": null,
   "metadata": {},
   "outputs": [],
   "source": [
    "casos = casosct[['identificacao','ordem', 'ibge7','macro','nome','sexo','idade','mun_resid','mun_atend','rs','laboratorio','dt_diag','comunicacao','is','obito','data_obito','excluir','evolucao','data_com_evolucao']]\n",
    "obitos = casos.loc[casos['evolucao']==2].sort_values(['data_com_evolucao','nome','idade'])\n",
    "obitos = obitos[['ordem','ibge7','macro','nome','sexo','idade','mun_resid','rs','data_obito','excluir']]"
   ]
  },
  {
   "cell_type": "code",
   "execution_count": null,
   "metadata": {},
   "outputs": [],
   "source": [
    "writer = pd.ExcelWriter(join(\"output\",\"novos_casos_confirmados.xlsx\"),\n",
    "                    engine='xlsxwriter',\n",
    "                    datetime_format='dd/mm/yyyy',\n",
    "                    date_format='dd/mm/yyyy')\n",
    "\n",
    "total.to_excel(writer,'total')\n",
    "total_macros.to_excel(writer,'total_macros')\n",
    "total_regionais.to_excel(writer,'total_regionais')\n",
    "total_municipios.to_excel(writer,'total_municipios')\n",
    "\n",
    "fit_cols(writer,total,'total')\n",
    "fit_cols(writer,total_macros,'total_macros')\n",
    "fit_cols(writer,total_regionais,'total_regionais')\n",
    "fit_cols(writer,total_municipios,'total_municipios')\n",
    "\n",
    "casosct.to_excel(writer,f'casos', index=False)\n",
    "fit_cols(writer,casosct,f'casos')\n",
    "\n",
    "obitos.to_excel(writer,f'obitos',index=False)\n",
    "fit_cols(writer,obitos,f'obitos')\n",
    "\n",
    "writer.save()"
   ]
  },
  {
   "cell_type": "code",
   "execution_count": null,
   "metadata": {},
   "outputs": [],
   "source": [
    "writer = pd.ExcelWriter(join(\"output\",\"casos_confirmados.xlsx\"),\n",
    "                    engine='xlsxwriter',\n",
    "                    datetime_format='dd/mm/yyyy',\n",
    "                    date_format='dd/mm/yyyy')\n",
    "\n",
    "total.to_excel(writer,'total')\n",
    "total_macros.to_excel(writer,'total_macros')\n",
    "total_regionais.to_excel(writer,'total_regionais')\n",
    "total_municipios.to_excel(writer,'total_municipios')\n",
    "\n",
    "fit_cols(writer,total,'total')\n",
    "fit_cols(writer,total_macros,'total_macros')\n",
    "fit_cols(writer,total_regionais,'total_regionais')\n",
    "fit_cols(writer,total_municipios,'total_municipios')\n",
    "\n",
    "for idx,macro in macros_idx_labels.items():\n",
    "    casos_macro = casos.loc[casos['macro']==idx].copy()\n",
    "    casos_macro['macro'] = macro\n",
    "\n",
    "    casos_macro.to_excel(writer,macro,index=False)\n",
    "    fit_cols(writer,casos_macro,macro)\n",
    "    \n",
    "writer.save()"
   ]
  },
  {
   "cell_type": "code",
   "execution_count": null,
   "metadata": {},
   "outputs": [],
   "source": [
    "writer = pd.ExcelWriter(join(\"output\",\"obitos_confirmados.xlsx\"),\n",
    "                    engine='xlsxwriter',\n",
    "                    datetime_format='dd/mm/yyyy',\n",
    "                    date_format='dd/mm/yyyy')\n",
    "\n",
    "total.to_excel(writer,'total')\n",
    "total_macros.to_excel(writer,'total_macros')\n",
    "total_regionais.to_excel(writer,'total_regionais')\n",
    "total_municipios.to_excel(writer,'total_municipios')\n",
    "\n",
    "fit_cols(writer,total,'total')\n",
    "fit_cols(writer,total_macros,'total_macros')\n",
    "fit_cols(writer,total_regionais,'total_regionais')\n",
    "fit_cols(writer,total_municipios,'total_municipios')\n",
    "\n",
    "for idx,macro in macros_idx_labels.items():\n",
    "    obitos_macro = obitos.loc[obitos['macro']==idx].copy()\n",
    "    obitos_macro['macro'] = macro\n",
    "    \n",
    "    obitos_macro.to_excel(writer,macro,index=False)\n",
    "    fit_cols(writer,obitos_macro,macro)\n",
    "    \n",
    "writer.save()"
   ]
  },
  {
   "cell_type": "code",
   "execution_count": null,
   "metadata": {},
   "outputs": [],
   "source": []
  }
 ],
 "metadata": {
  "kernelspec": {
   "display_name": "Python 3",
   "language": "python",
   "name": "python3"
  },
  "language_info": {
   "codemirror_mode": {
    "name": "ipython",
    "version": 3
   },
   "file_extension": ".py",
   "mimetype": "text/x-python",
   "name": "python",
   "nbconvert_exporter": "python",
   "pygments_lexer": "ipython3",
   "version": "3.8.5"
  },
  "toc-autonumbering": false,
  "toc-showcode": true,
  "toc-showmarkdowntxt": false,
  "toc-showtags": false
 },
 "nbformat": 4,
 "nbformat_minor": 4
}
