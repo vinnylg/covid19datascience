{
 "cells": [
  {
   "cell_type": "code",
   "execution_count": null,
   "metadata": {},
   "outputs": [],
   "source": [
    "import sys\n",
    "from pathlib import Path\n",
    "from os import getcwd\n",
    "\n",
    "from datetime import date, timedelta\n",
    "\n",
    "sys.path.append(str(Path(getcwd()).parent))\n",
    "print(sys.path)"
   ]
  },
  {
   "cell_type": "code",
   "execution_count": null,
   "metadata": {},
   "outputs": [],
   "source": [
    "from os.path import join\n",
    "import pandas as pd\n",
    "pd.set_option('display.max_columns', None)\n",
    "from sys import exit"
   ]
  },
  {
   "cell_type": "code",
   "execution_count": null,
   "metadata": {},
   "outputs": [],
   "source": [
    "from bulletin.casos_confirmados import CasosConfirmados\n",
    "from bulletin.tb_pacientes import TbPacientes\n",
    "from bulletin.utils.normalize import normalize_hash, normalize_labels, normalize_text, date_hash\n",
    "from bulletin.utils.static import Municipios\n",
    "from bulletin.utils.xls_ import fit_cols\n",
    "from bulletin import default_input"
   ]
  },
  {
   "cell_type": "code",
   "execution_count": null,
   "metadata": {},
   "outputs": [],
   "source": [
    "read_cc = True and False\n",
    "read_tb = True and False"
   ]
  },
  {
   "cell_type": "code",
   "execution_count": null,
   "metadata": {},
   "outputs": [],
   "source": [
    "cc = CasosConfirmados()\n",
    "if read_cc:\n",
    "    cc.read_excel()\n",
    "    cc.save()\n",
    "else:\n",
    "    cc.load()"
   ]
  },
  {
   "cell_type": "code",
   "execution_count": null,
   "metadata": {},
   "outputs": [],
   "source": [
    "casosc = cc.get_casos()\n",
    "casosc.loc[casosc['obito']!='SIM','obito'] = 'NAO'\n",
    "print(f\"casosc len: {len(casosc)}\\n\")\n",
    "casosc.groupby('obito')[['sexo']].count()"
   ]
  },
  {
   "cell_type": "code",
   "execution_count": null,
   "metadata": {
    "tags": []
   },
   "outputs": [],
   "source": [
    "tb_pacientes = TbPacientes()\n",
    "if read_tb:\n",
    "    tb_pacientes.update()\n",
    "\n",
    "casost = tb_pacientes.get()\n",
    "print(f\"casost len: {len(casost)}\\n\")\n",
    "casost.loc[casost['obito']=='Sim','obito'] = 'SIM'\n",
    "casost.loc[casost['obito']!='SIM','obito'] = 'NAO'\n",
    "casost.groupby('obito')[['sexo']].count()"
   ]
  },
  {
   "cell_type": "code",
   "execution_count": null,
   "metadata": {},
   "outputs": [],
   "source": [
    "casost.loc[~(\n",
    "    casost['hash'].isin(casosc['hash']) |\n",
    "    casost['hash'].isin(casosc['hash_less']) |\n",
    "    casost['hash'].isin(casosc['hash_more']) |\n",
    "    casost['hash_atend'].isin(casosc['hash_atend']) |\n",
    "    casost['hash_less_atend'].isin(casosc['hash_atend']) |\n",
    "    casost['hash_more_atend'].isin(casosc['hash_atend']) |\n",
    "    casost['hash_diag'].isin(casosc['hash_diag'])\n",
    ")]"
   ]
  },
  {
   "cell_type": "code",
   "execution_count": null,
   "metadata": {},
   "outputs": [],
   "source": [
    "del casosc['identificacao']"
   ]
  },
  {
   "cell_type": "code",
   "execution_count": null,
   "metadata": {},
   "outputs": [],
   "source": [
    "tb_cols = ['identificacao','ibge_atend_pr','dt_com_obito','status','dt_com_recuperado','hash_less_atend','hash_more_atend']\n",
    "\n",
    "casosct = pd.merge(casosc.loc[(casosc['obito']==\"SIM\")&(casosc['hash'].isin(casost['hash']))],casost[['hash']+tb_cols], how='left', on='hash')\n",
    "casosc = casosc.drop(index=casosc.loc[casosc['ordem'].isin(casosct['ordem'])].index)\n",
    "print(len(casosct))\n",
    "print(len(casosc))"
   ]
  },
  {
   "cell_type": "code",
   "execution_count": null,
   "metadata": {},
   "outputs": [],
   "source": [
    "casosct =  casosct.append(pd.merge(casosc.loc[casosc['hash'].isin(casost['hash'])],casost[['hash']+ tb_cols], how='left', on='hash'), ignore_index=True)\n",
    "casosc = casosc.drop(index=casosc.loc[casosc['ordem'].isin(casosct['ordem'])].index)\n",
    "print(len(casosct))\n",
    "print(len(casosc))"
   ]
  },
  {
   "cell_type": "code",
   "execution_count": null,
   "metadata": {},
   "outputs": [],
   "source": [
    "casosct = casosct.append(pd.merge(casosc.loc[casosc['hash'].isin(casost['hash_less'])],casost[['hash_less']+ tb_cols].rename(columns={'hash_less':'hash'}), how='left', on='hash'), ignore_index=True)\n",
    "casosc = casosc.drop(index=casosc.loc[casosc['ordem'].isin(casosct['ordem'])].index)\n",
    "print(len(casosct))\n",
    "print(len(casosc))"
   ]
  },
  {
   "cell_type": "code",
   "execution_count": null,
   "metadata": {},
   "outputs": [],
   "source": [
    "casosct = casosct.append(pd.merge(casosc.loc[casosc['hash'].isin(casost['hash_more'])],casost[['hash_more']+ tb_cols].rename(columns={'hash_more':'hash'}), how='left', on='hash'), ignore_index=True)\n",
    "casosc = casosc.drop(index=casosc.loc[casosc['ordem'].isin(casosct['ordem'])].index)\n",
    "print(len(casosct))\n",
    "print(len(casosc))"
   ]
  },
  {
   "cell_type": "code",
   "execution_count": null,
   "metadata": {},
   "outputs": [],
   "source": [
    "casosct = casosct.append(pd.merge(casosc,casost[['hash_diag']+ tb_cols], how='left', on='hash_diag'), ignore_index=True)\n",
    "casosc = casosc.drop(index=casosc.loc[casosc['ordem'].isin(casosct['ordem'])].index)\n",
    "print(len(casosct))\n",
    "print(len(casosc))\n",
    "casosct.loc[casosct['identificacao'].isna()]"
   ]
  },
  {
   "cell_type": "code",
   "execution_count": null,
   "metadata": {},
   "outputs": [],
   "source": [
    "casosct['identificacao'] = casosct['identificacao'].astype(int)\n",
    "casost.loc[~casost['identificacao'].isin(casosct['identificacao'])]"
   ]
  },
  {
   "cell_type": "code",
   "execution_count": null,
   "metadata": {},
   "outputs": [],
   "source": [
    "id_duplicado = casosct.loc[casosct.duplicated('identificacao',keep=False)].sort_values('hash_diag')\n",
    "ordem_duplicado = casosct.loc[casosct.duplicated('ordem',keep=False)].sort_values('hash_diag')\n",
    "print(len(id_duplicado),len(ordem_duplicado))\n",
    "all(id_duplicado['hash_diag'].values==ordem_duplicado['hash_diag'].values)"
   ]
  },
  {
   "cell_type": "code",
   "execution_count": null,
   "metadata": {},
   "outputs": [],
   "source": [
    "# casosct.loc[casosct.duplicated('identificacao',keep='last')]\n",
    "casosct.loc[casosct['comunicacao']==pd.to_datetime('2020-03-11'),'comunicacao'] = pd.to_datetime('2020-03-12')\n",
    "id_duplicado.loc[~id_duplicado['hash_diag'].isin(ordem_duplicado['hash_diag'])]"
   ]
  },
  {
   "cell_type": "code",
   "execution_count": null,
   "metadata": {},
   "outputs": [],
   "source": [
    "print(len(casosct))\n",
    "casosct = casosct.drop_duplicates('identificacao',keep='last')\n",
    "print('casos:',len(casosct))\n",
    "print('obitos:',len(casosct.loc[casosct['obito']=='SIM']))"
   ]
  },
  {
   "cell_type": "code",
   "execution_count": null,
   "metadata": {},
   "outputs": [],
   "source": [
    "try:\n",
    "    casosct = casosct_bkp.copy()\n",
    "except:\n",
    "    casosct_bkp = casosct.copy()\n",
    "    \n",
    "# casosct = casosct.sort_values(['comunicacao','nome','idade']).copy()\n",
    "casosct = casosct.sort_values(['ordem']).copy()\n",
    "\n",
    "casosct['evolucao'] = 3\n",
    "casosct.loc[casosct['obito']=='SIM','evolucao'] = 2\n",
    "casosct.loc[(casosct['obito']!='SIM')&(casosct['status'].notna()),'evolucao'] = 1\n",
    "\n",
    "casosct.loc[casosct['obito']=='SIM','data_evolucao'] = casosct.loc[casosct['obito'].notna(),'data_obito'] \n",
    "casosct.loc[(casosct['obito']!='SIM')&(casosct['status'].notna()),'data_evolucao'] = casosct.loc[casosct['status'].notna(),'dt_com_recuperado'] \n",
    "\n",
    "casosct.loc[casosct['obito']=='SIM','data_com_evolucao'] = casosct.loc[casosct['obito'].notna(),'dt_com_obito'] \n",
    "casosct.loc[(casosct['obito']=='SIM')&(casosct['data_com_evolucao'].isna()),'data_com_evolucao'] = casosct.loc[(casosct['obito']=='SIM')&(casosct['data_com_evolucao'].isna()),'data_obito']\n",
    "\n",
    "casosct.loc[(casosct['obito']!='SIM')&(casosct['status'].notna()),'data_com_evolucao'] = casosct.loc[casosct['status'].notna(),'dt_com_recuperado'] \n",
    "\n",
    "casosct.groupby('evolucao')[['sexo']].count()"
   ]
  },
  {
   "cell_type": "code",
   "execution_count": null,
   "metadata": {},
   "outputs": [],
   "source": [
    "casosc = cc.get_casos()\n",
    "casosct.loc[~casosct['ordem'].isin(casosc['ordem'])]"
   ]
  },
  {
   "cell_type": "code",
   "execution_count": null,
   "metadata": {},
   "outputs": [],
   "source": [
    "municipios = Municipios()\n",
    "municipios['mun_resid'] = municipios['municipio'].apply(normalize_text)"
   ]
  },
  {
   "cell_type": "code",
   "execution_count": null,
   "metadata": {},
   "outputs": [],
   "source": [
    "casosct['uf_resid'] = 'PR'\n",
    "casosct.loc[casosct['ibge7']==9999999,'uf_resid'] = casosct.loc[casosct['ibge7']==9999999,'mun_resid'].apply(lambda x: x.split('/')[-1])\n",
    "casosct.loc[casosct['ibge7']==9999999,'mun_resid'] = casosct.loc[casosct['ibge7']==9999999,'mun_resid'].apply(lambda x: x.split('/')[0])\n",
    "\n",
    "casos_fora = pd.merge(casosct.loc[casosct['ibge7']==9999999].drop(columns=['ibge7']),municipios[['ibge7','mun_resid','uf']].rename(columns={'uf':'uf_resid'}), on=['mun_resid','uf_resid'], how='left')\n",
    "# casos_fora.loc[casos_fora['ibge7'].isna(),'excluir'] = 'SIM'\n",
    "casos_fora.loc[casos_fora['ibge7'].isna(),'ibge7'] = 9999999"
   ]
  },
  {
   "cell_type": "code",
   "execution_count": null,
   "metadata": {},
   "outputs": [],
   "source": [
    "casos_fora = casos_fora.set_index('identificacao')\n",
    "casosct = casosct.set_index('identificacao')\n",
    "casosct.update(casos_fora)\n",
    "\n",
    "casosct = casosct.reset_index()\n",
    "\n",
    "casosct['ibge7'] = casosct['ibge7'].apply(int)\n",
    "casosct['idade'] = casosct['idade'].astype(int)\n",
    "\n",
    "casosct.groupby(['evolucao'])[['sexo']].count()"
   ]
  },
  {
   "cell_type": "code",
   "execution_count": null,
   "metadata": {},
   "outputs": [],
   "source": [
    "#####\n",
    "## novos casos confirmados\n",
    "#\n",
    "\n",
    "casosct = casosct.sort_values(['comunicacao','nome'])\n",
    "casosct['id_notifica'] = -1\n",
    "casosct['ibge_resid'] = casosct['ibge7'].apply(lambda x: int(str(x)[:6]))\n",
    "casosct['ibge_atend'] = casosct['ibge_atend_pr'].apply(lambda x: int(str(x)[:6]))\n",
    "\n",
    "casosct.loc[(casosct['evolucao']==2) & casosct['data_com_evolucao'].notna(), 'hash_obito'] = casosct.loc[(casosct['evolucao']==2) & casosct['data_com_evolucao'].notna()].apply(\n",
    "        lambda row: normalize_hash(row['nome']) + date_hash(row['data_com_evolucao']), axis=1\n",
    ")"
   ]
  },
  {
   "cell_type": "code",
   "execution_count": null,
   "metadata": {},
   "outputs": [],
   "source": [
    "casosct['hash'] = (casosct['nome'].apply(normalize_hash) +\n",
    "                  casosct['idade'].astype(str) +\n",
    "                  casosct['ibge_resid'].astype(str)  )\n",
    "\n",
    "casosct['hash_less'] = ( casosct['nome'].apply(normalize_hash) +\n",
    "                        casosct['idade'].apply(lambda x: str(x - 1)) +\n",
    "                        casosct['ibge_resid'].astype(str)  )\n",
    "\n",
    "casosct['hash_more'] = ( casosct['nome'].apply(normalize_hash) +\n",
    "                        casosct['idade'].apply(lambda x: str(x + 1)) +\n",
    "                        casosct['ibge_resid'].astype(str)  )\n",
    "\n",
    "casosct['hash_diag'] = (casosct['nome'].apply(normalize_hash) + casosct['dt_diag'].apply(date_hash))\n",
    "\n",
    "casosct = casosct[['identificacao','id_notifica','uf_resid','ibge_resid','ibge_atend','nome','sexo','idade','laboratorio','dt_diag','comunicacao','is','evolucao','data_evolucao','data_com_evolucao','hash','hash_less','hash_more','hash_diag']]#,'hash_atend','hash_less_atend','hash_more_atend','hash_diag','hash_obito']]\n",
    "# casosct = casosct.set_index('identificacao')\n",
    "casosct.groupby('evolucao')[['sexo']].count()"
   ]
  },
  {
   "cell_type": "code",
   "execution_count": null,
   "metadata": {},
   "outputs": [],
   "source": [
    "novos_casos = pd.read_excel(join(default_input,'novos_casos.xlsx')).rename(columns={\n",
    "    'id':'id_notifica',\n",
    "    'ibge_residencia': 'ibge_resid',\n",
    "    'ibge_unidade_notifica': 'ibge_atend',\n",
    "    'paciente':'nome',\n",
    "    'sexo': 'sexo',\n",
    "    'idade':'idade',\n",
    "    'nome_exame': 'laboratorio',\n",
    "    'data_liberacao':'dt_diag',\n",
    "    'data_com':'comunicacao',\n",
    "    'data_1o_sintomas': 'is',\n",
    "    'evolucao': 'evolucao',\n",
    "    'data_cura_obito': 'data_evolucao'\n",
    "})\n",
    "\n",
    "novos_casos = novos_casos[['id_notifica', 'uf_resid', 'ibge_resid', 'ibge_atend', 'nome', 'sexo', 'idade', 'laboratorio', 'dt_diag', 'comunicacao', 'is', 'evolucao', 'data_evolucao']]\n",
    "\n",
    "novos_casos.loc[novos_casos['evolucao']==5,'evolucao'] = 2\n",
    "\n",
    "novos_casos['hash'] = (novos_casos['nome'].apply(normalize_hash) +\n",
    "                  novos_casos['idade'].astype(str) +\n",
    "                  novos_casos['ibge_resid'].astype(str) )\n",
    "\n",
    "novos_casos['hash_less'] = ( novos_casos['nome'].apply(normalize_hash) +\n",
    "                        novos_casos['idade'].apply(lambda x: str(x - 1)) +\n",
    "                        novos_casos['ibge_resid'].astype(str) )\n",
    "\n",
    "novos_casos['hash_more'] = ( novos_casos['nome'].apply(normalize_hash) +\n",
    "                        novos_casos['idade'].apply(lambda x: str(x + 1)) +\n",
    "                        novos_casos['ibge_resid'].astype(str) )\n",
    "\n",
    "novos_casos['identificacao'] = list(range(casosct.iloc[-1,0] + 1,casosct.iloc[-1,0] + 1 + len(novos_casos)))\n",
    "casosct = casosct.append(novos_casos)\n",
    "casosct.groupby('evolucao')[['sexo']].count()"
   ]
  },
  {
   "cell_type": "code",
   "execution_count": null,
   "metadata": {},
   "outputs": [],
   "source": [
    "novos_obitos = pd.read_excel(join(default_input,'novos_obitos.xlsx')).rename(columns={\n",
    "    'id': 'id_notifica',\n",
    "    'data_cura_obito': 'data_evolucao',\n",
    "    'paciente':'nome'\n",
    "})\n",
    "\n",
    "novos_obitos['hash'] = (novos_obitos['nome'].apply(normalize_hash) +\n",
    "                          novos_obitos['idade'].astype(str) +\n",
    "                              novos_obitos['ibge_residencia'].astype(str) )\n",
    "\n",
    "novos_obitos['data_com_evolucao'] = pd.to_datetime(date.today() - timedelta(days=1))\n",
    "novos_obitos['evolucao'] = 2"
   ]
  },
  {
   "cell_type": "code",
   "execution_count": null,
   "metadata": {},
   "outputs": [],
   "source": [
    "novos_obitos = novos_obitos[['hash','id_notifica','evolucao','data_evolucao','data_com_evolucao']]\n",
    "novos_obitos = novos_obitos.set_index('hash')\n",
    "casosct = casosct.set_index('hash')\n",
    "casosct.update(novos_obitos)\n",
    "casosct.reset_index(inplace=True)\n",
    "casosct = casosct[['identificacao','id_notifica','uf_resid','ibge_resid','ibge_atend','nome','sexo','idade','laboratorio','dt_diag','comunicacao','is','evolucao','data_evolucao','data_com_evolucao','hash','hash_less','hash_more','hash_diag']]\n",
    "\n",
    "print(len(casosct))\n",
    "casosct.groupby('evolucao')[['sexo']].count()"
   ]
  },
  {
   "cell_type": "code",
   "execution_count": null,
   "metadata": {},
   "outputs": [],
   "source": [
    "casosct.head()"
   ]
  },
  {
   "cell_type": "code",
   "execution_count": null,
   "metadata": {},
   "outputs": [],
   "source": [
    "casosct.tail()"
   ]
  },
  {
   "cell_type": "code",
   "execution_count": null,
   "metadata": {},
   "outputs": [],
   "source": [
    "casosct.to_pickle('casosct_21_05_2021.pkl')"
   ]
  },
  {
   "cell_type": "code",
   "execution_count": null,
   "metadata": {},
   "outputs": [],
   "source": [
    "macros_idx_labels = dict([ [i,x] for (i,x) in enumerate(['Leste','Oeste','Noroeste','Norte','Fora'])])\n",
    "macros_labels_idx = dict([ [x,i] for (i,x) in macros_idx_labels.items() ])\n",
    "municipios['macro'] = municipios['macro'].apply(lambda x: macros_labels_idx[x])\n",
    "\n",
    "casosct = pd.merge(casosct.rename(columns={'ibge_resid':'ibge'}),municipios,on=['ibge'],how='left').rename(columns={'ibge':'ibge_resid'})\n",
    "\n",
    "casosct['municipio_pr'] = casosct['municipio']\n",
    "casosct.loc[casosct['uf_resid']!='PR','municipio_pr'] = 'Fora'\n",
    "\n",
    "casosct.loc[casosct['uf_resid']!='PR','ibge7'] = 9999999\n",
    "\n",
    "casosct['uf_pr'] = 'PR'\n",
    "casosct.loc[casosct['uf_resid']!='PR','uf_pr'] = 'Fora'"
   ]
  },
  {
   "cell_type": "code",
   "execution_count": null,
   "metadata": {},
   "outputs": [],
   "source": [
    "pd.options.display.float_format = lambda x: '{:,.0f}'.format(x).replace(',','.')\n",
    "\n",
    "total = casosct.groupby(['evolucao','uf_pr'])[['sexo']].count().unstack().droplevel(0,1)[['PR','Fora']]\n",
    "total['GERAL'] = total.sum(1)\n",
    "total = total.append(pd.Series(total.sum(0),name=0))\n",
    "total.index = [2,1,3,0]\n",
    "total = total.sort_index()\n",
    "total = total.rename(index={0:'CASOS',2:'RECUPERADOS',1:'OBITOS',3:'ATIVOS'})\n",
    "total.index.name = None\n",
    "total.columns.name = None\n",
    "\n",
    "total.astype(float)"
   ]
  },
  {
   "cell_type": "code",
   "execution_count": null,
   "metadata": {},
   "outputs": [],
   "source": [
    "total_macros = casosct.groupby(['macro','evolucao'])[['sexo']].count().unstack()\n",
    "total_macros.columns = total_macros.columns.droplevel(0)\n",
    "\n",
    "total_macros['CASOS'] = total_macros.sum(1)\n",
    "total_macros = total_macros.fillna(0)\n",
    "total_macros = total_macros.rename(columns={1:'RECUPERADOS',2:'OBITOS',3:'ATIVOS'})\n",
    "total_macros = total_macros[['CASOS','OBITOS','RECUPERADOS','ATIVOS']]\n",
    "\n",
    "total_macros.index = [ macros_idx_labels[x] if isinstance(x,int) else x for x in total_macros.index]\n",
    "\n",
    "total_macros.astype(float)"
   ]
  },
  {
   "cell_type": "code",
   "execution_count": null,
   "metadata": {},
   "outputs": [],
   "source": [
    "total_regionais = casosct.groupby(['rs','regional','evolucao'])[['sexo']].count().unstack()\n",
    "total_regionais.columns = total_regionais.columns.droplevel(0)\n",
    "\n",
    "total_regionais['CASOS'] = total_regionais.sum(1)\n",
    "total_regionais = total_regionais.fillna(0)\n",
    "total_regionais = total_regionais.rename(columns={1:'RECUPERADOS',2:'OBITOS',3:'ATIVOS'})\n",
    "total_regionais = total_regionais[['CASOS','OBITOS','RECUPERADOS','ATIVOS']]\n",
    "\n",
    "total_regionais.astype(float)"
   ]
  },
  {
   "cell_type": "code",
   "execution_count": null,
   "metadata": {},
   "outputs": [],
   "source": [
    "total_municipios = casosct.groupby(['macro','rs','regional','ibge7','municipio_pr','evolucao'])[['sexo']].count().unstack()\n",
    "\n",
    "total_municipios[('','CASOS')] = total_municipios.sum(1)\n",
    "total_municipios = total_municipios.fillna(0).astype(float)\n",
    "total_municipios.columns = total_municipios.columns.droplevel(0)\n",
    "total_municipios = total_municipios.rename(columns={1:'RECUPERADOS',2:'OBITOS',3:'ATIVOS'})\n",
    "total_municipios = total_municipios[['CASOS','OBITOS','RECUPERADOS','ATIVOS']]\n",
    "\n",
    "total_municipios.index = total_municipios.index.set_levels([ macros_idx_labels[x] if isinstance(x,int) else x for x in total_municipios.index.levels[0]], level=0)\n",
    "\n",
    "total_municipios"
   ]
  },
  {
   "cell_type": "code",
   "execution_count": null,
   "metadata": {},
   "outputs": [],
   "source": [
    "casosct['regional'] = casosct['rs'].apply(lambda x: str(x).zfill(2)) +'ª '+ casosct['regional']\n",
    "casosct.columns"
   ]
  },
  {
   "cell_type": "code",
   "execution_count": null,
   "metadata": {},
   "outputs": [],
   "source": [
    "casos_confirmados = casosct[['id_notifica','macro','regional','ibge_resid','municipio','ibge_atend','nome','sexo','idade', 'laboratorio', 'dt_diag', 'comunicacao', 'is', 'evolucao','data_evolucao', 'data_com_evolucao']].copy()\n",
    "casos_confirmados.loc[casos_confirmados['evolucao']==1,'evolucao'] = 'CURA'\n",
    "casos_confirmados.loc[casos_confirmados['evolucao']==2,'evolucao'] = 'OBITO'\n",
    "casos_confirmados.loc[casos_confirmados['evolucao']==3,'evolucao'] = 'ATIVO'"
   ]
  },
  {
   "cell_type": "code",
   "execution_count": null,
   "metadata": {},
   "outputs": [],
   "source": [
    "exit()"
   ]
  },
  {
   "cell_type": "code",
   "execution_count": null,
   "metadata": {},
   "outputs": [],
   "source": [
    "writer = pd.ExcelWriter(\"casos_confirmados.xlsx\",\n",
    "                    engine='xlsxwriter',\n",
    "                    datetime_format='dd/mm/yyyy',\n",
    "                    date_format='dd/mm/yyyy')\n",
    "\n",
    "total.to_excel(writer,'total')\n",
    "total_macros.to_excel(writer,'total_macros')\n",
    "total_regionais.to_excel(writer,'total_regionais')\n",
    "total_municipios.to_excel(writer,'total_municipios')\n",
    "\n",
    "fit_cols(writer,total,'total')\n",
    "fit_cols(writer,total_macros,'total_macros')\n",
    "fit_cols(writer,total_regionais,'total_regionais')\n",
    "fit_cols(writer,total_municipios,'total_municipios')\n",
    "\n",
    "for macro in casos_confirmados['macro'].unique():\n",
    "    casos_macro = casos_confirmados.loc[casos_confirmados['macro']==macro].copy()\n",
    "    casos_macro.to_excel(writer,macros_idx_labels[macro])\n",
    "    fit_cols(writer,casos_macro,macros_idx_labels[macro])\n",
    "\n",
    "\n",
    "writer.save()"
   ]
  },
  {
   "cell_type": "code",
   "execution_count": null,
   "metadata": {},
   "outputs": [],
   "source": [
    "writer = pd.ExcelWriter(\"obitos_confirmados.xlsx\",\n",
    "                    engine='xlsxwriter',\n",
    "                    datetime_format='dd/mm/yyyy',\n",
    "                    date_format='dd/mm/yyyy')\n",
    "\n",
    "total.to_excel(writer,'total')\n",
    "total_macros.to_excel(writer,'total_macros')\n",
    "total_regionais.to_excel(writer,'total_regionais')\n",
    "total_municipios.to_excel(writer,'total_municipios')\n",
    "\n",
    "fit_cols(writer,total,'total')\n",
    "fit_cols(writer,total_macros,'total_macros')\n",
    "fit_cols(writer,total_regionais,'total_regionais')\n",
    "fit_cols(writer,total_municipios,'total_municipios')\n",
    "\n",
    "for macro in obitos_confirmados['macro'].unique():\n",
    "    obitos_macro = obitos_confirmados.loc[obitos_confirmados['macro']==macro].copy()\n",
    "    obitos_macro.to_excel(writer,macros_idx_labels[macro])\n",
    "    fit_cols(writer,obitos_macro,macros_idx_labels[macro])\n",
    "\n",
    "\n",
    "writer.save()"
   ]
  },
  {
   "cell_type": "code",
   "execution_count": null,
   "metadata": {},
   "outputs": [],
   "source": [
    "writer = pd.ExcelWriter(\"casos_confirmados_regionais.xlsx\",\n",
    "                    engine='xlsxwriter',\n",
    "                    datetime_format='dd/mm/yyyy',\n",
    "                    date_format='dd/mm/yyyy')\n",
    "\n",
    "total.to_excel(writer,'total')\n",
    "total_macros.to_excel(writer,'total_macros')\n",
    "total_regionais.to_excel(writer,'total_regionais')\n",
    "total_municipios.to_excel(writer,'total_municipios')\n",
    "\n",
    "fit_cols(writer,total,'total')\n",
    "fit_cols(writer,total_macros,'total_macros')\n",
    "fit_cols(writer,total_regionais,'total_regionais')\n",
    "fit_cols(writer,total_municipios,'total_municipios')\n",
    "\n",
    "for regional in casos_confirmados['regional'].unique():\n",
    "    casos_regional = casos_confirmados.loc[casos_confirmados['regional']==regional].copy()\n",
    "    casos_regional.to_excel(writer,regional)\n",
    "    fit_cols(writer,casos_regional,regional)\n",
    "\n",
    "\n",
    "writer.save()"
   ]
  },
  {
   "cell_type": "code",
   "execution_count": null,
   "metadata": {},
   "outputs": [],
   "source": [
    "writer = pd.ExcelWriter(\"obitos_confirmados_regionais.xlsx\",\n",
    "                    engine='xlsxwriter',\n",
    "                    datetime_format='dd/mm/yyyy',\n",
    "                    date_format='dd/mm/yyyy')\n",
    "\n",
    "total.to_excel(writer,'total')\n",
    "total_macros.to_excel(writer,'total_macros')\n",
    "total_regionais.to_excel(writer,'total_regionais')\n",
    "total_municipios.to_excel(writer,'total_municipios')\n",
    "\n",
    "fit_cols(writer,total,'total')\n",
    "fit_cols(writer,total_macros,'total_macros')\n",
    "fit_cols(writer,total_regionais,'total_regionais')\n",
    "fit_cols(writer,total_municipios,'total_municipios')\n",
    "\n",
    "for regional in obitos_confirmados['regional'].unique():\n",
    "    obitos_regional = obitos_confirmados.loc[obitos_confirmados['regional']==regional].copy()\n",
    "    obitos_regional.to_excel(writer,regional)\n",
    "    fit_cols(writer,obitos_regional,regional)\n",
    "\n",
    "\n",
    "writer.save()"
   ]
  }
 ],
 "metadata": {
  "kernelspec": {
   "display_name": "Python 3",
   "language": "python",
   "name": "python3"
  },
  "language_info": {
   "codemirror_mode": {
    "name": "ipython",
    "version": 3
   },
   "file_extension": ".py",
   "mimetype": "text/x-python",
   "name": "python",
   "nbconvert_exporter": "python",
   "pygments_lexer": "ipython3",
   "version": "3.8.5"
  },
  "toc-autonumbering": false,
  "toc-showcode": true,
  "toc-showmarkdowntxt": false,
  "toc-showtags": false
 },
 "nbformat": 4,
 "nbformat_minor": 4
}
