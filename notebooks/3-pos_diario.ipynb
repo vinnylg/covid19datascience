{
 "cells": [
  {
   "cell_type": "code",
   "execution_count": null,
   "metadata": {
    "execution": {
     "iopub.execute_input": "2022-03-07T20:11:19.192777Z",
     "iopub.status.busy": "2022-03-07T20:11:19.192777Z",
     "iopub.status.idle": "2022-03-07T20:11:19.221282Z",
     "shell.execute_reply": "2022-03-07T20:11:19.220277Z",
     "shell.execute_reply.started": "2022-03-07T20:11:19.192777Z"
    },
    "tags": []
   },
   "outputs": [],
   "source": [
    "## set covid19_datasciente as path for python find bulletin package\n",
    "import sys\n",
    "from pathlib import Path\n",
    "from os import getcwd, remove, listdir, stat, chdir, system\n",
    "from os.path import join, basename, exists, dirname, isfile, isdir\n",
    "\n",
    "sys.path.append(str(Path(getcwd()).parent))\n",
    "current_dir = getcwd()\n",
    "print(current_dir)"
   ]
  },
  {
   "cell_type": "code",
   "execution_count": null,
   "metadata": {
    "execution": {
     "iopub.execute_input": "2022-03-07T20:11:20.845789Z",
     "iopub.status.busy": "2022-03-07T20:11:20.844909Z",
     "iopub.status.idle": "2022-03-07T20:11:21.456041Z",
     "shell.execute_reply": "2022-03-07T20:11:21.456041Z",
     "shell.execute_reply.started": "2022-03-07T20:11:20.845789Z"
    },
    "tags": []
   },
   "outputs": [],
   "source": [
    "import pandas as pd\n",
    "pd.set_option('display.max_columns', None)\n",
    "pd.set_option('display.max_rows', 150)\n",
    "\n",
    "from epiweeks import Week\n",
    "import numpy as np\n",
    "from random import randint\n",
    "from math import floor, ceil\n",
    "import codecs\n",
    "\n",
    "from tqdm.auto import tqdm\n",
    "tqdm.pandas()"
   ]
  },
  {
   "cell_type": "code",
   "execution_count": null,
   "metadata": {
    "execution": {
     "iopub.execute_input": "2022-03-07T20:12:39.835335Z",
     "iopub.status.busy": "2022-03-07T20:12:39.835335Z",
     "iopub.status.idle": "2022-03-07T20:12:41.476348Z",
     "shell.execute_reply": "2022-03-07T20:12:41.475301Z",
     "shell.execute_reply.started": "2022-03-07T20:12:39.835335Z"
    },
    "tags": []
   },
   "outputs": [],
   "source": [
    "from bulletin import default_input, default_output, agora, hoje, ontem, anteontem, dias_apos, dias_apos_label\n",
    "from bulletin.services.metabase import Metabase\n",
    "from bulletin.systems.casos_confirmados import CasosConfirmados\n",
    "from bulletin.systems.notifica import Notifica\n",
    "from bulletin.utils.static import Municipios\n",
    "from bulletin.utils import utils, static\n",
    "from bulletin.utils.xls_ import fit_cols\n",
    "from bulletin.utils.normalize import trim_overspace\n",
    "\n",
    "from bulletin.utils.normalize import normalize_text#normalize_hash, normalize_labels, , date_hash, normalize_number"
   ]
  },
  {
   "cell_type": "code",
   "execution_count": null,
   "metadata": {
    "execution": {
     "iopub.execute_input": "2022-03-07T20:12:44.826205Z",
     "iopub.status.busy": "2022-03-07T20:12:44.826205Z",
     "iopub.status.idle": "2022-03-07T20:12:44.834204Z",
     "shell.execute_reply": "2022-03-07T20:12:44.833206Z",
     "shell.execute_reply.started": "2022-03-07T20:12:44.826205Z"
    },
    "tags": []
   },
   "outputs": [],
   "source": [
    "from datetime import datetime, date, timedelta\n",
    "import pyminizip as pz\n",
    "\n",
    "today = pd.to_datetime(date.today())\n",
    "ontem = today - timedelta(1)\n",
    "anteontem = ontem - timedelta(1)\n",
    "data_retroativos = ontem - timedelta(31)"
   ]
  },
  {
   "cell_type": "code",
   "execution_count": null,
   "metadata": {
    "execution": {
     "iopub.execute_input": "2022-03-07T20:12:45.494272Z",
     "iopub.status.busy": "2022-03-07T20:12:45.494272Z",
     "iopub.status.idle": "2022-03-07T20:12:45.502276Z",
     "shell.execute_reply": "2022-03-07T20:12:45.501273Z",
     "shell.execute_reply.started": "2022-03-07T20:12:45.494272Z"
    },
    "tags": []
   },
   "outputs": [],
   "source": [
    "meses = {1:'Janeiro',2:'Fevereiro',3:'Março',4:'Abril',5:'Maio',6:'Junho',7:'Julho',8:'Agosto',9:'Setembro',10:'Outubro',11:'Novembro',12:'Dezembro'}"
   ]
  },
  {
   "cell_type": "markdown",
   "metadata": {},
   "source": [
    "## 1. Atualização de arquivos e Carregamento das Bases de Dados"
   ]
  },
  {
   "cell_type": "code",
   "execution_count": null,
   "metadata": {
    "execution": {
     "iopub.execute_input": "2022-03-07T18:45:53.454559Z",
     "iopub.status.busy": "2022-03-07T18:45:53.454559Z",
     "iopub.status.idle": "2022-03-07T18:46:38.883401Z",
     "shell.execute_reply": "2022-03-07T18:46:38.882887Z",
     "shell.execute_reply.started": "2022-03-07T18:45:53.454559Z"
    },
    "tags": []
   },
   "outputs": [],
   "source": [
    "# DOWNLOAD RT_PCR\n",
    "mb = Metabase()\n",
    "\n",
    "rt_pcr_path = join('C:\\\\', 'SESA', 'covid19datascience-dev', 'output', 'dash', 'rt_pcr.csv')\n",
    "with open(join(mb.sql_path,'RT_PCR.sql')) as file:\n",
    "        raw_sql = trim_overspace(\" \".join([ row.replace('\\n',' ') for row in file.readlines() if not '--' in row ]))\n",
    "\n",
    "mb.download(raw_sql, rt_pcr_path)\n",
    "\n",
    "\n",
    "\n",
    "# DOWNLOAD TESTES RÁPIDOS DIÁRIO\n",
    "mb = Metabase()\n",
    "\n",
    "teste_rapido_path = join('C:\\\\', 'SESA', 'covid19datascience-dev', 'input', 'queries', 'testes_rapidos_diario.csv')\n",
    "with open(join(mb.sql_path,'testes_rapidos.sql')) as file:\n",
    "        raw_sql = trim_overspace(\" \".join([ row.replace('\\n',' ') for row in file.readlines() if not '--' in row ]))\n",
    "\n",
    "mb.download(raw_sql, teste_rapido_path)"
   ]
  },
  {
   "cell_type": "code",
   "execution_count": null,
   "metadata": {
    "execution": {
     "iopub.execute_input": "2022-03-07T18:46:38.887355Z",
     "iopub.status.busy": "2022-03-07T18:46:38.885503Z",
     "iopub.status.idle": "2022-03-07T18:46:38.890158Z",
     "shell.execute_reply": "2022-03-07T18:46:38.890158Z",
     "shell.execute_reply.started": "2022-03-07T18:46:38.887355Z"
    },
    "tags": []
   },
   "outputs": [],
   "source": [
    "# municipios = Municipios()\n",
    "# municipios['mun_resid'] = municipios['municipio']\n",
    "# municipios.loc[municipios['uf']!='PR','mun_resid'] = municipios.loc[municipios['uf']!='PR','municipio'] + '/' + municipios['uf']\n",
    "\n",
    "# municipio = municipios.copy()"
   ]
  },
  {
   "cell_type": "code",
   "execution_count": null,
   "metadata": {
    "execution": {
     "iopub.execute_input": "2022-03-07T20:12:53.986650Z",
     "iopub.status.busy": "2022-03-07T20:12:53.985359Z",
     "iopub.status.idle": "2022-03-07T20:12:54.009347Z",
     "shell.execute_reply": "2022-03-07T20:12:54.009347Z",
     "shell.execute_reply.started": "2022-03-07T20:12:53.986650Z"
    },
    "tags": []
   },
   "outputs": [],
   "source": [
    "municipios = Municipios()"
   ]
  },
  {
   "cell_type": "code",
   "execution_count": null,
   "metadata": {
    "execution": {
     "iopub.execute_input": "2022-03-07T20:12:55.234474Z",
     "iopub.status.busy": "2022-03-07T20:12:55.233474Z",
     "iopub.status.idle": "2022-03-07T20:14:26.395685Z",
     "shell.execute_reply": "2022-03-07T20:14:26.395685Z",
     "shell.execute_reply.started": "2022-03-07T20:12:55.234474Z"
    },
    "tags": []
   },
   "outputs": [],
   "source": [
    "cc = CasosConfirmados()\n",
    "cc.load(f\"cc_{hoje.strftime('%d_%m_%Y')}\", compress=True)"
   ]
  },
  {
   "cell_type": "code",
   "execution_count": null,
   "metadata": {
    "execution": {
     "iopub.execute_input": "2022-03-07T20:14:26.399618Z",
     "iopub.status.busy": "2022-03-07T20:14:26.398606Z",
     "iopub.status.idle": "2022-03-07T20:14:40.274357Z",
     "shell.execute_reply": "2022-03-07T20:14:40.274357Z",
     "shell.execute_reply.started": "2022-03-07T20:14:26.399618Z"
    },
    "tags": []
   },
   "outputs": [],
   "source": [
    "casos_confirmados = cc.df.copy()\n",
    "\n",
    "# casos_confirmados = pd.merge(casos_confirmados.rename(columns={'ibge_residencia':'ibge'}),municipios,on=['ibge'],how='left').rename(columns={'ibge':'ibge_residencia'})\n",
    "\n",
    "macros_idx_labels = dict([ [i,x] for (i,x) in enumerate(['Leste','Oeste','Noroeste','Norte','Fora'])])\n",
    "macros_labels_idx = dict([ [x,i] for (i,x) in macros_idx_labels.items() ])\n",
    "municipios['macro'] = municipios['macro'].apply(lambda x: macros_labels_idx[x])\n",
    "\n",
    "casos_confirmados = casos_confirmados.join(municipios.set_index('ibge'), on='ibge_residencia')\n",
    "\n",
    "casos_confirmados['municipio_pr'] = casos_confirmados['municipio']\n",
    "casos_confirmados.loc[casos_confirmados['uf_residencia']!='PR','municipio_pr'] = 'Fora'\n",
    "\n",
    "casos_confirmados.loc[casos_confirmados['uf_residencia']!='PR','ibge7'] = 9999999\n",
    "\n",
    "casos_confirmados['uf_pr'] = 'PR'\n",
    "casos_confirmados.loc[casos_confirmados['uf_residencia']!='PR','uf_pr'] = 'Fora'"
   ]
  },
  {
   "cell_type": "markdown",
   "metadata": {},
   "source": [
    "## 2. Quantitativos totais e dados enviados para o Ministério (COE, CONASS)"
   ]
  },
  {
   "cell_type": "code",
   "execution_count": null,
   "metadata": {
    "execution": {
     "iopub.execute_input": "2022-03-07T20:14:40.274357Z",
     "iopub.status.busy": "2022-03-07T20:14:40.274357Z",
     "iopub.status.idle": "2022-03-07T20:14:47.616054Z",
     "shell.execute_reply": "2022-03-07T20:14:47.616054Z",
     "shell.execute_reply.started": "2022-03-07T20:14:40.274357Z"
    },
    "tags": []
   },
   "outputs": [],
   "source": [
    "pd.options.display.float_format = lambda x: '{:,.0f}'.format(x).replace(',','.')\n",
    "\n",
    "total = casos_confirmados.groupby(['evolucao','uf_pr'])[['sexo']].count().unstack().droplevel(0,1)[['PR','Fora']]\n",
    "total['GERAL'] = total.sum(1)\n",
    "total = total.append(pd.Series(total.sum(0),name=0))\n",
    "total.index = [2,1,3,4,0]\n",
    "total = total.sort_index()\n",
    "total = total.rename(index={0:'CASOS',2:'RECUPERADOS',1:'ÓBITOS',3:'ATIVOS',4:'ÓBITOS POR OUTRAS CAUSAS'})\n",
    "total.index.name = None\n",
    "total.columns.name = None\n",
    "\n",
    "total.iloc[:4,2:].to_excel(join(default_output, 'relatorios', 'formulario_MS.xlsx'))\n",
    "\n",
    "total"
   ]
  },
  {
   "cell_type": "code",
   "execution_count": null,
   "metadata": {
    "execution": {
     "iopub.execute_input": "2022-03-07T20:14:47.616054Z",
     "iopub.status.busy": "2022-03-07T20:14:47.616054Z",
     "iopub.status.idle": "2022-03-07T20:14:48.000763Z",
     "shell.execute_reply": "2022-03-07T20:14:47.999769Z",
     "shell.execute_reply.started": "2022-03-07T20:14:47.616054Z"
    },
    "tags": []
   },
   "outputs": [],
   "source": [
    "total_macros = casos_confirmados.groupby(['macro','evolucao'])[['sexo']].count().unstack()\n",
    "total_macros.columns = total_macros.columns.droplevel(0)\n",
    "\n",
    "total_macros['CASOS'] = total_macros.sum(1)\n",
    "total_macros = total_macros.fillna(0)\n",
    "total_macros = total_macros.rename(columns={1:'RECUPERADOS',2:'ÓBITOS',3:'ATIVOS',4:'ÓBITOS POR OUTRAS CAUSAS'})\n",
    "total_macros = total_macros[['CASOS','ÓBITOS','RECUPERADOS','ATIVOS','ÓBITOS POR OUTRAS CAUSAS']]\n",
    "\n",
    "total_macros.index = [ macros_idx_labels[x] if isinstance(x,int) else x for x in total_macros.index]\n",
    "\n",
    "total_macros.astype(float)"
   ]
  },
  {
   "cell_type": "code",
   "execution_count": null,
   "metadata": {
    "execution": {
     "iopub.execute_input": "2022-03-07T20:14:48.001764Z",
     "iopub.status.busy": "2022-03-07T20:14:48.001764Z",
     "iopub.status.idle": "2022-03-07T20:14:48.637828Z",
     "shell.execute_reply": "2022-03-07T20:14:48.636838Z",
     "shell.execute_reply.started": "2022-03-07T20:14:48.001764Z"
    },
    "tags": []
   },
   "outputs": [],
   "source": [
    "total_regionais = casos_confirmados.groupby(['rs','regional','evolucao'])[['sexo']].count().unstack()\n",
    "total_regionais.columns = total_regionais.columns.droplevel(0)\n",
    "\n",
    "total_regionais['CASOS'] = total_regionais.sum(1)\n",
    "total_regionais = total_regionais.fillna(0)\n",
    "total_regionais = total_regionais.rename(columns={1:'RECUPERADOS',2:'OBITOS',3:'ATIVOS',4:'OBITO POR OUTRAS CAUSAS'})\n",
    "total_regionais = total_regionais[['CASOS','OBITOS','RECUPERADOS','ATIVOS','OBITO POR OUTRAS CAUSAS']]\n",
    "\n",
    "total_regionais.astype(float)"
   ]
  },
  {
   "cell_type": "code",
   "execution_count": null,
   "metadata": {
    "execution": {
     "iopub.execute_input": "2022-03-07T20:14:48.640821Z",
     "iopub.status.busy": "2022-03-07T20:14:48.640821Z",
     "iopub.status.idle": "2022-03-07T20:14:49.709956Z",
     "shell.execute_reply": "2022-03-07T20:14:49.707940Z",
     "shell.execute_reply.started": "2022-03-07T20:14:48.640821Z"
    },
    "jupyter": {
     "source_hidden": true
    },
    "tags": []
   },
   "outputs": [],
   "source": [
    "total_municipios = casos_confirmados.groupby(['macro','rs','regional','ibge7','municipio_pr','evolucao'])[['sexo']].count().unstack()\n",
    "\n",
    "total_municipios[('','CASOS')] = total_municipios.sum(1)\n",
    "total_municipios = total_municipios.fillna(0).astype(float)\n",
    "total_municipios.columns = total_municipios.columns.droplevel(0)\n",
    "total_municipios = total_municipios.rename(columns={1:'RECUPERADOS',2:'ÓBITOS',3:'ATIVOS',4:'ÓBITOS POR OUTRAS CAUSAS'})\n",
    "total_municipios = total_municipios[['CASOS','ÓBITOS','RECUPERADOS','ATIVOS','ÓBITOS POR OUTRAS CAUSAS']]\n",
    "\n",
    "total_municipios.index = total_municipios.index.set_levels([ macros_idx_labels[x] if isinstance(x,int) else x for x in total_municipios.index.levels[0]], level=0)\n",
    "\n",
    "total_municipios"
   ]
  },
  {
   "cell_type": "code",
   "execution_count": null,
   "metadata": {
    "execution": {
     "iopub.execute_input": "2022-03-07T20:14:49.712931Z",
     "iopub.status.busy": "2022-03-07T20:14:49.712931Z",
     "iopub.status.idle": "2022-03-07T20:14:49.968610Z",
     "shell.execute_reply": "2022-03-07T20:14:49.967611Z",
     "shell.execute_reply.started": "2022-03-07T20:14:49.712931Z"
    },
    "tags": []
   },
   "outputs": [],
   "source": [
    "ministerio_cols = ['municipio_pr','macro','CASOS','ÓBITOS']\n",
    "\n",
    "ministerio_sort = pd.read_excel(join(default_input,'base',\"Casos confirmados covid19 no PR por município.xlsx\"), skiprows=1).fillna('').set_index(['Município de residência','macro'])\n",
    "\n",
    "ministerio = total_municipios.reset_index()[ministerio_cols]\n",
    "# ministerio = pd.merge(ministerio_sort[['ibge7']], total_municipios.reset_index()[ministerio_cols], how='left', on='ibge7' )\n",
    "# del ministerio['ibge7']\n",
    "\n",
    "ministerio['macro'] = ministerio['macro'].str.upper()\n",
    "\n",
    "ministerio.loc[ministerio['municipio_pr']=='Fora',['municipio_pr']] = 'Fora do Parana'\n",
    "ministerio.loc[ministerio['macro']=='FORA',['macro']] = ''\n",
    "\n",
    "ministerio.loc[400,'municipio_pr'] = 'TOTAL GERAL'\n",
    "ministerio.loc[400,'macro'] = ''\n",
    "ministerio.loc[400,'CASOS'] = total.loc['CASOS','GERAL']\n",
    "ministerio.loc[400,'ÓBITOS'] = total.loc['ÓBITOS','GERAL']\n",
    "\n",
    "ministerio.columns = ['Município de residência', 'macro', 'Casos confirmados', 'Óbitos']\n",
    "\n",
    "ministerio_sort.update(ministerio.set_index(['Município de residência','macro']))\n",
    "\n",
    "ministerio = ministerio_sort.reset_index()\n",
    "\n",
    "writer = pd.ExcelWriter(join(default_output,'relatorios',\"Casos confirmados covid19 no PR por municipio.xlsx\"),\n",
    "                    engine='xlsxwriter')\n",
    "\n",
    "ministerio.to_excel(writer,'total_municipios', index=False)\n",
    "fit_cols(writer,ministerio,'total_municipios')\n",
    "\n",
    "writer.save()\n",
    "\n",
    "from openpyxl import load_workbook\n",
    "from openpyxl.styles import Alignment, PatternFill\n",
    "\n",
    "wb = load_workbook(filename = join(default_output,'relatorios',\"Casos confirmados covid19 no PR por municipio.xlsx\"))\n",
    "sheet = wb['total_municipios']\n",
    "sheet.insert_rows(1)\n",
    "sheet.merge_cells(start_row=1, start_column=1, end_row=1, end_column=4)\n",
    "cell = sheet.cell(row=1, column=1)  \n",
    "cell.value = 'Casos confirmados covid-19 no Paraná'  \n",
    "cell.alignment = Alignment(horizontal='center', vertical='center')  \n",
    "wb.save(filename = join(default_output,'relatorios',\"Casos confirmados covid19 no PR por municipio.xlsx\"))\n",
    "\n",
    "ministerio"
   ]
  },
  {
   "cell_type": "code",
   "execution_count": null,
   "metadata": {
    "execution": {
     "iopub.execute_input": "2022-03-07T20:14:49.969615Z",
     "iopub.status.busy": "2022-03-07T20:14:49.969615Z",
     "iopub.status.idle": "2022-03-07T20:14:49.980611Z",
     "shell.execute_reply": "2022-03-07T20:14:49.979605Z",
     "shell.execute_reply.started": "2022-03-07T20:14:49.969615Z"
    },
    "tags": []
   },
   "outputs": [],
   "source": [
    "# SOMA para verificação\n",
    "ministerio.iloc[:-1,2:].sum()"
   ]
  },
  {
   "cell_type": "code",
   "execution_count": null,
   "metadata": {
    "execution": {
     "iopub.execute_input": "2022-03-07T20:14:49.982615Z",
     "iopub.status.busy": "2022-03-07T20:14:49.981663Z",
     "iopub.status.idle": "2022-03-07T20:14:49.994604Z",
     "shell.execute_reply": "2022-03-07T20:14:49.992614Z",
     "shell.execute_reply.started": "2022-03-07T20:14:49.981663Z"
    },
    "tags": []
   },
   "outputs": [],
   "source": [
    "if (ministerio.iloc[:-1,2:].sum()[0] != total.iloc[:-3,2:].values[0]):\n",
    "    raise Exception(f\"Conferir Relatório que será enviado ao MS\")"
   ]
  },
  {
   "cell_type": "code",
   "execution_count": null,
   "metadata": {
    "execution": {
     "iopub.execute_input": "2022-03-07T20:14:49.996613Z",
     "iopub.status.busy": "2022-03-07T20:14:49.996613Z",
     "iopub.status.idle": "2022-03-07T20:14:50.010605Z",
     "shell.execute_reply": "2022-03-07T20:14:50.009607Z",
     "shell.execute_reply.started": "2022-03-07T20:14:49.996613Z"
    },
    "tags": []
   },
   "outputs": [],
   "source": [
    "#AJUSTA A PLANILHA DE TOTAIS MUNICÍPIOS PARA AS REGIONAIS\n",
    "total_municipios = total_municipios.droplevel(axis=0, level='macro')\n",
    "total_municipios = total_municipios.sort_index(axis=0, level='rs', ascending=True)"
   ]
  },
  {
   "cell_type": "markdown",
   "metadata": {},
   "source": [
    "## 3. Dados Fontes"
   ]
  },
  {
   "cell_type": "code",
   "execution_count": null,
   "metadata": {
    "execution": {
     "iopub.execute_input": "2022-03-07T20:14:50.013609Z",
     "iopub.status.busy": "2022-03-07T20:14:50.012609Z",
     "iopub.status.idle": "2022-03-07T20:14:50.022610Z",
     "shell.execute_reply": "2022-03-07T20:14:50.020611Z",
     "shell.execute_reply.started": "2022-03-07T20:14:50.013609Z"
    },
    "tags": []
   },
   "outputs": [],
   "source": [
    "path_verify = join(default_output, 'dash', 'Laboratorios.csv')\n",
    "if (not exists(path_verify)):\n",
    "    raise Exception(f\"Os dados do GAL não foram atualizados. Para prosseguir com os Dados Fontes, execute o notebook GAL primeiro!\")"
   ]
  },
  {
   "cell_type": "code",
   "execution_count": null,
   "metadata": {
    "execution": {
     "iopub.execute_input": "2022-03-07T18:49:14.875166Z",
     "iopub.status.busy": "2022-03-07T18:49:14.875166Z",
     "iopub.status.idle": "2022-03-07T18:52:30.218000Z",
     "shell.execute_reply": "2022-03-07T18:52:30.218000Z",
     "shell.execute_reply.started": "2022-03-07T18:49:14.875166Z"
    },
    "tags": []
   },
   "outputs": [],
   "source": [
    "ddf1 = cc.dados_fontes()\n",
    "ddf1.to_csv(join(default_output,'dash', 'Dados_Fonte.csv'), index = False, sep = ';')"
   ]
  },
  {
   "cell_type": "code",
   "execution_count": null,
   "metadata": {
    "execution": {
     "iopub.execute_input": "2022-03-07T18:52:30.218000Z",
     "iopub.status.busy": "2022-03-07T18:52:30.218000Z",
     "iopub.status.idle": "2022-03-07T18:56:46.012216Z",
     "shell.execute_reply": "2022-03-07T18:56:46.012216Z",
     "shell.execute_reply.started": "2022-03-07T18:52:30.218000Z"
    },
    "tags": []
   },
   "outputs": [],
   "source": [
    "ddf2 = cc.dados_fontes2()\n",
    "ddf2.to_csv(join(default_output,'dash', 'Dados_Fonte2.csv'), index = False, sep = ';', decimal=',', float_format='%.3f')\n",
    "print(len(ddf2))"
   ]
  },
  {
   "cell_type": "code",
   "execution_count": null,
   "metadata": {
    "execution": {
     "iopub.execute_input": "2022-03-07T18:56:46.012216Z",
     "iopub.status.busy": "2022-03-07T18:56:46.012216Z",
     "iopub.status.idle": "2022-03-07T19:00:45.865534Z",
     "shell.execute_reply": "2022-03-07T19:00:45.865534Z",
     "shell.execute_reply.started": "2022-03-07T18:56:46.012216Z"
    },
    "tags": []
   },
   "outputs": [],
   "source": [
    "ddf3 = cc.dados_fontes3()\n",
    "ddf3.loc[ddf3['IBGE_RES_PR']=='NOROESTE','IBGE_RES_PR'] = 'NOROEST'\n",
    "ddf3.loc[ddf3['Tipo_Data']=='Inicio_Sintomas','data'] = ddf3.loc[ddf3['Tipo_Data']=='Inicio_Sintomas','data'].apply(pd.to_datetime).dt.date\n",
    "ddf3.to_csv(join(default_output,'dash', 'Dados_Fonte3.csv'), index = False, sep = ';')\n",
    "print(len(ddf3))"
   ]
  },
  {
   "cell_type": "markdown",
   "metadata": {},
   "source": []
  },
  {
   "cell_type": "markdown",
   "metadata": {},
   "source": [
    "### 3.1. Novos Casos e Óbitos por ano e mês"
   ]
  },
  {
   "cell_type": "code",
   "execution_count": null,
   "metadata": {
    "execution": {
     "iopub.status.busy": "2022-03-07T19:00:45.865534Z",
     "iopub.status.idle": "2022-03-07T19:00:45.865534Z",
     "shell.execute_reply": "2022-03-07T19:00:45.865534Z",
     "shell.execute_reply.started": "2022-03-07T19:00:45.865534Z"
    },
    "tags": []
   },
   "outputs": [],
   "source": [
    "casos_confirmadosPR = cc.df.loc[cc.df['uf_residencia'] == 'PR']\n",
    "\n",
    "writer = pd.ExcelWriter(join(default_output,'dash', 'novos_casos_obitos_por_mes.xlsx'))\n",
    "\n",
    "novos_casos_mes = casos_confirmadosPR.loc[casos_confirmadosPR['data_comunicacao']==today].groupby([(casos_confirmadosPR['data_diagnostico'].rename('ano').dt.year),(casos_confirmadosPR['data_diagnostico'].rename('mês').dt.month)])[['identificacao']].count().rename(columns={'identificacao':'qtde'}).reset_index().astype(int).replace({'mês':meses}).set_index(['ano','mês'])\n",
    "novos_casos_mes.to_excel(writer,'novos_casos')\n",
    "display(novos_casos_mes)\n",
    "\n",
    "novos_obitos_mes = casos_confirmadosPR.loc[(casos_confirmadosPR['evolucao']== 2 ) & (casos_confirmadosPR['data_com_evolucao']==today)].groupby([(casos_confirmadosPR['data_cura_obito'].rename('ano').dt.year),(casos_confirmadosPR['data_cura_obito'].rename('mês').dt.month)])[['identificacao']].count().rename(columns={'identificacao':'qtde'}).reset_index().astype(int).replace({'mês':meses}).set_index(['ano','mês'])\n",
    "if len(novos_obitos_mes) == 0:\n",
    "    novos_obitos_mes.loc[('',''),'qtde'] = 0\n",
    "\n",
    "novos_obitos_mes.to_excel(writer,'novos_obitos')\n",
    "display(novos_obitos_mes)\n",
    "\n",
    "writer.save()"
   ]
  },
  {
   "cell_type": "markdown",
   "metadata": {},
   "source": [
    "## 4. Arquivos enviados para COMUNICAÇÃO"
   ]
  },
  {
   "cell_type": "markdown",
   "metadata": {},
   "source": [
    "### 4.1. Definições de variáveis importantes antes de alterar o cc.df"
   ]
  },
  {
   "cell_type": "code",
   "execution_count": null,
   "metadata": {
    "execution": {
     "iopub.status.busy": "2022-03-07T19:00:45.865534Z",
     "iopub.status.idle": "2022-03-07T19:00:45.865534Z",
     "shell.execute_reply": "2022-03-07T19:00:45.865534Z",
     "shell.execute_reply.started": "2022-03-07T19:00:45.865534Z"
    },
    "tags": []
   },
   "outputs": [],
   "source": [
    "casosPR = cc.df.loc[(cc.df['uf_residencia']=='PR')].copy()\n",
    "casosPR['ano_caso'] = casosPR['data_diagnostico'].dt.year\n",
    "casosPR['mes_caso'] = casosPR['data_diagnostico'].dt.month\n",
    "\n",
    "\n",
    "obitosPR = cc.df.loc[(cc.df['evolucao']==2) & (cc.df['uf_residencia']=='PR')].copy()\n",
    "obitosPR = obitosPR.join(Municipios().set_index('ibge'), on='ibge_residencia')\n",
    "obitosPR['ano_obito'] = obitosPR['data_cura_obito'].dt.year\n",
    "obitosPR['mes_obito'] = obitosPR['data_cura_obito'].dt.month"
   ]
  },
  {
   "cell_type": "markdown",
   "metadata": {},
   "source": [
    "### 4.2. Geração dos arquivos .csv enviados"
   ]
  },
  {
   "cell_type": "code",
   "execution_count": null,
   "metadata": {
    "execution": {
     "iopub.status.busy": "2022-03-07T19:00:45.865534Z",
     "iopub.status.idle": "2022-03-07T19:00:45.865534Z",
     "shell.execute_reply": "2022-03-07T19:00:45.865534Z",
     "shell.execute_reply.started": "2022-03-07T19:00:45.865534Z"
    }
   },
   "outputs": [],
   "source": [
    "cc.df['origem_nome'] = cc.replace('origem',inplace=False)\n",
    "\n",
    "municipioss = Municipios()\n",
    "municipioss['rs'] = municipioss['rs'].astype('str').apply(lambda x: x.zfill(2))\n",
    "municipioss['mun_resid'] = municipioss['municipio'].apply(normalize_text)     \n",
    "municipioss.loc[municipioss['uf']!='PR','mun_resid'] += '/' + municipios['uf']\n",
    "\n",
    "df_casos = cc.df.copy()\n",
    "df_casos = pd.merge(df_casos.rename(columns={'ibge_residencia':'ibge'}),municipioss[['ibge','ibge7','rs','mun_resid','uf','municipio', 'macro']],on='ibge',how='left').rename(columns={'ibge':'ibge_residencia', 'ibge7':'ibge7_resid'})\n",
    "df_casos = pd.merge(df_casos.rename(columns={'ibge_unidade_notifica':'ibge'}),municipioss[['ibge','ibge7','mun_resid']].rename(columns={'mun_resid':'mun_atend'}),on='ibge',how='left').rename(columns={'ibge':'ibge_unidade_notifica', 'ibge7':'ibge7_atend'})"
   ]
  },
  {
   "cell_type": "code",
   "execution_count": null,
   "metadata": {
    "execution": {
     "iopub.status.busy": "2022-03-07T19:00:45.865534Z",
     "iopub.status.idle": "2022-03-07T19:00:45.865534Z",
     "shell.execute_reply": "2022-03-07T19:00:45.865534Z",
     "shell.execute_reply.started": "2022-03-07T19:00:45.865534Z"
    },
    "tags": []
   },
   "outputs": [],
   "source": [
    "\n",
    "\n",
    "casos_obitos = cc.comunicacao_casosObitos(df_casos)\n",
    "casos_obitos.to_csv(join(default_output, 'comunicacao',  f\"INFORME_EPIDEMIOLOGICO_{hoje.strftime('%d_%m_%Y')}_OBITOS_CASOS_MUNICIPIO.csv\"), index=False, sep=';',encoding='utf-8-sig')"
   ]
  },
  {
   "cell_type": "code",
   "execution_count": null,
   "metadata": {
    "execution": {
     "iopub.status.busy": "2022-03-07T19:00:45.865534Z",
     "iopub.status.idle": "2022-03-07T19:00:45.881117Z",
     "shell.execute_reply": "2022-03-07T19:00:45.881117Z",
     "shell.execute_reply.started": "2022-03-07T19:00:45.881117Z"
    }
   },
   "outputs": [],
   "source": [
    "\n",
    "\n",
    "csv_geral_old = cc.comunicacao_csvGeralOld(df_casos)\n",
    "csv_geral_old.to_csv(join(default_output, 'comunicacao',  f\"INFORME_EPIDEMIOLOGICO_{hoje.strftime('%d_%m_%Y')}_GERAL.csv\"), index=False, sep=';',encoding='utf-8-sig')"
   ]
  },
  {
   "cell_type": "code",
   "execution_count": null,
   "metadata": {
    "execution": {
     "iopub.execute_input": "2022-03-07T20:14:50.023610Z",
     "iopub.status.busy": "2022-03-07T20:14:50.023610Z"
    },
    "tags": []
   },
   "outputs": [],
   "source": [
    "# \n",
    "\n",
    "csv_geral_new = cc.comunicacao_csvGeralNew()\n",
    "csv_geral_new.to_csv(join(default_output, 'comunicacao',  f\"INFORME_EPIDEMIOLOGICO_{hoje.strftime('%d_%m_%Y')}_COMPLETO.csv\"), index=False, sep=';',encoding='utf-8-sig')\n",
    "csv_geral_new.to_csv(join(default_output, 'enviar_celepar',  f\"CORONAVIRUS.INFORME_EPIDEMIOLOGICO_COMPLETO.csv\"), index=False, sep=';',encoding='utf-8-sig')"
   ]
  },
  {
   "cell_type": "code",
   "execution_count": null,
   "metadata": {
    "execution": {
     "iopub.execute_input": "2021-12-20T15:32:27.996036Z",
     "iopub.status.busy": "2021-12-20T15:32:27.995036Z",
     "iopub.status.idle": "2021-12-20T15:32:28.008020Z",
     "shell.execute_reply": "2021-12-20T15:32:28.006058Z",
     "shell.execute_reply.started": "2021-12-20T15:32:27.996036Z"
    }
   },
   "outputs": [],
   "source": [
    "writer = pd.ExcelWriter(join(default_output,'comunicacao', f\"MunicipiosSemObitos_CasosObitosMesDia_{hoje.strftime('%d_%m_%Y')}.xlsx\"),\n",
    "                    engine='xlsxwriter',\n",
    "                    datetime_format='dd/mm/yyyy',\n",
    "                    date_format='dd/mm/yyyy')\n",
    "\n",
    "\n",
    "writer_dash = pd.ExcelWriter(join(default_output,'dash', f\"casos_obitos_mes.xlsx\"),\n",
    "                    engine='xlsxwriter',\n",
    "                    datetime_format='dd/mm/yyyy',\n",
    "                    date_format='dd/mm/yyyy')"
   ]
  },
  {
   "cell_type": "code",
   "execution_count": null,
   "metadata": {
    "execution": {
     "iopub.execute_input": "2021-12-20T15:32:30.186759Z",
     "iopub.status.busy": "2021-12-20T15:32:30.186759Z",
     "iopub.status.idle": "2021-12-20T15:32:30.192756Z",
     "shell.execute_reply": "2021-12-20T15:32:30.191763Z",
     "shell.execute_reply.started": "2021-12-20T15:32:30.186759Z"
    }
   },
   "outputs": [],
   "source": [
    "# MUNICÍPIOS SEM ÓBITOS\n",
    "# obitosPR = obitosPR.sort_values('data_com_evolucao')\n",
    "# obitos_dia = obitosPR[['rs','municipio','data_com_evolucao']].groupby(['rs','municipio']).last()\n",
    "# obitos_dia['dias_apos_ultimo_obito'] = today - obitos_dia['data_com_evolucao']\n",
    "# obitos_dia = obitos_dia.sort_values('dias_apos_ultimo_obito', ascending=False)\n",
    "# obitos_dia.columns = ['data último óbito', 'dias após último óbito']\n",
    "# obitos_dia['ano/mês último óbito'] = obitos_dia['data último óbito'].dt.strftime('%Y/%m')\n",
    "# obitos_dia['data último óbito'] = obitos_dia['data último óbito'].dt.date\n",
    "# obitos_dia.to_excel(writer, 'municipios_comunicacao')"
   ]
  },
  {
   "cell_type": "code",
   "execution_count": null,
   "metadata": {
    "execution": {
     "iopub.execute_input": "2021-12-20T15:32:30.193748Z",
     "iopub.status.busy": "2021-12-20T15:32:30.193748Z",
     "iopub.status.idle": "2021-12-20T15:32:30.452764Z",
     "shell.execute_reply": "2021-12-20T15:32:30.451772Z",
     "shell.execute_reply.started": "2021-12-20T15:32:30.193748Z"
    }
   },
   "outputs": [],
   "source": [
    "# MUNICÍPIOS SEM ÓBITOS\n",
    "obitosPR = obitosPR.sort_values('data_cura_obito')\n",
    "obitos_dia = obitosPR[['rs','municipio','data_cura_obito']].groupby(['rs','municipio']).last()\n",
    "obitos_dia['dias_apos_ultimo_obito'] = today - obitos_dia['data_cura_obito']\n",
    "obitos_dia = obitos_dia.sort_values('dias_apos_ultimo_obito', ascending=False)\n",
    "obitos_dia.columns = ['data último óbito', 'dias após último óbito']\n",
    "obitos_dia['ano/mês último óbito'] = obitos_dia['data último óbito'].dt.strftime('%Y/%m')\n",
    "obitos_dia['data último óbito'] = obitos_dia['data último óbito'].dt.date\n",
    "obitos_dia.to_excel(writer, 'municipios_sem_obitos')"
   ]
  },
  {
   "cell_type": "code",
   "execution_count": null,
   "metadata": {
    "execution": {
     "iopub.execute_input": "2021-12-20T15:32:30.796740Z",
     "iopub.status.busy": "2021-12-20T15:32:30.796740Z",
     "iopub.status.idle": "2021-12-20T15:32:31.189461Z",
     "shell.execute_reply": "2021-12-20T15:32:31.188501Z",
     "shell.execute_reply.started": "2021-12-20T15:32:30.796740Z"
    }
   },
   "outputs": [],
   "source": [
    "# CASOS E ÓBITOS POR MÊS\n",
    "tabela_casos_mes = casosPR.groupby(['ano_caso', 'mes_caso'])[['id_notifica']].count().rename(columns={'id_notifica':'casos'})\n",
    "tabela_casos_mes.rename(index=meses, inplace=True)\n",
    "\n",
    "tabela_obitos_mes = obitosPR.groupby(['ano_obito', 'mes_obito'])[['id_notifica']].count().rename(columns={'id_notifica':'óbitos'})\n",
    "tabela_obitos_mes.rename(index=meses, inplace=True)\n",
    "\n",
    "\n",
    "tabela_casos_mes.index.set_names(['ano', 'mes'], inplace=True)\n",
    "tabela_obitos_mes.index.set_names(['ano', 'mes'], inplace=True)\n",
    "tabela_mes_PR = tabela_casos_mes.join(tabela_obitos_mes)\n",
    "\n",
    "tabela_mes_PR['% do total de casos'] = tabela_mes_PR['casos'] / tabela_mes_PR['casos'].sum()\n",
    "tabela_mes_PR['% do total de óbitos'] = tabela_mes_PR['óbitos'] / tabela_mes_PR['óbitos'].sum()\n",
    "\n",
    "#salvar\n",
    "tabela_mes_PR.to_excel(writer, 'casos_obitos_mes')\n",
    "tabela_mes_PR.reset_index().to_excel(writer_dash, 'casos_obitos_mes')"
   ]
  },
  {
   "cell_type": "code",
   "execution_count": null,
   "metadata": {
    "execution": {
     "iopub.execute_input": "2021-12-20T15:32:31.190431Z",
     "iopub.status.busy": "2021-12-20T15:32:31.190431Z",
     "iopub.status.idle": "2021-12-20T15:32:31.510451Z",
     "shell.execute_reply": "2021-12-20T15:32:31.509460Z",
     "shell.execute_reply.started": "2021-12-20T15:32:31.190431Z"
    }
   },
   "outputs": [],
   "source": [
    "# CASOS E ÓBITOS POR DIA\n",
    "tabela_casos_dia = casosPR.groupby(['ano_caso', 'mes_caso', 'data_diagnostico'])[['id_notifica']].count().rename(columns={'id_notifica':'casos'})\n",
    "tabela_casos_dia.rename(index=meses, inplace=True)\n",
    "\n",
    "tabela_obitos_dia = obitosPR.groupby(['ano_obito', 'mes_obito', 'data_cura_obito'])[['id_notifica']].count().rename(columns={'id_notifica':'óbitos'})\n",
    "tabela_obitos_dia.rename(index=meses, inplace=True)\n",
    "\n",
    "tabela_casos_dia.index.set_names(['ano', 'mes', 'data'], inplace=True)\n",
    "tabela_obitos_dia.index.set_names(['ano', 'mes', 'data'], inplace=True)\n",
    "tabela_dia_PR = tabela_casos_dia.join(tabela_obitos_dia)\n",
    "\n",
    "for i in tabela_dia_PR.columns:\n",
    "    tabela_dia_PR[i] = tabela_dia_PR[i].fillna(0)\n",
    "\n",
    "#salvar\n",
    "tabela_dia_PR.to_excel(writer, 'casos_obitos_dia')"
   ]
  },
  {
   "cell_type": "code",
   "execution_count": null,
   "metadata": {
    "execution": {
     "iopub.execute_input": "2021-12-20T15:32:31.632461Z",
     "iopub.status.busy": "2021-12-20T15:32:31.632461Z",
     "iopub.status.idle": "2021-12-20T15:32:31.730480Z",
     "shell.execute_reply": "2021-12-20T15:32:31.729480Z",
     "shell.execute_reply.started": "2021-12-20T15:32:31.632461Z"
    }
   },
   "outputs": [],
   "source": [
    "writer.save()\n",
    "writer.close()\n",
    "writer_dash.save()\n",
    "writer_dash.close()"
   ]
  },
  {
   "cell_type": "code",
   "execution_count": null,
   "metadata": {},
   "outputs": [],
   "source": [
    "# GERA ARQUIVOS COMPACTADOS DE HOJE\n",
    "dirpath = join('C:\\\\', 'SESA', 'covid19datascience-dev','output', 'comunicacao')\n",
    "archives = [ f for f in listdir(dirpath) if isfile(join(dirpath, f)) ]\n",
    "\n",
    "chdir(dirpath)\n",
    "\n",
    "pz.compress_multiple(archives, [], join(dirpath, f\"comunicacao_{hoje.strftime('%d_%m_%Y')}.zip\"), None, 9)\n",
    "\n",
    "chdir(current_dir)\n",
    "\n",
    "\n",
    "# # REMOVE ARQUIVOS DE HOJE\n",
    "# for i in archives:\n",
    "#     try:\n",
    "#         remove(join(dirpath, i))\n",
    "#     except:\n",
    "#         pass"
   ]
  },
  {
   "cell_type": "markdown",
   "metadata": {
    "execution": {
     "iopub.execute_input": "2021-09-25T13:56:41.602145Z",
     "iopub.status.busy": "2021-09-25T13:56:41.602145Z",
     "iopub.status.idle": "2021-09-25T13:56:41.607161Z",
     "shell.execute_reply": "2021-09-25T13:56:41.607161Z",
     "shell.execute_reply.started": "2021-09-25T13:56:41.602145Z"
    }
   },
   "source": [
    "## 5. Arquivos enviados para as REGIONAIS"
   ]
  },
  {
   "cell_type": "code",
   "execution_count": null,
   "metadata": {
    "execution": {
     "iopub.execute_input": "2021-12-20T15:32:31.730480Z",
     "iopub.status.busy": "2021-12-20T15:32:31.730480Z",
     "iopub.status.idle": "2021-12-20T15:32:31.737498Z",
     "shell.execute_reply": "2021-12-20T15:32:31.737046Z",
     "shell.execute_reply.started": "2021-12-20T15:32:31.730480Z"
    }
   },
   "outputs": [],
   "source": [
    "# if ((hoje.day_name() == 'Saturday')):\n",
    "#     raise"
   ]
  },
  {
   "cell_type": "code",
   "execution_count": null,
   "metadata": {
    "execution": {
     "iopub.execute_input": "2021-12-20T15:32:31.737498Z",
     "iopub.status.busy": "2021-12-20T15:32:31.737498Z",
     "iopub.status.idle": "2021-12-20T15:32:34.198130Z",
     "shell.execute_reply": "2021-12-20T15:32:34.197427Z",
     "shell.execute_reply.started": "2021-12-20T15:32:31.737498Z"
    }
   },
   "outputs": [],
   "source": [
    "used_cols = ['id_notifica', 'paciente', 'sexo', 'idade', 'nome_mae', 'uf_residencia', 'ibge_residencia', 'municipio', 'ibge_unidade_notifica', 'data_1o_sintomas', 'data_diagnostico', 'data_comunicacao', 'evolucao', 'data_cura_obito', 'data_com_evolucao', 'numero_do', 'macro', 'rs', 'regional', 'reinfeccao', 'reinfeccao_ids']\n",
    "casos_confirmados = casos_confirmados.drop(columns=[col for col in casos_confirmados.columns if not col in used_cols])\n",
    "\n",
    "\n",
    "# AJUSTE DE CASOS\n",
    "casos_confirmados['regional'] = casos_confirmados['rs'].apply(lambda x: str(x).zfill(2)) +'ª '+ 'Regional'\n",
    "casos_confirmados['macro'] = casos_confirmados['macro'].apply(lambda x: macros_idx_labels[x])\n",
    "\n",
    "casos_confirmados['ano_caso'] = casos_confirmados['data_diagnostico'].dt.year\n",
    "casos_confirmados['mes_caso'] = casos_confirmados['data_diagnostico'].dt.month\n",
    "casos_confirmados['SE_caso'] = casos_confirmados['data_diagnostico'].apply(lambda x: Week.fromdate(x))\n",
    "\n",
    "\n",
    "# casos_confirmados.loc[casos_confirmados['evolucao']==1,'evolucao'] = 'CURA'\n",
    "# casos_confirmados.loc[casos_confirmados['evolucao']==2,'evolucao'] = 'ÓBITO'\n",
    "# casos_confirmados.loc[casos_confirmados['evolucao']==3,'evolucao'] = 'ATIVO'\n",
    "# casos_confirmados.loc[casos_confirmados['evolucao']==4,'evolucao'] = 'ÓBITO POR OUTRAS CAUSAS'\n",
    "dict_evolucao = {'evolucao': {1: 'CURA', 2: 'ÓBITO', 3: 'ATIVO', 4: 'ÓBITO POR OUTRAS CAUSAS'}}\n",
    "casos_confirmados.replace(dict_evolucao, inplace=True)\n",
    "\n",
    "\n",
    "casos_confirmados.loc[casos_confirmados['reinfeccao']==True,'reinfeccao'] = 'Provável caso de REINFECÇÃO'\n",
    "casos_confirmados.loc[casos_confirmados['reinfeccao']==False,'reinfeccao'] = None\n",
    "\n",
    "casos_confirmados.loc[(casos_confirmados['evolucao']=='ÓBITO') & (casos_confirmados['numero_do'].isna()), 'numero_do'] = 'DO NÃO INSERIDA NO NOTIFICA COVID-19'\n",
    "\n",
    "\n",
    "\n",
    "\n",
    "# AJUSTE DE ÓBITOS\n",
    "obitos_confirmados = casos_confirmados.loc[casos_confirmados['evolucao']=='ÓBITO'].copy()\n",
    "obitos_confirmados['ano_obito'] = obitos_confirmados['data_cura_obito'].dt.year\n",
    "obitos_confirmados['mes_obito'] = obitos_confirmados['data_cura_obito'].dt.month\n",
    "obitos_confirmados['SE_obito'] = obitos_confirmados['data_cura_obito'].apply(lambda x: Week.fromdate(x))"
   ]
  },
  {
   "cell_type": "code",
   "execution_count": null,
   "metadata": {
    "execution": {
     "iopub.execute_input": "2021-12-20T15:32:34.796467Z",
     "iopub.status.busy": "2021-12-20T15:32:34.796467Z",
     "iopub.status.idle": "2021-12-20T15:47:58.933113Z",
     "shell.execute_reply": "2021-12-20T15:47:58.933113Z",
     "shell.execute_reply.started": "2021-12-20T15:32:34.796467Z"
    }
   },
   "outputs": [],
   "source": [
    "# \n",
    "# writer = pd.ExcelWriter(join(default_output,'regionais', f\"casos_gerais_{hoje.strftime('%d_%m_%Y')}.xlsx\"),\n",
    "#                     engine='xlsxwriter',\n",
    "#                     datetime_format='dd/mm/yyyy',\n",
    "#                     date_format='dd/mm/yyyy')\n",
    "\n",
    "# total.to_excel(writer,'total')\n",
    "# total_macros.to_excel(writer,'total_macros')\n",
    "# total_regionais.to_excel(writer,'total_regionais')\n",
    "# total_municipios.to_excel(writer,'total_municipios')\n",
    "\n",
    "# fit_cols(writer,total,'total')\n",
    "# fit_cols(writer,total_macros,'total_macros')\n",
    "# fit_cols(writer,total_regionais,'total_regionais')\n",
    "# fit_cols(writer,total_municipios,'total_municipios')\n",
    "\n",
    "# for macro in tqdm(list(macros_idx_labels.values())):\n",
    "# #     print(macros_idx_labels[macro])\n",
    "#     casos_macro = casos_confirmados.loc[casos_confirmados['macro']==macro]#.copy()\n",
    "# #     casos_macro['macro'] = casos_macro['macro'].apply(lambda x: macros_idx_labels[x])\n",
    "#     casos_macro = casos_macro.sort_values(by='data_diagnostico', ascending=False)\n",
    "#     casos_macro.to_excel(writer,macro,index=False)\n",
    "#     fit_cols(writer,casos_macro,macro)\n",
    "\n",
    "\n",
    "# writer.save()\n",
    "# writer.close()"
   ]
  },
  {
   "cell_type": "code",
   "execution_count": null,
   "metadata": {
    "execution": {
     "iopub.execute_input": "2021-12-20T15:47:58.933113Z",
     "iopub.status.busy": "2021-12-20T15:47:58.933113Z",
     "iopub.status.idle": "2021-12-20T15:48:26.301707Z",
     "shell.execute_reply": "2021-12-20T15:48:26.301707Z",
     "shell.execute_reply.started": "2021-12-20T15:47:58.933113Z"
    }
   },
   "outputs": [],
   "source": [
    "\n",
    "writer = pd.ExcelWriter(join(default_output,'regionais', f\"obitos_gerais_{hoje.strftime('%d_%m_%Y')}.xlsx\"),\n",
    "                    engine='xlsxwriter',\n",
    "                    datetime_format='dd/mm/yyyy',\n",
    "                    date_format='dd/mm/yyyy')\n",
    "\n",
    "total.to_excel(writer,'total')\n",
    "total_macros.to_excel(writer,'total_macros')\n",
    "total_regionais.to_excel(writer,'total_regionais')\n",
    "total_municipios.to_excel(writer,'total_municipios')\n",
    "\n",
    "fit_cols(writer,total,'total')\n",
    "fit_cols(writer,total_macros,'total_macros')\n",
    "fit_cols(writer,total_regionais,'total_regionais')\n",
    "fit_cols(writer,total_municipios,'total_municipios')\n",
    "\n",
    "# obitos_confirmados['macro'] = obitos_confirmados['macro'].apply(lambda x: macros_idx_labels[x])\n",
    "\n",
    "obitos_confirmados = obitos_confirmados.sort_values(by='data_cura_obito', ascending=False)\n",
    "obitos_confirmados.to_excel(writer,'obitos',index=False)\n",
    "fit_cols(writer,obitos_confirmados,'obitos')\n",
    "\n",
    "\n",
    "writer.save()\n",
    "writer.close()"
   ]
  },
  {
   "cell_type": "code",
   "execution_count": null,
   "metadata": {
    "execution": {
     "iopub.execute_input": "2021-12-20T15:48:26.301707Z",
     "iopub.status.busy": "2021-12-20T15:48:26.301707Z",
     "iopub.status.idle": "2021-12-20T16:04:12.211294Z",
     "shell.execute_reply": "2021-12-20T16:04:12.211294Z",
     "shell.execute_reply.started": "2021-12-20T15:48:26.301707Z"
    },
    "tags": []
   },
   "outputs": [],
   "source": [
    "\n",
    "writer = pd.ExcelWriter(join(default_output,'regionais',f\"casos_regionais_{hoje.strftime('%d_%m_%Y')}.xlsx\"),\n",
    "                    engine='xlsxwriter',\n",
    "                    datetime_format='dd/mm/yyyy',\n",
    "                    date_format='dd/mm/yyyy')\n",
    "\n",
    "total.to_excel(writer,'total')\n",
    "total_macros.to_excel(writer,'total_macros')\n",
    "total_regionais.to_excel(writer,'total_regionais')\n",
    "total_municipios.to_excel(writer,'total_municipios')\n",
    "\n",
    "fit_cols(writer,total,'total')\n",
    "fit_cols(writer,total_macros,'total_macros')\n",
    "fit_cols(writer,total_regionais,'total_regionais')\n",
    "fit_cols(writer,total_municipios,'total_municipios')\n",
    "\n",
    "for regional in sorted(casos_confirmados['regional'].unique()):\n",
    "    casos_regional = casos_confirmados.loc[casos_confirmados['regional']==regional]\n",
    "#     casos_regional['macro'] = casos_regional['macro'].apply(lambda x: macros_idx_labels[x])\n",
    "    casos_regional = casos_regional.sort_values(by='data_diagnostico', ascending=False)\n",
    "    casos_regional.to_excel(writer,regional, index=False)\n",
    "    fit_cols(writer,casos_regional,regional)\n",
    "\n",
    "writer.save()\n",
    "writer.close()"
   ]
  },
  {
   "cell_type": "code",
   "execution_count": null,
   "metadata": {
    "execution": {
     "iopub.execute_input": "2021-12-20T16:04:12.211294Z",
     "iopub.status.busy": "2021-12-20T16:04:12.211294Z",
     "iopub.status.idle": "2021-12-20T16:04:42.313204Z",
     "shell.execute_reply": "2021-12-20T16:04:42.313204Z",
     "shell.execute_reply.started": "2021-12-20T16:04:12.211294Z"
    }
   },
   "outputs": [],
   "source": [
    "\n",
    "writer = pd.ExcelWriter(join(default_output,'regionais',f\"obitos_regionais_{hoje.strftime('%d_%m_%Y')}.xlsx\"),\n",
    "                    engine='xlsxwriter',\n",
    "                    datetime_format='dd/mm/yyyy',\n",
    "                    date_format='dd/mm/yyyy')\n",
    "\n",
    "total.to_excel(writer,'total')\n",
    "total_macros.to_excel(writer,'total_macros')\n",
    "total_regionais.to_excel(writer,'total_regionais')\n",
    "total_municipios.to_excel(writer,'total_municipios')\n",
    "\n",
    "fit_cols(writer,total,'total')\n",
    "fit_cols(writer,total_macros,'total_macros')\n",
    "fit_cols(writer,total_regionais,'total_regionais')\n",
    "fit_cols(writer,total_municipios,'total_municipios')\n",
    "\n",
    "for regional in sorted(obitos_confirmados['regional'].unique()):\n",
    "    obitos_regional = obitos_confirmados.loc[obitos_confirmados['regional']==regional]\n",
    "#     obitos_regional['macro'] = obitos_regional['macro'].apply(lambda x: macros_idx_labels[x])\n",
    "    obitos_regional = obitos_regional.sort_values(by='data_cura_obito', ascending=False)\n",
    "    obitos_regional.to_excel(writer,regional, index=False)\n",
    "    fit_cols(writer,obitos_regional,regional)\n",
    "\n",
    "writer.save()\n",
    "writer.close()"
   ]
  },
  {
   "cell_type": "code",
   "execution_count": null,
   "metadata": {
    "execution": {
     "iopub.execute_input": "2021-12-20T16:04:42.313204Z",
     "iopub.status.busy": "2021-12-20T16:04:42.313204Z",
     "iopub.status.idle": "2021-12-20T16:04:58.595355Z",
     "shell.execute_reply": "2021-12-20T16:04:58.595355Z",
     "shell.execute_reply.started": "2021-12-20T16:04:42.313204Z"
    },
    "tags": []
   },
   "outputs": [],
   "source": [
    "# GERA ARQUIVOS COMPACTADOS DE HOJE\n",
    "paths = []\n",
    "\n",
    "\n",
    "# paths = [join(default_output,'regionais', f\"casos_gerais_{hoje.strftime('%d_%m_%Y')}.xlsx\")]\n",
    "paths.append(join(default_output,'regionais', f\"obitos_gerais_{hoje.strftime('%d_%m_%Y')}.xlsx\"))\n",
    "paths.append(join(default_output,'regionais', f\"casos_regionais_{hoje.strftime('%d_%m_%Y')}.xlsx\"))\n",
    "paths.append(join(default_output,'regionais', f\"obitos_regionais_{hoje.strftime('%d_%m_%Y')}.xlsx\"))\n",
    "\n",
    "for path in paths:\n",
    "    pz.compress(path, None, join(default_output,'regionais', f\"{basename(path)}.zip\".replace(\".xlsx\", \"\")), \"Jt\\j+ZXVOAbSw*i&J)ZePVGiQgU4wc\", 9)\n",
    "\n",
    "\n",
    "# REMOVE ARQUIVOS XLSX DE HOJE\n",
    "# remove(join(default_output,'regionais', f\"casos_gerais_{hoje.strftime('%d_%m_%Y')}.xlsx\"))\n",
    "remove(join(default_output,'regionais', f\"obitos_gerais_{hoje.strftime('%d_%m_%Y')}.xlsx\"))\n",
    "remove(join(default_output,'regionais', f\"casos_regionais_{hoje.strftime('%d_%m_%Y')}.xlsx\"))\n",
    "remove(join(default_output,'regionais', f\"obitos_regionais_{hoje.strftime('%d_%m_%Y')}.xlsx\"))"
   ]
  },
  {
   "cell_type": "code",
   "execution_count": null,
   "metadata": {},
   "outputs": [],
   "source": [
    "casosPR = casos_confirmados.loc[casos_confirmados['rs']!=99]\n",
    "obitosPR = obitos_confirmados.loc[casos_confirmados['rs']!=99]"
   ]
  },
  {
   "cell_type": "code",
   "execution_count": null,
   "metadata": {},
   "outputs": [],
   "source": [
    "used_cols = ['id_notifica', 'paciente', 'sexo', 'idade', 'nome_mae', 'uf_residencia', 'ibge_residencia', 'municipio', 'ibge_unidade_notifica', 'data_1o_sintomas', 'data_diagnostico', 'data_comunicacao', 'evolucao', 'data_cura_obito', 'data_com_evolucao', 'numero_do', 'macro', 'rs', 'regional', 'reinfeccao', 'reinfeccao_ids']\n",
    "\n",
    "\n",
    "for regional in tqdm(casosPR['rs'].unique()):\n",
    "    casosRS = casosPR.loc[casosPR['rs']==regional]\n",
    "    obitosRS = obitosPR.loc[obitosPR['rs']==regional]\n",
    "    \n",
    "    \n",
    "    writer = pd.ExcelWriter(join(default_output,'regionais','temp',f\"{str(regional).zfill(2)}RS_{hoje.strftime('%d_%m_%Y')}.xlsx\"),\n",
    "                    engine='xlsxwriter',\n",
    "                    datetime_format='dd/mm/yyyy',\n",
    "                    date_format='dd/mm/yyyy')\n",
    "    \n",
    "    \n",
    "    \n",
    "    \n",
    "    \n",
    "    #----TOTAIS\n",
    "    total.to_excel(writer,'total')\n",
    "    total_macros.to_excel(writer,'total_macros')\n",
    "    total_regionais.to_excel(writer,'total_regionais')\n",
    "    total_municipios.loc[regional].to_excel(writer,'total_municipios')\n",
    "\n",
    "    fit_cols(writer,total,'total')\n",
    "    fit_cols(writer,total_macros,'total_macros')\n",
    "    fit_cols(writer,total_regionais,'total_regionais')\n",
    "    fit_cols(writer,total_municipios,'total_municipios')\n",
    "    \n",
    "    \n",
    "    \n",
    "    #----CASOS E ÓBITOS POR MES\n",
    "    tabela_casos_mes = casosRS.groupby(['ano_caso', 'mes_caso'])[['id_notifica']].count().rename(columns={'id_notifica':'casos'})\n",
    "    tabela_casos_mes.rename(index=meses, inplace=True)\n",
    "\n",
    "    tabela_obitos_mes = obitosRS.groupby(['ano_obito', 'mes_obito'])[['id_notifica']].count().rename(columns={'id_notifica':'óbitos'})\n",
    "    tabela_obitos_mes.rename(index=meses, inplace=True)\n",
    "\n",
    "\n",
    "    tabela_casos_mes.index.set_names(['ano', 'mes'], inplace=True)\n",
    "    tabela_obitos_mes.index.set_names(['ano', 'mes'], inplace=True)\n",
    "    tabela_mes = tabela_casos_mes.join(tabela_obitos_mes)\n",
    "    \n",
    "    for i in tabela_mes.columns:\n",
    "        tabela_mes[i] = tabela_mes[i].fillna(0)\n",
    "\n",
    "    #salvar\n",
    "    tabela_mes.to_excel(writer, 'casos_obitos_mes')\n",
    "    \n",
    "    \n",
    "    \n",
    "    #----CASOS E ÓBITOS POR SE\n",
    "    tabela_casos_SE = casosRS.groupby(['SE_caso'])[['id_notifica']].count()\n",
    "    tabela_casos_SE.reset_index(inplace=True)\n",
    "    tabela_casos_SE.rename(columns={'SE_caso':'SE', 'id_notifica':'casos'}, inplace=True)\n",
    "\n",
    "\n",
    "    tabela_obitos_SE = obitosRS.groupby(['SE_obito'])[['id_notifica']].count()\n",
    "    tabela_obitos_SE.reset_index(inplace=True)\n",
    "    tabela_obitos_SE.rename(columns={'SE_obito':'SE', 'id_notifica':'óbitos'}, inplace=True)\n",
    "\n",
    "\n",
    "    tabela_SE = pd.merge(tabela_casos_SE, tabela_obitos_SE, on='SE', how='inner')\n",
    "\n",
    "    tabela_SE['mes'] = tabela_SE['SE'].apply(lambda x: int(Week.startdate(x).strftime(\"%m\")))\n",
    "    tabela_SE['mes'] = tabela_SE['mes'].apply(lambda x: meses[x])\n",
    "    tabela_SE['ano'] = tabela_SE['SE'].apply(lambda x: int(Week.startdate(x).strftime(\"%Y\")))\n",
    "\n",
    "    tabela_SE['SE'] = [ x.week for x in tabela_SE['SE'].values]\n",
    "\n",
    "    tabela_SE.set_index(['ano','mes','SE'], inplace=True)\n",
    "    \n",
    "    for i in tabela_SE.columns:\n",
    "        tabela_SE[i] = tabela_SE[i].fillna(0)\n",
    "    \n",
    "    #salvar\n",
    "    tabela_SE.to_excel(writer, 'casos_obitos_SE')\n",
    "    \n",
    "    \n",
    "    \n",
    "    #----CASOS E ÓBITOS POR DIA\n",
    "    tabela_casos_dia = casosRS.groupby(['ano_caso', 'mes_caso', 'data_diagnostico'])[['id_notifica']].count().rename(columns={'id_notifica':'casos'})\n",
    "    tabela_casos_dia.rename(index=meses, inplace=True)\n",
    "\n",
    "    tabela_obitos_dia = obitosRS.groupby(['ano_obito', 'mes_obito', 'data_cura_obito'])[['id_notifica']].count().rename(columns={'id_notifica':'óbitos'})\n",
    "    tabela_obitos_dia.rename(index=meses, inplace=True)\n",
    "\n",
    "    tabela_casos_dia.index.set_names(['ano', 'mes', 'data'], inplace=True)\n",
    "    tabela_obitos_dia.index.set_names(['ano', 'mes', 'data'], inplace=True)\n",
    "    tabela_dia = tabela_casos_dia.join(tabela_obitos_dia)\n",
    "    \n",
    "    #medias móveis\n",
    "    tabela_dia['media_móvel_casos_7dias'] = tabela_dia['casos'].rolling(7).mean()\n",
    "    # tabela_dia['variacao_media_movel_casos_14dias(%)'] = taias'].rolling(14).agg(lambda df: (df.iloc[-1] - df.iloc[0])/df.iloc[0] * 100)\n",
    "\n",
    "    tabela_dia['media_móvel_óbitos_7dias'] = tabela_dia['óbitos'].rolling(7).mean()\n",
    "    # tabela_dia['variacao_media_movel_obitos_14dias(%)'] = tabela_dia['media_móvel_casos_7dias'].rolling(14).agg(lambda df: (df.iloc[-1] - df.iloc[0])/df.iloc[0] * 100)\n",
    "    tabela_dia = tabela_dia[['casos', 'media_móvel_casos_7dias', 'óbitos', 'media_móvel_óbitos_7dias']]\n",
    "    \n",
    "    arrays = [['casos', 'casos', 'óbitos', 'óbitos'], ['qte_casos', 'media_móvel_casos_7dias', 'qte_obitos', 'media_móvel_obitos_7dias']]\n",
    "    tabela_dia = tabela_dia.rename(columns={'casos':'qte_casos', 'óbitos':'qte_óbitos'})\n",
    "    tabela_dia.columns = pd.MultiIndex.from_arrays(arrays)\n",
    "    \n",
    "    \n",
    "    for i in tabela_dia.columns:\n",
    "        tabela_dia[i] = tabela_dia[i].fillna(0)\n",
    "\n",
    "    #salvar\n",
    "    tabela_dia.to_excel(writer, 'casos_obitos_dia')\n",
    "    \n",
    "    \n",
    "    \n",
    "    #----PLANILHA DE CASOS CONFIRMADOS DA REGIONAL\n",
    "    casosRS = casosRS.drop(columns=[col for col in casosRS.columns if not col in used_cols])\n",
    "    casosRS = casosRS.sort_values(by='data_diagnostico', ascending=False)\n",
    "    casosRS.to_excel(writer,'casos_confirmados', index=False)\n",
    "    fit_cols(writer,casosRS,'casos_confirmados')\n",
    "    \n",
    "    \n",
    "    \n",
    "    #----PLANILHA DE ÓBITOS CONFIRMADOS DA REGIONAL\n",
    "    obitosRS = obitosRS.drop(columns=[col for col in obitosRS.columns if not col in used_cols])\n",
    "    obitosRS = obitosRS.sort_values(by='data_cura_obito', ascending=False)\n",
    "    obitosRS.to_excel(writer,'obitos_confirmados', index=False)\n",
    "    fit_cols(writer,obitosRS,'obitos_confirmados')\n",
    "    \n",
    "    writer.save()\n",
    "writer.close()"
   ]
  },
  {
   "cell_type": "code",
   "execution_count": null,
   "metadata": {},
   "outputs": [],
   "source": [
    "# GERA ARQUIVOS COMPACTADOS DE HOJE\n",
    "regionais_path = join(default_output,'regionais','temp')\n",
    "archives = [ f for f in listdir(regionais_path) if isfile(join(regionais_path, f)) ]\n",
    "\n",
    "chdir(regionais_path)\n",
    "\n",
    "\n",
    "pz.compress_multiple(archives, [], join(default_output,'regionais', f\"casos_obitos_regionais_{hoje.strftime('%d_%m_%Y')}.zip\"), \"Jt\\j+ZXVOAbSw*i&J)ZePVGiQgU4wc\", 9)\n",
    "\n",
    "for files in archives:\n",
    "    try:\n",
    "        print('Removing file: ', files)\n",
    "        remove(join(regionais_path, files))\n",
    "    except:\n",
    "        pass"
   ]
  },
  {
   "cell_type": "markdown",
   "metadata": {
    "execution": {
     "iopub.status.busy": "2021-09-25T13:56:41.999148Z",
     "iopub.status.idle": "2021-09-25T13:56:41.999148Z",
     "shell.execute_reply": "2021-09-25T13:56:41.999148Z",
     "shell.execute_reply.started": "2021-09-25T13:56:41.999148Z"
    }
   },
   "source": [
    "## 6. Arquivo enviado para a DGS"
   ]
  },
  {
   "cell_type": "code",
   "execution_count": null,
   "metadata": {},
   "outputs": [],
   "source": [
    "writer = pd.ExcelWriter(join(default_output,'dgs', f\"casos_obitos_{hoje.strftime('%d_%m_%Y')}.xlsx\"),\n",
    "                    engine='xlsxwriter',\n",
    "                    datetime_format='dd/mm/yyyy',\n",
    "                    date_format='dd/mm/yyyy')"
   ]
  },
  {
   "cell_type": "code",
   "execution_count": null,
   "metadata": {},
   "outputs": [],
   "source": [
    "# CASOS POR SE E MACRO (PARANÁ)\n",
    "macro_SE = casosPR.groupby(['SE_caso','macro'])[['id_notifica']].count()\n",
    "macro_SE = macro_SE.unstack('macro').droplevel(0,1).reset_index()\n",
    "macro_SE.rename(columns={'SE_caso':'SE', 'id_notifica':'casos'}, inplace=True)\n",
    "\n",
    "\n",
    "macro_SE['mes'] = macro_SE['SE'].apply(lambda x: int(Week.startdate(x).strftime(\"%m\")))\n",
    "macro_SE['mes'] = macro_SE['mes'].apply(lambda x: meses[x])\n",
    "macro_SE['ano'] = macro_SE['SE'].apply(lambda x: int(Week.startdate(x).strftime(\"%Y\")))\n",
    "\n",
    "macro_SE['SE'] = [ x.week for x in macro_SE['SE'].values]\n",
    "\n",
    "macro_SE.set_index(['ano','mes','SE'], inplace=True)\n",
    "\n",
    "macro_SE.columns.name = None\n",
    "\n",
    "for i in macro_SE.columns:\n",
    "    macro_SE[i] = macro_SE[i].fillna(0).astype(int)\n",
    "\n",
    "macro_SE['PR'] = macro_SE.sum(axis=1)\n",
    "macro_SE = macro_SE[['PR', 'Leste', 'Oeste', 'Noroeste', 'Norte']]\n",
    "macro_SE_casos = macro_SE.copy()\n",
    "\n",
    "macro_SE_casos.to_excel(writer,'casos')\n",
    "macro_SE_casos"
   ]
  },
  {
   "cell_type": "code",
   "execution_count": null,
   "metadata": {},
   "outputs": [],
   "source": [
    "# ÓBITOS POR SE E MACRO\n",
    "macro_SE = obitosPR.groupby(['SE_obito','macro'])[['id_notifica']].count()\n",
    "macro_SE = macro_SE.unstack('macro').droplevel(0,1).reset_index()\n",
    "macro_SE.rename(columns={'SE_obito':'SE', 'id_notifica':'obitos'}, inplace=True)\n",
    "\n",
    "\n",
    "macro_SE['mes'] = macro_SE['SE'].apply(lambda x: int(Week.startdate(x).strftime(\"%m\")))\n",
    "macro_SE['mes'] = macro_SE['mes'].apply(lambda x: meses[x])\n",
    "macro_SE['ano'] = macro_SE['SE'].apply(lambda x: int(Week.startdate(x).strftime(\"%Y\")))\n",
    "\n",
    "macro_SE['SE'] = [ x.week for x in macro_SE['SE'].values]\n",
    "\n",
    "macro_SE.set_index(['ano','mes','SE'], inplace=True)\n",
    "\n",
    "macro_SE.columns.name = None\n",
    "\n",
    "for i in macro_SE.columns:\n",
    "    macro_SE[i] = macro_SE[i].fillna(0).astype(int)\n",
    "\n",
    "macro_SE['PR'] = macro_SE.sum(axis=1)\n",
    "macro_SE = macro_SE[['PR', 'Leste', 'Oeste', 'Noroeste', 'Norte']]\n",
    "macro_SE_obitos = macro_SE.copy()\n",
    "\n",
    "macro_SE_obitos.to_excel(writer,'obitos')\n",
    "macro_SE_obitos"
   ]
  },
  {
   "cell_type": "code",
   "execution_count": null,
   "metadata": {},
   "outputs": [],
   "source": [
    "# CASOS E ÓBITOS POR MÊS\n",
    "tabela_mes_PR.to_excel(writer,'mes')\n",
    "\n",
    "writer.save()\n",
    "writer.close()"
   ]
  },
  {
   "cell_type": "markdown",
   "metadata": {},
   "source": [
    "## 7. ENVIA OS ARQUIVOS PARA O DRIVE"
   ]
  },
  {
   "cell_type": "code",
   "execution_count": null,
   "metadata": {},
   "outputs": [],
   "source": [
    "# path = join('C:\\\\', 'SESA', 'covid19datascience-dev', 'scripts_python', '7-upload_diario.py')\n",
    "# exec(open(path).read())"
   ]
  },
  {
   "cell_type": "markdown",
   "metadata": {},
   "source": [
    "## 8. OUTROS ARQUIVOS"
   ]
  },
  {
   "cell_type": "code",
   "execution_count": null,
   "metadata": {},
   "outputs": [],
   "source": [
    "# CASOS E ÓBITOS POR SE (PARANÁ)\n",
    "tabela_casos_SE = casosPR.groupby(['SE_caso'])[['id_notifica']].count()\n",
    "tabela_casos_SE.reset_index(inplace=True)\n",
    "tabela_casos_SE.rename(columns={'SE_caso':'SE', 'id_notifica':'casos'}, inplace=True)\n",
    "\n",
    "\n",
    "tabela_obitos_SE = obitosPR.groupby(['SE_obito'])[['id_notifica']].count()\n",
    "tabela_obitos_SE.reset_index(inplace=True)\n",
    "tabela_obitos_SE.rename(columns={'SE_obito':'SE', 'id_notifica':'obitos'}, inplace=True)\n",
    "\n",
    "\n",
    "tabela = pd.merge(tabela_casos_SE, tabela_obitos_SE, on='SE', how='inner')\n",
    "\n",
    "tabela['mes'] = tabela['SE'].apply(lambda x: int(Week.startdate(x).strftime(\"%m\")))\n",
    "tabela['mes'] = tabela['mes'].apply(lambda x: meses[x])\n",
    "tabela['ano'] = tabela['SE'].apply(lambda x: int(Week.startdate(x).strftime(\"%Y\")))\n",
    "\n",
    "tabela['SE'] = [ x.week for x in tabela['SE'].values]\n",
    "\n",
    "tabela.set_index(['ano','mes','SE'], inplace=True)\n",
    "tabela"
   ]
  },
  {
   "cell_type": "code",
   "execution_count": null,
   "metadata": {
    "execution": {
     "iopub.execute_input": "2021-12-20T16:04:58.595355Z",
     "iopub.status.busy": "2021-12-20T16:04:58.595355Z",
     "iopub.status.idle": "2021-12-20T16:05:00.048899Z",
     "shell.execute_reply": "2021-12-20T16:05:00.048899Z",
     "shell.execute_reply.started": "2021-12-20T16:04:58.595355Z"
    }
   },
   "outputs": [],
   "source": [
    "pd.options.display.float_format = None\n",
    "casos_por_diag = cc.df.loc[cc.df['uf_residencia']=='PR',['id_notifica','data_diagnostico']].groupby('data_diagnostico').count().rename(columns={'id_notifica':'casos'})\n",
    "casos_por_diag['media_movel'] = casos_por_diag['casos'].rolling(7).mean()\n",
    "casos_por_diag['variacao_movel_da_media_movel'] = casos_por_diag['media_movel'].rolling(14).agg(lambda df: (df.iloc[-1] - df.iloc[0])/df.iloc[0])\n",
    "# obitos_por_diag = cc.df.loc[(cc.df['uf_residencia']=='PR')&(cc.df['evolucao']==2),['id_notifica','data_cura_obito']].groupby('data_cura_obito').count().rename(columns={'id_notifica':'obitos'})\n",
    "# obitos_por_diag['media_movel'] = obitos_por_diag['obitos'].rolling(7).mean()\n",
    "# obitos_por_diag['variacao_movel_da_media_movel'] = obitos_por_diag['media_movel'].rolling(14).agg(lambda df: (df.iloc[-1] - df.iloc[0])/df.iloc[0])\n",
    "# recuperados_por_diag = cc.df.loc[(cc.df['uf_residencia']=='PR')&(cc.df['evolucao']==1),['id_notifica','data_cura_obito']].groupby('data_cura_obito').count().rename(columns={'id_notifica':'recuperados'})\n",
    "# recuperados_por_diag['media_movel'] = recuperados_por_diag['recuperados'].rolling(7).mean()\n",
    "# recuperados_por_diag['variacao_movel_da_media_movel'] = recuperados_por_diag['media_movel'].rolling(14).agg(lambda df: (df.iloc[-1] - df.iloc[0])/df.iloc[0])\n",
    "# ativos_por_diag = cc.df.loc[(cc.df['uf_residencia']=='PR')&(cc.df['evolucao']==3),['id_notifica','data_cura_obito']].groupby('data_cura_obito').count().rename(columns={'id_notifica':'ativos'})\n",
    "# ativos_por_diag['media_movel'] = ativos_por_diag['ativos'].rolling(7).mean()\n",
    "# ativos_por_diag['variacao_movel_da_media_movel'] = ativos_por_diag['media_movel'].rolling(14).agg(lambda df: (df.iloc[-1] - df.iloc[0])/df.iloc[0])\n",
    "\n",
    "# a = pd.merge(casos_por_diag,obitos_por_diag,how='outer',left_index=True,right_index=True,suffixes=['','_obitos'])\n",
    "# a = pd.merge(a,recuperados_por_diag,how='outer',left_index=True,right_index=True,suffixes=['','_recuperados'])\n",
    "# a = pd.merge(a,ativos_por_diag,how='outer',left_index=True,right_index=True,suffixes=['','_ativos'])\n",
    "# a = a.fillna(0)\n",
    "# a"
   ]
  },
  {
   "cell_type": "code",
   "execution_count": null,
   "metadata": {},
   "outputs": [],
   "source": [
    "casos_por_diag"
   ]
  },
  {
   "cell_type": "code",
   "execution_count": null,
   "metadata": {},
   "outputs": [],
   "source": [
    "ax = casos_por_diag[['casos','media_movel']].plot()\n",
    "casos_por_diag[['variacao_movel_da_media_movel']].plot(secondary_y=True, ax=ax, ls=':')"
   ]
  },
  {
   "cell_type": "code",
   "execution_count": null,
   "metadata": {},
   "outputs": [],
   "source": [
    "casos_por_diag['variacao_movel_da_media_movel'].apply(lambda x: x*100).plot()"
   ]
  }
 ],
 "metadata": {
  "interpreter": {
   "hash": "1cdc22e96f16e7a709941e5164353478df3c5a2dca8a048b5ddcd85bd66dd558"
  },
  "kernelspec": {
   "display_name": "Python 3 (ipykernel)",
   "language": "python",
   "name": "python3"
  },
  "language_info": {
   "codemirror_mode": {
    "name": "ipython",
    "version": 3
   },
   "file_extension": ".py",
   "mimetype": "text/x-python",
   "name": "python",
   "nbconvert_exporter": "python",
   "pygments_lexer": "ipython3",
   "version": "3.8.11"
  },
  "toc-autonumbering": true,
  "toc-showcode": true
 },
 "nbformat": 4,
 "nbformat_minor": 4
}
