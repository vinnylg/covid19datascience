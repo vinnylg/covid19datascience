{
 "cells": [
  {
   "cell_type": "code",
   "execution_count": null,
   "metadata": {
    "execution": {
     "iopub.execute_input": "2021-12-20T13:44:35.362539Z",
     "iopub.status.busy": "2021-12-20T13:44:35.362539Z",
     "iopub.status.idle": "2021-12-20T13:44:35.409410Z",
     "shell.execute_reply": "2021-12-20T13:44:35.409410Z",
     "shell.execute_reply.started": "2021-12-20T13:44:35.362539Z"
    }
   },
   "outputs": [],
   "source": [
    "## set covid19_datasciente as path for python find bulletin package\n",
    "import sys\n",
    "from pathlib import Path\n",
    "from os import getcwd, remove, chdir, rename\n",
    "from os.path import join, basename, isdir, isfile\n",
    "\n",
    "sys.path.append(str(Path(getcwd()).parent))\n",
    "current_dir = getcwd()\n",
    "print(current_dir)"
   ]
  },
  {
   "cell_type": "code",
   "execution_count": null,
   "metadata": {
    "execution": {
     "iopub.execute_input": "2021-12-20T13:44:35.409410Z",
     "iopub.status.busy": "2021-12-20T13:44:35.409410Z",
     "iopub.status.idle": "2021-12-20T13:44:35.925355Z",
     "shell.execute_reply": "2021-12-20T13:44:35.925355Z",
     "shell.execute_reply.started": "2021-12-20T13:44:35.409410Z"
    }
   },
   "outputs": [],
   "source": [
    "import pandas as pd"
   ]
  },
  {
   "cell_type": "code",
   "execution_count": null,
   "metadata": {
    "execution": {
     "iopub.execute_input": "2021-12-20T13:44:37.254184Z",
     "iopub.status.busy": "2021-12-20T13:44:37.254184Z",
     "iopub.status.idle": "2021-12-20T13:44:37.269805Z",
     "shell.execute_reply": "2021-12-20T13:44:37.269805Z",
     "shell.execute_reply.started": "2021-12-20T13:44:37.254184Z"
    }
   },
   "outputs": [],
   "source": [
    "from datetime import datetime, date, timedelta\n",
    "from time import sleep\n",
    "\n",
    "hoje = pd.to_datetime(date.today())\n",
    "ontem = hoje - timedelta(1)\n",
    "anteontem = ontem - timedelta(1)"
   ]
  },
  {
   "cell_type": "code",
   "execution_count": null,
   "metadata": {},
   "outputs": [],
   "source": [
    "basepath = join('C:\\\\', 'SESA')\n",
    "path = join('C:\\\\', 'SESA', 'covid19datascience-dev', 'scripts_python', 'upload_diario.py')"
   ]
  },
  {
   "cell_type": "code",
   "execution_count": null,
   "metadata": {},
   "outputs": [],
   "source": [
    "if ( (hoje.day_name() == 'Saturday') or (hoje.day_name() == 'Sunday') ):\n",
    "    print('Executando o UPLOAD (FDS)....')\n",
    "    # upload files\n",
    "    exec(open(path).read())\n",
    "else:\n",
    "    now = datetime.now()\n",
    "    todayXXpm = now.replace(hour=14, minute=30, second=0, microsecond=0)\n",
    "\n",
    "    finished = False\n",
    "    while not finished:\n",
    "        now = datetime.now()\n",
    "\n",
    "        if ( isfile(join(basepath, 'upload=true.txt')) or (now > todayXXpm) ):\n",
    "            #upload files\n",
    "            print('Executando o UPLOAD....')\n",
    "            exec(open(path).read())\n",
    "            \n",
    "            finished = True\n",
    "            rename( join(basepath, 'upload=true.txt'), join(basepath, 'upload=finished.txt') )\n",
    "        else:\n",
    "            print('Waiting...')\n",
    "            sleep(120)"
   ]
  },
  {
   "cell_type": "code",
   "execution_count": null,
   "metadata": {},
   "outputs": [],
   "source": [
    "exit"
   ]
  }
 ],
 "metadata": {
  "interpreter": {
   "hash": "1cdc22e96f16e7a709941e5164353478df3c5a2dca8a048b5ddcd85bd66dd558"
  },
  "kernelspec": {
   "display_name": "Python 3 (ipykernel)",
   "language": "python",
   "name": "python3"
  },
  "language_info": {
   "codemirror_mode": {
    "name": "ipython",
    "version": 3
   },
   "file_extension": ".py",
   "mimetype": "text/x-python",
   "name": "python",
   "nbconvert_exporter": "python",
   "pygments_lexer": "ipython3",
   "version": "3.8.11"
  }
 },
 "nbformat": 4,
 "nbformat_minor": 4
}
