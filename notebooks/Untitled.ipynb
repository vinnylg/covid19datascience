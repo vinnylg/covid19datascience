{
 "cells": [
  {
   "cell_type": "code",
   "execution_count": null,
   "id": "c8b5090b",
   "metadata": {
    "execution": {
     "iopub.execute_input": "2022-03-07T18:09:14.490104Z",
     "iopub.status.busy": "2022-03-07T18:09:14.490104Z",
     "iopub.status.idle": "2022-03-07T18:09:14.510106Z",
     "shell.execute_reply": "2022-03-07T18:09:14.509106Z",
     "shell.execute_reply.started": "2022-03-07T18:09:14.490104Z"
    }
   },
   "outputs": [],
   "source": [
    "## set covid19_datasciente as path for python find bulletin package\n",
    "import sys\n",
    "from pathlib import Path\n",
    "from os import getcwd, remove, chdir\n",
    "from os.path import join, basename\n",
    "\n",
    "sys.path.append(str(Path(getcwd()).parent))\n",
    "current_dir = getcwd()\n",
    "print(current_dir)"
   ]
  },
  {
   "cell_type": "code",
   "execution_count": null,
   "id": "a4593daf",
   "metadata": {
    "execution": {
     "iopub.execute_input": "2022-03-07T18:09:14.972156Z",
     "iopub.status.busy": "2022-03-07T18:09:14.972156Z",
     "iopub.status.idle": "2022-03-07T18:09:15.534209Z",
     "shell.execute_reply": "2022-03-07T18:09:15.533210Z",
     "shell.execute_reply.started": "2022-03-07T18:09:14.972156Z"
    }
   },
   "outputs": [],
   "source": [
    "import pandas as pd\n",
    "pd.set_option('display.max_columns', None)"
   ]
  },
  {
   "cell_type": "code",
   "execution_count": null,
   "id": "bc09906f",
   "metadata": {
    "execution": {
     "iopub.execute_input": "2022-03-07T18:09:15.536211Z",
     "iopub.status.busy": "2022-03-07T18:09:15.536211Z",
     "iopub.status.idle": "2022-03-07T18:09:17.179388Z",
     "shell.execute_reply": "2022-03-07T18:09:17.178388Z",
     "shell.execute_reply.started": "2022-03-07T18:09:15.536211Z"
    }
   },
   "outputs": [],
   "source": [
    "from bulletin.systems.systems import Notifica, System"
   ]
  },
  {
   "cell_type": "code",
   "execution_count": null,
   "id": "fe669fee",
   "metadata": {
    "execution": {
     "iopub.execute_input": "2022-03-07T18:09:19.120950Z",
     "iopub.status.busy": "2022-03-07T18:09:19.119951Z",
     "iopub.status.idle": "2022-03-07T18:09:19.136926Z",
     "shell.execute_reply": "2022-03-07T18:09:19.135925Z",
     "shell.execute_reply.started": "2022-03-07T18:09:19.120950Z"
    }
   },
   "outputs": [],
   "source": [
    "nt = Notifica()\n",
    "nt"
   ]
  },
  {
   "cell_type": "code",
   "execution_count": null,
   "id": "c633c09c",
   "metadata": {
    "execution": {
     "iopub.execute_input": "2022-03-07T18:09:21.835175Z",
     "iopub.status.busy": "2022-03-07T18:09:21.834167Z",
     "iopub.status.idle": "2022-03-07T18:10:39.571648Z",
     "shell.execute_reply": "2022-03-07T18:10:39.570671Z",
     "shell.execute_reply.started": "2022-03-07T18:09:21.835175Z"
    }
   },
   "outputs": [],
   "source": [
    "nt.load('notifica')"
   ]
  },
  {
   "cell_type": "code",
   "execution_count": null,
   "id": "00746130",
   "metadata": {
    "execution": {
     "iopub.execute_input": "2022-03-07T18:10:39.573596Z",
     "iopub.status.busy": "2022-03-07T18:10:39.572602Z",
     "iopub.status.idle": "2022-03-07T18:10:39.820190Z",
     "shell.execute_reply": "2022-03-07T18:10:39.818191Z",
     "shell.execute_reply.started": "2022-03-07T18:10:39.573596Z"
    }
   },
   "outputs": [],
   "source": [
    "nt.df"
   ]
  },
  {
   "cell_type": "code",
   "execution_count": null,
   "id": "ae3f02a1",
   "metadata": {},
   "outputs": [],
   "source": [
    "from bulletin.systems import Sim, Sivep"
   ]
  },
  {
   "cell_type": "code",
   "execution_count": null,
   "id": "55831ac1",
   "metadata": {},
   "outputs": [],
   "source": [
    "sim = Sim()\n",
    "sim.load('dopr', compress=False)\n",
    "sim.df"
   ]
  },
  {
   "cell_type": "code",
   "execution_count": null,
   "id": "60ecf9e4",
   "metadata": {},
   "outputs": [],
   "source": [
    "sivep = Sivep()\n",
    "sivep.load()\n",
    "sivep.df"
   ]
  },
  {
   "cell_type": "code",
   "execution_count": null,
   "id": "dfba1ac5",
   "metadata": {},
   "outputs": [],
   "source": []
  }
 ],
 "metadata": {
  "kernelspec": {
   "display_name": "Python 3 (ipykernel)",
   "language": "python",
   "name": "python3"
  },
  "language_info": {
   "codemirror_mode": {
    "name": "ipython",
    "version": 3
   },
   "file_extension": ".py",
   "mimetype": "text/x-python",
   "name": "python",
   "nbconvert_exporter": "python",
   "pygments_lexer": "ipython3",
   "version": "3.8.11"
  }
 },
 "nbformat": 4,
 "nbformat_minor": 5
}
