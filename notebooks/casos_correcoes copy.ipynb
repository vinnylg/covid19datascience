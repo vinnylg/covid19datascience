{
 "cells": [
  {
   "cell_type": "code",
   "execution_count": null,
   "metadata": {},
   "outputs": [],
   "source": [
    "import sys\n",
    "sys.path.append('..')\n",
    "print(sys.path)"
   ]
  },
  {
   "cell_type": "code",
   "execution_count": 1,
   "metadata": {},
   "outputs": [
    {
     "output_type": "error",
     "ename": "ModuleNotFoundError",
     "evalue": "No module named 'bulletin'",
     "traceback": [
      "\u001b[1;31m---------------------------------------------------------------------------\u001b[0m",
      "\u001b[1;31mModuleNotFoundError\u001b[0m                       Traceback (most recent call last)",
      "\u001b[1;32m<ipython-input-1-88c307e21868>\u001b[0m in \u001b[0;36m<module>\u001b[1;34m\u001b[0m\n\u001b[0;32m      9\u001b[0m \u001b[1;33m\u001b[0m\u001b[0m\n\u001b[0;32m     10\u001b[0m \u001b[1;33m\u001b[0m\u001b[0m\n\u001b[1;32m---> 11\u001b[1;33m \u001b[1;32mfrom\u001b[0m \u001b[0mbulletin\u001b[0m\u001b[1;33m.\u001b[0m\u001b[0mdata\u001b[0m\u001b[1;33m.\u001b[0m\u001b[0mtb_pacientes\u001b[0m \u001b[1;32mimport\u001b[0m \u001b[0mTbPacientes\u001b[0m\u001b[1;33m\u001b[0m\u001b[1;33m\u001b[0m\u001b[0m\n\u001b[0m\u001b[0;32m     12\u001b[0m \u001b[1;32mfrom\u001b[0m \u001b[0mbulletin\u001b[0m\u001b[1;33m.\u001b[0m\u001b[0mdata\u001b[0m\u001b[1;33m.\u001b[0m\u001b[0mcasos_confirmados\u001b[0m \u001b[1;32mimport\u001b[0m \u001b[0mCasosConfirmados\u001b[0m\u001b[1;33m\u001b[0m\u001b[1;33m\u001b[0m\u001b[0m\n\u001b[0;32m     13\u001b[0m \u001b[1;32mfrom\u001b[0m \u001b[0mbulletin\u001b[0m\u001b[1;33m.\u001b[0m\u001b[0mcommom\u001b[0m\u001b[1;33m.\u001b[0m\u001b[0mutils\u001b[0m \u001b[1;32mimport\u001b[0m \u001b[0mTimer\u001b[0m\u001b[1;33m,\u001b[0m \u001b[0mauto_fit_columns\u001b[0m\u001b[1;33m\u001b[0m\u001b[1;33m\u001b[0m\u001b[0m\n",
      "\u001b[1;31mModuleNotFoundError\u001b[0m: No module named 'bulletin'"
     ]
    }
   ],
   "source": [
    "from sys import exit\n",
    "import numpy as np\n",
    "import pandas as pd\n",
    "from os.path import dirname, join, isfile, isdir\n",
    "from os import makedirs\n",
    "from datetime import datetime, timedelta\n",
    "from hashlib import sha256\n",
    "import codecs\n",
    "\n",
    "\n",
    "from bulletin.data.tb_pacientes import TbPacientes\n",
    "from bulletin.data.casos_confirmados import CasosConfirmados\n",
    "from bulletin.commom.utils import Timer, auto_fit_columns\n",
    "from bulletin.commom import static\n",
    "from bulletin.commom.normalize import *\n",
    "\n",
    "pd.set_option('display.max_columns', None)\n",
    "\n",
    "output = join(\"output\",\"correcoes\",\"casos_confirmados\")\n",
    "\n",
    "if not isdir(output):\n",
    "    makedirs(output)\n",
    "\n",
    "timer = Timer()"
   ]
  },
  {
   "cell_type": "code",
   "execution_count": 2,
   "metadata": {},
   "outputs": [
    {
     "output_type": "stream",
     "name": "stdout",
     "text": [
      "Casos confirmados excluidos: 8\n",
      "Obitos confirmados excluidos: 1\n"
     ]
    },
    {
     "output_type": "execute_result",
     "data": {
      "text/plain": [
       "601.4204819202423"
      ]
     },
     "metadata": {},
     "execution_count": 2
    }
   ],
   "source": [
    "timer.reset()\n",
    "casos_confirmados = CasosConfirmados()\n",
    "casos_confirmados.update()\n",
    "timer.stop()"
   ]
  },
  {
   "cell_type": "code",
   "execution_count": 3,
   "metadata": {},
   "outputs": [
    {
     "output_type": "stream",
     "name": "stdout",
     "text": [
      "633553;11467\n"
     ]
    },
    {
     "output_type": "execute_result",
     "data": {
      "text/plain": [
       "Empty DataFrame\n",
       "Columns: [ordem, ibge7, nome, sexo, idade, municipio, rs, data_do_obito, excluir, hash, hash_less, hash_more, hash_dt_obito]\n",
       "Index: []"
      ],
      "text/html": "<div>\n<style scoped>\n    .dataframe tbody tr th:only-of-type {\n        vertical-align: middle;\n    }\n\n    .dataframe tbody tr th {\n        vertical-align: top;\n    }\n\n    .dataframe thead th {\n        text-align: right;\n    }\n</style>\n<table border=\"1\" class=\"dataframe\">\n  <thead>\n    <tr style=\"text-align: right;\">\n      <th></th>\n      <th>ordem</th>\n      <th>ibge7</th>\n      <th>nome</th>\n      <th>sexo</th>\n      <th>idade</th>\n      <th>municipio</th>\n      <th>rs</th>\n      <th>data_do_obito</th>\n      <th>excluir</th>\n      <th>hash</th>\n      <th>hash_less</th>\n      <th>hash_more</th>\n      <th>hash_dt_obito</th>\n    </tr>\n  </thead>\n  <tbody>\n  </tbody>\n</table>\n</div>"
     },
     "metadata": {},
     "execution_count": 3
    }
   ],
   "source": [
    "# casos = casos_confirmados.fix_mun_resid_casos('mun_atend')\n",
    "# obitos = casos_confirmados.fix_mun_resid_obitos()\n",
    "casos = casos_confirmados.get_casos()\n",
    "casos = casos.drop(columns=['obito','data_obito','excluir'])\n",
    "obitos = casos_confirmados.get_obitos()\n",
    "\n",
    "print(f\"{len(casos)};{len(obitos)}\")\n",
    "obitos.loc[~obitos['hash'].isin(casos['hash'])]"
   ]
  },
  {
   "cell_type": "code",
   "execution_count": 4,
   "metadata": {},
   "outputs": [],
   "source": [
    "obitos.loc[obitos['hash'].isin(casos['hash_less']),'idade'] += 1\n",
    "obitos.loc[obitos['hash'].isin(casos['hash_less']),'hash'] = obitos.loc[obitos['hash'].isin(casos['hash_less'])].apply(lambda row: normalize_hash(row['nome'])+str(row['idade'])+normalize_hash(row['municipio']), axis=1)"
   ]
  },
  {
   "cell_type": "code",
   "execution_count": 5,
   "metadata": {},
   "outputs": [],
   "source": [
    "obitos.loc[obitos['hash'].isin(casos['hash_more']),'idade'] -= 1\n",
    "obitos.loc[obitos['hash'].isin(casos['hash_more']),'hash'] = obitos.loc[obitos['hash'].isin(casos['hash_more'])].apply(lambda row: normalize_hash(row['nome'])+str(row['idade'])+normalize_hash(row['municipio']), axis=1)"
   ]
  },
  {
   "cell_type": "code",
   "execution_count": 6,
   "metadata": {},
   "outputs": [
    {
     "output_type": "execute_result",
     "data": {
      "text/plain": [
       "Empty DataFrame\n",
       "Columns: [ordem, ibge7, nome, sexo, idade, municipio, rs, data_do_obito, excluir, hash, hash_less, hash_more, hash_dt_obito]\n",
       "Index: []"
      ],
      "text/html": "<div>\n<style scoped>\n    .dataframe tbody tr th:only-of-type {\n        vertical-align: middle;\n    }\n\n    .dataframe tbody tr th {\n        vertical-align: top;\n    }\n\n    .dataframe thead th {\n        text-align: right;\n    }\n</style>\n<table border=\"1\" class=\"dataframe\">\n  <thead>\n    <tr style=\"text-align: right;\">\n      <th></th>\n      <th>ordem</th>\n      <th>ibge7</th>\n      <th>nome</th>\n      <th>sexo</th>\n      <th>idade</th>\n      <th>municipio</th>\n      <th>rs</th>\n      <th>data_do_obito</th>\n      <th>excluir</th>\n      <th>hash</th>\n      <th>hash_less</th>\n      <th>hash_more</th>\n      <th>hash_dt_obito</th>\n    </tr>\n  </thead>\n  <tbody>\n  </tbody>\n</table>\n</div>"
     },
     "metadata": {},
     "execution_count": 6
    }
   ],
   "source": [
    "obitos.loc[~obitos['hash'].isin(casos['hash'])]"
   ]
  },
  {
   "cell_type": "code",
   "execution_count": 7,
   "metadata": {},
   "outputs": [
    {
     "output_type": "stream",
     "name": "stdout",
     "text": [
      "633553;11467\n"
     ]
    }
   ],
   "source": [
    "obitos = obitos.rename(columns={'data_do_obito': 'data_obito'})\n",
    "obitos['obito'] = 'SIM'\n",
    "\n",
    "casos = pd.merge(left=casos, right=obitos[['obito','data_obito','hash']], on='hash', how='left')\n",
    "\n",
    "casos.loc[casos['obito'].isnull(), 'obito'] = 'NAO'\n",
    "casos.loc[(casos['obito']==\"SIM\") & (casos.duplicated('hash')), 'obito'] = 'NAO'\n",
    "casos.loc[(casos['obito']==\"SIM\") & (casos.duplicated('hash')), 'data_obito'] = pd.NaT\n",
    "\n",
    "print(f\"{len(casos)};{len(casos.loc[casos['obito']=='SIM'])}\")"
   ]
  },
  {
   "cell_type": "code",
   "execution_count": 8,
   "metadata": {},
   "outputs": [],
   "source": [
    "# def get_better(cc):\n",
    "#     scores = np.zeros(len(cc))\n",
    "\n",
    "#     for i, (_, cc_row) in enumerate(cc.iterrows()):\n",
    "#         # if cc_row['obito'] == 'SIM':\n",
    "#         scores[i] = i\n",
    "\n",
    "#     i = np.argmax(scores)\n",
    "#     return cc.iloc[i].name"
   ]
  },
  {
   "cell_type": "code",
   "execution_count": 9,
   "metadata": {},
   "outputs": [],
   "source": [
    "# identificacao = pd.read_excel(join('input','id_access.xlsx'), dtype={'ordem':'str'}).sort_values('ordem')\n",
    "# casos = pd.merge(casos,identificacao,how='left',on='ordem')"
   ]
  },
  {
   "cell_type": "code",
   "execution_count": 10,
   "metadata": {},
   "outputs": [],
   "source": [
    "# casos['nome_hash'] = casos['nome'].apply(normalize_hash)\n",
    "# new_casos = casos.sort_values('nome_hash')[['ordem','ibge7','nome','sexo','idade','mun_resid','mun_atend','rs','laboratorio','dt_diag','comunicacao','is','obito','data_obito','nome_hash','hash_dt_diag']]\n",
    "\n",
    "# obitos['nome_hash'] = obitos['nome'].apply(normalize_hash)\n",
    "# new_obitos = obitos.sort_values('nome_hash')[['ordem','ibge7','nome','sexo','idade','municipio','rs','data_obito','nome_hash','hash_dt_obito']]"
   ]
  },
  {
   "cell_type": "code",
   "execution_count": 11,
   "metadata": {},
   "outputs": [],
   "source": [
    "# casos_duplicados = new_casos.loc[new_casos.duplicated('hash_dt_diag',keep=False)].sort_values('nome_hash')\n",
    "\n",
    "# writer = pd.ExcelWriter(join(output,'casos_duplicados.xlsx'),\n",
    "#                         engine='xlsxwriter',\n",
    "#                         datetime_format='dd/mm/yyyy',\n",
    "#                         date_format='dd/mm/yyyy')\n",
    "\n",
    "# casos_duplicados.to_excel(writer,sheet_name=\"casos_duplicados\",index=None)\n",
    "# worksheet = writer.sheets[\"casos_duplicados\"]\n",
    "# auto_fit_columns(worksheet,casos_duplicados)\n",
    "\n",
    "# writer.save()\n",
    "# writer.close()"
   ]
  },
  {
   "cell_type": "code",
   "execution_count": 12,
   "metadata": {},
   "outputs": [],
   "source": [
    "# casos['excluir'] = 'NAO'\n",
    "# manter = []\n",
    "# casos_duplicados = casos_duplicados.sort_values('ordem')\n",
    "\n",
    "# for cc_group in casos_duplicados.groupby('hash_dt_diag'):\n",
    "    \n",
    "#     idx = get_better(cc_group[1])\n",
    "#     manter.append(idx)\n",
    "\n",
    "# duplicados = set(casos_duplicados.index.tolist())\n",
    "# duplicados = duplicados - set(manter)\n",
    "\n",
    "# # casos.loc[duplicados,'excluir'] = 'SIM'"
   ]
  },
  {
   "cell_type": "code",
   "execution_count": 13,
   "metadata": {},
   "outputs": [],
   "source": [
    "# obitos_duplicados = new_obitos.loc[new_obitos.duplicated('hash_dt_obito',keep=False)].sort_values('nome_hash')\n",
    "\n",
    "# writer = pd.ExcelWriter(join(output,'obitos_duplicados.xlsx'),\n",
    "#                         engine='xlsxwriter',\n",
    "#                         datetime_format='dd/mm/yyyy',\n",
    "#                         date_format='dd/mm/yyyy')\n",
    "\n",
    "# obitos_duplicados.to_excel(writer,sheet_name=\"obitos_duplicados\",index=None)\n",
    "# worksheet = writer.sheets[\"obitos_duplicados\"]\n",
    "# auto_fit_columns(worksheet,obitos_duplicados)\n",
    "\n",
    "# writer.save()\n",
    "# writer.close()"
   ]
  },
  {
   "cell_type": "code",
   "execution_count": 14,
   "metadata": {},
   "outputs": [],
   "source": [
    "obitos['excluir'] = None\n",
    "casos['excluir'] = None"
   ]
  },
  {
   "cell_type": "code",
   "execution_count": 15,
   "metadata": {},
   "outputs": [
    {
     "output_type": "execute_result",
     "data": {
      "text/plain": [
       "(11467, 9)"
      ]
     },
     "metadata": {},
     "execution_count": 15
    }
   ],
   "source": [
    "new_casos = casos[['ordem','identificacao','ibge7','nome','sexo','idade','mun_resid','mun_atend','rs','laboratorio','dt_diag','comunicacao','is','obito','data_obito','excluir']]\n",
    "new_obitos = obitos[['ordem','ibge7','nome','sexo','idade','municipio','rs','data_obito','excluir']]\n",
    "new_obitos.shape"
   ]
  },
  {
   "cell_type": "code",
   "execution_count": 16,
   "metadata": {},
   "outputs": [],
   "source": [
    "writer = pd.ExcelWriter(join('input','casos_obitos.xlsx'),\n",
    "                        engine='xlsxwriter',\n",
    "                        datetime_format='dd/mm/yyyy',\n",
    "                        date_format='dd/mm/yyyy')\n",
    "\n",
    "new_casos = new_casos.rename(columns={'ibge7':'ibge'})\n",
    "new_casos.loc[new_casos['rs'].notnull()][['ibge','dt_diag']].to_excel(writer,'casos', index=False)\n",
    "\n",
    "new_obitos = new_obitos.rename(columns={'ibge7':'ibge'})\n",
    "new_obitos.loc[new_obitos['rs'].notnull()][['ibge','data_obito']].to_excel(writer,'obitos', index=False)\n",
    "\n",
    "writer.save()\n",
    "writer.close()"
   ]
  },
  {
   "cell_type": "code",
   "execution_count": 17,
   "metadata": {},
   "outputs": [],
   "source": [
    "writer = pd.ExcelWriter(join(output,f\"Casos Confirmados Regionais.xlsx\"),\n",
    "                        engine='xlsxwriter',\n",
    "                        datetime_format='dd/mm/yyyy',\n",
    "                        date_format='dd/mm/yyyy')\n",
    "\n",
    "for grupo_casos, grupo_obitos in zip(new_casos.groupby('rs'),new_obitos.groupby('rs')):\n",
    "    grupo_casos[1].to_excel(writer,sheet_name=f\"casos_rs{grupo_casos[0]}\",index=None)\n",
    "    grupo_obitos[1].to_excel(writer,sheet_name=f\"obitos_rs{grupo_casos[0]}\",index=None)\n",
    "    worksheet = writer.sheets[f\"casos_rs{grupo_casos[0]}\"]\n",
    "    auto_fit_columns(worksheet,grupo_casos[1])\n",
    "    worksheet = writer.sheets[f\"obitos_rs{grupo_casos[0]}\"]\n",
    "    auto_fit_columns(worksheet,grupo_obitos[1])\n",
    "\n",
    "new_casos.loc[new_casos['rs'].isnull()].to_excel(writer,sheet_name='casos_fora',index=None)\n",
    "new_obitos.loc[new_obitos['rs'].isnull()].to_excel(writer,sheet_name='obitos_fora',index=None)\n",
    "\n",
    "writer.save()\n",
    "writer.close()"
   ]
  },
  {
   "cell_type": "code",
   "execution_count": 18,
   "metadata": {},
   "outputs": [],
   "source": [
    "writer = pd.ExcelWriter(join(output,\"Casos confirmados.xlsx\"),\n",
    "                        engine='xlsxwriter',\n",
    "                        datetime_format='dd/mm/yyyy',\n",
    "                        date_format='dd/mm/yyyy')\n",
    "\n",
    "new_casos.to_excel(writer,sheet_name='Casos confirmados',index=None)\n",
    "new_obitos.to_excel(writer,sheet_name='Obitos',index=None)\n",
    "\n",
    "writer.save()\n",
    "writer.close()"
   ]
  },
  {
   "cell_type": "code",
   "execution_count": null,
   "metadata": {},
   "outputs": [],
   "source": []
  }
 ],
 "metadata": {
  "kernelspec": {
   "display_name": "Python 3",
   "language": "python",
   "name": "python3"
  },
  "language_info": {
   "codemirror_mode": {
    "name": "ipython",
    "version": 3
   },
   "file_extension": ".py",
   "mimetype": "text/x-python",
   "name": "python",
   "nbconvert_exporter": "python",
   "pygments_lexer": "ipython3",
   "version": "3.8.5-final"
  }
 },
 "nbformat": 4,
 "nbformat_minor": 4
}