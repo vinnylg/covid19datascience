{
 "cells": [
  {
   "cell_type": "code",
   "execution_count": 1,
   "metadata": {},
   "outputs": [
    {
     "name": "stdout",
     "output_type": "stream",
     "text": [
      "['/home/vinnylg/projects/covid19datascience/notebooks', '/home/vinnylg/.vscode/extensions/ms-toolsai.jupyter-2021.5.745244803/pythonFiles', '/home/vinnylg/.vscode/extensions/ms-toolsai.jupyter-2021.5.745244803/pythonFiles/lib/python', '/home/vinnylg/anaconda3/lib/python38.zip', '/home/vinnylg/anaconda3/lib/python3.8', '/home/vinnylg/anaconda3/lib/python3.8/lib-dynload', '', '/home/vinnylg/.local/lib/python3.8/site-packages', '/home/vinnylg/anaconda3/lib/python3.8/site-packages', '/home/vinnylg/.local/lib/python3.8/site-packages/IPython/extensions', '/home/vinnylg/.ipython', '..']\n"
     ]
    }
   ],
   "source": [
    "import sys\n",
    "sys.path.append('..')\n",
    "print(sys.path)"
   ]
  },
  {
   "cell_type": "code",
   "execution_count": 2,
   "metadata": {},
   "outputs": [
    {
     "ename": "ModuleNotFoundError",
     "evalue": "No module named 'unidecode'",
     "output_type": "error",
     "traceback": [
      "\u001b[0;31m---------------------------------------------------------------------------\u001b[0m",
      "\u001b[0;31mModuleNotFoundError\u001b[0m                       Traceback (most recent call last)",
      "\u001b[0;32m<ipython-input-2-88c307e21868>\u001b[0m in \u001b[0;36m<module>\u001b[0;34m\u001b[0m\n\u001b[1;32m      9\u001b[0m \u001b[0;34m\u001b[0m\u001b[0m\n\u001b[1;32m     10\u001b[0m \u001b[0;34m\u001b[0m\u001b[0m\n\u001b[0;32m---> 11\u001b[0;31m \u001b[0;32mfrom\u001b[0m \u001b[0mbulletin\u001b[0m\u001b[0;34m.\u001b[0m\u001b[0mdata\u001b[0m\u001b[0;34m.\u001b[0m\u001b[0mtb_pacientes\u001b[0m \u001b[0;32mimport\u001b[0m \u001b[0mTbPacientes\u001b[0m\u001b[0;34m\u001b[0m\u001b[0;34m\u001b[0m\u001b[0m\n\u001b[0m\u001b[1;32m     12\u001b[0m \u001b[0;32mfrom\u001b[0m \u001b[0mbulletin\u001b[0m\u001b[0;34m.\u001b[0m\u001b[0mdata\u001b[0m\u001b[0;34m.\u001b[0m\u001b[0mcasos_confirmados\u001b[0m \u001b[0;32mimport\u001b[0m \u001b[0mCasosConfirmados\u001b[0m\u001b[0;34m\u001b[0m\u001b[0;34m\u001b[0m\u001b[0m\n\u001b[1;32m     13\u001b[0m \u001b[0;32mfrom\u001b[0m \u001b[0mbulletin\u001b[0m\u001b[0;34m.\u001b[0m\u001b[0mcommom\u001b[0m\u001b[0;34m.\u001b[0m\u001b[0mutils\u001b[0m \u001b[0;32mimport\u001b[0m \u001b[0mTimer\u001b[0m\u001b[0;34m,\u001b[0m \u001b[0mauto_fit_columns\u001b[0m\u001b[0;34m\u001b[0m\u001b[0;34m\u001b[0m\u001b[0m\n",
      "\u001b[0;32m~/projects/covid19datascience/bulletin/__init__.py\u001b[0m in \u001b[0;36m<module>\u001b[0;34m\u001b[0m\n\u001b[0;32m----> 1\u001b[0;31m \u001b[0;32mfrom\u001b[0m \u001b[0mbulletin\u001b[0m\u001b[0;34m.\u001b[0m\u001b[0mcasos_confirmados\u001b[0m \u001b[0;32mimport\u001b[0m \u001b[0mCasosConfirmados\u001b[0m\u001b[0;34m\u001b[0m\u001b[0;34m\u001b[0m\u001b[0m\n\u001b[0m\u001b[1;32m      2\u001b[0m \u001b[0;32mfrom\u001b[0m \u001b[0mbulletin\u001b[0m\u001b[0;34m.\u001b[0m\u001b[0mnotifica\u001b[0m \u001b[0;32mimport\u001b[0m \u001b[0mNotifica\u001b[0m\u001b[0;34m\u001b[0m\u001b[0;34m\u001b[0m\u001b[0m\n",
      "\u001b[0;32m~/projects/covid19datascience/bulletin/casos_confirmados.py\u001b[0m in \u001b[0;36m<module>\u001b[0;34m\u001b[0m\n\u001b[1;32m      8\u001b[0m \u001b[0;31m# import codecs\u001b[0m\u001b[0;34m\u001b[0m\u001b[0;34m\u001b[0m\u001b[0;34m\u001b[0m\u001b[0m\n\u001b[1;32m      9\u001b[0m \u001b[0;32mfrom\u001b[0m \u001b[0mbulletin\u001b[0m \u001b[0;32mimport\u001b[0m \u001b[0m__file__\u001b[0m \u001b[0;32mas\u001b[0m \u001b[0m__root__\u001b[0m\u001b[0;34m\u001b[0m\u001b[0;34m\u001b[0m\u001b[0m\n\u001b[0;32m---> 10\u001b[0;31m \u001b[0;32mfrom\u001b[0m \u001b[0mbulletin\u001b[0m\u001b[0;34m.\u001b[0m\u001b[0mnotifica\u001b[0m \u001b[0;32mimport\u001b[0m \u001b[0mNotifica\u001b[0m\u001b[0;34m\u001b[0m\u001b[0;34m\u001b[0m\u001b[0m\n\u001b[0m\u001b[1;32m     11\u001b[0m \u001b[0;32mfrom\u001b[0m \u001b[0mbulletin\u001b[0m\u001b[0;34m.\u001b[0m\u001b[0mutils\u001b[0m\u001b[0;34m.\u001b[0m\u001b[0mnormalize\u001b[0m \u001b[0;32mimport\u001b[0m \u001b[0mnormalize_number\u001b[0m\u001b[0;34m,\u001b[0m \u001b[0mnormalize_labels\u001b[0m\u001b[0;34m,\u001b[0m \u001b[0mnormalize_hash\u001b[0m\u001b[0;34m,\u001b[0m \u001b[0mdate_hash\u001b[0m\u001b[0;34m,\u001b[0m \u001b[0mnormalize_ibge\u001b[0m\u001b[0;34m,\u001b[0m \u001b[0mnormalize_text\u001b[0m\u001b[0;34m\u001b[0m\u001b[0;34m\u001b[0m\u001b[0m\n\u001b[1;32m     12\u001b[0m \u001b[0;32mfrom\u001b[0m \u001b[0mbulletin\u001b[0m\u001b[0;34m.\u001b[0m\u001b[0mutils\u001b[0m\u001b[0;34m.\u001b[0m\u001b[0mtimer\u001b[0m \u001b[0;32mimport\u001b[0m \u001b[0mTimer\u001b[0m\u001b[0;34m\u001b[0m\u001b[0;34m\u001b[0m\u001b[0m\n",
      "\u001b[0;32m~/projects/covid19datascience/bulletin/notifica.py\u001b[0m in \u001b[0;36m<module>\u001b[0;34m\u001b[0m\n\u001b[1;32m     13\u001b[0m \u001b[0;32mfrom\u001b[0m \u001b[0mbulletin\u001b[0m\u001b[0;34m.\u001b[0m\u001b[0mutils\u001b[0m\u001b[0;34m.\u001b[0m\u001b[0mtimer\u001b[0m \u001b[0;32mimport\u001b[0m \u001b[0mTimer\u001b[0m\u001b[0;34m\u001b[0m\u001b[0;34m\u001b[0m\u001b[0m\n\u001b[1;32m     14\u001b[0m \u001b[0;32mfrom\u001b[0m \u001b[0mbulletin\u001b[0m\u001b[0;34m.\u001b[0m\u001b[0mutils\u001b[0m\u001b[0;34m.\u001b[0m\u001b[0mutils\u001b[0m \u001b[0;32mimport\u001b[0m \u001b[0misvaliddate\u001b[0m\u001b[0;34m\u001b[0m\u001b[0;34m\u001b[0m\u001b[0m\n\u001b[0;32m---> 15\u001b[0;31m \u001b[0;32mfrom\u001b[0m \u001b[0mbulletin\u001b[0m\u001b[0;34m.\u001b[0m\u001b[0mutils\u001b[0m\u001b[0;34m.\u001b[0m\u001b[0mnormalize\u001b[0m \u001b[0;32mimport\u001b[0m \u001b[0mdate_hash\u001b[0m\u001b[0;34m,\u001b[0m \u001b[0mnormalize_cpf\u001b[0m\u001b[0;34m,\u001b[0m \u001b[0mnormalize_text\u001b[0m\u001b[0;34m,\u001b[0m \u001b[0mnormalize_number\u001b[0m\u001b[0;34m,\u001b[0m \u001b[0mnormalize_hash\u001b[0m\u001b[0;34m\u001b[0m\u001b[0;34m\u001b[0m\u001b[0m\n\u001b[0m\u001b[1;32m     16\u001b[0m \u001b[0;32mfrom\u001b[0m \u001b[0mbulletin\u001b[0m\u001b[0;34m.\u001b[0m\u001b[0mservices\u001b[0m\u001b[0;34m.\u001b[0m\u001b[0mmetabase\u001b[0m \u001b[0;32mimport\u001b[0m \u001b[0mMetabase\u001b[0m\u001b[0;34m\u001b[0m\u001b[0;34m\u001b[0m\u001b[0m\n\u001b[1;32m     17\u001b[0m \u001b[0;34m\u001b[0m\u001b[0m\n",
      "\u001b[0;32m~/projects/covid19datascience/bulletin/utils/normalize.py\u001b[0m in \u001b[0;36m<module>\u001b[0;34m\u001b[0m\n\u001b[1;32m      1\u001b[0m \u001b[0;32mimport\u001b[0m \u001b[0mnumpy\u001b[0m \u001b[0;32mas\u001b[0m \u001b[0mnp\u001b[0m\u001b[0;34m\u001b[0m\u001b[0;34m\u001b[0m\u001b[0m\n\u001b[1;32m      2\u001b[0m \u001b[0;32mimport\u001b[0m \u001b[0mpandas\u001b[0m \u001b[0;32mas\u001b[0m \u001b[0mpd\u001b[0m\u001b[0;34m\u001b[0m\u001b[0;34m\u001b[0m\u001b[0m\n\u001b[0;32m----> 3\u001b[0;31m \u001b[0;32mfrom\u001b[0m \u001b[0munidecode\u001b[0m \u001b[0;32mimport\u001b[0m \u001b[0munidecode\u001b[0m\u001b[0;34m\u001b[0m\u001b[0;34m\u001b[0m\u001b[0m\n\u001b[0m\u001b[1;32m      4\u001b[0m \u001b[0;34m\u001b[0m\u001b[0m\n\u001b[1;32m      5\u001b[0m \u001b[0;34m\u001b[0m\u001b[0m\n",
      "\u001b[0;31mModuleNotFoundError\u001b[0m: No module named 'unidecode'"
     ]
    }
   ],
   "source": [
    "from sys import exit\n",
    "import numpy as np\n",
    "import pandas as pd\n",
    "from os.path import dirname, join, isfile, isdir\n",
    "from os import makedirs\n",
    "from datetime import datetime, timedelta\n",
    "from hashlib import sha256\n",
    "import codecs\n",
    "\n",
    "\n",
    "from bulletin.tb_pacientes import TbPacientes\n",
    "from bulletin.casos_confirmados import CasosConfirmados\n",
    "from bulletin.utils.utils import Timer, auto_fit_columns\n",
    "from bulletin.utils import static\n",
    "from bulletin.utils.normalize import *\n",
    "\n",
    "pd.set_option('display.max_columns', None)\n",
    "\n",
    "output = join(\"output\",\"correcoes\",\"casos_confirmados\")\n",
    "\n",
    "if not isdir(output):\n",
    "    makedirs(output)\n",
    "\n",
    "timer = Timer()"
   ]
  },
  {
   "cell_type": "code",
   "execution_count": 2,
   "metadata": {},
   "outputs": [
    {
     "name": "stdout",
     "output_type": "stream",
     "text": [
      "Casos confirmados excluidos: 8\n",
      "Obitos confirmados excluidos: 1\n"
     ]
    },
    {
     "data": {
      "text/plain": [
       "601.4204819202423"
      ]
     },
     "execution_count": 2,
     "metadata": {},
     "output_type": "execute_result"
    }
   ],
   "source": [
    "timer.reset()\n",
    "casos_confirmados = CasosConfirmados()\n",
    "casos_confirmados.update()\n",
    "timer.stop()"
   ]
  },
  {
   "cell_type": "code",
   "execution_count": 3,
   "metadata": {},
   "outputs": [
    {
     "name": "stdout",
     "output_type": "stream",
     "text": [
      "633553;11467\n"
     ]
    },
    {
     "data": {
      "text/html": [
       "<div>\n",
       "<style scoped>\n",
       "    .dataframe tbody tr th:only-of-type {\n",
       "        vertical-align: middle;\n",
       "    }\n",
       "\n",
       "    .dataframe tbody tr th {\n",
       "        vertical-align: top;\n",
       "    }\n",
       "\n",
       "    .dataframe thead th {\n",
       "        text-align: right;\n",
       "    }\n",
       "</style>\n",
       "<table border=\"1\" class=\"dataframe\">\n",
       "  <thead>\n",
       "    <tr style=\"text-align: right;\">\n",
       "      <th></th>\n",
       "      <th>ordem</th>\n",
       "      <th>ibge7</th>\n",
       "      <th>nome</th>\n",
       "      <th>sexo</th>\n",
       "      <th>idade</th>\n",
       "      <th>municipio</th>\n",
       "      <th>rs</th>\n",
       "      <th>data_do_obito</th>\n",
       "      <th>excluir</th>\n",
       "      <th>hash</th>\n",
       "      <th>hash_less</th>\n",
       "      <th>hash_more</th>\n",
       "      <th>hash_dt_obito</th>\n",
       "    </tr>\n",
       "  </thead>\n",
       "  <tbody>\n",
       "  </tbody>\n",
       "</table>\n",
       "</div>"
      ],
      "text/plain": [
       "Empty DataFrame\n",
       "Columns: [ordem, ibge7, nome, sexo, idade, municipio, rs, data_do_obito, excluir, hash, hash_less, hash_more, hash_dt_obito]\n",
       "Index: []"
      ]
     },
     "execution_count": 3,
     "metadata": {},
     "output_type": "execute_result"
    }
   ],
   "source": [
    "# casos = casos_confirmados.fix_mun_resid_casos('mun_atend')\n",
    "# obitos = casos_confirmados.fix_mun_resid_obitos()\n",
    "casos = casos_confirmados.get_casos()\n",
    "casos = casos.drop(columns=['obito','data_obito','excluir'])\n",
    "obitos = casos_confirmados.get_obitos()\n",
    "\n",
    "print(f\"{len(casos)};{len(obitos)}\")\n",
    "obitos.loc[~obitos['hash'].isin(casos['hash'])]"
   ]
  },
  {
   "cell_type": "code",
   "execution_count": 4,
   "metadata": {},
   "outputs": [],
   "source": [
    "obitos.loc[obitos['hash'].isin(casos['hash_less']),'idade'] += 1\n",
    "obitos.loc[obitos['hash'].isin(casos['hash_less']),'hash'] = obitos.loc[obitos['hash'].isin(casos['hash_less'])].apply(lambda row: normalize_hash(row['nome'])+str(row['idade'])+normalize_hash(row['municipio']), axis=1)"
   ]
  },
  {
   "cell_type": "code",
   "execution_count": 5,
   "metadata": {},
   "outputs": [],
   "source": [
    "obitos.loc[obitos['hash'].isin(casos['hash_more']),'idade'] -= 1\n",
    "obitos.loc[obitos['hash'].isin(casos['hash_more']),'hash'] = obitos.loc[obitos['hash'].isin(casos['hash_more'])].apply(lambda row: normalize_hash(row['nome'])+str(row['idade'])+normalize_hash(row['municipio']), axis=1)"
   ]
  },
  {
   "cell_type": "code",
   "execution_count": 6,
   "metadata": {},
   "outputs": [
    {
     "data": {
      "text/html": [
       "<div>\n",
       "<style scoped>\n",
       "    .dataframe tbody tr th:only-of-type {\n",
       "        vertical-align: middle;\n",
       "    }\n",
       "\n",
       "    .dataframe tbody tr th {\n",
       "        vertical-align: top;\n",
       "    }\n",
       "\n",
       "    .dataframe thead th {\n",
       "        text-align: right;\n",
       "    }\n",
       "</style>\n",
       "<table border=\"1\" class=\"dataframe\">\n",
       "  <thead>\n",
       "    <tr style=\"text-align: right;\">\n",
       "      <th></th>\n",
       "      <th>ordem</th>\n",
       "      <th>ibge7</th>\n",
       "      <th>nome</th>\n",
       "      <th>sexo</th>\n",
       "      <th>idade</th>\n",
       "      <th>municipio</th>\n",
       "      <th>rs</th>\n",
       "      <th>data_do_obito</th>\n",
       "      <th>excluir</th>\n",
       "      <th>hash</th>\n",
       "      <th>hash_less</th>\n",
       "      <th>hash_more</th>\n",
       "      <th>hash_dt_obito</th>\n",
       "    </tr>\n",
       "  </thead>\n",
       "  <tbody>\n",
       "  </tbody>\n",
       "</table>\n",
       "</div>"
      ],
      "text/plain": [
       "Empty DataFrame\n",
       "Columns: [ordem, ibge7, nome, sexo, idade, municipio, rs, data_do_obito, excluir, hash, hash_less, hash_more, hash_dt_obito]\n",
       "Index: []"
      ]
     },
     "execution_count": 6,
     "metadata": {},
     "output_type": "execute_result"
    }
   ],
   "source": [
    "obitos.loc[~obitos['hash'].isin(casos['hash'])]"
   ]
  },
  {
   "cell_type": "code",
   "execution_count": 7,
   "metadata": {},
   "outputs": [
    {
     "name": "stdout",
     "output_type": "stream",
     "text": [
      "633553;11467\n"
     ]
    }
   ],
   "source": [
    "obitos = obitos.rename(columns={'data_do_obito': 'data_obito'})\n",
    "obitos['obito'] = 'SIM'\n",
    "\n",
    "casos = pd.merge(left=casos, right=obitos[['obito','data_obito','hash']], on='hash', how='left')\n",
    "\n",
    "casos.loc[casos['obito'].isnull(), 'obito'] = 'NAO'\n",
    "casos.loc[(casos['obito']==\"SIM\") & (casos.duplicated('hash')), 'obito'] = 'NAO'\n",
    "casos.loc[(casos['obito']==\"SIM\") & (casos.duplicated('hash')), 'data_obito'] = pd.NaT\n",
    "\n",
    "print(f\"{len(casos)};{len(casos.loc[casos['obito']=='SIM'])}\")"
   ]
  },
  {
   "cell_type": "code",
   "execution_count": 14,
   "metadata": {},
   "outputs": [],
   "source": [
    "obitos['excluir'] = None\n",
    "casos['excluir'] = None"
   ]
  },
  {
   "cell_type": "code",
   "execution_count": 15,
   "metadata": {},
   "outputs": [
    {
     "data": {
      "text/plain": [
       "(11467, 9)"
      ]
     },
     "execution_count": 15,
     "metadata": {},
     "output_type": "execute_result"
    }
   ],
   "source": [
    "new_casos = casos[['ordem','identificacao','ibge7','nome','sexo','idade','mun_resid','mun_atend','rs','laboratorio','dt_diag','comunicacao','is','obito','data_obito','excluir']]\n",
    "new_obitos = obitos[['ordem','ibge7','nome','sexo','idade','municipio','rs','data_obito','excluir']]\n",
    "new_obitos.shape"
   ]
  },
  {
   "cell_type": "code",
   "execution_count": 18,
   "metadata": {},
   "outputs": [],
   "source": [
    "writer = pd.ExcelWriter(join(output,\"Casos confirmados.xlsx\"),\n",
    "                        engine='xlsxwriter',\n",
    "                        datetime_format='dd/mm/yyyy',\n",
    "                        date_format='dd/mm/yyyy')\n",
    "\n",
    "new_casos.to_excel(writer,sheet_name='Casos confirmados',index=None)\n",
    "new_obitos.to_excel(writer,sheet_name='Obitos',index=None)\n",
    "\n",
    "writer.save()\n",
    "writer.close()"
   ]
  },
  {
   "cell_type": "code",
   "execution_count": 17,
   "metadata": {},
   "outputs": [],
   "source": [
    "writer = pd.ExcelWriter(join(output,f\"Casos Confirmados Regionais.xlsx\"),\n",
    "                        engine='xlsxwriter',\n",
    "                        datetime_format='dd/mm/yyyy',\n",
    "                        date_format='dd/mm/yyyy')\n",
    "\n",
    "for grupo_casos, grupo_obitos in zip(new_casos.groupby('rs'),new_obitos.groupby('rs')):\n",
    "    grupo_casos[1].to_excel(writer,sheet_name=f\"casos_rs{grupo_casos[0]}\",index=None)\n",
    "    grupo_obitos[1].to_excel(writer,sheet_name=f\"obitos_rs{grupo_casos[0]}\",index=None)\n",
    "    worksheet = writer.sheets[f\"casos_rs{grupo_casos[0]}\"]\n",
    "    auto_fit_columns(worksheet,grupo_casos[1])\n",
    "    worksheet = writer.sheets[f\"obitos_rs{grupo_casos[0]}\"]\n",
    "    auto_fit_columns(worksheet,grupo_obitos[1])\n",
    "\n",
    "new_casos.loc[new_casos['rs'].isnull()].to_excel(writer,sheet_name='casos_fora',index=None)\n",
    "new_obitos.loc[new_obitos['rs'].isnull()].to_excel(writer,sheet_name='obitos_fora',index=None)\n",
    "\n",
    "writer.save()\n",
    "writer.close()"
   ]
  },
  {
   "cell_type": "code",
   "execution_count": null,
   "metadata": {},
   "outputs": [],
   "source": []
  }
 ],
 "metadata": {
  "kernelspec": {
   "display_name": "Python 3",
   "language": "python",
   "name": "python3"
  },
  "language_info": {
   "codemirror_mode": {
    "name": "ipython",
    "version": 3
   },
   "file_extension": ".py",
   "mimetype": "text/x-python",
   "name": "python",
   "nbconvert_exporter": "python",
   "pygments_lexer": "ipython3",
   "version": "3.8.5"
  }
 },
 "nbformat": 4,
 "nbformat_minor": 4
}
