{
 "cells": [
  {
   "cell_type": "code",
   "execution_count": null,
   "metadata": {
    "execution": {
     "iopub.execute_input": "2021-12-20T13:44:35.362539Z",
     "iopub.status.busy": "2021-12-20T13:44:35.362539Z",
     "iopub.status.idle": "2021-12-20T13:44:35.409410Z",
     "shell.execute_reply": "2021-12-20T13:44:35.409410Z",
     "shell.execute_reply.started": "2021-12-20T13:44:35.362539Z"
    }
   },
   "outputs": [],
   "source": [
    "## set covid19_datasciente as path for python find bulletin package\n",
    "import sys\n",
    "from pathlib import Path\n",
    "from os import getcwd, remove, chdir\n",
    "from os.path import join, basename\n",
    "\n",
    "sys.path.append(str(Path(getcwd()).parent))\n",
    "current_dir = getcwd()\n",
    "print(current_dir)"
   ]
  },
  {
   "cell_type": "code",
   "execution_count": null,
   "metadata": {
    "execution": {
     "iopub.execute_input": "2021-12-20T13:44:35.409410Z",
     "iopub.status.busy": "2021-12-20T13:44:35.409410Z",
     "iopub.status.idle": "2021-12-20T13:44:35.925355Z",
     "shell.execute_reply": "2021-12-20T13:44:35.925355Z",
     "shell.execute_reply.started": "2021-12-20T13:44:35.409410Z"
    }
   },
   "outputs": [],
   "source": [
    "import pandas as pd\n",
    "pd.set_option('display.max_columns', None)\n",
    "pd.set_option('display.max_rows', 200)\n",
    "\n",
    "import numpy as np\n",
    "from random import randint\n",
    "from math import floor, ceil\n",
    "import codecs"
   ]
  },
  {
   "cell_type": "code",
   "execution_count": null,
   "metadata": {
    "execution": {
     "iopub.execute_input": "2021-12-20T13:44:35.925355Z",
     "iopub.status.busy": "2021-12-20T13:44:35.925355Z",
     "iopub.status.idle": "2021-12-20T13:44:37.254184Z",
     "shell.execute_reply": "2021-12-20T13:44:37.254184Z",
     "shell.execute_reply.started": "2021-12-20T13:44:35.925355Z"
    }
   },
   "outputs": [],
   "source": [
    "from bulletin import root, default_input, default_output, agora, hoje, ontem, anteontem, dias_apos, dias_apos_label\n",
    "from bulletin.services.metabase import Metabase\n",
    "from bulletin.systems.casos_confirmados import CasosConfirmados\n",
    "from bulletin.systems.notifica import Notifica\n",
    "from bulletin.utils.static import Municipios\n",
    "from bulletin.utils import utils, static\n",
    "from bulletin.utils.xls_ import fit_cols\n",
    "from bulletin.utils.normalize import trim_overspace\n",
    "from bulletin.utils.normalize import normalize_text#normalize_hash, normalize_labels, , date_hash, normalize_number"
   ]
  },
  {
   "cell_type": "code",
   "execution_count": null,
   "metadata": {
    "execution": {
     "iopub.execute_input": "2021-12-20T13:44:37.254184Z",
     "iopub.status.busy": "2021-12-20T13:44:37.254184Z",
     "iopub.status.idle": "2021-12-20T13:44:37.269805Z",
     "shell.execute_reply": "2021-12-20T13:44:37.269805Z",
     "shell.execute_reply.started": "2021-12-20T13:44:37.254184Z"
    }
   },
   "outputs": [],
   "source": [
    "from datetime import datetime, date, timedelta\n",
    "from tqdm.auto import tqdm\n",
    "tqdm.pandas()\n",
    "\n",
    "exclusao_pathfile = join(root, 'database', 'casos_confirmados')\n",
    "\n",
    "today = pd.to_datetime(date.today())\n",
    "ontem = today - timedelta(1)\n",
    "anteontem = ontem - timedelta(1)\n",
    "data_retroativos = ontem - timedelta(31)"
   ]
  },
  {
   "cell_type": "markdown",
   "metadata": {},
   "source": [
    "## 1. Processo de Backup e Limpeza de arquivos gerados ontem"
   ]
  },
  {
   "cell_type": "code",
   "execution_count": null,
   "metadata": {
    "execution": {
     "iopub.execute_input": "2021-12-20T13:44:37.285429Z",
     "iopub.status.busy": "2021-12-20T13:44:37.285429Z",
     "iopub.status.idle": "2021-12-20T13:44:37.301048Z",
     "shell.execute_reply": "2021-12-20T13:44:37.301048Z",
     "shell.execute_reply.started": "2021-12-20T13:44:37.285429Z"
    }
   },
   "outputs": [],
   "source": [
    "\n",
    "utils.create_backup(first_name = \"backup_notifica_diario_\" , level=3)\n",
    "chdir(current_dir)"
   ]
  },
  {
   "cell_type": "code",
   "execution_count": null,
   "metadata": {
    "execution": {
     "iopub.execute_input": "2021-12-20T13:44:37.301048Z",
     "iopub.status.busy": "2021-12-20T13:44:37.301048Z",
     "iopub.status.idle": "2021-12-20T13:44:37.332292Z",
     "shell.execute_reply": "2021-12-20T13:44:37.332292Z",
     "shell.execute_reply.started": "2021-12-20T13:44:37.301048Z"
    }
   },
   "outputs": [],
   "source": [
    "from bulletin.utils.clean_up import clear_directories\n",
    "clear_directories()"
   ]
  },
  {
   "cell_type": "markdown",
   "metadata": {},
   "source": [
    "## 2. Atualização e Carregamento das Bases de Dados"
   ]
  },
  {
   "cell_type": "markdown",
   "metadata": {},
   "source": [
    "### 2.1 Carregamento do Notifica e Municípios"
   ]
  },
  {
   "cell_type": "code",
   "execution_count": null,
   "metadata": {
    "execution": {
     "iopub.execute_input": "2021-12-20T13:44:37.332292Z",
     "iopub.status.busy": "2021-12-20T13:44:37.332292Z",
     "iopub.status.idle": "2021-12-20T13:44:37.363545Z",
     "shell.execute_reply": "2021-12-20T13:44:37.363545Z",
     "shell.execute_reply.started": "2021-12-20T13:44:37.332292Z"
    }
   },
   "outputs": [],
   "source": [
    "municipios = Municipios()\n",
    "municipios['mun_resid'] = municipios['municipio']\n",
    "municipios.loc[municipios['uf']!='PR','mun_resid'] = municipios.loc[municipios['uf']!='PR','municipio'] + '/' + municipios['uf']\n",
    "municipios.loc[municipios['uf']!='PR','municipio'] = municipios.loc[municipios['uf']!='PR','municipio'] + '/' + municipios['uf']"
   ]
  },
  {
   "cell_type": "code",
   "execution_count": null,
   "metadata": {
    "execution": {
     "iopub.execute_input": "2021-12-20T13:44:37.363545Z",
     "iopub.status.busy": "2021-12-20T13:44:37.363545Z",
     "iopub.status.idle": "2021-12-20T13:49:14.524568Z",
     "shell.execute_reply": "2021-12-20T13:49:14.524568Z",
     "shell.execute_reply.started": "2021-12-20T13:44:37.363545Z"
    }
   },
   "outputs": [],
   "source": [
    "download = False ## <- comentar ´and False´ para baixar novo notifica\n",
    "load_downloaded = False ## <- comentar ´and False´ para carregar partes baixadas\n",
    "update = True ## <- comentar ´and False´ para baixar atualizações\n",
    "\n",
    "if download:\n",
    "    # Download\n",
    "    mb = Metabase()\n",
    "    mb.generate_notifica_query('notifica', where='True', replace=True)\n",
    "    notifica_parts = mb.download_notificacao('notifica', load=load_downloaded)\n",
    "    # Leitura\n",
    "    notifica = Notifica()\n",
    "    notifica.read(notifica_parts)\n",
    "    notifica.save('all_notifica_raw', replace=True, compress=True)\n",
    "#     notifica.load('all_notifica_raw',compress=True)\n",
    "    ##\n",
    "    # Normalização\n",
    "    notifica.normalize()\n",
    "    notifica.save('notifica', replace=True, compress=False)\n",
    "############\n",
    "else:\n",
    "    # Load \n",
    "    notifica = Notifica()\n",
    "    notifica.databases()\n",
    "    notifica.load('notifica', compress=False)\n",
    "    notifica.df = notifica.df.drop_duplicates('id', keep='last')\n",
    "    \n",
    "if update:\n",
    "    mb = Metabase()\n",
    "    days = 2\n",
    "    intervalo = f\"(data_notificacao >= NOW() - INTERVAL '{days} DAY') or (data_liberacao >= NOW() - INTERVAL '{days} DAY') or (updated_at >= NOW() - INTERVAL '{days} DAY') or (data_coleta >= NOW() - INTERVAL '{days} DAY') or (data_encerramento >= NOW() - INTERVAL '{days} DAY') or (data_cura_obito >= NOW() - INTERVAL '{days} DAY')\"\n",
    "    mb.generate_notifica_query('update_notifica', where=intervalo, replace=True)\n",
    "    update_notifica_parts = mb.download_notificacao('update_notifica', load=load_downloaded)\n",
    "    \n",
    "    update_notifica = Notifica()\n",
    "    update_notifica.read(update_notifica_parts)\n",
    "    update_notifica.normalize()\n",
    "    \n",
    "    \n",
    "    update_notifica.df = update_notifica.df.drop_duplicates('id', keep='last')\n",
    "    analise_dtd = update_notifica.analise_data_diagnostico() ## only in casos confirmados, pd.NaT nos demais\n",
    "\n",
    "#     novas_notificacoes, atualizacoes_fichas = notifica.update(update_notifica)#, observed_cols=['excluir_ficha','status_notificacao','classificacao_final','data_1o_sintomas','data_diagnostico','evolucao','data_cura_obito','data_encerramento'])\n",
    "    notifica.update(update_notifica)\n",
    "\n",
    "    notifica.fix_dtypes()\n",
    "    notifica.save(replace=True, compress=False)\n",
    "\n",
    "#     updated_cols = atualizacoes_fichas[['updated_cols','id']].groupby('updated_cols').count().sort_values('id',ascending=False).reset_index()\n",
    "#     updated_cols.iloc[0:-1,0] += ','\n",
    "#     updated_cols = list(set(updated_cols.sum()[0].split(',')))\n",
    "\n",
    "#     for col in updated_cols:\n",
    "#         print(f\"{col}: {atualizacoes_fichas['updated_cols'].str.contains(col).sum()}\")\n",
    "#         display(atualizacoes_fichas.loc[atualizacoes_fichas['updated_cols'].str.contains(col),['id',f'{col}_old',f'{col}_new']])\n",
    "\n",
    "notifica.df.shape"
   ]
  },
  {
   "cell_type": "markdown",
   "metadata": {},
   "source": [
    "### 2.2 Carregamento do CC"
   ]
  },
  {
   "cell_type": "code",
   "execution_count": null,
   "metadata": {
    "execution": {
     "iopub.execute_input": "2021-12-20T13:53:23.287955Z",
     "iopub.status.busy": "2021-12-20T13:53:23.287955Z",
     "iopub.status.idle": "2021-12-20T13:53:56.903460Z",
     "shell.execute_reply": "2021-12-20T13:53:56.903460Z",
     "shell.execute_reply.started": "2021-12-20T13:53:23.287955Z"
    }
   },
   "outputs": [],
   "source": [
    "cc = CasosConfirmados()\n",
    "cc.load(f\"cc_{ontem.strftime('%d_%m_%Y')}\", compress=True)\n",
    "\n",
    "cc.df.loc[cc.df['sexo']==1, 'sexo'] = 'M'\n",
    "cc.df.loc[cc.df['sexo']==2, 'sexo'] = 'F'\n",
    "\n",
    "cc.df.shape"
   ]
  },
  {
   "cell_type": "markdown",
   "metadata": {},
   "source": [
    "### 2.3 Alterações nos Casos Confirmados"
   ]
  },
  {
   "cell_type": "code",
   "execution_count": null,
   "metadata": {},
   "outputs": [],
   "source": [
    "diff_evolucao = pd.DataFrame()\n",
    "diff_evolucao = pd.merge(cc.df[['id_notifica','paciente', 'evolucao']], notifica.df[['id', 'evolucao']].rename(columns={'id':'id_notifica'}), on='id_notifica', how='inner', suffixes=['_old','_new'])"
   ]
  },
  {
   "cell_type": "code",
   "execution_count": null,
   "metadata": {},
   "outputs": [],
   "source": [
    "# FICHAS CURA ----> ÓBITOS POR OUTRAS CAUSAS\n",
    "cura_obitosOutrasCausas = diff_evolucao.loc[(diff_evolucao['evolucao_old'] == 1) & (diff_evolucao['evolucao_new'] == 4)]\n",
    "\n",
    "for i in tqdm(cura_obitosOutrasCausas['id_notifica']):\n",
    "    data_cura_obito = notifica.df.loc[notifica.df['id'] == i, 'data_cura_obito'].values[0]\n",
    "    \n",
    "    cc.df.loc[cc.df['id_notifica']==i, ('evolucao', 'tipo_encerramento', 'data_cura_obito', 'data_com_evolucao')] = (4, 'E1', data_cura_obito, hoje)\n",
    "\n",
    "cura_obitosOutrasCausas.shape"
   ]
  },
  {
   "cell_type": "code",
   "execution_count": null,
   "metadata": {},
   "outputs": [],
   "source": [
    "# FICHAS ÓBITO ----> ÓBITOS POR OUTRAS CAUSAS\n",
    "obito_obitosOutrasCausas = diff_evolucao.loc[(diff_evolucao['evolucao_old'] == 2) & (diff_evolucao['evolucao_new'] == 4)]\n",
    "\n",
    "temporario_ObitosOutrasCausas = cc.df.loc[cc.df['id_notifica'].isin(obito_obitosOutrasCausas['id_notifica'])]\n",
    "\n",
    "temporario_ObitosOutrasCausas.to_pickle(join(exclusao_pathfile, f\"exclusao_obitos-obitosOutrasCausas.pkl\"))\n",
    "temporario_ObitosOutrasCausas.shape"
   ]
  },
  {
   "cell_type": "code",
   "execution_count": null,
   "metadata": {},
   "outputs": [],
   "source": [
    "# # FICHAS NÃO SE APLICA ----> CURA\n",
    "# naoAplica_cura = diff_evolucao.loc[(diff_evolucao['evolucao_old'] == 3) & (diff_evolucao['evolucao_new'] == 1)]\n",
    "\n",
    "# for i in tqdm(naoAplica_cura['id_notifica']):\n",
    "#     data_cura_obito = notifica.df.loc[notifica.df['id'] == i, 'data_cura_obito'].values[0]\n",
    "    \n",
    "#     cc.df.loc[cc.df['id_notifica']==i, ('evolucao', 'tipo_encerramento', 'data_cura_obito', 'data_com_evolucao')] = (1, 'E1', data_cura_obito, hoje)\n",
    "\n",
    "# naoAplica_cura.shape"
   ]
  },
  {
   "cell_type": "code",
   "execution_count": null,
   "metadata": {},
   "outputs": [],
   "source": [
    "# FICHAS NÃO SE APLICA ----> ÓBITO POR OUTRAS CAUSAS\n",
    "naoAplica_obitosOutrasCausas = diff_evolucao.loc[(diff_evolucao['evolucao_old'] == 3) & (diff_evolucao['evolucao_new'] == 4)]\n",
    "\n",
    "for i in tqdm(naoAplica_obitosOutrasCausas['id_notifica']):\n",
    "    data_cura_obito = notifica.df.loc[notifica.df['id'] == i, 'data_cura_obito'].values[0]\n",
    "    \n",
    "    cc.df.loc[cc.df['id_notifica']==i, ('evolucao', 'tipo_encerramento', 'data_cura_obito', 'data_com_evolucao')] = (4, 'E1', data_cura_obito, hoje)\n",
    "\n",
    "naoAplica_obitosOutrasCausas.shape"
   ]
  },
  {
   "cell_type": "code",
   "execution_count": null,
   "metadata": {},
   "outputs": [],
   "source": [
    "cc.df.shape"
   ]
  },
  {
   "cell_type": "code",
   "execution_count": null,
   "metadata": {},
   "outputs": [],
   "source": [
    "cc.df.groupby(['evolucao'])[['id_notifica']].count()"
   ]
  },
  {
   "cell_type": "markdown",
   "metadata": {},
   "source": [
    "### 2.4 Ajuste de Casos INATIVOS que voltam à ativa para poderem ser contabilizados"
   ]
  },
  {
   "cell_type": "code",
   "execution_count": null,
   "metadata": {},
   "outputs": [],
   "source": [
    "# MUDANÇA DE VALORES PARA CURITIBA, ficha inativa volta à ativa\n",
    "notifica.df.loc[(notifica.df['ibge_residencia'] == 410690) & (notifica.df['status_notificacao'] == 3), 'status_notificacao'] = 2"
   ]
  },
  {
   "cell_type": "code",
   "execution_count": null,
   "metadata": {},
   "outputs": [],
   "source": [
    "# FICHAS INATIVAS QUE FOREM REINFECÇAO, DEVEM ENTRAR\n",
    "notifica.df.loc[notifica.df['reinfeccao'] == True, 'status_notificacao'] = 2"
   ]
  },
  {
   "cell_type": "code",
   "execution_count": null,
   "metadata": {},
   "outputs": [],
   "source": [
    "# ATIVAR FICHAS QUE PRECISAM ENTRAR\n",
    "list_activate = [1288024, 6159233, 6969412, 4540001]\n",
    "\n",
    "notifica.df.loc[notifica.df['id'].isin(list_activate), ('status_notificacao', 'excluir_ficha')] = (2, 2)"
   ]
  },
  {
   "cell_type": "markdown",
   "metadata": {},
   "source": [
    "### 2.5 Filtragem do Notifica COVID-19"
   ]
  },
  {
   "cell_type": "code",
   "execution_count": null,
   "metadata": {
    "execution": {
     "iopub.execute_input": "2021-12-20T13:49:14.524568Z",
     "iopub.status.busy": "2021-12-20T13:49:14.524568Z",
     "iopub.status.idle": "2021-12-20T13:51:38.911041Z",
     "shell.execute_reply": "2021-12-20T13:51:38.911041Z",
     "shell.execute_reply.started": "2021-12-20T13:49:14.524568Z"
    }
   },
   "outputs": [],
   "source": [
    "notifica.df = notifica.df.loc[((notifica.df['classificacao_final']==2)&(notifica.df['excluir_ficha']==2)&(notifica.df['status_notificacao'].isin([1,2])))]\n",
    "\n",
    "notifica.df = pd.merge(notifica.df.rename(columns={'ibge_residencia':'ibge'}),municipios[['ibge','macro','rs','mun_resid','uf','municipio','regional']],on='ibge',how='left').rename(columns={'ibge':'ibge_residencia'})\n",
    "notifica.df = pd.merge(notifica.df.rename(columns={'ibge_unidade_notifica':'ibge'}),municipios[['ibge','mun_resid']].rename(columns={'mun_resid':'mun_atend'}),on='ibge',how='left').rename(columns={'ibge':'ibge_unidade_notifica'})\n",
    "\n",
    "# notifica.df['exame_nome'] = notifica.replace('exame',inplace=False)\n",
    "notifica.replace('sexo')\n",
    "\n",
    "notifica.df = notifica.df.loc[((notifica.df['sexo']!='N')&(notifica.df['mun_resid'].notna())&(notifica.df['data_diagnostico'].notna())&(notifica.df['paciente'].str.len() > 5))]\n",
    "\n",
    "display(notifica.df[['id','evolucao']].groupby(['evolucao']).count())"
   ]
  },
  {
   "cell_type": "code",
   "execution_count": null,
   "metadata": {
    "execution": {
     "iopub.execute_input": "2021-12-20T13:51:38.913054Z",
     "iopub.status.busy": "2021-12-20T13:51:38.913054Z",
     "iopub.status.idle": "2021-12-20T13:53:20.462475Z",
     "shell.execute_reply": "2021-12-20T13:53:20.462475Z",
     "shell.execute_reply.started": "2021-12-20T13:51:38.913054Z"
    }
   },
   "outputs": [],
   "source": [
    "notifica_duplicados = notifica.check_duplicates(keep=False)\n",
    "notifica_duplicados"
   ]
  },
  {
   "cell_type": "code",
   "execution_count": null,
   "metadata": {
    "execution": {
     "iopub.execute_input": "2021-12-20T13:53:20.628534Z",
     "iopub.status.busy": "2021-12-20T13:53:20.628534Z",
     "iopub.status.idle": "2021-12-20T13:53:20.642518Z",
     "shell.execute_reply": "2021-12-20T13:53:20.641518Z",
     "shell.execute_reply.started": "2021-12-20T13:53:20.628534Z"
    }
   },
   "outputs": [],
   "source": [
    "# MARCAÇÃO DE FICHAS COMO NÃO DUPLICADAS\n",
    "list_duplicated_false = [5415309]\n",
    "notifica.df.loc[notifica.df['id'].isin(list_duplicated_false), 'duplicated'] = False\n",
    "\n",
    "# INCLUSÃO DE FICHAS DE POSSÍVEIS CASOS DE REINFECÇÃO\n",
    "notifica.df.loc[notifica.df['reinfeccao'] == True, 'duplicated'] = False\n",
    "\n",
    "# INSERIR AS FICHAS QUE PRECISAM ENTRAR, independente de duplicidade\n",
    "notifica.df.loc[notifica.df['id'].isin(list_activate), ('duplicated', 'duplicated_cc')] = (False, False)"
   ]
  },
  {
   "cell_type": "code",
   "execution_count": null,
   "metadata": {},
   "outputs": [],
   "source": [
    "notifica.df['duplicated'] = notifica.df['duplicated'].fillna(False)\n",
    "notifica.df['duplicated_cc'] = notifica.df['duplicated_cc'].fillna(False)"
   ]
  },
  {
   "cell_type": "code",
   "execution_count": null,
   "metadata": {},
   "outputs": [],
   "source": [
    "notifica.df = notifica.df.loc[~notifica.df['duplicated']]\n",
    "notifica.df = notifica.df.loc[~notifica.df['duplicated_cc']]"
   ]
  },
  {
   "cell_type": "code",
   "execution_count": null,
   "metadata": {
    "execution": {
     "iopub.execute_input": "2021-12-20T13:53:20.642518Z",
     "iopub.status.busy": "2021-12-20T13:53:20.642518Z",
     "iopub.status.idle": "2021-12-20T13:53:23.239902Z",
     "shell.execute_reply": "2021-12-20T13:53:23.239902Z",
     "shell.execute_reply.started": "2021-12-20T13:53:20.642518Z"
    }
   },
   "outputs": [],
   "source": [
    "display(notifica.df[['id','evolucao']].groupby(['evolucao']).count())"
   ]
  },
  {
   "cell_type": "markdown",
   "metadata": {},
   "source": [
    "### 2.6 Ajuste da Blacklist de Municípios do Notifica"
   ]
  },
  {
   "cell_type": "code",
   "execution_count": null,
   "metadata": {
    "execution": {
     "iopub.execute_input": "2021-12-20T13:53:23.239902Z",
     "iopub.status.busy": "2021-12-20T13:53:23.239902Z",
     "iopub.status.idle": "2021-12-20T13:53:23.286955Z",
     "shell.execute_reply": "2021-12-20T13:53:23.285956Z",
     "shell.execute_reply.started": "2021-12-20T13:53:23.239902Z"
    }
   },
   "outputs": [],
   "source": [
    "# BLACKLIST criada para casos confirmados de Fora do País que NINGUÉM consegue ajustar no Notifica\n",
    "blacklist_ibge = [4396786, 4624182, 5567204]\n",
    "\n",
    "notifica.df.loc[notifica.df['id'].isin(blacklist_ibge), 'ibge_residencia'] = 999999\n",
    "\n",
    "# for id_blacklist in blacklist_ibge:\n",
    "#     try:\n",
    "#         notifica.df.loc[notifica.df['id'] == id_blacklist, 'ibge_residencia'] = 999999\n",
    "#     except:\n",
    "#         pass"
   ]
  },
  {
   "cell_type": "markdown",
   "metadata": {},
   "source": [
    "## 3. Processo de Exclusões"
   ]
  },
  {
   "cell_type": "code",
   "execution_count": null,
   "metadata": {
    "execution": {
     "iopub.execute_input": "2021-12-20T13:53:56.903460Z",
     "iopub.status.busy": "2021-12-20T13:53:56.903460Z",
     "iopub.status.idle": "2021-12-20T13:53:56.919112Z",
     "shell.execute_reply": "2021-12-20T13:53:56.919112Z",
     "shell.execute_reply.started": "2021-12-20T13:53:56.903460Z"
    }
   },
   "outputs": [],
   "source": [
    "try:\n",
    "    df_exclusao = pd.read_pickle(join(exclusao_pathfile, f\"exclusao_notificacoes_{hoje.strftime('%d_%m_%Y')}.pkl\"))\n",
    "    \n",
    "    df_exclusao.loc[df_exclusao['sexo']==1, 'sexo'] = 'M'\n",
    "    df_exclusao.loc[df_exclusao['sexo']==2, 'sexo'] = 'F'\n",
    "except:\n",
    "    df_exclusao = pd.DataFrame()\n",
    "\n",
    "## reduzir obitos excluidos\n",
    "# df_exclusao = df_exclusao.drop(index=df_exclusao.loc[df_exclusao['evolucao']==2].sample(frac=0.8).index)\n",
    "    \n",
    "#DEFINIÇÃO DE VARIÁVEIS IMPORTANTES\n",
    "exclusoes = pd.DataFrame()\n",
    "exclusoes_casos = pd.DataFrame()\n",
    "exclusoes_obito = pd.DataFrame()\n",
    "relatorio_exclusao = []\n",
    "df_exclusao_len = len(df_exclusao)"
   ]
  },
  {
   "cell_type": "code",
   "execution_count": null,
   "metadata": {
    "execution": {
     "iopub.execute_input": "2021-12-20T13:53:56.919112Z",
     "iopub.status.busy": "2021-12-20T13:53:56.919112Z",
     "iopub.status.idle": "2021-12-20T13:53:56.965969Z",
     "shell.execute_reply": "2021-12-20T13:53:56.965969Z",
     "shell.execute_reply.started": "2021-12-20T13:53:56.919112Z"
    },
    "tags": []
   },
   "outputs": [],
   "source": [
    "if (df_exclusao_len > 0):\n",
    "    exclusoes = df_exclusao.copy()\n",
    "#------------------------------------------------------------------------------------------------------------------\n",
    "\n",
    "     \n",
    "# #-------------EXCLUSÃO DE CASOS (E ÓBITOS) ENCAMINHADOS\n",
    "temporario_ficha = pd.DataFrame()\n",
    "list_exclusao_casos_obito = pd.read_excel(join(default_input, 'exclusoes', '1-caso_obito.xlsx'))['id_notifica'].to_list()\n",
    "temporario_ficha = cc.df.loc[cc.df['id_notifica'].isin(list_exclusao_casos_obito)].copy()\n",
    "if (len(temporario_ficha) > 0):\n",
    "    exclusoes =  pd.concat([exclusoes, temporario_ficha])\n",
    "\n",
    "\n",
    "\n",
    "\n",
    "# #-------------EXCLUSÃO DE ÓBITOS ENCAMINHADOS -- > EVOLUCAO = CURA\n",
    "temporario_cura = pd.DataFrame()\n",
    "list_exclusao_obito_cura = pd.read_excel(join(default_input, 'exclusoes', '2-obito_cura.xlsx'))['id_notifica'].to_list()\n",
    "temporario_cura = cc.df.loc[cc.df['id_notifica'].isin(list_exclusao_obito_cura)].copy()\n",
    "temporario_cura.loc[temporario_cura['evolucao'] == 2, 'evolucao'] = 10\n",
    "if (len(temporario_cura) > 0):\n",
    "    exclusoes =  pd.concat([exclusoes, temporario_cura])\n",
    "\n",
    "\n",
    "\n",
    "\n",
    "# # #-------------EXCLUSÃO DE ÓBITOS ENCAMINHADOS -- > EVOLUCAO = NÃO SE APLICA\n",
    "temporario_nAplica = pd.DataFrame()\n",
    "list_exclusao_obito_naplica = pd.read_excel(join(default_input, 'exclusoes', '3-obito_naoSeAplica.xlsx'))['id_notifica'].to_list()\n",
    "temporario_nAplica = cc.df.loc[cc.df['id_notifica'].isin(list_exclusao_obito_naplica)].copy()\n",
    "temporario_nAplica.loc[temporario_nAplica['evolucao'] == 2, 'evolucao'] = 10\n",
    "if (len(temporario_nAplica) > 0):\n",
    "    exclusoes =  pd.concat([exclusoes, temporario_nAplica])\n",
    "\n",
    "\n",
    "\n",
    "\n",
    "# # #-------------EXCLUSÃO DE ÓBITOS ENCAMINHADOS -- > EVOLUCAO = ÓBITO POR OUTRAS CAUSAS\n",
    "try:\n",
    "    obitosOutrasCausas = pd.read_pickle(join(exclusao_pathfile, f\"exclusao_obitos-obitosOutrasCausas.pkl\"))\n",
    "    obitosOutrasCausas = cc.df.loc[cc.df['id_notifica'].isin(obitosOutrasCausas['id_notifica'])].copy()\n",
    "except:\n",
    "    obitosOutrasCausas = pd.DataFrame()\n",
    "\n",
    "\n",
    "temporario_OutrasCausas = pd.DataFrame()\n",
    "\n",
    "list_exclusao_obito_obitoOutrasCausas = pd.read_excel(join(default_input, 'exclusoes', '4-obito_obitoOutrasCausas.xlsx'))['id_notifica'].to_list()\n",
    "temporario_OutrasCausas = cc.df.loc[cc.df['id_notifica'].isin(list_exclusao_obito_obitoOutrasCausas)].copy()\n",
    "temporario_OutrasCausas = pd.concat([temporario_OutrasCausas, obitosOutrasCausas])\n",
    "\n",
    "list_exclusao_obito_obitoOutrasCausas_final = temporario_OutrasCausas['id_notifica'].tolist()\n",
    "\n",
    "temporario_OutrasCausas.loc[temporario_OutrasCausas['evolucao'] == 2, 'evolucao'] = 10\n",
    "if (len(temporario_OutrasCausas) > 0):\n",
    "    exclusoes =  pd.concat([exclusoes, temporario_OutrasCausas])\n",
    "\n",
    "\n",
    "# #------------------------------------------------------------------------------------------------------------------\n",
    "\n",
    "\n",
    "\n",
    "if (len(exclusoes) > 0):\n",
    "    exclusoes = exclusoes.drop_duplicates('id_notifica', keep='last')\n",
    "\n",
    "    exclusoes = exclusoes.join(municipios.set_index('ibge'), on='ibge_residencia')\n",
    "    exclusoes.loc[exclusoes['ibge_residencia']==999999,'mun_resid'] = exclusoes.loc[exclusoes['ibge_residencia']==999999,'pais_residencia']\n",
    "    \n",
    "    exclusoes['mun_resid'] = exclusoes['municipio']\n",
    "    \n",
    "    exclusoes['motivo_exclusao'] = 'erro de notificação'\n",
    "    exclusoes['tipo_exclusao'] = 'caso'\n",
    "\n",
    "    # exclusoes.loc[exclusoes['evolucao']==3,'evolucao'] = 1\n",
    "    exclusoes.loc[exclusoes['evolucao']==2, 'tipo_exclusao'] = 'caso e óbito'\n",
    "    exclusoes.loc[exclusoes['evolucao']==10, 'tipo_exclusao'] = 'óbito'\n",
    "    exclusoes = exclusoes.sort_values('tipo_exclusao', ascending=False)\n",
    "\n",
    "\n",
    "    exclusoes_casos = exclusoes.loc[exclusoes['tipo_exclusao'] != 'óbito']\n",
    "    exclusoes_obito = exclusoes.loc[exclusoes['evolucao'].isin([2, 10])]\n",
    "\n",
    "    exclu_casos_fora = exclusoes.loc[exclusoes['uf_residencia'] != 'PR']\n",
    "    exclu_obitos_fora = exclusoes.loc[(exclusoes['uf_residencia'] != 'PR') & (exclusoes['evolucao'].isin([2, 10]))]\n",
    "\n",
    "\n",
    "    relatorio_exclusao = None\n",
    "    relatorio_exclusao = ( \"Um \" + exclusoes['tipo_exclusao'] + \" confirmado (\" + exclusoes['sexo'] + \",\" + exclusoes['idade'].astype('str') + \") no dia \" + exclusoes['data_diagnostico'].dt.strftime('%d/%m/%Y') + \" em \" + exclusoes['mun_resid'] + \" foi excluído por \" + exclusoes['motivo_exclusao'] + \".\").tolist()\n",
    "    print(f\"TOTAL DE EXLCUSÕES = {len(exclusoes)}. Desse quantitativo, {len(exclusoes_obito)} são óbito\")"
   ]
  },
  {
   "cell_type": "code",
   "execution_count": null,
   "metadata": {
    "execution": {
     "iopub.execute_input": "2021-12-20T13:53:56.965969Z",
     "iopub.status.busy": "2021-12-20T13:53:56.965969Z",
     "iopub.status.idle": "2021-12-20T13:54:00.554720Z",
     "shell.execute_reply": "2021-12-20T13:54:00.554720Z",
     "shell.execute_reply.started": "2021-12-20T13:53:56.965969Z"
    },
    "tags": []
   },
   "outputs": [],
   "source": [
    "if (len(exclusoes_casos) > 0):\n",
    "    \n",
    "    # ALTERA OS INDEXES\n",
    "    cc.df.set_index('id_notifica', inplace=True)\n",
    "    exclusoes_casos.set_index('id_notifica', inplace=True)\n",
    "    \n",
    "    ## REMOÇÃO DOS CASOS DO CC.df\n",
    "    cc.df = cc.df.drop(index=exclusoes_casos.index)\n",
    "\n",
    "    # ALTERA OS INDEXES PARA O ESTADO ANTERIOR\n",
    "    cc.df.reset_index(inplace=True)\n",
    "    exclusoes_casos.reset_index(inplace=True)\n",
    "    \n",
    "    print(f\"Foram feitas {len(exclusoes_casos)} exclusões de CASOS. Desse quantitativo, {len(exclusoes_obito)} são óbitos\")"
   ]
  },
  {
   "cell_type": "markdown",
   "metadata": {},
   "source": [
    "### 3.1 Processo de Exclusões de ÓBITOS que tiveram diferentes evoluções"
   ]
  },
  {
   "cell_type": "code",
   "execution_count": null,
   "metadata": {
    "execution": {
     "iopub.execute_input": "2021-12-20T13:54:00.554720Z",
     "iopub.status.busy": "2021-12-20T13:54:00.554720Z",
     "iopub.status.idle": "2021-12-20T13:54:00.570346Z",
     "shell.execute_reply": "2021-12-20T13:54:00.570346Z",
     "shell.execute_reply.started": "2021-12-20T13:54:00.554720Z"
    }
   },
   "outputs": [],
   "source": [
    "try:\n",
    "    cc.df.loc[cc.df['id_notifica'].isin(list_exclusao_obito_cura), ['evolucao']] = (1)\n",
    "    print(f\"Exclusão de ÓBITO -> CURA ({len(list_exclusao_obito_cura)}). Esse valor já está contabilizado no total acima.\")\n",
    "except:\n",
    "    pass\n",
    "\n",
    "\n",
    "\n",
    "try:\n",
    "    cc.df.loc[cc.df['id_notifica'].isin(list_exclusao_obito_naplica), ['evolucao', 'data_cura_obito', 'data_com_evolucao']] = (3, pd.NaT, pd.NaT)\n",
    "    print(f\"Exclusão de ÓBITO -> NÃO SE APLICA ({len(list_exclusao_obito_naplica)}). Esse valor já está contabilizado no total acima.\")\n",
    "except:\n",
    "    pass\n",
    "\n",
    "\n",
    "\n",
    "try:\n",
    "    cc.df.loc[cc.df['id_notifica'].isin(list_exclusao_obito_obitoOutrasCausas_final), ['evolucao', 'data_com_evolucao']] = (4, hoje)\n",
    "    print(f\"Exclusão de ÓBITO -> ÓBITO POR OUTRAS CAUSAS ({len(list_exclusao_obito_obitoOutrasCausas_final)}). Esse valor já está contabilizado no total acima.\")\n",
    "except:\n",
    "    pass"
   ]
  },
  {
   "cell_type": "markdown",
   "metadata": {
    "execution": {
     "iopub.execute_input": "2021-09-25T13:00:31.507549Z",
     "iopub.status.busy": "2021-09-25T13:00:31.506621Z",
     "iopub.status.idle": "2021-09-25T13:00:31.512551Z",
     "shell.execute_reply": "2021-09-25T13:00:31.511551Z",
     "shell.execute_reply.started": "2021-09-25T13:00:31.507549Z"
    },
    "tags": []
   },
   "source": [
    "## 4. Processo de Updates"
   ]
  },
  {
   "cell_type": "markdown",
   "metadata": {},
   "source": [
    "### 4.1 Alteração de Municípios"
   ]
  },
  {
   "cell_type": "code",
   "execution_count": null,
   "metadata": {
    "execution": {
     "iopub.execute_input": "2021-12-20T13:54:00.570346Z",
     "iopub.status.busy": "2021-12-20T13:54:00.570346Z",
     "iopub.status.idle": "2021-12-20T13:54:04.856150Z",
     "shell.execute_reply": "2021-12-20T13:54:04.856150Z",
     "shell.execute_reply.started": "2021-12-20T13:54:00.570346Z"
    },
    "tags": []
   },
   "outputs": [],
   "source": [
    "diff_ibge = pd.merge(cc.df[['id_notifica','paciente','sexo','idade','data_diagnostico','ibge_residencia','pais_residencia','evolucao']].replace(cc.tables['pais'].set_index('co_pais').rename(columns={'ds_pais':'pais_residencia'}).to_dict()),notifica.df[['id','ibge_residencia','pais_residencia','evolucao']].rename(columns={'id':'id_notifica'}).replace(notifica.tables['pais'].set_index('co_pais').rename(columns={'ds_pais':'pais_residencia'}).to_dict()),on='id_notifica',how='inner',suffixes=['_old','_new'])\n",
    "diff_ibge = diff_ibge.loc[diff_ibge['ibge_residencia_old']!=diff_ibge['ibge_residencia_new']]\n",
    "\n",
    "diff_ibge = pd.merge(diff_ibge.rename(columns={'ibge_residencia_old':'ibge'}),municipios[['ibge','uf','mun_resid']].rename(columns={'uf':'uf_old','mun_resid':'municipio_old'}),on='ibge',how='left').rename(columns={'ibge':'ibge_residencia_old'})\n",
    "diff_ibge = pd.merge(diff_ibge.rename(columns={'ibge_residencia_new':'ibge'}),municipios[['ibge','uf','mun_resid']].rename(columns={'uf':'uf_new','mun_resid':'municipio_new'}),on='ibge',how='left').rename(columns={'ibge':'ibge_residencia_new'})\n",
    "\n",
    "diff_ibge.loc[diff_ibge['ibge_residencia_old']==999999,'municipio_old'] = diff_ibge.loc[diff_ibge['ibge_residencia_old']==999999,'pais_residencia_old']\n",
    "diff_ibge.loc[diff_ibge['ibge_residencia_new']==999999,'municipio_new'] = diff_ibge.loc[diff_ibge['ibge_residencia_new']==999999,'pais_residencia_new']\n",
    "\n",
    "diff_ibge['tipo_alteracao'] = 'caso'\n",
    "diff_ibge.loc[diff_ibge['evolucao_old']==3,'evolucao_old'] = 1\n",
    "diff_ibge.loc[diff_ibge['evolucao_old']==2, 'tipo_alteracao'] = 'caso e óbito'\n",
    "\n",
    "diff_ibge = diff_ibge.sort_values('evolucao_old', ascending=False)\n",
    "\n",
    "relatorio_alteracao = ( \"Um \" + diff_ibge['tipo_alteracao'] + \" confirmado (\" + diff_ibge['sexo'] + \",\" + diff_ibge['idade'].astype(str) + \") de \" + diff_ibge['municipio_old'] + \" foi corrigido para \" + diff_ibge['municipio_new'] + \".\").tolist()\n",
    "relatorio_alteracao"
   ]
  },
  {
   "cell_type": "code",
   "execution_count": null,
   "metadata": {
    "execution": {
     "iopub.execute_input": "2021-12-20T13:54:04.856150Z",
     "iopub.status.busy": "2021-12-20T13:54:04.856150Z",
     "iopub.status.idle": "2021-12-20T13:54:04.871692Z",
     "shell.execute_reply": "2021-12-20T13:54:04.871692Z",
     "shell.execute_reply.started": "2021-12-20T13:54:04.856150Z"
    },
    "tags": []
   },
   "outputs": [],
   "source": [
    "diff_ibge.groupby(['tipo_alteracao'])['tipo_alteracao'].count()"
   ]
  },
  {
   "cell_type": "code",
   "execution_count": null,
   "metadata": {
    "execution": {
     "iopub.execute_input": "2021-12-20T13:54:04.871692Z",
     "iopub.status.busy": "2021-12-20T13:54:04.871692Z",
     "iopub.status.idle": "2021-12-20T13:54:07.995296Z",
     "shell.execute_reply": "2021-12-20T13:54:07.995296Z",
     "shell.execute_reply.started": "2021-12-20T13:54:04.871692Z"
    },
    "tags": []
   },
   "outputs": [],
   "source": [
    "if ( len(diff_ibge) > 0 ):\n",
    "    cc.df.set_index('id_notifica', inplace=True)\n",
    "    cc.df.update(diff_ibge[['id_notifica','ibge_residencia_new','uf_new']].rename(columns={'ibge_residencia_new':'ibge_residencia','uf_new':'uf_residencia'}).set_index('id_notifica'))\n",
    "    cc.df.reset_index(inplace=True)"
   ]
  },
  {
   "cell_type": "markdown",
   "metadata": {},
   "source": [
    "### 4.2 Alteração de DO's cadastradas"
   ]
  },
  {
   "cell_type": "code",
   "execution_count": null,
   "metadata": {
    "execution": {
     "iopub.execute_input": "2021-12-20T13:54:07.995296Z",
     "iopub.status.busy": "2021-12-20T13:54:07.995296Z",
     "iopub.status.idle": "2021-12-20T13:54:28.741793Z",
     "shell.execute_reply": "2021-12-20T13:54:28.741793Z",
     "shell.execute_reply.started": "2021-12-20T13:54:07.995296Z"
    }
   },
   "outputs": [],
   "source": [
    "do_toSet_none = [1940234,3227237,3407306,3601652,3688233,3765255,4311095,3937987,3304973,3166044,4529450]\n",
    "\n",
    "\n",
    "notifica.df.loc[notifica.df['numero_do'] == '00000000', 'numero_do'] = None\n",
    "notifica.df.loc[notifica.df['numero_do'] == '0', 'numero_do'] = None\n",
    "cc.df.loc[cc.df['numero_do'] == '00000000', 'numero_do'] = None\n",
    "cc.df.loc[cc.df['numero_do'] == '0', 'numero_do'] = None\n",
    "\n",
    "\n",
    "notifica.df.set_index('id', inplace=True)\n",
    "cc.df.set_index('id_notifica', inplace=True)\n",
    "\n",
    "cc.df.update(notifica.df['numero_do'])\n",
    "\n",
    "notifica.df.reset_index(inplace=True)\n",
    "cc.df.reset_index(inplace=True)\n",
    "\n",
    "\n",
    "for id_do in do_toSet_none:\n",
    "    try:\n",
    "        cc.df.loc[cc.df['id_notifica'] == id_do, 'numero_do'] = None\n",
    "    except:\n",
    "        pass"
   ]
  },
  {
   "cell_type": "code",
   "execution_count": null,
   "metadata": {
    "execution": {
     "iopub.execute_input": "2021-12-20T13:54:28.741793Z",
     "iopub.status.busy": "2021-12-20T13:54:28.741793Z",
     "iopub.status.idle": "2021-12-20T13:55:52.497474Z",
     "shell.execute_reply": "2021-12-20T13:55:52.497474Z",
     "shell.execute_reply.started": "2021-12-20T13:54:28.741793Z"
    }
   },
   "outputs": [],
   "source": [
    "\n",
    "cc.fix_dtypes()\n",
    "cc.hashes()"
   ]
  },
  {
   "cell_type": "markdown",
   "metadata": {},
   "source": [
    "## 5. Geração dos novos CASOS"
   ]
  },
  {
   "cell_type": "code",
   "execution_count": null,
   "metadata": {
    "execution": {
     "iopub.execute_input": "2021-12-20T13:55:52.513037Z",
     "iopub.status.busy": "2021-12-20T13:55:52.513037Z",
     "iopub.status.idle": "2021-12-20T13:55:57.046756Z",
     "shell.execute_reply": "2021-12-20T13:55:57.046756Z",
     "shell.execute_reply.started": "2021-12-20T13:55:52.513037Z"
    },
    "tags": []
   },
   "outputs": [],
   "source": [
    "novos_casos = notifica.df.loc[~(\n",
    "    (notifica.df['id'].isin(cc.df['id_notifica'])) \n",
    ")].copy()\n",
    "\n",
    "\n",
    "novos_casos = novos_casos.sort_values(['paciente'])\n",
    "novos_casos['data_com'] = hoje\n",
    "\n",
    "\n",
    "# Impedir o absurdo que é entrar casos de 2020 ainda\n",
    "# print(f\"CASOS DE 2020 = {len(novos_casos.loc[novos_casos['data_diagnostico'].dt.year == 2020])} (NÃO VÃO ENTRAR)\")\n",
    "# novos_casos.drop(index=novos_casos.loc[novos_casos['data_diagnostico'].dt.year == 2020].index, inplace=True)\n",
    "\n",
    "print(f\"CASOS DE 2020 = {len(novos_casos.loc[novos_casos['data_diagnostico'].dt.year == 2020])}\")\n",
    "print(f\"CASOS DE 2021 = {len(novos_casos.loc[novos_casos['data_diagnostico'].dt.year == 2021])}\")\n",
    "print(f\"CASOS DE 2022 = {len(novos_casos.loc[novos_casos['data_diagnostico'].dt.year == 2022])}\")\n",
    "\n",
    "novos_casos.shape\n",
    "\n",
    "novos_casos[['id','data_diagnostico']].groupby('data_diagnostico').count().plot()"
   ]
  },
  {
   "cell_type": "code",
   "execution_count": null,
   "metadata": {},
   "outputs": [],
   "source": [
    "# raise"
   ]
  },
  {
   "cell_type": "code",
   "execution_count": null,
   "metadata": {},
   "outputs": [],
   "source": [
    "dias_apos = [1,2,3,7,14,21,30,60,90]\n",
    "dias_apos_label = ['hoje','24 horas','48 horas', '72 horas', '7 dias', '14 dias', '21 dias', '30 dias', '60 dias', '90 dias']"
   ]
  },
  {
   "cell_type": "code",
   "execution_count": null,
   "metadata": {},
   "outputs": [],
   "source": [
    "novos_casos['dias_apos_diagnostico'] = (today - novos_casos['data_diagnostico']).dt.days\n",
    "novos_casos['periodo_diagnostico'] = [ x for x in np.digitize(novos_casos['dias_apos_diagnostico'],dias_apos,right=False)]\n",
    "periodo_novos_casos = novos_casos[['id','periodo_diagnostico']].groupby('periodo_diagnostico').count().rename(columns={'id':'qtde'})\n",
    "periodo_novos_casos['periodo'] = [ dias_apos_label[x] for x in periodo_novos_casos.index ]\n",
    "periodo_novos_casos[['periodo','qtde']]"
   ]
  },
  {
   "cell_type": "markdown",
   "metadata": {},
   "source": [
    "## 6. Geração dos novos ÓBITOS"
   ]
  },
  {
   "cell_type": "code",
   "execution_count": null,
   "metadata": {
    "execution": {
     "iopub.execute_input": "2021-12-20T13:55:57.046756Z",
     "iopub.status.busy": "2021-12-20T13:55:57.046756Z",
     "iopub.status.idle": "2021-12-20T13:56:00.323342Z",
     "shell.execute_reply": "2021-12-20T13:56:00.323342Z",
     "shell.execute_reply.started": "2021-12-20T13:55:57.046756Z"
    },
    "tags": []
   },
   "outputs": [],
   "source": [
    "obitos_notifica = notifica.df.loc[(notifica.df['evolucao']==2)]\n",
    "obitos_casos = cc.df.loc[(cc.df['evolucao']==2)]\n",
    "\n",
    "novos_obitos = obitos_notifica.loc[~(\n",
    "    (obitos_notifica['id'].isin(obitos_casos['id_notifica']))\n",
    ")].copy()\n",
    "\n",
    "# print('novos obitos ',len(novos_obitos))\n",
    "novos_obitos.to_excel(join(default_output,'correcoes','qualificar_esses_obitos.xlsx'))\n",
    "print('obitos_sem_data_cura_obito ',len(novos_obitos.loc[novos_obitos['data_cura_obito'].isna()]))\n",
    "\n",
    "novos_obitos.loc[novos_obitos['data_cura_obito'].isna()].to_excel(join(default_output,'correcoes','obitos_sem_data_cura_obito.xlsx'))\n",
    "novos_obitos = novos_obitos.loc[novos_obitos['data_cura_obito'].notna()]\n",
    "\n",
    "\n",
    "novos_obitos = novos_obitos.loc[novos_obitos['id'].isin(cc.df['id_notifica'].tolist() + novos_casos['id'].tolist())]\n",
    "\n",
    "# print(len(novos_obitos))\n",
    "\n",
    "novos_obitos = novos_obitos.sort_values(['paciente'])\n",
    "novos_obitos['data_com_evolucao'] = hoje\n",
    "\n",
    "\n",
    "\n",
    "## Descomentar essas células quando precisa limitar a divulgação de óbitos novos diário, \n",
    "## solicitado pela chefia imediata.\n",
    "# novos_obitos = novos_obitos.loc[novos_obitos['data_cura_obito'] >= pd.to_datetime('2021-01-01')]\n",
    "# novos_obitos = novos_obitos.sample(frac=0.5,weights=novos_obitos.groupby('data_cura_obito')['data_cura_obito'].transform('count'))\n",
    "\n",
    "\n",
    "\n",
    "novos_obitos = novos_obitos.drop_duplicates('id', keep='last')\n",
    "\n",
    "print('novos obitos = ', len(novos_obitos))\n",
    "\n",
    "novos_obitos[['id','data_cura_obito']].groupby('data_cura_obito').count().plot()"
   ]
  },
  {
   "cell_type": "code",
   "execution_count": null,
   "metadata": {
    "execution": {
     "iopub.execute_input": "2021-12-20T13:56:00.323342Z",
     "iopub.status.busy": "2021-12-20T13:56:00.323342Z",
     "iopub.status.idle": "2021-12-20T13:56:00.338955Z",
     "shell.execute_reply": "2021-12-20T13:56:00.338955Z",
     "shell.execute_reply.started": "2021-12-20T13:56:00.323342Z"
    }
   },
   "outputs": [],
   "source": [
    "# factor_day = float(0.18 + (hoje.day / 1000) + 0.022)\n",
    "factor_day = 0.5\n",
    "print(factor_day)"
   ]
  },
  {
   "cell_type": "code",
   "execution_count": null,
   "metadata": {
    "execution": {
     "iopub.execute_input": "2021-12-20T13:56:00.338955Z",
     "iopub.status.busy": "2021-12-20T13:56:00.338955Z",
     "iopub.status.idle": "2021-12-20T13:56:00.669390Z",
     "shell.execute_reply": "2021-12-20T13:56:00.669390Z",
     "shell.execute_reply.started": "2021-12-20T13:56:00.338955Z"
    },
    "tags": []
   },
   "outputs": [],
   "source": [
    "novos_casos_obitos = novos_casos.loc[novos_casos['id'].isin(novos_obitos['id'])]\n",
    "novos_casos = novos_casos.loc[~novos_casos['id'].isin(novos_obitos['id'])]\n",
    "\n",
    "\n",
    "# if ((hoje.day_name() == 'Saturday') or (hoje.day_name() == 'Sunday')):\n",
    "#     novos_casos = novos_casos.loc[novos_casos['data_diagnostico']>pd.to_datetime('2021-01-01')]\n",
    "#     novos_casos = novos_casos.sample(frac=factor_wkns,weights=novos_casos.groupby('data_diagnostico')['data_diagnostico'].transform('count'))\n",
    "# else:\n",
    "#     novos_casos = novos_casos.sample(frac=factor_day,weights=novos_casos.groupby('data_diagnostico')['data_diagnostico'].transform('count'))\n",
    "\n",
    "# novos_casos = novos_casos.loc[novos_casos['data_diagnostico'] >= pd.to_datetime('2021-01-01')]\n",
    "\n",
    "novos_casos_ate_7_dias = novos_casos.loc[novos_casos['periodo_diagnostico'] <= 4 ]\n",
    "novos_casos = novos_casos.loc[~novos_casos['id'].isin(novos_casos_ate_7_dias['id'])]\n",
    "print(novos_casos_ate_7_dias.shape)\n",
    "\n",
    "\n",
    "\n",
    "## Descomentar essa célula quando precisa limitar a divulgação de casos novos diário, \n",
    "## solicitado pela chefia imediata.\n",
    "# novos_casos = novos_casos.sample(frac=factor_day,weights=novos_casos.groupby('data_diagnostico')['data_diagnostico'].transform('count'))\n",
    "\n",
    "print(novos_casos.shape)\n",
    "\n",
    "novos_casos = novos_casos.append(novos_casos_obitos).append(novos_casos_ate_7_dias)\n",
    "\n",
    "novos_casos = novos_casos.drop_duplicates('id', keep='last')\n",
    "\n",
    "novos_casos[['id','data_diagnostico']].groupby('data_diagnostico').count().plot()"
   ]
  },
  {
   "cell_type": "code",
   "execution_count": null,
   "metadata": {
    "execution": {
     "iopub.execute_input": "2021-12-20T13:56:00.669390Z",
     "iopub.status.busy": "2021-12-20T13:56:00.669390Z",
     "iopub.status.idle": "2021-12-20T13:56:00.684962Z",
     "shell.execute_reply": "2021-12-20T13:56:00.684962Z",
     "shell.execute_reply.started": "2021-12-20T13:56:00.669390Z"
    },
    "tags": []
   },
   "outputs": [],
   "source": [
    "novos_casos.shape"
   ]
  },
  {
   "cell_type": "markdown",
   "metadata": {},
   "source": [
    "## 7. Geração dos novos RECUPERADOS"
   ]
  },
  {
   "cell_type": "code",
   "execution_count": null,
   "metadata": {
    "execution": {
     "iopub.execute_input": "2021-12-20T13:56:00.684962Z",
     "iopub.status.busy": "2021-12-20T13:56:00.684962Z",
     "iopub.status.idle": "2021-12-20T13:56:04.248570Z",
     "shell.execute_reply": "2021-12-20T13:56:04.248570Z",
     "shell.execute_reply.started": "2021-12-20T13:56:00.684962Z"
    },
    "tags": []
   },
   "outputs": [],
   "source": [
    "recuperados_notifica = notifica.df.loc[(notifica.df['evolucao']==1)]\n",
    "recuperados_casos = cc.df.loc[(cc.df['evolucao'].isin([1,2]))]\n",
    "\n",
    "novos_recuperados = recuperados_notifica.loc[~(\n",
    "    (recuperados_notifica['id'].isin(recuperados_casos['id_notifica']))\n",
    ")].copy()\n",
    "\n",
    "\n",
    "novos_recuperados = novos_recuperados.loc[novos_recuperados['data_cura_obito'].notna()]\n",
    "\n",
    "novos_recuperados = novos_recuperados.loc[novos_recuperados['id'].isin(cc.df['id_notifica'].tolist() + novos_casos['id'].tolist())]\n",
    "\n",
    "novos_recuperados = novos_recuperados.sort_values(['paciente'])\n",
    "novos_recuperados['data_com_evolucao'] = hoje\n",
    "\n",
    "novos_recuperados = novos_recuperados.loc[~novos_recuperados['id'].isin(cc.df.loc[(cc.df['evolucao']==2),'id_notifica'])]\n",
    "\n",
    "print(len(novos_recuperados))\n",
    "novos_recuperados[['id','data_cura_obito']].groupby('data_cura_obito').count().plot()"
   ]
  },
  {
   "cell_type": "code",
   "execution_count": null,
   "metadata": {
    "execution": {
     "iopub.execute_input": "2021-12-20T13:56:04.248570Z",
     "iopub.status.busy": "2021-12-20T13:56:04.248570Z",
     "iopub.status.idle": "2021-12-20T13:56:04.264216Z",
     "shell.execute_reply": "2021-12-20T13:56:04.264216Z",
     "shell.execute_reply.started": "2021-12-20T13:56:04.248570Z"
    },
    "tags": []
   },
   "outputs": [],
   "source": [
    "# GERAÇÃO DOS RECUPERADOS AUTOMÁTICOS\n",
    "\n",
    "novos_recuperados_automatico = pd.DataFrame()\n",
    "limit_day_active = pd.to_datetime(today - timedelta(60))\n",
    "novos_recuperados_automatico = cc.df.loc[(cc.df['id_notifica'] > 0) & ~(cc.df['id_notifica'].isin(novos_obitos['id'])) & (cc.df['data_diagnostico'] < limit_day_active) & (cc.df['evolucao'] == 3) & ~(cc.df['id_notifica'].isin(novos_recuperados['id']))].copy()\n",
    "novos_recuperados_automatico[['evolucao', 'tipo_encerramento', 'data_cura_obito', 'data_com_evolucao']] = (1, 'E3', hoje, hoje)\n",
    "novos_recuperados_automatico.shape"
   ]
  },
  {
   "cell_type": "markdown",
   "metadata": {},
   "source": [
    "## 8. Geração do Relatório e Log de Modificação"
   ]
  },
  {
   "cell_type": "code",
   "execution_count": null,
   "metadata": {
    "execution": {
     "iopub.execute_input": "2021-12-20T13:56:04.264216Z",
     "iopub.status.busy": "2021-12-20T13:56:04.264216Z",
     "iopub.status.idle": "2021-12-20T13:56:06.970339Z",
     "shell.execute_reply": "2021-12-20T13:56:06.970339Z",
     "shell.execute_reply.started": "2021-12-20T13:56:04.264216Z"
    },
    "tags": []
   },
   "outputs": [],
   "source": [
    "# GERA ARQUIVO DE ALTERAÇÕES FEITAS\n",
    "writer = pd.ExcelWriter(join(default_output,'relatorios', f\"alteracoes_{today.strftime('%d_%m_%Y')}.xlsx\"),\n",
    "                    engine='xlsxwriter',\n",
    "                    datetime_format='dd/mm/yyyy',\n",
    "                    date_format='dd/mm/yyyy')\n",
    "\n",
    "if len(novos_casos) != 0: novos_casos.to_excel(writer,'novos_casos')\n",
    "if len(novos_obitos) != 0: novos_obitos.to_excel(writer,'novos_obitos')\n",
    "if len(novos_recuperados) != 0: novos_recuperados.to_excel(writer,'novos_recuperados')\n",
    "if len(novos_recuperados_automatico) != 0: novos_recuperados_automatico.to_excel(writer,'novos_recuperados_automatico')\n",
    "if len(diff_ibge) != 0: diff_ibge.to_excel(writer,'alteracao_municipio')\n",
    "if len(exclusoes_casos) != 0: exclusoes_casos.to_excel(writer,'exclusoes_casos') ## excluiu independente da evolução\n",
    "if len(exclusoes_obito) != 0: exclusoes_obito.to_excel(writer,'exclusoes_obitos') ## mudou evolução apenas, manteve o caso\n",
    "\n",
    "writer.save()\n",
    "writer.close()"
   ]
  },
  {
   "cell_type": "code",
   "execution_count": null,
   "metadata": {
    "execution": {
     "iopub.execute_input": "2021-12-20T13:56:06.970339Z",
     "iopub.status.busy": "2021-12-20T13:56:06.970339Z",
     "iopub.status.idle": "2021-12-20T13:56:27.572396Z",
     "shell.execute_reply": "2021-12-20T13:56:27.572396Z",
     "shell.execute_reply.started": "2021-12-20T13:56:06.970339Z"
    },
    "tags": []
   },
   "outputs": [],
   "source": [
    "casos_confirmados = pd.merge(cc.df.rename(columns={'ibge_residencia':'ibge'}),municipios,how='left',on='ibge').rename(columns={'ibge':'ibge_residencia'}).copy()\n",
    "date_parser = lambda x: x\n",
    "relatorio_file = join(default_output,'relatorios',f\"relatorio_{(datetime.today().strftime('%d/%m/%Y_%Hh').replace('/','_').replace(' ',''))}.txt\")\n",
    "relatorio_file"
   ]
  },
  {
   "cell_type": "markdown",
   "metadata": {},
   "source": []
  },
  {
   "cell_type": "code",
   "execution_count": null,
   "metadata": {
    "execution": {
     "iopub.execute_input": "2021-12-20T13:56:27.572396Z",
     "iopub.status.busy": "2021-12-20T13:56:27.572396Z",
     "iopub.status.idle": "2021-12-20T13:56:29.182269Z",
     "shell.execute_reply": "2021-12-20T13:56:29.182269Z",
     "shell.execute_reply.started": "2021-12-20T13:56:27.572396Z"
    },
    "tags": []
   },
   "outputs": [],
   "source": [
    "casos_confirmadosPR = casos_confirmados.loc[casos_confirmados['rs']!=99]\n",
    "\n",
    "obitos_confirmados =  casos_confirmados.loc[casos_confirmados['evolucao']==2]\n",
    "\n",
    "obitos_confirmadosPR = obitos_confirmados.loc[obitos_confirmados['rs']!=99]\n",
    "\n",
    "print(f\"Total de casos: {len(casos_confirmados)} + {len(novos_casos)}\")\n",
    "print(f\"Total de óbitos: {len(obitos_confirmados)} + {len(novos_obitos)}\\n\\n\")\n",
    "\n",
    "novos_casosPR = novos_casos.loc[novos_casos['rs']!=99].copy()\n",
    "print(f\"Total de casos PR: {len(casos_confirmadosPR)} + {len(novos_casosPR)}\")\n",
    "\n",
    "novos_obitosPR = novos_obitos.loc[novos_obitos['rs']!=99].copy()\n",
    "print(f\"Total de óbitos PR: {len(obitos_confirmadosPR)} + {len(novos_obitosPR)}\")\n",
    "\n",
    "novos_casosFora = novos_casos.loc[novos_casos['rs']==99].copy()\n",
    "print(f\"Total de casos Fora: {len(casos_confirmados) - len(casos_confirmadosPR)} + {len(novos_casosFora)}\")\n",
    "\n",
    "novos_obitosFora = novos_obitos.loc[novos_obitos['rs']==99].copy()\n",
    "print(f\"Total de óbitos Fora: {len(obitos_confirmados) - len(obitos_confirmadosPR)} + {len(novos_obitosFora)}\")\n",
    "\n",
    "\n",
    "novos_casosPR_group = novos_casosPR[['id','municipio']].groupby(by='municipio').count().rename(columns={'id':'qtde'}).reset_index().sort_values(['qtde','municipio'],ascending=False)\n",
    "novos_obitosPR_group = novos_obitosPR[['id','municipio']].groupby(by='municipio').count().rename(columns={'id':'qtde'}).reset_index().sort_values(['qtde','municipio'],ascending=False)\n",
    "\n",
    "data_retroativos = ontem - timedelta(31)\n",
    "\n",
    "retroativos = novos_casosPR.loc[(novos_casosPR['data_diagnostico'].apply(date_parser) <= data_retroativos)].sort_values(by='data_diagnostico')\n",
    "last2weeks = novos_casosPR.loc[(novos_casosPR['data_diagnostico'].apply(date_parser) > data_retroativos) & (novos_casosPR['data_diagnostico'].apply(date_parser) <= anteontem)].sort_values(by='data_diagnostico')\n",
    "casos_hoje = novos_casosPR.loc[(novos_casosPR['data_diagnostico'].apply(date_parser) > anteontem)].sort_values(by='data_diagnostico')\n",
    "\n",
    "obitos_retroativos = novos_obitosPR.loc[(novos_obitosPR['data_cura_obito'].apply(date_parser) <= data_retroativos)].sort_values(by='data_cura_obito')\n",
    "obitos_last2weeks = novos_obitosPR.loc[(novos_obitosPR['data_cura_obito'].apply(date_parser) > data_retroativos) & (novos_obitosPR['data_cura_obito'].apply(date_parser) <= anteontem)].sort_values(by='data_cura_obito')\n",
    "obitos_hoje = novos_obitosPR.loc[(novos_obitosPR['data_cura_obito'].apply(date_parser) > anteontem)].sort_values(by='data_cura_obito')\n",
    "\n",
    "with codecs.open(relatorio_file,\"w\",\"utf-8-sig\") as relatorio:\n",
    "    relatorio.write(f\"{today.strftime('%d/%m/%Y')}\\n\")\n",
    "    relatorio.write(f\"{len(novos_casosPR):,} novos casos residentes \".replace(',','.'))\n",
    "\n",
    "    if len(novos_casosFora) > 0:\n",
    "        relatorio.write(f\"e {len(novos_casosFora):,} não residente{'s' if len(novos_casosFora) > 1 else ''} \".replace(',','.'))\n",
    "    relatorio.write(f\"divulgados no PR.\\n\")\n",
    "\n",
    "    # for mun, df in novos_casosPR_group.iterrows():\n",
    "    #     relatorio.write(f\"{df['qtde']:,} {df['municipio']}\\n\".replace(',','.'))\n",
    "\n",
    "    relatorio.write(f\"{len(casos_confirmadosPR)+len(novos_casosPR):,} casos confirmados residentes do PR.\\n\".replace(',','.'))\n",
    "    relatorio.write(f\"{len(casos_confirmados)+len(novos_casos):,} total geral.\\n\\n\".replace(',','.'))\n",
    "\n",
    "    relatorio.write(f\"{len(novos_obitosPR):,} Óbito{'s' if len(novos_obitosPR) > 1 else ''} residente{'s' if len(novos_obitosPR) > 1 else ''} do PR:\\n\".replace(',','.'))\n",
    "\n",
    "    for mun, df in novos_obitosPR_group.iterrows():\n",
    "        relatorio.write(f\"{df['qtde']:,} {df['municipio']}\\n\".replace(',','.'))\n",
    "\n",
    "    if len(novos_obitosFora) > 0:\n",
    "        relatorio.write('\\n')\n",
    "        relatorio.write(f\"{len(novos_obitosFora):,} Óbito{'s' if len(novos_obitosFora) > 1 else ''} não residente{'s' if len(novos_obitosFora) > 1 else ''} do PR.\\n\".replace(',','.'))\n",
    "\n",
    "    relatorio.write('\\n')\n",
    "    relatorio.write(f\"{len(obitos_confirmadosPR)+len(novos_obitosPR):,} óbitos residentes do PR.\\n\".replace(',','.'))\n",
    "    relatorio.write(f\"{len(obitos_confirmados)+len(novos_obitos):,} total geral.\\n\\n\".replace(',','.'))\n",
    "\n",
    "\n",
    "#RELATÓRIO DE EXCLUSÕES\n",
    "    relatorio.write(f\"*Relatório de Exclusões:*\\n\")\n",
    "    try:\n",
    "        if len(relatorio_exclusao) > 0:\n",
    "            relatorio.write(f\"{len(exclusoes_casos)} caso{'s' if len(exclusoes_casos) > 1 else ''} \")\n",
    "            if (len(exclusoes_obito) > 0):\n",
    "                 relatorio.write(f\"e {len(exclusoes_obito)} óbito{'s' if len(exclusoes_obito) > 1 else ''} \")\n",
    "\n",
    "            relatorio.write(f\"{'foram' if (len(exclusoes_casos) + len(exclusoes_obito)) > 1 else 'foi'} excluído{'s' if (len(exclusoes_casos) + len(exclusoes_obito)) > 1 else ''}.\\n\")\n",
    "\n",
    "            if (len(exclu_casos_fora) > 0):\n",
    "                relatorio.write(f\"Desse quantitativo, \")\n",
    "                relatorio.write(f\"{len(exclu_casos_fora)} caso{'s' if len(exclu_casos_fora) > 1 else ''} \")\n",
    "                if (len(exclu_obitos_fora) > 0):\n",
    "                     relatorio.write(f\"e {len(exclu_obitos_fora)} óbito{'s' if len(exclu_obitos_fora) > 1 else ''} \")\n",
    "\n",
    "                relatorio.write(f\"{'são' if (len(exclu_casos_fora) + len(exclu_obitos_fora)) > 1 else 'é'} de Fora do Paraná.\\n\")                \n",
    "\n",
    "            relatorio.write('\\n')\n",
    "            for row in relatorio_exclusao:\n",
    "                relatorio.write(row+'\\n')\n",
    "            relatorio.write('\\n')\n",
    "    except:\n",
    "        relatorio.write(f\"Nenhuma exclusão foi feita até o momento da publicação deste relatório.\\n\\n\")\n",
    "\n",
    "    \n",
    "\n",
    "#RELATÓRIO DE ALTERAÇÃO DE MUNICÍPIO \n",
    "    relatorio.write(f\"*Relatório de Correções de Municípios:*\\n\")\n",
    "    if len(relatorio_alteracao) > 0:  \n",
    "        diff_ibge_obito = diff_ibge.loc[diff_ibge['evolucao_old']==2]\n",
    "        \n",
    "        relatorio.write(f\"{len(diff_ibge)} caso{'s' if len(diff_ibge) > 1 else ''} \")\n",
    "        if (len(diff_ibge_obito) > 0):\n",
    "            relatorio.write(f\"e {len(diff_ibge_obito)} óbito{'s' if len(diff_ibge_obito) > 1 else ''} \")\n",
    "        \n",
    "        relatorio.write(f\"{'foram' if (len(diff_ibge) + len(diff_ibge_obito)) > 1 else 'foi'} corrigido{'s' if (len(diff_ibge) + len(diff_ibge_obito)) > 1 else ''}.\\n\")\n",
    "            \n",
    "        \n",
    "        pr_pr = diff_ibge.loc[(diff_ibge['uf_old']=='PR')&(diff_ibge['uf_new']=='PR')]\n",
    "        pr_pr_obitos = pr_pr.loc[(pr_pr['evolucao_old']==2)]\n",
    "        \n",
    "        pr_fora = diff_ibge.loc[(diff_ibge['uf_old']=='PR')&(diff_ibge['uf_new']!='PR')]\n",
    "        pr_fora_obitos = pr_fora.loc[(pr_fora['evolucao_old']==2)]\n",
    "        \n",
    "        fora_pr = diff_ibge.loc[(diff_ibge['uf_old']!='PR')&(diff_ibge['uf_new']=='PR')]\n",
    "        fora_pr_obitos = fora_pr.loc[(fora_pr['evolucao_old']==2)]\n",
    "        \n",
    "        fora_fora = diff_ibge.loc[(diff_ibge['uf_old']!='PR')&(diff_ibge['uf_new']!='PR')]\n",
    "        fora_fora_obitos = fora_fora.loc[(fora_fora['evolucao_old']==2)]\n",
    "        \n",
    "        if (len(pr_pr) > 0):\n",
    "            relatorio.write(f\"{len(pr_pr)} caso{'s' if len(pr_pr) > 1 else ''} \")\n",
    "            if (len(pr_pr_obitos) > 0):\n",
    "                relatorio.write(f\"e {len(pr_pr_obitos)} óbito{'s' if len(pr_pr_obitos) > 1 else ''} residente{'s' if (len(pr_pr) + len(pr_pr_obitos)) > 1 else ''} alterado{'s' if (len(pr_pr) + len(pr_pr_obitos)) > 1 else ''} entre municípios do Paraná.\\n\")\n",
    "            else:\n",
    "                relatorio.write(f\"residente{'s' if (len(pr_pr) + len(pr_pr_obitos)) > 1 else ''} alterado{'s' if (len(pr_pr) + len(pr_pr_obitos)) > 1 else ''} entre municípios do Paraná.\\n\")\n",
    "        \n",
    "        \n",
    "        if (len(pr_fora) > 0):\n",
    "            relatorio.write(f\"{len(pr_fora)} caso{'s' if len(pr_fora) > 1 else ''} \")\n",
    "            if (len(pr_fora_obitos) > 0):\n",
    "                relatorio.write(f\"e {len(pr_fora_obitos)} óbito{'s' if len(pr_fora_obitos) > 1 else ''} residente{'s' if (len(pr_fora) + len(pr_fora_obitos)) > 1 else ''} do Paraná alterado{'s' if (len(pr_fora) + len(pr_fora_obitos)) > 1 else ''} para Fora do Estado.\\n\")\n",
    "            else:\n",
    "                relatorio.write(f\"residente{'s' if (len(pr_fora) + len(pr_fora_obitos)) > 1 else ''} do Paraná alterado{'s' if (len(pr_fora) + len(pr_fora_obitos)) > 1 else ''} para Fora do Estado.\\n\")\n",
    "        \n",
    "        \n",
    "        if (len(fora_pr) > 0):\n",
    "            relatorio.write(f\"{len(fora_pr)} caso{'s' if len(fora_pr) > 1 else ''} \")\n",
    "            if (len(fora_pr_obitos) > 0):\n",
    "                relatorio.write(f\"e {len(fora_pr_obitos)} óbito{'s' if len(fora_pr_obitos) > 1 else ''} residente{'s' if (len(fora_pr) + len(fora_pr_obitos)) > 1 else ''} de Fora do Estado alterado{'s' if (len(fora_pr) + len(fora_pr_obitos)) > 1 else ''} para o Paraná.\\n\")\n",
    "            else:\n",
    "                relatorio.write(f\"residente{'s' if (len(fora_pr) + len(fora_pr_obitos)) > 1 else ''} de Fora do Estado alterado{'s' if (len(fora_pr) + len(fora_pr_obitos)) > 1 else ''} para o Paraná.\\n\")\n",
    "                \n",
    "        \n",
    "        if (len(fora_fora) > 0):\n",
    "            relatorio.write(f\"{len(fora_fora)} caso{'s' if len(fora_fora) > 1 else ''} \")\n",
    "            if (len(fora_fora_obitos) > 0):\n",
    "                relatorio.write(f\"e {len(fora_fora_obitos)} óbito{'s' if len(fora_fora_obitos) > 1 else ''} residente{'s' if (len(fora_fora) + len(fora_fora_obitos)) > 1 else ''} de Fora do Estado alterado{'s' if (len(fora_fora) + len(fora_fora_obitos)) > 1 else ''} entre si.\\n\")\n",
    "            else:\n",
    "                relatorio.write(f\"residente{'s' if (len(fora_fora) + len(fora_fora_obitos)) > 1 else ''} de Fora do Estado alterado{'s' if (len(fora_fora) + len(fora_fora_obitos)) > 1 else ''} entre si.\\n\")\n",
    "        \n",
    "        relatorio.write('\\n')               \n",
    "        for row in relatorio_alteracao:\n",
    "            relatorio.write(row+'\\n')\n",
    "        relatorio.write('\\n')\n",
    "    \n",
    "    else:\n",
    "        relatorio.write(f\"Nenhuma correção de município foi feita até o momento da publicação deste relatório.\\n\\n\")\n",
    "\n",
    "        \n",
    "            \n",
    "    for _, row in novos_obitos.iterrows():\n",
    "       relatorio.write(f\"{row['sexo']}\\t{int(row['idade'])}\\t{row['municipio'] if row['rs']!=99 else (row['municipio']+'/'+row['uf'])}\\t{str(int(row['rs'])).zfill(2) if row['rs']!=99 else '#N/D'}\\t{row['data_cura_obito'].day}/{static.meses[row['data_cura_obito'].month-1]}/{row['data_cura_obito'].year}\\n\")\n",
    "    relatorio.write('\\n')\n",
    "\n",
    "    if True:\n",
    "        #IMPRESSÃO DOS CASOS\n",
    "        relatorio.write(f\"{len(novos_casosPR):,} novos casos residentes divulgados no PR:\\n\".replace(',','.'))\n",
    "\n",
    "        try:\n",
    "            relatorio.write(f\"{len(retroativos):,} caso{'s' if len(retroativos) > 1 else ''} retroativo{'s' if len(retroativos) > 1 else ''} confirmado{'s' if len(retroativos) > 1 else ''} no período de {retroativos.iloc[0]['data_diagnostico'].strftime('%d/%m/%Y')} à {retroativos.iloc[-1]['data_diagnostico'].strftime('%d/%m/%Y')}.\\n\".replace(',','.'))\n",
    "        except:\n",
    "            relatorio.write(f\"Sem novos casos retroativos.\\n\")\n",
    "        \n",
    "        try:\n",
    "            relatorio.write(f\"{len(last2weeks):,} novo{'s' if len(last2weeks) > 1 else ''} caso{'s' if len(last2weeks) > 1 else ''} confirmado{'s' if len(last2weeks) > 1 else ''} no período de {last2weeks.iloc[0]['data_diagnostico'].strftime('%d/%m/%Y')} à {last2weeks.iloc[-1]['data_diagnostico'].strftime('%d/%m/%Y')}.\\n\".replace(',','.'))\n",
    "        except:\n",
    "            relatorio.write(f\"Sem novos casos ocorridos entre {(data_retroativos - timedelta(1)).strftime('%d/%m/%Y')} e {ontem.strftime('%d/%m/%Y')}.\\n\")\n",
    "        \n",
    "        try:\n",
    "            relatorio.write(f\"{len(casos_hoje):,} novo{'s' if len(casos_hoje) > 1 else ''} caso{'s' if len(casos_hoje) > 1 else ''} confirmado{'s' if len(casos_hoje) > 1 else ''} nas últimas 24 horas.\\n\".replace(',','.'))\n",
    "        except:\n",
    "            relatorio.write(f\"Sem novos casos ocorridos nas últimas 24 horas.\\n\")\n",
    "        \n",
    "        relatorio.write('\\n')\n",
    "        \n",
    "        #casos por mês e dia\n",
    "        try:\n",
    "            novos_casosPR['month'] = novos_casosPR.apply(lambda x: x['data_diagnostico'].month, axis=1)\n",
    "            novos_casosPR['year'] = novos_casosPR.apply(lambda x: x['data_diagnostico'].year, axis=1)\n",
    "            relatorio.write('Novos casos por meses:\\n')\n",
    "            for group, value in novos_casosPR.groupby(by=['year','month']):\n",
    "                relatorio.write(f\"{static.meses[int(group[1])-1]}/{group[0]}: {len(value)}\\n\")\n",
    "            relatorio.write('\\n')\n",
    "\n",
    "            relatorio.write('Novos casos por dia:\\n')\n",
    "            for group, value in novos_casosPR.groupby(by='data_diagnostico'):\n",
    "                relatorio.write(f\"{group.strftime('%d/%m/%Y')}\\t{len(value)}\\n\")\n",
    "            relatorio.write('\\n')\n",
    "        except:\n",
    "            pass\n",
    "        \n",
    "        \n",
    "        \n",
    "        #IMPRESSÃO DOS ÓBITOS\n",
    "        relatorio.write(f\"{len(novos_obitosPR):,} novos óbitos residentes divulgados no PR:\\n\".replace(',','.'))\n",
    "\n",
    "        try:\n",
    "            relatorio.write(f\"{len(obitos_retroativos):,} óbito{'s' if len(obitos_retroativos) > 1 else ''} retroativo{'s' if len(obitos_retroativos) > 1 else ''} ocorrido{'s' if len(obitos_retroativos) > 1 else ''} no período de {obitos_retroativos.iloc[0]['data_cura_obito'].strftime('%d/%m/%Y')} à {obitos_retroativos.iloc[-1]['data_cura_obito'].strftime('%d/%m/%Y')}.\\n\".replace(',','.'))\n",
    "        except:\n",
    "            relatorio.write(f\"Sem novos óbitos retroativos.\\n\")\n",
    "        \n",
    "        if len(obitos_last2weeks) > 0:\n",
    "            relatorio.write(f\"{len(obitos_last2weeks):,} novo{'s' if len(obitos_last2weeks) > 1 else ''} óbito{'s' if len(obitos_last2weeks) > 1 else ''} ocorrido{'s' if len(obitos_last2weeks) > 1 else ''} entre {obitos_last2weeks.iloc[0]['data_cura_obito'].strftime('%d/%m/%Y')} à {obitos_last2weeks.iloc[-1]['data_cura_obito'].strftime('%d/%m/%Y')}.\\n\".replace(',','.'))\n",
    "        else:\n",
    "            relatorio.write(f\"Sem novos óbitos ocorridos entre {(data_retroativos - timedelta(1)).strftime('%d/%m/%Y')} e {ontem.strftime('%d/%m/%Y')}.\\n\")\n",
    "        \n",
    "        if len(obitos_hoje) > 0:\n",
    "            relatorio.write(f\"{len(obitos_hoje):,} novo{'s' if len(obitos_hoje) > 1 else ''} óbito{'s' if len(obitos_hoje) > 1 else ''} ocorrido{'s' if len(obitos_hoje) > 1 else ''} nas últimas 24 horas.\\n\".replace(',','.'))\n",
    "        else:\n",
    "            relatorio.write(f\"Sem novos óbitos ocorridos nas últimas 24 horas.\\n\")\n",
    "        \n",
    "        relatorio.write('\\n')\n",
    "        \n",
    "        #óbitos por mês e dia\n",
    "        try:\n",
    "            relatorio.write('Novos óbitos por meses:\\n')\n",
    "            novos_obitosPR['month'] = novos_obitosPR.apply(lambda x: x['data_cura_obito'].month, axis=1)\n",
    "            novos_obitosPR['year'] = novos_obitosPR.apply(lambda x: x['data_cura_obito'].year, axis=1)\n",
    "            for group, value in novos_obitosPR.groupby(by=['year','month']):\n",
    "                relatorio.write(f\"{static.meses[int(group[1])-1]}/{group[0]}: {len(value)}\\n\")\n",
    "            relatorio.write('\\n')\n",
    "\n",
    "            relatorio.write('Novos óbitos por dia:\\n')\n",
    "            for group, value in novos_obitosPR.groupby(by='data_cura_obito'):\n",
    "                relatorio.write(f\"{group.strftime('%d/%m/%Y')}\\t{len(value)}\\n\")\n",
    "            relatorio.write('\\n')\n",
    "        except:\n",
    "            pass\n",
    "        \n",
    "        #--------------RELATÓRIO DA COMUNICAÇÃO--------------\n",
    "        obitos_list = []\n",
    "        munic = []\n",
    "        for municipio, obitos in novos_obitosPR_group.iterrows():\n",
    "            obito = obitos['qtde']\n",
    "            obitos_list.append(obito)\n",
    "            munic.append(obitos['municipio'])             \n",
    "\n",
    "        dicionario = (dict(zip(list(munic),list(obitos_list))))\n",
    "        #print(dicionario)\n",
    "        dicionario = sorted(dicionario.items(),key=lambda x: x[1], reverse = True)\n",
    "        #print(dicionario)\n",
    "\n",
    "\n",
    "        relatorio.write(f\"\\nOs pacientes que foram a óbito residiam em: \")\n",
    "        for municip, obit in dict(dicionario).items():\n",
    "            if obit != 1:\n",
    "                relatorio.write(f\"{municip} ({obit})\")\n",
    "                relatorio.write(f\", \")\n",
    "        relatorio.write(f\".\\n\")\n",
    "        relatorio.write(f\"A Sesa registra ainda a morte de uma pessoa que residia em cada um dos seguintes municípios: \")\n",
    "        for municip, obit in dict(dicionario).items():\n",
    "            if obit == 1:\n",
    "                relatorio.write(f\"{municip}\")\n",
    "                relatorio.write(f\", \")\n",
    "        relatorio.write(f\".\\n\")"
   ]
  },
  {
   "cell_type": "code",
   "execution_count": null,
   "metadata": {
    "execution": {
     "iopub.execute_input": "2021-12-20T13:56:29.182269Z",
     "iopub.status.busy": "2021-12-20T13:56:29.182269Z",
     "iopub.status.idle": "2021-12-20T13:56:29.197899Z",
     "shell.execute_reply": "2021-12-20T13:56:29.197899Z",
     "shell.execute_reply.started": "2021-12-20T13:56:29.182269Z"
    },
    "tags": []
   },
   "outputs": [],
   "source": [
    "with codecs.open(relatorio_file,\"r\",\"utf-8-sig\") as relatorio:\n",
    "    print(relatorio.read())"
   ]
  },
  {
   "cell_type": "code",
   "execution_count": null,
   "metadata": {
    "execution": {
     "iopub.execute_input": "2021-12-20T13:56:29.197899Z",
     "iopub.status.busy": "2021-12-20T13:56:29.197899Z",
     "iopub.status.idle": "2021-12-20T13:56:29.213557Z",
     "shell.execute_reply": "2021-12-20T13:56:29.213557Z",
     "shell.execute_reply.started": "2021-12-20T13:56:29.197899Z"
    }
   },
   "outputs": [],
   "source": [
    "# raise"
   ]
  },
  {
   "cell_type": "markdown",
   "metadata": {},
   "source": [
    "## 9. Alterações necessárias no CC e TB Datas"
   ]
  },
  {
   "cell_type": "code",
   "execution_count": null,
   "metadata": {
    "execution": {
     "iopub.execute_input": "2021-12-20T13:56:29.213557Z",
     "iopub.status.busy": "2021-12-20T13:56:29.213557Z",
     "iopub.status.idle": "2021-12-20T13:56:29.401073Z",
     "shell.execute_reply": "2021-12-20T13:56:29.401073Z",
     "shell.execute_reply.started": "2021-12-20T13:56:29.213557Z"
    },
    "tags": []
   },
   "outputs": [],
   "source": [
    "tb_datas = pd.read_excel(join(default_input,'TB_Datas.xlsx'))\n",
    "tb_datas.set_index('Data',inplace=True)\n",
    "tb_datas.loc[today.strftime('%d/%m/%Y'), ['Obitos','Casos']] = (len(novos_obitosPR),len(novos_casosPR))\n",
    "tb_datas['Identificação'] = [ x for x in range(1,len(tb_datas)+1) ]\n",
    "tb_datas = tb_datas.astype(int)\n",
    "tb_datas.reset_index(inplace=True)\n",
    "tb_datas.set_index('Identificação',inplace=True)\n",
    "tb_datas.to_excel(join(default_input,'TB_Datas.xlsx'))\n",
    "display(tb_datas)"
   ]
  },
  {
   "cell_type": "code",
   "execution_count": null,
   "metadata": {
    "execution": {
     "iopub.execute_input": "2021-12-20T13:56:29.401073Z",
     "iopub.status.busy": "2021-12-20T13:56:29.401073Z",
     "iopub.status.idle": "2021-12-20T13:56:31.594776Z",
     "shell.execute_reply": "2021-12-20T13:56:31.594776Z",
     "shell.execute_reply.started": "2021-12-20T13:56:29.401073Z"
    },
    "tags": []
   },
   "outputs": [],
   "source": [
    "# cc.load(compress=True)\n",
    "# cc.fix_dtypes()\n",
    "# cc.hashes()\n",
    "casos_confirmados = cc.df\n",
    "casos_confirmados.set_index('id_notifica',inplace=True)\n",
    "# cc.df.update(diff_ibge[['id_notifica','ibge_residencia_new','uf_new']].rename(columns={'ibge_residencia_new':'ibge_residencia','uf_new':'uf_residencia'}).set_index('id_notifica'))\n",
    "casos_confirmados[['identificacao','evolucao']].groupby('evolucao').count()"
   ]
  },
  {
   "cell_type": "code",
   "execution_count": null,
   "metadata": {
    "execution": {
     "iopub.execute_input": "2021-12-20T13:56:31.594776Z",
     "iopub.status.busy": "2021-12-20T13:56:31.594776Z",
     "iopub.status.idle": "2021-12-20T13:56:33.760842Z",
     "shell.execute_reply": "2021-12-20T13:56:33.760842Z",
     "shell.execute_reply.started": "2021-12-20T13:56:31.594776Z"
    },
    "tags": []
   },
   "outputs": [],
   "source": [
    "novos_casos = novos_casos.rename(columns={\n",
    "    'id':'id_notifica',\n",
    "    'data_com': 'data_comunicacao'\n",
    "})\n",
    "\n",
    "novos_casos['uf_residencia'] = novos_casos['uf']\n",
    "novos_casos['data_com_evolucao'] = pd.NaT\n",
    "novos_casos['acc_merge_notifica'] = None\n",
    "novos_casos['tipo_encerramento'] = None\n",
    "novos_casos['evolucao'] = 3\n",
    "\n",
    "# novos_casos['exame'] = None !! ??\n",
    "\n",
    "# novos_casos.loc[~novos_casos['evolucao'].isin([1,2,3]),'evolucao'] = 3\n",
    "\n",
    "novos_casos['identificacao'] = list(range(casos_confirmados.iloc[-1,0] + 1,casos_confirmados.iloc[-1,0] + 1 + len(novos_casos)))\n",
    "\n",
    "novos_casos.set_index('id_notifica',inplace=True)\n",
    "novos_casos = novos_casos[[ col for col in casos_confirmados.columns if col in novos_casos.columns ]]\n",
    "\n",
    "casos_confirmados = casos_confirmados.append(novos_casos)"
   ]
  },
  {
   "cell_type": "code",
   "execution_count": null,
   "metadata": {
    "execution": {
     "iopub.execute_input": "2021-12-20T13:56:35.638747Z",
     "iopub.status.busy": "2021-12-20T13:56:35.638747Z",
     "iopub.status.idle": "2021-12-20T13:56:36.600481Z",
     "shell.execute_reply": "2021-12-20T13:56:36.600481Z",
     "shell.execute_reply.started": "2021-12-20T13:56:35.638747Z"
    },
    "tags": []
   },
   "outputs": [],
   "source": [
    "novos_obitos = novos_obitos.rename(columns={\n",
    "    'id': 'id_notifica'\n",
    "})\n",
    "\n",
    "novos_obitos['data_com_evolucao'] = pd.to_datetime(date.today())\n",
    "novos_obitos['evolucao'] = 2\n",
    "novos_obitos['uf_residencia'] = novos_obitos['uf']\n",
    "\n",
    "novos_obitos = novos_obitos[['id_notifica','evolucao','data_cura_obito','data_com_evolucao','numero_do']]\n",
    "# novos_obitos = novos_obitos[[ col for col in casos_confirmados.columns if col in novos_obitos.columns ]]\n",
    "\n",
    "novos_obitos['tipo_encerramento'] = 'E1'\n",
    "\n",
    "novos_obitos.set_index('id_notifica',inplace=True)\n",
    "casos_confirmados.update(novos_obitos)\n",
    "\n",
    "# novos_obitos"
   ]
  },
  {
   "cell_type": "code",
   "execution_count": null,
   "metadata": {
    "execution": {
     "iopub.execute_input": "2021-12-20T13:56:36.709887Z",
     "iopub.status.busy": "2021-12-20T13:56:36.709887Z",
     "iopub.status.idle": "2021-12-20T13:56:37.505958Z",
     "shell.execute_reply": "2021-12-20T13:56:37.505958Z",
     "shell.execute_reply.started": "2021-12-20T13:56:36.709887Z"
    },
    "tags": []
   },
   "outputs": [],
   "source": [
    "novos_recuperados = novos_recuperados.rename(columns={\n",
    "    'id': 'id_notifica'\n",
    "})\n",
    "\n",
    "novos_recuperados['data_com_evolucao'] = pd.to_datetime(date.today())\n",
    "novos_recuperados['evolucao'] = 1\n",
    "novos_recuperados['uf_residencia'] = novos_recuperados['uf']\n",
    "novos_recuperados['tipo_encerramento'] = 'E1'\n",
    "\n",
    "novos_recuperados = novos_recuperados[['id_notifica','evolucao','data_cura_obito','data_com_evolucao']]\n",
    "# novos_recuperados = novos_recuperados[[ col for col in casos_confirmados.columns if col in novos_recuperados.columns ]]\n",
    "\n",
    "casos_confirmados.update(novos_recuperados.set_index('id_notifica'))\n",
    "\n",
    "if len(novos_recuperados_automatico) != 0:\n",
    "    novos_recuperados_automatico = novos_recuperados_automatico[['id_notifica','uf_residencia','ibge_residencia','evolucao','data_cura_obito','data_com_evolucao']]\n",
    "    casos_confirmados.update(novos_recuperados_automatico.set_index('id_notifica'))"
   ]
  },
  {
   "cell_type": "markdown",
   "metadata": {},
   "source": [
    "## 10. Processo Final"
   ]
  },
  {
   "cell_type": "code",
   "execution_count": null,
   "metadata": {},
   "outputs": [],
   "source": [
    "cc.df = casos_confirmados.reset_index()"
   ]
  },
  {
   "cell_type": "markdown",
   "metadata": {},
   "source": [
    "### 10.1 Ajustes necessários"
   ]
  },
  {
   "cell_type": "code",
   "execution_count": null,
   "metadata": {},
   "outputs": [],
   "source": [
    "cc.df['reinfeccao'] = cc.df['reinfeccao'].fillna(False)\n",
    "cc.df['reinfeccao_ids'] = cc.df['reinfeccao_ids'].fillna(-1)\n",
    "\n",
    "\n",
    "cc.df.loc[cc.df['sexo'] == 'Masculino', 'sexo'] = 'M'\n",
    "cc.df.loc[cc.df['sexo'] == 'Feminino', 'sexo'] = 'F'\n",
    "cc.df.loc[cc.df['sexo']==1, 'sexo'] = 'M'\n",
    "cc.df.loc[cc.df['sexo']==2, 'sexo'] = 'F'"
   ]
  },
  {
   "cell_type": "code",
   "execution_count": null,
   "metadata": {},
   "outputs": [],
   "source": [
    "cc.df.groupby('sexo')[['id_notifica']].count()"
   ]
  },
  {
   "cell_type": "code",
   "execution_count": null,
   "metadata": {},
   "outputs": [],
   "source": [
    "cc.df.groupby('reinfeccao')[['id_notifica']].count()"
   ]
  },
  {
   "cell_type": "markdown",
   "metadata": {},
   "source": [
    "### 10.2 Atualização de algumas colunas"
   ]
  },
  {
   "cell_type": "code",
   "execution_count": null,
   "metadata": {},
   "outputs": [],
   "source": [
    "# updateable_columns = pd.read_csv(join(default_input, \"updateable_columns.csv\"))\n",
    "updateable_columns = cc.schema.loc[cc.schema['updateable']==1]\n",
    "updateable_columns_list = updateable_columns['column'].to_list()\n",
    "\n",
    "notifica.df.set_index('id', inplace=True)\n",
    "cc.df.set_index('id_notifica', inplace=True)\n",
    "\n",
    "cc.df.update(notifica.df[updateable_columns_list])\n",
    "\n",
    "notifica.df.reset_index(inplace=True)\n",
    "cc.df.reset_index(inplace=True)"
   ]
  },
  {
   "cell_type": "markdown",
   "metadata": {},
   "source": [
    "### 10.3 Normalizar valores e cálculo de hashes"
   ]
  },
  {
   "cell_type": "code",
   "execution_count": null,
   "metadata": {},
   "outputs": [],
   "source": [
    "cc.fix_dtypes()\n",
    "cc.normalize()\n",
    "cc.hashes()"
   ]
  },
  {
   "cell_type": "markdown",
   "metadata": {},
   "source": [
    "### 10.4 Métricas de avaliações finais"
   ]
  },
  {
   "cell_type": "code",
   "execution_count": null,
   "metadata": {},
   "outputs": [],
   "source": [
    "print(cc.df.shape)\n",
    "# casos_confirmados[['identificacao','evolucao']].groupby('evolucao').count()\n",
    "cc.df.groupby(['evolucao'])[['identificacao']].count()"
   ]
  },
  {
   "cell_type": "markdown",
   "metadata": {},
   "source": [
    "### 10.5 Salva a base de dados de hoje"
   ]
  },
  {
   "cell_type": "code",
   "execution_count": null,
   "metadata": {
    "execution": {
     "iopub.execute_input": "2021-12-20T13:56:37.505958Z",
     "iopub.status.busy": "2021-12-20T13:56:37.505958Z",
     "iopub.status.idle": "2021-12-20T13:59:55.308784Z",
     "shell.execute_reply": "2021-12-20T13:59:55.308784Z",
     "shell.execute_reply.started": "2021-12-20T13:56:37.505958Z"
    },
    "tags": []
   },
   "outputs": [],
   "source": [
    "cc.save(f\"cc_{hoje.strftime('%d_%m_%Y')}\", replace=True, compress=True)"
   ]
  }
 ],
 "metadata": {
  "interpreter": {
   "hash": "1cdc22e96f16e7a709941e5164353478df3c5a2dca8a048b5ddcd85bd66dd558"
  },
  "kernelspec": {
   "display_name": "Python 3 (ipykernel)",
   "language": "python",
   "name": "python3"
  },
  "language_info": {
   "codemirror_mode": {
    "name": "ipython",
    "version": 3
   },
   "file_extension": ".py",
   "mimetype": "text/x-python",
   "name": "python",
   "nbconvert_exporter": "python",
   "pygments_lexer": "ipython3",
   "version": "3.8.11"
  }
 },
 "nbformat": 4,
 "nbformat_minor": 4
}
