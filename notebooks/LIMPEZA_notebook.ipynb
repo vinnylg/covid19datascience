{
 "cells": [
  {
   "cell_type": "code",
   "execution_count": null,
   "metadata": {},
   "outputs": [],
   "source": [
    "from datetime import date, timedelta, datetime, date\n",
    "from os import remove, listdir, stat, chdir\n",
    "from os.path import dirname, join, isfile, isdir"
   ]
  },
  {
   "cell_type": "code",
   "execution_count": null,
   "metadata": {},
   "outputs": [],
   "source": [
    "hoje = datetime.today()\n",
    "ontem = hoje - timedelta(1)\n",
    "anteontem = ontem - timedelta(1)"
   ]
  },
  {
   "cell_type": "code",
   "execution_count": null,
   "metadata": {},
   "outputs": [],
   "source": [
    "# PASTA: covid19datascience-dev, bulletin, database, casos_confirmados\n",
    "path = join('C:\\\\', 'SESA', 'covid19datascience-dev', 'bulletin', 'database', 'casos_confirmados')\n",
    "cc = f\"cc_{anteontem.strftime('%d_%m_%Y')}.pkl\"\n",
    "try:\n",
    "    remove(join(path, cc))\n",
    "except:\n",
    "    pass"
   ]
  },
  {
   "cell_type": "code",
   "execution_count": null,
   "metadata": {},
   "outputs": [],
   "source": [
    "# PASTA: covid19datascience-dev, input\n",
    "pathfile = join('C:\\\\', 'SESA', 'covid19datascience-dev', 'input', 'ocupacao.xls')\n",
    "try:\n",
    "    t = stat(pathfile)[8]\n",
    "    filetime = datetime.fromtimestamp(t)\n",
    "    print(filetime)\n",
    "    if (filetime.date() == ontem.date()):\n",
    "        print('ok')\n",
    "\n",
    "    if filetime.days <= -1:\n",
    "        try:\n",
    "            print(filetime.days)\n",
    "            # remove(pathfile)\n",
    "        except:\n",
    "            pass\n",
    "except:\n",
    "    pass"
   ]
  },
  {
   "cell_type": "code",
   "execution_count": null,
   "metadata": {},
   "outputs": [],
   "source": [
    "# PASTA: covid19datascience-dev, input, queries, tmp\n",
    "path = join('C:\\\\', 'SESA', 'covid19datascience-dev', 'input', 'queries', 'tmp')\n",
    "pathfile = [join(path, f) for f in listdir(path) if isfile(join(path, f))]\n",
    "\n",
    "if (len(pathfile) != 0):\n",
    "    for files in pathfile:\n",
    "        t = stat(files)[8] \n",
    "        filetime = datetime.fromtimestamp(t) - hoje\n",
    "        \n",
    "        if filetime.days <= -1:\n",
    "            try:\n",
    "                remove(files)\n",
    "            except:\n",
    "                pass"
   ]
  },
  {
   "cell_type": "code",
   "execution_count": null,
   "metadata": {},
   "outputs": [],
   "source": [
    "# PASTA: covid19datascience-dev, output, comunicacao\n",
    "path = join('C:\\\\', 'SESA', 'covid19datascience-dev', 'output', 'comunicacao')\n",
    "pathfile = [join(path, f) for f in listdir(path) if isfile(join(path, f))]\n",
    "\n",
    "if (len(pathfile) != 0):\n",
    "    for files in pathfile:\n",
    "        try:\n",
    "            remove(files)\n",
    "        except:\n",
    "            pass"
   ]
  },
  {
   "cell_type": "code",
   "execution_count": null,
   "metadata": {},
   "outputs": [],
   "source": [
    "# PASTA: covid19datascience-dev, output, dash\n",
    "path = join('C:\\\\', 'SESA', 'covid19datascience-dev', 'output', 'dash')\n",
    "pathfile = [join(path, f) for f in listdir(path) if isfile(join(path, f))]\n",
    "\n",
    "if (len(pathfile) != 0):\n",
    "    for files in pathfile:\n",
    "        t = stat(files)[8] \n",
    "        filetime = datetime.fromtimestamp(t) - hoje\n",
    "        \n",
    "        if filetime.days <= -1:\n",
    "            try:\n",
    "                print(files, filetime.days)\n",
    "                #remove(files)\n",
    "            except:\n",
    "                pass"
   ]
  },
  {
   "cell_type": "code",
   "execution_count": null,
   "metadata": {},
   "outputs": [],
   "source": [
    "# PASTA: covid19datascience-dev, output, enviar_celepar\n",
    "path = join('C:\\\\', 'SESA', 'covid19datascience-dev', 'output', 'enviar_celepar')\n",
    "files_list = ['CORONAVIRUS.analise.csv', 'CORONAVIRUS.casos_confirmados.csv', 'CORONAVIRUS.leitos.csv', 'CORONAVIRUS.obitos.csv', 'CORONAVIRUS.recuperados.csv', 'CORONAVIRUS.testes.csv']\n",
    "pathfile = [join(path, f) for f in files_list]\n",
    "\n",
    "for files in pathfile:\n",
    "    try:\n",
    "        t = stat(files)[8]\n",
    "        filetime = datetime.fromtimestamp(t) - hoje\n",
    "        \n",
    "        if filetime.days <= -1:\n",
    "            remove(files)\n",
    "    except:\n",
    "        passs"
   ]
  },
  {
   "cell_type": "code",
   "execution_count": null,
   "metadata": {},
   "outputs": [],
   "source": [
    "# PASTA: covid19datascience-dev, output, regionais\n",
    "path = join('C:\\\\', 'SESA', 'covid19datascience-dev', 'output', 'regionais')\n",
    "pathfile = [join(path, f) for f in listdir(path) if isfile(join(path, f))]\n",
    "\n",
    "if (len(pathfile) != 0):\n",
    "    for files in pathfile:\n",
    "        try:\n",
    "            remove(files)\n",
    "        except:\n",
    "            pass"
   ]
  },
  {
   "cell_type": "code",
   "execution_count": null,
   "metadata": {},
   "outputs": [],
   "source": [
    "# PASTA: covid19datascience-dev, output, relatorios\n",
    "path = join('C:\\\\', 'SESA', 'covid19datascience-dev', 'output', 'relatorios')\n",
    "pathfile = [join(path, f) for f in listdir(path) if isfile(join(path, f))]\n",
    "\n",
    "if (len(pathfile) != 0):\n",
    "    for files in pathfile:\n",
    "        t = stat(files)[8] \n",
    "        filetime = datetime.fromtimestamp(t) - hoje\n",
    "        \n",
    "        if filetime.days <= -1:\n",
    "            try:\n",
    "                remove(files)\n",
    "            except:\n",
    "                pass"
   ]
  }
 ],
 "metadata": {
  "interpreter": {
   "hash": "b3ba2566441a7c06988d0923437866b63cedc61552a5af99d1f4fb67d367b25f"
  },
  "kernelspec": {
   "display_name": "Python 3.8.5 64-bit ('base': conda)",
   "name": "python3"
  },
  "language_info": {
   "codemirror_mode": {
    "name": "ipython",
    "version": 3
   },
   "file_extension": ".py",
   "mimetype": "text/x-python",
   "name": "python",
   "nbconvert_exporter": "python",
   "pygments_lexer": "ipython3",
   "version": "3.8.5"
  }
 },
 "nbformat": 4,
 "nbformat_minor": 4
}
