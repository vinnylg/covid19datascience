{
 "cells": [
  {
   "cell_type": "code",
   "execution_count": null,
   "metadata": {
    "execution": {
     "iopub.execute_input": "2021-12-20T13:44:35.362539Z",
     "iopub.status.busy": "2021-12-20T13:44:35.362539Z",
     "iopub.status.idle": "2021-12-20T13:44:35.409410Z",
     "shell.execute_reply": "2021-12-20T13:44:35.409410Z",
     "shell.execute_reply.started": "2021-12-20T13:44:35.362539Z"
    }
   },
   "outputs": [],
   "source": [
    "## set covid19_datasciente as path for python find bulletin package\n",
    "import sys\n",
    "from pathlib import Path\n",
    "from os import getcwd, remove, chdir\n",
    "from os.path import join, basename\n",
    "\n",
    "sys.path.append(str(Path(getcwd()).parent))\n",
    "current_dir = getcwd()\n",
    "print(current_dir)"
   ]
  },
  {
   "cell_type": "code",
   "execution_count": null,
   "metadata": {
    "execution": {
     "iopub.execute_input": "2021-12-20T13:44:35.409410Z",
     "iopub.status.busy": "2021-12-20T13:44:35.409410Z",
     "iopub.status.idle": "2021-12-20T13:44:35.925355Z",
     "shell.execute_reply": "2021-12-20T13:44:35.925355Z",
     "shell.execute_reply.started": "2021-12-20T13:44:35.409410Z"
    }
   },
   "outputs": [],
   "source": [
    "import pandas as pd\n",
    "pd.set_option('display.max_columns', None)\n",
    "pd.set_option('display.max_rows', 200)\n",
    "\n",
    "import numpy as np\n",
    "from random import randint\n",
    "from math import floor, ceil\n",
    "import codecs"
   ]
  },
  {
   "cell_type": "code",
   "execution_count": null,
   "metadata": {
    "execution": {
     "iopub.execute_input": "2021-12-20T13:44:35.925355Z",
     "iopub.status.busy": "2021-12-20T13:44:35.925355Z",
     "iopub.status.idle": "2021-12-20T13:44:37.254184Z",
     "shell.execute_reply": "2021-12-20T13:44:37.254184Z",
     "shell.execute_reply.started": "2021-12-20T13:44:35.925355Z"
    }
   },
   "outputs": [],
   "source": [
    "from bulletin import root, default_input, default_output, agora, hoje, ontem, anteontem, dias_apos, dias_apos_label\n",
    "from bulletin.services.metabase import Metabase\n",
    "from bulletin.systems.casos_confirmados import CasosConfirmados\n",
    "from bulletin.systems.notifica import Notifica\n",
    "from bulletin.utils.static import Municipios\n",
    "from bulletin.utils import utils, static\n",
    "from bulletin.utils.xls_ import fit_cols\n",
    "from bulletin.utils.normalize import trim_overspace\n",
    "from bulletin.utils.normalize import normalize_text#normalize_hash, normalize_labels, , date_hash, normalize_number"
   ]
  },
  {
   "cell_type": "code",
   "execution_count": null,
   "metadata": {
    "execution": {
     "iopub.execute_input": "2021-12-20T13:44:37.254184Z",
     "iopub.status.busy": "2021-12-20T13:44:37.254184Z",
     "iopub.status.idle": "2021-12-20T13:44:37.269805Z",
     "shell.execute_reply": "2021-12-20T13:44:37.269805Z",
     "shell.execute_reply.started": "2021-12-20T13:44:37.254184Z"
    }
   },
   "outputs": [],
   "source": [
    "from datetime import datetime, date, timedelta\n",
    "from tqdm import tqdm\n",
    "\n",
    "exclusao_pathfile = join(root, 'database', 'casos_confirmados')\n",
    "\n",
    "today = pd.to_datetime(date.today())\n",
    "ontem = today - timedelta(1)\n",
    "anteontem = ontem - timedelta(1)\n",
    "data_retroativos = ontem - timedelta(31)"
   ]
  },
  {
   "cell_type": "code",
   "execution_count": null,
   "metadata": {},
   "outputs": [],
   "source": [
    "day_chosen = hoje"
   ]
  },
  {
   "cell_type": "code",
   "execution_count": null,
   "metadata": {
    "execution": {
     "iopub.execute_input": "2021-12-20T13:44:37.363545Z",
     "iopub.status.busy": "2021-12-20T13:44:37.363545Z",
     "iopub.status.idle": "2021-12-20T13:49:14.524568Z",
     "shell.execute_reply": "2021-12-20T13:49:14.524568Z",
     "shell.execute_reply.started": "2021-12-20T13:44:37.363545Z"
    }
   },
   "outputs": [],
   "source": [
    "cc = CasosConfirmados()\n",
    "cc.load(f\"cc_{day_chosen.strftime('%d_%m_%Y')}\", compress=True)\n",
    "cc.df.shape"
   ]
  },
  {
   "cell_type": "code",
   "execution_count": null,
   "metadata": {},
   "outputs": [],
   "source": [
    "# ANTES\n",
    "cc.df.groupby('evolucao')[['id_notifica']].count()"
   ]
  },
  {
   "cell_type": "code",
   "execution_count": null,
   "metadata": {},
   "outputs": [],
   "source": [
    "cc.df['reinfeccao'] = cc.df['reinfeccao'].fillna(False)\n",
    "cc.df.groupby(['reinfeccao'])[['id_notifica']].count()"
   ]
  },
  {
   "cell_type": "code",
   "execution_count": null,
   "metadata": {},
   "outputs": [],
   "source": [
    "cc.df['reinfeccao_ids'] = cc.df['reinfeccao_ids'].fillna(-1)"
   ]
  },
  {
   "cell_type": "code",
   "execution_count": null,
   "metadata": {},
   "outputs": [],
   "source": [
    "cc.df = cc.df.drop(columns=['exame_nome', 'acc_merge_notifica'])"
   ]
  },
  {
   "cell_type": "code",
   "execution_count": null,
   "metadata": {},
   "outputs": [],
   "source": [
    "cc.df.columns"
   ]
  },
  {
   "cell_type": "code",
   "execution_count": null,
   "metadata": {},
   "outputs": [],
   "source": [
    "notifica = Notifica()\n",
    "notifica.load('notifica', compress=False)\n",
    "notifica.df = notifica.df.drop_duplicates('id', keep='last')\n",
    "notifica.df.shape"
   ]
  },
  {
   "cell_type": "code",
   "execution_count": null,
   "metadata": {},
   "outputs": [],
   "source": [
    "updateable_columns = pd.read_csv(join(default_input, \"updateable_columns.csv\"))\n",
    "updateable_columns = updateable_columns.loc[updateable_columns['updateable']==1]\n",
    "\n",
    "updateable_columns_list = updateable_columns['column'].to_list()\n",
    "updateable_columns"
   ]
  },
  {
   "cell_type": "code",
   "execution_count": null,
   "metadata": {},
   "outputs": [],
   "source": [
    "for column in updateable_columns['column']:\n",
    "    if (column not in cc.df.columns):\n",
    "        print(f\"Creating column {column}\")\n",
    "        cc.df[column] = None "
   ]
  },
  {
   "cell_type": "code",
   "execution_count": null,
   "metadata": {},
   "outputs": [],
   "source": []
  },
  {
   "cell_type": "code",
   "execution_count": null,
   "metadata": {},
   "outputs": [],
   "source": [
    "# ATUALIZAÇÃO\n",
    "\n",
    "notifica.df.set_index('id', inplace=True)\n",
    "cc.df.set_index('id_notifica', inplace=True)\n",
    "\n",
    "cc.df.update(notifica.df[updateable_columns_list])"
   ]
  },
  {
   "cell_type": "code",
   "execution_count": null,
   "metadata": {},
   "outputs": [],
   "source": [
    "notifica.df.reset_index(inplace=True)\n",
    "cc.df.reset_index(inplace=True)"
   ]
  },
  {
   "cell_type": "code",
   "execution_count": null,
   "metadata": {},
   "outputs": [],
   "source": [
    "# DEPOIS\n",
    "cc.df.groupby('evolucao')[['id_notifica']].count()"
   ]
  },
  {
   "cell_type": "code",
   "execution_count": null,
   "metadata": {},
   "outputs": [],
   "source": [
    "# cc.df.groupby(['criterio_classificacao', 'resultado'])[['id_notifica']].count().rename(index=cc.tables['criterio_classificacao'].set_index('id')['criterio_classificacao'], level='criterio_classificacao').rename(index=cc.tables['resultado'].set_index('id')['resultado'], level='resultado')"
   ]
  },
  {
   "cell_type": "code",
   "execution_count": null,
   "metadata": {},
   "outputs": [],
   "source": [
    "cc.fix_dtypes()"
   ]
  },
  {
   "cell_type": "code",
   "execution_count": null,
   "metadata": {},
   "outputs": [],
   "source": [
    "cc.normalize()"
   ]
  },
  {
   "cell_type": "code",
   "execution_count": null,
   "metadata": {},
   "outputs": [],
   "source": [
    "cc.hashes()"
   ]
  },
  {
   "cell_type": "code",
   "execution_count": null,
   "metadata": {},
   "outputs": [],
   "source": [
    "cc.df.groupby(['reinfeccao'])[['id_notifica']].count()"
   ]
  },
  {
   "cell_type": "code",
   "execution_count": null,
   "metadata": {},
   "outputs": [],
   "source": [
    "cc.df.dtypes"
   ]
  },
  {
   "cell_type": "code",
   "execution_count": null,
   "metadata": {},
   "outputs": [],
   "source": [
    "cc.df.shape"
   ]
  },
  {
   "cell_type": "code",
   "execution_count": null,
   "metadata": {},
   "outputs": [],
   "source": []
  },
  {
   "cell_type": "code",
   "execution_count": null,
   "metadata": {},
   "outputs": [],
   "source": [
    "# # (ANTES)\n",
    "# for i in update_columns:\n",
    "#     print(f\" {i} -- > {len(cc.df.loc[cc.df[i].isna()])}\")"
   ]
  },
  {
   "cell_type": "code",
   "execution_count": null,
   "metadata": {},
   "outputs": [],
   "source": [
    "# PREPARAÇÃO "
   ]
  },
  {
   "cell_type": "code",
   "execution_count": null,
   "metadata": {},
   "outputs": [],
   "source": [
    "# notifica.df.set_index('id', inplace=True)\n",
    "# cc.df.set_index('id_notifica', inplace=True)\n",
    "\n",
    "# cc.df.update(notifica.df[update_columns])\n",
    "\n",
    "# notifica.df.reset_index(inplace=True)\n",
    "# cc.df.reset_index(inplace=True)"
   ]
  },
  {
   "cell_type": "code",
   "execution_count": null,
   "metadata": {},
   "outputs": [],
   "source": [
    "# # (DEPOIS)\n",
    "# for i in update_columns:\n",
    "#     print(f\" {i} -- > {len(cc.df.loc[cc.df[i].isna()])}\")"
   ]
  },
  {
   "cell_type": "code",
   "execution_count": null,
   "metadata": {},
   "outputs": [],
   "source": [
    "cc.save(f\"cc_{day_chosen.strftime('%d_%m_%Y')}-new\", replace=True, compress=True)"
   ]
  }
 ],
 "metadata": {
  "interpreter": {
   "hash": "1cdc22e96f16e7a709941e5164353478df3c5a2dca8a048b5ddcd85bd66dd558"
  },
  "kernelspec": {
   "display_name": "Python 3 (ipykernel)",
   "language": "python",
   "name": "python3"
  },
  "language_info": {
   "codemirror_mode": {
    "name": "ipython",
    "version": 3
   },
   "file_extension": ".py",
   "mimetype": "text/x-python",
   "name": "python",
   "nbconvert_exporter": "python",
   "pygments_lexer": "ipython3",
   "version": "3.8.11"
  }
 },
 "nbformat": 4,
 "nbformat_minor": 4
}
