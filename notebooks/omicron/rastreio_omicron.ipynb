{
 "cells": [
  {
   "cell_type": "code",
   "execution_count": null,
   "metadata": {},
   "outputs": [],
   "source": [
    "## set covid19_datasciente as path for python find bulletin package\n",
    "import sys\n",
    "from pathlib import Path\n",
    "from os import getcwd, remove, walk\n",
    "from os.path import join, basename\n",
    "sys.path.append(str(Path(getcwd()).parent.parent))\n",
    "from epiweeks import Week\n",
    "from glob import glob"
   ]
  },
  {
   "cell_type": "code",
   "execution_count": null,
   "metadata": {},
   "outputs": [],
   "source": [
    "from bulletin import default_input, default_output, tables_path, hoje\n",
    "from bulletin.systems import Notifica, CasosConfirmados, eSUS\n",
    "from bulletin.utils.normalize import normalize_cpf, normalize_cns, normalize_hash, date_hash\n",
    "from bulletin import default_input, default_output"
   ]
  },
  {
   "cell_type": "code",
   "execution_count": null,
   "metadata": {},
   "outputs": [],
   "source": [
    "import numpy as np\n",
    "import pandas as pd\n",
    "import re\n",
    "from unidecode import unidecode\n",
    "from datetime import date, timedelta, datetime\n",
    "\n",
    "path_file = join('C:\\\\', 'SESA', 'covid19datascience-dev', 'bulletin', 'database', 'gal')\n",
    "pd.set_option('display.max_columns', None)\n",
    "pd.set_option('display.max_rows', 50)"
   ]
  },
  {
   "cell_type": "code",
   "execution_count": null,
   "metadata": {},
   "outputs": [],
   "source": [
    "from bulletin import default_input, default_output\n",
    "default_input = join(default_input,'omicron')\n",
    "default_output = join(default_output,'omicron')"
   ]
  },
  {
   "cell_type": "code",
   "execution_count": null,
   "metadata": {},
   "outputs": [],
   "source": [
    "notifica = Notifica('notifica')\n",
    "notifica.load(compress=False)"
   ]
  },
  {
   "cell_type": "code",
   "execution_count": null,
   "metadata": {},
   "outputs": [],
   "source": [
    "gal_path = join('C:\\\\', 'SESA', 'covid19datascience-dev', 'bulletin', 'database', 'gal')\n",
    "\n",
    "gal_2020 = pd.read_pickle(join(gal_path, 'banco_gal_2020-bz2.pkl'), compression='bz2')[['requisicao','cod_exame_requisicao','data_requisicao', 'paciente', 'cns', 'cpf', 'nome_mae','data_nascimento', 'sexo', 'idade', 'ibge', 'municipio', 'regional', 'exame', 'metodo', 'resultado', 'virus', 'data_liberacao', 'laboratorio_executor', 'status', 'classificacao']]\n",
    "gal_2021 = pd.read_pickle(join(gal_path, 'banco_gal_2021-bz2.pkl'), compression='bz2')[['requisicao','cod_exame_requisicao','data_requisicao', 'paciente', 'cns', 'cpf', 'nome_mae','data_nascimento', 'sexo', 'idade', 'ibge', 'municipio', 'regional', 'exame', 'metodo', 'resultado', 'virus', 'data_liberacao', 'laboratorio_executor', 'status', 'classificacao']]\n",
    "gal_2021_complemento = pd.read_csv(join(gal_path, 'consulta-gal-complemento-2021.csv'), sep = ';', low_memory=False, usecols=['requisicao','cod_exame_requisicao','data_requisicao', 'paciente', 'cns', 'cpf', 'nome_mae', 'data_nascimento','sexo', 'idade', 'ibge', 'municipio', 'regional', 'exame', 'metodo', 'resultado', 'virus', 'data_liberacao', 'laboratorio_executor', 'status', 'classificacao'])\n",
    "gal = pd.concat([gal_2020, gal_2021,gal_2021_complemento])\n",
    "# gal.set_index('requisicao', inplace=True)"
   ]
  },
  {
   "cell_type": "code",
   "execution_count": null,
   "metadata": {},
   "outputs": [],
   "source": [
    "gal = gal.loc[gal['virus']=='Coronavírus SARS-CoV2']\n",
    "gal = gal.loc[gal['classificacao']=='Confirmado']"
   ]
  },
  {
   "cell_type": "code",
   "execution_count": null,
   "metadata": {},
   "outputs": [],
   "source": [
    "gal['cpf'] = gal['cpf'].apply(normalize_cpf)\n",
    "gal['cns'] = gal['cns'].apply(normalize_cns)\n",
    "gal['hash_mae'] = gal['paciente'].apply(normalize_hash) + gal['nome_mae'].apply(normalize_hash)"
   ]
  },
  {
   "cell_type": "code",
   "execution_count": null,
   "metadata": {},
   "outputs": [],
   "source": [
    "nomes = pd.read_excel(join(default_input, 'nomes_omicron.xlsx'))\n",
    "nomes['nascimento'] = pd.to_datetime(nomes['nascimento'], errors='coerce')\n",
    "nomes['hash_nasc'] = nomes.loc[nomes['nascimento'].notna(),'paciente'].apply(normalize_hash) + nomes.loc[nomes['nascimento'].notna(),'nascimento'].apply(date_hash)\n",
    "nomes"
   ]
  },
  {
   "cell_type": "code",
   "execution_count": null,
   "metadata": {},
   "outputs": [],
   "source": [
    "achados_gal = pd.merge(nomes, gal, left_on='requisicao_gal', right_on='requisicao', how='inner')\n",
    "achados_gal = achados_gal.drop(columns={'paciente_y'})\n",
    "achados_gal = achados_gal.rename(columns={'paciente_x':'paciente'})\n",
    "achados_gal"
   ]
  },
  {
   "cell_type": "code",
   "execution_count": null,
   "metadata": {},
   "outputs": [],
   "source": [
    "achados_hash_mae = pd.merge(achados_gal, notifica.df[['id','cep_residencia','logradouro_residencia','numero_residencia','bairro_residencia','telefone_paciente','data_1o_sintomas','hospitalizado','tipo_internacao','historico_viagem','local_viagem','data_ida_local','data_retorno_local','classificacao_final','criterio_classificacao','evolucao','data_cura_obito','hash_mae']], left_on='hash_mae', right_on='hash_mae', how='inner')\n",
    "achados_hash_mae"
   ]
  },
  {
   "cell_type": "code",
   "execution_count": null,
   "metadata": {},
   "outputs": [],
   "source": [
    "temporario1 = achados_hash_mae.drop_duplicates(subset='id', keep='last')\n",
    "temporario1 = temporario1.drop_duplicates(subset='requisicao', keep='last')\n",
    "temporario1"
   ]
  },
  {
   "cell_type": "code",
   "execution_count": null,
   "metadata": {},
   "outputs": [],
   "source": [
    "achados_hash_nasc = pd.merge(achados_gal, notifica.df[['id','cep_residencia','logradouro_residencia','numero_residencia','bairro_residencia','telefone_paciente','data_1o_sintomas','hospitalizado','tipo_internacao','historico_viagem','local_viagem','data_ida_local','data_retorno_local','classificacao_final','criterio_classificacao','evolucao','data_cura_obito','hash_nasc']], left_on='hash_nasc', right_on='hash_nasc', how='inner')\n",
    "achados_hash_nasc"
   ]
  },
  {
   "cell_type": "code",
   "execution_count": null,
   "metadata": {},
   "outputs": [],
   "source": [
    "temporario2 = achados_hash_nasc.drop_duplicates(subset='id', keep='last')\n",
    "temporario2 = temporario2.drop_duplicates(subset='requisicao', keep='last')\n",
    "temporario2"
   ]
  },
  {
   "cell_type": "code",
   "execution_count": null,
   "metadata": {},
   "outputs": [],
   "source": [
    "temporario = pd.concat([temporario1, temporario2], ignore_index=True)\n",
    "temporario = temporario.drop_duplicates(subset='id', keep='last')\n",
    "temporario = temporario.drop_duplicates(subset='requisicao', keep='last')\n",
    "temporario"
   ]
  },
  {
   "cell_type": "code",
   "execution_count": null,
   "metadata": {},
   "outputs": [],
   "source": [
    "temporario.loc[temporario['classificacao_final'] == 1, 'classificacao_final'] = \"Caso suspeito\"\n",
    "temporario.loc[temporario['classificacao_final'] == 2, 'classificacao_final'] = \"Caso confirmado\"\n",
    "temporario.loc[temporario['classificacao_final'] == 3, 'classificacao_final'] = \"Caso descartado\"\n",
    "\n",
    "temporario.loc[temporario['criterio_classificacao'] == 1, 'criterio_classificacao'] = \"Laboratorial\"\n",
    "temporario.loc[temporario['criterio_classificacao'] == 2, 'criterio_classificacao'] = \"Clínico epidemiologico\"\n",
    "temporario.loc[temporario['criterio_classificacao'] == 3, 'criterio_classificacao'] = \"Em investigacao\"\n",
    "temporario.loc[temporario['criterio_classificacao'] == 4, 'criterio_classificacao'] = \"Não se aplica\"\n",
    "temporario.loc[temporario['criterio_classificacao'] == 5, 'criterio_classificacao'] = \"Clínico imagem\"\n",
    "temporario.loc[temporario['criterio_classificacao'] == 6, 'criterio_classificacao'] = \"Clínico\"\n",
    "\n",
    "\n",
    "\n",
    "temporario.loc[temporario['evolucao'] == 1, 'evolucao'] = \"Cura\"\n",
    "temporario.loc[temporario['evolucao'] == 2, 'evolucao'] = \"Obito por COVID-19\"\n",
    "temporario.loc[temporario['evolucao'] == 3, 'evolucao'] = \"Não se aplica\"\n",
    "temporario.loc[temporario['evolucao'] == 4, 'evolucao'] = \"Obito por outras causas\"\n",
    "temporario.loc[temporario['evolucao'] == 5, 'evolucao'] = \"Obito por COVID-19\"\n"
   ]
  },
  {
   "cell_type": "code",
   "execution_count": null,
   "metadata": {},
   "outputs": [],
   "source": [
    "notifica_temp = Notifica()\n",
    "notifica_temp.df = temporario.copy()\n",
    "notifica_temp.df"
   ]
  },
  {
   "cell_type": "code",
   "execution_count": null,
   "metadata": {},
   "outputs": [],
   "source": [
    "# notifica_temp.toggle_merge_table('hospitalizado')\n",
    "# notifica_temp.toggle_merge_table('tipo_internacao')\n",
    "# notifica_temp.toggle_merge_table('historico_viagem')\n",
    "notifica_temp.toggle_merge_table('classificacao_final')\n",
    "notifica_temp.toggle_merge_table('criterio_classificacao')\n",
    "notifica_temp.toggle_merge_table('evolucao')"
   ]
  },
  {
   "cell_type": "code",
   "execution_count": null,
   "metadata": {},
   "outputs": [],
   "source": [
    "notifica_temp.df"
   ]
  },
  {
   "cell_type": "code",
   "execution_count": null,
   "metadata": {},
   "outputs": [],
   "source": [
    "temporario.to_excel(join(default_output, 'resultado_rastreio_omicron.xlsx'))"
   ]
  }
 ],
 "metadata": {
  "kernelspec": {
   "display_name": "Python 3 (ipykernel)",
   "language": "python",
   "name": "python3"
  },
  "language_info": {
   "codemirror_mode": {
    "name": "ipython",
    "version": 3
   },
   "file_extension": ".py",
   "mimetype": "text/x-python",
   "name": "python",
   "nbconvert_exporter": "python",
   "pygments_lexer": "ipython3",
   "version": "3.8.11"
  }
 },
 "nbformat": 4,
 "nbformat_minor": 4
}
