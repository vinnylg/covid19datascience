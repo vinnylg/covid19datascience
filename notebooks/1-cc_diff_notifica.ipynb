{
 "cells": [
  {
   "cell_type": "code",
   "execution_count": null,
   "metadata": {
    "tags": []
   },
   "outputs": [],
   "source": [
    "## set covid19_datasciente as path for python find bulletin package\n",
    "import sys\n",
    "from pathlib import Path\n",
    "from os import getcwd, remove, chdir\n",
    "from os.path import join, basename\n",
    "\n",
    "sys.path.append(str(Path(getcwd()).parent))\n",
    "current_dir = getcwd()\n",
    "print(current_dir)"
   ]
  },
  {
   "cell_type": "code",
   "execution_count": null,
   "metadata": {
    "tags": []
   },
   "outputs": [],
   "source": [
    "import pandas as pd\n",
    "from random import randint\n",
    "pd.set_option('display.max_columns', None)\n",
    "pd.set_option('display.max_rows', 200)\n",
    "\n",
    "from tqdm.auto import tqdm\n",
    "tqdm.pandas()"
   ]
  },
  {
   "cell_type": "code",
   "execution_count": null,
   "metadata": {
    "tags": []
   },
   "outputs": [],
   "source": [
    "from bulletin import root,parent, default_input, default_output, agora, hoje, ontem, anteontem, dias_apos, dias_apos_label\n",
    "from bulletin.services.metabase import Metabase\n",
    "from bulletin.systems.casos_confirmados import CasosConfirmados\n",
    "from bulletin.systems.notifica import Notifica\n",
    "from bulletin.utils.static import Municipios\n",
    "from bulletin.utils import utils, static\n",
    "from bulletin.utils.xls_ import fit_cols\n",
    "from bulletin.utils.normalize import trim_overspace\n",
    "from bulletin.utils.normalize import normalize_text#normalize_hash, normalize_labels, , date_hash, normalize_number\n",
    "from bulletin.utils import setup_logging\n",
    "logger = setup_logging(join(parent,'logging.yaml'),name='1-cc_diff_notifica')"
   ]
  },
  {
   "cell_type": "code",
   "execution_count": null,
   "metadata": {
    "tags": []
   },
   "outputs": [],
   "source": [
    "from datetime import datetime, date, timedelta\n",
    "\n",
    "exclusao_pathfile = join(root, 'database', 'casos_confirmados')\n",
    "\n",
    "today = pd.to_datetime(date.today())\n",
    "ontem = today - timedelta(1)\n",
    "anteontem = ontem - timedelta(1)\n",
    "data_retroativos = ontem - timedelta(31)"
   ]
  },
  {
   "cell_type": "code",
   "execution_count": null,
   "metadata": {
    "tags": []
   },
   "outputs": [],
   "source": [
    "utils.create_backup(first_name = \"backup_notifica_diario_\" , level=3)\n",
    "chdir(current_dir)"
   ]
  },
  {
   "cell_type": "code",
   "execution_count": null,
   "metadata": {
    "tags": []
   },
   "outputs": [],
   "source": [
    "from bulletin.utils.clean_up import clear_directories\n",
    "clear_directories()"
   ]
  },
  {
   "cell_type": "code",
   "execution_count": null,
   "metadata": {
    "tags": []
   },
   "outputs": [],
   "source": [
    "municipios = Municipios()\n",
    "municipios['mun_resid'] = municipios['municipio']\n",
    "municipios.loc[municipios['uf']!='PR','mun_resid'] = municipios.loc[municipios['uf']!='PR','municipio'] + '/' + municipios['uf']"
   ]
  },
  {
   "cell_type": "markdown",
   "metadata": {},
   "source": [
    "## 1. Atualização e Carregamento das Bases de Dados"
   ]
  },
  {
   "cell_type": "code",
   "execution_count": null,
   "metadata": {
    "tags": []
   },
   "outputs": [],
   "source": [
    "update = True\n",
    "load_downloaded = False\n",
    "\n",
    "# Load \n",
    "notifica = Notifica()\n",
    "notifica.databases()\n",
    "notifica.load('notifica', compress=False)#\n",
    "# notifica.df = notifica.df.drop_duplicates('id', keep='last')\n",
    "    \n",
    "if update:\n",
    "    #mb = Metabase()\n",
    "    #days = 3\n",
    "    #intervalo = f\"(data_notificacao >= NOW() - INTERVAL '{days} DAY') or (data_liberacao >= NOW() - INTERVAL '{days} DAY') or (updated_at >= NOW() - INTERVAL '{days} DAY') or (data_coleta >= NOW() - INTERVAL '{days} DAY') or (data_encerramento >= NOW() - INTERVAL '{days} DAY') or (data_cura_obito >= NOW() - INTERVAL '{days} DAY')\"\n",
    "    #mb.generate_notifica_query('update_notifica', where=intervalo, replace=True)\n",
    "    #update_notifica_parts = mb.download_notificacao('update_notifica', load=load_downloaded)\n",
    "    update_notifica_parts = notifica.download_update()\n",
    "    notifica.update(update_notifica_parts)\n",
    "    \n",
    "    \n",
    "    #update_notifica.df = update_notifica.df.drop_duplicates('id', keep='last')\n",
    "    #analise_dtd = update_notifica.analise_data_diagnostico() ## only in casos confirmados, pd.NaT nos demais\n",
    "\n",
    "    # novas_notificacoes, atualizacoes_fichas = notifica.update(update_notifica)#, observed_cols=['excluir_ficha','status_notificacao','classificacao_final','data_1o_sintomas','data_diagnostico','evolucao','data_cura_obito','data_encerramento'])\n",
    "    #notifica.update(update_notifica)\n",
    "\n",
    "    notifica.fix_dtypes()\n",
    "    notifica.save(replace=True, compress=False)\n",
    "\n",
    "notifica.df.shape"
   ]
  },
  {
   "cell_type": "code",
   "execution_count": null,
   "metadata": {
    "execution": {
     "iopub.execute_input": "2022-03-08T12:29:36.529684Z",
     "iopub.status.busy": "2022-03-08T12:29:36.528691Z",
     "iopub.status.idle": "2022-03-08T12:31:13.919179Z",
     "shell.execute_reply": "2022-03-08T12:31:13.919179Z",
     "shell.execute_reply.started": "2022-03-08T12:29:36.529684Z"
    }
   },
   "outputs": [],
   "source": [
    "cc = CasosConfirmados()\n",
    "cc.load(f\"cc_{ontem.strftime('%d_%m_%Y')}\", compress=True)\n",
    "cc.df.shape"
   ]
  },
  {
   "cell_type": "code",
   "execution_count": null,
   "metadata": {
    "execution": {
     "iopub.execute_input": "2022-03-08T12:31:13.919179Z",
     "iopub.status.busy": "2022-03-08T12:31:13.919179Z",
     "iopub.status.idle": "2022-03-08T12:31:20.965691Z",
     "shell.execute_reply": "2022-03-08T12:31:20.964674Z",
     "shell.execute_reply.started": "2022-03-08T12:31:13.919179Z"
    }
   },
   "outputs": [],
   "source": [
    "casos_confirmados = cc.df.loc[cc.df['id_notifica'] > 0].copy()\n",
    "casos_confirmados['classificacao_final'] = 2\n",
    "casos_confirmados['excluir_ficha'] = 2 #EXCLUIR FICHA \"NÃO\""
   ]
  },
  {
   "cell_type": "markdown",
   "metadata": {},
   "source": [
    "## 2. Processo de identificação de fichas diferentes"
   ]
  },
  {
   "cell_type": "code",
   "execution_count": null,
   "metadata": {
    "execution": {
     "iopub.execute_input": "2022-03-08T12:31:20.968630Z",
     "iopub.status.busy": "2022-03-08T12:31:20.967632Z",
     "iopub.status.idle": "2022-03-08T12:31:20.974665Z",
     "shell.execute_reply": "2022-03-08T12:31:20.973629Z",
     "shell.execute_reply.started": "2022-03-08T12:31:20.968630Z"
    }
   },
   "outputs": [],
   "source": [
    "## CASOS E/OU ÓBITOS COM CLASSIFICAÇÃO FINAL DIFERENTE DE 2"
   ]
  },
  {
   "cell_type": "code",
   "execution_count": null,
   "metadata": {
    "execution": {
     "iopub.execute_input": "2022-03-08T12:31:20.976626Z",
     "iopub.status.busy": "2022-03-08T12:31:20.976626Z",
     "iopub.status.idle": "2022-03-08T12:31:51.640501Z",
     "shell.execute_reply": "2022-03-08T12:31:51.640501Z",
     "shell.execute_reply.started": "2022-03-08T12:31:20.976626Z"
    }
   },
   "outputs": [],
   "source": [
    "diff_cc_final = pd.DataFrame()\n",
    "diff_cc_final = pd.merge(casos_confirmados[['id_notifica','paciente','classificacao_final']], notifica.df[['id','classificacao_final']].rename(columns={'id':'id_notifica'}), on='id_notifica', how='inner', suffixes=['_old','_new'])\n",
    "\n",
    "diff_cc_final = diff_cc_final.loc[diff_cc_final['classificacao_final_old'] != diff_cc_final['classificacao_final_new']]"
   ]
  },
  {
   "cell_type": "code",
   "execution_count": null,
   "metadata": {
    "execution": {
     "iopub.execute_input": "2022-03-08T12:31:51.640501Z",
     "iopub.status.busy": "2022-03-08T12:31:51.640501Z",
     "iopub.status.idle": "2022-03-08T12:31:51.703917Z",
     "shell.execute_reply": "2022-03-08T12:31:51.703917Z",
     "shell.execute_reply.started": "2022-03-08T12:31:51.640501Z"
    }
   },
   "outputs": [],
   "source": [
    "temporario_diff_cf = cc.df.loc[cc.df['id_notifica'].isin(diff_cc_final['id_notifica'])]\n",
    "print('CASOS EXCLUSÃO que mudaram de classificação final =', len(temporario_diff_cf))"
   ]
  },
  {
   "cell_type": "code",
   "execution_count": null,
   "metadata": {
    "execution": {
     "iopub.execute_input": "2022-03-08T12:31:51.703917Z",
     "iopub.status.busy": "2022-03-08T12:31:51.703917Z",
     "iopub.status.idle": "2022-03-08T12:31:51.720802Z",
     "shell.execute_reply": "2022-03-08T12:31:51.719485Z",
     "shell.execute_reply.started": "2022-03-08T12:31:51.703917Z"
    }
   },
   "outputs": [],
   "source": [
    "## CASOS E/OU ÓBITOS COM STATUS NOTIFICACAO DIFERENTE DE 1 ou 2"
   ]
  },
  {
   "cell_type": "code",
   "execution_count": null,
   "metadata": {
    "execution": {
     "iopub.execute_input": "2022-03-08T12:31:51.722803Z",
     "iopub.status.busy": "2022-03-08T12:31:51.722803Z",
     "iopub.status.idle": "2022-03-08T12:31:57.621233Z",
     "shell.execute_reply": "2022-03-08T12:31:57.621233Z",
     "shell.execute_reply.started": "2022-03-08T12:31:51.722803Z"
    }
   },
   "outputs": [],
   "source": [
    "diff_cc_status = pd.DataFrame()\n",
    "diff_cc_status = pd.merge(casos_confirmados[['id_notifica','paciente','status_notificacao','evolucao']], notifica.df[['id','status_notificacao']].rename(columns={'id':'id_notifica'}), on='id_notifica', how='inner', suffixes=['_old','_new'])\n",
    "\n",
    "diff_cc_status = diff_cc_status.loc[diff_cc_status['status_notificacao_old'] != diff_cc_status['status_notificacao_new']]\n",
    "diff_cc_status_obitos = diff_cc_status.loc[~diff_cc_status['status_notificacao_new'].isin([1,2]) & (diff_cc_status['evolucao']==2)]"
   ]
  },
  {
   "cell_type": "code",
   "execution_count": null,
   "metadata": {
    "execution": {
     "iopub.execute_input": "2022-03-08T12:31:57.621233Z",
     "iopub.status.busy": "2022-03-08T12:31:57.621233Z",
     "iopub.status.idle": "2022-03-08T12:31:57.629544Z",
     "shell.execute_reply": "2022-03-08T12:31:57.628545Z",
     "shell.execute_reply.started": "2022-03-08T12:31:57.621233Z"
    }
   },
   "outputs": [],
   "source": [
    "# diff_cc_status_obitos.to_excel('obitos_que_inativaram.xlsx')"
   ]
  },
  {
   "cell_type": "code",
   "execution_count": null,
   "metadata": {
    "execution": {
     "iopub.execute_input": "2022-03-08T12:31:57.630542Z",
     "iopub.status.busy": "2022-03-08T12:31:57.630542Z",
     "iopub.status.idle": "2022-03-08T12:31:57.696572Z",
     "shell.execute_reply": "2022-03-08T12:31:57.696572Z",
     "shell.execute_reply.started": "2022-03-08T12:31:57.630542Z"
    }
   },
   "outputs": [],
   "source": [
    "tmp_diff_cc_st = cc.df.loc[cc.df['id_notifica'].isin(diff_cc_status_obitos['id_notifica'])]\n",
    "print('CASOS EXCLUSÃO que mudaram de status para inativo ou duplicado (3 ou 4) =', len(diff_cc_status_obitos))"
   ]
  },
  {
   "cell_type": "code",
   "execution_count": null,
   "metadata": {
    "execution": {
     "iopub.execute_input": "2022-03-08T12:31:57.698598Z",
     "iopub.status.busy": "2022-03-08T12:31:57.698598Z",
     "iopub.status.idle": "2022-03-08T12:31:57.701550Z",
     "shell.execute_reply": "2022-03-08T12:31:57.701550Z",
     "shell.execute_reply.started": "2022-03-08T12:31:57.698598Z"
    }
   },
   "outputs": [],
   "source": [
    "## CASOS E/OU ÓBITOS EXCLUIR FICHA == SIM"
   ]
  },
  {
   "cell_type": "code",
   "execution_count": null,
   "metadata": {},
   "outputs": [],
   "source": [
    "diff_excluir_ficha = pd.DataFrame()\n",
    "diff_excluir_ficha = pd.merge(casos_confirmados[['id_notifica','paciente', 'excluir_ficha']], notifica.df[['id', 'excluir_ficha']].rename(columns={'id':'id_notifica'}), on='id_notifica', how='inner', suffixes=['_old','_new'])\n",
    "\n",
    "diff_excluir_ficha = diff_excluir_ficha.loc[diff_excluir_ficha['excluir_ficha_old'] != diff_excluir_ficha['excluir_ficha_new']]\n",
    "# diff_excluir_ficha.sort_values('paciente')"
   ]
  },
  {
   "cell_type": "code",
   "execution_count": null,
   "metadata": {},
   "outputs": [],
   "source": [
    "temporario_diff_excf = cc.df.loc[cc.df['id_notifica'].isin(diff_excluir_ficha['id_notifica'])]\n",
    "print('CASOS EXCLUSÃO que mudaram para excluir ficha \"SIM\" =', len(temporario_diff_excf))"
   ]
  },
  {
   "cell_type": "code",
   "execution_count": null,
   "metadata": {
    "execution": {
     "iopub.execute_input": "2022-03-08T12:32:03.406134Z",
     "iopub.status.busy": "2022-03-08T12:32:03.406134Z",
     "iopub.status.idle": "2022-03-08T12:32:03.410127Z",
     "shell.execute_reply": "2022-03-08T12:32:03.409129Z",
     "shell.execute_reply.started": "2022-03-08T12:32:03.406134Z"
    }
   },
   "outputs": [],
   "source": [
    "# temporario_diff_excf.sort_values('paciente')[['paciente', 'evolucao']]"
   ]
  },
  {
   "cell_type": "code",
   "execution_count": null,
   "metadata": {
    "execution": {
     "iopub.execute_input": "2022-03-08T12:32:03.411136Z",
     "iopub.status.busy": "2022-03-08T12:32:03.410127Z",
     "iopub.status.idle": "2022-03-08T12:32:03.425135Z",
     "shell.execute_reply": "2022-03-08T12:32:03.425135Z",
     "shell.execute_reply.started": "2022-03-08T12:32:03.411136Z"
    }
   },
   "outputs": [],
   "source": [
    "## CASOS QUE NÃO FORAM A ÓBITO, MAS MUDARAM PARA OBITO NO NOTIFICA"
   ]
  },
  {
   "cell_type": "code",
   "execution_count": null,
   "metadata": {
    "execution": {
     "iopub.execute_input": "2022-03-08T12:32:03.428131Z",
     "iopub.status.busy": "2022-03-08T12:32:03.427129Z",
     "iopub.status.idle": "2022-03-08T12:32:09.067348Z",
     "shell.execute_reply": "2022-03-08T12:32:09.067348Z",
     "shell.execute_reply.started": "2022-03-08T12:32:03.428131Z"
    }
   },
   "outputs": [],
   "source": [
    "diff_evolucao_obito = pd.DataFrame()\n",
    "diff_evolucao_obito = pd.merge(casos_confirmados[['id_notifica','paciente', 'evolucao']], notifica.df[['id', 'evolucao']].rename(columns={'id':'id_notifica'}), on='id_notifica', how='inner', suffixes=['_old','_new'])\n",
    "\n",
    "diff_evolucao_obito = diff_evolucao_obito.loc[(diff_evolucao_obito['evolucao_old'] != 2) & (diff_evolucao_obito['evolucao_new'] == 2)]"
   ]
  },
  {
   "cell_type": "code",
   "execution_count": null,
   "metadata": {
    "execution": {
     "iopub.execute_input": "2022-03-08T12:32:09.069323Z",
     "iopub.status.busy": "2022-03-08T12:32:09.069323Z",
     "iopub.status.idle": "2022-03-08T12:32:09.123325Z",
     "shell.execute_reply": "2022-03-08T12:32:09.123325Z",
     "shell.execute_reply.started": "2022-03-08T12:32:09.069323Z"
    }
   },
   "outputs": [],
   "source": [
    "temporario_diff_evolu = cc.df.loc[cc.df['id_notifica'].isin(diff_evolucao_obito['id_notifica'])]\n",
    "print('CASOS não óbitos QUE EVOLUÍRAM PARA ÓBITO =', len(temporario_diff_evolu))"
   ]
  },
  {
   "cell_type": "code",
   "execution_count": null,
   "metadata": {
    "execution": {
     "iopub.execute_input": "2022-03-08T12:32:09.125325Z",
     "iopub.status.busy": "2022-03-08T12:32:09.124349Z",
     "iopub.status.idle": "2022-03-08T12:32:14.699819Z",
     "shell.execute_reply": "2022-03-08T12:32:14.698819Z",
     "shell.execute_reply.started": "2022-03-08T12:32:09.125325Z"
    }
   },
   "outputs": [],
   "source": [
    "diff_evolucao = pd.DataFrame()\n",
    "diff_evolucao = pd.merge(casos_confirmados[['id_notifica','paciente', 'evolucao']], notifica.df[['id', 'evolucao']].rename(columns={'id':'id_notifica'}), on='id_notifica', how='inner', suffixes=['_old','_new'])"
   ]
  },
  {
   "cell_type": "markdown",
   "metadata": {},
   "source": [
    "## 3. PREVISÃO DOS NOVOS ÓBITOS QUE SERÃO INSERIDOS HOJE"
   ]
  },
  {
   "cell_type": "code",
   "execution_count": null,
   "metadata": {
    "execution": {
     "iopub.execute_input": "2022-03-08T12:32:14.702776Z",
     "iopub.status.busy": "2022-03-08T12:32:14.701767Z",
     "iopub.status.idle": "2022-03-08T12:40:52.145406Z",
     "shell.execute_reply": "2022-03-08T12:40:52.144407Z",
     "shell.execute_reply.started": "2022-03-08T12:32:14.702776Z"
    }
   },
   "outputs": [],
   "source": [
    "notifica.df = notifica.df.loc[((notifica.df['classificacao_final']==2)&(notifica.df['excluir_ficha']==2)&(notifica.df['status_notificacao'].isin([1,2])))]\n",
    "notifica.replace('sexo')\n",
    "notifica.df = pd.merge(notifica.df.rename(columns={'ibge_residencia':'ibge'}),municipios[['ibge','macro','rs','mun_resid','uf','municipio','regional']],on='ibge',how='left').rename(columns={'ibge':'ibge_residencia'})\n",
    "notifica.df = pd.merge(notifica.df.rename(columns={'ibge_unidade_notifica':'ibge'}),municipios[['ibge','mun_resid']].rename(columns={'mun_resid':'mun_atend'}),on='ibge',how='left').rename(columns={'ibge':'ibge_unidade_notifica'})\n",
    "notifica.df = notifica.df.loc[((notifica.df['sexo']!='N')&(notifica.df['mun_resid'].notna())&(notifica.df['data_diagnostico'].notna())&(notifica.df['paciente'].str.len() > 5))]"
   ]
  },
  {
   "cell_type": "code",
   "execution_count": null,
   "metadata": {
    "execution": {
     "iopub.execute_input": "2022-03-08T12:40:52.147406Z",
     "iopub.status.busy": "2022-03-08T12:40:52.147406Z",
     "iopub.status.idle": "2022-03-08T12:45:51.803593Z",
     "shell.execute_reply": "2022-03-08T12:45:51.802599Z",
     "shell.execute_reply.started": "2022-03-08T12:40:52.147406Z"
    }
   },
   "outputs": [],
   "source": [
    "notifica_duplicados = notifica.check_duplicates(keep=False)\n",
    "notifica.df['duplicated'] = notifica.df['duplicated'].fillna(False)\n",
    "notifica.df = notifica.df.loc[~notifica.df['duplicated']]"
   ]
  },
  {
   "cell_type": "code",
   "execution_count": null,
   "metadata": {
    "execution": {
     "iopub.execute_input": "2022-03-08T12:45:51.806557Z",
     "iopub.status.busy": "2022-03-08T12:45:51.805541Z",
     "iopub.status.idle": "2022-03-08T12:45:55.233510Z",
     "shell.execute_reply": "2022-03-08T12:45:55.232521Z",
     "shell.execute_reply.started": "2022-03-08T12:45:51.806557Z"
    }
   },
   "outputs": [],
   "source": [
    "novos_casos = notifica.df.loc[~(\n",
    "    (notifica.df['id'].isin(cc.df['id_notifica'])) \n",
    ")].copy()\n",
    "\n",
    "obitos_notifica = notifica.df.loc[(notifica.df['evolucao']==2)]\n",
    "obitos_casos = cc.df.loc[(cc.df['evolucao']==2)]\n",
    "\n",
    "novos_obitos = obitos_notifica.loc[~(\n",
    "    (obitos_notifica['id'].isin(obitos_casos['id_notifica']))\n",
    ")].copy()\n",
    "\n",
    "novos_obitos = novos_obitos.loc[novos_obitos['data_cura_obito'].notna()]\n",
    "novos_obitos = novos_obitos.loc[novos_obitos['data_cura_obito'] >= pd.to_datetime('2021-01-01')]\n",
    "\n",
    "novos_obitos = novos_obitos.loc[novos_obitos['id'].isin(cc.df['id_notifica'].tolist() + novos_casos['id'].tolist())]\n",
    "novos_obitos = novos_obitos.drop_duplicates('id', keep='last')\n",
    "novos_obitos.groupby('data_cura_obito')[['id']].count().plot()"
   ]
  },
  {
   "cell_type": "code",
   "execution_count": null,
   "metadata": {
    "execution": {
     "iopub.execute_input": "2022-03-08T12:45:55.234511Z",
     "iopub.status.busy": "2022-03-08T12:45:55.234511Z",
     "iopub.status.idle": "2022-03-08T12:45:55.243514Z",
     "shell.execute_reply": "2022-03-08T12:45:55.242511Z",
     "shell.execute_reply.started": "2022-03-08T12:45:55.234511Z"
    }
   },
   "outputs": [],
   "source": [
    "print(\"PREVISÃO DE NOVOS ÓBITOS = \")\n",
    "novos_obitos.shape"
   ]
  },
  {
   "cell_type": "code",
   "execution_count": null,
   "metadata": {
    "execution": {
     "iopub.execute_input": "2022-03-08T12:45:55.244515Z",
     "iopub.status.busy": "2022-03-08T12:45:55.244515Z",
     "iopub.status.idle": "2022-03-08T12:45:55.259523Z",
     "shell.execute_reply": "2022-03-08T12:45:55.258518Z",
     "shell.execute_reply.started": "2022-03-08T12:45:55.244515Z"
    }
   },
   "outputs": [],
   "source": [
    "print(\"PREVISÃO DE NOVOS CASOS = \")\n",
    "novos_casos.shape"
   ]
  },
  {
   "cell_type": "markdown",
   "metadata": {},
   "source": [
    "## 4. SALVAR OS ARQUIVOS NECESSÁRIOS"
   ]
  },
  {
   "cell_type": "code",
   "execution_count": null,
   "metadata": {
    "execution": {
     "iopub.execute_input": "2022-03-08T12:45:55.260523Z",
     "iopub.status.busy": "2022-03-08T12:45:55.260523Z",
     "iopub.status.idle": "2022-03-08T12:45:55.592617Z",
     "shell.execute_reply": "2022-03-08T12:45:55.592617Z",
     "shell.execute_reply.started": "2022-03-08T12:45:55.260523Z"
    }
   },
   "outputs": [],
   "source": [
    "exclu = CasosConfirmados()\n",
    "try:\n",
    "    exclu.load('casos_excluir', compress=False)\n",
    "    df_exclusao_new = cc.df.loc[cc.df['id_notifica'].isin(exclu.df['id_notifica'])]\n",
    "    \n",
    "#     df_exclusao_new = df_exclusao_new.sample(n=randint(3000,4000))\n",
    "except:\n",
    "    df_exclusao_new = pd.DataFrame()"
   ]
  },
  {
   "cell_type": "code",
   "execution_count": null,
   "metadata": {
    "execution": {
     "iopub.execute_input": "2022-03-08T12:45:55.594609Z",
     "iopub.status.busy": "2022-03-08T12:45:55.594609Z",
     "iopub.status.idle": "2022-03-08T12:45:55.675635Z",
     "shell.execute_reply": "2022-03-08T12:45:55.674684Z",
     "shell.execute_reply.started": "2022-03-08T12:45:55.594609Z"
    }
   },
   "outputs": [],
   "source": [
    "# df_exclusao_new = pd.concat([df_exclusao_new, temporario_diff_cf, temporario_diff_excf, tmp_diff_cc_st, temporario_diff_evolu])\n",
    "df_exclusao_new = pd.concat([df_exclusao_new, temporario_diff_cf, temporario_diff_excf, temporario_diff_evolu])\n",
    "\n",
    "\n",
    "df_exclusao_new = df_exclusao_new.drop_duplicates('id_notifica', keep='last')\n",
    "df_exclusao_new = df_exclusao_new.loc[df_exclusao_new['id_notifica'].notnull()]\n",
    "\n",
    "\n",
    "casos = df_exclusao_new.loc[df_exclusao_new['evolucao'] != 2]\n",
    "obitos = df_exclusao_new.loc[df_exclusao_new['evolucao'] == 2]\n",
    "\n",
    "print(f\"PS.: df_exclusao_new len =  {len(df_exclusao_new)}\")\n",
    "print(f\"PS.: Foram adicionados {len(casos)} novos casos pra exclusão. Desse quantitativo, {len(obitos)} são óbitos.\")"
   ]
  },
  {
   "cell_type": "code",
   "execution_count": null,
   "metadata": {
    "execution": {
     "iopub.execute_input": "2022-03-08T12:45:55.676644Z",
     "iopub.status.busy": "2022-03-08T12:45:55.676644Z",
     "iopub.status.idle": "2022-03-08T12:45:55.708655Z",
     "shell.execute_reply": "2022-03-08T12:45:55.708655Z",
     "shell.execute_reply.started": "2022-03-08T12:45:55.676644Z"
    }
   },
   "outputs": [],
   "source": [
    "casos_exlu = casos.copy()\n",
    "\n",
    "if ( (len(novos_obitos) > 2 ) & (len(obitos) > 2) ):\n",
    "#     print(len(novos_obitos),'????????')\n",
    "    try:\n",
    "        obitos_exlu = obitos.sample(n=randint(int(len(novos_obitos) / 2) , len(novos_obitos) - 1))\n",
    "#         obitos_exlu = obitos.sample(n=randint(1,int(len(novos_obitos) - 1)))\n",
    "    except:\n",
    "        obitos_exlu = obitos\n",
    "    df_exclusao_new = pd.concat([casos_exlu, obitos_exlu])\n",
    "    print(f\"PS.: Foram adicionados {len(df_exclusao_new)} novos casos pra exclusão. Desse quantitativo, {len(obitos_exlu)} são óbitos.\")\n",
    "else:\n",
    "    df_exclusao_new = pd.concat([casos_exlu])\n",
    "    print(f\"PS.: Foram adicionados {len(df_exclusao_new)} novos casos pra exclusão.\") \n",
    "\n",
    "df_exclusao_new.to_pickle(join(exclusao_pathfile, f\"exclusao_notificacoes_{hoje.strftime('%d_%m_%Y')}.pkl\"))"
   ]
  },
  {
   "cell_type": "code",
   "execution_count": null,
   "metadata": {
    "execution": {
     "iopub.execute_input": "2022-03-08T12:45:55.710643Z",
     "iopub.status.busy": "2022-03-08T12:45:55.710643Z",
     "iopub.status.idle": "2022-03-08T12:45:55.718650Z",
     "shell.execute_reply": "2022-03-08T12:45:55.718650Z",
     "shell.execute_reply.started": "2022-03-08T12:45:55.710643Z"
    }
   },
   "outputs": [],
   "source": [
    "ob02 = temporario_diff_excf.loc[temporario_diff_excf['evolucao'] == 2]\n",
    "ob02['situacao'] = \"marcado para exclusão de ficha\"\n",
    "ob02 = ob02[['id_notifica', 'paciente', 'nome_mae', 'data_diagnostico', 'evolucao', 'data_cura_obito', 'classificacao_final', 'situacao']]\n",
    "#marcado para exclusão de ficha"
   ]
  },
  {
   "cell_type": "code",
   "execution_count": null,
   "metadata": {
    "execution": {
     "iopub.execute_input": "2022-03-08T12:45:55.720646Z",
     "iopub.status.busy": "2022-03-08T12:45:55.719650Z",
     "iopub.status.idle": "2022-03-08T12:45:55.731648Z",
     "shell.execute_reply": "2022-03-08T12:45:55.731648Z",
     "shell.execute_reply.started": "2022-03-08T12:45:55.720646Z"
    }
   },
   "outputs": [],
   "source": [
    "ob03 = tmp_diff_cc_st.loc[tmp_diff_cc_st['evolucao'] == 2]\n",
    "ob03['situacao'] = \"mudaram para inativo ou duplicado\"\n",
    "ob03 = ob03[['id_notifica', 'paciente', 'nome_mae', 'data_diagnostico', 'evolucao', 'data_cura_obito', 'classificacao_final', 'situacao']]\n",
    "#mudaram para inativo ou duplicado"
   ]
  },
  {
   "cell_type": "code",
   "execution_count": null,
   "metadata": {
    "execution": {
     "iopub.execute_input": "2022-03-08T12:45:55.733649Z",
     "iopub.status.busy": "2022-03-08T12:45:55.733649Z",
     "iopub.status.idle": "2022-03-08T12:45:55.781671Z",
     "shell.execute_reply": "2022-03-08T12:45:55.781671Z",
     "shell.execute_reply.started": "2022-03-08T12:45:55.733649Z"
    },
    "tags": []
   },
   "outputs": [],
   "source": [
    "path = join('C:\\\\', 'SESA', 'Inconsistencias')\n",
    "obitos_verificar = pd.concat([ob02, ob03])\n",
    "\n",
    "obitos_verificar = obitos_verificar.drop_duplicates('id_notifica', keep='last')\n",
    "obitos_verificar = obitos_verificar.sort_values('paciente')\n",
    "\n",
    "print(len(obitos_verificar))\n",
    "obitos_verificar.to_excel(join(path, 'qualificação_exclusão_obitos.xlsx'), index=False)"
   ]
  }
 ],
 "metadata": {
  "interpreter": {
   "hash": "1cdc22e96f16e7a709941e5164353478df3c5a2dca8a048b5ddcd85bd66dd558"
  },
  "kernelspec": {
   "display_name": "Python 3 (ipykernel)",
   "language": "python",
   "name": "python3"
  },
  "language_info": {
   "codemirror_mode": {
    "name": "ipython",
    "version": 3
   },
   "file_extension": ".py",
   "mimetype": "text/x-python",
   "name": "python",
   "nbconvert_exporter": "python",
   "pygments_lexer": "ipython3",
   "version": "3.8.11"
  }
 },
 "nbformat": 4,
 "nbformat_minor": 4
}
