{
 "cells": [
  {
   "cell_type": "code",
   "execution_count": 1,
   "metadata": {},
   "outputs": [
    {
     "output_type": "stream",
     "name": "stdout",
     "text": [
      "\n---------------------------------------------------------------\n\nroot: c:\\SESA\\dev\\bulletin\nparent: c:\\SESA\\dev\ndefault_input: c:\\SESA\\dev\\input\ndefault_output: c:\\SESA\\dev\\output\n\n---------------------------------------------------------------\n\n"
     ]
    }
   ],
   "source": [
    "import sys\n",
    "from pathlib import Path\n",
    "from os import getcwd\n",
    "sys.path.append(str(Path(getcwd()).parent))\n",
    "\n",
    "\n",
    "from bulletin import root, default_input, default_output\n",
    "from bulletin.services.metabase import Metabase\n",
    "from bulletin.systems.notifica import Notifica\n",
    "from unidecode import unidecode as unidecode\n",
    "\n",
    "import pandas as pd"
   ]
  },
  {
   "cell_type": "code",
   "execution_count": 2,
   "metadata": {},
   "outputs": [],
   "source": [
    "# notifica = Notifica(usecols=False)\n",
    "# fator_risco = notifica.schema.loc[notifica.schema['group_name']=='comorbidades']"
   ]
  },
  {
   "cell_type": "code",
   "execution_count": 3,
   "metadata": {},
   "outputs": [
    {
     "output_type": "stream",
     "name": "stdout",
     "text": [
      "limit: 100000\nCookie:'13646********-****-****-****-************27d89'\n\nsql_files:\n\t0: all_notifica\n\t1: coisa\n\t2: comorbidades\n\t3: diario\n\t4: new_query\n\t5: old_diario\n\t6: query_linda\n\t7: usecols_notifica\n\nsql_results:\n\t0: comorbidades_len\n\t1: diario_len\n\t2: query_linda_len\nSelect 10 columns\n"
     ]
    },
    {
     "output_type": "execute_result",
     "data": {
      "text/plain": [
       "'SELECT id, situacao_trabalho, doenca_trabalho, paciente_institucionalizado, instituicao, tipo_paciente_institucionalizado, nome_empresa, uf_empresa, ibge_empresa, instituicao_ensino FROM notificacao WHERE classificacao_final = 2 AND excluir_ficha = 2 AND status_notificacao in (1,2) ORDER BY 1 LIMIT ALL OFFSET 0'"
      ]
     },
     "metadata": {},
     "execution_count": 3
    }
   ],
   "source": [
    "mb = Metabase()\n",
    "mb.generate_notifica_query('instituicao',usecols=False,group='instituicao')"
   ]
  },
  {
   "cell_type": "code",
   "execution_count": 4,
   "metadata": {},
   "outputs": [
    {
     "output_type": "stream",
     "name": "stdout",
     "text": [
      "\nsql_files:\n\t0: all_notifica\n\t1: coisa\n\t2: comorbidades\n\t3: diario\n\t4: instituicao\n\t5: new_query\n\t6: old_diario\n\t7: query_linda\n\t8: usecols_notifica\n"
     ]
    }
   ],
   "source": [
    "mb.list_sql_files()"
   ]
  },
  {
   "cell_type": "code",
   "execution_count": 7,
   "metadata": {},
   "outputs": [
    {
     "output_type": "stream",
     "name": "stdout",
     "text": [
      "Download instituicao\n",
      "\n",
      "Requesting csv\n",
      "Success code 200\n",
      "Saving query in c:\\SESA\\dev\\input\\queries\\instituicao_len.csv\n",
      "Download finish!\n",
      "time elapsed: 0:04:28.348252\n",
      "Columns size: 1\n",
      "\n",
      "\n",
      "query_size: 1172190\n",
      "\n",
      "select ... limit 100000 offset 0\n",
      "\n",
      "Requesting csv\n",
      "Success code 200\n",
      "Saving query in c:\\SESA\\dev\\input\\queries\\tmp\\instituicao_0_100000.csv\n",
      "Download finish!\n",
      "time elapsed: 0:05:34.756514\n",
      "Columns size: 10\n",
      "\n",
      "select ... limit 100000 offset 100000\n",
      "\n",
      "Requesting csv\n",
      "Success code 200\n",
      "Saving query in c:\\SESA\\dev\\input\\queries\\tmp\\instituicao_100000_200000.csv\n",
      "Download finish!\n",
      "time elapsed: 0:05:09.125676\n",
      "Columns size: 10\n",
      "\n",
      "select ... limit 100000 offset 200000\n",
      "\n",
      "Requesting csv\n",
      "Success code 200\n",
      "Saving query in c:\\SESA\\dev\\input\\queries\\tmp\\instituicao_200000_300000.csv\n",
      "Download finish!\n",
      "time elapsed: 0:04:41.173784\n",
      "Columns size: 10\n",
      "\n",
      "select ... limit 100000 offset 300000\n",
      "\n",
      "Requesting csv\n",
      "Success code 200\n",
      "Saving query in c:\\SESA\\dev\\input\\queries\\tmp\\instituicao_300000_400000.csv\n",
      "Download finish!\n",
      "time elapsed: 0:02:47.555988\n",
      "Columns size: 10\n",
      "\n",
      "select ... limit 100000 offset 400000\n",
      "\n",
      "Requesting csv\n",
      "Success code 200\n",
      "Saving query in c:\\SESA\\dev\\input\\queries\\tmp\\instituicao_400000_500000.csv\n",
      "Download finish!\n",
      "time elapsed: 0:04:01.617949\n",
      "Columns size: 10\n",
      "\n",
      "select ... limit 100000 offset 500000\n",
      "\n",
      "Requesting csv\n",
      "Success code 200\n",
      "Saving query in c:\\SESA\\dev\\input\\queries\\tmp\\instituicao_500000_600000.csv\n",
      "Download finish!\n",
      "time elapsed: 0:02:40.248518\n",
      "Columns size: 10\n",
      "\n",
      "select ... limit 100000 offset 600000\n",
      "\n",
      "Requesting csv\n",
      "Success code 200\n",
      "Saving query in c:\\SESA\\dev\\input\\queries\\tmp\\instituicao_600000_700000.csv\n",
      "Download finish!\n",
      "time elapsed: 0:01:50.606014\n",
      "Columns size: 10\n",
      "\n",
      "select ... limit 100000 offset 700000\n",
      "\n",
      "Requesting csv\n",
      "Success code 200\n",
      "Saving query in c:\\SESA\\dev\\input\\queries\\tmp\\instituicao_700000_800000.csv\n",
      "Download finish!\n",
      "time elapsed: 0:02:09.899298\n",
      "Columns size: 10\n",
      "\n",
      "select ... limit 100000 offset 800000\n",
      "\n",
      "Requesting csv\n",
      "Success code 200\n",
      "Saving query in c:\\SESA\\dev\\input\\queries\\tmp\\instituicao_800000_900000.csv\n",
      "Download finish!\n",
      "time elapsed: 0:01:26.616940\n",
      "Columns size: 10\n",
      "\n",
      "select ... limit 100000 offset 900000\n",
      "\n",
      "Requesting csv\n",
      "Success code 200\n",
      "Saving query in c:\\SESA\\dev\\input\\queries\\tmp\\instituicao_900000_1000000.csv\n",
      "Download finish!\n",
      "time elapsed: 0:02:07.965930\n",
      "Columns size: 10\n",
      "\n",
      "select ... limit 100000 offset 1000000\n",
      "\n",
      "Requesting csv\n",
      "Success code 200\n",
      "Saving query in c:\\SESA\\dev\\input\\queries\\tmp\\instituicao_1000000_1100000.csv\n",
      "Download finish!\n",
      "time elapsed: 0:02:02.488872\n",
      "Columns size: 10\n",
      "\n",
      "select ... limit 100000 offset 1100000\n",
      "\n",
      "Requesting csv\n",
      "Success code 200\n",
      "Saving query in c:\\SESA\\dev\\input\\queries\\tmp\\instituicao_1100000_1200000.csv\n",
      "Download finish!\n",
      "time elapsed: 0:01:58.676536\n",
      "Columns size: 10\n",
      "\n",
      "Reading c:\\SESA\\dev\\input\\queries\\tmp\\instituicao_0_100000.csv\n",
      "Attrb\n",
      "100000\n",
      "reading Notifica time elepsed:00:00:02\n",
      "Reading c:\\SESA\\dev\\input\\queries\\tmp\\instituicao_100000_200000.csv\n",
      "Appending\n",
      "200000\n",
      "reading Notifica time elepsed:00:00:02\n",
      "Reading c:\\SESA\\dev\\input\\queries\\tmp\\instituicao_200000_300000.csv\n",
      "Appending\n",
      "300000\n",
      "reading Notifica time elepsed:00:00:03\n",
      "Reading c:\\SESA\\dev\\input\\queries\\tmp\\instituicao_300000_400000.csv\n",
      "Appending\n",
      "400000\n",
      "reading Notifica time elepsed:00:00:03\n",
      "Reading c:\\SESA\\dev\\input\\queries\\tmp\\instituicao_400000_500000.csv\n",
      "Appending\n",
      "500000\n",
      "reading Notifica time elepsed:00:00:03\n",
      "Reading c:\\SESA\\dev\\input\\queries\\tmp\\instituicao_500000_600000.csv\n",
      "Appending\n",
      "600000\n",
      "reading Notifica time elepsed:00:00:03\n",
      "Reading c:\\SESA\\dev\\input\\queries\\tmp\\instituicao_600000_700000.csv\n",
      "Appending\n",
      "700000\n",
      "reading Notifica time elepsed:00:00:03\n",
      "Reading c:\\SESA\\dev\\input\\queries\\tmp\\instituicao_700000_800000.csv\n",
      "Appending\n",
      "800000\n",
      "reading Notifica time elepsed:00:00:03\n",
      "Reading c:\\SESA\\dev\\input\\queries\\tmp\\instituicao_800000_900000.csv\n",
      "Appending\n",
      "900000\n",
      "reading Notifica time elepsed:00:00:03\n",
      "Reading c:\\SESA\\dev\\input\\queries\\tmp\\instituicao_900000_1000000.csv\n",
      "Appending\n",
      "1000000\n",
      "reading Notifica time elepsed:00:00:03\n",
      "Reading c:\\SESA\\dev\\input\\queries\\tmp\\instituicao_1000000_1100000.csv\n",
      "Appending\n",
      "1100000\n",
      "reading Notifica time elepsed:00:00:03\n",
      "Reading c:\\SESA\\dev\\input\\queries\\tmp\\instituicao_1100000_1200000.csv\n",
      "Appending\n",
      "1172522\n",
      "reading Notifica time elepsed:00:00:02\n",
      "Download query time elepsed:00:43:16\n"
     ]
    }
   ],
   "source": [
    "# notifica_instituicao = mb.download_notificacao('instituicao',normalize=False)"
   ]
  },
  {
   "cell_type": "code",
   "execution_count": 8,
   "metadata": {},
   "outputs": [],
   "source": [
    "# notifica_instituicao.save()"
   ]
  },
  {
   "cell_type": "code",
   "execution_count": 11,
   "metadata": {},
   "outputs": [],
   "source": [
    "notifica = Notifica('notifica')"
   ]
  },
  {
   "cell_type": "code",
   "execution_count": 17,
   "metadata": {},
   "outputs": [],
   "source": [
    "notifica.load()\n",
    "notifica_df = notifica.df"
   ]
  },
  {
   "cell_type": "code",
   "execution_count": 18,
   "metadata": {},
   "outputs": [],
   "source": [
    "notifica_instituicao.load()\n",
    "df_temp = notifica_instituicao.df"
   ]
  },
  {
   "cell_type": "code",
   "execution_count": 21,
   "metadata": {},
   "outputs": [],
   "source": [
    "notifica_df = notifica_df.merge(how = 'left', on = 'id', right = df_temp)"
   ]
  },
  {
   "cell_type": "code",
   "execution_count": 40,
   "metadata": {},
   "outputs": [],
   "source": [
    "def normalize_hash(string: str):\n",
    "    return \"\".join(filter(lambda char: 'A' <= char <= 'Z', str(string).upper()))\n",
    "\n",
    "def normalize_text(text):\n",
    "    x = str(text)\n",
    "    x = unidecode(x)\n",
    "    x = normalize_hash(x) \n",
    "    if x == 'nan' or len(x) == 0 or x == '0' or x == 'nao_informado':\n",
    "        return ''\n",
    "    else:\n",
    "        return x"
   ]
  },
  {
   "cell_type": "code",
   "execution_count": 41,
   "metadata": {},
   "outputs": [],
   "source": [
    "notifica_df['nome_empresa_hash'] = notifica_df['nome_empresa'].apply(lambda row: normalize_text(row))"
   ]
  },
  {
   "cell_type": "code",
   "execution_count": 42,
   "metadata": {},
   "outputs": [],
   "source": [
    "sesa_df = notifica_df.loc[(notifica_df['nome_empresa_hash'].notna()) & (notifica_df['nome_empresa_hash'].str.contains('SECRETARIADEESTADODASAUDE') | notifica_df['nome_empresa_hash'].str.contains('SESA') | notifica_df['nome_empresa_hash'].str.contains('REGIONALDESAUDE'))]"
   ]
  },
  {
   "cell_type": "code",
   "execution_count": 52,
   "metadata": {},
   "outputs": [
    {
     "output_type": "execute_result",
     "data": {
      "text/plain": [
       "744492    68\n",
       "Name: idade, dtype: int64"
      ]
     },
     "metadata": {},
     "execution_count": 52
    }
   ],
   "source": [
    "sesa_df.loc[sesa_df['evolucao'] == 2]"
   ]
  },
  {
   "cell_type": "code",
   "execution_count": 47,
   "metadata": {},
   "outputs": [],
   "source": [
    "sesa_df.to_excel('casos_sesa.xlsx', index=False)"
   ]
  },
  {
   "cell_type": "code",
   "execution_count": 48,
   "metadata": {},
   "outputs": [
    {
     "output_type": "execute_result",
     "data": {
      "text/plain": [
       "(58, 62)"
      ]
     },
     "metadata": {},
     "execution_count": 48
    }
   ],
   "source": [
    "sesa_df.shape"
   ]
  }
 ],
 "metadata": {
  "kernelspec": {
   "display_name": "Python 3",
   "language": "python",
   "name": "python3"
  },
  "language_info": {
   "codemirror_mode": {
    "name": "ipython",
    "version": 3
   },
   "file_extension": ".py",
   "mimetype": "text/x-python",
   "name": "python",
   "nbconvert_exporter": "python",
   "pygments_lexer": "ipython3",
   "version": "3.8.5-final"
  }
 },
 "nbformat": 4,
 "nbformat_minor": 4
}