{
 "cells": [
  {
   "cell_type": "code",
   "execution_count": 1,
   "metadata": {},
   "outputs": [
    {
     "output_type": "stream",
     "name": "stdout",
     "text": [
      "\n---------------------------------------------------------------\n\nroot: c:\\SESA\\dev\\bulletin\nparent: c:\\SESA\\dev\ndefault_input: c:\\SESA\\dev\\input\ndefault_output: c:\\SESA\\dev\\output\n\n---------------------------------------------------------------\n\n"
     ]
    }
   ],
   "source": [
    "import sys\n",
    "from pathlib import Path\n",
    "from os import getcwd\n",
    "sys.path.append(str(Path(getcwd()).parent))\n",
    "\n",
    "\n",
    "from bulletin import root, default_input, default_output\n",
    "from bulletin.services.metabase import Metabase\n",
    "from bulletin.systems.notifica import Notifica\n",
    "from unidecode import unidecode as unidecode\n",
    "\n",
    "import pandas as pd"
   ]
  },
  {
   "cell_type": "code",
   "execution_count": 2,
   "metadata": {},
   "outputs": [],
   "source": [
    "# notifica = Notifica(usecols=False)\n",
    "# fator_risco = notifica.schema.loc[notifica.schema['group_name']=='comorbidades']"
   ]
  },
  {
   "cell_type": "code",
   "execution_count": 3,
   "metadata": {},
   "outputs": [
    {
     "output_type": "stream",
     "name": "stdout",
     "text": [
      "limit: 100000\nCookie:'13646********-****-****-****-************27d89'\n\nsql_files:\n\t0: all_notifica\n\t1: coisa\n\t2: comorbidades\n\t3: diario\n\t4: instituicao\n\t5: new_query\n\t6: old_diario\n\t7: query_linda\n\t8: update_notifica\n\t9: usecols_notifica\n\nsql_results:\n\t0: comorbidades_len\n\t1: diario_len\n\t2: instituicao_len\n\t3: query_linda_len\n\t4: update_notifica_len\nSelect 10 columns\n"
     ]
    },
    {
     "output_type": "execute_result",
     "data": {
      "text/plain": [
       "'SELECT id, situacao_trabalho, doenca_trabalho, paciente_institucionalizado, instituicao, tipo_paciente_institucionalizado, nome_empresa, uf_empresa, ibge_empresa, instituicao_ensino FROM notificacao WHERE classificacao_final = 2 AND excluir_ficha = 2 AND status_notificacao in (1,2) ORDER BY 1 LIMIT ALL OFFSET 0'"
      ]
     },
     "metadata": {},
     "execution_count": 3
    }
   ],
   "source": [
    "mb = Metabase()\n",
    "mb.generate_notifica_query('instituicao',usecols=False,group='instituicao')"
   ]
  },
  {
   "cell_type": "code",
   "execution_count": 4,
   "metadata": {},
   "outputs": [
    {
     "output_type": "stream",
     "name": "stdout",
     "text": [
      "\nsql_files:\n\t0: all_notifica\n\t1: coisa\n\t2: comorbidades\n\t3: diario\n\t4: instituicao\n\t5: new_query\n\t6: old_diario\n\t7: query_linda\n\t8: update_notifica\n\t9: usecols_notifica\n"
     ]
    }
   ],
   "source": [
    "mb.list_sql_files()"
   ]
  },
  {
   "cell_type": "code",
   "execution_count": 5,
   "metadata": {},
   "outputs": [],
   "source": [
    "# notifica_instituicao = mb.download_notificacao('instituicao',normalize=False)"
   ]
  },
  {
   "cell_type": "code",
   "execution_count": 6,
   "metadata": {},
   "outputs": [],
   "source": [
    "# notifica_instituicao.save()"
   ]
  },
  {
   "cell_type": "code",
   "execution_count": 7,
   "metadata": {},
   "outputs": [],
   "source": [
    "notifica = Notifica('notifica')"
   ]
  },
  {
   "cell_type": "code",
   "execution_count": 8,
   "metadata": {},
   "outputs": [],
   "source": [
    "notifica.load()\n",
    "notifica_df = notifica.df"
   ]
  },
  {
   "cell_type": "code",
   "execution_count": 9,
   "metadata": {},
   "outputs": [],
   "source": [
    "notifica_instituicao = Notifica('instituicao')\n",
    "notifica_instituicao.load()\n",
    "df_temp = notifica_instituicao.df"
   ]
  },
  {
   "cell_type": "code",
   "execution_count": 10,
   "metadata": {},
   "outputs": [],
   "source": [
    "notifica_df = notifica_df.merge(how = 'left', on = 'id', right = df_temp)"
   ]
  },
  {
   "cell_type": "code",
   "execution_count": 11,
   "metadata": {},
   "outputs": [],
   "source": [
    "def normalize_hash(string: str):\n",
    "    return \"\".join(filter(lambda char: 'A' <= char <= 'Z', str(string).upper()))\n",
    "\n",
    "def normalize_text(text):\n",
    "    x = str(text)\n",
    "    x = unidecode(x)\n",
    "    x = normalize_hash(x) \n",
    "    if x == 'nan' or len(x) == 0 or x == '0' or x == 'nao_informado':\n",
    "        return ''\n",
    "    else:\n",
    "        return x"
   ]
  },
  {
   "cell_type": "code",
   "execution_count": 12,
   "metadata": {},
   "outputs": [],
   "source": [
    "notifica_df['nome_empresa_hash'] = notifica_df['nome_empresa'].apply(lambda row: normalize_text(row))"
   ]
  },
  {
   "cell_type": "code",
   "execution_count": 17,
   "metadata": {},
   "outputs": [],
   "source": [
    "sesa_df = notifica_df.loc[(notifica_df['nome_empresa_hash'].notna()) & (notifica_df['nome_empresa_hash'].str.contains('SECRETARIADEESTADODASAUDE') | notifica_df['nome_empresa_hash'].str.contains('SESA') | notifica_df['nome_empresa_hash'].str.contains('REGIONALDESAUDE')) | notifica_df['nome_empresa_hash'].str.contains('SECRETARIADASAUDE') | notifica_df['nome_empresa_hash'].str.contains('SESA') | notifica_df['nome_empresa_hash'].str.contains('SECRETARIAMUNICIPALDASAUDE') | notifica_df['nome_empresa_hash'].str.contains('SECRETARIAMUNICIPALDESAUDE')]"
   ]
  },
  {
   "cell_type": "code",
   "execution_count": 18,
   "metadata": {},
   "outputs": [
    {
     "output_type": "execute_result",
     "data": {
      "text/plain": [
       "(116, 62)"
      ]
     },
     "metadata": {},
     "execution_count": 18
    }
   ],
   "source": [
    "sesa_df.shape"
   ]
  },
  {
   "cell_type": "code",
   "execution_count": 19,
   "metadata": {},
   "outputs": [],
   "source": [
    "sesa_df.to_excel('casos_sesa.xlsx', index = False)"
   ]
  }
 ],
 "metadata": {
  "kernelspec": {
   "display_name": "Python 3",
   "language": "python",
   "name": "python3"
  },
  "language_info": {
   "codemirror_mode": {
    "name": "ipython",
    "version": 3
   },
   "file_extension": ".py",
   "mimetype": "text/x-python",
   "name": "python",
   "nbconvert_exporter": "python",
   "pygments_lexer": "ipython3",
   "version": "3.8.5-final"
  }
 },
 "nbformat": 4,
 "nbformat_minor": 4
}