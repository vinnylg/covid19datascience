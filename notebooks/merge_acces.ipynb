{
 "metadata": {
  "language_info": {
   "codemirror_mode": {
    "name": "ipython",
    "version": 3
   },
   "file_extension": ".py",
   "mimetype": "text/x-python",
   "name": "python",
   "nbconvert_exporter": "python",
   "pygments_lexer": "ipython3",
   "version": "3.8.5-final"
  },
  "orig_nbformat": 2,
  "kernelspec": {
   "name": "python3",
   "display_name": "Python 3",
   "language": "python"
  }
 },
 "nbformat": 4,
 "nbformat_minor": 2,
 "cells": [
  {
   "cell_type": "code",
   "execution_count": 1,
   "metadata": {},
   "outputs": [
    {
     "output_type": "stream",
     "name": "stdout",
     "text": [
      "['c:\\\\Users\\\\Vinícius de Lima\\\\Projects\\\\covid19datascience\\\\notebooks', 'c:\\\\Users\\\\Vinícius de Lima\\\\.vscode\\\\extensions\\\\ms-toolsai.jupyter-2021.3.684299474\\\\pythonFiles', 'c:\\\\Users\\\\Vinícius de Lima\\\\.vscode\\\\extensions\\\\ms-toolsai.jupyter-2021.3.684299474\\\\pythonFiles\\\\lib\\\\python', 'C:\\\\ProgramData\\\\Anaconda3\\\\python38.zip', 'C:\\\\ProgramData\\\\Anaconda3\\\\DLLs', 'C:\\\\ProgramData\\\\Anaconda3\\\\lib', 'C:\\\\ProgramData\\\\Anaconda3', '', 'C:\\\\ProgramData\\\\Anaconda3\\\\lib\\\\site-packages', 'C:\\\\ProgramData\\\\Anaconda3\\\\lib\\\\site-packages\\\\win32', 'C:\\\\ProgramData\\\\Anaconda3\\\\lib\\\\site-packages\\\\win32\\\\lib', 'C:\\\\ProgramData\\\\Anaconda3\\\\lib\\\\site-packages\\\\Pythonwin', 'C:\\\\ProgramData\\\\Anaconda3\\\\lib\\\\site-packages\\\\IPython\\\\extensions', 'C:\\\\Users\\\\Vinícius de Lima\\\\.ipython', '..']\n"
     ]
    }
   ],
   "source": [
    "import sys\n",
    "sys.path.append('..')\n",
    "print(sys.path)"
   ]
  },
  {
   "cell_type": "code",
   "execution_count": 2,
   "metadata": {},
   "outputs": [],
   "source": [
    "from sys import exit\n",
    "import numpy as np\n",
    "import pandas as pd\n",
    "from os.path import dirname, join, isfile, isdir\n",
    "from os import makedirs\n",
    "from datetime import datetime, timedelta, date\n",
    "\n",
    "from bulletin.data.tb_pacientes import TbPacientes\n",
    "from bulletin.data.casos_confirmados import CasosConfirmados\n",
    "from bulletin.commom.utils import Timer, auto_fit_columns\n",
    "from bulletin.commom import static\n",
    "\n",
    "from hashlib import sha256\n",
    "from bulletin.commom.normalize import normalize_text, normalize_number, normalize_hash, normalize_cpf, normalize_ibge\n",
    "\n",
    "import gc\n",
    "\n",
    "pd.set_option('display.max_columns', None)\n",
    "\n",
    "output = join(\"../output\",\"correcoes\",\"tb_pacientes\")\n",
    "input_files = \"../input\"\n",
    "\n",
    "if not isdir(output):\n",
    "    makedirs(output)\n",
    "\n",
    "regionais = static.regionais.copy()\n",
    "timer = Timer()"
   ]
  },
  {
   "cell_type": "code",
   "execution_count": 3,
   "metadata": {},
   "outputs": [
    {
     "output_type": "execute_result",
     "data": {
      "text/plain": [
       "(833786, 16124)"
      ]
     },
     "metadata": {},
     "execution_count": 3
    }
   ],
   "source": [
    "timer.reset()\n",
    "tb = TbPacientes()\n",
    "tb.update()\n",
    "timer.stop()\n",
    "tb.shape()"
   ]
  },
  {
   "cell_type": "code",
   "execution_count": 4,
   "metadata": {},
   "outputs": [
    {
     "output_type": "stream",
     "name": "stdout",
     "text": [
      "Casos confirmados excluidos: 0\n",
      "Obitos confirmados excluidos: 0\n",
      "C:\\ProgramData\\Anaconda3\\lib\\site-packages\\xlsxwriter\\workbook.py:329: UserWarning: Calling close() on already closed file.\n",
      "  warn(\"Calling close() on already closed file.\")\n",
      "Casos confirmados excluidos: 0\n",
      "Obitos confirmados excluidos: 0\n"
     ]
    },
    {
     "output_type": "execute_result",
     "data": {
      "text/plain": [
       "(833786, 16124)"
      ]
     },
     "metadata": {},
     "execution_count": 4
    }
   ],
   "source": [
    "timer.reset()\n",
    "casos_confirmados = CasosConfirmados()\n",
    "casos_confirmados.update()\n",
    "timer.stop()\n",
    "casos_confirmados.shape()"
   ]
  },
  {
   "cell_type": "code",
   "execution_count": 5,
   "metadata": {},
   "outputs": [
    {
     "output_type": "stream",
     "name": "stdout",
     "text": [
      "casos casos_confirmados: (833786, 24)\ncasos tb_pacientes: (833786, 48)\n"
     ]
    }
   ],
   "source": [
    "casost = tb.get()\n",
    "casosc = casos_confirmados.get_casos()\n",
    "print(f\"casos casos_confirmados: {casosc.shape}\")\n",
    "print(f\"casos tb_pacientes: {casost.shape}\")"
   ]
  },
  {
   "cell_type": "code",
   "execution_count": 6,
   "metadata": {},
   "outputs": [],
   "source": [
    "idx_casos_confirmados = casosc[casosc['hash'].isin(casost['hash'])].index.tolist()\n",
    "idx_casos_confirmados += casosc[casosc['hash_less'].isin(casost['hash'])].index.tolist()\n",
    "idx_casos_confirmados += casosc[casosc['hash_more'].isin(casost['hash'])].index.tolist()\n",
    "idx_casos_confirmados += casosc[casosc['hash_atend'].isin(casost['hash_atend'])].index.tolist()\n",
    "idx_casos_confirmados += casosc[casosc['hash_less_atend'].isin(casost['hash_atend'])].index.tolist()\n",
    "idx_casos_confirmados += casosc[casosc['hash_more_atend'].isin(casost['hash_atend'])].index.tolist()\n",
    "idx_casos_confirmados = set(idx_casos_confirmados)\n",
    "casos_confirmados_nao_tb_pacientes = casosc.loc[ set(casosc.index.tolist()) - idx_casos_confirmados ].sort_values('ordem')"
   ]
  },
  {
   "cell_type": "code",
   "execution_count": 7,
   "metadata": {},
   "outputs": [],
   "source": [
    "idx_tb_pacientes = casost[casost['hash'].isin(casosc['hash'])].index.tolist()\n",
    "idx_tb_pacientes += casost[casost['hash'].isin(casosc['hash_less'])].index.tolist()\n",
    "idx_tb_pacientes += casost[casost['hash'].isin(casosc['hash_more'])].index.tolist()\n",
    "idx_tb_pacientes += casost[casost['hash_atend'].isin(casosc['hash_atend'])].index.tolist()\n",
    "idx_tb_pacientes += casost[casost['hash_atend'].isin(casosc['hash_less_atend'])].index.tolist()\n",
    "idx_tb_pacientes += casost[casost['hash_atend'].isin(casosc['hash_more_atend'])].index.tolist()\n",
    "idx_tb_pacientes = set(idx_tb_pacientes)\n",
    "tb_pacientes_nao_casos_confirmados = casost.loc[ set(casost.index.tolist()) - idx_tb_pacientes ].sort_values('identificacao')\n"
   ]
  },
  {
   "cell_type": "code",
   "execution_count": 8,
   "metadata": {},
   "outputs": [
    {
     "output_type": "stream",
     "name": "stdout",
     "text": [
      "casos_confirmados_nao_tb_pacientes: (0, 24)\ntb_pacientes_nao_casos_confirmados: (0, 48)\n"
     ]
    }
   ],
   "source": [
    "print(f\"casos_confirmados_nao_tb_pacientes: {casos_confirmados_nao_tb_pacientes.shape}\")\n",
    "if len(casos_confirmados_nao_tb_pacientes) > 0:\n",
    "    casos_confirmados_nao_tb_pacientes.sort_values('nome').to_excel(join(output,'casos_confirmados_nao_tb_pacientes.xlsx'), index=False)\n",
    "print(f\"tb_pacientes_nao_casos_confirmados: {tb_pacientes_nao_casos_confirmados.shape}\")\n",
    "if len(tb_pacientes_nao_casos_confirmados) > 0:\n",
    "    tb_pacientes_nao_casos_confirmados.sort_values('nome').to_excel(join(output,'tb_pacientes_nao_casos_confirmados.xlsx'), index=False)\n",
    "if (len(casos_confirmados_nao_tb_pacientes) > 0) or (len(tb_pacientes_nao_casos_confirmados) > 0):\n",
    "    raise Exception(\"diferentes\")"
   ]
  },
  {
   "cell_type": "code",
   "execution_count": 9,
   "metadata": {},
   "outputs": [],
   "source": [
    "casost['ibge_res_pr'] = casost['ibge_res_pr'].fillna('9999999')\n",
    "casosc['ibge7'] = casosc['ibge7'].fillna('9999999')"
   ]
  },
  {
   "cell_type": "code",
   "execution_count": 10,
   "metadata": {},
   "outputs": [],
   "source": [
    "casosc['nome_hash'] = casosc['nome'].apply(normalize_hash)\n",
    "casost['nome_hash'] = casost['nome'].apply(normalize_hash)"
   ]
  },
  {
   "cell_type": "code",
   "execution_count": 11,
   "metadata": {},
   "outputs": [
    {
     "output_type": "stream",
     "name": "stdout",
     "text": [
      "False\nFalse\nFalse\n"
     ]
    }
   ],
   "source": [
    "print(all(casosc['nome_hash'].values == casost['nome_hash'].values))\n",
    "print(all(casosc['ibge7'].values == casost['ibge_res_pr'].values))\n",
    "print(all(casosc['idade'].values == casost['idade'].values))"
   ]
  },
  {
   "cell_type": "code",
   "execution_count": 12,
   "metadata": {},
   "outputs": [],
   "source": [
    "timer.reset()\n",
    "\n",
    "if False:\n",
    "    sorted_casosc = pd.DataFrame(columns=casosc.columns, dtype=casosc.dtypes.values)\n",
    "    sorted_casost = pd.DataFrame(columns=casost.columns, dtype=casost.dtypes.values)\n",
    "    i = 0\n",
    "    for (ibge_cc, df_ibge_cc), (ibge_tb, df_ibge_tb) in zip(casosc.groupby('ibge7'),casost.groupby('ibge_res_pr')):\n",
    "        print(i,end=' ')\n",
    "        i+=1\n",
    "        if ibge_cc != ibge_tb:\n",
    "            raise Exception(ibge_cc,ibge_tb)\n",
    "\n",
    "        df_ibge_cc = df_ibge_cc.sort_values('nome_hash')\n",
    "        df_ibge_tb = df_ibge_tb.sort_values('nome_hash')\n",
    "\n",
    "        duplicados_ibge_cc = df_ibge_cc.loc[ df_ibge_cc.duplicated('nome_hash', keep=False) ]\n",
    "        duplicados_ibge_tb = df_ibge_tb.loc[ df_ibge_tb.duplicated('nome_hash', keep=False) ]\n",
    "\n",
    "        sorted_casosc = sorted_casosc.append(df_ibge_cc.loc[~df_ibge_cc.index.isin(duplicados_ibge_cc.index)])\n",
    "        sorted_casost = sorted_casost.append(df_ibge_tb.loc[~df_ibge_tb.index.isin(duplicados_ibge_tb.index)])\n",
    "\n",
    "        for (nome_cc, df_nome_cc), (nome_tb, df_nome_tb) in zip(duplicados_ibge_cc.groupby('nome_hash'),duplicados_ibge_tb.groupby('nome_hash')):\n",
    "            if nome_cc != nome_tb:\n",
    "                raise Exception(nome_cc,nome_tb)\n",
    "\n",
    "            sorted_casosc = sorted_casosc.append(df_nome_cc.sort_values('idade'))\n",
    "            sorted_casost = sorted_casost.append(df_nome_tb.sort_values('idade'))\n",
    "\n",
    "\n",
    "    print(f\"casos casos_confirmados: {sorted_casosc.shape}\")\n",
    "    print(f\"casos tb_pacientes: {casost.shape}\")\n",
    "    print(timer.stop())\n",
    "    casosc = sorted_casosc.copy()\n",
    "    casost = sorted_casost.copy()\n",
    "\n",
    "    casosc.to_excel('casosc.xlsx')\n",
    "    casost.to_excel('casost.xlsx')\n",
    "    exit()\n",
    "\n",
    "else:\n",
    "    casosc['identificacao'] = casosc['identificacao'].apply(int)\n",
    "    casost['identificacao'] = casost['identificacao'].apply(int)\n",
    "    casosc = casosc.sort_values('identificacao').copy()\n",
    "    casost = casost.sort_values('identificacao').copy()\n",
    "\n",
    "# casosc['identificacao'] = casost['identificacao'].copy()"
   ]
  },
  {
   "cell_type": "code",
   "execution_count": 13,
   "metadata": {},
   "outputs": [
    {
     "output_type": "stream",
     "name": "stdout",
     "text": [
      "True\nTrue\nFalse\n"
     ]
    }
   ],
   "source": [
    "print(all(casosc.sort_values('nome_hash')['nome_hash'].values == casost.sort_values('nome_hash')['nome_hash'].values))\n",
    "print(all(casosc['ibge7'].values == casost['ibge_res_pr'].values))\n",
    "print(all(casosc['idade'].values == casost['idade'].values))"
   ]
  },
  {
   "cell_type": "code",
   "execution_count": 14,
   "metadata": {},
   "outputs": [],
   "source": [
    "obitosc = casosc.loc[casosc['obito']=='SIM']\n",
    "obitost = casost.loc[casost['obito']=='SIM']"
   ]
  },
  {
   "cell_type": "code",
   "execution_count": 15,
   "metadata": {},
   "outputs": [
    {
     "output_type": "execute_result",
     "data": {
      "text/plain": [
       "Empty DataFrame\n",
       "Columns: [ordem, identificacao, ibge7, rs_res_pr, nome, sexo, idade, mun_resid, mun_atend, rs, laboratorio, dt_diag, comunicacao, is, obito, data_obito, excluir, hash, hash_less, hash_more, hash_atend, hash_less_atend, hash_more_atend, hash_dt_diag, nome_hash]\n",
       "Index: []"
      ],
      "text/html": "<div>\n<style scoped>\n    .dataframe tbody tr th:only-of-type {\n        vertical-align: middle;\n    }\n\n    .dataframe tbody tr th {\n        vertical-align: top;\n    }\n\n    .dataframe thead th {\n        text-align: right;\n    }\n</style>\n<table border=\"1\" class=\"dataframe\">\n  <thead>\n    <tr style=\"text-align: right;\">\n      <th></th>\n      <th>ordem</th>\n      <th>identificacao</th>\n      <th>ibge7</th>\n      <th>rs_res_pr</th>\n      <th>nome</th>\n      <th>sexo</th>\n      <th>idade</th>\n      <th>mun_resid</th>\n      <th>mun_atend</th>\n      <th>rs</th>\n      <th>laboratorio</th>\n      <th>dt_diag</th>\n      <th>comunicacao</th>\n      <th>is</th>\n      <th>obito</th>\n      <th>data_obito</th>\n      <th>excluir</th>\n      <th>hash</th>\n      <th>hash_less</th>\n      <th>hash_more</th>\n      <th>hash_atend</th>\n      <th>hash_less_atend</th>\n      <th>hash_more_atend</th>\n      <th>hash_dt_diag</th>\n      <th>nome_hash</th>\n    </tr>\n  </thead>\n  <tbody>\n  </tbody>\n</table>\n</div>"
     },
     "metadata": {},
     "execution_count": 15
    }
   ],
   "source": [
    "obitosc.loc[~obitosc['identificacao'].isin(obitost['identificacao'])]"
   ]
  },
  {
   "cell_type": "code",
   "execution_count": 16,
   "metadata": {},
   "outputs": [
    {
     "output_type": "execute_result",
     "data": {
      "text/plain": [
       "Empty DataFrame\n",
       "Columns: [identificacao, ibge_res_pr, ibge_atend_pr, nome, sexo, idade, mun_resid, mun_atend, laboratorio, dt_diag, dt_notificacao, dt_inicio_sintomas, 15_dia_isolamento, dt_viagem_retorno, local_viagem, exposicao, data_de_internamento, local, clinico_uti, dt_alta, obito, dt_obito, muni_res_pr, hist_viagem, casos_novos, telefone, dt_atualizacao, fonte, status, eas, privado_sus, uti, dt_internamento, evolucao, dt_evolucao, temp_permanencia, cod_laboratorio, idade_original, dt_com_obito, dt_com_recuperado, idade_mais1, idade_menos1, hash, hash_less, hash_more, hash_atend, hash_less_atend, hash_more_atend, nome_hash]\n",
       "Index: []"
      ],
      "text/html": "<div>\n<style scoped>\n    .dataframe tbody tr th:only-of-type {\n        vertical-align: middle;\n    }\n\n    .dataframe tbody tr th {\n        vertical-align: top;\n    }\n\n    .dataframe thead th {\n        text-align: right;\n    }\n</style>\n<table border=\"1\" class=\"dataframe\">\n  <thead>\n    <tr style=\"text-align: right;\">\n      <th></th>\n      <th>identificacao</th>\n      <th>ibge_res_pr</th>\n      <th>ibge_atend_pr</th>\n      <th>nome</th>\n      <th>sexo</th>\n      <th>idade</th>\n      <th>mun_resid</th>\n      <th>mun_atend</th>\n      <th>laboratorio</th>\n      <th>dt_diag</th>\n      <th>dt_notificacao</th>\n      <th>dt_inicio_sintomas</th>\n      <th>15_dia_isolamento</th>\n      <th>dt_viagem_retorno</th>\n      <th>local_viagem</th>\n      <th>exposicao</th>\n      <th>data_de_internamento</th>\n      <th>local</th>\n      <th>clinico_uti</th>\n      <th>dt_alta</th>\n      <th>obito</th>\n      <th>dt_obito</th>\n      <th>muni_res_pr</th>\n      <th>hist_viagem</th>\n      <th>casos_novos</th>\n      <th>telefone</th>\n      <th>dt_atualizacao</th>\n      <th>fonte</th>\n      <th>status</th>\n      <th>eas</th>\n      <th>privado_sus</th>\n      <th>uti</th>\n      <th>dt_internamento</th>\n      <th>evolucao</th>\n      <th>dt_evolucao</th>\n      <th>temp_permanencia</th>\n      <th>cod_laboratorio</th>\n      <th>idade_original</th>\n      <th>dt_com_obito</th>\n      <th>dt_com_recuperado</th>\n      <th>idade_mais1</th>\n      <th>idade_menos1</th>\n      <th>hash</th>\n      <th>hash_less</th>\n      <th>hash_more</th>\n      <th>hash_atend</th>\n      <th>hash_less_atend</th>\n      <th>hash_more_atend</th>\n      <th>nome_hash</th>\n    </tr>\n  </thead>\n  <tbody>\n  </tbody>\n</table>\n</div>"
     },
     "metadata": {},
     "execution_count": 16
    }
   ],
   "source": [
    "obitost.loc[~obitost['identificacao'].isin(obitosc['identificacao'])]"
   ]
  },
  {
   "cell_type": "code",
   "execution_count": 17,
   "metadata": {},
   "outputs": [],
   "source": [
    "regionais = static.regionais.copy()\n",
    "\n",
    "try:\n",
    "    casosc = casosc_copy.copy()\n",
    "except:\n",
    "    casosc_copy = casosc.copy()\n",
    "\n",
    "casosc['ordem'] = [ i for i in range(1,len(casosc)+1)]\n",
    "\n",
    "casosc = casosc.rename(columns={'ibge7':'ibge_resid','nome':'paciente','dt_diag':'data_diagnostico','comunicacao':'data_comunicacao','is':'data_1o_sintomas'})\n",
    "\n",
    "casosc['ibge_atend'] = casost['ibge_atend_pr'].apply(normalize_ibge).values.tolist()\n",
    "casosc['ibge_resid'] = casosc['ibge_resid'].apply(normalize_ibge).values.tolist()\n",
    "\n",
    "casosc.loc[casosc['rs'].isnull(),'rs'] = 99\n",
    "casosc['rs'] = casosc['rs'].apply(int)\n",
    "\n",
    "regionais = regionais.append(pd.Series({'nu_reg':99,'nm_macro':\"FORA_PR\",'nm_reg':'FORA_PR'}),ignore_index=True)\n",
    "regionais = regionais.groupby(['nu_reg','nm_reg','nm_macro'])[['ibge']].count().reset_index()\n",
    "# del regionais['ibge']\n",
    "# casosc['nm_macro'] = casosc.apply(lambda x: regionais.loc[regionais['nu_reg']==x['rs']],1)\n",
    "# casosc['nm_reg'] = casosc.apply(lambda x: regionais.loc[regionais['nu_reg']==x['rs']],1)\n",
    "casosc = pd.merge(casosc,regionais,how='left',left_on='rs',right_on='nu_reg',left_index=True)\n",
    "\n",
    "\n",
    "casosc = pd.merge(casosc,casost[['identificacao','dt_obito','dt_com_obito','status','dt_com_recuperado']],'left',on='identificacao')\n",
    "\n",
    "casosc['caso'] = 1\n",
    "casosc['recuperado'] = 0\n",
    "casosc['ativo'] = 1\n",
    "\n",
    "casosc.loc[(casosc['status']==\"Recuperado\"),'recuperado'] = 1\n",
    "casosc.loc[(casosc['obito']=='SIM'),'obito'] = 1\n",
    "casosc.loc[(casosc['obito']=='NAO'),'obito'] = 0\n",
    "casosc.loc[(casosc['obito']==1) | (casosc['recuperado']==1),'ativo'] = 0\n",
    "\n",
    "casosc.loc[(casosc['recuperado']==1) & (casosc['obito']==1 ), 'recuperado'].to_excel('casos_cura_obito.xlsx')\n",
    "casosc.loc[(casosc['recuperado']==1) & (casosc['obito']==1 ), 'recuperado'] = 0\n",
    "\n",
    "casosc['data_com_evolucao'] = ''\n",
    "\n",
    "casosc.loc[casosc['obito']==1,'evolucao'] = 'OBITO'\n",
    "casosc.loc[casosc['recuperado']==1,'evolucao'] = 'CURA'\n",
    "casosc.loc[casosc['ativo']==1,'evolucao'] = 'ATIVO'\n",
    "\n",
    "casosc = casosc.rename(columns={'data_obito':'data_evolucao'})\n",
    "\n",
    "casosc = casosc[['nm_macro','ordem', 'identificacao', 'ibge_resid', 'ibge_atend', 'paciente', 'sexo', 'idade', 'rs','nm_reg', 'mun_resid', 'mun_atend', 'laboratorio', 'data_diagnostico', 'data_comunicacao', 'data_1o_sintomas', 'evolucao','data_evolucao', 'data_com_evolucao']]"
   ]
  },
  {
   "cell_type": "code",
   "execution_count": 18,
   "metadata": {},
   "outputs": [
    {
     "output_type": "execute_result",
     "data": {
      "text/plain": [
       "               qtde\n",
       "ATIVO        229868\n",
       "CURA         587794\n",
       "OBITO         16124\n",
       "TOTAL CASOS  833786"
      ],
      "text/html": "<div>\n<style scoped>\n    .dataframe tbody tr th:only-of-type {\n        vertical-align: middle;\n    }\n\n    .dataframe tbody tr th {\n        vertical-align: top;\n    }\n\n    .dataframe thead th {\n        text-align: right;\n    }\n</style>\n<table border=\"1\" class=\"dataframe\">\n  <thead>\n    <tr style=\"text-align: right;\">\n      <th></th>\n      <th>qtde</th>\n    </tr>\n  </thead>\n  <tbody>\n    <tr>\n      <th>ATIVO</th>\n      <td>229868</td>\n    </tr>\n    <tr>\n      <th>CURA</th>\n      <td>587794</td>\n    </tr>\n    <tr>\n      <th>OBITO</th>\n      <td>16124</td>\n    </tr>\n    <tr>\n      <th>TOTAL CASOS</th>\n      <td>833786</td>\n    </tr>\n  </tbody>\n</table>\n</div>"
     },
     "metadata": {},
     "execution_count": 18
    }
   ],
   "source": [
    "a = casosc.groupby('evolucao')[['ordem']].count().rename(columns={'ordem':'qtde'})\n",
    "a.append(pd.DataFrame([len(casosc)],['TOTAL CASOS'],['qtde']))"
   ]
  },
  {
   "cell_type": "code",
   "execution_count": 19,
   "metadata": {},
   "outputs": [
    {
     "output_type": "execute_result",
     "data": {
      "text/plain": [
       "evolucao      ATIVO    CURA  OBITO  TOTAL_CASOS\n",
       "nm_macro                                       \n",
       "LESTE        107025  271484   8080       386589\n",
       "OESTE         25273  149255   2931       177459\n",
       "NOROESTE      34826   93672   2235       130733\n",
       "NORTE         59457   71407   2761       133625\n",
       "FORA_PR        3287    1976    117         5380\n",
       "TOTAL_GERAL  229868  587794  16124       833786"
      ],
      "text/html": "<div>\n<style scoped>\n    .dataframe tbody tr th:only-of-type {\n        vertical-align: middle;\n    }\n\n    .dataframe tbody tr th {\n        vertical-align: top;\n    }\n\n    .dataframe thead th {\n        text-align: right;\n    }\n</style>\n<table border=\"1\" class=\"dataframe\">\n  <thead>\n    <tr style=\"text-align: right;\">\n      <th>evolucao</th>\n      <th>ATIVO</th>\n      <th>CURA</th>\n      <th>OBITO</th>\n      <th>TOTAL_CASOS</th>\n    </tr>\n    <tr>\n      <th>nm_macro</th>\n      <th></th>\n      <th></th>\n      <th></th>\n      <th></th>\n    </tr>\n  </thead>\n  <tbody>\n    <tr>\n      <th>LESTE</th>\n      <td>107025</td>\n      <td>271484</td>\n      <td>8080</td>\n      <td>386589</td>\n    </tr>\n    <tr>\n      <th>OESTE</th>\n      <td>25273</td>\n      <td>149255</td>\n      <td>2931</td>\n      <td>177459</td>\n    </tr>\n    <tr>\n      <th>NOROESTE</th>\n      <td>34826</td>\n      <td>93672</td>\n      <td>2235</td>\n      <td>130733</td>\n    </tr>\n    <tr>\n      <th>NORTE</th>\n      <td>59457</td>\n      <td>71407</td>\n      <td>2761</td>\n      <td>133625</td>\n    </tr>\n    <tr>\n      <th>FORA_PR</th>\n      <td>3287</td>\n      <td>1976</td>\n      <td>117</td>\n      <td>5380</td>\n    </tr>\n    <tr>\n      <th>TOTAL_GERAL</th>\n      <td>229868</td>\n      <td>587794</td>\n      <td>16124</td>\n      <td>833786</td>\n    </tr>\n  </tbody>\n</table>\n</div>"
     },
     "metadata": {},
     "execution_count": 19
    }
   ],
   "source": [
    "totais_macro = casosc.groupby(['nm_macro','evolucao'])[['ordem']].count()\n",
    "totais_macro = totais_macro.unstack().droplevel(0,1)\n",
    "totais_macro['TOTAL_CASOS'] = totais_macro.sum(1)\n",
    "totais_macro = totais_macro.append(pd.Series(totais_macro.sum(0),name='TOTAL_GERAL'))\n",
    "totais_macro = totais_macro.reindex(['LESTE', 'OESTE', 'NOROESTE', 'NORTE', 'FORA_PR', 'TOTAL_GERAL'])\n",
    "totais_macro"
   ]
  },
  {
   "cell_type": "code",
   "execution_count": 20,
   "metadata": {},
   "outputs": [
    {
     "output_type": "execute_result",
     "data": {
      "text/plain": [
       "evolucao               ATIVO    CURA  OBITO  TOTAL_CASOS\n",
       "rs nm_reg                                               \n",
       "1   PARANAGUA          10556   14323    532        25411\n",
       "2  METROPOLITANA       62636  194435   5855       262926\n",
       "3  PONTA GROSSA        15133   29542    855        45530\n",
       "4  IRATI                1345    6927    142         8414\n",
       "5  GUARAPUAVA           8512   13431    323        22266\n",
       "6  UNIAO DA VITORIA     1474    4698    100         6272\n",
       "7  PATO BRANCO          3115   17719    400        21234\n",
       "8  FRANCISCO BELTRAO    6921   21943    428        29292\n",
       "9  FOZ DO IGUACU        8706   36125    774        45605\n",
       "10 CASCAVEL             2691   40682    824        44197\n",
       "11 CAMPO MOURAO         5761   11882    300        17943\n",
       "12 UMUARAMA             7903   10781    265        18949\n",
       "13 CIANORTE             1086    8790    130        10006\n",
       "14 PARANAVAI            3739   10582    258        14579\n",
       "15 MARINGA             16337   51637   1282        69256\n",
       "16 APUCARANA            9089   12189    632        21910\n",
       "17 LONDRINA            42860   30783   1378        75021\n",
       "18 CORNELIO PROCOPIO    2139   11550    336        14025\n",
       "19 JACAREZINHO          4436   11437    298        16171\n",
       "20 TOLEDO               3840   32786    505        37131\n",
       "21 TELEMACO BORBA       7369    8128    273        15770\n",
       "22 IVAIPORA              933    5448    117         6498\n",
       "99 FORA_PR              3287    1976    117         5380\n",
       "   TOTAL_GERAL        229868  587794  16124       833786"
      ],
      "text/html": "<div>\n<style scoped>\n    .dataframe tbody tr th:only-of-type {\n        vertical-align: middle;\n    }\n\n    .dataframe tbody tr th {\n        vertical-align: top;\n    }\n\n    .dataframe thead th {\n        text-align: right;\n    }\n</style>\n<table border=\"1\" class=\"dataframe\">\n  <thead>\n    <tr style=\"text-align: right;\">\n      <th></th>\n      <th>evolucao</th>\n      <th>ATIVO</th>\n      <th>CURA</th>\n      <th>OBITO</th>\n      <th>TOTAL_CASOS</th>\n    </tr>\n    <tr>\n      <th>rs</th>\n      <th>nm_reg</th>\n      <th></th>\n      <th></th>\n      <th></th>\n      <th></th>\n    </tr>\n  </thead>\n  <tbody>\n    <tr>\n      <th>1</th>\n      <th>PARANAGUA</th>\n      <td>10556</td>\n      <td>14323</td>\n      <td>532</td>\n      <td>25411</td>\n    </tr>\n    <tr>\n      <th>2</th>\n      <th>METROPOLITANA</th>\n      <td>62636</td>\n      <td>194435</td>\n      <td>5855</td>\n      <td>262926</td>\n    </tr>\n    <tr>\n      <th>3</th>\n      <th>PONTA GROSSA</th>\n      <td>15133</td>\n      <td>29542</td>\n      <td>855</td>\n      <td>45530</td>\n    </tr>\n    <tr>\n      <th>4</th>\n      <th>IRATI</th>\n      <td>1345</td>\n      <td>6927</td>\n      <td>142</td>\n      <td>8414</td>\n    </tr>\n    <tr>\n      <th>5</th>\n      <th>GUARAPUAVA</th>\n      <td>8512</td>\n      <td>13431</td>\n      <td>323</td>\n      <td>22266</td>\n    </tr>\n    <tr>\n      <th>6</th>\n      <th>UNIAO DA VITORIA</th>\n      <td>1474</td>\n      <td>4698</td>\n      <td>100</td>\n      <td>6272</td>\n    </tr>\n    <tr>\n      <th>7</th>\n      <th>PATO BRANCO</th>\n      <td>3115</td>\n      <td>17719</td>\n      <td>400</td>\n      <td>21234</td>\n    </tr>\n    <tr>\n      <th>8</th>\n      <th>FRANCISCO BELTRAO</th>\n      <td>6921</td>\n      <td>21943</td>\n      <td>428</td>\n      <td>29292</td>\n    </tr>\n    <tr>\n      <th>9</th>\n      <th>FOZ DO IGUACU</th>\n      <td>8706</td>\n      <td>36125</td>\n      <td>774</td>\n      <td>45605</td>\n    </tr>\n    <tr>\n      <th>10</th>\n      <th>CASCAVEL</th>\n      <td>2691</td>\n      <td>40682</td>\n      <td>824</td>\n      <td>44197</td>\n    </tr>\n    <tr>\n      <th>11</th>\n      <th>CAMPO MOURAO</th>\n      <td>5761</td>\n      <td>11882</td>\n      <td>300</td>\n      <td>17943</td>\n    </tr>\n    <tr>\n      <th>12</th>\n      <th>UMUARAMA</th>\n      <td>7903</td>\n      <td>10781</td>\n      <td>265</td>\n      <td>18949</td>\n    </tr>\n    <tr>\n      <th>13</th>\n      <th>CIANORTE</th>\n      <td>1086</td>\n      <td>8790</td>\n      <td>130</td>\n      <td>10006</td>\n    </tr>\n    <tr>\n      <th>14</th>\n      <th>PARANAVAI</th>\n      <td>3739</td>\n      <td>10582</td>\n      <td>258</td>\n      <td>14579</td>\n    </tr>\n    <tr>\n      <th>15</th>\n      <th>MARINGA</th>\n      <td>16337</td>\n      <td>51637</td>\n      <td>1282</td>\n      <td>69256</td>\n    </tr>\n    <tr>\n      <th>16</th>\n      <th>APUCARANA</th>\n      <td>9089</td>\n      <td>12189</td>\n      <td>632</td>\n      <td>21910</td>\n    </tr>\n    <tr>\n      <th>17</th>\n      <th>LONDRINA</th>\n      <td>42860</td>\n      <td>30783</td>\n      <td>1378</td>\n      <td>75021</td>\n    </tr>\n    <tr>\n      <th>18</th>\n      <th>CORNELIO PROCOPIO</th>\n      <td>2139</td>\n      <td>11550</td>\n      <td>336</td>\n      <td>14025</td>\n    </tr>\n    <tr>\n      <th>19</th>\n      <th>JACAREZINHO</th>\n      <td>4436</td>\n      <td>11437</td>\n      <td>298</td>\n      <td>16171</td>\n    </tr>\n    <tr>\n      <th>20</th>\n      <th>TOLEDO</th>\n      <td>3840</td>\n      <td>32786</td>\n      <td>505</td>\n      <td>37131</td>\n    </tr>\n    <tr>\n      <th>21</th>\n      <th>TELEMACO BORBA</th>\n      <td>7369</td>\n      <td>8128</td>\n      <td>273</td>\n      <td>15770</td>\n    </tr>\n    <tr>\n      <th>22</th>\n      <th>IVAIPORA</th>\n      <td>933</td>\n      <td>5448</td>\n      <td>117</td>\n      <td>6498</td>\n    </tr>\n    <tr>\n      <th>99</th>\n      <th>FORA_PR</th>\n      <td>3287</td>\n      <td>1976</td>\n      <td>117</td>\n      <td>5380</td>\n    </tr>\n    <tr>\n      <th></th>\n      <th>TOTAL_GERAL</th>\n      <td>229868</td>\n      <td>587794</td>\n      <td>16124</td>\n      <td>833786</td>\n    </tr>\n  </tbody>\n</table>\n</div>"
     },
     "metadata": {},
     "execution_count": 20
    }
   ],
   "source": [
    "totais_rs = casosc.groupby(['rs','nm_reg','evolucao'])[['ordem']].count()\n",
    "totais_rs = totais_rs.unstack().droplevel(0,1)\n",
    "totais_rs['TOTAL_CASOS'] = totais_rs.sum(1)\n",
    "totais_rs = totais_rs.append(pd.Series(totais_rs.sum(0),name=('','TOTAL_GERAL')))\n",
    "totais_rs"
   ]
  },
  {
   "cell_type": "code",
   "execution_count": 21,
   "metadata": {},
   "outputs": [
    {
     "output_type": "execute_result",
     "data": {
      "text/plain": [
       "evolucao                        ATIVO  CURA  OBITO  TOTAL_CASOS\n",
       "ibge_resid mun_resid                                           \n",
       "410010     ABATIA                  43   305      6          354\n",
       "410020     ADRIANOPOLIS           107   868     20          995\n",
       "410030     AGUDOS DO SUL          143   260      5          408\n",
       "410040     ALMIRANTE TAMANDARE   5299  1356    220         6875\n",
       "410045     ALTAMIRA DO PARANA      19    71      2           92\n",
       "...                               ...   ...    ...          ...\n",
       "412863     DOUTOR ULYSSES          16   197      2          215\n",
       "412865     VIRMOND                167    13      3          183\n",
       "412870     VITORINO                30   474     14          518\n",
       "412880     XAMBRE                  30   190      5          225\n",
       "999999     FORA_PARANA           3287  1976    117         5380\n",
       "\n",
       "[402 rows x 4 columns]"
      ],
      "text/html": "<div>\n<style scoped>\n    .dataframe tbody tr th:only-of-type {\n        vertical-align: middle;\n    }\n\n    .dataframe tbody tr th {\n        vertical-align: top;\n    }\n\n    .dataframe thead th {\n        text-align: right;\n    }\n</style>\n<table border=\"1\" class=\"dataframe\">\n  <thead>\n    <tr style=\"text-align: right;\">\n      <th></th>\n      <th>evolucao</th>\n      <th>ATIVO</th>\n      <th>CURA</th>\n      <th>OBITO</th>\n      <th>TOTAL_CASOS</th>\n    </tr>\n    <tr>\n      <th>ibge_resid</th>\n      <th>mun_resid</th>\n      <th></th>\n      <th></th>\n      <th></th>\n      <th></th>\n    </tr>\n  </thead>\n  <tbody>\n    <tr>\n      <th>410010</th>\n      <th>ABATIA</th>\n      <td>43</td>\n      <td>305</td>\n      <td>6</td>\n      <td>354</td>\n    </tr>\n    <tr>\n      <th>410020</th>\n      <th>ADRIANOPOLIS</th>\n      <td>107</td>\n      <td>868</td>\n      <td>20</td>\n      <td>995</td>\n    </tr>\n    <tr>\n      <th>410030</th>\n      <th>AGUDOS DO SUL</th>\n      <td>143</td>\n      <td>260</td>\n      <td>5</td>\n      <td>408</td>\n    </tr>\n    <tr>\n      <th>410040</th>\n      <th>ALMIRANTE TAMANDARE</th>\n      <td>5299</td>\n      <td>1356</td>\n      <td>220</td>\n      <td>6875</td>\n    </tr>\n    <tr>\n      <th>410045</th>\n      <th>ALTAMIRA DO PARANA</th>\n      <td>19</td>\n      <td>71</td>\n      <td>2</td>\n      <td>92</td>\n    </tr>\n    <tr>\n      <th>...</th>\n      <th>...</th>\n      <td>...</td>\n      <td>...</td>\n      <td>...</td>\n      <td>...</td>\n    </tr>\n    <tr>\n      <th>412863</th>\n      <th>DOUTOR ULYSSES</th>\n      <td>16</td>\n      <td>197</td>\n      <td>2</td>\n      <td>215</td>\n    </tr>\n    <tr>\n      <th>412865</th>\n      <th>VIRMOND</th>\n      <td>167</td>\n      <td>13</td>\n      <td>3</td>\n      <td>183</td>\n    </tr>\n    <tr>\n      <th>412870</th>\n      <th>VITORINO</th>\n      <td>30</td>\n      <td>474</td>\n      <td>14</td>\n      <td>518</td>\n    </tr>\n    <tr>\n      <th>412880</th>\n      <th>XAMBRE</th>\n      <td>30</td>\n      <td>190</td>\n      <td>5</td>\n      <td>225</td>\n    </tr>\n    <tr>\n      <th>999999</th>\n      <th>FORA_PARANA</th>\n      <td>3287</td>\n      <td>1976</td>\n      <td>117</td>\n      <td>5380</td>\n    </tr>\n  </tbody>\n</table>\n<p>402 rows × 4 columns</p>\n</div>"
     },
     "metadata": {},
     "execution_count": 21
    }
   ],
   "source": [
    "aux = casosc.copy()\n",
    "aux.loc[aux['rs']==99,'mun_resid'] = 'FORA_PARANA'\n",
    "totais_mun = aux.groupby(['ibge_resid','mun_resid','evolucao'])[['ordem']].count()\n",
    "totais_mun = totais_mun.unstack().droplevel(0,1)\n",
    "totais_mun['TOTAL_CASOS'] = totais_mun.sum(1)\n",
    "totais_mun.append(pd.Series(totais_mun.sum(0),name='TOTAL_GERAL'))\n",
    "totais_mun = totais_mun.fillna(0).astype(int)\n",
    "totais_mun"
   ]
  },
  {
   "cell_type": "code",
   "execution_count": 22,
   "metadata": {},
   "outputs": [],
   "source": [
    "writer = pd.ExcelWriter(join(output,\"totais_pr.xlsx\"),\n",
    "                        engine='xlsxwriter',\n",
    "                        datetime_format='dd/mm/yyyy',\n",
    "                        date_format='dd/mm/yyyy')\n",
    "\n",
    "totais_macro.to_excel(writer,'totais_macro')\n",
    "worksheet = writer.sheets['totais_macro']\n",
    "auto_fit_columns(worksheet,totais_macro)\n",
    "\n",
    "totais_rs.to_excel(writer,'totais_rs')\n",
    "worksheet = writer.sheets['totais_rs']\n",
    "auto_fit_columns(worksheet,totais_rs)\n",
    "\n",
    "totais_mun.to_excel(writer,'totais_mun')\n",
    "worksheet = writer.sheets['totais_mun']\n",
    "auto_fit_columns(worksheet,totais_mun)\n",
    "\n",
    "writer.save()"
   ]
  },
  {
   "source": [
    "writer = pd.ExcelWriter(join(output,\"casos_confirmados.xlsx\"),\n",
    "                        engine='xlsxwriter',\n",
    "                        datetime_format='dd/mm/yyyy',\n",
    "                        date_format='dd/mm/yyyy')\n",
    "\n",
    "casosc['id'] = [ f\"{rs}{i}\" for i,rs in enumerate(casosc['nm_macro'])]\n",
    "casosc['id_notifica'] = ''\n",
    "\n",
    "casosc = casosc[['id','identificacao','id_notifica','ibge_resid', 'ibge_atend', 'paciente', 'sexo', 'idade', 'rs', 'mun_resid', 'mun_atend', 'laboratorio', 'data_diagnostico', 'data_comunicacao', 'data_1o_sintomas', 'evolucao', 'data_evolucao', 'data_com_evolucao']].sort_values(['data_comunicacao','paciente'])\n",
    "casosc.to_excel(writer,'casos_confirmados',index=None)\n",
    "worksheet = writer.sheets['casos_confirmados']\n",
    "auto_fit_columns(worksheet,casosc)\n",
    "\n",
    "writer.save()"
   ],
   "cell_type": "code",
   "metadata": {},
   "execution_count": 23,
   "outputs": []
  },
  {
   "cell_type": "code",
   "execution_count": 24,
   "metadata": {},
   "outputs": [],
   "source": [
    "obitos = casosc.loc[casosc['evolucao']=='OBITO']\n",
    "writer = pd.ExcelWriter(join(output,\"obitos_confirmados.xlsx\"),\n",
    "                        engine='xlsxwriter',\n",
    "                        datetime_format='dd/mm/yyyy',\n",
    "                        date_format='dd/mm/yyyy')\n",
    "\n",
    "obitos = obitos[['id','identificacao','id_notifica','ibge_resid', 'paciente', 'sexo', 'idade', 'rs', 'mun_resid', 'data_diagnostico', 'data_evolucao', 'data_com_evolucao']].sort_values(['data_evolucao','paciente'])\n",
    "obitos.to_excel(writer,'obitos_confirmados',index=None)\n",
    "worksheet = writer.sheets['obitos_confirmados']\n",
    "auto_fit_columns(worksheet,obitos)\n",
    "\n",
    "writer.save()"
   ]
  },
  {
   "cell_type": "code",
   "execution_count": 25,
   "metadata": {},
   "outputs": [],
   "source": [
    "recuperados = casosc.loc[casosc['evolucao']=='CURA']\n",
    "writer = pd.ExcelWriter(join(output,\"casos_recuperados.xlsx\"),\n",
    "                        engine='xlsxwriter',\n",
    "                        datetime_format='dd/mm/yyyy',\n",
    "                        date_format='dd/mm/yyyy')\n",
    "\n",
    "recuperados = recuperados[['id','identificacao','id_notifica','ibge_resid', 'paciente', 'sexo', 'idade', 'rs', 'mun_resid', 'data_diagnostico', 'data_evolucao', 'data_com_evolucao']].sort_values(['data_diagnostico','paciente'])\n",
    "recuperados.to_excel(writer,'casos_recuperados',index=None)\n",
    "worksheet = writer.sheets['casos_recuperados']\n",
    "auto_fit_columns(worksheet,recuperados)\n",
    "\n",
    "writer.save()"
   ]
  },
  {
   "cell_type": "code",
   "execution_count": 26,
   "metadata": {},
   "outputs": [],
   "source": [
    "ativos = casosc.loc[casosc['evolucao']=='ATIVO'].copy()\n",
    "ativos['dias_apos_notificacao'] = ativos.apply(lambda row: (pd.Timestamp('today') - row['data_diagnostico']).days\n",
    ", axis=1)\n",
    "\n",
    "writer = pd.ExcelWriter(join(output,\"casos_ativos.xlsx\"),\n",
    "                        engine='xlsxwriter',\n",
    "                        datetime_format='dd/mm/yyyy',\n",
    "                        date_format='dd/mm/yyyy')\n",
    "\n",
    "ativos = ativos[['id','identificacao','id_notifica','ibge_resid', 'paciente', 'sexo', 'idade', 'rs', 'mun_resid', 'data_diagnostico', 'data_comunicacao','dias_apos_notificacao']].sort_values(['dias_apos_notificacao','paciente'],ascending=False)\n",
    "ativos.to_excel(writer,'casos_ativos',index=None)\n",
    "worksheet = writer.sheets['casos_ativos']\n",
    "auto_fit_columns(worksheet,ativos)\n",
    "\n",
    "writer.save()"
   ]
  },
  {
   "cell_type": "code",
   "execution_count": 27,
   "metadata": {},
   "outputs": [],
   "source": [
    "# my_red = openpyxl.styles.colors.Color(rgb='00FF0000')\n",
    "# my_fill = openpyxl.styles.fills.PatternFill(patternType='solid', fgColor=my_red)\n",
    "# cell.fill = my_fill"
   ]
  }
 ]
}