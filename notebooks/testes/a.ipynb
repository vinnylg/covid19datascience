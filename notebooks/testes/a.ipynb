{
 "cells": [
  {
   "cell_type": "code",
   "execution_count": null,
   "metadata": {
    "execution": {
     "iopub.execute_input": "2021-09-27T02:25:00.339446Z",
     "iopub.status.busy": "2021-09-27T02:25:00.339446Z",
     "iopub.status.idle": "2021-09-27T02:25:00.347426Z",
     "shell.execute_reply": "2021-09-27T02:25:00.346426Z",
     "shell.execute_reply.started": "2021-09-27T02:25:00.339446Z"
    },
    "tags": []
   },
   "outputs": [],
   "source": [
    "## set covid19_datasciente as path for python find bulletin package\n",
    "import sys\n",
    "from pathlib import Path\n",
    "import os\n",
    "from os import getcwd, remove\n",
    "from os.path import join, basename\n",
    "\n",
    "sys.path.append(str(Path(getcwd()).parent.parent))"
   ]
  },
  {
   "cell_type": "code",
   "execution_count": null,
   "metadata": {
    "execution": {
     "iopub.execute_input": "2021-09-27T02:25:00.999105Z",
     "iopub.status.busy": "2021-09-27T02:25:00.998097Z",
     "iopub.status.idle": "2021-09-27T02:25:01.007085Z",
     "shell.execute_reply": "2021-09-27T02:25:01.006086Z",
     "shell.execute_reply.started": "2021-09-27T02:25:00.999105Z"
    },
    "tags": []
   },
   "outputs": [],
   "source": [
    "def macro_sort(column):\n",
    "    \"\"\"Sort function\"\"\"\n",
    "    macros = ['Leste', 'Oeste', 'Noroeste', 'Norte', 'Fora','Total']\n",
    "    correspondence = {macro: order for order, macro in enumerate(macros)}\n",
    "    return column.map(correspondence)"
   ]
  },
  {
   "cell_type": "code",
   "execution_count": null,
   "metadata": {
    "execution": {
     "iopub.execute_input": "2021-09-27T02:26:08.862427Z",
     "iopub.status.busy": "2021-09-27T02:26:08.861467Z",
     "iopub.status.idle": "2021-09-27T02:26:08.871438Z",
     "shell.execute_reply": "2021-09-27T02:26:08.870411Z",
     "shell.execute_reply.started": "2021-09-27T02:26:08.862427Z"
    },
    "tags": []
   },
   "outputs": [],
   "source": [
    "import pandas as pd\n",
    "from glob import glob\n",
    "import epiweeks"
   ]
  },
  {
   "cell_type": "code",
   "execution_count": null,
   "metadata": {},
   "outputs": [],
   "source": [
    "pd.set_option('display.max_columns', 150)\n",
    "pd.set_option('display.max_rows', 500)\n",
    "pd.options.display.float_format = lambda x: '{:.1f}'.format(x)#.replace(',',';').replace('.',',').replace(';','.')\n"
   ]
  },
  {
   "cell_type": "code",
   "execution_count": null,
   "metadata": {
    "execution": {
     "iopub.execute_input": "2021-09-27T02:25:02.290979Z",
     "iopub.status.busy": "2021-09-27T02:25:02.290979Z",
     "iopub.status.idle": "2021-09-27T02:25:03.613599Z",
     "shell.execute_reply": "2021-09-27T02:25:03.612598Z",
     "shell.execute_reply.started": "2021-09-27T02:25:02.290979Z"
    },
    "tags": []
   },
   "outputs": [],
   "source": [
    "from bulletin import default_input, default_output, hoje, ontem, tables\n",
    "from bulletin.systems import CasosConfirmados\n",
    "from bulletin.utils.xls_ import fit_cols"
   ]
  },
  {
   "cell_type": "code",
   "execution_count": null,
   "metadata": {
    "execution": {
     "iopub.execute_input": "2021-09-27T02:29:46.354624Z",
     "iopub.status.busy": "2021-09-27T02:29:46.352576Z",
     "iopub.status.idle": "2021-09-27T02:29:46.365572Z",
     "shell.execute_reply": "2021-09-27T02:29:46.362567Z",
     "shell.execute_reply.started": "2021-09-27T02:29:46.353624Z"
    },
    "tags": []
   },
   "outputs": [],
   "source": [
    "cc = CasosConfirmados()\n",
    "cc.load(f\"cc_{hoje.strftime('%d_%m_%Y')}\")\n",
    "cc.df.set_index('id_notifica',inplace=True)\n",
    "cc.df.rename(columns={'identificacao':'id'},inplace=True)"
   ]
  },
  {
   "cell_type": "code",
   "execution_count": null,
   "metadata": {},
   "outputs": [],
   "source": [
    "municipios = tables['municipios'].copy()\n",
    "municipios['regional'] = municipios['rs'].astype(str).str.zfill(2) + 'ª - ' + municipios['regional']\n",
    "municipios"
   ]
  },
  {
   "cell_type": "code",
   "execution_count": null,
   "metadata": {},
   "outputs": [],
   "source": [
    "municipios.dtypes"
   ]
  },
  {
   "cell_type": "code",
   "execution_count": null,
   "metadata": {},
   "outputs": [],
   "source": [
    "cc.df = cc.df.loc[cc.df['uf_residencia']=='PR']"
   ]
  },
  {
   "cell_type": "code",
   "execution_count": null,
   "metadata": {
    "execution": {
     "iopub.execute_input": "2021-09-27T03:20:04.168368Z",
     "iopub.status.busy": "2021-09-27T03:20:04.167152Z",
     "iopub.status.idle": "2021-09-27T03:20:04.184017Z",
     "shell.execute_reply": "2021-09-27T03:20:04.184017Z",
     "shell.execute_reply.started": "2021-09-27T03:20:04.168368Z"
    },
    "tags": []
   },
   "outputs": [],
   "source": [
    "def split_date(row):\n",
    "    row.insert(row.columns.get_loc('data')+1,'ano',row['data'].dt.year)\n",
    "    row.insert(row.columns.get_loc('data')+2,'mes',row['data'].dt.month)\n",
    "    row.insert(row.columns.get_loc('data')+3,'se',row['data'].apply(lambda dt: epiweeks.Week.fromdate(dt).week))\n",
    "    row.insert(row.columns.get_loc('data')+4,'dia',row['data'].dt.day)\n",
    "    return row"
   ]
  },
  {
   "cell_type": "code",
   "execution_count": null,
   "metadata": {
    "execution": {
     "iopub.execute_input": "2021-09-27T03:34:57.855158Z",
     "iopub.status.busy": "2021-09-27T03:34:57.855158Z",
     "iopub.status.idle": "2021-09-27T03:35:01.657419Z",
     "shell.execute_reply": "2021-09-27T03:35:01.656442Z",
     "shell.execute_reply.started": "2021-09-27T03:34:57.855158Z"
    },
    "tags": []
   },
   "outputs": [],
   "source": [
    "casos = cc.df.rename(columns={'data_diagnostico':'data','ibge_residencia':'ibge'}).groupby(['ibge','data'])[['id']].count().rename(columns={'id':'casos'})\n",
    "obitos = cc.df.loc[cc.df['evolucao']==2].rename(columns={'data_cura_obito':'data','ibge_residencia':'ibge'}).groupby(['ibge','data'])[['id']].count().rename(columns={'id':'obitos'})\n",
    "recuperados = cc.df.loc[cc.df['evolucao']==1].rename(columns={'data_cura_obito':'data','ibge_residencia':'ibge'}).groupby(['ibge','data'])[['id']].count().rename(columns={'id':'recuperados'})\n",
    "ativos = cc.df.loc[cc.df['evolucao']==3].rename(columns={'data_diagnostico':'data','ibge_residencia':'ibge'}).groupby(['ibge','data'])[['id']].count().rename(columns={'id':'ativos'})"
   ]
  },
  {
   "cell_type": "code",
   "execution_count": null,
   "metadata": {
    "execution": {
     "iopub.execute_input": "2021-09-27T04:01:45.168818Z",
     "iopub.status.busy": "2021-09-27T04:01:45.168818Z",
     "iopub.status.idle": "2021-09-27T04:01:55.684699Z",
     "shell.execute_reply": "2021-09-27T04:01:55.683707Z",
     "shell.execute_reply.started": "2021-09-27T04:01:45.168818Z"
    },
    "tags": []
   },
   "outputs": [],
   "source": [
    "cora = casos.join([obitos,recuperados,ativos]).fillna(0).astype(int)\n",
    "cora.reset_index(inplace=True)"
   ]
  },
  {
   "cell_type": "code",
   "execution_count": null,
   "metadata": {
    "execution": {
     "iopub.execute_input": "2021-09-27T04:01:41.814511Z",
     "iopub.status.busy": "2021-09-27T04:01:41.812513Z",
     "iopub.status.idle": "2021-09-27T04:01:41.850572Z",
     "shell.execute_reply": "2021-09-27T04:01:41.848543Z",
     "shell.execute_reply.started": "2021-09-27T04:01:41.814511Z"
    },
    "tags": []
   },
   "outputs": [],
   "source": [
    "cora = split_date(cora)\n",
    "cora = cora.join(tables['municipios'].set_index('ibge'), on='ibge')"
   ]
  },
  {
   "cell_type": "code",
   "execution_count": null,
   "metadata": {},
   "outputs": [],
   "source": [
    "fator_incidencia = 10**5"
   ]
  },
  {
   "cell_type": "code",
   "execution_count": null,
   "metadata": {},
   "outputs": [],
   "source": [
    "co = cora.copy() ## casos_obitos\n",
    "co = co.groupby(['uf','macro','rs','ibge','populacao','ano'])[['casos','obitos']].sum().unstack(-1).fillna(0).sort_index(level=1,axis=0,key=macro_sort)\n",
    "co.columns = co.columns.set_names('medidas',level=0)\n",
    "\n",
    "co = co.reorder_levels(order=['ano', 'medidas'], axis=1).sort_index(axis=1)\n",
    "\n",
    "co_rs = co.reset_index('populacao').groupby(level=[0,1,2]).sum()\n",
    "co_rs['ibge'] = 'Total'\n",
    "co_rs = co_rs.set_index(['ibge','populacao'],append=True)\n",
    "\n",
    "co_macro = co.reset_index('populacao').groupby(level=[0,1]).sum()\n",
    "co_macro[['rs','ibge']] = 'Total'\n",
    "co_macro = co_macro.set_index(['rs','ibge','populacao'],append=True)\n",
    "\n",
    "co_pr = co.reset_index('populacao').groupby(level=[0]).sum()\n",
    "co_pr[['macro','rs','ibge']] = 'Total'\n",
    "co_pr = co_pr.set_index(['macro','rs','ibge','populacao'],append=True)\n",
    "\n",
    "co = pd.concat([co,co_rs,co_macro,co_pr]).sort_index(axis=0,level=1,key=macro_sort)\n",
    "\n",
    "coefs = (co / co.reset_index('populacao')[['populacao']].values * fator_incidencia)\n",
    "coefs = coefs.rename({'casos':'coef. incidência','obitos':'coef. mortalidade'},axis=1,level=1)\n",
    "\n",
    "tx_letalidade = co.loc[:,pd.IndexSlice[:,'obitos']] / co.loc[:,pd.IndexSlice[:,'casos']].values\n",
    "tx_letalidade = tx_letalidade.rename({'obitos':'tx. letalidade'},axis=1,level=1)"
   ]
  },
  {
   "cell_type": "code",
   "execution_count": null,
   "metadata": {},
   "outputs": [],
   "source": [
    "co_all = co.join(coefs).join(tx_letalidade).sort_index(axis=1).reindex(['casos', 'coef. incidência', 'obitos', 'coef. mortalidade','tx. letalidade'], level='medidas', axis=1)\n",
    "co_all.sort_index(level=1,axis=0,key=macro_sort)"
   ]
  },
  {
   "cell_type": "code",
   "execution_count": null,
   "metadata": {},
   "outputs": [],
   "source": [
    "writer = pd.ExcelWriter(join(default_output,'medidas_aaa.xlsx'),engine='xlsxwriter')"
   ]
  },
  {
   "cell_type": "code",
   "execution_count": null,
   "metadata": {},
   "outputs": [],
   "source": [
    "macro = co_all.loc[pd.IndexSlice['PR',:,'Total',:],:].droplevel(axis=0,level=['ibge','rs']).drop('Total',axis=0,level=1)\n",
    "pr = co_all.loc[pd.IndexSlice['PR','Total',:,:],:].droplevel(axis=0,level=['ibge','rs']).rename(index={regional.index.get_level_values('uf')[0]:'Total PR','Total':''})\n",
    "table = pd.concat([macro,pr])\n",
    "table.to_excel(writer,'PR')"
   ]
  },
  {
   "cell_type": "code",
   "execution_count": null,
   "metadata": {},
   "outputs": [],
   "source": [
    "for mc in sorted(cora.macro.unique()):\n",
    "    regional = co_all.loc[pd.IndexSlice[:,mc,:,'Total'],:].droplevel(axis=0,level='ibge').drop('Total',axis=0,level=2)\n",
    "    regional = regional.rename(index={rs:municipios.set_index('rs').loc[rs,'regional'].iloc[0] for rs in regional.index.get_level_values('rs')})\n",
    "    \n",
    "    macro = co_all.loc[pd.IndexSlice[:,regional.index.get_level_values('macro')[0],'Total',:],:].rename(index={regional.index.get_level_values('macro')[0]:'Total Macro','Total':''}).droplevel(axis=0,level='ibge')\n",
    "    \n",
    "    pr = co_all.loc[pd.IndexSlice[regional.index.get_level_values('uf')[0],'Total',:,:],:].rename(index={regional.index.get_level_values('uf')[0]:'Total PR','Total':''}).droplevel(axis=0,level='ibge')\n",
    "    \n",
    "    table = pd.concat([regional,macro,pr])\n",
    "    table.to_excel(writer,mc)"
   ]
  },
  {
   "cell_type": "code",
   "execution_count": null,
   "metadata": {},
   "outputs": [],
   "source": [
    "for rs in sorted(cora.rs.unique()):\n",
    "    mun = co_all.loc[pd.IndexSlice[:,:,rs,:],:].drop('Total',axis=0,level=3)\n",
    "    mun = mun.rename(index={ibge:municipios.set_index('ibge').loc[ibge,'municipio'] for ibge in mun.index.get_level_values('ibge')})\n",
    "    mun = mun.rename(index={rs:municipios.set_index('rs').loc[rs,'regional'].iloc[0] for rs in mun.index.get_level_values('rs')})\n",
    "\n",
    "    regional = co_all.loc[pd.IndexSlice[:,:,rs,'Total'],:].rename(index={rs:'Total Regional','Total':''})\n",
    "    \n",
    "    macro = co_all.loc[pd.IndexSlice[:,regional.index.get_level_values('macro')[0],'Total',:],:].rename(index={regional.index.get_level_values('macro')[0]:'Total Macro','Total':''})\n",
    "    \n",
    "    pr = co_all.loc[pd.IndexSlice[regional.index.get_level_values('uf')[0],'Total',:,:],:].rename(index={regional.index.get_level_values('uf')[0]:'Total PR','Total':''})\n",
    "    \n",
    "    table = pd.concat([mun,regional,macro,pr])\n",
    "    table.to_excel(writer,str(rs))"
   ]
  },
  {
   "cell_type": "code",
   "execution_count": null,
   "metadata": {},
   "outputs": [],
   "source": [
    "writer.save()\n",
    "# writer = pd.ExcelWriter(join(default_output,'medidas_macro.xlsx'),engine='xlsxwriter')\n",
    "\n",
    "# for mc in sorted(cora.macro.unique()):\n",
    "#     regional = co_all.loc[pd.IndexSlice[:,mc,:,'Total'],:].droplevel(axis=0,level='ibge').drop('Total',axis=0,level=2)\n",
    "#     regional = regional.rename(index={rs:municipios.set_index('rs').loc[rs,'regional'].iloc[0] for rs in regional.index.get_level_values('rs')})\n",
    "    \n",
    "#     macro = co_all.loc[pd.IndexSlice[:,regional.index.get_level_values('macro')[0],'Total',:],:].rename(index={regional.index.get_level_values('macro')[0]:'Total Macro','Total':''}).droplevel(axis=0,level='ibge')\n",
    "    \n",
    "#     pr = co_all.loc[pd.IndexSlice[regional.index.get_level_values('uf')[0],'Total',:,:],:].rename(index={regional.index.get_level_values('uf')[0]:'Total PR','Total':''}).droplevel(axis=0,level='ibge')\n",
    "    \n",
    "#     table = pd.concat([regional,macro,pr])\n",
    "#     table.to_excel(writer,str(mc))\n",
    "    \n",
    "# writer.save()"
   ]
  },
  {
   "cell_type": "code",
   "execution_count": null,
   "metadata": {},
   "outputs": [],
   "source": []
  }
 ],
 "metadata": {
  "kernelspec": {
   "display_name": "Python 3 (ipykernel)",
   "language": "python",
   "name": "python3"
  },
  "language_info": {
   "codemirror_mode": {
    "name": "ipython",
    "version": 3
   },
   "file_extension": ".py",
   "mimetype": "text/x-python",
   "name": "python",
   "nbconvert_exporter": "python",
   "pygments_lexer": "ipython3",
   "version": "3.8.11"
  }
 },
 "nbformat": 4,
 "nbformat_minor": 4
}
