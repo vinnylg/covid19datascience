{
 "cells": [
  {
   "cell_type": "code",
   "execution_count": null,
   "id": "3afc1822-7bb8-4cd2-990d-58ac2e378c0c",
   "metadata": {
    "execution": {
     "iopub.execute_input": "2021-09-21T12:27:33.586373Z",
     "iopub.status.busy": "2021-09-21T12:27:33.586373Z",
     "iopub.status.idle": "2021-09-21T12:27:35.153476Z",
     "shell.execute_reply": "2021-09-21T12:27:35.152497Z",
     "shell.execute_reply.started": "2021-09-21T12:27:33.586373Z"
    },
    "tags": []
   },
   "outputs": [],
   "source": [
    "import sys\n",
    "import itertools\n",
    "from pathlib import Path\n",
    "from os import getcwd\n",
    "sys.path.append(str(Path(getcwd()).parent.parent))\n",
    "from os.path import join, basename\n",
    "\n",
    "import numpy as np\n",
    "import pandas as pd\n",
    "\n",
    "pd.set_option('display.max_columns', None)\n",
    "# pd.set_option('display.max_rows', None)\n",
    "\n",
    "from bulletin import default_input, default_output, data_comeco_pandemia, menor_data_nascimento, hoje\n",
    "from bulletin.systems import Notifica, CasosConfirmados\n",
    "from bulletin.services import Metabase\n",
    "from bulletin.utils import utils, normalize\n",
    "from bulletin.utils.static import Municipios\n",
    "from bulletin.utils.xls_ import fit_cols\n",
    "\n",
    "import random\n",
    "import gc"
   ]
  },
  {
   "cell_type": "code",
   "execution_count": null,
   "id": "e05ab628-7a81-4eaa-a05b-deb6089d6c14",
   "metadata": {
    "execution": {
     "iopub.execute_input": "2021-09-21T12:27:35.155481Z",
     "iopub.status.busy": "2021-09-21T12:27:35.154483Z",
     "iopub.status.idle": "2021-09-21T12:27:35.163485Z",
     "shell.execute_reply": "2021-09-21T12:27:35.162484Z",
     "shell.execute_reply.started": "2021-09-21T12:27:35.155481Z"
    },
    "tags": []
   },
   "outputs": [],
   "source": [
    "mb = Metabase()\n",
    "# mb.download_tables()\n",
    "# mb.notificacao_information_schema(True)"
   ]
  },
  {
   "cell_type": "code",
   "execution_count": null,
   "id": "d71769ab-4c9f-4aa7-a2f3-2f96f4b17a69",
   "metadata": {
    "execution": {
     "iopub.execute_input": "2021-09-21T12:27:35.167484Z",
     "iopub.status.busy": "2021-09-21T12:27:35.166482Z",
     "iopub.status.idle": "2021-09-21T12:28:11.327281Z",
     "shell.execute_reply": "2021-09-21T12:28:11.327281Z",
     "shell.execute_reply.started": "2021-09-21T12:27:35.167484Z"
    }
   },
   "outputs": [],
   "source": [
    "notifica = Notifica('notifica')\n",
    "notifica.load(compress=False)"
   ]
  },
  {
   "cell_type": "code",
   "execution_count": null,
   "id": "c32ab397-2569-4dca-b426-6f7589089772",
   "metadata": {
    "execution": {
     "iopub.execute_input": "2021-09-21T12:28:11.327281Z",
     "iopub.status.busy": "2021-09-21T12:28:11.327281Z",
     "iopub.status.idle": "2021-09-21T12:29:59.007456Z",
     "shell.execute_reply": "2021-09-21T12:29:59.006797Z",
     "shell.execute_reply.started": "2021-09-21T12:28:11.327281Z"
    },
    "tags": []
   },
   "outputs": [],
   "source": [
    "def converters(self):\n",
    "    for col in self.schema.loc[self.schema['converters'].notna(),'column']:\n",
    "        if col in self.df.columns:\n",
    "            self.df[col] = self.df[col].apply(self.converters[col])\n",
    "\n",
    "def normalize_dates(self,format='%d/%m/%Y',errors='coerce'):\n",
    "    for col in self.schema.loc[(self.schema['dtypes']=='datetime64[ns]'),'column']:\n",
    "        if col in self.df.columns:\n",
    "            self.df[col] = pd.to_datetime(self.df[col],format=format,errors=errors)\n",
    "            \n",
    "            if col == 'data_nascimento':\n",
    "                self.df.loc[(self.df[col]<menor_data_nascimento)|(self.df[col]>hoje), col] = pd.NaT\n",
    "            else:\n",
    "                self.df.loc[(self.df[col]<data_comeco_pandemia)|(self.df[col]>hoje), col] = pd.NaT\n",
    "\n",
    "def fillna(self):\n",
    "    # Normalize valores null em campos não nullables\n",
    "    for col, dtype, fillna in self.schema.loc[self.schema['fillna'].notna(),['column', 'dtypes','fillna']].itertuples(False):\n",
    "        if col in self.df.columns:\n",
    "            self.df.loc[self.df[col].isna(),col] = fillna\n",
    "            self.df[col] = self.df[col].astype(eval(dtype))\n",
    "            \n",
    "\n",
    "def fill_category(self):\n",
    "    for col, dtype, ftable, fkey, fillna in self.schema.loc[self.schema['foreign_table_name'].notna() & self.schema['fillna'].notna(),['column', 'dtypes', 'foreign_table_name','foreign_column_name','fillna']].itertuples(False):\n",
    "        if (col in self.df.columns):\n",
    "            categorias = self.tables[ftable][fkey].values\n",
    "            for categoria_errada in [ valor for valor in self.df[col].unique() if not valor in categorias ]:\n",
    "                self.df.loc[self.df[col]==categoria_errada,col] = fillna\n",
    "                self.df[col] = self.df[col].astype(eval(dtype))\n",
    "\n",
    "fill_category(notifica)"
   ]
  },
  {
   "cell_type": "code",
   "execution_count": null,
   "id": "0cff4717-0153-4e4f-bcb4-07c28f629d7d",
   "metadata": {
    "execution": {
     "iopub.execute_input": "2021-09-21T12:29:59.010464Z",
     "iopub.status.busy": "2021-09-21T12:29:59.008456Z",
     "iopub.status.idle": "2021-09-21T12:29:59.018456Z",
     "shell.execute_reply": "2021-09-21T12:29:59.017464Z",
     "shell.execute_reply.started": "2021-09-21T12:29:59.010464Z"
    },
    "tags": []
   },
   "outputs": [],
   "source": [
    "#         # Normalize int\n",
    "#         for col, dtype in self.schema.loc[self.schema['dtypes']=='int',['column', 'dtypes']].itertuples(False):\n",
    "#             if (col in self.df.columns) and (self.df[col].dtype == np.float64):\n",
    "#                 with Timer(init_msg=f\"normalize int in {col}\"):\n",
    "#                     self.df[col] = self.df[col].apply(lambda x: normalize_number(x,fill=-2))\n",
    "#                     try:\n",
    "#                         print(f\"Trynna type {col} to {dtype}\")\n",
    "#                         self.df[col] = self.df[col].astype(eval(dtype))\n",
    "#                     except:\n",
    "#                         print(f\"Não deu :/\")\n",
    "#                         pass\n",
    "                    \n",
    "#         # Normalize valores categóticos fora das categorias :/ \n",
    "#         print(f\"\\n\\naaaaaaaaaaaaaaaaaaaaaaaaaaaaaaaaaaaaaaaaaaa\\n\\n\")\n",
    "\n",
    "#         for col, dtype in self.schema.loc[self.schema['foreign_table_name'].notna(),['column', 'dtypes']].itertuples(False):\n",
    "#             if (col in self.df.columns) and (self.schema.loc[self.schema['column']==col,'fillna'].notna().values[0]) and (self.df[col].dtype == np.float64):\n",
    "#                 with Timer(init_msg=f\"normalize categoria_errada in {col}\"):\n",
    "#                     categorias = self.tables[self.schema.loc[self.schema['column']==col,'foreign_table_name'].values[0]][self.schema.loc[self.schema['column']==col,'foreign_column_name']].T.values[0].tolist()\n",
    "#                     print('categorias: ',categorias)\n",
    "#                     for categoria_errada in [ valor for valor in self.df[col].unique() if not valor in categorias + [-1] ]:\n",
    "#                         print('categoria_errada: ',categoria_errada, 'fillna: ',self.schema.loc[self.schema['column']==col,'fillna'].values[0])\n",
    "#                         self.df.loc[self.df[col]==categoria_errada,col] = self.schema.loc[self.schema['column']==col,'fillna'].values[0]\n",
    "#                     try:\n",
    "#                         print(f\"Trynna type {col} to {dtype}\")\n",
    "#                         self.df[col] = self.df[col].astype(eval(dtype))\n",
    "#                     except:\n",
    "#                         print(f\"Não deu :/\")\n",
    "#                         pass\n",
    "        \n",
    "#         print(f\"\\n\\naaaaaaaaaaaaaaaaaaaaaaaaaaaaaaaaaaaaaaaaaaa\\n\\n\")\n",
    "\n",
    "#         #normalize string types\n",
    "#         for col in self.schema.loc[self.schema['dtypes']=='str','column']:\n",
    "#             if (col in self.df.columns):\n",
    "#                 with Timer(init_msg=f\"normalize string in {col}\"):\n",
    "#                     if (self.df[col].dtype == np.float64):\n",
    "#                         print(f\"{col} is float\")\n",
    "#                         self.df.loc[self.df[col].notna(),col] = self.df.loc[self.df[col].notna(),col].apply(lambda x: f'{x:.0f}')\n",
    "#                     else:\n",
    "#                         print(f\"{col} not is float\")\n",
    "#                         self.df.loc[self.df[col].notna(),col] = self.df.loc[self.df[col].notna(),col].apply(str)\n",
    "\n",
    "\n",
    "#         # Seleciona melhor data de diagnóstico dentre as datas validas na ordem de prioridade: \n",
    "#         # data_coleta -> data_recebimento -> data_liberacao -> data_notificacao\n",
    "#         with Timer(init_msg=\"Seleciona melhor data de diagnóstico dentre as datas validas\"):\n",
    "#             self.df['data_diagnostico'] = self.df['data_notificacao']\n",
    "#             self.df.loc[self.df['data_liberacao'].notnull(), 'data_diagnostico'] = self.df.loc[self.df['data_liberacao'].notnull(), 'data_liberacao']\n",
    "#             self.df.loc[self.df['data_recebimento'].notnull(), 'data_diagnostico'] = self.df.loc[self.df['data_recebimento'].notnull(), 'data_recebimento']\n",
    "#             self.df.loc[self.df['data_coleta'].notnull(), 'data_diagnostico'] = self.df.loc[self.df['data_coleta'].notnull(), 'data_coleta']\n",
    "\n",
    "#         # Calcula a idade com base na data de notificacao, já que no Notifica atualiza quando mexem na ficha '-'\n",
    "#         with Timer(init_msg=\"Calcula a idade com base na data de notificacao\"):\n",
    "#             self.df.loc[(self.df['data_nascimento'].notnull()) & (self.df['data_notificacao'].notnull()), 'idade'] = (\n",
    "#                 self.df.loc[(self.df['data_nascimento'].notnull()) & (self.df['data_notificacao'].notnull())].apply(\n",
    "#                         lambda row: row['data_notificacao'].year - row['data_nascimento'].year - (\n",
    "#                                 (row['data_notificacao'].month, row['data_notificacao'].day) <\n",
    "#                                 (row['data_nascimento'].month, row['data_nascimento'].day)\n",
    "#                         ), axis=1\n",
    "#                 )\n",
    "#             )\n",
    "\n",
    "#         self.df.loc[self.df['evolucao']==5,'evolucao'] = 2\n",
    "\n",
    "#         self.hashes()\n",
    "#         self.check_duplicates()"
   ]
  }
 ],
 "metadata": {
  "kernelspec": {
   "display_name": "Python 3 (ipykernel)",
   "language": "python",
   "name": "python3"
  },
  "language_info": {
   "codemirror_mode": {
    "name": "ipython",
    "version": 3
   },
   "file_extension": ".py",
   "mimetype": "text/x-python",
   "name": "python",
   "nbconvert_exporter": "python",
   "pygments_lexer": "ipython3",
   "version": "3.8.11"
  }
 },
 "nbformat": 4,
 "nbformat_minor": 5
}
