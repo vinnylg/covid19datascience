{
 "cells": [
  {
   "cell_type": "code",
   "execution_count": null,
   "metadata": {},
   "outputs": [],
   "source": [
    "import sys\n",
    "from pathlib import Path\n",
    "from os import getcwd\n",
    "sys.path.append(str(Path(getcwd()).parent.parent))"
   ]
  },
  {
   "cell_type": "code",
   "execution_count": null,
   "metadata": {},
   "outputs": [],
   "source": [
    "from datetime import date, timedelta\n",
    "import codecs\n",
    "import pandas as pd\n",
    "import numpy as np\n",
    "\n",
    "pd.set_option('display.max_columns', None)\n",
    "pd.set_option('display.max_rows', 500)\n",
    "\n",
    "from os.path import join"
   ]
  },
  {
   "cell_type": "code",
   "execution_count": null,
   "metadata": {},
   "outputs": [],
   "source": [
    "from bulletin import default_input\n",
    "from bulletin.systems.notifica import Notifica\n",
    "from bulletin.utils.normalize import normalize_number\n",
    "from bulletin.utils.timer import Timer"
   ]
  },
  {
   "cell_type": "code",
   "execution_count": null,
   "metadata": {},
   "outputs": [],
   "source": [
    "\n",
    "nt = Notifica()\n",
    "nt.load('all_notifica_raw', compress=True)"
   ]
  },
  {
   "cell_type": "code",
   "execution_count": null,
   "metadata": {},
   "outputs": [],
   "source": [
    "nt.schema"
   ]
  },
  {
   "cell_type": "code",
   "execution_count": null,
   "metadata": {},
   "outputs": [],
   "source": [
    "df.loc[(df==1)]"
   ]
  },
  {
   "cell_type": "code",
   "execution_count": null,
   "metadata": {},
   "outputs": [],
   "source": [
    "raise\n",
    "# for table, table_df in nt.tables.items():\n",
    "#     display(table,table_df)"
   ]
  },
  {
   "cell_type": "code",
   "execution_count": null,
   "metadata": {},
   "outputs": [],
   "source": [
    "with Timer(init_msg=f\"Realizando analise em {nt.df.shape} valores\"):\n",
    "    with codecs.open('analise.txt',\"w\",\"utf-8-sig\") as output:\n",
    "        p = print\n",
    "        for col in nt.df.columns:\n",
    "            p(f\"{''.join(['-' for x in range(50)])}\")\n",
    "            p(f\"{col}:\")\n",
    "            p()\n",
    "            p(f\"\\ttipo: {nt.df[col].dtypes}\")\n",
    "            p(f\"\\ttipo informaction_schema: {nt.schema.loc[nt.schema['column']==col,'dtypes'].values[0]}\")\n",
    "            p(f\"\\tvalores unicos: {len(nt.df[col].unique())}\")\n",
    "            p(f\"\\tvalores nulos: {nt.df[col].isna().sum()}\\n\")\n",
    "            \n",
    "            if col in nt.schema.loc[nt.schema['foreign_table_name'].notna(),'column'].values:\n",
    "\n",
    "                col_schema = nt.schema.loc[(nt.schema['column']==col)]\n",
    "                table_name = col_schema['foreign_table_name'].values[0]\n",
    "                table_fk = col_schema['foreign_column_name'].values[0]\n",
    "#                 p(f\"\\tmerge -> {table_name}.{table_fk}\")\n",
    "                \n",
    "#                 display(col_schema)\n",
    "#                 group_count = nt.df[['id',col]].groupby(col,dropna=False).count().rename(columns={'id':'quantidade'}).reset_index()\n",
    "#                 group_count = group_count.rename(columns={col:table_fk})\n",
    "\n",
    "#                 try:\n",
    "#                     group_count_merged = pd.merge(group_count,nt.tables[table_name],on=table_fk,how='left')\n",
    "#                     group_count = group_count_merged\n",
    "#                 except:\n",
    "#                     pass\n",
    "                \n",
    "#                 group_count = group_count[[c for c in group_count.columns if c not in ['quantidade']] + ['quantidade']]\n",
    "#                 display(group_count)\n",
    "\n",
    "            p(\"\")"
   ]
  },
  {
   "cell_type": "code",
   "execution_count": null,
   "metadata": {},
   "outputs": [],
   "source": [
    "raise"
   ]
  },
  {
   "cell_type": "code",
   "execution_count": null,
   "metadata": {},
   "outputs": [],
   "source": [
    "def parser_label(x, table_name):\n",
    "    try:\n",
    "        x = int(x)\n",
    "        return dict(notifica.tables[table_name].values.tolist())[x]\n",
    "    except:\n",
    "        return '-'"
   ]
  },
  {
   "cell_type": "code",
   "execution_count": null,
   "metadata": {},
   "outputs": [],
   "source": [
    "relacoes = [\n",
    "    ['classificacao_final','criterio_classificacao'],\n",
    "    ['classificacao_final','evolucao'],\n",
    "    ['metodo','exame','resultado']\n",
    "]"
   ]
  },
  {
   "cell_type": "code",
   "execution_count": null,
   "metadata": {},
   "outputs": [],
   "source": [
    "for cols in relacoes:\n",
    "    df = notifica.df[['id']+cols].groupby(cols,dropna=False).count().rename(columns={'id':'quantidade'}).reset_index()\n",
    "    for col in cols:\n",
    "        if col in notifica.schema.loc[notifica.schema['foreign_table_name'].notna(),'column'].values:\n",
    "            col_schema = notifica.schema.loc[(notifica.schema['column']==col)]\n",
    "            table_name = col_schema['foreign_table_name'].values[0]\n",
    "            table_fk = col_schema['foreign_column_name'].values[0]\n",
    "            df[col] = df[col].apply(lambda x: parser_label(x,table_name))\n",
    "\n",
    "    df = df.groupby(cols,dropna=False).sum()\n",
    "\n",
    "    display(df)"
   ]
  },
  {
   "cell_type": "code",
   "execution_count": null,
   "metadata": {},
   "outputs": [],
   "source": []
  }
 ],
 "metadata": {
  "kernelspec": {
   "display_name": "Python 3 (ipykernel)",
   "language": "python",
   "name": "python3"
  },
  "language_info": {
   "codemirror_mode": {
    "name": "ipython",
    "version": 3
   },
   "file_extension": ".py",
   "mimetype": "text/x-python",
   "name": "python",
   "nbconvert_exporter": "python",
   "pygments_lexer": "ipython3",
   "version": "3.8.11"
  }
 },
 "nbformat": 4,
 "nbformat_minor": 4
}
