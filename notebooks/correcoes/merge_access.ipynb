{
 "cells": [
  {
   "cell_type": "code",
   "execution_count": null,
   "metadata": {},
   "outputs": [],
   "source": [
    "## set covid19_datasciente as path for python find bulletin package\n",
    "import sys\n",
    "from pathlib import Path\n",
    "from os import getcwd\n",
    "sys.path.append(str(Path(getcwd()).parent.parent)) ## ../../covid19datascience* <- set parent level here"
   ]
  },
  {
   "cell_type": "code",
   "execution_count": null,
   "metadata": {},
   "outputs": [],
   "source": [
    "from os.path import join\n",
    "import pandas as pd\n",
    "pd.set_option('display.max_columns', None)\n",
    "from sys import exit\n",
    "from datetime import date, timedelta"
   ]
  },
  {
   "cell_type": "code",
   "execution_count": null,
   "metadata": {},
   "outputs": [],
   "source": [
    "from bulletin.systems.casos_confirmados import CasosConfirmados\n",
    "from bulletin.systems.tb_pacientes import TbPacientes\n",
    "from bulletin.utils.normalize import normalize_hash, normalize_labels, normalize_text, date_hash\n",
    "from bulletin.utils.static import Municipios\n",
    "from bulletin.utils.xls_ import fit_cols\n",
    "from bulletin import default_input"
   ]
  },
  {
   "cell_type": "code",
   "execution_count": null,
   "metadata": {},
   "outputs": [],
   "source": [
    "municipios = Municipios()\n",
    "municipios['mun_resid'] = municipios['municipio'].apply(normalize_text)"
   ]
  },
  {
   "cell_type": "code",
   "execution_count": null,
   "metadata": {
    "tags": []
   },
   "outputs": [],
   "source": [
    "tb_pacientes = TbPacientes()\n",
    "tb_pacientes.update()\n",
    "casost = tb_pacientes.get()\n",
    "# casost = pd.read_pickle('tb_pacientes.pkl')#tb_pacientes.get()\n",
    "casost['nome'] = casost['nome'].apply(lambda nome: ''.join(filter(lambda x: ('A' <= x <= 'Z') or ( x == ' '), nome)))\n",
    "casost = casost.sort_values(['dt_notificacao','nome','idade'])\n",
    "print(f\"casost len: {len(casost)}\\n\")\n",
    "casost.loc[casost['obito']=='Sim','obito'] = 'SIM'\n",
    "casost.loc[casost['obito']!='SIM','obito'] = 'NAO'\n",
    "print(f\"casost len: {len(casost)}\\n\")\n",
    "casost.groupby('obito')[['sexo']].count()"
   ]
  },
  {
   "cell_type": "code",
   "execution_count": null,
   "metadata": {
    "tags": []
   },
   "outputs": [],
   "source": [
    "casost"
   ]
  },
  {
   "cell_type": "code",
   "execution_count": null,
   "metadata": {},
   "outputs": [],
   "source": [
    "casost.groupby('status')[['sexo']].count()"
   ]
  },
  {
   "cell_type": "code",
   "execution_count": null,
   "metadata": {},
   "outputs": [],
   "source": [
    "casosct = casost.copy()\n",
    "\n",
    "casosct['evolucao'] = 3\n",
    "casosct.loc[casosct['obito']=='SIM','evolucao'] = 2\n",
    "casosct.loc[(casosct['obito']!='SIM')&(casosct['status'].notna()),'evolucao'] = 1"
   ]
  },
  {
   "cell_type": "code",
   "execution_count": null,
   "metadata": {},
   "outputs": [],
   "source": [
    "casosct.loc[casosct['obito']=='SIM','data_evolucao'] = casosct.loc[casosct['obito']=='SIM','dt_obito'] \n",
    "casosct.loc[(casosct['obito']!='SIM')&(casosct['status'].notna()),'data_evolucao'] = casosct.loc[(casosct['obito']!='SIM')&(casosct['status'].notna()),'dt_atualizacao']"
   ]
  },
  {
   "cell_type": "code",
   "execution_count": null,
   "metadata": {},
   "outputs": [],
   "source": [
    "casosct.loc[casosct['obito']=='SIM','data_com_evolucao'] = casosct.loc[casosct['obito']=='SIM','dt_com_obito'] \n",
    "casosct.loc[(casosct['obito']=='SIM')&(casosct['data_com_evolucao'].isna()),'data_com_evolucao'] = casosct.loc[(casosct['obito']=='SIM')&(casosct['data_com_evolucao'].isna()),'dt_obito']\n",
    "casosct.loc[(casosct['obito']!='SIM')&(casosct['status'].notna()),'data_com_evolucao'] = casosct.loc[(casosct['obito']!='SIM')&(casosct['status'].notna()),'dt_com_recuperado'] "
   ]
  },
  {
   "cell_type": "code",
   "execution_count": null,
   "metadata": {},
   "outputs": [],
   "source": [
    "casosct.groupby('evolucao')[['sexo']].count()"
   ]
  },
  {
   "cell_type": "code",
   "execution_count": null,
   "metadata": {
    "tags": []
   },
   "outputs": [],
   "source": [
    "casosct['uf_resid'] = 'PR'\n",
    "casosct['ibge_res_pr'] = casosct['ibge_res_pr'].apply(int)\n",
    "\n",
    "casosct.loc[casosct['ibge_res_pr']==999999,'uf_resid'] = casosct.loc[casosct['ibge_res_pr']==999999,'mun_resid'].apply(lambda x: x.split('/')[-1])\n",
    "casosct.loc[casosct['ibge_res_pr']==999999,'mun_resid'] = casosct.loc[casosct['ibge_res_pr']==999999,'mun_resid'].apply(lambda x: x.split('/')[0])\n",
    "\n",
    "casos_fora = pd.merge(casosct.loc[casosct['ibge_res_pr']==999999].drop(columns=['ibge_res_pr']),municipios[['ibge','mun_resid','uf']].rename(columns={'uf':'uf_resid','ibge':'ibge_res_pr'}), on=['mun_resid','uf_resid'], how='left')\n",
    "casos_fora.loc[casos_fora['ibge_res_pr'].isna(),'ibge_res_pr'] = 999999\n",
    "casos_fora['ibge_res_pr'] = casos_fora['ibge_res_pr'].astype(int)\n",
    "casos_fora = casos_fora.set_index('identificacao')\n",
    "casosct = casosct.set_index('identificacao')\n",
    "casosct.update(casos_fora)\n",
    "\n",
    "casosct = casosct.reset_index()\n",
    "\n",
    "casosct['ibge_res_pr'] = casosct['ibge_res_pr'].astype(int)\n",
    "casosct['idade'] = casosct['idade'].astype(int)\n",
    "\n",
    "casosct.loc[casosct['uf_resid']!='PR']"
   ]
  },
  {
   "cell_type": "code",
   "execution_count": null,
   "metadata": {},
   "outputs": [],
   "source": [
    "casosct.groupby(['evolucao'])[['sexo']].count()"
   ]
  },
  {
   "cell_type": "code",
   "execution_count": null,
   "metadata": {},
   "outputs": [],
   "source": [
    "casosct['id_notifica'] = -1\n",
    "casosct['ibge_resid'] = casosct['ibge_res_pr']\n",
    "casosct['ibge_atend'] = casosct['ibge_atend_pr'].apply(int)\n",
    "casosct['comunicacao'] = casosct['dt_notificacao']\n",
    "casosct['is'] = casosct['dt_inicio_sintomas']\n",
    "\n",
    "casosct = casosct[['identificacao', 'id_notifica', 'uf_resid', 'ibge_resid', 'ibge_atend', 'nome', 'sexo', 'idade', 'laboratorio', 'dt_diag', 'comunicacao', 'is', 'evolucao', 'data_evolucao', 'data_com_evolucao']]\n",
    "casosct"
   ]
  },
  {
   "cell_type": "code",
   "execution_count": null,
   "metadata": {},
   "outputs": [],
   "source": [
    "casos_confirmados = casosct.copy()\n",
    "casos_confirmados"
   ]
  },
  {
   "cell_type": "code",
   "execution_count": null,
   "metadata": {},
   "outputs": [],
   "source": [
    "casos_confirmados.dtypes"
   ]
  },
  {
   "cell_type": "code",
   "execution_count": null,
   "metadata": {},
   "outputs": [],
   "source": [
    "casos_confirmados.loc[casos_confirmados['is'].notna(),'is'] = casos_confirmados.loc[casos_confirmados['is'].notna(),'is'].apply(str).str[:10]\n",
    "casos_confirmados['is'] = pd.to_datetime(casos_confirmados['is'],format='%d/%m/%Y',errors='ignore')\n",
    "casos_confirmados['is'] = pd.to_datetime(casos_confirmados['is'],format='%Y-%m-%d',errors='coerce')\n",
    "casos_confirmados['is']"
   ]
  },
  {
   "cell_type": "code",
   "execution_count": null,
   "metadata": {},
   "outputs": [],
   "source": [
    "casos_confirmados.loc[casos_confirmados['data_evolucao'].notna(),'data_evolucao'] = casos_confirmados.loc[casos_confirmados['data_evolucao'].notna(),'data_evolucao'].apply(str).str[:10]\n",
    "casos_confirmados['data_evolucao'] = pd.to_datetime(casos_confirmados['data_evolucao'],format='%d/%m/%Y',errors='ignore')\n",
    "casos_confirmados['data_evolucao'] = pd.to_datetime(casos_confirmados['data_evolucao'],format='%Y-%m-%d',errors='coerce')\n",
    "casos_confirmados['data_evolucao']"
   ]
  },
  {
   "cell_type": "code",
   "execution_count": null,
   "metadata": {},
   "outputs": [],
   "source": [
    "casos_confirmados['evolucao'] = casos_confirmados['evolucao'].astype(int)\n",
    "casos_confirmados.dtypes"
   ]
  },
  {
   "cell_type": "code",
   "execution_count": null,
   "metadata": {},
   "outputs": [],
   "source": [
    "casos_confirmados['hash'] = ( casos_confirmados['nome'].apply(normalize_hash) +\n",
    "               casos_confirmados['idade'].astype(int).astype(str) +\n",
    "               casos_confirmados['ibge_resid'].astype(int).astype(str) )\n",
    "\n",
    "casos_confirmados['hash_less'] = ( casos_confirmados['nome'].apply(normalize_hash) +\n",
    "                    casos_confirmados['idade'].apply(lambda x: str(int(x-1))) +\n",
    "                    casos_confirmados['ibge_resid'].astype(int).astype(str) )\n",
    "\n",
    "casos_confirmados['hash_more'] = ( casos_confirmados['nome'].apply(normalize_hash) +\n",
    "                    casos_confirmados['idade'].apply(lambda x: str(int(x+1))) +\n",
    "                    casos_confirmados['ibge_resid'].astype(int).astype(str) )\n",
    "\n",
    "casos_confirmados['hash_atend'] = (casos_confirmados['nome'].apply(normalize_hash) +\n",
    "                    casos_confirmados['idade'].astype(int).astype(str) +\n",
    "                    casos_confirmados['ibge_atend'].astype(int).astype(str) )\n",
    "\n",
    "casos_confirmados['hash_less_atend'] = (casos_confirmados['nome'].apply(normalize_hash) +\n",
    "                    casos_confirmados['idade'].apply(lambda x: str(int(x-1))) +\n",
    "                    casos_confirmados['ibge_atend'].astype(int).astype(str) )\n",
    "\n",
    "casos_confirmados['hash_more_atend'] = (casos_confirmados['nome'].apply(normalize_hash) +\n",
    "                    casos_confirmados['idade'].apply(lambda x: str(int(x+1))) +\n",
    "                    casos_confirmados['ibge_atend'].astype(int).astype(str) )\n",
    "\n",
    "casos_confirmados['hash_diag'] = ( casos_confirmados['nome'].apply(normalize_hash) +\n",
    "                    casos_confirmados['dt_diag'].apply(date_hash) )"
   ]
  },
  {
   "cell_type": "code",
   "execution_count": null,
   "metadata": {},
   "outputs": [],
   "source": [
    "casos_confirmados = casos_confirmados[['identificacao','id_notifica','uf_resid','ibge_resid','ibge_atend','nome','sexo','idade','laboratorio','dt_diag','comunicacao','is','evolucao','data_evolucao','data_com_evolucao','hash','hash_less','hash_more','hash_atend','hash_less_atend','hash_more_atend','hash_diag']]"
   ]
  },
  {
   "cell_type": "code",
   "execution_count": null,
   "metadata": {},
   "outputs": [],
   "source": [
    "casos_confirmados.columns = ['identificacao','id_notifica','uf_residencia','ibge_residencia','ibge_unidade_notifica','paciente','sexo','idade','exame','data_diagnostico','data_comunicacao','data_1o_sintomas','evolucao','data_evolucao','data_com_evolucao','hash_resid','hash_resid_less','hash_resid_more','hash_atend','hash_atend_less','hash_atend_more','hash_diag']"
   ]
  },
  {
   "cell_type": "code",
   "execution_count": null,
   "metadata": {},
   "outputs": [],
   "source": [
    "casos_confirmados.loc[casos_confirmados['uf_residencia']!='PR']"
   ]
  },
  {
   "cell_type": "code",
   "execution_count": null,
   "metadata": {},
   "outputs": [],
   "source": [
    "casos_confirmados"
   ]
  },
  {
   "cell_type": "code",
   "execution_count": null,
   "metadata": {},
   "outputs": [],
   "source": [
    "cca = CasosConfirmados()\n",
    "cca.df = casos_confirmados\n",
    "cca.save('cca_05_08_2021',replace=True,compress=False)"
   ]
  },
  {
   "cell_type": "code",
   "execution_count": null,
   "metadata": {},
   "outputs": [],
   "source": [
    "cca.database"
   ]
  },
  {
   "cell_type": "code",
   "execution_count": null,
   "metadata": {},
   "outputs": [],
   "source": []
  }
 ],
 "metadata": {
  "interpreter": {
   "hash": "b3ba2566441a7c06988d0923437866b63cedc61552a5af99d1f4fb67d367b25f"
  },
  "kernelspec": {
   "display_name": "Python 3 (ipykernel)",
   "language": "python",
   "name": "python3"
  },
  "language_info": {
   "codemirror_mode": {
    "name": "ipython",
    "version": 3
   },
   "file_extension": ".py",
   "mimetype": "text/x-python",
   "name": "python",
   "nbconvert_exporter": "python",
   "pygments_lexer": "ipython3",
   "version": "3.8.11"
  },
  "toc-autonumbering": false,
  "toc-showcode": true,
  "toc-showmarkdowntxt": false,
  "toc-showtags": false
 },
 "nbformat": 4,
 "nbformat_minor": 4
}
