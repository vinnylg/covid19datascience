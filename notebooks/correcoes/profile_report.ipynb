{
 "cells": [
  {
   "cell_type": "code",
   "execution_count": null,
   "id": "319ab2d8",
   "metadata": {},
   "outputs": [],
   "source": [
    "import sys\n",
    "from pathlib import Path\n",
    "from os import getcwd\n",
    "sys.path.append(str(Path(getcwd()).parent.parent))"
   ]
  },
  {
   "cell_type": "code",
   "execution_count": null,
   "id": "c7a1b533",
   "metadata": {},
   "outputs": [],
   "source": [
    "import pandas as pd\n",
    "from pandas_profiling import ProfileReport"
   ]
  },
  {
   "cell_type": "code",
   "execution_count": null,
   "id": "b6bd9ad5",
   "metadata": {},
   "outputs": [],
   "source": [
    "from bulletin.systems.notifica import Notifica"
   ]
  },
  {
   "cell_type": "code",
   "execution_count": null,
   "id": "1b26fd7c",
   "metadata": {},
   "outputs": [],
   "source": [
    "nt = Notifica()\n",
    "nt.load('notifica', compress=False)\n",
    "nt.df.shape"
   ]
  },
  {
   "cell_type": "code",
   "execution_count": null,
   "id": "e9d03291",
   "metadata": {},
   "outputs": [],
   "source": [
    "df = nt.df.sample(n=10)"
   ]
  },
  {
   "cell_type": "code",
   "execution_count": null,
   "id": "a875ce88",
   "metadata": {},
   "outputs": [],
   "source": [
    "profile = ProfileReport(df, title='Notifica COVID-19',html={'style':{'full_width':True}})"
   ]
  },
  {
   "cell_type": "code",
   "execution_count": null,
   "id": "addf2208",
   "metadata": {},
   "outputs": [],
   "source": [
    "# profile.to_notebook_iframe()\n",
    "profile.to_file(output_file='output.html')"
   ]
  },
  {
   "cell_type": "code",
   "execution_count": null,
   "id": "d69ca874",
   "metadata": {},
   "outputs": [],
   "source": []
  }
 ],
 "metadata": {
  "kernelspec": {
   "display_name": "Python 3 (ipykernel)",
   "language": "python",
   "name": "python3"
  },
  "language_info": {
   "codemirror_mode": {
    "name": "ipython",
    "version": 3
   },
   "file_extension": ".py",
   "mimetype": "text/x-python",
   "name": "python",
   "nbconvert_exporter": "python",
   "pygments_lexer": "ipython3",
   "version": "3.8.11"
  }
 },
 "nbformat": 4,
 "nbformat_minor": 5
}
