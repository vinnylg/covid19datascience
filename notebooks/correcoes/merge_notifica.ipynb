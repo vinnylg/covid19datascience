{
 "cells": [
  {
   "cell_type": "code",
   "execution_count": null,
   "metadata": {},
   "outputs": [],
   "source": [
    "import sys\n",
    "from pathlib import Path\n",
    "from os import getcwd\n",
    "sys.path.append(str(Path(getcwd()).parent.parent))\n",
    "from os import remove\n",
    "\n",
    "\n",
    "from datetime import date, timedelta\n",
    "import codecs\n",
    "import pandas as pd\n",
    "import numpy as np\n",
    "\n",
    "pd.set_option('display.max_columns', None)\n",
    "pd.set_option('display.max_rows', 100)\n",
    "\n",
    "from os.path import join, basename\n",
    "\n",
    "from bulletin import default_input, default_output, root, hoje, data_comeco_pandemia\n",
    "from bulletin.services.metabase import Metabase\n",
    "from bulletin.systems.casos_confirmados import CasosConfirmados\n",
    "from bulletin.systems.notifica import Notifica\n",
    "from bulletin.utils.static import Municipios\n",
    "from bulletin.utils.normalize import normalize_hash, normalize_labels, normalize_text, date_hash, normalize_number\n",
    "from bulletin.utils import static, Timer\n",
    "from bulletin.utils.xls_ import fit_cols\n",
    "\n",
    "from datetime import datetime\n",
    "import pyminizip as pz\n",
    "\n",
    "today = datetime.today()\n",
    "ontem = today - timedelta(1)\n",
    "anteontem = ontem - timedelta(1)\n",
    "\n",
    "municipios = Municipios()\n",
    "municipios['mun_resid'] = municipios['municipio'].apply(normalize_text)\n",
    "municipios.loc[municipios['uf']!='PR','mun_resid'] = municipios.loc[municipios['uf']!='PR','municipio'].apply(normalize_text) + '/' + municipios['uf']\n",
    "\n",
    "import random"
   ]
  },
  {
   "cell_type": "code",
   "execution_count": null,
   "metadata": {
    "tags": []
   },
   "outputs": [],
   "source": [
    "download = True #and False ## <- comentar ´and False´ para baixar novo notifica\n",
    "load_downloaded = True and False ## <- comentar ´and False´ para carregar partes baixadas\n",
    "update = True and False ## <- comentar ´and False´ para atualizar notifica baixadas\n",
    "\n",
    "if download:\n",
    "    # Download\n",
    "    mb = Metabase()\n",
    "    mb.generate_notifica_query('notifica',where='True', replace=True)\n",
    "    notifica_parts = mb.download_notificacao('notifica',load=load_downloaded)\n",
    "    ##\n",
    "    # Leitura\n",
    "    notifica = Notifica('notifica')\n",
    "    notifica.read(notifica_parts)\n",
    "    notifica.save('all_notifica_raw',replace=True,compress=False)\n",
    "    ##\n",
    "    # Analise exploratória\n",
    "    # analise_exploratoria(notifica)\n",
    "    ##\n",
    "    # Normalização\n",
    "    notifica.normalize()\n",
    "    notifica.save('notifica',replace=True, compress=False)\n",
    "############\n",
    "else:\n",
    "    # Load \n",
    "    notifica = Notifica()\n",
    "    notifica.databases()\n",
    "    notifica.load('notifica',compress=False)\n",
    "    \n",
    "if update:\n",
    "    mb = Metabase()\n",
    "    days = 3\n",
    "    intervalo = f\"(data_notificacao >= NOW() - INTERVAL '{days} DAY') or (data_liberacao >= NOW() - INTERVAL '{days} DAY') or (updated_at >= NOW() - INTERVAL '{days} DAY') or (data_coleta >= NOW() - INTERVAL '{days} DAY') or (data_encerramento >= NOW() - INTERVAL '{days} DAY') or (data_cura_obito >= NOW() - INTERVAL '{days} DAY')\"\n",
    "    mb.generate_notifica_query('update_notifica', where=intervalo, replace=True)\n",
    "    update_notifica_parts = mb.download_notificacao('update_notifica')\n",
    "    update_notifica = Notifica()\n",
    "    update_notifica.read(update_notifica_parts)\n",
    "    update_notifica.normalize()\n",
    "    update_notifica.save(f\"update_notifica_{today.strftime('%d%m%Y%H%M')}\")\n",
    "    \n",
    "#     notifica.check_update(update_notifica)\n",
    "    notifica.update(update_notifica)\n",
    "    notifica.fix_dtypes()\n",
    "    notifica.save(replace=True, compress=False)\n",
    "    notifica.df"
   ]
  },
  {
   "cell_type": "code",
   "execution_count": null,
   "metadata": {},
   "outputs": [],
   "source": [
    "# Carrega casos confirmados sem merge\n",
    "cc = CasosConfirmados()\n",
    "cc.load(f\"cca_{hoje.strftime('%d_%m_%Y')}\",compress=False)\n",
    "\n",
    "# Corrige colunas com base no informaction_schema\n",
    "cc.df = cc.df.rename(columns={'exame':'exame_nome','data_evolucao':'data_cura_obito'})\n",
    "\n",
    "# Zera casos encontrados\n",
    "cc.df['id_notifica'] = -1\n",
    "cc.df['acc_merge_notifica'] = 'NAO_ENCONTRADO'\n",
    "cc.df['tipo_encerramento'] = 'E0'\n",
    "\n",
    "# Seleciona colunas para concatenar com o id notifica\n",
    "notifica_cols = cc.schema.loc[cc.schema['notifica']==1,'column']\n",
    "novas_colunas = [ col for col in notifica_cols if not col in cc.df.columns ]\n",
    "cc.df[novas_colunas] = None\n",
    "\n",
    "# Corrige os tipos das colunas\n",
    "cc.normalize()\n",
    "cc.df"
   ]
  },
  {
   "cell_type": "code",
   "execution_count": null,
   "metadata": {},
   "outputs": [],
   "source": [
    "cc.df.dtypes"
   ]
  },
  {
   "cell_type": "code",
   "execution_count": null,
   "metadata": {},
   "outputs": [],
   "source": [
    "\n",
    "print(f\"ids in casos {notifica.df['id'].isin(cc.df['id_notifica']).sum()}\\n\")\n",
    "display(cc.df[['identificacao','acc_merge_notifica']].groupby('acc_merge_notifica').count().sort_values('identificacao',ascending=False))\n",
    "print('------------------------------------------------------------------------')\n",
    "# Percorre excluir ficha, classificacao final e status notificacao e cruza com os hashes com preferencia nas ordens percorridas\n",
    "for excluir_ficha in [2,1]:\n",
    "    for classificacao_final in [2,1,3,5,0]:\n",
    "        for status_notificacao in [1,2,3,4]:\n",
    "            casosn = notifica.df.loc[(notifica.df['classificacao_final']==classificacao_final)&(notifica.df['status_notificacao']==status_notificacao)&(notifica.df['excluir_ficha']==excluir_ficha)]\n",
    "            print(f\"notifica[classificacao_final] == {classificacao_final} & notifica[status_notificacao] == {status_notificacao} & notifica[excluir_ficha] == {excluir_ficha}: {len(casosn)}\\n\")\n",
    "            if len(casosn) != 0:\n",
    "                for notifica_hash_col, cc_hash_col in zip(['hash_resid','hash_resid','hash_resid','hash_atend','hash_atend','hash_atend','hash_lib'],['hash_resid','hash_resid_less', 'hash_resid_more', 'hash_atend', 'hash_atend_less','hash_atend_more', 'hash_diag']):\n",
    "                    print(f\"casosn[{notifica_hash_col}] <-> cc.df[{cc_hash_col}]\")\n",
    "\n",
    "                    # Casos notifica com hash não duplicado ou nulo. Apenas com as colunas usadas no merge \n",
    "                    casosn = casosn.loc[(~casosn.duplicated(notifica_hash_col,keep=False)) & (casosn[notifica_hash_col].notna())]\n",
    "                    casosn_id = casosn[['id',notifica_hash_col]+novas_colunas].rename(columns={notifica_hash_col:cc_hash_col, 'id':'id_notifica'})\n",
    "                    \n",
    "                    # Casos confirmados sem id_notifica, com hash não duplicado ou nulo\n",
    "                    casosc_hashed = cc.df.loc[((cc.df['id_notifica']==-1)|(cc.df['id_notifica'].isna()))&(cc.df[cc_hash_col].notna())]\n",
    "                    casosc_hashed = casosc_hashed.loc[(~casosc_hashed.duplicated(cc_hash_col,keep=False))]\n",
    "\n",
    "                    # Realiza merge com hash, deixando apenas o identificacao dos casos confirmados e as colunas do notifica\n",
    "                    casosc_hashed = pd.merge(casosc_hashed[['identificacao',cc_hash_col]],casosn_id,on=cc_hash_col,how='left')\n",
    "                    casosc_hashed = casosc_hashed.loc[(casosc_hashed['id_notifica']!=-1)&(casosc_hashed['id_notifica'].notna())]\n",
    "                    casosc_hashed['acc_merge_notifica'] = f\"{excluir_ficha}{classificacao_final}{status_notificacao}{cc_hash_col.upper()}\"\n",
    "                    print(f\"{excluir_ficha}{classificacao_final}{status_notificacao}{cc_hash_col.upper()}\")\n",
    "                    casosc_hashed = casosc_hashed.set_index('identificacao')\n",
    "                    \n",
    "                    # Seta identificacao como index nos casos confirmados e realiza update com as colunas do notifica\n",
    "                    cc.df.set_index('identificacao',inplace=True)\n",
    "                    cc.df.update(casosc_hashed)\n",
    "                    cc.df.reset_index(inplace=True)\n",
    "\n",
    "                    print(f\"ids in casos {notifica.df['id'].isin(cc.df['id_notifica']).sum()}\\n\")\n",
    "                    display(cc.df[['identificacao','acc_merge_notifica']].groupby('acc_merge_notifica').count().sort_values('identificacao',ascending=False))\n",
    "                    print('------------------------------------------------------------------------')"
   ]
  },
  {
   "cell_type": "code",
   "execution_count": null,
   "metadata": {},
   "outputs": [],
   "source": [
    "cc.df[['identificacao','acc_merge_notifica']].groupby('acc_merge_notifica').count().sort_values('identificacao',ascending=False)"
   ]
  },
  {
   "cell_type": "code",
   "execution_count": null,
   "metadata": {},
   "outputs": [],
   "source": [
    "cc.df.loc[cc.df['id_notifica']==-1,['identificacao','acc_merge_notifica']].groupby('acc_merge_notifica').count().sort_values('identificacao',ascending=False)"
   ]
  },
  {
   "cell_type": "code",
   "execution_count": null,
   "metadata": {},
   "outputs": [],
   "source": [
    "cc.df.loc[cc.df['id_notifica']==-1,'id_notifica'] = [x for x in range(-1,(cc.df['id_notifica']==-1).sum()*-1,-1)]\n",
    "cc.df"
   ]
  },
  {
   "cell_type": "code",
   "execution_count": null,
   "metadata": {},
   "outputs": [],
   "source": [
    "cc.fix_dtypes()"
   ]
  },
  {
   "cell_type": "code",
   "execution_count": null,
   "metadata": {},
   "outputs": [],
   "source": [
    "cc.df"
   ]
  },
  {
   "cell_type": "code",
   "execution_count": null,
   "metadata": {},
   "outputs": [],
   "source": [
    "cc.save(f\"ccan_{hoje.strftime('%d_%m_%Y')}\",replace=True,compress=False)"
   ]
  },
  {
   "cell_type": "code",
   "execution_count": null,
   "metadata": {},
   "outputs": [],
   "source": [
    "cc = CasosConfirmados()\n",
    "cc.load(f\"ccan_{hoje.strftime('%d_%m_%Y')}\",compress=False)\n",
    "casosc = cc.df\n",
    "casosc"
   ]
  },
  {
   "cell_type": "code",
   "execution_count": null,
   "metadata": {},
   "outputs": [],
   "source": []
  }
 ],
 "metadata": {
  "interpreter": {
   "hash": "b3ba2566441a7c06988d0923437866b63cedc61552a5af99d1f4fb67d367b25f"
  },
  "kernelspec": {
   "display_name": "Python 3",
   "language": "python",
   "name": "python3"
  },
  "language_info": {
   "codemirror_mode": {
    "name": "ipython",
    "version": 3
   },
   "file_extension": ".py",
   "mimetype": "text/x-python",
   "name": "python",
   "nbconvert_exporter": "python",
   "pygments_lexer": "ipython3",
   "version": "3.8.5"
  }
 },
 "nbformat": 4,
 "nbformat_minor": 4
}
