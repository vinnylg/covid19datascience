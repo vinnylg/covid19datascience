{
 "cells": [
  {
   "cell_type": "code",
   "execution_count": null,
   "metadata": {},
   "outputs": [],
   "source": [
    "## set covid19_datasciente as path for python find bulletin package\n",
    "import sys\n",
    "from pathlib import Path\n",
    "from os import getcwd\n",
    "sys.path.append(str(Path(getcwd()).parent.parent)) ## ../../covid19datascience* <- set parent level here"
   ]
  },
  {
   "cell_type": "code",
   "execution_count": null,
   "metadata": {},
   "outputs": [],
   "source": [
    "import pandas as pd\n",
    "from epiweeks import Week\n",
    "from datetime import timedelta, date\n",
    "from os.path import join\n",
    "from unidecode import unidecode\n",
    "\n",
    "from bulletin import default_input, default_output, root, hoje, data_comeco_pandemia\n",
    "from bulletin.utils.normalize import normalize_text, normalize_hash\n",
    "from bulletin.systems.sim import Sim\n",
    "from bulletin.systems.sivep import Sivep\n",
    "from bulletin.systems.notifica import Notifica\n",
    "from bulletin.systems.casos_confirmados import CasosConfirmados"
   ]
  },
  {
   "cell_type": "code",
   "execution_count": null,
   "metadata": {},
   "outputs": [],
   "source": [
    "cc = CasosConfirmados()\n",
    "cc.load('cc_01_09_2021')"
   ]
  },
  {
   "cell_type": "code",
   "execution_count": null,
   "metadata": {},
   "outputs": [],
   "source": [
    "covid_obitos = cc.df.loc[cc.df['evolucao']==2].copy()\n",
    "#del cc"
   ]
  },
  {
   "cell_type": "code",
   "execution_count": null,
   "metadata": {},
   "outputs": [],
   "source": [
    "sim = Sim()\n",
    "sim.load()\n",
    "# sim.read_all_database_files()\n",
    "# sim.save(replace=True)"
   ]
  },
  {
   "cell_type": "code",
   "execution_count": null,
   "metadata": {},
   "outputs": [],
   "source": [
    "sim.to_notifica()"
   ]
  },
  {
   "cell_type": "code",
   "execution_count": null,
   "metadata": {},
   "outputs": [],
   "source": [
    "sim_covid_obitos = sim.get_obitos()"
   ]
  },
  {
   "cell_type": "code",
   "execution_count": null,
   "metadata": {},
   "outputs": [],
   "source": [
    "# del sim"
   ]
  },
  {
   "cell_type": "code",
   "execution_count": null,
   "metadata": {},
   "outputs": [],
   "source": [
    "# sivep = Sivep()\n",
    "# sivep.load()\n",
    "# sivep.read_all_database_files()\n",
    "# sivep.save(replace=True)"
   ]
  },
  {
   "cell_type": "code",
   "execution_count": null,
   "metadata": {},
   "outputs": [],
   "source": [
    "# sivep.to_notifica()"
   ]
  },
  {
   "cell_type": "code",
   "execution_count": null,
   "metadata": {},
   "outputs": [],
   "source": [
    "# sivep_covid_obitos = sivep.get_obitos()"
   ]
  },
  {
   "cell_type": "code",
   "execution_count": null,
   "metadata": {},
   "outputs": [],
   "source": [
    "# del sivep"
   ]
  },
  {
   "cell_type": "code",
   "execution_count": null,
   "metadata": {},
   "outputs": [],
   "source": [
    "qualificacao_obitos = pd.read_excel(join(default_input, 'sim', 'qualificacao_obitos.xlsx'))\n",
    "qualificacao_obitos.shape[0]"
   ]
  },
  {
   "cell_type": "code",
   "execution_count": null,
   "metadata": {},
   "outputs": [],
   "source": [
    "qualificacao_obitos.loc[~(qualificacao_obitos['NUMERODO'].isin(sim_covid_obitos['numero_do'].values))].to_excel(join(default_output, 'correcoes','nao_consta_b342_no_sim.xlsx'), index=False)"
   ]
  },
  {
   "cell_type": "code",
   "execution_count": null,
   "metadata": {},
   "outputs": [],
   "source": [
    "qualificacao_obitos = qualificacao_obitos[['NUMERODO']].rename(columns={'NUMERODO':'numero_do'}).drop_duplicates(['numero_do'])\n",
    "qualificacao_obitos.shape[0]"
   ]
  },
  {
   "cell_type": "code",
   "execution_count": null,
   "metadata": {},
   "outputs": [],
   "source": [
    "qualificacao_obitos['numero_do'] = qualificacao_obitos['numero_do'].astype('str')"
   ]
  },
  {
   "cell_type": "code",
   "execution_count": null,
   "metadata": {},
   "outputs": [],
   "source": [
    "sim_covid_obitos.loc[sim_covid_obitos['numero_do'].isin(qualificacao_obitos['numero_do'].values)].shape[0]"
   ]
  },
  {
   "cell_type": "code",
   "execution_count": null,
   "metadata": {},
   "outputs": [],
   "source": [
    "qualificacao_obitos_sim = sim_covid_obitos.loc[sim_covid_obitos['numero_do'].isin(qualificacao_obitos['numero_do'].values)]"
   ]
  },
  {
   "cell_type": "code",
   "execution_count": null,
   "metadata": {},
   "outputs": [],
   "source": [
    "obitos_que_nao_estao_no_pickle = qualificacao_obitos_sim.loc[~(\n",
    "    qualificacao_obitos_sim['hash_mae'].isin(covid_obitos['hash_mae']) |\n",
    "    qualificacao_obitos_sim['hash_nasc'].isin(covid_obitos['hash_nasc'])\n",
    ")].copy()"
   ]
  },
  {
   "cell_type": "code",
   "execution_count": null,
   "metadata": {},
   "outputs": [],
   "source": [
    "obitos_para_fechar_na_planilha = cc.df.loc[(\n",
    "    cc.df['hash_mae'].isin(obitos_que_nao_estao_no_pickle['hash_mae']) &\n",
    "    cc.df['hash_nasc'].isin(obitos_que_nao_estao_no_pickle['hash_nasc']) &\n",
    "    cc.df['hash_resid'].isin(obitos_que_nao_estao_no_pickle['hash_resid'])\n",
    ")].copy()"
   ]
  },
  {
   "cell_type": "code",
   "execution_count": null,
   "metadata": {},
   "outputs": [],
   "source": [
    "obitos_para_fechar_na_planilha.to_excel(join(default_output, 'correcoes','obitos_para_fechar_no_pickle.xlsx'), index=False)"
   ]
  },
  {
   "cell_type": "code",
   "execution_count": null,
   "metadata": {},
   "outputs": [],
   "source": [
    "mudar_municipio_para_fechar_na_planilha = cc.df.loc[(\n",
    "    (cc.df['hash_mae'].isin(obitos_que_nao_estao_no_pickle['hash_mae']) |\n",
    "    cc.df['hash_nasc'].isin(obitos_que_nao_estao_no_pickle['hash_nasc'])) &\n",
    "    (~cc.df['id_notifica'].isin(obitos_para_fechar_na_planilha['id_notifica']))\n",
    ")].duplicated('hash_mae').copy()"
   ]
  },
  {
   "cell_type": "code",
   "execution_count": null,
   "metadata": {},
   "outputs": [],
   "source": [
    "mudar_municipio_para_fechar_na_planilha.to_excel(join(default_output, 'correcoes','mudar_municipio_para_fechar_na_planilha.xlsx'), index=False)"
   ]
  },
  {
   "cell_type": "code",
   "execution_count": null,
   "metadata": {},
   "outputs": [],
   "source": [
    "mudar_municipio_para_fechar_na_planilha"
   ]
  }
 ],
 "metadata": {
  "interpreter": {
   "hash": "5bb5f55b29b0a8adc23046020523ae79d0fd6295ce512f54f2f48f2216bbd496"
  },
  "kernelspec": {
   "display_name": "Python 3.8.5 64-bit ('base': conda)",
   "name": "python3"
  },
  "language_info": {
   "codemirror_mode": {
    "name": "ipython",
    "version": 3
   },
   "file_extension": ".py",
   "mimetype": "text/x-python",
   "name": "python",
   "nbconvert_exporter": "python",
   "pygments_lexer": "ipython3",
   "version": "3.8.5"
  }
 },
 "nbformat": 4,
 "nbformat_minor": 2
}
