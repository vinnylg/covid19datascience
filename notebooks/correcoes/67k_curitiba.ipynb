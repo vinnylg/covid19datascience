{
 "cells": [
  {
   "cell_type": "code",
   "execution_count": null,
   "metadata": {},
   "outputs": [],
   "source": [
    "## set covid19_datasciente as path for python find bulletin package\n",
    "import sys\n",
    "from pathlib import Path\n",
    "from os import getcwd\n",
    "sys.path.append(str(Path(getcwd()).parent.parent)) ## ../../covid19datascience* <- set parent level here"
   ]
  },
  {
   "cell_type": "code",
   "execution_count": null,
   "metadata": {},
   "outputs": [],
   "source": [
    "import pandas as pd\n",
    "from os.path import join\n",
    "from bulletin import default_output, default_input, root\n",
    "from bulletin.systems.casos_confirmados import CasosConfirmados\n",
    "from bulletin.systems.notifica import Notifica\n",
    "from bulletin.services.metabase import Metabase\n",
    "from bulletin.utils.static import Municipios\n",
    "from bulletin.utils.normalize import normalize_hash, normalize_text, date_hash"
   ]
  },
  {
   "cell_type": "code",
   "execution_count": null,
   "metadata": {},
   "outputs": [],
   "source": [
    "def check_duplicates(db):\n",
    "    assert not db is None\n",
    "\n",
    "    db['duplicated'] = False\n",
    "    for col in [ col for col in db.columns if ('hash' in col) or (col in ['cpf','cns']) ]:\n",
    "        print(f\"duplicated in {col}: {len(db.loc[(db[col].notna())&(db.duplicated(col,keep=False))])}\")\n",
    "        db.loc[(db[col].notna())&(db.duplicated(col,keep='last')),'duplicated'] = True"
   ]
  },
  {
   "cell_type": "code",
   "execution_count": null,
   "metadata": {},
   "outputs": [],
   "source": [
    "database_dir = join(root, 'database', 'notifica')"
   ]
  },
  {
   "cell_type": "code",
   "execution_count": null,
   "metadata": {},
   "outputs": [],
   "source": [
    "mn = Municipios()\n",
    "mn = mn[['ibge7', 'ibge', 'municipio']]\n",
    "mn['ibge7'] = mn['ibge7'].astype('str').apply(lambda x: x.zfill(2))\n",
    "mn['municipio_normalizado'] = mn['municipio'].apply(lambda x: normalize_text(x))\n",
    "mn = mn.rename(columns={'ibge':'ibge_residencia'})"
   ]
  },
  {
   "cell_type": "code",
   "execution_count": null,
   "metadata": {},
   "outputs": [],
   "source": [
    "cc = CasosConfirmados()\n",
    "cc.load('cc_05_12_2021', compress=True)"
   ]
  },
  {
   "cell_type": "code",
   "execution_count": null,
   "metadata": {},
   "outputs": [],
   "source": [
    "# cc.df.loc[cc.df['data_nascimento'].notna(),'hash_nasc'] = ( cc.df.loc[cc.df['data_nascimento'].notna(),'paciente'].apply(normalize_hash) + cc.df.loc[cc.df['data_nascimento'].notna(),'data_nascimento'].apply(date_hash) )\n",
    "# cc.df.loc[cc.df['nome_mae'].notna(),'hash_mae'] = ( cc.df.loc[cc.df['nome_mae'].notna(),'paciente'].apply(normalize_hash) + cc.df.loc[cc.df['nome_mae'].notna(),'nome_mae'].apply(normalize_hash) )"
   ]
  },
  {
   "cell_type": "code",
   "execution_count": null,
   "metadata": {},
   "outputs": [],
   "source": [
    "nf = Notifica()\n",
    "#nf.databases()\n",
    "nf.load('notifica', compress=False)\n",
    "nf.df.loc[(nf.df['classificacao_final'] == 2)]\n",
    "nf.check_duplicates()"
   ]
  },
  {
   "cell_type": "code",
   "execution_count": null,
   "metadata": {},
   "outputs": [],
   "source": [
    "caso_curitiba = nf.df.loc[(nf.df['ibge_residencia'] == 410690)]"
   ]
  },
  {
   "cell_type": "code",
   "execution_count": null,
   "metadata": {},
   "outputs": [],
   "source": [
    "caso_curitiba = caso_curitiba.loc[caso_curitiba['data_confirmacao'].isin(['2021-07-24', '2021-07-23'])].copy()\n",
    "print('Casos notificados por Curitiba dia 23 e dia 24:')\n",
    "caso_curitiba.shape[0]"
   ]
  },
  {
   "cell_type": "code",
   "execution_count": null,
   "metadata": {},
   "outputs": [],
   "source": [
    "del nf"
   ]
  },
  {
   "cell_type": "code",
   "execution_count": null,
   "metadata": {},
   "outputs": [],
   "source": [
    "less = lambda x: str(x-1)\n",
    "more = lambda x: str(x+1)"
   ]
  },
  {
   "cell_type": "code",
   "execution_count": null,
   "metadata": {},
   "outputs": [],
   "source": [
    "# caso_curitiba['hash_resid_less'] = caso_curitiba['paciente'].apply(normalize_hash) + caso_curitiba['idade'].apply(less) + caso_curitiba['ibge_residencia'].astype(str)\n",
    "# caso_curitiba['hash_resid_more'] = caso_curitiba['paciente'].apply(normalize_hash) + caso_curitiba['idade'].apply(more) + caso_curitiba['ibge_residencia'].astype(str)\n",
    "# caso_curitiba['hash_atend_less'] = caso_curitiba['paciente'].apply(normalize_hash) + caso_curitiba['idade'].apply(less) + caso_curitiba['ibge_unidade_notifica'].astype(str)\n",
    "# caso_curitiba['hash_atend_more'] = caso_curitiba['paciente'].apply(normalize_hash) + caso_curitiba['idade'].apply(more) + caso_curitiba['ibge_unidade_notifica'].astype(str)"
   ]
  },
  {
   "cell_type": "code",
   "execution_count": null,
   "metadata": {},
   "outputs": [],
   "source": [
    "print('Casos notificados por Curitiba dia 23 e dia 24 que entraram no dia 26:')\n",
    "curitiba_d26= cc.df.loc[(cc.df['data_comunicacao'] == '2021-07-26') & (cc.df['ibge_residencia'] == 410690)]\n",
    "curitiba_d26.shape[0]"
   ]
  },
  {
   "cell_type": "code",
   "execution_count": null,
   "metadata": {},
   "outputs": [],
   "source": [
    "caso_ativo = caso_curitiba.loc[(caso_curitiba['status_notificacao'].isin([1, 2]))]\n",
    "print('Fichas notificadas abertas ou encerradas:')\n",
    "caso_ativo.shape[0]"
   ]
  },
  {
   "cell_type": "code",
   "execution_count": null,
   "metadata": {},
   "outputs": [],
   "source": [
    "curitiba_entraram_ativo = caso_ativo.loc[(\n",
    "    (caso_ativo['id'].isin(curitiba_d26['id_notifica']))\n",
    ")]\n",
    "curitiba_entraram_ativo.shape[0]"
   ]
  },
  {
   "cell_type": "code",
   "execution_count": null,
   "metadata": {},
   "outputs": [],
   "source": [
    "caso_ativo_encontrado = cc.df.loc[(\n",
    "    (cc.df['id_notifica'].notna() & cc.df['id_notifica'].isin(caso_ativo['id'])) |\n",
    "    (cc.df['hash_mae'].notna() & cc.df['hash_mae'].isin(caso_ativo['hash_mae'])) |\n",
    "    (cc.df['hash_nasc'].notna() & cc.df['hash_nasc'].isin(caso_ativo['hash_nasc'])) \n",
    ")]\n",
    "print('Casos ativos encontrado no pickle:')\n",
    "caso_ativo_encontrado.shape[0]\n",
    "#caso_ativo_encontrado.drop_duplicates(['id_notifica', 'hash_mae', 'hash_nasc', 'hash_resid', 'hash_resid_less', 'hash_resid_more', 'hash_atend', 'hash_atend_less', 'hash_atend_more','hash_diag'])"
   ]
  },
  {
   "cell_type": "code",
   "execution_count": null,
   "metadata": {},
   "outputs": [],
   "source": [
    "group = caso_ativo_encontrado.groupby('ibge_residencia')[['ibge_residencia']].count().rename(columns={'ibge_residencia':'qtde'}).sort_values('qtde').reset_index()\n",
    "print('Casos ativos encontrado no pickle através do id do notifica com residência em Curitiba:')\n",
    "group.loc[group['ibge_residencia'] == 410690, 'qtde'].values[0]"
   ]
  },
  {
   "cell_type": "code",
   "execution_count": null,
   "metadata": {},
   "outputs": [],
   "source": [
    "#print('*CANDITADOS A MUDANÇA DE MUNICIPIO PARA CURITIBA*')\n",
    "print('Casos ativos encontrado no pickle através do id do notifica com residência outros municipio:')\n",
    "caso_ativo_encontrado_curitiba = caso_ativo_encontrado.loc[caso_ativo_encontrado['ibge_residencia'] == 410690]\n",
    "caso_ativo_encontrado_outros = caso_ativo_encontrado.loc[caso_ativo_encontrado['ibge_residencia'] != 410690].copy()\n",
    "#caso_ativo_encontrado_outros.to_csv(join(default_output,'CANDITADOS_ATIVOS_ALTERACAO_DE_MUNICIPIO.csv'), encoding='utf-8-sig', sep=';')\n",
    "caso_ativo_encontrado_outros.shape[0]"
   ]
  },
  {
   "cell_type": "code",
   "execution_count": null,
   "metadata": {},
   "outputs": [],
   "source": [
    "caso_ativo_encontrado_outros['ibge_residencia_antigo'] = caso_ativo_encontrado_outros['ibge_residencia']\n",
    "caso_ativo_encontrado_outros.loc[caso_ativo_encontrado_outros['ibge_residencia'] != 410690, 'ibge_residencia'] = 410690\n",
    "caso_ativo_encontrado_outros['hash_resid'] = caso_ativo_encontrado_outros['paciente'].apply(normalize_hash) + caso_ativo_encontrado_outros['ibge_residencia'].astype(str)\n",
    "caso_ativo_encontrado_outros['hash_resid_less'] = caso_ativo_encontrado_outros['paciente'].apply(normalize_hash) + caso_ativo_encontrado_outros['idade'].apply(less) + caso_ativo_encontrado_outros['ibge_residencia'].astype(str)\n",
    "caso_ativo_encontrado_outros['hash_resid_more'] = caso_ativo_encontrado_outros['paciente'].apply(normalize_hash) + caso_ativo_encontrado_outros['idade'].apply(more) + caso_ativo_encontrado_outros['ibge_residencia'].astype(str)"
   ]
  },
  {
   "cell_type": "code",
   "execution_count": null,
   "metadata": {},
   "outputs": [],
   "source": [
    "canditados_ativos_alteracao_de_municipio = caso_ativo_encontrado_outros.loc[~(\n",
    "    (caso_ativo_encontrado_outros['hash_resid'].isin(cc.df['hash_resid']))\n",
    ")]\n",
    "print('*CANDITADOS A MUDANÇA DE MUNICIPIO PARA CURITIBA*')\n",
    "canditados_ativos_alteracao_de_municipio.shape[0]"
   ]
  },
  {
   "cell_type": "code",
   "execution_count": null,
   "metadata": {},
   "outputs": [],
   "source": [
    "canditados_ativos_alteracao_de_municipio = canditados_ativos_alteracao_de_municipio.merge(how = 'left', on = 'ibge_residencia', right=mn)\n",
    "canditados_ativos_alteracao_de_municipio = canditados_ativos_alteracao_de_municipio.merge(how = 'left', on = 'ibge_residencia_antigo', right=mn[['ibge_residencia', 'municipio']].rename(columns={'ibge_residencia':'ibge_residencia_antigo', 'municipio':'municipio_antigo'}))\n",
    "canditados_ativos_alteracao_de_municipio.loc[canditados_ativos_alteracao_de_municipio['evolucao']==2, 'obito'] = 'SIM'\n",
    "#canditados_ativos_alteracao_de_municipio[['municipio_antigo','municipio','obito', 'sexo', 'idade']].to_csv(join(default_output,'canditados_ativos_alteracao_de_municipio_relatorio.csv'), encoding='utf-8-sig', sep=';')\n",
    "#canditados_ativos_alteracao_de_municipio[['identificacao','ibge7','municipio_normalizado']].rename(columns={'identificacao':'Identificacao', 'ibge7':'ibge', 'municipio_normalizado':'mun resid'}).to_csv(join(default_output,'canditados_ativos_alteracao_de_municipio.csv'), encoding='utf-8-sig', sep=';')\n",
    "#canditados_ativos_alteracao_de_municipio[].to_csv(join(default_output,'canditados_ativos_alteracao_de_municipio.csv'), encoding='utf-8-sig', sep=';')"
   ]
  },
  {
   "cell_type": "code",
   "execution_count": null,
   "metadata": {},
   "outputs": [],
   "source": [
    "caso_ativo_nao_encontrado = caso_ativo.loc[~(\n",
    "    (caso_ativo['id'].notna() & caso_ativo['id'].isin(cc.df['id_notifica'])) |\n",
    "    (caso_ativo['hash_mae'].notna() & caso_ativo['hash_mae'].isin(cc.df['hash_mae'])) |\n",
    "    (caso_ativo['hash_nasc'].notna() & caso_ativo['hash_nasc'].isin(cc.df['hash_nasc'])) \n",
    ")].copy()\n",
    "print('*VERIFICAR PORQUE NAO ENTROU*')\n",
    "print('Casos ativos não encontrado no pickle:')\n",
    "# caso_ativo_nao_encontrado.to_csv(join(database_dir,'caso_ativo_nao_encontrado.csv'), encoding='utf-8-sig', sep=';', index=False)\n",
    "# caso_ativo_nao_encontrado.to_pickle(join(database_dir,'caso_ativo_nao_encontrado.pkl'),'bz2')\n",
    "caso_ativo_nao_encontrado.shape[0]"
   ]
  },
  {
   "cell_type": "code",
   "execution_count": null,
   "metadata": {},
   "outputs": [],
   "source": [
    "caso_inativo = caso_curitiba.loc[(caso_curitiba['status_notificacao'].isin([3]))]\n",
    "print('Fichas notificadas inativas:')\n",
    "caso_inativo.shape[0]"
   ]
  },
  {
   "cell_type": "code",
   "execution_count": null,
   "metadata": {},
   "outputs": [],
   "source": [
    "curitiba_entraram_inativo = caso_inativo.loc[(\n",
    "    (caso_inativo['id'].isin(curitiba_d26['id_notifica']))\n",
    ")]\n",
    "curitiba_entraram_inativo.shape[0]"
   ]
  },
  {
   "cell_type": "code",
   "execution_count": null,
   "metadata": {},
   "outputs": [],
   "source": [
    "caso_inativo_encontrado = cc.df.loc[(\n",
    "    (cc.df['id_notifica'].notna() & cc.df['id_notifica'].isin(caso_inativo['id'])) |\n",
    "    (cc.df['hash_mae'].notna() & cc.df['hash_mae'].isin(caso_inativo['hash_mae'])) |\n",
    "    (cc.df['hash_nasc'].notna() & cc.df['hash_nasc'].isin(caso_inativo['hash_nasc'])) \n",
    ")]\n",
    "print('Casos inativos encontrado no pickle através do id do notifica:')\n",
    "caso_inativo_encontrado.shape[0]"
   ]
  },
  {
   "cell_type": "code",
   "execution_count": null,
   "metadata": {},
   "outputs": [],
   "source": [
    "group = caso_inativo_encontrado.groupby('ibge_residencia')[['ibge_residencia']].count().rename(columns={'ibge_residencia':'qtde'}).sort_values('qtde').reset_index()\n",
    "print('Casos inativos encontrado no pickle através do id do notifica com residência em Curitiba:')\n",
    "group.loc[group['ibge_residencia'] == 410690, 'qtde'].values[0]"
   ]
  },
  {
   "cell_type": "code",
   "execution_count": null,
   "metadata": {},
   "outputs": [],
   "source": [
    "#print('*CANDITADOS INATIVOS A MUDANÇA DE MUNICIPIO PARA CURITIBA*')\n",
    "print('Casos inativos encontrado no pickle através do id do notifica com residência em outros municipios:')\n",
    "caso_inativo_encontrado_curitiba = caso_inativo_encontrado.loc[caso_inativo_encontrado['ibge_residencia'] == 410690]\n",
    "caso_inativo_encontrado_outros = caso_inativo_encontrado.loc[caso_inativo_encontrado['ibge_residencia'] != 410690].copy()\n",
    "#caso_inativo_encontrado_outros.to_csv(join(default_output,'CANDITADOS_INATIVOS_ALTERACAO_DE_MUNICIPIO_.csv'), encoding='utf-8-sig', sep=';')\n",
    "caso_inativo_encontrado_outros.shape[0]"
   ]
  },
  {
   "cell_type": "code",
   "execution_count": null,
   "metadata": {},
   "outputs": [],
   "source": [
    "caso_inativo_encontrado_outros['ibge_residencia_antigo'] = caso_inativo_encontrado_outros['ibge_residencia']\n",
    "caso_inativo_encontrado_outros.loc[caso_inativo_encontrado_outros['ibge_residencia'] != 410690, 'ibge_residencia'] = 410690\n",
    "caso_inativo_encontrado_outros['hash_resid'] = caso_inativo_encontrado_outros['paciente'].apply(normalize_hash) + caso_inativo_encontrado_outros['ibge_residencia'].astype(str)\n",
    "caso_inativo_encontrado_outros['hash_resid_less'] = caso_inativo_encontrado_outros['paciente'].apply(normalize_hash) + caso_inativo_encontrado_outros['idade'].apply(less) + caso_inativo_encontrado_outros['ibge_residencia'].astype(str)\n",
    "caso_inativo_encontrado_outros['hash_resid_more'] = caso_inativo_encontrado_outros['paciente'].apply(normalize_hash) + caso_inativo_encontrado_outros['idade'].apply(more) + caso_inativo_encontrado_outros['ibge_residencia'].astype(str)"
   ]
  },
  {
   "cell_type": "code",
   "execution_count": null,
   "metadata": {},
   "outputs": [],
   "source": [
    "canditados_inativos_alteracao_de_municipio = caso_inativo_encontrado_outros.loc[~(\n",
    "    (caso_inativo_encontrado_outros['hash_resid'].isin(cc.df['hash_resid']))\n",
    ")]\n",
    "print('*CANDITADOS INATIVOS A MUDANÇA DE MUNICIPIO PARA CURITIBA*')\n",
    "canditados_inativos_alteracao_de_municipio.shape[0]"
   ]
  },
  {
   "cell_type": "code",
   "execution_count": null,
   "metadata": {},
   "outputs": [],
   "source": [
    "canditados_inativos_alteracao_de_municipio = canditados_inativos_alteracao_de_municipio.merge(how = 'left', on = 'ibge_residencia', right=mn)\n",
    "canditados_inativos_alteracao_de_municipio = canditados_inativos_alteracao_de_municipio.merge(how = 'left', on = 'ibge_residencia_antigo', right=mn[['ibge_residencia', 'municipio']].rename(columns={'ibge_residencia':'ibge_residencia_antigo', 'municipio':'municipio_antigo'}))\n",
    "canditados_inativos_alteracao_de_municipio.loc[canditados_inativos_alteracao_de_municipio['evolucao']==2, 'obito'] = 'SIM'\n",
    "#canditados_inativos_alteracao_de_municipio[['municipio_antigo','municipio','obito', 'sexo', 'idade']].to_csv(join(default_output,'canditados_inativos_alteracao_de_municipio_relatorio.csv'), encoding='utf-8-sig', sep=';')\n",
    "#canditados_inativos_alteracao_de_municipio[['identificacao','ibge7','municipio_normalizado']].rename(columns={'identificacao':'Identificacao', 'ibge7':'ibge', 'municipio_normalizado':'mun resid'}).to_csv(join(default_output,'canditados_inativos_alteracao_de_municipio.csv'), encoding='utf-8-sig', sep=';')"
   ]
  },
  {
   "cell_type": "code",
   "execution_count": null,
   "metadata": {},
   "outputs": [],
   "source": [
    "caso_inativo_nao_encontrado = caso_inativo.loc[~(\n",
    "    (caso_inativo['id'].notna() & caso_inativo['id'].isin(cc.df['id_notifica'])) |\n",
    "    (caso_inativo['hash_mae'].notna() & caso_inativo['hash_mae'].isin(cc.df['hash_mae'])) |\n",
    "    (caso_inativo['hash_nasc'].notna() & caso_inativo['hash_nasc'].isin(cc.df['hash_nasc'])) \n",
    ")].copy()\n",
    "print('VERIFICAR SE DA PRA ENTRAR*')\n",
    "# print('Casos ativos não encontrado no pickle:')\n",
    "# caso_inativo_nao_encontrado.to_csv(join(database_dir,'caso_inativo_nao_encontrado.csv'), encoding='utf-8-sig', sep=';', index=False)\n",
    "# caso_inativo_nao_encontrado.to_pickle(join(database_dir,'caso_inativo_nao_encontrado.pkl'),'bz2')\n",
    "caso_inativo_nao_encontrado.shape[0]"
   ]
  },
  {
   "cell_type": "code",
   "execution_count": null,
   "metadata": {},
   "outputs": [],
   "source": [
    "print('*RESUMO DA ÓPERA*')\n",
    "print(f\"DOS {caso_curitiba.shape[0]} CASOS NOTIFICADOS PELA QUALIFICAÇÃO DE CURITIBA\")\n",
    "print(f\"Casos notificados ativos que entraram no dia 26: {curitiba_entraram_ativo.shape[0]}\")\n",
    "print(f\"Casos notificados ativos que já qualificamos: {caso_ativo.shape[0] - caso_ativo_nao_encontrado.shape[0] - curitiba_entraram_ativo.shape[0]}\")\n",
    "print(f\"Destes, quantos não residentes em Curitiba (*POSSIVEL ALTERACAO DE MUNICIPIO*): {canditados_ativos_alteracao_de_municipio.shape[0]}\")\n",
    "print(f\"Casos notificados inativos que entraram no dia 26: {curitiba_entraram_inativo.shape[0]}\")\n",
    "print(f\"Casos notificados inativos que já qualificamos: {caso_inativo.shape[0] - caso_inativo_nao_encontrado.shape[0] - curitiba_entraram_inativo.shape[0]}\")\n",
    "print(f\"Destes, quantos não residentes em Curitiba (*POSSIVEL ALTERACAO DE MUNICIPIO*): {canditados_inativos_alteracao_de_municipio.shape[0]}\")\n",
    "print(f\"Casos ativos que não divulgamos (*VERIFICAR PORQUE NAO ENTROU*): {caso_ativo_nao_encontrado.shape[0]}\")\n",
    "print(f\"Casos inativos que não divulgamos (*VERIFICAR SE DA PRA ENTRAR*): {caso_inativo_nao_encontrado.shape[0]}\")"
   ]
  },
  {
   "cell_type": "code",
   "execution_count": null,
   "metadata": {},
   "outputs": [],
   "source": [
    "caso_ativo_nao_encontrado"
   ]
  },
  {
   "cell_type": "code",
   "execution_count": null,
   "metadata": {},
   "outputs": [],
   "source": [
    "caso_inativo_nao_encontrado"
   ]
  },
  {
   "cell_type": "code",
   "execution_count": null,
   "metadata": {},
   "outputs": [],
   "source": [
    "raise\n",
    "print('*VERIFICAÇÃO DO TOTAL*')\n",
    "caso_ativo.shape[0] - caso_ativo_nao_encontrado.shape[0] + caso_inativo.shape[0] - caso_inativo_nao_encontrado.shape[0] + caso_ativo_nao_encontrado.shape[0] + caso_inativo_nao_encontrado.shape[0]"
   ]
  },
  {
   "cell_type": "code",
   "execution_count": null,
   "metadata": {},
   "outputs": [],
   "source": [
    "# caso_ativo.loc[(\n",
    "#     (caso_ativo['id'].isin(cc.df['id_notifica'])) |\n",
    "#     (caso_ativo['hash_mae'].isin(cc.df['hash_mae'])) |\n",
    "#     (caso_ativo['hash_nasc'].isin(cc.df['hash_nasc'])) |\n",
    "#     (caso_ativo.loc[~caso_ativo['cns'].isna()].isin(cc.df.loc[~cc.df['cns'].isna()])) |\n",
    "#     (caso_ativo.loc[~caso_ativo['cpf'].isna()].isin(cc.df.loc[~cc.df['cpf'].isna()])) |\n",
    "#     (caso_ativo['hash_resid'].isin(cc.df['hash_resid'])) |\n",
    "#     (caso_ativo['hash_resid_less'].isin(cc.df['hash_resid_less'])) |\n",
    "#     (caso_ativo['hash_resid_more'].isin(cc.df['hash_resid_more'])) |\n",
    "#     (caso_ativo['hash_atend'].isin(cc.df['hash_atend'])) |\n",
    "#     (caso_ativo['hash_atend_less'].isin(cc.df['hash_atend_less'])) |\n",
    "#     (caso_ativo['hash_atend_more'].isin(cc.df['hash_atend_more'])) |\n",
    "#     (caso_ativo['hash_diag'].isin(cc.df['hash_diag']))\n",
    "# )].shape[0]"
   ]
  },
  {
   "cell_type": "code",
   "execution_count": null,
   "metadata": {},
   "outputs": [],
   "source": [
    "# caso_inativo.loc[(\n",
    "#     (caso_inativo['id'].isin(cc.df['id_notifica'])) |\n",
    "#     (caso_inativo['hash_mae'].isin(cc.df['hash_mae'])) |\n",
    "#     (caso_inativo['hash_nasc'].isin(cc.df['hash_nasc'])) |\n",
    "#     (caso_inativo.loc[~caso_ativo['cns'].isna()].isin(cc.df.loc[~cc.df['cns'].isna()])) |\n",
    "#     (caso_inativo.loc[~caso_ativo['cpf'].isna()].isin(cc.df.loc[~cc.df['cpf'].isna()])) |\n",
    "#     (caso_inativo['hash_resid'].isin(cc.df['hash_resid'])) |\n",
    "#     (caso_inativo['hash_resid_less'].isin(cc.df['hash_resid_less'])) |\n",
    "#     (caso_inativo['hash_resid_more'].isin(cc.df['hash_resid_more'])) |\n",
    "#     (caso_inativo['hash_atend'].isin(cc.df['hash_atend'])) |\n",
    "#     (caso_inativo['hash_atend_less'].isin(cc.df['hash_atend_less'])) |\n",
    "#     (caso_inativo['hash_atend_more'].isin(cc.df['hash_atend_more'])) |\n",
    "#     (caso_inativo['hash_diag'].isin(cc.df['hash_diag']))\n",
    "# )].shape[0]"
   ]
  },
  {
   "cell_type": "code",
   "execution_count": null,
   "metadata": {},
   "outputs": [],
   "source": [
    "del cc"
   ]
  },
  {
   "cell_type": "code",
   "execution_count": null,
   "metadata": {},
   "outputs": [],
   "source": [
    "check_duplicates(caso_ativo_nao_encontrado)\n",
    "caso_ativo_nao_encontrado.loc[caso_ativo_nao_encontrado['duplicated']].shape[0]"
   ]
  },
  {
   "cell_type": "code",
   "execution_count": null,
   "metadata": {},
   "outputs": [],
   "source": [
    "print(f\"{str(int(caso_ativo_nao_encontrado.loc[caso_ativo_nao_encontrado['duplicated']].shape[0]/caso_ativo_nao_encontrado.shape[0]*100))}% das fichas ativas que não entraram ({caso_ativo_nao_encontrado.shape[0]}) são fichas duplicadas\")"
   ]
  },
  {
   "cell_type": "code",
   "execution_count": null,
   "metadata": {},
   "outputs": [],
   "source": [
    "check_duplicates(caso_inativo_nao_encontrado)\n",
    "caso_inativo_nao_encontrado.loc[caso_inativo_nao_encontrado['duplicated']].shape[0]"
   ]
  },
  {
   "cell_type": "code",
   "execution_count": null,
   "metadata": {},
   "outputs": [],
   "source": [
    "print(f\"{str(int(caso_inativo_nao_encontrado.loc[caso_inativo_nao_encontrado['duplicated']].shape[0]/caso_inativo_nao_encontrado.shape[0]*100))}% das fichas inativas que não entraram ({caso_inativo_nao_encontrado.shape[0]}) são fichas duplicadas\")"
   ]
  },
  {
   "cell_type": "code",
   "execution_count": null,
   "metadata": {},
   "outputs": [],
   "source": [
    "canditados_alteracao_de_municipio = pd.concat([canditados_ativos_alteracao_de_municipio, canditados_inativos_alteracao_de_municipio]).sort_values('id_notifica')\n",
    "check_duplicates(canditados_alteracao_de_municipio)"
   ]
  },
  {
   "cell_type": "code",
   "execution_count": null,
   "metadata": {},
   "outputs": [],
   "source": [
    "canditados_alteracao_de_municipio = canditados_alteracao_de_municipio.loc[(~(canditados_alteracao_de_municipio['duplicated'])) & (~(canditados_alteracao_de_municipio['obito']=='SIM'))]\n",
    "canditados_alteracao_de_municipio.shape[0]"
   ]
  },
  {
   "cell_type": "code",
   "execution_count": null,
   "metadata": {},
   "outputs": [],
   "source": [
    "#canditados_alteracao_de_municipio.loc[((canditados_alteracao_de_municipio['duplicated'])) & ((canditados_alteracao_de_municipio['obito']=='SIM'))].shape[0]"
   ]
  },
  {
   "cell_type": "code",
   "execution_count": null,
   "metadata": {},
   "outputs": [],
   "source": [
    "canditados_alteracao_de_municipio[['municipio_antigo','municipio','obito', 'sexo', 'idade']].to_csv(join(default_output,'alteracao_de_municipio_relatorio.csv'), encoding='utf-8-sig', sep=';', index=False)\n",
    "canditados_alteracao_de_municipio[['identificacao','ibge7','municipio_normalizado']].rename(columns={'identificacao':'Identificacao', 'ibge7':'ibge', 'municipio_normalizado':'mun resid'}).to_excel(join(default_output,'alteracao_de_municipio.xlsx'), encoding='utf-8-sig', index=False)"
   ]
  }
 ],
 "metadata": {
  "interpreter": {
   "hash": "b3ba2566441a7c06988d0923437866b63cedc61552a5af99d1f4fb67d367b25f"
  },
  "kernelspec": {
   "display_name": "Python 3.8.5 64-bit ('base': conda)",
   "name": "python3"
  },
  "language_info": {
   "codemirror_mode": {
    "name": "ipython",
    "version": 3
   },
   "file_extension": ".py",
   "mimetype": "text/x-python",
   "name": "python",
   "nbconvert_exporter": "python",
   "pygments_lexer": "ipython3",
   "version": "3.8.11"
  }
 },
 "nbformat": 4,
 "nbformat_minor": 4
}
