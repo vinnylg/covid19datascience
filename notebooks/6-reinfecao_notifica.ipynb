{
 "cells": [
  {
   "cell_type": "code",
   "execution_count": null,
   "metadata": {
    "execution": {
     "iopub.execute_input": "2021-12-20T13:44:35.362539Z",
     "iopub.status.busy": "2021-12-20T13:44:35.362539Z",
     "iopub.status.idle": "2021-12-20T13:44:35.409410Z",
     "shell.execute_reply": "2021-12-20T13:44:35.409410Z",
     "shell.execute_reply.started": "2021-12-20T13:44:35.362539Z"
    }
   },
   "outputs": [],
   "source": [
    "## set covid19_datasciente as path for python find bulletin package\n",
    "import sys\n",
    "from pathlib import Path\n",
    "from os import getcwd, remove, chdir\n",
    "from os.path import join, basename\n",
    "\n",
    "sys.path.append(str(Path(getcwd()).parent))\n",
    "current_dir = getcwd()\n",
    "print(current_dir)"
   ]
  },
  {
   "cell_type": "code",
   "execution_count": null,
   "metadata": {
    "execution": {
     "iopub.execute_input": "2021-12-20T13:44:35.409410Z",
     "iopub.status.busy": "2021-12-20T13:44:35.409410Z",
     "iopub.status.idle": "2021-12-20T13:44:35.925355Z",
     "shell.execute_reply": "2021-12-20T13:44:35.925355Z",
     "shell.execute_reply.started": "2021-12-20T13:44:35.409410Z"
    }
   },
   "outputs": [],
   "source": [
    "import pandas as pd\n",
    "pd.set_option('display.max_columns', None)\n",
    "pd.set_option('display.max_rows', 150)\n",
    "\n",
    "import numpy as np\n",
    "from random import randint\n",
    "from math import floor, ceil\n",
    "import codecs\n",
    "import gc"
   ]
  },
  {
   "cell_type": "code",
   "execution_count": null,
   "metadata": {
    "execution": {
     "iopub.execute_input": "2021-12-20T13:44:35.925355Z",
     "iopub.status.busy": "2021-12-20T13:44:35.925355Z",
     "iopub.status.idle": "2021-12-20T13:44:37.254184Z",
     "shell.execute_reply": "2021-12-20T13:44:37.254184Z",
     "shell.execute_reply.started": "2021-12-20T13:44:35.925355Z"
    }
   },
   "outputs": [],
   "source": [
    "from bulletin import root, default_input, default_output, agora, hoje, ontem, anteontem, dias_apos, dias_apos_label\n",
    "from bulletin.services.metabase import Metabase\n",
    "from bulletin.systems.casos_confirmados import CasosConfirmados\n",
    "from bulletin.systems.notifica import Notifica\n",
    "from bulletin.utils.static import Municipios\n",
    "from bulletin.utils import utils, static\n",
    "from bulletin.utils.xls_ import fit_cols\n",
    "from bulletin.utils.normalize import trim_overspace\n",
    "from bulletin.utils.normalize import normalize_text#normalize_hash, normalize_labels, , date_hash, normalize_number"
   ]
  },
  {
   "cell_type": "code",
   "execution_count": null,
   "metadata": {
    "execution": {
     "iopub.execute_input": "2021-12-20T13:44:37.254184Z",
     "iopub.status.busy": "2021-12-20T13:44:37.254184Z",
     "iopub.status.idle": "2021-12-20T13:44:37.269805Z",
     "shell.execute_reply": "2021-12-20T13:44:37.269805Z",
     "shell.execute_reply.started": "2021-12-20T13:44:37.254184Z"
    }
   },
   "outputs": [],
   "source": [
    "from datetime import datetime, date, timedelta\n",
    "from tqdm import tqdm\n",
    "\n",
    "exclusao_pathfile = join(root, 'database', 'casos_confirmados')\n",
    "\n",
    "today = pd.to_datetime(date.today())\n",
    "ontem = today - timedelta(1)\n",
    "anteontem = ontem - timedelta(1)\n",
    "data_retroativos = ontem - timedelta(31)"
   ]
  },
  {
   "cell_type": "code",
   "execution_count": null,
   "metadata": {},
   "outputs": [],
   "source": [
    "# FUNDAMENTAÇÃO (para a escolha do período)\n",
    "# https://www2.ufjf.br/noticias/2021/04/20/infectologista-explica-riscos-de-reinfeccao-pelo-coronavirus-e-suas-variantes/"
   ]
  },
  {
   "cell_type": "code",
   "execution_count": null,
   "metadata": {},
   "outputs": [],
   "source": [
    "def find_best_record(id_not_1, cns_1, cpf_1, diagnostico_1, evolucao_1, id_not_2, cns_2, cpf_2, diagnostico_2, evolucao_2):\n",
    "    if ((cns_1 == None) and (cpf_1 == None)):\n",
    "        if ((cns_2 != None) or (cpf_2 != None)):\n",
    "            #TROCA AS FICHAS\n",
    "            id_temp = id_not_1\n",
    "            diag_temp = diagnostico_1\n",
    "            evolucao_temp = evolucao_1\n",
    "\n",
    "\n",
    "            id_not_1 = id_not_2\n",
    "            diagnostico_1 = diagnostico_2\n",
    "            evolucao_1 = evolucao_2\n",
    "\n",
    "\n",
    "            id_not_2 = id_temp\n",
    "            diagnostico_2 = diag_temp\n",
    "            evolucao_2 = evolucao_temp\n",
    "    \n",
    "    return id_not_1, diagnostico_1, evolucao_1, id_not_2, diagnostico_2, evolucao_2"
   ]
  },
  {
   "cell_type": "markdown",
   "metadata": {},
   "source": [
    "### 1. Determinação das FICHAS DUPLICADAS no Notifica"
   ]
  },
  {
   "cell_type": "code",
   "execution_count": null,
   "metadata": {
    "execution": {
     "iopub.execute_input": "2021-12-20T13:44:37.332292Z",
     "iopub.status.busy": "2021-12-20T13:44:37.332292Z",
     "iopub.status.idle": "2021-12-20T13:44:37.363545Z",
     "shell.execute_reply": "2021-12-20T13:44:37.363545Z",
     "shell.execute_reply.started": "2021-12-20T13:44:37.332292Z"
    }
   },
   "outputs": [],
   "source": [
    "municipios = Municipios()\n",
    "municipios['mun_resid'] = municipios['municipio']\n",
    "municipios.loc[municipios['uf']!='PR','mun_resid'] = municipios.loc[municipios['uf']!='PR','municipio'] + '/' + municipios['uf']"
   ]
  },
  {
   "cell_type": "code",
   "execution_count": null,
   "metadata": {
    "execution": {
     "iopub.execute_input": "2021-12-20T13:44:37.363545Z",
     "iopub.status.busy": "2021-12-20T13:44:37.363545Z",
     "iopub.status.idle": "2021-12-20T13:49:14.524568Z",
     "shell.execute_reply": "2021-12-20T13:49:14.524568Z",
     "shell.execute_reply.started": "2021-12-20T13:44:37.363545Z"
    }
   },
   "outputs": [],
   "source": [
    "update = False\n",
    "load_downloaded = False\n",
    "\n",
    "# Load \n",
    "notifica = Notifica()\n",
    "notifica.databases()\n",
    "notifica.load('notifica', compress=False)\n",
    "notifica.df = notifica.df.drop_duplicates('id', keep='last')\n",
    "    \n",
    "if update:\n",
    "    mb = Metabase()\n",
    "    days = 2\n",
    "    intervalo = f\"(data_notificacao >= NOW() - INTERVAL '{days} DAY') or (data_liberacao >= NOW() - INTERVAL '{days} DAY') or (updated_at >= NOW() - INTERVAL '{days} DAY') or (data_coleta >= NOW() - INTERVAL '{days} DAY') or (data_encerramento >= NOW() - INTERVAL '{days} DAY') or (data_cura_obito >= NOW() - INTERVAL '{days} DAY')\"\n",
    "    mb.generate_notifica_query('update_notifica', where=intervalo, replace=True)\n",
    "    update_notifica_parts = mb.download_notificacao('update_notifica', load=load_downloaded)\n",
    "    \n",
    "    update_notifica = Notifica()\n",
    "    update_notifica.read(update_notifica_parts)\n",
    "    update_notifica.normalize()\n",
    "    \n",
    "    \n",
    "    update_notifica.df = update_notifica.df.drop_duplicates('id', keep='last')\n",
    "    analise_dtd = update_notifica.analise_data_diagnostico() ## only in casos confirmados, pd.NaT nos demais\n",
    "\n",
    "#     novas_notificacoes, atualizacoes_fichas = notifica.update(update_notifica)#, observed_cols=['excluir_ficha','status_notificacao','classificacao_final','data_1o_sintomas','data_diagnostico','evolucao','data_cura_obito','data_encerramento'])\n",
    "    notifica.update(update_notifica)\n",
    "\n",
    "    notifica.fix_dtypes()\n",
    "    notifica.save(replace=True, compress=False)\n",
    "\n",
    "notifica.df.shape"
   ]
  },
  {
   "cell_type": "code",
   "execution_count": null,
   "metadata": {},
   "outputs": [],
   "source": [
    "# MUDANÇA DE VALORES PARA CURITIBA, ficha inativa volta à ativa\n",
    "notifica.df.loc[(notifica.df['ibge_residencia'] == 410690) & (notifica.df['status_notificacao'] == 3), 'status_notificacao'] = 2"
   ]
  },
  {
   "cell_type": "code",
   "execution_count": null,
   "metadata": {},
   "outputs": [],
   "source": [
    "notifica.df = notifica.df.loc[((notifica.df['classificacao_final']==2)&(notifica.df['excluir_ficha']==2)&(notifica.df['status_notificacao'].isin([1,2])))]\n",
    "\n",
    "notifica.df = pd.merge(notifica.df.rename(columns={'ibge_residencia':'ibge'}),municipios[['ibge','macro','rs','mun_resid','uf','municipio','regional']],on='ibge',how='left').rename(columns={'ibge':'ibge_residencia'})\n",
    "notifica.df = pd.merge(notifica.df.rename(columns={'ibge_unidade_notifica':'ibge'}),municipios[['ibge','mun_resid']].rename(columns={'mun_resid':'mun_atend'}),on='ibge',how='left').rename(columns={'ibge':'ibge_unidade_notifica'})\n",
    "\n",
    "# notifica.df['exame_nome'] = notifica.replace('exame',inplace=False)\n",
    "notifica.replace('sexo')\n",
    "\n",
    "notifica.df = notifica.df.loc[((notifica.df['sexo']!='N')&(notifica.df['mun_resid'].notna())&(notifica.df['data_diagnostico'].notna())&(notifica.df['paciente'].str.len() > 5))]\n",
    "\n",
    "display(notifica.df[['id','evolucao']].groupby(['evolucao']).count())"
   ]
  },
  {
   "cell_type": "code",
   "execution_count": null,
   "metadata": {
    "execution": {
     "iopub.execute_input": "2021-12-20T13:51:38.913054Z",
     "iopub.status.busy": "2021-12-20T13:51:38.913054Z",
     "iopub.status.idle": "2021-12-20T13:53:20.462475Z",
     "shell.execute_reply": "2021-12-20T13:53:20.462475Z",
     "shell.execute_reply.started": "2021-12-20T13:51:38.913054Z"
    }
   },
   "outputs": [],
   "source": [
    "notifica_duplicados = notifica.check_duplicates(keep=False)\n",
    "notifica_duplicados.reset_index(inplace=True)\n",
    "notifica_duplicados.groupby(['ids_len'])[['ids_len']].count()"
   ]
  },
  {
   "cell_type": "code",
   "execution_count": null,
   "metadata": {},
   "outputs": [],
   "source": [
    "duplicados_only = notifica_duplicados.drop_duplicates(subset='ids_str')\n",
    "duplicados_only = duplicados_only.loc[duplicados_only['duplicated_cols'].str.contains('hash_mae')]\n",
    "duplicados_only = duplicados_only.loc[duplicados_only['duplicated_ncols'] > 1]\n",
    "# duplicados_only = duplicados_only.loc[duplicados_only['ids_len'] == 2]\n",
    "duplicados_only = duplicados_only.sort_values(by='ids_len', ascending=True)\n",
    "duplicados_only"
   ]
  },
  {
   "cell_type": "code",
   "execution_count": null,
   "metadata": {},
   "outputs": [],
   "source": [
    "del(notifica.df)\n",
    "gc.collect()"
   ]
  },
  {
   "cell_type": "markdown",
   "metadata": {},
   "source": [
    "### 2. Início do MÉTODO"
   ]
  },
  {
   "cell_type": "code",
   "execution_count": null,
   "metadata": {},
   "outputs": [],
   "source": [
    "notifica_untouched = Notifica()\n",
    "notifica_untouched.load('notifica', compress=False)\n",
    "notifica_untouched.df = notifica_untouched.df.drop_duplicates('id', keep='last')\n",
    "notifica_untouched.df.shape"
   ]
  },
  {
   "cell_type": "code",
   "execution_count": null,
   "metadata": {},
   "outputs": [],
   "source": [
    "try: \n",
    "    notifica_untouched.df = notifica_untouched.df.drop(columns={'reinfeccao', 'reinfeccao_ids'})\n",
    "except:\n",
    "    pass\n",
    "notifica_untouched.df.shape"
   ]
  },
  {
   "cell_type": "code",
   "execution_count": null,
   "metadata": {},
   "outputs": [],
   "source": [
    "for i in tqdm(duplicados_only.index):\n",
    "    list_verify = duplicados_only.loc[i, 'ids']\n",
    "    df_temp = notifica_untouched.df.loc[notifica_untouched.df['id'].isin(list_verify)].sort_values('data_diagnostico')\n",
    "\n",
    "    for j in range(0, len(list_verify) - 1, 1):\n",
    "        #FICHA 1, provavelmente já está no cc\n",
    "        id_not_1 = df_temp.loc[df_temp.index[j], 'id']\n",
    "        cns_1 = df_temp.loc[df_temp.index[j], 'cns']\n",
    "        cpf_1 = df_temp.loc[df_temp.index[j], 'cpf']\n",
    "        diagnostico_1 = df_temp.loc[df_temp.index[j], 'data_diagnostico']\n",
    "        evolucao_1 = df_temp.loc[df_temp.index[j], 'evolucao']\n",
    "        \n",
    "        \n",
    "        #FICHA 2, provavelmente NÃO está no cc\n",
    "        id_not_2 = df_temp.loc[df_temp.index[j+1], 'id']\n",
    "        cns_2 = df_temp.loc[df_temp.index[j+1], 'cns']\n",
    "        cpf_2 = df_temp.loc[df_temp.index[j+1], 'cpf']\n",
    "        diagnostico_2 = df_temp.loc[df_temp.index[j+1], 'data_diagnostico']\n",
    "        evolucao_2 = df_temp.loc[df_temp.index[j+1], 'evolucao']\n",
    "\n",
    "\n",
    "        id_not_1, diagnostico_1, evolucao_1, id_not_2, diagnostico_2, evolucao_2 = find_best_record(id_not_1, cns_1, cpf_1, diagnostico_1, evolucao_1, id_not_2, cns_2, cpf_2, diagnostico_2, evolucao_2)\n",
    "\n",
    "        \n",
    "        diff = diagnostico_2 - diagnostico_1\n",
    "        if ((abs(diff.days) >= 90) and (evolucao_2 != 2)):\n",
    "            notifica_untouched.df.loc[notifica_untouched.df['id'] == id_not_2, ('reinfeccao', 'reinfeccao_ids')] = (True, id_not_1)"
   ]
  },
  {
   "cell_type": "code",
   "execution_count": null,
   "metadata": {},
   "outputs": [],
   "source": [
    "notifica_untouched.df['reinfeccao'] = notifica_untouched.df['reinfeccao'].fillna(False)"
   ]
  },
  {
   "cell_type": "code",
   "execution_count": null,
   "metadata": {},
   "outputs": [],
   "source": [
    "notifica_untouched.df.loc[notifica_untouched.df['reinfeccao'] == True].shape"
   ]
  },
  {
   "cell_type": "code",
   "execution_count": null,
   "metadata": {},
   "outputs": [],
   "source": [
    "notifica_untouched.df.loc[(notifica_untouched.df['reinfeccao'] == True) & (notifica_untouched.df['status_notificacao']==3)].shape"
   ]
  },
  {
   "cell_type": "code",
   "execution_count": null,
   "metadata": {},
   "outputs": [],
   "source": [
    "# 33102 rows × 190 columns"
   ]
  },
  {
   "cell_type": "markdown",
   "metadata": {},
   "source": [
    "### 3. Salvar os arquivos necessários"
   ]
  },
  {
   "cell_type": "code",
   "execution_count": null,
   "metadata": {},
   "outputs": [],
   "source": [
    "path_db = join('C:\\\\', 'SESA', 'covid19datascience-dev', 'bulletin', 'database', 'notifica')"
   ]
  },
  {
   "cell_type": "code",
   "execution_count": null,
   "metadata": {},
   "outputs": [],
   "source": [
    "duplicados_only.to_excel(join(path_db, 'relacao_duplicados_notifica.xlsx'))"
   ]
  },
  {
   "cell_type": "code",
   "execution_count": null,
   "metadata": {},
   "outputs": [],
   "source": [
    "notifica_untouched.save(replace=True, compress=False)"
   ]
  },
  {
   "cell_type": "code",
   "execution_count": null,
   "metadata": {},
   "outputs": [],
   "source": [
    "# TEMPO DE EXECUÇÃO\n",
    "\n",
    "now = pd.to_datetime(datetime.today())\n",
    "final = pd.to_datetime(datetime.today())\n",
    "delta = final - timedelta(minutes=agora.minute, hours=agora.hour)\n",
    "print(f\"início: {agora.strftime('%d/%m/%Y')}\\t{agora.strftime('%H:%M')}\")\n",
    "print(f\"agora: {now.strftime('%d/%m/%Y')}\\t{now.strftime('%H:%M')}\")\n",
    "print(f\"tempo corrido: {delta.strftime('%H:%M:%S')}\")"
   ]
  }
 ],
 "metadata": {
  "interpreter": {
   "hash": "1cdc22e96f16e7a709941e5164353478df3c5a2dca8a048b5ddcd85bd66dd558"
  },
  "kernelspec": {
   "display_name": "Python 3 (ipykernel)",
   "language": "python",
   "name": "python3"
  },
  "language_info": {
   "codemirror_mode": {
    "name": "ipython",
    "version": 3
   },
   "file_extension": ".py",
   "mimetype": "text/x-python",
   "name": "python",
   "nbconvert_exporter": "python",
   "pygments_lexer": "ipython3",
   "version": "3.8.11"
  }
 },
 "nbformat": 4,
 "nbformat_minor": 4
}
