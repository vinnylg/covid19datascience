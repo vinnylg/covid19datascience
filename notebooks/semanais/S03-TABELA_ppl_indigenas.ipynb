{
 "cells": [
  {
   "cell_type": "code",
   "execution_count": null,
   "metadata": {},
   "outputs": [],
   "source": [
    "## set covid19_datasciente as path for python find bulletin package\n",
    "import sys\n",
    "from pathlib import Path\n",
    "from os import getcwd\n",
    "sys.path.append(str(Path(getcwd()).parent.parent)) ## ../../covid19datascience* <- set parent level here"
   ]
  },
  {
   "cell_type": "code",
   "execution_count": null,
   "metadata": {},
   "outputs": [],
   "source": [
    "import pandas as pd\n",
    "from epiweeks import Week\n",
    "from datetime import timedelta, date\n",
    "from os.path import join\n",
    "\n",
    "from bulletin import default_input, default_output, root, hoje, data_comeco_pandemia\n",
    "from bulletin.services.metabase import Metabase\n",
    "from bulletin.systems.notifica import Notifica\n",
    "from bulletin.utils.normalize import trim_overspace"
   ]
  },
  {
   "cell_type": "code",
   "execution_count": null,
   "metadata": {},
   "outputs": [],
   "source": [
    "notifica = Notifica()\n",
    "notifica.load('notifica', compress=False)"
   ]
  },
  {
   "cell_type": "code",
   "execution_count": null,
   "metadata": {},
   "outputs": [],
   "source": [
    "# notifica.df.loc[notifica.df['etnia']!=-1].groupby(['raca_cor','etnia','classificacao_final'])[['id']].count().rename(index=notifica.tables['raca_cor'].set_index('id').to_dict()['raca_cor'],level='raca_cor').rename(index=notifica.tables['etnia'].set_index('co_etnia').to_dict()['etnia'],level='etnia').unstack('classificacao_final').fillna(0).astype(int).rename(columns=notifica.tables['classificacao_final'].set_index('id').to_dict()['classificacao_final'],level='classificacao_final').to_excel('raca_cor_etnia.xlsx')"
   ]
  },
  {
   "cell_type": "code",
   "execution_count": null,
   "metadata": {},
   "outputs": [],
   "source": [
    "# notifica.df.loc[(notifica.df['etnia']!=-1) & (notifica.df['classificacao_final']==2)].groupby(['etnia',notifica.df.loc[notifica.df['etnia']!=-1,'data_notificacao'].rename('ano').dt.year])[['id']].count().rename(index=notifica.tables['etnia'].set_index('co_etnia').to_dict()['etnia'],level='etnia').unstack('ano').fillna(0).astype(int)"
   ]
  },
  {
   "cell_type": "code",
   "execution_count": null,
   "metadata": {},
   "outputs": [],
   "source": [
    "# notifica.df.loc[notifica.df['etnia']!=-1,'raca_cor'] = 5\n",
    "# notifica.df.loc[(notifica.df['etnia']==-1) & (notifica.df['raca_cor']==5),'raca_cor'] = 99"
   ]
  },
  {
   "cell_type": "code",
   "execution_count": null,
   "metadata": {},
   "outputs": [],
   "source": [
    "indigenas = notifica.df.loc[(notifica.df['raca_cor']==5) & (notifica.df['excluir_ficha']==2) & (notifica.df['uf_residencia']==41)].copy()\n",
    "# indigenas.groupby('etnia')[['id']].count().sort_values('id',ascending=False)"
   ]
  },
  {
   "cell_type": "code",
   "execution_count": null,
   "metadata": {},
   "outputs": [],
   "source": [
    "# DOWNLOAD PPL\n",
    "mb = Metabase()\n",
    "\n",
    "ppl_path = join(default_input,'semanais','ppl.csv')\n",
    "with open(join(mb.sql_path,'PPL.sql')) as file:\n",
    "        raw_sql = trim_overspace(\" \".join([ row.replace('\\n',' ') for row in file.readlines() if not '--' in row ]))\n",
    "\n",
    "mb.download(raw_sql, ppl_path)"
   ]
  },
  {
   "cell_type": "code",
   "execution_count": null,
   "metadata": {},
   "outputs": [],
   "source": [
    "# ppl = notifica.df.loc[(notifica.df['ocupacao'].isin([5,0])) & (notifica.df['paciente_institucionalizado'].isin([4,1])) & (notifica.df['excluir_ficha']==2) & (notifica.df['uf_residencia']==41)].copy()\n",
    "ppl = pd.read_csv(join(default_input,'semanais','ppl.csv'), converters = {\n",
    "                            'data_notificacao' : pd.to_datetime,\n",
    "                            },\n",
    "                            sep=',',\n",
    "                            encoding='utf-8-sig')\n",
    "ppl.shape[0]"
   ]
  },
  {
   "cell_type": "code",
   "execution_count": null,
   "metadata": {},
   "outputs": [],
   "source": [
    "sexo = notifica.tables['sexo'].copy()\n",
    "raca_cor = notifica.tables['raca_cor'].copy()\n",
    "etnia = notifica.tables['etnia'].copy()\n",
    "classificacao_final = notifica.tables['classificacao_final'].copy()\n",
    "evolucao = notifica.tables['evolucao'].copy()\n",
    "paciente_institucionalizado = notifica.tables['paciente_institucionalizado'].copy()"
   ]
  },
  {
   "cell_type": "code",
   "execution_count": null,
   "metadata": {},
   "outputs": [],
   "source": [
    "ppl = ppl[['data_notificacao', 'sexo', 'idade', 'uf_residencia', 'paciente_institucionalizado', 'classificacao_final', 'evolucao']]\n",
    "ppl_menores = ppl.loc[ppl['idade'] < 10]\n",
    "ppl = ppl.loc[ppl['idade'] >= 10]\n",
    "ppl.loc[ppl['evolucao'] == 2, 'evolucao'] = 5\n",
    "ppl.loc[(ppl['evolucao'] == 0) | (ppl['evolucao'].isnull()), 'evolucao'] = 3\n",
    "ppl =  ppl.rename(columns={'sexo':'id'})\n",
    "ppl = ppl.merge(how = 'left', on = 'id', right = sexo)\n",
    "ppl = ppl[['data_notificacao', 'sexo', 'idade', 'uf_residencia', 'paciente_institucionalizado', 'classificacao_final', 'evolucao']]\n",
    "ppl =  ppl.rename(columns={'paciente_institucionalizado':'id'})\n",
    "ppl = ppl.merge(how = 'left', on = 'id', right = paciente_institucionalizado)\n",
    "ppl = ppl[['data_notificacao', 'sexo', 'idade', 'uf_residencia', 'paciente_institucionalizado', 'classificacao_final', 'evolucao']]\n",
    "ppl =  ppl.rename(columns={'classificacao_final':'id'})\n",
    "ppl = ppl.merge(how = 'left', on = 'id', right = classificacao_final)\n",
    "ppl = ppl[['data_notificacao', 'sexo', 'idade', 'uf_residencia', 'paciente_institucionalizado', 'classificacao_final', 'evolucao']]\n",
    "ppl =  ppl.rename(columns={'evolucao':'id'})\n",
    "ppl = ppl.merge(how = 'left', on = 'id', right = evolucao)\n",
    "ppl = ppl[['data_notificacao', 'sexo', 'idade', 'uf_residencia', 'paciente_institucionalizado', 'classificacao_final', 'evolucao']]\n",
    "\n",
    "\n",
    "tabela_cf = ppl.groupby(['classificacao_final'])[['data_notificacao']].count().sort_values('data_notificacao', ascending = False)\n",
    "tabela_ev = ppl.groupby(['evolucao'])[['data_notificacao']].count().sort_values('data_notificacao', ascending = False)\n",
    "\n",
    "\n",
    "ppl.to_csv(join(default_output, 'enviar_celepar','CORONAVIRUS.ppl.csv'), index = False, sep=';', encoding='utf-8-sig', date_format='%d/%m/%Y')\n",
    "#ppl_menores.to_excel(join('ppl_menores.xlsx'), encoding='utf-8-sig')\n",
    "tabela_cf.to_excel(join(default_output, 'semanais','TABELA_ppl_classificacao.xlsx'), encoding='utf-8-sig')\n",
    "tabela_ev.to_excel(join(default_output, 'semanais','TABELA_ppl_evolucao.xlsx'), encoding='utf-8-sig')\n",
    "ppl_menores.shape[0]"
   ]
  },
  {
   "cell_type": "code",
   "execution_count": null,
   "metadata": {},
   "outputs": [],
   "source": [
    "indigenas = indigenas[['data_notificacao', 'raca_cor', 'sexo', 'idade', 'etnia', 'uf_residencia', 'classificacao_final', 'evolucao']]\n",
    "indigenas.loc[indigenas['evolucao'] == 2, 'evolucao'] = 5\n",
    "indigenas.loc[(indigenas['evolucao'] == 0) | (indigenas['evolucao'].isnull()), 'evolucao'] = 3\n",
    "indigenas =  indigenas.rename(columns={'sexo':'id'})\n",
    "indigenas = indigenas.merge(how = 'left', on = 'id', right = sexo)\n",
    "indigenas = indigenas[['data_notificacao', 'raca_cor', 'sexo', 'idade', 'etnia', 'uf_residencia', 'classificacao_final', 'evolucao']]\n",
    "indigenas =  indigenas.rename(columns={'raca_cor':'id'})\n",
    "indigenas = indigenas.merge(how = 'left', on = 'id', right = raca_cor)\n",
    "indigenas = indigenas[['data_notificacao', 'raca_cor', 'sexo', 'idade', 'etnia', 'uf_residencia', 'classificacao_final', 'evolucao']]\n",
    "indigenas =  indigenas.rename(columns={'etnia':'co_etnia'})\n",
    "indigenas = indigenas.merge(how = 'left', on = 'co_etnia', right = etnia)\n",
    "indigenas = indigenas[['data_notificacao', 'raca_cor', 'sexo', 'idade', 'etnia', 'uf_residencia', 'classificacao_final', 'evolucao']]\n",
    "indigenas =  indigenas.rename(columns={'classificacao_final':'id'})\n",
    "indigenas = indigenas.merge(how = 'left', on = 'id', right = classificacao_final)\n",
    "indigenas = indigenas[['data_notificacao', 'raca_cor', 'sexo', 'idade', 'etnia', 'uf_residencia', 'classificacao_final', 'evolucao']]\n",
    "indigenas =  indigenas.rename(columns={'evolucao':'id'})\n",
    "indigenas = indigenas.merge(how = 'left', on = 'id', right = evolucao)\n",
    "indigenas = indigenas[['data_notificacao', 'raca_cor', 'sexo', 'idade', 'etnia', 'uf_residencia', 'classificacao_final', 'evolucao']]\n",
    "indigenas.loc[indigenas['etnia'].isnull(), 'etnia'] = 'Não Informado'\n",
    "\n",
    "\n",
    "tabela_cf = indigenas.groupby(['classificacao_final'])[['data_notificacao']].count().sort_values('data_notificacao', ascending = False)\n",
    "tabela_et = indigenas.groupby(['etnia'])[['data_notificacao']].count().sort_values('data_notificacao', ascending = False)\n",
    "tabela_ev = indigenas.groupby(['evolucao'])[['data_notificacao']].count().sort_values('data_notificacao', ascending = False)\n",
    "\n",
    "\n",
    "# indigenas.to_csv(join(default_output,'enviar_celepar', 'CORONAVIRUS.indigenas.csv'), index = False, sep=';', encoding='utf-8-sig', date_format='%d/%m/%Y')\n",
    "# tabela_cf.to_excel(join(default_output, 'semanais','TABELA_indigenas_classificacao.xlsx'), encoding='utf-8-sig')\n",
    "# tabela_et.to_excel(join(default_output, 'semanais','TABELA_indigenas_etnias.xlsx'), encoding='utf-8-sig')\n",
    "# tabela_ev.to_excel(join(default_output, 'semanais','TABELA_indigenas_evolucao.xlsx'), encoding='utf-8-sig')"
   ]
  },
  {
   "cell_type": "code",
   "execution_count": null,
   "metadata": {},
   "outputs": [],
   "source": [
    "display(indigenas.groupby('classificacao_final')[['sexo']].count())"
   ]
  }
 ],
 "metadata": {
  "interpreter": {
   "hash": "1cdc22e96f16e7a709941e5164353478df3c5a2dca8a048b5ddcd85bd66dd558"
  },
  "kernelspec": {
   "display_name": "Python 3 (ipykernel)",
   "language": "python",
   "name": "python3"
  },
  "language_info": {
   "codemirror_mode": {
    "name": "ipython",
    "version": 3
   },
   "file_extension": ".py",
   "mimetype": "text/x-python",
   "name": "python",
   "nbconvert_exporter": "python",
   "pygments_lexer": "ipython3",
   "version": "3.8.11"
  }
 },
 "nbformat": 4,
 "nbformat_minor": 4
}
