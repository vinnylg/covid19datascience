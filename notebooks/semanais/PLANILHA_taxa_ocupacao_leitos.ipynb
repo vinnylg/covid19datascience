{
 "cells": [
  {
   "cell_type": "code",
   "execution_count": null,
   "metadata": {},
   "outputs": [],
   "source": [
    "## set covid19_datasciente as path for python find bulletin package\n",
    "import sys\n",
    "from pathlib import Path\n",
    "from os import getcwd\n",
    "sys.path.append(str(Path(getcwd()).parent.parent)) ## ../../covid19datascience* <- set parent level here"
   ]
  },
  {
   "cell_type": "code",
   "execution_count": null,
   "metadata": {},
   "outputs": [],
   "source": [
    "import pandas as pd\n",
    "from os.path import join, dirname\n",
    "from datetime import datetime, timedelta\n",
    "\n",
    "from bulletin.analysis.ocupacao_leitos import read_excel, create_occupation_table, normalize_workbook, int_float\n",
    "from bulletin import default_input, default_output, root, hoje, data_comeco_pandemia\n",
    "\n",
    "pd.set_option('display.max_rows', 500)"
   ]
  },
  {
   "cell_type": "code",
   "execution_count": null,
   "metadata": {},
   "outputs": [],
   "source": [
    "lista_mes = ['jan', 'fev', 'mar', 'abr', 'mai', 'jun', 'jul', 'ago', 'set', 'out', 'nov', 'dec']"
   ]
  },
  {
   "cell_type": "code",
   "execution_count": null,
   "metadata": {},
   "outputs": [],
   "source": [
    "#Usar 0 para hoje e 1 para ontem\n",
    "algarismo = 1\n",
    "data = datetime.today() - timedelta(algarismo)\n",
    "mes = lista_mes[data.month-1]\n",
    "dia = data.day\n",
    "\n",
    "# filename = f\"ocupação dos leitos por suspeitos confirmados covid 19 no Paraná atualizado em {str(dia).zfill(2)} {mes}.xls\"\n",
    "filename = f\"ocupacao.xls\"\n",
    "book = read_excel(join(default_input, 'ocupacao_leitos', filename))"
   ]
  },
  {
   "cell_type": "code",
   "execution_count": null,
   "metadata": {},
   "outputs": [],
   "source": [
    "# for sheet in range(len(book.sheet_names())-8, len(book.sheet_names())):\n",
    "#      create_occupation_table(book, sheet)\n",
    "\n",
    "normalize_workbook(book, len(book.sheet_names())-1)"
   ]
  },
  {
   "cell_type": "code",
   "execution_count": null,
   "metadata": {},
   "outputs": [],
   "source": [
    "df = pd.read_excel(join(default_input, 'ocupacao_leitos','destination.xlsx'),skiprows=5,index_col=[0,1, 2, 3],header=[0,1]).fillna(0)\n",
    "df"
   ]
  },
  {
   "cell_type": "code",
   "execution_count": null,
   "metadata": {},
   "outputs": [],
   "source": [
    "# for column in df.columns:\n",
    "#     df[column] = df[column].apply(int_float)"
   ]
  },
  {
   "cell_type": "code",
   "execution_count": null,
   "metadata": {},
   "outputs": [],
   "source": [
    "df.columns = df.columns.droplevel(0)\n",
    "df"
   ]
  },
  {
   "cell_type": "code",
   "execution_count": null,
   "metadata": {},
   "outputs": [],
   "source": [
    "df.index = df.index.set_names(['macrorregiao', 'rs', 'municipio', 'hospital'])\n",
    "df = df.rename(columns={'Unnamed: 4_level_1':'leito'})\n",
    "df = df.reset_index()\n",
    "df"
   ]
  },
  {
   "cell_type": "code",
   "execution_count": null,
   "metadata": {},
   "outputs": [],
   "source": [
    "df['rs'] = df['rs'].str.replace('ª','')\n",
    "df['rs'] = df['rs'].str.replace('º','').astype(int)"
   ]
  },
  {
   "cell_type": "code",
   "execution_count": null,
   "metadata": {},
   "outputs": [],
   "source": [
    "df"
   ]
  },
  {
   "cell_type": "code",
   "execution_count": null,
   "metadata": {},
   "outputs": [],
   "source": [
    "df.to_excel(join(default_output, 'ocupacao_leitos','taxa_ocupacao_leitos.xlsx'),index=False)\n",
    "uti = df.loc[df['leito']=='UTI'].copy()\n",
    "enf = df.loc[df['leito']=='ENF'].copy()"
   ]
  },
  {
   "cell_type": "code",
   "execution_count": null,
   "metadata": {},
   "outputs": [],
   "source": [
    "uti.groupby('rs')[[x for x in range(1,dia+1)]].mean().sort_values('rs').to_excel(join(default_output, 'ocupacao_leitos','teste_taxa_media_ocupacao_leitos_uti.xlsx'))"
   ]
  },
  {
   "cell_type": "code",
   "execution_count": null,
   "metadata": {},
   "outputs": [],
   "source": [
    "for x in range(1,dia+1):\n",
    "    uti[x] = uti[x].add(1)\n",
    "    enf[x] = enf[x].add(1)"
   ]
  },
  {
   "cell_type": "code",
   "execution_count": null,
   "metadata": {},
   "outputs": [],
   "source": [
    "uticumperc = uti.groupby('rs')[[x for x in range(1,dia+1)]].prod().sort_values('rs')\n",
    "enfcumperc = enf.groupby('rs')[[x for x in range(1,dia+1)]].prod().sort_values('rs')\n",
    "for x in range(1,dia+1):\n",
    "    uticumperc[x] = uticumperc[x].sub(1)\n",
    "    enfcumperc[x] = enfcumperc[x].sub(1)"
   ]
  },
  {
   "cell_type": "code",
   "execution_count": null,
   "metadata": {},
   "outputs": [],
   "source": [
    "uticumperc.to_excel(join(default_output, 'ocupacao_leitos','teste_taxa_acumulada_ocupacao_leitos_uti.xlsx'))"
   ]
  }
 ],
 "metadata": {
  "interpreter": {
   "hash": "b3ba2566441a7c06988d0923437866b63cedc61552a5af99d1f4fb67d367b25f"
  },
  "kernelspec": {
   "display_name": "Python 3 (ipykernel)",
   "language": "python",
   "name": "python3"
  },
  "language_info": {
   "codemirror_mode": {
    "name": "ipython",
    "version": 3
   },
   "file_extension": ".py",
   "mimetype": "text/x-python",
   "name": "python",
   "nbconvert_exporter": "python",
   "pygments_lexer": "ipython3",
   "version": "3.8.11"
  }
 },
 "nbformat": 4,
 "nbformat_minor": 4
}
