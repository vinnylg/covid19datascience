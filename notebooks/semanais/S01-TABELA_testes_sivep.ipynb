{
 "cells": [
  {
   "cell_type": "code",
   "execution_count": null,
   "metadata": {},
   "outputs": [],
   "source": [
    "## set covid19_datasciente as path for python find bulletin package\n",
    "import sys\n",
    "from pathlib import Path\n",
    "from os import getcwd\n",
    "sys.path.append(str(Path(getcwd()).parent.parent)) ## ../../covid19datascience* <- set parent level here"
   ]
  },
  {
   "cell_type": "code",
   "execution_count": null,
   "metadata": {},
   "outputs": [],
   "source": [
    "import pandas as pd\n",
    "from epiweeks import Week\n",
    "from datetime import timedelta, date\n",
    "from os.path import join\n",
    "\n",
    "from bulletin import default_input, default_output, root, hoje, data_comeco_pandemia\n",
    "from bulletin.systems.sivep import Sivep"
   ]
  },
  {
   "cell_type": "code",
   "execution_count": null,
   "metadata": {},
   "outputs": [],
   "source": [
    "def generate_table(sivep_df):\n",
    "    tabela = sivep_df.groupby(['SE','CLASSI_FIN'])[['SE']].count().unstack()\n",
    "    \n",
    "    tabela = tabela.droplevel(0, axis=1)\n",
    "    \n",
    "    tabela['1'] = tabela['1'].add(tabela['2'])\n",
    "    tabela['1'] = tabela['1'].add(tabela['3'])\n",
    "    tabela = tabela[['5', '1', '4', '0']]\n",
    "    \n",
    "    tabela = tabela.rename(columns={'5':'Casos confirmados', '1':'Casos descartados', '4':'Casos suspeitos', '0':'Não informados'})\n",
    "    \n",
    "    \n",
    "    tabela['Total testes'] = tabela.sum(1)\n",
    "    tabela = tabela.append(pd.DataFrame(tabela.sum(0)).transpose())\n",
    "    tabela['Positividade (%)'] = tabela['Casos confirmados'].div(tabela['Total testes'])\n",
    "    \n",
    "    tabela.index.name = 'SE'\n",
    "    tabela.iloc[-1].name = 'Total Geral'\n",
    "    \n",
    "#     tabela.to_excel(join(default_input,'semanais','TABELA_sivep_INPUT.xlsx'))\n",
    "#     tabela.to_excel('output/TABELA_testes_sivep_RS.xlsx')\n",
    "    tabela['Semana Epidemiológica'] = [ x.week for x in tabela.index.values[:-1]] + ['Total Geral']\n",
    "    tabela = tabela.set_index('Semana Epidemiológica')\n",
    "    \n",
    "    tabela.columns.name = None\n",
    "    tabela.reset_index(inplace=True)\n",
    "    \n",
    "    for j in tabela.columns:\n",
    "        tabela[j] = tabela[j].fillna(0)\n",
    "    \n",
    "    return tabela"
   ]
  },
  {
   "cell_type": "code",
   "execution_count": null,
   "metadata": {},
   "outputs": [],
   "source": [
    "#12ª RS - Umuarama\n",
    "# list_IBGE_RS = ['412862','410070','410050','410337','410347','410660','410725','410752','410832','410990','411060','411155','411470','411510','411720','411885','411890','412535','412690','412810','412880']\n",
    "\n",
    "# exames_RS = pd.DataFrame()\n",
    "# for municipio in list_IBGE_RS:\n",
    "#     exames_temp = sivep_df.loc[sivep_df['CO_MUN_NOT'] == municipio]\n",
    "#     exames_RS = exames_RS.append(exames_temp)\n",
    "# sivep_df = exames_RS"
   ]
  },
  {
   "cell_type": "code",
   "execution_count": null,
   "metadata": {},
   "outputs": [],
   "source": [
    "sivep = Sivep()\n",
    "# sivep.load()\n",
    "try:\n",
    "    sivep.read_all_database_files_dbf()\n",
    "except:\n",
    "    sivep.read_all_database_files_excel()\n",
    "sivep.save(replace=True)"
   ]
  },
  {
   "cell_type": "code",
   "execution_count": null,
   "metadata": {},
   "outputs": [],
   "source": [
    "sivep_df = sivep.df"
   ]
  },
  {
   "cell_type": "code",
   "execution_count": null,
   "metadata": {},
   "outputs": [],
   "source": [
    "sivep_df = sivep_df.loc[sivep_df['SG_UF'] == 'PR']\n",
    "sivep_df = sivep_df.loc[sivep_df['SG_UF_NOT'] == 'PR']\n",
    "sivep_df = sivep_df.loc[sivep_df['AMOSTRA'] == '1']\n",
    "sivep_df.loc[sivep_df['CLASSI_FIN'].isnull(), 'CLASSI_FIN'] = '0'\n",
    "\n",
    "sivep_df['NU_IDADE_N'] = sivep_df['NU_IDADE_N'].fillna('0').astype(int)\n",
    "sivep_df.loc[sivep_df['TP_IDADE'].isin(['1', '2']), ('TP_IDADE','NU_IDADE_N')] = ('3', 0) #dia, mes"
   ]
  },
  {
   "cell_type": "code",
   "execution_count": null,
   "metadata": {},
   "outputs": [],
   "source": [
    "sivep_df['DT_NOTIFIC'] = sivep_df['DT_NOTIFIC'].apply(lambda x: pd.to_datetime(x, format='%d/%m/%Y'))\n",
    "sivep_df['SE'] = sivep_df['DT_NOTIFIC'].apply(lambda x: Week.fromdate(x))"
   ]
  },
  {
   "cell_type": "code",
   "execution_count": null,
   "metadata": {},
   "outputs": [],
   "source": [
    "geral = generate_table(sivep_df)\n",
    "geral.to_excel(join(default_output, 'semanais','TABELA_testes_sivep.xlsx'), index=False)\n",
    "geral"
   ]
  },
  {
   "cell_type": "code",
   "execution_count": null,
   "metadata": {},
   "outputs": [],
   "source": [
    "grupo01 = sivep_df.loc[(sivep_df['NU_IDADE_N'] >= 0) & (sivep_df['NU_IDADE_N'] <= 9)]\n",
    "\n",
    "tabela_grupo01 = generate_table(grupo01)\n",
    "tabela_grupo01.to_excel(join(default_output, 'semanais','TABELA_testes_sivep_GRUPO01.xlsx'), index=False)\n",
    "tabela_grupo01"
   ]
  },
  {
   "cell_type": "code",
   "execution_count": null,
   "metadata": {},
   "outputs": [],
   "source": [
    "grupo02 = sivep_df.loc[(sivep_df['NU_IDADE_N'] >= 10) & (sivep_df['NU_IDADE_N'] <= 19)]\n",
    "\n",
    "tabela_grupo02 = generate_table(grupo02)\n",
    "tabela_grupo02.to_excel(join(default_output, 'semanais','TABELA_testes_sivep_GRUPO02.xlsx'), index=False)\n",
    "tabela_grupo02"
   ]
  }
 ],
 "metadata": {
  "interpreter": {
   "hash": "1cdc22e96f16e7a709941e5164353478df3c5a2dca8a048b5ddcd85bd66dd558"
  },
  "kernelspec": {
   "display_name": "Python 3 (ipykernel)",
   "language": "python",
   "name": "python3"
  },
  "language_info": {
   "codemirror_mode": {
    "name": "ipython",
    "version": 3
   },
   "file_extension": ".py",
   "mimetype": "text/x-python",
   "name": "python",
   "nbconvert_exporter": "python",
   "pygments_lexer": "ipython3",
   "version": "3.8.11"
  }
 },
 "nbformat": 4,
 "nbformat_minor": 4
}
