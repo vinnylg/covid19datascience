{
 "cells": [
  {
   "cell_type": "code",
   "execution_count": null,
   "metadata": {},
   "outputs": [],
   "source": [
    "## set covid19_datasciente as path for python find bulletin package\n",
    "import sys\n",
    "from pathlib import Path\n",
    "from os import getcwd\n",
    "sys.path.append(str(Path(getcwd()).parent.parent)) ## ../../covid19datascience* <- set parent level here"
   ]
  },
  {
   "cell_type": "code",
   "execution_count": null,
   "metadata": {},
   "outputs": [],
   "source": [
    "import pandas as pd\n",
    "from os.path import join\n",
    "\n",
    "from bulletin import default_input, default_output, root, hoje, data_comeco_pandemia"
   ]
  },
  {
   "cell_type": "code",
   "execution_count": null,
   "metadata": {},
   "outputs": [],
   "source": [
    "saude = pd.read_excel(join(default_input, 'outros', 'saude.xlsx'))\n",
    "saude.shape[0]"
   ]
  },
  {
   "cell_type": "code",
   "execution_count": null,
   "metadata": {},
   "outputs": [],
   "source": [
    "# saude = saude.loc[saude['classificacao_final'] == 2]\n",
    "saude = saude.loc[saude['uf_residencia'] == 41]"
   ]
  },
  {
   "cell_type": "code",
   "execution_count": null,
   "metadata": {},
   "outputs": [],
   "source": [
    "saude = saude.loc[saude['estudante']=='Não']\n",
    "saude = saude.loc[saude['parente']=='Não']\n",
    "saude = saude.loc[saude['uf_residencia'] == 41]\n",
    "saude = saude.loc[((saude['status_notificacao'] == 1) | (saude['status_notificacao'] == 2))]\n",
    "saude = saude.loc[saude['excluir_ficha'] == 2]\n",
    "saude.shape[0]"
   ]
  },
  {
   "cell_type": "code",
   "execution_count": null,
   "metadata": {},
   "outputs": [],
   "source": [
    "saude.loc[saude['evolucao'] == 5, 'evolucao'] = 2\n",
    "saude.loc[saude['cod_cbo'].isnull(), 'cod_cbo'] = 0\n",
    "saude.loc[saude['cbo_descricao'].isnull(), 'cbo_descricao'] = 'Não Informado'"
   ]
  },
  {
   "cell_type": "code",
   "execution_count": null,
   "metadata": {},
   "outputs": [],
   "source": [
    "saude.loc[saude['ocupacao_descricao'].isnull(), 'Área'] = 'Não Informado'"
   ]
  },
  {
   "cell_type": "code",
   "execution_count": null,
   "metadata": {},
   "outputs": [],
   "source": [
    "saude.loc[saude['enfermagem']=='Sim', 'Área'] = 'Enfermagem'\n",
    "saude.loc[saude['medico']=='Sim', 'Área'] = 'Médico'\n",
    "saude.loc[saude['servicos']=='Sim', 'Área'] = 'Serviços'\n",
    "saude.loc[saude['administrativo']=='Sim', 'Área'] = 'Administrativa'\n",
    "saude.loc[saude['agente_saude']=='Sim', 'Área'] = 'Agente Comunitário de Saúde'\n",
    "saude.loc[saude['farmaceutica']=='Sim', 'Área'] = 'Área Farmaceutica'\n",
    "saude.loc[saude['transporte']=='Sim', 'Área'] = 'Transporte'\n",
    "saude.loc[saude['odontologia']=='Sim', 'Área'] = 'Odontologia'\n",
    "saude.loc[saude['fisioterapia']=='Sim', 'Área'] = 'Fisioterapia'\n",
    "saude.loc[saude['laboratorial']=='Sim', 'Área'] = 'Área Laboratorial/Diagnóstico'\n",
    "saude.loc[saude['alimentacao']=='Sim', 'Área'] = 'Alimentação'\n",
    "saude.loc[saude['veterinaria']=='Sim', 'Área'] = 'Veterinária'\n",
    "saude.loc[saude['socorrista']=='Sim', 'Área'] = 'Socorrista'\n",
    "saude.loc[saude['servico_social']=='Sim', 'Área'] = 'Serviço Social'\n",
    "saude.loc[saude['cuidador_idosos']=='Sim', 'Área'] = 'Cuidador de Idosos'\n",
    "saude.loc[saude['fonoaudiologia']=='Sim', 'Área'] = 'Fonoaudiologia'\n",
    "saude.loc[saude['psicologia']=='Sim', 'Área'] = 'Psicologia'"
   ]
  },
  {
   "cell_type": "code",
   "execution_count": null,
   "metadata": {},
   "outputs": [],
   "source": [
    "saude.loc[saude['Área'].isnull(), 'Área'] = 'Outros Trabalhadores'"
   ]
  },
  {
   "cell_type": "code",
   "execution_count": null,
   "metadata": {},
   "outputs": [],
   "source": [
    "saude.columns"
   ]
  },
  {
   "cell_type": "code",
   "execution_count": null,
   "metadata": {},
   "outputs": [],
   "source": [
    "saude['cbo_n'] = saude['Área']"
   ]
  },
  {
   "cell_type": "code",
   "execution_count": null,
   "metadata": {},
   "outputs": [],
   "source": [
    "teste = saude.drop(columns={'enfermagem', 'medico','servicos', 'administrativo', 'agente_saude', 'farmaceutica',\n",
    "       'transporte', 'odontologia', 'fisioterapia', 'laboratorial',\n",
    "       'alimentacao', 'veterinaria', 'socorrista', 'servico_social',\n",
    "       'cuidador_idosos', 'fonoaudiologia', 'psicologia', 'estudante','Área',\n",
    "       'parente'})"
   ]
  },
  {
   "cell_type": "code",
   "execution_count": null,
   "metadata": {},
   "outputs": [],
   "source": [
    "teste.columns"
   ]
  },
  {
   "cell_type": "code",
   "execution_count": null,
   "metadata": {},
   "outputs": [],
   "source": [
    "teste.to_excel(join(default_input, 'outros', 'saude_modificado.xlsx'))"
   ]
  },
  {
   "cell_type": "code",
   "execution_count": null,
   "metadata": {},
   "outputs": [],
   "source": []
  },
  {
   "cell_type": "code",
   "execution_count": null,
   "metadata": {},
   "outputs": [],
   "source": [
    "saude.to_excel('saude_casos.xlsx', index = False)"
   ]
  },
  {
   "cell_type": "code",
   "execution_count": null,
   "metadata": {},
   "outputs": [],
   "source": [
    "#saude['data_liberacao'] = saude['data_liberacao'].apply(lambda x: pd.to_datetime(x, format='%d/%m/%Y', errors = 'coerce'))\n",
    "#saude['data_notificacao'] = saude['data_notificacao'].apply(lambda x: pd.to_datetime(x, format='%d/%m/%Y', errors = 'coerce'))\n",
    "#saude.loc[saude['data_liberacao'].isnull(), 'data_liberacao'] = saude.loc[saude['data_liberacao'].isnull(), 'data_notificacao']\n",
    "#saude['mes_liberacao'] = pd.Series(saude['data_liberacao'].values.astype('datetime64[M]'))"
   ]
  },
  {
   "cell_type": "code",
   "execution_count": null,
   "metadata": {},
   "outputs": [],
   "source": [
    "#tabela = saude.groupby(['Área', 'mes_liberacao'])[['paciente']].count().unstack()\n",
    "#tabela.to_excel('TABELA_comparacao.xlsx')"
   ]
  },
  {
   "cell_type": "code",
   "execution_count": null,
   "metadata": {},
   "outputs": [],
   "source": [
    "tabela_not = saude.groupby('Área')[['paciente']].count().rename(columns={'paciente':'Notificados'}).sort_values(by=['Notificados'], ascending = False).reset_index()\n",
    "tabela_conf = saude.loc[saude['classificacao_final']==2].groupby('Área')[['paciente']].count().rename(columns={'paciente':'Confirmados'}).sort_values(by=['Confirmados'], ascending = False).reset_index()\n",
    "tabela_rec = saude.loc[(saude['evolucao']==1) & (saude['classificacao_final']==2)].groupby('Área')[['paciente']].count().rename(columns={'paciente':'Recuperados'}).sort_values(by=['Recuperados'], ascending = False).reset_index()\n",
    "tabela_obt = saude.loc[(saude['evolucao']==2) & (saude['classificacao_final']==2)].groupby('Área')[['paciente']].count().rename(columns={'paciente':'Óbito'}).sort_values(by=['Óbito'], ascending = False).reset_index()\n",
    "tabela_pcr = saude.loc[(saude['metodo']== 1) & (saude['classificacao_final']==2)].groupby('Área')[['paciente']].count().rename(columns={'paciente':'PCR'}).sort_values(by=['PCR'],  ascending = False).reset_index()\n",
    "tabela_rap = saude.loc[(~(saude['metodo'].isnull())) & (~(saude['metodo']==1)) & (saude['classificacao_final']==2)].groupby('Área')[['paciente']].count().rename(columns={'paciente':'Teste Rápido/outros'}).sort_values(by=['Teste Rápido/outros'],  ascending = False).reset_index()"
   ]
  },
  {
   "cell_type": "code",
   "execution_count": null,
   "metadata": {},
   "outputs": [],
   "source": [
    "tabela = pd.merge(left=tabela_pcr, right=tabela_rap, on='Área', how='left')\n",
    "tabela = pd.merge(left=tabela, right=tabela_conf, on='Área',how='left')\n",
    "tabela = pd.merge(left=tabela, right=tabela_rec, on='Área',how='left')\n",
    "tabela = pd.merge(left=tabela, right=tabela_obt, on='Área',how='left')\n",
    "tabela = pd.merge(left=tabela, right=tabela_not, on='Área',how='left')\n",
    "tabela = tabela.sort_values(by=['Notificados'],  ascending = False)\n",
    "tabela"
   ]
  },
  {
   "cell_type": "code",
   "execution_count": null,
   "metadata": {},
   "outputs": [],
   "source": [
    "tabela.to_excel(join(default_output,'semanais','TABELA_trabalhadores_saude.xlsx'), index=False)"
   ]
  }
 ],
 "metadata": {
  "interpreter": {
   "hash": "b3ba2566441a7c06988d0923437866b63cedc61552a5af99d1f4fb67d367b25f"
  },
  "kernelspec": {
   "display_name": "Python 3 (ipykernel)",
   "language": "python",
   "name": "python3"
  },
  "language_info": {
   "codemirror_mode": {
    "name": "ipython",
    "version": 3
   },
   "file_extension": ".py",
   "mimetype": "text/x-python",
   "name": "python",
   "nbconvert_exporter": "python",
   "pygments_lexer": "ipython3",
   "version": "3.8.11"
  }
 },
 "nbformat": 4,
 "nbformat_minor": 4
}
