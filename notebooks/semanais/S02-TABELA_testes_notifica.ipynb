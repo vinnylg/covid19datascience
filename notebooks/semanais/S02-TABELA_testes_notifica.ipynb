{
 "cells": [
  {
   "cell_type": "code",
   "execution_count": null,
   "metadata": {},
   "outputs": [],
   "source": [
    "## set covid19_datasciente as path for python find bulletin package\n",
    "import sys\n",
    "from pathlib import Path\n",
    "from os import getcwd\n",
    "sys.path.append(str(Path(getcwd()).parent.parent)) ## ../../covid19datascience* <- set parent level here"
   ]
  },
  {
   "cell_type": "code",
   "execution_count": null,
   "metadata": {},
   "outputs": [],
   "source": [
    "import pandas as pd\n",
    "from epiweeks import Week\n",
    "from datetime import timedelta, date\n",
    "from os.path import join\n",
    "import gc\n",
    "\n",
    "from bulletin import default_input, default_output, root, hoje, data_comeco_pandemia\n",
    "from bulletin.services.metabase import Metabase\n",
    "from bulletin.systems.notifica import Notifica\n",
    "from bulletin.utils.normalize import trim_overspace"
   ]
  },
  {
   "cell_type": "code",
   "execution_count": null,
   "metadata": {},
   "outputs": [],
   "source": [
    "def generate_table(todos_exames):\n",
    "    tabela = todos_exames.groupby(['SE','classificacao_final'])[['id']].count().unstack()\n",
    "    \n",
    "    tabela = tabela.droplevel(0, axis=1)\n",
    "    \n",
    "    for row in tabela.index.values:\n",
    "        if row.year < 2020:\n",
    "            tabela = tabela.drop(row)\n",
    "            \n",
    "    try:\n",
    "        tabela[5] = tabela[5].add(tabela[0])\n",
    "        tabela = tabela.drop(0, axis=1)\n",
    "    except:\n",
    "        pass\n",
    "    \n",
    "    \n",
    "    tabela = tabela[[2, 3, 1, 5]]\n",
    "    tabela = tabela.rename(columns={2:'Casos confirmados', 3:'Casos descartados', 1:'Casos suspeitos', 5:'Não informados'})\n",
    "    \n",
    "    \n",
    "    tabela['Total testes'] = tabela.sum(1)\n",
    "    tabela = tabela.append(pd.DataFrame(tabela.sum(0)).transpose())\n",
    "    tabela['Positividade (%)'] = tabela['Casos confirmados'].div(tabela['Total testes'])\n",
    "    \n",
    "    \n",
    "    tabela.index.name = 'SE'\n",
    "    tabela.iloc[-1].name = 'Total Geral'\n",
    "    \n",
    "#     tabela.to_excel(join(default_input,'semanais','TABELA_notifica_INPUT.xlsx'))\n",
    "#     tabela.to_excel('output/TABELA_testes_notifica_RS.xlsx')\n",
    "    \n",
    "    \n",
    "    tabela['Semana Epidemiológica'] = [ x.week for x in tabela.index.values[:-1]] + ['Total Geral']\n",
    "    tabela = tabela.set_index('Semana Epidemiológica')\n",
    "    \n",
    "    tabela.columns.name = None\n",
    "    tabela.reset_index(inplace=True)\n",
    "    \n",
    "    for j in tabela.columns:\n",
    "        tabela[j] = tabela[j].fillna(0)\n",
    "    \n",
    "    return tabela"
   ]
  },
  {
   "cell_type": "code",
   "execution_count": null,
   "metadata": {},
   "outputs": [],
   "source": [
    "#12ª RS - Umuarama\n",
    "# list_IBGE_RS = [412862,410070,410050,410337,410347,410660,410725,410752,410832,410990,411060,411155,411470,411510,411720,411885,411890,412535,412690,412810,412880]\n",
    "\n",
    "# exames_RS = pd.DataFrame()\n",
    "# for municipio in list_IBGE_RS:\n",
    "#     exames_temp = todos_exames.loc[todos_exames['ibge_unidade_notifica'] == municipio]\n",
    "#     exames_RS = exames_RS.append(exames_temp)\n",
    "# todos_exames = exames_RS"
   ]
  },
  {
   "cell_type": "code",
   "execution_count": null,
   "metadata": {},
   "outputs": [],
   "source": [
    "notifica = Notifica()\n",
    "notifica.load('notifica', compress=False)"
   ]
  },
  {
   "cell_type": "code",
   "execution_count": null,
   "metadata": {},
   "outputs": [],
   "source": [
    "# total_exames = notifica.df.loc[~(notifica.df['metodo'].isna())]\n",
    "# total_exames = total_exames.loc[(total_exames['uf_residencia']==41)]\n",
    "# total_exames = total_exames.loc[(total_exames['uf_unidade_notifica']==41)]\n",
    "# total_exames = total_exames.loc[(total_exames['status_notificacao'].isin([1,2,3]))]\n",
    "# total_exames = total_exames.loc[~(total_exames['ibge_unidade_notifica'].isnull())]\n",
    "# total_exames = total_exames.loc[~(total_exames['data_notificacao'].isnull())]\n",
    "# total_exames = total_exames.loc[~total_exames['metodo'].isin([1,3])]\n",
    "# print('TOTAL DE TESTES REALIZADOS = ', len(total_exames))"
   ]
  },
  {
   "cell_type": "code",
   "execution_count": null,
   "metadata": {},
   "outputs": [],
   "source": [
    "todos_exames = notifica.df.loc[~(notifica.df['metodo'].isna())]\n",
    "todos_exames = todos_exames.loc[(todos_exames['excluir_ficha']==2)]\n",
    "todos_exames = todos_exames.loc[(todos_exames['uf_residencia']==41)]\n",
    "todos_exames = todos_exames.loc[(todos_exames['uf_unidade_notifica']==41)]\n",
    "todos_exames = todos_exames.loc[(todos_exames['status_notificacao'].isin([1,2]))]\n",
    "todos_exames = todos_exames.loc[~(todos_exames['metodo']==3)]\n",
    "todos_exames = todos_exames.loc[~(todos_exames['ibge_unidade_notifica'].isnull())]\n",
    "todos_exames = todos_exames.loc[~(todos_exames['data_notificacao'].isnull())].copy()\n",
    "\n",
    "todos_exames['SE'] = todos_exames['data_notificacao'].apply(lambda x: Week.fromdate(x))"
   ]
  },
  {
   "cell_type": "code",
   "execution_count": null,
   "metadata": {},
   "outputs": [],
   "source": [
    "del(notifica.df)\n",
    "gc.collect()"
   ]
  },
  {
   "cell_type": "code",
   "execution_count": null,
   "metadata": {},
   "outputs": [],
   "source": [
    "geral = generate_table(todos_exames)\n",
    "geral.to_excel(join(default_output, 'semanais','TABELA_testes_notifica.xlsx'), index=False)\n",
    "geral"
   ]
  },
  {
   "cell_type": "code",
   "execution_count": null,
   "metadata": {},
   "outputs": [],
   "source": [
    "grupo01 = todos_exames.loc[(todos_exames['idade'] >= 0) & (todos_exames['idade'] <= 9)]\n",
    "\n",
    "tabela_grupo01 = generate_table(grupo01)\n",
    "tabela_grupo01.to_excel(join(default_output, 'semanais','TABELA_testes_notifica_GRUPO01.xlsx'), index=False)\n",
    "tabela_grupo01"
   ]
  },
  {
   "cell_type": "code",
   "execution_count": null,
   "metadata": {},
   "outputs": [],
   "source": [
    "grupo02 = todos_exames.loc[(todos_exames['idade'] >= 10) & (todos_exames['idade'] <= 19)]\n",
    "\n",
    "tabela_grupo02 = generate_table(grupo02)\n",
    "tabela_grupo02.to_excel(join(default_output,'semanais','TABELA_testes_notifica_GRUPO02.xlsx'), index=False)\n",
    "tabela_grupo02"
   ]
  }
 ],
 "metadata": {
  "interpreter": {
   "hash": "1cdc22e96f16e7a709941e5164353478df3c5a2dca8a048b5ddcd85bd66dd558"
  },
  "kernelspec": {
   "display_name": "Python 3 (ipykernel)",
   "language": "python",
   "name": "python3"
  },
  "language_info": {
   "codemirror_mode": {
    "name": "ipython",
    "version": 3
   },
   "file_extension": ".py",
   "mimetype": "text/x-python",
   "name": "python",
   "nbconvert_exporter": "python",
   "pygments_lexer": "ipython3",
   "version": "3.8.11"
  }
 },
 "nbformat": 4,
 "nbformat_minor": 4
}
