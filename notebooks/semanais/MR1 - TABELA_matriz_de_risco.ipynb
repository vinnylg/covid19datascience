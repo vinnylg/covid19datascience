{
 "cells": [
  {
   "cell_type": "code",
   "execution_count": null,
   "metadata": {},
   "outputs": [],
   "source": [
    "## set covid19_datasciente as path for python find bulletin package\n",
    "import sys\n",
    "from pathlib import Path\n",
    "from os import getcwd\n",
    "sys.path.append(str(Path(getcwd()).parent.parent)) ## ../../covid19datascience* <- set parent level here"
   ]
  },
  {
   "cell_type": "code",
   "execution_count": null,
   "metadata": {},
   "outputs": [],
   "source": [
    "import pandas as pd\n",
    "from epiweeks import Week\n",
    "from datetime import date, timedelta\n",
    "from os.path import join\n",
    "\n",
    "from bulletin import default_input, default_output, root, hoje, data_comeco_pandemia\n",
    "from bulletin.systems.casos_confirmados import CasosConfirmados\n",
    "from bulletin.systems.notifica import Notifica"
   ]
  },
  {
   "cell_type": "code",
   "execution_count": null,
   "metadata": {},
   "outputs": [],
   "source": [
    "# casos_confirmados = CasosConfirmados(force=True, hard=True)\n",
    "# casos_confirmados.shape()\n",
    "# regionais = pd.read_csv('bulletin/resources/csv/regionais.csv')"
   ]
  },
  {
   "cell_type": "code",
   "execution_count": null,
   "metadata": {},
   "outputs": [],
   "source": [
    "#Usar 0 para hoje e 1 para ontem\n",
    "# algarismo = 1\n",
    "# data = datetime.today() - timedelta(algarismo)\n",
    "# dia = data.day\n",
    "# mes = data.month\n",
    "# ano = data.year\n",
    "\n",
    "# casos = pd.read_csv(f\"input/informe_epidemiologico_{str(dia).zfill(2)}_{str(mes).zfill(2)}_{ano}_geral.csv\",\n",
    "#                     sep = ';',\n",
    "#                     converters = {\n",
    "#                         'DATA_DIAGNOSTICO' : pd.to_datetime,\n",
    "#                         'DATA_OBITO' : pd.to_datetime\n",
    "#                    }\n",
    "#                    )\n",
    "\n",
    "# casos = casos.loc[(~(casos['IBGE_RES_PR'] == 9999999))]\n",
    "# casos['ibge'] = casos['IBGE_RES_PR'].astype('str').apply(lambda row: row[0:6])\n",
    "# regionais = regionais[['ibge', 'nu_reg']]\n",
    "# regionais['ibge'] = regionais['ibge'].astype('str')\n",
    "# casos = casos.merge(how = 'left', on = 'ibge', right = regionais)\n",
    "# casos.shape\n",
    "# casos = casos_confirmados.get_casos()"
   ]
  },
  {
   "cell_type": "code",
   "execution_count": null,
   "metadata": {},
   "outputs": [],
   "source": [
    "cc = CasosConfirmados()\n",
    "cc.load(f\"cc_{hoje.strftime('%d_%m_%Y')}\", compress=True)\n",
    "# cc.load(f\"cc_{str(date.today().day).zfill(2)}_{str(date.today().month).zfill(2)}_{str(date.today().year).zfill(4)}\", compress = True)"
   ]
  },
  {
   "cell_type": "code",
   "execution_count": null,
   "metadata": {},
   "outputs": [],
   "source": [
    "casos = cc.df.loc[((cc.df['uf_residencia'] == 'PR')) & (cc.df['classificacao_final'] == 2)].copy()\n",
    "# casos.loc[(casos['OBITO'] == 'SIM') & (~(casos['IBGE_RES_PR'] == 9999999))]\n",
    "del cc"
   ]
  },
  {
   "cell_type": "code",
   "execution_count": null,
   "metadata": {},
   "outputs": [],
   "source": [
    "nf = Notifica()\n",
    "municipios = nf.tables['municipios']\n",
    "municipios = municipios[['ibge', 'rs']].rename(columns={'ibge':'ibge_residencia'})\n",
    "casos = casos.merge(how = 'left', on = 'ibge_residencia', right = municipios)"
   ]
  },
  {
   "cell_type": "code",
   "execution_count": null,
   "metadata": {},
   "outputs": [],
   "source": [
    "obitos = casos.loc[casos['evolucao'] == 2]\n",
    "obitos.shape\n",
    "# obitos = casos_confirmados.get_obitos()"
   ]
  },
  {
   "cell_type": "code",
   "execution_count": null,
   "metadata": {},
   "outputs": [],
   "source": [
    "# casos['DATA_DIAGNOSTICO'] = casos['DATA_DIAGNOSTICO'].apply(lambda x: pd.to_datetime(x, format='%d/%m/%Y'))\n",
    "# obitos['DATA_OBITO'] = obitos['DATA_OBITO'].apply(lambda x: pd.to_datetime(x, format='%d/%m/%Y'))"
   ]
  },
  {
   "cell_type": "code",
   "execution_count": null,
   "metadata": {},
   "outputs": [],
   "source": [
    "casos['se'] = casos['data_diagnostico'].apply(lambda x: Week.fromdate(x))\n",
    "obitos['se'] = obitos['data_cura_obito'].apply(lambda x: Week.fromdate(x))"
   ]
  },
  {
   "cell_type": "code",
   "execution_count": null,
   "metadata": {},
   "outputs": [],
   "source": [
    "tabela_casos = casos.groupby(['rs','se'])[['rs']].count().unstack()\n",
    "tabela_casos = tabela_casos.droplevel(0, axis=1)"
   ]
  },
  {
   "cell_type": "code",
   "execution_count": null,
   "metadata": {},
   "outputs": [],
   "source": [
    "tabela_casos.columns = [ x.week for x in tabela_casos.columns.values]"
   ]
  },
  {
   "cell_type": "code",
   "execution_count": null,
   "metadata": {},
   "outputs": [],
   "source": [
    "tabela_obitos = obitos.groupby(['rs','se'])[['rs']].count().unstack()\n",
    "tabela_obitos = tabela_obitos.droplevel(0, axis=1)"
   ]
  },
  {
   "cell_type": "code",
   "execution_count": null,
   "metadata": {},
   "outputs": [],
   "source": [
    "tabela_obitos.columns = [ x.week for x in tabela_obitos.columns.values]"
   ]
  },
  {
   "cell_type": "code",
   "execution_count": null,
   "metadata": {},
   "outputs": [],
   "source": [
    "total_casos = tabela_casos.sum(0)\n",
    "tabela_casos = tabela_casos.append(total_casos, ignore_index = True)"
   ]
  },
  {
   "cell_type": "code",
   "execution_count": null,
   "metadata": {},
   "outputs": [],
   "source": [
    "total_obitos = tabela_obitos.sum(0)\n",
    "tabela_obitos = tabela_obitos.append(total_obitos, ignore_index = True)"
   ]
  },
  {
   "cell_type": "code",
   "execution_count": null,
   "metadata": {},
   "outputs": [],
   "source": [
    "tabela_casos['rs'] = list(range(1, 23)) + ['Paraná']\n",
    "tabela_casos = tabela_casos.set_index('rs')"
   ]
  },
  {
   "cell_type": "code",
   "execution_count": null,
   "metadata": {},
   "outputs": [],
   "source": [
    "tabela_obitos['rs'] = list(range(1, 23)) + ['Paraná']\n",
    "tabela_obitos = tabela_obitos.set_index('rs')"
   ]
  },
  {
   "cell_type": "code",
   "execution_count": null,
   "metadata": {},
   "outputs": [],
   "source": [
    "tabela_casos = tabela_casos.fillna(0).astype(int)\n",
    "tabela_casos"
   ]
  },
  {
   "cell_type": "code",
   "execution_count": null,
   "metadata": {},
   "outputs": [],
   "source": [
    "tabela_obitos = tabela_obitos.fillna(0).astype(int)\n",
    "tabela_obitos"
   ]
  },
  {
   "cell_type": "code",
   "execution_count": null,
   "metadata": {},
   "outputs": [],
   "source": [
    "tabela_casos.to_excel(join(default_output,'matriz','TABELA_casos_por_se.xlsx'), index = False)\n",
    "tabela_obitos.to_excel(join(default_output,'matriz','TABELA_obitos_por_se.xlsx'), index = False)"
   ]
  }
 ],
 "metadata": {
  "interpreter": {
   "hash": "b3ba2566441a7c06988d0923437866b63cedc61552a5af99d1f4fb67d367b25f"
  },
  "kernelspec": {
   "display_name": "Python 3 (ipykernel)",
   "language": "python",
   "name": "python3"
  },
  "language_info": {
   "codemirror_mode": {
    "name": "ipython",
    "version": 3
   },
   "file_extension": ".py",
   "mimetype": "text/x-python",
   "name": "python",
   "nbconvert_exporter": "python",
   "pygments_lexer": "ipython3",
   "version": "3.8.11"
  }
 },
 "nbformat": 4,
 "nbformat_minor": 4
}
