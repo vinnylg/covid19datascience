{
 "cells": [
  {
   "cell_type": "code",
   "execution_count": null,
   "metadata": {},
   "outputs": [],
   "source": [
    "## set covid19_datasciente as path for python find bulletin package\n",
    "import sys\n",
    "from pathlib import Path\n",
    "from os import getcwd\n",
    "from os.path import join, basename\n",
    "\n",
    "sys.path.append(str(Path(getcwd()).parent.parent))"
   ]
  },
  {
   "cell_type": "code",
   "execution_count": null,
   "metadata": {},
   "outputs": [],
   "source": [
    "import numpy as np\n",
    "import pandas as pd\n",
    "import re\n",
    "from epiweeks import Week\n",
    "from unidecode import unidecode\n",
    "from datetime import date, timedelta, datetime\n",
    "from os.path import dirname, join, isfile, isdir\n",
    "from bulletin import default_input, default_output\n",
    "\n",
    "path_file = join('C:\\\\', 'SESA', 'covid19datascience-dev', 'bulletin', 'database', 'gal')\n",
    "pd.set_option('display.max_columns', None)\n",
    "pd.set_option('display.max_rows', 50)"
   ]
  },
  {
   "cell_type": "code",
   "execution_count": null,
   "metadata": {},
   "outputs": [],
   "source": [
    "def normalize_rs(text):\n",
    "    parts = filter(lambda x: len(x) > 0,text.split(\"ª\"))\n",
    "    parts = filter(lambda x: '-' not in x, parts)\n",
    "    return \" \".join(parts)"
   ]
  },
  {
   "cell_type": "code",
   "execution_count": null,
   "metadata": {},
   "outputs": [],
   "source": [
    "# gal_2020 = pd.read_pickle(join(path_file, 'banco_gal_2020-bz2.pkl'), compression='bz2')\n",
    "# gal_2020 = gal_2020[['id', 'data_requisicao', 'unidade_requisitante_municipio', 'unidade_requisitante_uf', 'ibge', 'municipio', 'regional', 'exame', 'metodo', 'resultado', 'virus', 'data_liberacao', 'laboratorio_executor', 'status', 'classificacao']]\n",
    "# gal_2020[['id', 'data_requisicao']].groupby('data_requisicao').count().sort_values('data_requisicao')"
   ]
  },
  {
   "cell_type": "code",
   "execution_count": null,
   "metadata": {},
   "outputs": [],
   "source": [
    "# gal_2021 = pd.read_pickle(join(path_file, 'banco_gal_2021-bz2.pkl'), compression='bz2')\n",
    "# gal_2021 = gal_2021[['id', 'data_requisicao', 'unidade_requisitante_municipio', 'unidade_requisitante_uf', 'ibge', 'municipio', 'regional', 'exame', 'metodo', 'resultado', 'virus', 'data_liberacao', 'laboratorio_executor', 'status', 'classificacao']]\n",
    "# # gal_2020[['id', 'data_requisicao']].groupby('data_requisicao').count().sort_values('data_requisicao')"
   ]
  },
  {
   "cell_type": "code",
   "execution_count": null,
   "metadata": {},
   "outputs": [],
   "source": [
    "gal_2021_complemento = pd.read_csv(join(path_file, 'consulta-gal-complemento.csv'), sep = ';', usecols=['id', 'data_requisicao', 'unidade_requisitante_municipio', 'unidade_requisitante_uf', 'ibge', 'municipio', 'regional', 'exame', 'metodo', 'resultado', 'virus', 'data_liberacao', 'laboratorio_executor', 'status', 'classificacao'])\n",
    "gal_2021_complemento[['id', 'data_requisicao']].groupby('data_requisicao').count().sort_values('data_requisicao')"
   ]
  },
  {
   "cell_type": "code",
   "execution_count": null,
   "metadata": {},
   "outputs": [],
   "source": [
    "# gal = pd.concat([gal_2020, gal_2021])\n",
    "gal = pd.concat([gal_2021_complemento])\n",
    "# gal[['id', 'data_requisicao']].groupby('data_requisicao').count().sort_values('data_requisicao')"
   ]
  },
  {
   "cell_type": "code",
   "execution_count": null,
   "metadata": {},
   "outputs": [],
   "source": [
    "boletim = gal.loc[gal[\"virus\"] == 'Coronavírus SARS-CoV2'].copy()\n",
    "# boletim = boletim.loc[boletim['unidade_requisitante_uf'] == 'PARANA']"
   ]
  },
  {
   "cell_type": "code",
   "execution_count": null,
   "metadata": {},
   "outputs": [],
   "source": [
    "boletim['data_liberacao'] = pd.to_datetime(boletim['data_liberacao'], format = '%Y-%m-%d', errors= 'coerce')"
   ]
  },
  {
   "cell_type": "code",
   "execution_count": null,
   "metadata": {},
   "outputs": [],
   "source": [
    "boletim = boletim.loc[boletim['regional']!='Outra UF']\n",
    "boletim['regional'] = boletim['regional'].apply(lambda row: int(normalize_rs(row)))\n",
    "boletim = boletim.loc[boletim['data_liberacao'] >= pd.to_datetime(Week.thisweek().startdate() - timedelta(7))]\n",
    "boletim = boletim.loc[boletim['data_liberacao'] <= pd.to_datetime(Week.thisweek().enddate() - timedelta(7))]"
   ]
  },
  {
   "cell_type": "code",
   "execution_count": null,
   "metadata": {},
   "outputs": [],
   "source": [
    "descartado = boletim.loc[boletim['classificacao'] == 'Descartado']\n",
    "descartado = descartado[['id', 'regional']].groupby(['regional']).count().reset_index()\n",
    "descartado = descartado.rename(columns={'id':'Descartado'})"
   ]
  },
  {
   "cell_type": "code",
   "execution_count": null,
   "metadata": {},
   "outputs": [],
   "source": [
    "confirmado = boletim.loc[boletim['classificacao'] == 'Confirmado']\n",
    "confirmado = confirmado[['id', 'regional']].groupby(['regional']).count().reset_index()\n",
    "confirmado = confirmado.rename(columns={'id':'Confirmado'})"
   ]
  },
  {
   "cell_type": "code",
   "execution_count": null,
   "metadata": {},
   "outputs": [],
   "source": [
    "testes = pd.DataFrame([x for x in range(1,23)],columns=['regional'])\n",
    "testes = testes.merge(on = 'regional',how = 'left', right = confirmado).sort_values('regional')\n",
    "testes = testes.merge(on = 'regional',how = 'left', right = descartado).sort_values('regional')\n",
    "testes = testes.fillna(0).astype(int)\n",
    "testes"
   ]
  },
  {
   "cell_type": "code",
   "execution_count": null,
   "metadata": {},
   "outputs": [],
   "source": [
    "testes.to_excel(join(default_output, 'matriz','TABELA_testes_gal_por_rs.xlsx'), index = False)"
   ]
  }
 ],
 "metadata": {
  "interpreter": {
   "hash": "b3ba2566441a7c06988d0923437866b63cedc61552a5af99d1f4fb67d367b25f"
  },
  "kernelspec": {
   "display_name": "Python 3 (ipykernel)",
   "language": "python",
   "name": "python3"
  },
  "language_info": {
   "codemirror_mode": {
    "name": "ipython",
    "version": 3
   },
   "file_extension": ".py",
   "mimetype": "text/x-python",
   "name": "python",
   "nbconvert_exporter": "python",
   "pygments_lexer": "ipython3",
   "version": "3.8.11"
  }
 },
 "nbformat": 4,
 "nbformat_minor": 4
}
