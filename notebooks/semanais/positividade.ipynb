{
 "cells": [
  {
   "cell_type": "code",
   "execution_count": null,
   "metadata": {},
   "outputs": [],
   "source": [
    "## set covid19_datasciente as path for python find bulletin package\n",
    "import sys\n",
    "from pathlib import Path\n",
    "from os import getcwd\n",
    "sys.path.append(str(Path(getcwd()).parent.parent)) ## ../../covid19datascience* <- set parent level here"
   ]
  },
  {
   "cell_type": "code",
   "execution_count": null,
   "metadata": {},
   "outputs": [],
   "source": [
    "import pandas as pd\n",
    "from epiweeks import Week\n",
    "from datetime import timedelta, date\n",
    "from os.path import join\n",
    "\n",
    "from bulletin import default_input, default_output, root, hoje, data_comeco_pandemia\n",
    "from bulletin.services.metabase import Metabase\n",
    "from bulletin.systems.notifica import Notifica\n",
    "from bulletin.utils.normalize import trim_overspace, normalize_text\n",
    "\n",
    "pd.set_option('display.max_columns', None)\n",
    "pd.set_option('display.max_rows', 300)"
   ]
  },
  {
   "cell_type": "code",
   "execution_count": null,
   "metadata": {},
   "outputs": [],
   "source": [
    "nt = Notifica()"
   ]
  },
  {
   "cell_type": "code",
   "execution_count": null,
   "metadata": {},
   "outputs": [],
   "source": [
    "nt.load('notifica', compress=False)"
   ]
  },
  {
   "cell_type": "code",
   "execution_count": null,
   "metadata": {},
   "outputs": [],
   "source": [
    "exames = nt.tables['exame'].sort_values('id')\n",
    "metodos = nt.tables['metodo']"
   ]
  },
  {
   "cell_type": "code",
   "execution_count": null,
   "metadata": {},
   "outputs": [],
   "source": [
    "nt.df = nt.df.loc[nt.df['data_notificacao'].notna()]"
   ]
  },
  {
   "cell_type": "code",
   "execution_count": null,
   "metadata": {},
   "outputs": [],
   "source": [
    "nt.df['SE'] = nt.df['data_notificacao'].apply(lambda x: Week.fromdate(x).week)\n",
    "nt.df['ano'] = nt.df['data_notificacao'].apply(lambda x: Week.fromdate(x).year)\n",
    "nt.df['mes'] = nt.df['data_notificacao'].dt.month\n",
    "nt.df['dia'] = nt.df['data_notificacao'].dt.day"
   ]
  },
  {
   "cell_type": "code",
   "execution_count": null,
   "metadata": {},
   "outputs": [],
   "source": [
    "nt.tables['metodo']"
   ]
  },
  {
   "cell_type": "code",
   "execution_count": null,
   "metadata": {},
   "outputs": [],
   "source": [
    "rt_pcr = nt.df.loc[nt.df['metodo']==1]"
   ]
  },
  {
   "cell_type": "code",
   "execution_count": null,
   "metadata": {},
   "outputs": [],
   "source": [
    "tabela_rt_pcr = rt_pcr.pivot_table(index=['ano','SE'], columns=['classificacao_final'], values='id', aggfunc='count', fill_value=0)\n",
    "tabela_rt_pcr = tabela_rt_pcr.rename(columns=nt.tables['classificacao_final'].set_index('id')['classificacao_final'],level='classificacao_final')\n",
    "tabela_rt_pcr['Total'] = tabela_rt_pcr.sum(axis=1)\n",
    "tabela_rt_pcr['Positividade'] = tabela_rt_pcr['Caso confirmado'] / tabela_rt_pcr['Total']\n",
    "ax = tabela_rt_pcr[['Caso confirmado','Caso descartado', 'Total']].rolling(1).mean().plot()\n",
    "tabela_rt_pcr[['Positividade']].rolling(7).mean().plot(secondary_y=True, ax=ax, ls=':', figsize=(20,12))"
   ]
  },
  {
   "cell_type": "code",
   "execution_count": null,
   "metadata": {},
   "outputs": [],
   "source": [
    "tabela_rt_pcr = rt_pcr.pivot_table(index=['ano','SE'], columns=['classificacao_final'], values='id', aggfunc='count', fill_value=0)\n",
    "tabela_rt_pcr = tabela_rt_pcr.rename(columns=nt.tables['classificacao_final'].set_index('id')['classificacao_final'],level='classificacao_final')\n",
    "tabela_rt_pcr['Total'] = tabela_rt_pcr.sum(axis=1)\n",
    "tabela_rt_pcr['Positividade'] = tabela_rt_pcr['Caso confirmado'] / tabela_rt_pcr['Total']\n",
    "ax = tabela_rt_pcr[['Caso confirmado','Caso descartado', 'Total']].rolling(1).mean().plot()\n",
    "tabela_rt_pcr[['Positividade']].rolling(7).mean().plot(secondary_y=True, ax=ax, ls=':', figsize=(20,12))"
   ]
  },
  {
   "cell_type": "code",
   "execution_count": null,
   "metadata": {},
   "outputs": [],
   "source": [
    "outros_testes = nt.df.loc[nt.df['metodo']!=1]"
   ]
  },
  {
   "cell_type": "code",
   "execution_count": null,
   "metadata": {},
   "outputs": [],
   "source": [
    "tabela_outros_testes = outros_testes.pivot_table(index=['ano','SE'], columns=['classificacao_final'], values='id', aggfunc='count', fill_value=0)\n",
    "tabela_outros_testes = tabela_outros_testes.rename(columns=nt.tables['classificacao_final'].set_index('id')['classificacao_final'],level='classificacao_final')\n",
    "tabela_outros_testes['Total'] = tabela_outros_testes.sum(axis=1)\n",
    "tabela_outros_testes['Positividade'] = tabela_outros_testes['Caso confirmado'] / tabela_outros_testes['Total']\n",
    "ax = tabela_outros_testes[['Caso confirmado','Caso descartado', 'Total']].rolling(1).mean().plot()\n",
    "tabela_outros_testes[['Positividade']].rolling(7).mean().plot(secondary_y=True, ax=ax, ls=':', figsize=(20,12))"
   ]
  },
  {
   "cell_type": "code",
   "execution_count": null,
   "metadata": {},
   "outputs": [],
   "source": [
    "tabela_rt_pcr"
   ]
  },
  {
   "cell_type": "code",
   "execution_count": null,
   "metadata": {},
   "outputs": [],
   "source": [
    "tabela_outros_testes"
   ]
  },
  {
   "cell_type": "code",
   "execution_count": null,
   "metadata": {},
   "outputs": [],
   "source": []
  }
 ],
 "metadata": {
  "interpreter": {
   "hash": "1cdc22e96f16e7a709941e5164353478df3c5a2dca8a048b5ddcd85bd66dd558"
  },
  "kernelspec": {
   "display_name": "Python 3 (ipykernel)",
   "language": "python",
   "name": "python3"
  },
  "language_info": {
   "codemirror_mode": {
    "name": "ipython",
    "version": 3
   },
   "file_extension": ".py",
   "mimetype": "text/x-python",
   "name": "python",
   "nbconvert_exporter": "python",
   "pygments_lexer": "ipython3",
   "version": "3.8.11"
  }
 },
 "nbformat": 4,
 "nbformat_minor": 4
}
