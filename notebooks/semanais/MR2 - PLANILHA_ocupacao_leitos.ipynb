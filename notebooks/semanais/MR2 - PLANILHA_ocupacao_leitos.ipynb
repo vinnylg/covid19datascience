{
 "cells": [
  {
   "cell_type": "code",
   "execution_count": null,
   "metadata": {},
   "outputs": [],
   "source": [
    "## set covid19_datasciente as path for python find bulletin package\n",
    "import sys\n",
    "from pathlib import Path\n",
    "from os import getcwd\n",
    "sys.path.append(str(Path(getcwd()).parent.parent)) ## ../../covid19datascience* <- set parent level here"
   ]
  },
  {
   "cell_type": "code",
   "execution_count": null,
   "metadata": {},
   "outputs": [],
   "source": [
    "import pandas as pd\n",
    "from os.path import join, dirname\n",
    "from datetime import datetime, timedelta\n",
    "\n",
    "from bulletin.analysis.ocupacao_leitos import read_excel, create_occupation_table\n",
    "from bulletin import default_input, default_output, root, hoje, data_comeco_pandemia\n",
    "\n",
    "pd.set_option('display.max_rows', 500)"
   ]
  },
  {
   "cell_type": "code",
   "execution_count": null,
   "metadata": {},
   "outputs": [],
   "source": [
    "lista_mes = ['jan', 'fev', 'mar', 'abr', 'mai', 'jun', 'jul', 'ago', 'set', 'out', 'nov', 'dec']"
   ]
  },
  {
   "cell_type": "code",
   "execution_count": null,
   "metadata": {},
   "outputs": [],
   "source": [
    "#Usar 0 para hoje e 1 para ontem\n",
    "algarismo = 0\n",
    "data = datetime.today() - timedelta(algarismo)\n",
    "mes = lista_mes[data.month-1]\n",
    "dia = data.day\n",
    "\n",
    "# filename = f\"Ocupação dos leitos por suspeitos confirmados covid 19 no Paraná atualizado em {str(dia).zfill(2)} {mes}.xls\"\n",
    "filename = f\"ocupacao.xls\"\n",
    "book = read_excel(join(default_input, 'ocupacao_leitos', filename))"
   ]
  },
  {
   "cell_type": "code",
   "execution_count": null,
   "metadata": {},
   "outputs": [],
   "source": [
    "i = 7\n",
    "list_names = book.sheet_names()\n",
    "for sheet in range(len(book.sheet_names())-8, len(book.sheet_names())):\n",
    "        sheet_name = f\"D-{i}\"\n",
    "        i -= 1\n",
    "        print(list_names[sheet], sheet_name)\n",
    "        \n",
    "        create_occupation_table(book, sheet, sheet_name)"
   ]
  },
  {
   "cell_type": "code",
   "execution_count": null,
   "metadata": {},
   "outputs": [],
   "source": []
  }
 ],
 "metadata": {
  "interpreter": {
   "hash": "b3ba2566441a7c06988d0923437866b63cedc61552a5af99d1f4fb67d367b25f"
  },
  "kernelspec": {
   "display_name": "Python 3 (ipykernel)",
   "language": "python",
   "name": "python3"
  },
  "language_info": {
   "codemirror_mode": {
    "name": "ipython",
    "version": 3
   },
   "file_extension": ".py",
   "mimetype": "text/x-python",
   "name": "python",
   "nbconvert_exporter": "python",
   "pygments_lexer": "ipython3",
   "version": "3.8.11"
  }
 },
 "nbformat": 4,
 "nbformat_minor": 4
}
