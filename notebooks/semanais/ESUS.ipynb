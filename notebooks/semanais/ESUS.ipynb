{
 "cells": [
  {
   "cell_type": "code",
   "execution_count": null,
   "metadata": {},
   "outputs": [],
   "source": [
    "## set covid19_datasciente as path for python find bulletin package\n",
    "import sys\n",
    "from pathlib import Path\n",
    "from os import getcwd\n",
    "sys.path.append(str(Path(getcwd()).parent.parent)) ## ../../covid19datascience* <- set parent level here"
   ]
  },
  {
   "cell_type": "code",
   "execution_count": null,
   "metadata": {},
   "outputs": [],
   "source": [
    "import pandas as pd\n",
    "from os.path import join\n",
    "from unidecode import unidecode\n",
    "\n",
    "from bulletin import default_input, default_output, root\n",
    "from bulletin.utils.normalize import normalize_text, normalize_hash"
   ]
  },
  {
   "cell_type": "code",
   "execution_count": null,
   "metadata": {},
   "outputs": [],
   "source": [
    "def trim_overspace(string: str):\n",
    "    parts = filter(lambda part: len(part) > 0, string.split(\" \"))\n",
    "    return \" \".join(parts)"
   ]
  },
  {
   "cell_type": "code",
   "execution_count": null,
   "metadata": {},
   "outputs": [],
   "source": [
    "dict_esus = pd.read_excel(join(default_output,'semanais', 'DICIONARIO_DADOS_ESUS.xlsx'))"
   ]
  },
  {
   "cell_type": "code",
   "execution_count": null,
   "metadata": {},
   "outputs": [],
   "source": [
    "dict_esus.loc[dict_esus['Categorias'].notnull(), 'Categorias'] = dict_esus.loc[dict_esus['Categorias'].notnull(), 'Categorias'].apply(lambda x: x.split('\\n') if '\\n' in x else [x])"
   ]
  },
  {
   "cell_type": "code",
   "execution_count": null,
   "metadata": {},
   "outputs": [],
   "source": [
    "dict_esus.loc[dict_esus['Nome do Campo'].notnull() & dict_esus['Nome do Campo'].str.contains('Assintomático')]"
   ]
  },
  {
   "cell_type": "code",
   "execution_count": null,
   "metadata": {},
   "outputs": [],
   "source": [
    "esus = dict_esus.copy()\n",
    "esustemp = dict_esus.copy()"
   ]
  },
  {
   "cell_type": "code",
   "execution_count": null,
   "metadata": {
    "tags": []
   },
   "outputs": [],
   "source": [
    "for x in dict_esus.loc[dict_esus['Categorias'].notnull()].index:\n",
    "    esus = esus.drop(x)\n",
    "    for y in dict_esus.loc[x,'Categorias']:\n",
    "        if '.' in y:\n",
    "            esustemp.loc[x ,'Categorias'] = y\n",
    "            esus = esus.append(esustemp.loc[x])"
   ]
  },
  {
   "cell_type": "code",
   "execution_count": null,
   "metadata": {},
   "outputs": [],
   "source": [
    "esus.to_excel('input_esus.xlsx')"
   ]
  },
  {
   "cell_type": "code",
   "execution_count": null,
   "metadata": {},
   "outputs": [],
   "source": [
    "esus_normalizado = pd.read_excel('input_esus.xlsx')"
   ]
  },
  {
   "cell_type": "code",
   "execution_count": null,
   "metadata": {},
   "outputs": [],
   "source": [
    "for col in esus_normalizado.columns:\n",
    "    if (col != 'Número do Campo') and (col != 'ID do Campo'):\n",
    "        esus_normalizado.loc[esus_normalizado[col].notnull(), col] = esus_normalizado.loc[esus_normalizado[col].notnull(), col].apply(lambda x: trim_overspace(x).replace('\\n',\" \"))"
   ]
  },
  {
   "cell_type": "code",
   "execution_count": null,
   "metadata": {},
   "outputs": [],
   "source": [
    "esus_normalizado.to_excel(join(default_output,'semanais','Dicionario_dados_esus_notifica.xlsx'))"
   ]
  },
  {
   "cell_type": "code",
   "execution_count": null,
   "metadata": {},
   "outputs": [],
   "source": []
  }
 ],
 "metadata": {
  "interpreter": {
   "hash": "b3ba2566441a7c06988d0923437866b63cedc61552a5af99d1f4fb67d367b25f"
  },
  "kernelspec": {
   "display_name": "Python 3 (ipykernel)",
   "language": "python",
   "name": "python3"
  },
  "language_info": {
   "codemirror_mode": {
    "name": "ipython",
    "version": 3
   },
   "file_extension": ".py",
   "mimetype": "text/x-python",
   "name": "python",
   "nbconvert_exporter": "python",
   "pygments_lexer": "ipython3",
   "version": "3.8.11"
  }
 },
 "nbformat": 4,
 "nbformat_minor": 4
}
