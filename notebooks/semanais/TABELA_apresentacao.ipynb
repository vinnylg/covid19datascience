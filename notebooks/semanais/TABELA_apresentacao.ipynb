{
 "cells": [
  {
   "cell_type": "code",
   "execution_count": null,
   "metadata": {},
   "outputs": [],
   "source": [
    "## set covid19_datasciente as path for python find bulletin package\n",
    "import sys\n",
    "from pathlib import Path\n",
    "from os import getcwd\n",
    "sys.path.append(str(Path(getcwd()).parent.parent)) ## ../../covid19datascience* <- set parent level here"
   ]
  },
  {
   "cell_type": "code",
   "execution_count": null,
   "metadata": {},
   "outputs": [],
   "source": [
    "import pandas as pd\n",
    "from epiweeks import Week\n",
    "from datetime import date, timedelta\n",
    "from os.path import join\n",
    "\n",
    "from bulletin import default_input, default_output, root, hoje, data_comeco_pandemia\n",
    "from bulletin.systems.casos_confirmados import CasosConfirmados"
   ]
  },
  {
   "cell_type": "code",
   "execution_count": null,
   "metadata": {},
   "outputs": [],
   "source": [
    "cc = CasosConfirmados()\n",
    "#cc.databases()\n",
    "cc.load(f\"cc_{str(date.today().day-1).zfill(2)}_{str(date.today().month).zfill(2)}_{str(date.today().year).zfill(4)}\", compress=True)"
   ]
  },
  {
   "cell_type": "code",
   "execution_count": null,
   "metadata": {},
   "outputs": [],
   "source": [
    "# casos_confirmados = CasosConfirmados(force=True, hard=True)\n",
    "# casos_confirmados.shape()"
   ]
  },
  {
   "cell_type": "code",
   "execution_count": null,
   "metadata": {},
   "outputs": [],
   "source": [
    "#Usar 0 para hoje e 1 para ontem\n",
    "# algarismo = 1\n",
    "# data = datetime.today() - timedelta(algarismo)\n",
    "# dia = data.day\n",
    "# mes = data.month\n",
    "# ano = data.year\n",
    "\n",
    "# casos = pd.read_csv(f\"input/informe_epidemiologico_{str(dia).zfill(2)}_{str(mes).zfill(2)}_{ano}_geral.csv\",\n",
    "#                     sep = ';',\n",
    "#                     converters = {\n",
    "#                         'DATA_DIAGNOSTICO' : pd.to_datetime,\n",
    "#                         'DATA_INICIO_SINTOMAS' : pd.to_datetime\n",
    "#                     }\n",
    "#                    )\n",
    "# casos = casos_confirmados.get_casos()"
   ]
  },
  {
   "cell_type": "code",
   "execution_count": null,
   "metadata": {},
   "outputs": [],
   "source": [
    "casos = cc.df.loc[((cc.df['uf_residencia'] == 'PR')) & (cc.df['classificacao_final'] == 2)].copy()\n",
    "# casos.loc[(casos['OBITO'] == 'SIM') & (~(casos['IBGE_RES_PR'] == 9999999))]"
   ]
  },
  {
   "cell_type": "code",
   "execution_count": null,
   "metadata": {},
   "outputs": [],
   "source": [
    "del cc"
   ]
  },
  {
   "cell_type": "code",
   "execution_count": null,
   "metadata": {},
   "outputs": [],
   "source": [
    "sivep = pd.read_excel(join(default_input,'TABELA_sivep_INPUT.xlsx'))\n",
    "notifica = pd.read_excel(join(default_input,'TABELA_notifica_INPUT.xlsx'))\n",
    "# sivep = sivep.rename(columns={'Unnamed: 0':'SE'})\n",
    "# notifica = notifica.rename(columns={'Unnamed: 0':'SE'})\n",
    "notifica = notifica.set_index('SE')\n",
    "sivep = sivep.set_index('SE')"
   ]
  },
  {
   "cell_type": "code",
   "execution_count": null,
   "metadata": {},
   "outputs": [],
   "source": [
    "# casos['DATA_DIAGNOSTICO'] = casos['DATA_DIAGNOSTICO'].apply(lambda x: pd.to_datetime(x, format='%Y-%m-%d', errors = 'coerce'))\n",
    "# casos['DATA_INICIO_SINTOMAS'] = casos['DATA_INICIO_SINTOMAS'].apply(lambda x: pd.to_datetime(x, format='%Y-%m-%d', errors = 'coerce'))"
   ]
  },
  {
   "cell_type": "code",
   "execution_count": null,
   "metadata": {},
   "outputs": [],
   "source": [
    "casos['se_diag'] = casos['data_diagnostico'].apply(lambda x: Week.fromdate(x))\n",
    "casos.loc[~casos['data_1o_sintomas'].isnull(), 'se_is'] = casos['data_1o_sintomas'].loc[~casos['data_1o_sintomas'].isnull()].apply(lambda x: Week.fromdate(x))"
   ]
  },
  {
   "cell_type": "code",
   "execution_count": null,
   "metadata": {},
   "outputs": [],
   "source": [
    "tabela_diag = casos.groupby(['se_diag'])[['data_diagnostico']].count()"
   ]
  },
  {
   "cell_type": "code",
   "execution_count": null,
   "metadata": {},
   "outputs": [],
   "source": [
    "tabela_is = casos.groupby(['se_is'])[['data_diagnostico']].count()\n",
    "for row in tabela_is.index.values:\n",
    "    if row.year < 2020:\n",
    "        tabela_is = tabela_is.drop(row)"
   ]
  },
  {
   "cell_type": "code",
   "execution_count": null,
   "metadata": {},
   "outputs": [],
   "source": [
    "tabela = pd.DataFrame(sivep['Positividade (%)']).rename(columns={'Positividade (%)': 'Positividade SRAG'})\n",
    "notifica = pd.DataFrame(notifica['Positividade (%)']).rename(columns={'Positividade (%)': 'Positividade SG'})\n",
    "notifica = notifica.reset_index()\n",
    "tabela = tabela.reset_index()\n",
    "tabela = tabela.merge(how = 'left', on = 'SE', right = notifica)"
   ]
  },
  {
   "cell_type": "code",
   "execution_count": null,
   "metadata": {},
   "outputs": [],
   "source": [
    "tabela_diag = tabela_diag.rename(columns={'data_diagnostico': 'Diagnóstico'})\n",
    "tabela_is = tabela_is.rename(columns={'data_diagnostico':'Primeiros sintomas'})"
   ]
  },
  {
   "cell_type": "code",
   "execution_count": null,
   "metadata": {},
   "outputs": [],
   "source": [
    "index_list = pd.Series(dtype = 'int64')\n",
    "for line in tabela_diag.index.values:\n",
    "    index_list = index_list.append(pd.Series(line.cdcformat(), dtype = 'int64'))\n",
    "tabela_diag = tabela_diag.set_index(index_list)\n",
    "tabela_diag = tabela_diag.append(pd.DataFrame(tabela_diag.sum(0)).transpose())\n",
    "tabela_diag = tabela_diag.reset_index()\n",
    "tabela_diag = tabela_diag.rename(columns={'index':'SE'})\n",
    "tabela = tabela.merge(how='left', on='SE', right = tabela_diag)"
   ]
  },
  {
   "cell_type": "code",
   "execution_count": null,
   "metadata": {},
   "outputs": [],
   "source": [
    "index_list = pd.Series(dtype = 'int64')\n",
    "for line in tabela_is.index.values:\n",
    "    index_list = index_list.append(pd.Series(line.cdcformat(), dtype = 'int64'))\n",
    "tabela_is = tabela_is.set_index(index_list)\n",
    "tabela_is = tabela_is.append(pd.DataFrame(tabela_is.sum(0)).transpose())\n",
    "tabela_is = tabela_is.reset_index()\n",
    "tabela_is = tabela_is.rename(columns={'index':'SE'})\n",
    "tabela = tabela.merge(how = 'left', on = 'SE', right = tabela_is)"
   ]
  },
  {
   "cell_type": "code",
   "execution_count": null,
   "metadata": {},
   "outputs": [],
   "source": [
    "tabela['SE'] = tabela['SE'].astype('str').iloc[:-1].apply(lambda x: str(Week.fromstring(x).week))\n",
    "tabela['SE'].iloc[-1] = 'Total Geral'\n",
    "tabela = tabela.set_index('SE')\n",
    "tabela.index.name = 'Semana Epidemiológica'"
   ]
  },
  {
   "cell_type": "code",
   "execution_count": null,
   "metadata": {},
   "outputs": [],
   "source": [
    "tabela = tabela[['Primeiros sintomas', 'Diagnóstico', 'Positividade SG', 'Positividade SRAG']]"
   ]
  },
  {
   "cell_type": "code",
   "execution_count": null,
   "metadata": {},
   "outputs": [],
   "source": [
    "tabela.to_excel(join(default_output, 'semanais', 'TABELA_apresentacao.xlsx'))"
   ]
  },
  {
   "cell_type": "code",
   "execution_count": null,
   "metadata": {},
   "outputs": [],
   "source": [
    "tabela"
   ]
  }
 ],
 "metadata": {
  "interpreter": {
   "hash": "b3ba2566441a7c06988d0923437866b63cedc61552a5af99d1f4fb67d367b25f"
  },
  "kernelspec": {
   "display_name": "Python 3.8.5 64-bit ('base': conda)",
   "name": "python3"
  },
  "language_info": {
   "codemirror_mode": {
    "name": "ipython",
    "version": 3
   },
   "file_extension": ".py",
   "mimetype": "text/x-python",
   "name": "python",
   "nbconvert_exporter": "python",
   "pygments_lexer": "ipython3",
   "version": "3.8.5"
  }
 },
 "nbformat": 4,
 "nbformat_minor": 4
}
