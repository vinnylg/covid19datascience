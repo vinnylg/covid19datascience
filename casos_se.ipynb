{
 "metadata": {
  "language_info": {
   "codemirror_mode": {
    "name": "ipython",
    "version": 3
   },
   "file_extension": ".py",
   "mimetype": "text/x-python",
   "name": "python",
   "nbconvert_exporter": "python",
   "pygments_lexer": "ipython3",
   "version": "3.8.5-final"
  },
  "orig_nbformat": 2,
  "kernelspec": {
   "name": "python3",
   "display_name": "Python 3",
   "language": "python"
  }
 },
 "nbformat": 4,
 "nbformat_minor": 2,
 "cells": [
  {
   "cell_type": "code",
   "execution_count": 1,
   "metadata": {},
   "outputs": [],
   "source": [
    "import pandas as pd\n",
    "import numpy as np\n",
    "from matplotlib import pyplot\n",
    "from epiweeks import Week\n",
    "from datetime import date, datetime\n",
    "from os.path import dirname, join, isfile, isdir\n",
    "\n",
    "from bulletin.commom import static\n",
    "from bulletin.commom.normalize import normalize_text, normalize_number, normalize_hash, normalize_cpf, normalize_igbe\n",
    "from bulletin.commom.utils import isvaliddate\n",
    "\n",
    "from bulletin.commom.utils import Timer, auto_fit_columns\n",
    "output = join(\"output\")"
   ]
  },
  {
   "cell_type": "code",
   "execution_count": 2,
   "metadata": {},
   "outputs": [],
   "source": [
    "municipios = static.municipios.loc[static.municipios['uf']=='PR',['ibge','municipio','populacao']].copy()\n",
    "municipios['ibge'] = municipios['ibge'].apply(str)\n",
    "\n",
    "regionais = static.regionais[['ibge','nm_macro','nu_reg','nm_reg']].copy()\n",
    "regionais['ibge'] = regionais['ibge'].apply(str)\n",
    "regionais = regionais.rename(columns={'nu_reg':'rs'})\n",
    "\n",
    "populacao_macro = pd.merge(regionais,municipios,on='ibge',how='inner').groupby('nm_macro')[['populacao']].sum()\n",
    "populacao_rs = pd.merge(regionais,municipios,on='ibge',how='inner').groupby('rs')[['populacao']].sum()\n",
    "populacao_mun = municipios\n",
    "\n",
    "def ajust_table(table,tipo='casos'):\n",
    "    return table.unstack(level=[0,1,2]).swaplevel(0, 1, axis=1).swaplevel(1, 2, axis=1).swaplevel(2, 3, axis=1).fillna(0).astype(int).xs(tipo, axis=1, level= 3)"
   ]
  },
  {
   "cell_type": "code",
   "execution_count": 3,
   "metadata": {},
   "outputs": [],
   "source": [
    "casos = pd.read_excel('input/casos_obitos.xlsx','casos',converters={\n",
    "        'ibge': normalize_igbe\n",
    "    }\n",
    ")"
   ]
  },
  {
   "cell_type": "code",
   "execution_count": 4,
   "metadata": {},
   "outputs": [],
   "source": [
    "obitos = pd.read_excel('input/casos_obitos.xlsx','obitos',converters={\n",
    "        'ibge': normalize_igbe\n",
    "    }\n",
    ")"
   ]
  },
  {
   "cell_type": "code",
   "execution_count": 5,
   "metadata": {},
   "outputs": [],
   "source": [
    "casos = pd.merge(left=casos, right=regionais, how='left', on='ibge')\n",
    "casos = pd.merge(left=casos, right=municipios, how='left', on='ibge')\n",
    "casos['ano'] = casos.apply(lambda row: Week.fromdate(row['dt_diag']).year, axis=1)\n",
    "casos['mes'] = casos.apply(lambda row: Week.fromdate(row['dt_diag']).startdate().month, axis=1)\n",
    "casos['se'] = casos.apply(lambda row: Week.fromdate(row['dt_diag']).week, axis=1)"
   ]
  },
  {
   "cell_type": "code",
   "execution_count": 6,
   "metadata": {},
   "outputs": [],
   "source": [
    "obitos = pd.merge(left=obitos, right=regionais, how='left', on='ibge')\n",
    "obitos = pd.merge(left=obitos, right=municipios, how='left', on='ibge')\n",
    "obitos['ano'] = obitos.apply(lambda row: Week.fromdate(row['data_obito']).year, axis=1)\n",
    "obitos['mes'] = obitos.apply(lambda row: Week.fromdate(row['data_obito']).startdate().month, axis=1)\n",
    "obitos['se'] = obitos.apply(lambda row: Week.fromdate(row['data_obito']).week, axis=1)"
   ]
  },
  {
   "cell_type": "code",
   "execution_count": 7,
   "metadata": {},
   "outputs": [],
   "source": [
    "casos_macros_se = casos.groupby(['ano','mes','se','nm_macro'])[['dt_diag']].count().rename(columns={'dt_diag':'casos'})\n",
    "casos_regionais_se = casos.groupby(['ano','mes','se','rs','nm_reg'])[['dt_diag']].count().rename(columns={'dt_diag':'casos'})\n",
    "casos_se = casos.groupby(['ano','mes','se','nm_macro','rs','nm_reg','ibge','municipio'])[['dt_diag']].count().rename(columns={'dt_diag':'casos'})\n",
    "\n",
    "casos_macros_se.index.names = ['Ano','Mês','Semana Epidemiológica','Macro']\n",
    "casos_regionais_se.index.names = ['Ano','Mês','Semana Epidemiológica','RS','Regional']\n",
    "casos_se.index.names = ['Ano','Mês','Semana Epidemiológica','Macro','RS','Regional','Ibge','Municipio']\n",
    "\n",
    "casos_macros_se = ajust_table(casos_macros_se,'casos')\n",
    "casos_regionais_se = ajust_table(casos_regionais_se,'casos')\n",
    "casos_se = ajust_table(casos_se,'casos')"
   ]
  },
  {
   "cell_type": "code",
   "execution_count": 8,
   "metadata": {},
   "outputs": [],
   "source": [
    "obitos_macros_se = obitos.groupby(['ano','mes','se','nm_macro'])[['data_obito']].count().rename(columns={'data_obito':'obitos'})\n",
    "obitos_regionais_se = obitos.groupby(['ano','mes','se','rs','nm_reg'])[['data_obito']].count().rename(columns={'data_obito':'obitos'})\n",
    "obitos_se = obitos.groupby(['ano','mes','se','nm_macro','rs','nm_reg','ibge','municipio'])[['data_obito']].count().rename(columns={'data_obito':'obitos'})\n",
    "\n",
    "obitos_macros_se.index.names = ['Ano','Mês','Semana Epidemiológica','Macro']\n",
    "obitos_regionais_se.index.names = ['Ano','Mês','Semana Epidemiológica','RS','Regional']\n",
    "obitos_se.index.names = ['Ano','Mês','Semana Epidemiológica','Macro','RS','Regional','Ibge','Municipio']\n",
    "\n",
    "obitos_macros_se = ajust_table(obitos_macros_se,'obitos')\n",
    "obitos_regionais_se = ajust_table(obitos_regionais_se,'obitos')\n",
    "obitos_se = ajust_table(obitos_se,'obitos')"
   ]
  },
  {
   "cell_type": "code",
   "execution_count": 9,
   "metadata": {},
   "outputs": [],
   "source": [
    "writer = pd.ExcelWriter(join(output,\"casos_se.xlsx\"),\n",
    "                        engine='xlsxwriter',\n",
    "                        datetime_format='dd/mm/yyyy',\n",
    "                        date_format='dd/mm/yyyy')\n",
    "\n",
    "casos_macros_se.to_excel(writer,sheet_name='casos_macros_se')\n",
    "casos_regionais_se.to_excel(writer,sheet_name='casos_regionais_se')\n",
    "casos_se.to_excel(writer,sheet_name='casos_se')\n",
    "\n",
    "worksheet = writer.sheets[f\"casos_macros_se\"]\n",
    "auto_fit_columns(worksheet,casos_macros_se)\n",
    "worksheet = writer.sheets[f\"casos_regionais_se\"]\n",
    "auto_fit_columns(worksheet,casos_regionais_se)\n",
    "worksheet = writer.sheets[f\"casos_se\"]\n",
    "auto_fit_columns(worksheet,casos_se)\n",
    "\n",
    "obitos_macros_se.to_excel(writer,sheet_name='obitos_macros_se')\n",
    "obitos_regionais_se.to_excel(writer,sheet_name='obitos_regionais_se')\n",
    "obitos_se.to_excel(writer,sheet_name='obitos_se')\n",
    "\n",
    "worksheet = writer.sheets[f\"obitos_macros_se\"]\n",
    "auto_fit_columns(worksheet,obitos_macros_se)\n",
    "worksheet = writer.sheets[f\"obitos_regionais_se\"]\n",
    "auto_fit_columns(worksheet,obitos_regionais_se)\n",
    "worksheet = writer.sheets[f\"obitos_se\"]\n",
    "auto_fit_columns(worksheet,obitos_se)\n",
    "\n",
    "writer.save()\n",
    "writer.close()"
   ]
  }
 ]
}