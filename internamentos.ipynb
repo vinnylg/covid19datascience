{
 "metadata": {
  "language_info": {
   "codemirror_mode": {
    "name": "ipython",
    "version": 3
   },
   "file_extension": ".py",
   "mimetype": "text/x-python",
   "name": "python",
   "nbconvert_exporter": "python",
   "pygments_lexer": "ipython3",
   "version": "3.8.5-final"
  },
  "orig_nbformat": 2,
  "kernelspec": {
   "name": "python3",
   "display_name": "Python 3.8.5 64-bit (conda)",
   "metadata": {
    "interpreter": {
     "hash": "b3ba2566441a7c06988d0923437866b63cedc61552a5af99d1f4fb67d367b25f"
    }
   }
  }
 },
 "nbformat": 4,
 "nbformat_minor": 2,
 "cells": [
  {
   "cell_type": "code",
   "execution_count": 1,
   "metadata": {},
   "outputs": [],
   "source": [
    "import pandas as pd\n",
    "import numpy as np\n",
    "from matplotlib import pyplot\n",
    "from epiweeks import Week\n",
    "from datetime import date, datetime\n",
    "from os.path import dirname, join, isfile, isdir\n",
    "\n",
    "from bulletin.commom import static\n",
    "from bulletin.commom.normalize import normalize_text, normalize_number, normalize_hash, normalize_cpf, normalize_igbe, normalize_labels\n",
    "from bulletin.commom.utils import isvaliddate\n",
    "\n",
    "from bulletin.commom.utils import Timer, auto_fit_columns\n",
    "output = join(\"output\")"
   ]
  },
  {
   "cell_type": "code",
   "execution_count": 2,
   "metadata": {},
   "outputs": [
    {
     "output_type": "execute_result",
     "data": {
      "text/plain": [
       "                   data_alta                 leito_tipo  \\\n",
       "0    2020-04-01 22:00:00.000  CORONAVIRUS-CLINICA GERAL   \n",
       "1    2020-04-02 16:00:00.000  CORONAVIRUS-CLINICA GERAL   \n",
       "2    2020-04-04 15:00:00.000  CORONAVIRUS-CLINICA GERAL   \n",
       "3    2020-04-05 17:00:00.000  CORONAVIRUS-CLINICA GERAL   \n",
       "4    2020-04-07 09:00:00.000     CORONAVIRUS-UTI ADULTO   \n",
       "...                      ...                        ...   \n",
       "1958 2021-03-03 00:56:05.375  CORONAVIRUS-CLINICA GERAL   \n",
       "1959 2021-03-03 00:56:19.107  CORONAVIRUS-CLINICA GERAL   \n",
       "1960 2021-03-03 01:00:00.000  CORONAVIRUS-CLINICA GERAL   \n",
       "1961 2021-03-03 01:13:40.443  CORONAVIRUS-CLINICA GERAL   \n",
       "1962 2021-03-03 03:00:00.000     CORONAVIRUS-UTI ADULTO   \n",
       "\n",
       "                                     motivo_alta  \\\n",
       "0                                    ALTA MEDICA   \n",
       "1                                    ALTA MEDICA   \n",
       "2                                    ALTA MEDICA   \n",
       "3                                    ALTA MEDICA   \n",
       "4                                    ALTA MEDICA   \n",
       "...                                          ...   \n",
       "1958  ALTA POR TRANSFERENCIA PARA OUTRO HOSPITAL   \n",
       "1959  ALTA POR TRANSFERENCIA PARA OUTRO HOSPITAL   \n",
       "1960                                 ALTA MEDICA   \n",
       "1961  ALTA POR TRANSFERENCIA PARA OUTRO HOSPITAL   \n",
       "1962                              ALTA POR OBITO   \n",
       "\n",
       "      tempo_internamento_(em_dias)  idade  \n",
       "0                                0     68  \n",
       "1                                7     46  \n",
       "2                               10     77  \n",
       "3                                4     32  \n",
       "4                                7     62  \n",
       "...                            ...    ...  \n",
       "1958                             3     30  \n",
       "1959                             3     67  \n",
       "1960                             4     42  \n",
       "1961                             2     52  \n",
       "1962                             2     52  \n",
       "\n",
       "[1963 rows x 5 columns]"
      ],
      "text/html": "<div>\n<style scoped>\n    .dataframe tbody tr th:only-of-type {\n        vertical-align: middle;\n    }\n\n    .dataframe tbody tr th {\n        vertical-align: top;\n    }\n\n    .dataframe thead th {\n        text-align: right;\n    }\n</style>\n<table border=\"1\" class=\"dataframe\">\n  <thead>\n    <tr style=\"text-align: right;\">\n      <th></th>\n      <th>data_alta</th>\n      <th>leito_tipo</th>\n      <th>motivo_alta</th>\n      <th>tempo_internamento_(em_dias)</th>\n      <th>idade</th>\n    </tr>\n  </thead>\n  <tbody>\n    <tr>\n      <th>0</th>\n      <td>2020-04-01 22:00:00.000</td>\n      <td>CORONAVIRUS-CLINICA GERAL</td>\n      <td>ALTA MEDICA</td>\n      <td>0</td>\n      <td>68</td>\n    </tr>\n    <tr>\n      <th>1</th>\n      <td>2020-04-02 16:00:00.000</td>\n      <td>CORONAVIRUS-CLINICA GERAL</td>\n      <td>ALTA MEDICA</td>\n      <td>7</td>\n      <td>46</td>\n    </tr>\n    <tr>\n      <th>2</th>\n      <td>2020-04-04 15:00:00.000</td>\n      <td>CORONAVIRUS-CLINICA GERAL</td>\n      <td>ALTA MEDICA</td>\n      <td>10</td>\n      <td>77</td>\n    </tr>\n    <tr>\n      <th>3</th>\n      <td>2020-04-05 17:00:00.000</td>\n      <td>CORONAVIRUS-CLINICA GERAL</td>\n      <td>ALTA MEDICA</td>\n      <td>4</td>\n      <td>32</td>\n    </tr>\n    <tr>\n      <th>4</th>\n      <td>2020-04-07 09:00:00.000</td>\n      <td>CORONAVIRUS-UTI ADULTO</td>\n      <td>ALTA MEDICA</td>\n      <td>7</td>\n      <td>62</td>\n    </tr>\n    <tr>\n      <th>...</th>\n      <td>...</td>\n      <td>...</td>\n      <td>...</td>\n      <td>...</td>\n      <td>...</td>\n    </tr>\n    <tr>\n      <th>1958</th>\n      <td>2021-03-03 00:56:05.375</td>\n      <td>CORONAVIRUS-CLINICA GERAL</td>\n      <td>ALTA POR TRANSFERENCIA PARA OUTRO HOSPITAL</td>\n      <td>3</td>\n      <td>30</td>\n    </tr>\n    <tr>\n      <th>1959</th>\n      <td>2021-03-03 00:56:19.107</td>\n      <td>CORONAVIRUS-CLINICA GERAL</td>\n      <td>ALTA POR TRANSFERENCIA PARA OUTRO HOSPITAL</td>\n      <td>3</td>\n      <td>67</td>\n    </tr>\n    <tr>\n      <th>1960</th>\n      <td>2021-03-03 01:00:00.000</td>\n      <td>CORONAVIRUS-CLINICA GERAL</td>\n      <td>ALTA MEDICA</td>\n      <td>4</td>\n      <td>42</td>\n    </tr>\n    <tr>\n      <th>1961</th>\n      <td>2021-03-03 01:13:40.443</td>\n      <td>CORONAVIRUS-CLINICA GERAL</td>\n      <td>ALTA POR TRANSFERENCIA PARA OUTRO HOSPITAL</td>\n      <td>2</td>\n      <td>52</td>\n    </tr>\n    <tr>\n      <th>1962</th>\n      <td>2021-03-03 03:00:00.000</td>\n      <td>CORONAVIRUS-UTI ADULTO</td>\n      <td>ALTA POR OBITO</td>\n      <td>2</td>\n      <td>52</td>\n    </tr>\n  </tbody>\n</table>\n<p>1963 rows × 5 columns</p>\n</div>"
     },
     "metadata": {},
     "execution_count": 2
    }
   ],
   "source": [
    "internamento = pd.read_excel(join('input','internamento.xls'))\n",
    "internamento.columns = [ normalize_labels(x) for x in internamento.columns]\n",
    "internamento['leito_tipo'] = internamento['leito_tipo'].apply(normalize_text)\n",
    "internamento.loc[internamento['leito_tipo']=='CORONAVIRUS-UTI ADULTO (MS)', 'leito_tipo'] = 'CORONAVIRUS-UTI ADULTO'\n",
    "internamento['motivo_alta'] = internamento['motivo_alta'].apply(normalize_text)\n",
    "# internamento['ano'] = internamento.apply(lambda row: Week.fromdate(row['data_alta']).year, axis=1)\n",
    "# internamento['mes'] = internamento.apply(lambda row: Week.fromdate(row['data_alta']).startdate().month, axis=1)\n",
    "# internamento['se'] = internamento.apply(lambda row: Week.fromdate(row['data_alta']).week, axis=1)\n",
    "internamento"
   ]
  },
  {
   "cell_type": "code",
   "execution_count": 3,
   "metadata": {},
   "outputs": [
    {
     "output_type": "execute_result",
     "data": {
      "text/plain": [
       "                               idade  tempo_internamento_(em_dias)\n",
       "leito_tipo                                                        \n",
       "CORONAVIRUS-CLINICA GERAL  58.218421                      7.586842\n",
       "CORONAVIRUS-UTI ADULTO     66.042889                     10.855530"
      ],
      "text/html": "<div>\n<style scoped>\n    .dataframe tbody tr th:only-of-type {\n        vertical-align: middle;\n    }\n\n    .dataframe tbody tr th {\n        vertical-align: top;\n    }\n\n    .dataframe thead th {\n        text-align: right;\n    }\n</style>\n<table border=\"1\" class=\"dataframe\">\n  <thead>\n    <tr style=\"text-align: right;\">\n      <th></th>\n      <th>idade</th>\n      <th>tempo_internamento_(em_dias)</th>\n    </tr>\n    <tr>\n      <th>leito_tipo</th>\n      <th></th>\n      <th></th>\n    </tr>\n  </thead>\n  <tbody>\n    <tr>\n      <th>CORONAVIRUS-CLINICA GERAL</th>\n      <td>58.218421</td>\n      <td>7.586842</td>\n    </tr>\n    <tr>\n      <th>CORONAVIRUS-UTI ADULTO</th>\n      <td>66.042889</td>\n      <td>10.855530</td>\n    </tr>\n  </tbody>\n</table>\n</div>"
     },
     "metadata": {},
     "execution_count": 3
    }
   ],
   "source": [
    "media_internamento = internamento.groupby('leito_tipo')[['idade','tempo_internamento_(em_dias)']].mean()\n",
    "media_internamento"
   ]
  },
  {
   "cell_type": "code",
   "execution_count": 4,
   "metadata": {},
   "outputs": [
    {
     "output_type": "execute_result",
     "data": {
      "text/plain": [
       "                                            qtde   percent\n",
       "ALTA ADMINISTRATIVA                           10  0.005094\n",
       "ALTA MEDICA                                 1468  0.747835\n",
       "ALTA POR OBITO                               379  0.193072\n",
       "ALTA POR PEDIDO DO PACIENTE OU FAMILIAR        4  0.002038\n",
       "ALTA POR TRANSFERENCIA PARA OUTRO HOSPITAL    97  0.049414\n",
       "EVASAO DO PACIENTE                             5  0.002547\n",
       "TOTAL                                       1963  1.000000"
      ],
      "text/html": "<div>\n<style scoped>\n    .dataframe tbody tr th:only-of-type {\n        vertical-align: middle;\n    }\n\n    .dataframe tbody tr th {\n        vertical-align: top;\n    }\n\n    .dataframe thead th {\n        text-align: right;\n    }\n</style>\n<table border=\"1\" class=\"dataframe\">\n  <thead>\n    <tr style=\"text-align: right;\">\n      <th></th>\n      <th>qtde</th>\n      <th>percent</th>\n    </tr>\n  </thead>\n  <tbody>\n    <tr>\n      <th>ALTA ADMINISTRATIVA</th>\n      <td>10</td>\n      <td>0.005094</td>\n    </tr>\n    <tr>\n      <th>ALTA MEDICA</th>\n      <td>1468</td>\n      <td>0.747835</td>\n    </tr>\n    <tr>\n      <th>ALTA POR OBITO</th>\n      <td>379</td>\n      <td>0.193072</td>\n    </tr>\n    <tr>\n      <th>ALTA POR PEDIDO DO PACIENTE OU FAMILIAR</th>\n      <td>4</td>\n      <td>0.002038</td>\n    </tr>\n    <tr>\n      <th>ALTA POR TRANSFERENCIA PARA OUTRO HOSPITAL</th>\n      <td>97</td>\n      <td>0.049414</td>\n    </tr>\n    <tr>\n      <th>EVASAO DO PACIENTE</th>\n      <td>5</td>\n      <td>0.002547</td>\n    </tr>\n    <tr>\n      <th>TOTAL</th>\n      <td>1963</td>\n      <td>1.000000</td>\n    </tr>\n  </tbody>\n</table>\n</div>"
     },
     "metadata": {},
     "execution_count": 4
    }
   ],
   "source": [
    "alta_internamento = internamento.groupby('motivo_alta')[['idade']].count().rename(columns={'idade':'qtde'})\n",
    "aux_df = pd.DataFrame(columns=['qtde'], index=['TOTAL'])\n",
    "aux_df.loc['TOTAL'] = alta_internamento.sum()\n",
    "alta_internamento = alta_internamento.append(aux_df)\n",
    "alta_internamento['percent'] = alta_internamento.apply(lambda row: row['qtde'] / alta_internamento.loc['TOTAL','qtde'], axis=1)\n",
    "alta_internamento"
   ]
  },
  {
   "cell_type": "code",
   "execution_count": 5,
   "metadata": {},
   "outputs": [],
   "source": [
    "writer = pd.ExcelWriter(join(output,\"internamentos.xlsx\"),\n",
    "                        engine='xlsxwriter',\n",
    "                        datetime_format='dd/mm/yyyy',\n",
    "                        date_format='dd/mm/yyyy')\n",
    "\n",
    "media_internamento.to_excel(writer,sheet_name='media_internamento')\n",
    "alta_internamento.to_excel(writer,sheet_name='alta_internamento')\n",
    "\n",
    "worksheet = writer.sheets[f\"media_internamento\"]\n",
    "auto_fit_columns(worksheet,media_internamento)\n",
    "\n",
    "worksheet = writer.sheets[f\"alta_internamento\"]\n",
    "auto_fit_columns(worksheet,alta_internamento)\n",
    "\n",
    "writer.save()\n",
    "writer.close()"
   ]
  }
 ]
}