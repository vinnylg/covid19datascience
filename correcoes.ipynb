{
 "cells": [
  {
   "cell_type": "code",
   "execution_count": 1,
   "metadata": {},
   "outputs": [],
   "source": [
    "import json\n",
    "import numpy as np\n",
    "import pandas as pd\n",
    "from sys import exit, stderr, stdin, stdout\n",
    "from time import sleep\n",
    "# from tqdm import tqdm\n",
    "from tqdm.notebook import tqdm\n",
    "from os.path import dirname, join, isfile, isdir\n",
    "from os import makedirs\n",
    "import subprocess\n",
    "from datetime import datetime, timedelta, date\n",
    "\n",
    "from bulletin.data.notifica import Notifica\n",
    "from bulletin.commom.utils import Timer, get_better_notifica\n",
    "from bulletin.commom.normalize import normalize_hash\n",
    "from bulletin.commom.static import meses\n",
    "from bulletin.metabase.request import download_metabase\n",
    "\n",
    "pd.set_option('display.max_columns', None)\n",
    "\n",
    "output = join(\"output\",\"correcoes\",\"notifica\")\n",
    "\n",
    "if not isdir(output):\n",
    "    makedirs(output)\n",
    "\n",
    "tqdm.pandas()\n",
    "\n",
    "timerAll = Timer()\n",
    "timer = Timer()"
   ]
  },
  {
   "cell_type": "code",
   "execution_count": 2,
   "metadata": {},
   "outputs": [],
   "source": [
    "baixar_notifica = False#True if input(\"Enter para continuar, S para baixar notifica\") == 'S' else False\n",
    "ler_notifica = False#True if input(\"Enter para continuar, S para ler notifica\") == 'S' else False"
   ]
  },
  {
   "cell_type": "code",
   "execution_count": 3,
   "metadata": {
    "tags": []
   },
   "outputs": [
    {
     "output_type": "stream",
     "name": "stdout",
     "text": [
      "(2817308, 1290846, 15638, 1482354, 2443)\n"
     ]
    }
   ],
   "source": [
    "notifica = Notifica()\n",
    "if ler_notifica or baixar_notifica:\n",
    "    if baixar_notifica:\n",
    "        notifica.download_todas_notificacoes()\n",
    "    if ler_notifica:\n",
    "        notifica.read_todas_notificacoes()\n",
    "        notifica.save()\n",
    "else:\n",
    "    notifica.load()\n",
    "\n",
    "print(notifica.shape())"
   ]
  },
  {
   "cell_type": "code",
   "execution_count": 4,
   "metadata": {},
   "outputs": [
    {
     "output_type": "execute_result",
     "data": {
      "text/plain": [
       "           id\n",
       "2      142895\n",
       "total  142895"
      ],
      "text/html": "<div>\n<style scoped>\n    .dataframe tbody tr th:only-of-type {\n        vertical-align: middle;\n    }\n\n    .dataframe tbody tr th {\n        vertical-align: top;\n    }\n\n    .dataframe thead th {\n        text-align: right;\n    }\n</style>\n<table border=\"1\" class=\"dataframe\">\n  <thead>\n    <tr style=\"text-align: right;\">\n      <th></th>\n      <th>id</th>\n    </tr>\n  </thead>\n  <tbody>\n    <tr>\n      <th>2</th>\n      <td>142895</td>\n    </tr>\n    <tr>\n      <th>total</th>\n      <td>142895</td>\n    </tr>\n  </tbody>\n</table>\n</div>"
     },
     "metadata": {},
     "execution_count": 4
    }
   ],
   "source": [
    "casosn = notifica.get_casos()\n",
    "# casosn = casosn.loc[(casosn['mun_resid']=='CURITIBA') & (casosn['classificacao_final']==2)]\n",
    "casosn.groupby('classificacao_final')[['id']].count().append(pd.DataFrame(index=['total'],columns=['id'],data=[len(casosn)])).to_csv('classificacao_final_count.csv')"
   ]
  },
  {
   "cell_type": "code",
   "execution_count": 5,
   "metadata": {},
   "outputs": [
    {
     "output_type": "stream",
     "name": "stdout",
     "text": [
      "142895\n"
     ]
    },
    {
     "output_type": "execute_result",
     "data": {
      "text/plain": [
       "               soundex                          paciente\n",
       "1280859     1SRDRGSDZV          LHAIS RODRIGUES DA SILVA\n",
       "1746721    21NRKRBSMSD        RAUL HENRIQUE RIBAS MACEDO\n",
       "1763050      21RSLVNTR             RAUL HERCILIO VENTURA\n",
       "1685286   21RSLVNTRJN2      RAUL HERCILIO VENTURA JUNIOR\n",
       "1026569    23DSTFNSJN2         REINHOLD STEPHANES JUNIOR\n",
       "1724455       23NMLRBR           RAYNHANA MAELLY RIBEIRO\n",
       "1214751       23NRKDZV            RUAN HENRIQUE DA SILVA\n",
       "1154923  23NRKKRPMNSPR     RYAN HENRIQUE KROPMANNS PIERI\n",
       "1734250  23NRKKRPMNSPR     RYAN HENRIQUE KROPMANNS PIERI\n",
       "1128058  23NRKRDRGSDZV  RYAN HENRYQUE RODRIGUES DA SILVA"
      ],
      "text/html": "<div>\n<style scoped>\n    .dataframe tbody tr th:only-of-type {\n        vertical-align: middle;\n    }\n\n    .dataframe tbody tr th {\n        vertical-align: top;\n    }\n\n    .dataframe thead th {\n        text-align: right;\n    }\n</style>\n<table border=\"1\" class=\"dataframe\">\n  <thead>\n    <tr style=\"text-align: right;\">\n      <th></th>\n      <th>soundex</th>\n      <th>paciente</th>\n    </tr>\n  </thead>\n  <tbody>\n    <tr>\n      <th>1280859</th>\n      <td>1SRDRGSDZV</td>\n      <td>LHAIS RODRIGUES DA SILVA</td>\n    </tr>\n    <tr>\n      <th>1746721</th>\n      <td>21NRKRBSMSD</td>\n      <td>RAUL HENRIQUE RIBAS MACEDO</td>\n    </tr>\n    <tr>\n      <th>1763050</th>\n      <td>21RSLVNTR</td>\n      <td>RAUL HERCILIO VENTURA</td>\n    </tr>\n    <tr>\n      <th>1685286</th>\n      <td>21RSLVNTRJN2</td>\n      <td>RAUL HERCILIO VENTURA JUNIOR</td>\n    </tr>\n    <tr>\n      <th>1026569</th>\n      <td>23DSTFNSJN2</td>\n      <td>REINHOLD STEPHANES JUNIOR</td>\n    </tr>\n    <tr>\n      <th>1724455</th>\n      <td>23NMLRBR</td>\n      <td>RAYNHANA MAELLY RIBEIRO</td>\n    </tr>\n    <tr>\n      <th>1214751</th>\n      <td>23NRKDZV</td>\n      <td>RUAN HENRIQUE DA SILVA</td>\n    </tr>\n    <tr>\n      <th>1154923</th>\n      <td>23NRKKRPMNSPR</td>\n      <td>RYAN HENRIQUE KROPMANNS PIERI</td>\n    </tr>\n    <tr>\n      <th>1734250</th>\n      <td>23NRKKRPMNSPR</td>\n      <td>RYAN HENRIQUE KROPMANNS PIERI</td>\n    </tr>\n    <tr>\n      <th>1128058</th>\n      <td>23NRKRDRGSDZV</td>\n      <td>RYAN HENRYQUE RODRIGUES DA SILVA</td>\n    </tr>\n  </tbody>\n</table>\n</div>"
     },
     "metadata": {},
     "execution_count": 5
    }
   ],
   "source": [
    "timer.start()\n",
    "\n",
    "pacientes = { 'pacientes': casosn['paciente'].apply(normalize_hash).values.tolist() }\n",
    "with open('pacientes.json', 'w') as json_file:\n",
    "  json.dump(pacientes, json_file)\n",
    "\n",
    "subprocess.call((\"node\", 'soundex.js'))\n",
    "\n",
    "with open('pacientes_soundex.json', 'r') as json_file:\n",
    "  pacientes = json.load(json_file)\n",
    "\n",
    "casosn['soundex'] = pacientes\n",
    "casosn = casosn.sort_values('soundex')\n",
    "\n",
    "timer.stop()\n",
    "print('soundex: ',timer.ftime())"
   ]
  },
  {
   "cell_type": "code",
   "execution_count": 6,
   "metadata": {},
   "outputs": [
    {
     "output_type": "stream",
     "name": "stdout",
     "text": [
      "00:00:00.551\n"
     ]
    },
    {
     "output_type": "execute_result",
     "data": {
      "text/plain": [
       "                                                                                                                                                       count\n",
       "soundex      paciente                        idade ibge_unidade_notifica ibge_residencia data_nascimento nome_mae                         cpf               \n",
       "JVKTRDMBKRJ  JOAO VICTOR DEMBICKI ARAUJO     28    410420                410690          1992-05-05      ELIANE APARECIDA DEMBICKI ARAUJO 07609193992      6\n",
       "ELZSPK       ELOISE SPILKA                   29    410690                410690          1991-07-04      ALVANEZ MARIOT SPILKA            06239631914      5\n",
       "SMPRRDZVDLM  SIMEIA PEREIRA DA SILVA DE LIMA 39    410420                410690          1981-11-01      DELAIR DE JESUS ANDRADE SILVA    04862225942      5\n",
       "MNLKNSRTR    MANUELLE QUINES SARTORI         28    410690                410690          1992-10-08      ADRIANE QUINES SARTORI           08805778940      5\n",
       "JKLNBRKDSNTS JAKLINE BROCO DOS SANTOS        30    410690                410690          1990-09-26      NILVA DE FATIMA BROCO            07407421919      5\n",
       "...                                                                                                                                                      ...\n",
       "FLPLVRPNTS   FELIPE OLIVEIRA PONTES          17    410690                410690          2003-02-17      EDILAINE DE OLIVEIRA             12921621983      1\n",
       "FLPLVRDS     FELYP OLIVEIRA DIAS             27    410690                410690          1993-03-20      MARIA DA CONCEICAO OLIVEIRA DIAS 07959250936      1\n",
       "FLPLTKRSTN   FELIPE LEITE CRISTINO           27    999999                410690          1993-06-20      GLACI LEITE CRISTINO             08596303901      1\n",
       "FLPLTDZV     FELIPE LEITE DA SILVA           27    410180                410690          1993-07-18      ADRIANA LEITE DA SILVA           11025626966      1\n",
       "ZZTNRBRTDZV  ZEZITO NORBERTO DA SILVA        41    410690                410690          1979-03-10      BENEDITA MARIA DA CONCEICAO      05300441457      1\n",
       "\n",
       "[77968 rows x 1 columns]"
      ],
      "text/html": "<div>\n<style scoped>\n    .dataframe tbody tr th:only-of-type {\n        vertical-align: middle;\n    }\n\n    .dataframe tbody tr th {\n        vertical-align: top;\n    }\n\n    .dataframe thead th {\n        text-align: right;\n    }\n</style>\n<table border=\"1\" class=\"dataframe\">\n  <thead>\n    <tr style=\"text-align: right;\">\n      <th></th>\n      <th></th>\n      <th></th>\n      <th></th>\n      <th></th>\n      <th></th>\n      <th></th>\n      <th></th>\n      <th>count</th>\n    </tr>\n    <tr>\n      <th>soundex</th>\n      <th>paciente</th>\n      <th>idade</th>\n      <th>ibge_unidade_notifica</th>\n      <th>ibge_residencia</th>\n      <th>data_nascimento</th>\n      <th>nome_mae</th>\n      <th>cpf</th>\n      <th></th>\n    </tr>\n  </thead>\n  <tbody>\n    <tr>\n      <th>JVKTRDMBKRJ</th>\n      <th>JOAO VICTOR DEMBICKI ARAUJO</th>\n      <th>28</th>\n      <th>410420</th>\n      <th>410690</th>\n      <th>1992-05-05</th>\n      <th>ELIANE APARECIDA DEMBICKI ARAUJO</th>\n      <th>07609193992</th>\n      <td>6</td>\n    </tr>\n    <tr>\n      <th>ELZSPK</th>\n      <th>ELOISE SPILKA</th>\n      <th>29</th>\n      <th>410690</th>\n      <th>410690</th>\n      <th>1991-07-04</th>\n      <th>ALVANEZ MARIOT SPILKA</th>\n      <th>06239631914</th>\n      <td>5</td>\n    </tr>\n    <tr>\n      <th>SMPRRDZVDLM</th>\n      <th>SIMEIA PEREIRA DA SILVA DE LIMA</th>\n      <th>39</th>\n      <th>410420</th>\n      <th>410690</th>\n      <th>1981-11-01</th>\n      <th>DELAIR DE JESUS ANDRADE SILVA</th>\n      <th>04862225942</th>\n      <td>5</td>\n    </tr>\n    <tr>\n      <th>MNLKNSRTR</th>\n      <th>MANUELLE QUINES SARTORI</th>\n      <th>28</th>\n      <th>410690</th>\n      <th>410690</th>\n      <th>1992-10-08</th>\n      <th>ADRIANE QUINES SARTORI</th>\n      <th>08805778940</th>\n      <td>5</td>\n    </tr>\n    <tr>\n      <th>JKLNBRKDSNTS</th>\n      <th>JAKLINE BROCO DOS SANTOS</th>\n      <th>30</th>\n      <th>410690</th>\n      <th>410690</th>\n      <th>1990-09-26</th>\n      <th>NILVA DE FATIMA BROCO</th>\n      <th>07407421919</th>\n      <td>5</td>\n    </tr>\n    <tr>\n      <th>...</th>\n      <th>...</th>\n      <th>...</th>\n      <th>...</th>\n      <th>...</th>\n      <th>...</th>\n      <th>...</th>\n      <th>...</th>\n      <td>...</td>\n    </tr>\n    <tr>\n      <th>FLPLVRPNTS</th>\n      <th>FELIPE OLIVEIRA PONTES</th>\n      <th>17</th>\n      <th>410690</th>\n      <th>410690</th>\n      <th>2003-02-17</th>\n      <th>EDILAINE DE OLIVEIRA</th>\n      <th>12921621983</th>\n      <td>1</td>\n    </tr>\n    <tr>\n      <th>FLPLVRDS</th>\n      <th>FELYP OLIVEIRA DIAS</th>\n      <th>27</th>\n      <th>410690</th>\n      <th>410690</th>\n      <th>1993-03-20</th>\n      <th>MARIA DA CONCEICAO OLIVEIRA DIAS</th>\n      <th>07959250936</th>\n      <td>1</td>\n    </tr>\n    <tr>\n      <th>FLPLTKRSTN</th>\n      <th>FELIPE LEITE CRISTINO</th>\n      <th>27</th>\n      <th>999999</th>\n      <th>410690</th>\n      <th>1993-06-20</th>\n      <th>GLACI LEITE CRISTINO</th>\n      <th>08596303901</th>\n      <td>1</td>\n    </tr>\n    <tr>\n      <th>FLPLTDZV</th>\n      <th>FELIPE LEITE DA SILVA</th>\n      <th>27</th>\n      <th>410180</th>\n      <th>410690</th>\n      <th>1993-07-18</th>\n      <th>ADRIANA LEITE DA SILVA</th>\n      <th>11025626966</th>\n      <td>1</td>\n    </tr>\n    <tr>\n      <th>ZZTNRBRTDZV</th>\n      <th>ZEZITO NORBERTO DA SILVA</th>\n      <th>41</th>\n      <th>410690</th>\n      <th>410690</th>\n      <th>1979-03-10</th>\n      <th>BENEDITA MARIA DA CONCEICAO</th>\n      <th>05300441457</th>\n      <td>1</td>\n    </tr>\n  </tbody>\n</table>\n<p>77968 rows × 1 columns</p>\n</div>"
     },
     "metadata": {},
     "execution_count": 6
    }
   ],
   "source": [
    "timer.start()\n",
    "\n",
    "keys = ['soundex','paciente','idade','ibge_unidade_notifica','ibge_residencia','data_nascimento','nome_mae','cpf','id']\n",
    "\n",
    "casosn_hash = casosn[keys+['status_notificacao','classificacao_final','metodo','evolucao']]\n",
    "casos_agrupados = casosn_hash.sort_values('soundex').groupby(keys[:-1])\n",
    "casos_agrupados_count = casos_agrupados[['id']].count().rename(columns={'id':'count'}).sort_values('count', ascending=False)\n",
    "casos_agrupados_count.to_csv('casos_agrupados_count.csv')\n",
    "\n",
    "timer.stop()\n",
    "print('casos_agrupados_count: ',timer.ftime())"
   ]
  },
  {
   "cell_type": "code",
   "execution_count": 11,
   "metadata": {},
   "outputs": [
    {
     "output_type": "stream",
     "name": "stderr",
     "text": [
      "/home/vincslg/.local/lib/python3.9/site-packages/IPython/core/interactiveshell.py:2894: PerformanceWarning: indexing past lexsort depth may impact performance.\n",
      "  result = self._run_cell(\n",
      "00:02:10.210\n"
     ]
    },
    {
     "output_type": "execute_result",
     "data": {
      "text/plain": [
       "                                                                                                                                                                                                     ids  \\\n",
       "soundex      paciente                        idade ibge_unidade_notifica ibge_residencia data_nascimento nome_mae                         cpf                                                              \n",
       "JVKTRDMBKRJ  JOAO VICTOR DEMBICKI ARAUJO     28    410420                410690          1992-05-05      ELIANE APARECIDA DEMBICKI ARAUJO 07609193992  [502441, 743165, 1032469, 1683854, 1508122, 12...   \n",
       "ELZSPK       ELOISE SPILKA                   29    410690                410690          1991-07-04      ALVANEZ MARIOT SPILKA            06239631914      [2089325, 1299358, 2140794, 2065074, 1685532]   \n",
       "SMPRRDZVDLM  SIMEIA PEREIRA DA SILVA DE LIMA 39    410420                410690          1981-11-01      DELAIR DE JESUS ANDRADE SILVA    04862225942      [1956098, 1917232, 1987194, 1798516, 1875349]   \n",
       "MNLKNSRTR    MANUELLE QUINES SARTORI         28    410690                410690          1992-10-08      ADRIANE QUINES SARTORI           08805778940      [1669737, 2009732, 2104715, 1669154, 2104792]   \n",
       "JKLNBRKDSNTS JAKLINE BROCO DOS SANTOS        30    410690                410690          1990-09-26      NILVA DE FATIMA BROCO            07407421919      [1333676, 1335606, 1694921, 1574803, 1531127]   \n",
       "...                                                                                                                                                                                                  ...   \n",
       "FLPLVRPNTS   FELIPE OLIVEIRA PONTES          17    410690                410690          2003-02-17      EDILAINE DE OLIVEIRA             12921621983                                          [1145528]   \n",
       "FLPLVRDS     FELYP OLIVEIRA DIAS             27    410690                410690          1993-03-20      MARIA DA CONCEICAO OLIVEIRA DIAS 07959250936                                           [524788]   \n",
       "FLPLTKRSTN   FELIPE LEITE CRISTINO           27    999999                410690          1993-06-20      GLACI LEITE CRISTINO             08596303901                                          [1655998]   \n",
       "FLPLTDZV     FELIPE LEITE DA SILVA           27    410180                410690          1993-07-18      ADRIANA LEITE DA SILVA           11025626966                                          [1186027]   \n",
       "ZZTNRBRTDZV  ZEZITO NORBERTO DA SILVA        41    410690                410690          1979-03-10      BENEDITA MARIA DA CONCEICAO      05300441457                                           [538546]   \n",
       "\n",
       "                                                                                                                                                       status_notificacao  \\\n",
       "soundex      paciente                        idade ibge_unidade_notifica ibge_residencia data_nascimento nome_mae                         cpf                               \n",
       "JVKTRDMBKRJ  JOAO VICTOR DEMBICKI ARAUJO     28    410420                410690          1992-05-05      ELIANE APARECIDA DEMBICKI ARAUJO 07609193992  [3, 3, 3, 3, 2, 3]   \n",
       "ELZSPK       ELOISE SPILKA                   29    410690                410690          1991-07-04      ALVANEZ MARIOT SPILKA            06239631914     [3, 3, 2, 3, 3]   \n",
       "SMPRRDZVDLM  SIMEIA PEREIRA DA SILVA DE LIMA 39    410420                410690          1981-11-01      DELAIR DE JESUS ANDRADE SILVA    04862225942     [3, 3, 1, 3, 3]   \n",
       "MNLKNSRTR    MANUELLE QUINES SARTORI         28    410690                410690          1992-10-08      ADRIANE QUINES SARTORI           08805778940     [3, 3, 3, 3, 1]   \n",
       "JKLNBRKDSNTS JAKLINE BROCO DOS SANTOS        30    410690                410690          1990-09-26      NILVA DE FATIMA BROCO            07407421919     [3, 3, 2, 3, 3]   \n",
       "...                                                                                                                                                                   ...   \n",
       "FLPLVRPNTS   FELIPE OLIVEIRA PONTES          17    410690                410690          2003-02-17      EDILAINE DE OLIVEIRA             12921621983                 [1]   \n",
       "FLPLVRDS     FELYP OLIVEIRA DIAS             27    410690                410690          1993-03-20      MARIA DA CONCEICAO OLIVEIRA DIAS 07959250936                 [1]   \n",
       "FLPLTKRSTN   FELIPE LEITE CRISTINO           27    999999                410690          1993-06-20      GLACI LEITE CRISTINO             08596303901                 [1]   \n",
       "FLPLTDZV     FELIPE LEITE DA SILVA           27    410180                410690          1993-07-18      ADRIANA LEITE DA SILVA           11025626966                 [2]   \n",
       "ZZTNRBRTDZV  ZEZITO NORBERTO DA SILVA        41    410690                410690          1979-03-10      BENEDITA MARIA DA CONCEICAO      05300441457                 [1]   \n",
       "\n",
       "                                                                                                                                                      classificacao_final  \\\n",
       "soundex      paciente                        idade ibge_unidade_notifica ibge_residencia data_nascimento nome_mae                         cpf                               \n",
       "JVKTRDMBKRJ  JOAO VICTOR DEMBICKI ARAUJO     28    410420                410690          1992-05-05      ELIANE APARECIDA DEMBICKI ARAUJO 07609193992  [2, 2, 2, 2, 2, 2]   \n",
       "ELZSPK       ELOISE SPILKA                   29    410690                410690          1991-07-04      ALVANEZ MARIOT SPILKA            06239631914     [2, 2, 2, 2, 2]   \n",
       "SMPRRDZVDLM  SIMEIA PEREIRA DA SILVA DE LIMA 39    410420                410690          1981-11-01      DELAIR DE JESUS ANDRADE SILVA    04862225942     [2, 2, 2, 2, 2]   \n",
       "MNLKNSRTR    MANUELLE QUINES SARTORI         28    410690                410690          1992-10-08      ADRIANE QUINES SARTORI           08805778940     [2, 2, 2, 2, 2]   \n",
       "JKLNBRKDSNTS JAKLINE BROCO DOS SANTOS        30    410690                410690          1990-09-26      NILVA DE FATIMA BROCO            07407421919     [2, 2, 2, 2, 2]   \n",
       "...                                                                                                                                                                   ...   \n",
       "FLPLVRPNTS   FELIPE OLIVEIRA PONTES          17    410690                410690          2003-02-17      EDILAINE DE OLIVEIRA             12921621983                 [2]   \n",
       "FLPLVRDS     FELYP OLIVEIRA DIAS             27    410690                410690          1993-03-20      MARIA DA CONCEICAO OLIVEIRA DIAS 07959250936                 [2]   \n",
       "FLPLTKRSTN   FELIPE LEITE CRISTINO           27    999999                410690          1993-06-20      GLACI LEITE CRISTINO             08596303901                 [2]   \n",
       "FLPLTDZV     FELIPE LEITE DA SILVA           27    410180                410690          1993-07-18      ADRIANA LEITE DA SILVA           11025626966                 [2]   \n",
       "ZZTNRBRTDZV  ZEZITO NORBERTO DA SILVA        41    410690                410690          1979-03-10      BENEDITA MARIA DA CONCEICAO      05300441457                 [2]   \n",
       "\n",
       "                                                                                                                                                                   metodo  \\\n",
       "soundex      paciente                        idade ibge_unidade_notifica ibge_residencia data_nascimento nome_mae                         cpf                               \n",
       "JVKTRDMBKRJ  JOAO VICTOR DEMBICKI ARAUJO     28    410420                410690          1992-05-05      ELIANE APARECIDA DEMBICKI ARAUJO 07609193992  [3, 2, 2, 6, 2, 2]   \n",
       "ELZSPK       ELOISE SPILKA                   29    410690                410690          1991-07-04      ALVANEZ MARIOT SPILKA            06239631914     [1, 3, 1, 1, 1]   \n",
       "SMPRRDZVDLM  SIMEIA PEREIRA DA SILVA DE LIMA 39    410420                410690          1981-11-01      DELAIR DE JESUS ANDRADE SILVA    04862225942     [6, 6, 6, 6, 6]   \n",
       "MNLKNSRTR    MANUELLE QUINES SARTORI         28    410690                410690          1992-10-08      ADRIANE QUINES SARTORI           08805778940     [1, 1, 1, 1, 1]   \n",
       "JKLNBRKDSNTS JAKLINE BROCO DOS SANTOS        30    410690                410690          1990-09-26      NILVA DE FATIMA BROCO            07407421919     [1, 3, 1, 1, 1]   \n",
       "...                                                                                                                                                                   ...   \n",
       "FLPLVRPNTS   FELIPE OLIVEIRA PONTES          17    410690                410690          2003-02-17      EDILAINE DE OLIVEIRA             12921621983                 [1]   \n",
       "FLPLVRDS     FELYP OLIVEIRA DIAS             27    410690                410690          1993-03-20      MARIA DA CONCEICAO OLIVEIRA DIAS 07959250936                 [1]   \n",
       "FLPLTKRSTN   FELIPE LEITE CRISTINO           27    999999                410690          1993-06-20      GLACI LEITE CRISTINO             08596303901                 [1]   \n",
       "FLPLTDZV     FELIPE LEITE DA SILVA           27    410180                410690          1993-07-18      ADRIANA LEITE DA SILVA           11025626966                 [1]   \n",
       "ZZTNRBRTDZV  ZEZITO NORBERTO DA SILVA        41    410690                410690          1979-03-10      BENEDITA MARIA DA CONCEICAO      05300441457                 [1]   \n",
       "\n",
       "                                                                                                                                                                 evolucao  \n",
       "soundex      paciente                        idade ibge_unidade_notifica ibge_residencia data_nascimento nome_mae                         cpf                              \n",
       "JVKTRDMBKRJ  JOAO VICTOR DEMBICKI ARAUJO     28    410420                410690          1992-05-05      ELIANE APARECIDA DEMBICKI ARAUJO 07609193992  [3, 1, 3, 3, 3, 1]  \n",
       "ELZSPK       ELOISE SPILKA                   29    410690                410690          1991-07-04      ALVANEZ MARIOT SPILKA            06239631914     [3, 3, 3, 3, 3]  \n",
       "SMPRRDZVDLM  SIMEIA PEREIRA DA SILVA DE LIMA 39    410420                410690          1981-11-01      DELAIR DE JESUS ANDRADE SILVA    04862225942     [3, 3, 3, 3, 3]  \n",
       "MNLKNSRTR    MANUELLE QUINES SARTORI         28    410690                410690          1992-10-08      ADRIANE QUINES SARTORI           08805778940     [3, 3, 1, 1, 3]  \n",
       "JKLNBRKDSNTS JAKLINE BROCO DOS SANTOS        30    410690                410690          1990-09-26      NILVA DE FATIMA BROCO            07407421919     [3, 3, 3, 3, 3]  \n",
       "...                                                                                                                                                                   ...  \n",
       "FLPLVRPNTS   FELIPE OLIVEIRA PONTES          17    410690                410690          2003-02-17      EDILAINE DE OLIVEIRA             12921621983                 [3]  \n",
       "FLPLVRDS     FELYP OLIVEIRA DIAS             27    410690                410690          1993-03-20      MARIA DA CONCEICAO OLIVEIRA DIAS 07959250936                 [3]  \n",
       "FLPLTKRSTN   FELIPE LEITE CRISTINO           27    999999                410690          1993-06-20      GLACI LEITE CRISTINO             08596303901                 [3]  \n",
       "FLPLTDZV     FELIPE LEITE DA SILVA           27    410180                410690          1993-07-18      ADRIANA LEITE DA SILVA           11025626966                 [1]  \n",
       "ZZTNRBRTDZV  ZEZITO NORBERTO DA SILVA        41    410690                410690          1979-03-10      BENEDITA MARIA DA CONCEICAO      05300441457                 [3]  \n",
       "\n",
       "[77968 rows x 5 columns]"
      ],
      "text/html": "<div>\n<style scoped>\n    .dataframe tbody tr th:only-of-type {\n        vertical-align: middle;\n    }\n\n    .dataframe tbody tr th {\n        vertical-align: top;\n    }\n\n    .dataframe thead th {\n        text-align: right;\n    }\n</style>\n<table border=\"1\" class=\"dataframe\">\n  <thead>\n    <tr style=\"text-align: right;\">\n      <th></th>\n      <th></th>\n      <th></th>\n      <th></th>\n      <th></th>\n      <th></th>\n      <th></th>\n      <th></th>\n      <th>ids</th>\n      <th>status_notificacao</th>\n      <th>classificacao_final</th>\n      <th>metodo</th>\n      <th>evolucao</th>\n    </tr>\n    <tr>\n      <th>soundex</th>\n      <th>paciente</th>\n      <th>idade</th>\n      <th>ibge_unidade_notifica</th>\n      <th>ibge_residencia</th>\n      <th>data_nascimento</th>\n      <th>nome_mae</th>\n      <th>cpf</th>\n      <th></th>\n      <th></th>\n      <th></th>\n      <th></th>\n      <th></th>\n    </tr>\n  </thead>\n  <tbody>\n    <tr>\n      <th>JVKTRDMBKRJ</th>\n      <th>JOAO VICTOR DEMBICKI ARAUJO</th>\n      <th>28</th>\n      <th>410420</th>\n      <th>410690</th>\n      <th>1992-05-05</th>\n      <th>ELIANE APARECIDA DEMBICKI ARAUJO</th>\n      <th>07609193992</th>\n      <td>[502441, 743165, 1032469, 1683854, 1508122, 12...</td>\n      <td>[3, 3, 3, 3, 2, 3]</td>\n      <td>[2, 2, 2, 2, 2, 2]</td>\n      <td>[3, 2, 2, 6, 2, 2]</td>\n      <td>[3, 1, 3, 3, 3, 1]</td>\n    </tr>\n    <tr>\n      <th>ELZSPK</th>\n      <th>ELOISE SPILKA</th>\n      <th>29</th>\n      <th>410690</th>\n      <th>410690</th>\n      <th>1991-07-04</th>\n      <th>ALVANEZ MARIOT SPILKA</th>\n      <th>06239631914</th>\n      <td>[2089325, 1299358, 2140794, 2065074, 1685532]</td>\n      <td>[3, 3, 2, 3, 3]</td>\n      <td>[2, 2, 2, 2, 2]</td>\n      <td>[1, 3, 1, 1, 1]</td>\n      <td>[3, 3, 3, 3, 3]</td>\n    </tr>\n    <tr>\n      <th>SMPRRDZVDLM</th>\n      <th>SIMEIA PEREIRA DA SILVA DE LIMA</th>\n      <th>39</th>\n      <th>410420</th>\n      <th>410690</th>\n      <th>1981-11-01</th>\n      <th>DELAIR DE JESUS ANDRADE SILVA</th>\n      <th>04862225942</th>\n      <td>[1956098, 1917232, 1987194, 1798516, 1875349]</td>\n      <td>[3, 3, 1, 3, 3]</td>\n      <td>[2, 2, 2, 2, 2]</td>\n      <td>[6, 6, 6, 6, 6]</td>\n      <td>[3, 3, 3, 3, 3]</td>\n    </tr>\n    <tr>\n      <th>MNLKNSRTR</th>\n      <th>MANUELLE QUINES SARTORI</th>\n      <th>28</th>\n      <th>410690</th>\n      <th>410690</th>\n      <th>1992-10-08</th>\n      <th>ADRIANE QUINES SARTORI</th>\n      <th>08805778940</th>\n      <td>[1669737, 2009732, 2104715, 1669154, 2104792]</td>\n      <td>[3, 3, 3, 3, 1]</td>\n      <td>[2, 2, 2, 2, 2]</td>\n      <td>[1, 1, 1, 1, 1]</td>\n      <td>[3, 3, 1, 1, 3]</td>\n    </tr>\n    <tr>\n      <th>JKLNBRKDSNTS</th>\n      <th>JAKLINE BROCO DOS SANTOS</th>\n      <th>30</th>\n      <th>410690</th>\n      <th>410690</th>\n      <th>1990-09-26</th>\n      <th>NILVA DE FATIMA BROCO</th>\n      <th>07407421919</th>\n      <td>[1333676, 1335606, 1694921, 1574803, 1531127]</td>\n      <td>[3, 3, 2, 3, 3]</td>\n      <td>[2, 2, 2, 2, 2]</td>\n      <td>[1, 3, 1, 1, 1]</td>\n      <td>[3, 3, 3, 3, 3]</td>\n    </tr>\n    <tr>\n      <th>...</th>\n      <th>...</th>\n      <th>...</th>\n      <th>...</th>\n      <th>...</th>\n      <th>...</th>\n      <th>...</th>\n      <th>...</th>\n      <td>...</td>\n      <td>...</td>\n      <td>...</td>\n      <td>...</td>\n      <td>...</td>\n    </tr>\n    <tr>\n      <th>FLPLVRPNTS</th>\n      <th>FELIPE OLIVEIRA PONTES</th>\n      <th>17</th>\n      <th>410690</th>\n      <th>410690</th>\n      <th>2003-02-17</th>\n      <th>EDILAINE DE OLIVEIRA</th>\n      <th>12921621983</th>\n      <td>[1145528]</td>\n      <td>[1]</td>\n      <td>[2]</td>\n      <td>[1]</td>\n      <td>[3]</td>\n    </tr>\n    <tr>\n      <th>FLPLVRDS</th>\n      <th>FELYP OLIVEIRA DIAS</th>\n      <th>27</th>\n      <th>410690</th>\n      <th>410690</th>\n      <th>1993-03-20</th>\n      <th>MARIA DA CONCEICAO OLIVEIRA DIAS</th>\n      <th>07959250936</th>\n      <td>[524788]</td>\n      <td>[1]</td>\n      <td>[2]</td>\n      <td>[1]</td>\n      <td>[3]</td>\n    </tr>\n    <tr>\n      <th>FLPLTKRSTN</th>\n      <th>FELIPE LEITE CRISTINO</th>\n      <th>27</th>\n      <th>999999</th>\n      <th>410690</th>\n      <th>1993-06-20</th>\n      <th>GLACI LEITE CRISTINO</th>\n      <th>08596303901</th>\n      <td>[1655998]</td>\n      <td>[1]</td>\n      <td>[2]</td>\n      <td>[1]</td>\n      <td>[3]</td>\n    </tr>\n    <tr>\n      <th>FLPLTDZV</th>\n      <th>FELIPE LEITE DA SILVA</th>\n      <th>27</th>\n      <th>410180</th>\n      <th>410690</th>\n      <th>1993-07-18</th>\n      <th>ADRIANA LEITE DA SILVA</th>\n      <th>11025626966</th>\n      <td>[1186027]</td>\n      <td>[2]</td>\n      <td>[2]</td>\n      <td>[1]</td>\n      <td>[1]</td>\n    </tr>\n    <tr>\n      <th>ZZTNRBRTDZV</th>\n      <th>ZEZITO NORBERTO DA SILVA</th>\n      <th>41</th>\n      <th>410690</th>\n      <th>410690</th>\n      <th>1979-03-10</th>\n      <th>BENEDITA MARIA DA CONCEICAO</th>\n      <th>05300441457</th>\n      <td>[538546]</td>\n      <td>[1]</td>\n      <td>[2]</td>\n      <td>[1]</td>\n      <td>[3]</td>\n    </tr>\n  </tbody>\n</table>\n<p>77968 rows × 5 columns</p>\n</div>"
     },
     "metadata": {},
     "execution_count": 11
    }
   ],
   "source": [
    "timer.start()\n",
    "\n",
    "pacientes = pd.DataFrame(index=casos_agrupados_count.index,columns=['ids','status_notificacao','classificacao_final','metodo','evolucao'], data=[])\n",
    "\n",
    "for idx,df in casos_agrupados:\n",
    "    pacientes.loc[idx,'ids'] = [ x for x in df['id'].values ]\n",
    "    pacientes.loc[idx,'status_notificacao'] = [ x for x in df['status_notificacao'].values ]\n",
    "    pacientes.loc[idx,'classificacao_final'] = [ x for x in df['classificacao_final'].values ]\n",
    "    pacientes.loc[idx,'metodo'] = [ x for x in df['metodo'].values ]\n",
    "    pacientes.loc[idx,'evolucao'] = [ x for x in df['evolucao'].values ]\n",
    "\n",
    "pacientes.to_csv('pacientes.csv')\n",
    "timer.stop()\n",
    "print(f'pacientes ({len(pacientes)}): ',timer.ftime())"
   ]
  },
  {
   "cell_type": "code",
   "execution_count": 8,
   "metadata": {},
   "outputs": [
    {
     "output_type": "execute_result",
     "data": {
      "text/plain": [
       "                                                                                                                                                                                                             ids  \\\n",
       "soundex          paciente                        idade ibge_unidade_notifica ibge_residencia data_nascimento nome_mae                             cpf                                                              \n",
       "JVKTRDMBKRJ      JOAO VICTOR DEMBICKI ARAUJO     28    410420                410690          1992-05-05      ELIANE APARECIDA DEMBICKI ARAUJO     07609193992  [502441, 743165, 1032469, 1683854, 1508122, 12...   \n",
       "ELZSPK           ELOISE SPILKA                   29    410690                410690          1991-07-04      ALVANEZ MARIOT SPILKA                06239631914      [2089325, 1299358, 2140794, 2065074, 1685532]   \n",
       "SMPRRDZVDLM      SIMEIA PEREIRA DA SILVA DE LIMA 39    410420                410690          1981-11-01      DELAIR DE JESUS ANDRADE SILVA        04862225942      [1956098, 1917232, 1987194, 1798516, 1875349]   \n",
       "MNLKNSRTR        MANUELLE QUINES SARTORI         28    410690                410690          1992-10-08      ADRIANE QUINES SARTORI               08805778940      [1669737, 2009732, 2104715, 1669154, 2104792]   \n",
       "JKLNBRKDSNTS     JAKLINE BROCO DOS SANTOS        30    410690                410690          1990-09-26      NILVA DE FATIMA BROCO                07407421919      [1333676, 1335606, 1694921, 1574803, 1531127]   \n",
       "...                                                                                                                                                                                                          ...   \n",
       "ASNDZNKDRM       ALCINDA SANCAO DARIN            82    410690                410690          1937-08-25      FRANCISCA DIAS DE ARRUDA             63151502920                                   [580926, 555368]   \n",
       "KLDMRF2RDSNTS    CLAUDIMIR FERREIRA DOS SANTOS   32    410690                410690          1988-08-02      ROSELI DE FATIMA FERREIRA DOS SANTOS 01043830979                                 [1355505, 1417246]   \n",
       "2BRTDZZDZV       ROBERTO DE SOUZA DA SILVA       56    410690                410690          1964-08-26      ANESIA DE SOUZA DA SILVA             65733142987                                 [1418122, 1676855]   \n",
       "KRLNBRJS         KAROLINE BORGES                 18    410690                410690          2001-08-22      ELZA APARECIDA BORGES                01220435295                                 [2690567, 2690772]   \n",
       "MRSLFRNSSKJRDVLS MARCELO FRANCISCO JORDAO AVILES 22    410690                410690          1998-10-22      NADIA SOLANGE TEIXEIRA JORDAO        47576531827                                 [1267835, 1317286]   \n",
       "\n",
       "                                                                                                                                                               status_notificacao  \\\n",
       "soundex          paciente                        idade ibge_unidade_notifica ibge_residencia data_nascimento nome_mae                             cpf                               \n",
       "JVKTRDMBKRJ      JOAO VICTOR DEMBICKI ARAUJO     28    410420                410690          1992-05-05      ELIANE APARECIDA DEMBICKI ARAUJO     07609193992  [3, 3, 3, 3, 2, 3]   \n",
       "ELZSPK           ELOISE SPILKA                   29    410690                410690          1991-07-04      ALVANEZ MARIOT SPILKA                06239631914     [3, 3, 2, 3, 3]   \n",
       "SMPRRDZVDLM      SIMEIA PEREIRA DA SILVA DE LIMA 39    410420                410690          1981-11-01      DELAIR DE JESUS ANDRADE SILVA        04862225942     [3, 3, 1, 3, 3]   \n",
       "MNLKNSRTR        MANUELLE QUINES SARTORI         28    410690                410690          1992-10-08      ADRIANE QUINES SARTORI               08805778940     [3, 3, 3, 3, 1]   \n",
       "JKLNBRKDSNTS     JAKLINE BROCO DOS SANTOS        30    410690                410690          1990-09-26      NILVA DE FATIMA BROCO                07407421919     [3, 3, 2, 3, 3]   \n",
       "...                                                                                                                                                                           ...   \n",
       "ASNDZNKDRM       ALCINDA SANCAO DARIN            82    410690                410690          1937-08-25      FRANCISCA DIAS DE ARRUDA             63151502920              [1, 3]   \n",
       "KLDMRF2RDSNTS    CLAUDIMIR FERREIRA DOS SANTOS   32    410690                410690          1988-08-02      ROSELI DE FATIMA FERREIRA DOS SANTOS 01043830979              [3, 1]   \n",
       "2BRTDZZDZV       ROBERTO DE SOUZA DA SILVA       56    410690                410690          1964-08-26      ANESIA DE SOUZA DA SILVA             65733142987              [2, 3]   \n",
       "KRLNBRJS         KAROLINE BORGES                 18    410690                410690          2001-08-22      ELZA APARECIDA BORGES                01220435295              [2, 3]   \n",
       "MRSLFRNSSKJRDVLS MARCELO FRANCISCO JORDAO AVILES 22    410690                410690          1998-10-22      NADIA SOLANGE TEIXEIRA JORDAO        47576531827              [3, 1]   \n",
       "\n",
       "                                                                                                                                                              classificacao_final  \\\n",
       "soundex          paciente                        idade ibge_unidade_notifica ibge_residencia data_nascimento nome_mae                             cpf                               \n",
       "JVKTRDMBKRJ      JOAO VICTOR DEMBICKI ARAUJO     28    410420                410690          1992-05-05      ELIANE APARECIDA DEMBICKI ARAUJO     07609193992  [2, 2, 2, 2, 2, 2]   \n",
       "ELZSPK           ELOISE SPILKA                   29    410690                410690          1991-07-04      ALVANEZ MARIOT SPILKA                06239631914     [2, 2, 2, 2, 2]   \n",
       "SMPRRDZVDLM      SIMEIA PEREIRA DA SILVA DE LIMA 39    410420                410690          1981-11-01      DELAIR DE JESUS ANDRADE SILVA        04862225942     [2, 2, 2, 2, 2]   \n",
       "MNLKNSRTR        MANUELLE QUINES SARTORI         28    410690                410690          1992-10-08      ADRIANE QUINES SARTORI               08805778940     [2, 2, 2, 2, 2]   \n",
       "JKLNBRKDSNTS     JAKLINE BROCO DOS SANTOS        30    410690                410690          1990-09-26      NILVA DE FATIMA BROCO                07407421919     [2, 2, 2, 2, 2]   \n",
       "...                                                                                                                                                                           ...   \n",
       "ASNDZNKDRM       ALCINDA SANCAO DARIN            82    410690                410690          1937-08-25      FRANCISCA DIAS DE ARRUDA             63151502920              [2, 2]   \n",
       "KLDMRF2RDSNTS    CLAUDIMIR FERREIRA DOS SANTOS   32    410690                410690          1988-08-02      ROSELI DE FATIMA FERREIRA DOS SANTOS 01043830979              [2, 2]   \n",
       "2BRTDZZDZV       ROBERTO DE SOUZA DA SILVA       56    410690                410690          1964-08-26      ANESIA DE SOUZA DA SILVA             65733142987              [2, 2]   \n",
       "KRLNBRJS         KAROLINE BORGES                 18    410690                410690          2001-08-22      ELZA APARECIDA BORGES                01220435295              [2, 2]   \n",
       "MRSLFRNSSKJRDVLS MARCELO FRANCISCO JORDAO AVILES 22    410690                410690          1998-10-22      NADIA SOLANGE TEIXEIRA JORDAO        47576531827              [2, 2]   \n",
       "\n",
       "                                                                                                                                                                           metodo  \\\n",
       "soundex          paciente                        idade ibge_unidade_notifica ibge_residencia data_nascimento nome_mae                             cpf                               \n",
       "JVKTRDMBKRJ      JOAO VICTOR DEMBICKI ARAUJO     28    410420                410690          1992-05-05      ELIANE APARECIDA DEMBICKI ARAUJO     07609193992  [3, 2, 2, 6, 2, 2]   \n",
       "ELZSPK           ELOISE SPILKA                   29    410690                410690          1991-07-04      ALVANEZ MARIOT SPILKA                06239631914     [1, 3, 1, 1, 1]   \n",
       "SMPRRDZVDLM      SIMEIA PEREIRA DA SILVA DE LIMA 39    410420                410690          1981-11-01      DELAIR DE JESUS ANDRADE SILVA        04862225942     [6, 6, 6, 6, 6]   \n",
       "MNLKNSRTR        MANUELLE QUINES SARTORI         28    410690                410690          1992-10-08      ADRIANE QUINES SARTORI               08805778940     [1, 1, 1, 1, 1]   \n",
       "JKLNBRKDSNTS     JAKLINE BROCO DOS SANTOS        30    410690                410690          1990-09-26      NILVA DE FATIMA BROCO                07407421919     [1, 3, 1, 1, 1]   \n",
       "...                                                                                                                                                                           ...   \n",
       "ASNDZNKDRM       ALCINDA SANCAO DARIN            82    410690                410690          1937-08-25      FRANCISCA DIAS DE ARRUDA             63151502920              [1, 1]   \n",
       "KLDMRF2RDSNTS    CLAUDIMIR FERREIRA DOS SANTOS   32    410690                410690          1988-08-02      ROSELI DE FATIMA FERREIRA DOS SANTOS 01043830979              [1, 1]   \n",
       "2BRTDZZDZV       ROBERTO DE SOUZA DA SILVA       56    410690                410690          1964-08-26      ANESIA DE SOUZA DA SILVA             65733142987              [1, 3]   \n",
       "KRLNBRJS         KAROLINE BORGES                 18    410690                410690          2001-08-22      ELZA APARECIDA BORGES                01220435295              [1, 1]   \n",
       "MRSLFRNSSKJRDVLS MARCELO FRANCISCO JORDAO AVILES 22    410690                410690          1998-10-22      NADIA SOLANGE TEIXEIRA JORDAO        47576531827              [1, 1]   \n",
       "\n",
       "                                                                                                                                                                         evolucao  \n",
       "soundex          paciente                        idade ibge_unidade_notifica ibge_residencia data_nascimento nome_mae                             cpf                              \n",
       "JVKTRDMBKRJ      JOAO VICTOR DEMBICKI ARAUJO     28    410420                410690          1992-05-05      ELIANE APARECIDA DEMBICKI ARAUJO     07609193992  [3, 1, 3, 3, 3, 1]  \n",
       "ELZSPK           ELOISE SPILKA                   29    410690                410690          1991-07-04      ALVANEZ MARIOT SPILKA                06239631914     [3, 3, 3, 3, 3]  \n",
       "SMPRRDZVDLM      SIMEIA PEREIRA DA SILVA DE LIMA 39    410420                410690          1981-11-01      DELAIR DE JESUS ANDRADE SILVA        04862225942     [3, 3, 3, 3, 3]  \n",
       "MNLKNSRTR        MANUELLE QUINES SARTORI         28    410690                410690          1992-10-08      ADRIANE QUINES SARTORI               08805778940     [3, 3, 1, 1, 3]  \n",
       "JKLNBRKDSNTS     JAKLINE BROCO DOS SANTOS        30    410690                410690          1990-09-26      NILVA DE FATIMA BROCO                07407421919     [3, 3, 3, 3, 3]  \n",
       "...                                                                                                                                                                           ...  \n",
       "ASNDZNKDRM       ALCINDA SANCAO DARIN            82    410690                410690          1937-08-25      FRANCISCA DIAS DE ARRUDA             63151502920              [2, 3]  \n",
       "KLDMRF2RDSNTS    CLAUDIMIR FERREIRA DOS SANTOS   32    410690                410690          1988-08-02      ROSELI DE FATIMA FERREIRA DOS SANTOS 01043830979              [3, 3]  \n",
       "2BRTDZZDZV       ROBERTO DE SOUZA DA SILVA       56    410690                410690          1964-08-26      ANESIA DE SOUZA DA SILVA             65733142987              [0, 3]  \n",
       "KRLNBRJS         KAROLINE BORGES                 18    410690                410690          2001-08-22      ELZA APARECIDA BORGES                01220435295              [1, 1]  \n",
       "MRSLFRNSSKJRDVLS MARCELO FRANCISCO JORDAO AVILES 22    410690                410690          1998-10-22      NADIA SOLANGE TEIXEIRA JORDAO        47576531827              [3, 3]  \n",
       "\n",
       "[728 rows x 5 columns]"
      ],
      "text/html": "<div>\n<style scoped>\n    .dataframe tbody tr th:only-of-type {\n        vertical-align: middle;\n    }\n\n    .dataframe tbody tr th {\n        vertical-align: top;\n    }\n\n    .dataframe thead th {\n        text-align: right;\n    }\n</style>\n<table border=\"1\" class=\"dataframe\">\n  <thead>\n    <tr style=\"text-align: right;\">\n      <th></th>\n      <th></th>\n      <th></th>\n      <th></th>\n      <th></th>\n      <th></th>\n      <th></th>\n      <th></th>\n      <th>ids</th>\n      <th>status_notificacao</th>\n      <th>classificacao_final</th>\n      <th>metodo</th>\n      <th>evolucao</th>\n    </tr>\n    <tr>\n      <th>soundex</th>\n      <th>paciente</th>\n      <th>idade</th>\n      <th>ibge_unidade_notifica</th>\n      <th>ibge_residencia</th>\n      <th>data_nascimento</th>\n      <th>nome_mae</th>\n      <th>cpf</th>\n      <th></th>\n      <th></th>\n      <th></th>\n      <th></th>\n      <th></th>\n    </tr>\n  </thead>\n  <tbody>\n    <tr>\n      <th>JVKTRDMBKRJ</th>\n      <th>JOAO VICTOR DEMBICKI ARAUJO</th>\n      <th>28</th>\n      <th>410420</th>\n      <th>410690</th>\n      <th>1992-05-05</th>\n      <th>ELIANE APARECIDA DEMBICKI ARAUJO</th>\n      <th>07609193992</th>\n      <td>[502441, 743165, 1032469, 1683854, 1508122, 12...</td>\n      <td>[3, 3, 3, 3, 2, 3]</td>\n      <td>[2, 2, 2, 2, 2, 2]</td>\n      <td>[3, 2, 2, 6, 2, 2]</td>\n      <td>[3, 1, 3, 3, 3, 1]</td>\n    </tr>\n    <tr>\n      <th>ELZSPK</th>\n      <th>ELOISE SPILKA</th>\n      <th>29</th>\n      <th>410690</th>\n      <th>410690</th>\n      <th>1991-07-04</th>\n      <th>ALVANEZ MARIOT SPILKA</th>\n      <th>06239631914</th>\n      <td>[2089325, 1299358, 2140794, 2065074, 1685532]</td>\n      <td>[3, 3, 2, 3, 3]</td>\n      <td>[2, 2, 2, 2, 2]</td>\n      <td>[1, 3, 1, 1, 1]</td>\n      <td>[3, 3, 3, 3, 3]</td>\n    </tr>\n    <tr>\n      <th>SMPRRDZVDLM</th>\n      <th>SIMEIA PEREIRA DA SILVA DE LIMA</th>\n      <th>39</th>\n      <th>410420</th>\n      <th>410690</th>\n      <th>1981-11-01</th>\n      <th>DELAIR DE JESUS ANDRADE SILVA</th>\n      <th>04862225942</th>\n      <td>[1956098, 1917232, 1987194, 1798516, 1875349]</td>\n      <td>[3, 3, 1, 3, 3]</td>\n      <td>[2, 2, 2, 2, 2]</td>\n      <td>[6, 6, 6, 6, 6]</td>\n      <td>[3, 3, 3, 3, 3]</td>\n    </tr>\n    <tr>\n      <th>MNLKNSRTR</th>\n      <th>MANUELLE QUINES SARTORI</th>\n      <th>28</th>\n      <th>410690</th>\n      <th>410690</th>\n      <th>1992-10-08</th>\n      <th>ADRIANE QUINES SARTORI</th>\n      <th>08805778940</th>\n      <td>[1669737, 2009732, 2104715, 1669154, 2104792]</td>\n      <td>[3, 3, 3, 3, 1]</td>\n      <td>[2, 2, 2, 2, 2]</td>\n      <td>[1, 1, 1, 1, 1]</td>\n      <td>[3, 3, 1, 1, 3]</td>\n    </tr>\n    <tr>\n      <th>JKLNBRKDSNTS</th>\n      <th>JAKLINE BROCO DOS SANTOS</th>\n      <th>30</th>\n      <th>410690</th>\n      <th>410690</th>\n      <th>1990-09-26</th>\n      <th>NILVA DE FATIMA BROCO</th>\n      <th>07407421919</th>\n      <td>[1333676, 1335606, 1694921, 1574803, 1531127]</td>\n      <td>[3, 3, 2, 3, 3]</td>\n      <td>[2, 2, 2, 2, 2]</td>\n      <td>[1, 3, 1, 1, 1]</td>\n      <td>[3, 3, 3, 3, 3]</td>\n    </tr>\n    <tr>\n      <th>...</th>\n      <th>...</th>\n      <th>...</th>\n      <th>...</th>\n      <th>...</th>\n      <th>...</th>\n      <th>...</th>\n      <th>...</th>\n      <td>...</td>\n      <td>...</td>\n      <td>...</td>\n      <td>...</td>\n      <td>...</td>\n    </tr>\n    <tr>\n      <th>ASNDZNKDRM</th>\n      <th>ALCINDA SANCAO DARIN</th>\n      <th>82</th>\n      <th>410690</th>\n      <th>410690</th>\n      <th>1937-08-25</th>\n      <th>FRANCISCA DIAS DE ARRUDA</th>\n      <th>63151502920</th>\n      <td>[580926, 555368]</td>\n      <td>[1, 3]</td>\n      <td>[2, 2]</td>\n      <td>[1, 1]</td>\n      <td>[2, 3]</td>\n    </tr>\n    <tr>\n      <th>KLDMRF2RDSNTS</th>\n      <th>CLAUDIMIR FERREIRA DOS SANTOS</th>\n      <th>32</th>\n      <th>410690</th>\n      <th>410690</th>\n      <th>1988-08-02</th>\n      <th>ROSELI DE FATIMA FERREIRA DOS SANTOS</th>\n      <th>01043830979</th>\n      <td>[1355505, 1417246]</td>\n      <td>[3, 1]</td>\n      <td>[2, 2]</td>\n      <td>[1, 1]</td>\n      <td>[3, 3]</td>\n    </tr>\n    <tr>\n      <th>2BRTDZZDZV</th>\n      <th>ROBERTO DE SOUZA DA SILVA</th>\n      <th>56</th>\n      <th>410690</th>\n      <th>410690</th>\n      <th>1964-08-26</th>\n      <th>ANESIA DE SOUZA DA SILVA</th>\n      <th>65733142987</th>\n      <td>[1418122, 1676855]</td>\n      <td>[2, 3]</td>\n      <td>[2, 2]</td>\n      <td>[1, 3]</td>\n      <td>[0, 3]</td>\n    </tr>\n    <tr>\n      <th>KRLNBRJS</th>\n      <th>KAROLINE BORGES</th>\n      <th>18</th>\n      <th>410690</th>\n      <th>410690</th>\n      <th>2001-08-22</th>\n      <th>ELZA APARECIDA BORGES</th>\n      <th>01220435295</th>\n      <td>[2690567, 2690772]</td>\n      <td>[2, 3]</td>\n      <td>[2, 2]</td>\n      <td>[1, 1]</td>\n      <td>[1, 1]</td>\n    </tr>\n    <tr>\n      <th>MRSLFRNSSKJRDVLS</th>\n      <th>MARCELO FRANCISCO JORDAO AVILES</th>\n      <th>22</th>\n      <th>410690</th>\n      <th>410690</th>\n      <th>1998-10-22</th>\n      <th>NADIA SOLANGE TEIXEIRA JORDAO</th>\n      <th>47576531827</th>\n      <td>[1267835, 1317286]</td>\n      <td>[3, 1]</td>\n      <td>[2, 2]</td>\n      <td>[1, 1]</td>\n      <td>[3, 3]</td>\n    </tr>\n  </tbody>\n</table>\n<p>728 rows × 5 columns</p>\n</div>"
     },
     "metadata": {},
     "execution_count": 8
    }
   ],
   "source": [
    "timer.start()\n",
    "\n",
    "pacientes_duplicados = pacientes.loc[ [True if len(ids) > 1 else False for ids in pacientes['ids']]]\n",
    "pacientes_duplicados.to_csv('pacientes_duplicados.csv')\n",
    "\n",
    "timer.stop()\n",
    "print(f'pacientes_duplicados ({len(pacientes_duplicados)}): ',timer.ftime())"
   ]
  },
  {
   "cell_type": "code",
   "execution_count": null,
   "metadata": {},
   "outputs": [],
   "source": [
    "exit()\n",
    "casos_duplicados = casosn.loc[(casosn['cpf'].notnull()) & (casosn.duplicated('cpf',keep=False))].sort_values('cpf')\n",
    "casosn.loc[casos_duplicados.index, 'duplicado'] = 1 \n",
    "\n",
    "print(f\"Total de pacientes com mais de uma ocorrencia: {len(casos_duplicados)}\")\n",
    "print(f\"{len(casos_duplicados.groupby('cpf'))} pacientes pelo CPF que estavam com mais de uma ocorrencia\")\n",
    "\n",
    "all_casos_duplicados = set()\n",
    "all_duplicados_mantidos = set()\n",
    "manter = []\n",
    "\n",
    "for hash, group in casos_duplicados.groupby('cpf'):\n",
    "    idx = get_better_notifica(group)\n",
    "    #check reinfection\n",
    "    manter.append(idx)\n",
    "\n",
    "\n",
    "casosn.loc[manter, 'manter'] = 1 \n",
    "\n",
    "casos_duplicados = set(casos_duplicados.index.tolist())\n",
    "casos_duplicados = casos_duplicados - set(manter)\n",
    "\n",
    "all_duplicados_mantidos |= set(manter)\n",
    "all_casos_duplicados |= casos_duplicados\n",
    "casosn.loc[casos_duplicados].to_csv(join(output,'pacientes_duplicados_cpf.csv'), index=False)\n",
    "\n",
    "casosn.loc[casos_duplicados].groupby('classificacao_final')[['id']].count()\n",
    "if dropar:\n",
    "    casosn = casosn.drop(index=casos_duplicados)"
   ]
  },
  {
   "cell_type": "code",
   "execution_count": null,
   "metadata": {},
   "outputs": [],
   "source": [
    "casos_duplicados = casosn.loc[(casosn['nome_mae'].notnull()) & (casosn.duplicated('hash_mae',keep=False))].sort_values('nome_mae')\n",
    "casosn.loc[casos_duplicados.index, 'duplicado'] = 1 \n",
    "\n",
    "print(f\"Total de pacientes com mais de uma ocorrencia pelo nome+nome_mae: {len(casos_duplicados)}\")\n",
    "print(f\"{len(casos_duplicados.groupby('nome_mae'))} pacientes pelo nome+nome_mae que estavam com mais de uma ocorrencia\")\n",
    "\n",
    "manter = []\n",
    "for hash, group in casos_duplicados.groupby('nome_mae'):\n",
    "    idx = get_better_notifica(group)\n",
    "    manter.append(idx)\n",
    "\n",
    "casosn.loc[manter, 'manter'] = 1 \n",
    "\n",
    "casos_duplicados = set(casos_duplicados.index.tolist())\n",
    "casos_duplicados = casos_duplicados - set(manter)\n",
    "\n",
    "all_duplicados_mantidos |= set(manter)\n",
    "all_casos_duplicados |= casos_duplicados\n",
    "casosn.loc[casos_duplicados].to_csv(join(output,'pacientes_duplicados_nome_mae.csv'), index=False)\n",
    "\n",
    "casosn.loc[casos_duplicados].groupby('classificacao_final')[['id']].count()\n",
    "if dropar:\n",
    "    casosn = casosn.drop(index=casos_duplicados)"
   ]
  },
  {
   "cell_type": "code",
   "execution_count": null,
   "metadata": {},
   "outputs": [],
   "source": [
    "casos_duplicados = casosn.loc[(casosn['hash_nasc'].notnull()) & (casosn.duplicated('hash_nasc',keep=False))].sort_values('data_nascimento')\n",
    "casosn.loc[casos_duplicados.index, 'duplicado'] = 1 \n",
    "\n",
    "print(f\"Total de pacientes com mais de uma ocorrencia pelo data_nascimento: {len(casos_duplicados)}\")\n",
    "print(f\"{len(casos_duplicados.groupby('hash_nasc'))} pacientes pelo data_nascimento que estavam com mais de uma ocorrencia\")\n",
    "\n",
    "manter = []\n",
    "for hash, group in casos_duplicados.groupby('hash_nasc'):\n",
    "    idx = get_better_notifica(group)\n",
    "    manter.append(idx)\n",
    "\n",
    "casosn.loc[manter, 'manter'] = 1 \n",
    "\n",
    "casos_duplicados = set(casos_duplicados.index.tolist())\n",
    "casos_duplicados = casos_duplicados - set(manter)\n",
    "\n",
    "all_duplicados_mantidos |= set(manter)\n",
    "all_casos_duplicados |= casos_duplicados\n",
    "casosn.loc[casos_duplicados].to_csv(join(output,'pacientes_duplicados_data_nascimento.csv'), index=False)\n",
    "\n",
    "casosn.loc[casos_duplicados].groupby('classificacao_final')[['id']].count()\n",
    "if dropar:\n",
    "    casosn = casosn.drop(index=casos_duplicados)"
   ]
  },
  {
   "cell_type": "code",
   "execution_count": null,
   "metadata": {},
   "outputs": [],
   "source": [
    "casos_duplicados = casosn.loc[(casosn['hash_resid'].notnull()) & (casosn.duplicated('hash_resid',keep=False))].sort_values('paciente')\n",
    "casosn.loc[casos_duplicados.index, 'duplicado'] = 1 \n",
    "\n",
    "print(f\"Total de pacientes com mais de uma ocorrencia pelo hash_resid: {len(casos_duplicados)}\")\n",
    "print(f\"{len(casos_duplicados.groupby('hash_resid'))} pacientes pelo hash_resid que estavam com mais de uma ocorrencia\")\n",
    "\n",
    "manter = []\n",
    "for hash, group in casos_duplicados.groupby('hash_resid'):\n",
    "    idx = get_better_notifica(group)\n",
    "    manter.append(idx)\n",
    "\n",
    "casosn.loc[manter, 'manter'] = 1 \n",
    "\n",
    "casos_duplicados = set(casos_duplicados.index.tolist())\n",
    "casos_duplicados = casos_duplicados - set(manter)\n",
    "\n",
    "all_duplicados_mantidos |= set(manter)\n",
    "all_casos_duplicados |= casos_duplicados\n",
    "casosn.loc[casos_duplicados].to_csv(join(output,'pacientes_duplicados_nome_idade_mun_resid.csv'), index=False)\n",
    "\n",
    "casosn.loc[casos_duplicados].groupby('classificacao_final')[['id']].count()\n",
    "if dropar:\n",
    "    casosn = casosn.drop(index=casos_duplicados)"
   ]
  },
  {
   "cell_type": "code",
   "execution_count": null,
   "metadata": {},
   "outputs": [],
   "source": [
    "casos_duplicados = casosn.loc[(casosn['hash_atend'].notnull()) & (casosn.duplicated('hash_atend',keep=False))].sort_values('paciente')\n",
    "casosn.loc[casos_duplicados.index, 'duplicado'] = 1 \n",
    "\n",
    "print(f\"Total de pacientes com mais de uma ocorrencia pelo hash_atend: {len(casos_duplicados)}\")\n",
    "print(f\"{len(casos_duplicados.groupby('hash_atend'))} pacientes pelo hash_atend que estavam com mais de uma ocorrencia\")\n",
    "\n",
    "manter = []\n",
    "for hash, group in casos_duplicados.groupby('hash_atend'):\n",
    "    idx = get_better_notifica(group)\n",
    "    manter.append(idx)\n",
    "\n",
    "casosn.loc[manter, 'manter'] = 1 \n",
    "\n",
    "casos_duplicados = set(casos_duplicados.index.tolist())\n",
    "casos_duplicados = casos_duplicados - set(manter)\n",
    "\n",
    "all_duplicados_mantidos |= set(manter)\n",
    "all_casos_duplicados |= casos_duplicados\n",
    "casosn.loc[casos_duplicados].to_csv(join(output,'pacientes_duplicados_nome_idade_mun_atend.csv'), index=False)\n",
    "\n",
    "casosn.loc[casos_duplicados].groupby('classificacao_final')[['id']].count()\n",
    "if dropar:\n",
    "    casosn = casosn.drop(index=casos_duplicados)"
   ]
  },
  {
   "cell_type": "code",
   "execution_count": null,
   "metadata": {},
   "outputs": [],
   "source": [
    "casos_duplicados = casosn.loc[(casosn['hash_diag'].notnull()) & (casosn.duplicated('hash_diag',keep=False))].sort_values('paciente')\n",
    "casosn.loc[casos_duplicados.index, 'duplicado'] = 1 \n",
    "\n",
    "print(f\"Total de pacientes com mais de uma ocorrencia pelo hash_diag: {len(casos_duplicados)}\")\n",
    "print(f\"{len(casos_duplicados.groupby('hash_diag'))} pacientes pelo hash_diag que estavam com mais de uma ocorrencia\")\n",
    "\n",
    "manter = []\n",
    "for hash, group in casos_duplicados.groupby('hash_diag'):\n",
    "    idx = get_better_notifica(group)\n",
    "    manter.append(idx)\n",
    "\n",
    "casosn.loc[manter, 'manter'] = 1 \n",
    "\n",
    "casos_duplicados = set(casos_duplicados.index.tolist())\n",
    "casos_duplicados = casos_duplicados - set(manter)\n",
    "\n",
    "all_duplicados_mantidos |= set(manter)\n",
    "all_casos_duplicados |= casos_duplicados\n",
    "casosn.loc[casos_duplicados].to_csv(join(output,'pacientes_duplicados_hash_diag.csv'), index=False)\n",
    "\n",
    "casosn.loc[casos_duplicados].groupby('classificacao_final')[['id']].count()\n",
    "if dropar:\n",
    "    casosn = casosn.drop(index=casos_duplicados)"
   ]
  },
  {
   "cell_type": "code",
   "execution_count": null,
   "metadata": {},
   "outputs": [],
   "source": [
    "notifica.save(casosn)"
   ]
  }
 ],
 "metadata": {
  "kernelspec": {
   "display_name": "Python 3",
   "language": "python",
   "name": "python3"
  },
  "language_info": {
   "codemirror_mode": {
    "name": "ipython",
    "version": 3
   },
   "file_extension": ".py",
   "mimetype": "text/x-python",
   "name": "python",
   "nbconvert_exporter": "python",
   "pygments_lexer": "ipython3",
   "version": "3.9.2-final"
  }
 },
 "nbformat": 4,
 "nbformat_minor": 2
}