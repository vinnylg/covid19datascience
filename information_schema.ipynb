{
 "metadata": {
  "language_info": {
   "codemirror_mode": {
    "name": "ipython",
    "version": 3
   },
   "file_extension": ".py",
   "mimetype": "text/x-python",
   "name": "python",
   "nbconvert_exporter": "python",
   "pygments_lexer": "ipython3",
   "version": "3.8.5-final"
  },
  "orig_nbformat": 2,
  "kernelspec": {
   "name": "python3",
   "display_name": "Python 3.8.5 64-bit (conda)",
   "metadata": {
    "interpreter": {
     "hash": "b3ba2566441a7c06988d0923437866b63cedc61552a5af99d1f4fb67d367b25f"
    }
   }
  }
 },
 "nbformat": 4,
 "nbformat_minor": 2,
 "cells": [
  {
   "cell_type": "code",
   "execution_count": 1,
   "metadata": {},
   "outputs": [
    {
     "output_type": "execute_result",
     "data": {
      "text/plain": [
       "      table_name              column_name udt_name\n",
       "0         redcap                 dt_obito   float8\n",
       "1         redcap                    idade   float8\n",
       "2         redcap                 fxetaria   float8\n",
       "3         redcap  exposicao_unidade_saude   float8\n",
       "4         redcap            nacionalidade   float8\n",
       "...          ...                      ...      ...\n",
       "2117  sivep_srag                    febre  varchar\n",
       "2118  sivep_srag                    tosse  varchar\n",
       "2119  sivep_srag                 garganta  varchar\n",
       "2120  sivep_srag                 dispneia  varchar\n",
       "2121  sivep_srag                desc_resp  varchar\n",
       "\n",
       "[2122 rows x 3 columns]"
      ],
      "text/html": "<div>\n<style scoped>\n    .dataframe tbody tr th:only-of-type {\n        vertical-align: middle;\n    }\n\n    .dataframe tbody tr th {\n        vertical-align: top;\n    }\n\n    .dataframe thead th {\n        text-align: right;\n    }\n</style>\n<table border=\"1\" class=\"dataframe\">\n  <thead>\n    <tr style=\"text-align: right;\">\n      <th></th>\n      <th>table_name</th>\n      <th>column_name</th>\n      <th>udt_name</th>\n    </tr>\n  </thead>\n  <tbody>\n    <tr>\n      <th>0</th>\n      <td>redcap</td>\n      <td>dt_obito</td>\n      <td>float8</td>\n    </tr>\n    <tr>\n      <th>1</th>\n      <td>redcap</td>\n      <td>idade</td>\n      <td>float8</td>\n    </tr>\n    <tr>\n      <th>2</th>\n      <td>redcap</td>\n      <td>fxetaria</td>\n      <td>float8</td>\n    </tr>\n    <tr>\n      <th>3</th>\n      <td>redcap</td>\n      <td>exposicao_unidade_saude</td>\n      <td>float8</td>\n    </tr>\n    <tr>\n      <th>4</th>\n      <td>redcap</td>\n      <td>nacionalidade</td>\n      <td>float8</td>\n    </tr>\n    <tr>\n      <th>...</th>\n      <td>...</td>\n      <td>...</td>\n      <td>...</td>\n    </tr>\n    <tr>\n      <th>2117</th>\n      <td>sivep_srag</td>\n      <td>febre</td>\n      <td>varchar</td>\n    </tr>\n    <tr>\n      <th>2118</th>\n      <td>sivep_srag</td>\n      <td>tosse</td>\n      <td>varchar</td>\n    </tr>\n    <tr>\n      <th>2119</th>\n      <td>sivep_srag</td>\n      <td>garganta</td>\n      <td>varchar</td>\n    </tr>\n    <tr>\n      <th>2120</th>\n      <td>sivep_srag</td>\n      <td>dispneia</td>\n      <td>varchar</td>\n    </tr>\n    <tr>\n      <th>2121</th>\n      <td>sivep_srag</td>\n      <td>desc_resp</td>\n      <td>varchar</td>\n    </tr>\n  </tbody>\n</table>\n<p>2122 rows × 3 columns</p>\n</div>"
     },
     "metadata": {},
     "execution_count": 1
    }
   ],
   "source": [
    "import pandas as pd\n",
    "from bulletin.commom.utils import auto_fit_columns\n",
    "import codecs\n",
    "\n",
    "pd.set_option('display.max_columns', None)\n",
    "\n",
    "information_schema = pd.read_csv('information_schema.csv',usecols=['table_name','column_name','udt_name'])\n",
    "information_schema"
   ]
  },
  {
   "cell_type": "code",
   "execution_count": 2,
   "metadata": {},
   "outputs": [],
   "source": [
    "notificacao = information_schema.loc[information_schema['table_name']=='notificacao']\n",
    "notificacao.to_excel('notificacao.xlsx')"
   ]
  },
  {
   "cell_type": "code",
   "execution_count": 3,
   "metadata": {},
   "outputs": [],
   "source": [
    "with codecs.open('tables.dbml',\"w\",\"utf-8-sig\") as out:\n",
    "    notificacao['ref'] = \"\"\n",
    "    notificacao.loc[notificacao['column_name']=='id','ref'] = f\"[pk]\"\n",
    "\n",
    "    for table_name, table in information_schema.groupby('table_name'):\n",
    "        if table_name in notificacao['column_name'].values:\n",
    "            notificacao.loc[notificacao['column_name']==table_name,'ref'] = f\"[ref: - {table_name}.{table['column_name'].iloc[0]}]\"\n",
    "\n",
    "            out.write(f\"Table {table_name}\" + \" {\\n\")\n",
    "            out.write(f\"\\t {table['column_name'].iloc[0]} {table['udt_name'].iloc[0]} [pk]\\n\")\n",
    "            for column_name, udt_name in zip(table['column_name'][1:],table['udt_name'][1:]):\n",
    "                out.write(f\"\\t {column_name} {udt_name}\\n\")\n",
    "            out.write(\"}\\n\\n\")\n",
    "\n",
    "    out.write(f\"Table notificacao\" + \" {\\n\")\n",
    "    for column_name, udt_name,ref in zip(notificacao['column_name'],notificacao['udt_name'],notificacao['ref']):\n",
    "        out.write(f\"\\t {column_name} {udt_name} {ref if ref != None else ''}\\n\")\n",
    "    out.write(\"}\\n\\n\")\n"
   ]
  },
  {
   "cell_type": "code",
   "execution_count": null,
   "metadata": {},
   "outputs": [],
   "source": []
  }
 ]
}