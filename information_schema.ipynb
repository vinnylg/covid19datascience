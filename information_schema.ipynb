{
 "metadata": {
  "language_info": {
   "codemirror_mode": {
    "name": "ipython",
    "version": 3
   },
   "file_extension": ".py",
   "mimetype": "text/x-python",
   "name": "python",
   "nbconvert_exporter": "python",
   "pygments_lexer": "ipython3",
   "version": "3.8.5-final"
  },
  "orig_nbformat": 2,
  "kernelspec": {
   "name": "python3",
   "display_name": "Python 3.8.5 64-bit (conda)",
   "metadata": {
    "interpreter": {
     "hash": "b3ba2566441a7c06988d0923437866b63cedc61552a5af99d1f4fb67d367b25f"
    }
   }
  }
 },
 "nbformat": 4,
 "nbformat_minor": 2,
 "cells": [
  {
   "cell_type": "code",
   "execution_count": 1,
   "metadata": {},
   "outputs": [],
   "source": [
    "import pandas as pd\n",
    "from bulletin.commom.utils import auto_fit_columns\n",
    "import codecs\n",
    "\n",
    "pd.set_option('display.max_columns', None)\n",
    "\n",
    "information_schema = pd.read_csv('information_schema.csv', usecols=['table_name','column_name','udt_name'])\n",
    "constraint = pd.read_csv('constraint.csv')\n",
    "\n",
    "# information_schema = pd.merge(information_schema,constraint[['table_name','column_name','foreign_table_name','foreign_column_name']],on=['table_name','column_name'], how='left')\n",
    "information_schema = information_schema.drop(index=information_schema.loc[information_schema['table_name']=='notificacao'].index)"
   ]
  },
  {
   "cell_type": "code",
   "execution_count": 2,
   "metadata": {},
   "outputs": [
    {
     "output_type": "execute_result",
     "data": {
      "text/plain": [
       "      table_name             column_name udt_name      foreign_table_name  \\\n",
       "0    notificacao  criterio_classificacao     int4  criterio_classificacao   \n",
       "1    notificacao                evolucao     int4                evolucao   \n",
       "2    notificacao                raca_cor     int4                raca_cor   \n",
       "3    notificacao    perda_olfato_paladar     int4                 sim_nao   \n",
       "4    notificacao                 cod_cbo     int4                     cbo   \n",
       "..           ...                     ...      ...                     ...   \n",
       "96   notificacao         ibge_residencia  varchar               municipio   \n",
       "97   notificacao          cep_residencia  varchar                           \n",
       "98   notificacao   logradouro_residencia  varchar                           \n",
       "99   notificacao       numero_residencia  varchar                           \n",
       "100  notificacao       bairro_residencia  varchar                           \n",
       "\n",
       "    foreign_column_name ref  \n",
       "0                    id      \n",
       "1                    id      \n",
       "2                    id      \n",
       "3                    id      \n",
       "4                codigo      \n",
       "..                  ...  ..  \n",
       "96         co_municipio      \n",
       "97                           \n",
       "98                           \n",
       "99                           \n",
       "100                          \n",
       "\n",
       "[101 rows x 6 columns]"
      ],
      "text/html": "<div>\n<style scoped>\n    .dataframe tbody tr th:only-of-type {\n        vertical-align: middle;\n    }\n\n    .dataframe tbody tr th {\n        vertical-align: top;\n    }\n\n    .dataframe thead th {\n        text-align: right;\n    }\n</style>\n<table border=\"1\" class=\"dataframe\">\n  <thead>\n    <tr style=\"text-align: right;\">\n      <th></th>\n      <th>table_name</th>\n      <th>column_name</th>\n      <th>udt_name</th>\n      <th>foreign_table_name</th>\n      <th>foreign_column_name</th>\n      <th>ref</th>\n    </tr>\n  </thead>\n  <tbody>\n    <tr>\n      <th>0</th>\n      <td>notificacao</td>\n      <td>criterio_classificacao</td>\n      <td>int4</td>\n      <td>criterio_classificacao</td>\n      <td>id</td>\n      <td></td>\n    </tr>\n    <tr>\n      <th>1</th>\n      <td>notificacao</td>\n      <td>evolucao</td>\n      <td>int4</td>\n      <td>evolucao</td>\n      <td>id</td>\n      <td></td>\n    </tr>\n    <tr>\n      <th>2</th>\n      <td>notificacao</td>\n      <td>raca_cor</td>\n      <td>int4</td>\n      <td>raca_cor</td>\n      <td>id</td>\n      <td></td>\n    </tr>\n    <tr>\n      <th>3</th>\n      <td>notificacao</td>\n      <td>perda_olfato_paladar</td>\n      <td>int4</td>\n      <td>sim_nao</td>\n      <td>id</td>\n      <td></td>\n    </tr>\n    <tr>\n      <th>4</th>\n      <td>notificacao</td>\n      <td>cod_cbo</td>\n      <td>int4</td>\n      <td>cbo</td>\n      <td>codigo</td>\n      <td></td>\n    </tr>\n    <tr>\n      <th>...</th>\n      <td>...</td>\n      <td>...</td>\n      <td>...</td>\n      <td>...</td>\n      <td>...</td>\n      <td>...</td>\n    </tr>\n    <tr>\n      <th>96</th>\n      <td>notificacao</td>\n      <td>ibge_residencia</td>\n      <td>varchar</td>\n      <td>municipio</td>\n      <td>co_municipio</td>\n      <td></td>\n    </tr>\n    <tr>\n      <th>97</th>\n      <td>notificacao</td>\n      <td>cep_residencia</td>\n      <td>varchar</td>\n      <td></td>\n      <td></td>\n      <td></td>\n    </tr>\n    <tr>\n      <th>98</th>\n      <td>notificacao</td>\n      <td>logradouro_residencia</td>\n      <td>varchar</td>\n      <td></td>\n      <td></td>\n      <td></td>\n    </tr>\n    <tr>\n      <th>99</th>\n      <td>notificacao</td>\n      <td>numero_residencia</td>\n      <td>varchar</td>\n      <td></td>\n      <td></td>\n      <td></td>\n    </tr>\n    <tr>\n      <th>100</th>\n      <td>notificacao</td>\n      <td>bairro_residencia</td>\n      <td>varchar</td>\n      <td></td>\n      <td></td>\n      <td></td>\n    </tr>\n  </tbody>\n</table>\n<p>101 rows × 6 columns</p>\n</div>"
     },
     "metadata": {},
     "execution_count": 2
    }
   ],
   "source": [
    "notificacao = pd.read_csv('notificacao.csv', sep=';')\n",
    "\n",
    "notificacao = notificacao.loc[notificacao['importante']=='Sim'].drop(columns=['importante'])\n",
    "notificacao = pd.merge(notificacao,constraint[['table_name','column_name','foreign_table_name','foreign_column_name']],on=['table_name','column_name'], how='left').fillna('')\n",
    "notificacao['ref'] = \"\"\n",
    "notificacao.loc[(notificacao['table_name'] == notificacao['foreign_table_name']) & (notificacao['column_name']==notificacao['foreign_column_name']),'ref'] = f\"[pk]\"\n",
    "notificacao"
   ]
  },
  {
   "cell_type": "code",
   "execution_count": 3,
   "metadata": {
    "tags": []
   },
   "outputs": [],
   "source": [
    "with codecs.open('tables.dbml',\"w\",\"utf-8-sig\") as out:\n",
    "\n",
    "    for table_name, table in information_schema.groupby('table_name'):\n",
    "        if any(table_name in n for n in notificacao['foreign_table_name'].values):\n",
    "            out.write(f\"Table {table_name}\" + \" {\\n\")\n",
    "            for column_name, udt_name in zip(table['column_name'],table['udt_name']):\n",
    "                if column_name in constraint.loc[constraint['table_name'] == table_name, 'foreign_column_name'].values:\n",
    "                    out.write(f\"\\t {column_name} {udt_name} [pk]\\n\")\n",
    "                    notificacao.loc[notificacao['foreign_table_name']==table_name,'ref'] = f\"[ref: - {table_name}.{column_name}]\"\n",
    "                else:\n",
    "                    out.write(f\"\\t {column_name} {udt_name}\\n\")\n",
    "            out.write(\"}\\n\\n\")\n",
    "\n",
    "\n",
    "    out.write(f\"Table notificacao\" + \" {\\n\")\n",
    "    for column_name, udt_name,ref in zip(notificacao['column_name'],notificacao['udt_name'],notificacao['ref']):\n",
    "        out.write(f\"\\t {column_name} {udt_name} {ref if ref != None else ''}\\n\")\n",
    "    out.write(\"}\\n\\n\")"
   ]
  },
  {
   "cell_type": "code",
   "execution_count": null,
   "metadata": {},
   "outputs": [],
   "source": []
  }
 ]
}