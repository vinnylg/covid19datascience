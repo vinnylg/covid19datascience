{
 "metadata": {
  "language_info": {
   "codemirror_mode": {
    "name": "ipython",
    "version": 3
   },
   "file_extension": ".py",
   "mimetype": "text/x-python",
   "name": "python",
   "nbconvert_exporter": "python",
   "pygments_lexer": "ipython3",
   "version": "3.8.5-final"
  },
  "orig_nbformat": 2,
  "kernelspec": {
   "name": "python3",
   "display_name": "Python 3",
   "language": "python"
  }
 },
 "nbformat": 4,
 "nbformat_minor": 2,
 "cells": [
  {
   "cell_type": "code",
   "execution_count": 1,
   "metadata": {},
   "outputs": [
    {
     "output_type": "stream",
     "name": "stdout",
     "text": [
      "merge_notifica\n"
     ]
    }
   ],
   "source": [
    "print('merge_notifica')\n",
    "from sys import exit\n",
    "import numpy as np\n",
    "import pandas as pd\n",
    "from os.path import dirname, join, isfile, isdir\n",
    "from os import makedirs\n",
    "from datetime import datetime, timedelta, date\n",
    "\n",
    "from bulletin.data.notifica import Notifica\n",
    "from bulletin.data.casos_confirmados import CasosConfirmados\n",
    "from bulletin.commom.utils import Timer, get_better_notifica, auto_fit_columns\n",
    "from bulletin.commom.static import meses\n",
    "from bulletin.metabase.request import download_metabase\n",
    "\n",
    "pd.set_option('display.max_columns', None)\n",
    "\n",
    "output = join(\"output\",\"correcoes\",\"merge_notifica\")\n",
    "\n",
    "if not isdir(output):\n",
    "    makedirs(output)\n",
    "\n",
    "timerAll = Timer()\n",
    "timer = Timer()"
   ]
  },
  {
   "cell_type": "code",
   "execution_count": 2,
   "metadata": {},
   "outputs": [
    {
     "output_type": "stream",
     "name": "stdout",
     "text": [
      "(661109, 11982, 472175, 176952)\n",
      "(2562547, 1164225, 12911, 1355566, 2334)\n"
     ]
    }
   ],
   "source": [
    "cc = CasosConfirmados()\n",
    "cc.load()\n",
    "print(cc.shape())\n",
    "\n",
    "notifica = Notifica()\n",
    "notifica.load()\n",
    "\n",
    "print(notifica.shape())"
   ]
  },
  {
   "cell_type": "code",
   "execution_count": 3,
   "metadata": {},
   "outputs": [
    {
     "output_type": "stream",
     "name": "stdout",
     "text": [
      "(2562547, 41)\n"
     ]
    }
   ],
   "source": [
    "casosc = cc.get_casos()\n",
    "casosn = notifica.get_casos()\n",
    "# casosn = casosn.loc[(casosn['duplicado']==0) | ((casosn['duplicado']==1) & (casosn['manter']==1))]\n",
    "print(casosn.shape)"
   ]
  },
  {
   "cell_type": "code",
   "execution_count": 4,
   "metadata": {},
   "outputs": [
    {
     "output_type": "execute_result",
     "data": {
      "text/plain": [
       "(27551, 25)"
      ]
     },
     "metadata": {},
     "execution_count": 4
    }
   ],
   "source": [
    "idx_casos_confirmados = casosc.loc[casosc['hash_resid'].isin(casosn['hash_resid'])].index.tolist()\n",
    "idx_casos_confirmados += casosc.loc[casosc['hash_atend'].isin(casosn['hash_atend'])].index.tolist()\n",
    "idx_casos_confirmados += casosc.loc[casosc['hash_diag'].isin(casosn['hash_diag'])].index.tolist()\n",
    "\n",
    "idx_casos_confirmados = set(idx_casos_confirmados)\n",
    "casos_confirmados_nao_notifica = casosc.loc[ set(casosc.index.tolist()) - idx_casos_confirmados ].sort_values('ordem')\n",
    "casos_confirmados_nao_notifica.shape"
   ]
  },
  {
   "cell_type": "code",
   "execution_count": 5,
   "metadata": {},
   "outputs": [
    {
     "output_type": "execute_result",
     "data": {
      "text/plain": [
       "(744311, 41)"
      ]
     },
     "metadata": {},
     "execution_count": 5
    }
   ],
   "source": [
    "idx_casos_notifica = casosn.loc[casosn['hash_resid'].isin(casosc['hash_resid'])].index.tolist()\n",
    "idx_casos_notifica += casosn.loc[casosn['hash_atend'].isin(casosc['hash_atend'])].index.tolist()\n",
    "idx_casos_notifica += casosn.loc[casosn['hash_diag'].isin(casosc['hash_diag'])].index.tolist()\n",
    "\n",
    "idx_casos_notifica = set(idx_casos_notifica)\n",
    "casos_confirmados_notifica = casosn.loc[ idx_casos_notifica ].sort_values('id')\n",
    "casos_confirmados_notifica.shape"
   ]
  },
  {
   "cell_type": "code",
   "execution_count": 6,
   "metadata": {},
   "outputs": [
    {
     "output_type": "stream",
     "name": "stdout",
     "text": [
      "casos_hash_resid 610212\n",
      "notifica_hash_resid 722209\n",
      "merge_hash_resid 722209\n",
      "merge_hash_resid 610212\n",
      "\n",
      "casos_hash_atend 577764\n",
      "notifica_hash_atend 664517\n",
      "merge_hash_atend 671334\n",
      "merge_hash_atend 577764\n",
      "\n",
      "casos_hash_diag 554976\n",
      "notifica_hash_diag 558270\n",
      "merge_hash_diag 564842\n",
      "merge_hash_diag 554976\n",
      "\n",
      "idx_casos_confirmados 633558\n",
      "casos_confirmados_nao_notifica 27551\n"
     ]
    },
    {
     "output_type": "execute_result",
     "data": {
      "text/plain": [
       "661109"
      ]
     },
     "metadata": {},
     "execution_count": 6
    }
   ],
   "source": [
    "#merge hash_resid\n",
    "casos_hash_resid = casosc.loc[casosc['hash_resid'].isin(casosn['hash_resid'])]\n",
    "print(f\"casos_hash_resid {len(casos_hash_resid)}\")\n",
    "notifica_hash_resid = casosn.loc[(casosn['hash_resid'].isin(casosc['hash_resid']))]\n",
    "print(f\"notifica_hash_resid {len(notifica_hash_resid)}\")\n",
    "merge_hash_resid = pd.merge(casos_hash_resid,notifica_hash_resid[['hash_resid','id']])\n",
    "print(f\"merge_hash_resid {len(merge_hash_resid)}\")\n",
    "merge_hash_resid = merge_hash_resid.drop_duplicates('ordem')\n",
    "print(f\"merge_hash_resid {len(merge_hash_resid)}\\n\")\n",
    "\n",
    "#merge hash_atend\n",
    "casos_hash_atend = casosc.loc[casosc['hash_atend'].isin(casosn['hash_atend'])]\n",
    "print(f\"casos_hash_atend {len(casos_hash_atend)}\")\n",
    "notifica_hash_atend = casosn.loc[(casosn['hash_atend'].isin(casosc['hash_atend']))]\n",
    "print(f\"notifica_hash_atend {len(notifica_hash_atend)}\")\n",
    "merge_hash_atend = pd.merge(casos_hash_atend,notifica_hash_atend[['hash_atend','id']])\n",
    "print(f\"merge_hash_atend {len(merge_hash_atend)}\")\n",
    "merge_hash_atend = merge_hash_atend.drop_duplicates('ordem')\n",
    "print(f\"merge_hash_atend {len(merge_hash_atend)}\\n\")\n",
    "\n",
    "#merge hash_diag\n",
    "casos_hash_diag = casosc.loc[casosc['hash_diag'].isin(casosn['hash_diag'])]\n",
    "print(f\"casos_hash_diag {len(casos_hash_diag)}\")\n",
    "notifica_hash_diag = casosn.loc[(casosn['hash_diag'].isin(casosc['hash_diag']))]\n",
    "print(f\"notifica_hash_diag {len(notifica_hash_diag)}\")\n",
    "merge_hash_diag = pd.merge(casos_hash_diag,notifica_hash_diag[['hash_diag','id']])\n",
    "print(f\"merge_hash_diag {len(merge_hash_diag)}\")\n",
    "merge_hash_diag = merge_hash_diag.drop_duplicates('ordem')\n",
    "print(f\"merge_hash_diag {len(merge_hash_diag)}\\n\")\n",
    "\n",
    "#trasnforma essa lista de index em um conjunto, para deixar apenas os index unicos\n",
    "idx_casos_confirmados = set(casos_hash_resid.index.tolist() + casos_hash_atend.index.tolist() + casos_hash_diag.index.tolist())\n",
    "print(f\"idx_casos_confirmados {len(idx_casos_confirmados)}\")\n",
    "\n",
    "#realiza a diferença de conjunto para pegar os index dos que não foram encotrados no notifica\n",
    "casos_confirmados_nao_notifica = casosc.loc[ set(casosc.index.tolist()) - idx_casos_confirmados ].sort_values('ordem')\n",
    "print(f\"casos_confirmados_nao_notifica {len(casos_confirmados_nao_notifica)}\") ## aqui o numero total é 27910 casos não encontrados no notifica\n",
    "len(idx_casos_confirmados) + len(casos_confirmados_nao_notifica)"
   ]
  },
  {
   "cell_type": "code",
   "execution_count": 7,
   "metadata": {},
   "outputs": [
    {
     "output_type": "stream",
     "name": "stdout",
     "text": [
      "661109\n"
     ]
    }
   ],
   "source": [
    "merge_casos_notifica = pd.concat([merge_hash_resid,merge_hash_atend,merge_hash_diag,casos_confirmados_nao_notifica]).sort_values('ordem')\n",
    "ordem_duplicados = merge_casos_notifica.loc[merge_casos_notifica.duplicated('ordem', keep=False)]\n",
    "merge_casos_notifica = pd.concat([merge_hash_resid,merge_hash_atend,merge_hash_diag,casos_confirmados_nao_notifica]).drop_duplicates('ordem')\n",
    "\n",
    "print(len(merge_casos_notifica))"
   ]
  },
  {
   "cell_type": "code",
   "execution_count": 8,
   "metadata": {},
   "outputs": [
    {
     "output_type": "stream",
     "name": "stdout",
     "text": [
      "(661109, 17)\n",
      "(11982, 11)\n"
     ]
    }
   ],
   "source": [
    "casos_merged = merge_casos_notifica.copy()\n",
    "casos_merged['id'] = casos_merged['id'].fillna('-1').astype(int)\n",
    "\n",
    "casos_merged.loc[casos_merged['recuperado']==1,'evolucao'] = 1\n",
    "casos_merged.loc[casos_merged['obito']==1,'evolucao'] = 2\n",
    "casos_merged.loc[casos_merged['ativo']==1,'evolucao'] = 3\n",
    "\n",
    "casos_merged = casos_merged.rename(columns={\n",
    "    'identificacao': 'id_access',\n",
    "    'laboratorio': 'exame',\n",
    "    'data_obito': 'data_evolucao',\n",
    "    'data_com_obito': 'data_com_evolucao'\n",
    "    })\n",
    "\n",
    "casos_merged.loc[(casos_merged['data_com_evolucao'].isnull() & (casos_merged['evolucao']==2)),'data_com_evolucao'] = casos_merged.loc[(casos_merged['data_com_evolucao'].isnull() & (casos_merged['evolucao']==2)),'data_evolucao']\n",
    "\n",
    "casos_merged = casos_merged[['id_access','id','paciente','sexo','idade','rs','ibge_resid','mun_resid','data_1o_sintomas','ibge_atend','mun_atend','exame','data_diagnostico','data_comunicacao','evolucao','data_evolucao','data_com_evolucao']].sort_values('id_access')\n",
    "\n",
    "obitos_merged = casos_merged.loc[casos_merged['evolucao']==2,['id_access','id','paciente','sexo','idade','rs','ibge_resid','mun_resid','data_diagnostico','data_evolucao','data_com_evolucao']].sort_values('data_com_evolucao')\n",
    "\n",
    "casos_municipios = casos_merged.groupby(['rs','ibge_resid','evolucao'])[['id']].count().unstack(level=[2]).droplevel(0,1).fillna(0).astype(int).rename(columns={1.0:'recuperados',2.0:'obitos',3.0:'ativos'})\n",
    "casos_municipios['casos'] = casos_municipios.sum(axis=1)\n",
    "casos_municipios = casos_municipios[['casos','obitos','recuperados','ativos']]\n",
    "#totais\n",
    "\n",
    "casos_regionais = casos_municipios.groupby('rs')[['casos','obitos','recuperados','ativos']].sum()\n",
    "\n",
    "total_pr = casos_regionais.loc[casos_regionais.index!=99].sum(axis=0)\n",
    "total_geral = casos_regionais.sum(axis=0)\n",
    "\n",
    "casos_municipios = casos_municipios.droplevel(0,0)\n",
    "\n",
    "casos_municipios.loc[('total_pr')] = total_pr           #!!!!!!!!!!!!!!!!!!!!!!!!!!!!!!!!!!!\n",
    "casos_municipios.loc['total_geral'] = total_geral \n",
    "\n",
    "\n",
    "casos_regionais.loc['total_pr'] = total_pr\n",
    "casos_regionais.loc['total_geral'] = total_geral\n",
    "\n",
    "print(casos_merged.shape)\n",
    "print(obitos_merged.shape)"
   ]
  },
  {
   "source": [
    "casos_municipios"
   ],
   "cell_type": "code",
   "metadata": {},
   "execution_count": 9,
   "outputs": [
    {
     "output_type": "execute_result",
     "data": {
      "text/plain": [
       "evolucao      casos  obitos  recuperados  ativos\n",
       "ibge_resid                                      \n",
       "4101200        1543      38         1379     126\n",
       "4109500         270       5          221      44\n",
       "4109609        2959      69         2270     620\n",
       "4115705        1718      39         1426     253\n",
       "4116208        1301      29         1170     102\n",
       "...             ...     ...          ...     ...\n",
       "4123857         253       8          213      32\n",
       "4125001         489       9          455      25\n",
       "9999999        4699      94         1056    3549\n",
       "total_pr     656410   11888       471119  173403\n",
       "total_geral  661109   11982       472175  176952\n",
       "\n",
       "[402 rows x 4 columns]"
      ],
      "text/html": "<div>\n<style scoped>\n    .dataframe tbody tr th:only-of-type {\n        vertical-align: middle;\n    }\n\n    .dataframe tbody tr th {\n        vertical-align: top;\n    }\n\n    .dataframe thead th {\n        text-align: right;\n    }\n</style>\n<table border=\"1\" class=\"dataframe\">\n  <thead>\n    <tr style=\"text-align: right;\">\n      <th>evolucao</th>\n      <th>casos</th>\n      <th>obitos</th>\n      <th>recuperados</th>\n      <th>ativos</th>\n    </tr>\n    <tr>\n      <th>ibge_resid</th>\n      <th></th>\n      <th></th>\n      <th></th>\n      <th></th>\n    </tr>\n  </thead>\n  <tbody>\n    <tr>\n      <th>4101200</th>\n      <td>1543</td>\n      <td>38</td>\n      <td>1379</td>\n      <td>126</td>\n    </tr>\n    <tr>\n      <th>4109500</th>\n      <td>270</td>\n      <td>5</td>\n      <td>221</td>\n      <td>44</td>\n    </tr>\n    <tr>\n      <th>4109609</th>\n      <td>2959</td>\n      <td>69</td>\n      <td>2270</td>\n      <td>620</td>\n    </tr>\n    <tr>\n      <th>4115705</th>\n      <td>1718</td>\n      <td>39</td>\n      <td>1426</td>\n      <td>253</td>\n    </tr>\n    <tr>\n      <th>4116208</th>\n      <td>1301</td>\n      <td>29</td>\n      <td>1170</td>\n      <td>102</td>\n    </tr>\n    <tr>\n      <th>...</th>\n      <td>...</td>\n      <td>...</td>\n      <td>...</td>\n      <td>...</td>\n    </tr>\n    <tr>\n      <th>4123857</th>\n      <td>253</td>\n      <td>8</td>\n      <td>213</td>\n      <td>32</td>\n    </tr>\n    <tr>\n      <th>4125001</th>\n      <td>489</td>\n      <td>9</td>\n      <td>455</td>\n      <td>25</td>\n    </tr>\n    <tr>\n      <th>9999999</th>\n      <td>4699</td>\n      <td>94</td>\n      <td>1056</td>\n      <td>3549</td>\n    </tr>\n    <tr>\n      <th>total_pr</th>\n      <td>656410</td>\n      <td>11888</td>\n      <td>471119</td>\n      <td>173403</td>\n    </tr>\n    <tr>\n      <th>total_geral</th>\n      <td>661109</td>\n      <td>11982</td>\n      <td>472175</td>\n      <td>176952</td>\n    </tr>\n  </tbody>\n</table>\n<p>402 rows × 4 columns</p>\n</div>"
     },
     "metadata": {},
     "execution_count": 9
    }
   ]
  },
  {
   "cell_type": "code",
   "execution_count": 10,
   "metadata": {},
   "outputs": [
    {
     "output_type": "execute_result",
     "data": {
      "text/plain": [
       "evolucao      casos  obitos  recuperados  ativos\n",
       "rs                                              \n",
       "1             21734     397        13142    8195\n",
       "2            187095    4705       145310   37080\n",
       "3             36385     616        24183   11586\n",
       "4              7151     107         5927    1117\n",
       "5             18226     233        11159    6834\n",
       "6              4762      65         3400    1297\n",
       "7             16507     234        13166    3107\n",
       "8             23705     264        18484    4957\n",
       "9             40294     572        29939    9783\n",
       "10            37083     509        33491    3083\n",
       "11            14517     245         9741    4531\n",
       "12            16189     204         9668    6317\n",
       "13             8339      93         7063    1183\n",
       "14            12224     173         8822    3229\n",
       "15            55383     813        42846   11724\n",
       "16            18583     497        10618    7468\n",
       "17            65530    1030        28766   35734\n",
       "18            11491     247         9290    1954\n",
       "19            11851     212         8349    3290\n",
       "20            30886     362        26420    4104\n",
       "21            13403     222         7058    6123\n",
       "22             5072      88         4277     707\n",
       "99             4699      94         1056    3549\n",
       "total_pr     656410   11888       471119  173403\n",
       "total_geral  661109   11982       472175  176952"
      ],
      "text/html": "<div>\n<style scoped>\n    .dataframe tbody tr th:only-of-type {\n        vertical-align: middle;\n    }\n\n    .dataframe tbody tr th {\n        vertical-align: top;\n    }\n\n    .dataframe thead th {\n        text-align: right;\n    }\n</style>\n<table border=\"1\" class=\"dataframe\">\n  <thead>\n    <tr style=\"text-align: right;\">\n      <th>evolucao</th>\n      <th>casos</th>\n      <th>obitos</th>\n      <th>recuperados</th>\n      <th>ativos</th>\n    </tr>\n    <tr>\n      <th>rs</th>\n      <th></th>\n      <th></th>\n      <th></th>\n      <th></th>\n    </tr>\n  </thead>\n  <tbody>\n    <tr>\n      <th>1</th>\n      <td>21734</td>\n      <td>397</td>\n      <td>13142</td>\n      <td>8195</td>\n    </tr>\n    <tr>\n      <th>2</th>\n      <td>187095</td>\n      <td>4705</td>\n      <td>145310</td>\n      <td>37080</td>\n    </tr>\n    <tr>\n      <th>3</th>\n      <td>36385</td>\n      <td>616</td>\n      <td>24183</td>\n      <td>11586</td>\n    </tr>\n    <tr>\n      <th>4</th>\n      <td>7151</td>\n      <td>107</td>\n      <td>5927</td>\n      <td>1117</td>\n    </tr>\n    <tr>\n      <th>5</th>\n      <td>18226</td>\n      <td>233</td>\n      <td>11159</td>\n      <td>6834</td>\n    </tr>\n    <tr>\n      <th>6</th>\n      <td>4762</td>\n      <td>65</td>\n      <td>3400</td>\n      <td>1297</td>\n    </tr>\n    <tr>\n      <th>7</th>\n      <td>16507</td>\n      <td>234</td>\n      <td>13166</td>\n      <td>3107</td>\n    </tr>\n    <tr>\n      <th>8</th>\n      <td>23705</td>\n      <td>264</td>\n      <td>18484</td>\n      <td>4957</td>\n    </tr>\n    <tr>\n      <th>9</th>\n      <td>40294</td>\n      <td>572</td>\n      <td>29939</td>\n      <td>9783</td>\n    </tr>\n    <tr>\n      <th>10</th>\n      <td>37083</td>\n      <td>509</td>\n      <td>33491</td>\n      <td>3083</td>\n    </tr>\n    <tr>\n      <th>11</th>\n      <td>14517</td>\n      <td>245</td>\n      <td>9741</td>\n      <td>4531</td>\n    </tr>\n    <tr>\n      <th>12</th>\n      <td>16189</td>\n      <td>204</td>\n      <td>9668</td>\n      <td>6317</td>\n    </tr>\n    <tr>\n      <th>13</th>\n      <td>8339</td>\n      <td>93</td>\n      <td>7063</td>\n      <td>1183</td>\n    </tr>\n    <tr>\n      <th>14</th>\n      <td>12224</td>\n      <td>173</td>\n      <td>8822</td>\n      <td>3229</td>\n    </tr>\n    <tr>\n      <th>15</th>\n      <td>55383</td>\n      <td>813</td>\n      <td>42846</td>\n      <td>11724</td>\n    </tr>\n    <tr>\n      <th>16</th>\n      <td>18583</td>\n      <td>497</td>\n      <td>10618</td>\n      <td>7468</td>\n    </tr>\n    <tr>\n      <th>17</th>\n      <td>65530</td>\n      <td>1030</td>\n      <td>28766</td>\n      <td>35734</td>\n    </tr>\n    <tr>\n      <th>18</th>\n      <td>11491</td>\n      <td>247</td>\n      <td>9290</td>\n      <td>1954</td>\n    </tr>\n    <tr>\n      <th>19</th>\n      <td>11851</td>\n      <td>212</td>\n      <td>8349</td>\n      <td>3290</td>\n    </tr>\n    <tr>\n      <th>20</th>\n      <td>30886</td>\n      <td>362</td>\n      <td>26420</td>\n      <td>4104</td>\n    </tr>\n    <tr>\n      <th>21</th>\n      <td>13403</td>\n      <td>222</td>\n      <td>7058</td>\n      <td>6123</td>\n    </tr>\n    <tr>\n      <th>22</th>\n      <td>5072</td>\n      <td>88</td>\n      <td>4277</td>\n      <td>707</td>\n    </tr>\n    <tr>\n      <th>99</th>\n      <td>4699</td>\n      <td>94</td>\n      <td>1056</td>\n      <td>3549</td>\n    </tr>\n    <tr>\n      <th>total_pr</th>\n      <td>656410</td>\n      <td>11888</td>\n      <td>471119</td>\n      <td>173403</td>\n    </tr>\n    <tr>\n      <th>total_geral</th>\n      <td>661109</td>\n      <td>11982</td>\n      <td>472175</td>\n      <td>176952</td>\n    </tr>\n  </tbody>\n</table>\n</div>"
     },
     "metadata": {},
     "execution_count": 10
    }
   ],
   "source": [
    "casos_regionais"
   ]
  },
  {
   "cell_type": "code",
   "execution_count": 11,
   "metadata": {},
   "outputs": [],
   "source": [
    "writer = pd.ExcelWriter(join(output,\"casos_merged.xlsx\"),\n",
    "                        engine='xlsxwriter',\n",
    "                        datetime_format='dd/mm/yyyy',\n",
    "                        date_format='dd/mm/yyyy')\n",
    "\n",
    "casos_merged.to_excel(writer,sheet_name='casos_merged',index=None)\n",
    "worksheet = writer.sheets['casos_merged']\n",
    "auto_fit_columns(worksheet,casos_merged)\n",
    "\n",
    "obitos_merged.to_excel(writer,sheet_name='obitos_merged',index=None)\n",
    "worksheet = writer.sheets['obitos_merged']\n",
    "auto_fit_columns(worksheet,obitos_merged)\n",
    "\n",
    "casos_regionais.to_excel(writer,sheet_name='casos_regionais')\n",
    "worksheet = writer.sheets['casos_regionais']\n",
    "auto_fit_columns(worksheet,casos_regionais)\n",
    "\n",
    "casos_municipios.to_excel(writer,sheet_name='casos_municipios')\n",
    "worksheet = writer.sheets['casos_municipios']\n",
    "auto_fit_columns(worksheet,casos_municipios)\n",
    "\n",
    "writer.save()\n",
    "writer.close()"
   ]
  },
  {
   "cell_type": "code",
   "execution_count": 12,
   "metadata": {},
   "outputs": [
    {
     "output_type": "stream",
     "name": "stdout",
     "text": [
      "661109\n"
     ]
    }
   ],
   "source": [
    "merge_casos_notifica = pd.merge(merge_casos_notifica, casosn[['id','uf_residencia','classificacao_final','criterio_classificacao','exame','metodo','evolucao','excluir_ficha','manter','duplicado']], on='id', how='left')\n",
    "\n",
    "merge_casos_notifica.loc[merge_casos_notifica['classificacao_final'].isnull(),'classificacao_final'] = \"SEM NOTIFICACAO\"\n",
    "merge_casos_notifica['caso'] = 1\n",
    "print(len(merge_casos_notifica))"
   ]
  },
  {
   "cell_type": "code",
   "execution_count": 13,
   "metadata": {},
   "outputs": [
    {
     "output_type": "execute_result",
     "data": {
      "text/plain": [
       "                  casos  obitos  recuperados  ativos\n",
       "0.0                  51       0           38      13\n",
       "1.0               45677     742        26295   18640\n",
       "2.0              583858   10523       428378  144957\n",
       "3.0                3941      50          866    3025\n",
       "5.0                  31       0            2      29\n",
       "SEM NOTIFICACAO   27551     667        16596   10288\n",
       "Total            661109   11982       472175  176952"
      ],
      "text/html": "<div>\n<style scoped>\n    .dataframe tbody tr th:only-of-type {\n        vertical-align: middle;\n    }\n\n    .dataframe tbody tr th {\n        vertical-align: top;\n    }\n\n    .dataframe thead th {\n        text-align: right;\n    }\n</style>\n<table border=\"1\" class=\"dataframe\">\n  <thead>\n    <tr style=\"text-align: right;\">\n      <th></th>\n      <th>casos</th>\n      <th>obitos</th>\n      <th>recuperados</th>\n      <th>ativos</th>\n    </tr>\n  </thead>\n  <tbody>\n    <tr>\n      <th>0.0</th>\n      <td>51</td>\n      <td>0</td>\n      <td>38</td>\n      <td>13</td>\n    </tr>\n    <tr>\n      <th>1.0</th>\n      <td>45677</td>\n      <td>742</td>\n      <td>26295</td>\n      <td>18640</td>\n    </tr>\n    <tr>\n      <th>2.0</th>\n      <td>583858</td>\n      <td>10523</td>\n      <td>428378</td>\n      <td>144957</td>\n    </tr>\n    <tr>\n      <th>3.0</th>\n      <td>3941</td>\n      <td>50</td>\n      <td>866</td>\n      <td>3025</td>\n    </tr>\n    <tr>\n      <th>5.0</th>\n      <td>31</td>\n      <td>0</td>\n      <td>2</td>\n      <td>29</td>\n    </tr>\n    <tr>\n      <th>SEM NOTIFICACAO</th>\n      <td>27551</td>\n      <td>667</td>\n      <td>16596</td>\n      <td>10288</td>\n    </tr>\n    <tr>\n      <th>Total</th>\n      <td>661109</td>\n      <td>11982</td>\n      <td>472175</td>\n      <td>176952</td>\n    </tr>\n  </tbody>\n</table>\n</div>"
     },
     "metadata": {},
     "execution_count": 13
    }
   ],
   "source": [
    "gcf = merge_casos_notifica.groupby('classificacao_final')[['caso','obito','recuperado','ativo']].sum()\n",
    "gcf = gcf.rename(columns={'caso':'casos','obito':'obitos','recuperado':'recuperados','ativo':'ativos'})\n",
    "gcf = gcf.append(pd.DataFrame(data=[gcf.sum(axis=0)],columns=gcf.columns,index=['Total']))\n",
    "gcf"
   ]
  },
  {
   "cell_type": "code",
   "execution_count": 14,
   "metadata": {},
   "outputs": [
    {
     "output_type": "execute_result",
     "data": {
      "text/plain": [
       "        casos  obitos  recuperados  ativos\n",
       "0.0      4967     100         1129    3738\n",
       "1.0    399169     596       383548   15025\n",
       "2.0      9901    9682           42     177\n",
       "3.0    219409     912        70846  147651\n",
       "4.0       112      25           14      73\n",
       "Total  633558   11315       455579  166664"
      ],
      "text/html": "<div>\n<style scoped>\n    .dataframe tbody tr th:only-of-type {\n        vertical-align: middle;\n    }\n\n    .dataframe tbody tr th {\n        vertical-align: top;\n    }\n\n    .dataframe thead th {\n        text-align: right;\n    }\n</style>\n<table border=\"1\" class=\"dataframe\">\n  <thead>\n    <tr style=\"text-align: right;\">\n      <th></th>\n      <th>casos</th>\n      <th>obitos</th>\n      <th>recuperados</th>\n      <th>ativos</th>\n    </tr>\n  </thead>\n  <tbody>\n    <tr>\n      <th>0.0</th>\n      <td>4967</td>\n      <td>100</td>\n      <td>1129</td>\n      <td>3738</td>\n    </tr>\n    <tr>\n      <th>1.0</th>\n      <td>399169</td>\n      <td>596</td>\n      <td>383548</td>\n      <td>15025</td>\n    </tr>\n    <tr>\n      <th>2.0</th>\n      <td>9901</td>\n      <td>9682</td>\n      <td>42</td>\n      <td>177</td>\n    </tr>\n    <tr>\n      <th>3.0</th>\n      <td>219409</td>\n      <td>912</td>\n      <td>70846</td>\n      <td>147651</td>\n    </tr>\n    <tr>\n      <th>4.0</th>\n      <td>112</td>\n      <td>25</td>\n      <td>14</td>\n      <td>73</td>\n    </tr>\n    <tr>\n      <th>Total</th>\n      <td>633558</td>\n      <td>11315</td>\n      <td>455579</td>\n      <td>166664</td>\n    </tr>\n  </tbody>\n</table>\n</div>"
     },
     "metadata": {},
     "execution_count": 14
    }
   ],
   "source": [
    "gce = merge_casos_notifica.groupby('evolucao')[['caso','obito','recuperado','ativo']].sum()\n",
    "gce = gce.rename(columns={'caso':'casos','obito':'obitos','recuperado':'recuperados','ativo':'ativos'})\n",
    "gce = gce.append(pd.DataFrame(data=[gce.sum(axis=0)],columns=gce.columns,index=['Total']))\n",
    "gce"
   ]
  },
  {
   "cell_type": "code",
   "execution_count": 15,
   "metadata": {},
   "outputs": [],
   "source": [
    "merge_casos_notifica = merge_casos_notifica[['ordem', 'identificacao', 'id','uf_residencia','ibge_resid', 'ibge_atend', 'paciente', 'sexo', 'idade', 'mun_resid', 'mun_atend', 'rs', 'classificacao_final', 'laboratorio', 'exame', 'metodo', 'data_diagnostico', 'data_comunicacao', 'data_1o_sintomas','evolucao', 'recuperado', 'caso', 'obito', 'ativo', 'data_obito', 'data_com_obito', 'excluir','excluir_ficha','manter','duplicado']]"
   ]
  },
  {
   "cell_type": "code",
   "execution_count": 16,
   "metadata": {},
   "outputs": [
    {
     "output_type": "execute_result",
     "data": {
      "text/plain": [
       "                                      id\n",
       "obitos_nao_casos_confirmados         219\n",
       "obitos_nao_notifica                 1633\n",
       "recuperados_nao_casos_confirmados  15621\n",
       "recuperados_nao_notifica           72031\n",
       "Total                              89504"
      ],
      "text/html": "<div>\n<style scoped>\n    .dataframe tbody tr th:only-of-type {\n        vertical-align: middle;\n    }\n\n    .dataframe tbody tr th {\n        vertical-align: top;\n    }\n\n    .dataframe thead th {\n        text-align: right;\n    }\n</style>\n<table border=\"1\" class=\"dataframe\">\n  <thead>\n    <tr style=\"text-align: right;\">\n      <th></th>\n      <th>id</th>\n    </tr>\n  </thead>\n  <tbody>\n    <tr>\n      <th>obitos_nao_casos_confirmados</th>\n      <td>219</td>\n    </tr>\n    <tr>\n      <th>obitos_nao_notifica</th>\n      <td>1633</td>\n    </tr>\n    <tr>\n      <th>recuperados_nao_casos_confirmados</th>\n      <td>15621</td>\n    </tr>\n    <tr>\n      <th>recuperados_nao_notifica</th>\n      <td>72031</td>\n    </tr>\n    <tr>\n      <th>Total</th>\n      <td>89504</td>\n    </tr>\n  </tbody>\n</table>\n</div>"
     },
     "metadata": {},
     "execution_count": 16
    }
   ],
   "source": [
    "obitos_nao_notifica = merge_casos_notifica.loc[(merge_casos_notifica['obito']==1) & (merge_casos_notifica['evolucao']!=2)].copy()\n",
    "obitos_nao_casos_confirmados = merge_casos_notifica.loc[(merge_casos_notifica['obito']==0) & (merge_casos_notifica['evolucao']==2)].copy()\n",
    "recuperados_nao_notifica = merge_casos_notifica.loc[(merge_casos_notifica['recuperado']==1) & (merge_casos_notifica['evolucao']!=1)].copy()\n",
    "recuperados_nao_casos_confirmados = merge_casos_notifica.loc[(merge_casos_notifica['recuperado']==0) & (merge_casos_notifica['evolucao']==1)].copy()\n",
    "\n",
    "obitos_nao_notifica['diff'] = 'obitos_nao_notifica'\n",
    "obitos_nao_casos_confirmados['diff'] = 'obitos_nao_casos_confirmados'\n",
    "recuperados_nao_notifica['diff'] = 'recuperados_nao_notifica'\n",
    "recuperados_nao_casos_confirmados['diff'] = 'recuperados_nao_casos_confirmados'\n",
    "\n",
    "diferencas = obitos_nao_notifica.append(obitos_nao_casos_confirmados.append(recuperados_nao_notifica.append(recuperados_nao_casos_confirmados)))\n",
    "\n",
    "gdiff = diferencas.groupby('diff')[['id']].count() #'caso','obito','recuperado','ativo'\n",
    "# gdiff = gdiff.rename(columns={'caso':'casos','obito':'obitos','recuperado':'recuperados','ativo':'ativos'})\n",
    "gdiff = gdiff.append(pd.DataFrame(data=[gdiff.sum(axis=0)],columns=gdiff.columns,index=['Total']))\n",
    "gdiff"
   ]
  },
  {
   "cell_type": "code",
   "execution_count": 17,
   "metadata": {},
   "outputs": [],
   "source": [
    "casos_comunicados = merge_casos_notifica\n",
    "\n",
    "writer = pd.ExcelWriter(join(output,\"casos_comunicados.xlsx\"),\n",
    "                        engine='xlsxwriter',\n",
    "                        datetime_format='dd/mm/yyyy',\n",
    "                        date_format='dd/mm/yyyy')\n",
    "\n",
    "\n",
    "casos_comunicados.to_excel(writer,sheet_name='casos_comunicados',index=None)\n",
    "worksheet = writer.sheets[\"casos_comunicados\"]\n",
    "auto_fit_columns(worksheet,casos_comunicados)\n",
    "\n",
    "writer.save()\n",
    "writer.close()"
   ]
  },
  {
   "cell_type": "code",
   "execution_count": 18,
   "metadata": {},
   "outputs": [],
   "source": [
    "recuperados = merge_casos_notifica.loc[(merge_casos_notifica['evolucao']==1) & (merge_casos_notifica['obito']!=1)].copy()\n",
    "recuperados = pd.merge(recuperados,casosn[['id','data_cura_obito','origem']], how='left', on='id')\n",
    "\n",
    "recuperados['recuperado'] = 'SIM'\n",
    "recuperados['data'] = date.today()\n",
    "recuperados['fonte'] = recuperados['origem']\n",
    "recuperados.loc[recuperados['data_cura_obito'].isnull(),'data_cura_obito'] = date.today()\n",
    "\n",
    "recuperados = recuperados[['ordem','identificacao','id','recuperado','data','fonte','mun_resid','ibge_resid','paciente','sexo','idade','data_cura_obito']]\n",
    "\n",
    "writer = pd.ExcelWriter(join(output,\"recuperados.xlsx\"),\n",
    "                        engine='xlsxwriter',\n",
    "                        datetime_format='dd/mm/yyyy',\n",
    "                        date_format='dd/mm/yyyy')\n",
    "\n",
    "\n",
    "recuperados.to_excel(writer,sheet_name='recuperados',index=None)\n",
    "worksheet = writer.sheets[\"recuperados\"]\n",
    "auto_fit_columns(worksheet,recuperados)\n",
    "\n",
    "writer.save()\n",
    "writer.close()"
   ]
  },
  {
   "cell_type": "code",
   "execution_count": 20,
   "metadata": {},
   "outputs": [],
   "source": [
    "writer = pd.ExcelWriter(join(output,\"merge_casos_notifica_classificacao_final.xlsx\"),\n",
    "                        engine='xlsxwriter',\n",
    "                        datetime_format='dd/mm/yyyy',\n",
    "                        date_format='dd/mm/yyyy')\n",
    "\n",
    "gcf.to_excel(writer,sheet_name='totais')\n",
    "worksheet = writer.sheets[\"totais\"]\n",
    "auto_fit_columns(worksheet,gcf)\n",
    "\n",
    "for group, df in merge_casos_notifica.groupby('classificacao_final'):\n",
    "    group = str(group)\n",
    "    df.to_excel(writer,sheet_name=group,index=None)\n",
    "    worksheet = writer.sheets[group]\n",
    "    auto_fit_columns(worksheet,df)\n",
    "\n",
    "writer.save()\n",
    "writer.close()"
   ]
  },
  {
   "cell_type": "code",
   "execution_count": 21,
   "metadata": {},
   "outputs": [],
   "source": [
    "writer = pd.ExcelWriter(join(output,\"merge_casos_notifica_evolucao.xlsx\"),\n",
    "                        engine='xlsxwriter',\n",
    "                        datetime_format='dd/mm/yyyy',\n",
    "                        date_format='dd/mm/yyyy')\n",
    "\n",
    "gce.to_excel(writer,sheet_name='totais')\n",
    "worksheet = writer.sheets[\"totais\"]\n",
    "auto_fit_columns(worksheet,gce)\n",
    "\n",
    "for evolucao, df in merge_casos_notifica.groupby('evolucao'):\n",
    "    df.to_excel(writer,sheet_name=f\"{evolucao}\",index=None)\n",
    "    worksheet = writer.sheets[f\"{evolucao}\"]\n",
    "    auto_fit_columns(worksheet,df)\n",
    "\n",
    "writer.save()\n",
    "writer.close()"
   ]
  },
  {
   "cell_type": "code",
   "execution_count": 22,
   "metadata": {},
   "outputs": [],
   "source": [
    "writer = pd.ExcelWriter(join(output,\"merge_casos_notifica_diferencas.xlsx\"),\n",
    "                        engine='xlsxwriter',\n",
    "                        datetime_format='dd/mm/yyyy',\n",
    "                        date_format='dd/mm/yyyy')\n",
    "\n",
    "gdiff.to_excel(writer,sheet_name='totais')\n",
    "worksheet = writer.sheets[\"totais\"]\n",
    "auto_fit_columns(worksheet,gdiff)\n",
    "\n",
    "for diff, df in diferencas.groupby('diff'):\n",
    "    diff = diff[:30] if len(diff) > 30 else diff\n",
    "    df.to_excel(writer,sheet_name=f\"{diff}\",index=None)\n",
    "    worksheet = writer.sheets[f\"{diff}\"]\n",
    "    auto_fit_columns(worksheet,df)\n",
    "\n",
    "writer.save()\n",
    "writer.close()"
   ]
  },
  {
   "cell_type": "code",
   "execution_count": null,
   "metadata": {},
   "outputs": [],
   "source": []
  }
 ]
}