{
 "cells": [
  {
   "cell_type": "code",
   "execution_count": null,
   "metadata": {},
   "outputs": [],
   "source": [
    "print('merge_notifica')\n",
    "from sys import exit\n",
    "import numpy as np\n",
    "import pandas as pd\n",
    "from os.path import dirname, join, isfile, isdir\n",
    "from os import makedirs\n",
    "from datetime import datetime, timedelta, date\n",
    "\n",
    "from bulletin.data.notifica import Notifica\n",
    "from bulletin.data.casos_confirmados import CasosConfirmados\n",
    "from bulletin.commom.utils import Timer, get_better_notifica, auto_fit_columns\n",
    "from bulletin.commom.static import meses\n",
    "from bulletin.metabase.request import download_metabase\n",
    "\n",
    "pd.set_option('display.max_columns', None)\n",
    "\n",
    "output = join(\"output\",\"correcoes\",\"merge_notifica\")\n",
    "\n",
    "if not isdir(output):\n",
    "    makedirs(output)\n",
    "\n",
    "timerAll = Timer()\n",
    "timer = Timer()"
   ]
  },
  {
   "cell_type": "code",
   "execution_count": null,
   "metadata": {},
   "outputs": [],
   "source": [
    "cc = CasosConfirmados()\n",
    "cc.load()\n",
    "\n",
    "notifica = Notifica()\n",
    "notifica.load()\n",
    "\n",
    "print(cc.shape())\n",
    "print(notifica.shape())"
   ]
  },
  {
   "cell_type": "code",
   "execution_count": null,
   "metadata": {},
   "outputs": [],
   "source": [
    "casosc = cc.get_casos()\n",
    "casosn = notifica.get_casos()\n",
    "# casosn = casosn.loc[(casosn['duplicado']==0) | ((casosn['duplicado']==1) & (casosn['manter']==1))]\n",
    "print(casosn.shape)"
   ]
  },
  {
   "cell_type": "code",
   "execution_count": null,
   "metadata": {},
   "outputs": [],
   "source": [
    "idx_casos_confirmados = casosc[casosc['hash_resid'].isin(casosn['hash_resid'])].index.tolist()\n",
    "idx_casos_confirmados = casosc[casosc['hash_resid_less'].isin(casosn['hash_resid'])].index.tolist()\n",
    "idx_casos_confirmados = casosc[casosc['hash_resid_more'].isin(casosn['hash_resid'])].index.tolist()\n",
    "idx_casos_confirmados += casosc[casosc['hash_atend'].isin(casosn['hash_atend'])].index.tolist()\n",
    "idx_casos_confirmados += casosc[casosc['hash_diag'].isin(casosn['hash_diag'])].index.tolist()\n",
    "\n",
    "idx_casos_confirmados = set(idx_casos_confirmados)\n",
    "casos_confirmados_nao_notifica = casosc.loc[ set(casosc.index.tolist()) - idx_casos_confirmados ].sort_values('ordem')\n",
    "casos_confirmados_nao_notifica.shape"
   ]
  },
  {
   "cell_type": "code",
   "execution_count": null,
   "metadata": {},
   "outputs": [],
   "source": [
    "exit()\n",
    "idx_casos_notifica = casosn[casosn['hash_resid'].isin(casosc['hash_resid'])].index.tolist()\n",
    "idx_casos_notifica += casosn[casosn['hash_atend'].isin(casosc['hash_atend'])].index.tolist()\n",
    "idx_casos_notifica += casosn[casosn['hash_diag'].isin(casosc['hash_diag'])].index.tolist()\n",
    "\n",
    "idx_casos_notifica = set(idx_casos_notifica)\n",
    "casos_confirmados_notifica = casosn.loc[ idx_casos_notifica ].sort_values('id')\n",
    "casos_confirmados_notifica.shape"
   ]
  },
  {
   "cell_type": "code",
   "execution_count": null,
   "metadata": {},
   "outputs": [],
   "source": [
    "#merge hash_resid\n",
    "casos_hash_resid = casosc.loc[casosc['hash_resid'].isin(casosn['hash_resid'])]\n",
    "print(f\"casos_hash_resid {len(casos_hash_resid)}\")\n",
    "notifica_hash_resid = casosn.loc[(casosn['hash_resid'].isin(casosc['hash_resid']))]\n",
    "print(f\"notifica_hash_resid {len(notifica_hash_resid)}\")\n",
    "merge_hash_resid = pd.merge(casos_hash_resid,notifica_hash_resid[['hash_resid','id']])\n",
    "print(f\"merge_hash_resid {len(merge_hash_resid)}\")\n",
    "merge_hash_resid = merge_hash_resid.drop_duplicates('ordem')\n",
    "print(f\"merge_hash_resid {len(merge_hash_resid)}\\n\")\n",
    "\n",
    "#merge hash_atend\n",
    "casos_hash_atend = casosc.loc[casosc['hash_atend'].isin(casosn['hash_atend'])]\n",
    "print(f\"casos_hash_atend {len(casos_hash_atend)}\")\n",
    "notifica_hash_atend = casosn.loc[(casosn['hash_atend'].isin(casosc['hash_atend']))]\n",
    "print(f\"notifica_hash_atend {len(notifica_hash_atend)}\")\n",
    "merge_hash_atend = pd.merge(casos_hash_atend,notifica_hash_atend[['hash_atend','id']])\n",
    "print(f\"merge_hash_atend {len(merge_hash_atend)}\")\n",
    "merge_hash_atend = merge_hash_atend.drop_duplicates('ordem')\n",
    "print(f\"merge_hash_atend {len(merge_hash_atend)}\\n\")\n",
    "\n",
    "#merge hash_diag\n",
    "casos_hash_diag = casosc.loc[casosc['hash_diag'].isin(casosn['hash_diag'])]\n",
    "print(f\"casos_hash_diag {len(casos_hash_diag)}\")\n",
    "notifica_hash_diag = casosn.loc[(casosn['hash_diag'].isin(casosc['hash_diag']))]\n",
    "print(f\"notifica_hash_diag {len(notifica_hash_diag)}\")\n",
    "merge_hash_diag = pd.merge(casos_hash_diag,notifica_hash_diag[['hash_diag','id']])\n",
    "print(f\"merge_hash_diag {len(merge_hash_diag)}\")\n",
    "merge_hash_diag = merge_hash_diag.drop_duplicates('ordem')\n",
    "print(f\"merge_hash_diag {len(merge_hash_diag)}\\n\")\n",
    "\n",
    "#trasnforma essa lista de index em um conjunto, para deixar apenas os index unicos\n",
    "idx_casos_confirmados = set(casos_hash_resid.index.tolist() + casos_hash_atend.index.tolist() + casos_hash_diag.index.tolist())\n",
    "print(f\"idx_casos_confirmados {len(idx_casos_confirmados)}\")\n",
    "\n",
    "#realiza a diferença de conjunto para pegar os index dos que não foram encotrados no notifica\n",
    "casos_confirmados_nao_notifica = casosc.loc[ set(casosc.index.tolist()) - idx_casos_confirmados ].sort_values('ordem')\n",
    "print(f\"casos_confirmados_nao_notifica {len(casos_confirmados_nao_notifica)}\") ## aqui o numero total é 27910 casos não encontrados no notifica\n",
    "len(idx_casos_confirmados) + len(casos_confirmados_nao_notifica)"
   ]
  },
  {
   "cell_type": "code",
   "execution_count": null,
   "metadata": {},
   "outputs": [],
   "source": [
    "merge_casos_notifica = pd.concat([merge_hash_resid,merge_hash_atend,merge_hash_diag,casos_confirmados_nao_notifica]).drop_duplicates('ordem').sort_values('ordem')\n",
    "\n",
    "print(len(merge_casos_notifica))\n",
    "\n",
    "merge_casos_notifica = pd.merge(merge_casos_notifica, casosn[['id','uf_residencia','classificacao_final','criterio_classificacao','exame','metodo','evolucao','excluir_ficha','manter','duplicado']], on='id', how='left')\n",
    "\n",
    "merge_casos_notifica.loc[merge_casos_notifica['classificacao_final'].isnull(),'classificacao_final'] = \"SEM NOTIFICACAO\"\n",
    "merge_casos_notifica['caso'] = 1\n",
    "print(len(merge_casos_notifica))\n"
   ]
  },
  {
   "cell_type": "code",
   "execution_count": null,
   "metadata": {},
   "outputs": [],
   "source": [
    "gcf = merge_casos_notifica.groupby('classificacao_final')[['caso','obito','recuperado','ativo']].sum()\n",
    "gcf = gcf.rename(columns={'caso':'casos','obito':'obitos','recuperado':'recuperados','ativo':'ativos'})\n",
    "gcf = gcf.append(pd.DataFrame(data=[gcf.sum(axis=0)],columns=gcf.columns,index=['Total']))\n",
    "gcf"
   ]
  },
  {
   "cell_type": "code",
   "execution_count": null,
   "metadata": {},
   "outputs": [],
   "source": [
    "gce = merge_casos_notifica.groupby('evolucao')[['caso','obito','recuperado','ativo']].sum()\n",
    "gce = gce.rename(columns={'caso':'casos','obito':'obitos','recuperado':'recuperados','ativo':'ativos'})\n",
    "gce = gce.append(pd.DataFrame(data=[gce.sum(axis=0)],columns=gce.columns,index=['Total']))\n",
    "gce"
   ]
  },
  {
   "cell_type": "code",
   "execution_count": null,
   "metadata": {},
   "outputs": [],
   "source": [
    "merge_casos_notifica = merge_casos_notifica[['ordem', 'identificacao', 'id','uf_residencia','ibge_resid', 'ibge_atend', 'paciente', 'sexo', 'idade', 'mun_resid', 'mun_atend', 'rs', 'classificacao_final', 'laboratorio', 'exame', 'metodo', 'data_diagnostico', 'data_comunicacao', 'data_1o_sintomas','evolucao', 'recuperado', 'caso', 'obito', 'ativo', 'data_obito', 'data_com_obito', 'excluir','excluir_ficha','manter','duplicado']]"
   ]
  },
  {
   "cell_type": "code",
   "execution_count": null,
   "metadata": {},
   "outputs": [],
   "source": [
    "obitos_nao_notifica = merge_casos_notifica.loc[(merge_casos_notifica['obito']==1) & (merge_casos_notifica['evolucao']!=2)].copy()\n",
    "obitos_nao_casos_confirmados = merge_casos_notifica.loc[(merge_casos_notifica['obito']==0) & (merge_casos_notifica['evolucao']==2)].copy()\n",
    "recuperados_nao_notifica = merge_casos_notifica.loc[(merge_casos_notifica['recuperado']==1) & (merge_casos_notifica['evolucao']!=1)].copy()\n",
    "recuperados_nao_casos_confirmados = merge_casos_notifica.loc[(merge_casos_notifica['recuperado']==0) & (merge_casos_notifica['evolucao']==1)].copy()\n",
    "\n",
    "obitos_nao_notifica['diff'] = 'obitos_nao_notifica'\n",
    "obitos_nao_casos_confirmados['diff'] = 'obitos_nao_casos_confirmados'\n",
    "recuperados_nao_notifica['diff'] = 'recuperados_nao_notifica'\n",
    "recuperados_nao_casos_confirmados['diff'] = 'recuperados_nao_casos_confirmados'\n",
    "\n",
    "diferencas = obitos_nao_notifica.append(obitos_nao_casos_confirmados.append(recuperados_nao_notifica.append(recuperados_nao_casos_confirmados)))\n",
    "\n",
    "gdiff = diferencas.groupby('diff')[['id']].count() #'caso','obito','recuperado','ativo'\n",
    "# gdiff = gdiff.rename(columns={'caso':'casos','obito':'obitos','recuperado':'recuperados','ativo':'ativos'})\n",
    "gdiff = gdiff.append(pd.DataFrame(data=[gdiff.sum(axis=0)],columns=gdiff.columns,index=['Total']))\n",
    "gdiff"
   ]
  },
  {
   "cell_type": "code",
   "execution_count": null,
   "metadata": {},
   "outputs": [],
   "source": [
    "casos_comunicados = merge_casos_notifica\n",
    "casos_comunicados['evolucao'] = 3\n",
    "casos_comunicados.loc[casos_comunicados['recuperados'],'evolucao'] = 1\n",
    "casos_comunicados.loc[casos_comunicados['obitos'],'evolucao'] = 2\n",
    "\n",
    "casos_comunicados = casos_comunicados.rename(columns={'data_obito':'data_evolucao', 'data_com_obito':'data_com_evolucao'})\n",
    "\n",
    "casos_comunicados = casos_comunicados[['ordem', 'identificacao', 'id','uf_residencia','ibge_resid', 'ibge_atend', 'paciente', 'sexo', 'idade', 'mun_resid', 'mun_atend', 'rs', 'classificacao_final', 'laboratorio', 'exame', 'metodo', 'data_diagnostico', 'data_comunicacao', 'data_1o_sintomas','evolucao', 'data_evolucao', 'data_com_evolucao','manter','duplicado']]"
   ]
  },
  {
   "cell_type": "code",
   "execution_count": null,
   "metadata": {},
   "outputs": [],
   "source": [
    "casos_comunicados.to_csv(writer,index=None)"
   ]
  },
  {
   "cell_type": "code",
   "execution_count": null,
   "metadata": {},
   "outputs": [],
   "source": [
    "writer = pd.ExcelWriter(join(output,\"merge_casos_notifica_classificacao_final.xlsx\"),\n",
    "                        engine='xlsxwriter',\n",
    "                        datetime_format='dd/mm/yyyy',\n",
    "                        date_format='dd/mm/yyyy')\n",
    "\n",
    "gcf.to_excel(writer,sheet_name='totais')\n",
    "worksheet = writer.sheets[\"totais\"]\n",
    "auto_fit_columns(worksheet,gcf)\n",
    "\n",
    "for group, df in merge_casos_notifica.groupby('classificacao_final'):\n",
    "    group = group[:30] if len(group) > 30 else group\n",
    "    df.to_excel(writer,sheet_name=group,index=None)\n",
    "    worksheet = writer.sheets[group]\n",
    "    auto_fit_columns(worksheet,df)\n",
    "\n",
    "writer.save()\n",
    "writer.close()"
   ]
  },
  {
   "cell_type": "code",
   "execution_count": null,
   "metadata": {},
   "outputs": [],
   "source": [
    "writer = pd.ExcelWriter(join(output,\"merge_casos_notifica_evolucao.xlsx\"),\n",
    "                        engine='xlsxwriter',\n",
    "                        datetime_format='dd/mm/yyyy',\n",
    "                        date_format='dd/mm/yyyy')\n",
    "\n",
    "gce.to_excel(writer,sheet_name='totais')\n",
    "worksheet = writer.sheets[\"totais\"]\n",
    "auto_fit_columns(worksheet,gce)\n",
    "\n",
    "for evolucao, df in merge_casos_notifica.groupby('evolucao'):\n",
    "    df.to_excel(writer,sheet_name=f\"{evolucao}\",index=None)\n",
    "    worksheet = writer.sheets[f\"{evolucao}\"]\n",
    "    auto_fit_columns(worksheet,df)\n",
    "\n",
    "writer.save()\n",
    "writer.close()"
   ]
  },
  {
   "cell_type": "code",
   "execution_count": null,
   "metadata": {},
   "outputs": [],
   "source": [
    "writer = pd.ExcelWriter(join(output,\"merge_casos_notifica_diferencas.xlsx\"),\n",
    "                        engine='xlsxwriter',\n",
    "                        datetime_format='dd/mm/yyyy',\n",
    "                        date_format='dd/mm/yyyy')\n",
    "\n",
    "gdiff.to_excel(writer,sheet_name='totais')\n",
    "worksheet = writer.sheets[\"totais\"]\n",
    "auto_fit_columns(worksheet,gdiff)\n",
    "\n",
    "for diff, df in diferencas.groupby('diff'):\n",
    "    diff = diff[:30] if len(diff) > 30 else diff\n",
    "    df.to_excel(writer,sheet_name=f\"{diff}\",index=None)\n",
    "    worksheet = writer.sheets[f\"{diff}\"]\n",
    "    auto_fit_columns(worksheet,df)\n",
    "\n",
    "writer.save()\n",
    "writer.close()"
   ]
  }
 ],
 "metadata": {
  "kernelspec": {
   "display_name": "Python 3",
   "language": "python",
   "name": "python3"
  },
  "language_info": {
   "codemirror_mode": {
    "name": "ipython",
    "version": 3
   },
   "file_extension": ".py",
   "mimetype": "text/x-python",
   "name": "python",
   "nbconvert_exporter": "python",
   "pygments_lexer": "ipython3",
   "version": "3.8.5"
  }
 },
 "nbformat": 4,
 "nbformat_minor": 2
}