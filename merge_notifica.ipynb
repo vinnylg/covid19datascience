{
 "metadata": {
  "language_info": {
   "codemirror_mode": {
    "name": "ipython",
    "version": 3
   },
   "file_extension": ".py",
   "mimetype": "text/x-python",
   "name": "python",
   "nbconvert_exporter": "python",
   "pygments_lexer": "ipython3",
   "version": "3.8.5-final"
  },
  "orig_nbformat": 2,
  "kernelspec": {
   "name": "python3",
   "display_name": "Python 3",
   "language": "python"
  }
 },
 "nbformat": 4,
 "nbformat_minor": 2,
 "cells": [
  {
   "cell_type": "code",
   "execution_count": 1,
   "metadata": {},
   "outputs": [
    {
     "output_type": "stream",
     "name": "stdout",
     "text": [
      "merge_notifica\n"
     ]
    }
   ],
   "source": [
    "print('merge_notifica')\n",
    "from sys import exit\n",
    "import numpy as np\n",
    "import pandas as pd\n",
    "from os.path import dirname, join, isfile, isdir\n",
    "from os import makedirs\n",
    "from datetime import datetime, timedelta, date\n",
    "\n",
    "from bulletin.data.notifica import Notifica\n",
    "from bulletin.data.casos_confirmados import CasosConfirmados\n",
    "from bulletin.commom.utils import Timer, get_better_notifica, auto_fit_columns\n",
    "from bulletin.commom import static\n",
    "from bulletin.commom.static import meses\n",
    "from bulletin.metabase.request import download_metabase\n",
    "\n",
    "pd.set_option('display.max_columns', None)\n",
    "\n",
    "output = join(\"output\",\"correcoes\",\"merge_notifica\")\n",
    "\n",
    "if not isdir(output):\n",
    "    makedirs(output)\n",
    "\n",
    "timerAll = Timer()\n",
    "timer = Timer()"
   ]
  },
  {
   "cell_type": "code",
   "execution_count": 2,
   "metadata": {},
   "outputs": [
    {
     "output_type": "stream",
     "name": "stdout",
     "text": [
      "(725797, 12591, 514082, 199124)\n",
      "(2663764, 1224313, 13926, 1396008, 2353)\n"
     ]
    }
   ],
   "source": [
    "cc = CasosConfirmados()\n",
    "cc.load()\n",
    "print(cc.shape())\n",
    "\n",
    "notifica = Notifica()\n",
    "notifica.load()\n",
    "\n",
    "print(notifica.shape())"
   ]
  },
  {
   "cell_type": "code",
   "execution_count": 3,
   "metadata": {},
   "outputs": [],
   "source": [
    "municipios = static.municipios.loc[static.municipios['uf']=='PR',['ibge','municipio']].copy()\n",
    "municipios['ibge'] = municipios['ibge'].apply(str)\n",
    "\n",
    "regionais = static.regionais[['nm_macro','nu_reg','nm_reg']].copy()\n",
    "regionais = regionais.rename(columns={'nu_reg':'rs'})"
   ]
  },
  {
   "cell_type": "code",
   "execution_count": 4,
   "metadata": {},
   "outputs": [
    {
     "output_type": "stream",
     "name": "stdout",
     "text": [
      "(2663764, 41)\n"
     ]
    }
   ],
   "source": [
    "casosc = cc.get_casos()\n",
    "casosn = notifica.get_casos()\n",
    "\n",
    "# casosn_sem_duplicados = casosn.loc[(casosn['duplicado']==0) | ((casosn['duplicado']==1) & (casosn['manter']==1))]\n",
    "# casosn_duplicados = casosn.loc[~casosn['id'].isin(casosn_sem_duplicados['id'])]\n",
    "print(casosn.shape)"
   ]
  },
  {
   "cell_type": "code",
   "execution_count": 5,
   "metadata": {},
   "outputs": [
    {
     "output_type": "stream",
     "name": "stdout",
     "text": [
      "(16426, 23)\n",
      "(839595, 41)\n"
     ]
    }
   ],
   "source": [
    "# casosn = casosn_duplicados\n",
    "\n",
    "idx_casos_confirmados = casosc.loc[casosc['hash_resid'].isin(casosn['hash_resid'])].index.tolist()\n",
    "idx_casos_confirmados += casosc.loc[casosc['hash_atend'].isin(casosn['hash_atend'])].index.tolist()\n",
    "idx_casos_confirmados += casosc.loc[casosc['hash_diag'].isin(casosn['hash_diag'])].index.tolist()\n",
    "\n",
    "idx_casos_confirmados = set(idx_casos_confirmados)\n",
    "casos_confirmados_nao_notifica = casosc.loc[ set(casosc.index.tolist()) - idx_casos_confirmados ].sort_values('ordem')\n",
    "print(casos_confirmados_nao_notifica.shape)\n",
    "\n",
    "idx_casos_notifica = casosn.loc[casosn['hash_resid'].isin(casosc['hash_resid'])].index.tolist()\n",
    "idx_casos_notifica += casosn.loc[casosn['hash_atend'].isin(casosc['hash_atend'])].index.tolist()\n",
    "idx_casos_notifica += casosn.loc[casosn['hash_diag'].isin(casosc['hash_diag'])].index.tolist()\n",
    "\n",
    "idx_casos_notifica = set(idx_casos_notifica)\n",
    "casos_confirmados_notifica = casosn.loc[ idx_casos_notifica ].sort_values('id')\n",
    "print(casos_confirmados_notifica.shape)"
   ]
  },
  {
   "cell_type": "code",
   "execution_count": 6,
   "metadata": {},
   "outputs": [
    {
     "output_type": "stream",
     "name": "stdout",
     "text": [
      "(16426, 23)\n",
      "(839595, 41)\n"
     ]
    }
   ],
   "source": [
    "# casosn = casosn_sem_duplicados\n",
    "\n",
    "idx_casos_confirmados = casosc.loc[casosc['hash_resid'].isin(casosn['hash_resid'])].index.tolist()\n",
    "idx_casos_confirmados += casosc.loc[casosc['hash_atend'].isin(casosn['hash_atend'])].index.tolist()\n",
    "idx_casos_confirmados += casosc.loc[casosc['hash_diag'].isin(casosn['hash_diag'])].index.tolist()\n",
    "\n",
    "idx_casos_confirmados = set(idx_casos_confirmados)\n",
    "casos_confirmados_nao_notifica = casosc.loc[ set(casosc.index.tolist()) - idx_casos_confirmados ].sort_values('ordem')\n",
    "print(casos_confirmados_nao_notifica.shape)\n",
    "\n",
    "idx_casos_notifica = casosn.loc[casosn['hash_resid'].isin(casosc['hash_resid'])].index.tolist()\n",
    "idx_casos_notifica += casosn.loc[casosn['hash_atend'].isin(casosc['hash_atend'])].index.tolist()\n",
    "idx_casos_notifica += casosn.loc[casosn['hash_diag'].isin(casosc['hash_diag'])].index.tolist()\n",
    "\n",
    "idx_casos_notifica = set(idx_casos_notifica)\n",
    "casos_confirmados_notifica = casosn.loc[ idx_casos_notifica ].sort_values('id')\n",
    "print(casos_confirmados_notifica.shape)"
   ]
  },
  {
   "cell_type": "code",
   "execution_count": 7,
   "metadata": {},
   "outputs": [
    {
     "output_type": "stream",
     "name": "stdout",
     "text": [
      "casos_hash_resid 686557\n",
      "notifica_hash_resid 816419\n",
      "merge_hash_resid 816419\n",
      "merge_hash_resid 686557\n",
      "\n",
      "casos_hash_atend 648555\n",
      "notifica_hash_atend 751360\n",
      "merge_hash_atend 759037\n",
      "merge_hash_atend 648555\n",
      "\n",
      "casos_hash_diag 633234\n",
      "notifica_hash_diag 640112\n",
      "merge_hash_diag 647798\n",
      "merge_hash_diag 633234\n",
      "\n",
      "idx_casos_confirmados 709371\n",
      "casos_confirmados_nao_notifica 16426\n"
     ]
    },
    {
     "output_type": "execute_result",
     "data": {
      "text/plain": [
       "725797"
      ]
     },
     "metadata": {},
     "execution_count": 7
    }
   ],
   "source": [
    "#merge hash_resid\n",
    "casos_hash_resid = casosc.loc[casosc['hash_resid'].isin(casosn['hash_resid'])]\n",
    "print(f\"casos_hash_resid {len(casos_hash_resid)}\")\n",
    "notifica_hash_resid = casosn.loc[(casosn['hash_resid'].isin(casosc['hash_resid']))]\n",
    "print(f\"notifica_hash_resid {len(notifica_hash_resid)}\")\n",
    "merge_hash_resid = pd.merge(casos_hash_resid,notifica_hash_resid[['hash_resid','id']])\n",
    "print(f\"merge_hash_resid {len(merge_hash_resid)}\")\n",
    "merge_hash_resid = merge_hash_resid.drop_duplicates('ordem')\n",
    "print(f\"merge_hash_resid {len(merge_hash_resid)}\\n\")\n",
    "\n",
    "#merge hash_atend\n",
    "casos_hash_atend = casosc.loc[casosc['hash_atend'].isin(casosn['hash_atend'])]\n",
    "print(f\"casos_hash_atend {len(casos_hash_atend)}\")\n",
    "notifica_hash_atend = casosn.loc[(casosn['hash_atend'].isin(casosc['hash_atend']))]\n",
    "print(f\"notifica_hash_atend {len(notifica_hash_atend)}\")\n",
    "merge_hash_atend = pd.merge(casos_hash_atend,notifica_hash_atend[['hash_atend','id']])\n",
    "print(f\"merge_hash_atend {len(merge_hash_atend)}\")\n",
    "merge_hash_atend = merge_hash_atend.drop_duplicates('ordem')\n",
    "print(f\"merge_hash_atend {len(merge_hash_atend)}\\n\")\n",
    "\n",
    "#merge hash_diag\n",
    "casos_hash_diag = casosc.loc[casosc['hash_diag'].isin(casosn['hash_diag'])]\n",
    "print(f\"casos_hash_diag {len(casos_hash_diag)}\")\n",
    "notifica_hash_diag = casosn.loc[(casosn['hash_diag'].isin(casosc['hash_diag']))]\n",
    "print(f\"notifica_hash_diag {len(notifica_hash_diag)}\")\n",
    "merge_hash_diag = pd.merge(casos_hash_diag,notifica_hash_diag[['hash_diag','id']])\n",
    "print(f\"merge_hash_diag {len(merge_hash_diag)}\")\n",
    "merge_hash_diag = merge_hash_diag.drop_duplicates('ordem')\n",
    "print(f\"merge_hash_diag {len(merge_hash_diag)}\\n\")\n",
    "\n",
    "#trasnforma essa lista de index em um conjunto, para deixar apenas os index unicos\n",
    "idx_casos_confirmados = set(casos_hash_resid.index.tolist() + casos_hash_atend.index.tolist() + casos_hash_diag.index.tolist())\n",
    "print(f\"idx_casos_confirmados {len(idx_casos_confirmados)}\")\n",
    "\n",
    "#realiza a diferença de conjunto para pegar os index dos que não foram encotrados no notifica\n",
    "casos_confirmados_nao_notifica = casosc.loc[ set(casosc.index.tolist()) - idx_casos_confirmados ].sort_values('ordem')\n",
    "print(f\"casos_confirmados_nao_notifica {len(casos_confirmados_nao_notifica)}\") ## aqui o numero total é 27910 casos não encontrados no notifica\n",
    "len(idx_casos_confirmados) + len(casos_confirmados_nao_notifica)"
   ]
  },
  {
   "cell_type": "code",
   "execution_count": 8,
   "metadata": {},
   "outputs": [
    {
     "output_type": "stream",
     "name": "stdout",
     "text": [
      "725797\n"
     ]
    }
   ],
   "source": [
    "merge_casos_notifica = pd.concat([merge_hash_resid,merge_hash_atend,merge_hash_diag,casos_confirmados_nao_notifica]).sort_values('ordem')\n",
    "ordem_duplicados = merge_casos_notifica.loc[merge_casos_notifica.duplicated('ordem', keep=False)]\n",
    "merge_casos_notifica = pd.concat([merge_hash_resid,merge_hash_atend,merge_hash_diag,casos_confirmados_nao_notifica]).drop_duplicates('ordem')\n",
    "\n",
    "print(len(merge_casos_notifica))"
   ]
  },
  {
   "cell_type": "code",
   "execution_count": 9,
   "metadata": {},
   "outputs": [
    {
     "output_type": "stream",
     "name": "stdout",
     "text": [
      "(725797, 17)\n",
      "(12591, 10)\n"
     ]
    }
   ],
   "source": [
    "casos_merged = merge_casos_notifica.copy()\n",
    "casos_merged['id'] = casos_merged['id'].fillna('-1').astype(int)\n",
    "\n",
    "casos_merged.loc[casos_merged['recuperado']==1,'evolucao'] = 'CURA'\n",
    "casos_merged.loc[casos_merged['obito']==1,'evolucao'] = 'OBITO'\n",
    "casos_merged.loc[casos_merged['ativo']==1,'evolucao'] = ''\n",
    "\n",
    "# casos_merged.loc[casos_merged['evolucao']=='CURA','data_com_evolucao'] = casos_merged.loc[casos_merged['evolucao']=='CURA','data_com_recuperado']\n",
    "\n",
    "casos_merged = casos_merged.rename(columns={\n",
    "    'id': 'id_notifica',\n",
    "    'identificacao': 'id_access',\n",
    "    'laboratorio': 'exame',\n",
    "    'data_obito': 'data_evolucao',\n",
    "    'data_com_obito': 'data_com_evolucao'\n",
    "    })\n",
    "\n",
    "casos_merged.loc[(casos_merged['data_com_evolucao'].isnull() & (casos_merged['evolucao']=='OBITO')),'data_com_evolucao'] = casos_merged.loc[(casos_merged['data_com_evolucao'].isnull() & (casos_merged['evolucao']=='OBITO')),'data_evolucao']\n",
    "\n",
    "casos_merged = casos_merged[['id_access','id_notifica','ibge_resid','rs','ibge_atend','paciente','sexo','idade','mun_resid','mun_atend','exame','data_diagnostico','data_comunicacao','data_1o_sintomas','evolucao','data_evolucao','data_com_evolucao']].sort_values('id_access')\n",
    "\n",
    "obitos_merged = casos_merged.loc[casos_merged['evolucao']=='OBITO',['id_access','id_notifica','ibge_resid','rs','paciente','sexo','idade','mun_resid','data_evolucao','data_com_evolucao']].sort_values(['data_com_evolucao','paciente'])\n",
    "\n",
    "# casos_municipios = casos_merged.groupby(['rs','ibge_resid','evolucao'])[['id_notifica']].count().unstack(level=[2]).droplevel(0,1).fillna(0).astype(int).rename(columns={1.0:'recuperados',2.0:'obitos',3.0:'ativos'})\n",
    "# casos_municipios['casos'] = casos_municipios.sum(axis=1)\n",
    "# casos_municipios = casos_municipios[['casos','obitos','recuperados','ativos']]\n",
    "#totais\n",
    "\n",
    "# casos_regionais = casos_municipios.groupby('rs')[['casos','obitos','recuperados','ativos']].sum()\n",
    "\n",
    "# total_pr = casos_regionais.loc[casos_regionais.index!=99].sum(axis=0)\n",
    "# total_geral = casos_regionais.sum(axis=0)\n",
    "\n",
    "# casos_municipios = casos_municipios.droplevel(0,0)\n",
    "\n",
    "# casos_municipios.loc[('total_pr')] = total_pr           #!!!!!!!!!!!!!!!!!!!!!!!!!!!!!!!!!!!\n",
    "# casos_municipios.loc['total_geral'] = total_geral \n",
    "\n",
    "# casos_regionais.loc['total_pr'] = total_pr\n",
    "# casos_regionais.loc['total_geral'] = total_geral\n",
    "\n",
    "print(casos_merged.shape)\n",
    "print(obitos_merged.shape)"
   ]
  },
  {
   "cell_type": "code",
   "execution_count": 10,
   "metadata": {},
   "outputs": [],
   "source": [
    "writer = pd.ExcelWriter(join(output,\"casos_merged.xlsx\"),\n",
    "                        engine='xlsxwriter',\n",
    "                        datetime_format='dd/mm/yyyy',\n",
    "                        date_format='dd/mm/yyyy')\n",
    "\n",
    "casos_merged.to_excel(writer,sheet_name='casos_merged',index=None)\n",
    "worksheet = writer.sheets['casos_merged']\n",
    "auto_fit_columns(worksheet,casos_merged)\n",
    "\n",
    "obitos_merged.to_excel(writer,sheet_name='obitos_merged',index=None)\n",
    "worksheet = writer.sheets['obitos_merged']\n",
    "auto_fit_columns(worksheet,obitos_merged)\n",
    "\n",
    "# casos_regionais.to_excel(writer,sheet_name='casos_regionais')\n",
    "# worksheet = writer.sheets['casos_regionais']\n",
    "# auto_fit_columns(worksheet,casos_regionais)\n",
    "\n",
    "# casos_municipios.to_excel(writer,sheet_name='casos_municipios')\n",
    "# worksheet = writer.sheets['casos_municipios']\n",
    "# auto_fit_columns(worksheet,casos_municipios)\n",
    "\n",
    "writer.save()"
   ]
  },
  {
   "cell_type": "code",
   "execution_count": 11,
   "metadata": {},
   "outputs": [
    {
     "output_type": "stream",
     "name": "stdout",
     "text": [
      "725797\n"
     ]
    }
   ],
   "source": [
    "merge_casos_notifica = pd.merge(merge_casos_notifica, casosn[['id','uf_residencia','classificacao_final','criterio_classificacao','exame','metodo','evolucao','excluir_ficha','manter','duplicado']], on='id', how='left')\n",
    "\n",
    "merge_casos_notifica.loc[merge_casos_notifica['classificacao_final'].isnull(),'classificacao_final'] = -1\n",
    "merge_casos_notifica['caso'] = 1\n",
    "print(len(merge_casos_notifica))"
   ]
  },
  {
   "cell_type": "code",
   "execution_count": 12,
   "metadata": {},
   "outputs": [
    {
     "output_type": "execute_result",
     "data": {
      "text/plain": [
       "        casos  obitos  recuperados  ativos\n",
       "-1.0    16426     510         6809    9107\n",
       "0.0        31       0           21      10\n",
       "1.0     47201     769        27147   19285\n",
       "2.0    658344   11266       479394  167684\n",
       "3.0      3764      46          709    3009\n",
       "5.0        31       0            2      29\n",
       "Total  725797   12591       514082  199124"
      ],
      "text/html": "<div>\n<style scoped>\n    .dataframe tbody tr th:only-of-type {\n        vertical-align: middle;\n    }\n\n    .dataframe tbody tr th {\n        vertical-align: top;\n    }\n\n    .dataframe thead th {\n        text-align: right;\n    }\n</style>\n<table border=\"1\" class=\"dataframe\">\n  <thead>\n    <tr style=\"text-align: right;\">\n      <th></th>\n      <th>casos</th>\n      <th>obitos</th>\n      <th>recuperados</th>\n      <th>ativos</th>\n    </tr>\n  </thead>\n  <tbody>\n    <tr>\n      <th>-1.0</th>\n      <td>16426</td>\n      <td>510</td>\n      <td>6809</td>\n      <td>9107</td>\n    </tr>\n    <tr>\n      <th>0.0</th>\n      <td>31</td>\n      <td>0</td>\n      <td>21</td>\n      <td>10</td>\n    </tr>\n    <tr>\n      <th>1.0</th>\n      <td>47201</td>\n      <td>769</td>\n      <td>27147</td>\n      <td>19285</td>\n    </tr>\n    <tr>\n      <th>2.0</th>\n      <td>658344</td>\n      <td>11266</td>\n      <td>479394</td>\n      <td>167684</td>\n    </tr>\n    <tr>\n      <th>3.0</th>\n      <td>3764</td>\n      <td>46</td>\n      <td>709</td>\n      <td>3009</td>\n    </tr>\n    <tr>\n      <th>5.0</th>\n      <td>31</td>\n      <td>0</td>\n      <td>2</td>\n      <td>29</td>\n    </tr>\n    <tr>\n      <th>Total</th>\n      <td>725797</td>\n      <td>12591</td>\n      <td>514082</td>\n      <td>199124</td>\n    </tr>\n  </tbody>\n</table>\n</div>"
     },
     "metadata": {},
     "execution_count": 12
    }
   ],
   "source": [
    "gcf = merge_casos_notifica.groupby('classificacao_final')[['caso','obito','recuperado','ativo']].sum()\n",
    "gcf = gcf.rename(columns={'caso':'casos','obito':'obitos','recuperado':'recuperados','ativo':'ativos'})\n",
    "gcf = gcf.append(pd.DataFrame(data=[gcf.sum(axis=0)],columns=gcf.columns,index=['Total']))\n",
    "gcf"
   ]
  },
  {
   "cell_type": "code",
   "execution_count": 13,
   "metadata": {},
   "outputs": [
    {
     "output_type": "execute_result",
     "data": {
      "text/plain": [
       "        casos  obitos  recuperados  ativos\n",
       "0.0      5136      99         1148    3889\n",
       "1.0    440165     609       422864   16692\n",
       "2.0     10522   10356           35     131\n",
       "3.0    253436     992        83213  169231\n",
       "4.0       112      25           13      74\n",
       "Total  709371   12081       507273  190017"
      ],
      "text/html": "<div>\n<style scoped>\n    .dataframe tbody tr th:only-of-type {\n        vertical-align: middle;\n    }\n\n    .dataframe tbody tr th {\n        vertical-align: top;\n    }\n\n    .dataframe thead th {\n        text-align: right;\n    }\n</style>\n<table border=\"1\" class=\"dataframe\">\n  <thead>\n    <tr style=\"text-align: right;\">\n      <th></th>\n      <th>casos</th>\n      <th>obitos</th>\n      <th>recuperados</th>\n      <th>ativos</th>\n    </tr>\n  </thead>\n  <tbody>\n    <tr>\n      <th>0.0</th>\n      <td>5136</td>\n      <td>99</td>\n      <td>1148</td>\n      <td>3889</td>\n    </tr>\n    <tr>\n      <th>1.0</th>\n      <td>440165</td>\n      <td>609</td>\n      <td>422864</td>\n      <td>16692</td>\n    </tr>\n    <tr>\n      <th>2.0</th>\n      <td>10522</td>\n      <td>10356</td>\n      <td>35</td>\n      <td>131</td>\n    </tr>\n    <tr>\n      <th>3.0</th>\n      <td>253436</td>\n      <td>992</td>\n      <td>83213</td>\n      <td>169231</td>\n    </tr>\n    <tr>\n      <th>4.0</th>\n      <td>112</td>\n      <td>25</td>\n      <td>13</td>\n      <td>74</td>\n    </tr>\n    <tr>\n      <th>Total</th>\n      <td>709371</td>\n      <td>12081</td>\n      <td>507273</td>\n      <td>190017</td>\n    </tr>\n  </tbody>\n</table>\n</div>"
     },
     "metadata": {},
     "execution_count": 13
    }
   ],
   "source": [
    "gce = merge_casos_notifica.groupby('evolucao')[['caso','obito','recuperado','ativo']].sum()\n",
    "gce = gce.rename(columns={'caso':'casos','obito':'obitos','recuperado':'recuperados','ativo':'ativos'})\n",
    "gce = gce.append(pd.DataFrame(data=[gce.sum(axis=0)],columns=gce.columns,index=['Total']))\n",
    "gce"
   ]
  },
  {
   "cell_type": "code",
   "execution_count": 14,
   "metadata": {},
   "outputs": [],
   "source": [
    "merge_casos_notifica = merge_casos_notifica[['ordem', 'identificacao', 'id','uf_residencia','ibge_resid', 'ibge_atend', 'paciente', 'sexo', 'idade', 'mun_resid', 'mun_atend', 'rs', 'classificacao_final', 'laboratorio', 'exame', 'metodo', 'data_diagnostico', 'data_comunicacao', 'data_1o_sintomas','evolucao', 'recuperado', 'caso', 'obito', 'ativo', 'data_obito', 'data_com_obito', 'excluir','excluir_ficha','manter','duplicado']]"
   ]
  },
  {
   "cell_type": "code",
   "execution_count": 15,
   "metadata": {},
   "outputs": [
    {
     "output_type": "execute_result",
     "data": {
      "text/plain": [
       "                                       id\n",
       "obitos_nao_casos_confirmados          166\n",
       "obitos_nao_notifica                  1725\n",
       "recuperados_nao_casos_confirmados   17301\n",
       "recuperados_nao_notifica            84409\n",
       "Total                              103601"
      ],
      "text/html": "<div>\n<style scoped>\n    .dataframe tbody tr th:only-of-type {\n        vertical-align: middle;\n    }\n\n    .dataframe tbody tr th {\n        vertical-align: top;\n    }\n\n    .dataframe thead th {\n        text-align: right;\n    }\n</style>\n<table border=\"1\" class=\"dataframe\">\n  <thead>\n    <tr style=\"text-align: right;\">\n      <th></th>\n      <th>id</th>\n    </tr>\n  </thead>\n  <tbody>\n    <tr>\n      <th>obitos_nao_casos_confirmados</th>\n      <td>166</td>\n    </tr>\n    <tr>\n      <th>obitos_nao_notifica</th>\n      <td>1725</td>\n    </tr>\n    <tr>\n      <th>recuperados_nao_casos_confirmados</th>\n      <td>17301</td>\n    </tr>\n    <tr>\n      <th>recuperados_nao_notifica</th>\n      <td>84409</td>\n    </tr>\n    <tr>\n      <th>Total</th>\n      <td>103601</td>\n    </tr>\n  </tbody>\n</table>\n</div>"
     },
     "metadata": {},
     "execution_count": 15
    }
   ],
   "source": [
    "obitos_nao_notifica = merge_casos_notifica.loc[(merge_casos_notifica['obito']==1) & (merge_casos_notifica['evolucao']!=2)].copy()\n",
    "obitos_nao_casos_confirmados = merge_casos_notifica.loc[(merge_casos_notifica['obito']==0) & (merge_casos_notifica['evolucao']==2)].copy()\n",
    "recuperados_nao_notifica = merge_casos_notifica.loc[(merge_casos_notifica['recuperado']==1) & (merge_casos_notifica['evolucao']!=1)].copy()\n",
    "recuperados_nao_casos_confirmados = merge_casos_notifica.loc[(merge_casos_notifica['recuperado']==0) & (merge_casos_notifica['evolucao']==1)].copy()\n",
    "\n",
    "obitos_nao_notifica['diff'] = 'obitos_nao_notifica'\n",
    "obitos_nao_casos_confirmados['diff'] = 'obitos_nao_casos_confirmados'\n",
    "recuperados_nao_notifica['diff'] = 'recuperados_nao_notifica'\n",
    "recuperados_nao_casos_confirmados['diff'] = 'recuperados_nao_casos_confirmados'\n",
    "\n",
    "diferencas = obitos_nao_notifica.append(obitos_nao_casos_confirmados.append(recuperados_nao_notifica.append(recuperados_nao_casos_confirmados)))\n",
    "\n",
    "gdiff = diferencas.groupby('diff')[['id']].count() #'caso','obito','recuperado','ativo'\n",
    "# gdiff = gdiff.rename(columns={'caso':'casos','obito':'obitos','recuperado':'recuperados','ativo':'ativos'})\n",
    "gdiff = gdiff.append(pd.DataFrame(data=[gdiff.sum(axis=0)],columns=gdiff.columns,index=['Total']))\n",
    "gdiff"
   ]
  },
  {
   "cell_type": "code",
   "execution_count": 16,
   "metadata": {},
   "outputs": [
    {
     "output_type": "error",
     "ename": "SystemExit",
     "evalue": "",
     "traceback": [
      "An exception has occurred, use %tb to see the full traceback.\n",
      "\u001b[1;31mSystemExit\u001b[0m\n"
     ]
    }
   ],
   "source": [
    "exit()\n",
    "\n",
    "casos_comunicados = merge_casos_notifica\n",
    "\n",
    "writer = pd.ExcelWriter(join(output,\"casos_comunicados.xlsx\"),\n",
    "                        engine='xlsxwriter',\n",
    "                        datetime_format='dd/mm/yyyy',\n",
    "                        date_format='dd/mm/yyyy')\n",
    "\n",
    "\n",
    "casos_comunicados.to_excel(writer,sheet_name='casos_comunicados',index=None)\n",
    "worksheet = writer.sheets[\"casos_comunicados\"]\n",
    "auto_fit_columns(worksheet,casos_comunicados)\n",
    "\n",
    "writer.save()"
   ]
  },
  {
   "cell_type": "code",
   "execution_count": 17,
   "metadata": {},
   "outputs": [],
   "source": [
    "writer = pd.ExcelWriter(join(output,\"merge_casos_notifica_classificacao_final.xlsx\"),\n",
    "                        engine='xlsxwriter',\n",
    "                        datetime_format='dd/mm/yyyy',\n",
    "                        date_format='dd/mm/yyyy')\n",
    "\n",
    "gcf.to_excel(writer,sheet_name='totais')\n",
    "worksheet = writer.sheets[\"totais\"]\n",
    "auto_fit_columns(worksheet,gcf)\n",
    "\n",
    "for group, df in merge_casos_notifica.groupby('classificacao_final'):\n",
    "    group = str(group)\n",
    "    df.to_excel(writer,sheet_name=group,index=None)\n",
    "    worksheet = writer.sheets[group]\n",
    "    auto_fit_columns(worksheet,df)\n",
    "\n",
    "writer.save()"
   ]
  },
  {
   "cell_type": "code",
   "execution_count": null,
   "metadata": {},
   "outputs": [],
   "source": [
    "writer = pd.ExcelWriter(join(output,\"merge_casos_notifica_evolucao.xlsx\"),\n",
    "                        engine='xlsxwriter',\n",
    "                        datetime_format='dd/mm/yyyy',\n",
    "                        date_format='dd/mm/yyyy')\n",
    "\n",
    "gce.to_excel(writer,sheet_name='totais')\n",
    "worksheet = writer.sheets[\"totais\"]\n",
    "auto_fit_columns(worksheet,gce)\n",
    "\n",
    "for evolucao, df in merge_casos_notifica.groupby('evolucao'):\n",
    "    df.to_excel(writer,sheet_name=f\"{evolucao}\",index=None)\n",
    "    worksheet = writer.sheets[f\"{evolucao}\"]\n",
    "    auto_fit_columns(worksheet,df)\n",
    "\n",
    "writer.save()"
   ]
  },
  {
   "cell_type": "code",
   "execution_count": null,
   "metadata": {},
   "outputs": [],
   "source": [
    "writer = pd.ExcelWriter(join(output,\"merge_casos_notifica_diferencas.xlsx\"),\n",
    "                        engine='xlsxwriter',\n",
    "                        datetime_format='dd/mm/yyyy',\n",
    "                        date_format='dd/mm/yyyy')\n",
    "\n",
    "gdiff.to_excel(writer,sheet_name='totais')\n",
    "worksheet = writer.sheets[\"totais\"]\n",
    "auto_fit_columns(worksheet,gdiff)\n",
    "\n",
    "for diff, df in diferencas.groupby('diff'):\n",
    "    diff = diff[:30] if len(diff) > 30 else diff\n",
    "    df.to_excel(writer,sheet_name=f\"{diff}\",index=None)\n",
    "    worksheet = writer.sheets[f\"{diff}\"]\n",
    "    auto_fit_columns(worksheet,df)\n",
    "\n",
    "writer.save()"
   ]
  }
 ]
}