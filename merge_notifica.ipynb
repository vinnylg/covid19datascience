{
 "metadata": {
  "language_info": {
   "codemirror_mode": {
    "name": "ipython",
    "version": 3
   },
   "file_extension": ".py",
   "mimetype": "text/x-python",
   "name": "python",
   "nbconvert_exporter": "python",
   "pygments_lexer": "ipython3",
   "version": "3.8.5-final"
  },
  "orig_nbformat": 2,
  "kernelspec": {
   "name": "python3",
   "display_name": "Python 3",
   "language": "python"
  }
 },
 "nbformat": 4,
 "nbformat_minor": 2,
 "cells": [
  {
   "cell_type": "code",
   "execution_count": 1,
   "metadata": {},
   "outputs": [
    {
     "output_type": "stream",
     "name": "stdout",
     "text": [
      "merge_notifica\n"
     ]
    }
   ],
   "source": [
    "print('merge_notifica')\n",
    "from sys import exit\n",
    "import numpy as np\n",
    "import pandas as pd\n",
    "from os.path import dirname, join, isfile, isdir\n",
    "from os import makedirs\n",
    "from datetime import datetime, timedelta, date\n",
    "\n",
    "from bulletin.data.notifica import Notifica\n",
    "from bulletin.data.casos_confirmados import CasosConfirmados\n",
    "from bulletin.commom.utils import Timer, get_better_notifica, auto_fit_columns\n",
    "from bulletin.commom.static import meses\n",
    "from bulletin.metabase.request import download_metabase\n",
    "\n",
    "pd.set_option('display.max_columns', None)\n",
    "\n",
    "output = join(\"output\",\"correcoes\",\"merge_notifica\")\n",
    "\n",
    "if not isdir(output):\n",
    "    makedirs(output)\n",
    "\n",
    "timerAll = Timer()\n",
    "timer = Timer()"
   ]
  },
  {
   "cell_type": "code",
   "execution_count": 2,
   "metadata": {},
   "outputs": [
    {
     "output_type": "stream",
     "name": "stdout",
     "text": [
      "(661109, 11982, 472175, 176952)\n",
      "(2542603, 1156088, 12736, 1344092, 2322)\n"
     ]
    }
   ],
   "source": [
    "cc = CasosConfirmados()\n",
    "cc.load()\n",
    "print(cc.shape())\n",
    "\n",
    "notifica = Notifica()\n",
    "notifica.load()\n",
    "\n",
    "print(notifica.shape())"
   ]
  },
  {
   "cell_type": "code",
   "execution_count": 3,
   "metadata": {},
   "outputs": [
    {
     "output_type": "stream",
     "name": "stdout",
     "text": [
      "(2542603, 41)\n"
     ]
    }
   ],
   "source": [
    "casosc = cc.get_casos()\n",
    "casosn = notifica.get_casos()\n",
    "# casosn = casosn.loc[(casosn['duplicado']==0) | ((casosn['duplicado']==1) & (casosn['manter']==1))]\n",
    "print(casosn.shape)"
   ]
  },
  {
   "cell_type": "code",
   "execution_count": 4,
   "metadata": {},
   "outputs": [
    {
     "output_type": "execute_result",
     "data": {
      "text/plain": [
       "(27948, 25)"
      ]
     },
     "metadata": {},
     "execution_count": 4
    }
   ],
   "source": [
    "idx_casos_confirmados = casosc.loc[casosc['hash_resid'].isin(casosn['hash_resid'])].index.tolist()\n",
    "idx_casos_confirmados += casosc.loc[casosc['hash_atend'].isin(casosn['hash_atend'])].index.tolist()\n",
    "idx_casos_confirmados += casosc.loc[casosc['hash_diag'].isin(casosn['hash_diag'])].index.tolist()\n",
    "\n",
    "idx_casos_confirmados = set(idx_casos_confirmados)\n",
    "casos_confirmados_nao_notifica = casosc.loc[ set(casosc.index.tolist()) - idx_casos_confirmados ].sort_values('ordem')\n",
    "casos_confirmados_nao_notifica.shape"
   ]
  },
  {
   "cell_type": "code",
   "execution_count": 5,
   "metadata": {},
   "outputs": [
    {
     "output_type": "execute_result",
     "data": {
      "text/plain": [
       "(743199, 41)"
      ]
     },
     "metadata": {},
     "execution_count": 5
    }
   ],
   "source": [
    "idx_casos_notifica = casosn.loc[casosn['hash_resid'].isin(casosc['hash_resid'])].index.tolist()\n",
    "idx_casos_notifica += casosn.loc[casosn['hash_atend'].isin(casosc['hash_atend'])].index.tolist()\n",
    "idx_casos_notifica += casosn.loc[casosn['hash_diag'].isin(casosc['hash_diag'])].index.tolist()\n",
    "\n",
    "idx_casos_notifica = set(idx_casos_notifica)\n",
    "casos_confirmados_notifica = casosn.loc[ idx_casos_notifica ].sort_values('id')\n",
    "casos_confirmados_notifica.shape"
   ]
  },
  {
   "cell_type": "code",
   "execution_count": 6,
   "metadata": {},
   "outputs": [
    {
     "output_type": "stream",
     "name": "stdout",
     "text": [
      "casos_hash_resid 609828\n",
      "notifica_hash_resid 721136\n",
      "merge_hash_resid 721136\n",
      "merge_hash_resid 609828\n",
      "\n",
      "casos_hash_atend 577355\n",
      "notifica_hash_atend 663534\n",
      "merge_hash_atend 670342\n",
      "merge_hash_atend 577355\n",
      "\n",
      "casos_hash_diag 554154\n",
      "notifica_hash_diag 557416\n",
      "merge_hash_diag 563991\n",
      "merge_hash_diag 554154\n",
      "\n",
      "idx_casos_confirmados 633161\n",
      "casos_confirmados_nao_notifica 27948\n"
     ]
    },
    {
     "output_type": "execute_result",
     "data": {
      "text/plain": [
       "661109"
      ]
     },
     "metadata": {},
     "execution_count": 6
    }
   ],
   "source": [
    "#merge hash_resid\n",
    "casos_hash_resid = casosc.loc[casosc['hash_resid'].isin(casosn['hash_resid'])]\n",
    "print(f\"casos_hash_resid {len(casos_hash_resid)}\")\n",
    "notifica_hash_resid = casosn.loc[(casosn['hash_resid'].isin(casosc['hash_resid']))]\n",
    "print(f\"notifica_hash_resid {len(notifica_hash_resid)}\")\n",
    "merge_hash_resid = pd.merge(casos_hash_resid,notifica_hash_resid[['hash_resid','id']])\n",
    "print(f\"merge_hash_resid {len(merge_hash_resid)}\")\n",
    "merge_hash_resid = merge_hash_resid.drop_duplicates('ordem')\n",
    "print(f\"merge_hash_resid {len(merge_hash_resid)}\\n\")\n",
    "\n",
    "#merge hash_atend\n",
    "casos_hash_atend = casosc.loc[casosc['hash_atend'].isin(casosn['hash_atend'])]\n",
    "print(f\"casos_hash_atend {len(casos_hash_atend)}\")\n",
    "notifica_hash_atend = casosn.loc[(casosn['hash_atend'].isin(casosc['hash_atend']))]\n",
    "print(f\"notifica_hash_atend {len(notifica_hash_atend)}\")\n",
    "merge_hash_atend = pd.merge(casos_hash_atend,notifica_hash_atend[['hash_atend','id']])\n",
    "print(f\"merge_hash_atend {len(merge_hash_atend)}\")\n",
    "merge_hash_atend = merge_hash_atend.drop_duplicates('ordem')\n",
    "print(f\"merge_hash_atend {len(merge_hash_atend)}\\n\")\n",
    "\n",
    "#merge hash_diag\n",
    "casos_hash_diag = casosc.loc[casosc['hash_diag'].isin(casosn['hash_diag'])]\n",
    "print(f\"casos_hash_diag {len(casos_hash_diag)}\")\n",
    "notifica_hash_diag = casosn.loc[(casosn['hash_diag'].isin(casosc['hash_diag']))]\n",
    "print(f\"notifica_hash_diag {len(notifica_hash_diag)}\")\n",
    "merge_hash_diag = pd.merge(casos_hash_diag,notifica_hash_diag[['hash_diag','id']])\n",
    "print(f\"merge_hash_diag {len(merge_hash_diag)}\")\n",
    "merge_hash_diag = merge_hash_diag.drop_duplicates('ordem')\n",
    "print(f\"merge_hash_diag {len(merge_hash_diag)}\\n\")\n",
    "\n",
    "#trasnforma essa lista de index em um conjunto, para deixar apenas os index unicos\n",
    "idx_casos_confirmados = set(casos_hash_resid.index.tolist() + casos_hash_atend.index.tolist() + casos_hash_diag.index.tolist())\n",
    "print(f\"idx_casos_confirmados {len(idx_casos_confirmados)}\")\n",
    "\n",
    "#realiza a diferença de conjunto para pegar os index dos que não foram encotrados no notifica\n",
    "casos_confirmados_nao_notifica = casosc.loc[ set(casosc.index.tolist()) - idx_casos_confirmados ].sort_values('ordem')\n",
    "print(f\"casos_confirmados_nao_notifica {len(casos_confirmados_nao_notifica)}\") ## aqui o numero total é 27910 casos não encontrados no notifica\n",
    "len(idx_casos_confirmados) + len(casos_confirmados_nao_notifica)"
   ]
  },
  {
   "cell_type": "code",
   "execution_count": 7,
   "metadata": {},
   "outputs": [
    {
     "output_type": "stream",
     "name": "stdout",
     "text": [
      "661109\n"
     ]
    }
   ],
   "source": [
    "merge_casos_notifica = pd.concat([merge_hash_resid,merge_hash_atend,merge_hash_diag,casos_confirmados_nao_notifica]).sort_values('ordem')\n",
    "ordem_duplicados = merge_casos_notifica.loc[merge_casos_notifica.duplicated('ordem', keep=False)]\n",
    "merge_casos_notifica = pd.concat([merge_hash_resid,merge_hash_atend,merge_hash_diag,casos_confirmados_nao_notifica]).drop_duplicates('ordem')\n",
    "\n",
    "print(len(merge_casos_notifica))"
   ]
  },
  {
   "cell_type": "code",
   "execution_count": 52,
   "metadata": {},
   "outputs": [
    {
     "output_type": "error",
     "ename": "KeyError",
     "evalue": "\"['rs'] not found in axis\"",
     "traceback": [
      "\u001b[1;31m---------------------------------------------------------------------------\u001b[0m",
      "\u001b[1;31mKeyError\u001b[0m                                  Traceback (most recent call last)",
      "\u001b[1;32m<ipython-input-52-a10d8d2da73f>\u001b[0m in \u001b[0;36m<module>\u001b[1;34m\u001b[0m\n\u001b[0;32m     29\u001b[0m \u001b[0mtotal_geral\u001b[0m \u001b[1;33m=\u001b[0m \u001b[0mcasos_regionais\u001b[0m\u001b[1;33m.\u001b[0m\u001b[0msum\u001b[0m\u001b[1;33m(\u001b[0m\u001b[0maxis\u001b[0m\u001b[1;33m=\u001b[0m\u001b[1;36m0\u001b[0m\u001b[1;33m)\u001b[0m\u001b[1;33m\u001b[0m\u001b[1;33m\u001b[0m\u001b[0m\n\u001b[0;32m     30\u001b[0m \u001b[1;33m\u001b[0m\u001b[0m\n\u001b[1;32m---> 31\u001b[1;33m \u001b[0mcasos_municipios\u001b[0m \u001b[1;33m=\u001b[0m \u001b[0mcasos_municipios\u001b[0m\u001b[1;33m.\u001b[0m\u001b[0mdrop\u001b[0m\u001b[1;33m(\u001b[0m\u001b[0mcolumns\u001b[0m\u001b[1;33m=\u001b[0m\u001b[1;33m[\u001b[0m\u001b[1;34m'rs'\u001b[0m\u001b[1;33m]\u001b[0m\u001b[1;33m)\u001b[0m\u001b[1;33m\u001b[0m\u001b[1;33m\u001b[0m\u001b[0m\n\u001b[0m\u001b[0;32m     32\u001b[0m \u001b[1;33m\u001b[0m\u001b[0m\n\u001b[0;32m     33\u001b[0m \u001b[0mcasos_municipios\u001b[0m\u001b[1;33m.\u001b[0m\u001b[0mloc\u001b[0m\u001b[1;33m[\u001b[0m\u001b[1;33m(\u001b[0m\u001b[1;34m'total_pr'\u001b[0m\u001b[1;33m)\u001b[0m\u001b[1;33m]\u001b[0m \u001b[1;33m=\u001b[0m \u001b[0mtotal_pr\u001b[0m           \u001b[1;31m#!!!!!!!!!!!!!!!!!!!!!!!!!!!!!!!!!!!\u001b[0m\u001b[1;33m\u001b[0m\u001b[1;33m\u001b[0m\u001b[0m\n",
      "\u001b[1;32m~\\anaconda3\\lib\\site-packages\\pandas\\core\\frame.py\u001b[0m in \u001b[0;36mdrop\u001b[1;34m(self, labels, axis, index, columns, level, inplace, errors)\u001b[0m\n\u001b[0;32m   4161\u001b[0m                 \u001b[0mweight\u001b[0m  \u001b[1;36m1.0\u001b[0m     \u001b[1;36m0.8\u001b[0m\u001b[1;33m\u001b[0m\u001b[1;33m\u001b[0m\u001b[0m\n\u001b[0;32m   4162\u001b[0m         \"\"\"\n\u001b[1;32m-> 4163\u001b[1;33m         return super().drop(\n\u001b[0m\u001b[0;32m   4164\u001b[0m             \u001b[0mlabels\u001b[0m\u001b[1;33m=\u001b[0m\u001b[0mlabels\u001b[0m\u001b[1;33m,\u001b[0m\u001b[1;33m\u001b[0m\u001b[1;33m\u001b[0m\u001b[0m\n\u001b[0;32m   4165\u001b[0m             \u001b[0maxis\u001b[0m\u001b[1;33m=\u001b[0m\u001b[0maxis\u001b[0m\u001b[1;33m,\u001b[0m\u001b[1;33m\u001b[0m\u001b[1;33m\u001b[0m\u001b[0m\n",
      "\u001b[1;32m~\\anaconda3\\lib\\site-packages\\pandas\\core\\generic.py\u001b[0m in \u001b[0;36mdrop\u001b[1;34m(self, labels, axis, index, columns, level, inplace, errors)\u001b[0m\n\u001b[0;32m   3885\u001b[0m         \u001b[1;32mfor\u001b[0m \u001b[0maxis\u001b[0m\u001b[1;33m,\u001b[0m \u001b[0mlabels\u001b[0m \u001b[1;32min\u001b[0m \u001b[0maxes\u001b[0m\u001b[1;33m.\u001b[0m\u001b[0mitems\u001b[0m\u001b[1;33m(\u001b[0m\u001b[1;33m)\u001b[0m\u001b[1;33m:\u001b[0m\u001b[1;33m\u001b[0m\u001b[1;33m\u001b[0m\u001b[0m\n\u001b[0;32m   3886\u001b[0m             \u001b[1;32mif\u001b[0m \u001b[0mlabels\u001b[0m \u001b[1;32mis\u001b[0m \u001b[1;32mnot\u001b[0m \u001b[1;32mNone\u001b[0m\u001b[1;33m:\u001b[0m\u001b[1;33m\u001b[0m\u001b[1;33m\u001b[0m\u001b[0m\n\u001b[1;32m-> 3887\u001b[1;33m                 \u001b[0mobj\u001b[0m \u001b[1;33m=\u001b[0m \u001b[0mobj\u001b[0m\u001b[1;33m.\u001b[0m\u001b[0m_drop_axis\u001b[0m\u001b[1;33m(\u001b[0m\u001b[0mlabels\u001b[0m\u001b[1;33m,\u001b[0m \u001b[0maxis\u001b[0m\u001b[1;33m,\u001b[0m \u001b[0mlevel\u001b[0m\u001b[1;33m=\u001b[0m\u001b[0mlevel\u001b[0m\u001b[1;33m,\u001b[0m \u001b[0merrors\u001b[0m\u001b[1;33m=\u001b[0m\u001b[0merrors\u001b[0m\u001b[1;33m)\u001b[0m\u001b[1;33m\u001b[0m\u001b[1;33m\u001b[0m\u001b[0m\n\u001b[0m\u001b[0;32m   3888\u001b[0m \u001b[1;33m\u001b[0m\u001b[0m\n\u001b[0;32m   3889\u001b[0m         \u001b[1;32mif\u001b[0m \u001b[0minplace\u001b[0m\u001b[1;33m:\u001b[0m\u001b[1;33m\u001b[0m\u001b[1;33m\u001b[0m\u001b[0m\n",
      "\u001b[1;32m~\\anaconda3\\lib\\site-packages\\pandas\\core\\generic.py\u001b[0m in \u001b[0;36m_drop_axis\u001b[1;34m(self, labels, axis, level, errors)\u001b[0m\n\u001b[0;32m   3919\u001b[0m                 \u001b[0mnew_axis\u001b[0m \u001b[1;33m=\u001b[0m \u001b[0maxis\u001b[0m\u001b[1;33m.\u001b[0m\u001b[0mdrop\u001b[0m\u001b[1;33m(\u001b[0m\u001b[0mlabels\u001b[0m\u001b[1;33m,\u001b[0m \u001b[0mlevel\u001b[0m\u001b[1;33m=\u001b[0m\u001b[0mlevel\u001b[0m\u001b[1;33m,\u001b[0m \u001b[0merrors\u001b[0m\u001b[1;33m=\u001b[0m\u001b[0merrors\u001b[0m\u001b[1;33m)\u001b[0m\u001b[1;33m\u001b[0m\u001b[1;33m\u001b[0m\u001b[0m\n\u001b[0;32m   3920\u001b[0m             \u001b[1;32melse\u001b[0m\u001b[1;33m:\u001b[0m\u001b[1;33m\u001b[0m\u001b[1;33m\u001b[0m\u001b[0m\n\u001b[1;32m-> 3921\u001b[1;33m                 \u001b[0mnew_axis\u001b[0m \u001b[1;33m=\u001b[0m \u001b[0maxis\u001b[0m\u001b[1;33m.\u001b[0m\u001b[0mdrop\u001b[0m\u001b[1;33m(\u001b[0m\u001b[0mlabels\u001b[0m\u001b[1;33m,\u001b[0m \u001b[0merrors\u001b[0m\u001b[1;33m=\u001b[0m\u001b[0merrors\u001b[0m\u001b[1;33m)\u001b[0m\u001b[1;33m\u001b[0m\u001b[1;33m\u001b[0m\u001b[0m\n\u001b[0m\u001b[0;32m   3922\u001b[0m             \u001b[0mresult\u001b[0m \u001b[1;33m=\u001b[0m \u001b[0mself\u001b[0m\u001b[1;33m.\u001b[0m\u001b[0mreindex\u001b[0m\u001b[1;33m(\u001b[0m\u001b[1;33m**\u001b[0m\u001b[1;33m{\u001b[0m\u001b[0maxis_name\u001b[0m\u001b[1;33m:\u001b[0m \u001b[0mnew_axis\u001b[0m\u001b[1;33m}\u001b[0m\u001b[1;33m)\u001b[0m\u001b[1;33m\u001b[0m\u001b[1;33m\u001b[0m\u001b[0m\n\u001b[0;32m   3923\u001b[0m \u001b[1;33m\u001b[0m\u001b[0m\n",
      "\u001b[1;32m~\\anaconda3\\lib\\site-packages\\pandas\\core\\indexes\\base.py\u001b[0m in \u001b[0;36mdrop\u001b[1;34m(self, labels, errors)\u001b[0m\n\u001b[0;32m   5280\u001b[0m         \u001b[1;32mif\u001b[0m \u001b[0mmask\u001b[0m\u001b[1;33m.\u001b[0m\u001b[0many\u001b[0m\u001b[1;33m(\u001b[0m\u001b[1;33m)\u001b[0m\u001b[1;33m:\u001b[0m\u001b[1;33m\u001b[0m\u001b[1;33m\u001b[0m\u001b[0m\n\u001b[0;32m   5281\u001b[0m             \u001b[1;32mif\u001b[0m \u001b[0merrors\u001b[0m \u001b[1;33m!=\u001b[0m \u001b[1;34m\"ignore\"\u001b[0m\u001b[1;33m:\u001b[0m\u001b[1;33m\u001b[0m\u001b[1;33m\u001b[0m\u001b[0m\n\u001b[1;32m-> 5282\u001b[1;33m                 \u001b[1;32mraise\u001b[0m \u001b[0mKeyError\u001b[0m\u001b[1;33m(\u001b[0m\u001b[1;34mf\"{labels[mask]} not found in axis\"\u001b[0m\u001b[1;33m)\u001b[0m\u001b[1;33m\u001b[0m\u001b[1;33m\u001b[0m\u001b[0m\n\u001b[0m\u001b[0;32m   5283\u001b[0m             \u001b[0mindexer\u001b[0m \u001b[1;33m=\u001b[0m \u001b[0mindexer\u001b[0m\u001b[1;33m[\u001b[0m\u001b[1;33m~\u001b[0m\u001b[0mmask\u001b[0m\u001b[1;33m]\u001b[0m\u001b[1;33m\u001b[0m\u001b[1;33m\u001b[0m\u001b[0m\n\u001b[0;32m   5284\u001b[0m         \u001b[1;32mreturn\u001b[0m \u001b[0mself\u001b[0m\u001b[1;33m.\u001b[0m\u001b[0mdelete\u001b[0m\u001b[1;33m(\u001b[0m\u001b[0mindexer\u001b[0m\u001b[1;33m)\u001b[0m\u001b[1;33m\u001b[0m\u001b[1;33m\u001b[0m\u001b[0m\n",
      "\u001b[1;31mKeyError\u001b[0m: \"['rs'] not found in axis\""
     ]
    }
   ],
   "source": [
    "casos_merged = merge_casos_notifica.copy()\n",
    "casos_merged['id'] = casos_merged['id'].fillna('-1').astype(int)\n",
    "\n",
    "casos_merged.loc[casos_merged['recuperado']==1,'evolucao'] = 1\n",
    "casos_merged.loc[casos_merged['obito']==1,'evolucao'] = 2\n",
    "casos_merged.loc[casos_merged['ativo']==1,'evolucao'] = 3\n",
    "\n",
    "casos_merged = casos_merged.rename(columns={\n",
    "    'identificacao': 'id_access',\n",
    "    'laboratorio': 'exame',\n",
    "    'data_obito': 'data_evolucao',\n",
    "    'data_com_obito': 'data_com_evolucao'\n",
    "    })\n",
    "\n",
    "casos_merged.loc[(casos_merged['data_com_evolucao'].isnull() & (casos_merged['evolucao']==2)),'data_com_evolucao'] = casos_merged.loc[(casos_merged['data_com_evolucao'].isnull() & (casos_merged['evolucao']==2)),'data_evolucao']\n",
    "\n",
    "casos_merged = casos_merged[['id_access','id','paciente','sexo','idade','rs','ibge_resid','mun_resid','data_1o_sintomas','ibge_atend','mun_atend','exame','data_diagnostico','data_comunicacao','evolucao','data_evolucao','data_com_evolucao']].sort_values('id_access')\n",
    "\n",
    "obitos_merged = casos_merged.loc[casos_merged['evolucao']==2,['id_access','id','paciente','sexo','idade','rs','ibge_resid','mun_resid','data_diagnostico','data_evolucao','data_com_evolucao']].sort_values('data_com_evolucao')\n",
    "\n",
    "casos_municipios = casos_merged.groupby(['rs','ibge_resid','evolucao'])[['id']].count().unstack(level=[2]).droplevel(0,1).fillna(0).astype(int).rename(columns={1.0:'recuperados',2.0:'obitos',3.0:'ativos'})\n",
    "casos_municipios['casos'] = casos_municipios.sum(axis=1)\n",
    "casos_municipios = casos_municipios[['casos','obitos','recuperados','ativos']]\n",
    "#totais\n",
    "\n",
    "casos_regionais = casos_municipios.groupby('rs')[['casos','obitos','recuperados','ativos']].sum()\n",
    "\n",
    "total_pr = casos_regionais.loc[casos_regionais.index!=99].sum(axis=0)\n",
    "total_geral = casos_regionais.sum(axis=0)\n",
    "\n",
    "casos_municipios = casos_municipios.droplevel(0,0)\n",
    "\n",
    "casos_municipios.loc[('total_pr')] = total_pr           #!!!!!!!!!!!!!!!!!!!!!!!!!!!!!!!!!!!\n",
    "casos_municipios.loc['total_geral'] = total_geral \n",
    "\n",
    "\n",
    "casos_regionais.loc['total_pr'] = total_pr\n",
    "casos_regionais.loc['total_geral'] = total_geral\n",
    "\n",
    "print(casos_merged.shape)\n",
    "print(obitos_merged.shape)"
   ]
  },
  {
   "source": [
    "casos_municipios"
   ],
   "cell_type": "code",
   "metadata": {},
   "execution_count": 50,
   "outputs": [
    {
     "output_type": "execute_result",
     "data": {
      "text/plain": [
       "evolucao        casos  obitos  recuperados  ativos\n",
       "(1, 4101200)     1543      38         1379     126\n",
       "(1, 4109500)      270       5          221      44\n",
       "(1, 4109609)     2959      69         2270     620\n",
       "(1, 4115705)     1718      39         1426     253\n",
       "(1, 4116208)     1301      29         1170     102\n",
       "...               ...     ...          ...     ...\n",
       "(22, 4123857)     253       8          213      32\n",
       "(22, 4125001)     489       9          455      25\n",
       "(99, 9999999)    4699      94         1056    3549\n",
       "total_pr       656410   11888       471119  173403\n",
       "total_geral    661109   11982       472175  176952\n",
       "\n",
       "[402 rows x 4 columns]"
      ],
      "text/html": "<div>\n<style scoped>\n    .dataframe tbody tr th:only-of-type {\n        vertical-align: middle;\n    }\n\n    .dataframe tbody tr th {\n        vertical-align: top;\n    }\n\n    .dataframe thead th {\n        text-align: right;\n    }\n</style>\n<table border=\"1\" class=\"dataframe\">\n  <thead>\n    <tr style=\"text-align: right;\">\n      <th>evolucao</th>\n      <th>casos</th>\n      <th>obitos</th>\n      <th>recuperados</th>\n      <th>ativos</th>\n    </tr>\n  </thead>\n  <tbody>\n    <tr>\n      <th>(1, 4101200)</th>\n      <td>1543</td>\n      <td>38</td>\n      <td>1379</td>\n      <td>126</td>\n    </tr>\n    <tr>\n      <th>(1, 4109500)</th>\n      <td>270</td>\n      <td>5</td>\n      <td>221</td>\n      <td>44</td>\n    </tr>\n    <tr>\n      <th>(1, 4109609)</th>\n      <td>2959</td>\n      <td>69</td>\n      <td>2270</td>\n      <td>620</td>\n    </tr>\n    <tr>\n      <th>(1, 4115705)</th>\n      <td>1718</td>\n      <td>39</td>\n      <td>1426</td>\n      <td>253</td>\n    </tr>\n    <tr>\n      <th>(1, 4116208)</th>\n      <td>1301</td>\n      <td>29</td>\n      <td>1170</td>\n      <td>102</td>\n    </tr>\n    <tr>\n      <th>...</th>\n      <td>...</td>\n      <td>...</td>\n      <td>...</td>\n      <td>...</td>\n    </tr>\n    <tr>\n      <th>(22, 4123857)</th>\n      <td>253</td>\n      <td>8</td>\n      <td>213</td>\n      <td>32</td>\n    </tr>\n    <tr>\n      <th>(22, 4125001)</th>\n      <td>489</td>\n      <td>9</td>\n      <td>455</td>\n      <td>25</td>\n    </tr>\n    <tr>\n      <th>(99, 9999999)</th>\n      <td>4699</td>\n      <td>94</td>\n      <td>1056</td>\n      <td>3549</td>\n    </tr>\n    <tr>\n      <th>total_pr</th>\n      <td>656410</td>\n      <td>11888</td>\n      <td>471119</td>\n      <td>173403</td>\n    </tr>\n    <tr>\n      <th>total_geral</th>\n      <td>661109</td>\n      <td>11982</td>\n      <td>472175</td>\n      <td>176952</td>\n    </tr>\n  </tbody>\n</table>\n<p>402 rows × 4 columns</p>\n</div>"
     },
     "metadata": {},
     "execution_count": 50
    }
   ]
  },
  {
   "cell_type": "code",
   "execution_count": 11,
   "metadata": {},
   "outputs": [
    {
     "output_type": "execute_result",
     "data": {
      "text/plain": [
       "evolucao      casos  obitos  recuperados  ativos\n",
       "rs                                              \n",
       "1             21734     397        13142    8195\n",
       "2            187095    4705       145310   37080\n",
       "3             36385     616        24183   11586\n",
       "4              7151     107         5927    1117\n",
       "5             18226     233        11159    6834\n",
       "6              4762      65         3400    1297\n",
       "7             16507     234        13166    3107\n",
       "8             23705     264        18484    4957\n",
       "9             40294     572        29939    9783\n",
       "10            37083     509        33491    3083\n",
       "11            14517     245         9741    4531\n",
       "12            16189     204         9668    6317\n",
       "13             8339      93         7063    1183\n",
       "14            12224     173         8822    3229\n",
       "15            55383     813        42846   11724\n",
       "16            18583     497        10618    7468\n",
       "17            65530    1030        28766   35734\n",
       "18            11491     247         9290    1954\n",
       "19            11851     212         8349    3290\n",
       "20            30886     362        26420    4104\n",
       "21            13403     222         7058    6123\n",
       "22             5072      88         4277     707\n",
       "99             4699      94         1056    3549\n",
       "total_pr     656410   11888       471119  173403\n",
       "total_geral  661109   11982       472175  176952"
      ],
      "text/html": "<div>\n<style scoped>\n    .dataframe tbody tr th:only-of-type {\n        vertical-align: middle;\n    }\n\n    .dataframe tbody tr th {\n        vertical-align: top;\n    }\n\n    .dataframe thead th {\n        text-align: right;\n    }\n</style>\n<table border=\"1\" class=\"dataframe\">\n  <thead>\n    <tr style=\"text-align: right;\">\n      <th>evolucao</th>\n      <th>casos</th>\n      <th>obitos</th>\n      <th>recuperados</th>\n      <th>ativos</th>\n    </tr>\n    <tr>\n      <th>rs</th>\n      <th></th>\n      <th></th>\n      <th></th>\n      <th></th>\n    </tr>\n  </thead>\n  <tbody>\n    <tr>\n      <th>1</th>\n      <td>21734</td>\n      <td>397</td>\n      <td>13142</td>\n      <td>8195</td>\n    </tr>\n    <tr>\n      <th>2</th>\n      <td>187095</td>\n      <td>4705</td>\n      <td>145310</td>\n      <td>37080</td>\n    </tr>\n    <tr>\n      <th>3</th>\n      <td>36385</td>\n      <td>616</td>\n      <td>24183</td>\n      <td>11586</td>\n    </tr>\n    <tr>\n      <th>4</th>\n      <td>7151</td>\n      <td>107</td>\n      <td>5927</td>\n      <td>1117</td>\n    </tr>\n    <tr>\n      <th>5</th>\n      <td>18226</td>\n      <td>233</td>\n      <td>11159</td>\n      <td>6834</td>\n    </tr>\n    <tr>\n      <th>6</th>\n      <td>4762</td>\n      <td>65</td>\n      <td>3400</td>\n      <td>1297</td>\n    </tr>\n    <tr>\n      <th>7</th>\n      <td>16507</td>\n      <td>234</td>\n      <td>13166</td>\n      <td>3107</td>\n    </tr>\n    <tr>\n      <th>8</th>\n      <td>23705</td>\n      <td>264</td>\n      <td>18484</td>\n      <td>4957</td>\n    </tr>\n    <tr>\n      <th>9</th>\n      <td>40294</td>\n      <td>572</td>\n      <td>29939</td>\n      <td>9783</td>\n    </tr>\n    <tr>\n      <th>10</th>\n      <td>37083</td>\n      <td>509</td>\n      <td>33491</td>\n      <td>3083</td>\n    </tr>\n    <tr>\n      <th>11</th>\n      <td>14517</td>\n      <td>245</td>\n      <td>9741</td>\n      <td>4531</td>\n    </tr>\n    <tr>\n      <th>12</th>\n      <td>16189</td>\n      <td>204</td>\n      <td>9668</td>\n      <td>6317</td>\n    </tr>\n    <tr>\n      <th>13</th>\n      <td>8339</td>\n      <td>93</td>\n      <td>7063</td>\n      <td>1183</td>\n    </tr>\n    <tr>\n      <th>14</th>\n      <td>12224</td>\n      <td>173</td>\n      <td>8822</td>\n      <td>3229</td>\n    </tr>\n    <tr>\n      <th>15</th>\n      <td>55383</td>\n      <td>813</td>\n      <td>42846</td>\n      <td>11724</td>\n    </tr>\n    <tr>\n      <th>16</th>\n      <td>18583</td>\n      <td>497</td>\n      <td>10618</td>\n      <td>7468</td>\n    </tr>\n    <tr>\n      <th>17</th>\n      <td>65530</td>\n      <td>1030</td>\n      <td>28766</td>\n      <td>35734</td>\n    </tr>\n    <tr>\n      <th>18</th>\n      <td>11491</td>\n      <td>247</td>\n      <td>9290</td>\n      <td>1954</td>\n    </tr>\n    <tr>\n      <th>19</th>\n      <td>11851</td>\n      <td>212</td>\n      <td>8349</td>\n      <td>3290</td>\n    </tr>\n    <tr>\n      <th>20</th>\n      <td>30886</td>\n      <td>362</td>\n      <td>26420</td>\n      <td>4104</td>\n    </tr>\n    <tr>\n      <th>21</th>\n      <td>13403</td>\n      <td>222</td>\n      <td>7058</td>\n      <td>6123</td>\n    </tr>\n    <tr>\n      <th>22</th>\n      <td>5072</td>\n      <td>88</td>\n      <td>4277</td>\n      <td>707</td>\n    </tr>\n    <tr>\n      <th>99</th>\n      <td>4699</td>\n      <td>94</td>\n      <td>1056</td>\n      <td>3549</td>\n    </tr>\n    <tr>\n      <th>total_pr</th>\n      <td>656410</td>\n      <td>11888</td>\n      <td>471119</td>\n      <td>173403</td>\n    </tr>\n    <tr>\n      <th>total_geral</th>\n      <td>661109</td>\n      <td>11982</td>\n      <td>472175</td>\n      <td>176952</td>\n    </tr>\n  </tbody>\n</table>\n</div>"
     },
     "metadata": {},
     "execution_count": 11
    }
   ],
   "source": [
    "casos_regionais"
   ]
  },
  {
   "cell_type": "code",
   "execution_count": 11,
   "metadata": {},
   "outputs": [
    {
     "output_type": "error",
     "ename": "KeyboardInterrupt",
     "evalue": "",
     "traceback": [
      "\u001b[1;31m---------------------------------------------------------------------------\u001b[0m",
      "\u001b[1;31mKeyboardInterrupt\u001b[0m                         Traceback (most recent call last)",
      "\u001b[1;32m<ipython-input-11-838073bfda3c>\u001b[0m in \u001b[0;36m<module>\u001b[1;34m\u001b[0m\n\u001b[0;32m      4\u001b[0m                         date_format='dd/mm/yyyy')\n\u001b[0;32m      5\u001b[0m \u001b[1;33m\u001b[0m\u001b[0m\n\u001b[1;32m----> 6\u001b[1;33m \u001b[0mcasos_merged\u001b[0m\u001b[1;33m.\u001b[0m\u001b[0mto_excel\u001b[0m\u001b[1;33m(\u001b[0m\u001b[0mwriter\u001b[0m\u001b[1;33m,\u001b[0m\u001b[0msheet_name\u001b[0m\u001b[1;33m=\u001b[0m\u001b[1;34m'casos_merged'\u001b[0m\u001b[1;33m,\u001b[0m\u001b[0mindex\u001b[0m\u001b[1;33m=\u001b[0m\u001b[1;32mNone\u001b[0m\u001b[1;33m)\u001b[0m\u001b[1;33m\u001b[0m\u001b[1;33m\u001b[0m\u001b[0m\n\u001b[0m\u001b[0;32m      7\u001b[0m \u001b[0mworksheet\u001b[0m \u001b[1;33m=\u001b[0m \u001b[0mwriter\u001b[0m\u001b[1;33m.\u001b[0m\u001b[0msheets\u001b[0m\u001b[1;33m[\u001b[0m\u001b[1;34m'casos_merged'\u001b[0m\u001b[1;33m]\u001b[0m\u001b[1;33m\u001b[0m\u001b[1;33m\u001b[0m\u001b[0m\n\u001b[0;32m      8\u001b[0m \u001b[0mauto_fit_columns\u001b[0m\u001b[1;33m(\u001b[0m\u001b[0mworksheet\u001b[0m\u001b[1;33m,\u001b[0m\u001b[0mcasos_merged\u001b[0m\u001b[1;33m)\u001b[0m\u001b[1;33m\u001b[0m\u001b[1;33m\u001b[0m\u001b[0m\n",
      "\u001b[1;32m~\\anaconda3\\lib\\site-packages\\pandas\\core\\generic.py\u001b[0m in \u001b[0;36mto_excel\u001b[1;34m(self, excel_writer, sheet_name, na_rep, float_format, columns, header, index, index_label, startrow, startcol, engine, merge_cells, encoding, inf_rep, verbose, freeze_panes)\u001b[0m\n\u001b[0;32m   2024\u001b[0m             \u001b[0minf_rep\u001b[0m\u001b[1;33m=\u001b[0m\u001b[0minf_rep\u001b[0m\u001b[1;33m,\u001b[0m\u001b[1;33m\u001b[0m\u001b[1;33m\u001b[0m\u001b[0m\n\u001b[0;32m   2025\u001b[0m         )\n\u001b[1;32m-> 2026\u001b[1;33m         formatter.write(\n\u001b[0m\u001b[0;32m   2027\u001b[0m             \u001b[0mexcel_writer\u001b[0m\u001b[1;33m,\u001b[0m\u001b[1;33m\u001b[0m\u001b[1;33m\u001b[0m\u001b[0m\n\u001b[0;32m   2028\u001b[0m             \u001b[0msheet_name\u001b[0m\u001b[1;33m=\u001b[0m\u001b[0msheet_name\u001b[0m\u001b[1;33m,\u001b[0m\u001b[1;33m\u001b[0m\u001b[1;33m\u001b[0m\u001b[0m\n",
      "\u001b[1;32m~\\anaconda3\\lib\\site-packages\\pandas\\io\\formats\\excel.py\u001b[0m in \u001b[0;36mwrite\u001b[1;34m(self, writer, sheet_name, startrow, startcol, freeze_panes, engine)\u001b[0m\n\u001b[0;32m    732\u001b[0m \u001b[1;33m\u001b[0m\u001b[0m\n\u001b[0;32m    733\u001b[0m         \u001b[0mformatted_cells\u001b[0m \u001b[1;33m=\u001b[0m \u001b[0mself\u001b[0m\u001b[1;33m.\u001b[0m\u001b[0mget_formatted_cells\u001b[0m\u001b[1;33m(\u001b[0m\u001b[1;33m)\u001b[0m\u001b[1;33m\u001b[0m\u001b[1;33m\u001b[0m\u001b[0m\n\u001b[1;32m--> 734\u001b[1;33m         writer.write_cells(\n\u001b[0m\u001b[0;32m    735\u001b[0m             \u001b[0mformatted_cells\u001b[0m\u001b[1;33m,\u001b[0m\u001b[1;33m\u001b[0m\u001b[1;33m\u001b[0m\u001b[0m\n\u001b[0;32m    736\u001b[0m             \u001b[0msheet_name\u001b[0m\u001b[1;33m,\u001b[0m\u001b[1;33m\u001b[0m\u001b[1;33m\u001b[0m\u001b[0m\n",
      "\u001b[1;32m~\\anaconda3\\lib\\site-packages\\pandas\\io\\excel\\_xlsxwriter.py\u001b[0m in \u001b[0;36mwrite_cells\u001b[1;34m(self, cells, sheet_name, startrow, startcol, freeze_panes)\u001b[0m\n\u001b[0;32m    233\u001b[0m                 )\n\u001b[0;32m    234\u001b[0m             \u001b[1;32melse\u001b[0m\u001b[1;33m:\u001b[0m\u001b[1;33m\u001b[0m\u001b[1;33m\u001b[0m\u001b[0m\n\u001b[1;32m--> 235\u001b[1;33m                 \u001b[0mwks\u001b[0m\u001b[1;33m.\u001b[0m\u001b[0mwrite\u001b[0m\u001b[1;33m(\u001b[0m\u001b[0mstartrow\u001b[0m \u001b[1;33m+\u001b[0m \u001b[0mcell\u001b[0m\u001b[1;33m.\u001b[0m\u001b[0mrow\u001b[0m\u001b[1;33m,\u001b[0m \u001b[0mstartcol\u001b[0m \u001b[1;33m+\u001b[0m \u001b[0mcell\u001b[0m\u001b[1;33m.\u001b[0m\u001b[0mcol\u001b[0m\u001b[1;33m,\u001b[0m \u001b[0mval\u001b[0m\u001b[1;33m,\u001b[0m \u001b[0mstyle\u001b[0m\u001b[1;33m)\u001b[0m\u001b[1;33m\u001b[0m\u001b[1;33m\u001b[0m\u001b[0m\n\u001b[0m",
      "\u001b[1;32m~\\anaconda3\\lib\\site-packages\\xlsxwriter\\worksheet.py\u001b[0m in \u001b[0;36mcell_wrapper\u001b[1;34m(self, *args, **kwargs)\u001b[0m\n\u001b[0;32m     67\u001b[0m             \u001b[0margs\u001b[0m \u001b[1;33m=\u001b[0m \u001b[0mnew_args\u001b[0m \u001b[1;33m+\u001b[0m \u001b[0margs\u001b[0m\u001b[1;33m[\u001b[0m\u001b[1;36m1\u001b[0m\u001b[1;33m:\u001b[0m\u001b[1;33m]\u001b[0m\u001b[1;33m\u001b[0m\u001b[1;33m\u001b[0m\u001b[0m\n\u001b[0;32m     68\u001b[0m \u001b[1;33m\u001b[0m\u001b[0m\n\u001b[1;32m---> 69\u001b[1;33m         \u001b[1;32mreturn\u001b[0m \u001b[0mmethod\u001b[0m\u001b[1;33m(\u001b[0m\u001b[0mself\u001b[0m\u001b[1;33m,\u001b[0m \u001b[1;33m*\u001b[0m\u001b[0margs\u001b[0m\u001b[1;33m,\u001b[0m \u001b[1;33m**\u001b[0m\u001b[0mkwargs\u001b[0m\u001b[1;33m)\u001b[0m\u001b[1;33m\u001b[0m\u001b[1;33m\u001b[0m\u001b[0m\n\u001b[0m\u001b[0;32m     70\u001b[0m \u001b[1;33m\u001b[0m\u001b[0m\n\u001b[0;32m     71\u001b[0m     \u001b[1;32mreturn\u001b[0m \u001b[0mcell_wrapper\u001b[0m\u001b[1;33m\u001b[0m\u001b[1;33m\u001b[0m\u001b[0m\n",
      "\u001b[1;32m~\\anaconda3\\lib\\site-packages\\xlsxwriter\\worksheet.py\u001b[0m in \u001b[0;36mwrite\u001b[1;34m(self, row, col, *args)\u001b[0m\n\u001b[0;32m    420\u001b[0m \u001b[1;33m\u001b[0m\u001b[0m\n\u001b[0;32m    421\u001b[0m         \"\"\"\n\u001b[1;32m--> 422\u001b[1;33m         \u001b[1;32mreturn\u001b[0m \u001b[0mself\u001b[0m\u001b[1;33m.\u001b[0m\u001b[0m_write\u001b[0m\u001b[1;33m(\u001b[0m\u001b[0mrow\u001b[0m\u001b[1;33m,\u001b[0m \u001b[0mcol\u001b[0m\u001b[1;33m,\u001b[0m \u001b[1;33m*\u001b[0m\u001b[0margs\u001b[0m\u001b[1;33m)\u001b[0m\u001b[1;33m\u001b[0m\u001b[1;33m\u001b[0m\u001b[0m\n\u001b[0m\u001b[0;32m    423\u001b[0m \u001b[1;33m\u001b[0m\u001b[0m\n\u001b[0;32m    424\u001b[0m     \u001b[1;31m# Undecorated version of write().\u001b[0m\u001b[1;33m\u001b[0m\u001b[1;33m\u001b[0m\u001b[1;33m\u001b[0m\u001b[0m\n",
      "\u001b[1;32m~\\anaconda3\\lib\\site-packages\\xlsxwriter\\worksheet.py\u001b[0m in \u001b[0;36m_write\u001b[1;34m(self, row, col, *args)\u001b[0m\n\u001b[0;32m    491\u001b[0m         \u001b[1;31m# Write datetime objects.\u001b[0m\u001b[1;33m\u001b[0m\u001b[1;33m\u001b[0m\u001b[1;33m\u001b[0m\u001b[0m\n\u001b[0;32m    492\u001b[0m         \u001b[1;32mif\u001b[0m \u001b[0msupported_datetime\u001b[0m\u001b[1;33m(\u001b[0m\u001b[0mtoken\u001b[0m\u001b[1;33m)\u001b[0m\u001b[1;33m:\u001b[0m\u001b[1;33m\u001b[0m\u001b[1;33m\u001b[0m\u001b[0m\n\u001b[1;32m--> 493\u001b[1;33m             \u001b[1;32mreturn\u001b[0m \u001b[0mself\u001b[0m\u001b[1;33m.\u001b[0m\u001b[0m_write_datetime\u001b[0m\u001b[1;33m(\u001b[0m\u001b[0mrow\u001b[0m\u001b[1;33m,\u001b[0m \u001b[0mcol\u001b[0m\u001b[1;33m,\u001b[0m \u001b[1;33m*\u001b[0m\u001b[0margs\u001b[0m\u001b[1;33m)\u001b[0m\u001b[1;33m\u001b[0m\u001b[1;33m\u001b[0m\u001b[0m\n\u001b[0m\u001b[0;32m    494\u001b[0m \u001b[1;33m\u001b[0m\u001b[0m\n\u001b[0;32m    495\u001b[0m         \u001b[1;31m# We haven't matched a supported type. Try float.\u001b[0m\u001b[1;33m\u001b[0m\u001b[1;33m\u001b[0m\u001b[1;33m\u001b[0m\u001b[0m\n",
      "\u001b[1;32m~\\anaconda3\\lib\\site-packages\\xlsxwriter\\worksheet.py\u001b[0m in \u001b[0;36m_write_datetime\u001b[1;34m(self, row, col, date, cell_format)\u001b[0m\n\u001b[0;32m    788\u001b[0m \u001b[1;33m\u001b[0m\u001b[0m\n\u001b[0;32m    789\u001b[0m         \u001b[1;31m# Convert datetime to an Excel date.\u001b[0m\u001b[1;33m\u001b[0m\u001b[1;33m\u001b[0m\u001b[1;33m\u001b[0m\u001b[0m\n\u001b[1;32m--> 790\u001b[1;33m         \u001b[0mnumber\u001b[0m \u001b[1;33m=\u001b[0m \u001b[0mself\u001b[0m\u001b[1;33m.\u001b[0m\u001b[0m_convert_date_time\u001b[0m\u001b[1;33m(\u001b[0m\u001b[0mdate\u001b[0m\u001b[1;33m)\u001b[0m\u001b[1;33m\u001b[0m\u001b[1;33m\u001b[0m\u001b[0m\n\u001b[0m\u001b[0;32m    791\u001b[0m \u001b[1;33m\u001b[0m\u001b[0m\n\u001b[0;32m    792\u001b[0m         \u001b[1;31m# Add the default date format.\u001b[0m\u001b[1;33m\u001b[0m\u001b[1;33m\u001b[0m\u001b[1;33m\u001b[0m\u001b[0m\n",
      "\u001b[1;32m~\\anaconda3\\lib\\site-packages\\xlsxwriter\\worksheet.py\u001b[0m in \u001b[0;36m_convert_date_time\u001b[1;34m(self, dt_obj)\u001b[0m\n\u001b[0;32m   3979\u001b[0m     \u001b[1;32mdef\u001b[0m \u001b[0m_convert_date_time\u001b[0m\u001b[1;33m(\u001b[0m\u001b[0mself\u001b[0m\u001b[1;33m,\u001b[0m \u001b[0mdt_obj\u001b[0m\u001b[1;33m)\u001b[0m\u001b[1;33m:\u001b[0m\u001b[1;33m\u001b[0m\u001b[1;33m\u001b[0m\u001b[0m\n\u001b[0;32m   3980\u001b[0m         \u001b[1;31m# Convert a datetime object to an Excel serial date and time.\u001b[0m\u001b[1;33m\u001b[0m\u001b[1;33m\u001b[0m\u001b[1;33m\u001b[0m\u001b[0m\n\u001b[1;32m-> 3981\u001b[1;33m         return datetime_to_excel_datetime(dt_obj,\n\u001b[0m\u001b[0;32m   3982\u001b[0m                                           \u001b[0mself\u001b[0m\u001b[1;33m.\u001b[0m\u001b[0mdate_1904\u001b[0m\u001b[1;33m,\u001b[0m\u001b[1;33m\u001b[0m\u001b[1;33m\u001b[0m\u001b[0m\n\u001b[0;32m   3983\u001b[0m                                           self.remove_timezone)\n",
      "\u001b[1;32m~\\anaconda3\\lib\\site-packages\\xlsxwriter\\utility.py\u001b[0m in \u001b[0;36mdatetime_to_excel_datetime\u001b[1;34m(dt_obj, date_1904, remove_timezone)\u001b[0m\n\u001b[0;32m    685\u001b[0m     \u001b[1;31m# Convert a Python datetime.datetime value to an Excel date number.\u001b[0m\u001b[1;33m\u001b[0m\u001b[1;33m\u001b[0m\u001b[1;33m\u001b[0m\u001b[0m\n\u001b[0;32m    686\u001b[0m     excel_time = (delta.days\n\u001b[1;32m--> 687\u001b[1;33m                   + (float(delta.seconds)\n\u001b[0m\u001b[0;32m    688\u001b[0m                      + float(delta.microseconds) / 1E6)\n\u001b[0;32m    689\u001b[0m                   / (60 * 60 * 24))\n",
      "\u001b[1;31mKeyboardInterrupt\u001b[0m: "
     ]
    }
   ],
   "source": [
    "writer = pd.ExcelWriter(join(output,\"casos_merged.xlsx\"),\n",
    "                        engine='xlsxwriter',\n",
    "                        datetime_format='dd/mm/yyyy',\n",
    "                        date_format='dd/mm/yyyy')\n",
    "\n",
    "casos_merged.to_excel(writer,sheet_name='casos_merged',index=None)\n",
    "worksheet = writer.sheets['casos_merged']\n",
    "auto_fit_columns(worksheet,casos_merged)\n",
    "\n",
    "obitos_merged.to_excel(writer,sheet_name='obitos_merged',index=None)\n",
    "worksheet = writer.sheets['obitos_merged']\n",
    "auto_fit_columns(worksheet,obitos_merged)\n",
    "\n",
    "casos_regionais.to_excel(writer,sheet_name='casos_regionais')\n",
    "worksheet = writer.sheets['casos_regionais']\n",
    "auto_fit_columns(worksheet,casos_regionais)\n",
    "\n",
    "casos_municipios.to_excel(writer,sheet_name='casos_municipios')\n",
    "worksheet = writer.sheets['casos_municipios']\n",
    "auto_fit_columns(worksheet,casos_municipios)\n",
    "\n",
    "writer.save()\n",
    "writer.close()"
   ]
  },
  {
   "cell_type": "code",
   "execution_count": 10,
   "metadata": {},
   "outputs": [
    {
     "output_type": "stream",
     "name": "stdout",
     "text": [
      "661114\n"
     ]
    }
   ],
   "source": [
    "merge_casos_notifica = pd.merge(merge_casos_notifica, casosn[['id','uf_residencia','classificacao_final','criterio_classificacao','exame','metodo','evolucao','excluir_ficha','manter','duplicado']], on='id', how='left')\n",
    "\n",
    "merge_casos_notifica.loc[merge_casos_notifica['classificacao_final'].isnull(),'classificacao_final'] = \"SEM NOTIFICACAO\"\n",
    "merge_casos_notifica['caso'] = 1\n",
    "print(len(merge_casos_notifica))"
   ]
  },
  {
   "cell_type": "code",
   "execution_count": 11,
   "metadata": {},
   "outputs": [
    {
     "output_type": "execute_result",
     "data": {
      "text/plain": [
       "                  casos  obitos  recuperados  ativos\n",
       "0.0                  51       0           38      13\n",
       "1.0               46072     747        26164   19161\n",
       "2.0              583061   10512       428506  144043\n",
       "3.0                3950      50          861    3039\n",
       "5.0                  32       0            3      29\n",
       "SEM NOTIFICACAO   27948     673        16603   10672\n",
       "Total            661114   11982       472175  176957"
      ],
      "text/html": "<div>\n<style scoped>\n    .dataframe tbody tr th:only-of-type {\n        vertical-align: middle;\n    }\n\n    .dataframe tbody tr th {\n        vertical-align: top;\n    }\n\n    .dataframe thead th {\n        text-align: right;\n    }\n</style>\n<table border=\"1\" class=\"dataframe\">\n  <thead>\n    <tr style=\"text-align: right;\">\n      <th></th>\n      <th>casos</th>\n      <th>obitos</th>\n      <th>recuperados</th>\n      <th>ativos</th>\n    </tr>\n  </thead>\n  <tbody>\n    <tr>\n      <th>0.0</th>\n      <td>51</td>\n      <td>0</td>\n      <td>38</td>\n      <td>13</td>\n    </tr>\n    <tr>\n      <th>1.0</th>\n      <td>46072</td>\n      <td>747</td>\n      <td>26164</td>\n      <td>19161</td>\n    </tr>\n    <tr>\n      <th>2.0</th>\n      <td>583061</td>\n      <td>10512</td>\n      <td>428506</td>\n      <td>144043</td>\n    </tr>\n    <tr>\n      <th>3.0</th>\n      <td>3950</td>\n      <td>50</td>\n      <td>861</td>\n      <td>3039</td>\n    </tr>\n    <tr>\n      <th>5.0</th>\n      <td>32</td>\n      <td>0</td>\n      <td>3</td>\n      <td>29</td>\n    </tr>\n    <tr>\n      <th>SEM NOTIFICACAO</th>\n      <td>27948</td>\n      <td>673</td>\n      <td>16603</td>\n      <td>10672</td>\n    </tr>\n    <tr>\n      <th>Total</th>\n      <td>661114</td>\n      <td>11982</td>\n      <td>472175</td>\n      <td>176957</td>\n    </tr>\n  </tbody>\n</table>\n</div>"
     },
     "metadata": {},
     "execution_count": 11
    }
   ],
   "source": [
    "gcf = merge_casos_notifica.groupby('classificacao_final')[['caso','obito','recuperado','ativo']].sum()\n",
    "gcf = gcf.rename(columns={'caso':'casos','obito':'obitos','recuperado':'recuperados','ativo':'ativos'})\n",
    "gcf = gcf.append(pd.DataFrame(data=[gcf.sum(axis=0)],columns=gcf.columns,index=['Total']))\n",
    "gcf"
   ]
  },
  {
   "cell_type": "code",
   "execution_count": 12,
   "metadata": {},
   "outputs": [
    {
     "output_type": "execute_result",
     "data": {
      "text/plain": [
       "        casos  obitos  recuperados  ativos\n",
       "0.0      5018      99         1124    3795\n",
       "1.0    396225     600       383633   11992\n",
       "2.0      9788    9636           32     120\n",
       "3.0    222025     949        70769  150307\n",
       "4.0       110      25           14      71\n",
       "Total  633166   11309       455572  166285"
      ],
      "text/html": "<div>\n<style scoped>\n    .dataframe tbody tr th:only-of-type {\n        vertical-align: middle;\n    }\n\n    .dataframe tbody tr th {\n        vertical-align: top;\n    }\n\n    .dataframe thead th {\n        text-align: right;\n    }\n</style>\n<table border=\"1\" class=\"dataframe\">\n  <thead>\n    <tr style=\"text-align: right;\">\n      <th></th>\n      <th>casos</th>\n      <th>obitos</th>\n      <th>recuperados</th>\n      <th>ativos</th>\n    </tr>\n  </thead>\n  <tbody>\n    <tr>\n      <th>0.0</th>\n      <td>5018</td>\n      <td>99</td>\n      <td>1124</td>\n      <td>3795</td>\n    </tr>\n    <tr>\n      <th>1.0</th>\n      <td>396225</td>\n      <td>600</td>\n      <td>383633</td>\n      <td>11992</td>\n    </tr>\n    <tr>\n      <th>2.0</th>\n      <td>9788</td>\n      <td>9636</td>\n      <td>32</td>\n      <td>120</td>\n    </tr>\n    <tr>\n      <th>3.0</th>\n      <td>222025</td>\n      <td>949</td>\n      <td>70769</td>\n      <td>150307</td>\n    </tr>\n    <tr>\n      <th>4.0</th>\n      <td>110</td>\n      <td>25</td>\n      <td>14</td>\n      <td>71</td>\n    </tr>\n    <tr>\n      <th>Total</th>\n      <td>633166</td>\n      <td>11309</td>\n      <td>455572</td>\n      <td>166285</td>\n    </tr>\n  </tbody>\n</table>\n</div>"
     },
     "metadata": {},
     "execution_count": 12
    }
   ],
   "source": [
    "gce = merge_casos_notifica.groupby('evolucao')[['caso','obito','recuperado','ativo']].sum()\n",
    "gce = gce.rename(columns={'caso':'casos','obito':'obitos','recuperado':'recuperados','ativo':'ativos'})\n",
    "gce = gce.append(pd.DataFrame(data=[gce.sum(axis=0)],columns=gce.columns,index=['Total']))\n",
    "gce"
   ]
  },
  {
   "cell_type": "code",
   "execution_count": 13,
   "metadata": {},
   "outputs": [],
   "source": [
    "merge_casos_notifica = merge_casos_notifica[['ordem', 'identificacao', 'id','uf_residencia','ibge_resid', 'ibge_atend', 'paciente', 'sexo', 'idade', 'mun_resid', 'mun_atend', 'rs', 'classificacao_final', 'laboratorio', 'exame', 'metodo', 'data_diagnostico', 'data_comunicacao', 'data_1o_sintomas','evolucao', 'recuperado', 'caso', 'obito', 'ativo', 'data_obito', 'data_com_obito', 'excluir','excluir_ficha','manter','duplicado']]"
   ]
  },
  {
   "cell_type": "code",
   "execution_count": 14,
   "metadata": {},
   "outputs": [
    {
     "output_type": "execute_result",
     "data": {
      "text/plain": [
       "                                      id\n",
       "obitos_nao_casos_confirmados         152\n",
       "obitos_nao_notifica                 1673\n",
       "recuperados_nao_casos_confirmados  12592\n",
       "recuperados_nao_notifica           71939\n",
       "Total                              86356"
      ],
      "text/html": "<div>\n<style scoped>\n    .dataframe tbody tr th:only-of-type {\n        vertical-align: middle;\n    }\n\n    .dataframe tbody tr th {\n        vertical-align: top;\n    }\n\n    .dataframe thead th {\n        text-align: right;\n    }\n</style>\n<table border=\"1\" class=\"dataframe\">\n  <thead>\n    <tr style=\"text-align: right;\">\n      <th></th>\n      <th>id</th>\n    </tr>\n  </thead>\n  <tbody>\n    <tr>\n      <th>obitos_nao_casos_confirmados</th>\n      <td>152</td>\n    </tr>\n    <tr>\n      <th>obitos_nao_notifica</th>\n      <td>1673</td>\n    </tr>\n    <tr>\n      <th>recuperados_nao_casos_confirmados</th>\n      <td>12592</td>\n    </tr>\n    <tr>\n      <th>recuperados_nao_notifica</th>\n      <td>71939</td>\n    </tr>\n    <tr>\n      <th>Total</th>\n      <td>86356</td>\n    </tr>\n  </tbody>\n</table>\n</div>"
     },
     "metadata": {},
     "execution_count": 14
    }
   ],
   "source": [
    "obitos_nao_notifica = merge_casos_notifica.loc[(merge_casos_notifica['obito']==1) & (merge_casos_notifica['evolucao']!=2)].copy()\n",
    "obitos_nao_casos_confirmados = merge_casos_notifica.loc[(merge_casos_notifica['obito']==0) & (merge_casos_notifica['evolucao']==2)].copy()\n",
    "recuperados_nao_notifica = merge_casos_notifica.loc[(merge_casos_notifica['recuperado']==1) & (merge_casos_notifica['evolucao']!=1)].copy()\n",
    "recuperados_nao_casos_confirmados = merge_casos_notifica.loc[(merge_casos_notifica['recuperado']==0) & (merge_casos_notifica['evolucao']==1)].copy()\n",
    "\n",
    "obitos_nao_notifica['diff'] = 'obitos_nao_notifica'\n",
    "obitos_nao_casos_confirmados['diff'] = 'obitos_nao_casos_confirmados'\n",
    "recuperados_nao_notifica['diff'] = 'recuperados_nao_notifica'\n",
    "recuperados_nao_casos_confirmados['diff'] = 'recuperados_nao_casos_confirmados'\n",
    "\n",
    "diferencas = obitos_nao_notifica.append(obitos_nao_casos_confirmados.append(recuperados_nao_notifica.append(recuperados_nao_casos_confirmados)))\n",
    "\n",
    "gdiff = diferencas.groupby('diff')[['id']].count() #'caso','obito','recuperado','ativo'\n",
    "# gdiff = gdiff.rename(columns={'caso':'casos','obito':'obitos','recuperado':'recuperados','ativo':'ativos'})\n",
    "gdiff = gdiff.append(pd.DataFrame(data=[gdiff.sum(axis=0)],columns=gdiff.columns,index=['Total']))\n",
    "gdiff"
   ]
  },
  {
   "cell_type": "code",
   "execution_count": 15,
   "metadata": {},
   "outputs": [],
   "source": [
    "casos_comunicados = merge_casos_notifica\n",
    "\n",
    "writer = pd.ExcelWriter(join(output,\"casos_comunicados.xlsx\"),\n",
    "                        engine='xlsxwriter',\n",
    "                        datetime_format='dd/mm/yyyy',\n",
    "                        date_format='dd/mm/yyyy')\n",
    "\n",
    "\n",
    "casos_comunicados.to_excel(writer,sheet_name='casos_comunicados',index=None)\n",
    "worksheet = writer.sheets[\"casos_comunicados\"]\n",
    "auto_fit_columns(worksheet,casos_comunicados)\n",
    "\n",
    "writer.save()\n",
    "writer.close()"
   ]
  },
  {
   "cell_type": "code",
   "execution_count": 16,
   "metadata": {},
   "outputs": [],
   "source": [
    "recuperados = merge_casos_notifica.loc[(merge_casos_notifica['evolucao']==1) & (merge_casos_notifica['obito']!=1)].copy()\n",
    "recuperados = pd.merge(recuperados,casosn[['id','data_cura_obito','origem']], how='left', on='id')\n",
    "\n",
    "recuperados['recuperado'] = 'SIM'\n",
    "recuperados['data'] = date.today()\n",
    "recuperados['fonte'] = recuperados['origem']\n",
    "recuperados.loc[recuperados['data_cura_obito'].isnull(),'data_cura_obito'] = date.today()\n",
    "\n",
    "recuperados = recuperados[['ordem','identificacao','id','recuperado','data','fonte','mun_resid','ibge_resid','paciente','sexo','idade','data_cura_obito']]\n",
    "\n",
    "writer = pd.ExcelWriter(join(output,\"recuperados.xlsx\"),\n",
    "                        engine='xlsxwriter',\n",
    "                        datetime_format='dd/mm/yyyy',\n",
    "                        date_format='dd/mm/yyyy')\n",
    "\n",
    "\n",
    "recuperados.to_excel(writer,sheet_name='recuperados',index=None)\n",
    "worksheet = writer.sheets[\"recuperados\"]\n",
    "auto_fit_columns(worksheet,recuperados)\n",
    "\n",
    "writer.save()\n",
    "writer.close()"
   ]
  },
  {
   "cell_type": "code",
   "execution_count": 17,
   "metadata": {},
   "outputs": [
    {
     "output_type": "error",
     "ename": "TypeError",
     "evalue": "object of type 'float' has no len()",
     "traceback": [
      "\u001b[1;31m---------------------------------------------------------------------------\u001b[0m",
      "\u001b[1;31mTypeError\u001b[0m                                 Traceback (most recent call last)",
      "\u001b[1;32m<ipython-input-17-ee091ea71d90>\u001b[0m in \u001b[0;36m<module>\u001b[1;34m\u001b[0m\n\u001b[0;32m      9\u001b[0m \u001b[1;33m\u001b[0m\u001b[0m\n\u001b[0;32m     10\u001b[0m \u001b[1;32mfor\u001b[0m \u001b[0mgroup\u001b[0m\u001b[1;33m,\u001b[0m \u001b[0mdf\u001b[0m \u001b[1;32min\u001b[0m \u001b[0mmerge_casos_notifica\u001b[0m\u001b[1;33m.\u001b[0m\u001b[0mgroupby\u001b[0m\u001b[1;33m(\u001b[0m\u001b[1;34m'classificacao_final'\u001b[0m\u001b[1;33m)\u001b[0m\u001b[1;33m:\u001b[0m\u001b[1;33m\u001b[0m\u001b[1;33m\u001b[0m\u001b[0m\n\u001b[1;32m---> 11\u001b[1;33m     \u001b[0mgroup\u001b[0m \u001b[1;33m=\u001b[0m \u001b[0mgroup\u001b[0m\u001b[1;33m[\u001b[0m\u001b[1;33m:\u001b[0m\u001b[1;36m30\u001b[0m\u001b[1;33m]\u001b[0m \u001b[1;32mif\u001b[0m \u001b[0mlen\u001b[0m\u001b[1;33m(\u001b[0m\u001b[0mgroup\u001b[0m\u001b[1;33m)\u001b[0m \u001b[1;33m>\u001b[0m \u001b[1;36m30\u001b[0m \u001b[1;32melse\u001b[0m \u001b[0mgroup\u001b[0m\u001b[1;33m\u001b[0m\u001b[1;33m\u001b[0m\u001b[0m\n\u001b[0m\u001b[0;32m     12\u001b[0m     \u001b[0mdf\u001b[0m\u001b[1;33m.\u001b[0m\u001b[0mto_excel\u001b[0m\u001b[1;33m(\u001b[0m\u001b[0mwriter\u001b[0m\u001b[1;33m,\u001b[0m\u001b[0msheet_name\u001b[0m\u001b[1;33m=\u001b[0m\u001b[0mgroup\u001b[0m\u001b[1;33m,\u001b[0m\u001b[0mindex\u001b[0m\u001b[1;33m=\u001b[0m\u001b[1;32mNone\u001b[0m\u001b[1;33m)\u001b[0m\u001b[1;33m\u001b[0m\u001b[1;33m\u001b[0m\u001b[0m\n\u001b[0;32m     13\u001b[0m     \u001b[0mworksheet\u001b[0m \u001b[1;33m=\u001b[0m \u001b[0mwriter\u001b[0m\u001b[1;33m.\u001b[0m\u001b[0msheets\u001b[0m\u001b[1;33m[\u001b[0m\u001b[0mgroup\u001b[0m\u001b[1;33m]\u001b[0m\u001b[1;33m\u001b[0m\u001b[1;33m\u001b[0m\u001b[0m\n",
      "\u001b[1;31mTypeError\u001b[0m: object of type 'float' has no len()"
     ]
    }
   ],
   "source": [
    "writer = pd.ExcelWriter(join(output,\"merge_casos_notifica_classificacao_final.xlsx\"),\n",
    "                        engine='xlsxwriter',\n",
    "                        datetime_format='dd/mm/yyyy',\n",
    "                        date_format='dd/mm/yyyy')\n",
    "\n",
    "gcf.to_excel(writer,sheet_name='totais')\n",
    "worksheet = writer.sheets[\"totais\"]\n",
    "auto_fit_columns(worksheet,gcf)\n",
    "\n",
    "for group, df in merge_casos_notifica.groupby('classificacao_final'):\n",
    "    group = group[:30] if len(group) > 30 else group\n",
    "    df.to_excel(writer,sheet_name=group,index=None)\n",
    "    worksheet = writer.sheets[group]\n",
    "    auto_fit_columns(worksheet,df)\n",
    "\n",
    "writer.save()\n",
    "writer.close()"
   ]
  },
  {
   "cell_type": "code",
   "execution_count": null,
   "metadata": {},
   "outputs": [],
   "source": [
    "writer = pd.ExcelWriter(join(output,\"merge_casos_notifica_evolucao.xlsx\"),\n",
    "                        engine='xlsxwriter',\n",
    "                        datetime_format='dd/mm/yyyy',\n",
    "                        date_format='dd/mm/yyyy')\n",
    "\n",
    "gce.to_excel(writer,sheet_name='totais')\n",
    "worksheet = writer.sheets[\"totais\"]\n",
    "auto_fit_columns(worksheet,gce)\n",
    "\n",
    "for evolucao, df in merge_casos_notifica.groupby('evolucao'):\n",
    "    df.to_excel(writer,sheet_name=f\"{evolucao}\",index=None)\n",
    "    worksheet = writer.sheets[f\"{evolucao}\"]\n",
    "    auto_fit_columns(worksheet,df)\n",
    "\n",
    "writer.save()\n",
    "writer.close()"
   ]
  },
  {
   "cell_type": "code",
   "execution_count": null,
   "metadata": {},
   "outputs": [],
   "source": [
    "writer = pd.ExcelWriter(join(output,\"merge_casos_notifica_diferencas.xlsx\"),\n",
    "                        engine='xlsxwriter',\n",
    "                        datetime_format='dd/mm/yyyy',\n",
    "                        date_format='dd/mm/yyyy')\n",
    "\n",
    "gdiff.to_excel(writer,sheet_name='totais')\n",
    "worksheet = writer.sheets[\"totais\"]\n",
    "auto_fit_columns(worksheet,gdiff)\n",
    "\n",
    "for diff, df in diferencas.groupby('diff'):\n",
    "    diff = diff[:30] if len(diff) > 30 else diff\n",
    "    df.to_excel(writer,sheet_name=f\"{diff}\",index=None)\n",
    "    worksheet = writer.sheets[f\"{diff}\"]\n",
    "    auto_fit_columns(worksheet,df)\n",
    "\n",
    "writer.save()\n",
    "writer.close()"
   ]
  }
 ]
}