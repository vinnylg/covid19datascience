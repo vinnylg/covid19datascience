{
 "metadata": {
  "language_info": {
   "codemirror_mode": {
    "name": "ipython",
    "version": 3
   },
   "file_extension": ".py",
   "mimetype": "text/x-python",
   "name": "python",
   "nbconvert_exporter": "python",
   "pygments_lexer": "ipython3",
   "version": "3.8.5-final"
  },
  "orig_nbformat": 2,
  "kernelspec": {
   "name": "python3",
   "display_name": "Python 3",
   "language": "python"
  }
 },
 "nbformat": 4,
 "nbformat_minor": 2,
 "cells": [
  {
   "cell_type": "code",
   "execution_count": 1,
   "metadata": {},
   "outputs": [
    {
     "output_type": "stream",
     "name": "stdout",
     "text": [
      "merge_notifica\n"
     ]
    }
   ],
   "source": [
    "print('merge_notifica')\n",
    "from sys import exit\n",
    "import numpy as np\n",
    "import pandas as pd\n",
    "from os.path import dirname, join, isfile, isdir\n",
    "from os import makedirs\n",
    "from datetime import datetime, timedelta, date\n",
    "\n",
    "from bulletin.data.notifica import Notifica\n",
    "from bulletin.data.casos_confirmados import CasosConfirmados\n",
    "from bulletin.commom.utils import Timer, get_better_notifica, auto_fit_columns\n",
    "from bulletin.commom.static import meses\n",
    "from bulletin.metabase.request import download_metabase\n",
    "\n",
    "pd.set_option('display.max_columns', None)\n",
    "\n",
    "output = join(\"output\",\"correcoes\",\"merge_notifica\")\n",
    "\n",
    "if not isdir(output):\n",
    "    makedirs(output)\n",
    "\n",
    "timerAll = Timer()\n",
    "timer = Timer()"
   ]
  },
  {
   "cell_type": "code",
   "execution_count": 2,
   "metadata": {},
   "outputs": [
    {
     "output_type": "stream",
     "name": "stdout",
     "text": [
      "(661109, 11982, 472175, 176952)\n",
      "(2542603, 1156088, 12736, 1344092, 2322)\n"
     ]
    }
   ],
   "source": [
    "cc = CasosConfirmados()\n",
    "cc.load()\n",
    "print(cc.shape())\n",
    "\n",
    "notifica = Notifica()\n",
    "notifica.load()\n",
    "\n",
    "print(notifica.shape())"
   ]
  },
  {
   "cell_type": "code",
   "execution_count": 3,
   "metadata": {},
   "outputs": [
    {
     "output_type": "stream",
     "name": "stdout",
     "text": [
      "(2542603, 41)\n"
     ]
    }
   ],
   "source": [
    "casosc = cc.get_casos()\n",
    "casosn = notifica.get_casos()\n",
    "# casosn = casosn.loc[(casosn['duplicado']==0) | ((casosn['duplicado']==1) & (casosn['manter']==1))]\n",
    "print(casosn.shape)"
   ]
  },
  {
   "cell_type": "code",
   "execution_count": 4,
   "metadata": {},
   "outputs": [
    {
     "output_type": "execute_result",
     "data": {
      "text/plain": [
       "(27948, 25)"
      ]
     },
     "metadata": {},
     "execution_count": 4
    }
   ],
   "source": [
    "idx_casos_confirmados = casosc.loc[casosc['hash_resid'].isin(casosn['hash_resid'])].index.tolist()\n",
    "idx_casos_confirmados += casosc.loc[casosc['hash_atend'].isin(casosn['hash_atend'])].index.tolist()\n",
    "idx_casos_confirmados += casosc.loc[casosc['hash_diag'].isin(casosn['hash_diag'])].index.tolist()\n",
    "\n",
    "idx_casos_confirmados = set(idx_casos_confirmados)\n",
    "casos_confirmados_nao_notifica = casosc.loc[ set(casosc.index.tolist()) - idx_casos_confirmados ].sort_values('ordem')\n",
    "casos_confirmados_nao_notifica.shape"
   ]
  },
  {
   "cell_type": "code",
   "execution_count": 5,
   "metadata": {},
   "outputs": [
    {
     "output_type": "execute_result",
     "data": {
      "text/plain": [
       "(743199, 41)"
      ]
     },
     "metadata": {},
     "execution_count": 5
    }
   ],
   "source": [
    "idx_casos_notifica = casosn.loc[casosn['hash_resid'].isin(casosc['hash_resid'])].index.tolist()\n",
    "idx_casos_notifica += casosn.loc[casosn['hash_atend'].isin(casosc['hash_atend'])].index.tolist()\n",
    "idx_casos_notifica += casosn.loc[casosn['hash_diag'].isin(casosc['hash_diag'])].index.tolist()\n",
    "\n",
    "idx_casos_notifica = set(idx_casos_notifica)\n",
    "casos_confirmados_notifica = casosn.loc[ idx_casos_notifica ].sort_values('id')\n",
    "casos_confirmados_notifica.shape"
   ]
  },
  {
   "cell_type": "code",
   "execution_count": 6,
   "metadata": {},
   "outputs": [
    {
     "output_type": "stream",
     "name": "stdout",
     "text": [
      "casos_hash_resid 609828\n",
      "notifica_hash_resid 721136\n",
      "merge_hash_resid 721136\n",
      "merge_hash_resid 609828\n",
      "\n",
      "casos_hash_atend 577355\n",
      "notifica_hash_atend 663534\n",
      "merge_hash_atend 670342\n",
      "merge_hash_atend 577355\n",
      "\n",
      "casos_hash_diag 554154\n",
      "notifica_hash_diag 557416\n",
      "merge_hash_diag 563991\n",
      "merge_hash_diag 554154\n",
      "\n",
      "idx_casos_confirmados 633161\n",
      "casos_confirmados_nao_notifica 27948\n"
     ]
    },
    {
     "output_type": "execute_result",
     "data": {
      "text/plain": [
       "661109"
      ]
     },
     "metadata": {},
     "execution_count": 6
    }
   ],
   "source": [
    "#merge hash_resid\n",
    "casos_hash_resid = casosc.loc[casosc['hash_resid'].isin(casosn['hash_resid'])]\n",
    "print(f\"casos_hash_resid {len(casos_hash_resid)}\")\n",
    "notifica_hash_resid = casosn.loc[(casosn['hash_resid'].isin(casosc['hash_resid']))]\n",
    "print(f\"notifica_hash_resid {len(notifica_hash_resid)}\")\n",
    "merge_hash_resid = pd.merge(casos_hash_resid,notifica_hash_resid[['hash_resid','id']])\n",
    "print(f\"merge_hash_resid {len(merge_hash_resid)}\")\n",
    "merge_hash_resid = merge_hash_resid.drop_duplicates('ordem')\n",
    "print(f\"merge_hash_resid {len(merge_hash_resid)}\\n\")\n",
    "\n",
    "#merge hash_atend\n",
    "casos_hash_atend = casosc.loc[casosc['hash_atend'].isin(casosn['hash_atend'])]\n",
    "print(f\"casos_hash_atend {len(casos_hash_atend)}\")\n",
    "notifica_hash_atend = casosn.loc[(casosn['hash_atend'].isin(casosc['hash_atend']))]\n",
    "print(f\"notifica_hash_atend {len(notifica_hash_atend)}\")\n",
    "merge_hash_atend = pd.merge(casos_hash_atend,notifica_hash_atend[['hash_atend','id']])\n",
    "print(f\"merge_hash_atend {len(merge_hash_atend)}\")\n",
    "merge_hash_atend = merge_hash_atend.drop_duplicates('ordem')\n",
    "print(f\"merge_hash_atend {len(merge_hash_atend)}\\n\")\n",
    "\n",
    "#merge hash_diag\n",
    "casos_hash_diag = casosc.loc[casosc['hash_diag'].isin(casosn['hash_diag'])]\n",
    "print(f\"casos_hash_diag {len(casos_hash_diag)}\")\n",
    "notifica_hash_diag = casosn.loc[(casosn['hash_diag'].isin(casosc['hash_diag']))]\n",
    "print(f\"notifica_hash_diag {len(notifica_hash_diag)}\")\n",
    "merge_hash_diag = pd.merge(casos_hash_diag,notifica_hash_diag[['hash_diag','id']])\n",
    "print(f\"merge_hash_diag {len(merge_hash_diag)}\")\n",
    "merge_hash_diag = merge_hash_diag.drop_duplicates('ordem')\n",
    "print(f\"merge_hash_diag {len(merge_hash_diag)}\\n\")\n",
    "\n",
    "#trasnforma essa lista de index em um conjunto, para deixar apenas os index unicos\n",
    "idx_casos_confirmados = set(casos_hash_resid.index.tolist() + casos_hash_atend.index.tolist() + casos_hash_diag.index.tolist())\n",
    "print(f\"idx_casos_confirmados {len(idx_casos_confirmados)}\")\n",
    "\n",
    "#realiza a diferença de conjunto para pegar os index dos que não foram encotrados no notifica\n",
    "casos_confirmados_nao_notifica = casosc.loc[ set(casosc.index.tolist()) - idx_casos_confirmados ].sort_values('ordem')\n",
    "print(f\"casos_confirmados_nao_notifica {len(casos_confirmados_nao_notifica)}\") ## aqui o numero total é 27910 casos não encontrados no notifica\n",
    "len(idx_casos_confirmados) + len(casos_confirmados_nao_notifica)"
   ]
  },
  {
   "cell_type": "code",
   "execution_count": 7,
   "metadata": {},
   "outputs": [
    {
     "output_type": "stream",
     "name": "stdout",
     "text": [
      "661109\n"
     ]
    }
   ],
   "source": [
    "merge_casos_notifica = pd.concat([merge_hash_resid,merge_hash_atend,merge_hash_diag,casos_confirmados_nao_notifica]).sort_values('ordem')\n",
    "ordem_duplicados = merge_casos_notifica.loc[merge_casos_notifica.duplicated('ordem', keep=False)]\n",
    "merge_casos_notifica = pd.concat([merge_hash_resid,merge_hash_atend,merge_hash_diag,casos_confirmados_nao_notifica]).drop_duplicates('ordem')\n",
    "\n",
    "print(len(merge_casos_notifica))"
   ]
  },
  {
   "cell_type": "code",
   "execution_count": 8,
   "metadata": {},
   "outputs": [
    {
     "output_type": "execute_result",
     "data": {
      "text/plain": [
       "        id_access       id                      paciente sexo  idade  rs  \\\n",
       "641             1   111834      ABBAS MOHAMAD MESSELMANI    M     41   9   \n",
       "24648           2   287400      ABDIEL DE LIMA GONCALVES    M     44  14   \n",
       "5513            3       -1                 ABDOU INDIAYE    M     31  20   \n",
       "5846            4   176206              ABEDIEL DA SILVA    M     38   3   \n",
       "9420            5   203117             ABEGAIL DOMINGUES    F     59   2   \n",
       "...           ...      ...                           ...  ...    ...  ..   \n",
       "721130     742941  2570007  ZOLEIDE MARIA COLODA ZANELLA    F     59  10   \n",
       "721131     742942  2610886       ZORAIDE CARDOSO GRAVENA    F     62  16   \n",
       "721132     742943  2549118                ZULMIRA MESOMO    F     56   9   \n",
       "721133     742944  2572873    ZULXNEIA LIMA CRESPO ORTIZ    F     39   9   \n",
       "721135     742945   621224     ZUMARA CABREIRA GONCALVES    F     40  18   \n",
       "\n",
       "        ibge_resid              mun_resid data_1o_sintomas  ibge_atend  \\\n",
       "641        4108304          FOZ DO IGUACU       2020-04-11     4108304   \n",
       "24648      4117107          NOVA LONDRINA       2020-06-22     4117107   \n",
       "5513       4127700                 TOLEDO       2020-05-29     4127700   \n",
       "5846       4112009            JAGUARIAIVA              NaT     4112009   \n",
       "9420       4125506   SAO JOSE DOS PINHAIS       2020-06-09     4125506   \n",
       "...            ...                    ...              ...         ...   \n",
       "721130     4104808               CASCAVEL       2021-02-26     4104808   \n",
       "721131     4101507              ARAPONGAS              NaT     4101507   \n",
       "721132     4108304          FOZ DO IGUACU       2021-02-22     4108304   \n",
       "721133     4108304          FOZ DO IGUACU       2021-02-24     4108304   \n",
       "721135     4124707  SAO JERONIMO DA SERRA       2020-08-05     4124707   \n",
       "\n",
       "                    mun_atend                                       exame  \\\n",
       "641             FOZ DO IGUACU                                       LACEN   \n",
       "24648           NOVA LONDRINA                                        IBMP   \n",
       "5513                   TOLEDO                                        IBMP   \n",
       "5846              JAGUARIAIVA                  COVID-19 IGG/IGM ECO TESTE   \n",
       "9420     SAO JOSE DOS PINHAIS                                        IBMP   \n",
       "...                       ...                                         ...   \n",
       "721130               CASCAVEL                 COVID-19 BIOLOGIA MOLECULAR   \n",
       "721131              ARAPONGAS  TESTE RAPIDO ANTIGENO (IMUNOCROMATOGRAFIA)   \n",
       "721132          FOZ DO IGUACU                 COVID-19 BIOLOGIA MOLECULAR   \n",
       "721133          FOZ DO IGUACU                 COVID-19 BIOLOGIA MOLECULAR   \n",
       "721135  SAO JERONIMO DA SERRA                 COVID-19 BIOLOGIA MOLECULAR   \n",
       "\n",
       "       data_diagnostico data_comunicacao  evolucao data_evolucao  \\\n",
       "641          2020-04-17       2020-04-18       1.0           NaT   \n",
       "24648        2020-07-03       2020-07-04       1.0           NaT   \n",
       "5513         2020-06-03       2020-06-04       1.0           NaT   \n",
       "5846         2020-06-05       2020-06-06       1.0           NaT   \n",
       "9420         2020-06-16       2020-06-17       1.0           NaT   \n",
       "...                 ...              ...       ...           ...   \n",
       "721130       2021-02-28       2021-03-03       3.0           NaT   \n",
       "721131       2021-03-02       2021-03-03       3.0           NaT   \n",
       "721132       2021-02-26       2021-03-03       3.0           NaT   \n",
       "721133       2021-03-01       2021-03-03       3.0           NaT   \n",
       "721135       2021-01-16       2021-03-03       3.0           NaT   \n",
       "\n",
       "       data_com_evolucao  \n",
       "641                  NaT  \n",
       "24648                NaT  \n",
       "5513                 NaT  \n",
       "5846                 NaT  \n",
       "9420                 NaT  \n",
       "...                  ...  \n",
       "721130               NaT  \n",
       "721131               NaT  \n",
       "721132               NaT  \n",
       "721133               NaT  \n",
       "721135               NaT  \n",
       "\n",
       "[661109 rows x 17 columns]"
      ],
      "text/html": "<div>\n<style scoped>\n    .dataframe tbody tr th:only-of-type {\n        vertical-align: middle;\n    }\n\n    .dataframe tbody tr th {\n        vertical-align: top;\n    }\n\n    .dataframe thead th {\n        text-align: right;\n    }\n</style>\n<table border=\"1\" class=\"dataframe\">\n  <thead>\n    <tr style=\"text-align: right;\">\n      <th></th>\n      <th>id_access</th>\n      <th>id</th>\n      <th>paciente</th>\n      <th>sexo</th>\n      <th>idade</th>\n      <th>rs</th>\n      <th>ibge_resid</th>\n      <th>mun_resid</th>\n      <th>data_1o_sintomas</th>\n      <th>ibge_atend</th>\n      <th>mun_atend</th>\n      <th>exame</th>\n      <th>data_diagnostico</th>\n      <th>data_comunicacao</th>\n      <th>evolucao</th>\n      <th>data_evolucao</th>\n      <th>data_com_evolucao</th>\n    </tr>\n  </thead>\n  <tbody>\n    <tr>\n      <th>641</th>\n      <td>1</td>\n      <td>111834</td>\n      <td>ABBAS MOHAMAD MESSELMANI</td>\n      <td>M</td>\n      <td>41</td>\n      <td>9</td>\n      <td>4108304</td>\n      <td>FOZ DO IGUACU</td>\n      <td>2020-04-11</td>\n      <td>4108304</td>\n      <td>FOZ DO IGUACU</td>\n      <td>LACEN</td>\n      <td>2020-04-17</td>\n      <td>2020-04-18</td>\n      <td>1.0</td>\n      <td>NaT</td>\n      <td>NaT</td>\n    </tr>\n    <tr>\n      <th>24648</th>\n      <td>2</td>\n      <td>287400</td>\n      <td>ABDIEL DE LIMA GONCALVES</td>\n      <td>M</td>\n      <td>44</td>\n      <td>14</td>\n      <td>4117107</td>\n      <td>NOVA LONDRINA</td>\n      <td>2020-06-22</td>\n      <td>4117107</td>\n      <td>NOVA LONDRINA</td>\n      <td>IBMP</td>\n      <td>2020-07-03</td>\n      <td>2020-07-04</td>\n      <td>1.0</td>\n      <td>NaT</td>\n      <td>NaT</td>\n    </tr>\n    <tr>\n      <th>5513</th>\n      <td>3</td>\n      <td>-1</td>\n      <td>ABDOU INDIAYE</td>\n      <td>M</td>\n      <td>31</td>\n      <td>20</td>\n      <td>4127700</td>\n      <td>TOLEDO</td>\n      <td>2020-05-29</td>\n      <td>4127700</td>\n      <td>TOLEDO</td>\n      <td>IBMP</td>\n      <td>2020-06-03</td>\n      <td>2020-06-04</td>\n      <td>1.0</td>\n      <td>NaT</td>\n      <td>NaT</td>\n    </tr>\n    <tr>\n      <th>5846</th>\n      <td>4</td>\n      <td>176206</td>\n      <td>ABEDIEL DA SILVA</td>\n      <td>M</td>\n      <td>38</td>\n      <td>3</td>\n      <td>4112009</td>\n      <td>JAGUARIAIVA</td>\n      <td>NaT</td>\n      <td>4112009</td>\n      <td>JAGUARIAIVA</td>\n      <td>COVID-19 IGG/IGM ECO TESTE</td>\n      <td>2020-06-05</td>\n      <td>2020-06-06</td>\n      <td>1.0</td>\n      <td>NaT</td>\n      <td>NaT</td>\n    </tr>\n    <tr>\n      <th>9420</th>\n      <td>5</td>\n      <td>203117</td>\n      <td>ABEGAIL DOMINGUES</td>\n      <td>F</td>\n      <td>59</td>\n      <td>2</td>\n      <td>4125506</td>\n      <td>SAO JOSE DOS PINHAIS</td>\n      <td>2020-06-09</td>\n      <td>4125506</td>\n      <td>SAO JOSE DOS PINHAIS</td>\n      <td>IBMP</td>\n      <td>2020-06-16</td>\n      <td>2020-06-17</td>\n      <td>1.0</td>\n      <td>NaT</td>\n      <td>NaT</td>\n    </tr>\n    <tr>\n      <th>...</th>\n      <td>...</td>\n      <td>...</td>\n      <td>...</td>\n      <td>...</td>\n      <td>...</td>\n      <td>...</td>\n      <td>...</td>\n      <td>...</td>\n      <td>...</td>\n      <td>...</td>\n      <td>...</td>\n      <td>...</td>\n      <td>...</td>\n      <td>...</td>\n      <td>...</td>\n      <td>...</td>\n      <td>...</td>\n    </tr>\n    <tr>\n      <th>721130</th>\n      <td>742941</td>\n      <td>2570007</td>\n      <td>ZOLEIDE MARIA COLODA ZANELLA</td>\n      <td>F</td>\n      <td>59</td>\n      <td>10</td>\n      <td>4104808</td>\n      <td>CASCAVEL</td>\n      <td>2021-02-26</td>\n      <td>4104808</td>\n      <td>CASCAVEL</td>\n      <td>COVID-19 BIOLOGIA MOLECULAR</td>\n      <td>2021-02-28</td>\n      <td>2021-03-03</td>\n      <td>3.0</td>\n      <td>NaT</td>\n      <td>NaT</td>\n    </tr>\n    <tr>\n      <th>721131</th>\n      <td>742942</td>\n      <td>2610886</td>\n      <td>ZORAIDE CARDOSO GRAVENA</td>\n      <td>F</td>\n      <td>62</td>\n      <td>16</td>\n      <td>4101507</td>\n      <td>ARAPONGAS</td>\n      <td>NaT</td>\n      <td>4101507</td>\n      <td>ARAPONGAS</td>\n      <td>TESTE RAPIDO ANTIGENO (IMUNOCROMATOGRAFIA)</td>\n      <td>2021-03-02</td>\n      <td>2021-03-03</td>\n      <td>3.0</td>\n      <td>NaT</td>\n      <td>NaT</td>\n    </tr>\n    <tr>\n      <th>721132</th>\n      <td>742943</td>\n      <td>2549118</td>\n      <td>ZULMIRA MESOMO</td>\n      <td>F</td>\n      <td>56</td>\n      <td>9</td>\n      <td>4108304</td>\n      <td>FOZ DO IGUACU</td>\n      <td>2021-02-22</td>\n      <td>4108304</td>\n      <td>FOZ DO IGUACU</td>\n      <td>COVID-19 BIOLOGIA MOLECULAR</td>\n      <td>2021-02-26</td>\n      <td>2021-03-03</td>\n      <td>3.0</td>\n      <td>NaT</td>\n      <td>NaT</td>\n    </tr>\n    <tr>\n      <th>721133</th>\n      <td>742944</td>\n      <td>2572873</td>\n      <td>ZULXNEIA LIMA CRESPO ORTIZ</td>\n      <td>F</td>\n      <td>39</td>\n      <td>9</td>\n      <td>4108304</td>\n      <td>FOZ DO IGUACU</td>\n      <td>2021-02-24</td>\n      <td>4108304</td>\n      <td>FOZ DO IGUACU</td>\n      <td>COVID-19 BIOLOGIA MOLECULAR</td>\n      <td>2021-03-01</td>\n      <td>2021-03-03</td>\n      <td>3.0</td>\n      <td>NaT</td>\n      <td>NaT</td>\n    </tr>\n    <tr>\n      <th>721135</th>\n      <td>742945</td>\n      <td>621224</td>\n      <td>ZUMARA CABREIRA GONCALVES</td>\n      <td>F</td>\n      <td>40</td>\n      <td>18</td>\n      <td>4124707</td>\n      <td>SAO JERONIMO DA SERRA</td>\n      <td>2020-08-05</td>\n      <td>4124707</td>\n      <td>SAO JERONIMO DA SERRA</td>\n      <td>COVID-19 BIOLOGIA MOLECULAR</td>\n      <td>2021-01-16</td>\n      <td>2021-03-03</td>\n      <td>3.0</td>\n      <td>NaT</td>\n      <td>NaT</td>\n    </tr>\n  </tbody>\n</table>\n<p>661109 rows × 17 columns</p>\n</div>"
     },
     "metadata": {},
     "execution_count": 8
    }
   ],
   "source": [
    "casos_merged = merge_casos_notifica.copy()\n",
    "casos_merged['id'] = casos_merged['id'].fillna('-1').astype(int)\n",
    "\n",
    "casos_merged.loc[casos_merged['recuperado']==1,'evolucao'] = 1\n",
    "casos_merged.loc[casos_merged['obito']==1,'evolucao'] = 2\n",
    "casos_merged.loc[casos_merged['ativo']==1,'evolucao'] = 3\n",
    "\n",
    "casos_merged = casos_merged.rename(columns={\n",
    "    'identificacao': 'id_access',\n",
    "    'laboratorio': 'exame',\n",
    "    'data_obito': 'data_evolucao',\n",
    "    'data_com_obito': 'data_com_evolucao'\n",
    "    })\n",
    "\n",
    "casos_merged.loc[(casos_merged['data_com_evolucao'].isnull() & (casos_merged['evolucao']==2)),'data_com_evolucao'] = casos_merged.loc[(casos_merged['data_com_evolucao'].isnull() & (casos_merged['evolucao']==2)),'data_evolucao']\n",
    "\n",
    "casos_merged = casos_merged[['id_access','id','paciente','sexo','idade','rs','ibge_resid','mun_resid','data_1o_sintomas','ibge_atend','mun_atend','exame','data_diagnostico','data_comunicacao','evolucao','data_evolucao','data_com_evolucao']].sort_values('id_access')\n",
    "\n",
    "obitos_merged = casos_merged.loc[casos_merged['evolucao']==2,['id_access','id','paciente','sexo','idade','rs','ibge_resid','mun_resid','data_diagnostico','data_evolucao','data_com_evolucao']].sort_values('data_com_evolucao')\n",
    "\n",
    "print(casos_merged.shape)\n",
    "print(obitos_merged.shape)"
   ]
  },
  {
   "cell_type": "code",
   "execution_count": 10,
   "metadata": {},
   "outputs": [
    {
     "output_type": "error",
     "ename": "KeyboardInterrupt",
     "evalue": "",
     "traceback": [
      "\u001b[1;31m---------------------------------------------------------------------------\u001b[0m",
      "\u001b[1;31mKeyboardInterrupt\u001b[0m                         Traceback (most recent call last)",
      "\u001b[1;32m<ipython-input-10-ddc45f4e5b96>\u001b[0m in \u001b[0;36m<module>\u001b[1;34m\u001b[0m\n\u001b[0;32m      4\u001b[0m                         date_format='dd/mm/yyyy')\n\u001b[0;32m      5\u001b[0m \u001b[1;33m\u001b[0m\u001b[0m\n\u001b[1;32m----> 6\u001b[1;33m \u001b[0mcasos_merged\u001b[0m\u001b[1;33m.\u001b[0m\u001b[0mto_excel\u001b[0m\u001b[1;33m(\u001b[0m\u001b[0mwriter\u001b[0m\u001b[1;33m,\u001b[0m\u001b[0msheet_name\u001b[0m\u001b[1;33m=\u001b[0m\u001b[1;34m'casos_merged'\u001b[0m\u001b[1;33m,\u001b[0m\u001b[0mindex\u001b[0m\u001b[1;33m=\u001b[0m\u001b[1;32mNone\u001b[0m\u001b[1;33m)\u001b[0m\u001b[1;33m\u001b[0m\u001b[1;33m\u001b[0m\u001b[0m\n\u001b[0m\u001b[0;32m      7\u001b[0m \u001b[0mworksheet\u001b[0m \u001b[1;33m=\u001b[0m \u001b[0mwriter\u001b[0m\u001b[1;33m.\u001b[0m\u001b[0msheets\u001b[0m\u001b[1;33m[\u001b[0m\u001b[1;34m'casos_merged'\u001b[0m\u001b[1;33m]\u001b[0m\u001b[1;33m\u001b[0m\u001b[1;33m\u001b[0m\u001b[0m\n\u001b[0;32m      8\u001b[0m \u001b[0mauto_fit_columns\u001b[0m\u001b[1;33m(\u001b[0m\u001b[0mworksheet\u001b[0m\u001b[1;33m,\u001b[0m\u001b[0mcasos_merged\u001b[0m\u001b[1;33m)\u001b[0m\u001b[1;33m\u001b[0m\u001b[1;33m\u001b[0m\u001b[0m\n",
      "\u001b[1;32m~\\anaconda3\\lib\\site-packages\\pandas\\core\\generic.py\u001b[0m in \u001b[0;36mto_excel\u001b[1;34m(self, excel_writer, sheet_name, na_rep, float_format, columns, header, index, index_label, startrow, startcol, engine, merge_cells, encoding, inf_rep, verbose, freeze_panes)\u001b[0m\n\u001b[0;32m   2024\u001b[0m             \u001b[0minf_rep\u001b[0m\u001b[1;33m=\u001b[0m\u001b[0minf_rep\u001b[0m\u001b[1;33m,\u001b[0m\u001b[1;33m\u001b[0m\u001b[1;33m\u001b[0m\u001b[0m\n\u001b[0;32m   2025\u001b[0m         )\n\u001b[1;32m-> 2026\u001b[1;33m         formatter.write(\n\u001b[0m\u001b[0;32m   2027\u001b[0m             \u001b[0mexcel_writer\u001b[0m\u001b[1;33m,\u001b[0m\u001b[1;33m\u001b[0m\u001b[1;33m\u001b[0m\u001b[0m\n\u001b[0;32m   2028\u001b[0m             \u001b[0msheet_name\u001b[0m\u001b[1;33m=\u001b[0m\u001b[0msheet_name\u001b[0m\u001b[1;33m,\u001b[0m\u001b[1;33m\u001b[0m\u001b[1;33m\u001b[0m\u001b[0m\n",
      "\u001b[1;32m~\\anaconda3\\lib\\site-packages\\pandas\\io\\formats\\excel.py\u001b[0m in \u001b[0;36mwrite\u001b[1;34m(self, writer, sheet_name, startrow, startcol, freeze_panes, engine)\u001b[0m\n\u001b[0;32m    732\u001b[0m \u001b[1;33m\u001b[0m\u001b[0m\n\u001b[0;32m    733\u001b[0m         \u001b[0mformatted_cells\u001b[0m \u001b[1;33m=\u001b[0m \u001b[0mself\u001b[0m\u001b[1;33m.\u001b[0m\u001b[0mget_formatted_cells\u001b[0m\u001b[1;33m(\u001b[0m\u001b[1;33m)\u001b[0m\u001b[1;33m\u001b[0m\u001b[1;33m\u001b[0m\u001b[0m\n\u001b[1;32m--> 734\u001b[1;33m         writer.write_cells(\n\u001b[0m\u001b[0;32m    735\u001b[0m             \u001b[0mformatted_cells\u001b[0m\u001b[1;33m,\u001b[0m\u001b[1;33m\u001b[0m\u001b[1;33m\u001b[0m\u001b[0m\n\u001b[0;32m    736\u001b[0m             \u001b[0msheet_name\u001b[0m\u001b[1;33m,\u001b[0m\u001b[1;33m\u001b[0m\u001b[1;33m\u001b[0m\u001b[0m\n",
      "\u001b[1;32m~\\anaconda3\\lib\\site-packages\\pandas\\io\\excel\\_xlsxwriter.py\u001b[0m in \u001b[0;36mwrite_cells\u001b[1;34m(self, cells, sheet_name, startrow, startcol, freeze_panes)\u001b[0m\n\u001b[0;32m    214\u001b[0m \u001b[1;33m\u001b[0m\u001b[0m\n\u001b[0;32m    215\u001b[0m             \u001b[0mstylekey\u001b[0m \u001b[1;33m=\u001b[0m \u001b[0mjson\u001b[0m\u001b[1;33m.\u001b[0m\u001b[0mdumps\u001b[0m\u001b[1;33m(\u001b[0m\u001b[0mcell\u001b[0m\u001b[1;33m.\u001b[0m\u001b[0mstyle\u001b[0m\u001b[1;33m)\u001b[0m\u001b[1;33m\u001b[0m\u001b[1;33m\u001b[0m\u001b[0m\n\u001b[1;32m--> 216\u001b[1;33m             \u001b[1;32mif\u001b[0m \u001b[0mfmt\u001b[0m\u001b[1;33m:\u001b[0m\u001b[1;33m\u001b[0m\u001b[1;33m\u001b[0m\u001b[0m\n\u001b[0m\u001b[0;32m    217\u001b[0m                 \u001b[0mstylekey\u001b[0m \u001b[1;33m+=\u001b[0m \u001b[0mfmt\u001b[0m\u001b[1;33m\u001b[0m\u001b[1;33m\u001b[0m\u001b[0m\n\u001b[0;32m    218\u001b[0m \u001b[1;33m\u001b[0m\u001b[0m\n",
      "\u001b[1;31mKeyboardInterrupt\u001b[0m: "
     ]
    }
   ],
   "source": [
    "writer = pd.ExcelWriter(join(output,\"casos_merged.xlsx\"),\n",
    "                        engine='xlsxwriter',\n",
    "                        datetime_format='dd/mm/yyyy',\n",
    "                        date_format='dd/mm/yyyy')\n",
    "\n",
    "casos_merged.to_excel(writer,sheet_name='casos_merged',index=None)\n",
    "worksheet = writer.sheets['casos_merged']\n",
    "auto_fit_columns(worksheet,casos_merged)\n",
    "\n",
    "obitos_merged.to_excel(writer,sheet_name='obitos_merged',index=None)\n",
    "worksheet = writer.sheets['obitos_merged']\n",
    "auto_fit_columns(worksheet,obitos_merged)\n",
    "\n",
    "writer.save()\n",
    "writer.close()"
   ]
  },
  {
   "cell_type": "code",
   "execution_count": null,
   "metadata": {},
   "outputs": [],
   "source": [
    "merge_casos_notifica = pd.merge(merge_casos_notifica, casosn[['id','uf_residencia','classificacao_final','criterio_classificacao','exame','metodo','cod_evolucao','excluir_ficha','manter','duplicado']], on='id', how='left')\n",
    "\n",
    "merge_casos_notifica.loc[merge_casos_notifica['classificacao_final'].isnull(),'classificacao_final'] = \"SEM NOTIFICACAO\"\n",
    "merge_casos_notifica['caso'] = 1\n",
    "print(len(merge_casos_notifica))"
   ]
  },
  {
   "cell_type": "code",
   "execution_count": null,
   "metadata": {},
   "outputs": [],
   "source": [
    "gcf = merge_casos_notifica.groupby('classificacao_final')[['caso','obito','recuperado','ativo']].sum()\n",
    "gcf = gcf.rename(columns={'caso':'casos','obito':'obitos','recuperado':'recuperados','ativo':'ativos'})\n",
    "gcf = gcf.append(pd.DataFrame(data=[gcf.sum(axis=0)],columns=gcf.columns,index=['Total']))\n",
    "gcf"
   ]
  },
  {
   "cell_type": "code",
   "execution_count": null,
   "metadata": {},
   "outputs": [],
   "source": [
    "gce = merge_casos_notifica.groupby('cod_evolucao')[['caso','obito','recuperado','ativo']].sum()\n",
    "gce = gce.rename(columns={'caso':'casos','obito':'obitos','recuperado':'recuperados','ativo':'ativos'})\n",
    "gce = gce.append(pd.DataFrame(data=[gce.sum(axis=0)],columns=gce.columns,index=['Total']))\n",
    "gce"
   ]
  },
  {
   "cell_type": "code",
   "execution_count": null,
   "metadata": {},
   "outputs": [],
   "source": [
    "merge_casos_notifica = merge_casos_notifica[['ordem', 'identificacao', 'id','uf_residencia','ibge_resid', 'ibge_atend', 'paciente', 'sexo', 'idade', 'mun_resid', 'mun_atend', 'rs', 'classificacao_final', 'laboratorio', 'exame', 'metodo', 'data_diagnostico', 'data_comunicacao', 'data_1o_sintomas','cod_evolucao', 'recuperado', 'caso', 'obito', 'ativo', 'data_obito', 'data_com_obito', 'excluir','excluir_ficha','manter','duplicado']]"
   ]
  },
  {
   "cell_type": "code",
   "execution_count": null,
   "metadata": {},
   "outputs": [],
   "source": [
    "obitos_nao_notifica = merge_casos_notifica.loc[(merge_casos_notifica['obito']==1) & (merge_casos_notifica['cod_evolucao']!=2)].copy()\n",
    "obitos_nao_casos_confirmados = merge_casos_notifica.loc[(merge_casos_notifica['obito']==0) & (merge_casos_notifica['cod_evolucao']==2)].copy()\n",
    "recuperados_nao_notifica = merge_casos_notifica.loc[(merge_casos_notifica['recuperado']==1) & (merge_casos_notifica['cod_evolucao']!=1)].copy()\n",
    "recuperados_nao_casos_confirmados = merge_casos_notifica.loc[(merge_casos_notifica['recuperado']==0) & (merge_casos_notifica['cod_evolucao']==1)].copy()\n",
    "\n",
    "obitos_nao_notifica['diff'] = 'obitos_nao_notifica'\n",
    "obitos_nao_casos_confirmados['diff'] = 'obitos_nao_casos_confirmados'\n",
    "recuperados_nao_notifica['diff'] = 'recuperados_nao_notifica'\n",
    "recuperados_nao_casos_confirmados['diff'] = 'recuperados_nao_casos_confirmados'\n",
    "\n",
    "diferencas = obitos_nao_notifica.append(obitos_nao_casos_confirmados.append(recuperados_nao_notifica.append(recuperados_nao_casos_confirmados)))\n",
    "\n",
    "gdiff = diferencas.groupby('diff')[['id']].count() #'caso','obito','recuperado','ativo'\n",
    "# gdiff = gdiff.rename(columns={'caso':'casos','obito':'obitos','recuperado':'recuperados','ativo':'ativos'})\n",
    "gdiff = gdiff.append(pd.DataFrame(data=[gdiff.sum(axis=0)],columns=gdiff.columns,index=['Total']))\n",
    "gdiff"
   ]
  },
  {
   "cell_type": "code",
   "execution_count": null,
   "metadata": {},
   "outputs": [],
   "source": [
    "casos_comunicados = merge_casos_notifica\n",
    "\n",
    "writer = pd.ExcelWriter(join(output,\"casos_comunicados.xlsx\"),\n",
    "                        engine='xlsxwriter',\n",
    "                        datetime_format='dd/mm/yyyy',\n",
    "                        date_format='dd/mm/yyyy')\n",
    "\n",
    "\n",
    "casos_comunicados.to_excel(writer,sheet_name='casos_comunicados',index=None)\n",
    "worksheet = writer.sheets[\"casos_comunicados\"]\n",
    "auto_fit_columns(worksheet,casos_comunicados)\n",
    "\n",
    "writer.save()\n",
    "writer.close()"
   ]
  },
  {
   "cell_type": "code",
   "execution_count": null,
   "metadata": {},
   "outputs": [],
   "source": [
    "recuperados = merge_casos_notifica.loc[(merge_casos_notifica['cod_evolucao']==1) & (merge_casos_notifica['obito']!=1)].copy()\n",
    "recuperados = pd.merge(recuperados,casosn[['id','data_cura_obito','origem']], how='left', on='id')\n",
    "\n",
    "recuperados['recuperado'] = 'SIM'\n",
    "recuperados['data'] = date.today()\n",
    "recuperados['fonte'] = recuperados['origem']\n",
    "recuperados.loc[recuperados['data_cura_obito'].isnull(),'data_cura_obito'] = date.today()\n",
    "\n",
    "recuperados = recuperados[['ordem','identificacao','id','recuperado','data','fonte','mun_resid','ibge_resid','paciente','sexo','idade','data_cura_obito']]\n",
    "\n",
    "writer = pd.ExcelWriter(join(output,\"recuperados.xlsx\"),\n",
    "                        engine='xlsxwriter',\n",
    "                        datetime_format='dd/mm/yyyy',\n",
    "                        date_format='dd/mm/yyyy')\n",
    "\n",
    "\n",
    "recuperados.to_excel(writer,sheet_name='recuperados',index=None)\n",
    "worksheet = writer.sheets[\"recuperados\"]\n",
    "auto_fit_columns(worksheet,recuperados)\n",
    "\n",
    "writer.save()\n",
    "writer.close()"
   ]
  },
  {
   "cell_type": "code",
   "execution_count": null,
   "metadata": {},
   "outputs": [],
   "source": [
    "writer = pd.ExcelWriter(join(output,\"merge_casos_notifica_classificacao_final.xlsx\"),\n",
    "                        engine='xlsxwriter',\n",
    "                        datetime_format='dd/mm/yyyy',\n",
    "                        date_format='dd/mm/yyyy')\n",
    "\n",
    "gcf.to_excel(writer,sheet_name='totais')\n",
    "worksheet = writer.sheets[\"totais\"]\n",
    "auto_fit_columns(worksheet,gcf)\n",
    "\n",
    "for group, df in merge_casos_notifica.groupby('classificacao_final'):\n",
    "    group = group[:30] if len(group) > 30 else group\n",
    "    df.to_excel(writer,sheet_name=group,index=None)\n",
    "    worksheet = writer.sheets[group]\n",
    "    auto_fit_columns(worksheet,df)\n",
    "\n",
    "writer.save()\n",
    "writer.close()"
   ]
  },
  {
   "cell_type": "code",
   "execution_count": null,
   "metadata": {},
   "outputs": [],
   "source": [
    "writer = pd.ExcelWriter(join(output,\"merge_casos_notifica_evolucao.xlsx\"),\n",
    "                        engine='xlsxwriter',\n",
    "                        datetime_format='dd/mm/yyyy',\n",
    "                        date_format='dd/mm/yyyy')\n",
    "\n",
    "gce.to_excel(writer,sheet_name='totais')\n",
    "worksheet = writer.sheets[\"totais\"]\n",
    "auto_fit_columns(worksheet,gce)\n",
    "\n",
    "for cod_evolucao, df in merge_casos_notifica.groupby('cod_evolucao'):\n",
    "    df.to_excel(writer,sheet_name=f\"{cod_evolucao}\",index=None)\n",
    "    worksheet = writer.sheets[f\"{cod_evolucao}\"]\n",
    "    auto_fit_columns(worksheet,df)\n",
    "\n",
    "writer.save()\n",
    "writer.close()"
   ]
  },
  {
   "cell_type": "code",
   "execution_count": null,
   "metadata": {},
   "outputs": [],
   "source": [
    "writer = pd.ExcelWriter(join(output,\"merge_casos_notifica_diferencas.xlsx\"),\n",
    "                        engine='xlsxwriter',\n",
    "                        datetime_format='dd/mm/yyyy',\n",
    "                        date_format='dd/mm/yyyy')\n",
    "\n",
    "gdiff.to_excel(writer,sheet_name='totais')\n",
    "worksheet = writer.sheets[\"totais\"]\n",
    "auto_fit_columns(worksheet,gdiff)\n",
    "\n",
    "for diff, df in diferencas.groupby('diff'):\n",
    "    diff = diff[:30] if len(diff) > 30 else diff\n",
    "    df.to_excel(writer,sheet_name=f\"{diff}\",index=None)\n",
    "    worksheet = writer.sheets[f\"{diff}\"]\n",
    "    auto_fit_columns(worksheet,df)\n",
    "\n",
    "writer.save()\n",
    "writer.close()"
   ]
  }
 ]
}