{
 "cells": [
  {
   "cell_type": "code",
   "execution_count": null,
   "metadata": {},
   "outputs": [],
   "source": [
    "print('merge_notifica')\n",
    "from sys import exit\n",
    "import numpy as np\n",
    "import pandas as pd\n",
    "from os.path import dirname, join, isfile, isdir\n",
    "from os import makedirs\n",
    "from datetime import datetime, timedelta, date\n",
    "\n",
    "from bulletin.data.notifica import Notifica\n",
    "from bulletin.data.casos_confirmados import CasosConfirmados\n",
    "from bulletin.commom.utils import Timer, get_better_notifica, auto_fit_columns\n",
    "from bulletin.commom.static import meses\n",
    "from bulletin.metabase.request import download_metabase\n",
    "\n",
    "pd.set_option('display.max_columns', None)\n",
    "\n",
    "output = join(\"output\",\"correcoes\",\"merge_notifica\")\n",
    "\n",
    "if not isdir(output):\n",
    "    makedirs(output)\n",
    "\n",
    "timerAll = Timer()\n",
    "timer = Timer()"
   ]
  },
  {
   "cell_type": "code",
   "execution_count": null,
   "metadata": {},
   "outputs": [],
   "source": [
    "cc = CasosConfirmados()\n",
    "cc.load()\n",
    "\n",
    "notifica = Notifica()\n",
    "notifica.load()\n",
    "\n",
    "print(cc.shape())\n",
    "print(notifica.shape())"
   ]
  },
  {
   "cell_type": "code",
   "execution_count": null,
   "metadata": {},
   "outputs": [],
   "source": [
    "casosc = cc.get_casos()\n",
    "casosn = notifica.get_casos()\n",
    "# casosn = casosn.loc[(casosn['duplicado']==0) | ((casosn['duplicado']==1) & (casosn['manter']==1))]\n",
    "print(casosn.shape)"
   ]
  },
  {
   "cell_type": "code",
   "execution_count": null,
   "metadata": {},
   "outputs": [],
   "source": [
    "idx_casos_confirmados = []\n",
    "casos_merged = pd.DataFrame(columns=casosc.columns)\n",
    "for mes_cc, cc, mes_cn, cn in zip(casosc.groupby('data_diagnostico'),casosn.groupby('data_diagnostico')):\n",
    "    idx_casos_confirmados += cc.loc[cc['hash_resid'].isin(cn['hash_resid'])]\n",
    "    idx_casos_confirmados += cc.loc[cc['hash_atend'].isin(cn['hash_atend'])]\n",
    "    idx_casos_confirmados += cc.loc[cc['hash_diag'].isin(cn['hash_diag'])]\n",
    "\n",
    "    casos_merged = casos_merged.append(\n",
    "        pd.merge(cc,cn['id','hash_resid'], how='left')\n",
    "    ).append(\n",
    "        pd.merge(cc.loc[cc['id'].notnull()].drop(columns='id'),cn['id','hash_atend'], how='left')\n",
    "    ).append(\n",
    "        pd.merge(cc.loc[cc['id'].notnull()].drop(columns='id'),cn['id','hash_diag'], how='left')\n",
    "    )\n",
    "    \n",
    "\n",
    "idx_casos_confirmados = set(idx_casos_confirmados)\n",
    "casos_confirmados_nao_notifica = casosc.loc[ set(casosc.index.tolist()) - idx_casos_confirmados ].sort_values('ordem')\n",
    "casos_confirmados_nao_notifica.shape"
   ]
  },
  {
   "cell_type": "code",
   "execution_count": null,
   "metadata": {},
   "outputs": [],
   "source": [
    "casos_merged"
   ]
  }
 ],
 "metadata": {
  "kernelspec": {
   "display_name": "Python 3",
   "language": "python",
   "name": "python3"
  },
  "language_info": {
   "codemirror_mode": {
    "name": "ipython",
    "version": 3
   },
   "file_extension": ".py",
   "mimetype": "text/x-python",
   "name": "python",
   "nbconvert_exporter": "python",
   "pygments_lexer": "ipython3",
   "version": "3.8.5"
  }
 },
 "nbformat": 4,
 "nbformat_minor": 2
}