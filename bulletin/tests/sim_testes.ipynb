{
 "cells": [
  {
   "cell_type": "code",
   "execution_count": 1,
   "metadata": {},
   "outputs": [],
   "source": [
    "from os.path import dirname, join, isdir\n",
    "from datetime import datetime\n",
    "from os import makedirs\n",
    "import pandas as pd\n",
    "import numpy as np\n",
    "from simpledbf import Dbf5\n",
    "from bulletin import __file__ as __root__\n",
    "from bulletin.commom import static\n",
    "\n",
    "pd.set_option('display.max_columns', None)"
   ]
  },
  {
   "cell_type": "code",
   "execution_count": 2,
   "metadata": {},
   "outputs": [],
   "source": [
    "srag = Dbf5(join('input','dbf','DOPR2020.dbf'), codec = 'cp860').to_dataframe()\n",
    "srag2 = Dbf5(join('input','dbf','DOPR2021.dbf'), codec = 'cp860').to_dataframe()"
   ]
  },
  {
   "cell_type": "code",
   "execution_count": 3,
   "metadata": {},
   "outputs": [],
   "source": [
    "srag = srag.append(srag2, ignore_index=True)"
   ]
  },
  {
   "cell_type": "code",
   "execution_count": 4,
   "metadata": {},
   "outputs": [],
   "source": [
    "srag = srag[['NUMERODO', 'NUMERODV', 'DTOBITO', 'NUMSUS', 'NOME', 'NOMEMAE', 'DTNASC',\n",
    "            'IDADE', 'SEXO', 'RACACOR', 'OCUP', 'CODESTRES', 'CODMUNRES', 'BAIRES',\n",
    "            'ENDRES', 'NUMRES', 'CEPRES', 'CODESTOCOR', 'CODMUNOCOR', 'LINHAA', 'LINHAB',\n",
    "            'LINHAC', 'LINHAD', 'LINHAII', 'CAUSABAS']]"
   ]
  },
  {
   "cell_type": "code",
   "execution_count": 5,
   "metadata": {},
   "outputs": [],
   "source": [
    "srag = srag.rename(\n",
    "    columns={\n",
    "        'DTOBITO': 'data_cura_obito',\n",
    "        'NUMSUS': 'cns',\n",
    "        'NOME': 'paciente',\n",
    "        'NOMEMAE': 'nome_mae',\n",
    "        'DTNASC': 'data_nascimento',\n",
    "        'IDADE': 'idade',\n",
    "        'SEXO': 'sexo',\n",
    "        'RACACOR': 'raca_cor',\n",
    "        'OCUP': 'cod_cbo',\n",
    "        'CODESTRES': 'uf_residencia',\n",
    "        'CODMUNRES': 'ibge_residencia',\n",
    "        'BAIRES': 'bairro_residencia',\n",
    "        'ENDRES': 'logradouro_residencia',\n",
    "        'NUMRES': 'numero_residencia',\n",
    "        'CEPRES': 'cep_residencia',\n",
    "        'CODESTOCOR': 'uf_unidade_notifica',\n",
    "        'CODMUNOCOR': 'ibge_unidade_notifica'\n",
    "    })"
   ]
  },
  {
   "cell_type": "code",
   "execution_count": 6,
   "metadata": {},
   "outputs": [],
   "source": [
    "srag.loc[srag['raca_cor'] == '3', 'raca_cor'] = '-1'\n",
    "srag.loc[srag['raca_cor'] == '4', 'raca_cor'] = '3'\n",
    "srag.loc[srag['raca_cor'] == '-1', 'raca_cor'] = '4'\n",
    "srag.loc[srag['raca_cor'].isnull(), 'raca_cor'] = '99'"
   ]
  },
  {
   "cell_type": "code",
   "execution_count": 7,
   "metadata": {},
   "outputs": [],
   "source": [
    "srag[\"data_cura_obito\"] = srag[\"data_cura_obito\"].apply(lambda x: pd.to_datetime(x, format='%d%m%Y'))\n",
    "srag[\"data_nascimento\"] = srag[\"data_nascimento\"].apply(lambda x: pd.to_datetime(x, format='%d%m%Y'))"
   ]
  },
  {
   "cell_type": "code",
   "execution_count": 8,
   "metadata": {},
   "outputs": [],
   "source": [
    "srag['idade'] = pd.to_numeric(srag['idade'], downcast = 'integer')\n",
    "srag['idade'] = srag['idade'].apply(lambda x: np.subtract(x, 400))\n",
    "srag.loc[srag['idade'] < 1, 'idade'] = 0\n",
    "srag.loc[srag['idade'] == 599, 'idade'] = None"
   ]
  },
  {
   "cell_type": "code",
   "execution_count": 9,
   "metadata": {},
   "outputs": [],
   "source": [
    "srag.loc[srag['nome_mae'].isnull(), 'nome_mae'] = ''\n",
    "nao = set(['NAO','CONSTA','INFO','INFORMADO','CONTEM',''])\n",
    "srag.loc[ [True if set(nome_mae.split(\" \")).intersection(nao) else False for nome_mae in srag['nome_mae'] ], 'nome_mae'] = None"
   ]
  },
  {
   "cell_type": "code",
   "execution_count": 10,
   "metadata": {},
   "outputs": [],
   "source": [
    "srag.loc[srag['cns'].isnull(), 'cns'] = '0'\n",
    "srag.loc[srag['cod_cbo'].isnull(), 'cod_cbo'] = '0'\n",
    "srag.loc[srag['numero_residencia'].isnull(), 'numero_residencia'] = '0'\n",
    "srag.loc[srag['cep_residencia'].isnull(), 'cep_residencia'] = '0'"
   ]
  },
  {
   "cell_type": "code",
   "execution_count": 11,
   "metadata": {},
   "outputs": [],
   "source": [
    "srag['id'] = srag['NUMERODO'].str.cat(srag['NUMERODV'])"
   ]
  },
  {
   "cell_type": "code",
   "execution_count": 12,
   "metadata": {},
   "outputs": [],
   "source": [
    "srag['LINHAA'] = srag['LINHAA'].astype('string')\n",
    "srag.loc[srag['LINHAA'].isnull(), 'LINHAA'] = ''\n",
    "srag.loc[srag['LINHAB'].isnull(), 'LINHAB'] = ''\n",
    "srag.loc[srag['LINHAC'].isnull(), 'LINHAC'] = ''\n",
    "srag.loc[srag['LINHAD'].isnull(), 'LINHAD'] = ''\n",
    "srag.loc[srag['LINHAII'].isnull(), 'LINHAII'] = ''\n",
    "srag.loc[srag['CAUSABAS'].isnull(), 'CAUSABAS'] = ''\n",
    "srag.loc[((srag['LINHAB'].apply(lambda x: 'B342' in x)) | (srag['LINHAC'].apply(lambda x: 'B342' in x)) |\n",
    "        (srag['LINHAD'].apply(lambda x: 'B342' in x)) | (srag['LINHAII'].apply(lambda x: 'B342' in x)) |\n",
    "        (srag['CAUSABAS'].apply(lambda x: 'B342' in x))), 'evolucao'] = '2'\n",
    "srag.loc[srag['evolucao'] != '2', 'evolucao'] = '4'"
   ]
  },
  {
   "cell_type": "code",
   "execution_count": 13,
   "metadata": {},
   "outputs": [],
   "source": [
    "srag = srag[['id', 'data_cura_obito', 'cns', 'paciente', 'nome_mae', 'data_nascimento', 'idade', 'sexo',\n",
    "            'raca_cor', 'cod_cbo', 'uf_residencia', 'ibge_residencia', 'bairro_residencia', 'logradouro_residencia',\n",
    "            'cep_residencia', 'uf_unidade_notifica', 'ibge_unidade_notifica', 'evolucao']]"
   ]
  },
  {
   "cell_type": "code",
   "execution_count": 14,
   "metadata": {},
   "outputs": [],
   "source": [
    "srag['sistema'] = 'SIM'"
   ]
  }
 ],
 "metadata": {
  "kernelspec": {
   "display_name": "Python 3",
   "language": "python",
   "name": "python3"
  },
  "language_info": {
   "codemirror_mode": {
    "name": "ipython",
    "version": 3
   },
   "file_extension": ".py",
   "mimetype": "text/x-python",
   "name": "python",
   "nbconvert_exporter": "python",
   "pygments_lexer": "ipython3",
   "version": "3.8.3"
  }
 },
 "nbformat": 4,
 "nbformat_minor": 4
}
